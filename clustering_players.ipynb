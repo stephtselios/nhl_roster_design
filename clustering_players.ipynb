{
 "cells": [
  {
   "cell_type": "code",
   "execution_count": 308,
   "metadata": {
    "collapsed": true
   },
   "outputs": [],
   "source": [
    "import sys\n",
    "import os\n",
    "import pandas as pd\n",
    "import numpy as np\n",
    "import datetime, time\n",
    "import matplotlib.pyplot as plt\n",
    "import matplotlib.cm as cm\n",
    "import statsmodels.api as sm\n",
    "from statsmodels.formula.api import ols\n",
    "from pylab import hist, show\n",
    "import scipy\n",
    "import zipfile\n",
    "from sklearn.cluster import KMeans\n",
    "from sklearn import metrics\n",
    "from sklearn.preprocessing import MinMaxScaler\n",
    "from sklearn.preprocessing import StandardScaler\n",
    "from sklearn.decomposition import PCA\n",
    "from scipy.cluster.hierarchy import linkage, dendrogram\n",
    "from scipy.cluster.hierarchy import cophenet\n",
    "from scipy.spatial.distance import pdist\n",
    "import seaborn as sn\n",
    "from sklearn.metrics import silhouette_samples, silhouette_score\n",
    "\n",
    "\n",
    "sys.setrecursionlimit(100000)\n",
    "pd.set_option('display.max_rows', 50)\n",
    "pd.set_option('display.max_columns', 200)"
   ]
  },
  {
   "cell_type": "code",
   "execution_count": 309,
   "metadata": {
    "collapsed": false
   },
   "outputs": [
    {
     "data": {
      "text/plain": [
       "'/Users/stefanostselios/Desktop/nhl_roster_design-master'"
      ]
     },
     "execution_count": 309,
     "metadata": {},
     "output_type": "execute_result"
    }
   ],
   "source": [
    "pwd"
   ]
  },
  {
   "cell_type": "markdown",
   "metadata": {},
   "source": [
    "### import play by play dataframe"
   ]
  },
  {
   "cell_type": "code",
   "execution_count": 310,
   "metadata": {
    "collapsed": false
   },
   "outputs": [],
   "source": [
    "da = pd.read_csv('/Users/stefanostselios/Brock University/Kevin Mongeon - StephanosShare/out/pbp_merged.csv')\n",
    "#da = pd.read_csv('/Users/kevinmongeon/Brock University/Steve Tselios - StephanosShare/out/pbp_merged.csv')\n",
    "da = da.drop('Unnamed: 0', axis=1)\n",
    "da = da.rename(columns={'TeamCode': 'EventTeamCode'})"
   ]
  },
  {
   "cell_type": "markdown",
   "metadata": {},
   "source": [
    "- keep regular season games and events that happened in regulation and overtime (exclude shootouts). Drop rows that have 'NaN' in event number column and irrelevant data."
   ]
  },
  {
   "cell_type": "code",
   "execution_count": 311,
   "metadata": {
    "collapsed": false
   },
   "outputs": [],
   "source": [
    "da = da[da['GameNumber'] <= 21230]\n",
    "da = da[da['Period'] <= 4]\n",
    "da = da[da['Period'] >= 1]\n",
    "da = da[da['EventType']!='STOP']\n",
    "da = da[da['EventType']!='EISTR']\n",
    "da = da[da['EventType']!='EIEND']\n",
    "da = da[da['EventType'] !='FIGHT']\n",
    "da = da[da['PlayerName'] !='TEAM']\n",
    "da = da[da['EventTeamCode'] != 'Neu']\n",
    "da = da[da['EventTeamCode'] != 'Def']\n",
    "da = da.dropna(subset=['EventNumber'])"
   ]
  },
  {
   "cell_type": "code",
   "execution_count": 312,
   "metadata": {
    "collapsed": false
   },
   "outputs": [
    {
     "data": {
      "text/plain": [
       "(314373, 44)"
      ]
     },
     "execution_count": 312,
     "metadata": {},
     "output_type": "execute_result"
    }
   ],
   "source": [
    "da.shape"
   ]
  },
  {
   "cell_type": "markdown",
   "metadata": {},
   "source": [
    "### player position"
   ]
  },
  {
   "cell_type": "markdown",
   "metadata": {},
   "source": [
    "Play by play data reports each on-ice event along all 12 players that were on the ice during a given event, along with the outcome of that on-ice event. In even strength situations, there are 6 players for the visitor team and 6 for the home team. Positions 1, 2 and 3 are the forward positions, 4 and 5 the defense positions and 6 is the goaltender position. Each position is categorized below. "
   ]
  },
  {
   "cell_type": "code",
   "execution_count": 313,
   "metadata": {
    "collapsed": false
   },
   "outputs": [],
   "source": [
    "dz = da[['Season', 'GameNumber', 'EventNumber', 'Period', 'AdvantageType', 'EventTimeFromZero', 'EventType', 'EventDetail','VPlayer1', 'VPosition1', 'VPlayer2', 'VPosition2', 'VPlayer3', 'VPosition3', 'VPlayer4', 'VPosition4', 'VPlayer5', 'VPosition5', 'VPlayer6', 'VPosition6', 'HPlayer1', 'HPosition1', 'HPlayer2', 'HPosition2', 'HPlayer3', 'HPosition3', 'HPlayer4', 'HPosition4', 'HPlayer5', 'HPosition5', 'HPlayer6', 'HPosition6', 'VTeamCode', 'HTeamCode', 'EventTeamCode', 'PlayerNumber', 'PlayerName', 'Zone']]"
   ]
  },
  {
   "cell_type": "code",
   "execution_count": 314,
   "metadata": {
    "collapsed": true
   },
   "outputs": [],
   "source": [
    "dz = dz[dz['AdvantageType'] == 'EV']"
   ]
  },
  {
   "cell_type": "code",
   "execution_count": 315,
   "metadata": {
    "collapsed": true
   },
   "outputs": [],
   "source": [
    "# visitor team:\n",
    "\n",
    "dz['VPosition1'] = 'C'\n",
    "dz['VPosition2'] = 'RW'\n",
    "dz['VPosition3'] = 'LW'\n",
    "dz['VPosition4'] = 'RD'\n",
    "dz['VPosition5'] = 'LD'\n",
    "dz['VPosition6'] = 'G'\n",
    "\n",
    "# home team:\n",
    "\n",
    "dz['HPosition1'] = 'C'\n",
    "dz['HPosition2'] = 'RW'\n",
    "dz['HPosition3'] = 'LW'\n",
    "dz['HPosition4'] = 'RD'\n",
    "dz['HPosition5'] = 'LD'\n",
    "dz['HPosition6'] = 'G'"
   ]
  },
  {
   "cell_type": "markdown",
   "metadata": {},
   "source": [
    "- fill in NaN values for advantage type with the use of backfill."
   ]
  },
  {
   "cell_type": "code",
   "execution_count": 316,
   "metadata": {
    "collapsed": false
   },
   "outputs": [],
   "source": [
    "dz['AdvantageType'] = dz.groupby(['Season','GameNumber', 'Period'])['AdvantageType'].apply(lambda x: x.bfill())"
   ]
  },
  {
   "cell_type": "markdown",
   "metadata": {},
   "source": [
    "- Once each roster position has been determined, the next step is to reshape the data set form wide to long. Instead of having 2 columns for each roster position (24 total), all players will be listed into 4 columns: 2 columns for the visitor team ** 'VPlayer' & 'VPosition'** and 2 columns for the home team **'HPlayer' & 'HPosition'**"
   ]
  },
  {
   "cell_type": "code",
   "execution_count": 317,
   "metadata": {
    "collapsed": true
   },
   "outputs": [],
   "source": [
    "a = [col for col in dz.columns if 'VPlayer' in col]\n",
    "b = [col for col in dz.columns if 'HPlayer' in col]\n",
    "c = [col for col in dz.columns if 'VPosition' in col]\n",
    "d = [col for col in dz.columns if 'HPosition' in col]\n",
    "dz = pd.lreshape(dz, {'VPlayer' : a, 'HPlayer' : b, 'VPosition' : c, 'HPosition': d})"
   ]
  },
  {
   "cell_type": "markdown",
   "metadata": {},
   "source": [
    "- apply lamda to determine the position of event player based on team code and player number. Group by season, game number, team code, player to backward and forward fill position. Drop observations that have incorrect team code."
   ]
  },
  {
   "cell_type": "code",
   "execution_count": 318,
   "metadata": {
    "collapsed": false
   },
   "outputs": [],
   "source": [
    "dz = dz.sort_values(['Season', 'GameNumber', 'EventNumber'], ascending=[True, True, True])\n",
    "dz['PlayerPosition'] = dz.apply(lambda x: x['HPosition'] if ((x['EventTeamCode'] == x['HTeamCode']) & (x['PlayerNumber'] == x['HPlayer'])) else x['VPosition'] if ((x['EventTeamCode'] == x['VTeamCode']) & (x['PlayerNumber'] == x['VPlayer'])) else np.nan, axis=1)\n",
    "dz['PlayerPosition'] = dz.groupby(['Season', 'GameNumber', 'EventTeamCode', 'PlayerNumber', 'PlayerName'])['PlayerPosition'].apply(lambda x: x.ffill().bfill())"
   ]
  },
  {
   "cell_type": "markdown",
   "metadata": {},
   "source": [
    "- display player position for the season. Group by season, team code, player."
   ]
  },
  {
   "cell_type": "code",
   "execution_count": 319,
   "metadata": {
    "collapsed": true
   },
   "outputs": [],
   "source": [
    "dz['PlayerPosition'] = dz.groupby(['Season', 'EventTeamCode', 'PlayerNumber', 'PlayerName'])['PlayerPosition'].apply(lambda x: x.ffill().bfill())"
   ]
  },
  {
   "cell_type": "code",
   "execution_count": 320,
   "metadata": {
    "collapsed": false
   },
   "outputs": [
    {
     "data": {
      "text/plain": [
       "AdvantageType        0\n",
       "EventDetail          0\n",
       "EventNumber          0\n",
       "EventTeamCode        0\n",
       "EventTimeFromZero    0\n",
       "EventType            0\n",
       "GameNumber           0\n",
       "HTeamCode            0\n",
       "Period               0\n",
       "PlayerName           0\n",
       "PlayerNumber         0\n",
       "Season               0\n",
       "VTeamCode            0\n",
       "Zone                 0\n",
       "VPlayer              0\n",
       "HPlayer              0\n",
       "VPosition            0\n",
       "HPosition            0\n",
       "PlayerPosition       0\n",
       "dtype: int64"
      ]
     },
     "execution_count": 320,
     "metadata": {},
     "output_type": "execute_result"
    }
   ],
   "source": [
    "dz.isnull().sum()"
   ]
  },
  {
   "cell_type": "markdown",
   "metadata": {},
   "source": [
    "- create a new dataset containing season , game number, team code, player name, number and position. Keep one observation per player and position. Count the games a player played in each position. The position with the highest game total (max) is their position for the season."
   ]
  },
  {
   "cell_type": "code",
   "execution_count": 321,
   "metadata": {
    "collapsed": false
   },
   "outputs": [
    {
     "data": {
      "text/html": [
       "<div>\n",
       "<table border=\"1\" class=\"dataframe\">\n",
       "  <thead>\n",
       "    <tr style=\"text-align: right;\">\n",
       "      <th></th>\n",
       "      <th>Season</th>\n",
       "      <th>GameNumber</th>\n",
       "      <th>EventTeamCode</th>\n",
       "      <th>PlayerNumber</th>\n",
       "      <th>PlayerName</th>\n",
       "      <th>Position</th>\n",
       "    </tr>\n",
       "  </thead>\n",
       "  <tbody>\n",
       "    <tr>\n",
       "      <th>0</th>\n",
       "      <td>2010</td>\n",
       "      <td>20001</td>\n",
       "      <td>TOR</td>\n",
       "      <td>37.0</td>\n",
       "      <td>BRENT</td>\n",
       "      <td>C</td>\n",
       "    </tr>\n",
       "    <tr>\n",
       "      <th>1</th>\n",
       "      <td>2010</td>\n",
       "      <td>20001</td>\n",
       "      <td>MTL</td>\n",
       "      <td>14.0</td>\n",
       "      <td>PLEKANEC</td>\n",
       "      <td>C</td>\n",
       "    </tr>\n",
       "    <tr>\n",
       "      <th>2</th>\n",
       "      <td>2010</td>\n",
       "      <td>20001</td>\n",
       "      <td>MTL</td>\n",
       "      <td>76.0</td>\n",
       "      <td>SUBBAN</td>\n",
       "      <td>LD</td>\n",
       "    </tr>\n",
       "    <tr>\n",
       "      <th>3</th>\n",
       "      <td>2010</td>\n",
       "      <td>20001</td>\n",
       "      <td>TOR</td>\n",
       "      <td>35.0</td>\n",
       "      <td>GIGUERE</td>\n",
       "      <td>G</td>\n",
       "    </tr>\n",
       "    <tr>\n",
       "      <th>4</th>\n",
       "      <td>2010</td>\n",
       "      <td>20001</td>\n",
       "      <td>TOR</td>\n",
       "      <td>2.0</td>\n",
       "      <td>SCHENN</td>\n",
       "      <td>RD</td>\n",
       "    </tr>\n",
       "  </tbody>\n",
       "</table>\n",
       "</div>"
      ],
      "text/plain": [
       "   Season  GameNumber EventTeamCode  PlayerNumber PlayerName Position\n",
       "0    2010       20001           TOR          37.0      BRENT        C\n",
       "1    2010       20001           MTL          14.0   PLEKANEC        C\n",
       "2    2010       20001           MTL          76.0     SUBBAN       LD\n",
       "3    2010       20001           TOR          35.0    GIGUERE        G\n",
       "4    2010       20001           TOR           2.0     SCHENN       RD"
      ]
     },
     "execution_count": 321,
     "metadata": {},
     "output_type": "execute_result"
    }
   ],
   "source": [
    "dz2 = dz[['Season', 'GameNumber', 'EventTeamCode', 'PlayerNumber', 'PlayerName', 'PlayerPosition']]\n",
    "dz2 = dz2.drop_duplicates(['Season', 'GameNumber', 'PlayerNumber', 'PlayerName', 'PlayerPosition'])\n",
    "dz2['PositionCount'] = dz2.groupby(['Season', 'GameNumber', 'PlayerNumber', 'PlayerName', 'PlayerPosition'])['PlayerPosition'].transform('count')\n",
    "dz2['PositionTotal'] = dz2.groupby(['Season', 'PlayerNumber', 'PlayerName', 'PlayerPosition'])['PositionCount'].transform('sum')\n",
    "dz2['max'] = dz2.groupby(['Season', 'PlayerNumber', 'PlayerName'])['PositionTotal'].transform('max')\n",
    "dz2['Position']= dz2.apply(lambda x: x['PlayerPosition'] if (x['PositionTotal'] == x['max']) else np.nan, axis=1)\n",
    "dz2['Position'] = dz2.groupby(['Season', 'EventTeamCode', 'PlayerNumber', 'PlayerName'])['Position'].apply(lambda x: x.ffill().bfill())\n",
    "dz2 = dz2[['Season', 'GameNumber', 'EventTeamCode', 'PlayerNumber', 'PlayerName', 'Position']]\n",
    "dz2.head()"
   ]
  },
  {
   "cell_type": "markdown",
   "metadata": {},
   "source": [
    "- 3 players have played 2 positions equally. For that reason, they are assigned their respectful position based on NHL website."
   ]
  },
  {
   "cell_type": "code",
   "execution_count": 322,
   "metadata": {
    "collapsed": false
   },
   "outputs": [],
   "source": [
    "dz2['Position'] = dz2.apply(lambda x: 'RD' if ((x['EventTeamCode'] == 'SJ') & (x['PlayerNumber'] == 22) & (x['PlayerName'] == 'BOYLE')) else 'LW' if ((x['EventTeamCode'] == 'BUF') & (x['PlayerNumber'] == 23) & (x['PlayerName'] == 'STUART')) else 'LW' if ((x['EventTeamCode'] == 'CAR') & (x['PlayerNumber'] == 42) & (x['PlayerName'] == 'SUTTER')) else x['Position'], axis=1)"
   ]
  },
  {
   "cell_type": "code",
   "execution_count": 323,
   "metadata": {
    "collapsed": false
   },
   "outputs": [
    {
     "data": {
      "text/plain": [
       "AdvantageType        0\n",
       "EventDetail          0\n",
       "EventNumber          0\n",
       "EventTeamCode        0\n",
       "EventTimeFromZero    0\n",
       "EventType            0\n",
       "GameNumber           0\n",
       "HTeamCode            0\n",
       "Period               0\n",
       "PlayerName           0\n",
       "PlayerNumber         0\n",
       "Season               0\n",
       "VTeamCode            0\n",
       "Zone                 0\n",
       "VPlayer              0\n",
       "HPlayer              0\n",
       "VPosition            0\n",
       "HPosition            0\n",
       "PlayerPosition       0\n",
       "dtype: int64"
      ]
     },
     "execution_count": 323,
     "metadata": {},
     "output_type": "execute_result"
    }
   ],
   "source": [
    "dz.isnull().sum()"
   ]
  },
  {
   "cell_type": "markdown",
   "metadata": {},
   "source": [
    "### merge player position on play by play dataset"
   ]
  },
  {
   "cell_type": "markdown",
   "metadata": {},
   "source": [
    "merge on season, game number, team code, player number and player name."
   ]
  },
  {
   "cell_type": "code",
   "execution_count": 324,
   "metadata": {
    "collapsed": true
   },
   "outputs": [],
   "source": [
    "da = pd.merge(da, dz2, on=['Season', 'GameNumber', 'EventTeamCode', 'PlayerNumber', 'PlayerName'], how='left')\n",
    "da = da[['Season', 'GameNumber', 'EventNumber', 'Period', 'AdvantageType', 'Zone','EventTimeFromZero', 'EventType', 'EventDetail', 'EventTeamCode', 'PlayerNumber', 'PlayerName', 'Position']]"
   ]
  },
  {
   "cell_type": "markdown",
   "metadata": {},
   "source": [
    "- fill in NaN values for advantage type with the use of backfill."
   ]
  },
  {
   "cell_type": "code",
   "execution_count": 325,
   "metadata": {
    "collapsed": true
   },
   "outputs": [],
   "source": [
    "da['AdvantageType'] = da.groupby(['Season','GameNumber', 'Period'])['AdvantageType'].apply(lambda x: x.bfill())"
   ]
  },
  {
   "cell_type": "markdown",
   "metadata": {},
   "source": [
    "- group by season, team code, player number and name to forward and backfill position for powerplay and penalty kill situations. Fill in nan position for Keith Aucoin."
   ]
  },
  {
   "cell_type": "code",
   "execution_count": 326,
   "metadata": {
    "collapsed": false
   },
   "outputs": [],
   "source": [
    "da['Position'] = da.groupby(['Season', 'EventTeamCode', 'PlayerNumber', 'PlayerName'])['Position'].apply(lambda x: x.ffill().bfill())"
   ]
  },
  {
   "cell_type": "code",
   "execution_count": 327,
   "metadata": {
    "collapsed": true
   },
   "outputs": [],
   "source": [
    "da['Position'] = da.apply(lambda x: 'C' if ((x['EventTeamCode'] == 'WSH') & (x['PlayerNumber'] == 20) & (x['PlayerName'] == 'AUCOIN')) else x['Position'], axis=1)"
   ]
  },
  {
   "cell_type": "code",
   "execution_count": 328,
   "metadata": {
    "collapsed": false
   },
   "outputs": [
    {
     "data": {
      "text/plain": [
       "Season               0\n",
       "GameNumber           0\n",
       "EventNumber          0\n",
       "Period               0\n",
       "AdvantageType        0\n",
       "Zone                 0\n",
       "EventTimeFromZero    0\n",
       "EventType            0\n",
       "EventDetail          0\n",
       "EventTeamCode        0\n",
       "PlayerNumber         0\n",
       "PlayerName           0\n",
       "Position             0\n",
       "dtype: int64"
      ]
     },
     "execution_count": 328,
     "metadata": {},
     "output_type": "execute_result"
    }
   ],
   "source": [
    "da.isnull().sum()"
   ]
  },
  {
   "cell_type": "markdown",
   "metadata": {},
   "source": [
    "- use event detail for goals information to identify the players that assisted on a given goal. Split event detail data into assist player 1 and assist player 2, to display primary and secondary assist. "
   ]
  },
  {
   "cell_type": "code",
   "execution_count": 329,
   "metadata": {
    "collapsed": false
   },
   "outputs": [],
   "source": [
    "#number and name of assist player 1\n",
    "da['Assist'] = da.EventDetail.str.split(':', expand = True)[1]\n",
    "da['Assist1'] = da.Assist.str.split(';', expand = True)[0]\n",
    "da['A1a'] = da.Assist1.str.split('#', expand = True)[1]\n",
    "da['A1b'] = da.A1a.str.split('(', expand = True)[0]\n",
    "da['Assist1PlayerNumber'] = da.A1b.str.split(' ', expand = True)[0]\n",
    "da['Assist1PlayerName'] = da.A1b.str.split('\\\\d+', expand = True)[1]\n",
    "\n",
    "#number and name of assist player 2 \n",
    "da['Assist2'] = da.Assist.str.split(';', expand = True)[1]\n",
    "da['A2a'] = da.Assist2.str.split('#', expand = True)[1]\n",
    "da['A2b'] = da.A2a.str.split('(', expand = True)[0]\n",
    "da['Assist2PlayerNumber'] = da.A2b.str.split(' ', expand = True)[0]\n",
    "da['Assist2PlayerName'] = da.A2b.str.split('\\\\d+', expand = True)[1]"
   ]
  },
  {
   "cell_type": "markdown",
   "metadata": {},
   "source": [
    "- drop irrelevant columns"
   ]
  },
  {
   "cell_type": "code",
   "execution_count": 330,
   "metadata": {
    "collapsed": false
   },
   "outputs": [],
   "source": [
    "da = da[['Season', 'GameNumber', 'EventNumber', 'Period', 'AdvantageType', 'Zone', 'EventTimeFromZero', 'EventType', 'EventDetail', 'EventTeamCode', 'PlayerNumber', 'PlayerName', 'Position', 'Assist1PlayerNumber', 'Assist1PlayerName', 'Assist2PlayerNumber', 'Assist2PlayerName']]"
   ]
  },
  {
   "cell_type": "code",
   "execution_count": 331,
   "metadata": {
    "collapsed": false
   },
   "outputs": [
    {
     "data": {
      "text/plain": [
       "(447943, 17)"
      ]
     },
     "execution_count": 331,
     "metadata": {},
     "output_type": "execute_result"
    }
   ],
   "source": [
    "da.shape"
   ]
  },
  {
   "cell_type": "markdown",
   "metadata": {},
   "source": [
    "- If event type is **not a goal,** in the assist columns display **NaN.** Drop rows that have irrelevant team code."
   ]
  },
  {
   "cell_type": "code",
   "execution_count": 332,
   "metadata": {
    "collapsed": false
   },
   "outputs": [],
   "source": [
    "da['Assist1PlayerNumber'] = da.apply(lambda x: x['Assist1PlayerNumber'] if (x['EventType'] == 'GOAL') else np.nan, axis=1)\n",
    "da['Assist1PlayerName'] = da.apply(lambda x: x['Assist1PlayerName'] if (x['EventType'] == 'GOAL') else np.nan, axis=1)\n",
    "da['Assist2PlayerNumber'] = da.apply(lambda x: x['Assist2PlayerNumber'] if (x['EventType'] == 'GOAL') else np.nan, axis=1)\n",
    "da['Assist2PlayerName'] = da.apply(lambda x: x['Assist2PlayerName'] if (x['EventType'] == 'GOAL') else np.nan, axis=1)"
   ]
  },
  {
   "cell_type": "markdown",
   "metadata": {},
   "source": [
    "### create dataframes for all on-ice event types"
   ]
  },
  {
   "cell_type": "markdown",
   "metadata": {},
   "source": [
    "#### goal dataframe (db)"
   ]
  },
  {
   "cell_type": "code",
   "execution_count": 333,
   "metadata": {
    "collapsed": false
   },
   "outputs": [],
   "source": [
    "db = da\n",
    "db = db.rename(columns={'EventTeamCode': 'TeamCode' })\n",
    "db = db.sort_values(['Season', 'GameNumber', 'Period', 'EventNumber'], ascending=[True, True, True, True])"
   ]
  },
  {
   "cell_type": "markdown",
   "metadata": {},
   "source": [
    "- create a goal variable. If event type is a goal assign a value of 1. If not, assign a value of 0. Display total goals per player for a season."
   ]
  },
  {
   "cell_type": "code",
   "execution_count": 334,
   "metadata": {
    "collapsed": false
   },
   "outputs": [],
   "source": [
    "db['Goal'] = db.apply(lambda x: 1 if (x['EventType'] == 'GOAL') else 0, axis=1)\n",
    "db = db.drop_duplicates(['Season', 'GameNumber', 'EventNumber', 'TeamCode', 'PlayerNumber', 'PlayerName'])\n",
    "db['Goals'] = db.groupby(['Season','TeamCode', 'PlayerNumber', 'PlayerName'])['Goal'].transform('sum')\n",
    "db['Goals'] = db.groupby(['Season','TeamCode', 'PlayerNumber', 'PlayerName'])['Goals'].apply(lambda x: x.ffill().bfill())"
   ]
  },
  {
   "cell_type": "markdown",
   "metadata": {},
   "source": [
    "- keep one observation per player by game and drop duplicates. This purpose of this step is to calculate the quantity of games per player for a season. "
   ]
  },
  {
   "cell_type": "code",
   "execution_count": 335,
   "metadata": {
    "collapsed": false
   },
   "outputs": [],
   "source": [
    "db = db.drop_duplicates(['Season', 'GameNumber', 'TeamCode', 'PlayerNumber', 'PlayerName'])\n",
    "db['GP'] = db.groupby(['Season', 'TeamCode', 'PlayerNumber','PlayerName'])['GameNumber'].transform('count')\n",
    "db = db.drop_duplicates(['Season', 'TeamCode', 'PlayerNumber', 'PlayerName'])"
   ]
  },
  {
   "cell_type": "code",
   "execution_count": 336,
   "metadata": {
    "collapsed": false
   },
   "outputs": [
    {
     "data": {
      "text/html": [
       "<div>\n",
       "<table border=\"1\" class=\"dataframe\">\n",
       "  <thead>\n",
       "    <tr style=\"text-align: right;\">\n",
       "      <th></th>\n",
       "      <th>Season</th>\n",
       "      <th>TeamCode</th>\n",
       "      <th>PlayerNumber</th>\n",
       "      <th>PlayerName</th>\n",
       "      <th>Position</th>\n",
       "      <th>GP</th>\n",
       "      <th>Goals</th>\n",
       "    </tr>\n",
       "  </thead>\n",
       "  <tbody>\n",
       "    <tr>\n",
       "      <th>0</th>\n",
       "      <td>2010</td>\n",
       "      <td>MTL</td>\n",
       "      <td>11.0</td>\n",
       "      <td>GOMEZ</td>\n",
       "      <td>C</td>\n",
       "      <td>80</td>\n",
       "      <td>7</td>\n",
       "    </tr>\n",
       "    <tr>\n",
       "      <th>1</th>\n",
       "      <td>2010</td>\n",
       "      <td>TOR</td>\n",
       "      <td>37.0</td>\n",
       "      <td>BRENT</td>\n",
       "      <td>C</td>\n",
       "      <td>79</td>\n",
       "      <td>8</td>\n",
       "    </tr>\n",
       "    <tr>\n",
       "      <th>2</th>\n",
       "      <td>2010</td>\n",
       "      <td>MTL</td>\n",
       "      <td>14.0</td>\n",
       "      <td>PLEKANEC</td>\n",
       "      <td>C</td>\n",
       "      <td>77</td>\n",
       "      <td>22</td>\n",
       "    </tr>\n",
       "    <tr>\n",
       "      <th>3</th>\n",
       "      <td>2010</td>\n",
       "      <td>MTL</td>\n",
       "      <td>76.0</td>\n",
       "      <td>SUBBAN</td>\n",
       "      <td>LD</td>\n",
       "      <td>77</td>\n",
       "      <td>14</td>\n",
       "    </tr>\n",
       "    <tr>\n",
       "      <th>5</th>\n",
       "      <td>2010</td>\n",
       "      <td>TOR</td>\n",
       "      <td>35.0</td>\n",
       "      <td>GIGUERE</td>\n",
       "      <td>G</td>\n",
       "      <td>17</td>\n",
       "      <td>0</td>\n",
       "    </tr>\n",
       "  </tbody>\n",
       "</table>\n",
       "</div>"
      ],
      "text/plain": [
       "   Season TeamCode  PlayerNumber PlayerName Position  GP  Goals\n",
       "0    2010      MTL          11.0      GOMEZ        C  80      7\n",
       "1    2010      TOR          37.0      BRENT        C  79      8\n",
       "2    2010      MTL          14.0   PLEKANEC        C  77     22\n",
       "3    2010      MTL          76.0     SUBBAN       LD  77     14\n",
       "5    2010      TOR          35.0    GIGUERE        G  17      0"
      ]
     },
     "execution_count": 336,
     "metadata": {},
     "output_type": "execute_result"
    }
   ],
   "source": [
    "db = db.drop_duplicates(['Season', 'TeamCode', 'PlayerNumber', 'PlayerName'])\n",
    "db = db[['Season', 'TeamCode', 'PlayerNumber', 'PlayerName', 'Position', 'GP', 'Goals']]\n",
    "db.head()"
   ]
  },
  {
   "cell_type": "code",
   "execution_count": 337,
   "metadata": {
    "collapsed": false
   },
   "outputs": [
    {
     "data": {
      "text/plain": [
       "Season          0\n",
       "TeamCode        0\n",
       "PlayerNumber    0\n",
       "PlayerName      0\n",
       "Position        0\n",
       "GP              0\n",
       "Goals           0\n",
       "dtype: int64"
      ]
     },
     "execution_count": 337,
     "metadata": {},
     "output_type": "execute_result"
    }
   ],
   "source": [
    "db.isnull().sum()"
   ]
  },
  {
   "cell_type": "code",
   "execution_count": 338,
   "metadata": {
    "collapsed": false
   },
   "outputs": [
    {
     "data": {
      "text/plain": [
       "(1058, 7)"
      ]
     },
     "execution_count": 338,
     "metadata": {},
     "output_type": "execute_result"
    }
   ],
   "source": [
    "db.shape"
   ]
  },
  {
   "cell_type": "markdown",
   "metadata": {},
   "source": [
    "#### assist dataframe (dc)"
   ]
  },
  {
   "cell_type": "markdown",
   "metadata": {},
   "source": [
    "- This dataset contains only event type that were goals."
   ]
  },
  {
   "cell_type": "code",
   "execution_count": 339,
   "metadata": {
    "collapsed": false
   },
   "outputs": [],
   "source": [
    "dc = da[da['EventType'] == 'GOAL']\n",
    "dc = dc.sort_values(['Season', 'GameNumber', 'Period', 'EventNumber'], ascending=[True, True, True, True])\n",
    "dc = dc.rename(columns={'Assist1PlayerNumber': 'AssistPlayerNumber1', 'Assist1PlayerName': 'AssistPlayerName1', 'Assist2PlayerNumber': 'AssistPlayerNumber2', 'Assist2PlayerName': 'AssistPlayerName2', 'EventTeamCode': 'TeamCode' })\n",
    "dc = dc.sort_values(['Season', 'GameNumber', 'Period', 'EventNumber'], ascending=[True, True, True, True])"
   ]
  },
  {
   "cell_type": "markdown",
   "metadata": {},
   "source": [
    "- reshape data from wide to long based on assist variables to display both primary and secondary assists in one column."
   ]
  },
  {
   "cell_type": "code",
   "execution_count": 340,
   "metadata": {
    "collapsed": true
   },
   "outputs": [],
   "source": [
    "a = [col for col in dc.columns if 'AssistPlayerNumber' in col]\n",
    "b = [col for col in dc.columns if 'AssistPlayerName' in col]\n",
    "dc = pd.lreshape(dc, {'AssistPlayerNumber' : a, 'AssistPlayerName' : b})\n",
    "dc = dc.sort_values(['Season', 'GameNumber', 'Period', 'EventNumber'], ascending=[True, True, True, True])"
   ]
  },
  {
   "cell_type": "markdown",
   "metadata": {},
   "source": [
    "- create assist variables. Assign a value of 1 if an event was a goal; 0 otherwise. Calculate the total assists each player resgistered for a season."
   ]
  },
  {
   "cell_type": "code",
   "execution_count": 341,
   "metadata": {
    "collapsed": true
   },
   "outputs": [],
   "source": [
    "dc['Assist'] = dc.apply(lambda x: 1 if (x['EventType'] == 'GOAL') else 0, axis=1)\n",
    "dc = dc.drop_duplicates(['Season', 'GameNumber', 'EventNumber', 'TeamCode', 'AssistPlayerNumber', 'AssistPlayerName'])\n",
    "dc['Assists'] = dc.groupby(['Season', 'TeamCode', 'AssistPlayerNumber', 'AssistPlayerName'])['Assist'].transform('sum')"
   ]
  },
  {
   "cell_type": "markdown",
   "metadata": {},
   "source": [
    "- keep one observation per player for the season and drop duplicates."
   ]
  },
  {
   "cell_type": "code",
   "execution_count": 342,
   "metadata": {
    "collapsed": false
   },
   "outputs": [
    {
     "data": {
      "text/html": [
       "<div>\n",
       "<table border=\"1\" class=\"dataframe\">\n",
       "  <thead>\n",
       "    <tr style=\"text-align: right;\">\n",
       "      <th></th>\n",
       "      <th>Season</th>\n",
       "      <th>TeamCode</th>\n",
       "      <th>PlayerNumber</th>\n",
       "      <th>Assists</th>\n",
       "    </tr>\n",
       "  </thead>\n",
       "  <tbody>\n",
       "    <tr>\n",
       "      <th>0</th>\n",
       "      <td>2010</td>\n",
       "      <td>TOR</td>\n",
       "      <td>3.0</td>\n",
       "      <td>22</td>\n",
       "    </tr>\n",
       "    <tr>\n",
       "      <th>1</th>\n",
       "      <td>2010</td>\n",
       "      <td>TOR</td>\n",
       "      <td>42.0</td>\n",
       "      <td>17</td>\n",
       "    </tr>\n",
       "    <tr>\n",
       "      <th>8961</th>\n",
       "      <td>2010</td>\n",
       "      <td>TOR</td>\n",
       "      <td>8.0</td>\n",
       "      <td>9</td>\n",
       "    </tr>\n",
       "    <tr>\n",
       "      <th>2</th>\n",
       "      <td>2010</td>\n",
       "      <td>TOR</td>\n",
       "      <td>41.0</td>\n",
       "      <td>27</td>\n",
       "    </tr>\n",
       "    <tr>\n",
       "      <th>8962</th>\n",
       "      <td>2010</td>\n",
       "      <td>TOR</td>\n",
       "      <td>84.0</td>\n",
       "      <td>29</td>\n",
       "    </tr>\n",
       "  </tbody>\n",
       "</table>\n",
       "</div>"
      ],
      "text/plain": [
       "      Season TeamCode  PlayerNumber  Assists\n",
       "0       2010      TOR           3.0       22\n",
       "1       2010      TOR          42.0       17\n",
       "8961    2010      TOR           8.0        9\n",
       "2       2010      TOR          41.0       27\n",
       "8962    2010      TOR          84.0       29"
      ]
     },
     "execution_count": 342,
     "metadata": {},
     "output_type": "execute_result"
    }
   ],
   "source": [
    "dc = dc[['Season', 'GameNumber', 'TeamCode', 'AssistPlayerNumber', 'AssistPlayerName', 'Assist', 'Assists']]\n",
    "dc = dc.rename(columns={'AssistPlayerNumber': 'PlayerNumber', 'AssistPlayerName': 'PlayerName' })\n",
    "dc = dc[['Season', 'TeamCode', 'PlayerNumber', 'Assists']]\n",
    "dc = dc.drop_duplicates(['Season', 'TeamCode', 'PlayerNumber'])\n",
    "dc['PlayerNumber'] = dc['PlayerNumber'].astype(np.float64)\n",
    "dc['Assists'] = dc['Assists'].astype(np.int64)\n",
    "dc.head()"
   ]
  },
  {
   "cell_type": "code",
   "execution_count": 343,
   "metadata": {
    "collapsed": false
   },
   "outputs": [
    {
     "data": {
      "text/plain": [
       "(837, 4)"
      ]
     },
     "execution_count": 343,
     "metadata": {},
     "output_type": "execute_result"
    }
   ],
   "source": [
    "dc.shape"
   ]
  },
  {
   "cell_type": "markdown",
   "metadata": {},
   "source": [
    "#### shot dataframe (ds)"
   ]
  },
  {
   "cell_type": "code",
   "execution_count": 344,
   "metadata": {
    "collapsed": true
   },
   "outputs": [],
   "source": [
    "ds = da\n",
    "ds = ds.rename(columns={'EventTeamCode': 'TeamCode' })\n",
    "ds = ds.sort_values(['Season', 'GameNumber', 'Period', 'EventNumber'], ascending=[True, True, True, True])"
   ]
  },
  {
   "cell_type": "code",
   "execution_count": 345,
   "metadata": {
    "collapsed": false
   },
   "outputs": [
    {
     "data": {
      "text/plain": [
       "Index(['Season', 'GameNumber', 'EventNumber', 'Period', 'AdvantageType',\n",
       "       'Zone', 'EventTimeFromZero', 'EventType', 'EventDetail', 'TeamCode',\n",
       "       'PlayerNumber', 'PlayerName', 'Position', 'Assist1PlayerNumber',\n",
       "       'Assist1PlayerName', 'Assist2PlayerNumber', 'Assist2PlayerName'],\n",
       "      dtype='object')"
      ]
     },
     "execution_count": 345,
     "metadata": {},
     "output_type": "execute_result"
    }
   ],
   "source": [
    "ds.columns"
   ]
  },
  {
   "cell_type": "markdown",
   "metadata": {},
   "source": [
    "- create a shot variable. If event type is a shot assign a value of 1. If not, assign a value of 0. **Goals are a result of a shot and therefore need to be added to a player's shot total**. Display total shots per player for a season."
   ]
  },
  {
   "cell_type": "code",
   "execution_count": 346,
   "metadata": {
    "collapsed": false
   },
   "outputs": [],
   "source": [
    "ds['Shot'] = ds.apply(lambda x: 1 if (x['EventType'] == 'SHOT') else 1 if (x['EventType'] == 'GOAL') else 0, axis=1)\n",
    "ds = ds.drop_duplicates(['Season', 'GameNumber', 'EventNumber', 'TeamCode', 'PlayerNumber', 'PlayerName'])\n",
    "ds['Shots'] = ds.groupby(['Season','TeamCode', 'PlayerNumber', 'PlayerName'])['Shot'].transform('sum')\n",
    "ds['Shots'] = ds.groupby(['Season','TeamCode', 'PlayerNumber', 'PlayerName'])['Shots'].apply(lambda x: x.ffill().bfill())"
   ]
  },
  {
   "cell_type": "markdown",
   "metadata": {},
   "source": [
    "- drop duplicates to keep one observation per player for the season.\n"
   ]
  },
  {
   "cell_type": "code",
   "execution_count": 347,
   "metadata": {
    "collapsed": false
   },
   "outputs": [
    {
     "data": {
      "text/html": [
       "<div>\n",
       "<table border=\"1\" class=\"dataframe\">\n",
       "  <thead>\n",
       "    <tr style=\"text-align: right;\">\n",
       "      <th></th>\n",
       "      <th>Season</th>\n",
       "      <th>TeamCode</th>\n",
       "      <th>PlayerNumber</th>\n",
       "      <th>PlayerName</th>\n",
       "      <th>Shots</th>\n",
       "    </tr>\n",
       "  </thead>\n",
       "  <tbody>\n",
       "    <tr>\n",
       "      <th>0</th>\n",
       "      <td>2010</td>\n",
       "      <td>MTL</td>\n",
       "      <td>11.0</td>\n",
       "      <td>GOMEZ</td>\n",
       "      <td>156</td>\n",
       "    </tr>\n",
       "    <tr>\n",
       "      <th>1</th>\n",
       "      <td>2010</td>\n",
       "      <td>TOR</td>\n",
       "      <td>37.0</td>\n",
       "      <td>BRENT</td>\n",
       "      <td>60</td>\n",
       "    </tr>\n",
       "    <tr>\n",
       "      <th>2</th>\n",
       "      <td>2010</td>\n",
       "      <td>MTL</td>\n",
       "      <td>14.0</td>\n",
       "      <td>PLEKANEC</td>\n",
       "      <td>227</td>\n",
       "    </tr>\n",
       "    <tr>\n",
       "      <th>3</th>\n",
       "      <td>2010</td>\n",
       "      <td>MTL</td>\n",
       "      <td>76.0</td>\n",
       "      <td>SUBBAN</td>\n",
       "      <td>197</td>\n",
       "    </tr>\n",
       "    <tr>\n",
       "      <th>5</th>\n",
       "      <td>2010</td>\n",
       "      <td>TOR</td>\n",
       "      <td>35.0</td>\n",
       "      <td>GIGUERE</td>\n",
       "      <td>0</td>\n",
       "    </tr>\n",
       "  </tbody>\n",
       "</table>\n",
       "</div>"
      ],
      "text/plain": [
       "   Season TeamCode  PlayerNumber PlayerName  Shots\n",
       "0    2010      MTL          11.0      GOMEZ    156\n",
       "1    2010      TOR          37.0      BRENT     60\n",
       "2    2010      MTL          14.0   PLEKANEC    227\n",
       "3    2010      MTL          76.0     SUBBAN    197\n",
       "5    2010      TOR          35.0    GIGUERE      0"
      ]
     },
     "execution_count": 347,
     "metadata": {},
     "output_type": "execute_result"
    }
   ],
   "source": [
    "ds = ds.drop_duplicates(['Season', 'TeamCode', 'PlayerNumber', 'PlayerName'])\n",
    "ds = ds[['Season', 'TeamCode', 'PlayerNumber', 'PlayerName', 'Shots']]\n",
    "ds.head()"
   ]
  },
  {
   "cell_type": "markdown",
   "metadata": {},
   "source": [
    "#### block dataframe (dl)"
   ]
  },
  {
   "cell_type": "code",
   "execution_count": 348,
   "metadata": {
    "collapsed": true
   },
   "outputs": [],
   "source": [
    "dl = da\n",
    "dl = dl.rename(columns={'EventTeamCode': 'TeamCode' })\n",
    "dl = dl.sort_values(['Season', 'GameNumber', 'Period', 'EventNumber'], ascending=[True, True, True, True])"
   ]
  },
  {
   "cell_type": "markdown",
   "metadata": {},
   "source": [
    "- create a block variable. If event type is a block assign a value of 1. If not, assign a value of 0. Display total blocks per player for a season."
   ]
  },
  {
   "cell_type": "code",
   "execution_count": 349,
   "metadata": {
    "collapsed": true
   },
   "outputs": [],
   "source": [
    "dl['Block'] = dl.apply(lambda x: 1 if (x['EventType'] == 'BLOCK') else 0, axis=1)\n",
    "dl = dl.drop_duplicates(['Season', 'GameNumber', 'EventNumber', 'TeamCode', 'PlayerNumber', 'PlayerName'])\n",
    "dl['Blocks'] = dl.groupby(['Season','TeamCode', 'PlayerNumber', 'PlayerName'])['Block'].transform('sum')\n",
    "dl['Blocks'] = dl.groupby(['Season','TeamCode', 'PlayerNumber', 'PlayerName'])['Blocks'].apply(lambda x: x.ffill().bfill())"
   ]
  },
  {
   "cell_type": "markdown",
   "metadata": {},
   "source": [
    "- drop duplicates to keep one observation per player for the season."
   ]
  },
  {
   "cell_type": "code",
   "execution_count": 350,
   "metadata": {
    "collapsed": false
   },
   "outputs": [
    {
     "data": {
      "text/html": [
       "<div>\n",
       "<table border=\"1\" class=\"dataframe\">\n",
       "  <thead>\n",
       "    <tr style=\"text-align: right;\">\n",
       "      <th></th>\n",
       "      <th>Season</th>\n",
       "      <th>TeamCode</th>\n",
       "      <th>PlayerNumber</th>\n",
       "      <th>PlayerName</th>\n",
       "      <th>Blocks</th>\n",
       "    </tr>\n",
       "  </thead>\n",
       "  <tbody>\n",
       "    <tr>\n",
       "      <th>0</th>\n",
       "      <td>2010</td>\n",
       "      <td>MTL</td>\n",
       "      <td>11.0</td>\n",
       "      <td>GOMEZ</td>\n",
       "      <td>24</td>\n",
       "    </tr>\n",
       "    <tr>\n",
       "      <th>1</th>\n",
       "      <td>2010</td>\n",
       "      <td>TOR</td>\n",
       "      <td>37.0</td>\n",
       "      <td>BRENT</td>\n",
       "      <td>58</td>\n",
       "    </tr>\n",
       "    <tr>\n",
       "      <th>2</th>\n",
       "      <td>2010</td>\n",
       "      <td>MTL</td>\n",
       "      <td>14.0</td>\n",
       "      <td>PLEKANEC</td>\n",
       "      <td>45</td>\n",
       "    </tr>\n",
       "    <tr>\n",
       "      <th>3</th>\n",
       "      <td>2010</td>\n",
       "      <td>MTL</td>\n",
       "      <td>76.0</td>\n",
       "      <td>SUBBAN</td>\n",
       "      <td>106</td>\n",
       "    </tr>\n",
       "    <tr>\n",
       "      <th>5</th>\n",
       "      <td>2010</td>\n",
       "      <td>TOR</td>\n",
       "      <td>35.0</td>\n",
       "      <td>GIGUERE</td>\n",
       "      <td>0</td>\n",
       "    </tr>\n",
       "  </tbody>\n",
       "</table>\n",
       "</div>"
      ],
      "text/plain": [
       "   Season TeamCode  PlayerNumber PlayerName  Blocks\n",
       "0    2010      MTL          11.0      GOMEZ      24\n",
       "1    2010      TOR          37.0      BRENT      58\n",
       "2    2010      MTL          14.0   PLEKANEC      45\n",
       "3    2010      MTL          76.0     SUBBAN     106\n",
       "5    2010      TOR          35.0    GIGUERE       0"
      ]
     },
     "execution_count": 350,
     "metadata": {},
     "output_type": "execute_result"
    }
   ],
   "source": [
    "dl = dl.drop_duplicates(['Season', 'TeamCode', 'PlayerNumber', 'PlayerName'])\n",
    "dl = dl[['Season', 'TeamCode', 'PlayerNumber', 'PlayerName', 'Blocks']]\n",
    "dl.head()"
   ]
  },
  {
   "cell_type": "markdown",
   "metadata": {},
   "source": [
    "#### miss dataframe (dm)"
   ]
  },
  {
   "cell_type": "code",
   "execution_count": 351,
   "metadata": {
    "collapsed": true
   },
   "outputs": [],
   "source": [
    "dm = da\n",
    "dm = dm.rename(columns={'EventTeamCode': 'TeamCode' })\n",
    "dm = dm.sort_values(['Season', 'GameNumber', 'Period', 'EventNumber'], ascending=[True, True, True, True])"
   ]
  },
  {
   "cell_type": "markdown",
   "metadata": {},
   "source": [
    "- create a miss variable. If event type is a miss assign a value of 1. If not, assign a value of 0. Display total misses per player for a season."
   ]
  },
  {
   "cell_type": "code",
   "execution_count": 352,
   "metadata": {
    "collapsed": true
   },
   "outputs": [],
   "source": [
    "dm['Miss'] = dm.apply(lambda x: 1 if (x['EventType'] == 'MISS') else 0, axis=1)\n",
    "dm = dm.drop_duplicates(['Season', 'GameNumber', 'EventNumber', 'TeamCode', 'PlayerNumber', 'PlayerName'])\n",
    "dm['Misses'] = dm.groupby(['Season','TeamCode', 'PlayerNumber', 'PlayerName'])['Miss'].transform('sum')\n",
    "dm['Misses'] = dm.groupby(['Season','TeamCode', 'PlayerNumber', 'PlayerName'])['Misses'].apply(lambda x: x.ffill().bfill())"
   ]
  },
  {
   "cell_type": "markdown",
   "metadata": {},
   "source": [
    "- drop duplicates to keep one observation per player for the season."
   ]
  },
  {
   "cell_type": "code",
   "execution_count": 353,
   "metadata": {
    "collapsed": false
   },
   "outputs": [
    {
     "data": {
      "text/html": [
       "<div>\n",
       "<table border=\"1\" class=\"dataframe\">\n",
       "  <thead>\n",
       "    <tr style=\"text-align: right;\">\n",
       "      <th></th>\n",
       "      <th>Season</th>\n",
       "      <th>TeamCode</th>\n",
       "      <th>PlayerNumber</th>\n",
       "      <th>PlayerName</th>\n",
       "      <th>Misses</th>\n",
       "    </tr>\n",
       "  </thead>\n",
       "  <tbody>\n",
       "    <tr>\n",
       "      <th>0</th>\n",
       "      <td>2010</td>\n",
       "      <td>MTL</td>\n",
       "      <td>11.0</td>\n",
       "      <td>GOMEZ</td>\n",
       "      <td>57</td>\n",
       "    </tr>\n",
       "    <tr>\n",
       "      <th>1</th>\n",
       "      <td>2010</td>\n",
       "      <td>TOR</td>\n",
       "      <td>37.0</td>\n",
       "      <td>BRENT</td>\n",
       "      <td>28</td>\n",
       "    </tr>\n",
       "    <tr>\n",
       "      <th>2</th>\n",
       "      <td>2010</td>\n",
       "      <td>MTL</td>\n",
       "      <td>14.0</td>\n",
       "      <td>PLEKANEC</td>\n",
       "      <td>79</td>\n",
       "    </tr>\n",
       "    <tr>\n",
       "      <th>3</th>\n",
       "      <td>2010</td>\n",
       "      <td>MTL</td>\n",
       "      <td>76.0</td>\n",
       "      <td>SUBBAN</td>\n",
       "      <td>78</td>\n",
       "    </tr>\n",
       "    <tr>\n",
       "      <th>5</th>\n",
       "      <td>2010</td>\n",
       "      <td>TOR</td>\n",
       "      <td>35.0</td>\n",
       "      <td>GIGUERE</td>\n",
       "      <td>0</td>\n",
       "    </tr>\n",
       "  </tbody>\n",
       "</table>\n",
       "</div>"
      ],
      "text/plain": [
       "   Season TeamCode  PlayerNumber PlayerName  Misses\n",
       "0    2010      MTL          11.0      GOMEZ      57\n",
       "1    2010      TOR          37.0      BRENT      28\n",
       "2    2010      MTL          14.0   PLEKANEC      79\n",
       "3    2010      MTL          76.0     SUBBAN      78\n",
       "5    2010      TOR          35.0    GIGUERE       0"
      ]
     },
     "execution_count": 353,
     "metadata": {},
     "output_type": "execute_result"
    }
   ],
   "source": [
    "dm = dm.drop_duplicates(['Season', 'TeamCode', 'PlayerNumber', 'PlayerName'])\n",
    "dm = dm[['Season', 'TeamCode', 'PlayerNumber', 'PlayerName', 'Misses']]\n",
    "dm.head()"
   ]
  },
  {
   "cell_type": "markdown",
   "metadata": {},
   "source": [
    "####  hit dataframe (dh)"
   ]
  },
  {
   "cell_type": "code",
   "execution_count": 354,
   "metadata": {
    "collapsed": true
   },
   "outputs": [],
   "source": [
    "dh = da\n",
    "dh = dh.rename(columns={'EventTeamCode': 'TeamCode' })\n",
    "dh = dh.sort_values(['Season', 'GameNumber', 'Period', 'EventNumber'], ascending=[True, True, True, True])"
   ]
  },
  {
   "cell_type": "markdown",
   "metadata": {},
   "source": [
    "- create a hit variable. If event type is a hit assign a value of 1. If not, assign a value of 0. Display total hits per player for a season."
   ]
  },
  {
   "cell_type": "code",
   "execution_count": 355,
   "metadata": {
    "collapsed": true
   },
   "outputs": [],
   "source": [
    "dh['Hit'] = dh.apply(lambda x: 1 if (x['EventType'] == 'HIT') else 0, axis=1)\n",
    "dh = dh.drop_duplicates(['Season', 'GameNumber', 'EventNumber', 'TeamCode', 'PlayerNumber', 'PlayerName'])\n",
    "dh['Hits'] = dh.groupby(['Season','TeamCode', 'PlayerNumber', 'PlayerName'])['Hit'].transform('sum')\n",
    "dh['Hits'] = dh.groupby(['Season','TeamCode', 'PlayerNumber', 'PlayerName'])['Hits'].apply(lambda x: x.ffill().bfill())"
   ]
  },
  {
   "cell_type": "markdown",
   "metadata": {},
   "source": [
    "- drop duplicates to keep one observation per player for the season."
   ]
  },
  {
   "cell_type": "code",
   "execution_count": 356,
   "metadata": {
    "collapsed": false
   },
   "outputs": [
    {
     "data": {
      "text/html": [
       "<div>\n",
       "<table border=\"1\" class=\"dataframe\">\n",
       "  <thead>\n",
       "    <tr style=\"text-align: right;\">\n",
       "      <th></th>\n",
       "      <th>Season</th>\n",
       "      <th>TeamCode</th>\n",
       "      <th>PlayerNumber</th>\n",
       "      <th>PlayerName</th>\n",
       "      <th>Hits</th>\n",
       "    </tr>\n",
       "  </thead>\n",
       "  <tbody>\n",
       "    <tr>\n",
       "      <th>0</th>\n",
       "      <td>2010</td>\n",
       "      <td>MTL</td>\n",
       "      <td>11.0</td>\n",
       "      <td>GOMEZ</td>\n",
       "      <td>32</td>\n",
       "    </tr>\n",
       "    <tr>\n",
       "      <th>1</th>\n",
       "      <td>2010</td>\n",
       "      <td>TOR</td>\n",
       "      <td>37.0</td>\n",
       "      <td>BRENT</td>\n",
       "      <td>104</td>\n",
       "    </tr>\n",
       "    <tr>\n",
       "      <th>2</th>\n",
       "      <td>2010</td>\n",
       "      <td>MTL</td>\n",
       "      <td>14.0</td>\n",
       "      <td>PLEKANEC</td>\n",
       "      <td>53</td>\n",
       "    </tr>\n",
       "    <tr>\n",
       "      <th>3</th>\n",
       "      <td>2010</td>\n",
       "      <td>MTL</td>\n",
       "      <td>76.0</td>\n",
       "      <td>SUBBAN</td>\n",
       "      <td>110</td>\n",
       "    </tr>\n",
       "    <tr>\n",
       "      <th>5</th>\n",
       "      <td>2010</td>\n",
       "      <td>TOR</td>\n",
       "      <td>35.0</td>\n",
       "      <td>GIGUERE</td>\n",
       "      <td>0</td>\n",
       "    </tr>\n",
       "  </tbody>\n",
       "</table>\n",
       "</div>"
      ],
      "text/plain": [
       "   Season TeamCode  PlayerNumber PlayerName  Hits\n",
       "0    2010      MTL          11.0      GOMEZ    32\n",
       "1    2010      TOR          37.0      BRENT   104\n",
       "2    2010      MTL          14.0   PLEKANEC    53\n",
       "3    2010      MTL          76.0     SUBBAN   110\n",
       "5    2010      TOR          35.0    GIGUERE     0"
      ]
     },
     "execution_count": 356,
     "metadata": {},
     "output_type": "execute_result"
    }
   ],
   "source": [
    "dh = dh.drop_duplicates(['Season', 'TeamCode', 'PlayerNumber', 'PlayerName'])\n",
    "dh = dh[['Season', 'TeamCode', 'PlayerNumber', 'PlayerName', 'Hits']]\n",
    "dh.head()"
   ]
  },
  {
   "cell_type": "markdown",
   "metadata": {},
   "source": [
    "#### penalty dataframe (dp)"
   ]
  },
  {
   "cell_type": "code",
   "execution_count": 357,
   "metadata": {
    "collapsed": true
   },
   "outputs": [],
   "source": [
    "dp = da\n",
    "dp = dp.rename(columns={'EventTeamCode': 'TeamCode' })\n",
    "dp = dp.sort_values(['Season', 'GameNumber', 'Period', 'EventNumber'], ascending=[True, True, True, True])"
   ]
  },
  {
   "cell_type": "markdown",
   "metadata": {},
   "source": [
    "- create a penalty variable. If event type is a penalty assign a value of 1. If not, assign a value of 0. Display total penalties per player for a season."
   ]
  },
  {
   "cell_type": "code",
   "execution_count": 358,
   "metadata": {
    "collapsed": true
   },
   "outputs": [],
   "source": [
    "dp['Penalty'] = dp.apply(lambda x: 1 if (x['EventType'] == 'PENL') else 0, axis=1)\n",
    "dp = dp.drop_duplicates(['Season', 'GameNumber', 'EventNumber', 'TeamCode', 'PlayerNumber', 'PlayerName'])\n",
    "dp['Penalties'] = dp.groupby(['Season','TeamCode', 'PlayerNumber', 'PlayerName'])['Penalty'].transform('sum')\n",
    "dp['Penalties'] = dp.groupby(['Season','TeamCode', 'PlayerNumber', 'PlayerName'])['Penalties'].apply(lambda x: x.ffill().bfill())"
   ]
  },
  {
   "cell_type": "markdown",
   "metadata": {},
   "source": [
    "- drop duplicates to keep one observation per player for the season."
   ]
  },
  {
   "cell_type": "code",
   "execution_count": 359,
   "metadata": {
    "collapsed": false
   },
   "outputs": [
    {
     "data": {
      "text/html": [
       "<div>\n",
       "<table border=\"1\" class=\"dataframe\">\n",
       "  <thead>\n",
       "    <tr style=\"text-align: right;\">\n",
       "      <th></th>\n",
       "      <th>Season</th>\n",
       "      <th>TeamCode</th>\n",
       "      <th>PlayerNumber</th>\n",
       "      <th>PlayerName</th>\n",
       "      <th>Penalties</th>\n",
       "    </tr>\n",
       "  </thead>\n",
       "  <tbody>\n",
       "    <tr>\n",
       "      <th>0</th>\n",
       "      <td>2010</td>\n",
       "      <td>MTL</td>\n",
       "      <td>11.0</td>\n",
       "      <td>GOMEZ</td>\n",
       "      <td>19</td>\n",
       "    </tr>\n",
       "    <tr>\n",
       "      <th>1</th>\n",
       "      <td>2010</td>\n",
       "      <td>TOR</td>\n",
       "      <td>37.0</td>\n",
       "      <td>BRENT</td>\n",
       "      <td>14</td>\n",
       "    </tr>\n",
       "    <tr>\n",
       "      <th>2</th>\n",
       "      <td>2010</td>\n",
       "      <td>MTL</td>\n",
       "      <td>14.0</td>\n",
       "      <td>PLEKANEC</td>\n",
       "      <td>28</td>\n",
       "    </tr>\n",
       "    <tr>\n",
       "      <th>3</th>\n",
       "      <td>2010</td>\n",
       "      <td>MTL</td>\n",
       "      <td>76.0</td>\n",
       "      <td>SUBBAN</td>\n",
       "      <td>48</td>\n",
       "    </tr>\n",
       "    <tr>\n",
       "      <th>5</th>\n",
       "      <td>2010</td>\n",
       "      <td>TOR</td>\n",
       "      <td>35.0</td>\n",
       "      <td>GIGUERE</td>\n",
       "      <td>2</td>\n",
       "    </tr>\n",
       "  </tbody>\n",
       "</table>\n",
       "</div>"
      ],
      "text/plain": [
       "   Season TeamCode  PlayerNumber PlayerName  Penalties\n",
       "0    2010      MTL          11.0      GOMEZ         19\n",
       "1    2010      TOR          37.0      BRENT         14\n",
       "2    2010      MTL          14.0   PLEKANEC         28\n",
       "3    2010      MTL          76.0     SUBBAN         48\n",
       "5    2010      TOR          35.0    GIGUERE          2"
      ]
     },
     "execution_count": 359,
     "metadata": {},
     "output_type": "execute_result"
    }
   ],
   "source": [
    "dp = dp.drop_duplicates(['Season', 'TeamCode', 'PlayerNumber', 'PlayerName'])\n",
    "dp = dp[['Season', 'TeamCode', 'PlayerNumber', 'PlayerName', 'Penalties']]\n",
    "dp.head()"
   ]
  },
  {
   "cell_type": "markdown",
   "metadata": {},
   "source": [
    "####  faceoff dataframe (df)"
   ]
  },
  {
   "cell_type": "code",
   "execution_count": 360,
   "metadata": {
    "collapsed": true
   },
   "outputs": [],
   "source": [
    "df = da\n",
    "df = df.rename(columns={'EventTeamCode': 'TeamCode' })\n",
    "df = df.sort_values(['Season', 'GameNumber', 'Period', 'EventNumber'], ascending=[True, True, True, True])"
   ]
  },
  {
   "cell_type": "markdown",
   "metadata": {},
   "source": [
    "- create a faceoff variable. If event type is a faceoff assign a value of 1. If not, assign a value of 0. Display total faceoffs per player for a season."
   ]
  },
  {
   "cell_type": "code",
   "execution_count": 361,
   "metadata": {
    "collapsed": true
   },
   "outputs": [],
   "source": [
    "df['Faceoff'] = df.apply(lambda x: 1 if (x['EventType'] == 'FAC') else 0, axis=1)\n",
    "df = df.drop_duplicates(['Season', 'GameNumber', 'EventNumber', 'TeamCode', 'PlayerNumber', 'PlayerName'])\n",
    "df['Faceoffs'] = df.groupby(['Season','TeamCode', 'PlayerNumber', 'PlayerName'])['Faceoff'].transform('sum')\n",
    "df['Faceoffs'] = df.groupby(['Season','TeamCode', 'PlayerNumber', 'PlayerName'])['Faceoffs'].apply(lambda x: x.ffill().bfill())"
   ]
  },
  {
   "cell_type": "markdown",
   "metadata": {},
   "source": [
    "- drop duplicates to keep one observation per player for the season."
   ]
  },
  {
   "cell_type": "code",
   "execution_count": 362,
   "metadata": {
    "collapsed": false
   },
   "outputs": [
    {
     "data": {
      "text/html": [
       "<div>\n",
       "<table border=\"1\" class=\"dataframe\">\n",
       "  <thead>\n",
       "    <tr style=\"text-align: right;\">\n",
       "      <th></th>\n",
       "      <th>Season</th>\n",
       "      <th>TeamCode</th>\n",
       "      <th>PlayerNumber</th>\n",
       "      <th>PlayerName</th>\n",
       "      <th>Faceoffs</th>\n",
       "    </tr>\n",
       "  </thead>\n",
       "  <tbody>\n",
       "    <tr>\n",
       "      <th>0</th>\n",
       "      <td>2010</td>\n",
       "      <td>MTL</td>\n",
       "      <td>11.0</td>\n",
       "      <td>GOMEZ</td>\n",
       "      <td>575</td>\n",
       "    </tr>\n",
       "    <tr>\n",
       "      <th>1</th>\n",
       "      <td>2010</td>\n",
       "      <td>TOR</td>\n",
       "      <td>37.0</td>\n",
       "      <td>BRENT</td>\n",
       "      <td>410</td>\n",
       "    </tr>\n",
       "    <tr>\n",
       "      <th>2</th>\n",
       "      <td>2010</td>\n",
       "      <td>MTL</td>\n",
       "      <td>14.0</td>\n",
       "      <td>PLEKANEC</td>\n",
       "      <td>785</td>\n",
       "    </tr>\n",
       "    <tr>\n",
       "      <th>3</th>\n",
       "      <td>2010</td>\n",
       "      <td>MTL</td>\n",
       "      <td>76.0</td>\n",
       "      <td>SUBBAN</td>\n",
       "      <td>0</td>\n",
       "    </tr>\n",
       "    <tr>\n",
       "      <th>5</th>\n",
       "      <td>2010</td>\n",
       "      <td>TOR</td>\n",
       "      <td>35.0</td>\n",
       "      <td>GIGUERE</td>\n",
       "      <td>0</td>\n",
       "    </tr>\n",
       "  </tbody>\n",
       "</table>\n",
       "</div>"
      ],
      "text/plain": [
       "   Season TeamCode  PlayerNumber PlayerName  Faceoffs\n",
       "0    2010      MTL          11.0      GOMEZ       575\n",
       "1    2010      TOR          37.0      BRENT       410\n",
       "2    2010      MTL          14.0   PLEKANEC       785\n",
       "3    2010      MTL          76.0     SUBBAN         0\n",
       "5    2010      TOR          35.0    GIGUERE         0"
      ]
     },
     "execution_count": 362,
     "metadata": {},
     "output_type": "execute_result"
    }
   ],
   "source": [
    "df = df.drop_duplicates(['Season', 'TeamCode', 'PlayerNumber', 'PlayerName'])\n",
    "df = df[['Season', 'TeamCode', 'PlayerNumber', 'PlayerName', 'Faceoffs']]\n",
    "df.head()"
   ]
  },
  {
   "cell_type": "markdown",
   "metadata": {},
   "source": [
    "####  giveaway dataframe (di)"
   ]
  },
  {
   "cell_type": "code",
   "execution_count": 363,
   "metadata": {
    "collapsed": true
   },
   "outputs": [],
   "source": [
    "di = da\n",
    "di = di.rename(columns={'EventTeamCode': 'TeamCode' })\n",
    "di = di.sort_values(['Season', 'GameNumber', 'Period', 'EventNumber'], ascending=[True, True, True, True])"
   ]
  },
  {
   "cell_type": "markdown",
   "metadata": {},
   "source": [
    "- create a giveaway variable. If event type is a giveaway assign a value of 1. If not, assign a value of 0. Display total giveaways per player for a season."
   ]
  },
  {
   "cell_type": "code",
   "execution_count": 364,
   "metadata": {
    "collapsed": true
   },
   "outputs": [],
   "source": [
    "di['Giveaway'] = di.apply(lambda x: 1 if (x['EventType'] == 'GIVE') else 0, axis=1)\n",
    "di = di.drop_duplicates(['Season', 'GameNumber', 'EventNumber', 'TeamCode', 'PlayerNumber', 'PlayerName'])\n",
    "di['Giveaways'] = di.groupby(['Season','TeamCode', 'PlayerNumber', 'PlayerName'])['Giveaway'].transform('sum')\n",
    "di['Giveaways '] = di.groupby(['Season','TeamCode', 'PlayerNumber', 'PlayerName'])['Giveaways'].apply(lambda x: x.ffill().bfill())"
   ]
  },
  {
   "cell_type": "markdown",
   "metadata": {},
   "source": [
    "- drop duplicates to keep one observation per player for the season."
   ]
  },
  {
   "cell_type": "code",
   "execution_count": 365,
   "metadata": {
    "collapsed": false
   },
   "outputs": [
    {
     "data": {
      "text/html": [
       "<div>\n",
       "<table border=\"1\" class=\"dataframe\">\n",
       "  <thead>\n",
       "    <tr style=\"text-align: right;\">\n",
       "      <th></th>\n",
       "      <th>Season</th>\n",
       "      <th>TeamCode</th>\n",
       "      <th>PlayerNumber</th>\n",
       "      <th>PlayerName</th>\n",
       "      <th>Giveaways</th>\n",
       "    </tr>\n",
       "  </thead>\n",
       "  <tbody>\n",
       "    <tr>\n",
       "      <th>0</th>\n",
       "      <td>2010</td>\n",
       "      <td>MTL</td>\n",
       "      <td>11.0</td>\n",
       "      <td>GOMEZ</td>\n",
       "      <td>28</td>\n",
       "    </tr>\n",
       "    <tr>\n",
       "      <th>1</th>\n",
       "      <td>2010</td>\n",
       "      <td>TOR</td>\n",
       "      <td>37.0</td>\n",
       "      <td>BRENT</td>\n",
       "      <td>20</td>\n",
       "    </tr>\n",
       "    <tr>\n",
       "      <th>2</th>\n",
       "      <td>2010</td>\n",
       "      <td>MTL</td>\n",
       "      <td>14.0</td>\n",
       "      <td>PLEKANEC</td>\n",
       "      <td>37</td>\n",
       "    </tr>\n",
       "    <tr>\n",
       "      <th>3</th>\n",
       "      <td>2010</td>\n",
       "      <td>MTL</td>\n",
       "      <td>76.0</td>\n",
       "      <td>SUBBAN</td>\n",
       "      <td>56</td>\n",
       "    </tr>\n",
       "    <tr>\n",
       "      <th>5</th>\n",
       "      <td>2010</td>\n",
       "      <td>TOR</td>\n",
       "      <td>35.0</td>\n",
       "      <td>GIGUERE</td>\n",
       "      <td>33</td>\n",
       "    </tr>\n",
       "  </tbody>\n",
       "</table>\n",
       "</div>"
      ],
      "text/plain": [
       "   Season TeamCode  PlayerNumber PlayerName  Giveaways\n",
       "0    2010      MTL          11.0      GOMEZ         28\n",
       "1    2010      TOR          37.0      BRENT         20\n",
       "2    2010      MTL          14.0   PLEKANEC         37\n",
       "3    2010      MTL          76.0     SUBBAN         56\n",
       "5    2010      TOR          35.0    GIGUERE         33"
      ]
     },
     "execution_count": 365,
     "metadata": {},
     "output_type": "execute_result"
    }
   ],
   "source": [
    "di = di.drop_duplicates(['Season', 'TeamCode', 'PlayerNumber', 'PlayerName'])\n",
    "di = di[['Season', 'TeamCode', 'PlayerNumber', 'PlayerName', 'Giveaways']]\n",
    "di.head()"
   ]
  },
  {
   "cell_type": "markdown",
   "metadata": {},
   "source": [
    "####  takeaway dataframe (dt)"
   ]
  },
  {
   "cell_type": "code",
   "execution_count": 366,
   "metadata": {
    "collapsed": true
   },
   "outputs": [],
   "source": [
    "dt = da\n",
    "dt = dt.rename(columns={'EventTeamCode': 'TeamCode' })\n",
    "dt = dt.sort_values(['Season', 'GameNumber', 'Period', 'EventNumber'], ascending=[True, True, True, True])"
   ]
  },
  {
   "cell_type": "markdown",
   "metadata": {},
   "source": [
    "- create a takeaway variable. If event type is a takeaway  assign a value of 1. If not, assign a value of 0. Display total takeaways per player for a season."
   ]
  },
  {
   "cell_type": "code",
   "execution_count": 367,
   "metadata": {
    "collapsed": true
   },
   "outputs": [],
   "source": [
    "dt['Takeaway'] = dt.apply(lambda x: 1 if (x['EventType'] == 'TAKE') else 0, axis=1)\n",
    "dt = dt.drop_duplicates(['Season', 'GameNumber', 'EventNumber', 'TeamCode', 'PlayerNumber', 'PlayerName'])\n",
    "dt['Takeaways'] = dt.groupby(['Season','TeamCode', 'PlayerNumber', 'PlayerName'])['Takeaway'].transform('sum')\n",
    "dt['Takeaways'] = dt.groupby(['Season','TeamCode', 'PlayerNumber', 'PlayerName'])['Takeaways'].apply(lambda x: x.ffill().bfill())"
   ]
  },
  {
   "cell_type": "markdown",
   "metadata": {},
   "source": [
    "- drop duplicates to keep one observation per player for the season."
   ]
  },
  {
   "cell_type": "code",
   "execution_count": 368,
   "metadata": {
    "collapsed": false
   },
   "outputs": [
    {
     "data": {
      "text/html": [
       "<div>\n",
       "<table border=\"1\" class=\"dataframe\">\n",
       "  <thead>\n",
       "    <tr style=\"text-align: right;\">\n",
       "      <th></th>\n",
       "      <th>Season</th>\n",
       "      <th>TeamCode</th>\n",
       "      <th>PlayerNumber</th>\n",
       "      <th>PlayerName</th>\n",
       "      <th>Takeaways</th>\n",
       "    </tr>\n",
       "  </thead>\n",
       "  <tbody>\n",
       "    <tr>\n",
       "      <th>0</th>\n",
       "      <td>2010</td>\n",
       "      <td>MTL</td>\n",
       "      <td>11.0</td>\n",
       "      <td>GOMEZ</td>\n",
       "      <td>56</td>\n",
       "    </tr>\n",
       "    <tr>\n",
       "      <th>1</th>\n",
       "      <td>2010</td>\n",
       "      <td>TOR</td>\n",
       "      <td>37.0</td>\n",
       "      <td>BRENT</td>\n",
       "      <td>23</td>\n",
       "    </tr>\n",
       "    <tr>\n",
       "      <th>2</th>\n",
       "      <td>2010</td>\n",
       "      <td>MTL</td>\n",
       "      <td>14.0</td>\n",
       "      <td>PLEKANEC</td>\n",
       "      <td>43</td>\n",
       "    </tr>\n",
       "    <tr>\n",
       "      <th>3</th>\n",
       "      <td>2010</td>\n",
       "      <td>MTL</td>\n",
       "      <td>76.0</td>\n",
       "      <td>SUBBAN</td>\n",
       "      <td>37</td>\n",
       "    </tr>\n",
       "    <tr>\n",
       "      <th>5</th>\n",
       "      <td>2010</td>\n",
       "      <td>TOR</td>\n",
       "      <td>35.0</td>\n",
       "      <td>GIGUERE</td>\n",
       "      <td>0</td>\n",
       "    </tr>\n",
       "  </tbody>\n",
       "</table>\n",
       "</div>"
      ],
      "text/plain": [
       "   Season TeamCode  PlayerNumber PlayerName  Takeaways\n",
       "0    2010      MTL          11.0      GOMEZ         56\n",
       "1    2010      TOR          37.0      BRENT         23\n",
       "2    2010      MTL          14.0   PLEKANEC         43\n",
       "3    2010      MTL          76.0     SUBBAN         37\n",
       "5    2010      TOR          35.0    GIGUERE          0"
      ]
     },
     "execution_count": 368,
     "metadata": {},
     "output_type": "execute_result"
    }
   ],
   "source": [
    "dt = dt.drop_duplicates(['Season', 'TeamCode', 'PlayerNumber', 'PlayerName'])\n",
    "dt = dt[['Season', 'TeamCode', 'PlayerNumber', 'PlayerName', 'Takeaways']]\n",
    "dt.head()"
   ]
  },
  {
   "cell_type": "markdown",
   "metadata": {},
   "source": [
    "## merge dataframes "
   ]
  },
  {
   "cell_type": "markdown",
   "metadata": {},
   "source": [
    "- goals and assists together to calcualte points per player."
   ]
  },
  {
   "cell_type": "code",
   "execution_count": 369,
   "metadata": {
    "collapsed": false
   },
   "outputs": [
    {
     "data": {
      "text/html": [
       "<div>\n",
       "<table border=\"1\" class=\"dataframe\">\n",
       "  <thead>\n",
       "    <tr style=\"text-align: right;\">\n",
       "      <th></th>\n",
       "      <th>Season</th>\n",
       "      <th>TeamCode</th>\n",
       "      <th>PlayerNumber</th>\n",
       "      <th>PlayerName</th>\n",
       "      <th>Position</th>\n",
       "      <th>GP</th>\n",
       "      <th>Goals</th>\n",
       "      <th>Assists</th>\n",
       "    </tr>\n",
       "  </thead>\n",
       "  <tbody>\n",
       "    <tr>\n",
       "      <th>0</th>\n",
       "      <td>2010</td>\n",
       "      <td>MTL</td>\n",
       "      <td>11.0</td>\n",
       "      <td>GOMEZ</td>\n",
       "      <td>C</td>\n",
       "      <td>80</td>\n",
       "      <td>7</td>\n",
       "      <td>31.0</td>\n",
       "    </tr>\n",
       "    <tr>\n",
       "      <th>1</th>\n",
       "      <td>2010</td>\n",
       "      <td>TOR</td>\n",
       "      <td>37.0</td>\n",
       "      <td>BRENT</td>\n",
       "      <td>C</td>\n",
       "      <td>79</td>\n",
       "      <td>8</td>\n",
       "      <td>12.0</td>\n",
       "    </tr>\n",
       "    <tr>\n",
       "      <th>2</th>\n",
       "      <td>2010</td>\n",
       "      <td>MTL</td>\n",
       "      <td>14.0</td>\n",
       "      <td>PLEKANEC</td>\n",
       "      <td>C</td>\n",
       "      <td>77</td>\n",
       "      <td>22</td>\n",
       "      <td>35.0</td>\n",
       "    </tr>\n",
       "    <tr>\n",
       "      <th>3</th>\n",
       "      <td>2010</td>\n",
       "      <td>MTL</td>\n",
       "      <td>76.0</td>\n",
       "      <td>SUBBAN</td>\n",
       "      <td>LD</td>\n",
       "      <td>77</td>\n",
       "      <td>14</td>\n",
       "      <td>24.0</td>\n",
       "    </tr>\n",
       "    <tr>\n",
       "      <th>4</th>\n",
       "      <td>2010</td>\n",
       "      <td>TOR</td>\n",
       "      <td>35.0</td>\n",
       "      <td>GIGUERE</td>\n",
       "      <td>G</td>\n",
       "      <td>17</td>\n",
       "      <td>0</td>\n",
       "      <td>NaN</td>\n",
       "    </tr>\n",
       "    <tr>\n",
       "      <th>5</th>\n",
       "      <td>2010</td>\n",
       "      <td>TOR</td>\n",
       "      <td>2.0</td>\n",
       "      <td>SCHENN</td>\n",
       "      <td>RD</td>\n",
       "      <td>82</td>\n",
       "      <td>5</td>\n",
       "      <td>17.0</td>\n",
       "    </tr>\n",
       "    <tr>\n",
       "      <th>6</th>\n",
       "      <td>2010</td>\n",
       "      <td>MTL</td>\n",
       "      <td>81.0</td>\n",
       "      <td>ELLER</td>\n",
       "      <td>C</td>\n",
       "      <td>77</td>\n",
       "      <td>7</td>\n",
       "      <td>9.0</td>\n",
       "    </tr>\n",
       "    <tr>\n",
       "      <th>7</th>\n",
       "      <td>2010</td>\n",
       "      <td>MTL</td>\n",
       "      <td>46.0</td>\n",
       "      <td>KOSTITSYN</td>\n",
       "      <td>LW</td>\n",
       "      <td>81</td>\n",
       "      <td>20</td>\n",
       "      <td>25.0</td>\n",
       "    </tr>\n",
       "    <tr>\n",
       "      <th>8</th>\n",
       "      <td>2010</td>\n",
       "      <td>TOR</td>\n",
       "      <td>32.0</td>\n",
       "      <td>VERSTEEG</td>\n",
       "      <td>LW</td>\n",
       "      <td>53</td>\n",
       "      <td>14</td>\n",
       "      <td>21.0</td>\n",
       "    </tr>\n",
       "    <tr>\n",
       "      <th>9</th>\n",
       "      <td>2010</td>\n",
       "      <td>MTL</td>\n",
       "      <td>52.0</td>\n",
       "      <td>DARCHE</td>\n",
       "      <td>RW</td>\n",
       "      <td>56</td>\n",
       "      <td>11</td>\n",
       "      <td>14.0</td>\n",
       "    </tr>\n",
       "  </tbody>\n",
       "</table>\n",
       "</div>"
      ],
      "text/plain": [
       "   Season TeamCode  PlayerNumber PlayerName Position  GP  Goals  Assists\n",
       "0    2010      MTL          11.0      GOMEZ        C  80      7     31.0\n",
       "1    2010      TOR          37.0      BRENT        C  79      8     12.0\n",
       "2    2010      MTL          14.0   PLEKANEC        C  77     22     35.0\n",
       "3    2010      MTL          76.0     SUBBAN       LD  77     14     24.0\n",
       "4    2010      TOR          35.0    GIGUERE        G  17      0      NaN\n",
       "5    2010      TOR           2.0     SCHENN       RD  82      5     17.0\n",
       "6    2010      MTL          81.0      ELLER        C  77      7      9.0\n",
       "7    2010      MTL          46.0  KOSTITSYN       LW  81     20     25.0\n",
       "8    2010      TOR          32.0   VERSTEEG       LW  53     14     21.0\n",
       "9    2010      MTL          52.0     DARCHE       RW  56     11     14.0"
      ]
     },
     "execution_count": 369,
     "metadata": {},
     "output_type": "execute_result"
    }
   ],
   "source": [
    "dd = pd.merge(db, dc, on=['Season', 'TeamCode', 'PlayerNumber'], how='left')\n",
    "#dd = dd.sort_values(['Season', 'TeamCode', 'PlayerNumber', 'PlayerName'], ascending=[True, True, True, True])\n",
    "dd.head(10)"
   ]
  },
  {
   "cell_type": "markdown",
   "metadata": {},
   "source": [
    "check if there are any 'NaN' values in all columns. Fill 'NaN' values with zero."
   ]
  },
  {
   "cell_type": "code",
   "execution_count": 370,
   "metadata": {
    "collapsed": false
   },
   "outputs": [
    {
     "data": {
      "text/plain": [
       "Season            0\n",
       "TeamCode          0\n",
       "PlayerNumber      0\n",
       "PlayerName        0\n",
       "Position          0\n",
       "GP                0\n",
       "Goals             0\n",
       "Assists         183\n",
       "dtype: int64"
      ]
     },
     "execution_count": 370,
     "metadata": {},
     "output_type": "execute_result"
    }
   ],
   "source": [
    "dd.isnull().sum()"
   ]
  },
  {
   "cell_type": "code",
   "execution_count": 371,
   "metadata": {
    "collapsed": false
   },
   "outputs": [],
   "source": [
    "dd['Assists'] = dd['Assists'].fillna(0)"
   ]
  },
  {
   "cell_type": "markdown",
   "metadata": {},
   "source": [
    "- calculate points per player for the season."
   ]
  },
  {
   "cell_type": "code",
   "execution_count": 372,
   "metadata": {
    "collapsed": false
   },
   "outputs": [
    {
     "data": {
      "text/html": [
       "<div>\n",
       "<table border=\"1\" class=\"dataframe\">\n",
       "  <thead>\n",
       "    <tr style=\"text-align: right;\">\n",
       "      <th></th>\n",
       "      <th>Season</th>\n",
       "      <th>TeamCode</th>\n",
       "      <th>PlayerNumber</th>\n",
       "      <th>PlayerName</th>\n",
       "      <th>Position</th>\n",
       "      <th>GP</th>\n",
       "      <th>Goals</th>\n",
       "      <th>Assists</th>\n",
       "      <th>Points</th>\n",
       "    </tr>\n",
       "  </thead>\n",
       "  <tbody>\n",
       "    <tr>\n",
       "      <th>0</th>\n",
       "      <td>2010</td>\n",
       "      <td>MTL</td>\n",
       "      <td>11.0</td>\n",
       "      <td>GOMEZ</td>\n",
       "      <td>C</td>\n",
       "      <td>80</td>\n",
       "      <td>7</td>\n",
       "      <td>31</td>\n",
       "      <td>38</td>\n",
       "    </tr>\n",
       "    <tr>\n",
       "      <th>1</th>\n",
       "      <td>2010</td>\n",
       "      <td>TOR</td>\n",
       "      <td>37.0</td>\n",
       "      <td>BRENT</td>\n",
       "      <td>C</td>\n",
       "      <td>79</td>\n",
       "      <td>8</td>\n",
       "      <td>12</td>\n",
       "      <td>20</td>\n",
       "    </tr>\n",
       "    <tr>\n",
       "      <th>2</th>\n",
       "      <td>2010</td>\n",
       "      <td>MTL</td>\n",
       "      <td>14.0</td>\n",
       "      <td>PLEKANEC</td>\n",
       "      <td>C</td>\n",
       "      <td>77</td>\n",
       "      <td>22</td>\n",
       "      <td>35</td>\n",
       "      <td>57</td>\n",
       "    </tr>\n",
       "    <tr>\n",
       "      <th>3</th>\n",
       "      <td>2010</td>\n",
       "      <td>MTL</td>\n",
       "      <td>76.0</td>\n",
       "      <td>SUBBAN</td>\n",
       "      <td>LD</td>\n",
       "      <td>77</td>\n",
       "      <td>14</td>\n",
       "      <td>24</td>\n",
       "      <td>38</td>\n",
       "    </tr>\n",
       "    <tr>\n",
       "      <th>4</th>\n",
       "      <td>2010</td>\n",
       "      <td>TOR</td>\n",
       "      <td>35.0</td>\n",
       "      <td>GIGUERE</td>\n",
       "      <td>G</td>\n",
       "      <td>17</td>\n",
       "      <td>0</td>\n",
       "      <td>0</td>\n",
       "      <td>0</td>\n",
       "    </tr>\n",
       "  </tbody>\n",
       "</table>\n",
       "</div>"
      ],
      "text/plain": [
       "   Season TeamCode  PlayerNumber PlayerName Position  GP  Goals  Assists  \\\n",
       "0    2010      MTL          11.0      GOMEZ        C  80      7       31   \n",
       "1    2010      TOR          37.0      BRENT        C  79      8       12   \n",
       "2    2010      MTL          14.0   PLEKANEC        C  77     22       35   \n",
       "3    2010      MTL          76.0     SUBBAN       LD  77     14       24   \n",
       "4    2010      TOR          35.0    GIGUERE        G  17      0        0   \n",
       "\n",
       "   Points  \n",
       "0      38  \n",
       "1      20  \n",
       "2      57  \n",
       "3      38  \n",
       "4       0  "
      ]
     },
     "execution_count": 372,
     "metadata": {},
     "output_type": "execute_result"
    }
   ],
   "source": [
    "dd['Assists'] = dd['Assists'].astype(np.int64)\n",
    "dd['Points'] = dd['Goals'] + dd['Assists']\n",
    "dd.head()"
   ]
  },
  {
   "cell_type": "markdown",
   "metadata": {},
   "source": [
    "- **merge all on-ice dataframes on season, team code, player number and player name** "
   ]
  },
  {
   "cell_type": "code",
   "execution_count": 373,
   "metadata": {
    "collapsed": false
   },
   "outputs": [
    {
     "data": {
      "text/html": [
       "<div>\n",
       "<table border=\"1\" class=\"dataframe\">\n",
       "  <thead>\n",
       "    <tr style=\"text-align: right;\">\n",
       "      <th></th>\n",
       "      <th>Season</th>\n",
       "      <th>TeamCode</th>\n",
       "      <th>PlayerNumber</th>\n",
       "      <th>PlayerName</th>\n",
       "      <th>Position</th>\n",
       "      <th>GP</th>\n",
       "      <th>Goals</th>\n",
       "      <th>Assists</th>\n",
       "      <th>Points</th>\n",
       "      <th>Shots</th>\n",
       "      <th>Blocks</th>\n",
       "      <th>Hits</th>\n",
       "      <th>Faceoffs</th>\n",
       "      <th>Misses</th>\n",
       "      <th>Penalties</th>\n",
       "      <th>Giveaways</th>\n",
       "      <th>Takeaways</th>\n",
       "    </tr>\n",
       "  </thead>\n",
       "  <tbody>\n",
       "    <tr>\n",
       "      <th>0</th>\n",
       "      <td>2010</td>\n",
       "      <td>MTL</td>\n",
       "      <td>11.0</td>\n",
       "      <td>GOMEZ</td>\n",
       "      <td>C</td>\n",
       "      <td>80</td>\n",
       "      <td>7</td>\n",
       "      <td>31</td>\n",
       "      <td>38</td>\n",
       "      <td>156</td>\n",
       "      <td>24</td>\n",
       "      <td>32</td>\n",
       "      <td>575</td>\n",
       "      <td>57</td>\n",
       "      <td>19</td>\n",
       "      <td>28</td>\n",
       "      <td>56</td>\n",
       "    </tr>\n",
       "    <tr>\n",
       "      <th>1</th>\n",
       "      <td>2010</td>\n",
       "      <td>TOR</td>\n",
       "      <td>37.0</td>\n",
       "      <td>BRENT</td>\n",
       "      <td>C</td>\n",
       "      <td>79</td>\n",
       "      <td>8</td>\n",
       "      <td>12</td>\n",
       "      <td>20</td>\n",
       "      <td>60</td>\n",
       "      <td>58</td>\n",
       "      <td>104</td>\n",
       "      <td>410</td>\n",
       "      <td>28</td>\n",
       "      <td>14</td>\n",
       "      <td>20</td>\n",
       "      <td>23</td>\n",
       "    </tr>\n",
       "    <tr>\n",
       "      <th>2</th>\n",
       "      <td>2010</td>\n",
       "      <td>MTL</td>\n",
       "      <td>14.0</td>\n",
       "      <td>PLEKANEC</td>\n",
       "      <td>C</td>\n",
       "      <td>77</td>\n",
       "      <td>22</td>\n",
       "      <td>35</td>\n",
       "      <td>57</td>\n",
       "      <td>227</td>\n",
       "      <td>45</td>\n",
       "      <td>53</td>\n",
       "      <td>785</td>\n",
       "      <td>79</td>\n",
       "      <td>28</td>\n",
       "      <td>37</td>\n",
       "      <td>43</td>\n",
       "    </tr>\n",
       "    <tr>\n",
       "      <th>3</th>\n",
       "      <td>2010</td>\n",
       "      <td>MTL</td>\n",
       "      <td>76.0</td>\n",
       "      <td>SUBBAN</td>\n",
       "      <td>LD</td>\n",
       "      <td>77</td>\n",
       "      <td>14</td>\n",
       "      <td>24</td>\n",
       "      <td>38</td>\n",
       "      <td>197</td>\n",
       "      <td>106</td>\n",
       "      <td>110</td>\n",
       "      <td>0</td>\n",
       "      <td>78</td>\n",
       "      <td>48</td>\n",
       "      <td>56</td>\n",
       "      <td>37</td>\n",
       "    </tr>\n",
       "    <tr>\n",
       "      <th>4</th>\n",
       "      <td>2010</td>\n",
       "      <td>TOR</td>\n",
       "      <td>35.0</td>\n",
       "      <td>GIGUERE</td>\n",
       "      <td>G</td>\n",
       "      <td>17</td>\n",
       "      <td>0</td>\n",
       "      <td>0</td>\n",
       "      <td>0</td>\n",
       "      <td>0</td>\n",
       "      <td>0</td>\n",
       "      <td>0</td>\n",
       "      <td>0</td>\n",
       "      <td>0</td>\n",
       "      <td>2</td>\n",
       "      <td>33</td>\n",
       "      <td>0</td>\n",
       "    </tr>\n",
       "  </tbody>\n",
       "</table>\n",
       "</div>"
      ],
      "text/plain": [
       "   Season TeamCode  PlayerNumber PlayerName Position  GP  Goals  Assists  \\\n",
       "0    2010      MTL          11.0      GOMEZ        C  80      7       31   \n",
       "1    2010      TOR          37.0      BRENT        C  79      8       12   \n",
       "2    2010      MTL          14.0   PLEKANEC        C  77     22       35   \n",
       "3    2010      MTL          76.0     SUBBAN       LD  77     14       24   \n",
       "4    2010      TOR          35.0    GIGUERE        G  17      0        0   \n",
       "\n",
       "   Points  Shots  Blocks  Hits  Faceoffs  Misses  Penalties  Giveaways  \\\n",
       "0      38    156      24    32       575      57         19         28   \n",
       "1      20     60      58   104       410      28         14         20   \n",
       "2      57    227      45    53       785      79         28         37   \n",
       "3      38    197     106   110         0      78         48         56   \n",
       "4       0      0       0     0         0       0          2         33   \n",
       "\n",
       "   Takeaways  \n",
       "0         56  \n",
       "1         23  \n",
       "2         43  \n",
       "3         37  \n",
       "4          0  "
      ]
     },
     "execution_count": 373,
     "metadata": {},
     "output_type": "execute_result"
    }
   ],
   "source": [
    "dk = dd.merge(ds,on=['Season', 'TeamCode', 'PlayerNumber', 'PlayerName']).merge(dl,on=['Season', 'TeamCode', 'PlayerNumber', 'PlayerName']).merge(dh,on=['Season', 'TeamCode', 'PlayerNumber', 'PlayerName']).merge(df,on=['Season', 'TeamCode', 'PlayerNumber', 'PlayerName']).merge(dm,on=['Season', 'TeamCode', 'PlayerNumber', 'PlayerName']).merge(dp,on=['Season', 'TeamCode', 'PlayerNumber', 'PlayerName']).merge(di,on=['Season', 'TeamCode', 'PlayerNumber', 'PlayerName']).merge(dt,on=['Season', 'TeamCode', 'PlayerNumber', 'PlayerName'])\n",
    "dk.head()"
   ]
  },
  {
   "cell_type": "code",
   "execution_count": 374,
   "metadata": {
    "collapsed": false
   },
   "outputs": [
    {
     "data": {
      "text/plain": [
       "(1058, 17)"
      ]
     },
     "execution_count": 374,
     "metadata": {},
     "output_type": "execute_result"
    }
   ],
   "source": [
    "dk.shape"
   ]
  },
  {
   "cell_type": "markdown",
   "metadata": {},
   "source": [
    "### import player shift data and keep only regular season games."
   ]
  },
  {
   "cell_type": "code",
   "execution_count": 375,
   "metadata": {
    "collapsed": true
   },
   "outputs": [],
   "source": [
    "dv = pd.read_csv('/Users/stefanostselios/Brock University/Kevin Mongeon - StephanosShare/data/t_player_shift_o.csv')\n",
    "#dv = pd.read_csv('/Users/kevinmongeon/Brock University/Steve Tselios - StephanosShare/data/t_t_player_shift_o.csv')"
   ]
  },
  {
   "cell_type": "markdown",
   "metadata": {},
   "source": [
    "- keep only regular seasong games. Display the duration of each shift per player. Calculate the time on ice by player for each game and transform seconds into minutes. Drop duplicates by season, gamenumber, teamcode and playernumber."
   ]
  },
  {
   "cell_type": "code",
   "execution_count": 376,
   "metadata": {
    "collapsed": true
   },
   "outputs": [],
   "source": [
    "dv = dv[dv['gamenumber'] <= 21230]\n",
    "dv['shift'] = dv['endtime'] - dv['starttime']\n",
    "dv['seconds'] = dv.groupby(['season','gamenumber','teamcode', 'playernumber'])['shift'].transform('sum')\n",
    "dv['minutes'] = dv['seconds'] / 60\n",
    "dv['minutes'] = dv['minutes'].round(2)\n",
    "dv = dv.drop_duplicates(['season', 'gamenumber', 'teamcode', 'playernumber'])"
   ]
  },
  {
   "cell_type": "markdown",
   "metadata": {},
   "source": [
    "- calculate the mean time on ice per player for the season."
   ]
  },
  {
   "cell_type": "code",
   "execution_count": 377,
   "metadata": {
    "collapsed": false
   },
   "outputs": [
    {
     "data": {
      "text/html": [
       "<div>\n",
       "<table border=\"1\" class=\"dataframe\">\n",
       "  <thead>\n",
       "    <tr style=\"text-align: right;\">\n",
       "      <th></th>\n",
       "      <th>season</th>\n",
       "      <th>gamenumber</th>\n",
       "      <th>teamcode</th>\n",
       "      <th>playernumber</th>\n",
       "      <th>period</th>\n",
       "      <th>starttime</th>\n",
       "      <th>endtime</th>\n",
       "      <th>shift</th>\n",
       "      <th>seconds</th>\n",
       "      <th>minutes</th>\n",
       "      <th>TOI</th>\n",
       "      <th>ATOI</th>\n",
       "    </tr>\n",
       "  </thead>\n",
       "  <tbody>\n",
       "    <tr>\n",
       "      <th>0</th>\n",
       "      <td>2010</td>\n",
       "      <td>20001</td>\n",
       "      <td>MTL</td>\n",
       "      <td>6</td>\n",
       "      <td>1</td>\n",
       "      <td>43</td>\n",
       "      <td>95</td>\n",
       "      <td>52</td>\n",
       "      <td>1222</td>\n",
       "      <td>20.37</td>\n",
       "      <td>1135.35</td>\n",
       "      <td>19.24</td>\n",
       "    </tr>\n",
       "    <tr>\n",
       "      <th>9</th>\n",
       "      <td>2010</td>\n",
       "      <td>20001</td>\n",
       "      <td>MTL</td>\n",
       "      <td>11</td>\n",
       "      <td>1</td>\n",
       "      <td>0</td>\n",
       "      <td>35</td>\n",
       "      <td>35</td>\n",
       "      <td>1121</td>\n",
       "      <td>18.68</td>\n",
       "      <td>1485.07</td>\n",
       "      <td>18.56</td>\n",
       "    </tr>\n",
       "    <tr>\n",
       "      <th>16</th>\n",
       "      <td>2010</td>\n",
       "      <td>20001</td>\n",
       "      <td>MTL</td>\n",
       "      <td>14</td>\n",
       "      <td>1</td>\n",
       "      <td>35</td>\n",
       "      <td>95</td>\n",
       "      <td>60</td>\n",
       "      <td>1129</td>\n",
       "      <td>18.82</td>\n",
       "      <td>1559.15</td>\n",
       "      <td>20.25</td>\n",
       "    </tr>\n",
       "    <tr>\n",
       "      <th>24</th>\n",
       "      <td>2010</td>\n",
       "      <td>20001</td>\n",
       "      <td>MTL</td>\n",
       "      <td>15</td>\n",
       "      <td>1</td>\n",
       "      <td>95</td>\n",
       "      <td>135</td>\n",
       "      <td>40</td>\n",
       "      <td>640</td>\n",
       "      <td>10.67</td>\n",
       "      <td>916.71</td>\n",
       "      <td>12.73</td>\n",
       "    </tr>\n",
       "    <tr>\n",
       "      <th>32</th>\n",
       "      <td>2010</td>\n",
       "      <td>20001</td>\n",
       "      <td>MTL</td>\n",
       "      <td>17</td>\n",
       "      <td>1</td>\n",
       "      <td>135</td>\n",
       "      <td>186</td>\n",
       "      <td>51</td>\n",
       "      <td>882</td>\n",
       "      <td>14.70</td>\n",
       "      <td>98.37</td>\n",
       "      <td>9.84</td>\n",
       "    </tr>\n",
       "  </tbody>\n",
       "</table>\n",
       "</div>"
      ],
      "text/plain": [
       "    season  gamenumber teamcode  playernumber  period  starttime  endtime  \\\n",
       "0     2010       20001      MTL             6       1         43       95   \n",
       "9     2010       20001      MTL            11       1          0       35   \n",
       "16    2010       20001      MTL            14       1         35       95   \n",
       "24    2010       20001      MTL            15       1         95      135   \n",
       "32    2010       20001      MTL            17       1        135      186   \n",
       "\n",
       "    shift  seconds  minutes      TOI   ATOI  \n",
       "0      52     1222    20.37  1135.35  19.24  \n",
       "9      35     1121    18.68  1485.07  18.56  \n",
       "16     60     1129    18.82  1559.15  20.25  \n",
       "24     40      640    10.67   916.71  12.73  \n",
       "32     51      882    14.70    98.37   9.84  "
      ]
     },
     "execution_count": 377,
     "metadata": {},
     "output_type": "execute_result"
    }
   ],
   "source": [
    "dv['TOI'] = dv.groupby(['season','teamcode', 'playernumber'])['minutes'].transform('sum')\n",
    "dv['ATOI'] = dv.groupby(['season','teamcode', 'playernumber'])['minutes'].transform('mean')\n",
    "dv['TOI'] = dv['TOI'].round(2)\n",
    "dv['ATOI'] = dv['ATOI'].round(2)\n",
    "dv.head()"
   ]
  },
  {
   "cell_type": "code",
   "execution_count": 378,
   "metadata": {
    "collapsed": false
   },
   "outputs": [],
   "source": [
    "dv = dv.rename(columns={'season': 'Season', 'gamenumber' : 'GameNumber', 'teamcode' : 'TeamCode', 'playernumber' : 'PlayerNumber'})\n",
    "dv = dv.drop_duplicates(['Season', 'TeamCode', 'PlayerNumber'])\n",
    "dv = dv[['Season', 'TeamCode', 'PlayerNumber', 'TOI', 'ATOI']]"
   ]
  },
  {
   "cell_type": "code",
   "execution_count": 379,
   "metadata": {
    "collapsed": false
   },
   "outputs": [
    {
     "data": {
      "text/html": [
       "<div>\n",
       "<table border=\"1\" class=\"dataframe\">\n",
       "  <thead>\n",
       "    <tr style=\"text-align: right;\">\n",
       "      <th></th>\n",
       "      <th>Season</th>\n",
       "      <th>TeamCode</th>\n",
       "      <th>PlayerNumber</th>\n",
       "      <th>TOI</th>\n",
       "      <th>ATOI</th>\n",
       "    </tr>\n",
       "  </thead>\n",
       "  <tbody>\n",
       "    <tr>\n",
       "      <th>0</th>\n",
       "      <td>2010</td>\n",
       "      <td>MTL</td>\n",
       "      <td>6</td>\n",
       "      <td>1135.35</td>\n",
       "      <td>19.24</td>\n",
       "    </tr>\n",
       "    <tr>\n",
       "      <th>9</th>\n",
       "      <td>2010</td>\n",
       "      <td>MTL</td>\n",
       "      <td>11</td>\n",
       "      <td>1485.07</td>\n",
       "      <td>18.56</td>\n",
       "    </tr>\n",
       "    <tr>\n",
       "      <th>16</th>\n",
       "      <td>2010</td>\n",
       "      <td>MTL</td>\n",
       "      <td>14</td>\n",
       "      <td>1559.15</td>\n",
       "      <td>20.25</td>\n",
       "    </tr>\n",
       "    <tr>\n",
       "      <th>24</th>\n",
       "      <td>2010</td>\n",
       "      <td>MTL</td>\n",
       "      <td>15</td>\n",
       "      <td>916.71</td>\n",
       "      <td>12.73</td>\n",
       "    </tr>\n",
       "    <tr>\n",
       "      <th>32</th>\n",
       "      <td>2010</td>\n",
       "      <td>MTL</td>\n",
       "      <td>17</td>\n",
       "      <td>98.37</td>\n",
       "      <td>9.84</td>\n",
       "    </tr>\n",
       "  </tbody>\n",
       "</table>\n",
       "</div>"
      ],
      "text/plain": [
       "    Season TeamCode  PlayerNumber      TOI   ATOI\n",
       "0     2010      MTL             6  1135.35  19.24\n",
       "9     2010      MTL            11  1485.07  18.56\n",
       "16    2010      MTL            14  1559.15  20.25\n",
       "24    2010      MTL            15   916.71  12.73\n",
       "32    2010      MTL            17    98.37   9.84"
      ]
     },
     "execution_count": 379,
     "metadata": {},
     "output_type": "execute_result"
    }
   ],
   "source": [
    "dv.head()"
   ]
  },
  {
   "cell_type": "code",
   "execution_count": 380,
   "metadata": {
    "collapsed": false
   },
   "outputs": [
    {
     "data": {
      "text/plain": [
       "(1028, 5)"
      ]
     },
     "execution_count": 380,
     "metadata": {},
     "output_type": "execute_result"
    }
   ],
   "source": [
    "dv.shape"
   ]
  },
  {
   "cell_type": "markdown",
   "metadata": {},
   "source": [
    "## stats per time on ice "
   ]
  },
  {
   "cell_type": "markdown",
   "metadata": {},
   "source": [
    "- merge time on ice onto dk dataframe. Since the dataframe for time on ice has only player number and multiple players can wear a given number, we calculate an individual's seasonal time on ice (STOI) using their average time on ice (ATOI) multiplied by the total games they played.  "
   ]
  },
  {
   "cell_type": "code",
   "execution_count": 381,
   "metadata": {
    "collapsed": false
   },
   "outputs": [
    {
     "data": {
      "text/html": [
       "<div>\n",
       "<table border=\"1\" class=\"dataframe\">\n",
       "  <thead>\n",
       "    <tr style=\"text-align: right;\">\n",
       "      <th></th>\n",
       "      <th>Season</th>\n",
       "      <th>TeamCode</th>\n",
       "      <th>PlayerNumber</th>\n",
       "      <th>PlayerName</th>\n",
       "      <th>Position</th>\n",
       "      <th>GP</th>\n",
       "      <th>Goals</th>\n",
       "      <th>Assists</th>\n",
       "      <th>Points</th>\n",
       "      <th>Shots</th>\n",
       "      <th>Blocks</th>\n",
       "      <th>Hits</th>\n",
       "      <th>Faceoffs</th>\n",
       "      <th>Misses</th>\n",
       "      <th>Penalties</th>\n",
       "      <th>Giveaways</th>\n",
       "      <th>Takeaways</th>\n",
       "      <th>TOI</th>\n",
       "      <th>ATOI</th>\n",
       "    </tr>\n",
       "  </thead>\n",
       "  <tbody>\n",
       "    <tr>\n",
       "      <th>0</th>\n",
       "      <td>2010</td>\n",
       "      <td>MTL</td>\n",
       "      <td>11.0</td>\n",
       "      <td>GOMEZ</td>\n",
       "      <td>C</td>\n",
       "      <td>80</td>\n",
       "      <td>7</td>\n",
       "      <td>31</td>\n",
       "      <td>38</td>\n",
       "      <td>156</td>\n",
       "      <td>24</td>\n",
       "      <td>32</td>\n",
       "      <td>575</td>\n",
       "      <td>57</td>\n",
       "      <td>19</td>\n",
       "      <td>28</td>\n",
       "      <td>56</td>\n",
       "      <td>1485.07</td>\n",
       "      <td>18.56</td>\n",
       "    </tr>\n",
       "    <tr>\n",
       "      <th>1</th>\n",
       "      <td>2010</td>\n",
       "      <td>TOR</td>\n",
       "      <td>37.0</td>\n",
       "      <td>BRENT</td>\n",
       "      <td>C</td>\n",
       "      <td>79</td>\n",
       "      <td>8</td>\n",
       "      <td>12</td>\n",
       "      <td>20</td>\n",
       "      <td>60</td>\n",
       "      <td>58</td>\n",
       "      <td>104</td>\n",
       "      <td>410</td>\n",
       "      <td>28</td>\n",
       "      <td>14</td>\n",
       "      <td>20</td>\n",
       "      <td>23</td>\n",
       "      <td>920.46</td>\n",
       "      <td>11.65</td>\n",
       "    </tr>\n",
       "    <tr>\n",
       "      <th>2</th>\n",
       "      <td>2010</td>\n",
       "      <td>MTL</td>\n",
       "      <td>14.0</td>\n",
       "      <td>PLEKANEC</td>\n",
       "      <td>C</td>\n",
       "      <td>77</td>\n",
       "      <td>22</td>\n",
       "      <td>35</td>\n",
       "      <td>57</td>\n",
       "      <td>227</td>\n",
       "      <td>45</td>\n",
       "      <td>53</td>\n",
       "      <td>785</td>\n",
       "      <td>79</td>\n",
       "      <td>28</td>\n",
       "      <td>37</td>\n",
       "      <td>43</td>\n",
       "      <td>1559.15</td>\n",
       "      <td>20.25</td>\n",
       "    </tr>\n",
       "    <tr>\n",
       "      <th>3</th>\n",
       "      <td>2010</td>\n",
       "      <td>MTL</td>\n",
       "      <td>76.0</td>\n",
       "      <td>SUBBAN</td>\n",
       "      <td>LD</td>\n",
       "      <td>77</td>\n",
       "      <td>14</td>\n",
       "      <td>24</td>\n",
       "      <td>38</td>\n",
       "      <td>197</td>\n",
       "      <td>106</td>\n",
       "      <td>110</td>\n",
       "      <td>0</td>\n",
       "      <td>78</td>\n",
       "      <td>48</td>\n",
       "      <td>56</td>\n",
       "      <td>37</td>\n",
       "      <td>1714.69</td>\n",
       "      <td>22.27</td>\n",
       "    </tr>\n",
       "    <tr>\n",
       "      <th>4</th>\n",
       "      <td>2010</td>\n",
       "      <td>TOR</td>\n",
       "      <td>35.0</td>\n",
       "      <td>GIGUERE</td>\n",
       "      <td>G</td>\n",
       "      <td>17</td>\n",
       "      <td>0</td>\n",
       "      <td>0</td>\n",
       "      <td>0</td>\n",
       "      <td>0</td>\n",
       "      <td>0</td>\n",
       "      <td>0</td>\n",
       "      <td>0</td>\n",
       "      <td>0</td>\n",
       "      <td>2</td>\n",
       "      <td>33</td>\n",
       "      <td>0</td>\n",
       "      <td>1633.02</td>\n",
       "      <td>49.49</td>\n",
       "    </tr>\n",
       "  </tbody>\n",
       "</table>\n",
       "</div>"
      ],
      "text/plain": [
       "   Season TeamCode  PlayerNumber PlayerName Position  GP  Goals  Assists  \\\n",
       "0    2010      MTL          11.0      GOMEZ        C  80      7       31   \n",
       "1    2010      TOR          37.0      BRENT        C  79      8       12   \n",
       "2    2010      MTL          14.0   PLEKANEC        C  77     22       35   \n",
       "3    2010      MTL          76.0     SUBBAN       LD  77     14       24   \n",
       "4    2010      TOR          35.0    GIGUERE        G  17      0        0   \n",
       "\n",
       "   Points  Shots  Blocks  Hits  Faceoffs  Misses  Penalties  Giveaways  \\\n",
       "0      38    156      24    32       575      57         19         28   \n",
       "1      20     60      58   104       410      28         14         20   \n",
       "2      57    227      45    53       785      79         28         37   \n",
       "3      38    197     106   110         0      78         48         56   \n",
       "4       0      0       0     0         0       0          2         33   \n",
       "\n",
       "   Takeaways      TOI   ATOI  \n",
       "0         56  1485.07  18.56  \n",
       "1         23   920.46  11.65  \n",
       "2         43  1559.15  20.25  \n",
       "3         37  1714.69  22.27  \n",
       "4          0  1633.02  49.49  "
      ]
     },
     "execution_count": 381,
     "metadata": {},
     "output_type": "execute_result"
    }
   ],
   "source": [
    "dw = pd.merge(dk, dv, on=['Season', 'TeamCode', 'PlayerNumber'], how='left')\n",
    "dw.head()"
   ]
  },
  {
   "cell_type": "code",
   "execution_count": 382,
   "metadata": {
    "collapsed": false
   },
   "outputs": [
    {
     "data": {
      "text/plain": [
       "(1058, 19)"
      ]
     },
     "execution_count": 382,
     "metadata": {},
     "output_type": "execute_result"
    }
   ],
   "source": [
    "dw.shape"
   ]
  },
  {
   "cell_type": "code",
   "execution_count": 383,
   "metadata": {
    "collapsed": true
   },
   "outputs": [],
   "source": [
    "#dw = dw.drop_duplicates(['Season', 'TeamCode', 'PlayerNumber'])"
   ]
  },
  {
   "cell_type": "code",
   "execution_count": 384,
   "metadata": {
    "collapsed": false
   },
   "outputs": [
    {
     "data": {
      "text/plain": [
       "(1058, 19)"
      ]
     },
     "execution_count": 384,
     "metadata": {},
     "output_type": "execute_result"
    }
   ],
   "source": [
    "dw.shape"
   ]
  },
  {
   "cell_type": "code",
   "execution_count": 385,
   "metadata": {
    "collapsed": false
   },
   "outputs": [],
   "source": [
    "dw['MGoals'] = dw['Goals'] / dw['TOI']\n",
    "dw['MAssists'] = dw['Assists'] / dw['TOI']\n",
    "dw['MPoints'] = dw['Points'] / dw['TOI']\n",
    "dw['MShots'] = dw['Shots'] / dw['TOI']\n",
    "dw['MBlocks'] = dw['Blocks'] / dw['TOI']\n",
    "dw['MHits'] = dw['Hits'] / dw['TOI']\n",
    "dw['MFaceoffs'] = dw['Faceoffs'] / dw['TOI']\n",
    "dw['MMisses'] = dw['Misses'] / dw['TOI']\n",
    "dw['MPenalties'] = dw['Penalties'] / dw['TOI']\n",
    "dw['MGiveaways'] = dw['Giveaways'] / dw['TOI']\n",
    "dw['MTakeaways'] = dw['Takeaways'] / dw['TOI']\n"
   ]
  },
  {
   "cell_type": "code",
   "execution_count": 386,
   "metadata": {
    "collapsed": false
   },
   "outputs": [
    {
     "data": {
      "text/html": [
       "<div>\n",
       "<table border=\"1\" class=\"dataframe\">\n",
       "  <thead>\n",
       "    <tr style=\"text-align: right;\">\n",
       "      <th></th>\n",
       "      <th>Season</th>\n",
       "      <th>TeamCode</th>\n",
       "      <th>PlayerNumber</th>\n",
       "      <th>PlayerName</th>\n",
       "      <th>Position</th>\n",
       "      <th>GP</th>\n",
       "      <th>Goals</th>\n",
       "      <th>Assists</th>\n",
       "      <th>Points</th>\n",
       "      <th>Shots</th>\n",
       "      <th>Blocks</th>\n",
       "      <th>Hits</th>\n",
       "      <th>Faceoffs</th>\n",
       "      <th>Misses</th>\n",
       "      <th>Penalties</th>\n",
       "      <th>Giveaways</th>\n",
       "      <th>Takeaways</th>\n",
       "      <th>TOI</th>\n",
       "      <th>ATOI</th>\n",
       "      <th>MGoals</th>\n",
       "      <th>MAssists</th>\n",
       "      <th>MPoints</th>\n",
       "      <th>MShots</th>\n",
       "      <th>MBlocks</th>\n",
       "      <th>MHits</th>\n",
       "      <th>MFaceoffs</th>\n",
       "      <th>MMisses</th>\n",
       "      <th>MPenalties</th>\n",
       "      <th>MGiveaways</th>\n",
       "      <th>MTakeaways</th>\n",
       "    </tr>\n",
       "  </thead>\n",
       "  <tbody>\n",
       "    <tr>\n",
       "      <th>872</th>\n",
       "      <td>2010</td>\n",
       "      <td>WSH</td>\n",
       "      <td>24.0</td>\n",
       "      <td>WILLSIE</td>\n",
       "      <td>RW</td>\n",
       "      <td>1</td>\n",
       "      <td>0</td>\n",
       "      <td>1</td>\n",
       "      <td>1</td>\n",
       "      <td>0</td>\n",
       "      <td>2</td>\n",
       "      <td>0</td>\n",
       "      <td>0</td>\n",
       "      <td>0</td>\n",
       "      <td>0</td>\n",
       "      <td>0</td>\n",
       "      <td>0</td>\n",
       "      <td>6.25</td>\n",
       "      <td>6.25</td>\n",
       "      <td>0.000000</td>\n",
       "      <td>0.160000</td>\n",
       "      <td>0.160000</td>\n",
       "      <td>0.000000</td>\n",
       "      <td>0.320000</td>\n",
       "      <td>0.000000</td>\n",
       "      <td>0.000000</td>\n",
       "      <td>0.000000</td>\n",
       "      <td>0.000000</td>\n",
       "      <td>0.000000</td>\n",
       "      <td>0.000000</td>\n",
       "    </tr>\n",
       "    <tr>\n",
       "      <th>674</th>\n",
       "      <td>2010</td>\n",
       "      <td>COL</td>\n",
       "      <td>7.0</td>\n",
       "      <td>VANDERGULIK</td>\n",
       "      <td>RW</td>\n",
       "      <td>6</td>\n",
       "      <td>1</td>\n",
       "      <td>2</td>\n",
       "      <td>3</td>\n",
       "      <td>12</td>\n",
       "      <td>3</td>\n",
       "      <td>10</td>\n",
       "      <td>0</td>\n",
       "      <td>4</td>\n",
       "      <td>1</td>\n",
       "      <td>2</td>\n",
       "      <td>2</td>\n",
       "      <td>40.51</td>\n",
       "      <td>6.75</td>\n",
       "      <td>0.024685</td>\n",
       "      <td>0.049371</td>\n",
       "      <td>0.074056</td>\n",
       "      <td>0.296223</td>\n",
       "      <td>0.074056</td>\n",
       "      <td>0.246853</td>\n",
       "      <td>0.000000</td>\n",
       "      <td>0.098741</td>\n",
       "      <td>0.024685</td>\n",
       "      <td>0.049371</td>\n",
       "      <td>0.049371</td>\n",
       "    </tr>\n",
       "    <tr>\n",
       "      <th>37</th>\n",
       "      <td>2010</td>\n",
       "      <td>PIT</td>\n",
       "      <td>87.0</td>\n",
       "      <td>CROSBY</td>\n",
       "      <td>C</td>\n",
       "      <td>41</td>\n",
       "      <td>32</td>\n",
       "      <td>34</td>\n",
       "      <td>66</td>\n",
       "      <td>161</td>\n",
       "      <td>23</td>\n",
       "      <td>31</td>\n",
       "      <td>546</td>\n",
       "      <td>58</td>\n",
       "      <td>13</td>\n",
       "      <td>29</td>\n",
       "      <td>15</td>\n",
       "      <td>898.61</td>\n",
       "      <td>21.92</td>\n",
       "      <td>0.035611</td>\n",
       "      <td>0.037836</td>\n",
       "      <td>0.073447</td>\n",
       "      <td>0.179166</td>\n",
       "      <td>0.025595</td>\n",
       "      <td>0.034498</td>\n",
       "      <td>0.607605</td>\n",
       "      <td>0.064544</td>\n",
       "      <td>0.014467</td>\n",
       "      <td>0.032272</td>\n",
       "      <td>0.016692</td>\n",
       "    </tr>\n",
       "    <tr>\n",
       "      <th>544</th>\n",
       "      <td>2010</td>\n",
       "      <td>VAN</td>\n",
       "      <td>22.0</td>\n",
       "      <td>SEDIN</td>\n",
       "      <td>LW</td>\n",
       "      <td>81</td>\n",
       "      <td>41</td>\n",
       "      <td>62</td>\n",
       "      <td>103</td>\n",
       "      <td>265</td>\n",
       "      <td>12</td>\n",
       "      <td>13</td>\n",
       "      <td>4</td>\n",
       "      <td>92</td>\n",
       "      <td>16</td>\n",
       "      <td>48</td>\n",
       "      <td>36</td>\n",
       "      <td>1521.32</td>\n",
       "      <td>18.55</td>\n",
       "      <td>0.026950</td>\n",
       "      <td>0.040754</td>\n",
       "      <td>0.067704</td>\n",
       "      <td>0.174191</td>\n",
       "      <td>0.007888</td>\n",
       "      <td>0.008545</td>\n",
       "      <td>0.002629</td>\n",
       "      <td>0.060474</td>\n",
       "      <td>0.010517</td>\n",
       "      <td>0.031552</td>\n",
       "      <td>0.023664</td>\n",
       "    </tr>\n",
       "    <tr>\n",
       "      <th>278</th>\n",
       "      <td>2010</td>\n",
       "      <td>ANA</td>\n",
       "      <td>8.0</td>\n",
       "      <td>SELANNE</td>\n",
       "      <td>RW</td>\n",
       "      <td>73</td>\n",
       "      <td>31</td>\n",
       "      <td>49</td>\n",
       "      <td>80</td>\n",
       "      <td>213</td>\n",
       "      <td>20</td>\n",
       "      <td>15</td>\n",
       "      <td>97</td>\n",
       "      <td>64</td>\n",
       "      <td>18</td>\n",
       "      <td>45</td>\n",
       "      <td>37</td>\n",
       "      <td>1309.33</td>\n",
       "      <td>17.94</td>\n",
       "      <td>0.023676</td>\n",
       "      <td>0.037424</td>\n",
       "      <td>0.061100</td>\n",
       "      <td>0.162679</td>\n",
       "      <td>0.015275</td>\n",
       "      <td>0.011456</td>\n",
       "      <td>0.074084</td>\n",
       "      <td>0.048880</td>\n",
       "      <td>0.013747</td>\n",
       "      <td>0.034369</td>\n",
       "      <td>0.028259</td>\n",
       "    </tr>\n",
       "  </tbody>\n",
       "</table>\n",
       "</div>"
      ],
      "text/plain": [
       "     Season TeamCode  PlayerNumber   PlayerName Position  GP  Goals  Assists  \\\n",
       "872    2010      WSH          24.0      WILLSIE       RW   1      0        1   \n",
       "674    2010      COL           7.0  VANDERGULIK       RW   6      1        2   \n",
       "37     2010      PIT          87.0       CROSBY        C  41     32       34   \n",
       "544    2010      VAN          22.0        SEDIN       LW  81     41       62   \n",
       "278    2010      ANA           8.0      SELANNE       RW  73     31       49   \n",
       "\n",
       "     Points  Shots  Blocks  Hits  Faceoffs  Misses  Penalties  Giveaways  \\\n",
       "872       1      0       2     0         0       0          0          0   \n",
       "674       3     12       3    10         0       4          1          2   \n",
       "37       66    161      23    31       546      58         13         29   \n",
       "544     103    265      12    13         4      92         16         48   \n",
       "278      80    213      20    15        97      64         18         45   \n",
       "\n",
       "     Takeaways      TOI   ATOI    MGoals  MAssists   MPoints    MShots  \\\n",
       "872          0     6.25   6.25  0.000000  0.160000  0.160000  0.000000   \n",
       "674          2    40.51   6.75  0.024685  0.049371  0.074056  0.296223   \n",
       "37          15   898.61  21.92  0.035611  0.037836  0.073447  0.179166   \n",
       "544         36  1521.32  18.55  0.026950  0.040754  0.067704  0.174191   \n",
       "278         37  1309.33  17.94  0.023676  0.037424  0.061100  0.162679   \n",
       "\n",
       "      MBlocks     MHits  MFaceoffs   MMisses  MPenalties  MGiveaways  \\\n",
       "872  0.320000  0.000000   0.000000  0.000000    0.000000    0.000000   \n",
       "674  0.074056  0.246853   0.000000  0.098741    0.024685    0.049371   \n",
       "37   0.025595  0.034498   0.607605  0.064544    0.014467    0.032272   \n",
       "544  0.007888  0.008545   0.002629  0.060474    0.010517    0.031552   \n",
       "278  0.015275  0.011456   0.074084  0.048880    0.013747    0.034369   \n",
       "\n",
       "     MTakeaways  \n",
       "872    0.000000  \n",
       "674    0.049371  \n",
       "37     0.016692  \n",
       "544    0.023664  \n",
       "278    0.028259  "
      ]
     },
     "execution_count": 386,
     "metadata": {},
     "output_type": "execute_result"
    }
   ],
   "source": [
    "dw = dw.sort_values(['MPoints', 'MGoals', 'MAssists'], ascending=[False, False, False])\n",
    "dw.head()"
   ]
  },
  {
   "cell_type": "code",
   "execution_count": 387,
   "metadata": {
    "collapsed": true
   },
   "outputs": [],
   "source": [
    "dw.to_csv('/Users/stefanostselios/Brock University/Kevin Mongeon - StephanosShare/out/stats_per_time_on_ice.csv', index='False', sep=',')\n",
    "#dv = pd.read_csv('/Users/kevinmongeon/Brock University/Steve Tselios - StephanosShare/out/stats_per_time_on_ice.csv', index='False', sep=',')"
   ]
  },
  {
   "cell_type": "markdown",
   "metadata": {},
   "source": [
    "### histogram of games played"
   ]
  },
  {
   "cell_type": "markdown",
   "metadata": {},
   "source": [
    "- create a new data frame without goaltenders. \n",
    "- The purpose of plotting a histogram, is to view the distribution of games played by all skaters. Players that have played a substainial amount of few games are excluded by the data set. Since the data spiked significantly at 9 games, players that played 9 games and less are removed. "
   ]
  },
  {
   "cell_type": "code",
   "execution_count": 388,
   "metadata": {
    "collapsed": false
   },
   "outputs": [
    {
     "data": {
      "image/png": "[encoded data removed]",
      "text/plain": [
       "<matplotlib.figure.Figure at 0x15cb12198>"
      ]
     },
     "metadata": {},
     "output_type": "display_data"
    }
   ],
   "source": [
    "dw1 = dw[dw['Position'] != 'G']\n",
    "x1 = dw1.GP \n",
    "plt.title('Games Played Distribution')\n",
    "plt.hist(x1)\n",
    "plt.show()"
   ]
  },
  {
   "cell_type": "code",
   "execution_count": 389,
   "metadata": {
    "collapsed": false
   },
   "outputs": [
    {
     "data": {
      "text/html": [
       "<div>\n",
       "<table border=\"1\" class=\"dataframe\">\n",
       "  <thead>\n",
       "    <tr style=\"text-align: right;\">\n",
       "      <th></th>\n",
       "      <th>Season</th>\n",
       "      <th>TeamCode</th>\n",
       "      <th>PlayerNumber</th>\n",
       "      <th>PlayerName</th>\n",
       "      <th>Position</th>\n",
       "      <th>GP</th>\n",
       "      <th>Goals</th>\n",
       "      <th>Assists</th>\n",
       "      <th>Points</th>\n",
       "      <th>Shots</th>\n",
       "      <th>Blocks</th>\n",
       "      <th>Hits</th>\n",
       "      <th>Faceoffs</th>\n",
       "      <th>Misses</th>\n",
       "      <th>Penalties</th>\n",
       "      <th>Giveaways</th>\n",
       "      <th>Takeaways</th>\n",
       "      <th>TOI</th>\n",
       "      <th>ATOI</th>\n",
       "      <th>MGoals</th>\n",
       "      <th>MAssists</th>\n",
       "      <th>MPoints</th>\n",
       "      <th>MShots</th>\n",
       "      <th>MBlocks</th>\n",
       "      <th>MHits</th>\n",
       "      <th>MFaceoffs</th>\n",
       "      <th>MMisses</th>\n",
       "      <th>MPenalties</th>\n",
       "      <th>MGiveaways</th>\n",
       "      <th>MTakeaways</th>\n",
       "    </tr>\n",
       "  </thead>\n",
       "  <tbody>\n",
       "    <tr>\n",
       "      <th>37</th>\n",
       "      <td>2010</td>\n",
       "      <td>PIT</td>\n",
       "      <td>87.0</td>\n",
       "      <td>CROSBY</td>\n",
       "      <td>C</td>\n",
       "      <td>41</td>\n",
       "      <td>32</td>\n",
       "      <td>34</td>\n",
       "      <td>66</td>\n",
       "      <td>161</td>\n",
       "      <td>23</td>\n",
       "      <td>31</td>\n",
       "      <td>546</td>\n",
       "      <td>58</td>\n",
       "      <td>13</td>\n",
       "      <td>29</td>\n",
       "      <td>15</td>\n",
       "      <td>898.61</td>\n",
       "      <td>21.92</td>\n",
       "      <td>0.035611</td>\n",
       "      <td>0.037836</td>\n",
       "      <td>0.073447</td>\n",
       "      <td>0.179166</td>\n",
       "      <td>0.025595</td>\n",
       "      <td>0.034498</td>\n",
       "      <td>0.607605</td>\n",
       "      <td>0.064544</td>\n",
       "      <td>0.014467</td>\n",
       "      <td>0.032272</td>\n",
       "      <td>0.016692</td>\n",
       "    </tr>\n",
       "    <tr>\n",
       "      <th>544</th>\n",
       "      <td>2010</td>\n",
       "      <td>VAN</td>\n",
       "      <td>22.0</td>\n",
       "      <td>SEDIN</td>\n",
       "      <td>LW</td>\n",
       "      <td>81</td>\n",
       "      <td>41</td>\n",
       "      <td>62</td>\n",
       "      <td>103</td>\n",
       "      <td>265</td>\n",
       "      <td>12</td>\n",
       "      <td>13</td>\n",
       "      <td>4</td>\n",
       "      <td>92</td>\n",
       "      <td>16</td>\n",
       "      <td>48</td>\n",
       "      <td>36</td>\n",
       "      <td>1521.32</td>\n",
       "      <td>18.55</td>\n",
       "      <td>0.026950</td>\n",
       "      <td>0.040754</td>\n",
       "      <td>0.067704</td>\n",
       "      <td>0.174191</td>\n",
       "      <td>0.007888</td>\n",
       "      <td>0.008545</td>\n",
       "      <td>0.002629</td>\n",
       "      <td>0.060474</td>\n",
       "      <td>0.010517</td>\n",
       "      <td>0.031552</td>\n",
       "      <td>0.023664</td>\n",
       "    </tr>\n",
       "    <tr>\n",
       "      <th>278</th>\n",
       "      <td>2010</td>\n",
       "      <td>ANA</td>\n",
       "      <td>8.0</td>\n",
       "      <td>SELANNE</td>\n",
       "      <td>RW</td>\n",
       "      <td>73</td>\n",
       "      <td>31</td>\n",
       "      <td>49</td>\n",
       "      <td>80</td>\n",
       "      <td>213</td>\n",
       "      <td>20</td>\n",
       "      <td>15</td>\n",
       "      <td>97</td>\n",
       "      <td>64</td>\n",
       "      <td>18</td>\n",
       "      <td>45</td>\n",
       "      <td>37</td>\n",
       "      <td>1309.33</td>\n",
       "      <td>17.94</td>\n",
       "      <td>0.023676</td>\n",
       "      <td>0.037424</td>\n",
       "      <td>0.061100</td>\n",
       "      <td>0.162679</td>\n",
       "      <td>0.015275</td>\n",
       "      <td>0.011456</td>\n",
       "      <td>0.074084</td>\n",
       "      <td>0.048880</td>\n",
       "      <td>0.013747</td>\n",
       "      <td>0.034369</td>\n",
       "      <td>0.028259</td>\n",
       "    </tr>\n",
       "    <tr>\n",
       "      <th>543</th>\n",
       "      <td>2010</td>\n",
       "      <td>VAN</td>\n",
       "      <td>33.0</td>\n",
       "      <td>SEDIN</td>\n",
       "      <td>C</td>\n",
       "      <td>82</td>\n",
       "      <td>19</td>\n",
       "      <td>75</td>\n",
       "      <td>94</td>\n",
       "      <td>157</td>\n",
       "      <td>21</td>\n",
       "      <td>15</td>\n",
       "      <td>721</td>\n",
       "      <td>42</td>\n",
       "      <td>20</td>\n",
       "      <td>38</td>\n",
       "      <td>43</td>\n",
       "      <td>1579.22</td>\n",
       "      <td>19.26</td>\n",
       "      <td>0.012031</td>\n",
       "      <td>0.047492</td>\n",
       "      <td>0.059523</td>\n",
       "      <td>0.099416</td>\n",
       "      <td>0.013298</td>\n",
       "      <td>0.009498</td>\n",
       "      <td>0.456555</td>\n",
       "      <td>0.026595</td>\n",
       "      <td>0.012664</td>\n",
       "      <td>0.024063</td>\n",
       "      <td>0.027229</td>\n",
       "    </tr>\n",
       "    <tr>\n",
       "      <th>457</th>\n",
       "      <td>2010</td>\n",
       "      <td>TB</td>\n",
       "      <td>26.0</td>\n",
       "      <td>STLOUIS</td>\n",
       "      <td>LW</td>\n",
       "      <td>82</td>\n",
       "      <td>31</td>\n",
       "      <td>69</td>\n",
       "      <td>100</td>\n",
       "      <td>254</td>\n",
       "      <td>64</td>\n",
       "      <td>37</td>\n",
       "      <td>50</td>\n",
       "      <td>95</td>\n",
       "      <td>6</td>\n",
       "      <td>71</td>\n",
       "      <td>55</td>\n",
       "      <td>1719.99</td>\n",
       "      <td>20.98</td>\n",
       "      <td>0.018023</td>\n",
       "      <td>0.040117</td>\n",
       "      <td>0.058140</td>\n",
       "      <td>0.147675</td>\n",
       "      <td>0.037210</td>\n",
       "      <td>0.021512</td>\n",
       "      <td>0.029070</td>\n",
       "      <td>0.055233</td>\n",
       "      <td>0.003488</td>\n",
       "      <td>0.041279</td>\n",
       "      <td>0.031977</td>\n",
       "    </tr>\n",
       "  </tbody>\n",
       "</table>\n",
       "</div>"
      ],
      "text/plain": [
       "     Season TeamCode  PlayerNumber PlayerName Position  GP  Goals  Assists  \\\n",
       "37     2010      PIT          87.0     CROSBY        C  41     32       34   \n",
       "544    2010      VAN          22.0      SEDIN       LW  81     41       62   \n",
       "278    2010      ANA           8.0    SELANNE       RW  73     31       49   \n",
       "543    2010      VAN          33.0      SEDIN        C  82     19       75   \n",
       "457    2010       TB          26.0    STLOUIS       LW  82     31       69   \n",
       "\n",
       "     Points  Shots  Blocks  Hits  Faceoffs  Misses  Penalties  Giveaways  \\\n",
       "37       66    161      23    31       546      58         13         29   \n",
       "544     103    265      12    13         4      92         16         48   \n",
       "278      80    213      20    15        97      64         18         45   \n",
       "543      94    157      21    15       721      42         20         38   \n",
       "457     100    254      64    37        50      95          6         71   \n",
       "\n",
       "     Takeaways      TOI   ATOI    MGoals  MAssists   MPoints    MShots  \\\n",
       "37          15   898.61  21.92  0.035611  0.037836  0.073447  0.179166   \n",
       "544         36  1521.32  18.55  0.026950  0.040754  0.067704  0.174191   \n",
       "278         37  1309.33  17.94  0.023676  0.037424  0.061100  0.162679   \n",
       "543         43  1579.22  19.26  0.012031  0.047492  0.059523  0.099416   \n",
       "457         55  1719.99  20.98  0.018023  0.040117  0.058140  0.147675   \n",
       "\n",
       "      MBlocks     MHits  MFaceoffs   MMisses  MPenalties  MGiveaways  \\\n",
       "37   0.025595  0.034498   0.607605  0.064544    0.014467    0.032272   \n",
       "544  0.007888  0.008545   0.002629  0.060474    0.010517    0.031552   \n",
       "278  0.015275  0.011456   0.074084  0.048880    0.013747    0.034369   \n",
       "543  0.013298  0.009498   0.456555  0.026595    0.012664    0.024063   \n",
       "457  0.037210  0.021512   0.029070  0.055233    0.003488    0.041279   \n",
       "\n",
       "     MTakeaways  \n",
       "37     0.016692  \n",
       "544    0.023664  \n",
       "278    0.028259  \n",
       "543    0.027229  \n",
       "457    0.031977  "
      ]
     },
     "execution_count": 389,
     "metadata": {},
     "output_type": "execute_result"
    }
   ],
   "source": [
    "dw1 = dw1[dw1['GP'] > 9]\n",
    "dw1.head()"
   ]
  },
  {
   "cell_type": "markdown",
   "metadata": {},
   "source": [
    "### clusters for forwards "
   ]
  },
  {
   "cell_type": "code",
   "execution_count": 390,
   "metadata": {
    "collapsed": false
   },
   "outputs": [
    {
     "data": {
      "text/plain": [
       "(521, 30)"
      ]
     },
     "execution_count": 390,
     "metadata": {},
     "output_type": "execute_result"
    }
   ],
   "source": [
    "dwf = dw1[(dw1['Position'] != 'LD') & (dw1['Position'] != 'RD')]\n",
    "dwf.shape"
   ]
  },
  {
   "cell_type": "markdown",
   "metadata": {},
   "source": [
    "#### standardization"
   ]
  },
  {
   "cell_type": "markdown",
   "metadata": {},
   "source": [
    "- It is important to standardize the data so that we can effectively compare player performance. \n",
    "- Scale on-ice events per minute for each player relative to the league's season minimum and maximumn performance. All on-ice events per minute will have values between 0 and 1. \n",
    "- This technique makes sure that no particular event is being overweighted."
   ]
  },
  {
   "cell_type": "code",
   "execution_count": 391,
   "metadata": {
    "collapsed": false
   },
   "outputs": [],
   "source": [
    "scaler = MinMaxScaler()\n",
    "#scaler = StandardScaler()\n",
    "x = dwf[['MGoals', 'MAssists', 'MPoints', 'MShots', 'MBlocks', 'MHits', 'MFaceoffs', 'MMisses', 'MPenalties', 'MGiveaways', 'MTakeaways']] \n",
    "x_scaled = scaler.fit_transform( x )"
   ]
  },
  {
   "cell_type": "markdown",
   "metadata": {},
   "source": [
    "#### dendrogram"
   ]
  },
  {
   "cell_type": "markdown",
   "metadata": {},
   "source": [
    "- Dendogram shows the distance between any two observations in a dataset. The vertical axis determines the distance. The longer the axis, the larger the distance.\n",
    "- The clustermap feature in seaborn provides the dendogram. It also displays the distance between observations as well as the features."
   ]
  },
  {
   "cell_type": "code",
   "execution_count": 392,
   "metadata": {
    "collapsed": false
   },
   "outputs": [],
   "source": [
    "cmap = sn.cubehelix_palette(as_cmap=True, rot=-.3, light=1)"
   ]
  },
  {
   "cell_type": "code",
   "execution_count": 393,
   "metadata": {
    "collapsed": false
   },
   "outputs": [
    {
     "name": "stderr",
     "output_type": "stream",
     "text": [
      "/anaconda/lib/python3.6/site-packages/matplotlib/cbook.py:136: MatplotlibDeprecationWarning: The axisbg attribute was deprecated in version 2.0. Use facecolor instead.\n",
      "  warnings.warn(message, mplDeprecation, stacklevel=1)\n"
     ]
    },
    {
     "data": {
      "text/plain": [
       "<seaborn.matrix.ClusterGrid at 0x11f5cfcc0>"
      ]
     },
     "execution_count": 393,
     "metadata": {},
     "output_type": "execute_result"
    }
   ],
   "source": [
    "sn.clustermap(x_scaled, cmap=cmap, linewidths=.5)"
   ]
  },
  {
   "cell_type": "markdown",
   "metadata": {},
   "source": [
    "#### elbow analysis"
   ]
  },
  {
   "cell_type": "markdown",
   "metadata": {},
   "source": [
    "- Elbow method is a method of interpretation and validation of consistency within cluster analysis designed to help finding the appropriate number of clusters in a dataset.\n",
    "- Explained Variance: This method looks at the percentage of variance explained as a function of the number of clusters: One should choose a number of clusters so that adding another cluster doesn't give much better modeling of the data.\n",
    "- if one plots the percentage of variance explained by the clusters against the number of clusters the first clusters will add much information (explain a lot of variance), but at some point the marginal gain in explained variance will drop, giving an angle in the graph. The number of clusters is chosen at this point, hence the \"elbow criterion\"."
   ]
  },
  {
   "cell_type": "code",
   "execution_count": 394,
   "metadata": {
    "collapsed": true
   },
   "outputs": [],
   "source": [
    "cluster_range = range( 1, 20 )\n",
    "cluster_errors = []\n",
    "\n",
    "for num_clusters in cluster_range:\n",
    "  clusters = KMeans( num_clusters )\n",
    "  clusters.fit( x_scaled )\n",
    "  cluster_errors.append( clusters.inertia_ )"
   ]
  },
  {
   "cell_type": "code",
   "execution_count": 395,
   "metadata": {
    "collapsed": false
   },
   "outputs": [],
   "source": [
    "clusters_dwf = pd.DataFrame( { \"num_clusters\":cluster_range, \"cluster_errors\": cluster_errors } )"
   ]
  },
  {
   "cell_type": "code",
   "execution_count": 396,
   "metadata": {
    "collapsed": false
   },
   "outputs": [
    {
     "data": {
      "text/html": [
       "<div>\n",
       "<table border=\"1\" class=\"dataframe\">\n",
       "  <thead>\n",
       "    <tr style=\"text-align: right;\">\n",
       "      <th></th>\n",
       "      <th>cluster_errors</th>\n",
       "      <th>num_clusters</th>\n",
       "    </tr>\n",
       "  </thead>\n",
       "  <tbody>\n",
       "    <tr>\n",
       "      <th>0</th>\n",
       "      <td>160.163456</td>\n",
       "      <td>1</td>\n",
       "    </tr>\n",
       "    <tr>\n",
       "      <th>1</th>\n",
       "      <td>121.761762</td>\n",
       "      <td>2</td>\n",
       "    </tr>\n",
       "    <tr>\n",
       "      <th>2</th>\n",
       "      <td>102.687069</td>\n",
       "      <td>3</td>\n",
       "    </tr>\n",
       "    <tr>\n",
       "      <th>3</th>\n",
       "      <td>93.176687</td>\n",
       "      <td>4</td>\n",
       "    </tr>\n",
       "    <tr>\n",
       "      <th>4</th>\n",
       "      <td>85.985263</td>\n",
       "      <td>5</td>\n",
       "    </tr>\n",
       "    <tr>\n",
       "      <th>5</th>\n",
       "      <td>81.766208</td>\n",
       "      <td>6</td>\n",
       "    </tr>\n",
       "    <tr>\n",
       "      <th>6</th>\n",
       "      <td>78.105229</td>\n",
       "      <td>7</td>\n",
       "    </tr>\n",
       "    <tr>\n",
       "      <th>7</th>\n",
       "      <td>74.750560</td>\n",
       "      <td>8</td>\n",
       "    </tr>\n",
       "    <tr>\n",
       "      <th>8</th>\n",
       "      <td>71.537346</td>\n",
       "      <td>9</td>\n",
       "    </tr>\n",
       "    <tr>\n",
       "      <th>9</th>\n",
       "      <td>69.339397</td>\n",
       "      <td>10</td>\n",
       "    </tr>\n",
       "  </tbody>\n",
       "</table>\n",
       "</div>"
      ],
      "text/plain": [
       "   cluster_errors  num_clusters\n",
       "0      160.163456             1\n",
       "1      121.761762             2\n",
       "2      102.687069             3\n",
       "3       93.176687             4\n",
       "4       85.985263             5\n",
       "5       81.766208             6\n",
       "6       78.105229             7\n",
       "7       74.750560             8\n",
       "8       71.537346             9\n",
       "9       69.339397            10"
      ]
     },
     "execution_count": 396,
     "metadata": {},
     "output_type": "execute_result"
    }
   ],
   "source": [
    "clusters_dwf[0:10]"
   ]
  },
  {
   "cell_type": "code",
   "execution_count": 397,
   "metadata": {
    "collapsed": false
   },
   "outputs": [
    {
     "data": {
      "image/png": "[encoded data removed]",
      "text/plain": [
       "<matplotlib.figure.Figure at 0x11f5cffd0>"
      ]
     },
     "metadata": {},
     "output_type": "display_data"
    },
    {
     "data": {
      "image/png": "[encoded data removed]",
      "text/plain": [
       "<matplotlib.figure.Figure at 0x14d34dc18>"
      ]
     },
     "metadata": {},
     "output_type": "display_data"
    }
   ],
   "source": [
    "plt.figure(figsize=(12,6))\n",
    "plt.plot( clusters_dwf.num_clusters, clusters_dwf.cluster_errors, marker = \"o\" )\n",
    "plt.show()"
   ]
  },
  {
   "cell_type": "markdown",
   "metadata": {},
   "source": [
    "#### silhouette analysis"
   ]
  },
  {
   "cell_type": "markdown",
   "metadata": {},
   "source": [
    "- The silhouette value is a measure of how similar an object is to its own cluster (cohesion) compared to other clusters (separation).\n",
    "- The silhouette ranges from -1 to 1, where a high value indicates that the object is well matched to its own cluster and poorly matched to neighboring clusters.\n",
    "- If most objects have a high value, then the clustering configuration is appropriate. If many points have a low or negative value, then the clustering configuration may have too many or too few clusters.\n",
    "- The silhouette can be calculated with any distance metric, such as the Euclidean distance or the Manhattan distance."
   ]
  },
  {
   "cell_type": "markdown",
   "metadata": {},
   "source": [
    "Silhouette score of an observation is given by:\n",
    "\\begin{equation}\n",
    "s(i)=\\frac{b(i)−a(i)}{max[a(i),b(i)]}\n",
    "\\end{equation}"
   ]
  },
  {
   "cell_type": "markdown",
   "metadata": {},
   "source": [
    "From the above definition it is clear that silhoutte score always lies between:\n",
    "\n",
    "\\begin{equation}\n",
    "−1≤s(i)≤1−1≤s(i)≤1\n",
    "\\end{equation}\n",
    "Score closer to 1 means assigned to the cluster correctly and score closer to -1 is assigned to a wrong cluster. A score close to 0 means the point lies between almost at the boundary of both the clusters."
   ]
  },
  {
   "cell_type": "code",
   "execution_count": 398,
   "metadata": {
    "collapsed": false
   },
   "outputs": [
    {
     "name": "stdout",
     "output_type": "stream",
     "text": [
      "For n_clusters = 2 The average silhouette_score is : 0.215078805383\n"
     ]
    },
    {
     "data": {
      "image/png": "[encoded data removed]",
      "text/plain": [
       "<matplotlib.figure.Figure at 0x125a43438>"
      ]
     },
     "metadata": {},
     "output_type": "display_data"
    },
    {
     "name": "stdout",
     "output_type": "stream",
     "text": [
      "For n_clusters = 3 The average silhouette_score is : 0.21777661054\n"
     ]
    },
    {
     "data": {
      "image/png": "[encoded data removed]",
      "text/plain": [
       "<matplotlib.figure.Figure at 0x11e81ecc0>"
      ]
     },
     "metadata": {},
     "output_type": "display_data"
    },
    {
     "name": "stdout",
     "output_type": "stream",
     "text": [
      "For n_clusters = 4 The average silhouette_score is : 0.200795948139\n"
     ]
    },
    {
     "data": {
      "image/png": "[encoded data removed]",
      "text/plain": [
       "<matplotlib.figure.Figure at 0x11f202358>"
      ]
     },
     "metadata": {},
     "output_type": "display_data"
    },
    {
     "name": "stdout",
     "output_type": "stream",
     "text": [
      "For n_clusters = 5 The average silhouette_score is : 0.162860136601\n"
     ]
    },
    {
     "data": {
      "image/png": "[encoded data removed]",
      "text/plain": [
       "<matplotlib.figure.Figure at 0x121fa1160>"
      ]
     },
     "metadata": {},
     "output_type": "display_data"
    },
    {
     "name": "stdout",
     "output_type": "stream",
     "text": [
      "For n_clusters = 6 The average silhouette_score is : 0.14884496221\n"
     ]
    },
    {
     "data": {
      "image/png": "[encoded data removed]",
      "text/plain": [
       "<matplotlib.figure.Figure at 0x13378a550>"
      ]
     },
     "metadata": {},
     "output_type": "display_data"
    }
   ],
   "source": [
    "cluster_range = range( 2, 7 )\n",
    "\n",
    "for n_clusters in cluster_range:\n",
    "  # Create a subplot with 1 row and 2 columns\n",
    "  fig, (ax1, ax2) = plt.subplots(1, 2)\n",
    "  fig.set_size_inches(18, 7)\n",
    "\n",
    "  # The 1st subplot is the silhouette plot\n",
    "  # The silhouette coefficient can range from -1, 1 but in this example all\n",
    "  # lie within [-1, 1]\n",
    "  ax1.set_xlim([-1, 1])\n",
    "  # The (n_clusters+1)*10 is for inserting blank space between silhouette\n",
    "  # plots of individual clusters, to demarcate them clearly.\n",
    "  ax1.set_ylim([0, len(x_scaled) + (n_clusters + 1) * 10])\n",
    "\n",
    "  # Initialize the clusterer with n_clusters value and a random generator\n",
    "  # seed of 10 for reproducibility.\n",
    "  clusterer = KMeans(n_clusters=n_clusters, random_state=10)\n",
    "  cluster_labels = clusterer.fit_predict( x_scaled )\n",
    "\n",
    "  # The silhouette_score gives the average value for all the samples.\n",
    "  # This gives a perspective into the density and separation of the formed\n",
    "  # clusters\n",
    "  silhouette_avg = silhouette_score(x_scaled, cluster_labels)\n",
    "  print(\"For n_clusters =\", n_clusters,\n",
    "        \"The average silhouette_score is :\", silhouette_avg)\n",
    "\n",
    "  # Compute the silhouette scores for each sample\n",
    "  sample_silhouette_values = silhouette_samples(x_scaled, cluster_labels)\n",
    "\n",
    "  y_lower = 10\n",
    "  for i in range(n_clusters):\n",
    "      # Aggregate the silhouette scores for samples belonging to\n",
    "      # cluster i, and sort them\n",
    "      ith_cluster_silhouette_values = \\\n",
    "          sample_silhouette_values[cluster_labels == i]\n",
    "\n",
    "      ith_cluster_silhouette_values.sort()\n",
    "\n",
    "      size_cluster_i = ith_cluster_silhouette_values.shape[0]\n",
    "      y_upper = y_lower + size_cluster_i\n",
    "\n",
    "      color = cm.spectral(float(i) / n_clusters)\n",
    "      ax1.fill_betweenx(np.arange(y_lower, y_upper),\n",
    "                        0, ith_cluster_silhouette_values,\n",
    "                        facecolor=color, edgecolor=color, alpha=0.7)\n",
    "\n",
    "      # Label the silhouette plots with their cluster numbers at the middle\n",
    "      ax1.text(-0.1, y_lower + 0.5 * size_cluster_i, str(i))\n",
    "\n",
    "      # Compute the new y_lower for next plot\n",
    "      y_lower = y_upper + 10  # 10 for the 0 samples\n",
    "\n",
    "  ax1.set_title(\"The silhouette plot for the various clusters.\")\n",
    "  ax1.set_xlabel(\"The silhouette coefficient values\")\n",
    "  ax1.set_ylabel(\"Cluster label\")\n",
    "\n",
    "  # The vertical line for average silhoutte score of all the values\n",
    "  ax1.axvline(x=silhouette_avg, color=\"red\", linestyle=\"--\")\n",
    "\n",
    "  ax1.set_yticks([])  # Clear the yaxis labels / ticks\n",
    "  ax1.set_xticks([-0.2, 0, 0.2, 0.4, 0.6, 0.8, 1])\n",
    "\n",
    "  # 2nd Plot showing the actual clusters formed\n",
    "  colors = cm.spectral(cluster_labels.astype(float) / n_clusters)\n",
    "  ax2.scatter(x_scaled[:, 0], x_scaled[:, 1], marker='.', s=30, lw=0, alpha=0.7,\n",
    "              c=colors)\n",
    "\n",
    "  # Labeling the clusters\n",
    "  centers = clusterer.cluster_centers_\n",
    "  # Draw white circles at cluster centers\n",
    "  ax2.scatter(centers[:, 0], centers[:, 1],\n",
    "              marker='o', c=\"white\", alpha=1, s=200)\n",
    "\n",
    "  for i, c in enumerate(centers):\n",
    "      ax2.scatter(c[0], c[1], marker='$%d$' % i, alpha=1, s=50)\n",
    "\n",
    "  ax2.set_title(\"The visualization of the clustered data.\")\n",
    "  ax2.set_xlabel(\"Feature space for the 1st feature\")\n",
    "  ax2.set_ylabel(\"Feature space for the 2nd feature\")\n",
    "\n",
    "  plt.suptitle((\"Silhouette analysis for KMeans clustering \"\n",
    "                \"with n_clusters = %d\" % n_clusters),\n",
    "               fontsize=14, fontweight='bold')\n",
    "\n",
    "  plt.show()"
   ]
  },
  {
   "cell_type": "markdown",
   "metadata": {},
   "source": [
    "Silhouette analysis for KMeans clustering show that the number of clusters with the highest values of the eleven statistics used, are n = 2, 3, 4 with an average silhouette score of 0.215, 0.217 and 0.200 respectfully.\n",
    "<br>\n",
    "This indicates that the most natural cluster size were within this range. From a hockey perspective, since there are 4 forward lines, the optimal number of clusters for centers, left and right wingers are 4. \n",
    "\n",
    "- Top Line (C, LW, RW) \n",
    "- Second Line (C, LW, RW)\n",
    "- Third Line (C, LW, RW)\n",
    "- Fourth Line (C, LW, RW) \n"
   ]
  },
  {
   "cell_type": "markdown",
   "metadata": {},
   "source": [
    "#### clusters for defensemen"
   ]
  },
  {
   "cell_type": "markdown",
   "metadata": {},
   "source": [
    "- create a data frame for defensemen (LD, RD) and exclude faceoff per time on ice (MFaceoffs) variable. Follow the same process as above (forwards)."
   ]
  },
  {
   "cell_type": "code",
   "execution_count": 399,
   "metadata": {
    "collapsed": false
   },
   "outputs": [
    {
     "data": {
      "text/html": [
       "<div>\n",
       "<table border=\"1\" class=\"dataframe\">\n",
       "  <thead>\n",
       "    <tr style=\"text-align: right;\">\n",
       "      <th></th>\n",
       "      <th>Season</th>\n",
       "      <th>TeamCode</th>\n",
       "      <th>PlayerNumber</th>\n",
       "      <th>PlayerName</th>\n",
       "      <th>Position</th>\n",
       "      <th>GP</th>\n",
       "      <th>Goals</th>\n",
       "      <th>Assists</th>\n",
       "      <th>Points</th>\n",
       "      <th>Shots</th>\n",
       "      <th>Blocks</th>\n",
       "      <th>Hits</th>\n",
       "      <th>Faceoffs</th>\n",
       "      <th>Misses</th>\n",
       "      <th>Penalties</th>\n",
       "      <th>Giveaways</th>\n",
       "      <th>Takeaways</th>\n",
       "      <th>TOI</th>\n",
       "      <th>ATOI</th>\n",
       "      <th>MGoals</th>\n",
       "      <th>MAssists</th>\n",
       "      <th>MPoints</th>\n",
       "      <th>MShots</th>\n",
       "      <th>MBlocks</th>\n",
       "      <th>MHits</th>\n",
       "      <th>MFaceoffs</th>\n",
       "      <th>MMisses</th>\n",
       "      <th>MPenalties</th>\n",
       "      <th>MGiveaways</th>\n",
       "      <th>MTakeaways</th>\n",
       "    </tr>\n",
       "  </thead>\n",
       "  <tbody>\n",
       "    <tr>\n",
       "      <th>1016</th>\n",
       "      <td>2010</td>\n",
       "      <td>PHI</td>\n",
       "      <td>24.0</td>\n",
       "      <td>BOYNTON</td>\n",
       "      <td>LD</td>\n",
       "      <td>10</td>\n",
       "      <td>0</td>\n",
       "      <td>0</td>\n",
       "      <td>0</td>\n",
       "      <td>1</td>\n",
       "      <td>13</td>\n",
       "      <td>11</td>\n",
       "      <td>0</td>\n",
       "      <td>4</td>\n",
       "      <td>2</td>\n",
       "      <td>1</td>\n",
       "      <td>0</td>\n",
       "      <td>102.48</td>\n",
       "      <td>10.25</td>\n",
       "      <td>0.00000</td>\n",
       "      <td>0.000000</td>\n",
       "      <td>0.000000</td>\n",
       "      <td>0.009758</td>\n",
       "      <td>0.126854</td>\n",
       "      <td>0.107338</td>\n",
       "      <td>0.0</td>\n",
       "      <td>0.039032</td>\n",
       "      <td>0.019516</td>\n",
       "      <td>0.009758</td>\n",
       "      <td>0.000000</td>\n",
       "    </tr>\n",
       "    <tr>\n",
       "      <th>934</th>\n",
       "      <td>2010</td>\n",
       "      <td>COL</td>\n",
       "      <td>43.0</td>\n",
       "      <td>GAUNCE</td>\n",
       "      <td>LD</td>\n",
       "      <td>10</td>\n",
       "      <td>1</td>\n",
       "      <td>0</td>\n",
       "      <td>1</td>\n",
       "      <td>4</td>\n",
       "      <td>7</td>\n",
       "      <td>10</td>\n",
       "      <td>0</td>\n",
       "      <td>3</td>\n",
       "      <td>5</td>\n",
       "      <td>5</td>\n",
       "      <td>1</td>\n",
       "      <td>140.05</td>\n",
       "      <td>12.73</td>\n",
       "      <td>0.00714</td>\n",
       "      <td>0.000000</td>\n",
       "      <td>0.007140</td>\n",
       "      <td>0.028561</td>\n",
       "      <td>0.049982</td>\n",
       "      <td>0.071403</td>\n",
       "      <td>0.0</td>\n",
       "      <td>0.021421</td>\n",
       "      <td>0.035702</td>\n",
       "      <td>0.035702</td>\n",
       "      <td>0.007140</td>\n",
       "    </tr>\n",
       "    <tr>\n",
       "      <th>548</th>\n",
       "      <td>2010</td>\n",
       "      <td>LA</td>\n",
       "      <td>6.0</td>\n",
       "      <td>MUZZIN</td>\n",
       "      <td>RD</td>\n",
       "      <td>11</td>\n",
       "      <td>0</td>\n",
       "      <td>1</td>\n",
       "      <td>1</td>\n",
       "      <td>8</td>\n",
       "      <td>2</td>\n",
       "      <td>22</td>\n",
       "      <td>0</td>\n",
       "      <td>2</td>\n",
       "      <td>0</td>\n",
       "      <td>7</td>\n",
       "      <td>2</td>\n",
       "      <td>150.85</td>\n",
       "      <td>13.71</td>\n",
       "      <td>0.00000</td>\n",
       "      <td>0.006629</td>\n",
       "      <td>0.006629</td>\n",
       "      <td>0.053033</td>\n",
       "      <td>0.013258</td>\n",
       "      <td>0.145840</td>\n",
       "      <td>0.0</td>\n",
       "      <td>0.013258</td>\n",
       "      <td>0.000000</td>\n",
       "      <td>0.046404</td>\n",
       "      <td>0.013258</td>\n",
       "    </tr>\n",
       "    <tr>\n",
       "      <th>1023</th>\n",
       "      <td>2010</td>\n",
       "      <td>TOR</td>\n",
       "      <td>29.0</td>\n",
       "      <td>LASHOFF</td>\n",
       "      <td>LD</td>\n",
       "      <td>11</td>\n",
       "      <td>0</td>\n",
       "      <td>1</td>\n",
       "      <td>1</td>\n",
       "      <td>8</td>\n",
       "      <td>14</td>\n",
       "      <td>10</td>\n",
       "      <td>0</td>\n",
       "      <td>7</td>\n",
       "      <td>3</td>\n",
       "      <td>4</td>\n",
       "      <td>6</td>\n",
       "      <td>152.16</td>\n",
       "      <td>13.83</td>\n",
       "      <td>0.00000</td>\n",
       "      <td>0.006572</td>\n",
       "      <td>0.006572</td>\n",
       "      <td>0.052576</td>\n",
       "      <td>0.092008</td>\n",
       "      <td>0.065720</td>\n",
       "      <td>0.0</td>\n",
       "      <td>0.046004</td>\n",
       "      <td>0.019716</td>\n",
       "      <td>0.026288</td>\n",
       "      <td>0.039432</td>\n",
       "    </tr>\n",
       "    <tr>\n",
       "      <th>968</th>\n",
       "      <td>2010</td>\n",
       "      <td>NYI</td>\n",
       "      <td>71.0</td>\n",
       "      <td>KATIC</td>\n",
       "      <td>LD</td>\n",
       "      <td>11</td>\n",
       "      <td>0</td>\n",
       "      <td>1</td>\n",
       "      <td>1</td>\n",
       "      <td>8</td>\n",
       "      <td>21</td>\n",
       "      <td>8</td>\n",
       "      <td>0</td>\n",
       "      <td>2</td>\n",
       "      <td>1</td>\n",
       "      <td>4</td>\n",
       "      <td>13</td>\n",
       "      <td>180.70</td>\n",
       "      <td>16.43</td>\n",
       "      <td>0.00000</td>\n",
       "      <td>0.005534</td>\n",
       "      <td>0.005534</td>\n",
       "      <td>0.044272</td>\n",
       "      <td>0.116215</td>\n",
       "      <td>0.044272</td>\n",
       "      <td>0.0</td>\n",
       "      <td>0.011068</td>\n",
       "      <td>0.005534</td>\n",
       "      <td>0.022136</td>\n",
       "      <td>0.071942</td>\n",
       "    </tr>\n",
       "  </tbody>\n",
       "</table>\n",
       "</div>"
      ],
      "text/plain": [
       "      Season TeamCode  PlayerNumber PlayerName Position  GP  Goals  Assists  \\\n",
       "1016    2010      PHI          24.0    BOYNTON       LD  10      0        0   \n",
       "934     2010      COL          43.0     GAUNCE       LD  10      1        0   \n",
       "548     2010       LA           6.0     MUZZIN       RD  11      0        1   \n",
       "1023    2010      TOR          29.0    LASHOFF       LD  11      0        1   \n",
       "968     2010      NYI          71.0      KATIC       LD  11      0        1   \n",
       "\n",
       "      Points  Shots  Blocks  Hits  Faceoffs  Misses  Penalties  Giveaways  \\\n",
       "1016       0      1      13    11         0       4          2          1   \n",
       "934        1      4       7    10         0       3          5          5   \n",
       "548        1      8       2    22         0       2          0          7   \n",
       "1023       1      8      14    10         0       7          3          4   \n",
       "968        1      8      21     8         0       2          1          4   \n",
       "\n",
       "      Takeaways     TOI   ATOI   MGoals  MAssists   MPoints    MShots  \\\n",
       "1016          0  102.48  10.25  0.00000  0.000000  0.000000  0.009758   \n",
       "934           1  140.05  12.73  0.00714  0.000000  0.007140  0.028561   \n",
       "548           2  150.85  13.71  0.00000  0.006629  0.006629  0.053033   \n",
       "1023          6  152.16  13.83  0.00000  0.006572  0.006572  0.052576   \n",
       "968          13  180.70  16.43  0.00000  0.005534  0.005534  0.044272   \n",
       "\n",
       "       MBlocks     MHits  MFaceoffs   MMisses  MPenalties  MGiveaways  \\\n",
       "1016  0.126854  0.107338        0.0  0.039032    0.019516    0.009758   \n",
       "934   0.049982  0.071403        0.0  0.021421    0.035702    0.035702   \n",
       "548   0.013258  0.145840        0.0  0.013258    0.000000    0.046404   \n",
       "1023  0.092008  0.065720        0.0  0.046004    0.019716    0.026288   \n",
       "968   0.116215  0.044272        0.0  0.011068    0.005534    0.022136   \n",
       "\n",
       "      MTakeaways  \n",
       "1016    0.000000  \n",
       "934     0.007140  \n",
       "548     0.013258  \n",
       "1023    0.039432  \n",
       "968     0.071942  "
      ]
     },
     "execution_count": 399,
     "metadata": {},
     "output_type": "execute_result"
    }
   ],
   "source": [
    "dwd = dw1[(dw1['Position'] != 'C') & (dw1['Position'] != 'LW') & (dw1['Position'] != 'RW')]\n",
    "dwd = dwd.sort_values(['GP', 'TOI'], ascending=[True, True])\n",
    "dwd.head()"
   ]
  },
  {
   "cell_type": "code",
   "execution_count": 400,
   "metadata": {
    "collapsed": false
   },
   "outputs": [
    {
     "data": {
      "text/plain": [
       "(274, 30)"
      ]
     },
     "execution_count": 400,
     "metadata": {},
     "output_type": "execute_result"
    }
   ],
   "source": [
    "dwd.shape"
   ]
  },
  {
   "cell_type": "code",
   "execution_count": 401,
   "metadata": {
    "collapsed": true
   },
   "outputs": [],
   "source": [
    "scaler = MinMaxScaler()\n",
    "#scaler = StandardScaler()\n",
    "d = dwd[['MGoals', 'MAssists', 'MPoints', 'MShots', 'MBlocks', 'MHits', 'MMisses', 'MPenalties', 'MGiveaways', 'MTakeaways']] \n",
    "d_scaled = scaler.fit_transform( d )"
   ]
  },
  {
   "cell_type": "markdown",
   "metadata": {},
   "source": [
    "#### dendrogram"
   ]
  },
  {
   "cell_type": "code",
   "execution_count": 402,
   "metadata": {
    "collapsed": true
   },
   "outputs": [],
   "source": [
    "cmap = sn.cubehelix_palette(as_cmap=True, rot=-.3, light=1)"
   ]
  },
  {
   "cell_type": "code",
   "execution_count": 403,
   "metadata": {
    "collapsed": false
   },
   "outputs": [
    {
     "name": "stderr",
     "output_type": "stream",
     "text": [
      "/anaconda/lib/python3.6/site-packages/matplotlib/cbook.py:136: MatplotlibDeprecationWarning: The axisbg attribute was deprecated in version 2.0. Use facecolor instead.\n",
      "  warnings.warn(message, mplDeprecation, stacklevel=1)\n"
     ]
    },
    {
     "data": {
      "text/plain": [
       "<seaborn.matrix.ClusterGrid at 0x12650e8d0>"
      ]
     },
     "execution_count": 403,
     "metadata": {},
     "output_type": "execute_result"
    }
   ],
   "source": [
    "sn.clustermap(d_scaled, cmap=cmap, linewidths=.5)"
   ]
  },
  {
   "cell_type": "markdown",
   "metadata": {},
   "source": [
    "#### elbow analysis"
   ]
  },
  {
   "cell_type": "code",
   "execution_count": 404,
   "metadata": {
    "collapsed": true
   },
   "outputs": [],
   "source": [
    "cluster_range = range( 1, 20 )\n",
    "cluster_errors = []\n",
    "\n",
    "for num_clusters in cluster_range:\n",
    "  clusters = KMeans( num_clusters )\n",
    "  clusters.fit( d_scaled )\n",
    "  cluster_errors.append( clusters.inertia_ )"
   ]
  },
  {
   "cell_type": "code",
   "execution_count": 405,
   "metadata": {
    "collapsed": false
   },
   "outputs": [
    {
     "data": {
      "text/html": [
       "<div>\n",
       "<table border=\"1\" class=\"dataframe\">\n",
       "  <thead>\n",
       "    <tr style=\"text-align: right;\">\n",
       "      <th></th>\n",
       "      <th>cluster_errors</th>\n",
       "      <th>num_clusters</th>\n",
       "    </tr>\n",
       "  </thead>\n",
       "  <tbody>\n",
       "    <tr>\n",
       "      <th>0</th>\n",
       "      <td>75.827944</td>\n",
       "      <td>1</td>\n",
       "    </tr>\n",
       "    <tr>\n",
       "      <th>1</th>\n",
       "      <td>54.430837</td>\n",
       "      <td>2</td>\n",
       "    </tr>\n",
       "    <tr>\n",
       "      <th>2</th>\n",
       "      <td>48.555500</td>\n",
       "      <td>3</td>\n",
       "    </tr>\n",
       "    <tr>\n",
       "      <th>3</th>\n",
       "      <td>44.719175</td>\n",
       "      <td>4</td>\n",
       "    </tr>\n",
       "    <tr>\n",
       "      <th>4</th>\n",
       "      <td>41.372924</td>\n",
       "      <td>5</td>\n",
       "    </tr>\n",
       "    <tr>\n",
       "      <th>5</th>\n",
       "      <td>39.428142</td>\n",
       "      <td>6</td>\n",
       "    </tr>\n",
       "    <tr>\n",
       "      <th>6</th>\n",
       "      <td>37.679474</td>\n",
       "      <td>7</td>\n",
       "    </tr>\n",
       "    <tr>\n",
       "      <th>7</th>\n",
       "      <td>36.439033</td>\n",
       "      <td>8</td>\n",
       "    </tr>\n",
       "    <tr>\n",
       "      <th>8</th>\n",
       "      <td>34.988249</td>\n",
       "      <td>9</td>\n",
       "    </tr>\n",
       "    <tr>\n",
       "      <th>9</th>\n",
       "      <td>33.745159</td>\n",
       "      <td>10</td>\n",
       "    </tr>\n",
       "  </tbody>\n",
       "</table>\n",
       "</div>"
      ],
      "text/plain": [
       "   cluster_errors  num_clusters\n",
       "0       75.827944             1\n",
       "1       54.430837             2\n",
       "2       48.555500             3\n",
       "3       44.719175             4\n",
       "4       41.372924             5\n",
       "5       39.428142             6\n",
       "6       37.679474             7\n",
       "7       36.439033             8\n",
       "8       34.988249             9\n",
       "9       33.745159            10"
      ]
     },
     "execution_count": 405,
     "metadata": {},
     "output_type": "execute_result"
    }
   ],
   "source": [
    "clusters_dwd = pd.DataFrame( { \"num_clusters\":cluster_range, \"cluster_errors\": cluster_errors } )\n",
    "clusters_dwd[0:10]"
   ]
  },
  {
   "cell_type": "code",
   "execution_count": 406,
   "metadata": {
    "collapsed": false
   },
   "outputs": [
    {
     "data": {
      "image/png": "[encoded data removed]",
      "text/plain": [
       "<matplotlib.figure.Figure at 0x11fb36da0>"
      ]
     },
     "metadata": {},
     "output_type": "display_data"
    },
    {
     "data": {
      "image/png": "[encoded data removed]",
      "text/plain": [
       "<matplotlib.figure.Figure at 0x14e6c4630>"
      ]
     },
     "metadata": {},
     "output_type": "display_data"
    }
   ],
   "source": [
    "plt.figure(figsize=(12,6))\n",
    "plt.plot( clusters_dwd.num_clusters, clusters_dwf.cluster_errors, marker = \"o\" )\n",
    "plt.show()"
   ]
  },
  {
   "cell_type": "markdown",
   "metadata": {},
   "source": [
    "#### silhouette analysis"
   ]
  },
  {
   "cell_type": "code",
   "execution_count": 407,
   "metadata": {
    "collapsed": false
   },
   "outputs": [
    {
     "name": "stdout",
     "output_type": "stream",
     "text": [
      "For n_clusters = 2 The average silhouette_score is : 0.249331901339\n"
     ]
    },
    {
     "data": {
      "image/png": "[encoded data removed]",
      "text/plain": [
       "<matplotlib.figure.Figure at 0x133abd588>"
      ]
     },
     "metadata": {},
     "output_type": "display_data"
    },
    {
     "name": "stdout",
     "output_type": "stream",
     "text": [
      "For n_clusters = 3 The average silhouette_score is : 0.173874216575\n"
     ]
    },
    {
     "data": {
      "image/png": "[encoded data removed]",
      "text/plain": [
       "<matplotlib.figure.Figure at 0x131e34940>"
      ]
     },
     "metadata": {},
     "output_type": "display_data"
    },
    {
     "name": "stdout",
     "output_type": "stream",
     "text": [
      "For n_clusters = 4 The average silhouette_score is : 0.141614852845\n"
     ]
    },
    {
     "data": {
      "image/png": "[encoded data removed]",
      "text/plain": [
       "<matplotlib.figure.Figure at 0x131ccebe0>"
      ]
     },
     "metadata": {},
     "output_type": "display_data"
    },
    {
     "name": "stdout",
     "output_type": "stream",
     "text": [
      "For n_clusters = 5 The average silhouette_score is : 0.133496933471\n"
     ]
    },
    {
     "data": {
      "image/png": "[encoded data removed]",
      "text/plain": [
       "<matplotlib.figure.Figure at 0x1331d9358>"
      ]
     },
     "metadata": {},
     "output_type": "display_data"
    }
   ],
   "source": [
    "cluster_range = range( 2, 6 )\n",
    "\n",
    "for n_clusters in cluster_range:\n",
    "  # Create a subplot with 1 row and 2 columns\n",
    "  fig, (ax1, ax2) = plt.subplots(1, 2)\n",
    "  fig.set_size_inches(18, 7)\n",
    "\n",
    "  # The 1st subplot is the silhouette plot\n",
    "  # The silhouette coefficient can range from -1, 1 but in this example all\n",
    "  # lie within [-0.1, 1]\n",
    "  ax1.set_xlim([-0.1, 1])\n",
    "  # The (n_clusters+1)*10 is for inserting blank space between silhouette\n",
    "  # plots of individual clusters, to demarcate them clearly.\n",
    "  ax1.set_ylim([0, len(d_scaled) + (n_clusters + 1) * 10])\n",
    "\n",
    "  # Initialize the clusterer with n_clusters value and a random generator\n",
    "  # seed of 10 for reproducibility.\n",
    "  clusterer = KMeans(n_clusters=n_clusters, random_state=10)\n",
    "  cluster_labels = clusterer.fit_predict( d_scaled )\n",
    "\n",
    "  # The silhouette_score gives the average value for all the samples.\n",
    "  # This gives a perspective into the density and separation of the formed\n",
    "  # clusters\n",
    "  silhouette_avg = silhouette_score(d_scaled, cluster_labels)\n",
    "  print(\"For n_clusters =\", n_clusters,\n",
    "        \"The average silhouette_score is :\", silhouette_avg)\n",
    "\n",
    "  # Compute the silhouette scores for each sample\n",
    "  sample_silhouette_values = silhouette_samples(d_scaled, cluster_labels)\n",
    "\n",
    "  y_lower = 10\n",
    "  for i in range(n_clusters):\n",
    "      # Aggregate the silhouette scores for samples belonging to\n",
    "      # cluster i, and sort them\n",
    "      ith_cluster_silhouette_values = \\\n",
    "          sample_silhouette_values[cluster_labels == i]\n",
    "\n",
    "      ith_cluster_silhouette_values.sort()\n",
    "\n",
    "      size_cluster_i = ith_cluster_silhouette_values.shape[0]\n",
    "      y_upper = y_lower + size_cluster_i\n",
    "\n",
    "      color = cm.spectral(float(i) / n_clusters)\n",
    "      ax1.fill_betweenx(np.arange(y_lower, y_upper),\n",
    "                        0, ith_cluster_silhouette_values,\n",
    "                        facecolor=color, edgecolor=color, alpha=0.7)\n",
    "\n",
    "      # Label the silhouette plots with their cluster numbers at the middle\n",
    "      ax1.text(-0.05, y_lower + 0.5 * size_cluster_i, str(i))\n",
    "\n",
    "      # Compute the new y_lower for next plot\n",
    "      y_lower = y_upper + 10  # 10 for the 0 samples\n",
    "\n",
    "  ax1.set_title(\"The silhouette plot for the various clusters.\")\n",
    "  ax1.set_xlabel(\"The silhouette coefficient values\")\n",
    "  ax1.set_ylabel(\"Cluster label\")\n",
    "\n",
    "  # The vertical line for average silhoutte score of all the values\n",
    "  ax1.axvline(x=silhouette_avg, color=\"red\", linestyle=\"--\")\n",
    "\n",
    "  ax1.set_yticks([])  # Clear the yaxis labels / ticks\n",
    "  ax1.set_xticks([-0.1, 0, 0.2, 0.4, 0.6, 0.8, 1])\n",
    "\n",
    "  # 2nd Plot showing the actual clusters formed\n",
    "  colors = cm.spectral(cluster_labels.astype(float) / n_clusters)\n",
    "  ax2.scatter(d_scaled[:, 0], d_scaled[:, 1], marker='.', s=30, lw=0, alpha=0.7,\n",
    "              c=colors)\n",
    "\n",
    "  # Labeling the clusters\n",
    "  centers = clusterer.cluster_centers_\n",
    "  # Draw white circles at cluster centers\n",
    "  ax2.scatter(centers[:, 0], centers[:, 1],\n",
    "              marker='o', c=\"white\", alpha=1, s=200)\n",
    "\n",
    "  for i, c in enumerate(centers):\n",
    "      ax2.scatter(c[0], c[1], marker='$%d$' % i, alpha=1, s=50)\n",
    "\n",
    "  ax2.set_title(\"The visualization of the clustered data.\")\n",
    "  ax2.set_xlabel(\"Feature space for the 1st feature\")\n",
    "  ax2.set_ylabel(\"Feature space for the 2nd feature\")\n",
    "\n",
    "  plt.suptitle((\"Silhouette analysis for KMeans clustering \"\n",
    "                \"with n_clusters = %d\" % n_clusters),\n",
    "               fontsize=14, fontweight='bold')\n",
    "\n",
    "  plt.show()"
   ]
  },
  {
   "cell_type": "markdown",
   "metadata": {
    "collapsed": true
   },
   "source": [
    "Silhouette analysis for KMeans clustering of defensemen shows that the number of clusters with the highest values of the eleven statistics used, are $n$ = 2, 3, 4. These clusters have an average silhouette score of 0.249, 0.173 and 0.141 respectfully. \n",
    "This indicates that the most natural cluster size were within this range. From a hockey perspective, since there are 3 defensive pairings, the optimal number of clusters for left and right defensemen are 3. \n",
    "- Top Two Defensive Pairing (LD, RD)\n",
    "- Top Four Defensive Pairing (LD, RD)\n",
    "- Bottom Defensive Pairing (LD, RD)\n"
   ]
  },
  {
   "cell_type": "code",
   "execution_count": null,
   "metadata": {
    "collapsed": true
   },
   "outputs": [],
   "source": []
  },
  {
   "cell_type": "code",
   "execution_count": null,
   "metadata": {
    "collapsed": true
   },
   "outputs": [],
   "source": []
  },
  {
   "cell_type": "code",
   "execution_count": null,
   "metadata": {
    "collapsed": true
   },
   "outputs": [],
   "source": []
  },
  {
   "cell_type": "code",
   "execution_count": null,
   "metadata": {
    "collapsed": true
   },
   "outputs": [],
   "source": []
  }
 ],
 "metadata": {
  "kernelspec": {
   "display_name": "Python 3",
   "language": "python",
   "name": "python3"
  },
  "language_info": {
   "codemirror_mode": {
    "name": "ipython",
    "version": 3
   },
   "file_extension": ".py",
   "mimetype": "text/x-python",
   "name": "python",
   "nbconvert_exporter": "python",
   "pygments_lexer": "ipython3",
   "version": "3.6.0"
  }
 },
 "nbformat": 4,
 "nbformat_minor": 2
}
