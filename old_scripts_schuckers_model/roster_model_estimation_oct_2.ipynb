{
 "cells": [
  {
   "cell_type": "markdown",
   "metadata": {},
   "source": [
    "## roster model estimation"
   ]
  },
  {
   "cell_type": "markdown",
   "metadata": {},
   "source": [
    "To determine the impact each roster position has on team success, we need to examine the quality of players per game and the result of each game. For each roster position, there will be elite players and secondary players per team. Elite players will be assinged a value of 1 whereas secondary players, a value 2."
   ]
  },
  {
   "cell_type": "code",
   "execution_count": 2,
   "metadata": {
    "collapsed": true
   },
   "outputs": [],
   "source": [
    "import sys\n",
    "import os\n",
    "import pandas as pd\n",
    "import numpy as np\n",
    "import datetime, time\n",
    "import matplotlib.pyplot as plt\n",
    "import statsmodels.api as sm\n",
    "from statsmodels.formula.api import ols\n",
    "from pylab import hist, show\n",
    "import scipy"
   ]
  },
  {
   "cell_type": "markdown",
   "metadata": {},
   "source": [
    "### import data sets  \"play by play goal detail\" and \"game detail\""
   ]
  },
  {
   "cell_type": "code",
   "execution_count": 3,
   "metadata": {
    "collapsed": false
   },
   "outputs": [],
   "source": [
    "ds = pd.read_csv('source_data/t_play_by_play_goal_detail_o.csv')\n",
    "ds = ds.rename(columns={'TeamCode': 'GoalTeamCode'})\n",
    "ds = ds[ds['GameNumber'] <= 21230]"
   ]
  },
  {
   "cell_type": "code",
   "execution_count": 4,
   "metadata": {
    "collapsed": false
   },
   "outputs": [
    {
     "data": {
      "text/plain": [
       "Index(['GameNumber', 'EventNumber', 'GoalTeamCode', 'PlayerNumber',\n",
       "       'PlayerLName', 'ShotType', 'Zone', 'Length', 'Season'],\n",
       "      dtype='object')"
      ]
     },
     "execution_count": 4,
     "metadata": {},
     "output_type": "execute_result"
    }
   ],
   "source": [
    "ds.columns"
   ]
  },
  {
   "cell_type": "code",
   "execution_count": 5,
   "metadata": {
    "collapsed": true
   },
   "outputs": [],
   "source": [
    "dg = pd.read_csv('source_data/t_game_detail_o.csv')\n",
    "dg = dg[dg['GameNumber'] <= 21230]"
   ]
  },
  {
   "cell_type": "code",
   "execution_count": 6,
   "metadata": {
    "collapsed": false
   },
   "outputs": [
    {
     "data": {
      "text/plain": [
       "(1230, 5)"
      ]
     },
     "execution_count": 6,
     "metadata": {},
     "output_type": "execute_result"
    }
   ],
   "source": [
    "dg.shape"
   ]
  },
  {
   "cell_type": "code",
   "execution_count": 7,
   "metadata": {
    "collapsed": false
   },
   "outputs": [
    {
     "data": {
      "text/plain": [
       "Index(['GameNumber', 'EventNumber', 'GoalTeamCode', 'PlayerNumber',\n",
       "       'PlayerLName', 'ShotType', 'Zone', 'Length', 'Season'],\n",
       "      dtype='object')"
      ]
     },
     "execution_count": 7,
     "metadata": {},
     "output_type": "execute_result"
    }
   ],
   "source": [
    "ds.columns"
   ]
  },
  {
   "cell_type": "markdown",
   "metadata": {},
   "source": [
    "### merge game detail onto scoring detail"
   ]
  },
  {
   "cell_type": "code",
   "execution_count": 8,
   "metadata": {
    "collapsed": false
   },
   "outputs": [],
   "source": [
    "ds = ds.merge(dg, on=['Season', 'GameNumber'], how='left')\n",
    "ds.sort_values(['Season', 'GameNumber'], ascending=[True, True], inplace=True)\n",
    "ds = ds[['Season', 'GameNumber', 'GameDate', 'EventNumber', 'VTeamCode', 'HTeamCode', 'GoalTeamCode', 'PlayerNumber', 'PlayerLName', 'ShotType', 'Zone', 'Length']]"
   ]
  },
  {
   "cell_type": "markdown",
   "metadata": {},
   "source": [
    "- create column that displays the number of goals by team per game. Generate 2 goal columns, one for visitor team and one for home team. Display the team that won each game. Create an indicator to show if home team won the game. Fill NaN for visitor or home goals, if team did not score during a given game."
   ]
  },
  {
   "cell_type": "code",
   "execution_count": 9,
   "metadata": {
    "collapsed": false
   },
   "outputs": [],
   "source": [
    "ds['goals'] = ds.groupby(['Season', 'GameNumber', 'GoalTeamCode'])['GoalTeamCode'].transform('count')\n"
   ]
  },
  {
   "cell_type": "code",
   "execution_count": 10,
   "metadata": {
    "collapsed": false
   },
   "outputs": [],
   "source": [
    "ds['vgoals'] = np.where(ds['GoalTeamCode'] == ds['VTeamCode'], ds['goals'], np.nan)\n",
    "ds['hgoals'] = np.where(ds['GoalTeamCode'] == ds['HTeamCode'], ds['goals'], np.nan)"
   ]
  },
  {
   "cell_type": "code",
   "execution_count": 11,
   "metadata": {
    "collapsed": true
   },
   "outputs": [],
   "source": [
    "ds['vgoals'] = ds.groupby(['Season', 'GameNumber'])['vgoals'].ffill()\n",
    "ds['vgoals'] = ds.groupby(['Season', 'GameNumber'])['vgoals'].bfill()\n",
    "ds['vgoals'] = ds['vgoals'].fillna(0)\n",
    "ds['hgoals'] = ds.groupby(['Season', 'GameNumber'])['hgoals'].ffill()\n",
    "ds['hgoals'] = ds.groupby(['Season', 'GameNumber'])['hgoals'].bfill()\n",
    "ds['hgoals'] = ds['hgoals'].fillna(0)"
   ]
  },
  {
   "cell_type": "code",
   "execution_count": 12,
   "metadata": {
    "collapsed": false
   },
   "outputs": [],
   "source": [
    "ds['WinTeamCode'] = np.where(ds['hgoals'] > ds['vgoals'], ds['HTeamCode'], ds['VTeamCode'])"
   ]
  },
  {
   "cell_type": "code",
   "execution_count": 13,
   "metadata": {
    "collapsed": false
   },
   "outputs": [],
   "source": [
    "ds['HomeWin'] = ds.apply(lambda x: 1 if x['WinTeamCode'] == x['HTeamCode'] else 0, axis=1)"
   ]
  },
  {
   "cell_type": "markdown",
   "metadata": {},
   "source": [
    "- keep one observation per game."
   ]
  },
  {
   "cell_type": "code",
   "execution_count": 14,
   "metadata": {
    "collapsed": false
   },
   "outputs": [
    {
     "data": {
      "text/plain": [
       "Season          0\n",
       "GameNumber      0\n",
       "GameDate        0\n",
       "EventNumber     0\n",
       "VTeamCode       0\n",
       "HTeamCode       0\n",
       "GoalTeamCode    0\n",
       "PlayerNumber    0\n",
       "PlayerLName     0\n",
       "ShotType        0\n",
       "Zone            0\n",
       "Length          0\n",
       "goals           0\n",
       "vgoals          0\n",
       "hgoals          0\n",
       "WinTeamCode     0\n",
       "HomeWin         0\n",
       "dtype: int64"
      ]
     },
     "execution_count": 14,
     "metadata": {},
     "output_type": "execute_result"
    }
   ],
   "source": [
    "ds.isnull().sum()"
   ]
  },
  {
   "cell_type": "code",
   "execution_count": 15,
   "metadata": {
    "collapsed": false
   },
   "outputs": [
    {
     "data": {
      "text/plain": [
       "(7043, 17)"
      ]
     },
     "execution_count": 15,
     "metadata": {},
     "output_type": "execute_result"
    }
   ],
   "source": [
    "ds.shape"
   ]
  },
  {
   "cell_type": "code",
   "execution_count": 16,
   "metadata": {
    "collapsed": true
   },
   "outputs": [],
   "source": [
    "ds = ds.drop_duplicates(['GameNumber'])"
   ]
  },
  {
   "cell_type": "markdown",
   "metadata": {},
   "source": [
    "- save data set."
   ]
  },
  {
   "cell_type": "code",
   "execution_count": 17,
   "metadata": {
    "collapsed": true
   },
   "outputs": [],
   "source": [
    "ds.to_csv('out_data/game_win_team.csv', index='False', sep=',')"
   ]
  },
  {
   "cell_type": "markdown",
   "metadata": {},
   "source": [
    "### merge game win team onto team quality roster"
   ]
  },
  {
   "cell_type": "markdown",
   "metadata": {},
   "source": [
    "- keep only columns that are relevant to team quality, merge data frames and sort values."
   ]
  },
  {
   "cell_type": "code",
   "execution_count": 18,
   "metadata": {
    "collapsed": true
   },
   "outputs": [],
   "source": [
    "ds = ds[['Season', 'GameNumber', 'GameDate', 'VTeamCode', 'HTeamCode', 'vgoals', 'hgoals', 'WinTeamCode', 'HomeWin']]"
   ]
  },
  {
   "cell_type": "code",
   "execution_count": 19,
   "metadata": {
    "collapsed": true
   },
   "outputs": [],
   "source": [
    "dm = pd.read_csv('out_data/team_roster_quality.csv')\n",
    "dm = dm.drop('Unnamed: 0', axis=1)"
   ]
  },
  {
   "cell_type": "code",
   "execution_count": 20,
   "metadata": {
    "collapsed": false
   },
   "outputs": [],
   "source": [
    "dm = dm.merge(ds, on=['Season', 'GameNumber'], how='left')\n",
    "dm = dm[['Season', 'GameNumber', 'GameDate', 'VTeamCode', 'HTeamCode', 'vgoals', 'hgoals', 'WinTeamCode', 'HomeWin', 'VC1', 'VC2', 'VL1', 'VL2', 'VR1', 'VR2', 'VD1', 'VD2', 'VG1', 'VG2', 'HC1', 'HC2', 'HL1', 'HL2', 'HR1', 'HR2', 'HD1', 'HD2', 'HG1', 'HG2' ]]"
   ]
  },
  {
   "cell_type": "markdown",
   "metadata": {},
   "source": [
    "- Calculate the difference between player quality per game for all positions with respect to home team ( Home Team - Visitor Team). There are 5 positions and 2 types of player quality. This will give us a total of 10 differenecs. "
   ]
  },
  {
   "cell_type": "code",
   "execution_count": 21,
   "metadata": {
    "collapsed": true
   },
   "outputs": [],
   "source": [
    "dm['x1'] = dm['HC1'] - dm['VC1']\n",
    "dm['x2'] = dm['HC2'] - dm['VC2']\n",
    "dm['x3'] = dm['HL1'] - dm['VL1']\n",
    "dm['x4'] = dm['HL2'] - dm['VL2']\n",
    "dm['x5'] = dm['HR1'] - dm['VR1']\n",
    "dm['x6'] = dm['HR2'] - dm['VR2']\n",
    "dm['x7'] = dm['HD1'] - dm['VD1']\n",
    "dm['x8'] = dm['HD2'] - dm['VD2']\n",
    "dm['x9'] = dm['HG1'] - dm['VG1']\n",
    "dm['x10'] = dm['HG2'] - dm['VG2']"
   ]
  },
  {
   "cell_type": "code",
   "execution_count": 22,
   "metadata": {
    "collapsed": false
   },
   "outputs": [
    {
     "data": {
      "text/plain": [
       "Season         0\n",
       "GameNumber     0\n",
       "GameDate       0\n",
       "VTeamCode      0\n",
       "HTeamCode      0\n",
       "vgoals         0\n",
       "hgoals         0\n",
       "WinTeamCode    0\n",
       "HomeWin        0\n",
       "VC1            0\n",
       "VC2            0\n",
       "VL1            0\n",
       "VL2            0\n",
       "VR1            0\n",
       "VR2            0\n",
       "VD1            0\n",
       "VD2            0\n",
       "VG1            0\n",
       "VG2            0\n",
       "HC1            0\n",
       "HC2            0\n",
       "HL1            0\n",
       "HL2            0\n",
       "HR1            0\n",
       "HR2            0\n",
       "HD1            0\n",
       "HD2            0\n",
       "HG1            0\n",
       "HG2            0\n",
       "x1             0\n",
       "x2             0\n",
       "x3             0\n",
       "x4             0\n",
       "x5             0\n",
       "x6             0\n",
       "x7             0\n",
       "x8             0\n",
       "x9             0\n",
       "x10            0\n",
       "dtype: int64"
      ]
     },
     "execution_count": 22,
     "metadata": {},
     "output_type": "execute_result"
    }
   ],
   "source": [
    "dm.isnull().sum()"
   ]
  },
  {
   "cell_type": "code",
   "execution_count": 23,
   "metadata": {
    "collapsed": false
   },
   "outputs": [
    {
     "data": {
      "text/plain": [
       "(1230, 39)"
      ]
     },
     "execution_count": 23,
     "metadata": {},
     "output_type": "execute_result"
    }
   ],
   "source": [
    "dm.shape"
   ]
  },
  {
   "cell_type": "markdown",
   "metadata": {},
   "source": [
    "### estimate roster model "
   ]
  },
  {
   "cell_type": "markdown",
   "metadata": {},
   "source": [
    "- regress home win on the difference in number of home and visitor players by position and quality (predictor variables). Add a constant to the predictors and use OLS. The purpose is to deterimine the impact each roster positin has on home team success."
   ]
  },
  {
   "cell_type": "code",
   "execution_count": 24,
   "metadata": {
    "collapsed": false
   },
   "outputs": [],
   "source": [
    "y = dm['HomeWin']  \n",
    "X = dm[['x1', 'x2', 'x3', 'x4', 'x5', 'x6', 'x7', 'x8', 'x9', 'x10']] \n",
    "X = sm.add_constant(X)  "
   ]
  },
  {
   "cell_type": "code",
   "execution_count": 30,
   "metadata": {
    "collapsed": false
   },
   "outputs": [
    {
     "data": {
      "text/html": [
       "<table class=\"simpletable\">\n",
       "<caption>OLS Regression Results</caption>\n",
       "<tr>\n",
       "  <th>Dep. Variable:</th>         <td>HomeWin</td>     <th>  R-squared:         </th> <td>   0.007</td>\n",
       "</tr>\n",
       "<tr>\n",
       "  <th>Model:</th>                   <td>OLS</td>       <th>  Adj. R-squared:    </th> <td>  -0.001</td>\n",
       "</tr>\n",
       "<tr>\n",
       "  <th>Method:</th>             <td>Least Squares</td>  <th>  F-statistic:       </th> <td>  0.8759</td>\n",
       "</tr>\n",
       "<tr>\n",
       "  <th>Date:</th>             <td>Mon, 02 Oct 2017</td> <th>  Prob (F-statistic):</th>  <td> 0.555</td> \n",
       "</tr>\n",
       "<tr>\n",
       "  <th>Time:</th>                 <td>20:25:52</td>     <th>  Log-Likelihood:    </th> <td> -887.46</td>\n",
       "</tr>\n",
       "<tr>\n",
       "  <th>No. Observations:</th>      <td>  1230</td>      <th>  AIC:               </th> <td>   1797.</td>\n",
       "</tr>\n",
       "<tr>\n",
       "  <th>Df Residuals:</th>          <td>  1219</td>      <th>  BIC:               </th> <td>   1853.</td>\n",
       "</tr>\n",
       "<tr>\n",
       "  <th>Df Model:</th>              <td>    10</td>      <th>                     </th>     <td> </td>   \n",
       "</tr>\n",
       "<tr>\n",
       "  <th>Covariance Type:</th>      <td>nonrobust</td>    <th>                     </th>     <td> </td>   \n",
       "</tr>\n",
       "</table>\n",
       "<table class=\"simpletable\">\n",
       "<tr>\n",
       "    <td></td>       <th>coef</th>     <th>std err</th>      <th>t</th>      <th>P>|t|</th> <th>[95.0% Conf. Int.]</th> \n",
       "</tr>\n",
       "<tr>\n",
       "  <th>const</th> <td>    0.5116</td> <td>    0.016</td> <td>   32.842</td> <td> 0.000</td> <td>    0.481     0.542</td>\n",
       "</tr>\n",
       "<tr>\n",
       "  <th>x1</th>    <td>   -0.0516</td> <td>    0.078</td> <td>   -0.660</td> <td> 0.510</td> <td>   -0.205     0.102</td>\n",
       "</tr>\n",
       "<tr>\n",
       "  <th>x2</th>    <td>   -0.0712</td> <td>    0.078</td> <td>   -0.919</td> <td> 0.358</td> <td>   -0.223     0.081</td>\n",
       "</tr>\n",
       "<tr>\n",
       "  <th>x3</th>    <td>   -0.0656</td> <td>    0.079</td> <td>   -0.829</td> <td> 0.407</td> <td>   -0.221     0.090</td>\n",
       "</tr>\n",
       "<tr>\n",
       "  <th>x4</th>    <td>   -0.0735</td> <td>    0.078</td> <td>   -0.942</td> <td> 0.346</td> <td>   -0.227     0.080</td>\n",
       "</tr>\n",
       "<tr>\n",
       "  <th>x5</th>    <td>   -0.0530</td> <td>    0.079</td> <td>   -0.673</td> <td> 0.501</td> <td>   -0.208     0.101</td>\n",
       "</tr>\n",
       "<tr>\n",
       "  <th>x6</th>    <td>   -0.0778</td> <td>    0.078</td> <td>   -0.995</td> <td> 0.320</td> <td>   -0.231     0.076</td>\n",
       "</tr>\n",
       "<tr>\n",
       "  <th>x7</th>    <td>   -0.0948</td> <td>    0.084</td> <td>   -1.134</td> <td> 0.257</td> <td>   -0.259     0.069</td>\n",
       "</tr>\n",
       "<tr>\n",
       "  <th>x8</th>    <td>   -0.0919</td> <td>    0.083</td> <td>   -1.110</td> <td> 0.267</td> <td>   -0.254     0.070</td>\n",
       "</tr>\n",
       "<tr>\n",
       "  <th>x9</th>    <td>    0.0393</td> <td>    0.043</td> <td>    0.921</td> <td> 0.357</td> <td>   -0.044     0.123</td>\n",
       "</tr>\n",
       "<tr>\n",
       "  <th>x10</th>   <td>    0.0156</td> <td>    0.038</td> <td>    0.414</td> <td> 0.679</td> <td>   -0.058     0.089</td>\n",
       "</tr>\n",
       "</table>\n",
       "<table class=\"simpletable\">\n",
       "<tr>\n",
       "  <th>Omnibus:</th>       <td> 1.127</td> <th>  Durbin-Watson:     </th> <td>   1.960</td>\n",
       "</tr>\n",
       "<tr>\n",
       "  <th>Prob(Omnibus):</th> <td> 0.569</td> <th>  Jarque-Bera (JB):  </th> <td> 199.483</td>\n",
       "</tr>\n",
       "<tr>\n",
       "  <th>Skew:</th>          <td>-0.074</td> <th>  Prob(JB):          </th> <td>4.82e-44</td>\n",
       "</tr>\n",
       "<tr>\n",
       "  <th>Kurtosis:</th>      <td> 1.033</td> <th>  Cond. No.          </th> <td>    35.8</td>\n",
       "</tr>\n",
       "</table>"
      ],
      "text/plain": [
       "<class 'statsmodels.iolib.summary.Summary'>\n",
       "\"\"\"\n",
       "                            OLS Regression Results                            \n",
       "==============================================================================\n",
       "Dep. Variable:                HomeWin   R-squared:                       0.007\n",
       "Model:                            OLS   Adj. R-squared:                 -0.001\n",
       "Method:                 Least Squares   F-statistic:                    0.8759\n",
       "Date:                Mon, 02 Oct 2017   Prob (F-statistic):              0.555\n",
       "Time:                        20:25:52   Log-Likelihood:                -887.46\n",
       "No. Observations:                1230   AIC:                             1797.\n",
       "Df Residuals:                    1219   BIC:                             1853.\n",
       "Df Model:                          10                                         \n",
       "Covariance Type:            nonrobust                                         \n",
       "==============================================================================\n",
       "                 coef    std err          t      P>|t|      [95.0% Conf. Int.]\n",
       "------------------------------------------------------------------------------\n",
       "const          0.5116      0.016     32.842      0.000         0.481     0.542\n",
       "x1            -0.0516      0.078     -0.660      0.510        -0.205     0.102\n",
       "x2            -0.0712      0.078     -0.919      0.358        -0.223     0.081\n",
       "x3            -0.0656      0.079     -0.829      0.407        -0.221     0.090\n",
       "x4            -0.0735      0.078     -0.942      0.346        -0.227     0.080\n",
       "x5            -0.0530      0.079     -0.673      0.501        -0.208     0.101\n",
       "x6            -0.0778      0.078     -0.995      0.320        -0.231     0.076\n",
       "x7            -0.0948      0.084     -1.134      0.257        -0.259     0.069\n",
       "x8            -0.0919      0.083     -1.110      0.267        -0.254     0.070\n",
       "x9             0.0393      0.043      0.921      0.357        -0.044     0.123\n",
       "x10            0.0156      0.038      0.414      0.679        -0.058     0.089\n",
       "==============================================================================\n",
       "Omnibus:                        1.127   Durbin-Watson:                   1.960\n",
       "Prob(Omnibus):                  0.569   Jarque-Bera (JB):              199.483\n",
       "Skew:                          -0.074   Prob(JB):                     4.82e-44\n",
       "Kurtosis:                       1.033   Cond. No.                         35.8\n",
       "==============================================================================\n",
       "\n",
       "Warnings:\n",
       "[1] Standard Errors assume that the covariance matrix of the errors is correctly specified.\n",
       "\"\"\""
      ]
     },
     "execution_count": 30,
     "metadata": {},
     "output_type": "execute_result"
    }
   ],
   "source": [
    "result = sm.OLS(y, X).fit()\n",
    "result.summary()"
   ]
  },
  {
   "cell_type": "code",
   "execution_count": 31,
   "metadata": {
    "collapsed": false
   },
   "outputs": [
    {
     "data": {
      "text/plain": [
       "const    0.511639\n",
       "x1      -0.051620\n",
       "x2      -0.071236\n",
       "x3      -0.065597\n",
       "x4      -0.073493\n",
       "x5      -0.053036\n",
       "x6      -0.077778\n",
       "x7      -0.094779\n",
       "x8      -0.091943\n",
       "x9       0.039344\n",
       "x10      0.015582\n",
       "dtype: float64"
      ]
     },
     "execution_count": 31,
     "metadata": {},
     "output_type": "execute_result"
    }
   ],
   "source": [
    "result.params"
   ]
  },
  {
   "cell_type": "markdown",
   "metadata": {},
   "source": [
    "- display a scatter plot showing the relationship between home team win and quality difference per position."
   ]
  },
  {
   "cell_type": "code",
   "execution_count": 39,
   "metadata": {
    "collapsed": false
   },
   "outputs": [
    {
     "data": {
      "image/png": "[encoded data removed]",
      "text/plain": [
       "<matplotlib.figure.Figure at 0x12042b320>"
      ]
     },
     "metadata": {},
     "output_type": "display_data"
    }
   ],
   "source": [
    "y = dm['HomeWin']\n",
    "X = dm[['x1', 'x2', 'x3', 'x4', 'x5', 'x6', 'x7', 'x8', 'x9', 'x10']] \n",
    "plt.scatter(x, y)\n",
    "plt.show()"
   ]
  },
  {
   "cell_type": "code",
   "execution_count": null,
   "metadata": {
    "collapsed": true
   },
   "outputs": [],
   "source": []
  }
 ],
 "metadata": {
  "kernelspec": {
   "display_name": "Python 3",
   "language": "python",
   "name": "python3"
  },
  "language_info": {
   "codemirror_mode": {
    "name": "ipython",
    "version": 3
   },
   "file_extension": ".py",
   "mimetype": "text/x-python",
   "name": "python",
   "nbconvert_exporter": "python",
   "pygments_lexer": "ipython3",
   "version": "3.6.0"
  }
 },
 "nbformat": 4,
 "nbformat_minor": 2
}
