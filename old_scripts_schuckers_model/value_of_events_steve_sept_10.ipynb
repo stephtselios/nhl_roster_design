{
 "cells": [
  {
   "cell_type": "code",
   "execution_count": 30,
   "metadata": {
    "ExecuteTime": {
     "end_time": "2017-09-08T00:28:56.282061Z",
     "start_time": "2017-09-08T00:28:56.278878Z"
    },
    "collapsed": true
   },
   "outputs": [],
   "source": [
    "\n",
    "import pandas as pd\n",
    "import numpy as np\n",
    "import matplotlib.pyplot as plt\n",
    "import statsmodels.api as sm\n",
    "from statsmodels.formula.api import ols\n",
    "from pylab import hist, show\n",
    "import scipy\n"
   ]
  },
  {
   "cell_type": "markdown",
   "metadata": {},
   "source": [
    "### Value of events"
   ]
  },
  {
   "cell_type": "markdown",
   "metadata": {},
   "source": [
    "The value of each on-ice event needs to be determine prior to evaluating player performance. The value of a given event is defined by the probability it leads to a goal. "
   ]
  },
  {
   "cell_type": "markdown",
   "metadata": {},
   "source": [
    "- Import dataset"
   ]
  },
  {
   "cell_type": "code",
   "execution_count": 31,
   "metadata": {
    "ExecuteTime": {
     "end_time": "2017-09-08T00:55:02.970999Z",
     "start_time": "2017-09-08T00:55:02.959708Z"
    },
    "collapsed": false
   },
   "outputs": [
    {
     "name": "stderr",
     "output_type": "stream",
     "text": [
      "/anaconda/lib/python3.6/site-packages/IPython/core/interactiveshell.py:2717: DtypeWarning: Columns (67,68) have mixed types. Specify dtype option on import or set low_memory=False.\n",
      "  interactivity=interactivity, compiler=compiler, result=result)\n"
     ]
    }
   ],
   "source": [
    "dm = pd.read_csv('out_data/pbpmerge.csv')\n",
    "dm = dm.drop('Unnamed: 0', axis=1)"
   ]
  },
  {
   "cell_type": "markdown",
   "metadata": {},
   "source": [
    "- sort variables"
   ]
  },
  {
   "cell_type": "code",
   "execution_count": 32,
   "metadata": {
    "ExecuteTime": {
     "end_time": "2017-09-08T00:55:03.288324Z",
     "start_time": "2017-09-08T00:55:03.285326Z"
    },
    "collapsed": true
   },
   "outputs": [],
   "source": [
    "dm = dm[['Season', 'GameNumber', 'EventNumber', 'Period', 'AdvantageType','EventTimeFromZero', 'EventTimeFromTwenty', 'EventType', 'EventDetail']]"
   ]
  },
  {
   "cell_type": "markdown",
   "metadata": {},
   "source": [
    "- keep even strength situations only."
   ]
  },
  {
   "cell_type": "code",
   "execution_count": 33,
   "metadata": {
    "ExecuteTime": {
     "end_time": "2017-09-08T00:55:03.800640Z",
     "start_time": "2017-09-08T00:55:03.797101Z"
    },
    "collapsed": true
   },
   "outputs": [],
   "source": [
    "dm = dm[dm['AdvantageType']=='EV']"
   ]
  },
  {
   "cell_type": "code",
   "execution_count": 34,
   "metadata": {
    "ExecuteTime": {
     "end_time": "2017-09-08T00:55:04.191593Z",
     "start_time": "2017-09-08T00:55:04.187243Z"
    },
    "collapsed": true
   },
   "outputs": [],
   "source": [
    "dm = dm.sort_values(by=['Season', 'GameNumber', 'EventNumber'])"
   ]
  },
  {
   "cell_type": "markdown",
   "metadata": {},
   "source": [
    "- set index variable for Season and game number."
   ]
  },
  {
   "cell_type": "code",
   "execution_count": 35,
   "metadata": {
    "ExecuteTime": {
     "end_time": "2017-09-08T00:55:13.754040Z",
     "start_time": "2017-09-08T00:55:13.749735Z"
    },
    "collapsed": true
   },
   "outputs": [],
   "source": [
    "dm = dm.set_index(['Season', 'GameNumber'])"
   ]
  },
  {
   "cell_type": "markdown",
   "metadata": {},
   "source": [
    "- create a variable that will show continuous time."
   ]
  },
  {
   "cell_type": "code",
   "execution_count": 36,
   "metadata": {
    "ExecuteTime": {
     "end_time": "2017-09-08T00:55:14.308852Z",
     "start_time": "2017-09-08T00:55:14.305213Z"
    },
    "collapsed": true
   },
   "outputs": [],
   "source": [
    "dm['time_global'] = dm.EventTimeFromZero + (dm.Period-1)*dm.EventTimeFromZero"
   ]
  },
  {
   "cell_type": "markdown",
   "metadata": {},
   "source": [
    "- create a variable that will display the time of a goal. Fill in *backwards* goal_time variable for all on-ice events prior to a goal. The events had an impact of the goal scoered."
   ]
  },
  {
   "cell_type": "code",
   "execution_count": 37,
   "metadata": {
    "ExecuteTime": {
     "end_time": "2017-09-08T00:55:14.689058Z",
     "start_time": "2017-09-08T00:55:14.685213Z"
    },
    "collapsed": true
   },
   "outputs": [],
   "source": [
    "dm['goal_time'] = np.where(dm['EventType'] == 'GOAL', dm.time_global, np.nan)\n",
    "dm['goal_time'] = dm['goal_time'].fillna(method='backfill')"
   ]
  },
  {
   "cell_type": "markdown",
   "metadata": {},
   "source": [
    "- determine the time difference between the time of a given on-ice event and a goal scored."
   ]
  },
  {
   "cell_type": "code",
   "execution_count": 38,
   "metadata": {
    "ExecuteTime": {
     "end_time": "2017-09-08T00:58:16.071752Z",
     "start_time": "2017-09-08T00:58:16.067824Z"
    },
    "collapsed": false
   },
   "outputs": [],
   "source": [
    "dm['time_from_goal'] = dm['goal_time'] - dm['time_global']\n",
    "dm['time_from_goal']  = np.where(dm['time_from_goal']<0, np.nan, dm['time_from_goal'])"
   ]
  },
  {
   "cell_type": "markdown",
   "metadata": {},
   "source": [
    "- keep events that happened prior to a goal to calculate their impact on a goal. Events that happened **after** the final goal of a game have no effect."
   ]
  },
  {
   "cell_type": "code",
   "execution_count": 39,
   "metadata": {
    "collapsed": true
   },
   "outputs": [],
   "source": [
    "dm = dm.dropna()"
   ]
  },
  {
   "cell_type": "markdown",
   "metadata": {},
   "source": [
    "- estimate the sum of each on-ice event type."
   ]
  },
  {
   "cell_type": "code",
   "execution_count": 40,
   "metadata": {
    "ExecuteTime": {
     "end_time": "2017-09-08T00:58:49.035307Z",
     "start_time": "2017-09-08T00:58:49.030701Z"
    },
    "collapsed": false
   },
   "outputs": [],
   "source": [
    "dm['block'] = np.where(dm['EventType'] == 'BLOCK', 1, 0)\n",
    "dm['faceoff'] = np.where(dm['EventType'] == 'FAC', 1, 0)\n",
    "dm['giveaway'] = np.where(dm['EventType'] == 'GIVE', 1, 0)\n",
    "dm['goal'] = np.where(dm['EventType'] == 'GOAL', 1, 0)\n",
    "dm['hit'] = np.where(dm['EventType'] == 'HIT', 1, 0)\n",
    "dm['miss'] = np.where(dm['EventType'] == 'MISS', 1, 0)\n",
    "dm['penalty'] = np.where(dm['EventType'] == 'PENL', 1, 0)\n",
    "dm['shot'] = np.where(dm['EventType'] == 'SHOT', 1, 0)\n",
    "dm['takeaway'] = np.where(dm['EventType'] == 'TAKE', 1, 0)"
   ]
  },
  {
   "cell_type": "code",
   "execution_count": 41,
   "metadata": {
    "ExecuteTime": {
     "end_time": "2017-09-08T00:59:37.369402Z",
     "start_time": "2017-09-08T00:59:37.364466Z"
    },
    "collapsed": false
   },
   "outputs": [],
   "source": [
    "dc = dm.groupby(['goal_time'])['block', 'faceoff', 'giveaway', 'hit', 'miss', 'penalty', 'shot', 'takeaway'].sum()"
   ]
  },
  {
   "cell_type": "code",
   "execution_count": 42,
   "metadata": {
    "collapsed": false
   },
   "outputs": [
    {
     "data": {
      "text/plain": [
       "Season  GameNumber\n",
       "2010    20001          402.0\n",
       "        20001          387.0\n",
       "        20001          356.0\n",
       "        20001          345.0\n",
       "        20001          333.0\n",
       "        20001          329.0\n",
       "        20001          316.0\n",
       "        20001          311.0\n",
       "        20001          307.0\n",
       "        20001          300.0\n",
       "        20001          298.0\n",
       "        20001          294.0\n",
       "        20001          277.0\n",
       "        20001          262.0\n",
       "        20001          255.0\n",
       "        20001          231.0\n",
       "        20001          181.0\n",
       "        20001          161.0\n",
       "        20001          153.0\n",
       "        20001          142.0\n",
       "        20001          135.0\n",
       "        20001          135.0\n",
       "        20001          115.0\n",
       "        20001           99.0\n",
       "        20001           97.0\n",
       "        20001           79.0\n",
       "        20001           73.0\n",
       "        20001           69.0\n",
       "        20001           28.0\n",
       "        20001           27.0\n",
       "                       ...  \n",
       "        30417         1605.0\n",
       "        30417         1521.0\n",
       "        30417         1509.0\n",
       "        30417         1383.0\n",
       "        30417         1326.0\n",
       "        30417         1287.0\n",
       "        30417         1284.0\n",
       "        30417         1281.0\n",
       "        30417         1254.0\n",
       "        30417         1236.0\n",
       "        30417         1185.0\n",
       "        30417         1182.0\n",
       "        30417         1170.0\n",
       "        30417         1125.0\n",
       "        30417         1119.0\n",
       "        30417         1071.0\n",
       "        30417         1026.0\n",
       "        30417          615.0\n",
       "        30417          600.0\n",
       "        30417          564.0\n",
       "        30417          561.0\n",
       "        30417          498.0\n",
       "        30417          489.0\n",
       "        30417          477.0\n",
       "        30417          363.0\n",
       "        30417          261.0\n",
       "        30417          126.0\n",
       "        30417           42.0\n",
       "        30417            6.0\n",
       "        30417            0.0\n",
       "Name: time_from_goal, dtype: float64"
      ]
     },
     "execution_count": 42,
     "metadata": {},
     "output_type": "execute_result"
    }
   ],
   "source": [
    "dm['time_from_goal'] "
   ]
  },
  {
   "cell_type": "markdown",
   "metadata": {},
   "source": [
    "- display a scatter plot showing the relationship between each on-ice event and time from goal."
   ]
  },
  {
   "cell_type": "code",
   "execution_count": 43,
   "metadata": {
    "collapsed": false
   },
   "outputs": [
    {
     "data": {
      "image/png": "[encoded data removed]",
      "text/plain": [
       "<matplotlib.figure.Figure at 0x11e7d3dd8>"
      ]
     },
     "metadata": {},
     "output_type": "display_data"
    }
   ],
   "source": [
    "y = dm.block\n",
    "x = dm.time_from_goal\n",
    "plt.scatter(x, y)\n",
    "plt.show()"
   ]
  },
  {
   "cell_type": "code",
   "execution_count": 44,
   "metadata": {
    "collapsed": false
   },
   "outputs": [
    {
     "data": {
      "image/png": "[encoded data removed]",
      "text/plain": [
       "<matplotlib.figure.Figure at 0x11c3e06a0>"
      ]
     },
     "metadata": {},
     "output_type": "display_data"
    }
   ],
   "source": [
    "y = dm.faceoff\n",
    "x = dm.time_from_goal\n",
    "plt.scatter(x, y)\n",
    "plt.show()"
   ]
  },
  {
   "cell_type": "code",
   "execution_count": 45,
   "metadata": {
    "collapsed": false
   },
   "outputs": [
    {
     "data": {
      "image/png": "[encoded data removed]",
      "text/plain": [
       "<matplotlib.figure.Figure at 0x11d861470>"
      ]
     },
     "metadata": {},
     "output_type": "display_data"
    }
   ],
   "source": [
    "y = dm.giveaway\n",
    "x = dm.time_from_goal\n",
    "plt.scatter(x, y)\n",
    "plt.show()"
   ]
  },
  {
   "cell_type": "code",
   "execution_count": 46,
   "metadata": {
    "collapsed": false
   },
   "outputs": [
    {
     "data": {
      "image/png": "[encoded data removed]",
      "text/plain": [
       "<matplotlib.figure.Figure at 0x11dcf5ba8>"
      ]
     },
     "metadata": {},
     "output_type": "display_data"
    }
   ],
   "source": [
    "y = dm.hit\n",
    "x = dm.time_from_goal\n",
    "plt.scatter(x, y)\n",
    "plt.show()"
   ]
  },
  {
   "cell_type": "code",
   "execution_count": 47,
   "metadata": {
    "collapsed": false
   },
   "outputs": [
    {
     "data": {
      "image/png": "[encoded data removed]",
      "text/plain": [
       "<matplotlib.figure.Figure at 0x11c12da58>"
      ]
     },
     "metadata": {},
     "output_type": "display_data"
    }
   ],
   "source": [
    "y = dm.miss\n",
    "x = dm.time_from_goal\n",
    "plt.scatter(x, y)\n",
    "plt.show()"
   ]
  },
  {
   "cell_type": "code",
   "execution_count": 48,
   "metadata": {
    "collapsed": false
   },
   "outputs": [
    {
     "data": {
      "image/png": "[encoded data removed]",
      "text/plain": [
       "<matplotlib.figure.Figure at 0x11cdc2588>"
      ]
     },
     "metadata": {},
     "output_type": "display_data"
    }
   ],
   "source": [
    "y = dm.penalty\n",
    "x = dm.time_from_goal\n",
    "plt.scatter(x, y)\n",
    "plt.show()"
   ]
  },
  {
   "cell_type": "code",
   "execution_count": 49,
   "metadata": {
    "collapsed": false
   },
   "outputs": [
    {
     "data": {
      "image/png": "[encoded data removed]",
      "text/plain": [
       "<matplotlib.figure.Figure at 0x11c5eaa90>"
      ]
     },
     "metadata": {},
     "output_type": "display_data"
    }
   ],
   "source": [
    "y = dm.shot\n",
    "x = dm.time_from_goal\n",
    "plt.scatter(x, y)\n",
    "plt.show()"
   ]
  },
  {
   "cell_type": "code",
   "execution_count": 50,
   "metadata": {
    "ExecuteTime": {
     "end_time": "2017-09-08T01:00:18.686949Z",
     "start_time": "2017-09-08T01:00:18.498412Z"
    },
    "collapsed": false
   },
   "outputs": [
    {
     "data": {
      "image/png": "[encoded data removed]",
      "text/plain": [
       "<matplotlib.figure.Figure at 0x11de57908>"
      ]
     },
     "metadata": {},
     "output_type": "display_data"
    }
   ],
   "source": [
    "y = dm.takeaway\n",
    "x = dm.time_from_goal\n",
    "plt.scatter(x, y)\n",
    "plt.show()"
   ]
  },
  {
   "cell_type": "code",
   "execution_count": 51,
   "metadata": {
    "ExecuteTime": {
     "end_time": "2017-09-08T00:41:49.375897Z",
     "start_time": "2017-09-08T00:41:49.357558Z"
    },
    "collapsed": false
   },
   "outputs": [
    {
     "data": {
      "text/html": [
       "<div>\n",
       "<table border=\"1\" class=\"dataframe\">\n",
       "  <thead>\n",
       "    <tr style=\"text-align: right;\">\n",
       "      <th></th>\n",
       "      <th></th>\n",
       "      <th>EventNumber</th>\n",
       "      <th>Period</th>\n",
       "      <th>AdvantageType</th>\n",
       "      <th>EventTimeFromZero</th>\n",
       "      <th>EventTimeFromTwenty</th>\n",
       "      <th>EventType</th>\n",
       "      <th>EventDetail</th>\n",
       "      <th>time_global</th>\n",
       "      <th>goal_time</th>\n",
       "      <th>time_from_goal</th>\n",
       "      <th>block</th>\n",
       "      <th>faceoff</th>\n",
       "      <th>giveaway</th>\n",
       "      <th>goal</th>\n",
       "      <th>hit</th>\n",
       "      <th>miss</th>\n",
       "      <th>penalty</th>\n",
       "      <th>shot</th>\n",
       "      <th>takeaway</th>\n",
       "    </tr>\n",
       "    <tr>\n",
       "      <th>Season</th>\n",
       "      <th>GameNumber</th>\n",
       "      <th></th>\n",
       "      <th></th>\n",
       "      <th></th>\n",
       "      <th></th>\n",
       "      <th></th>\n",
       "      <th></th>\n",
       "      <th></th>\n",
       "      <th></th>\n",
       "      <th></th>\n",
       "      <th></th>\n",
       "      <th></th>\n",
       "      <th></th>\n",
       "      <th></th>\n",
       "      <th></th>\n",
       "      <th></th>\n",
       "      <th></th>\n",
       "      <th></th>\n",
       "      <th></th>\n",
       "      <th></th>\n",
       "    </tr>\n",
       "  </thead>\n",
       "  <tbody>\n",
       "    <tr>\n",
       "      <th rowspan=\"5\" valign=\"top\">2010</th>\n",
       "      <th>20001</th>\n",
       "      <td>1.0</td>\n",
       "      <td>1</td>\n",
       "      <td>EV</td>\n",
       "      <td>0</td>\n",
       "      <td>1200.0</td>\n",
       "      <td>FAC</td>\n",
       "      <td>MTL won Neu. Zone - MTL #11 GOMEZ vs TOR #37 B...</td>\n",
       "      <td>0</td>\n",
       "      <td>402.0</td>\n",
       "      <td>402.0</td>\n",
       "      <td>0</td>\n",
       "      <td>1</td>\n",
       "      <td>0</td>\n",
       "      <td>0</td>\n",
       "      <td>0</td>\n",
       "      <td>0</td>\n",
       "      <td>0</td>\n",
       "      <td>0</td>\n",
       "      <td>0</td>\n",
       "    </tr>\n",
       "    <tr>\n",
       "      <th>20001</th>\n",
       "      <td>3.0</td>\n",
       "      <td>1</td>\n",
       "      <td>EV</td>\n",
       "      <td>15</td>\n",
       "      <td>1185.0</td>\n",
       "      <td>HIT</td>\n",
       "      <td>TOR #37 BRENT HIT MTL #26 GORGES, Off. Zone</td>\n",
       "      <td>15</td>\n",
       "      <td>402.0</td>\n",
       "      <td>387.0</td>\n",
       "      <td>0</td>\n",
       "      <td>0</td>\n",
       "      <td>0</td>\n",
       "      <td>0</td>\n",
       "      <td>1</td>\n",
       "      <td>0</td>\n",
       "      <td>0</td>\n",
       "      <td>0</td>\n",
       "      <td>0</td>\n",
       "    </tr>\n",
       "    <tr>\n",
       "      <th>20001</th>\n",
       "      <td>4.0</td>\n",
       "      <td>1</td>\n",
       "      <td>EV</td>\n",
       "      <td>46</td>\n",
       "      <td>1154.0</td>\n",
       "      <td>HIT</td>\n",
       "      <td>MTL #14 PLEKANEC HIT TOR #2 SCHENN, Off. Zone</td>\n",
       "      <td>46</td>\n",
       "      <td>402.0</td>\n",
       "      <td>356.0</td>\n",
       "      <td>0</td>\n",
       "      <td>0</td>\n",
       "      <td>0</td>\n",
       "      <td>0</td>\n",
       "      <td>1</td>\n",
       "      <td>0</td>\n",
       "      <td>0</td>\n",
       "      <td>0</td>\n",
       "      <td>0</td>\n",
       "    </tr>\n",
       "    <tr>\n",
       "      <th>20001</th>\n",
       "      <td>5.0</td>\n",
       "      <td>1</td>\n",
       "      <td>EV</td>\n",
       "      <td>57</td>\n",
       "      <td>1143.0</td>\n",
       "      <td>HIT</td>\n",
       "      <td>MTL #76 SUBBAN HIT TOR #15 KABERLE, Neu. Zone</td>\n",
       "      <td>57</td>\n",
       "      <td>402.0</td>\n",
       "      <td>345.0</td>\n",
       "      <td>0</td>\n",
       "      <td>0</td>\n",
       "      <td>0</td>\n",
       "      <td>0</td>\n",
       "      <td>1</td>\n",
       "      <td>0</td>\n",
       "      <td>0</td>\n",
       "      <td>0</td>\n",
       "      <td>0</td>\n",
       "    </tr>\n",
       "    <tr>\n",
       "      <th>20001</th>\n",
       "      <td>6.0</td>\n",
       "      <td>1</td>\n",
       "      <td>EV</td>\n",
       "      <td>69</td>\n",
       "      <td>1131.0</td>\n",
       "      <td>GIVE</td>\n",
       "      <td>TOR&amp;nbsp;GIVEAWAY - #35 GIGUERE, Def. Zone</td>\n",
       "      <td>69</td>\n",
       "      <td>402.0</td>\n",
       "      <td>333.0</td>\n",
       "      <td>0</td>\n",
       "      <td>0</td>\n",
       "      <td>1</td>\n",
       "      <td>0</td>\n",
       "      <td>0</td>\n",
       "      <td>0</td>\n",
       "      <td>0</td>\n",
       "      <td>0</td>\n",
       "      <td>0</td>\n",
       "    </tr>\n",
       "  </tbody>\n",
       "</table>\n",
       "</div>"
      ],
      "text/plain": [
       "                   EventNumber  Period AdvantageType  EventTimeFromZero  \\\n",
       "Season GameNumber                                                         \n",
       "2010   20001               1.0       1            EV                  0   \n",
       "       20001               3.0       1            EV                 15   \n",
       "       20001               4.0       1            EV                 46   \n",
       "       20001               5.0       1            EV                 57   \n",
       "       20001               6.0       1            EV                 69   \n",
       "\n",
       "                   EventTimeFromTwenty EventType  \\\n",
       "Season GameNumber                                  \n",
       "2010   20001                    1200.0       FAC   \n",
       "       20001                    1185.0       HIT   \n",
       "       20001                    1154.0       HIT   \n",
       "       20001                    1143.0       HIT   \n",
       "       20001                    1131.0      GIVE   \n",
       "\n",
       "                                                         EventDetail  \\\n",
       "Season GameNumber                                                      \n",
       "2010   20001       MTL won Neu. Zone - MTL #11 GOMEZ vs TOR #37 B...   \n",
       "       20001             TOR #37 BRENT HIT MTL #26 GORGES, Off. Zone   \n",
       "       20001           MTL #14 PLEKANEC HIT TOR #2 SCHENN, Off. Zone   \n",
       "       20001           MTL #76 SUBBAN HIT TOR #15 KABERLE, Neu. Zone   \n",
       "       20001              TOR&nbsp;GIVEAWAY - #35 GIGUERE, Def. Zone   \n",
       "\n",
       "                   time_global  goal_time  time_from_goal  block  faceoff  \\\n",
       "Season GameNumber                                                           \n",
       "2010   20001                 0      402.0           402.0      0        1   \n",
       "       20001                15      402.0           387.0      0        0   \n",
       "       20001                46      402.0           356.0      0        0   \n",
       "       20001                57      402.0           345.0      0        0   \n",
       "       20001                69      402.0           333.0      0        0   \n",
       "\n",
       "                   giveaway  goal  hit  miss  penalty  shot  takeaway  \n",
       "Season GameNumber                                                      \n",
       "2010   20001              0     0    0     0        0     0         0  \n",
       "       20001              0     0    1     0        0     0         0  \n",
       "       20001              0     0    1     0        0     0         0  \n",
       "       20001              0     0    1     0        0     0         0  \n",
       "       20001              1     0    0     0        0     0         0  "
      ]
     },
     "execution_count": 51,
     "metadata": {},
     "output_type": "execute_result"
    }
   ],
   "source": [
    "dm.head()"
   ]
  },
  {
   "cell_type": "code",
   "execution_count": null,
   "metadata": {
    "collapsed": true
   },
   "outputs": [],
   "source": []
  }
 ],
 "metadata": {
  "kernelspec": {
   "display_name": "Python 3",
   "language": "python",
   "name": "python3"
  },
  "language_info": {
   "codemirror_mode": {
    "name": "ipython",
    "version": 3
   },
   "file_extension": ".py",
   "mimetype": "text/x-python",
   "name": "python",
   "nbconvert_exporter": "python",
   "pygments_lexer": "ipython3",
   "version": "3.6.0"
  }
 },
 "nbformat": 4,
 "nbformat_minor": 2
}
