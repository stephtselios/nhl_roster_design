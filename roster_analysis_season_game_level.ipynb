{
 "cells": [
  {
   "cell_type": "markdown",
   "metadata": {},
   "source": [
    "## roster model estimation"
   ]
  },
  {
   "cell_type": "markdown",
   "metadata": {},
   "source": [
    "To determine the impact each roster position has on team success, we need to examine the quality of players per game and the result of each game. For each roster position, there will be elite players and secondary players per team. Elite players will be assinged a value of 1 whereas secondary players, a value 2."
   ]
  },
  {
   "cell_type": "markdown",
   "metadata": {},
   "source": [
    "### import data sets  \"play by play goal detail\" and \"game detail\""
   ]
  },
  {
   "cell_type": "code",
   "execution_count": 159,
   "metadata": {
    "collapsed": true
   },
   "outputs": [],
   "source": [
    "import sys\n",
    "import os\n",
    "import pandas as pd\n",
    "import numpy as np\n",
    "import datetime, time\n",
    "import matplotlib.pyplot as plt\n",
    "import statsmodels.api as sm\n",
    "from statsmodels.formula.api import ols\n",
    "from pylab import hist, show\n",
    "import scipy\n",
    "import zipfile\n",
    "\n",
    "\n",
    "pd.set_option('display.max_rows', 50)\n",
    "pd.set_option('display.max_columns', 200)\n"
   ]
  },
  {
   "cell_type": "code",
   "execution_count": 160,
   "metadata": {
    "collapsed": false
   },
   "outputs": [
    {
     "data": {
      "text/plain": [
       "'/Users/stefanostselios/Desktop/nhl_roster_design-master'"
      ]
     },
     "execution_count": 160,
     "metadata": {},
     "output_type": "execute_result"
    }
   ],
   "source": [
    "pwd"
   ]
  },
  {
   "cell_type": "code",
   "execution_count": 161,
   "metadata": {
    "collapsed": false
   },
   "outputs": [],
   "source": [
    "d0 = pd.read_csv('season_games.csv', index_col=0)\n",
    "d1 = pd.read_csv('season_game_roster.csv', index_col=0)"
   ]
  },
  {
   "cell_type": "code",
   "execution_count": 162,
   "metadata": {
    "collapsed": false
   },
   "outputs": [
    {
     "data": {
      "text/html": [
       "<div>\n",
       "<table border=\"1\" class=\"dataframe\">\n",
       "  <thead>\n",
       "    <tr style=\"text-align: right;\">\n",
       "      <th></th>\n",
       "      <th>Season</th>\n",
       "      <th>GameNumber</th>\n",
       "      <th>VTeamCode</th>\n",
       "      <th>HTeamCode</th>\n",
       "      <th>HGF</th>\n",
       "      <th>VGF</th>\n",
       "      <th>GD</th>\n",
       "      <th>WinTeam</th>\n",
       "    </tr>\n",
       "  </thead>\n",
       "  <tbody>\n",
       "    <tr>\n",
       "      <th>0</th>\n",
       "      <td>2010</td>\n",
       "      <td>20001</td>\n",
       "      <td>MTL</td>\n",
       "      <td>TOR</td>\n",
       "      <td>3</td>\n",
       "      <td>2</td>\n",
       "      <td>1</td>\n",
       "      <td>HOME</td>\n",
       "    </tr>\n",
       "    <tr>\n",
       "      <th>1</th>\n",
       "      <td>2010</td>\n",
       "      <td>20002</td>\n",
       "      <td>PHI</td>\n",
       "      <td>PIT</td>\n",
       "      <td>2</td>\n",
       "      <td>3</td>\n",
       "      <td>-1</td>\n",
       "      <td>AWAY</td>\n",
       "    </tr>\n",
       "    <tr>\n",
       "      <th>2</th>\n",
       "      <td>2010</td>\n",
       "      <td>20003</td>\n",
       "      <td>CAR</td>\n",
       "      <td>MIN</td>\n",
       "      <td>3</td>\n",
       "      <td>4</td>\n",
       "      <td>-1</td>\n",
       "      <td>AWAY</td>\n",
       "    </tr>\n",
       "    <tr>\n",
       "      <th>3</th>\n",
       "      <td>2010</td>\n",
       "      <td>20004</td>\n",
       "      <td>CHI</td>\n",
       "      <td>COL</td>\n",
       "      <td>4</td>\n",
       "      <td>3</td>\n",
       "      <td>1</td>\n",
       "      <td>HOME</td>\n",
       "    </tr>\n",
       "    <tr>\n",
       "      <th>4</th>\n",
       "      <td>2010</td>\n",
       "      <td>20005</td>\n",
       "      <td>CGY</td>\n",
       "      <td>EDM</td>\n",
       "      <td>4</td>\n",
       "      <td>0</td>\n",
       "      <td>4</td>\n",
       "      <td>HOME</td>\n",
       "    </tr>\n",
       "  </tbody>\n",
       "</table>\n",
       "</div>"
      ],
      "text/plain": [
       "   Season  GameNumber VTeamCode HTeamCode  HGF  VGF  GD WinTeam\n",
       "0    2010       20001       MTL       TOR    3    2   1    HOME\n",
       "1    2010       20002       PHI       PIT    2    3  -1    AWAY\n",
       "2    2010       20003       CAR       MIN    3    4  -1    AWAY\n",
       "3    2010       20004       CHI       COL    4    3   1    HOME\n",
       "4    2010       20005       CGY       EDM    4    0   4    HOME"
      ]
     },
     "execution_count": 162,
     "metadata": {},
     "output_type": "execute_result"
    }
   ],
   "source": [
    "d0['WinTeam'] = d0.apply(lambda x: 'HOME' if x['GD'] > 0 else 'AWAY', axis=1)\n",
    "d0 = d0[['Season', 'GameNumber', 'VTeamCode', 'HTeamCode', 'HGF', 'VGF', 'GD', 'WinTeam']]\n",
    "d0.head()"
   ]
  },
  {
   "cell_type": "code",
   "execution_count": 163,
   "metadata": {
    "collapsed": true
   },
   "outputs": [],
   "source": [
    "dm = d0.merge(d1, on=['Season', 'GameNumber'], how='left')"
   ]
  },
  {
   "cell_type": "markdown",
   "metadata": {},
   "source": [
    "- Calculate the difference between player quality per game for all positions with respect to home team ( Home Team - Visitor Team). There are 5 positions and 2 types of player quality. This will give us a total of 10 differenecs. "
   ]
  },
  {
   "cell_type": "code",
   "execution_count": 164,
   "metadata": {
    "collapsed": false
   },
   "outputs": [
    {
     "data": {
      "text/plain": [
       "(1230, 16)"
      ]
     },
     "execution_count": 164,
     "metadata": {},
     "output_type": "execute_result"
    }
   ],
   "source": [
    "dm = dm[dm['GameNumber'] <= 21230]\n",
    "dm.shape"
   ]
  },
  {
   "cell_type": "code",
   "execution_count": 165,
   "metadata": {
    "collapsed": true
   },
   "outputs": [],
   "source": [
    "dm['VF'] = dm['VF1'] + dm['VF2']\n",
    "dm['VD'] = dm['VD1'] + dm['VD2']\n",
    "dm['HF'] = dm['HF1'] + dm['HF2']\n",
    "dm['HD'] = dm['HD1'] + dm['HD2']"
   ]
  },
  {
   "cell_type": "code",
   "execution_count": 166,
   "metadata": {
    "collapsed": false
   },
   "outputs": [
    {
     "data": {
      "text/html": [
       "<div>\n",
       "<table border=\"1\" class=\"dataframe\">\n",
       "  <thead>\n",
       "    <tr style=\"text-align: right;\">\n",
       "      <th></th>\n",
       "      <th>Season</th>\n",
       "      <th>GameNumber</th>\n",
       "      <th>VTeamCode</th>\n",
       "      <th>HTeamCode</th>\n",
       "      <th>HGF</th>\n",
       "      <th>VGF</th>\n",
       "      <th>GD</th>\n",
       "      <th>WinTeam</th>\n",
       "      <th>VF1</th>\n",
       "      <th>VF2</th>\n",
       "      <th>VD1</th>\n",
       "      <th>VD2</th>\n",
       "      <th>HF1</th>\n",
       "      <th>HF2</th>\n",
       "      <th>HD1</th>\n",
       "      <th>HD2</th>\n",
       "      <th>VF</th>\n",
       "      <th>VD</th>\n",
       "      <th>HF</th>\n",
       "      <th>HD</th>\n",
       "      <th>F</th>\n",
       "      <th>D</th>\n",
       "    </tr>\n",
       "  </thead>\n",
       "  <tbody>\n",
       "    <tr>\n",
       "      <th>0</th>\n",
       "      <td>2010</td>\n",
       "      <td>20001</td>\n",
       "      <td>MTL</td>\n",
       "      <td>TOR</td>\n",
       "      <td>3</td>\n",
       "      <td>2</td>\n",
       "      <td>1</td>\n",
       "      <td>HOME</td>\n",
       "      <td>2.0</td>\n",
       "      <td>10.0</td>\n",
       "      <td>1.0</td>\n",
       "      <td>5.0</td>\n",
       "      <td>2.0</td>\n",
       "      <td>10.0</td>\n",
       "      <td>1.0</td>\n",
       "      <td>5.0</td>\n",
       "      <td>12.0</td>\n",
       "      <td>6.0</td>\n",
       "      <td>12.0</td>\n",
       "      <td>6.0</td>\n",
       "      <td>24.0</td>\n",
       "      <td>12.0</td>\n",
       "    </tr>\n",
       "    <tr>\n",
       "      <th>1</th>\n",
       "      <td>2010</td>\n",
       "      <td>20002</td>\n",
       "      <td>PHI</td>\n",
       "      <td>PIT</td>\n",
       "      <td>2</td>\n",
       "      <td>3</td>\n",
       "      <td>-1</td>\n",
       "      <td>AWAY</td>\n",
       "      <td>5.0</td>\n",
       "      <td>7.0</td>\n",
       "      <td>2.0</td>\n",
       "      <td>4.0</td>\n",
       "      <td>5.0</td>\n",
       "      <td>7.0</td>\n",
       "      <td>3.0</td>\n",
       "      <td>3.0</td>\n",
       "      <td>12.0</td>\n",
       "      <td>6.0</td>\n",
       "      <td>12.0</td>\n",
       "      <td>6.0</td>\n",
       "      <td>24.0</td>\n",
       "      <td>12.0</td>\n",
       "    </tr>\n",
       "    <tr>\n",
       "      <th>2</th>\n",
       "      <td>2010</td>\n",
       "      <td>20003</td>\n",
       "      <td>CAR</td>\n",
       "      <td>MIN</td>\n",
       "      <td>3</td>\n",
       "      <td>4</td>\n",
       "      <td>-1</td>\n",
       "      <td>AWAY</td>\n",
       "      <td>3.0</td>\n",
       "      <td>9.0</td>\n",
       "      <td>1.0</td>\n",
       "      <td>5.0</td>\n",
       "      <td>2.0</td>\n",
       "      <td>10.0</td>\n",
       "      <td>1.0</td>\n",
       "      <td>5.0</td>\n",
       "      <td>12.0</td>\n",
       "      <td>6.0</td>\n",
       "      <td>12.0</td>\n",
       "      <td>6.0</td>\n",
       "      <td>24.0</td>\n",
       "      <td>12.0</td>\n",
       "    </tr>\n",
       "    <tr>\n",
       "      <th>3</th>\n",
       "      <td>2010</td>\n",
       "      <td>20004</td>\n",
       "      <td>CHI</td>\n",
       "      <td>COL</td>\n",
       "      <td>4</td>\n",
       "      <td>3</td>\n",
       "      <td>1</td>\n",
       "      <td>HOME</td>\n",
       "      <td>4.0</td>\n",
       "      <td>8.0</td>\n",
       "      <td>2.0</td>\n",
       "      <td>4.0</td>\n",
       "      <td>2.0</td>\n",
       "      <td>10.0</td>\n",
       "      <td>1.0</td>\n",
       "      <td>5.0</td>\n",
       "      <td>12.0</td>\n",
       "      <td>6.0</td>\n",
       "      <td>12.0</td>\n",
       "      <td>6.0</td>\n",
       "      <td>24.0</td>\n",
       "      <td>12.0</td>\n",
       "    </tr>\n",
       "    <tr>\n",
       "      <th>4</th>\n",
       "      <td>2010</td>\n",
       "      <td>20005</td>\n",
       "      <td>CGY</td>\n",
       "      <td>EDM</td>\n",
       "      <td>4</td>\n",
       "      <td>0</td>\n",
       "      <td>4</td>\n",
       "      <td>HOME</td>\n",
       "      <td>3.0</td>\n",
       "      <td>9.0</td>\n",
       "      <td>1.0</td>\n",
       "      <td>5.0</td>\n",
       "      <td>0.0</td>\n",
       "      <td>12.0</td>\n",
       "      <td>1.0</td>\n",
       "      <td>5.0</td>\n",
       "      <td>12.0</td>\n",
       "      <td>6.0</td>\n",
       "      <td>12.0</td>\n",
       "      <td>6.0</td>\n",
       "      <td>24.0</td>\n",
       "      <td>12.0</td>\n",
       "    </tr>\n",
       "  </tbody>\n",
       "</table>\n",
       "</div>"
      ],
      "text/plain": [
       "   Season  GameNumber VTeamCode HTeamCode  HGF  VGF  GD WinTeam  VF1   VF2  \\\n",
       "0    2010       20001       MTL       TOR    3    2   1    HOME  2.0  10.0   \n",
       "1    2010       20002       PHI       PIT    2    3  -1    AWAY  5.0   7.0   \n",
       "2    2010       20003       CAR       MIN    3    4  -1    AWAY  3.0   9.0   \n",
       "3    2010       20004       CHI       COL    4    3   1    HOME  4.0   8.0   \n",
       "4    2010       20005       CGY       EDM    4    0   4    HOME  3.0   9.0   \n",
       "\n",
       "   VD1  VD2  HF1   HF2  HD1  HD2    VF   VD    HF   HD     F     D  \n",
       "0  1.0  5.0  2.0  10.0  1.0  5.0  12.0  6.0  12.0  6.0  24.0  12.0  \n",
       "1  2.0  4.0  5.0   7.0  3.0  3.0  12.0  6.0  12.0  6.0  24.0  12.0  \n",
       "2  1.0  5.0  2.0  10.0  1.0  5.0  12.0  6.0  12.0  6.0  24.0  12.0  \n",
       "3  2.0  4.0  2.0  10.0  1.0  5.0  12.0  6.0  12.0  6.0  24.0  12.0  \n",
       "4  1.0  5.0  0.0  12.0  1.0  5.0  12.0  6.0  12.0  6.0  24.0  12.0  "
      ]
     },
     "execution_count": 166,
     "metadata": {},
     "output_type": "execute_result"
    }
   ],
   "source": [
    "dm['F'] = dm['VF'] + dm['HF']\n",
    "dm['D'] = dm['VD'] + dm['HD']\n",
    "dm.head()"
   ]
  },
  {
   "cell_type": "code",
   "execution_count": 167,
   "metadata": {
    "collapsed": false
   },
   "outputs": [
    {
     "data": {
      "text/plain": [
       "(1230, 22)"
      ]
     },
     "execution_count": 167,
     "metadata": {},
     "output_type": "execute_result"
    }
   ],
   "source": [
    "dm.shape"
   ]
  },
  {
   "cell_type": "code",
   "execution_count": 168,
   "metadata": {
    "collapsed": false
   },
   "outputs": [
    {
     "data": {
      "text/plain": [
       "Season          0\n",
       "GameNumber      0\n",
       "VTeamCode       0\n",
       "HTeamCode       0\n",
       "HGF             0\n",
       "VGF             0\n",
       "GD              0\n",
       "WinTeam         0\n",
       "VF1           215\n",
       "VF2           215\n",
       "VD1           215\n",
       "VD2           215\n",
       "HF1           215\n",
       "HF2           215\n",
       "HD1           215\n",
       "HD2           215\n",
       "VF            215\n",
       "VD            215\n",
       "HF            215\n",
       "HD            215\n",
       "F             215\n",
       "D             215\n",
       "dtype: int64"
      ]
     },
     "execution_count": 168,
     "metadata": {},
     "output_type": "execute_result"
    }
   ],
   "source": [
    "dm.isnull().sum()"
   ]
  },
  {
   "cell_type": "code",
   "execution_count": 169,
   "metadata": {
    "collapsed": false
   },
   "outputs": [],
   "source": [
    "dm = dm[((dm['VF'] == 12) & (dm['VD'] == 6) & (dm['HF'] == 12) & (dm['HD'] == 6))]"
   ]
  },
  {
   "cell_type": "code",
   "execution_count": 170,
   "metadata": {
    "collapsed": false
   },
   "outputs": [
    {
     "data": {
      "text/plain": [
       "(1015, 22)"
      ]
     },
     "execution_count": 170,
     "metadata": {},
     "output_type": "execute_result"
    }
   ],
   "source": [
    "dm.shape"
   ]
  },
  {
   "cell_type": "code",
   "execution_count": 171,
   "metadata": {
    "collapsed": false
   },
   "outputs": [
    {
     "data": {
      "text/plain": [
       "12.0    1015\n",
       "Name: HF, dtype: int64"
      ]
     },
     "execution_count": 171,
     "metadata": {},
     "output_type": "execute_result"
    }
   ],
   "source": [
    "dm['HF'].value_counts()"
   ]
  },
  {
   "cell_type": "code",
   "execution_count": 172,
   "metadata": {
    "collapsed": false
   },
   "outputs": [
    {
     "data": {
      "text/plain": [
       "6.0    1015\n",
       "Name: HD, dtype: int64"
      ]
     },
     "execution_count": 172,
     "metadata": {},
     "output_type": "execute_result"
    }
   ],
   "source": [
    "dm['HD'].value_counts()"
   ]
  },
  {
   "cell_type": "code",
   "execution_count": 173,
   "metadata": {
    "collapsed": false
   },
   "outputs": [
    {
     "data": {
      "text/plain": [
       "12.0    1015\n",
       "Name: VF, dtype: int64"
      ]
     },
     "execution_count": 173,
     "metadata": {},
     "output_type": "execute_result"
    }
   ],
   "source": [
    "dm['VF'].value_counts()"
   ]
  },
  {
   "cell_type": "code",
   "execution_count": 174,
   "metadata": {
    "collapsed": false
   },
   "outputs": [
    {
     "data": {
      "text/plain": [
       "6.0    1015\n",
       "Name: VD, dtype: int64"
      ]
     },
     "execution_count": 174,
     "metadata": {},
     "output_type": "execute_result"
    }
   ],
   "source": [
    "dm['VD'].value_counts()"
   ]
  },
  {
   "cell_type": "markdown",
   "metadata": {},
   "source": [
    "## Summary analysis"
   ]
  },
  {
   "cell_type": "code",
   "execution_count": 175,
   "metadata": {
    "collapsed": false
   },
   "outputs": [
    {
     "data": {
      "text/html": [
       "<div>\n",
       "<table border=\"1\" class=\"dataframe\">\n",
       "  <thead>\n",
       "    <tr style=\"text-align: right;\">\n",
       "      <th></th>\n",
       "      <th>Season</th>\n",
       "      <th>GameNumber</th>\n",
       "      <th>HGF</th>\n",
       "      <th>VGF</th>\n",
       "      <th>GD</th>\n",
       "      <th>VF1</th>\n",
       "      <th>VF2</th>\n",
       "      <th>VD1</th>\n",
       "      <th>VD2</th>\n",
       "      <th>HF1</th>\n",
       "      <th>HF2</th>\n",
       "      <th>HD1</th>\n",
       "      <th>HD2</th>\n",
       "      <th>VF</th>\n",
       "      <th>VD</th>\n",
       "      <th>HF</th>\n",
       "      <th>HD</th>\n",
       "      <th>F</th>\n",
       "      <th>D</th>\n",
       "    </tr>\n",
       "  </thead>\n",
       "  <tbody>\n",
       "    <tr>\n",
       "      <th>count</th>\n",
       "      <td>1015.0</td>\n",
       "      <td>1015.000000</td>\n",
       "      <td>1015.000000</td>\n",
       "      <td>1015.000000</td>\n",
       "      <td>1015.000000</td>\n",
       "      <td>1015.000000</td>\n",
       "      <td>1015.000000</td>\n",
       "      <td>1015.000000</td>\n",
       "      <td>1015.000000</td>\n",
       "      <td>1015.000000</td>\n",
       "      <td>1015.000000</td>\n",
       "      <td>1015.000000</td>\n",
       "      <td>1015.000000</td>\n",
       "      <td>1015.0</td>\n",
       "      <td>1015.0</td>\n",
       "      <td>1015.0</td>\n",
       "      <td>1015.0</td>\n",
       "      <td>1015.0</td>\n",
       "      <td>1015.0</td>\n",
       "    </tr>\n",
       "    <tr>\n",
       "      <th>mean</th>\n",
       "      <td>2010.0</td>\n",
       "      <td>20622.621675</td>\n",
       "      <td>2.941872</td>\n",
       "      <td>2.739901</td>\n",
       "      <td>0.201970</td>\n",
       "      <td>2.825616</td>\n",
       "      <td>9.174384</td>\n",
       "      <td>1.401970</td>\n",
       "      <td>4.598030</td>\n",
       "      <td>3.266010</td>\n",
       "      <td>8.733990</td>\n",
       "      <td>1.599015</td>\n",
       "      <td>4.400985</td>\n",
       "      <td>12.0</td>\n",
       "      <td>6.0</td>\n",
       "      <td>12.0</td>\n",
       "      <td>6.0</td>\n",
       "      <td>24.0</td>\n",
       "      <td>12.0</td>\n",
       "    </tr>\n",
       "    <tr>\n",
       "      <th>std</th>\n",
       "      <td>0.0</td>\n",
       "      <td>352.180753</td>\n",
       "      <td>1.716485</td>\n",
       "      <td>1.634000</td>\n",
       "      <td>2.438513</td>\n",
       "      <td>1.527568</td>\n",
       "      <td>1.527568</td>\n",
       "      <td>0.946287</td>\n",
       "      <td>0.946287</td>\n",
       "      <td>1.590832</td>\n",
       "      <td>1.590832</td>\n",
       "      <td>1.012642</td>\n",
       "      <td>1.012642</td>\n",
       "      <td>0.0</td>\n",
       "      <td>0.0</td>\n",
       "      <td>0.0</td>\n",
       "      <td>0.0</td>\n",
       "      <td>0.0</td>\n",
       "      <td>0.0</td>\n",
       "    </tr>\n",
       "    <tr>\n",
       "      <th>min</th>\n",
       "      <td>2010.0</td>\n",
       "      <td>20001.000000</td>\n",
       "      <td>0.000000</td>\n",
       "      <td>0.000000</td>\n",
       "      <td>-8.000000</td>\n",
       "      <td>0.000000</td>\n",
       "      <td>6.000000</td>\n",
       "      <td>0.000000</td>\n",
       "      <td>3.000000</td>\n",
       "      <td>0.000000</td>\n",
       "      <td>6.000000</td>\n",
       "      <td>0.000000</td>\n",
       "      <td>3.000000</td>\n",
       "      <td>12.0</td>\n",
       "      <td>6.0</td>\n",
       "      <td>12.0</td>\n",
       "      <td>6.0</td>\n",
       "      <td>24.0</td>\n",
       "      <td>12.0</td>\n",
       "    </tr>\n",
       "    <tr>\n",
       "      <th>25%</th>\n",
       "      <td>2010.0</td>\n",
       "      <td>20319.500000</td>\n",
       "      <td>2.000000</td>\n",
       "      <td>2.000000</td>\n",
       "      <td>-1.000000</td>\n",
       "      <td>2.000000</td>\n",
       "      <td>8.000000</td>\n",
       "      <td>1.000000</td>\n",
       "      <td>4.000000</td>\n",
       "      <td>2.000000</td>\n",
       "      <td>7.000000</td>\n",
       "      <td>1.000000</td>\n",
       "      <td>4.000000</td>\n",
       "      <td>12.0</td>\n",
       "      <td>6.0</td>\n",
       "      <td>12.0</td>\n",
       "      <td>6.0</td>\n",
       "      <td>24.0</td>\n",
       "      <td>12.0</td>\n",
       "    </tr>\n",
       "    <tr>\n",
       "      <th>50%</th>\n",
       "      <td>2010.0</td>\n",
       "      <td>20628.000000</td>\n",
       "      <td>3.000000</td>\n",
       "      <td>3.000000</td>\n",
       "      <td>1.000000</td>\n",
       "      <td>3.000000</td>\n",
       "      <td>9.000000</td>\n",
       "      <td>1.000000</td>\n",
       "      <td>5.000000</td>\n",
       "      <td>3.000000</td>\n",
       "      <td>9.000000</td>\n",
       "      <td>2.000000</td>\n",
       "      <td>4.000000</td>\n",
       "      <td>12.0</td>\n",
       "      <td>6.0</td>\n",
       "      <td>12.0</td>\n",
       "      <td>6.0</td>\n",
       "      <td>24.0</td>\n",
       "      <td>12.0</td>\n",
       "    </tr>\n",
       "    <tr>\n",
       "      <th>75%</th>\n",
       "      <td>2010.0</td>\n",
       "      <td>20927.500000</td>\n",
       "      <td>4.000000</td>\n",
       "      <td>4.000000</td>\n",
       "      <td>2.000000</td>\n",
       "      <td>4.000000</td>\n",
       "      <td>10.000000</td>\n",
       "      <td>2.000000</td>\n",
       "      <td>5.000000</td>\n",
       "      <td>5.000000</td>\n",
       "      <td>10.000000</td>\n",
       "      <td>2.000000</td>\n",
       "      <td>5.000000</td>\n",
       "      <td>12.0</td>\n",
       "      <td>6.0</td>\n",
       "      <td>12.0</td>\n",
       "      <td>6.0</td>\n",
       "      <td>24.0</td>\n",
       "      <td>12.0</td>\n",
       "    </tr>\n",
       "    <tr>\n",
       "      <th>max</th>\n",
       "      <td>2010.0</td>\n",
       "      <td>21230.000000</td>\n",
       "      <td>9.000000</td>\n",
       "      <td>10.000000</td>\n",
       "      <td>7.000000</td>\n",
       "      <td>6.000000</td>\n",
       "      <td>12.000000</td>\n",
       "      <td>3.000000</td>\n",
       "      <td>6.000000</td>\n",
       "      <td>6.000000</td>\n",
       "      <td>12.000000</td>\n",
       "      <td>3.000000</td>\n",
       "      <td>6.000000</td>\n",
       "      <td>12.0</td>\n",
       "      <td>6.0</td>\n",
       "      <td>12.0</td>\n",
       "      <td>6.0</td>\n",
       "      <td>24.0</td>\n",
       "      <td>12.0</td>\n",
       "    </tr>\n",
       "  </tbody>\n",
       "</table>\n",
       "</div>"
      ],
      "text/plain": [
       "       Season    GameNumber          HGF          VGF           GD  \\\n",
       "count  1015.0   1015.000000  1015.000000  1015.000000  1015.000000   \n",
       "mean   2010.0  20622.621675     2.941872     2.739901     0.201970   \n",
       "std       0.0    352.180753     1.716485     1.634000     2.438513   \n",
       "min    2010.0  20001.000000     0.000000     0.000000    -8.000000   \n",
       "25%    2010.0  20319.500000     2.000000     2.000000    -1.000000   \n",
       "50%    2010.0  20628.000000     3.000000     3.000000     1.000000   \n",
       "75%    2010.0  20927.500000     4.000000     4.000000     2.000000   \n",
       "max    2010.0  21230.000000     9.000000    10.000000     7.000000   \n",
       "\n",
       "               VF1          VF2          VD1          VD2          HF1  \\\n",
       "count  1015.000000  1015.000000  1015.000000  1015.000000  1015.000000   \n",
       "mean      2.825616     9.174384     1.401970     4.598030     3.266010   \n",
       "std       1.527568     1.527568     0.946287     0.946287     1.590832   \n",
       "min       0.000000     6.000000     0.000000     3.000000     0.000000   \n",
       "25%       2.000000     8.000000     1.000000     4.000000     2.000000   \n",
       "50%       3.000000     9.000000     1.000000     5.000000     3.000000   \n",
       "75%       4.000000    10.000000     2.000000     5.000000     5.000000   \n",
       "max       6.000000    12.000000     3.000000     6.000000     6.000000   \n",
       "\n",
       "               HF2          HD1          HD2      VF      VD      HF      HD  \\\n",
       "count  1015.000000  1015.000000  1015.000000  1015.0  1015.0  1015.0  1015.0   \n",
       "mean      8.733990     1.599015     4.400985    12.0     6.0    12.0     6.0   \n",
       "std       1.590832     1.012642     1.012642     0.0     0.0     0.0     0.0   \n",
       "min       6.000000     0.000000     3.000000    12.0     6.0    12.0     6.0   \n",
       "25%       7.000000     1.000000     4.000000    12.0     6.0    12.0     6.0   \n",
       "50%       9.000000     2.000000     4.000000    12.0     6.0    12.0     6.0   \n",
       "75%      10.000000     2.000000     5.000000    12.0     6.0    12.0     6.0   \n",
       "max      12.000000     3.000000     6.000000    12.0     6.0    12.0     6.0   \n",
       "\n",
       "            F       D  \n",
       "count  1015.0  1015.0  \n",
       "mean     24.0    12.0  \n",
       "std       0.0     0.0  \n",
       "min      24.0    12.0  \n",
       "25%      24.0    12.0  \n",
       "50%      24.0    12.0  \n",
       "75%      24.0    12.0  \n",
       "max      24.0    12.0  "
      ]
     },
     "execution_count": 175,
     "metadata": {},
     "output_type": "execute_result"
    }
   ],
   "source": [
    "dm.describe()"
   ]
  },
  {
   "cell_type": "code",
   "execution_count": 176,
   "metadata": {
    "collapsed": true
   },
   "outputs": [],
   "source": [
    "dm = dm[['Season', 'GameNumber', 'VTeamCode', 'HTeamCode', 'HGF', 'VGF', 'GD','WinTeam',\n",
    "         'VF1', 'VF2', 'VD1', 'VD2', \n",
    "         'HF1', 'HF2', 'HD1', 'HD2']]"
   ]
  },
  {
   "cell_type": "code",
   "execution_count": 177,
   "metadata": {
    "collapsed": false
   },
   "outputs": [],
   "source": [
    "dm['HomeWin'] = dm.apply(lambda x: 1 if x['WinTeam']=='HOME' else 0, axis=1)\n",
    "dm['DF1'] = dm['HF1'] - dm['VF1']\n",
    "dm['DF2'] = dm['HF2'] - dm['VF2']\n",
    "dm['DD1'] = dm['HD1'] - dm['VD1']\n",
    "dm['DD2'] = dm['HD2'] - dm['VD2']"
   ]
  },
  {
   "cell_type": "code",
   "execution_count": 178,
   "metadata": {
    "collapsed": false
   },
   "outputs": [
    {
     "data": {
      "text/html": [
       "<div>\n",
       "<table border=\"1\" class=\"dataframe\">\n",
       "  <thead>\n",
       "    <tr style=\"text-align: right;\">\n",
       "      <th></th>\n",
       "      <th></th>\n",
       "      <th>DF1</th>\n",
       "      <th>DF2</th>\n",
       "      <th>DD1</th>\n",
       "      <th>DD2</th>\n",
       "    </tr>\n",
       "    <tr>\n",
       "      <th>WinTeam</th>\n",
       "      <th></th>\n",
       "      <th></th>\n",
       "      <th></th>\n",
       "      <th></th>\n",
       "      <th></th>\n",
       "    </tr>\n",
       "  </thead>\n",
       "  <tbody>\n",
       "    <tr>\n",
       "      <th rowspan=\"8\" valign=\"top\">AWAY</th>\n",
       "      <th>count</th>\n",
       "      <td>486.000000</td>\n",
       "      <td>486.000000</td>\n",
       "      <td>486.000000</td>\n",
       "      <td>486.000000</td>\n",
       "    </tr>\n",
       "    <tr>\n",
       "      <th>mean</th>\n",
       "      <td>0.310700</td>\n",
       "      <td>-0.310700</td>\n",
       "      <td>0.131687</td>\n",
       "      <td>-0.131687</td>\n",
       "    </tr>\n",
       "    <tr>\n",
       "      <th>std</th>\n",
       "      <td>2.183388</td>\n",
       "      <td>2.183388</td>\n",
       "      <td>1.378459</td>\n",
       "      <td>1.378459</td>\n",
       "    </tr>\n",
       "    <tr>\n",
       "      <th>min</th>\n",
       "      <td>-5.000000</td>\n",
       "      <td>-6.000000</td>\n",
       "      <td>-3.000000</td>\n",
       "      <td>-3.000000</td>\n",
       "    </tr>\n",
       "    <tr>\n",
       "      <th>25%</th>\n",
       "      <td>-1.000000</td>\n",
       "      <td>-2.000000</td>\n",
       "      <td>-1.000000</td>\n",
       "      <td>-1.000000</td>\n",
       "    </tr>\n",
       "    <tr>\n",
       "      <th>50%</th>\n",
       "      <td>0.000000</td>\n",
       "      <td>0.000000</td>\n",
       "      <td>0.000000</td>\n",
       "      <td>0.000000</td>\n",
       "    </tr>\n",
       "    <tr>\n",
       "      <th>75%</th>\n",
       "      <td>2.000000</td>\n",
       "      <td>1.000000</td>\n",
       "      <td>1.000000</td>\n",
       "      <td>1.000000</td>\n",
       "    </tr>\n",
       "    <tr>\n",
       "      <th>max</th>\n",
       "      <td>6.000000</td>\n",
       "      <td>5.000000</td>\n",
       "      <td>3.000000</td>\n",
       "      <td>3.000000</td>\n",
       "    </tr>\n",
       "    <tr>\n",
       "      <th rowspan=\"8\" valign=\"top\">HOME</th>\n",
       "      <th>count</th>\n",
       "      <td>529.000000</td>\n",
       "      <td>529.000000</td>\n",
       "      <td>529.000000</td>\n",
       "      <td>529.000000</td>\n",
       "    </tr>\n",
       "    <tr>\n",
       "      <th>mean</th>\n",
       "      <td>0.559546</td>\n",
       "      <td>-0.559546</td>\n",
       "      <td>0.257089</td>\n",
       "      <td>-0.257089</td>\n",
       "    </tr>\n",
       "    <tr>\n",
       "      <th>std</th>\n",
       "      <td>2.209816</td>\n",
       "      <td>2.209816</td>\n",
       "      <td>1.444055</td>\n",
       "      <td>1.444055</td>\n",
       "    </tr>\n",
       "    <tr>\n",
       "      <th>min</th>\n",
       "      <td>-5.000000</td>\n",
       "      <td>-6.000000</td>\n",
       "      <td>-3.000000</td>\n",
       "      <td>-3.000000</td>\n",
       "    </tr>\n",
       "    <tr>\n",
       "      <th>25%</th>\n",
       "      <td>-1.000000</td>\n",
       "      <td>-2.000000</td>\n",
       "      <td>-1.000000</td>\n",
       "      <td>-1.000000</td>\n",
       "    </tr>\n",
       "    <tr>\n",
       "      <th>50%</th>\n",
       "      <td>1.000000</td>\n",
       "      <td>-1.000000</td>\n",
       "      <td>0.000000</td>\n",
       "      <td>0.000000</td>\n",
       "    </tr>\n",
       "    <tr>\n",
       "      <th>75%</th>\n",
       "      <td>2.000000</td>\n",
       "      <td>1.000000</td>\n",
       "      <td>1.000000</td>\n",
       "      <td>1.000000</td>\n",
       "    </tr>\n",
       "    <tr>\n",
       "      <th>max</th>\n",
       "      <td>6.000000</td>\n",
       "      <td>5.000000</td>\n",
       "      <td>3.000000</td>\n",
       "      <td>3.000000</td>\n",
       "    </tr>\n",
       "  </tbody>\n",
       "</table>\n",
       "</div>"
      ],
      "text/plain": [
       "                      DF1         DF2         DD1         DD2\n",
       "WinTeam                                                      \n",
       "AWAY    count  486.000000  486.000000  486.000000  486.000000\n",
       "        mean     0.310700   -0.310700    0.131687   -0.131687\n",
       "        std      2.183388    2.183388    1.378459    1.378459\n",
       "        min     -5.000000   -6.000000   -3.000000   -3.000000\n",
       "        25%     -1.000000   -2.000000   -1.000000   -1.000000\n",
       "        50%      0.000000    0.000000    0.000000    0.000000\n",
       "        75%      2.000000    1.000000    1.000000    1.000000\n",
       "        max      6.000000    5.000000    3.000000    3.000000\n",
       "HOME    count  529.000000  529.000000  529.000000  529.000000\n",
       "        mean     0.559546   -0.559546    0.257089   -0.257089\n",
       "        std      2.209816    2.209816    1.444055    1.444055\n",
       "        min     -5.000000   -6.000000   -3.000000   -3.000000\n",
       "        25%     -1.000000   -2.000000   -1.000000   -1.000000\n",
       "        50%      1.000000   -1.000000    0.000000    0.000000\n",
       "        75%      2.000000    1.000000    1.000000    1.000000\n",
       "        max      6.000000    5.000000    3.000000    3.000000"
      ]
     },
     "execution_count": 178,
     "metadata": {},
     "output_type": "execute_result"
    }
   ],
   "source": [
    "dm.groupby(['WinTeam'])['DF1', 'DF2', 'DD1', 'DD2'].describe()"
   ]
  },
  {
   "cell_type": "markdown",
   "metadata": {},
   "source": [
    "## Mean number of F1, F2, D1 D1 per team\n",
    "\n",
    "* create a season-team dataframe\n",
    "  \n",
    "  ** number of wins/points/winning percentage"
   ]
  },
  {
   "cell_type": "markdown",
   "metadata": {},
   "source": [
    "### estimate roster model "
   ]
  },
  {
   "cell_type": "markdown",
   "metadata": {},
   "source": [
    "- regress home win on the difference in number of home and visitor players by position and quality (predictor variables). Add a constant to the predictors and use OLS. The purpose is to deterimine the impact each roster positin has on home team success."
   ]
  },
  {
   "cell_type": "code",
   "execution_count": 179,
   "metadata": {
    "collapsed": false
   },
   "outputs": [
    {
     "data": {
      "text/html": [
       "<table class=\"simpletable\">\n",
       "<caption>OLS Regression Results</caption>\n",
       "<tr>\n",
       "  <th>Dep. Variable:</th>         <td>HomeWin</td>     <th>  R-squared:         </th> <td>   0.003</td>\n",
       "</tr>\n",
       "<tr>\n",
       "  <th>Model:</th>                   <td>OLS</td>       <th>  Adj. R-squared:    </th> <td>   0.001</td>\n",
       "</tr>\n",
       "<tr>\n",
       "  <th>Method:</th>             <td>Least Squares</td>  <th>  F-statistic:       </th> <td>   1.635</td>\n",
       "</tr>\n",
       "<tr>\n",
       "  <th>Date:</th>             <td>Mon, 27 Nov 2017</td> <th>  Prob (F-statistic):</th>  <td> 0.196</td> \n",
       "</tr>\n",
       "<tr>\n",
       "  <th>Time:</th>                 <td>15:23:17</td>     <th>  Log-Likelihood:    </th> <td> -734.13</td>\n",
       "</tr>\n",
       "<tr>\n",
       "  <th>No. Observations:</th>      <td>  1015</td>      <th>  AIC:               </th> <td>   1474.</td>\n",
       "</tr>\n",
       "<tr>\n",
       "  <th>Df Residuals:</th>          <td>  1012</td>      <th>  BIC:               </th> <td>   1489.</td>\n",
       "</tr>\n",
       "<tr>\n",
       "  <th>Df Model:</th>              <td>     2</td>      <th>                     </th>     <td> </td>   \n",
       "</tr>\n",
       "<tr>\n",
       "  <th>Covariance Type:</th>      <td>nonrobust</td>    <th>                     </th>     <td> </td>   \n",
       "</tr>\n",
       "</table>\n",
       "<table class=\"simpletable\">\n",
       "<tr>\n",
       "    <td></td>       <th>coef</th>     <th>std err</th>      <th>t</th>      <th>P>|t|</th> <th>[95.0% Conf. Int.]</th> \n",
       "</tr>\n",
       "<tr>\n",
       "  <th>const</th> <td>    0.5155</td> <td>    0.016</td> <td>   32.242</td> <td> 0.000</td> <td>    0.484     0.547</td>\n",
       "</tr>\n",
       "<tr>\n",
       "  <th>DF1</th>   <td>    0.0058</td> <td>    0.005</td> <td>    1.129</td> <td> 0.259</td> <td>   -0.004     0.016</td>\n",
       "</tr>\n",
       "<tr>\n",
       "  <th>DD1</th>   <td>    0.0012</td> <td>    0.008</td> <td>    0.153</td> <td> 0.878</td> <td>   -0.015     0.017</td>\n",
       "</tr>\n",
       "<tr>\n",
       "  <th>DF2</th>   <td>   -0.0058</td> <td>    0.005</td> <td>   -1.129</td> <td> 0.259</td> <td>   -0.016     0.004</td>\n",
       "</tr>\n",
       "<tr>\n",
       "  <th>DD2</th>   <td>   -0.0012</td> <td>    0.008</td> <td>   -0.153</td> <td> 0.878</td> <td>   -0.017     0.015</td>\n",
       "</tr>\n",
       "</table>\n",
       "<table class=\"simpletable\">\n",
       "<tr>\n",
       "  <th>Omnibus:</th>       <td> 1.213</td> <th>  Durbin-Watson:     </th> <td>   1.889</td>\n",
       "</tr>\n",
       "<tr>\n",
       "  <th>Prob(Omnibus):</th> <td> 0.545</td> <th>  Jarque-Bera (JB):  </th> <td> 167.003</td>\n",
       "</tr>\n",
       "<tr>\n",
       "  <th>Skew:</th>          <td>-0.084</td> <th>  Prob(JB):          </th> <td>5.44e-37</td>\n",
       "</tr>\n",
       "<tr>\n",
       "  <th>Kurtosis:</th>      <td> 1.020</td> <th>  Cond. No.          </th> <td>1.00e+17</td>\n",
       "</tr>\n",
       "</table>"
      ],
      "text/plain": [
       "<class 'statsmodels.iolib.summary.Summary'>\n",
       "\"\"\"\n",
       "                            OLS Regression Results                            \n",
       "==============================================================================\n",
       "Dep. Variable:                HomeWin   R-squared:                       0.003\n",
       "Model:                            OLS   Adj. R-squared:                  0.001\n",
       "Method:                 Least Squares   F-statistic:                     1.635\n",
       "Date:                Mon, 27 Nov 2017   Prob (F-statistic):              0.196\n",
       "Time:                        15:23:17   Log-Likelihood:                -734.13\n",
       "No. Observations:                1015   AIC:                             1474.\n",
       "Df Residuals:                    1012   BIC:                             1489.\n",
       "Df Model:                           2                                         \n",
       "Covariance Type:            nonrobust                                         \n",
       "==============================================================================\n",
       "                 coef    std err          t      P>|t|      [95.0% Conf. Int.]\n",
       "------------------------------------------------------------------------------\n",
       "const          0.5155      0.016     32.242      0.000         0.484     0.547\n",
       "DF1            0.0058      0.005      1.129      0.259        -0.004     0.016\n",
       "DD1            0.0012      0.008      0.153      0.878        -0.015     0.017\n",
       "DF2           -0.0058      0.005     -1.129      0.259        -0.016     0.004\n",
       "DD2           -0.0012      0.008     -0.153      0.878        -0.017     0.015\n",
       "==============================================================================\n",
       "Omnibus:                        1.213   Durbin-Watson:                   1.889\n",
       "Prob(Omnibus):                  0.545   Jarque-Bera (JB):              167.003\n",
       "Skew:                          -0.084   Prob(JB):                     5.44e-37\n",
       "Kurtosis:                       1.020   Cond. No.                     1.00e+17\n",
       "==============================================================================\n",
       "\n",
       "Warnings:\n",
       "[1] Standard Errors assume that the covariance matrix of the errors is correctly specified.\n",
       "[2] The smallest eigenvalue is 1.27e-30. This might indicate that there are\n",
       "strong multicollinearity problems or that the design matrix is singular.\n",
       "\"\"\""
      ]
     },
     "execution_count": 179,
     "metadata": {},
     "output_type": "execute_result"
    }
   ],
   "source": [
    "y = dm['HomeWin']  \n",
    "X = sm.add_constant(dm[['DF1', 'DD1', 'DF2', 'DD2']] )\n",
    "result = sm.OLS(y, X).fit()\n",
    "result.summary()"
   ]
  },
  {
   "cell_type": "code",
   "execution_count": 180,
   "metadata": {
    "collapsed": false
   },
   "outputs": [
    {
     "data": {
      "text/plain": [
       "const    0.515545\n",
       "DF1      0.005848\n",
       "DD1      0.001235\n",
       "DF2     -0.005848\n",
       "DD2     -0.001235\n",
       "dtype: float64"
      ]
     },
     "execution_count": 180,
     "metadata": {},
     "output_type": "execute_result"
    }
   ],
   "source": [
    "result.params"
   ]
  },
  {
   "cell_type": "markdown",
   "metadata": {
    "collapsed": true
   },
   "source": [
    "- By increasing the differential of **elite** player quality in forwards and defense (home team – visitor team) by one unit, home win **increases** by 0.4% and 1% respectfully.\n",
    "- By increasing the differential of **secondary** player quality in forwards and defense (home team – visitor team) by one unit, home win **decreases** by 0.4% and 1% respectfully."
   ]
  },
  {
   "cell_type": "code",
   "execution_count": 181,
   "metadata": {
    "collapsed": false
   },
   "outputs": [
    {
     "data": {
      "text/html": [
       "<table class=\"simpletable\">\n",
       "<caption>OLS Regression Results</caption>\n",
       "<tr>\n",
       "  <th>Dep. Variable:</th>         <td>HomeWin</td>     <th>  R-squared:         </th> <td>   0.003</td>\n",
       "</tr>\n",
       "<tr>\n",
       "  <th>Model:</th>                   <td>OLS</td>       <th>  Adj. R-squared:    </th> <td>   0.001</td>\n",
       "</tr>\n",
       "<tr>\n",
       "  <th>Method:</th>             <td>Least Squares</td>  <th>  F-statistic:       </th> <td>   1.635</td>\n",
       "</tr>\n",
       "<tr>\n",
       "  <th>Date:</th>             <td>Mon, 27 Nov 2017</td> <th>  Prob (F-statistic):</th>  <td> 0.196</td> \n",
       "</tr>\n",
       "<tr>\n",
       "  <th>Time:</th>                 <td>15:23:17</td>     <th>  Log-Likelihood:    </th> <td> -734.13</td>\n",
       "</tr>\n",
       "<tr>\n",
       "  <th>No. Observations:</th>      <td>  1015</td>      <th>  AIC:               </th> <td>   1474.</td>\n",
       "</tr>\n",
       "<tr>\n",
       "  <th>Df Residuals:</th>          <td>  1012</td>      <th>  BIC:               </th> <td>   1489.</td>\n",
       "</tr>\n",
       "<tr>\n",
       "  <th>Df Model:</th>              <td>     2</td>      <th>                     </th>     <td> </td>   \n",
       "</tr>\n",
       "<tr>\n",
       "  <th>Covariance Type:</th>      <td>nonrobust</td>    <th>                     </th>     <td> </td>   \n",
       "</tr>\n",
       "</table>\n",
       "<table class=\"simpletable\">\n",
       "<tr>\n",
       "    <td></td>       <th>coef</th>     <th>std err</th>      <th>t</th>      <th>P>|t|</th> <th>[95.0% Conf. Int.]</th> \n",
       "</tr>\n",
       "<tr>\n",
       "  <th>const</th> <td>    0.5155</td> <td>    0.016</td> <td>   32.242</td> <td> 0.000</td> <td>    0.484     0.547</td>\n",
       "</tr>\n",
       "<tr>\n",
       "  <th>DF1</th>   <td>    0.0117</td> <td>    0.010</td> <td>    1.129</td> <td> 0.259</td> <td>   -0.009     0.032</td>\n",
       "</tr>\n",
       "<tr>\n",
       "  <th>DD1</th>   <td>    0.0025</td> <td>    0.016</td> <td>    0.153</td> <td> 0.878</td> <td>   -0.029     0.034</td>\n",
       "</tr>\n",
       "</table>\n",
       "<table class=\"simpletable\">\n",
       "<tr>\n",
       "  <th>Omnibus:</th>       <td> 1.213</td> <th>  Durbin-Watson:     </th> <td>   1.889</td>\n",
       "</tr>\n",
       "<tr>\n",
       "  <th>Prob(Omnibus):</th> <td> 0.545</td> <th>  Jarque-Bera (JB):  </th> <td> 167.003</td>\n",
       "</tr>\n",
       "<tr>\n",
       "  <th>Skew:</th>          <td>-0.084</td> <th>  Prob(JB):          </th> <td>5.44e-37</td>\n",
       "</tr>\n",
       "<tr>\n",
       "  <th>Kurtosis:</th>      <td> 1.020</td> <th>  Cond. No.          </th> <td>    2.92</td>\n",
       "</tr>\n",
       "</table>"
      ],
      "text/plain": [
       "<class 'statsmodels.iolib.summary.Summary'>\n",
       "\"\"\"\n",
       "                            OLS Regression Results                            \n",
       "==============================================================================\n",
       "Dep. Variable:                HomeWin   R-squared:                       0.003\n",
       "Model:                            OLS   Adj. R-squared:                  0.001\n",
       "Method:                 Least Squares   F-statistic:                     1.635\n",
       "Date:                Mon, 27 Nov 2017   Prob (F-statistic):              0.196\n",
       "Time:                        15:23:17   Log-Likelihood:                -734.13\n",
       "No. Observations:                1015   AIC:                             1474.\n",
       "Df Residuals:                    1012   BIC:                             1489.\n",
       "Df Model:                           2                                         \n",
       "Covariance Type:            nonrobust                                         \n",
       "==============================================================================\n",
       "                 coef    std err          t      P>|t|      [95.0% Conf. Int.]\n",
       "------------------------------------------------------------------------------\n",
       "const          0.5155      0.016     32.242      0.000         0.484     0.547\n",
       "DF1            0.0117      0.010      1.129      0.259        -0.009     0.032\n",
       "DD1            0.0025      0.016      0.153      0.878        -0.029     0.034\n",
       "==============================================================================\n",
       "Omnibus:                        1.213   Durbin-Watson:                   1.889\n",
       "Prob(Omnibus):                  0.545   Jarque-Bera (JB):              167.003\n",
       "Skew:                          -0.084   Prob(JB):                     5.44e-37\n",
       "Kurtosis:                       1.020   Cond. No.                         2.92\n",
       "==============================================================================\n",
       "\n",
       "Warnings:\n",
       "[1] Standard Errors assume that the covariance matrix of the errors is correctly specified.\n",
       "\"\"\""
      ]
     },
     "execution_count": 181,
     "metadata": {},
     "output_type": "execute_result"
    }
   ],
   "source": [
    "y = dm['HomeWin']  \n",
    "X = sm.add_constant(dm[['DF1', 'DD1']] )\n",
    "result = sm.OLS(y, X).fit()\n",
    "result.summary()"
   ]
  },
  {
   "cell_type": "code",
   "execution_count": 183,
   "metadata": {
    "collapsed": false
   },
   "outputs": [
    {
     "name": "stdout",
     "output_type": "stream",
     "text": [
      "Optimization terminated successfully.\n",
      "         Current function value: 0.690637\n",
      "         Iterations 4\n"
     ]
    },
    {
     "data": {
      "text/html": [
       "<table class=\"simpletable\">\n",
       "<caption>Logit Regression Results</caption>\n",
       "<tr>\n",
       "  <th>Dep. Variable:</th>      <td>HomeWin</td>     <th>  No. Observations:  </th>  <td>  1015</td> \n",
       "</tr>\n",
       "<tr>\n",
       "  <th>Model:</th>               <td>Logit</td>      <th>  Df Residuals:      </th>  <td>  1012</td> \n",
       "</tr>\n",
       "<tr>\n",
       "  <th>Method:</th>               <td>MLE</td>       <th>  Df Model:          </th>  <td>     2</td> \n",
       "</tr>\n",
       "<tr>\n",
       "  <th>Date:</th>          <td>Mon, 27 Nov 2017</td> <th>  Pseudo R-squ.:     </th> <td>0.002329</td>\n",
       "</tr>\n",
       "<tr>\n",
       "  <th>Time:</th>              <td>15:23:24</td>     <th>  Log-Likelihood:    </th> <td> -701.00</td>\n",
       "</tr>\n",
       "<tr>\n",
       "  <th>converged:</th>           <td>True</td>       <th>  LL-Null:           </th> <td> -702.63</td>\n",
       "</tr>\n",
       "<tr>\n",
       "  <th> </th>                      <td> </td>        <th>  LLR p-value:       </th>  <td>0.1947</td> \n",
       "</tr>\n",
       "</table>\n",
       "<table class=\"simpletable\">\n",
       "<tr>\n",
       "    <td></td>       <th>coef</th>     <th>std err</th>      <th>z</th>      <th>P>|z|</th> <th>[95.0% Conf. Int.]</th> \n",
       "</tr>\n",
       "<tr>\n",
       "  <th>const</th> <td>    0.0624</td> <td>    0.064</td> <td>    0.973</td> <td> 0.331</td> <td>   -0.063     0.188</td>\n",
       "</tr>\n",
       "<tr>\n",
       "  <th>DF1</th>   <td>    0.0470</td> <td>    0.042</td> <td>    1.128</td> <td> 0.259</td> <td>   -0.035     0.129</td>\n",
       "</tr>\n",
       "<tr>\n",
       "  <th>DD1</th>   <td>    0.0099</td> <td>    0.065</td> <td>    0.153</td> <td> 0.879</td> <td>   -0.117     0.137</td>\n",
       "</tr>\n",
       "</table>"
      ],
      "text/plain": [
       "<class 'statsmodels.iolib.summary.Summary'>\n",
       "\"\"\"\n",
       "                           Logit Regression Results                           \n",
       "==============================================================================\n",
       "Dep. Variable:                HomeWin   No. Observations:                 1015\n",
       "Model:                          Logit   Df Residuals:                     1012\n",
       "Method:                           MLE   Df Model:                            2\n",
       "Date:                Mon, 27 Nov 2017   Pseudo R-squ.:                0.002329\n",
       "Time:                        15:23:24   Log-Likelihood:                -701.00\n",
       "converged:                       True   LL-Null:                       -702.63\n",
       "                                        LLR p-value:                    0.1947\n",
       "==============================================================================\n",
       "                 coef    std err          z      P>|z|      [95.0% Conf. Int.]\n",
       "------------------------------------------------------------------------------\n",
       "const          0.0624      0.064      0.973      0.331        -0.063     0.188\n",
       "DF1            0.0470      0.042      1.128      0.259        -0.035     0.129\n",
       "DD1            0.0099      0.065      0.153      0.879        -0.117     0.137\n",
       "==============================================================================\n",
       "\"\"\""
      ]
     },
     "execution_count": 183,
     "metadata": {},
     "output_type": "execute_result"
    }
   ],
   "source": [
    "y = dm['HomeWin']  \n",
    "X = sm.add_constant(dm[['DF1', 'DD1']] )\n",
    "result = sm.Logit(y, X).fit()\n",
    "result.summary()"
   ]
  },
  {
   "cell_type": "code",
   "execution_count": 184,
   "metadata": {
    "collapsed": false
   },
   "outputs": [
    {
     "name": "stdout",
     "output_type": "stream",
     "text": [
      "Optimization terminated successfully.\n",
      "         Current function value: 0.690637\n",
      "         Iterations 4\n"
     ]
    },
    {
     "data": {
      "text/html": [
       "<table class=\"simpletable\">\n",
       "<caption>Logit Regression Results</caption>\n",
       "<tr>\n",
       "  <th>Dep. Variable:</th>      <td>HomeWin</td>     <th>  No. Observations:  </th>  <td>  1015</td> \n",
       "</tr>\n",
       "<tr>\n",
       "  <th>Model:</th>               <td>Logit</td>      <th>  Df Residuals:      </th>  <td>  1012</td> \n",
       "</tr>\n",
       "<tr>\n",
       "  <th>Method:</th>               <td>MLE</td>       <th>  Df Model:          </th>  <td>     2</td> \n",
       "</tr>\n",
       "<tr>\n",
       "  <th>Date:</th>          <td>Mon, 27 Nov 2017</td> <th>  Pseudo R-squ.:     </th> <td>0.002329</td>\n",
       "</tr>\n",
       "<tr>\n",
       "  <th>Time:</th>              <td>15:23:28</td>     <th>  Log-Likelihood:    </th> <td> -701.00</td>\n",
       "</tr>\n",
       "<tr>\n",
       "  <th>converged:</th>           <td>True</td>       <th>  LL-Null:           </th> <td> -702.63</td>\n",
       "</tr>\n",
       "<tr>\n",
       "  <th> </th>                      <td> </td>        <th>  LLR p-value:       </th>  <td>0.1947</td> \n",
       "</tr>\n",
       "</table>\n",
       "<table class=\"simpletable\">\n",
       "<tr>\n",
       "    <td></td>       <th>coef</th>     <th>std err</th>      <th>z</th>      <th>P>|z|</th> <th>[95.0% Conf. Int.]</th> \n",
       "</tr>\n",
       "<tr>\n",
       "  <th>const</th> <td>    0.0624</td> <td>    0.064</td> <td>    0.973</td> <td> 0.331</td> <td>   -0.063     0.188</td>\n",
       "</tr>\n",
       "<tr>\n",
       "  <th>DF2</th>   <td>   -0.0470</td> <td>    0.042</td> <td>   -1.128</td> <td> 0.259</td> <td>   -0.129     0.035</td>\n",
       "</tr>\n",
       "<tr>\n",
       "  <th>DD2</th>   <td>   -0.0099</td> <td>    0.065</td> <td>   -0.153</td> <td> 0.879</td> <td>   -0.137     0.117</td>\n",
       "</tr>\n",
       "</table>"
      ],
      "text/plain": [
       "<class 'statsmodels.iolib.summary.Summary'>\n",
       "\"\"\"\n",
       "                           Logit Regression Results                           \n",
       "==============================================================================\n",
       "Dep. Variable:                HomeWin   No. Observations:                 1015\n",
       "Model:                          Logit   Df Residuals:                     1012\n",
       "Method:                           MLE   Df Model:                            2\n",
       "Date:                Mon, 27 Nov 2017   Pseudo R-squ.:                0.002329\n",
       "Time:                        15:23:28   Log-Likelihood:                -701.00\n",
       "converged:                       True   LL-Null:                       -702.63\n",
       "                                        LLR p-value:                    0.1947\n",
       "==============================================================================\n",
       "                 coef    std err          z      P>|z|      [95.0% Conf. Int.]\n",
       "------------------------------------------------------------------------------\n",
       "const          0.0624      0.064      0.973      0.331        -0.063     0.188\n",
       "DF2           -0.0470      0.042     -1.128      0.259        -0.129     0.035\n",
       "DD2           -0.0099      0.065     -0.153      0.879        -0.137     0.117\n",
       "==============================================================================\n",
       "\"\"\""
      ]
     },
     "execution_count": 184,
     "metadata": {},
     "output_type": "execute_result"
    }
   ],
   "source": [
    "y = dm['HomeWin']  \n",
    "X = sm.add_constant(dm[['DF2', 'DD2']] )\n",
    "result = sm.Logit(y, X).fit()\n",
    "result.summary()"
   ]
  },
  {
   "cell_type": "code",
   "execution_count": 185,
   "metadata": {
    "collapsed": false
   },
   "outputs": [
    {
     "data": {
      "text/html": [
       "<table class=\"simpletable\">\n",
       "<caption>OLS Regression Results</caption>\n",
       "<tr>\n",
       "  <th>Dep. Variable:</th>           <td>GD</td>        <th>  R-squared:         </th> <td>   0.003</td>\n",
       "</tr>\n",
       "<tr>\n",
       "  <th>Model:</th>                   <td>OLS</td>       <th>  Adj. R-squared:    </th> <td>   0.001</td>\n",
       "</tr>\n",
       "<tr>\n",
       "  <th>Method:</th>             <td>Least Squares</td>  <th>  F-statistic:       </th> <td>   1.435</td>\n",
       "</tr>\n",
       "<tr>\n",
       "  <th>Date:</th>             <td>Mon, 27 Nov 2017</td> <th>  Prob (F-statistic):</th>  <td> 0.239</td> \n",
       "</tr>\n",
       "<tr>\n",
       "  <th>Time:</th>                 <td>15:23:31</td>     <th>  Log-Likelihood:    </th> <td> -2343.0</td>\n",
       "</tr>\n",
       "<tr>\n",
       "  <th>No. Observations:</th>      <td>  1015</td>      <th>  AIC:               </th> <td>   4692.</td>\n",
       "</tr>\n",
       "<tr>\n",
       "  <th>Df Residuals:</th>          <td>  1012</td>      <th>  BIC:               </th> <td>   4707.</td>\n",
       "</tr>\n",
       "<tr>\n",
       "  <th>Df Model:</th>              <td>     2</td>      <th>                     </th>     <td> </td>   \n",
       "</tr>\n",
       "<tr>\n",
       "  <th>Covariance Type:</th>      <td>nonrobust</td>    <th>                     </th>     <td> </td>   \n",
       "</tr>\n",
       "</table>\n",
       "<table class=\"simpletable\">\n",
       "<tr>\n",
       "    <td></td>       <th>coef</th>     <th>std err</th>      <th>t</th>      <th>P>|t|</th> <th>[95.0% Conf. Int.]</th> \n",
       "</tr>\n",
       "<tr>\n",
       "  <th>const</th> <td>    0.1787</td> <td>    0.078</td> <td>    2.291</td> <td> 0.022</td> <td>    0.026     0.332</td>\n",
       "</tr>\n",
       "<tr>\n",
       "  <th>DF1</th>   <td>    0.0409</td> <td>    0.025</td> <td>    1.617</td> <td> 0.106</td> <td>   -0.009     0.090</td>\n",
       "</tr>\n",
       "<tr>\n",
       "  <th>DD1</th>   <td>   -0.0324</td> <td>    0.039</td> <td>   -0.824</td> <td> 0.410</td> <td>   -0.110     0.045</td>\n",
       "</tr>\n",
       "<tr>\n",
       "  <th>DF2</th>   <td>   -0.0409</td> <td>    0.025</td> <td>   -1.617</td> <td> 0.106</td> <td>   -0.090     0.009</td>\n",
       "</tr>\n",
       "<tr>\n",
       "  <th>DD2</th>   <td>    0.0324</td> <td>    0.039</td> <td>    0.824</td> <td> 0.410</td> <td>   -0.045     0.110</td>\n",
       "</tr>\n",
       "</table>\n",
       "<table class=\"simpletable\">\n",
       "<tr>\n",
       "  <th>Omnibus:</th>       <td> 0.427</td> <th>  Durbin-Watson:     </th> <td>   1.918</td>\n",
       "</tr>\n",
       "<tr>\n",
       "  <th>Prob(Omnibus):</th> <td> 0.808</td> <th>  Jarque-Bera (JB):  </th> <td>   0.516</td>\n",
       "</tr>\n",
       "<tr>\n",
       "  <th>Skew:</th>          <td> 0.001</td> <th>  Prob(JB):          </th> <td>   0.773</td>\n",
       "</tr>\n",
       "<tr>\n",
       "  <th>Kurtosis:</th>      <td> 2.890</td> <th>  Cond. No.          </th> <td>1.00e+17</td>\n",
       "</tr>\n",
       "</table>"
      ],
      "text/plain": [
       "<class 'statsmodels.iolib.summary.Summary'>\n",
       "\"\"\"\n",
       "                            OLS Regression Results                            \n",
       "==============================================================================\n",
       "Dep. Variable:                     GD   R-squared:                       0.003\n",
       "Model:                            OLS   Adj. R-squared:                  0.001\n",
       "Method:                 Least Squares   F-statistic:                     1.435\n",
       "Date:                Mon, 27 Nov 2017   Prob (F-statistic):              0.239\n",
       "Time:                        15:23:31   Log-Likelihood:                -2343.0\n",
       "No. Observations:                1015   AIC:                             4692.\n",
       "Df Residuals:                    1012   BIC:                             4707.\n",
       "Df Model:                           2                                         \n",
       "Covariance Type:            nonrobust                                         \n",
       "==============================================================================\n",
       "                 coef    std err          t      P>|t|      [95.0% Conf. Int.]\n",
       "------------------------------------------------------------------------------\n",
       "const          0.1787      0.078      2.291      0.022         0.026     0.332\n",
       "DF1            0.0409      0.025      1.617      0.106        -0.009     0.090\n",
       "DD1           -0.0324      0.039     -0.824      0.410        -0.110     0.045\n",
       "DF2           -0.0409      0.025     -1.617      0.106        -0.090     0.009\n",
       "DD2            0.0324      0.039      0.824      0.410        -0.045     0.110\n",
       "==============================================================================\n",
       "Omnibus:                        0.427   Durbin-Watson:                   1.918\n",
       "Prob(Omnibus):                  0.808   Jarque-Bera (JB):                0.516\n",
       "Skew:                           0.001   Prob(JB):                        0.773\n",
       "Kurtosis:                       2.890   Cond. No.                     1.00e+17\n",
       "==============================================================================\n",
       "\n",
       "Warnings:\n",
       "[1] Standard Errors assume that the covariance matrix of the errors is correctly specified.\n",
       "[2] The smallest eigenvalue is 1.27e-30. This might indicate that there are\n",
       "strong multicollinearity problems or that the design matrix is singular.\n",
       "\"\"\""
      ]
     },
     "execution_count": 185,
     "metadata": {},
     "output_type": "execute_result"
    }
   ],
   "source": [
    "y = dm['GD']  \n",
    "X = sm.add_constant(dm[['DF1', 'DD1', 'DF2', 'DD2']] )\n",
    "result = sm.OLS(y, X).fit()\n",
    "result.summary()"
   ]
  },
  {
   "cell_type": "code",
   "execution_count": null,
   "metadata": {
    "collapsed": true
   },
   "outputs": [],
   "source": []
  }
 ],
 "metadata": {
  "kernelspec": {
   "display_name": "Python 3",
   "language": "python",
   "name": "python3"
  },
  "language_info": {
   "codemirror_mode": {
    "name": "ipython",
    "version": 3
   },
   "file_extension": ".py",
   "mimetype": "text/x-python",
   "name": "python",
   "nbconvert_exporter": "python",
   "pygments_lexer": "ipython3",
   "version": "3.6.0"
  }
 },
 "nbformat": 4,
 "nbformat_minor": 2
}
