{
 "cells": [
  {
   "cell_type": "markdown",
   "metadata": {},
   "source": [
    "# Player Allocation"
   ]
  },
  {
   "cell_type": "markdown",
   "metadata": {},
   "source": [
    "Upon completion of evaluation of overall performance for all skaters, each player will be categorized and assigned to their respectful position within the roster of their team. The fundamental statistic used to differentiate top from bottom players, is zone start percentage. There are three zones from where plays can be started: offensive, neutral and defensive. Offensive zone start percentage is calculated by the number of face-offs held in the attacking area divided by the sum of face-offs an individual player was on the ice for. Identically, defensive zone start percentage is computed by the number of face-offs taken in their own territory divided by the total face-offs each player was on the ice for. Skaters who are talented in creating opportunities and producing goals will have a greater percentage of offensive zone starts in comparison to defensive zone starts. Equivalently, players who are skilled in preventing chances and goals being conceded, will have a higher defensive zone start percentage in correlation to offensive zone starts. In other words, top six forwards and top four pairing defensemen will start much of their shifts in the zone their opponent whereas bottom six forwards and bottom pairing defensemen in their own zone.\n"
   ]
  },
  {
   "cell_type": "markdown",
   "metadata": {},
   "source": [
    "### purpose of notebook:"
   ]
  },
  {
   "cell_type": "markdown",
   "metadata": {},
   "source": [
    "- assign zone start to players."
   ]
  },
  {
   "cell_type": "markdown",
   "metadata": {},
   "source": [
    "- sum zone start per player."
   ]
  },
  {
   "cell_type": "markdown",
   "metadata": {},
   "source": [
    "- player allocation to forward lines and defensive pairings for each team."
   ]
  },
  {
   "cell_type": "markdown",
   "metadata": {},
   "source": [
    "- overall roster position of each player for both home and away games."
   ]
  },
  {
   "cell_type": "markdown",
   "metadata": {},
   "source": [
    "##  import modules"
   ]
  },
  {
   "cell_type": "code",
   "execution_count": 1,
   "metadata": {
    "collapsed": true
   },
   "outputs": [],
   "source": [
    "import sys\n",
    "import os\n",
    "import pandas as pd\n",
    "import numpy as np\n",
    "import datetime, time\n",
    "import matplotlib.pyplot as plt\n",
    "import statsmodels.api as sm\n",
    "from statsmodels.formula.api import ols\n",
    "from pylab import hist, show\n",
    "import scipy"
   ]
  },
  {
   "cell_type": "markdown",
   "metadata": {},
   "source": [
    "### import data frame"
   ]
  },
  {
   "cell_type": "markdown",
   "metadata": {},
   "source": [
    "The player evaluation data frame is used for player allocation."
   ]
  },
  {
   "cell_type": "code",
   "execution_count": 17,
   "metadata": {
    "collapsed": false
   },
   "outputs": [],
   "source": [
    "dm = pd.read_csv('out_data/player_evaluation.csv')\n",
    "dm = dm.drop('Unnamed: 0', axis=1)"
   ]
  },
  {
   "cell_type": "markdown",
   "metadata": {},
   "source": [
    "### assign zone start to players"
   ]
  },
  {
   "cell_type": "markdown",
   "metadata": {},
   "source": [
    "The value of zone start is assigned to all players that were on ice, a total of 12 players (6 per team). The overall zone start variable of each player is the total (sum) of events they participated in. "
   ]
  },
  {
   "cell_type": "markdown",
   "metadata": {},
   "source": [
    "#### overall zone start of each player from the visitor team and the home team in all (6) positions "
   ]
  },
  {
   "cell_type": "markdown",
   "metadata": {},
   "source": [
    "Group data frame by season, visitor team code and visitor player.\n",
    "- create variable that sums up the overall zone start of each player from the **visitor team** and from the **home team**."
   ]
  },
  {
   "cell_type": "code",
   "execution_count": 18,
   "metadata": {
    "collapsed": true
   },
   "outputs": [],
   "source": [
    "dm['zvp'] = dm.groupby(['Season', 'VTeamCode', 'VPlayer'])['vzs'].transform('sum')\n",
    "dm['zhp'] = dm.groupby(['Season', 'HTeamCode', 'HPlayer'])['hzs'].transform('sum')"
   ]
  },
  {
   "cell_type": "markdown",
   "metadata": {},
   "source": [
    "## overall zone starts"
   ]
  },
  {
   "cell_type": "markdown",
   "metadata": {},
   "source": [
    "Zone starts of each player has been calculated only for his team being home or away for the season, since home zone start value and visitor zone start value were used. The **total zone starts** of each player is the total of zone starts he participated for a whole season. Thus, the sum of both home and away zone starts.\n",
    "- create a variable will add up the home zone start value and away zone start value for all players of a given team."
   ]
  },
  {
   "cell_type": "code",
   "execution_count": 6,
   "metadata": {
    "collapsed": false
   },
   "outputs": [],
   "source": [
    "dm['zplyr'] = np.where((dm['Season'] == dm['Season']) & (dm['HTeamCode'] == dm['VTeamCode']) & (dm['HPlayer'] == dm['VPlayer']), (dm['zhp'] + dm['zvp'])/dm['gp'],\n",
    "                   (np.where((dm['Season'] == dm['Season']) & (dm['HTeamCode'] != dm['VTeamCode']) & (dm['HPlayer'] != dm['VPlayer']), dm['zhp']/dm['hgp'],\n",
    "                   (np.where((dm['Season'] == dm['Season']) &(dm['VTeamCode'] == dm['HTeamCode']) & (dm['VPlayer'] == dm['HPlayer']), (dm['zvp'] + dm['zhp'])/dm['gp'], dm['zvp']/dm['vgp'])))))"
   ]
  },
  {
   "cell_type": "markdown",
   "metadata": {},
   "source": [
    "## allocate players per position to forward lines and defensive pairings"
   ]
  },
  {
   "cell_type": "markdown",
   "metadata": {},
   "source": [
    "- position 1 is the **right wing** position of forward lines.\n",
    "- position 2 is the **right wing** position of forward lines.\n",
    "- position 3 is the **left wing** position of forward lines. \n",
    "- position 4 is the **right defense** position of defense pairing. \n",
    "- position 5 is the **left defense** position of defense pairing.\n",
    "- position 6 is the **goaltender** position."
   ]
  },
  {
   "cell_type": "markdown",
   "metadata": {},
   "source": [
    "- If the zone start variable of a player for a given team is the highest in that specific position, it indicates that he participated in the most offensive zone starts. These skaters will be identified as **first line forwards and top defenisive pairing**.\n",
    "- If the zone start variable of a player is the second highest in that specific position, it indicates that the given skater participated in the second most offensive zone starts. These skaters will be identified as **second line forwards and second defenisive pairing**. \n",
    "- If the zone start variable of a player is the third highest in that specific position, it indicates that the given skater participated in the third most offensive zone starts. These skaters will be identified as **third line forwards and bottom defenisive pairing**. \n",
    "- If the zone start variable of a player is the lowest in that specific position, it indicates that the given skater participated in the least offensive zone starts. These skaters will be identified as **fourth line forwards**. "
   ]
  },
  {
   "cell_type": "markdown",
   "metadata": {},
   "source": [
    "### a) visitor team"
   ]
  },
  {
   "cell_type": "markdown",
   "metadata": {},
   "source": [
    "- generate a variable that will allocate all players to their respectful line. If **total zone start ** is the highest amongst players per position, that player is assinged to the **top line**. If **total zone start** is the lowest amongst players per position, that player is assinged to the **4th line**. For the two values left, the player that has the highest **total zone start ** will be allocated to the **2nd line**. The other player will be assigned to the **3rd line**."
   ]
  },
  {
   "cell_type": "code",
   "execution_count": 7,
   "metadata": {
    "collapsed": true
   },
   "outputs": [],
   "source": [
    "dm['vmax'] = dm.groupby(['Season', 'VTeamCode', 'VPosition'])['zvp'].transform(max)"
   ]
  },
  {
   "cell_type": "code",
   "execution_count": 8,
   "metadata": {
    "collapsed": false
   },
   "outputs": [],
   "source": [
    "dm['vmin'] = dm.groupby(['Season', 'VTeamCode', 'VPosition'])['zvp'].transform(min)"
   ]
  },
  {
   "cell_type": "code",
   "execution_count": 9,
   "metadata": {
    "collapsed": false
   },
   "outputs": [],
   "source": [
    "dm['vpos'] = np.where((dm['Season'] == dm['Season']) & (dm['VTeamCode'] == dm['VTeamCode']) & (dm['VPosition'] == 'C') & (dm['zvp'] == dm['vmax']), 1, \n",
    "                    (np.where((dm['Season'] == dm['Season']) & (dm['VTeamCode'] == dm['VTeamCode']) & (dm['VPosition'] == 'C') & (dm['zvp'] == dm['vmin']), 4,\n",
    "                        (np.where((dm['Season'] == dm['Season']) & (dm['VTeamCode'] == dm['VTeamCode']) & (dm['VPosition'] == 'C') & (dm['VPlayer'] != dm['VPlayer']) & (dm['zvp'] != dm['vmax']) & (dm['zvp'] != dm['vmin']) & (dm['zvp'].shift() != dm['vmax']) & (dm['zvp'].shift() != dm['vmin']) & (dm['zvp'] > dm['zvp'].shift()), 2, \n",
    "                                  (np.where((dm['Season'] == dm['Season']) & (dm['VTeamCode'] == dm['VTeamCode']) & (dm['VPosition'] == 'RW') & (dm['zvp'] == dm['vmax']), 1, \n",
    "                                    (np.where((dm['Season'] == dm['Season']) & (dm['VTeamCode'] == dm['VTeamCode']) & (dm['VPosition'] == 'RW') & (dm['zvp'] == dm['vmin']), 4,\n",
    "                                      (np.where((dm['Season'] == dm['Season']) & (dm['VTeamCode'] == dm['VTeamCode']) & (dm['VPosition'] == 'RW') & (dm['VPlayer'] != dm['VPlayer']) & (dm['zvp'] != dm['vmax']) & (dm['zvp'] != dm['vmin']) & (dm['zvp'].shift() != dm['vmax']) & (dm['zvp'].shift() != dm['vmin']) & (dm['zvp'] > dm['zvp'].shift()), 2,\n",
    "                                                (np.where((dm['Season'] == dm['Season']) & (dm['VTeamCode'] == dm['VTeamCode']) & (dm['VPosition'] == 'LW') & (dm['zvp'] == dm['vmax']), 1, \n",
    "                                                          (np.where((dm['Season'] == dm['Season']) & (dm['VTeamCode'] == dm['VTeamCode']) & (dm['VPosition'] == 'LW') & (dm['zvp'] == dm['vmin']), 4,\n",
    "                                                                    (np.where((dm['Season'] == dm['Season']) & (dm['VTeamCode'] == dm['VTeamCode']) & (dm['VPosition'] == 'LW') & (dm['VPlayer'] != dm['VPlayer']) & (dm['zvp'] != dm['vmax']) & (dm['zvp'] != dm['vmin']) & (dm['zvp'].shift() != dm['vmax']) & (dm['zvp'].shift() != dm['vmin']) & (dm['zvp'] > dm['zvp'].shift()), 2,\n",
    "                                                                              (np.where((dm['Season'] == dm['Season']) & (dm['VTeamCode'] == dm['VTeamCode']) & (dm['VPosition'] == 'RD') & (dm['zvp'] == dm['vmax']), 1, \n",
    "                                                                                        (np.where((dm['Season'] == dm['Season']) & (dm['VTeamCode'] == dm['VTeamCode']) & (dm['VPosition'] == 'RD') & (dm['zvp'] == dm['vmin']), 4,\n",
    "                                                                                                  (np.where((dm['Season'] == dm['Season']) & (dm['VTeamCode'] == dm['VTeamCode']) & (dm['VPosition'] == 'RD') & (dm['VPlayer'] != dm['VPlayer']) & (dm['zvp'] != dm['vmax']) & (dm['zvp'] != dm['vmin']) & (dm['zvp'].shift() != dm['vmax']) & (dm['zvp'].shift() != dm['vmin']) & (dm['zvp'] > dm['zvp'].shift()), 2,\n",
    "                                                                                                            (np.where((dm['Season'] == dm['Season']) & (dm['VTeamCode'] == dm['VTeamCode']) & (dm['VPosition'] == 'LD') & (dm['zvp'] == dm['vmax']), 1, \n",
    "                                                                                                                      (np.where((dm['Season'] == dm['Season']) & (dm['VTeamCode'] == dm['VTeamCode']) & (dm['VPosition'] == 'LD') & (dm['zvp'] == dm['vmin']), 4,\n",
    "                                                                                                                                (np.where((dm['Season'] == dm['Season']) & (dm['VTeamCode'] == dm['VTeamCode']) & (dm['VPosition'] == 'LD') & (dm['VPlayer'] != dm['VPlayer']) & (dm['zvp'] != dm['vmax']) & (dm['zvp'] != dm['vmin']) & (dm['zvp'].shift() != dm['vmax']) & (dm['zvp'].shift() != dm['vmin']) & (dm['zvp'] > dm['zvp'].shift()), 2, 3))))))))))))))))))))))))))))) \n"
   ]
  },
  {
   "cell_type": "markdown",
   "metadata": {},
   "source": [
    "### b) home team"
   ]
  },
  {
   "cell_type": "markdown",
   "metadata": {},
   "source": [
    "- generate a variable that will allocate all players to their respectful line. If **total zone start ** is the highest amongst players per position, that player is assinged to the **top line**. If **total zone start** is the lowest amongst players per position, that player is assinged to the **4th line**. For the two values left, the player that has the highest **total zone start ** will be allocated to the **2nd line**. The other player will be assigned to the **3rd line**."
   ]
  },
  {
   "cell_type": "code",
   "execution_count": 10,
   "metadata": {
    "collapsed": true
   },
   "outputs": [],
   "source": [
    "dm['hmax'] = dm.groupby(['Season', 'HTeamCode', 'HPosition'])['zhp'].transform(max)"
   ]
  },
  {
   "cell_type": "code",
   "execution_count": 11,
   "metadata": {
    "collapsed": true
   },
   "outputs": [],
   "source": [
    "dm['hmin'] = dm.groupby(['Season', 'HTeamCode', 'HPosition'])['zhp'].transform(min)"
   ]
  },
  {
   "cell_type": "code",
   "execution_count": 12,
   "metadata": {
    "collapsed": false
   },
   "outputs": [],
   "source": [
    "dm['hpos'] = np.where((dm['Season'] == dm['Season']) & (dm['HTeamCode'] == dm['HTeamCode']) & (dm['HPosition'] == 'C') & (dm['zhp'] == dm['hmax']), 1, \n",
    "                    (np.where((dm['Season'] == dm['Season']) & (dm['HTeamCode'] == dm['HTeamCode']) & (dm['HPosition'] == 'C') & (dm['zhp'] == dm['hmin']), 4,\n",
    "                        (np.where((dm['Season'] == dm['Season']) & (dm['HTeamCode'] == dm['HTeamCode']) & (dm['HPosition'] == 'C') & (dm['HPlayer'] != dm['HPlayer']) & (dm['zhp'] != dm['hmax']) & (dm['zhp'] != dm['hmin']) & (dm['zhp'].shift() != dm['hmax']) & (dm['zhp'].shift() != dm['hmin']) & (dm['zhp'] > dm['zhp'].shift()), 2, \n",
    "                                  (np.where((dm['Season'] == dm['Season']) & (dm['HTeamCode'] == dm['HTeamCode']) & (dm['HPosition'] == 'RW') & (dm['zhp'] == dm['hmax']), 1, \n",
    "                                    (np.where((dm['Season'] == dm['Season']) & (dm['HTeamCode'] == dm['HTeamCode']) & (dm['HPosition'] == 'RW') & (dm['zhp'] == dm['hmin']), 4,\n",
    "                                      (np.where((dm['Season'] == dm['Season']) & (dm['HTeamCode'] == dm['HTeamCode']) & (dm['HPosition'] == 'RW') & (dm['HPlayer'] != dm['HPlayer']) & (dm['zhp'] != dm['hmax']) & (dm['zhp'] != dm['hmin']) & (dm['zhp'].shift() != dm['hmax']) & (dm['zhp'].shift() != dm['hmin']) & (dm['zhp'] > dm['zhp'].shift()), 2,\n",
    "                                                (np.where((dm['Season'] == dm['Season']) & (dm['HTeamCode'] == dm['HTeamCode']) & (dm['HPosition'] == 'LW') & (dm['zhp'] == dm['hmax']), 1, \n",
    "                                                          (np.where((dm['Season'] == dm['Season']) & (dm['HTeamCode'] == dm['HTeamCode']) & (dm['HPosition'] == 'LW') & (dm['zhp'] == dm['hmin']), 4,\n",
    "                                                                    (np.where((dm['Season'] == dm['Season']) & (dm['HTeamCode'] == dm['HTeamCode']) & (dm['HPosition'] == 'LW') & (dm['HPlayer'] != dm['HPlayer']) & (dm['zhp'] != dm['hmax']) & (dm['zhp'] != dm['hmin']) & (dm['zhp'].shift() != dm['hmax']) & (dm['zhp'].shift() != dm['hmin']) & (dm['zhp'] > dm['zhp'].shift()), 2,\n",
    "                                                                              (np.where((dm['Season'] == dm['Season']) & (dm['HTeamCode'] == dm['HTeamCode']) & (dm['HPosition'] == 'RD') & (dm['zhp'] == dm['hmax']), 1, \n",
    "                                                                                        (np.where((dm['Season'] == dm['Season']) & (dm['HTeamCode'] == dm['HTeamCode']) & (dm['HPosition'] == 'RD') & (dm['zhp'] == dm['hmin']), 4,\n",
    "                                                                                                  (np.where((dm['Season'] == dm['Season']) & (dm['HTeamCode'] == dm['HTeamCode']) & (dm['HPosition'] == 'RD') & (dm['HPlayer'] != dm['HPlayer']) & (dm['zhp'] != dm['hmax']) & (dm['zhp'] != dm['hmin']) & (dm['zhp'].shift() != dm['hmax']) & (dm['zhp'].shift() != dm['hmin']) & (dm['zhp'] > dm['zhp'].shift()), 2,\n",
    "                                                                                                            (np.where((dm['Season'] == dm['Season']) & (dm['HTeamCode'] == dm['HTeamCode']) & (dm['HPosition'] == 'LD') & (dm['zhp'] == dm['hmax']), 1, \n",
    "                                                                                                                      (np.where((dm['Season'] == dm['Season']) & (dm['HTeamCode'] == dm['HTeamCode']) & (dm['HPosition'] == 'LD') & (dm['zhp'] == dm['hmin']), 4,\n",
    "                                                                                                                                (np.where((dm['Season'] == dm['Season']) & (dm['HTeamCode'] == dm['HTeamCode']) & (dm['HPosition'] == 'LD') & (dm['HPlayer'] != dm['HPlayer']) & (dm['zhp'] != dm['hmax']) & (dm['zhp'] != dm['hmin']) & (dm['zhp'].shift() != dm['hmax']) & (dm['zhp'].shift() != dm['hmin']) & (dm['zhp'] > dm['zhp'].shift()), 2, 3))))))))))))))))))))))))))))) \n"
   ]
  },
  {
   "cell_type": "markdown",
   "metadata": {
    "collapsed": true
   },
   "source": [
    "## overall player allocation##"
   ]
  },
  {
   "cell_type": "markdown",
   "metadata": {},
   "source": [
    "Each player has been assigned to their respectful roster position based on his team being home or away for the season. The **overall roster position** of each player is the mean of both home and away position."
   ]
  },
  {
   "cell_type": "code",
   "execution_count": 13,
   "metadata": {
    "collapsed": false
   },
   "outputs": [],
   "source": [
    "dm['position'] = np.where((dm['Season'] == dm['Season']) & (dm['HTeamCode'] == dm['VTeamCode']) & (dm['HPlayer'] == dm['VPlayer']), (dm['hpos'] + dm['vpos'])/dm['gp'],\n",
    "                   (np.where((dm['Season'] == dm['Season']) & (dm['HTeamCode'] != dm['VTeamCode']) & (dm['HPlayer'] != dm['VPlayer']), dm['hpos']/dm['hgp'],\n",
    "                   (np.where((dm['Season'] == dm['Season']) &(dm['VTeamCode'] == dm['HTeamCode']) & (dm['VPlayer'] == dm['HPlayer']), (dm['vpos'] + dm['hpos'])/dm['gp'], dm['vpos']/dm['vgp'])))))"
   ]
  },
  {
   "cell_type": "markdown",
   "metadata": {
    "collapsed": true
   },
   "source": [
    "## store player allocation data frame"
   ]
  },
  {
   "cell_type": "markdown",
   "metadata": {},
   "source": [
    "the player allocation data frame will be stored and used for the implementation of roster model."
   ]
  },
  {
   "cell_type": "code",
   "execution_count": 19,
   "metadata": {
    "collapsed": true
   },
   "outputs": [],
   "source": [
    "dm.to_csv('out_data/player_allocation.csv', index='False', sep=',')"
   ]
  },
  {
   "cell_type": "code",
   "execution_count": 16,
   "metadata": {
    "collapsed": false
   },
   "outputs": [
    {
     "name": "stdout",
     "output_type": "stream",
     "text": [
      "0        3\n",
      "1        3\n",
      "2        3\n",
      "3        3\n",
      "4        3\n",
      "5        3\n",
      "6        3\n",
      "7        3\n",
      "8        3\n",
      "9        3\n",
      "10       3\n",
      "11       3\n",
      "12       4\n",
      "13       3\n",
      "14       3\n",
      "15       4\n",
      "16       3\n",
      "17       3\n",
      "18       4\n",
      "19       3\n",
      "20       3\n",
      "21       4\n",
      "22       3\n",
      "23       3\n",
      "24       4\n",
      "25       3\n",
      "26       3\n",
      "27       4\n",
      "28       3\n",
      "29       3\n",
      "        ..\n",
      "71856    3\n",
      "71857    3\n",
      "71858    1\n",
      "71859    3\n",
      "71860    1\n",
      "71861    3\n",
      "71862    3\n",
      "71863    1\n",
      "71864    3\n",
      "71865    3\n",
      "71866    1\n",
      "71867    3\n",
      "71868    3\n",
      "71869    1\n",
      "71870    3\n",
      "71871    3\n",
      "71872    1\n",
      "71873    3\n",
      "71874    3\n",
      "71875    3\n",
      "71876    3\n",
      "71877    3\n",
      "71878    3\n",
      "71879    3\n",
      "71880    3\n",
      "71881    3\n",
      "71882    3\n",
      "71883    3\n",
      "71884    3\n",
      "71885    3\n",
      "Name: hpos, dtype: int64\n"
     ]
    }
   ],
   "source": [
    "print(dm['hpos'])"
   ]
  },
  {
   "cell_type": "code",
   "execution_count": null,
   "metadata": {
    "collapsed": true
   },
   "outputs": [],
   "source": []
  }
 ],
 "metadata": {
  "kernelspec": {
   "display_name": "Python 3",
   "language": "python",
   "name": "python3"
  },
  "language_info": {
   "codemirror_mode": {
    "name": "ipython",
    "version": 3
   },
   "file_extension": ".py",
   "mimetype": "text/x-python",
   "name": "python",
   "nbconvert_exporter": "python",
   "pygments_lexer": "ipython3",
   "version": "3.6.0"
  }
 },
 "nbformat": 4,
 "nbformat_minor": 2
}
