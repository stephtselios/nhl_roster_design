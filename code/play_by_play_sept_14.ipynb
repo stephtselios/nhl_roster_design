{
 "cells": [
  {
   "cell_type": "markdown",
   "metadata": {},
   "source": [
    "## play by play data"
   ]
  },
  {
   "cell_type": "markdown",
   "metadata": {},
   "source": [
    "###  import modules"
   ]
  },
  {
   "cell_type": "code",
   "execution_count": 1,
   "metadata": {
    "collapsed": true
   },
   "outputs": [],
   "source": [
    "import sys\n",
    "import os\n",
    "import pandas as pd\n",
    "import numpy as np\n",
    "import datetime, time\n",
    "import matplotlib.pyplot as plt\n",
    "import statsmodels.api as sm\n",
    "from statsmodels.formula.api import ols\n",
    "from pylab import hist, show\n",
    "import scipy"
   ]
  },
  {
   "cell_type": "markdown",
   "metadata": {},
   "source": [
    "### import data "
   ]
  },
  {
   "cell_type": "code",
   "execution_count": 2,
   "metadata": {
    "collapsed": false
   },
   "outputs": [
    {
     "name": "stderr",
     "output_type": "stream",
     "text": [
      "/anaconda/lib/python3.6/site-packages/IPython/core/interactiveshell.py:2717: DtypeWarning: Columns (2,3) have mixed types. Specify dtype option on import or set low_memory=False.\n",
      "  interactivity=interactivity, compiler=compiler, result=result)\n"
     ]
    }
   ],
   "source": [
    "dm = pd.read_csv('out_data/reshape.csv')\n",
    "dm = dm.drop('Unnamed: 0', axis=1)"
   ]
  },
  {
   "cell_type": "code",
   "execution_count": 3,
   "metadata": {
    "collapsed": false
   },
   "outputs": [
    {
     "data": {
      "text/plain": [
       "Index(['AdvantageType', 'Assist1Player', 'Assist2Player', 'DrawnByPlayerName',\n",
       "       'DrawnByPlayerNumber', 'DrawnByTeamCode', 'EventNumber', 'EventType',\n",
       "       'GameDate', 'GameNumber', 'GoalNumber', 'GoalTime', 'HTeamCode',\n",
       "       'HitteePlayerName', 'HitteePlayerNumber', 'HitteeTeamCode', 'Period',\n",
       "       'PlayerName', 'PlayerNumber', 'Season', 'ShotPlayerName',\n",
       "       'ShotPlayerNumber', 'ShotResult', 'ShotTeamCode', 'ShotType',\n",
       "       'TeamCode', 'VTeamCode', 'Zone', 'endtime', 'starttime', 'VPlayer',\n",
       "       'HPlayer', 'VPosition', 'HPosition'],\n",
       "      dtype='object')"
      ]
     },
     "execution_count": 3,
     "metadata": {},
     "output_type": "execute_result"
    }
   ],
   "source": [
    "dm.columns"
   ]
  },
  {
   "cell_type": "markdown",
   "metadata": {},
   "source": [
    "- sort values of data frame and organize the order of the columns"
   ]
  },
  {
   "cell_type": "code",
   "execution_count": 18,
   "metadata": {
    "collapsed": false
   },
   "outputs": [],
   "source": [
    "dm = dm.sort_values(['Season', 'GameNumber', 'Period', 'EventNumber'], ascending=[True, True, True, True])\n",
    "dm = dm[['Season', 'GameNumber', 'Period', 'AdvantageType', 'EventNumber', 'EventType', 'Zone', 'VTeamCode', 'VPlayer', 'VPosition', 'HTeamCode', 'HPlayer', 'HPosition', 'TeamCode', 'PlayerNumber', 'PlayerName', 'PlayerPosition', 'starttime', 'endtime', 'GoalNumber', 'GoalTime', 'Assist1Player', 'Assist2Player', 'ShotType', 'ShotResult', 'ShotTeamCode', 'ShotPlayerNumber', 'ShotPlayerName', 'HitteeTeamCode', 'HitteePlayerNumber', 'HitteePlayerName', 'DrawnByTeamCode', 'DrawnByPlayerNumber', 'DrawnByPlayerName']]"
   ]
  },
  {
   "cell_type": "markdown",
   "metadata": {},
   "source": [
    "- assign value to home and away team based on the on-ice event. Use forward and backwrad fill to fill in home team code and away team code per game"
   ]
  },
  {
   "cell_type": "code",
   "execution_count": 19,
   "metadata": {
    "collapsed": true
   },
   "outputs": [],
   "source": [
    "dm['HTeamCode'] = np.where(dm['PlayerNumber'] == dm['HPlayer'], dm['TeamCode'], np.nan)"
   ]
  },
  {
   "cell_type": "code",
   "execution_count": 20,
   "metadata": {
    "collapsed": false
   },
   "outputs": [],
   "source": [
    "dm['HTeamCode'] = dm.groupby('GameNumber')['HTeamCode'].ffill()\n",
    "dm['HTeamCode'] = dm.groupby('GameNumber')['HTeamCode'].bfill()"
   ]
  },
  {
   "cell_type": "code",
   "execution_count": 21,
   "metadata": {
    "collapsed": true
   },
   "outputs": [],
   "source": [
    "dm['VTeamCode'] = np.where(dm['PlayerNumber'] == dm['VPlayer'], dm['TeamCode'], np.nan)"
   ]
  },
  {
   "cell_type": "code",
   "execution_count": 22,
   "metadata": {
    "collapsed": false
   },
   "outputs": [],
   "source": [
    "dm['VTeamCode'] = dm.groupby('GameNumber')['VTeamCode'].ffill()\n",
    "dm['VTeamCode'] = dm.groupby('GameNumber')['VTeamCode'].bfill()"
   ]
  },
  {
   "cell_type": "markdown",
   "metadata": {},
   "source": [
    "- each period starts off with a faceoff in the neutral zone. Fill in 'NaN' with 'N' (neutral)."
   ]
  },
  {
   "cell_type": "code",
   "execution_count": 23,
   "metadata": {
    "collapsed": false
   },
   "outputs": [],
   "source": [
    "dm['Zone'] = dm['Zone'].fillna('N')"
   ]
  },
  {
   "cell_type": "code",
   "execution_count": 24,
   "metadata": {
    "collapsed": false
   },
   "outputs": [],
   "source": [
    "dm['TeamCode'].fillna(dm.groupby('GameNumber')['VTeamCode'].ffill(), inplace=True)"
   ]
  },
  {
   "cell_type": "markdown",
   "metadata": {},
   "source": [
    "- use **numpy** to fill in player position and player number depending if the player involved in the on-ice event played for the home or away team."
   ]
  },
  {
   "cell_type": "code",
   "execution_count": 25,
   "metadata": {
    "collapsed": true
   },
   "outputs": [],
   "source": [
    "dm['PlayerPosition'] = np.where((dm['TeamCode'] == dm['VTeamCode']) & (dm['PlayerNumber'] == dm['VPlayer']), dm['VPosition'], dm['HPosition'])"
   ]
  },
  {
   "cell_type": "code",
   "execution_count": 26,
   "metadata": {
    "collapsed": false
   },
   "outputs": [],
   "source": [
    "dm['PlayerNumber'] = np.where((dm['TeamCode'] == dm['VTeamCode']) & (dm['PlayerPosition'] == dm['VPosition']), dm['VPlayer'], dm['HPlayer'])"
   ]
  },
  {
   "cell_type": "markdown",
   "metadata": {},
   "source": [
    "- Assign a value of 0 to both variables **'starttime'** and **'endtime'**, since the first faceoff of each period has no time duration. "
   ]
  },
  {
   "cell_type": "code",
   "execution_count": 27,
   "metadata": {
    "collapsed": false
   },
   "outputs": [],
   "source": [
    "dm['starttime'].fillna(0, inplace=True)\n",
    "dm['endtime'].fillna(0, inplace=True)"
   ]
  },
  {
   "cell_type": "code",
   "execution_count": 28,
   "metadata": {
    "collapsed": true
   },
   "outputs": [],
   "source": [
    "dm.to_csv('out_data/play_by_play.csv', index='False', sep=',')"
   ]
  },
  {
   "cell_type": "markdown",
   "metadata": {},
   "source": [
    "#### player quality follows"
   ]
  },
  {
   "cell_type": "code",
   "execution_count": null,
   "metadata": {
    "collapsed": true
   },
   "outputs": [],
   "source": []
  }
 ],
 "metadata": {
  "kernelspec": {
   "display_name": "Python 3",
   "language": "python",
   "name": "python3"
  },
  "language_info": {
   "codemirror_mode": {
    "name": "ipython",
    "version": 3
   },
   "file_extension": ".py",
   "mimetype": "text/x-python",
   "name": "python",
   "nbconvert_exporter": "python",
   "pygments_lexer": "ipython3",
   "version": "3.6.0"
  }
 },
 "nbformat": 4,
 "nbformat_minor": 2
}
