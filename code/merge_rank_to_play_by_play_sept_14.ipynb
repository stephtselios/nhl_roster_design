{
 "cells": [
  {
   "cell_type": "markdown",
   "metadata": {},
   "source": [
    "## merge player rank into play by play data set"
   ]
  },
  {
   "cell_type": "code",
   "execution_count": 25,
   "metadata": {
    "collapsed": true
   },
   "outputs": [],
   "source": [
    "import sys\n",
    "import os\n",
    "import pandas as pd\n",
    "import numpy as np\n",
    "import datetime, time\n",
    "import matplotlib.pyplot as plt\n",
    "import statsmodels.api as sm\n",
    "from statsmodels.formula.api import ols\n",
    "from pylab import hist, show\n",
    "import scipy"
   ]
  },
  {
   "cell_type": "markdown",
   "metadata": {},
   "source": [
    "### import both data sets"
   ]
  },
  {
   "cell_type": "code",
   "execution_count": 26,
   "metadata": {
    "collapsed": false
   },
   "outputs": [
    {
     "name": "stderr",
     "output_type": "stream",
     "text": [
      "/anaconda/lib/python3.6/site-packages/IPython/core/interactiveshell.py:2717: DtypeWarning: Columns (2,3) have mixed types. Specify dtype option on import or set low_memory=False.\n",
      "  interactivity=interactivity, compiler=compiler, result=result)\n"
     ]
    }
   ],
   "source": [
    "dm = pd.read_csv('out_data/reshape.csv')\n",
    "dm = dm.drop('Unnamed: 0', axis=1)"
   ]
  },
  {
   "cell_type": "code",
   "execution_count": 27,
   "metadata": {
    "collapsed": false
   },
   "outputs": [
    {
     "data": {
      "text/plain": [
       "Index(['AdvantageType', 'Assist1Player', 'Assist2Player', 'DrawnByPlayerName',\n",
       "       'DrawnByPlayerNumber', 'DrawnByTeamCode', 'EventNumber', 'EventType',\n",
       "       'GameDate', 'GameNumber', 'GoalNumber', 'GoalTime', 'HTeamCode',\n",
       "       'HitteePlayerName', 'HitteePlayerNumber', 'HitteeTeamCode', 'Period',\n",
       "       'PlayerName', 'PlayerNumber', 'Season', 'ShotPlayerName',\n",
       "       'ShotPlayerNumber', 'ShotResult', 'ShotTeamCode', 'ShotType',\n",
       "       'TeamCode', 'VTeamCode', 'Zone', 'endtime', 'starttime', 'VPlayer',\n",
       "       'HPlayer', 'VPosition', 'HPosition'],\n",
       "      dtype='object')"
      ]
     },
     "execution_count": 27,
     "metadata": {},
     "output_type": "execute_result"
    }
   ],
   "source": [
    "dm.columns"
   ]
  },
  {
   "cell_type": "code",
   "execution_count": 28,
   "metadata": {
    "collapsed": false
   },
   "outputs": [],
   "source": [
    "dr = pd.read_csv('out_data/player_rank.csv')\n",
    "dr = dr.drop('Unnamed: 0', axis=1)"
   ]
  },
  {
   "cell_type": "code",
   "execution_count": 29,
   "metadata": {
    "collapsed": false
   },
   "outputs": [
    {
     "data": {
      "text/plain": [
       "Index(['Season', 'TeamCode', 'PlayerNumber', 'PlayerPosition', 'rank'], dtype='object')"
      ]
     },
     "execution_count": 29,
     "metadata": {},
     "output_type": "execute_result"
    }
   ],
   "source": [
    "dr.columns"
   ]
  },
  {
   "cell_type": "code",
   "execution_count": 30,
   "metadata": {
    "collapsed": false
   },
   "outputs": [],
   "source": [
    "dm = dm.merge(dr, on=['Season', 'TeamCode', 'PlayerNumber'], how='outer')\n",
    "dm.sort_values(['Season', 'GameNumber', 'EventNumber'], ascending=[True, True, True], inplace=True)"
   ]
  },
  {
   "cell_type": "code",
   "execution_count": 31,
   "metadata": {
    "collapsed": false
   },
   "outputs": [],
   "source": [
    "dm = dm[['Season', 'GameNumber', 'GameDate', 'Period', 'AdvantageType', 'EventNumber', 'EventType', 'Zone', 'VTeamCode', 'VPlayer', 'VPosition', 'HTeamCode', 'HPlayer', 'HPosition', 'TeamCode', 'PlayerNumber', 'PlayerName', 'PlayerPosition', 'starttime', 'endtime', 'GoalNumber', 'GoalTime', 'Assist1Player', 'Assist2Player', 'ShotType', 'ShotResult', 'ShotTeamCode', 'ShotPlayerNumber', 'ShotPlayerName', 'HitteeTeamCode', 'HitteePlayerNumber', 'HitteePlayerName', 'DrawnByTeamCode', 'DrawnByPlayerNumber', 'DrawnByPlayerName', 'rank']]"
   ]
  },
  {
   "cell_type": "code",
   "execution_count": 32,
   "metadata": {
    "collapsed": false
   },
   "outputs": [
    {
     "data": {
      "text/plain": [
       "Index(['Season', 'GameNumber', 'GameDate', 'Period', 'AdvantageType',\n",
       "       'EventNumber', 'EventType', 'Zone', 'VTeamCode', 'VPlayer', 'VPosition',\n",
       "       'HTeamCode', 'HPlayer', 'HPosition', 'TeamCode', 'PlayerNumber',\n",
       "       'PlayerName', 'PlayerPosition', 'starttime', 'endtime', 'GoalNumber',\n",
       "       'GoalTime', 'Assist1Player', 'Assist2Player', 'ShotType', 'ShotResult',\n",
       "       'ShotTeamCode', 'ShotPlayerNumber', 'ShotPlayerName', 'HitteeTeamCode',\n",
       "       'HitteePlayerNumber', 'HitteePlayerName', 'DrawnByTeamCode',\n",
       "       'DrawnByPlayerNumber', 'DrawnByPlayerName', 'rank'],\n",
       "      dtype='object')"
      ]
     },
     "execution_count": 32,
     "metadata": {},
     "output_type": "execute_result"
    }
   ],
   "source": [
    "dm.columns"
   ]
  },
  {
   "cell_type": "code",
   "execution_count": 33,
   "metadata": {
    "collapsed": true
   },
   "outputs": [],
   "source": [
    "dm.to_csv('out_data/play_by_play_with_player_rank.csv', index='False', sep=',')"
   ]
  }
 ],
 "metadata": {
  "kernelspec": {
   "display_name": "Python 3",
   "language": "python",
   "name": "python3"
  },
  "language_info": {
   "codemirror_mode": {
    "name": "ipython",
    "version": 3
   },
   "file_extension": ".py",
   "mimetype": "text/x-python",
   "name": "python",
   "nbconvert_exporter": "python",
   "pygments_lexer": "ipython3",
   "version": "3.6.0"
  }
 },
 "nbformat": 4,
 "nbformat_minor": 2
}
