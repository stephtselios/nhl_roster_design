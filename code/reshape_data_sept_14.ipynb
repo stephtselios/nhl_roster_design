{
 "cells": [
  {
   "cell_type": "markdown",
   "metadata": {},
   "source": [
    "## reshape dataset from wide to long"
   ]
  },
  {
   "cell_type": "markdown",
   "metadata": {},
   "source": [
    "###  import modules"
   ]
  },
  {
   "cell_type": "code",
   "execution_count": 1,
   "metadata": {
    "collapsed": true
   },
   "outputs": [],
   "source": [
    "import sys\n",
    "import os\n",
    "import pandas as pd\n",
    "import numpy as np\n",
    "import datetime, time\n",
    "import matplotlib.pyplot as plt\n",
    "import statsmodels.api as sm\n",
    "from statsmodels.formula.api import ols\n",
    "from pylab import hist, show\n",
    "import scipy"
   ]
  },
  {
   "cell_type": "markdown",
   "metadata": {},
   "source": [
    "### import data frame"
   ]
  },
  {
   "cell_type": "code",
   "execution_count": 2,
   "metadata": {
    "collapsed": false
   },
   "outputs": [
    {
     "name": "stderr",
     "output_type": "stream",
     "text": [
      "/anaconda/lib/python3.6/site-packages/IPython/core/interactiveshell.py:2717: DtypeWarning: Columns (54,55,56,58,64,65) have mixed types. Specify dtype option on import or set low_memory=False.\n",
      "  interactivity=interactivity, compiler=compiler, result=result)\n"
     ]
    }
   ],
   "source": [
    "dm = pd.read_csv('out_data/pbpmerge.csv')\n",
    "dm = dm.drop('Unnamed: 0', axis=1)"
   ]
  },
  {
   "cell_type": "code",
   "execution_count": 13,
   "metadata": {
    "collapsed": false
   },
   "outputs": [
    {
     "data": {
      "text/plain": [
       "Index(['Season', 'GameNumber', 'EventNumber', 'Period', 'AdvantageType',\n",
       "       'EventTimeFromZero', 'EventTimeFromTwenty', 'EventType', 'EventDetail',\n",
       "       'VPlayer1', 'VPosition1', 'VPlayer2', 'VPosition2', 'VPlayer3',\n",
       "       'VPosition3', 'VPlayer4', 'VPosition4', 'VPlayer5', 'VPosition5',\n",
       "       'VPlayer6', 'VPosition6', 'HPlayer1', 'HPosition1', 'HPlayer2',\n",
       "       'HPosition2', 'HPlayer3', 'HPosition3', 'HPlayer4', 'HPosition4',\n",
       "       'HPlayer5', 'HPosition5', 'HPlayer6', 'HPosition6', 'TeamCode',\n",
       "       'PlayerNumber', 'PlayerName', 'ShotType', 'Zone', 'Length',\n",
       "       'ShotResult', 'ShotTeamCode', 'ShotPlayerNumber', 'ShotPlayerName',\n",
       "       'VTeamCode', 'VPlayer', 'VName', 'HTeamCode', 'HPlayer', 'HName',\n",
       "       'HitterPlayerName', 'HitteeTeamCode', 'HitteePlayerNumber',\n",
       "       'HitteePlayerName', 'PenaltyPlayerName', 'PenaltyType',\n",
       "       'DrawnByTeamCode', 'DrawnByPlayerNumber', 'DrawnByPlayerName',\n",
       "       'GameDate', 'starttime', 'endtime', 'GoalNumber', 'GoalTime',\n",
       "       'Assist1Player', 'Assist2Player'],\n",
       "      dtype='object')"
      ]
     },
     "execution_count": 13,
     "metadata": {},
     "output_type": "execute_result"
    }
   ],
   "source": [
    "dm.columns"
   ]
  },
  {
   "cell_type": "code",
   "execution_count": 15,
   "metadata": {
    "collapsed": false
   },
   "outputs": [],
   "source": [
    "dm = dm[['Season', 'GameNumber', 'GameDate', 'Period', 'AdvantageType', 'EventNumber', 'EventType', 'Zone', 'TeamCode', 'PlayerNumber', 'PlayerName', 'VTeamCode', 'VPlayer1', 'VPosition1', 'VPlayer2', 'VPosition2', 'VPlayer3', 'VPosition3', 'VPlayer4', 'VPosition4', 'VPlayer5', 'VPosition5', 'VPlayer6', 'VPosition6', 'HTeamCode', 'HPlayer1', 'HPosition1', 'HPlayer2', 'HPosition2', 'HPlayer3', 'HPosition3', 'HPlayer4', 'HPosition4', 'HPlayer5', 'HPosition5', 'HPlayer6', 'HPosition6', 'starttime', 'endtime', 'ShotType', 'ShotResult', 'ShotTeamCode', 'ShotPlayerNumber', 'ShotPlayerName', 'HitteeTeamCode', 'HitteePlayerNumber', 'HitteePlayerName', 'DrawnByTeamCode', 'DrawnByPlayerNumber', 'DrawnByPlayerName', 'GoalNumber', 'GoalTime', 'Assist1Player', 'Assist2Player']]"
   ]
  },
  {
   "cell_type": "code",
   "execution_count": 16,
   "metadata": {
    "collapsed": true
   },
   "outputs": [],
   "source": [
    "### roster position"
   ]
  },
  {
   "cell_type": "markdown",
   "metadata": {},
   "source": [
    "Play by play data reports each on-ice event along all 12 players that were on the ice during a given event, along with the outcome of that on-ice event. There are 6 players for the visitor team and 6 for the home team. Positions 1, 2 and 3 are the forward positions, 4 and 5 are the defense positions and 6 is the goaltender position. Each position is categorized below. "
   ]
  },
  {
   "cell_type": "markdown",
   "metadata": {},
   "source": [
    "#### a) for visitor team:"
   ]
  },
  {
   "cell_type": "code",
   "execution_count": 17,
   "metadata": {
    "collapsed": true
   },
   "outputs": [],
   "source": [
    "#dm['VPosition1'] = 'C'\n",
    "#dm['VPosition2'] = 'RW'\n",
    "#dm['VPosition3'] = 'LW'\n",
    "#dm['VPosition4'] = 'RD'\n",
    "#dm['VPosition5'] = 'LD'"
   ]
  },
  {
   "cell_type": "markdown",
   "metadata": {},
   "source": [
    "#### b) for home team: "
   ]
  },
  {
   "cell_type": "code",
   "execution_count": 18,
   "metadata": {
    "collapsed": true
   },
   "outputs": [],
   "source": [
    "#dm['HPosition1'] = 'C'\n",
    "#dm['HPosition2'] = 'RW'\n",
    "#dm['HPosition3'] = 'LW'\n",
    "#dm['HPosition4'] = 'RD'\n",
    "#dm['HPosition5'] = 'LD'"
   ]
  },
  {
   "cell_type": "markdown",
   "metadata": {},
   "source": [
    "- Once each roster position has been determined, the next step is to reshape the data set form wide to long. Instead of having 2 columns for each roster position (24 total), all players will be listed into 4 columns: 2 columns for the visitor team ** 'VPlayer' & 'VPosition'** and 2 columns for the home team **'HPlayer' & 'HPosition'**"
   ]
  },
  {
   "cell_type": "code",
   "execution_count": 19,
   "metadata": {
    "collapsed": true
   },
   "outputs": [],
   "source": [
    "dm = dm.sort_values(['Season', 'GameNumber', 'Period', 'EventNumber'], ascending=[True, True, True, True])"
   ]
  },
  {
   "cell_type": "code",
   "execution_count": 20,
   "metadata": {
    "collapsed": false
   },
   "outputs": [],
   "source": [
    "a = [col for col in dm.columns if 'VPlayer' in col]\n",
    "b = [col for col in dm.columns if 'HPlayer' in col]\n",
    "c = [col for col in dm.columns if 'VPosition' in col]\n",
    "d = [col for col in dm.columns if 'HPosition' in col]\n",
    "dm = pd.lreshape(dm, {'VPlayer' : a, 'HPlayer' : b, 'VPosition' : c, 'HPosition': d})"
   ]
  },
  {
   "cell_type": "code",
   "execution_count": 21,
   "metadata": {
    "collapsed": false
   },
   "outputs": [],
   "source": [
    "dm.to_csv('out_data/reshape.csv', index='False', sep=',')"
   ]
  },
  {
   "cell_type": "markdown",
   "metadata": {},
   "source": [
    "- next step is **\"player_quality\"**"
   ]
  },
  {
   "cell_type": "code",
   "execution_count": null,
   "metadata": {
    "collapsed": true
   },
   "outputs": [],
   "source": []
  }
 ],
 "metadata": {
  "kernelspec": {
   "display_name": "Python 3",
   "language": "python",
   "name": "python3"
  },
  "language_info": {
   "codemirror_mode": {
    "name": "ipython",
    "version": 3
   },
   "file_extension": ".py",
   "mimetype": "text/x-python",
   "name": "python",
   "nbconvert_exporter": "python",
   "pygments_lexer": "ipython3",
   "version": "3.6.0"
  }
 },
 "nbformat": 4,
 "nbformat_minor": 2
}
