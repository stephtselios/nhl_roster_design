{
 "cells": [
  {
   "cell_type": "markdown",
   "metadata": {},
   "source": [
    "## roster model estimation"
   ]
  },
  {
   "cell_type": "markdown",
   "metadata": {},
   "source": [
    "To determine the impact each roster position has on team success, we need to examine the quality of players per game and the result of each game. For each roster position, there will be elite players and secondary players per team. Elite players will be assinged a value of 1 whereas secondary players, a value 2."
   ]
  },
  {
   "cell_type": "markdown",
   "metadata": {},
   "source": [
    "### import data sets  \"play by play goal detail\" and \"game detail\""
   ]
  },
  {
   "cell_type": "code",
   "execution_count": 1,
   "metadata": {
    "collapsed": true
   },
   "outputs": [],
   "source": [
    "import sys\n",
    "import os\n",
    "import pandas as pd\n",
    "import numpy as np\n",
    "import datetime, time\n",
    "import matplotlib.pyplot as plt\n",
    "import statsmodels.api as sm\n",
    "from statsmodels.formula.api import ols\n",
    "from pylab import hist, show\n",
    "import scipy"
   ]
  },
  {
   "cell_type": "code",
   "execution_count": 2,
   "metadata": {
    "collapsed": false
   },
   "outputs": [],
   "source": [
    "ds = pd.read_csv('source_data/t_play_by_play_goal_detail_o.csv')\n",
    "ds = ds.rename(columns={'TeamCode': 'GoalTeamCode'})\n",
    "ds = ds[ds['GameNumber'] <= 21230]"
   ]
  },
  {
   "cell_type": "code",
   "execution_count": 3,
   "metadata": {
    "collapsed": false
   },
   "outputs": [
    {
     "data": {
      "text/plain": [
       "Index(['GameNumber', 'EventNumber', 'GoalTeamCode', 'PlayerNumber',\n",
       "       'PlayerLName', 'ShotType', 'Zone', 'Length', 'Season'],\n",
       "      dtype='object')"
      ]
     },
     "execution_count": 3,
     "metadata": {},
     "output_type": "execute_result"
    }
   ],
   "source": [
    "ds.columns"
   ]
  },
  {
   "cell_type": "markdown",
   "metadata": {},
   "source": [
    "- keep regular season games only."
   ]
  },
  {
   "cell_type": "code",
   "execution_count": 4,
   "metadata": {
    "collapsed": true
   },
   "outputs": [],
   "source": [
    "dg = pd.read_csv('source_data/t_game_detail_o.csv')\n",
    "dg = dg[dg['GameNumber'] <= 21230]"
   ]
  },
  {
   "cell_type": "code",
   "execution_count": 5,
   "metadata": {
    "collapsed": false
   },
   "outputs": [
    {
     "data": {
      "text/plain": [
       "(1230, 5)"
      ]
     },
     "execution_count": 5,
     "metadata": {},
     "output_type": "execute_result"
    }
   ],
   "source": [
    "dg.shape"
   ]
  },
  {
   "cell_type": "code",
   "execution_count": 6,
   "metadata": {
    "collapsed": false
   },
   "outputs": [
    {
     "data": {
      "text/plain": [
       "Index(['GameNumber', 'EventNumber', 'GoalTeamCode', 'PlayerNumber',\n",
       "       'PlayerLName', 'ShotType', 'Zone', 'Length', 'Season'],\n",
       "      dtype='object')"
      ]
     },
     "execution_count": 6,
     "metadata": {},
     "output_type": "execute_result"
    }
   ],
   "source": [
    "ds.columns"
   ]
  },
  {
   "cell_type": "markdown",
   "metadata": {},
   "source": [
    "### merge game detail onto scoring detail"
   ]
  },
  {
   "cell_type": "code",
   "execution_count": 7,
   "metadata": {
    "collapsed": false
   },
   "outputs": [],
   "source": [
    "ds = ds.merge(dg, on=['Season', 'GameNumber'], how='left')\n",
    "ds.sort_values(['Season', 'GameNumber'], ascending=[True, True], inplace=True)\n",
    "ds = ds[['Season', 'GameNumber', 'GameDate', 'EventNumber', 'VTeamCode', 'HTeamCode', 'GoalTeamCode', 'PlayerNumber', 'PlayerLName', 'ShotType', 'Zone', 'Length']]"
   ]
  },
  {
   "cell_type": "markdown",
   "metadata": {},
   "source": [
    "- create column that displays the number of goals by team per game. Generate 2 goal columns, one for visitor team and one for home team. Display the team that won each game. Create an indicator to show if home team won the game. Fill NaN for visitor or home goals, if team did not score during a given game."
   ]
  },
  {
   "cell_type": "code",
   "execution_count": 8,
   "metadata": {
    "collapsed": false
   },
   "outputs": [],
   "source": [
    "ds['goals'] = ds.groupby(['Season', 'GameNumber', 'GoalTeamCode'])['GoalTeamCode'].transform('count')\n"
   ]
  },
  {
   "cell_type": "code",
   "execution_count": 9,
   "metadata": {
    "collapsed": false
   },
   "outputs": [],
   "source": [
    "ds['vgoals'] = np.where(ds['GoalTeamCode'] == ds['VTeamCode'], ds['goals'], np.nan)\n",
    "ds['hgoals'] = np.where(ds['GoalTeamCode'] == ds['HTeamCode'], ds['goals'], np.nan)"
   ]
  },
  {
   "cell_type": "code",
   "execution_count": 10,
   "metadata": {
    "collapsed": true
   },
   "outputs": [],
   "source": [
    "ds['vgoals'] = ds.groupby(['Season', 'GameNumber'])['vgoals'].ffill()\n",
    "ds['vgoals'] = ds.groupby(['Season', 'GameNumber'])['vgoals'].bfill()\n",
    "ds['vgoals'] = ds['vgoals'].fillna(0)\n",
    "ds['hgoals'] = ds.groupby(['Season', 'GameNumber'])['hgoals'].ffill()\n",
    "ds['hgoals'] = ds.groupby(['Season', 'GameNumber'])['hgoals'].bfill()\n",
    "ds['hgoals'] = ds['hgoals'].fillna(0)"
   ]
  },
  {
   "cell_type": "code",
   "execution_count": 11,
   "metadata": {
    "collapsed": false
   },
   "outputs": [],
   "source": [
    "ds['WinTeamCode'] = np.where(ds['hgoals'] > ds['vgoals'], ds['HTeamCode'], ds['VTeamCode'])"
   ]
  },
  {
   "cell_type": "code",
   "execution_count": 12,
   "metadata": {
    "collapsed": false
   },
   "outputs": [],
   "source": [
    "ds['HomeWin'] = ds.apply(lambda x: 1 if x['WinTeamCode'] == x['HTeamCode'] else 0, axis=1)"
   ]
  },
  {
   "cell_type": "markdown",
   "metadata": {},
   "source": [
    "- keep one observation per game."
   ]
  },
  {
   "cell_type": "code",
   "execution_count": 13,
   "metadata": {
    "collapsed": false
   },
   "outputs": [
    {
     "data": {
      "text/plain": [
       "Season          0\n",
       "GameNumber      0\n",
       "GameDate        0\n",
       "EventNumber     0\n",
       "VTeamCode       0\n",
       "HTeamCode       0\n",
       "GoalTeamCode    0\n",
       "PlayerNumber    0\n",
       "PlayerLName     0\n",
       "ShotType        0\n",
       "Zone            0\n",
       "Length          0\n",
       "goals           0\n",
       "vgoals          0\n",
       "hgoals          0\n",
       "WinTeamCode     0\n",
       "HomeWin         0\n",
       "dtype: int64"
      ]
     },
     "execution_count": 13,
     "metadata": {},
     "output_type": "execute_result"
    }
   ],
   "source": [
    "ds.isnull().sum()"
   ]
  },
  {
   "cell_type": "code",
   "execution_count": 14,
   "metadata": {
    "collapsed": false
   },
   "outputs": [
    {
     "data": {
      "text/plain": [
       "(7043, 17)"
      ]
     },
     "execution_count": 14,
     "metadata": {},
     "output_type": "execute_result"
    }
   ],
   "source": [
    "ds.shape"
   ]
  },
  {
   "cell_type": "code",
   "execution_count": 15,
   "metadata": {
    "collapsed": true
   },
   "outputs": [],
   "source": [
    "ds = ds.drop_duplicates(['GameNumber'])"
   ]
  },
  {
   "cell_type": "markdown",
   "metadata": {},
   "source": [
    "- save data set."
   ]
  },
  {
   "cell_type": "code",
   "execution_count": 16,
   "metadata": {
    "collapsed": true
   },
   "outputs": [],
   "source": [
    "ds.to_csv('out_data/game_win_team.csv', index='False', sep=',')"
   ]
  },
  {
   "cell_type": "markdown",
   "metadata": {},
   "source": [
    "### merge game win team onto team quality roster"
   ]
  },
  {
   "cell_type": "markdown",
   "metadata": {},
   "source": [
    "- keep only columns that are relevant to team quality, merge data frames and sort values."
   ]
  },
  {
   "cell_type": "code",
   "execution_count": 17,
   "metadata": {
    "collapsed": true
   },
   "outputs": [],
   "source": [
    "ds = ds[['Season', 'GameNumber', 'GameDate', 'VTeamCode', 'HTeamCode', 'vgoals', 'hgoals', 'WinTeamCode', 'HomeWin']]"
   ]
  },
  {
   "cell_type": "code",
   "execution_count": 18,
   "metadata": {
    "collapsed": true
   },
   "outputs": [],
   "source": [
    "dm = pd.read_csv('out_data/team_roster_quality_without_goalies.csv')\n",
    "dm = dm.drop('Unnamed: 0', axis=1)"
   ]
  },
  {
   "cell_type": "code",
   "execution_count": 19,
   "metadata": {
    "collapsed": false
   },
   "outputs": [],
   "source": [
    "dm = dm.merge(ds, on=['Season', 'GameNumber'], how='left')\n",
    "dm = dm[['Season', 'GameNumber', 'GameDate', 'VTeamCode', 'HTeamCode', 'vgoals', 'hgoals', 'WinTeamCode', 'HomeWin', 'VF1', 'VF2', 'VC1', 'VC2', 'VL1', 'VL2', 'VR1', 'VR2', 'VD1', 'VD2', 'HF1', 'HF2', 'HC1', 'HC2', 'HL1', 'HL2', 'HR1', 'HR2', 'HD1', 'HD2' ]]"
   ]
  },
  {
   "cell_type": "markdown",
   "metadata": {},
   "source": [
    "- Calculate the difference between player quality per game for all positions with respect to home team ( Home Team - Visitor Team). There are 5 positions and 2 types of player quality. This will give us a total of 10 differenecs. "
   ]
  },
  {
   "cell_type": "code",
   "execution_count": 20,
   "metadata": {
    "collapsed": false
   },
   "outputs": [
    {
     "data": {
      "text/plain": [
       "Index(['Season', 'GameNumber', 'GameDate', 'VTeamCode', 'HTeamCode', 'vgoals',\n",
       "       'hgoals', 'WinTeamCode', 'HomeWin', 'VF1', 'VF2', 'VC1', 'VC2', 'VL1',\n",
       "       'VL2', 'VR1', 'VR2', 'VD1', 'VD2', 'HF1', 'HF2', 'HC1', 'HC2', 'HL1',\n",
       "       'HL2', 'HR1', 'HR2', 'HD1', 'HD2'],\n",
       "      dtype='object')"
      ]
     },
     "execution_count": 20,
     "metadata": {},
     "output_type": "execute_result"
    }
   ],
   "source": [
    "dm.columns"
   ]
  },
  {
   "cell_type": "code",
   "execution_count": 21,
   "metadata": {
    "collapsed": false
   },
   "outputs": [
    {
     "data": {
      "text/plain": [
       "(1230, 29)"
      ]
     },
     "execution_count": 21,
     "metadata": {},
     "output_type": "execute_result"
    }
   ],
   "source": [
    "dm.shape"
   ]
  },
  {
   "cell_type": "markdown",
   "metadata": {},
   "source": [
    "- add the total of forwards and deferencemen per game for both home and visiting team. To estimate the roster model, the diffence between home and visitor players per quality is calculate. For that reason, teams have to have the exact same quantity of **forwards (12) and defensemen (6)**. For games where teams didn't have the proper quantity of forwards (12) or defensemen (6) were dropped from the data set. "
   ]
  },
  {
   "cell_type": "code",
   "execution_count": 22,
   "metadata": {
    "collapsed": false
   },
   "outputs": [],
   "source": [
    "dm['VF'] = dm['VF1'] + dm['VF2']\n",
    "dm['VD'] = dm['VD1'] + dm['VD2']\n",
    "dm['HF'] = dm['HF1'] + dm['HF2']\n",
    "dm['HD'] = dm['HD1'] + dm['HD2']"
   ]
  },
  {
   "cell_type": "code",
   "execution_count": 23,
   "metadata": {
    "collapsed": true
   },
   "outputs": [],
   "source": [
    "dm = dm[['Season', 'GameNumber', 'GameDate', 'VTeamCode', 'HTeamCode', 'vgoals', 'hgoals', 'WinTeamCode', 'HomeWin', 'VF', 'VD', 'VF1', 'VF2', 'VC1', 'VC2', 'VL1', 'VL2', 'VR1', 'VR2', 'VD1', 'VD2', 'HF', 'HD', 'HF1', 'HF2', 'HC1', 'HC2', 'HL1', 'HL2', 'HR1', 'HR2', 'HD1', 'HD2']]"
   ]
  },
  {
   "cell_type": "code",
   "execution_count": 24,
   "metadata": {
    "collapsed": false
   },
   "outputs": [],
   "source": [
    "df = dm[((dm['VF'] != 12) | (dm['HF'] != 12) | (dm['VD'] != 6) | (dm['HD'] != 6))]"
   ]
  },
  {
   "cell_type": "code",
   "execution_count": 25,
   "metadata": {
    "collapsed": false
   },
   "outputs": [
    {
     "data": {
      "text/plain": [
       "(214, 33)"
      ]
     },
     "execution_count": 25,
     "metadata": {},
     "output_type": "execute_result"
    }
   ],
   "source": [
    "df.shape"
   ]
  },
  {
   "cell_type": "markdown",
   "metadata": {},
   "source": [
    "- display games where teams had less than 18 players on roster. Drop these observations."
   ]
  },
  {
   "cell_type": "code",
   "execution_count": 26,
   "metadata": {
    "collapsed": false
   },
   "outputs": [],
   "source": [
    "df.to_csv('out_data/games_with_less_players.csv', index='False', sep=',')"
   ]
  },
  {
   "cell_type": "code",
   "execution_count": 27,
   "metadata": {
    "collapsed": true
   },
   "outputs": [],
   "source": [
    "dm = dm[((dm['VF'] == 12) & (dm['HF'] == 12) & (dm['VD'] == 6) & (dm['HD'] == 6))]"
   ]
  },
  {
   "cell_type": "code",
   "execution_count": 28,
   "metadata": {
    "collapsed": true
   },
   "outputs": [],
   "source": [
    "dm.to_csv('out_data/games_with_exact_quantity_of_players.csv', index='False', sep=',')"
   ]
  },
  {
   "cell_type": "code",
   "execution_count": 29,
   "metadata": {
    "collapsed": false
   },
   "outputs": [
    {
     "data": {
      "text/plain": [
       "(1016, 33)"
      ]
     },
     "execution_count": 29,
     "metadata": {},
     "output_type": "execute_result"
    }
   ],
   "source": [
    "dm.shape"
   ]
  },
  {
   "cell_type": "markdown",
   "metadata": {},
   "source": [
    "- 214 games have been dropped from the data set. "
   ]
  },
  {
   "cell_type": "code",
   "execution_count": 30,
   "metadata": {
    "collapsed": false
   },
   "outputs": [
    {
     "data": {
      "text/plain": [
       "Index(['Season', 'GameNumber', 'GameDate', 'VTeamCode', 'HTeamCode', 'vgoals',\n",
       "       'hgoals', 'WinTeamCode', 'HomeWin', 'VF', 'VD', 'VF1', 'VF2', 'VC1',\n",
       "       'VC2', 'VL1', 'VL2', 'VR1', 'VR2', 'VD1', 'VD2', 'HF', 'HD', 'HF1',\n",
       "       'HF2', 'HC1', 'HC2', 'HL1', 'HL2', 'HR1', 'HR2', 'HD1', 'HD2'],\n",
       "      dtype='object')"
      ]
     },
     "execution_count": 30,
     "metadata": {},
     "output_type": "execute_result"
    }
   ],
   "source": [
    "dm.columns"
   ]
  },
  {
   "cell_type": "markdown",
   "metadata": {},
   "source": [
    "- independent variables display the differential of talent between home and visitor team per posiition."
   ]
  },
  {
   "cell_type": "code",
   "execution_count": 31,
   "metadata": {
    "collapsed": false
   },
   "outputs": [],
   "source": [
    "dm['x1'] = dm['HF1'] - dm['VF1']\n",
    "dm['x2'] = dm['HF2'] - dm['VF2']\n",
    "dm['x3'] = dm['HD1'] - dm['VD1']\n",
    "dm['x4'] = dm['HD2'] - dm['VD2']"
   ]
  },
  {
   "cell_type": "code",
   "execution_count": 32,
   "metadata": {
    "collapsed": false
   },
   "outputs": [
    {
     "data": {
      "text/plain": [
       "Season         0\n",
       "GameNumber     0\n",
       "GameDate       0\n",
       "VTeamCode      0\n",
       "HTeamCode      0\n",
       "vgoals         0\n",
       "hgoals         0\n",
       "WinTeamCode    0\n",
       "HomeWin        0\n",
       "VF             0\n",
       "VD             0\n",
       "VF1            0\n",
       "VF2            0\n",
       "VC1            0\n",
       "VC2            0\n",
       "VL1            0\n",
       "VL2            0\n",
       "VR1            0\n",
       "VR2            0\n",
       "VD1            0\n",
       "VD2            0\n",
       "HF             0\n",
       "HD             0\n",
       "HF1            0\n",
       "HF2            0\n",
       "HC1            0\n",
       "HC2            0\n",
       "HL1            0\n",
       "HL2            0\n",
       "HR1            0\n",
       "HR2            0\n",
       "HD1            0\n",
       "HD2            0\n",
       "x1             0\n",
       "x2             0\n",
       "x3             0\n",
       "x4             0\n",
       "dtype: int64"
      ]
     },
     "execution_count": 32,
     "metadata": {},
     "output_type": "execute_result"
    }
   ],
   "source": [
    "dm.isnull().sum()"
   ]
  },
  {
   "cell_type": "code",
   "execution_count": 33,
   "metadata": {
    "collapsed": false
   },
   "outputs": [
    {
     "data": {
      "text/plain": [
       "(1016, 37)"
      ]
     },
     "execution_count": 33,
     "metadata": {},
     "output_type": "execute_result"
    }
   ],
   "source": [
    "dm.shape"
   ]
  },
  {
   "cell_type": "markdown",
   "metadata": {},
   "source": [
    "### estimate roster model "
   ]
  },
  {
   "cell_type": "markdown",
   "metadata": {},
   "source": [
    "- regress home win on the difference in number of home and visitor players by position and quality (predictor variables). Add a constant to the predictors and use OLS. The purpose is to deterimine the impact each roster positin has on home team success."
   ]
  },
  {
   "cell_type": "code",
   "execution_count": 34,
   "metadata": {
    "collapsed": false
   },
   "outputs": [],
   "source": [
    "y = dm['HomeWin']  \n",
    "X = dm[['x1', 'x2', 'x3', 'x4']] \n",
    "X = sm.add_constant(X)  "
   ]
  },
  {
   "cell_type": "code",
   "execution_count": 35,
   "metadata": {
    "collapsed": false
   },
   "outputs": [
    {
     "data": {
      "text/html": [
       "<table class=\"simpletable\">\n",
       "<caption>OLS Regression Results</caption>\n",
       "<tr>\n",
       "  <th>Dep. Variable:</th>         <td>HomeWin</td>     <th>  R-squared:         </th> <td>   0.005</td>\n",
       "</tr>\n",
       "<tr>\n",
       "  <th>Model:</th>                   <td>OLS</td>       <th>  Adj. R-squared:    </th> <td>   0.003</td>\n",
       "</tr>\n",
       "<tr>\n",
       "  <th>Method:</th>             <td>Least Squares</td>  <th>  F-statistic:       </th> <td>   2.713</td>\n",
       "</tr>\n",
       "<tr>\n",
       "  <th>Date:</th>             <td>Mon, 30 Oct 2017</td> <th>  Prob (F-statistic):</th>  <td>0.0668</td> \n",
       "</tr>\n",
       "<tr>\n",
       "  <th>Time:</th>                 <td>11:47:18</td>     <th>  Log-Likelihood:    </th> <td> -733.74</td>\n",
       "</tr>\n",
       "<tr>\n",
       "  <th>No. Observations:</th>      <td>  1016</td>      <th>  AIC:               </th> <td>   1473.</td>\n",
       "</tr>\n",
       "<tr>\n",
       "  <th>Df Residuals:</th>          <td>  1013</td>      <th>  BIC:               </th> <td>   1488.</td>\n",
       "</tr>\n",
       "<tr>\n",
       "  <th>Df Model:</th>              <td>     2</td>      <th>                     </th>     <td> </td>   \n",
       "</tr>\n",
       "<tr>\n",
       "  <th>Covariance Type:</th>      <td>nonrobust</td>    <th>                     </th>     <td> </td>   \n",
       "</tr>\n",
       "</table>\n",
       "<table class=\"simpletable\">\n",
       "<tr>\n",
       "    <td></td>       <th>coef</th>     <th>std err</th>      <th>t</th>      <th>P>|t|</th> <th>[95.0% Conf. Int.]</th> \n",
       "</tr>\n",
       "<tr>\n",
       "  <th>const</th> <td>    0.5143</td> <td>    0.016</td> <td>   31.473</td> <td> 0.000</td> <td>    0.482     0.546</td>\n",
       "</tr>\n",
       "<tr>\n",
       "  <th>x1</th>    <td>    0.0093</td> <td>    0.005</td> <td>    1.992</td> <td> 0.047</td> <td>    0.000     0.018</td>\n",
       "</tr>\n",
       "<tr>\n",
       "  <th>x2</th>    <td>   -0.0093</td> <td>    0.005</td> <td>   -1.992</td> <td> 0.047</td> <td>   -0.018    -0.000</td>\n",
       "</tr>\n",
       "<tr>\n",
       "  <th>x3</th>    <td>   -0.0067</td> <td>    0.008</td> <td>   -0.877</td> <td> 0.381</td> <td>   -0.022     0.008</td>\n",
       "</tr>\n",
       "<tr>\n",
       "  <th>x4</th>    <td>    0.0067</td> <td>    0.008</td> <td>    0.877</td> <td> 0.381</td> <td>   -0.008     0.022</td>\n",
       "</tr>\n",
       "</table>\n",
       "<table class=\"simpletable\">\n",
       "<tr>\n",
       "  <th>Omnibus:</th>       <td> 1.272</td> <th>  Durbin-Watson:     </th> <td>   1.883</td>\n",
       "</tr>\n",
       "<tr>\n",
       "  <th>Prob(Omnibus):</th> <td> 0.529</td> <th>  Jarque-Bera (JB):  </th> <td> 165.756</td>\n",
       "</tr>\n",
       "<tr>\n",
       "  <th>Skew:</th>          <td>-0.086</td> <th>  Prob(JB):          </th> <td>1.02e-36</td>\n",
       "</tr>\n",
       "<tr>\n",
       "  <th>Kurtosis:</th>      <td> 1.029</td> <th>  Cond. No.          </th> <td>6.44e+16</td>\n",
       "</tr>\n",
       "</table>"
      ],
      "text/plain": [
       "<class 'statsmodels.iolib.summary.Summary'>\n",
       "\"\"\"\n",
       "                            OLS Regression Results                            \n",
       "==============================================================================\n",
       "Dep. Variable:                HomeWin   R-squared:                       0.005\n",
       "Model:                            OLS   Adj. R-squared:                  0.003\n",
       "Method:                 Least Squares   F-statistic:                     2.713\n",
       "Date:                Mon, 30 Oct 2017   Prob (F-statistic):             0.0668\n",
       "Time:                        11:47:18   Log-Likelihood:                -733.74\n",
       "No. Observations:                1016   AIC:                             1473.\n",
       "Df Residuals:                    1013   BIC:                             1488.\n",
       "Df Model:                           2                                         \n",
       "Covariance Type:            nonrobust                                         \n",
       "==============================================================================\n",
       "                 coef    std err          t      P>|t|      [95.0% Conf. Int.]\n",
       "------------------------------------------------------------------------------\n",
       "const          0.5143      0.016     31.473      0.000         0.482     0.546\n",
       "x1             0.0093      0.005      1.992      0.047         0.000     0.018\n",
       "x2            -0.0093      0.005     -1.992      0.047        -0.018    -0.000\n",
       "x3            -0.0067      0.008     -0.877      0.381        -0.022     0.008\n",
       "x4             0.0067      0.008      0.877      0.381        -0.008     0.022\n",
       "==============================================================================\n",
       "Omnibus:                        1.272   Durbin-Watson:                   1.883\n",
       "Prob(Omnibus):                  0.529   Jarque-Bera (JB):              165.756\n",
       "Skew:                          -0.086   Prob(JB):                     1.02e-36\n",
       "Kurtosis:                       1.029   Cond. No.                     6.44e+16\n",
       "==============================================================================\n",
       "\n",
       "Warnings:\n",
       "[1] Standard Errors assume that the covariance matrix of the errors is correctly specified.\n",
       "[2] The smallest eigenvalue is 1.55e-30. This might indicate that there are\n",
       "strong multicollinearity problems or that the design matrix is singular.\n",
       "\"\"\""
      ]
     },
     "execution_count": 35,
     "metadata": {},
     "output_type": "execute_result"
    }
   ],
   "source": [
    "result = sm.OLS(y, X).fit()\n",
    "result.summary()"
   ]
  },
  {
   "cell_type": "code",
   "execution_count": 36,
   "metadata": {
    "collapsed": false
   },
   "outputs": [
    {
     "data": {
      "text/plain": [
       "const    0.514307\n",
       "x1       0.009281\n",
       "x2      -0.009281\n",
       "x3      -0.006692\n",
       "x4       0.006692\n",
       "dtype: float64"
      ]
     },
     "execution_count": 36,
     "metadata": {},
     "output_type": "execute_result"
    }
   ],
   "source": [
    "result.params"
   ]
  },
  {
   "cell_type": "code",
   "execution_count": null,
   "metadata": {
    "collapsed": true
   },
   "outputs": [],
   "source": []
  }
 ],
 "metadata": {
  "kernelspec": {
   "display_name": "Python 3",
   "language": "python",
   "name": "python3"
  },
  "language_info": {
   "codemirror_mode": {
    "name": "ipython",
    "version": 3
   },
   "file_extension": ".py",
   "mimetype": "text/x-python",
   "name": "python",
   "nbconvert_exporter": "python",
   "pygments_lexer": "ipython3",
   "version": "3.6.0"
  }
 },
 "nbformat": 4,
 "nbformat_minor": 2
}
