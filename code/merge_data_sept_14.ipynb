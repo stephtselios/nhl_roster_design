{
 "cells": [
  {
   "cell_type": "markdown",
   "metadata": {},
   "source": [
    "## Examination of efficient NHL roster design"
   ]
  },
  {
   "cell_type": "markdown",
   "metadata": {},
   "source": [
    "### purpose of notebook:"
   ]
  },
  {
   "cell_type": "markdown",
   "metadata": {},
   "source": [
    "- import all csv files from the 2010 season\n",
    "- categorize and merge all csv files to create final data frame\n",
    "- remove irrelavant observations\n",
    "- keep the first two games of the season for analysis\n",
    "- store final data frame"
   ]
  },
  {
   "cell_type": "code",
   "execution_count": 1,
   "metadata": {
    "collapsed": true
   },
   "outputs": [],
   "source": [
    "import sys\n",
    "import os\n",
    "import pandas as pd\n",
    "import numpy as np\n",
    "import datetime, time\n",
    "import matplotlib.pyplot as plt\n",
    "import statsmodels.api as sm\n",
    "from statsmodels.formula.api import ols\n",
    "from pylab import hist, show\n",
    "import scipy"
   ]
  },
  {
   "cell_type": "markdown",
   "metadata": {},
   "source": [
    "### import data frames"
   ]
  },
  {
   "cell_type": "markdown",
   "metadata": {},
   "source": [
    "- import play by play csv file"
   ]
  },
  {
   "cell_type": "code",
   "execution_count": 2,
   "metadata": {
    "collapsed": false
   },
   "outputs": [],
   "source": [
    "dm = pd.read_csv('source_data/t_play_by_play_o.csv')\n",
    "dm = dm.sort_values(['Season', 'GameNumber', 'Period', 'EventNumber'], ascending=[True, True, True, True])\n",
    "dm = dm.rename(columns={'VPlayer1Position': 'VPosition1', 'VPlayer2Position': 'VPosition2', 'VPlayer3Position': 'VPosition3', 'VPlayer4Position': 'VPosition4', 'VPlayer5Position': 'VPosition5', 'VPlayer6Position': 'VPosition6', 'HPlayer1Position': 'HPosition1', 'HPlayer2Position': 'HPosition2', 'HPlayer3Position': 'HPosition3', 'HPlayer4Position': 'HPosition4', 'HPlayer5Position': 'HPosition5', 'HPlayer6Position': 'HPosition6' })\n",
    "dm = dm [['Season', 'GameNumber', 'EventNumber', 'Period', 'AdvantageType', 'EventTimeFromZero', 'EventTimeFromTwenty', 'EventType', 'EventDetail', 'VPlayer1', 'VPosition1', 'VPlayer2', 'VPosition2', 'VPlayer3', 'VPosition3', 'VPlayer4', 'VPosition4', 'VPlayer5', 'VPosition5', 'VPlayer6', 'VPosition6', 'HPlayer1', 'HPosition1', 'HPlayer2', 'HPosition2', 'HPlayer3', 'HPosition3', 'HPlayer4', 'HPosition4', 'HPlayer5', 'HPosition5', 'HPlayer6', 'HPosition6']]"
   ]
  },
  {
   "cell_type": "markdown",
   "metadata": {},
   "source": [
    "- import play by play giveaway csv file and rename columns"
   ]
  },
  {
   "cell_type": "code",
   "execution_count": 3,
   "metadata": {
    "collapsed": false
   },
   "outputs": [],
   "source": [
    "dg = pd.read_csv('source_data/t_play_by_play_giveaway_detail_o.csv')\n",
    "dg = dg.rename(columns={'GivePlayerNumber': 'PlayerNumber', 'GivePlayerLName': 'PlayerName', 'GiveTeamCode': 'TeamCode'})\n",
    "dg['EventType'] = 'GIVE'"
   ]
  },
  {
   "cell_type": "markdown",
   "metadata": {},
   "source": [
    "- import play by play takeaway csv file and rename columns"
   ]
  },
  {
   "cell_type": "code",
   "execution_count": 4,
   "metadata": {
    "collapsed": true
   },
   "outputs": [],
   "source": [
    "dt = pd.read_csv('source_data/t_play_by_play_takeaway_detail_o.csv')\n",
    "dt = dt.sort_values(['Season', 'GameNumber', 'EventNumber'], ascending=[True, True, True])\n",
    "dt = dt.rename(columns={'TakePlayerNumber': 'PlayerNumber', 'TakePlayerLName': 'PlayerName', 'TakeTeamCode': 'TeamCode'})\n",
    "dt['EventType'] = 'TAKE'"
   ]
  },
  {
   "cell_type": "markdown",
   "metadata": {},
   "source": [
    "- import goal detail csv file and rename column"
   ]
  },
  {
   "cell_type": "code",
   "execution_count": 5,
   "metadata": {
    "collapsed": true
   },
   "outputs": [],
   "source": [
    "dl = pd.read_csv('source_data/t_play_by_play_goal_detail_o.csv')\n",
    "dl = dl.sort_values(['Season', 'GameNumber', 'EventNumber'], ascending=[True, True, True])\n",
    "dl = dl.rename(columns={'PlayerLName': 'PlayerName'})\n",
    "dl['EventType'] = 'GOAL'"
   ]
  },
  {
   "cell_type": "markdown",
   "metadata": {},
   "source": [
    "- import play by play shot detail csv file and rename column"
   ]
  },
  {
   "cell_type": "code",
   "execution_count": 6,
   "metadata": {
    "collapsed": true
   },
   "outputs": [],
   "source": [
    "ds = pd.read_csv('source_data/t_play_by_play_shot_detail_o.csv')\n",
    "ds = ds.sort_values(['Season', 'GameNumber', 'EventNumber'], ascending=[True, True, True])\n",
    "ds = ds.rename(columns={'PlayerLName': 'PlayerName'})\n",
    "ds['EventType'] = 'SHOT'"
   ]
  },
  {
   "cell_type": "markdown",
   "metadata": {},
   "source": [
    "- import play by play miss detail csv file and rename column"
   ]
  },
  {
   "cell_type": "code",
   "execution_count": 7,
   "metadata": {
    "collapsed": true
   },
   "outputs": [],
   "source": [
    "dn = pd.read_csv('source_data/t_play_by_play_miss_detail_o.csv')\n",
    "dn = dn.sort_values(['Season', 'GameNumber', 'EventNumber'], ascending=[True, True, True])\n",
    "dn = dn.rename(columns={'PlayerLName': 'PlayerName'})\n",
    "dn['EventType'] = 'MISS'"
   ]
  },
  {
   "cell_type": "markdown",
   "metadata": {},
   "source": [
    "- import play by play block detail csv file and rename columns"
   ]
  },
  {
   "cell_type": "code",
   "execution_count": 8,
   "metadata": {
    "collapsed": true
   },
   "outputs": [],
   "source": [
    "db = pd.read_csv('source_data/t_play_by_play_block_detail_o.csv')\n",
    "db = db.sort_values(['Season', 'GameNumber', 'EventNumber'], ascending=[True, True, True])\n",
    "db = db.rename(columns={'ShotPlayerLName': 'ShotPlayerName', 'BlockPlayerLName': 'PlayerName', 'BlockPlayerNumber': 'PlayerNumber', 'BlockTeamCode': 'TeamCode'})\n",
    "db['EventType'] = 'BLOCK'"
   ]
  },
  {
   "cell_type": "markdown",
   "metadata": {},
   "source": [
    "- import play by play hit detail csv file and rename columns"
   ]
  },
  {
   "cell_type": "code",
   "execution_count": 9,
   "metadata": {
    "collapsed": true
   },
   "outputs": [],
   "source": [
    "dh = pd.read_csv('source_data/t_play_by_play_hit_detail_o.csv')\n",
    "dh = dh.sort_values(['Season', 'GameNumber', 'EventNumber'], ascending=[True, True, True])\n",
    "dh = dh.rename(columns={'HitterTeamCode': 'TeamCode', 'HitterPlayerNumber': 'PlayerNumber', 'HitterPlayerLName': 'HitterPlayerName', 'HitteePlayerLName': 'HitteePlayerName'})\n",
    "dh['EventType'] = 'HIT'"
   ]
  },
  {
   "cell_type": "markdown",
   "metadata": {},
   "source": [
    " - import play by play faceoff detail csv file and rename columns"
   ]
  },
  {
   "cell_type": "code",
   "execution_count": 10,
   "metadata": {
    "collapsed": false
   },
   "outputs": [],
   "source": [
    "df = pd.read_csv('source_data/t_play_by_play_faceoff_detail_o.csv')\n",
    "df = df.sort_values(['Season', 'GameNumber', 'EventNumber'], ascending=[True, True, True])\n",
    "df = df.rename(columns={'WinTeamCode': 'TeamCode', 'VPlayerLName': 'VName', 'HPlayerLName': 'HName', 'VPlayerNumber': 'VPlayer', 'HPlayerNumber': 'HPlayer'})\n",
    "df['EventType'] = 'FAC'\n"
   ]
  },
  {
   "cell_type": "markdown",
   "metadata": {},
   "source": [
    " - import play by play penalty detail csv file and rename columns"
   ]
  },
  {
   "cell_type": "code",
   "execution_count": 11,
   "metadata": {
    "collapsed": true
   },
   "outputs": [],
   "source": [
    "dp = pd.read_csv('source_data/t_play_by_play_penalty_detail_o.csv')\n",
    "dp = dp.sort_values(['Season', 'GameNumber', 'EventNumber'], ascending=[True, True, True])\n",
    "dp = dp.rename(columns={'PenaltyTeamCode': 'TeamCode', 'PenaltyPlayerNumber': 'PlayerNumber', 'PenaltyPlayerLName': 'PenaltyPlayerName', 'DrawnByPlayerLName': 'DrawnByPlayerName'})\n",
    "dp['EventType'] = 'PENL'"
   ]
  },
  {
   "cell_type": "markdown",
   "metadata": {},
   "source": [
    "- import game detail csv file "
   ]
  },
  {
   "cell_type": "code",
   "execution_count": 12,
   "metadata": {
    "collapsed": true
   },
   "outputs": [],
   "source": [
    "dd = pd.read_csv('source_data/t_game_detail_o.csv')"
   ]
  },
  {
   "cell_type": "markdown",
   "metadata": {},
   "source": [
    "- import scoring csv file and rename columns"
   ]
  },
  {
   "cell_type": "code",
   "execution_count": 13,
   "metadata": {
    "collapsed": false
   },
   "outputs": [],
   "source": [
    "dc = pd.read_csv('source_data/t_scoring_detail_o.csv')\n",
    "dc['GoalTime'] = dc['Time'].copy()\n",
    "dc = dc.rename(columns={'Time': 'EventTimeFromZero', 'GoalType': 'AdvantageType'})\n",
    "dc = dc [['Season', 'GameNumber', 'GoalNumber', 'Period', 'GoalTime', 'EventTimeFromZero', 'AdvantageType', 'TeamCode', 'Assist1Player', 'Assist2Player']]"
   ]
  },
  {
   "cell_type": "markdown",
   "metadata": {},
   "source": [
    "- import shift csv file and rename columns"
   ]
  },
  {
   "cell_type": "code",
   "execution_count": 14,
   "metadata": {
    "collapsed": true
   },
   "outputs": [],
   "source": [
    "dz = pd.read_csv('source_data/t_player_shift_o.csv')\n",
    "dz = dz.rename(columns={'season': 'Season', 'gamenumber': 'GameNumber', 'period': 'Period', 'teamcode': 'TeamCode', 'playernumber': 'PlayerNumber'})\n",
    "dz = dz [['Season', 'GameNumber', 'Period', 'TeamCode', 'PlayerNumber', 'starttime', 'endtime']]"
   ]
  },
  {
   "cell_type": "markdown",
   "metadata": {},
   "source": [
    "### group and merge data frames based on similarity"
   ]
  },
  {
   "cell_type": "markdown",
   "metadata": {},
   "source": [
    "Since giveaway (dg) and takeaway (dt) csv files have identical columns, they are merged together. Thus, dt is merged on dg:"
   ]
  },
  {
   "cell_type": "markdown",
   "metadata": {},
   "source": [
    "### merge giveaways and takeaways "
   ]
  },
  {
   "cell_type": "code",
   "execution_count": 15,
   "metadata": {
    "collapsed": true
   },
   "outputs": [],
   "source": [
    "dg = dg.merge(dt, on=['Season', 'GameNumber', 'EventNumber', 'EventType', 'TeamCode', 'PlayerName', 'PlayerNumber', 'Zone'], how='outer')\n",
    "dg.sort_values(['Season', 'GameNumber', 'EventNumber'], ascending=[True, True, True], inplace=True)"
   ]
  },
  {
   "cell_type": "markdown",
   "metadata": {},
   "source": [
    "dg now contains observations from both type of events. The merged data frame is ascendingly sorted by season, game number and event number."
   ]
  },
  {
   "cell_type": "markdown",
   "metadata": {},
   "source": [
    "### merge goal,  shot,  miss and block dataframes"
   ]
  },
  {
   "cell_type": "markdown",
   "metadata": {},
   "source": [
    "Goal, miss and block are result of a shot. For that reason, they are merged together. "
   ]
  },
  {
   "cell_type": "markdown",
   "metadata": {},
   "source": [
    "- merge shot data frame (ds) onto goal data frame (dl):"
   ]
  },
  {
   "cell_type": "code",
   "execution_count": 16,
   "metadata": {
    "collapsed": true
   },
   "outputs": [],
   "source": [
    "dl = dl.merge(ds, on=['Season', 'GameNumber', 'EventNumber', 'EventType', 'TeamCode', 'PlayerName', 'PlayerNumber', 'Zone', 'ShotType', 'Length'], how='outer')\n",
    "dl.sort_values(['Season', 'GameNumber', 'EventNumber'], ascending=[True, True, True], inplace=True)\n"
   ]
  },
  {
   "cell_type": "markdown",
   "metadata": {},
   "source": [
    "**dl** now contains observations from both shot and goal data set. The merged data frame is ascendingly sorted by season, game number and event number."
   ]
  },
  {
   "cell_type": "markdown",
   "metadata": {},
   "source": [
    "- merge miss dataframe (dm) onto goal data frame (dl): "
   ]
  },
  {
   "cell_type": "code",
   "execution_count": 17,
   "metadata": {
    "collapsed": true
   },
   "outputs": [],
   "source": [
    "dl = dl.merge(dn, on=['Season', 'GameNumber', 'EventNumber', 'EventType', 'TeamCode', 'PlayerName', 'PlayerNumber', 'Zone', 'ShotType', 'Length'], how='outer')\n",
    "dl.sort_values(['Season', 'GameNumber', 'EventNumber'], ascending=[True, True, True], inplace=True)"
   ]
  },
  {
   "cell_type": "markdown",
   "metadata": {},
   "source": [
    "**dl** now contains observations from goal, shot and miss events. The merged data frame is ascendingly sorted by season, game number and event number."
   ]
  },
  {
   "cell_type": "markdown",
   "metadata": {},
   "source": [
    "- merge block (db) onto goal dataframe (dl):"
   ]
  },
  {
   "cell_type": "code",
   "execution_count": 18,
   "metadata": {
    "collapsed": true
   },
   "outputs": [],
   "source": [
    "dl = dl.merge(db, on=['Season', 'GameNumber', 'EventNumber', 'EventType', 'TeamCode', 'PlayerName', 'PlayerNumber', 'Zone', 'ShotType'], how='outer')\n",
    "dl.sort_values(['Season', 'GameNumber', 'EventNumber'], ascending=[True, True, True], inplace=True)"
   ]
  },
  {
   "cell_type": "markdown",
   "metadata": {},
   "source": [
    "**dl** now contains observations from goal, shot, miss and block events. The merged data frame is ascendingly sorted by season, game number and event number."
   ]
  },
  {
   "cell_type": "markdown",
   "metadata": {},
   "source": [
    "### merge faceoff, hit and penalty together"
   ]
  },
  {
   "cell_type": "markdown",
   "metadata": {},
   "source": [
    "- merge hit data (dh) frame onto faceoff data frame (df):"
   ]
  },
  {
   "cell_type": "code",
   "execution_count": 19,
   "metadata": {
    "collapsed": true
   },
   "outputs": [],
   "source": [
    "df = df.merge(dh, on=['Season', 'GameNumber', 'EventNumber', 'EventType', 'Zone', 'TeamCode'], how='outer')\n",
    "df.sort_values(['Season', 'GameNumber', 'EventNumber'], ascending=[True, True, True], inplace=True)"
   ]
  },
  {
   "cell_type": "markdown",
   "metadata": {},
   "source": [
    "**df** now contains observations from both faceoff and hit events. The merged data frame is ascendingly sorted by season, game number and event number."
   ]
  },
  {
   "cell_type": "markdown",
   "metadata": {},
   "source": [
    "- merge penalty data frame (dh) onto faceoff data frame (df):"
   ]
  },
  {
   "cell_type": "code",
   "execution_count": 20,
   "metadata": {
    "collapsed": false
   },
   "outputs": [],
   "source": [
    "df = df.merge(dp, on=['Season', 'GameNumber', 'EventNumber', 'EventType', 'TeamCode', 'PlayerNumber', 'Zone'], how='outer')\n",
    "df.sort_values(['Season', 'GameNumber', 'EventNumber'], ascending=[True, True, True], inplace=True)"
   ]
  },
  {
   "cell_type": "markdown",
   "metadata": {},
   "source": [
    "**df** now contains observations from faceoff, hit and penalty events. The merged data frame is ascendingly sorted by season, game number and event number."
   ]
  },
  {
   "cell_type": "markdown",
   "metadata": {},
   "source": [
    "### merge merged data frames"
   ]
  },
  {
   "cell_type": "markdown",
   "metadata": {},
   "source": [
    "Three merged data frames have been created:  dg, dl and df. The next step is to merge the merged data frames together."
   ]
  },
  {
   "cell_type": "markdown",
   "metadata": {},
   "source": [
    "- merge dg onto dl:"
   ]
  },
  {
   "cell_type": "code",
   "execution_count": 21,
   "metadata": {
    "collapsed": true
   },
   "outputs": [],
   "source": [
    "dl = dl.merge(dg, on=['Season', 'GameNumber', 'EventNumber', 'EventType', 'TeamCode', 'PlayerName', 'PlayerNumber', 'Zone'], how='outer')\n",
    "dl.sort_values(['Season', 'GameNumber', 'EventNumber'], ascending=[True, True, True], inplace=True)\n"
   ]
  },
  {
   "cell_type": "markdown",
   "metadata": {},
   "source": [
    "**dl** now contains observations from goal, shot, miss , block, giveaway and takeaway events. The merged data frame is ascendingly sorted by season, game number and event number."
   ]
  },
  {
   "cell_type": "markdown",
   "metadata": {},
   "source": [
    "- merge df onto dl:"
   ]
  },
  {
   "cell_type": "code",
   "execution_count": 22,
   "metadata": {
    "collapsed": true
   },
   "outputs": [],
   "source": [
    "dl = dl.merge(df, on=['Season', 'GameNumber', 'EventNumber', 'EventType', 'TeamCode','PlayerNumber', 'Zone'], how='outer')\n",
    "dl.sort_values(['Season', 'GameNumber', 'EventNumber'], ascending=[True, True, True], inplace=True)\n"
   ]
  },
  {
   "cell_type": "markdown",
   "metadata": {},
   "source": [
    "**dl** now contains observations from goal, shot, miss , block, giveaway, takeaway, faceoff, hit and penalty events. The merged data frame is ascendingly sorted by season, game number and event number."
   ]
  },
  {
   "cell_type": "markdown",
   "metadata": {},
   "source": [
    "### merge detail play (dd) onto all ice events (dl)"
   ]
  },
  {
   "cell_type": "code",
   "execution_count": 23,
   "metadata": {
    "collapsed": false
   },
   "outputs": [],
   "source": [
    "dl = dl.merge(dd, on=['Season', 'GameNumber', 'VTeamCode', 'HTeamCode'], how='outer')\n",
    "dl.sort_values(['Season', 'GameNumber', 'EventNumber'], ascending=[True, True, True], inplace=True)"
   ]
  },
  {
   "cell_type": "code",
   "execution_count": 24,
   "metadata": {
    "collapsed": false
   },
   "outputs": [],
   "source": [
    "dl = dl.merge(dz, on=['Season', 'GameNumber', 'TeamCode', 'PlayerNumber'], how='outer')\n",
    "dl.sort_values(['Season', 'GameNumber', 'EventNumber'], ascending=[True, True, True], inplace=True)"
   ]
  },
  {
   "cell_type": "markdown",
   "metadata": {},
   "source": [
    "### merge all on-ice events (dl) onto play by play (dm)"
   ]
  },
  {
   "cell_type": "markdown",
   "metadata": {},
   "source": [
    "The merged data frame containing all on-ice events (dl) is merged onto the play by play data frame by season, game number and event number."
   ]
  },
  {
   "cell_type": "code",
   "execution_count": 25,
   "metadata": {
    "collapsed": true
   },
   "outputs": [],
   "source": [
    "dm = dm.merge(dl, on=['Season', 'GameNumber', 'EventNumber', 'EventType', 'Period'], how='outer')\n",
    "dm.sort_values(['Season', 'GameNumber', 'EventNumber'], ascending=[True, True, True], inplace=True)"
   ]
  },
  {
   "cell_type": "markdown",
   "metadata": {},
   "source": [
    "### merge scoring detail (dc) onto play by play (dm)"
   ]
  },
  {
   "cell_type": "markdown",
   "metadata": {},
   "source": [
    "The final merge is to add scoring detail data frame (dc) onto play by play data frame (dm). The purpose is to include assist 1 player name, assist 1 player number, assist 2 player number and assist player 2 name into the data frame that will be used for player evaluation analysis."
   ]
  },
  {
   "cell_type": "code",
   "execution_count": 26,
   "metadata": {
    "collapsed": false
   },
   "outputs": [],
   "source": [
    "dm = dm.merge(dc, on=['Season', 'GameNumber', 'Period', 'EventTimeFromZero', 'AdvantageType', 'TeamCode'], how='outer')"
   ]
  },
  {
   "cell_type": "markdown",
   "metadata": {},
   "source": [
    "### keep only regular season games"
   ]
  },
  {
   "cell_type": "code",
   "execution_count": 27,
   "metadata": {
    "collapsed": true
   },
   "outputs": [],
   "source": [
    "dm = dm[dm['GameNumber'] <= 21230]"
   ]
  },
  {
   "cell_type": "markdown",
   "metadata": {},
   "source": [
    "### remove irrelevant observations\n"
   ]
  },
  {
   "cell_type": "markdown",
   "metadata": {},
   "source": [
    "Tv time-out, goalie time-out and icing are listed as \"stoppage\" events and are removed from the data frame as they have no impact on the probability of a goal being scored."
   ]
  },
  {
   "cell_type": "code",
   "execution_count": 28,
   "metadata": {
    "collapsed": true
   },
   "outputs": [],
   "source": [
    "dm = dm[dm['EventType']!='STOP']"
   ]
  },
  {
   "cell_type": "markdown",
   "metadata": {},
   "source": [
    "### exclude overtime and shootouts"
   ]
  },
  {
   "cell_type": "code",
   "execution_count": 29,
   "metadata": {
    "collapsed": false
   },
   "outputs": [],
   "source": [
    "dm = dm[dm['Period'] <= 3]\n",
    "dm = dm[dm['Period'] >= 1]"
   ]
  },
  {
   "cell_type": "markdown",
   "metadata": {},
   "source": [
    "### man-advantage scenarios"
   ]
  },
  {
   "cell_type": "code",
   "execution_count": 30,
   "metadata": {
    "collapsed": true
   },
   "outputs": [],
   "source": [
    "value_list = ['PP', 'SH']\n",
    "dm[dm['AdvantageType'].isin(value_list)]\n",
    "dm = dm[dm['AdvantageType'] != 'PP']\n",
    "dm = dm[dm['AdvantageType'] != 'SH']\n",
    "dm['AdvantageType'] = dm['AdvantageType'].fillna('EV')"
   ]
  },
  {
   "cell_type": "markdown",
   "metadata": {},
   "source": [
    "Since the player evaluation model uses only even strength situations, man-advantage scenarios are dropped from the data frame"
   ]
  },
  {
   "cell_type": "markdown",
   "metadata": {},
   "source": [
    "### store final data frame"
   ]
  },
  {
   "cell_type": "markdown",
   "metadata": {},
   "source": [
    "The merged play by play data frame is stored "
   ]
  },
  {
   "cell_type": "code",
   "execution_count": 31,
   "metadata": {
    "collapsed": true
   },
   "outputs": [],
   "source": [
    "dm.to_csv('out_data/pbpmerge.csv', index='False', sep=',')"
   ]
  },
  {
   "cell_type": "markdown",
   "metadata": {},
   "source": [
    "The next step is to reshape the data set from wide to long."
   ]
  },
  {
   "cell_type": "code",
   "execution_count": null,
   "metadata": {
    "collapsed": true
   },
   "outputs": [],
   "source": []
  }
 ],
 "metadata": {
  "kernelspec": {
   "display_name": "Python 3",
   "language": "python",
   "name": "python3"
  },
  "language_info": {
   "codemirror_mode": {
    "name": "ipython",
    "version": 3
   },
   "file_extension": ".py",
   "mimetype": "text/x-python",
   "name": "python",
   "nbconvert_exporter": "python",
   "pygments_lexer": "ipython3",
   "version": "3.6.0"
  }
 },
 "nbformat": 4,
 "nbformat_minor": 2
}
