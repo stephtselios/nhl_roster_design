{
 "cells": [
  {
   "cell_type": "markdown",
   "metadata": {},
   "source": [
    "## 2016 play by play data"
   ]
  },
  {
   "cell_type": "code",
   "execution_count": 5,
   "metadata": {
    "collapsed": true
   },
   "outputs": [],
   "source": [
    "import sys\n",
    "import os\n",
    "import pandas as pd\n",
    "import numpy as np\n",
    "import datetime, time\n",
    "import matplotlib.pyplot as plt\n",
    "from matplotlib.backends.backend_pdf import PdfPages\n",
    "import matplotlib.cm as cm\n",
    "import statsmodels.api as sm\n",
    "from statsmodels.formula.api import ols\n",
    "from pylab import hist, show\n",
    "import scipy\n",
    "import zipfile\n",
    "from sklearn.cluster import KMeans\n",
    "from sklearn import metrics\n",
    "from sklearn.preprocessing import MinMaxScaler\n",
    "from sklearn.preprocessing import StandardScaler\n",
    "from sklearn.decomposition import PCA\n",
    "from scipy.cluster.hierarchy import linkage, dendrogram\n",
    "from scipy.cluster.hierarchy import cophenet\n",
    "from scipy.spatial.distance import pdist\n",
    "import seaborn as sn\n",
    "from sklearn.metrics import silhouette_samples, silhouette_score\n",
    "\n",
    "\n",
    "sys.setrecursionlimit(100000)\n",
    "pd.set_option('display.max_rows', 50)\n",
    "pd.set_option('display.max_columns', 200)"
   ]
  },
  {
   "cell_type": "markdown",
   "metadata": {},
   "source": [
    "### import 2016 nhl data set"
   ]
  },
  {
   "cell_type": "code",
   "execution_count": 122,
   "metadata": {
    "collapsed": false
   },
   "outputs": [],
   "source": [
    "da = pd.read_csv('/Users/stefanostselios/Brock University/Kevin Mongeon - StephanosShare/data/nhl_pbp20162017.csv')\n",
    "#da = pd.read_csv('/Users/kevinmongeon/Brock University/Steve Tselios - StephanosShare/data/nhl_pbp20162017.csv')\n",
    "da = da.drop('Unnamed: 0', axis=1)"
   ]
  },
  {
   "cell_type": "markdown",
   "metadata": {},
   "source": [
    "- rename columns and create a season variable"
   ]
  },
  {
   "cell_type": "code",
   "execution_count": 123,
   "metadata": {
    "collapsed": false
   },
   "outputs": [],
   "source": [
    "da['Season'] = 2016\n",
    "da = da.rename(columns={ 'Game_Id' : 'GameNumber', 'Ev_Zone': 'EventZone', 'Time_Elapsed': 'Time', 'Ev_Team': 'EventTeamCode', 'Description': 'EventDetail', 'Away_Team': 'ATeamCode', 'Home_Team':'HTeamCode', 'p1_name': 'EventPlayer1','p2_name': 'EventPlayer2', 'p3_name': 'EventPlayer3', 'awayPlayer1': 'APlayer1', 'awayPlayer2': 'APlayer2', 'awayPlayer3': 'APlayer3', 'awayPlayer4': 'APlayer4', 'awayPlayer5': 'APlayer5', 'awayPlayer6': 'APlayer6', 'homePlayer1': 'HPlayer1', 'homePlayer2': 'HPlayer2', 'homePlayer3': 'HPlayer3','homePlayer4': 'HPlayer4', 'homePlayer5': 'HPlayer5','homePlayer6': 'HPlayer6', 'Away_Score': 'AGoals', 'Home_Score': 'HGoals', 'Away_Goalie': 'AGoalie', 'Home_Goalie': 'HGoalie', 'Away_Players': 'PlayersA', 'Home_Players': 'PlayersH' })\n",
    "da = da[['Season', 'GameNumber', 'Date', 'Period', 'Time', 'Strength', 'Event', 'EventDetail', 'EventTeamCode', 'EventPlayer1', 'EventPlayer2', 'EventPlayer3', 'ATeamCode', 'APlayer1', 'APlayer2', 'APlayer3', 'APlayer4', 'APlayer5', 'APlayer6', 'AGoalie', 'PlayersA', 'HTeamCode', 'HPlayer1', 'HPlayer2', 'HPlayer3', 'HPlayer4', 'HPlayer5', 'HPlayer6', 'HGoalie', 'PlayersH']]\n",
    "da = da.sort_values(['Season', 'GameNumber', 'Period', 'Time'], ascending=[True, True, True, True])"
   ]
  },
  {
   "cell_type": "code",
   "execution_count": 124,
   "metadata": {
    "collapsed": false
   },
   "outputs": [
    {
     "data": {
      "text/html": [
       "<div>\n",
       "<table border=\"1\" class=\"dataframe\">\n",
       "  <thead>\n",
       "    <tr style=\"text-align: right;\">\n",
       "      <th></th>\n",
       "      <th>Season</th>\n",
       "      <th>GameNumber</th>\n",
       "      <th>Date</th>\n",
       "      <th>Period</th>\n",
       "      <th>Time</th>\n",
       "      <th>Strength</th>\n",
       "      <th>Event</th>\n",
       "      <th>EventDetail</th>\n",
       "      <th>EventTeamCode</th>\n",
       "      <th>EventPlayer1</th>\n",
       "      <th>EventPlayer2</th>\n",
       "      <th>EventPlayer3</th>\n",
       "      <th>ATeamCode</th>\n",
       "      <th>APlayer1</th>\n",
       "      <th>APlayer2</th>\n",
       "      <th>APlayer3</th>\n",
       "      <th>APlayer4</th>\n",
       "      <th>APlayer5</th>\n",
       "      <th>APlayer6</th>\n",
       "      <th>AGoalie</th>\n",
       "      <th>PlayersA</th>\n",
       "      <th>HTeamCode</th>\n",
       "      <th>HPlayer1</th>\n",
       "      <th>HPlayer2</th>\n",
       "      <th>HPlayer3</th>\n",
       "      <th>HPlayer4</th>\n",
       "      <th>HPlayer5</th>\n",
       "      <th>HPlayer6</th>\n",
       "      <th>HGoalie</th>\n",
       "      <th>PlayersH</th>\n",
       "    </tr>\n",
       "  </thead>\n",
       "  <tbody>\n",
       "    <tr>\n",
       "      <th>0</th>\n",
       "      <td>2016</td>\n",
       "      <td>20001</td>\n",
       "      <td>2016-10-12</td>\n",
       "      <td>1</td>\n",
       "      <td>0:00</td>\n",
       "      <td>5x5</td>\n",
       "      <td>PSTR</td>\n",
       "      <td>Period Start- Local time: 7:18 EDT</td>\n",
       "      <td>NaN</td>\n",
       "      <td>NaN</td>\n",
       "      <td>NaN</td>\n",
       "      <td>NaN</td>\n",
       "      <td>TOR</td>\n",
       "      <td>NAZEM KADRI</td>\n",
       "      <td>LEO KOMAROV</td>\n",
       "      <td>MILAN MICHALEK</td>\n",
       "      <td>MORGAN RIELLY</td>\n",
       "      <td>MARTIN MARINCIN</td>\n",
       "      <td>FREDERIK ANDERSEN</td>\n",
       "      <td>FREDERIK ANDERSEN</td>\n",
       "      <td>6</td>\n",
       "      <td>OTT</td>\n",
       "      <td>ZACK SMITH</td>\n",
       "      <td>DERICK BRASSARD</td>\n",
       "      <td>BOBBY RYAN</td>\n",
       "      <td>DION PHANEUF</td>\n",
       "      <td>CODY CECI</td>\n",
       "      <td>CRAIG ANDERSON</td>\n",
       "      <td>CRAIG ANDERSON</td>\n",
       "      <td>6</td>\n",
       "    </tr>\n",
       "    <tr>\n",
       "      <th>1</th>\n",
       "      <td>2016</td>\n",
       "      <td>20001</td>\n",
       "      <td>2016-10-12</td>\n",
       "      <td>1</td>\n",
       "      <td>0:00</td>\n",
       "      <td>5x5</td>\n",
       "      <td>FAC</td>\n",
       "      <td>TOR won Neu. Zone - TOR #43 KADRI vs OTT #19 B...</td>\n",
       "      <td>TOR</td>\n",
       "      <td>NAZEM KADRI</td>\n",
       "      <td>DERICK BRASSARD</td>\n",
       "      <td>NaN</td>\n",
       "      <td>TOR</td>\n",
       "      <td>NAZEM KADRI</td>\n",
       "      <td>LEO KOMAROV</td>\n",
       "      <td>MILAN MICHALEK</td>\n",
       "      <td>MORGAN RIELLY</td>\n",
       "      <td>MARTIN MARINCIN</td>\n",
       "      <td>FREDERIK ANDERSEN</td>\n",
       "      <td>FREDERIK ANDERSEN</td>\n",
       "      <td>6</td>\n",
       "      <td>OTT</td>\n",
       "      <td>ZACK SMITH</td>\n",
       "      <td>DERICK BRASSARD</td>\n",
       "      <td>BOBBY RYAN</td>\n",
       "      <td>DION PHANEUF</td>\n",
       "      <td>CODY CECI</td>\n",
       "      <td>CRAIG ANDERSON</td>\n",
       "      <td>CRAIG ANDERSON</td>\n",
       "      <td>6</td>\n",
       "    </tr>\n",
       "    <tr>\n",
       "      <th>2</th>\n",
       "      <td>2016</td>\n",
       "      <td>20001</td>\n",
       "      <td>2016-10-12</td>\n",
       "      <td>1</td>\n",
       "      <td>0:05</td>\n",
       "      <td>5x5</td>\n",
       "      <td>STOP</td>\n",
       "      <td>ICING</td>\n",
       "      <td>NaN</td>\n",
       "      <td>NaN</td>\n",
       "      <td>NaN</td>\n",
       "      <td>NaN</td>\n",
       "      <td>TOR</td>\n",
       "      <td>NAZEM KADRI</td>\n",
       "      <td>LEO KOMAROV</td>\n",
       "      <td>MILAN MICHALEK</td>\n",
       "      <td>MORGAN RIELLY</td>\n",
       "      <td>MARTIN MARINCIN</td>\n",
       "      <td>FREDERIK ANDERSEN</td>\n",
       "      <td>FREDERIK ANDERSEN</td>\n",
       "      <td>6</td>\n",
       "      <td>OTT</td>\n",
       "      <td>ZACK SMITH</td>\n",
       "      <td>DERICK BRASSARD</td>\n",
       "      <td>BOBBY RYAN</td>\n",
       "      <td>DION PHANEUF</td>\n",
       "      <td>CODY CECI</td>\n",
       "      <td>CRAIG ANDERSON</td>\n",
       "      <td>CRAIG ANDERSON</td>\n",
       "      <td>6</td>\n",
       "    </tr>\n",
       "    <tr>\n",
       "      <th>3</th>\n",
       "      <td>2016</td>\n",
       "      <td>20001</td>\n",
       "      <td>2016-10-12</td>\n",
       "      <td>1</td>\n",
       "      <td>0:05</td>\n",
       "      <td>5x5</td>\n",
       "      <td>FAC</td>\n",
       "      <td>TOR won Def. Zone - TOR #43 KADRI vs OTT #19 B...</td>\n",
       "      <td>TOR</td>\n",
       "      <td>NAZEM KADRI</td>\n",
       "      <td>DERICK BRASSARD</td>\n",
       "      <td>NaN</td>\n",
       "      <td>TOR</td>\n",
       "      <td>NAZEM KADRI</td>\n",
       "      <td>LEO KOMAROV</td>\n",
       "      <td>MILAN MICHALEK</td>\n",
       "      <td>MORGAN RIELLY</td>\n",
       "      <td>MARTIN MARINCIN</td>\n",
       "      <td>FREDERIK ANDERSEN</td>\n",
       "      <td>FREDERIK ANDERSEN</td>\n",
       "      <td>6</td>\n",
       "      <td>OTT</td>\n",
       "      <td>ZACK SMITH</td>\n",
       "      <td>DERICK BRASSARD</td>\n",
       "      <td>BOBBY RYAN</td>\n",
       "      <td>DION PHANEUF</td>\n",
       "      <td>CODY CECI</td>\n",
       "      <td>CRAIG ANDERSON</td>\n",
       "      <td>CRAIG ANDERSON</td>\n",
       "      <td>6</td>\n",
       "    </tr>\n",
       "    <tr>\n",
       "      <th>4</th>\n",
       "      <td>2016</td>\n",
       "      <td>20001</td>\n",
       "      <td>2016-10-12</td>\n",
       "      <td>1</td>\n",
       "      <td>0:43</td>\n",
       "      <td>5x5</td>\n",
       "      <td>TAKE</td>\n",
       "      <td>TOR TAKEAWAY - #16 MARNER, Off. Zone</td>\n",
       "      <td>TOR</td>\n",
       "      <td>MITCHELL MARNER</td>\n",
       "      <td>NaN</td>\n",
       "      <td>NaN</td>\n",
       "      <td>TOR</td>\n",
       "      <td>MITCHELL MARNER</td>\n",
       "      <td>TYLER BOZAK</td>\n",
       "      <td>JAMES VAN RIEMSDYK</td>\n",
       "      <td>CONNOR CARRICK</td>\n",
       "      <td>JAKE GARDINER</td>\n",
       "      <td>FREDERIK ANDERSEN</td>\n",
       "      <td>FREDERIK ANDERSEN</td>\n",
       "      <td>6</td>\n",
       "      <td>OTT</td>\n",
       "      <td>KYLE TURRIS</td>\n",
       "      <td>MIKE HOFFMAN</td>\n",
       "      <td>MARK STONE</td>\n",
       "      <td>MARC METHOT</td>\n",
       "      <td>CODY CECI</td>\n",
       "      <td>CRAIG ANDERSON</td>\n",
       "      <td>CRAIG ANDERSON</td>\n",
       "      <td>6</td>\n",
       "    </tr>\n",
       "  </tbody>\n",
       "</table>\n",
       "</div>"
      ],
      "text/plain": [
       "   Season  GameNumber        Date  Period  Time Strength Event  \\\n",
       "0    2016       20001  2016-10-12       1  0:00      5x5  PSTR   \n",
       "1    2016       20001  2016-10-12       1  0:00      5x5   FAC   \n",
       "2    2016       20001  2016-10-12       1  0:05      5x5  STOP   \n",
       "3    2016       20001  2016-10-12       1  0:05      5x5   FAC   \n",
       "4    2016       20001  2016-10-12       1  0:43      5x5  TAKE   \n",
       "\n",
       "                                         EventDetail EventTeamCode  \\\n",
       "0                 Period Start- Local time: 7:18 EDT           NaN   \n",
       "1  TOR won Neu. Zone - TOR #43 KADRI vs OTT #19 B...           TOR   \n",
       "2                                              ICING           NaN   \n",
       "3  TOR won Def. Zone - TOR #43 KADRI vs OTT #19 B...           TOR   \n",
       "4               TOR TAKEAWAY - #16 MARNER, Off. Zone           TOR   \n",
       "\n",
       "      EventPlayer1     EventPlayer2 EventPlayer3 ATeamCode         APlayer1  \\\n",
       "0              NaN              NaN          NaN       TOR      NAZEM KADRI   \n",
       "1      NAZEM KADRI  DERICK BRASSARD          NaN       TOR      NAZEM KADRI   \n",
       "2              NaN              NaN          NaN       TOR      NAZEM KADRI   \n",
       "3      NAZEM KADRI  DERICK BRASSARD          NaN       TOR      NAZEM KADRI   \n",
       "4  MITCHELL MARNER              NaN          NaN       TOR  MITCHELL MARNER   \n",
       "\n",
       "      APlayer2            APlayer3        APlayer4         APlayer5  \\\n",
       "0  LEO KOMAROV      MILAN MICHALEK   MORGAN RIELLY  MARTIN MARINCIN   \n",
       "1  LEO KOMAROV      MILAN MICHALEK   MORGAN RIELLY  MARTIN MARINCIN   \n",
       "2  LEO KOMAROV      MILAN MICHALEK   MORGAN RIELLY  MARTIN MARINCIN   \n",
       "3  LEO KOMAROV      MILAN MICHALEK   MORGAN RIELLY  MARTIN MARINCIN   \n",
       "4  TYLER BOZAK  JAMES VAN RIEMSDYK  CONNOR CARRICK    JAKE GARDINER   \n",
       "\n",
       "            APlayer6            AGoalie  PlayersA HTeamCode     HPlayer1  \\\n",
       "0  FREDERIK ANDERSEN  FREDERIK ANDERSEN         6       OTT   ZACK SMITH   \n",
       "1  FREDERIK ANDERSEN  FREDERIK ANDERSEN         6       OTT   ZACK SMITH   \n",
       "2  FREDERIK ANDERSEN  FREDERIK ANDERSEN         6       OTT   ZACK SMITH   \n",
       "3  FREDERIK ANDERSEN  FREDERIK ANDERSEN         6       OTT   ZACK SMITH   \n",
       "4  FREDERIK ANDERSEN  FREDERIK ANDERSEN         6       OTT  KYLE TURRIS   \n",
       "\n",
       "          HPlayer2    HPlayer3      HPlayer4   HPlayer5        HPlayer6  \\\n",
       "0  DERICK BRASSARD  BOBBY RYAN  DION PHANEUF  CODY CECI  CRAIG ANDERSON   \n",
       "1  DERICK BRASSARD  BOBBY RYAN  DION PHANEUF  CODY CECI  CRAIG ANDERSON   \n",
       "2  DERICK BRASSARD  BOBBY RYAN  DION PHANEUF  CODY CECI  CRAIG ANDERSON   \n",
       "3  DERICK BRASSARD  BOBBY RYAN  DION PHANEUF  CODY CECI  CRAIG ANDERSON   \n",
       "4     MIKE HOFFMAN  MARK STONE   MARC METHOT  CODY CECI  CRAIG ANDERSON   \n",
       "\n",
       "          HGoalie  PlayersH  \n",
       "0  CRAIG ANDERSON         6  \n",
       "1  CRAIG ANDERSON         6  \n",
       "2  CRAIG ANDERSON         6  \n",
       "3  CRAIG ANDERSON         6  \n",
       "4  CRAIG ANDERSON         6  "
      ]
     },
     "execution_count": 124,
     "metadata": {},
     "output_type": "execute_result"
    }
   ],
   "source": [
    "da.head()"
   ]
  },
  {
   "cell_type": "markdown",
   "metadata": {},
   "source": [
    "- keep only regular season games and exclude irrelevant on-ice events"
   ]
  },
  {
   "cell_type": "code",
   "execution_count": 9,
   "metadata": {
    "collapsed": false
   },
   "outputs": [],
   "source": [
    "da = da[da['GameNumber'] <= 21230]\n",
    "da = da[da['Period'] <= 4]\n",
    "da = da[da['Period'] >= 1]\n",
    "da = da[da['Event']!='STOP']\n",
    "da = da[da['Event']!='EISTR']\n",
    "da = da[da['Event']!='EIEND']\n",
    "da = da[da['Event']!='PSTR']\n",
    "da = da[da['Event']!='PEND']\n",
    "da = da[da['Event']!='SOC']\n",
    "da = da[da['Event']!='GEND']"
   ]
  },
  {
   "cell_type": "markdown",
   "metadata": {},
   "source": [
    "- create an event number variable that will count the number of events per game. \n",
    "- create an advantage type variable for even strength, power play and short handed situations."
   ]
  },
  {
   "cell_type": "code",
   "execution_count": 10,
   "metadata": {
    "collapsed": true
   },
   "outputs": [],
   "source": [
    "da['EventNumber'] = da.groupby(['Season', 'GameNumber']).cumcount()+1"
   ]
  },
  {
   "cell_type": "code",
   "execution_count": 11,
   "metadata": {
    "collapsed": true
   },
   "outputs": [],
   "source": [
    "da['AdvantageType'] = da.apply(lambda x: 'EV' if ((x['PlayersA'] == x['PlayersH']) & (x['PlayersA'] != 1) & (x['PlayersH'] != 1)) else 'PP' if ((x['PlayersA'] > x['PlayersH']) & (x['EventTeamCode'] == x['ATeamCode'])) else 'PP' if ((x['PlayersA'] < x['PlayersH']) & (x['EventTeamCode'] == x['HTeamCode'])) else 'SH' if ((x['PlayersA'] < x['PlayersH']) & (x['EventTeamCode'] == x['ATeamCode'])) else 'SH' if ((x['PlayersA'] > x['PlayersH']) & (x['EventTeamCode'] == x['HTeamCode'])) else 'PP' if ((x['PlayersA'] == 1 ) & (x['PlayersH'] == 1)) else np.nan, axis=1) "
   ]
  },
  {
   "cell_type": "code",
   "execution_count": 12,
   "metadata": {
    "collapsed": false
   },
   "outputs": [
    {
     "data": {
      "text/plain": [
       "EV    266764\n",
       "PP     32659\n",
       "SH     14169\n",
       "Name: AdvantageType, dtype: int64"
      ]
     },
     "execution_count": 12,
     "metadata": {},
     "output_type": "execute_result"
    }
   ],
   "source": [
    "da['AdvantageType'].value_counts()"
   ]
  },
  {
   "cell_type": "markdown",
   "metadata": {},
   "source": [
    "- reshape data from wide to long for away team players and home team players"
   ]
  },
  {
   "cell_type": "code",
   "execution_count": 13,
   "metadata": {
    "collapsed": false
   },
   "outputs": [
    {
     "data": {
      "text/html": [
       "<div>\n",
       "<table border=\"1\" class=\"dataframe\">\n",
       "  <thead>\n",
       "    <tr style=\"text-align: right;\">\n",
       "      <th></th>\n",
       "      <th>AGoalie</th>\n",
       "      <th>ATeamCode</th>\n",
       "      <th>AdvantageType</th>\n",
       "      <th>Date</th>\n",
       "      <th>Event</th>\n",
       "      <th>EventDetail</th>\n",
       "      <th>EventNumber</th>\n",
       "      <th>EventPlayer1</th>\n",
       "      <th>EventPlayer2</th>\n",
       "      <th>EventPlayer3</th>\n",
       "      <th>EventTeamCode</th>\n",
       "      <th>GameNumber</th>\n",
       "      <th>HGoalie</th>\n",
       "      <th>HTeamCode</th>\n",
       "      <th>Period</th>\n",
       "      <th>PlayersA</th>\n",
       "      <th>PlayersH</th>\n",
       "      <th>Season</th>\n",
       "      <th>Strength</th>\n",
       "      <th>Time</th>\n",
       "      <th>APlayer</th>\n",
       "      <th>HPlayer</th>\n",
       "    </tr>\n",
       "  </thead>\n",
       "  <tbody>\n",
       "    <tr>\n",
       "      <th>0</th>\n",
       "      <td>FREDERIK ANDERSEN</td>\n",
       "      <td>TOR</td>\n",
       "      <td>EV</td>\n",
       "      <td>2016-10-12</td>\n",
       "      <td>FAC</td>\n",
       "      <td>TOR won Neu. Zone - TOR #43 KADRI vs OTT #19 B...</td>\n",
       "      <td>1</td>\n",
       "      <td>NAZEM KADRI</td>\n",
       "      <td>DERICK BRASSARD</td>\n",
       "      <td>NaN</td>\n",
       "      <td>TOR</td>\n",
       "      <td>20001</td>\n",
       "      <td>CRAIG ANDERSON</td>\n",
       "      <td>OTT</td>\n",
       "      <td>1</td>\n",
       "      <td>6</td>\n",
       "      <td>6</td>\n",
       "      <td>2016</td>\n",
       "      <td>5x5</td>\n",
       "      <td>0:00</td>\n",
       "      <td>NAZEM KADRI</td>\n",
       "      <td>ZACK SMITH</td>\n",
       "    </tr>\n",
       "    <tr>\n",
       "      <th>1</th>\n",
       "      <td>FREDERIK ANDERSEN</td>\n",
       "      <td>TOR</td>\n",
       "      <td>EV</td>\n",
       "      <td>2016-10-12</td>\n",
       "      <td>FAC</td>\n",
       "      <td>TOR won Def. Zone - TOR #43 KADRI vs OTT #19 B...</td>\n",
       "      <td>2</td>\n",
       "      <td>NAZEM KADRI</td>\n",
       "      <td>DERICK BRASSARD</td>\n",
       "      <td>NaN</td>\n",
       "      <td>TOR</td>\n",
       "      <td>20001</td>\n",
       "      <td>CRAIG ANDERSON</td>\n",
       "      <td>OTT</td>\n",
       "      <td>1</td>\n",
       "      <td>6</td>\n",
       "      <td>6</td>\n",
       "      <td>2016</td>\n",
       "      <td>5x5</td>\n",
       "      <td>0:05</td>\n",
       "      <td>NAZEM KADRI</td>\n",
       "      <td>ZACK SMITH</td>\n",
       "    </tr>\n",
       "    <tr>\n",
       "      <th>2</th>\n",
       "      <td>FREDERIK ANDERSEN</td>\n",
       "      <td>TOR</td>\n",
       "      <td>EV</td>\n",
       "      <td>2016-10-12</td>\n",
       "      <td>TAKE</td>\n",
       "      <td>TOR TAKEAWAY - #16 MARNER, Off. Zone</td>\n",
       "      <td>3</td>\n",
       "      <td>MITCHELL MARNER</td>\n",
       "      <td>NaN</td>\n",
       "      <td>NaN</td>\n",
       "      <td>TOR</td>\n",
       "      <td>20001</td>\n",
       "      <td>CRAIG ANDERSON</td>\n",
       "      <td>OTT</td>\n",
       "      <td>1</td>\n",
       "      <td>6</td>\n",
       "      <td>6</td>\n",
       "      <td>2016</td>\n",
       "      <td>5x5</td>\n",
       "      <td>0:43</td>\n",
       "      <td>MITCHELL MARNER</td>\n",
       "      <td>KYLE TURRIS</td>\n",
       "    </tr>\n",
       "    <tr>\n",
       "      <th>3</th>\n",
       "      <td>FREDERIK ANDERSEN</td>\n",
       "      <td>TOR</td>\n",
       "      <td>EV</td>\n",
       "      <td>2016-10-12</td>\n",
       "      <td>BLOCK</td>\n",
       "      <td>TOR #52 MARINCIN BLOCKED BY  OTT #44 PAGEAU, W...</td>\n",
       "      <td>4</td>\n",
       "      <td>JEAN-GABRIEL PAGEAU</td>\n",
       "      <td>MARTIN MARINCIN</td>\n",
       "      <td>NaN</td>\n",
       "      <td>TOR</td>\n",
       "      <td>20001</td>\n",
       "      <td>CRAIG ANDERSON</td>\n",
       "      <td>OTT</td>\n",
       "      <td>1</td>\n",
       "      <td>6</td>\n",
       "      <td>6</td>\n",
       "      <td>2016</td>\n",
       "      <td>5x5</td>\n",
       "      <td>10:05</td>\n",
       "      <td>PETER HOLLAND</td>\n",
       "      <td>TOM PYATT</td>\n",
       "    </tr>\n",
       "    <tr>\n",
       "      <th>4</th>\n",
       "      <td>FREDERIK ANDERSEN</td>\n",
       "      <td>TOR</td>\n",
       "      <td>EV</td>\n",
       "      <td>2016-10-12</td>\n",
       "      <td>FAC</td>\n",
       "      <td>OTT won Off. Zone - TOR #24 HOLLAND vs OTT #15...</td>\n",
       "      <td>5</td>\n",
       "      <td>ZACK SMITH</td>\n",
       "      <td>PETER HOLLAND</td>\n",
       "      <td>NaN</td>\n",
       "      <td>OTT</td>\n",
       "      <td>20001</td>\n",
       "      <td>CRAIG ANDERSON</td>\n",
       "      <td>OTT</td>\n",
       "      <td>1</td>\n",
       "      <td>6</td>\n",
       "      <td>6</td>\n",
       "      <td>2016</td>\n",
       "      <td>5x5</td>\n",
       "      <td>10:11</td>\n",
       "      <td>PETER HOLLAND</td>\n",
       "      <td>ZACK SMITH</td>\n",
       "    </tr>\n",
       "  </tbody>\n",
       "</table>\n",
       "</div>"
      ],
      "text/plain": [
       "             AGoalie ATeamCode AdvantageType        Date  Event  \\\n",
       "0  FREDERIK ANDERSEN       TOR            EV  2016-10-12    FAC   \n",
       "1  FREDERIK ANDERSEN       TOR            EV  2016-10-12    FAC   \n",
       "2  FREDERIK ANDERSEN       TOR            EV  2016-10-12   TAKE   \n",
       "3  FREDERIK ANDERSEN       TOR            EV  2016-10-12  BLOCK   \n",
       "4  FREDERIK ANDERSEN       TOR            EV  2016-10-12    FAC   \n",
       "\n",
       "                                         EventDetail  EventNumber  \\\n",
       "0  TOR won Neu. Zone - TOR #43 KADRI vs OTT #19 B...            1   \n",
       "1  TOR won Def. Zone - TOR #43 KADRI vs OTT #19 B...            2   \n",
       "2               TOR TAKEAWAY - #16 MARNER, Off. Zone            3   \n",
       "3  TOR #52 MARINCIN BLOCKED BY  OTT #44 PAGEAU, W...            4   \n",
       "4  OTT won Off. Zone - TOR #24 HOLLAND vs OTT #15...            5   \n",
       "\n",
       "          EventPlayer1     EventPlayer2 EventPlayer3 EventTeamCode  \\\n",
       "0          NAZEM KADRI  DERICK BRASSARD          NaN           TOR   \n",
       "1          NAZEM KADRI  DERICK BRASSARD          NaN           TOR   \n",
       "2      MITCHELL MARNER              NaN          NaN           TOR   \n",
       "3  JEAN-GABRIEL PAGEAU  MARTIN MARINCIN          NaN           TOR   \n",
       "4           ZACK SMITH    PETER HOLLAND          NaN           OTT   \n",
       "\n",
       "   GameNumber         HGoalie HTeamCode  Period  PlayersA  PlayersH  Season  \\\n",
       "0       20001  CRAIG ANDERSON       OTT       1         6         6    2016   \n",
       "1       20001  CRAIG ANDERSON       OTT       1         6         6    2016   \n",
       "2       20001  CRAIG ANDERSON       OTT       1         6         6    2016   \n",
       "3       20001  CRAIG ANDERSON       OTT       1         6         6    2016   \n",
       "4       20001  CRAIG ANDERSON       OTT       1         6         6    2016   \n",
       "\n",
       "  Strength   Time          APlayer      HPlayer  \n",
       "0      5x5   0:00      NAZEM KADRI   ZACK SMITH  \n",
       "1      5x5   0:05      NAZEM KADRI   ZACK SMITH  \n",
       "2      5x5   0:43  MITCHELL MARNER  KYLE TURRIS  \n",
       "3      5x5  10:05    PETER HOLLAND    TOM PYATT  \n",
       "4      5x5  10:11    PETER HOLLAND   ZACK SMITH  "
      ]
     },
     "execution_count": 13,
     "metadata": {},
     "output_type": "execute_result"
    }
   ],
   "source": [
    "db = da.copy()\n",
    "a = [col for col in db.columns if 'APlayer' in col]\n",
    "b = [col for col in db.columns if 'HPlayer' in col]\n",
    "db = pd.lreshape(db, {'APlayer' : a, 'HPlayer' : b })\n",
    "db.head()"
   ]
  },
  {
   "cell_type": "code",
   "execution_count": 14,
   "metadata": {
    "collapsed": false
   },
   "outputs": [],
   "source": [
    "db = db[['Season', 'GameNumber', 'Date', 'Period', 'Time', 'AdvantageType', 'Strength', 'EventNumber', 'Event', 'EventDetail', 'EventTeamCode', 'EventPlayer1', 'EventPlayer2', 'EventPlayer3', 'ATeamCode', 'APlayer', 'AGoalie', 'PlayersA', 'HTeamCode', 'HPlayer', 'HGoalie', 'PlayersH']]\n",
    "db = db.sort_values(['Season', 'GameNumber', 'Period', 'Time'], ascending=[True, True, True, True])"
   ]
  },
  {
   "cell_type": "markdown",
   "metadata": {},
   "source": [
    "- reshape data from wide to long for away and home team code and player respectfully."
   ]
  },
  {
   "cell_type": "code",
   "execution_count": 15,
   "metadata": {
    "collapsed": false
   },
   "outputs": [],
   "source": [
    "dc = db.copy()\n",
    "dc = dc.rename(columns={'EventTeamCode': 'EventTeam', 'EventPlayer1': 'EventP1', 'EventPlayer2': 'EventP2', 'EventPlayer3': 'EventP3', 'PlayersA':'PA', 'PlayersH': 'PH'})"
   ]
  },
  {
   "cell_type": "code",
   "execution_count": 16,
   "metadata": {
    "collapsed": true
   },
   "outputs": [],
   "source": [
    "a = [col for col in dc.columns if 'Code' in col]\n",
    "b = [col for col in dc.columns if 'Player' in col]\n",
    "c = [col for col in dc.columns if 'Goalie' in col]\n",
    "d = [col for col in dc.columns if 'Position' in col]\n",
    "dc = pd.lreshape(dc, {'TeamCode' : a, 'PlayerName' : b, 'Goalie': c})"
   ]
  },
  {
   "cell_type": "code",
   "execution_count": 17,
   "metadata": {
    "collapsed": false
   },
   "outputs": [],
   "source": [
    "dc = dc.rename(columns={'EventTeam': 'EventTeamCode', 'EventP1': 'EventPlayer1', 'EventP2': 'EventPlayer2', 'EventP3': 'EventPlayer3', 'PA':'PlayersA', 'PH': 'PlayersH'})"
   ]
  },
  {
   "cell_type": "code",
   "execution_count": 18,
   "metadata": {
    "collapsed": false
   },
   "outputs": [
    {
     "data": {
      "text/plain": [
       "(3607019, 19)"
      ]
     },
     "execution_count": 18,
     "metadata": {},
     "output_type": "execute_result"
    }
   ],
   "source": [
    "dc.shape"
   ]
  },
  {
   "cell_type": "markdown",
   "metadata": {},
   "source": [
    "### games played"
   ]
  },
  {
   "cell_type": "markdown",
   "metadata": {},
   "source": [
    "- calculate the games each player participated in for the duration of the 2011 regular season."
   ]
  },
  {
   "cell_type": "code",
   "execution_count": 19,
   "metadata": {
    "collapsed": true
   },
   "outputs": [],
   "source": [
    "s = dc.copy()\n",
    "s = s[['Season', 'GameNumber', 'TeamCode', 'PlayerName']]\n",
    "s = s.sort_values(['Season', 'GameNumber', 'TeamCode'], ascending=[True, True, True])\n",
    "s = s.drop_duplicates(['Season', 'GameNumber', 'TeamCode', 'PlayerName'])"
   ]
  },
  {
   "cell_type": "code",
   "execution_count": 20,
   "metadata": {
    "collapsed": false
   },
   "outputs": [
    {
     "data": {
      "text/html": [
       "<div>\n",
       "<table border=\"1\" class=\"dataframe\">\n",
       "  <thead>\n",
       "    <tr style=\"text-align: right;\">\n",
       "      <th></th>\n",
       "      <th>Season</th>\n",
       "      <th>TeamCode</th>\n",
       "      <th>PlayerName</th>\n",
       "      <th>GP</th>\n",
       "    </tr>\n",
       "  </thead>\n",
       "  <tbody>\n",
       "    <tr>\n",
       "      <th>1803381</th>\n",
       "      <td>2016</td>\n",
       "      <td>OTT</td>\n",
       "      <td>ZACK SMITH</td>\n",
       "      <td>74</td>\n",
       "    </tr>\n",
       "    <tr>\n",
       "      <th>1803382</th>\n",
       "      <td>2016</td>\n",
       "      <td>OTT</td>\n",
       "      <td>DERICK BRASSARD</td>\n",
       "      <td>81</td>\n",
       "    </tr>\n",
       "    <tr>\n",
       "      <th>1803383</th>\n",
       "      <td>2016</td>\n",
       "      <td>OTT</td>\n",
       "      <td>BOBBY RYAN</td>\n",
       "      <td>62</td>\n",
       "    </tr>\n",
       "    <tr>\n",
       "      <th>1803384</th>\n",
       "      <td>2016</td>\n",
       "      <td>OTT</td>\n",
       "      <td>DION PHANEUF</td>\n",
       "      <td>81</td>\n",
       "    </tr>\n",
       "    <tr>\n",
       "      <th>1803385</th>\n",
       "      <td>2016</td>\n",
       "      <td>OTT</td>\n",
       "      <td>CODY CECI</td>\n",
       "      <td>79</td>\n",
       "    </tr>\n",
       "  </tbody>\n",
       "</table>\n",
       "</div>"
      ],
      "text/plain": [
       "         Season TeamCode       PlayerName  GP\n",
       "1803381    2016      OTT       ZACK SMITH  74\n",
       "1803382    2016      OTT  DERICK BRASSARD  81\n",
       "1803383    2016      OTT       BOBBY RYAN  62\n",
       "1803384    2016      OTT     DION PHANEUF  81\n",
       "1803385    2016      OTT        CODY CECI  79"
      ]
     },
     "execution_count": 20,
     "metadata": {},
     "output_type": "execute_result"
    }
   ],
   "source": [
    "s['GP'] = s.groupby(['Season', 'TeamCode','PlayerName'])['GameNumber'].transform('count')\n",
    "s = s.drop_duplicates(['Season', 'TeamCode', 'PlayerName'])\n",
    "s = s[['Season', 'TeamCode', 'PlayerName', 'GP']]\n",
    "s.head()"
   ]
  },
  {
   "cell_type": "code",
   "execution_count": 21,
   "metadata": {
    "collapsed": false
   },
   "outputs": [
    {
     "data": {
      "text/plain": [
       "Season        0\n",
       "TeamCode      0\n",
       "PlayerName    0\n",
       "GP            0\n",
       "dtype: int64"
      ]
     },
     "execution_count": 21,
     "metadata": {},
     "output_type": "execute_result"
    }
   ],
   "source": [
    "s.isnull().sum()"
   ]
  },
  {
   "cell_type": "code",
   "execution_count": 22,
   "metadata": {
    "collapsed": false
   },
   "outputs": [
    {
     "data": {
      "text/plain": [
       "(1050, 4)"
      ]
     },
     "execution_count": 22,
     "metadata": {},
     "output_type": "execute_result"
    }
   ],
   "source": [
    "s.shape"
   ]
  },
  {
   "cell_type": "markdown",
   "metadata": {},
   "source": [
    "### shots for and against"
   ]
  },
  {
   "cell_type": "markdown",
   "metadata": {},
   "source": [
    "- calculate the shots against each player faced througout the duration of a season. \n",
    "- create shot for and shot against variables. If event team code is indiferrent to team code assign a value of 1. If not, assign a value of 0. \n",
    "- **goals are a result of a shot and therefore need to be added to a player's shot total**. Display total shots per player for a season."
   ]
  },
  {
   "cell_type": "code",
   "execution_count": 23,
   "metadata": {
    "collapsed": false
   },
   "outputs": [],
   "source": [
    "sa = dc.copy()\n",
    "sa = sa[sa['Event'].isin(['SHOT','GOAL'])]"
   ]
  },
  {
   "cell_type": "code",
   "execution_count": 24,
   "metadata": {
    "collapsed": false
   },
   "outputs": [],
   "source": [
    "sa['ShotF'] = sa.apply(lambda x: 1 if x['EventTeamCode'] == x['TeamCode'] else 0, axis=1)\n",
    "sa['ShotsF'] = sa.groupby(['Season', 'TeamCode', 'PlayerName'])['ShotF'].transform('sum')\n",
    "\n",
    "sa['ShotA'] = sa.apply(lambda x: 1 if x['EventTeamCode'] != x['TeamCode'] else 0, axis=1)\n",
    "sa['ShotsA'] = sa.groupby(['Season', 'TeamCode', 'PlayerName'])['ShotA'].transform('sum')"
   ]
  },
  {
   "cell_type": "markdown",
   "metadata": {},
   "source": [
    "- create shot for and shot against variables for even strength situations only. If event team code is indiferrent to team code assign a value of 1. If not, assign a value of 0. \n",
    "- **goals are a result of a shot and therefore need to be added to a player's shot total**. Display total shots per player for a season."
   ]
  },
  {
   "cell_type": "code",
   "execution_count": 25,
   "metadata": {
    "collapsed": false
   },
   "outputs": [],
   "source": [
    "sa['EVShotF'] = sa.apply(lambda x: 1 if ((x['AdvantageType'] == 'EV') & (x['EventTeamCode'] == x['TeamCode'])) else 1 if ((x['AdvantageType'] == 'SH') & (x['EventTeamCode'] == x['TeamCode'])) else 0, axis=1)\n",
    "sa['EVShotsF'] = sa.groupby(['Season', 'TeamCode', 'PlayerName'])['EVShotF'].transform('sum')\n",
    "\n",
    "sa['EVShotA'] = sa.apply(lambda x: 1 if ((x['AdvantageType'] == 'EV') & (x['EventTeamCode'] != x['TeamCode'])) else 1 if ((x['AdvantageType'] == 'SH') & (x['EventTeamCode'] != x['TeamCode'])) else 0, axis=1)\n",
    "sa['EVShotsA'] = sa.groupby(['Season', 'TeamCode', 'PlayerName'])['EVShotA'].transform('sum')"
   ]
  },
  {
   "cell_type": "markdown",
   "metadata": {},
   "source": [
    "- calculate the shot differential for all shots and even strength shots."
   ]
  },
  {
   "cell_type": "code",
   "execution_count": 26,
   "metadata": {
    "collapsed": true
   },
   "outputs": [],
   "source": [
    "sa['DShots'] = sa['ShotsF'] - sa['ShotsA']\n",
    "sa['EVDShots'] = sa['EVShotsF'] - sa['EVShotsA']"
   ]
  },
  {
   "cell_type": "code",
   "execution_count": 27,
   "metadata": {
    "collapsed": false
   },
   "outputs": [
    {
     "data": {
      "text/html": [
       "<div>\n",
       "<table border=\"1\" class=\"dataframe\">\n",
       "  <thead>\n",
       "    <tr style=\"text-align: right;\">\n",
       "      <th></th>\n",
       "      <th>Season</th>\n",
       "      <th>TeamCode</th>\n",
       "      <th>PlayerName</th>\n",
       "      <th>ShotsF</th>\n",
       "      <th>ShotsA</th>\n",
       "      <th>DShots</th>\n",
       "      <th>EVShotsF</th>\n",
       "      <th>EVShotsA</th>\n",
       "      <th>EVDShots</th>\n",
       "    </tr>\n",
       "  </thead>\n",
       "  <tbody>\n",
       "    <tr>\n",
       "      <th>30</th>\n",
       "      <td>2016</td>\n",
       "      <td>TOR</td>\n",
       "      <td>PETER HOLLAND</td>\n",
       "      <td>39</td>\n",
       "      <td>50</td>\n",
       "      <td>-11</td>\n",
       "      <td>38</td>\n",
       "      <td>43</td>\n",
       "      <td>-5</td>\n",
       "    </tr>\n",
       "    <tr>\n",
       "      <th>31</th>\n",
       "      <td>2016</td>\n",
       "      <td>TOR</td>\n",
       "      <td>CONNOR BROWN</td>\n",
       "      <td>627</td>\n",
       "      <td>717</td>\n",
       "      <td>-90</td>\n",
       "      <td>549</td>\n",
       "      <td>570</td>\n",
       "      <td>-21</td>\n",
       "    </tr>\n",
       "    <tr>\n",
       "      <th>32</th>\n",
       "      <td>2016</td>\n",
       "      <td>TOR</td>\n",
       "      <td>MATT MARTIN</td>\n",
       "      <td>306</td>\n",
       "      <td>353</td>\n",
       "      <td>-47</td>\n",
       "      <td>305</td>\n",
       "      <td>332</td>\n",
       "      <td>-27</td>\n",
       "    </tr>\n",
       "    <tr>\n",
       "      <th>33</th>\n",
       "      <td>2016</td>\n",
       "      <td>TOR</td>\n",
       "      <td>JAKE GARDINER</td>\n",
       "      <td>1002</td>\n",
       "      <td>832</td>\n",
       "      <td>170</td>\n",
       "      <td>821</td>\n",
       "      <td>810</td>\n",
       "      <td>11</td>\n",
       "    </tr>\n",
       "    <tr>\n",
       "      <th>34</th>\n",
       "      <td>2016</td>\n",
       "      <td>TOR</td>\n",
       "      <td>MARTIN MARINCIN</td>\n",
       "      <td>198</td>\n",
       "      <td>276</td>\n",
       "      <td>-78</td>\n",
       "      <td>198</td>\n",
       "      <td>213</td>\n",
       "      <td>-15</td>\n",
       "    </tr>\n",
       "  </tbody>\n",
       "</table>\n",
       "</div>"
      ],
      "text/plain": [
       "    Season TeamCode       PlayerName  ShotsF  ShotsA  DShots  EVShotsF  \\\n",
       "30    2016      TOR    PETER HOLLAND      39      50     -11        38   \n",
       "31    2016      TOR     CONNOR BROWN     627     717     -90       549   \n",
       "32    2016      TOR      MATT MARTIN     306     353     -47       305   \n",
       "33    2016      TOR    JAKE GARDINER    1002     832     170       821   \n",
       "34    2016      TOR  MARTIN MARINCIN     198     276     -78       198   \n",
       "\n",
       "    EVShotsA  EVDShots  \n",
       "30        43        -5  \n",
       "31       570       -21  \n",
       "32       332       -27  \n",
       "33       810        11  \n",
       "34       213       -15  "
      ]
     },
     "execution_count": 27,
     "metadata": {},
     "output_type": "execute_result"
    }
   ],
   "source": [
    "sa = sa [['Season', 'TeamCode', 'PlayerName', 'ShotsF', 'ShotsA', 'DShots', 'EVShotsF', 'EVShotsA', 'EVDShots' ]]\n",
    "sa = sa.drop_duplicates(['Season', 'TeamCode', 'PlayerName'])\n",
    "sa.head()"
   ]
  },
  {
   "cell_type": "code",
   "execution_count": 28,
   "metadata": {
    "collapsed": false
   },
   "outputs": [
    {
     "data": {
      "text/plain": [
       "Season        0\n",
       "TeamCode      0\n",
       "PlayerName    0\n",
       "ShotsF        0\n",
       "ShotsA        0\n",
       "DShots        0\n",
       "EVShotsF      0\n",
       "EVShotsA      0\n",
       "EVDShots      0\n",
       "dtype: int64"
      ]
     },
     "execution_count": 28,
     "metadata": {},
     "output_type": "execute_result"
    }
   ],
   "source": [
    "sa.isnull().sum()"
   ]
  },
  {
   "cell_type": "code",
   "execution_count": 29,
   "metadata": {
    "collapsed": false
   },
   "outputs": [
    {
     "data": {
      "text/plain": [
       "(1049, 9)"
      ]
     },
     "execution_count": 29,
     "metadata": {},
     "output_type": "execute_result"
    }
   ],
   "source": [
    "sa.shape"
   ]
  },
  {
   "cell_type": "markdown",
   "metadata": {},
   "source": [
    "### goals for and against"
   ]
  },
  {
   "cell_type": "markdown",
   "metadata": {},
   "source": [
    "- create goals for and goals against variable. If event team code is the same as team code assign a value of 1 for goals for and a value of 0 for goals against. If event team code is different to team code, assign a value of 0 for golas for and a value of 1 for goals against. Display total goals for and against per player for a season."
   ]
  },
  {
   "cell_type": "code",
   "execution_count": 30,
   "metadata": {
    "collapsed": true
   },
   "outputs": [],
   "source": [
    "gfa = dc.copy()\n",
    "gfa = gfa[gfa['Event'] == 'GOAL']"
   ]
  },
  {
   "cell_type": "code",
   "execution_count": 31,
   "metadata": {
    "collapsed": true
   },
   "outputs": [],
   "source": [
    "gfa['EVGoalF'] = gfa.apply(lambda x: 1 if ((x['AdvantageType'] == 'EV') & (x['EventTeamCode'] == x['TeamCode'])) else 1 if ((x['AdvantageType'] == 'SH') & (x['EventTeamCode'] == x['TeamCode'])) else 0, axis=1)\n",
    "gfa['EVGoalA'] = gfa.apply(lambda x: 1 if ((x['AdvantageType'] == 'EV') & (x['EventTeamCode'] != x['TeamCode'])) else 1 if ((x['AdvantageType'] == 'SH') & (x['EventTeamCode'] != x['TeamCode'])) else 0, axis=1)"
   ]
  },
  {
   "cell_type": "code",
   "execution_count": 32,
   "metadata": {
    "collapsed": true
   },
   "outputs": [],
   "source": [
    "gfa['GoalF'] = gfa.apply(lambda x: 1 if (x['EventTeamCode'] == x['TeamCode']) else 0, axis=1)\n",
    "gfa['GoalA'] = gfa.apply(lambda x: 1 if (x['EventTeamCode'] != x['TeamCode']) else 0, axis=1)"
   ]
  },
  {
   "cell_type": "code",
   "execution_count": 33,
   "metadata": {
    "collapsed": true
   },
   "outputs": [],
   "source": [
    "gfa['EVGoalsF'] = gfa.groupby(['Season', 'TeamCode', 'PlayerName'])['EVGoalF'].transform('sum')\n",
    "gfa['EVGoalsA'] = gfa.groupby(['Season', 'TeamCode', 'PlayerName'])['EVGoalA'].transform('sum')\n",
    "gfa['GoalsF'] = gfa.groupby(['Season', 'TeamCode', 'PlayerName'])['GoalF'].transform('sum')\n",
    "gfa['GoalsA'] = gfa.groupby(['Season', 'TeamCode', 'PlayerName'])['GoalA'].transform('sum')"
   ]
  },
  {
   "cell_type": "code",
   "execution_count": 34,
   "metadata": {
    "collapsed": false
   },
   "outputs": [
    {
     "data": {
      "text/html": [
       "<div>\n",
       "<table border=\"1\" class=\"dataframe\">\n",
       "  <thead>\n",
       "    <tr style=\"text-align: right;\">\n",
       "      <th></th>\n",
       "      <th>Season</th>\n",
       "      <th>TeamCode</th>\n",
       "      <th>PlayerName</th>\n",
       "      <th>GoalsF</th>\n",
       "      <th>GoalsA</th>\n",
       "      <th>EVGoalsF</th>\n",
       "      <th>EVGoalsA</th>\n",
       "      <th>Plus/Minus</th>\n",
       "    </tr>\n",
       "  </thead>\n",
       "  <tbody>\n",
       "    <tr>\n",
       "      <th>42</th>\n",
       "      <td>2016</td>\n",
       "      <td>TOR</td>\n",
       "      <td>PETER HOLLAND</td>\n",
       "      <td>1</td>\n",
       "      <td>4</td>\n",
       "      <td>1</td>\n",
       "      <td>3</td>\n",
       "      <td>-2</td>\n",
       "    </tr>\n",
       "    <tr>\n",
       "      <th>44</th>\n",
       "      <td>2016</td>\n",
       "      <td>TOR</td>\n",
       "      <td>CONNOR BROWN</td>\n",
       "      <td>66</td>\n",
       "      <td>58</td>\n",
       "      <td>52</td>\n",
       "      <td>45</td>\n",
       "      <td>7</td>\n",
       "    </tr>\n",
       "    <tr>\n",
       "      <th>46</th>\n",
       "      <td>2016</td>\n",
       "      <td>TOR</td>\n",
       "      <td>MATT MARTIN</td>\n",
       "      <td>20</td>\n",
       "      <td>22</td>\n",
       "      <td>20</td>\n",
       "      <td>20</td>\n",
       "      <td>0</td>\n",
       "    </tr>\n",
       "    <tr>\n",
       "      <th>48</th>\n",
       "      <td>2016</td>\n",
       "      <td>TOR</td>\n",
       "      <td>JAKE GARDINER</td>\n",
       "      <td>106</td>\n",
       "      <td>55</td>\n",
       "      <td>80</td>\n",
       "      <td>53</td>\n",
       "      <td>27</td>\n",
       "    </tr>\n",
       "    <tr>\n",
       "      <th>50</th>\n",
       "      <td>2016</td>\n",
       "      <td>TOR</td>\n",
       "      <td>MARTIN MARINCIN</td>\n",
       "      <td>21</td>\n",
       "      <td>22</td>\n",
       "      <td>21</td>\n",
       "      <td>18</td>\n",
       "      <td>3</td>\n",
       "    </tr>\n",
       "  </tbody>\n",
       "</table>\n",
       "</div>"
      ],
      "text/plain": [
       "    Season TeamCode       PlayerName  GoalsF  GoalsA  EVGoalsF  EVGoalsA  \\\n",
       "42    2016      TOR    PETER HOLLAND       1       4         1         3   \n",
       "44    2016      TOR     CONNOR BROWN      66      58        52        45   \n",
       "46    2016      TOR      MATT MARTIN      20      22        20        20   \n",
       "48    2016      TOR    JAKE GARDINER     106      55        80        53   \n",
       "50    2016      TOR  MARTIN MARINCIN      21      22        21        18   \n",
       "\n",
       "    Plus/Minus  \n",
       "42          -2  \n",
       "44           7  \n",
       "46           0  \n",
       "48          27  \n",
       "50           3  "
      ]
     },
     "execution_count": 34,
     "metadata": {},
     "output_type": "execute_result"
    }
   ],
   "source": [
    "gfa = gfa[['Season', 'GameNumber', 'TeamCode', 'PlayerName' , 'GoalsF', 'GoalsA', 'EVGoalsF', 'EVGoalsA']]\n",
    "gfa = gfa.drop_duplicates(['Season', 'GameNumber', 'TeamCode', 'PlayerName'])\n",
    "gfa['Plus/Minus'] = gfa['EVGoalsF'] - gfa['EVGoalsA']\n",
    "gfa = gfa.drop_duplicates(['Season', 'TeamCode', 'PlayerName'])\n",
    "gfa = gfa[['Season', 'TeamCode', 'PlayerName' , 'GoalsF', 'GoalsA', 'EVGoalsF', 'EVGoalsA', 'Plus/Minus']]\n",
    "gfa.head()"
   ]
  },
  {
   "cell_type": "code",
   "execution_count": 35,
   "metadata": {
    "collapsed": false
   },
   "outputs": [
    {
     "data": {
      "text/plain": [
       "(1018, 8)"
      ]
     },
     "execution_count": 35,
     "metadata": {},
     "output_type": "execute_result"
    }
   ],
   "source": [
    "gfa.shape"
   ]
  },
  {
   "cell_type": "markdown",
   "metadata": {},
   "source": [
    "### create dataframes for all on-ice event types"
   ]
  },
  {
   "cell_type": "markdown",
   "metadata": {},
   "source": [
    "#### goals dataframe (dg)"
   ]
  },
  {
   "cell_type": "code",
   "execution_count": 36,
   "metadata": {
    "collapsed": true
   },
   "outputs": [],
   "source": [
    "dg = dc.copy()\n",
    "dg = dg[dg['Event'] == 'GOAL']"
   ]
  },
  {
   "cell_type": "code",
   "execution_count": 37,
   "metadata": {
    "collapsed": false
   },
   "outputs": [],
   "source": [
    "dg = dg[['Season', 'GameNumber', 'EventNumber', 'Event', 'EventTeamCode', 'EventPlayer1']]\n",
    "dg = dg.rename(columns={'EventPlayer1': 'PlayerName', 'EventTeamCode':'TeamCode'})"
   ]
  },
  {
   "cell_type": "markdown",
   "metadata": {},
   "source": [
    "- create a goal variable. If event type is a goal assign a value of 1. If not, assign a value of 0. Display total goals per player for a season."
   ]
  },
  {
   "cell_type": "code",
   "execution_count": 38,
   "metadata": {
    "collapsed": false
   },
   "outputs": [],
   "source": [
    "dg['Goal'] = dg.apply(lambda x: 1 if (x['Event'] == 'GOAL') else 0, axis=1)\n",
    "dg = dg.drop_duplicates(['Season', 'GameNumber', 'EventNumber', 'TeamCode', 'PlayerName'])\n",
    "dg['Goals'] = dg.groupby(['Season','TeamCode', 'PlayerName'])['Goal'].transform('sum')"
   ]
  },
  {
   "cell_type": "markdown",
   "metadata": {},
   "source": [
    "- keep one observation per player by game and drop duplicates. This purpose of this step is to calculate the quantity of games per player for a season. "
   ]
  },
  {
   "cell_type": "code",
   "execution_count": 39,
   "metadata": {
    "collapsed": false
   },
   "outputs": [
    {
     "data": {
      "text/html": [
       "<div>\n",
       "<table border=\"1\" class=\"dataframe\">\n",
       "  <thead>\n",
       "    <tr style=\"text-align: right;\">\n",
       "      <th></th>\n",
       "      <th>Season</th>\n",
       "      <th>TeamCode</th>\n",
       "      <th>PlayerName</th>\n",
       "      <th>Goals</th>\n",
       "    </tr>\n",
       "  </thead>\n",
       "  <tbody>\n",
       "    <tr>\n",
       "      <th>42</th>\n",
       "      <td>2016</td>\n",
       "      <td>OTT</td>\n",
       "      <td>BOBBY RYAN</td>\n",
       "      <td>13</td>\n",
       "    </tr>\n",
       "    <tr>\n",
       "      <th>96</th>\n",
       "      <td>2016</td>\n",
       "      <td>OTT</td>\n",
       "      <td>ERIK KARLSSON</td>\n",
       "      <td>17</td>\n",
       "    </tr>\n",
       "    <tr>\n",
       "      <th>149</th>\n",
       "      <td>2016</td>\n",
       "      <td>TOR</td>\n",
       "      <td>AUSTON MATTHEWS</td>\n",
       "      <td>40</td>\n",
       "    </tr>\n",
       "    <tr>\n",
       "      <th>826</th>\n",
       "      <td>2016</td>\n",
       "      <td>OTT</td>\n",
       "      <td>DERICK BRASSARD</td>\n",
       "      <td>14</td>\n",
       "    </tr>\n",
       "    <tr>\n",
       "      <th>1556</th>\n",
       "      <td>2016</td>\n",
       "      <td>OTT</td>\n",
       "      <td>KYLE TURRIS</td>\n",
       "      <td>27</td>\n",
       "    </tr>\n",
       "  </tbody>\n",
       "</table>\n",
       "</div>"
      ],
      "text/plain": [
       "      Season TeamCode       PlayerName  Goals\n",
       "42      2016      OTT       BOBBY RYAN     13\n",
       "96      2016      OTT    ERIK KARLSSON     17\n",
       "149     2016      TOR  AUSTON MATTHEWS     40\n",
       "826     2016      OTT  DERICK BRASSARD     14\n",
       "1556    2016      OTT      KYLE TURRIS     27"
      ]
     },
     "execution_count": 39,
     "metadata": {},
     "output_type": "execute_result"
    }
   ],
   "source": [
    "dg = dg.drop_duplicates(['Season', 'GameNumber', 'TeamCode', 'PlayerName'])\n",
    "dg = dg.drop_duplicates(['Season', 'TeamCode', 'PlayerName'])\n",
    "dg = dg[['Season', 'TeamCode', 'PlayerName', 'Goals']]\n",
    "dg.head()"
   ]
  },
  {
   "cell_type": "code",
   "execution_count": 40,
   "metadata": {
    "collapsed": false
   },
   "outputs": [
    {
     "data": {
      "text/plain": [
       "Season        0\n",
       "TeamCode      0\n",
       "PlayerName    0\n",
       "Goals         0\n",
       "dtype: int64"
      ]
     },
     "execution_count": 40,
     "metadata": {},
     "output_type": "execute_result"
    }
   ],
   "source": [
    "dg.isnull().sum()"
   ]
  },
  {
   "cell_type": "code",
   "execution_count": 41,
   "metadata": {
    "collapsed": false
   },
   "outputs": [
    {
     "data": {
      "text/plain": [
       "(721, 4)"
      ]
     },
     "execution_count": 41,
     "metadata": {},
     "output_type": "execute_result"
    }
   ],
   "source": [
    "dg.shape"
   ]
  },
  {
   "cell_type": "markdown",
   "metadata": {},
   "source": [
    "#### assists dataframe (dast)"
   ]
  },
  {
   "cell_type": "code",
   "execution_count": 42,
   "metadata": {
    "collapsed": true
   },
   "outputs": [],
   "source": [
    "dast = dc.copy()\n",
    "dast = dast[dast['Event'] == 'GOAL']"
   ]
  },
  {
   "cell_type": "code",
   "execution_count": 43,
   "metadata": {
    "collapsed": false
   },
   "outputs": [],
   "source": [
    "dast = dast[['Season', 'GameNumber', 'EventNumber', 'Event', 'EventTeamCode', 'EventPlayer2', 'EventPlayer3']]\n",
    "dast = dast.rename(columns={'EventPlayer2': 'Assist1Name', 'EventPlayer3': 'Assist2Name', 'EventTeamCode':'TeamCode'})"
   ]
  },
  {
   "cell_type": "markdown",
   "metadata": {},
   "source": [
    "- reshape assist players 1 and 2 to create one column of assist players"
   ]
  },
  {
   "cell_type": "code",
   "execution_count": 44,
   "metadata": {
    "collapsed": true
   },
   "outputs": [],
   "source": [
    "a = [col for col in dast.columns if 'Name' in col]\n",
    "dast = pd.lreshape(dast, {'PlayerName' : a})"
   ]
  },
  {
   "cell_type": "markdown",
   "metadata": {},
   "source": [
    "- create an assist variable. If event type is a goal assign a value of 1. If not, assign a value of 0. Display total goals per player for a season."
   ]
  },
  {
   "cell_type": "code",
   "execution_count": 45,
   "metadata": {
    "collapsed": true
   },
   "outputs": [],
   "source": [
    "dast['Assist'] = dast.apply(lambda x: 1 if (x['Event'] == 'GOAL') else 0, axis=1)\n",
    "dast = dast.drop_duplicates(['Season', 'GameNumber', 'EventNumber', 'TeamCode', 'PlayerName'])\n",
    "dast['Assists'] = dast.groupby(['Season','TeamCode', 'PlayerName'])['Assist'].transform('sum')"
   ]
  },
  {
   "cell_type": "markdown",
   "metadata": {},
   "source": [
    "- keep one observation per player by game and drop duplicates. This purpose of this step is to calculate the quantity of games per player for a season. "
   ]
  },
  {
   "cell_type": "code",
   "execution_count": 46,
   "metadata": {
    "collapsed": false
   },
   "outputs": [
    {
     "data": {
      "text/html": [
       "<div>\n",
       "<table border=\"1\" class=\"dataframe\">\n",
       "  <thead>\n",
       "    <tr style=\"text-align: right;\">\n",
       "      <th></th>\n",
       "      <th>Season</th>\n",
       "      <th>TeamCode</th>\n",
       "      <th>PlayerName</th>\n",
       "      <th>Assists</th>\n",
       "    </tr>\n",
       "  </thead>\n",
       "  <tbody>\n",
       "    <tr>\n",
       "      <th>0</th>\n",
       "      <td>2016</td>\n",
       "      <td>OTT</td>\n",
       "      <td>ERIK KARLSSON</td>\n",
       "      <td>54</td>\n",
       "    </tr>\n",
       "    <tr>\n",
       "      <th>6</th>\n",
       "      <td>2016</td>\n",
       "      <td>OTT</td>\n",
       "      <td>DERICK BRASSARD</td>\n",
       "      <td>25</td>\n",
       "    </tr>\n",
       "    <tr>\n",
       "      <th>12</th>\n",
       "      <td>2016</td>\n",
       "      <td>TOR</td>\n",
       "      <td>ZACH HYMAN</td>\n",
       "      <td>18</td>\n",
       "    </tr>\n",
       "    <tr>\n",
       "      <th>18</th>\n",
       "      <td>2016</td>\n",
       "      <td>TOR</td>\n",
       "      <td>WILLIAM NYLANDER</td>\n",
       "      <td>39</td>\n",
       "    </tr>\n",
       "    <tr>\n",
       "      <th>24</th>\n",
       "      <td>2016</td>\n",
       "      <td>TOR</td>\n",
       "      <td>MORGAN RIELLY</td>\n",
       "      <td>21</td>\n",
       "    </tr>\n",
       "  </tbody>\n",
       "</table>\n",
       "</div>"
      ],
      "text/plain": [
       "    Season TeamCode        PlayerName  Assists\n",
       "0     2016      OTT     ERIK KARLSSON       54\n",
       "6     2016      OTT   DERICK BRASSARD       25\n",
       "12    2016      TOR        ZACH HYMAN       18\n",
       "18    2016      TOR  WILLIAM NYLANDER       39\n",
       "24    2016      TOR     MORGAN RIELLY       21"
      ]
     },
     "execution_count": 46,
     "metadata": {},
     "output_type": "execute_result"
    }
   ],
   "source": [
    "dast = dast.drop_duplicates(['Season', 'GameNumber', 'TeamCode', 'PlayerName'])\n",
    "dast = dast.drop_duplicates(['Season', 'TeamCode', 'PlayerName'])\n",
    "dast = dast[['Season', 'TeamCode', 'PlayerName', 'Assists']]\n",
    "dast.head()"
   ]
  },
  {
   "cell_type": "code",
   "execution_count": 47,
   "metadata": {
    "collapsed": false
   },
   "outputs": [
    {
     "data": {
      "text/plain": [
       "Season        0\n",
       "TeamCode      0\n",
       "PlayerName    0\n",
       "Assists       0\n",
       "dtype: int64"
      ]
     },
     "execution_count": 47,
     "metadata": {},
     "output_type": "execute_result"
    }
   ],
   "source": [
    "dast.isnull().sum()"
   ]
  },
  {
   "cell_type": "code",
   "execution_count": 48,
   "metadata": {
    "collapsed": false
   },
   "outputs": [
    {
     "data": {
      "text/plain": [
       "(817, 4)"
      ]
     },
     "execution_count": 48,
     "metadata": {},
     "output_type": "execute_result"
    }
   ],
   "source": [
    "dast.shape"
   ]
  },
  {
   "cell_type": "markdown",
   "metadata": {},
   "source": [
    "#### shot dataframe (ds)"
   ]
  },
  {
   "cell_type": "code",
   "execution_count": 49,
   "metadata": {
    "collapsed": true
   },
   "outputs": [],
   "source": [
    "ds = dc.copy()\n",
    "ds = ds[ds['Event'] == 'SHOT']"
   ]
  },
  {
   "cell_type": "code",
   "execution_count": 50,
   "metadata": {
    "collapsed": false
   },
   "outputs": [
    {
     "data": {
      "text/html": [
       "<div>\n",
       "<table border=\"1\" class=\"dataframe\">\n",
       "  <thead>\n",
       "    <tr style=\"text-align: right;\">\n",
       "      <th></th>\n",
       "      <th>Season</th>\n",
       "      <th>GameNumber</th>\n",
       "      <th>EventNumber</th>\n",
       "      <th>Event</th>\n",
       "      <th>TeamCode</th>\n",
       "      <th>PlayerName</th>\n",
       "    </tr>\n",
       "  </thead>\n",
       "  <tbody>\n",
       "    <tr>\n",
       "      <th>30</th>\n",
       "      <td>2016</td>\n",
       "      <td>20001</td>\n",
       "      <td>6</td>\n",
       "      <td>SHOT</td>\n",
       "      <td>OTT</td>\n",
       "      <td>ERIK KARLSSON</td>\n",
       "    </tr>\n",
       "    <tr>\n",
       "      <th>31</th>\n",
       "      <td>2016</td>\n",
       "      <td>20001</td>\n",
       "      <td>6</td>\n",
       "      <td>SHOT</td>\n",
       "      <td>OTT</td>\n",
       "      <td>ERIK KARLSSON</td>\n",
       "    </tr>\n",
       "    <tr>\n",
       "      <th>32</th>\n",
       "      <td>2016</td>\n",
       "      <td>20001</td>\n",
       "      <td>6</td>\n",
       "      <td>SHOT</td>\n",
       "      <td>OTT</td>\n",
       "      <td>ERIK KARLSSON</td>\n",
       "    </tr>\n",
       "    <tr>\n",
       "      <th>33</th>\n",
       "      <td>2016</td>\n",
       "      <td>20001</td>\n",
       "      <td>6</td>\n",
       "      <td>SHOT</td>\n",
       "      <td>OTT</td>\n",
       "      <td>ERIK KARLSSON</td>\n",
       "    </tr>\n",
       "    <tr>\n",
       "      <th>34</th>\n",
       "      <td>2016</td>\n",
       "      <td>20001</td>\n",
       "      <td>6</td>\n",
       "      <td>SHOT</td>\n",
       "      <td>OTT</td>\n",
       "      <td>ERIK KARLSSON</td>\n",
       "    </tr>\n",
       "  </tbody>\n",
       "</table>\n",
       "</div>"
      ],
      "text/plain": [
       "    Season  GameNumber  EventNumber Event TeamCode     PlayerName\n",
       "30    2016       20001            6  SHOT      OTT  ERIK KARLSSON\n",
       "31    2016       20001            6  SHOT      OTT  ERIK KARLSSON\n",
       "32    2016       20001            6  SHOT      OTT  ERIK KARLSSON\n",
       "33    2016       20001            6  SHOT      OTT  ERIK KARLSSON\n",
       "34    2016       20001            6  SHOT      OTT  ERIK KARLSSON"
      ]
     },
     "execution_count": 50,
     "metadata": {},
     "output_type": "execute_result"
    }
   ],
   "source": [
    "ds = ds[['Season', 'GameNumber', 'EventNumber', 'Event', 'EventTeamCode', 'EventPlayer1']]\n",
    "ds = ds.rename(columns={'EventPlayer1': 'PlayerName', 'EventTeamCode':'TeamCode'})\n",
    "ds.head()"
   ]
  },
  {
   "cell_type": "markdown",
   "metadata": {},
   "source": [
    "- create a shot variable. If event type is a goal assign a value of 1. If not, assign a value of 0. Display total shots per player for a season."
   ]
  },
  {
   "cell_type": "code",
   "execution_count": 51,
   "metadata": {
    "collapsed": true
   },
   "outputs": [],
   "source": [
    "ds['Shot'] = ds.apply(lambda x: 1 if (x['Event'] == 'SHOT') else 0, axis=1)\n",
    "ds = ds.drop_duplicates(['Season', 'GameNumber', 'EventNumber', 'TeamCode', 'PlayerName'])\n",
    "ds['Shots'] = ds.groupby(['Season','TeamCode', 'PlayerName'])['Shot'].transform('sum')"
   ]
  },
  {
   "cell_type": "markdown",
   "metadata": {},
   "source": [
    "- drop duplicates to keep one observation per player for the season."
   ]
  },
  {
   "cell_type": "code",
   "execution_count": 52,
   "metadata": {
    "collapsed": false
   },
   "outputs": [
    {
     "data": {
      "text/html": [
       "<div>\n",
       "<table border=\"1\" class=\"dataframe\">\n",
       "  <thead>\n",
       "    <tr style=\"text-align: right;\">\n",
       "      <th></th>\n",
       "      <th>Season</th>\n",
       "      <th>TeamCode</th>\n",
       "      <th>PlayerName</th>\n",
       "      <th>Shots</th>\n",
       "    </tr>\n",
       "  </thead>\n",
       "  <tbody>\n",
       "    <tr>\n",
       "      <th>30</th>\n",
       "      <td>2016</td>\n",
       "      <td>OTT</td>\n",
       "      <td>ERIK KARLSSON</td>\n",
       "      <td>202</td>\n",
       "    </tr>\n",
       "    <tr>\n",
       "      <th>66</th>\n",
       "      <td>2016</td>\n",
       "      <td>OTT</td>\n",
       "      <td>TOM PYATT</td>\n",
       "      <td>86</td>\n",
       "    </tr>\n",
       "    <tr>\n",
       "      <th>90</th>\n",
       "      <td>2016</td>\n",
       "      <td>OTT</td>\n",
       "      <td>BOBBY RYAN</td>\n",
       "      <td>98</td>\n",
       "    </tr>\n",
       "    <tr>\n",
       "      <th>190</th>\n",
       "      <td>2016</td>\n",
       "      <td>TOR</td>\n",
       "      <td>WILLIAM NYLANDER</td>\n",
       "      <td>183</td>\n",
       "    </tr>\n",
       "    <tr>\n",
       "      <th>205</th>\n",
       "      <td>2016</td>\n",
       "      <td>TOR</td>\n",
       "      <td>MITCHELL MARNER</td>\n",
       "      <td>156</td>\n",
       "    </tr>\n",
       "  </tbody>\n",
       "</table>\n",
       "</div>"
      ],
      "text/plain": [
       "     Season TeamCode        PlayerName  Shots\n",
       "30     2016      OTT     ERIK KARLSSON    202\n",
       "66     2016      OTT         TOM PYATT     86\n",
       "90     2016      OTT        BOBBY RYAN     98\n",
       "190    2016      TOR  WILLIAM NYLANDER    183\n",
       "205    2016      TOR   MITCHELL MARNER    156"
      ]
     },
     "execution_count": 52,
     "metadata": {},
     "output_type": "execute_result"
    }
   ],
   "source": [
    "ds = ds.drop_duplicates(['Season', 'GameNumber', 'TeamCode', 'PlayerName'])\n",
    "ds = ds.drop_duplicates(['Season', 'TeamCode', 'PlayerName'])\n",
    "ds = ds[['Season', 'TeamCode', 'PlayerName', 'Shots']]\n",
    "ds.head()"
   ]
  },
  {
   "cell_type": "code",
   "execution_count": 53,
   "metadata": {
    "collapsed": false
   },
   "outputs": [
    {
     "data": {
      "text/plain": [
       "Season        0\n",
       "TeamCode      0\n",
       "PlayerName    0\n",
       "Shots         0\n",
       "dtype: int64"
      ]
     },
     "execution_count": 53,
     "metadata": {},
     "output_type": "execute_result"
    }
   ],
   "source": [
    "ds.isnull().sum()"
   ]
  },
  {
   "cell_type": "code",
   "execution_count": 54,
   "metadata": {
    "collapsed": false
   },
   "outputs": [
    {
     "data": {
      "text/plain": [
       "(933, 4)"
      ]
     },
     "execution_count": 54,
     "metadata": {},
     "output_type": "execute_result"
    }
   ],
   "source": [
    "ds.shape"
   ]
  },
  {
   "cell_type": "markdown",
   "metadata": {
    "collapsed": true
   },
   "source": [
    "#### block dataframe (db)"
   ]
  },
  {
   "cell_type": "code",
   "execution_count": 55,
   "metadata": {
    "collapsed": true
   },
   "outputs": [],
   "source": [
    "dbl = dc.copy()\n",
    "dbl = dbl[dbl['Event'] == 'BLOCK']"
   ]
  },
  {
   "cell_type": "code",
   "execution_count": 56,
   "metadata": {
    "collapsed": false
   },
   "outputs": [
    {
     "data": {
      "text/plain": [
       "(401028, 19)"
      ]
     },
     "execution_count": 56,
     "metadata": {},
     "output_type": "execute_result"
    }
   ],
   "source": [
    "dbl.shape"
   ]
  },
  {
   "cell_type": "code",
   "execution_count": 57,
   "metadata": {
    "collapsed": false
   },
   "outputs": [
    {
     "data": {
      "text/plain": [
       "0"
      ]
     },
     "execution_count": 57,
     "metadata": {},
     "output_type": "execute_result"
    }
   ],
   "source": [
    "dbl['EventPlayer2'].isnull().sum()"
   ]
  },
  {
   "cell_type": "code",
   "execution_count": 58,
   "metadata": {
    "collapsed": false
   },
   "outputs": [
    {
     "data": {
      "text/plain": [
       "401028"
      ]
     },
     "execution_count": 58,
     "metadata": {},
     "output_type": "execute_result"
    }
   ],
   "source": [
    "dbl['EventPlayer3'].isnull().sum()"
   ]
  },
  {
   "cell_type": "code",
   "execution_count": 59,
   "metadata": {
    "collapsed": false
   },
   "outputs": [],
   "source": [
    "dbl['BlockTeam'] = dbl.EventDetail.str.split(' ', expand = True)[6]\n",
    "dbl['BlockTeamCode'] = dbl.BlockTeam.str.split(' ', expand = True)[0]"
   ]
  },
  {
   "cell_type": "code",
   "execution_count": 60,
   "metadata": {
    "collapsed": false
   },
   "outputs": [],
   "source": [
    "dbl = dbl[['Season', 'GameNumber', 'EventNumber', 'Event', 'EventPlayer1', 'BlockTeamCode']]\n",
    "dbl = dbl.rename(columns={'EventPlayer1': 'PlayerName', 'BlockTeamCode':'TeamCode'})"
   ]
  },
  {
   "cell_type": "markdown",
   "metadata": {
    "collapsed": true
   },
   "source": [
    "- create a block variable. If event type is a block assign a value of 1. If not, assign a value of 0. Display total shots per player for a season."
   ]
  },
  {
   "cell_type": "code",
   "execution_count": 61,
   "metadata": {
    "collapsed": true
   },
   "outputs": [],
   "source": [
    "dbl['Block'] = dbl.apply(lambda x: 1 if (x['Event'] == 'BLOCK') else 0, axis=1)\n",
    "dbl = dbl.drop_duplicates(['Season', 'GameNumber', 'EventNumber', 'TeamCode', 'PlayerName'])\n",
    "dbl['Blocks'] = dbl.groupby(['Season','TeamCode', 'PlayerName'])['Block'].transform('sum')"
   ]
  },
  {
   "cell_type": "markdown",
   "metadata": {
    "collapsed": true
   },
   "source": [
    "- drop duplicates to keep one observation per player for the season."
   ]
  },
  {
   "cell_type": "code",
   "execution_count": 62,
   "metadata": {
    "collapsed": false
   },
   "outputs": [
    {
     "data": {
      "text/html": [
       "<div>\n",
       "<table border=\"1\" class=\"dataframe\">\n",
       "  <thead>\n",
       "    <tr style=\"text-align: right;\">\n",
       "      <th></th>\n",
       "      <th>Season</th>\n",
       "      <th>TeamCode</th>\n",
       "      <th>PlayerName</th>\n",
       "      <th>Blocks</th>\n",
       "    </tr>\n",
       "  </thead>\n",
       "  <tbody>\n",
       "    <tr>\n",
       "      <th>18</th>\n",
       "      <td>2016</td>\n",
       "      <td>OTT</td>\n",
       "      <td>JEAN-GABRIEL PAGEAU</td>\n",
       "      <td>79</td>\n",
       "    </tr>\n",
       "    <tr>\n",
       "      <th>78</th>\n",
       "      <td>2016</td>\n",
       "      <td>OTT</td>\n",
       "      <td>MARC METHOT</td>\n",
       "      <td>74</td>\n",
       "    </tr>\n",
       "    <tr>\n",
       "      <th>131</th>\n",
       "      <td>2016</td>\n",
       "      <td>OTT</td>\n",
       "      <td>CODY CECI</td>\n",
       "      <td>159</td>\n",
       "    </tr>\n",
       "    <tr>\n",
       "      <th>173</th>\n",
       "      <td>2016</td>\n",
       "      <td>OTT</td>\n",
       "      <td>DION PHANEUF</td>\n",
       "      <td>154</td>\n",
       "    </tr>\n",
       "    <tr>\n",
       "      <th>200</th>\n",
       "      <td>2016</td>\n",
       "      <td>TOR</td>\n",
       "      <td>MITCHELL MARNER</td>\n",
       "      <td>39</td>\n",
       "    </tr>\n",
       "  </tbody>\n",
       "</table>\n",
       "</div>"
      ],
      "text/plain": [
       "     Season TeamCode           PlayerName  Blocks\n",
       "18     2016      OTT  JEAN-GABRIEL PAGEAU      79\n",
       "78     2016      OTT          MARC METHOT      74\n",
       "131    2016      OTT            CODY CECI     159\n",
       "173    2016      OTT         DION PHANEUF     154\n",
       "200    2016      TOR      MITCHELL MARNER      39"
      ]
     },
     "execution_count": 62,
     "metadata": {},
     "output_type": "execute_result"
    }
   ],
   "source": [
    "dbl = dbl.drop_duplicates(['Season', 'GameNumber', 'TeamCode', 'PlayerName'])\n",
    "dbl = dbl.drop_duplicates(['Season', 'TeamCode', 'PlayerName'])\n",
    "dbl = dbl[['Season', 'TeamCode', 'PlayerName', 'Blocks']]\n",
    "dbl.head()"
   ]
  },
  {
   "cell_type": "code",
   "execution_count": 63,
   "metadata": {
    "collapsed": false
   },
   "outputs": [
    {
     "data": {
      "text/plain": [
       "Season        0\n",
       "TeamCode      0\n",
       "PlayerName    0\n",
       "Blocks        0\n",
       "dtype: int64"
      ]
     },
     "execution_count": 63,
     "metadata": {},
     "output_type": "execute_result"
    }
   ],
   "source": [
    "dbl.isnull().sum()"
   ]
  },
  {
   "cell_type": "code",
   "execution_count": 64,
   "metadata": {
    "collapsed": false
   },
   "outputs": [
    {
     "data": {
      "text/plain": [
       "(1112, 4)"
      ]
     },
     "execution_count": 64,
     "metadata": {},
     "output_type": "execute_result"
    }
   ],
   "source": [
    "dbl.shape"
   ]
  },
  {
   "cell_type": "markdown",
   "metadata": {
    "collapsed": true
   },
   "source": [
    "#### hit dataframe (dh)"
   ]
  },
  {
   "cell_type": "code",
   "execution_count": 65,
   "metadata": {
    "collapsed": true
   },
   "outputs": [],
   "source": [
    "dhit = dc.copy()\n",
    "dhit = dhit[dhit['Event'] == 'HIT']"
   ]
  },
  {
   "cell_type": "code",
   "execution_count": 66,
   "metadata": {
    "collapsed": false
   },
   "outputs": [
    {
     "data": {
      "text/plain": [
       "(632019, 19)"
      ]
     },
     "execution_count": 66,
     "metadata": {},
     "output_type": "execute_result"
    }
   ],
   "source": [
    "dhit.shape"
   ]
  },
  {
   "cell_type": "code",
   "execution_count": 67,
   "metadata": {
    "collapsed": false
   },
   "outputs": [
    {
     "data": {
      "text/plain": [
       "12"
      ]
     },
     "execution_count": 67,
     "metadata": {},
     "output_type": "execute_result"
    }
   ],
   "source": [
    "dhit['EventPlayer2'].isnull().sum()"
   ]
  },
  {
   "cell_type": "code",
   "execution_count": 68,
   "metadata": {
    "collapsed": false
   },
   "outputs": [
    {
     "data": {
      "text/plain": [
       "632019"
      ]
     },
     "execution_count": 68,
     "metadata": {},
     "output_type": "execute_result"
    }
   ],
   "source": [
    "dhit['EventPlayer3'].isnull().sum()"
   ]
  },
  {
   "cell_type": "code",
   "execution_count": 69,
   "metadata": {
    "collapsed": false
   },
   "outputs": [],
   "source": [
    "dhit = dhit[['Season', 'GameNumber', 'EventNumber', 'Event', 'EventTeamCode', 'EventPlayer1']]\n",
    "dhit = dhit.rename(columns={'EventPlayer1': 'PlayerName', 'EventTeamCode':'TeamCode'})"
   ]
  },
  {
   "cell_type": "markdown",
   "metadata": {},
   "source": [
    "- create a hit variable. If event type is a hit assign a value of 1. If not, assign a value of 0. Display total shots per player for a season."
   ]
  },
  {
   "cell_type": "code",
   "execution_count": 70,
   "metadata": {
    "collapsed": true
   },
   "outputs": [],
   "source": [
    "dhit['Hit'] = dhit.apply(lambda x: 1 if (x['Event'] == 'HIT') else 0, axis=1)\n",
    "dhit = dhit.drop_duplicates(['Season', 'GameNumber', 'EventNumber', 'TeamCode', 'PlayerName'])\n",
    "dhit['Hits'] = dhit.groupby(['Season','TeamCode', 'PlayerName'])['Hit'].transform('sum')"
   ]
  },
  {
   "cell_type": "markdown",
   "metadata": {},
   "source": [
    "- drop duplicates to keep one observation per player for the season."
   ]
  },
  {
   "cell_type": "code",
   "execution_count": 71,
   "metadata": {
    "collapsed": false
   },
   "outputs": [
    {
     "data": {
      "text/html": [
       "<div>\n",
       "<table border=\"1\" class=\"dataframe\">\n",
       "  <thead>\n",
       "    <tr style=\"text-align: right;\">\n",
       "      <th></th>\n",
       "      <th>Season</th>\n",
       "      <th>TeamCode</th>\n",
       "      <th>PlayerName</th>\n",
       "      <th>Hits</th>\n",
       "    </tr>\n",
       "  </thead>\n",
       "  <tbody>\n",
       "    <tr>\n",
       "      <th>54</th>\n",
       "      <td>2016</td>\n",
       "      <td>OTT</td>\n",
       "      <td>MARK BOROWIECKI</td>\n",
       "      <td>364.0</td>\n",
       "    </tr>\n",
       "    <tr>\n",
       "      <th>108</th>\n",
       "      <td>2016</td>\n",
       "      <td>TOR</td>\n",
       "      <td>MATT MARTIN</td>\n",
       "      <td>300.0</td>\n",
       "    </tr>\n",
       "    <tr>\n",
       "      <th>137</th>\n",
       "      <td>2016</td>\n",
       "      <td>TOR</td>\n",
       "      <td>LEO KOMAROV</td>\n",
       "      <td>231.0</td>\n",
       "    </tr>\n",
       "    <tr>\n",
       "      <th>161</th>\n",
       "      <td>2016</td>\n",
       "      <td>OTT</td>\n",
       "      <td>ZACK SMITH</td>\n",
       "      <td>140.0</td>\n",
       "    </tr>\n",
       "    <tr>\n",
       "      <th>298</th>\n",
       "      <td>2016</td>\n",
       "      <td>TOR</td>\n",
       "      <td>JAKE GARDINER</td>\n",
       "      <td>69.0</td>\n",
       "    </tr>\n",
       "  </tbody>\n",
       "</table>\n",
       "</div>"
      ],
      "text/plain": [
       "     Season TeamCode       PlayerName   Hits\n",
       "54     2016      OTT  MARK BOROWIECKI  364.0\n",
       "108    2016      TOR      MATT MARTIN  300.0\n",
       "137    2016      TOR      LEO KOMAROV  231.0\n",
       "161    2016      OTT       ZACK SMITH  140.0\n",
       "298    2016      TOR    JAKE GARDINER   69.0"
      ]
     },
     "execution_count": 71,
     "metadata": {},
     "output_type": "execute_result"
    }
   ],
   "source": [
    "dhit = dhit.drop_duplicates(['Season', 'GameNumber', 'TeamCode', 'PlayerName'])\n",
    "dhit = dhit.drop_duplicates(['Season', 'TeamCode', 'PlayerName'])\n",
    "dhit = dhit[['Season', 'TeamCode', 'PlayerName', 'Hits']]\n",
    "dhit.head()"
   ]
  },
  {
   "cell_type": "code",
   "execution_count": 72,
   "metadata": {
    "collapsed": false
   },
   "outputs": [
    {
     "data": {
      "text/plain": [
       "Season        0\n",
       "TeamCode      0\n",
       "PlayerName    1\n",
       "Hits          1\n",
       "dtype: int64"
      ]
     },
     "execution_count": 72,
     "metadata": {},
     "output_type": "execute_result"
    }
   ],
   "source": [
    "dhit.isnull().sum()"
   ]
  },
  {
   "cell_type": "code",
   "execution_count": 73,
   "metadata": {
    "collapsed": false
   },
   "outputs": [
    {
     "data": {
      "text/plain": [
       "(945, 4)"
      ]
     },
     "execution_count": 73,
     "metadata": {},
     "output_type": "execute_result"
    }
   ],
   "source": [
    "dhit.shape"
   ]
  },
  {
   "cell_type": "markdown",
   "metadata": {},
   "source": [
    "#### penalty dataframe (dpen)"
   ]
  },
  {
   "cell_type": "code",
   "execution_count": 74,
   "metadata": {
    "collapsed": false
   },
   "outputs": [],
   "source": [
    "dp = dc.copy()\n",
    "dp = dp[dp['Event'] == 'PENL']"
   ]
  },
  {
   "cell_type": "markdown",
   "metadata": {},
   "source": [
    "- use event detail to find the duration of a given penalty and to assign it to the proper player. Major penalty is 5 minutes, so a value of 5 is assigned for every event that had a major penalty."
   ]
  },
  {
   "cell_type": "code",
   "execution_count": 75,
   "metadata": {
    "collapsed": false
   },
   "outputs": [
    {
     "name": "stderr",
     "output_type": "stream",
     "text": [
      "/anaconda/lib/python3.6/site-packages/ipykernel/__main__.py:5: FutureWarning: convert_objects is deprecated.  Use the data-type specific converters pd.to_datetime, pd.to_timedelta and pd.to_numeric.\n"
     ]
    }
   ],
   "source": [
    "dp['Pen'] = dp.EventDetail.str.split(')', expand = True)[0]\n",
    "dp['Penal'] = dp.Pen.str.split('(', expand = True)[1]\n",
    "dp['Penalt'] = dp.Penal.str.split(' ', expand = True)[0]\n",
    "dp['Penalty'] = dp.apply(lambda x: 5 if x['Penalt'] == 'maj' else x['Penalt'], axis=1)\n",
    "dp['Penalty'] = dp['Penalty'].convert_objects(convert_numeric=True)\n",
    "dp = dp[['Season', 'GameNumber', 'Period', 'Time', 'EventNumber', 'Event', 'EventDetail', 'EventTeamCode', 'EventPlayer1', 'EventPlayer2', 'EventPlayer3', 'TeamCode', 'PlayerName', 'Penalty']]"
   ]
  },
  {
   "cell_type": "markdown",
   "metadata": {},
   "source": [
    "- use event detail to find penalty team code and penalty player name."
   ]
  },
  {
   "cell_type": "code",
   "execution_count": 76,
   "metadata": {
    "collapsed": false
   },
   "outputs": [],
   "source": [
    "dp['PenaltyTeamCode'] = dp.EventDetail.str.split('\\\\s', expand = True)[0]\n",
    "dp['PN'] = dp.EventDetail.str.split('\\\\s', expand = True)[1]\n",
    "dp['PNumber'] = dp.PN.str.split('#', expand = True)[1]\n",
    "dp['PenaltyPlayerNumber'] = dp.PNumber.str.split(' ', expand = True)[0]\n",
    "dp['PenaltyPlayerLName'] = dp.EventDetail.str.split('\\\\s', expand = True)[2]\n",
    "#dp['PenaltyPlayerLName'] = dp.PPlLN.str.split(' ', expand = True)[0]\n",
    "dp = dp[['Season', 'GameNumber', 'Period', 'Time', 'EventNumber', 'Event', 'EventDetail', 'EventTeamCode', 'EventPlayer1', 'EventPlayer2', 'EventPlayer3', 'TeamCode', 'PlayerName', 'Penalty', 'PenaltyTeamCode', 'PenaltyPlayerNumber', 'PenaltyPlayerLName']]"
   ]
  },
  {
   "cell_type": "markdown",
   "metadata": {},
   "source": [
    "- seperate player name into first and last. The purpose is to connect the correct player name to penalty player name."
   ]
  },
  {
   "cell_type": "code",
   "execution_count": 77,
   "metadata": {
    "collapsed": false
   },
   "outputs": [],
   "source": [
    "dp['PlayerFName'] = dp.PlayerName.str.split('\\\\s', expand = True)[0]\n",
    "dp['PlayerLName'] = dp.PlayerName.str.split('\\\\s', expand = True)[1]\n",
    "dp['PenaltyPlayerFName'] = dp.apply(lambda x: x['PlayerFName'] if ((x['PenaltyTeamCode'] == x['TeamCode']) & (x['PenaltyPlayerNumber'] == x['PenaltyPlayerNumber']) & (x['PlayerLName'] == x['PenaltyPlayerLName'])) else np.nan, axis=1)\n",
    "dp['PenaltyPlayerFName'] = dp.groupby(['Season','PenaltyTeamCode', 'PenaltyPlayerNumber', 'PenaltyPlayerLName'])['PenaltyPlayerFName'].apply(lambda x: x.ffill().bfill())"
   ]
  },
  {
   "cell_type": "code",
   "execution_count": 78,
   "metadata": {
    "collapsed": true
   },
   "outputs": [],
   "source": [
    "dp['PenaltyName'] = dp.apply(lambda x: x['PlayerName'] if ((x['PenaltyTeamCode'] == x['TeamCode']) & (x['PenaltyPlayerNumber'] == x['PenaltyPlayerNumber']) & (x['PlayerLName'] == x['PenaltyPlayerLName']) & (x['PlayerFName'] == x['PenaltyPlayerFName'])) else np.nan, axis=1)\n",
    "dp['PenaltyName'] = dp.groupby(['Season','PenaltyTeamCode', 'PenaltyPlayerLName', 'PenaltyPlayerNumber', 'PenaltyPlayerLName'])['PenaltyName'].apply(lambda x: x.ffill().bfill())\n"
   ]
  },
  {
   "cell_type": "markdown",
   "metadata": {},
   "source": [
    "- drop duplicates per game and event number. Calculate the total number of penalties for each player."
   ]
  },
  {
   "cell_type": "code",
   "execution_count": 79,
   "metadata": {
    "collapsed": false
   },
   "outputs": [],
   "source": [
    "dp = dp.drop_duplicates(['Season', 'GameNumber', 'EventNumber', 'PenaltyTeamCode', 'PenaltyPlayerNumber', 'PenaltyName'])\n",
    "dp['Penalties'] = dp.groupby(['Season', 'PenaltyTeamCode', 'PenaltyPlayerNumber', 'PenaltyName'])['Penalty'].transform('sum')\n",
    "dp['Penalties'] = dp.groupby(['Season','PenaltyTeamCode', 'PenaltyPlayerNumber', 'PlayerName'])['Penalties'].apply(lambda x: x.ffill().bfill())\n",
    "#dp.head()"
   ]
  },
  {
   "cell_type": "markdown",
   "metadata": {},
   "source": [
    "- drop duplicates to keep one observation per player for the season."
   ]
  },
  {
   "cell_type": "code",
   "execution_count": 80,
   "metadata": {
    "collapsed": false
   },
   "outputs": [
    {
     "data": {
      "text/html": [
       "<div>\n",
       "<table border=\"1\" class=\"dataframe\">\n",
       "  <thead>\n",
       "    <tr style=\"text-align: right;\">\n",
       "      <th></th>\n",
       "      <th>Season</th>\n",
       "      <th>TeamCode</th>\n",
       "      <th>PlayerName</th>\n",
       "      <th>Penalties</th>\n",
       "    </tr>\n",
       "  </thead>\n",
       "  <tbody>\n",
       "    <tr>\n",
       "      <th>114</th>\n",
       "      <td>2016</td>\n",
       "      <td>OTT</td>\n",
       "      <td>MARK BOROWIECKI</td>\n",
       "      <td>152.0</td>\n",
       "    </tr>\n",
       "    <tr>\n",
       "      <th>115</th>\n",
       "      <td>2016</td>\n",
       "      <td>TOR</td>\n",
       "      <td>MATT MARTIN</td>\n",
       "      <td>123.0</td>\n",
       "    </tr>\n",
       "    <tr>\n",
       "      <th>179</th>\n",
       "      <td>2016</td>\n",
       "      <td>OTT</td>\n",
       "      <td>ZACK SMITH</td>\n",
       "      <td>61.0</td>\n",
       "    </tr>\n",
       "    <tr>\n",
       "      <th>252</th>\n",
       "      <td>2016</td>\n",
       "      <td>TOR</td>\n",
       "      <td>CONNOR BROWN</td>\n",
       "      <td>10.0</td>\n",
       "    </tr>\n",
       "    <tr>\n",
       "      <th>624</th>\n",
       "      <td>2016</td>\n",
       "      <td>OTT</td>\n",
       "      <td>DION PHANEUF</td>\n",
       "      <td>98.0</td>\n",
       "    </tr>\n",
       "  </tbody>\n",
       "</table>\n",
       "</div>"
      ],
      "text/plain": [
       "     Season TeamCode       PlayerName  Penalties\n",
       "114    2016      OTT  MARK BOROWIECKI      152.0\n",
       "115    2016      TOR      MATT MARTIN      123.0\n",
       "179    2016      OTT       ZACK SMITH       61.0\n",
       "252    2016      TOR     CONNOR BROWN       10.0\n",
       "624    2016      OTT     DION PHANEUF       98.0"
      ]
     },
     "execution_count": 80,
     "metadata": {},
     "output_type": "execute_result"
    }
   ],
   "source": [
    "dp = dp[['Season', 'PenaltyTeamCode', 'PenaltyName', 'Penalties']]\n",
    "dp = dp.drop_duplicates(['Season', 'PenaltyTeamCode', 'PenaltyName'])\n",
    "dp = dp.rename(columns={'PenaltyTeamCode':'TeamCode', 'PenaltyName':'PlayerName'})\n",
    "dp = dp[['Season', 'TeamCode', 'PlayerName', 'Penalties']]\n",
    "dp.head()"
   ]
  },
  {
   "cell_type": "markdown",
   "metadata": {},
   "source": [
    "- keep observations that are not null. Since a team can be allocated a penalty, those observations are excluded from the data."
   ]
  },
  {
   "cell_type": "code",
   "execution_count": 81,
   "metadata": {
    "collapsed": false
   },
   "outputs": [
    {
     "data": {
      "text/plain": [
       "30"
      ]
     },
     "execution_count": 81,
     "metadata": {},
     "output_type": "execute_result"
    }
   ],
   "source": [
    "dp['PlayerName'].isnull().sum()"
   ]
  },
  {
   "cell_type": "code",
   "execution_count": 82,
   "metadata": {
    "collapsed": true
   },
   "outputs": [],
   "source": [
    "dp = dp[dp['PlayerName'].notnull()]"
   ]
  },
  {
   "cell_type": "code",
   "execution_count": 83,
   "metadata": {
    "collapsed": false
   },
   "outputs": [
    {
     "data": {
      "text/plain": [
       "Season        0\n",
       "TeamCode      0\n",
       "PlayerName    0\n",
       "Penalties     0\n",
       "dtype: int64"
      ]
     },
     "execution_count": 83,
     "metadata": {},
     "output_type": "execute_result"
    }
   ],
   "source": [
    "dp.isnull().sum()"
   ]
  },
  {
   "cell_type": "code",
   "execution_count": 84,
   "metadata": {
    "collapsed": false
   },
   "outputs": [
    {
     "data": {
      "text/plain": [
       "(856, 4)"
      ]
     },
     "execution_count": 84,
     "metadata": {},
     "output_type": "execute_result"
    }
   ],
   "source": [
    "dp.shape"
   ]
  },
  {
   "cell_type": "markdown",
   "metadata": {},
   "source": [
    "####  miss dataframe (dmiss)"
   ]
  },
  {
   "cell_type": "code",
   "execution_count": 85,
   "metadata": {
    "collapsed": true
   },
   "outputs": [],
   "source": [
    "dmiss = dc.copy()\n",
    "dmiss = dmiss[dmiss['Event'] == 'MISS']"
   ]
  },
  {
   "cell_type": "code",
   "execution_count": 86,
   "metadata": {
    "collapsed": false
   },
   "outputs": [
    {
     "data": {
      "text/plain": [
       "(331116, 19)"
      ]
     },
     "execution_count": 86,
     "metadata": {},
     "output_type": "execute_result"
    }
   ],
   "source": [
    "dmiss.shape"
   ]
  },
  {
   "cell_type": "code",
   "execution_count": 87,
   "metadata": {
    "collapsed": false
   },
   "outputs": [
    {
     "data": {
      "text/plain": [
       "331116"
      ]
     },
     "execution_count": 87,
     "metadata": {},
     "output_type": "execute_result"
    }
   ],
   "source": [
    "dmiss['EventPlayer2'].isnull().sum()"
   ]
  },
  {
   "cell_type": "code",
   "execution_count": 88,
   "metadata": {
    "collapsed": false
   },
   "outputs": [
    {
     "data": {
      "text/plain": [
       "331116"
      ]
     },
     "execution_count": 88,
     "metadata": {},
     "output_type": "execute_result"
    }
   ],
   "source": [
    "dmiss['EventPlayer3'].isnull().sum()"
   ]
  },
  {
   "cell_type": "code",
   "execution_count": 89,
   "metadata": {
    "collapsed": false
   },
   "outputs": [],
   "source": [
    "dmiss = dmiss[['Season', 'GameNumber', 'EventNumber', 'Event', 'EventTeamCode', 'EventPlayer1']]\n",
    "dmiss = dmiss.rename(columns={'EventPlayer1': 'PlayerName', 'EventTeamCode':'TeamCode'})"
   ]
  },
  {
   "cell_type": "markdown",
   "metadata": {},
   "source": [
    "- create a miss variable. If event type is a miss assign a value of 1. If not, assign a value of 0. Display total shots per player for a season."
   ]
  },
  {
   "cell_type": "code",
   "execution_count": 90,
   "metadata": {
    "collapsed": true
   },
   "outputs": [],
   "source": [
    "dmiss['Miss'] = dmiss.apply(lambda x: 1 if (x['Event'] == 'MISS') else 0, axis=1)\n",
    "dmiss = dmiss.drop_duplicates(['Season', 'GameNumber', 'EventNumber', 'TeamCode', 'PlayerName'])\n",
    "dmiss['Misses'] = dmiss.groupby(['Season','TeamCode', 'PlayerName'])['Miss'].transform('sum')"
   ]
  },
  {
   "cell_type": "markdown",
   "metadata": {},
   "source": [
    "- drop duplicates to keep one observation per player for the season."
   ]
  },
  {
   "cell_type": "code",
   "execution_count": 91,
   "metadata": {
    "collapsed": false
   },
   "outputs": [
    {
     "data": {
      "text/html": [
       "<div>\n",
       "<table border=\"1\" class=\"dataframe\">\n",
       "  <thead>\n",
       "    <tr style=\"text-align: right;\">\n",
       "      <th></th>\n",
       "      <th>Season</th>\n",
       "      <th>TeamCode</th>\n",
       "      <th>PlayerName</th>\n",
       "      <th>Misses</th>\n",
       "    </tr>\n",
       "  </thead>\n",
       "  <tbody>\n",
       "    <tr>\n",
       "      <th>84</th>\n",
       "      <td>2016</td>\n",
       "      <td>TOR</td>\n",
       "      <td>MITCHELL MARNER</td>\n",
       "      <td>80.0</td>\n",
       "    </tr>\n",
       "    <tr>\n",
       "      <th>337</th>\n",
       "      <td>2016</td>\n",
       "      <td>OTT</td>\n",
       "      <td>DION PHANEUF</td>\n",
       "      <td>56.0</td>\n",
       "    </tr>\n",
       "    <tr>\n",
       "      <th>397</th>\n",
       "      <td>2016</td>\n",
       "      <td>TOR</td>\n",
       "      <td>LEO KOMAROV</td>\n",
       "      <td>38.0</td>\n",
       "    </tr>\n",
       "    <tr>\n",
       "      <th>409</th>\n",
       "      <td>2016</td>\n",
       "      <td>OTT</td>\n",
       "      <td>MIKE HOFFMAN</td>\n",
       "      <td>88.0</td>\n",
       "    </tr>\n",
       "    <tr>\n",
       "      <th>499</th>\n",
       "      <td>2016</td>\n",
       "      <td>TOR</td>\n",
       "      <td>WILLIAM NYLANDER</td>\n",
       "      <td>81.0</td>\n",
       "    </tr>\n",
       "  </tbody>\n",
       "</table>\n",
       "</div>"
      ],
      "text/plain": [
       "     Season TeamCode        PlayerName  Misses\n",
       "84     2016      TOR   MITCHELL MARNER    80.0\n",
       "337    2016      OTT      DION PHANEUF    56.0\n",
       "397    2016      TOR       LEO KOMAROV    38.0\n",
       "409    2016      OTT      MIKE HOFFMAN    88.0\n",
       "499    2016      TOR  WILLIAM NYLANDER    81.0"
      ]
     },
     "execution_count": 91,
     "metadata": {},
     "output_type": "execute_result"
    }
   ],
   "source": [
    "dmiss = dmiss.drop_duplicates(['Season', 'GameNumber', 'TeamCode', 'PlayerName'])\n",
    "dmiss = dmiss.drop_duplicates(['Season', 'TeamCode', 'PlayerName'])\n",
    "dmiss = dmiss[['Season', 'TeamCode', 'PlayerName', 'Misses']]\n",
    "dmiss.head()"
   ]
  },
  {
   "cell_type": "code",
   "execution_count": 92,
   "metadata": {
    "collapsed": false
   },
   "outputs": [
    {
     "data": {
      "text/plain": [
       "Season        0\n",
       "TeamCode      0\n",
       "PlayerName    1\n",
       "Misses        1\n",
       "dtype: int64"
      ]
     },
     "execution_count": 92,
     "metadata": {},
     "output_type": "execute_result"
    }
   ],
   "source": [
    "dmiss.isnull().sum()"
   ]
  },
  {
   "cell_type": "code",
   "execution_count": 93,
   "metadata": {
    "collapsed": false
   },
   "outputs": [
    {
     "data": {
      "text/plain": [
       "(896, 4)"
      ]
     },
     "execution_count": 93,
     "metadata": {},
     "output_type": "execute_result"
    }
   ],
   "source": [
    "dmiss.shape"
   ]
  },
  {
   "cell_type": "markdown",
   "metadata": {},
   "source": [
    "####  takeaway dataframe (dtake)"
   ]
  },
  {
   "cell_type": "code",
   "execution_count": 94,
   "metadata": {
    "collapsed": true
   },
   "outputs": [],
   "source": [
    "dtake = dc.copy()\n",
    "dtake = dtake[dtake['Event'] == 'TAKE']"
   ]
  },
  {
   "cell_type": "code",
   "execution_count": 95,
   "metadata": {
    "collapsed": false
   },
   "outputs": [
    {
     "data": {
      "text/plain": [
       "(191913, 19)"
      ]
     },
     "execution_count": 95,
     "metadata": {},
     "output_type": "execute_result"
    }
   ],
   "source": [
    "dtake.shape"
   ]
  },
  {
   "cell_type": "code",
   "execution_count": 96,
   "metadata": {
    "collapsed": false
   },
   "outputs": [
    {
     "data": {
      "text/plain": [
       "191913"
      ]
     },
     "execution_count": 96,
     "metadata": {},
     "output_type": "execute_result"
    }
   ],
   "source": [
    "dtake['EventPlayer2'].isnull().sum()"
   ]
  },
  {
   "cell_type": "code",
   "execution_count": 97,
   "metadata": {
    "collapsed": false
   },
   "outputs": [
    {
     "data": {
      "text/plain": [
       "191913"
      ]
     },
     "execution_count": 97,
     "metadata": {},
     "output_type": "execute_result"
    }
   ],
   "source": [
    "dtake['EventPlayer3'].isnull().sum()"
   ]
  },
  {
   "cell_type": "code",
   "execution_count": 98,
   "metadata": {
    "collapsed": true
   },
   "outputs": [],
   "source": [
    "dtake = dtake[['Season', 'GameNumber', 'EventNumber', 'Event', 'EventTeamCode', 'EventPlayer1']]\n",
    "dtake = dtake.rename(columns={'EventPlayer1': 'PlayerName', 'EventTeamCode':'TeamCode'})"
   ]
  },
  {
   "cell_type": "markdown",
   "metadata": {},
   "source": [
    "- create a takeaway variable. If event type is a takeaway assign a value of 1. If not, assign a value of 0. Display total shots per player for a season."
   ]
  },
  {
   "cell_type": "code",
   "execution_count": 99,
   "metadata": {
    "collapsed": true
   },
   "outputs": [],
   "source": [
    "dtake['Takeaway'] = dtake.apply(lambda x: 1 if (x['Event'] == 'TAKE') else 0, axis=1)\n",
    "dtake = dtake.drop_duplicates(['Season', 'GameNumber', 'EventNumber', 'TeamCode', 'PlayerName'])\n",
    "dtake['Takeaways'] = dtake.groupby(['Season','TeamCode', 'PlayerName'])['Takeaway'].transform('sum')"
   ]
  },
  {
   "cell_type": "markdown",
   "metadata": {},
   "source": [
    "- drop duplicates to keep one observation per player for the season."
   ]
  },
  {
   "cell_type": "code",
   "execution_count": 100,
   "metadata": {
    "collapsed": false
   },
   "outputs": [
    {
     "data": {
      "text/html": [
       "<div>\n",
       "<table border=\"1\" class=\"dataframe\">\n",
       "  <thead>\n",
       "    <tr style=\"text-align: right;\">\n",
       "      <th></th>\n",
       "      <th>Season</th>\n",
       "      <th>TeamCode</th>\n",
       "      <th>PlayerName</th>\n",
       "      <th>Takeaways</th>\n",
       "    </tr>\n",
       "  </thead>\n",
       "  <tbody>\n",
       "    <tr>\n",
       "      <th>12</th>\n",
       "      <td>2016</td>\n",
       "      <td>TOR</td>\n",
       "      <td>MITCHELL MARNER</td>\n",
       "      <td>67</td>\n",
       "    </tr>\n",
       "    <tr>\n",
       "      <th>143</th>\n",
       "      <td>2016</td>\n",
       "      <td>TOR</td>\n",
       "      <td>AUSTON MATTHEWS</td>\n",
       "      <td>76</td>\n",
       "    </tr>\n",
       "    <tr>\n",
       "      <th>451</th>\n",
       "      <td>2016</td>\n",
       "      <td>TOR</td>\n",
       "      <td>NIKITA ZAITSEV</td>\n",
       "      <td>33</td>\n",
       "    </tr>\n",
       "    <tr>\n",
       "      <th>655</th>\n",
       "      <td>2016</td>\n",
       "      <td>OTT</td>\n",
       "      <td>CHRIS KELLY</td>\n",
       "      <td>18</td>\n",
       "    </tr>\n",
       "    <tr>\n",
       "      <th>682</th>\n",
       "      <td>2016</td>\n",
       "      <td>OTT</td>\n",
       "      <td>CHRIS WIDEMAN</td>\n",
       "      <td>14</td>\n",
       "    </tr>\n",
       "  </tbody>\n",
       "</table>\n",
       "</div>"
      ],
      "text/plain": [
       "     Season TeamCode       PlayerName  Takeaways\n",
       "12     2016      TOR  MITCHELL MARNER         67\n",
       "143    2016      TOR  AUSTON MATTHEWS         76\n",
       "451    2016      TOR   NIKITA ZAITSEV         33\n",
       "655    2016      OTT      CHRIS KELLY         18\n",
       "682    2016      OTT    CHRIS WIDEMAN         14"
      ]
     },
     "execution_count": 100,
     "metadata": {},
     "output_type": "execute_result"
    }
   ],
   "source": [
    "dtake = dtake.drop_duplicates(['Season', 'GameNumber', 'TeamCode', 'PlayerName'])\n",
    "dtake = dtake.drop_duplicates(['Season', 'TeamCode', 'PlayerName'])\n",
    "dtake = dtake[['Season', 'TeamCode', 'PlayerName', 'Takeaways']]\n",
    "dtake.head()"
   ]
  },
  {
   "cell_type": "code",
   "execution_count": 101,
   "metadata": {
    "collapsed": false
   },
   "outputs": [
    {
     "data": {
      "text/plain": [
       "Season        0\n",
       "TeamCode      0\n",
       "PlayerName    0\n",
       "Takeaways     0\n",
       "dtype: int64"
      ]
     },
     "execution_count": 101,
     "metadata": {},
     "output_type": "execute_result"
    }
   ],
   "source": [
    "dtake.isnull().sum()"
   ]
  },
  {
   "cell_type": "code",
   "execution_count": 102,
   "metadata": {
    "collapsed": false
   },
   "outputs": [
    {
     "data": {
      "text/plain": [
       "(857, 4)"
      ]
     },
     "execution_count": 102,
     "metadata": {},
     "output_type": "execute_result"
    }
   ],
   "source": [
    "dtake.shape"
   ]
  },
  {
   "cell_type": "markdown",
   "metadata": {},
   "source": [
    "####  giveaway dataframe (dgive)"
   ]
  },
  {
   "cell_type": "code",
   "execution_count": 103,
   "metadata": {
    "collapsed": true
   },
   "outputs": [],
   "source": [
    "dgive = dc.copy()\n",
    "dgive = dgive[dgive['Event'] == 'GIVE']"
   ]
  },
  {
   "cell_type": "code",
   "execution_count": 104,
   "metadata": {
    "collapsed": false
   },
   "outputs": [
    {
     "data": {
      "text/plain": [
       "(253531, 19)"
      ]
     },
     "execution_count": 104,
     "metadata": {},
     "output_type": "execute_result"
    }
   ],
   "source": [
    "dgive.shape"
   ]
  },
  {
   "cell_type": "code",
   "execution_count": 105,
   "metadata": {
    "collapsed": false
   },
   "outputs": [
    {
     "data": {
      "text/plain": [
       "253531"
      ]
     },
     "execution_count": 105,
     "metadata": {},
     "output_type": "execute_result"
    }
   ],
   "source": [
    "dgive['EventPlayer2'].isnull().sum()"
   ]
  },
  {
   "cell_type": "code",
   "execution_count": 106,
   "metadata": {
    "collapsed": false
   },
   "outputs": [
    {
     "data": {
      "text/plain": [
       "253531"
      ]
     },
     "execution_count": 106,
     "metadata": {},
     "output_type": "execute_result"
    }
   ],
   "source": [
    "dgive['EventPlayer3'].isnull().sum()"
   ]
  },
  {
   "cell_type": "code",
   "execution_count": 107,
   "metadata": {
    "collapsed": true
   },
   "outputs": [],
   "source": [
    "dgive = dgive[['Season', 'GameNumber', 'EventNumber', 'Event', 'EventTeamCode', 'EventPlayer1']]\n",
    "dgive = dgive.rename(columns={'EventPlayer1': 'PlayerName', 'EventTeamCode':'TeamCode'})"
   ]
  },
  {
   "cell_type": "markdown",
   "metadata": {},
   "source": [
    "- create a giveaway variable. If event type is a giveaway assign a value of 1. If not, assign a value of 0. Display total shots per player for a season."
   ]
  },
  {
   "cell_type": "code",
   "execution_count": 108,
   "metadata": {
    "collapsed": true
   },
   "outputs": [],
   "source": [
    "dgive['Giveaway'] = dgive.apply(lambda x: 1 if (x['Event'] == 'GIVE') else 0, axis=1)\n",
    "dgive = dgive.drop_duplicates(['Season', 'GameNumber', 'EventNumber', 'TeamCode', 'PlayerName'])\n",
    "dgive['Giveaways'] = dgive.groupby(['Season','TeamCode', 'PlayerName'])['Giveaway'].transform('sum')"
   ]
  },
  {
   "cell_type": "markdown",
   "metadata": {},
   "source": [
    "- drop duplicates to keep one observation per player for the season."
   ]
  },
  {
   "cell_type": "code",
   "execution_count": 109,
   "metadata": {
    "collapsed": false
   },
   "outputs": [
    {
     "data": {
      "text/html": [
       "<div>\n",
       "<table border=\"1\" class=\"dataframe\">\n",
       "  <thead>\n",
       "    <tr style=\"text-align: right;\">\n",
       "      <th></th>\n",
       "      <th>Season</th>\n",
       "      <th>TeamCode</th>\n",
       "      <th>PlayerName</th>\n",
       "      <th>Giveaways</th>\n",
       "    </tr>\n",
       "  </thead>\n",
       "  <tbody>\n",
       "    <tr>\n",
       "      <th>167</th>\n",
       "      <td>2016</td>\n",
       "      <td>OTT</td>\n",
       "      <td>DERICK BRASSARD</td>\n",
       "      <td>37</td>\n",
       "    </tr>\n",
       "    <tr>\n",
       "      <th>234</th>\n",
       "      <td>2016</td>\n",
       "      <td>OTT</td>\n",
       "      <td>JEAN-GABRIEL PAGEAU</td>\n",
       "      <td>27</td>\n",
       "    </tr>\n",
       "    <tr>\n",
       "      <th>283</th>\n",
       "      <td>2016</td>\n",
       "      <td>TOR</td>\n",
       "      <td>MORGAN RIELLY</td>\n",
       "      <td>76</td>\n",
       "    </tr>\n",
       "    <tr>\n",
       "      <th>293</th>\n",
       "      <td>2016</td>\n",
       "      <td>OTT</td>\n",
       "      <td>KYLE TURRIS</td>\n",
       "      <td>57</td>\n",
       "    </tr>\n",
       "    <tr>\n",
       "      <th>361</th>\n",
       "      <td>2016</td>\n",
       "      <td>TOR</td>\n",
       "      <td>CONNOR BROWN</td>\n",
       "      <td>25</td>\n",
       "    </tr>\n",
       "  </tbody>\n",
       "</table>\n",
       "</div>"
      ],
      "text/plain": [
       "     Season TeamCode           PlayerName  Giveaways\n",
       "167    2016      OTT      DERICK BRASSARD         37\n",
       "234    2016      OTT  JEAN-GABRIEL PAGEAU         27\n",
       "283    2016      TOR        MORGAN RIELLY         76\n",
       "293    2016      OTT          KYLE TURRIS         57\n",
       "361    2016      TOR         CONNOR BROWN         25"
      ]
     },
     "execution_count": 109,
     "metadata": {},
     "output_type": "execute_result"
    }
   ],
   "source": [
    "dgive = dgive.drop_duplicates(['Season', 'GameNumber', 'TeamCode', 'PlayerName'])\n",
    "dgive = dgive.drop_duplicates(['Season', 'TeamCode', 'PlayerName'])\n",
    "dgive = dgive[['Season', 'TeamCode', 'PlayerName', 'Giveaways']]\n",
    "dgive.head()"
   ]
  },
  {
   "cell_type": "code",
   "execution_count": 110,
   "metadata": {
    "collapsed": false
   },
   "outputs": [
    {
     "data": {
      "text/plain": [
       "Season        0\n",
       "TeamCode      0\n",
       "PlayerName    0\n",
       "Giveaways     0\n",
       "dtype: int64"
      ]
     },
     "execution_count": 110,
     "metadata": {},
     "output_type": "execute_result"
    }
   ],
   "source": [
    "dgive.isnull().sum()"
   ]
  },
  {
   "cell_type": "code",
   "execution_count": 111,
   "metadata": {
    "collapsed": false
   },
   "outputs": [
    {
     "data": {
      "text/plain": [
       "(940, 4)"
      ]
     },
     "execution_count": 111,
     "metadata": {},
     "output_type": "execute_result"
    }
   ],
   "source": [
    "dgive.shape"
   ]
  },
  {
   "cell_type": "markdown",
   "metadata": {},
   "source": [
    "### import 2016 player shifts"
   ]
  },
  {
   "cell_type": "code",
   "execution_count": 112,
   "metadata": {
    "collapsed": true
   },
   "outputs": [],
   "source": [
    "dshift = pd.read_csv('/Users/stefanostselios/Brock University/Kevin Mongeon - StephanosShare/data/nhl_shifts20162017.csv')\n",
    "#dshift = pd.read_csv('/Users/kevinmongeon/Brock University/Steve Tselios - StephanosShare/data/nhl_shifts20162017.csv')\n",
    "dshift = dshift.drop('Unnamed: 0', axis=1)"
   ]
  },
  {
   "cell_type": "markdown",
   "metadata": {},
   "source": [
    "- rename variables, keep only regular season games and create a season variable."
   ]
  },
  {
   "cell_type": "code",
   "execution_count": 113,
   "metadata": {
    "collapsed": false
   },
   "outputs": [
    {
     "data": {
      "text/html": [
       "<div>\n",
       "<table border=\"1\" class=\"dataframe\">\n",
       "  <thead>\n",
       "    <tr style=\"text-align: right;\">\n",
       "      <th></th>\n",
       "      <th>Season</th>\n",
       "      <th>Date</th>\n",
       "      <th>GameNumber</th>\n",
       "      <th>Period</th>\n",
       "      <th>TeamCode</th>\n",
       "      <th>PlayerName</th>\n",
       "      <th>Player_Id</th>\n",
       "      <th>Start</th>\n",
       "      <th>End</th>\n",
       "      <th>Duration</th>\n",
       "    </tr>\n",
       "  </thead>\n",
       "  <tbody>\n",
       "    <tr>\n",
       "      <th>0</th>\n",
       "      <td>2016</td>\n",
       "      <td>2016-10-12</td>\n",
       "      <td>20001</td>\n",
       "      <td>1</td>\n",
       "      <td>TOR</td>\n",
       "      <td>MARTIN MARINCIN</td>\n",
       "      <td>8475716</td>\n",
       "      <td>0.0</td>\n",
       "      <td>24.0</td>\n",
       "      <td>24.0</td>\n",
       "    </tr>\n",
       "    <tr>\n",
       "      <th>1</th>\n",
       "      <td>2016</td>\n",
       "      <td>2016-10-12</td>\n",
       "      <td>20001</td>\n",
       "      <td>1</td>\n",
       "      <td>TOR</td>\n",
       "      <td>MILAN MICHALEK</td>\n",
       "      <td>8470599</td>\n",
       "      <td>0.0</td>\n",
       "      <td>24.0</td>\n",
       "      <td>24.0</td>\n",
       "    </tr>\n",
       "    <tr>\n",
       "      <th>2</th>\n",
       "      <td>2016</td>\n",
       "      <td>2016-10-12</td>\n",
       "      <td>20001</td>\n",
       "      <td>1</td>\n",
       "      <td>TOR</td>\n",
       "      <td>MORGAN RIELLY</td>\n",
       "      <td>8476853</td>\n",
       "      <td>0.0</td>\n",
       "      <td>24.0</td>\n",
       "      <td>24.0</td>\n",
       "    </tr>\n",
       "    <tr>\n",
       "      <th>3</th>\n",
       "      <td>2016</td>\n",
       "      <td>2016-10-12</td>\n",
       "      <td>20001</td>\n",
       "      <td>1</td>\n",
       "      <td>TOR</td>\n",
       "      <td>NAZEM KADRI</td>\n",
       "      <td>8475172</td>\n",
       "      <td>0.0</td>\n",
       "      <td>24.0</td>\n",
       "      <td>24.0</td>\n",
       "    </tr>\n",
       "    <tr>\n",
       "      <th>4</th>\n",
       "      <td>2016</td>\n",
       "      <td>2016-10-12</td>\n",
       "      <td>20001</td>\n",
       "      <td>1</td>\n",
       "      <td>OTT</td>\n",
       "      <td>BOBBY RYAN</td>\n",
       "      <td>8471676</td>\n",
       "      <td>0.0</td>\n",
       "      <td>32.0</td>\n",
       "      <td>32.0</td>\n",
       "    </tr>\n",
       "  </tbody>\n",
       "</table>\n",
       "</div>"
      ],
      "text/plain": [
       "   Season        Date  GameNumber  Period TeamCode       PlayerName  \\\n",
       "0    2016  2016-10-12       20001       1      TOR  MARTIN MARINCIN   \n",
       "1    2016  2016-10-12       20001       1      TOR   MILAN MICHALEK   \n",
       "2    2016  2016-10-12       20001       1      TOR    MORGAN RIELLY   \n",
       "3    2016  2016-10-12       20001       1      TOR      NAZEM KADRI   \n",
       "4    2016  2016-10-12       20001       1      OTT       BOBBY RYAN   \n",
       "\n",
       "   Player_Id  Start   End  Duration  \n",
       "0    8475716    0.0  24.0      24.0  \n",
       "1    8470599    0.0  24.0      24.0  \n",
       "2    8476853    0.0  24.0      24.0  \n",
       "3    8475172    0.0  24.0      24.0  \n",
       "4    8471676    0.0  32.0      32.0  "
      ]
     },
     "execution_count": 113,
     "metadata": {},
     "output_type": "execute_result"
    }
   ],
   "source": [
    "dshift['Season'] = 2016\n",
    "dshift= dshift.rename(columns={ 'Game_Id' : 'GameNumber', 'Team': 'TeamCode', 'Player': 'PlayerName' })\n",
    "dshift = dshift[dshift['GameNumber'] <= 21230]\n",
    "dshift = dshift[['Season', 'Date', 'GameNumber', 'Period', 'TeamCode', 'PlayerName', 'Player_Id', 'Start', 'End', 'Duration']]\n",
    "dshift.head()"
   ]
  },
  {
   "cell_type": "markdown",
   "metadata": {},
   "source": [
    "- calcuate the seconds an individual played per game. Convert seconds to minutes and drop duplicates per season, game number, team and player."
   ]
  },
  {
   "cell_type": "code",
   "execution_count": 114,
   "metadata": {
    "collapsed": true
   },
   "outputs": [],
   "source": [
    "dshift['Seconds'] = dshift.groupby(['Season', 'GameNumber', 'TeamCode', 'PlayerName'])['Duration'].transform('sum')\n",
    "dshift['Minutes'] = dshift['Seconds']/60\n",
    "dshift['Minutes'] = dshift['Minutes'].round(2)"
   ]
  },
  {
   "cell_type": "code",
   "execution_count": 115,
   "metadata": {
    "collapsed": true
   },
   "outputs": [],
   "source": [
    "dshift = dshift.drop_duplicates(['Season', 'GameNumber', 'TeamCode', 'PlayerName'])"
   ]
  },
  {
   "cell_type": "code",
   "execution_count": 116,
   "metadata": {
    "collapsed": false
   },
   "outputs": [
    {
     "data": {
      "text/html": [
       "<div>\n",
       "<table border=\"1\" class=\"dataframe\">\n",
       "  <thead>\n",
       "    <tr style=\"text-align: right;\">\n",
       "      <th></th>\n",
       "      <th>Season</th>\n",
       "      <th>Date</th>\n",
       "      <th>GameNumber</th>\n",
       "      <th>Period</th>\n",
       "      <th>TeamCode</th>\n",
       "      <th>PlayerName</th>\n",
       "      <th>Player_Id</th>\n",
       "      <th>Start</th>\n",
       "      <th>End</th>\n",
       "      <th>Duration</th>\n",
       "      <th>Seconds</th>\n",
       "      <th>Minutes</th>\n",
       "    </tr>\n",
       "  </thead>\n",
       "  <tbody>\n",
       "    <tr>\n",
       "      <th>0</th>\n",
       "      <td>2016</td>\n",
       "      <td>2016-10-12</td>\n",
       "      <td>20001</td>\n",
       "      <td>1</td>\n",
       "      <td>TOR</td>\n",
       "      <td>MARTIN MARINCIN</td>\n",
       "      <td>8475716</td>\n",
       "      <td>0.0</td>\n",
       "      <td>24.0</td>\n",
       "      <td>24.0</td>\n",
       "      <td>1200.0</td>\n",
       "      <td>20.00</td>\n",
       "    </tr>\n",
       "    <tr>\n",
       "      <th>1</th>\n",
       "      <td>2016</td>\n",
       "      <td>2016-10-12</td>\n",
       "      <td>20001</td>\n",
       "      <td>1</td>\n",
       "      <td>TOR</td>\n",
       "      <td>MILAN MICHALEK</td>\n",
       "      <td>8470599</td>\n",
       "      <td>0.0</td>\n",
       "      <td>24.0</td>\n",
       "      <td>24.0</td>\n",
       "      <td>761.0</td>\n",
       "      <td>12.68</td>\n",
       "    </tr>\n",
       "    <tr>\n",
       "      <th>2</th>\n",
       "      <td>2016</td>\n",
       "      <td>2016-10-12</td>\n",
       "      <td>20001</td>\n",
       "      <td>1</td>\n",
       "      <td>TOR</td>\n",
       "      <td>MORGAN RIELLY</td>\n",
       "      <td>8476853</td>\n",
       "      <td>0.0</td>\n",
       "      <td>24.0</td>\n",
       "      <td>24.0</td>\n",
       "      <td>1545.0</td>\n",
       "      <td>25.75</td>\n",
       "    </tr>\n",
       "    <tr>\n",
       "      <th>3</th>\n",
       "      <td>2016</td>\n",
       "      <td>2016-10-12</td>\n",
       "      <td>20001</td>\n",
       "      <td>1</td>\n",
       "      <td>TOR</td>\n",
       "      <td>NAZEM KADRI</td>\n",
       "      <td>8475172</td>\n",
       "      <td>0.0</td>\n",
       "      <td>24.0</td>\n",
       "      <td>24.0</td>\n",
       "      <td>1037.0</td>\n",
       "      <td>17.28</td>\n",
       "    </tr>\n",
       "    <tr>\n",
       "      <th>4</th>\n",
       "      <td>2016</td>\n",
       "      <td>2016-10-12</td>\n",
       "      <td>20001</td>\n",
       "      <td>1</td>\n",
       "      <td>OTT</td>\n",
       "      <td>BOBBY RYAN</td>\n",
       "      <td>8471676</td>\n",
       "      <td>0.0</td>\n",
       "      <td>32.0</td>\n",
       "      <td>32.0</td>\n",
       "      <td>870.0</td>\n",
       "      <td>14.50</td>\n",
       "    </tr>\n",
       "  </tbody>\n",
       "</table>\n",
       "</div>"
      ],
      "text/plain": [
       "   Season        Date  GameNumber  Period TeamCode       PlayerName  \\\n",
       "0    2016  2016-10-12       20001       1      TOR  MARTIN MARINCIN   \n",
       "1    2016  2016-10-12       20001       1      TOR   MILAN MICHALEK   \n",
       "2    2016  2016-10-12       20001       1      TOR    MORGAN RIELLY   \n",
       "3    2016  2016-10-12       20001       1      TOR      NAZEM KADRI   \n",
       "4    2016  2016-10-12       20001       1      OTT       BOBBY RYAN   \n",
       "\n",
       "   Player_Id  Start   End  Duration  Seconds  Minutes  \n",
       "0    8475716    0.0  24.0      24.0   1200.0    20.00  \n",
       "1    8470599    0.0  24.0      24.0    761.0    12.68  \n",
       "2    8476853    0.0  24.0      24.0   1545.0    25.75  \n",
       "3    8475172    0.0  24.0      24.0   1037.0    17.28  \n",
       "4    8471676    0.0  32.0      32.0    870.0    14.50  "
      ]
     },
     "execution_count": 116,
     "metadata": {},
     "output_type": "execute_result"
    }
   ],
   "source": [
    "dshift.head()"
   ]
  },
  {
   "cell_type": "markdown",
   "metadata": {},
   "source": [
    "- calcuate the seconds an individual played for the whole regular season. Convert seconds to minutes and drop duplicates per season, game number, team and player."
   ]
  },
  {
   "cell_type": "code",
   "execution_count": 117,
   "metadata": {
    "collapsed": false
   },
   "outputs": [
    {
     "data": {
      "text/html": [
       "<div>\n",
       "<table border=\"1\" class=\"dataframe\">\n",
       "  <thead>\n",
       "    <tr style=\"text-align: right;\">\n",
       "      <th></th>\n",
       "      <th>Season</th>\n",
       "      <th>Date</th>\n",
       "      <th>GameNumber</th>\n",
       "      <th>Period</th>\n",
       "      <th>TeamCode</th>\n",
       "      <th>PlayerName</th>\n",
       "      <th>Player_Id</th>\n",
       "      <th>Start</th>\n",
       "      <th>End</th>\n",
       "      <th>Duration</th>\n",
       "      <th>Seconds</th>\n",
       "      <th>Minutes</th>\n",
       "      <th>TSeconds</th>\n",
       "      <th>TOI</th>\n",
       "    </tr>\n",
       "  </thead>\n",
       "  <tbody>\n",
       "    <tr>\n",
       "      <th>0</th>\n",
       "      <td>2016</td>\n",
       "      <td>2016-10-12</td>\n",
       "      <td>20001</td>\n",
       "      <td>1</td>\n",
       "      <td>TOR</td>\n",
       "      <td>MARTIN MARINCIN</td>\n",
       "      <td>8475716</td>\n",
       "      <td>0.0</td>\n",
       "      <td>24.0</td>\n",
       "      <td>24.0</td>\n",
       "      <td>1200.0</td>\n",
       "      <td>20.00</td>\n",
       "      <td>27071.0</td>\n",
       "      <td>451.0</td>\n",
       "    </tr>\n",
       "    <tr>\n",
       "      <th>1</th>\n",
       "      <td>2016</td>\n",
       "      <td>2016-10-12</td>\n",
       "      <td>20001</td>\n",
       "      <td>1</td>\n",
       "      <td>TOR</td>\n",
       "      <td>MILAN MICHALEK</td>\n",
       "      <td>8470599</td>\n",
       "      <td>0.0</td>\n",
       "      <td>24.0</td>\n",
       "      <td>24.0</td>\n",
       "      <td>761.0</td>\n",
       "      <td>12.68</td>\n",
       "      <td>4281.0</td>\n",
       "      <td>71.0</td>\n",
       "    </tr>\n",
       "    <tr>\n",
       "      <th>2</th>\n",
       "      <td>2016</td>\n",
       "      <td>2016-10-12</td>\n",
       "      <td>20001</td>\n",
       "      <td>1</td>\n",
       "      <td>TOR</td>\n",
       "      <td>MORGAN RIELLY</td>\n",
       "      <td>8476853</td>\n",
       "      <td>0.0</td>\n",
       "      <td>24.0</td>\n",
       "      <td>24.0</td>\n",
       "      <td>1545.0</td>\n",
       "      <td>25.75</td>\n",
       "      <td>101089.0</td>\n",
       "      <td>1685.0</td>\n",
       "    </tr>\n",
       "    <tr>\n",
       "      <th>3</th>\n",
       "      <td>2016</td>\n",
       "      <td>2016-10-12</td>\n",
       "      <td>20001</td>\n",
       "      <td>1</td>\n",
       "      <td>TOR</td>\n",
       "      <td>NAZEM KADRI</td>\n",
       "      <td>8475172</td>\n",
       "      <td>0.0</td>\n",
       "      <td>24.0</td>\n",
       "      <td>24.0</td>\n",
       "      <td>1037.0</td>\n",
       "      <td>17.28</td>\n",
       "      <td>81570.0</td>\n",
       "      <td>1360.0</td>\n",
       "    </tr>\n",
       "    <tr>\n",
       "      <th>4</th>\n",
       "      <td>2016</td>\n",
       "      <td>2016-10-12</td>\n",
       "      <td>20001</td>\n",
       "      <td>1</td>\n",
       "      <td>OTT</td>\n",
       "      <td>BOBBY RYAN</td>\n",
       "      <td>8471676</td>\n",
       "      <td>0.0</td>\n",
       "      <td>32.0</td>\n",
       "      <td>32.0</td>\n",
       "      <td>870.0</td>\n",
       "      <td>14.50</td>\n",
       "      <td>57801.0</td>\n",
       "      <td>963.0</td>\n",
       "    </tr>\n",
       "  </tbody>\n",
       "</table>\n",
       "</div>"
      ],
      "text/plain": [
       "   Season        Date  GameNumber  Period TeamCode       PlayerName  \\\n",
       "0    2016  2016-10-12       20001       1      TOR  MARTIN MARINCIN   \n",
       "1    2016  2016-10-12       20001       1      TOR   MILAN MICHALEK   \n",
       "2    2016  2016-10-12       20001       1      TOR    MORGAN RIELLY   \n",
       "3    2016  2016-10-12       20001       1      TOR      NAZEM KADRI   \n",
       "4    2016  2016-10-12       20001       1      OTT       BOBBY RYAN   \n",
       "\n",
       "   Player_Id  Start   End  Duration  Seconds  Minutes  TSeconds     TOI  \n",
       "0    8475716    0.0  24.0      24.0   1200.0    20.00   27071.0   451.0  \n",
       "1    8470599    0.0  24.0      24.0    761.0    12.68    4281.0    71.0  \n",
       "2    8476853    0.0  24.0      24.0   1545.0    25.75  101089.0  1685.0  \n",
       "3    8475172    0.0  24.0      24.0   1037.0    17.28   81570.0  1360.0  \n",
       "4    8471676    0.0  32.0      32.0    870.0    14.50   57801.0   963.0  "
      ]
     },
     "execution_count": 117,
     "metadata": {},
     "output_type": "execute_result"
    }
   ],
   "source": [
    "dshift['TSeconds'] = dshift.groupby(['Season', 'TeamCode', 'PlayerName'])['Seconds'].transform('sum')\n",
    "dshift['TOI'] = dshift['TSeconds']/60\n",
    "dshift['TOI'] = dshift['TOI'].round(0)\n",
    "dshift.head()"
   ]
  },
  {
   "cell_type": "markdown",
   "metadata": {},
   "source": [
    "- keep only observation per player for the season"
   ]
  },
  {
   "cell_type": "code",
   "execution_count": 118,
   "metadata": {
    "collapsed": false
   },
   "outputs": [
    {
     "data": {
      "text/html": [
       "<div>\n",
       "<table border=\"1\" class=\"dataframe\">\n",
       "  <thead>\n",
       "    <tr style=\"text-align: right;\">\n",
       "      <th></th>\n",
       "      <th>Season</th>\n",
       "      <th>TeamCode</th>\n",
       "      <th>PlayerName</th>\n",
       "      <th>TOI</th>\n",
       "    </tr>\n",
       "  </thead>\n",
       "  <tbody>\n",
       "    <tr>\n",
       "      <th>0</th>\n",
       "      <td>2016</td>\n",
       "      <td>TOR</td>\n",
       "      <td>MARTIN MARINCIN</td>\n",
       "      <td>451.0</td>\n",
       "    </tr>\n",
       "    <tr>\n",
       "      <th>1</th>\n",
       "      <td>2016</td>\n",
       "      <td>TOR</td>\n",
       "      <td>MILAN MICHALEK</td>\n",
       "      <td>71.0</td>\n",
       "    </tr>\n",
       "    <tr>\n",
       "      <th>2</th>\n",
       "      <td>2016</td>\n",
       "      <td>TOR</td>\n",
       "      <td>MORGAN RIELLY</td>\n",
       "      <td>1685.0</td>\n",
       "    </tr>\n",
       "    <tr>\n",
       "      <th>3</th>\n",
       "      <td>2016</td>\n",
       "      <td>TOR</td>\n",
       "      <td>NAZEM KADRI</td>\n",
       "      <td>1360.0</td>\n",
       "    </tr>\n",
       "    <tr>\n",
       "      <th>4</th>\n",
       "      <td>2016</td>\n",
       "      <td>OTT</td>\n",
       "      <td>BOBBY RYAN</td>\n",
       "      <td>963.0</td>\n",
       "    </tr>\n",
       "  </tbody>\n",
       "</table>\n",
       "</div>"
      ],
      "text/plain": [
       "   Season TeamCode       PlayerName     TOI\n",
       "0    2016      TOR  MARTIN MARINCIN   451.0\n",
       "1    2016      TOR   MILAN MICHALEK    71.0\n",
       "2    2016      TOR    MORGAN RIELLY  1685.0\n",
       "3    2016      TOR      NAZEM KADRI  1360.0\n",
       "4    2016      OTT       BOBBY RYAN   963.0"
      ]
     },
     "execution_count": 118,
     "metadata": {},
     "output_type": "execute_result"
    }
   ],
   "source": [
    "dshift = dshift.drop_duplicates(['Season', 'TeamCode', 'PlayerName'])\n",
    "dshift = dshift[['Season', 'TeamCode', 'PlayerName', 'TOI']]\n",
    "dshift.head()"
   ]
  },
  {
   "cell_type": "code",
   "execution_count": 119,
   "metadata": {
    "collapsed": false
   },
   "outputs": [
    {
     "data": {
      "text/plain": [
       "Season        0\n",
       "TeamCode      0\n",
       "PlayerName    0\n",
       "TOI           0\n",
       "dtype: int64"
      ]
     },
     "execution_count": 119,
     "metadata": {},
     "output_type": "execute_result"
    }
   ],
   "source": [
    "dshift.isnull().sum()"
   ]
  },
  {
   "cell_type": "code",
   "execution_count": 120,
   "metadata": {
    "collapsed": false
   },
   "outputs": [
    {
     "data": {
      "text/plain": [
       "(1050, 4)"
      ]
     },
     "execution_count": 120,
     "metadata": {},
     "output_type": "execute_result"
    }
   ],
   "source": [
    "dshift.shape"
   ]
  },
  {
   "cell_type": "markdown",
   "metadata": {},
   "source": [
    "### import 2016 player positions"
   ]
  },
  {
   "cell_type": "code",
   "execution_count": 151,
   "metadata": {
    "collapsed": false
   },
   "outputs": [],
   "source": [
    "dpos = pd.read_csv('/Users/stefanostselios/Brock University/Kevin Mongeon - StephanosShare/data/nhl_positions20162017.csv')\n",
    "#dpos = pd.read_csv('/Users/kevinmongeon/Brock University/Steve Tselios - StephanosShare/data/nhl_positions20162017.csv')"
   ]
  },
  {
   "cell_type": "code",
   "execution_count": 152,
   "metadata": {
    "collapsed": false
   },
   "outputs": [
    {
     "data": {
      "text/html": [
       "<div>\n",
       "<table border=\"1\" class=\"dataframe\">\n",
       "  <thead>\n",
       "    <tr style=\"text-align: right;\">\n",
       "      <th></th>\n",
       "      <th>Last Name</th>\n",
       "      <th>First Name</th>\n",
       "      <th>Position</th>\n",
       "      <th>Team</th>\n",
       "      <th>FName</th>\n",
       "      <th>LName</th>\n",
       "      <th>PlayerName</th>\n",
       "    </tr>\n",
       "  </thead>\n",
       "  <tbody>\n",
       "    <tr>\n",
       "      <th>0</th>\n",
       "      <td>Abbott</td>\n",
       "      <td>Spencer</td>\n",
       "      <td>LW</td>\n",
       "      <td>CHI</td>\n",
       "      <td>SPENCER</td>\n",
       "      <td>ABBOTT</td>\n",
       "      <td>SPENCER ABBOTT</td>\n",
       "    </tr>\n",
       "    <tr>\n",
       "      <th>1</th>\n",
       "      <td>Abdelkader</td>\n",
       "      <td>Justin</td>\n",
       "      <td>LW/RW</td>\n",
       "      <td>DET</td>\n",
       "      <td>JUSTIN</td>\n",
       "      <td>ABDELKADER</td>\n",
       "      <td>JUSTIN ABDELKADER</td>\n",
       "    </tr>\n",
       "    <tr>\n",
       "      <th>2</th>\n",
       "      <td>Aberg</td>\n",
       "      <td>Pontus</td>\n",
       "      <td>LW</td>\n",
       "      <td>NSH</td>\n",
       "      <td>PONTUS</td>\n",
       "      <td>ABERG</td>\n",
       "      <td>PONTUS ABERG</td>\n",
       "    </tr>\n",
       "    <tr>\n",
       "      <th>3</th>\n",
       "      <td>Acciari</td>\n",
       "      <td>Noel</td>\n",
       "      <td>C</td>\n",
       "      <td>BOS</td>\n",
       "      <td>NOEL</td>\n",
       "      <td>ACCIARI</td>\n",
       "      <td>NOEL ACCIARI</td>\n",
       "    </tr>\n",
       "    <tr>\n",
       "      <th>4</th>\n",
       "      <td>Agostino</td>\n",
       "      <td>Kenny</td>\n",
       "      <td>LW</td>\n",
       "      <td>STL</td>\n",
       "      <td>KENNY</td>\n",
       "      <td>AGOSTINO</td>\n",
       "      <td>KENNY AGOSTINO</td>\n",
       "    </tr>\n",
       "  </tbody>\n",
       "</table>\n",
       "</div>"
      ],
      "text/plain": [
       "    Last Name First Name Position Team    FName       LName         PlayerName\n",
       "0      Abbott    Spencer       LW  CHI  SPENCER      ABBOTT     SPENCER ABBOTT\n",
       "1  Abdelkader     Justin    LW/RW  DET   JUSTIN  ABDELKADER  JUSTIN ABDELKADER\n",
       "2       Aberg     Pontus       LW  NSH   PONTUS       ABERG       PONTUS ABERG\n",
       "3     Acciari       Noel        C  BOS     NOEL     ACCIARI       NOEL ACCIARI\n",
       "4    Agostino      Kenny       LW  STL    KENNY    AGOSTINO     KENNY AGOSTINO"
      ]
     },
     "execution_count": 152,
     "metadata": {},
     "output_type": "execute_result"
    }
   ],
   "source": [
    "dpos.head()"
   ]
  },
  {
   "cell_type": "code",
   "execution_count": 153,
   "metadata": {
    "collapsed": false
   },
   "outputs": [
    {
     "data": {
      "text/html": [
       "<div>\n",
       "<table border=\"1\" class=\"dataframe\">\n",
       "  <thead>\n",
       "    <tr style=\"text-align: right;\">\n",
       "      <th></th>\n",
       "      <th>Season</th>\n",
       "      <th>TeamCode</th>\n",
       "      <th>PlayerName</th>\n",
       "      <th>Position</th>\n",
       "    </tr>\n",
       "  </thead>\n",
       "  <tbody>\n",
       "    <tr>\n",
       "      <th>0</th>\n",
       "      <td>2016</td>\n",
       "      <td>CHI</td>\n",
       "      <td>SPENCER ABBOTT</td>\n",
       "      <td>LW</td>\n",
       "    </tr>\n",
       "    <tr>\n",
       "      <th>1</th>\n",
       "      <td>2016</td>\n",
       "      <td>DET</td>\n",
       "      <td>JUSTIN ABDELKADER</td>\n",
       "      <td>LW/RW</td>\n",
       "    </tr>\n",
       "    <tr>\n",
       "      <th>2</th>\n",
       "      <td>2016</td>\n",
       "      <td>NSH</td>\n",
       "      <td>PONTUS ABERG</td>\n",
       "      <td>LW</td>\n",
       "    </tr>\n",
       "    <tr>\n",
       "      <th>3</th>\n",
       "      <td>2016</td>\n",
       "      <td>BOS</td>\n",
       "      <td>NOEL ACCIARI</td>\n",
       "      <td>C</td>\n",
       "    </tr>\n",
       "    <tr>\n",
       "      <th>4</th>\n",
       "      <td>2016</td>\n",
       "      <td>STL</td>\n",
       "      <td>KENNY AGOSTINO</td>\n",
       "      <td>LW</td>\n",
       "    </tr>\n",
       "  </tbody>\n",
       "</table>\n",
       "</div>"
      ],
      "text/plain": [
       "   Season TeamCode         PlayerName Position\n",
       "0    2016      CHI     SPENCER ABBOTT       LW\n",
       "1    2016      DET  JUSTIN ABDELKADER    LW/RW\n",
       "2    2016      NSH       PONTUS ABERG       LW\n",
       "3    2016      BOS       NOEL ACCIARI        C\n",
       "4    2016      STL     KENNY AGOSTINO       LW"
      ]
     },
     "execution_count": 153,
     "metadata": {},
     "output_type": "execute_result"
    }
   ],
   "source": [
    "dpos['Season'] = 2016\n",
    "dpos= dpos.rename(columns={ 'Team': 'TeamCode'})\n",
    "dpos = dpos[['Season', 'TeamCode', 'PlayerName', 'Position']]\n",
    "dpos.head()"
   ]
  },
  {
   "cell_type": "code",
   "execution_count": 154,
   "metadata": {
    "collapsed": false
   },
   "outputs": [
    {
     "data": {
      "text/plain": [
       "Season         int64\n",
       "TeamCode      object\n",
       "PlayerName    object\n",
       "Position      object\n",
       "dtype: object"
      ]
     },
     "execution_count": 154,
     "metadata": {},
     "output_type": "execute_result"
    }
   ],
   "source": [
    "dpos.dtypes"
   ]
  },
  {
   "cell_type": "code",
   "execution_count": 155,
   "metadata": {
    "collapsed": false
   },
   "outputs": [
    {
     "data": {
      "text/plain": [
       "W    329\n",
       "D    299\n",
       "C    260\n",
       "G     95\n",
       "Name: Position, dtype: int64"
      ]
     },
     "execution_count": 155,
     "metadata": {},
     "output_type": "execute_result"
    }
   ],
   "source": [
    "dpos['Position'] = dpos.apply(lambda x: 'C' if x['Position'] == 'C/LW' else 'C' if x['Position'] == 'C/RW' else 'C' if x['Position'] == 'C/RW/LW' else 'C' if x['Position'] == 'C/LW/RW' else 'W' if x['Position'] == 'RW' else 'W' if x['Position'] == 'LW' else 'W' if x['Position'] == 'LW/C' else 'W' if x['Position'] == 'RW/C' else 'W' if x['Position'] == 'RW/LW' else 'W' if x['Position'] == 'LW/RW' else 'W' if x['Position'] == 'RW/LW/C' else 'W' if x['Position'] == 'RW/C/LW' else 'W' if x['Position'] == 'RW/C/LW' else 'W' if x['Position'] == 'LW/D' else 'W' if x['Position'] == 'LW/C/RW' else 'W' if x['Position'] == 'LW/RW/C' else 'D' if x['Position'] == 'D/LW' else 'D' if x['Position'] == 'D/RW' else 'C' if x['Position'] == 'C/D' else 'W' if x['Position'] == 'RW/D' else 'C' if x['Position'] == 'C/LW/C' else x['Position'] , axis=1)\n",
    "dpos['Position'].value_counts()"
   ]
  },
  {
   "cell_type": "code",
   "execution_count": 156,
   "metadata": {
    "collapsed": false
   },
   "outputs": [
    {
     "data": {
      "text/html": [
       "<div>\n",
       "<table border=\"1\" class=\"dataframe\">\n",
       "  <thead>\n",
       "    <tr style=\"text-align: right;\">\n",
       "      <th></th>\n",
       "      <th>Season</th>\n",
       "      <th>TeamCode</th>\n",
       "      <th>PlayerName</th>\n",
       "      <th>Position</th>\n",
       "    </tr>\n",
       "  </thead>\n",
       "  <tbody>\n",
       "    <tr>\n",
       "      <th>0</th>\n",
       "      <td>2016</td>\n",
       "      <td>CHI</td>\n",
       "      <td>SPENCER ABBOTT</td>\n",
       "      <td>W</td>\n",
       "    </tr>\n",
       "    <tr>\n",
       "      <th>1</th>\n",
       "      <td>2016</td>\n",
       "      <td>DET</td>\n",
       "      <td>JUSTIN ABDELKADER</td>\n",
       "      <td>W</td>\n",
       "    </tr>\n",
       "    <tr>\n",
       "      <th>2</th>\n",
       "      <td>2016</td>\n",
       "      <td>NSH</td>\n",
       "      <td>PONTUS ABERG</td>\n",
       "      <td>W</td>\n",
       "    </tr>\n",
       "    <tr>\n",
       "      <th>3</th>\n",
       "      <td>2016</td>\n",
       "      <td>BOS</td>\n",
       "      <td>NOEL ACCIARI</td>\n",
       "      <td>C</td>\n",
       "    </tr>\n",
       "    <tr>\n",
       "      <th>4</th>\n",
       "      <td>2016</td>\n",
       "      <td>STL</td>\n",
       "      <td>KENNY AGOSTINO</td>\n",
       "      <td>W</td>\n",
       "    </tr>\n",
       "  </tbody>\n",
       "</table>\n",
       "</div>"
      ],
      "text/plain": [
       "   Season TeamCode         PlayerName Position\n",
       "0    2016      CHI     SPENCER ABBOTT        W\n",
       "1    2016      DET  JUSTIN ABDELKADER        W\n",
       "2    2016      NSH       PONTUS ABERG        W\n",
       "3    2016      BOS       NOEL ACCIARI        C\n",
       "4    2016      STL     KENNY AGOSTINO        W"
      ]
     },
     "execution_count": 156,
     "metadata": {},
     "output_type": "execute_result"
    }
   ],
   "source": [
    "dpos['TeamCode'] = dpos.apply(lambda x: 'L.A' if x['TeamCode'] == 'LAK' else 'N.J' if x['TeamCode'] == 'NJD' else 'S.J' if x['TeamCode'] == 'SJS' else 'T.B' if x['TeamCode'] == 'TBL' else x['TeamCode'] , axis=1)\n",
    "dpos.head()"
   ]
  },
  {
   "cell_type": "code",
   "execution_count": 157,
   "metadata": {
    "collapsed": false
   },
   "outputs": [
    {
     "data": {
      "text/plain": [
       "(984, 4)"
      ]
     },
     "execution_count": 157,
     "metadata": {},
     "output_type": "execute_result"
    }
   ],
   "source": [
    "dpos.shape"
   ]
  },
  {
   "cell_type": "markdown",
   "metadata": {},
   "source": [
    "### merge data frames"
   ]
  },
  {
   "cell_type": "markdown",
   "metadata": {},
   "source": [
    "- merge games played, goals and assists."
   ]
  },
  {
   "cell_type": "code",
   "execution_count": 158,
   "metadata": {
    "collapsed": true
   },
   "outputs": [],
   "source": [
    "dd = pd.merge(s, dpos, on=['Season', 'TeamCode', 'PlayerName'], how='left').merge(dg,on=['Season', 'TeamCode', 'PlayerName'], how = 'left').merge(dast,on=['Season', 'TeamCode', 'PlayerName'], how = 'left')"
   ]
  },
  {
   "cell_type": "markdown",
   "metadata": {},
   "source": [
    "- forward and backward fill players that have been traded during the season. Fill in positions for three players."
   ]
  },
  {
   "cell_type": "code",
   "execution_count": 159,
   "metadata": {
    "collapsed": false
   },
   "outputs": [
    {
     "data": {
      "text/html": [
       "<div>\n",
       "<table border=\"1\" class=\"dataframe\">\n",
       "  <thead>\n",
       "    <tr style=\"text-align: right;\">\n",
       "      <th></th>\n",
       "      <th>Season</th>\n",
       "      <th>TeamCode</th>\n",
       "      <th>PlayerName</th>\n",
       "      <th>GP</th>\n",
       "      <th>Position</th>\n",
       "      <th>Goals</th>\n",
       "      <th>Assists</th>\n",
       "    </tr>\n",
       "  </thead>\n",
       "  <tbody>\n",
       "    <tr>\n",
       "      <th>0</th>\n",
       "      <td>2016</td>\n",
       "      <td>OTT</td>\n",
       "      <td>ZACK SMITH</td>\n",
       "      <td>74</td>\n",
       "      <td>C</td>\n",
       "      <td>16.0</td>\n",
       "      <td>16.0</td>\n",
       "    </tr>\n",
       "    <tr>\n",
       "      <th>1</th>\n",
       "      <td>2016</td>\n",
       "      <td>OTT</td>\n",
       "      <td>DERICK BRASSARD</td>\n",
       "      <td>81</td>\n",
       "      <td>C</td>\n",
       "      <td>14.0</td>\n",
       "      <td>25.0</td>\n",
       "    </tr>\n",
       "    <tr>\n",
       "      <th>2</th>\n",
       "      <td>2016</td>\n",
       "      <td>OTT</td>\n",
       "      <td>BOBBY RYAN</td>\n",
       "      <td>62</td>\n",
       "      <td>W</td>\n",
       "      <td>13.0</td>\n",
       "      <td>12.0</td>\n",
       "    </tr>\n",
       "    <tr>\n",
       "      <th>3</th>\n",
       "      <td>2016</td>\n",
       "      <td>OTT</td>\n",
       "      <td>DION PHANEUF</td>\n",
       "      <td>81</td>\n",
       "      <td>D</td>\n",
       "      <td>9.0</td>\n",
       "      <td>21.0</td>\n",
       "    </tr>\n",
       "    <tr>\n",
       "      <th>4</th>\n",
       "      <td>2016</td>\n",
       "      <td>OTT</td>\n",
       "      <td>CODY CECI</td>\n",
       "      <td>79</td>\n",
       "      <td>D</td>\n",
       "      <td>2.0</td>\n",
       "      <td>15.0</td>\n",
       "    </tr>\n",
       "  </tbody>\n",
       "</table>\n",
       "</div>"
      ],
      "text/plain": [
       "   Season TeamCode       PlayerName  GP Position  Goals  Assists\n",
       "0    2016      OTT       ZACK SMITH  74        C   16.0     16.0\n",
       "1    2016      OTT  DERICK BRASSARD  81        C   14.0     25.0\n",
       "2    2016      OTT       BOBBY RYAN  62        W   13.0     12.0\n",
       "3    2016      OTT     DION PHANEUF  81        D    9.0     21.0\n",
       "4    2016      OTT        CODY CECI  79        D    2.0     15.0"
      ]
     },
     "execution_count": 159,
     "metadata": {},
     "output_type": "execute_result"
    }
   ],
   "source": [
    "dd['Position'] = dd.groupby(['PlayerName'])['Position'].apply(lambda x: x.ffill().bfill())\n",
    "dd.head()"
   ]
  },
  {
   "cell_type": "code",
   "execution_count": 160,
   "metadata": {
    "collapsed": false
   },
   "outputs": [
    {
     "data": {
      "text/plain": [
       "Season          0\n",
       "TeamCode        0\n",
       "PlayerName      0\n",
       "GP              0\n",
       "Position        0\n",
       "Goals         329\n",
       "Assists       233\n",
       "dtype: int64"
      ]
     },
     "execution_count": 160,
     "metadata": {},
     "output_type": "execute_result"
    }
   ],
   "source": [
    "dd.isnull().sum()"
   ]
  },
  {
   "cell_type": "code",
   "execution_count": 161,
   "metadata": {
    "collapsed": false
   },
   "outputs": [
    {
     "data": {
      "text/html": [
       "<div>\n",
       "<table border=\"1\" class=\"dataframe\">\n",
       "  <thead>\n",
       "    <tr style=\"text-align: right;\">\n",
       "      <th></th>\n",
       "      <th>Season</th>\n",
       "      <th>TeamCode</th>\n",
       "      <th>PlayerName</th>\n",
       "      <th>GP</th>\n",
       "      <th>Position</th>\n",
       "      <th>Goals</th>\n",
       "      <th>Assists</th>\n",
       "    </tr>\n",
       "  </thead>\n",
       "  <tbody>\n",
       "  </tbody>\n",
       "</table>\n",
       "</div>"
      ],
      "text/plain": [
       "Empty DataFrame\n",
       "Columns: [Season, TeamCode, PlayerName, GP, Position, Goals, Assists]\n",
       "Index: []"
      ]
     },
     "execution_count": 161,
     "metadata": {},
     "output_type": "execute_result"
    }
   ],
   "source": [
    "fix = dd.copy()\n",
    "fix = fix[fix['Position'].isnull()]\n",
    "fix.head(20)"
   ]
  },
  {
   "cell_type": "markdown",
   "metadata": {},
   "source": [
    "- fill in goals and assists with 0 for players who had no points."
   ]
  },
  {
   "cell_type": "code",
   "execution_count": 162,
   "metadata": {
    "collapsed": false
   },
   "outputs": [
    {
     "data": {
      "text/html": [
       "<div>\n",
       "<table border=\"1\" class=\"dataframe\">\n",
       "  <thead>\n",
       "    <tr style=\"text-align: right;\">\n",
       "      <th></th>\n",
       "      <th>Season</th>\n",
       "      <th>TeamCode</th>\n",
       "      <th>PlayerName</th>\n",
       "      <th>GP</th>\n",
       "      <th>Position</th>\n",
       "      <th>Goals</th>\n",
       "      <th>Assists</th>\n",
       "      <th>Points</th>\n",
       "    </tr>\n",
       "  </thead>\n",
       "  <tbody>\n",
       "    <tr>\n",
       "      <th>0</th>\n",
       "      <td>2016</td>\n",
       "      <td>OTT</td>\n",
       "      <td>ZACK SMITH</td>\n",
       "      <td>74</td>\n",
       "      <td>C</td>\n",
       "      <td>16.0</td>\n",
       "      <td>16.0</td>\n",
       "      <td>32.0</td>\n",
       "    </tr>\n",
       "    <tr>\n",
       "      <th>1</th>\n",
       "      <td>2016</td>\n",
       "      <td>OTT</td>\n",
       "      <td>DERICK BRASSARD</td>\n",
       "      <td>81</td>\n",
       "      <td>C</td>\n",
       "      <td>14.0</td>\n",
       "      <td>25.0</td>\n",
       "      <td>39.0</td>\n",
       "    </tr>\n",
       "    <tr>\n",
       "      <th>2</th>\n",
       "      <td>2016</td>\n",
       "      <td>OTT</td>\n",
       "      <td>BOBBY RYAN</td>\n",
       "      <td>62</td>\n",
       "      <td>W</td>\n",
       "      <td>13.0</td>\n",
       "      <td>12.0</td>\n",
       "      <td>25.0</td>\n",
       "    </tr>\n",
       "    <tr>\n",
       "      <th>3</th>\n",
       "      <td>2016</td>\n",
       "      <td>OTT</td>\n",
       "      <td>DION PHANEUF</td>\n",
       "      <td>81</td>\n",
       "      <td>D</td>\n",
       "      <td>9.0</td>\n",
       "      <td>21.0</td>\n",
       "      <td>30.0</td>\n",
       "    </tr>\n",
       "    <tr>\n",
       "      <th>4</th>\n",
       "      <td>2016</td>\n",
       "      <td>OTT</td>\n",
       "      <td>CODY CECI</td>\n",
       "      <td>79</td>\n",
       "      <td>D</td>\n",
       "      <td>2.0</td>\n",
       "      <td>15.0</td>\n",
       "      <td>17.0</td>\n",
       "    </tr>\n",
       "  </tbody>\n",
       "</table>\n",
       "</div>"
      ],
      "text/plain": [
       "   Season TeamCode       PlayerName  GP Position  Goals  Assists  Points\n",
       "0    2016      OTT       ZACK SMITH  74        C   16.0     16.0    32.0\n",
       "1    2016      OTT  DERICK BRASSARD  81        C   14.0     25.0    39.0\n",
       "2    2016      OTT       BOBBY RYAN  62        W   13.0     12.0    25.0\n",
       "3    2016      OTT     DION PHANEUF  81        D    9.0     21.0    30.0\n",
       "4    2016      OTT        CODY CECI  79        D    2.0     15.0    17.0"
      ]
     },
     "execution_count": 162,
     "metadata": {},
     "output_type": "execute_result"
    }
   ],
   "source": [
    "dd['Goals'] = dd['Goals'].fillna(0)\n",
    "dd['Assists'] = dd['Assists'].fillna(0)\n",
    "dd['Points'] = dd['Goals'] + dd['Assists']\n",
    "dd.head()"
   ]
  },
  {
   "cell_type": "code",
   "execution_count": 163,
   "metadata": {
    "collapsed": false
   },
   "outputs": [
    {
     "data": {
      "text/plain": [
       "Season        0\n",
       "TeamCode      0\n",
       "PlayerName    0\n",
       "GP            0\n",
       "Position      0\n",
       "Goals         0\n",
       "Assists       0\n",
       "Points        0\n",
       "dtype: int64"
      ]
     },
     "execution_count": 163,
     "metadata": {},
     "output_type": "execute_result"
    }
   ],
   "source": [
    "dd.isnull().sum()"
   ]
  },
  {
   "cell_type": "code",
   "execution_count": 164,
   "metadata": {
    "collapsed": false
   },
   "outputs": [
    {
     "data": {
      "text/html": [
       "<div>\n",
       "<table border=\"1\" class=\"dataframe\">\n",
       "  <thead>\n",
       "    <tr style=\"text-align: right;\">\n",
       "      <th></th>\n",
       "      <th>Season</th>\n",
       "      <th>TeamCode</th>\n",
       "      <th>PlayerName</th>\n",
       "      <th>GP</th>\n",
       "      <th>Position</th>\n",
       "      <th>Goals</th>\n",
       "      <th>Assists</th>\n",
       "      <th>Points</th>\n",
       "      <th>GoalsF</th>\n",
       "      <th>GoalsA</th>\n",
       "      <th>EVGoalsF</th>\n",
       "      <th>EVGoalsA</th>\n",
       "      <th>Plus/Minus</th>\n",
       "      <th>Shots</th>\n",
       "      <th>ShotsF</th>\n",
       "      <th>ShotsA</th>\n",
       "      <th>DShots</th>\n",
       "      <th>EVShotsF</th>\n",
       "      <th>EVShotsA</th>\n",
       "      <th>EVDShots</th>\n",
       "      <th>Blocks</th>\n",
       "      <th>Hits</th>\n",
       "      <th>Penalties</th>\n",
       "      <th>Takeaways</th>\n",
       "      <th>Giveaways</th>\n",
       "      <th>Misses</th>\n",
       "      <th>TOI</th>\n",
       "    </tr>\n",
       "  </thead>\n",
       "  <tbody>\n",
       "    <tr>\n",
       "      <th>0</th>\n",
       "      <td>2016</td>\n",
       "      <td>OTT</td>\n",
       "      <td>ZACK SMITH</td>\n",
       "      <td>74</td>\n",
       "      <td>C</td>\n",
       "      <td>16.0</td>\n",
       "      <td>16.0</td>\n",
       "      <td>32.0</td>\n",
       "      <td>45.0</td>\n",
       "      <td>54.0</td>\n",
       "      <td>40.0</td>\n",
       "      <td>34.0</td>\n",
       "      <td>6.0</td>\n",
       "      <td>121.0</td>\n",
       "      <td>615.0</td>\n",
       "      <td>631.0</td>\n",
       "      <td>-16.0</td>\n",
       "      <td>540.0</td>\n",
       "      <td>491.0</td>\n",
       "      <td>49.0</td>\n",
       "      <td>38.0</td>\n",
       "      <td>140.0</td>\n",
       "      <td>61.0</td>\n",
       "      <td>31.0</td>\n",
       "      <td>35.0</td>\n",
       "      <td>56.0</td>\n",
       "      <td>1212.0</td>\n",
       "    </tr>\n",
       "    <tr>\n",
       "      <th>1</th>\n",
       "      <td>2016</td>\n",
       "      <td>OTT</td>\n",
       "      <td>DERICK BRASSARD</td>\n",
       "      <td>81</td>\n",
       "      <td>C</td>\n",
       "      <td>14.0</td>\n",
       "      <td>25.0</td>\n",
       "      <td>39.0</td>\n",
       "      <td>74.0</td>\n",
       "      <td>46.0</td>\n",
       "      <td>56.0</td>\n",
       "      <td>45.0</td>\n",
       "      <td>11.0</td>\n",
       "      <td>179.0</td>\n",
       "      <td>803.0</td>\n",
       "      <td>576.0</td>\n",
       "      <td>227.0</td>\n",
       "      <td>658.0</td>\n",
       "      <td>570.0</td>\n",
       "      <td>88.0</td>\n",
       "      <td>24.0</td>\n",
       "      <td>92.0</td>\n",
       "      <td>24.0</td>\n",
       "      <td>37.0</td>\n",
       "      <td>37.0</td>\n",
       "      <td>70.0</td>\n",
       "      <td>1408.0</td>\n",
       "    </tr>\n",
       "    <tr>\n",
       "      <th>2</th>\n",
       "      <td>2016</td>\n",
       "      <td>OTT</td>\n",
       "      <td>BOBBY RYAN</td>\n",
       "      <td>62</td>\n",
       "      <td>W</td>\n",
       "      <td>13.0</td>\n",
       "      <td>12.0</td>\n",
       "      <td>25.0</td>\n",
       "      <td>49.0</td>\n",
       "      <td>37.0</td>\n",
       "      <td>34.0</td>\n",
       "      <td>37.0</td>\n",
       "      <td>-3.0</td>\n",
       "      <td>98.0</td>\n",
       "      <td>517.0</td>\n",
       "      <td>442.0</td>\n",
       "      <td>75.0</td>\n",
       "      <td>401.0</td>\n",
       "      <td>442.0</td>\n",
       "      <td>-41.0</td>\n",
       "      <td>34.0</td>\n",
       "      <td>108.0</td>\n",
       "      <td>24.0</td>\n",
       "      <td>27.0</td>\n",
       "      <td>27.0</td>\n",
       "      <td>49.0</td>\n",
       "      <td>963.0</td>\n",
       "    </tr>\n",
       "    <tr>\n",
       "      <th>3</th>\n",
       "      <td>2016</td>\n",
       "      <td>OTT</td>\n",
       "      <td>DION PHANEUF</td>\n",
       "      <td>81</td>\n",
       "      <td>D</td>\n",
       "      <td>9.0</td>\n",
       "      <td>21.0</td>\n",
       "      <td>30.0</td>\n",
       "      <td>81.0</td>\n",
       "      <td>89.0</td>\n",
       "      <td>59.0</td>\n",
       "      <td>63.0</td>\n",
       "      <td>-4.0</td>\n",
       "      <td>147.0</td>\n",
       "      <td>906.0</td>\n",
       "      <td>981.0</td>\n",
       "      <td>-75.0</td>\n",
       "      <td>726.0</td>\n",
       "      <td>801.0</td>\n",
       "      <td>-75.0</td>\n",
       "      <td>154.0</td>\n",
       "      <td>132.0</td>\n",
       "      <td>98.0</td>\n",
       "      <td>16.0</td>\n",
       "      <td>54.0</td>\n",
       "      <td>56.0</td>\n",
       "      <td>1866.0</td>\n",
       "    </tr>\n",
       "    <tr>\n",
       "      <th>4</th>\n",
       "      <td>2016</td>\n",
       "      <td>OTT</td>\n",
       "      <td>CODY CECI</td>\n",
       "      <td>79</td>\n",
       "      <td>D</td>\n",
       "      <td>2.0</td>\n",
       "      <td>15.0</td>\n",
       "      <td>17.0</td>\n",
       "      <td>58.0</td>\n",
       "      <td>90.0</td>\n",
       "      <td>54.0</td>\n",
       "      <td>66.0</td>\n",
       "      <td>-12.0</td>\n",
       "      <td>141.0</td>\n",
       "      <td>758.0</td>\n",
       "      <td>1011.0</td>\n",
       "      <td>-253.0</td>\n",
       "      <td>706.0</td>\n",
       "      <td>800.0</td>\n",
       "      <td>-94.0</td>\n",
       "      <td>159.0</td>\n",
       "      <td>111.0</td>\n",
       "      <td>20.0</td>\n",
       "      <td>22.0</td>\n",
       "      <td>74.0</td>\n",
       "      <td>54.0</td>\n",
       "      <td>1833.0</td>\n",
       "    </tr>\n",
       "  </tbody>\n",
       "</table>\n",
       "</div>"
      ],
      "text/plain": [
       "   Season TeamCode       PlayerName  GP Position  Goals  Assists  Points  \\\n",
       "0    2016      OTT       ZACK SMITH  74        C   16.0     16.0    32.0   \n",
       "1    2016      OTT  DERICK BRASSARD  81        C   14.0     25.0    39.0   \n",
       "2    2016      OTT       BOBBY RYAN  62        W   13.0     12.0    25.0   \n",
       "3    2016      OTT     DION PHANEUF  81        D    9.0     21.0    30.0   \n",
       "4    2016      OTT        CODY CECI  79        D    2.0     15.0    17.0   \n",
       "\n",
       "   GoalsF  GoalsA  EVGoalsF  EVGoalsA  Plus/Minus  Shots  ShotsF  ShotsA  \\\n",
       "0    45.0    54.0      40.0      34.0         6.0  121.0   615.0   631.0   \n",
       "1    74.0    46.0      56.0      45.0        11.0  179.0   803.0   576.0   \n",
       "2    49.0    37.0      34.0      37.0        -3.0   98.0   517.0   442.0   \n",
       "3    81.0    89.0      59.0      63.0        -4.0  147.0   906.0   981.0   \n",
       "4    58.0    90.0      54.0      66.0       -12.0  141.0   758.0  1011.0   \n",
       "\n",
       "   DShots  EVShotsF  EVShotsA  EVDShots  Blocks   Hits  Penalties  Takeaways  \\\n",
       "0   -16.0     540.0     491.0      49.0    38.0  140.0       61.0       31.0   \n",
       "1   227.0     658.0     570.0      88.0    24.0   92.0       24.0       37.0   \n",
       "2    75.0     401.0     442.0     -41.0    34.0  108.0       24.0       27.0   \n",
       "3   -75.0     726.0     801.0     -75.0   154.0  132.0       98.0       16.0   \n",
       "4  -253.0     706.0     800.0     -94.0   159.0  111.0       20.0       22.0   \n",
       "\n",
       "   Giveaways  Misses     TOI  \n",
       "0       35.0    56.0  1212.0  \n",
       "1       37.0    70.0  1408.0  \n",
       "2       27.0    49.0   963.0  \n",
       "3       54.0    56.0  1866.0  \n",
       "4       74.0    54.0  1833.0  "
      ]
     },
     "execution_count": 164,
     "metadata": {},
     "output_type": "execute_result"
    }
   ],
   "source": [
    "de = pd.merge(dd, gfa,on=['Season', 'TeamCode', 'PlayerName'], how = 'left').merge(ds,on=['Season', 'TeamCode', 'PlayerName'], how = 'left').merge(sa,on=['Season', 'TeamCode', 'PlayerName'], how = 'left').merge(dbl,on=['Season', 'TeamCode', 'PlayerName'], how = 'left').merge(dhit,on=['Season', 'TeamCode', 'PlayerName'], how = 'left').merge(dp,on=['Season', 'TeamCode', 'PlayerName'], how = 'left').merge(dtake,on=['Season', 'TeamCode', 'PlayerName'], how = 'left').merge(dgive,on=['Season', 'TeamCode', 'PlayerName'], how = 'left').merge(dmiss,on=['Season', 'TeamCode', 'PlayerName'], how = 'left').merge(dshift,on=['Season', 'TeamCode', 'PlayerName'], how = 'left')\n",
    "de.head()"
   ]
  },
  {
   "cell_type": "markdown",
   "metadata": {},
   "source": [
    "- fill in with 0 for all nan values since not all players have been on the ice for a goal for or a goal against. "
   ]
  },
  {
   "cell_type": "code",
   "execution_count": 165,
   "metadata": {
    "collapsed": true
   },
   "outputs": [],
   "source": [
    "de['GoalsF'] = de['GoalsF'].fillna(0)\n",
    "de['GoalsA'] = de['GoalsA'].fillna(0)\n",
    "de['EVGoalsF'] = de['EVGoalsF'].fillna(0)\n",
    "de['EVGoalsA'] = de['EVGoalsA'].fillna(0)\n",
    "de['Plus/Minus'] = de['Plus/Minus'].fillna(0)\n",
    "de['Shots'] = de['Shots'].fillna(0)\n",
    "de['Hits'] = de['Hits'].fillna(0)\n",
    "de['Blocks'] = de['Blocks'].fillna(0)\n",
    "de['Penalties'] = de['Penalties'].fillna(0)\n",
    "de['Giveaways'] = de['Giveaways'].fillna(0)\n",
    "de['Takeaways'] = de['Takeaways'].fillna(0)\n",
    "de['Misses'] = de['Misses'].fillna(0)"
   ]
  },
  {
   "cell_type": "code",
   "execution_count": 166,
   "metadata": {
    "collapsed": false
   },
   "outputs": [
    {
     "data": {
      "text/plain": [
       "Season        0\n",
       "TeamCode      0\n",
       "PlayerName    0\n",
       "GP            0\n",
       "Position      0\n",
       "Goals         0\n",
       "Assists       0\n",
       "Points        0\n",
       "GoalsF        0\n",
       "GoalsA        0\n",
       "EVGoalsF      0\n",
       "EVGoalsA      0\n",
       "Plus/Minus    0\n",
       "Shots         0\n",
       "ShotsF        1\n",
       "ShotsA        1\n",
       "DShots        1\n",
       "EVShotsF      1\n",
       "EVShotsA      1\n",
       "EVDShots      1\n",
       "Blocks        0\n",
       "Hits          0\n",
       "Penalties     0\n",
       "Takeaways     0\n",
       "Giveaways     0\n",
       "Misses        0\n",
       "TOI           0\n",
       "dtype: int64"
      ]
     },
     "execution_count": 166,
     "metadata": {},
     "output_type": "execute_result"
    }
   ],
   "source": [
    "de.isnull().sum()"
   ]
  },
  {
   "cell_type": "markdown",
   "metadata": {},
   "source": [
    "### total player stats for the season"
   ]
  },
  {
   "cell_type": "markdown",
   "metadata": {},
   "source": [
    "- players that have been traded need to be evaluated for their season performance. Group by sesaon and player name to calcute the sum of each stat. "
   ]
  },
  {
   "cell_type": "code",
   "execution_count": 167,
   "metadata": {
    "collapsed": true
   },
   "outputs": [],
   "source": [
    "de['TGP'] = de.groupby(['Season', 'PlayerName'])['GP'].transform('sum')\n",
    "de['TGoals'] = de.groupby(['Season', 'PlayerName'])['Goals'].transform('sum')\n",
    "de['TAssists'] = de.groupby(['Season', 'PlayerName'])['Assists'].transform('sum')\n",
    "de['TPoints'] = de.groupby(['Season', 'PlayerName'])['Points'].transform('sum')\n",
    "de['TGoalsF'] = de.groupby(['Season', 'PlayerName'])['GoalsF'].transform('sum')\n",
    "de['TGoalsA'] = de.groupby(['Season', 'PlayerName'])['GoalsA'].transform('sum')\n",
    "de['TEVGoalsF'] = de.groupby(['Season', 'PlayerName'])['EVGoalsF'].transform('sum')\n",
    "de['TEVGoalsA'] = de.groupby(['Season', 'PlayerName'])['EVGoalsA'].transform('sum')\n",
    "de['TPlus/Minus'] = de.groupby(['Season', 'PlayerName'])['Plus/Minus'].transform('sum')\n",
    "de['TShots'] = de.groupby(['Season', 'PlayerName'])['Shots'].transform('sum')\n",
    "de['TShotsF'] = de.groupby(['Season', 'PlayerName'])['ShotsF'].transform('sum')\n",
    "de['TShotsA'] = de.groupby(['Season', 'PlayerName'])['ShotsA'].transform('sum')\n",
    "de['TDShots'] = de.groupby(['Season', 'PlayerName'])['DShots'].transform('sum')\n",
    "de['TEVShotsF'] = de.groupby(['Season', 'PlayerName'])['EVShotsF'].transform('sum')\n",
    "de['TEVShotsA'] = de.groupby(['Season', 'PlayerName'])['EVShotsA'].transform('sum')\n",
    "de['TEVDShots'] = de.groupby(['Season', 'PlayerName'])['EVDShots'].transform('sum')\n",
    "de['TBlocks'] = de.groupby(['Season', 'PlayerName'])['Blocks'].transform('sum')\n",
    "de['THits'] = de.groupby(['Season', 'PlayerName'])['Hits'].transform('sum')\n",
    "de['TPenalties'] = de.groupby(['Season', 'PlayerName'])['Penalties'].transform('sum')\n",
    "de['TTakeaways'] = de.groupby(['Season', 'PlayerName'])['Takeaways'].transform('sum')\n",
    "de['TGiveaways'] = de.groupby(['Season', 'PlayerName'])['Giveaways'].transform('sum')\n",
    "de['TMisses'] = de.groupby(['Season', 'PlayerName'])['Misses'].transform('sum')\n",
    "de['TTOI'] = de.groupby(['Season', 'PlayerName'])['TOI'].transform('sum')"
   ]
  },
  {
   "cell_type": "markdown",
   "metadata": {},
   "source": [
    "- divide all stats with total time on ice to scale the data for cluster analysis"
   ]
  },
  {
   "cell_type": "code",
   "execution_count": 168,
   "metadata": {
    "collapsed": false
   },
   "outputs": [],
   "source": [
    "de['TOIGoals'] = de['TGoals'] / de['TTOI']\n",
    "de['TOIAssists'] = de['TAssists'] / de['TTOI']\n",
    "de['TOIPoints'] = de['TPoints'] / de['TTOI']\n",
    "de['TOIGoalsF'] = de['TGoalsF'] / de['TTOI']\n",
    "de['TOIGoalsA'] = de['TGoalsA'] / de['TTOI']\n",
    "de['TOIEVGoalsF'] = de['TEVGoalsF'] / de['TTOI']\n",
    "de['TOIEVGoalsA'] = de['TEVGoalsA'] / de['TTOI']\n",
    "de['TOIPlus/Minus'] = de['TPlus/Minus'] / de['TTOI']\n",
    "de['TOIShots'] = de['TShots'] / de['TTOI']\n",
    "de['TOIShotsF'] = de['TShotsF'] / de['TTOI']\n",
    "de['TOIShotsA'] = de['TShotsA'] / de['TTOI']\n",
    "de['TOIDShots'] = de['TDShots'] / de['TTOI']\n",
    "de['TOIEVShotsF'] = de['TEVShotsF'] / de['TTOI']\n",
    "de['TOIEVShotsA'] = de['TEVShotsA'] / de['TTOI']\n",
    "de['TOIEVDShots'] = de['TEVDShots'] / de['TTOI']\n",
    "de['TOIBlocks'] = de['TBlocks'] / de['TTOI']\n",
    "de['TOIHits'] = de['THits'] / de['TTOI']\n",
    "de['TOIPenalties'] = de['TPenalties'] / de['TTOI']\n",
    "de['TOITakeaways'] = de['TTakeaways'] / de['TTOI']\n",
    "de['TOIGiveaways'] = de['TGiveaways'] / de['TTOI']\n",
    "de['TOIMisses'] = de['TMisses'] / de['TTOI']"
   ]
  },
  {
   "cell_type": "markdown",
   "metadata": {},
   "source": [
    "- keep season total variables and scaled variables"
   ]
  },
  {
   "cell_type": "code",
   "execution_count": 169,
   "metadata": {
    "collapsed": false
   },
   "outputs": [
    {
     "data": {
      "text/html": [
       "<div>\n",
       "<table border=\"1\" class=\"dataframe\">\n",
       "  <thead>\n",
       "    <tr style=\"text-align: right;\">\n",
       "      <th></th>\n",
       "      <th>Season</th>\n",
       "      <th>TeamCode</th>\n",
       "      <th>PlayerName</th>\n",
       "      <th>Position</th>\n",
       "      <th>TGP</th>\n",
       "      <th>TGoals</th>\n",
       "      <th>TAssists</th>\n",
       "      <th>TPoints</th>\n",
       "      <th>TGoalsF</th>\n",
       "      <th>TGoalsA</th>\n",
       "      <th>TEVGoalsF</th>\n",
       "      <th>TEVGoalsA</th>\n",
       "      <th>TPlus/Minus</th>\n",
       "      <th>TShots</th>\n",
       "      <th>TShotsF</th>\n",
       "      <th>TShotsA</th>\n",
       "      <th>TDShots</th>\n",
       "      <th>TEVShotsF</th>\n",
       "      <th>TEVShotsA</th>\n",
       "      <th>TEVDShots</th>\n",
       "      <th>TBlocks</th>\n",
       "      <th>THits</th>\n",
       "      <th>TPenalties</th>\n",
       "      <th>TTakeaways</th>\n",
       "      <th>TGiveaways</th>\n",
       "      <th>TMisses</th>\n",
       "      <th>TTOI</th>\n",
       "      <th>TOIGoals</th>\n",
       "      <th>TOIAssists</th>\n",
       "      <th>TOIPoints</th>\n",
       "      <th>TOIGoalsF</th>\n",
       "      <th>TOIGoalsA</th>\n",
       "      <th>TOIEVGoalsF</th>\n",
       "      <th>TOIEVGoalsA</th>\n",
       "      <th>TOIPlus/Minus</th>\n",
       "      <th>TOIShots</th>\n",
       "      <th>TOIShotsF</th>\n",
       "      <th>TOIShotsA</th>\n",
       "      <th>TOIDShots</th>\n",
       "      <th>TOIEVShotsF</th>\n",
       "      <th>TOIEVShotsA</th>\n",
       "      <th>TOIEVDShots</th>\n",
       "      <th>TOIBlocks</th>\n",
       "      <th>TOIHits</th>\n",
       "      <th>TOIPenalties</th>\n",
       "      <th>TOITakeaways</th>\n",
       "      <th>TOIGiveaways</th>\n",
       "      <th>TOIMisses</th>\n",
       "    </tr>\n",
       "  </thead>\n",
       "  <tbody>\n",
       "    <tr>\n",
       "      <th>0</th>\n",
       "      <td>2016</td>\n",
       "      <td>OTT</td>\n",
       "      <td>ZACK SMITH</td>\n",
       "      <td>C</td>\n",
       "      <td>74</td>\n",
       "      <td>16.0</td>\n",
       "      <td>16.0</td>\n",
       "      <td>32.0</td>\n",
       "      <td>45.0</td>\n",
       "      <td>54.0</td>\n",
       "      <td>40.0</td>\n",
       "      <td>34.0</td>\n",
       "      <td>6.0</td>\n",
       "      <td>121.0</td>\n",
       "      <td>615.0</td>\n",
       "      <td>631.0</td>\n",
       "      <td>-16.0</td>\n",
       "      <td>540.0</td>\n",
       "      <td>491.0</td>\n",
       "      <td>49.0</td>\n",
       "      <td>38.0</td>\n",
       "      <td>140.0</td>\n",
       "      <td>61.0</td>\n",
       "      <td>31.0</td>\n",
       "      <td>35.0</td>\n",
       "      <td>56.0</td>\n",
       "      <td>1212.0</td>\n",
       "      <td>0.013201</td>\n",
       "      <td>0.013201</td>\n",
       "      <td>0.026403</td>\n",
       "      <td>0.037129</td>\n",
       "      <td>0.044554</td>\n",
       "      <td>0.033003</td>\n",
       "      <td>0.028053</td>\n",
       "      <td>0.004950</td>\n",
       "      <td>0.099835</td>\n",
       "      <td>0.507426</td>\n",
       "      <td>0.520627</td>\n",
       "      <td>-0.013201</td>\n",
       "      <td>0.445545</td>\n",
       "      <td>0.405116</td>\n",
       "      <td>0.040429</td>\n",
       "      <td>0.031353</td>\n",
       "      <td>0.115512</td>\n",
       "      <td>0.050330</td>\n",
       "      <td>0.025578</td>\n",
       "      <td>0.028878</td>\n",
       "      <td>0.046205</td>\n",
       "    </tr>\n",
       "    <tr>\n",
       "      <th>1</th>\n",
       "      <td>2016</td>\n",
       "      <td>OTT</td>\n",
       "      <td>DERICK BRASSARD</td>\n",
       "      <td>C</td>\n",
       "      <td>81</td>\n",
       "      <td>14.0</td>\n",
       "      <td>25.0</td>\n",
       "      <td>39.0</td>\n",
       "      <td>74.0</td>\n",
       "      <td>46.0</td>\n",
       "      <td>56.0</td>\n",
       "      <td>45.0</td>\n",
       "      <td>11.0</td>\n",
       "      <td>179.0</td>\n",
       "      <td>803.0</td>\n",
       "      <td>576.0</td>\n",
       "      <td>227.0</td>\n",
       "      <td>658.0</td>\n",
       "      <td>570.0</td>\n",
       "      <td>88.0</td>\n",
       "      <td>24.0</td>\n",
       "      <td>92.0</td>\n",
       "      <td>24.0</td>\n",
       "      <td>37.0</td>\n",
       "      <td>37.0</td>\n",
       "      <td>70.0</td>\n",
       "      <td>1408.0</td>\n",
       "      <td>0.009943</td>\n",
       "      <td>0.017756</td>\n",
       "      <td>0.027699</td>\n",
       "      <td>0.052557</td>\n",
       "      <td>0.032670</td>\n",
       "      <td>0.039773</td>\n",
       "      <td>0.031960</td>\n",
       "      <td>0.007812</td>\n",
       "      <td>0.127131</td>\n",
       "      <td>0.570312</td>\n",
       "      <td>0.409091</td>\n",
       "      <td>0.161222</td>\n",
       "      <td>0.467330</td>\n",
       "      <td>0.404830</td>\n",
       "      <td>0.062500</td>\n",
       "      <td>0.017045</td>\n",
       "      <td>0.065341</td>\n",
       "      <td>0.017045</td>\n",
       "      <td>0.026278</td>\n",
       "      <td>0.026278</td>\n",
       "      <td>0.049716</td>\n",
       "    </tr>\n",
       "    <tr>\n",
       "      <th>2</th>\n",
       "      <td>2016</td>\n",
       "      <td>OTT</td>\n",
       "      <td>BOBBY RYAN</td>\n",
       "      <td>W</td>\n",
       "      <td>62</td>\n",
       "      <td>13.0</td>\n",
       "      <td>12.0</td>\n",
       "      <td>25.0</td>\n",
       "      <td>49.0</td>\n",
       "      <td>37.0</td>\n",
       "      <td>34.0</td>\n",
       "      <td>37.0</td>\n",
       "      <td>-3.0</td>\n",
       "      <td>98.0</td>\n",
       "      <td>517.0</td>\n",
       "      <td>442.0</td>\n",
       "      <td>75.0</td>\n",
       "      <td>401.0</td>\n",
       "      <td>442.0</td>\n",
       "      <td>-41.0</td>\n",
       "      <td>34.0</td>\n",
       "      <td>108.0</td>\n",
       "      <td>24.0</td>\n",
       "      <td>27.0</td>\n",
       "      <td>27.0</td>\n",
       "      <td>49.0</td>\n",
       "      <td>963.0</td>\n",
       "      <td>0.013499</td>\n",
       "      <td>0.012461</td>\n",
       "      <td>0.025961</td>\n",
       "      <td>0.050883</td>\n",
       "      <td>0.038422</td>\n",
       "      <td>0.035306</td>\n",
       "      <td>0.038422</td>\n",
       "      <td>-0.003115</td>\n",
       "      <td>0.101765</td>\n",
       "      <td>0.536864</td>\n",
       "      <td>0.458982</td>\n",
       "      <td>0.077882</td>\n",
       "      <td>0.416407</td>\n",
       "      <td>0.458982</td>\n",
       "      <td>-0.042575</td>\n",
       "      <td>0.035306</td>\n",
       "      <td>0.112150</td>\n",
       "      <td>0.024922</td>\n",
       "      <td>0.028037</td>\n",
       "      <td>0.028037</td>\n",
       "      <td>0.050883</td>\n",
       "    </tr>\n",
       "    <tr>\n",
       "      <th>3</th>\n",
       "      <td>2016</td>\n",
       "      <td>OTT</td>\n",
       "      <td>DION PHANEUF</td>\n",
       "      <td>D</td>\n",
       "      <td>81</td>\n",
       "      <td>9.0</td>\n",
       "      <td>21.0</td>\n",
       "      <td>30.0</td>\n",
       "      <td>81.0</td>\n",
       "      <td>89.0</td>\n",
       "      <td>59.0</td>\n",
       "      <td>63.0</td>\n",
       "      <td>-4.0</td>\n",
       "      <td>147.0</td>\n",
       "      <td>906.0</td>\n",
       "      <td>981.0</td>\n",
       "      <td>-75.0</td>\n",
       "      <td>726.0</td>\n",
       "      <td>801.0</td>\n",
       "      <td>-75.0</td>\n",
       "      <td>154.0</td>\n",
       "      <td>132.0</td>\n",
       "      <td>98.0</td>\n",
       "      <td>16.0</td>\n",
       "      <td>54.0</td>\n",
       "      <td>56.0</td>\n",
       "      <td>1866.0</td>\n",
       "      <td>0.004823</td>\n",
       "      <td>0.011254</td>\n",
       "      <td>0.016077</td>\n",
       "      <td>0.043408</td>\n",
       "      <td>0.047696</td>\n",
       "      <td>0.031618</td>\n",
       "      <td>0.033762</td>\n",
       "      <td>-0.002144</td>\n",
       "      <td>0.078778</td>\n",
       "      <td>0.485531</td>\n",
       "      <td>0.525723</td>\n",
       "      <td>-0.040193</td>\n",
       "      <td>0.389068</td>\n",
       "      <td>0.429260</td>\n",
       "      <td>-0.040193</td>\n",
       "      <td>0.082529</td>\n",
       "      <td>0.070740</td>\n",
       "      <td>0.052519</td>\n",
       "      <td>0.008574</td>\n",
       "      <td>0.028939</td>\n",
       "      <td>0.030011</td>\n",
       "    </tr>\n",
       "    <tr>\n",
       "      <th>4</th>\n",
       "      <td>2016</td>\n",
       "      <td>OTT</td>\n",
       "      <td>CODY CECI</td>\n",
       "      <td>D</td>\n",
       "      <td>79</td>\n",
       "      <td>2.0</td>\n",
       "      <td>15.0</td>\n",
       "      <td>17.0</td>\n",
       "      <td>58.0</td>\n",
       "      <td>90.0</td>\n",
       "      <td>54.0</td>\n",
       "      <td>66.0</td>\n",
       "      <td>-12.0</td>\n",
       "      <td>141.0</td>\n",
       "      <td>758.0</td>\n",
       "      <td>1011.0</td>\n",
       "      <td>-253.0</td>\n",
       "      <td>706.0</td>\n",
       "      <td>800.0</td>\n",
       "      <td>-94.0</td>\n",
       "      <td>159.0</td>\n",
       "      <td>111.0</td>\n",
       "      <td>20.0</td>\n",
       "      <td>22.0</td>\n",
       "      <td>74.0</td>\n",
       "      <td>54.0</td>\n",
       "      <td>1833.0</td>\n",
       "      <td>0.001091</td>\n",
       "      <td>0.008183</td>\n",
       "      <td>0.009274</td>\n",
       "      <td>0.031642</td>\n",
       "      <td>0.049100</td>\n",
       "      <td>0.029460</td>\n",
       "      <td>0.036007</td>\n",
       "      <td>-0.006547</td>\n",
       "      <td>0.076923</td>\n",
       "      <td>0.413530</td>\n",
       "      <td>0.551555</td>\n",
       "      <td>-0.138025</td>\n",
       "      <td>0.385161</td>\n",
       "      <td>0.436443</td>\n",
       "      <td>-0.051282</td>\n",
       "      <td>0.086743</td>\n",
       "      <td>0.060556</td>\n",
       "      <td>0.010911</td>\n",
       "      <td>0.012002</td>\n",
       "      <td>0.040371</td>\n",
       "      <td>0.029460</td>\n",
       "    </tr>\n",
       "  </tbody>\n",
       "</table>\n",
       "</div>"
      ],
      "text/plain": [
       "   Season TeamCode       PlayerName Position  TGP  TGoals  TAssists  TPoints  \\\n",
       "0    2016      OTT       ZACK SMITH        C   74    16.0      16.0     32.0   \n",
       "1    2016      OTT  DERICK BRASSARD        C   81    14.0      25.0     39.0   \n",
       "2    2016      OTT       BOBBY RYAN        W   62    13.0      12.0     25.0   \n",
       "3    2016      OTT     DION PHANEUF        D   81     9.0      21.0     30.0   \n",
       "4    2016      OTT        CODY CECI        D   79     2.0      15.0     17.0   \n",
       "\n",
       "   TGoalsF  TGoalsA  TEVGoalsF  TEVGoalsA  TPlus/Minus  TShots  TShotsF  \\\n",
       "0     45.0     54.0       40.0       34.0          6.0   121.0    615.0   \n",
       "1     74.0     46.0       56.0       45.0         11.0   179.0    803.0   \n",
       "2     49.0     37.0       34.0       37.0         -3.0    98.0    517.0   \n",
       "3     81.0     89.0       59.0       63.0         -4.0   147.0    906.0   \n",
       "4     58.0     90.0       54.0       66.0        -12.0   141.0    758.0   \n",
       "\n",
       "   TShotsA  TDShots  TEVShotsF  TEVShotsA  TEVDShots  TBlocks  THits  \\\n",
       "0    631.0    -16.0      540.0      491.0       49.0     38.0  140.0   \n",
       "1    576.0    227.0      658.0      570.0       88.0     24.0   92.0   \n",
       "2    442.0     75.0      401.0      442.0      -41.0     34.0  108.0   \n",
       "3    981.0    -75.0      726.0      801.0      -75.0    154.0  132.0   \n",
       "4   1011.0   -253.0      706.0      800.0      -94.0    159.0  111.0   \n",
       "\n",
       "   TPenalties  TTakeaways  TGiveaways  TMisses    TTOI  TOIGoals  TOIAssists  \\\n",
       "0        61.0        31.0        35.0     56.0  1212.0  0.013201    0.013201   \n",
       "1        24.0        37.0        37.0     70.0  1408.0  0.009943    0.017756   \n",
       "2        24.0        27.0        27.0     49.0   963.0  0.013499    0.012461   \n",
       "3        98.0        16.0        54.0     56.0  1866.0  0.004823    0.011254   \n",
       "4        20.0        22.0        74.0     54.0  1833.0  0.001091    0.008183   \n",
       "\n",
       "   TOIPoints  TOIGoalsF  TOIGoalsA  TOIEVGoalsF  TOIEVGoalsA  TOIPlus/Minus  \\\n",
       "0   0.026403   0.037129   0.044554     0.033003     0.028053       0.004950   \n",
       "1   0.027699   0.052557   0.032670     0.039773     0.031960       0.007812   \n",
       "2   0.025961   0.050883   0.038422     0.035306     0.038422      -0.003115   \n",
       "3   0.016077   0.043408   0.047696     0.031618     0.033762      -0.002144   \n",
       "4   0.009274   0.031642   0.049100     0.029460     0.036007      -0.006547   \n",
       "\n",
       "   TOIShots  TOIShotsF  TOIShotsA  TOIDShots  TOIEVShotsF  TOIEVShotsA  \\\n",
       "0  0.099835   0.507426   0.520627  -0.013201     0.445545     0.405116   \n",
       "1  0.127131   0.570312   0.409091   0.161222     0.467330     0.404830   \n",
       "2  0.101765   0.536864   0.458982   0.077882     0.416407     0.458982   \n",
       "3  0.078778   0.485531   0.525723  -0.040193     0.389068     0.429260   \n",
       "4  0.076923   0.413530   0.551555  -0.138025     0.385161     0.436443   \n",
       "\n",
       "   TOIEVDShots  TOIBlocks   TOIHits  TOIPenalties  TOITakeaways  TOIGiveaways  \\\n",
       "0     0.040429   0.031353  0.115512      0.050330      0.025578      0.028878   \n",
       "1     0.062500   0.017045  0.065341      0.017045      0.026278      0.026278   \n",
       "2    -0.042575   0.035306  0.112150      0.024922      0.028037      0.028037   \n",
       "3    -0.040193   0.082529  0.070740      0.052519      0.008574      0.028939   \n",
       "4    -0.051282   0.086743  0.060556      0.010911      0.012002      0.040371   \n",
       "\n",
       "   TOIMisses  \n",
       "0   0.046205  \n",
       "1   0.049716  \n",
       "2   0.050883  \n",
       "3   0.030011  \n",
       "4   0.029460  "
      ]
     },
     "execution_count": 169,
     "metadata": {},
     "output_type": "execute_result"
    }
   ],
   "source": [
    "de = de[['Season', 'TeamCode', 'PlayerName', 'Position', 'TGP', 'TGoals', 'TAssists', 'TPoints', 'TGoalsF', 'TGoalsA', 'TEVGoalsF', 'TEVGoalsA', 'TPlus/Minus', 'TShots', 'TShotsF', 'TShotsA', 'TDShots', 'TEVShotsF', 'TEVShotsA', 'TEVDShots', 'TBlocks', 'THits', 'TPenalties', 'TTakeaways', 'TGiveaways', 'TMisses', 'TTOI', 'TOIGoals', 'TOIAssists', 'TOIPoints', 'TOIGoalsF', 'TOIGoalsA', 'TOIEVGoalsF', 'TOIEVGoalsA', 'TOIPlus/Minus', 'TOIShots', 'TOIShotsF', 'TOIShotsA', 'TOIDShots', 'TOIEVShotsF', 'TOIEVShotsA', 'TOIEVDShots', 'TOIBlocks', 'TOIHits', 'TOIPenalties', 'TOITakeaways', 'TOIGiveaways', 'TOIMisses']]\n",
    "de.head()"
   ]
  },
  {
   "cell_type": "code",
   "execution_count": 170,
   "metadata": {
    "collapsed": true
   },
   "outputs": [],
   "source": [
    "de.to_csv('/Users/stefanostselios/Brock University/Kevin Mongeon - StephanosShare/out/stats/2016_player_stats.csv', index='False', sep=',')\n",
    "#de = pd.read_csv('/Users/kevinmongeon/Brock University/Steve Tselios - StephanosShare/out/stats/2016_player_stats.csv', index='False', sep=',')"
   ]
  },
  {
   "cell_type": "code",
   "execution_count": null,
   "metadata": {
    "collapsed": true
   },
   "outputs": [],
   "source": []
  }
 ],
 "metadata": {
  "kernelspec": {
   "display_name": "Python 3",
   "language": "python",
   "name": "python3"
  },
  "language_info": {
   "codemirror_mode": {
    "name": "ipython",
    "version": 3
   },
   "file_extension": ".py",
   "mimetype": "text/x-python",
   "name": "python",
   "nbconvert_exporter": "python",
   "pygments_lexer": "ipython3",
   "version": "3.6.0"
  }
 },
 "nbformat": 4,
 "nbformat_minor": 2
}
