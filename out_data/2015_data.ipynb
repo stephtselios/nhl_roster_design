{
 "cells": [
  {
   "cell_type": "markdown",
   "metadata": {},
   "source": [
    "## 2015 play by play data"
   ]
  },
  {
   "cell_type": "code",
   "execution_count": 1,
   "metadata": {
    "collapsed": true
   },
   "outputs": [],
   "source": [
    "import sys\n",
    "import os\n",
    "import pandas as pd\n",
    "import numpy as np\n",
    "import datetime, time\n",
    "import matplotlib.pyplot as plt\n",
    "from matplotlib.backends.backend_pdf import PdfPages\n",
    "import matplotlib.cm as cm\n",
    "import statsmodels.api as sm\n",
    "from statsmodels.formula.api import ols\n",
    "from pylab import hist, show\n",
    "import scipy\n",
    "import zipfile\n",
    "from sklearn.cluster import KMeans\n",
    "from sklearn import metrics\n",
    "from sklearn.preprocessing import MinMaxScaler\n",
    "from sklearn.preprocessing import StandardScaler\n",
    "from sklearn.decomposition import PCA\n",
    "from scipy.cluster.hierarchy import linkage, dendrogram\n",
    "from scipy.cluster.hierarchy import cophenet\n",
    "from scipy.spatial.distance import pdist\n",
    "import seaborn as sn\n",
    "from sklearn.metrics import silhouette_samples, silhouette_score\n",
    "\n",
    "\n",
    "sys.setrecursionlimit(100000)\n",
    "pd.set_option('display.max_rows', 50)\n",
    "pd.set_option('display.max_columns', 200)"
   ]
  },
  {
   "cell_type": "markdown",
   "metadata": {},
   "source": [
    "### import 2015 nhl data set"
   ]
  },
  {
   "cell_type": "code",
   "execution_count": 2,
   "metadata": {
    "collapsed": false
   },
   "outputs": [],
   "source": [
    "da = pd.read_csv('/Users/stefanostselios/Brock University/Kevin Mongeon - StephanosShare/data/nhl_pbp20152016.csv')\n",
    "#da = pd.read_csv('/Users/kevinmongeon/Brock University/Steve Tselios - StephanosShare/data/nhl_pbp20152016.csv')\n",
    "da = da.drop('Unnamed: 0', axis=1)"
   ]
  },
  {
   "cell_type": "markdown",
   "metadata": {},
   "source": [
    "- rename columns and create a season variable"
   ]
  },
  {
   "cell_type": "code",
   "execution_count": 4,
   "metadata": {
    "collapsed": false
   },
   "outputs": [],
   "source": [
    "da['Season'] = 2015\n",
    "da = da.rename(columns={ 'Game_Id' : 'GameNumber', 'Ev_Zone': 'EventZone', 'Time_Elapsed': 'Time', 'Ev_Team': 'EventTeamCode', 'Description': 'EventDetail', 'Away_Team': 'ATeamCode', 'Home_Team':'HTeamCode', 'p1_name': 'EventPlayer1','p2_name': 'EventPlayer2', 'p3_name': 'EventPlayer3', 'awayPlayer1': 'APlayer1', 'awayPlayer2': 'APlayer2', 'awayPlayer3': 'APlayer3', 'awayPlayer4': 'APlayer4', 'awayPlayer5': 'APlayer5', 'awayPlayer6': 'APlayer6', 'homePlayer1': 'HPlayer1', 'homePlayer2': 'HPlayer2', 'homePlayer3': 'HPlayer3','homePlayer4': 'HPlayer4', 'homePlayer5': 'HPlayer5','homePlayer6': 'HPlayer6', 'Away_Score': 'AGoals', 'Home_Score': 'HGoals', 'Away_Goalie': 'AGoalie', 'Home_Goalie': 'HGoalie', 'Away_Players': 'PlayersA', 'Home_Players': 'PlayersH' })\n",
    "da = da[['Season', 'GameNumber', 'Date', 'Period', 'Time', 'Strength', 'Event', 'EventDetail', 'EventTeamCode', 'EventPlayer1', 'EventPlayer2', 'EventPlayer3', 'ATeamCode', 'APlayer1', 'APlayer2', 'APlayer3', 'APlayer4', 'APlayer5', 'APlayer6', 'AGoalie', 'PlayersA', 'HTeamCode', 'HPlayer1', 'HPlayer2', 'HPlayer3', 'HPlayer4', 'HPlayer5', 'HPlayer6', 'HGoalie', 'PlayersH']]\n",
    "da = da.sort_values(['Season', 'GameNumber', 'Period', 'Time'], ascending=[True, True, True, True])"
   ]
  },
  {
   "cell_type": "markdown",
   "metadata": {},
   "source": [
    "- keep only regular season games and exclude irrelevant on-ice events"
   ]
  },
  {
   "cell_type": "code",
   "execution_count": 5,
   "metadata": {
    "collapsed": false
   },
   "outputs": [],
   "source": [
    "da = da[da['GameNumber'] <= 21230]\n",
    "da = da[da['Period'] <= 4]\n",
    "da = da[da['Period'] >= 1]\n",
    "da = da[da['Event']!='STOP']\n",
    "da = da[da['Event']!='EISTR']\n",
    "da = da[da['Event']!='EIEND']\n",
    "da = da[da['Event']!='PSTR']\n",
    "da = da[da['Event']!='PEND']\n",
    "da = da[da['Event']!='SOC']\n",
    "da = da[da['Event']!='GEND']"
   ]
  },
  {
   "cell_type": "markdown",
   "metadata": {},
   "source": [
    "- create an event number variable that will count the number of events per game. \n",
    "- create an advantage type variable for even strength, power play and short handed situations."
   ]
  },
  {
   "cell_type": "code",
   "execution_count": 6,
   "metadata": {
    "collapsed": true
   },
   "outputs": [],
   "source": [
    "da['EventNumber'] = da.groupby(['Season', 'GameNumber']).cumcount()+1"
   ]
  },
  {
   "cell_type": "code",
   "execution_count": 7,
   "metadata": {
    "collapsed": true
   },
   "outputs": [],
   "source": [
    "da['AdvantageType'] = da.apply(lambda x: 'EV' if ((x['PlayersA'] == x['PlayersH']) & (x['PlayersA'] != 1) & (x['PlayersH'] != 1)) else 'PP' if ((x['PlayersA'] > x['PlayersH']) & (x['EventTeamCode'] == x['ATeamCode'])) else 'PP' if ((x['PlayersA'] < x['PlayersH']) & (x['EventTeamCode'] == x['HTeamCode'])) else 'SH' if ((x['PlayersA'] < x['PlayersH']) & (x['EventTeamCode'] == x['ATeamCode'])) else 'SH' if ((x['PlayersA'] > x['PlayersH']) & (x['EventTeamCode'] == x['HTeamCode'])) else 'PP' if ((x['PlayersA'] == 1 ) & (x['PlayersH'] == 1)) else np.nan, axis=1) "
   ]
  },
  {
   "cell_type": "code",
   "execution_count": 8,
   "metadata": {
    "collapsed": false
   },
   "outputs": [
    {
     "data": {
      "text/plain": [
       "EV    264962\n",
       "PP     33578\n",
       "SH     14890\n",
       "Name: AdvantageType, dtype: int64"
      ]
     },
     "execution_count": 8,
     "metadata": {},
     "output_type": "execute_result"
    }
   ],
   "source": [
    "da['AdvantageType'].value_counts()"
   ]
  },
  {
   "cell_type": "markdown",
   "metadata": {},
   "source": [
    "- reshape data from wide to long for away team players and home team players"
   ]
  },
  {
   "cell_type": "code",
   "execution_count": 9,
   "metadata": {
    "collapsed": false
   },
   "outputs": [
    {
     "data": {
      "text/html": [
       "<div>\n",
       "<table border=\"1\" class=\"dataframe\">\n",
       "  <thead>\n",
       "    <tr style=\"text-align: right;\">\n",
       "      <th></th>\n",
       "      <th>AGoalie</th>\n",
       "      <th>ATeamCode</th>\n",
       "      <th>AdvantageType</th>\n",
       "      <th>Date</th>\n",
       "      <th>Event</th>\n",
       "      <th>EventDetail</th>\n",
       "      <th>EventNumber</th>\n",
       "      <th>EventPlayer1</th>\n",
       "      <th>EventPlayer2</th>\n",
       "      <th>EventPlayer3</th>\n",
       "      <th>EventTeamCode</th>\n",
       "      <th>GameNumber</th>\n",
       "      <th>HGoalie</th>\n",
       "      <th>HTeamCode</th>\n",
       "      <th>Period</th>\n",
       "      <th>PlayersA</th>\n",
       "      <th>PlayersH</th>\n",
       "      <th>Season</th>\n",
       "      <th>Strength</th>\n",
       "      <th>Time</th>\n",
       "      <th>APlayer</th>\n",
       "      <th>HPlayer</th>\n",
       "    </tr>\n",
       "  </thead>\n",
       "  <tbody>\n",
       "    <tr>\n",
       "      <th>0</th>\n",
       "      <td>CAREY PRICE</td>\n",
       "      <td>MTL</td>\n",
       "      <td>EV</td>\n",
       "      <td>2015-10-07</td>\n",
       "      <td>FAC</td>\n",
       "      <td>MTL won Neu. Zone - MTL #14 PLEKANEC vs TOR #4...</td>\n",
       "      <td>1</td>\n",
       "      <td>TOMAS PLEKANEC</td>\n",
       "      <td>TYLER BOZAK</td>\n",
       "      <td>NaN</td>\n",
       "      <td>MTL</td>\n",
       "      <td>20001</td>\n",
       "      <td>JONATHAN BERNIER</td>\n",
       "      <td>TOR</td>\n",
       "      <td>1</td>\n",
       "      <td>6</td>\n",
       "      <td>6</td>\n",
       "      <td>2015</td>\n",
       "      <td>5x5</td>\n",
       "      <td>0:00</td>\n",
       "      <td>TOMAS PLEKANEC</td>\n",
       "      <td>SHAWN MATTHIAS</td>\n",
       "    </tr>\n",
       "    <tr>\n",
       "      <th>1</th>\n",
       "      <td>CAREY PRICE</td>\n",
       "      <td>MTL</td>\n",
       "      <td>EV</td>\n",
       "      <td>2015-10-07</td>\n",
       "      <td>FAC</td>\n",
       "      <td>MTL won Neu. Zone - MTL #14 PLEKANEC vs TOR #4...</td>\n",
       "      <td>2</td>\n",
       "      <td>TOMAS PLEKANEC</td>\n",
       "      <td>TYLER BOZAK</td>\n",
       "      <td>NaN</td>\n",
       "      <td>MTL</td>\n",
       "      <td>20001</td>\n",
       "      <td>JONATHAN BERNIER</td>\n",
       "      <td>TOR</td>\n",
       "      <td>1</td>\n",
       "      <td>6</td>\n",
       "      <td>6</td>\n",
       "      <td>2015</td>\n",
       "      <td>5x5</td>\n",
       "      <td>0:14</td>\n",
       "      <td>TOMAS PLEKANEC</td>\n",
       "      <td>SHAWN MATTHIAS</td>\n",
       "    </tr>\n",
       "    <tr>\n",
       "      <th>2</th>\n",
       "      <td>CAREY PRICE</td>\n",
       "      <td>MTL</td>\n",
       "      <td>EV</td>\n",
       "      <td>2015-10-07</td>\n",
       "      <td>HIT</td>\n",
       "      <td>MTL #11 GALLAGHER HIT TOR #2 HUNWICK, Off. Zone</td>\n",
       "      <td>3</td>\n",
       "      <td>BRENDAN GALLAGHER</td>\n",
       "      <td>MATT HUNWICK</td>\n",
       "      <td>NaN</td>\n",
       "      <td>MTL</td>\n",
       "      <td>20001</td>\n",
       "      <td>JONATHAN BERNIER</td>\n",
       "      <td>TOR</td>\n",
       "      <td>1</td>\n",
       "      <td>6</td>\n",
       "      <td>6</td>\n",
       "      <td>2015</td>\n",
       "      <td>5x5</td>\n",
       "      <td>0:40</td>\n",
       "      <td>DAVID DESHARNAIS</td>\n",
       "      <td>SHAWN MATTHIAS</td>\n",
       "    </tr>\n",
       "    <tr>\n",
       "      <th>3</th>\n",
       "      <td>CAREY PRICE</td>\n",
       "      <td>MTL</td>\n",
       "      <td>EV</td>\n",
       "      <td>2015-10-07</td>\n",
       "      <td>SHOT</td>\n",
       "      <td>TOR ONGOAL - #28 BOYES, Wrist, Off. Zone, 35 ft.</td>\n",
       "      <td>4</td>\n",
       "      <td>BRAD BOYES</td>\n",
       "      <td>NaN</td>\n",
       "      <td>NaN</td>\n",
       "      <td>TOR</td>\n",
       "      <td>20001</td>\n",
       "      <td>JONATHAN BERNIER</td>\n",
       "      <td>TOR</td>\n",
       "      <td>1</td>\n",
       "      <td>6</td>\n",
       "      <td>6</td>\n",
       "      <td>2015</td>\n",
       "      <td>5x5</td>\n",
       "      <td>0:51</td>\n",
       "      <td>DAVID DESHARNAIS</td>\n",
       "      <td>NAZEM KADRI</td>\n",
       "    </tr>\n",
       "    <tr>\n",
       "      <th>4</th>\n",
       "      <td>CAREY PRICE</td>\n",
       "      <td>MTL</td>\n",
       "      <td>EV</td>\n",
       "      <td>2015-10-07</td>\n",
       "      <td>GIVE</td>\n",
       "      <td>MTL GIVEAWAY - #74 EMELIN, Def. Zone</td>\n",
       "      <td>5</td>\n",
       "      <td>ALEXEI EMELIN</td>\n",
       "      <td>NaN</td>\n",
       "      <td>NaN</td>\n",
       "      <td>MTL</td>\n",
       "      <td>20001</td>\n",
       "      <td>JONATHAN BERNIER</td>\n",
       "      <td>TOR</td>\n",
       "      <td>1</td>\n",
       "      <td>6</td>\n",
       "      <td>6</td>\n",
       "      <td>2015</td>\n",
       "      <td>5x5</td>\n",
       "      <td>0:58</td>\n",
       "      <td>DAVID DESHARNAIS</td>\n",
       "      <td>NAZEM KADRI</td>\n",
       "    </tr>\n",
       "  </tbody>\n",
       "</table>\n",
       "</div>"
      ],
      "text/plain": [
       "       AGoalie ATeamCode AdvantageType        Date Event  \\\n",
       "0  CAREY PRICE       MTL            EV  2015-10-07   FAC   \n",
       "1  CAREY PRICE       MTL            EV  2015-10-07   FAC   \n",
       "2  CAREY PRICE       MTL            EV  2015-10-07   HIT   \n",
       "3  CAREY PRICE       MTL            EV  2015-10-07  SHOT   \n",
       "4  CAREY PRICE       MTL            EV  2015-10-07  GIVE   \n",
       "\n",
       "                                         EventDetail  EventNumber  \\\n",
       "0  MTL won Neu. Zone - MTL #14 PLEKANEC vs TOR #4...            1   \n",
       "1  MTL won Neu. Zone - MTL #14 PLEKANEC vs TOR #4...            2   \n",
       "2    MTL #11 GALLAGHER HIT TOR #2 HUNWICK, Off. Zone            3   \n",
       "3   TOR ONGOAL - #28 BOYES, Wrist, Off. Zone, 35 ft.            4   \n",
       "4               MTL GIVEAWAY - #74 EMELIN, Def. Zone            5   \n",
       "\n",
       "        EventPlayer1  EventPlayer2 EventPlayer3 EventTeamCode  GameNumber  \\\n",
       "0     TOMAS PLEKANEC   TYLER BOZAK          NaN           MTL       20001   \n",
       "1     TOMAS PLEKANEC   TYLER BOZAK          NaN           MTL       20001   \n",
       "2  BRENDAN GALLAGHER  MATT HUNWICK          NaN           MTL       20001   \n",
       "3         BRAD BOYES           NaN          NaN           TOR       20001   \n",
       "4      ALEXEI EMELIN           NaN          NaN           MTL       20001   \n",
       "\n",
       "            HGoalie HTeamCode  Period  PlayersA  PlayersH  Season Strength  \\\n",
       "0  JONATHAN BERNIER       TOR       1         6         6    2015      5x5   \n",
       "1  JONATHAN BERNIER       TOR       1         6         6    2015      5x5   \n",
       "2  JONATHAN BERNIER       TOR       1         6         6    2015      5x5   \n",
       "3  JONATHAN BERNIER       TOR       1         6         6    2015      5x5   \n",
       "4  JONATHAN BERNIER       TOR       1         6         6    2015      5x5   \n",
       "\n",
       "   Time           APlayer         HPlayer  \n",
       "0  0:00    TOMAS PLEKANEC  SHAWN MATTHIAS  \n",
       "1  0:14    TOMAS PLEKANEC  SHAWN MATTHIAS  \n",
       "2  0:40  DAVID DESHARNAIS  SHAWN MATTHIAS  \n",
       "3  0:51  DAVID DESHARNAIS     NAZEM KADRI  \n",
       "4  0:58  DAVID DESHARNAIS     NAZEM KADRI  "
      ]
     },
     "execution_count": 9,
     "metadata": {},
     "output_type": "execute_result"
    }
   ],
   "source": [
    "db = da.copy()\n",
    "a = [col for col in db.columns if 'APlayer' in col]\n",
    "b = [col for col in db.columns if 'HPlayer' in col]\n",
    "db = pd.lreshape(db, {'APlayer' : a, 'HPlayer' : b })\n",
    "db.head()"
   ]
  },
  {
   "cell_type": "code",
   "execution_count": 10,
   "metadata": {
    "collapsed": false
   },
   "outputs": [],
   "source": [
    "db = db[['Season', 'GameNumber', 'Date', 'Period', 'Time', 'AdvantageType', 'Strength', 'EventNumber', 'Event', 'EventDetail', 'EventTeamCode', 'EventPlayer1', 'EventPlayer2', 'EventPlayer3', 'ATeamCode', 'APlayer', 'AGoalie', 'PlayersA', 'HTeamCode', 'HPlayer', 'HGoalie', 'PlayersH']]\n",
    "db = db.sort_values(['Season', 'GameNumber', 'Period', 'Time'], ascending=[True, True, True, True])"
   ]
  },
  {
   "cell_type": "markdown",
   "metadata": {},
   "source": [
    "- reshape data from wide to long for away and home team code and player respectfully."
   ]
  },
  {
   "cell_type": "code",
   "execution_count": 11,
   "metadata": {
    "collapsed": false
   },
   "outputs": [],
   "source": [
    "dc = db.copy()\n",
    "dc = dc.rename(columns={'EventTeamCode': 'EventTeam', 'EventPlayer1': 'EventP1', 'EventPlayer2': 'EventP2', 'EventPlayer3': 'EventP3', 'PlayersA':'PA', 'PlayersH': 'PH'})"
   ]
  },
  {
   "cell_type": "code",
   "execution_count": 12,
   "metadata": {
    "collapsed": true
   },
   "outputs": [],
   "source": [
    "a = [col for col in dc.columns if 'Code' in col]\n",
    "b = [col for col in dc.columns if 'Player' in col]\n",
    "c = [col for col in dc.columns if 'Goalie' in col]\n",
    "d = [col for col in dc.columns if 'Position' in col]\n",
    "dc = pd.lreshape(dc, {'TeamCode' : a, 'PlayerName' : b, 'Goalie': c})"
   ]
  },
  {
   "cell_type": "code",
   "execution_count": 13,
   "metadata": {
    "collapsed": false
   },
   "outputs": [],
   "source": [
    "dc = dc.rename(columns={'EventTeam': 'EventTeamCode', 'EventP1': 'EventPlayer1', 'EventP2': 'EventPlayer2', 'EventP3': 'EventPlayer3', 'PA':'PlayersA', 'PH': 'PlayersH'})"
   ]
  },
  {
   "cell_type": "code",
   "execution_count": 14,
   "metadata": {
    "collapsed": false
   },
   "outputs": [
    {
     "data": {
      "text/plain": [
       "(3594286, 19)"
      ]
     },
     "execution_count": 14,
     "metadata": {},
     "output_type": "execute_result"
    }
   ],
   "source": [
    "dc.shape"
   ]
  },
  {
   "cell_type": "markdown",
   "metadata": {},
   "source": [
    "### games played"
   ]
  },
  {
   "cell_type": "markdown",
   "metadata": {},
   "source": [
    "- calculate the games each player participated in for the duration of the 2011 regular season."
   ]
  },
  {
   "cell_type": "code",
   "execution_count": 15,
   "metadata": {
    "collapsed": true
   },
   "outputs": [],
   "source": [
    "s = dc.copy()\n",
    "s = s[['Season', 'GameNumber', 'TeamCode', 'PlayerName']]\n",
    "s = s.sort_values(['Season', 'GameNumber', 'TeamCode'], ascending=[True, True, True])\n",
    "s = s.drop_duplicates(['Season', 'GameNumber', 'TeamCode', 'PlayerName'])"
   ]
  },
  {
   "cell_type": "code",
   "execution_count": 16,
   "metadata": {
    "collapsed": false
   },
   "outputs": [
    {
     "data": {
      "text/html": [
       "<div>\n",
       "<table border=\"1\" class=\"dataframe\">\n",
       "  <thead>\n",
       "    <tr style=\"text-align: right;\">\n",
       "      <th></th>\n",
       "      <th>Season</th>\n",
       "      <th>TeamCode</th>\n",
       "      <th>PlayerName</th>\n",
       "      <th>GP</th>\n",
       "    </tr>\n",
       "  </thead>\n",
       "  <tbody>\n",
       "    <tr>\n",
       "      <th>0</th>\n",
       "      <td>2015</td>\n",
       "      <td>MTL</td>\n",
       "      <td>TOMAS PLEKANEC</td>\n",
       "      <td>82</td>\n",
       "    </tr>\n",
       "    <tr>\n",
       "      <th>1</th>\n",
       "      <td>2015</td>\n",
       "      <td>MTL</td>\n",
       "      <td>BRENDAN GALLAGHER</td>\n",
       "      <td>53</td>\n",
       "    </tr>\n",
       "    <tr>\n",
       "      <th>2</th>\n",
       "      <td>2015</td>\n",
       "      <td>MTL</td>\n",
       "      <td>MAX PACIORETTY</td>\n",
       "      <td>82</td>\n",
       "    </tr>\n",
       "    <tr>\n",
       "      <th>3</th>\n",
       "      <td>2015</td>\n",
       "      <td>MTL</td>\n",
       "      <td>PK SUBBAN</td>\n",
       "      <td>68</td>\n",
       "    </tr>\n",
       "    <tr>\n",
       "      <th>4</th>\n",
       "      <td>2015</td>\n",
       "      <td>MTL</td>\n",
       "      <td>ANDREI MARKOV</td>\n",
       "      <td>82</td>\n",
       "    </tr>\n",
       "  </tbody>\n",
       "</table>\n",
       "</div>"
      ],
      "text/plain": [
       "   Season TeamCode         PlayerName  GP\n",
       "0    2015      MTL     TOMAS PLEKANEC  82\n",
       "1    2015      MTL  BRENDAN GALLAGHER  53\n",
       "2    2015      MTL     MAX PACIORETTY  82\n",
       "3    2015      MTL          PK SUBBAN  68\n",
       "4    2015      MTL      ANDREI MARKOV  82"
      ]
     },
     "execution_count": 16,
     "metadata": {},
     "output_type": "execute_result"
    }
   ],
   "source": [
    "s['GP'] = s.groupby(['Season', 'TeamCode','PlayerName'])['GameNumber'].transform('count')\n",
    "s = s.drop_duplicates(['Season', 'TeamCode', 'PlayerName'])\n",
    "s = s[['Season', 'TeamCode', 'PlayerName', 'GP']]\n",
    "s.head()"
   ]
  },
  {
   "cell_type": "code",
   "execution_count": 17,
   "metadata": {
    "collapsed": false
   },
   "outputs": [
    {
     "data": {
      "text/plain": [
       "Season        0\n",
       "TeamCode      0\n",
       "PlayerName    0\n",
       "GP            0\n",
       "dtype: int64"
      ]
     },
     "execution_count": 17,
     "metadata": {},
     "output_type": "execute_result"
    }
   ],
   "source": [
    "s.isnull().sum()"
   ]
  },
  {
   "cell_type": "code",
   "execution_count": 18,
   "metadata": {
    "collapsed": false
   },
   "outputs": [
    {
     "data": {
      "text/plain": [
       "(1065, 4)"
      ]
     },
     "execution_count": 18,
     "metadata": {},
     "output_type": "execute_result"
    }
   ],
   "source": [
    "s.shape"
   ]
  },
  {
   "cell_type": "markdown",
   "metadata": {},
   "source": [
    "### shots for and against"
   ]
  },
  {
   "cell_type": "markdown",
   "metadata": {},
   "source": [
    "- calculate the shots against each player faced througout the duration of a season. \n",
    "- create shot for and shot against variables. If event team code is indiferrent to team code assign a value of 1. If not, assign a value of 0. \n",
    "- **goals are a result of a shot and therefore need to be added to a player's shot total**. Display total shots per player for a season."
   ]
  },
  {
   "cell_type": "code",
   "execution_count": 19,
   "metadata": {
    "collapsed": false
   },
   "outputs": [],
   "source": [
    "sa = dc.copy()\n",
    "sa = sa[sa['Event'].isin(['SHOT','GOAL'])]"
   ]
  },
  {
   "cell_type": "code",
   "execution_count": 20,
   "metadata": {
    "collapsed": false
   },
   "outputs": [],
   "source": [
    "sa['ShotF'] = sa.apply(lambda x: 1 if x['EventTeamCode'] == x['TeamCode'] else 0, axis=1)\n",
    "sa['ShotsF'] = sa.groupby(['Season', 'TeamCode', 'PlayerName'])['ShotF'].transform('sum')\n",
    "\n",
    "sa['ShotA'] = sa.apply(lambda x: 1 if x['EventTeamCode'] != x['TeamCode'] else 0, axis=1)\n",
    "sa['ShotsA'] = sa.groupby(['Season', 'TeamCode', 'PlayerName'])['ShotA'].transform('sum')"
   ]
  },
  {
   "cell_type": "markdown",
   "metadata": {},
   "source": [
    "- create shot for and shot against variables for even strength situations only. If event team code is indiferrent to team code assign a value of 1. If not, assign a value of 0. \n",
    "- **goals are a result of a shot and therefore need to be added to a player's shot total**. Display total shots per player for a season."
   ]
  },
  {
   "cell_type": "code",
   "execution_count": 21,
   "metadata": {
    "collapsed": false
   },
   "outputs": [],
   "source": [
    "sa['EVShotF'] = sa.apply(lambda x: 1 if ((x['AdvantageType'] == 'EV') & (x['EventTeamCode'] == x['TeamCode'])) else 1 if ((x['AdvantageType'] == 'SH') & (x['EventTeamCode'] == x['TeamCode'])) else 0, axis=1)\n",
    "sa['EVShotsF'] = sa.groupby(['Season', 'TeamCode', 'PlayerName'])['EVShotF'].transform('sum')\n",
    "\n",
    "sa['EVShotA'] = sa.apply(lambda x: 1 if ((x['AdvantageType'] == 'EV') & (x['EventTeamCode'] != x['TeamCode'])) else 1 if ((x['AdvantageType'] == 'SH') & (x['EventTeamCode'] != x['TeamCode'])) else 0, axis=1)\n",
    "sa['EVShotsA'] = sa.groupby(['Season', 'TeamCode', 'PlayerName'])['EVShotA'].transform('sum')"
   ]
  },
  {
   "cell_type": "markdown",
   "metadata": {},
   "source": [
    "- calculate the shot differential for all shots and even strength shots."
   ]
  },
  {
   "cell_type": "code",
   "execution_count": 22,
   "metadata": {
    "collapsed": true
   },
   "outputs": [],
   "source": [
    "sa['DShots'] = sa['ShotsF'] - sa['ShotsA']\n",
    "sa['EVDShots'] = sa['EVShotsF'] - sa['EVShotsA']"
   ]
  },
  {
   "cell_type": "code",
   "execution_count": 23,
   "metadata": {
    "collapsed": false
   },
   "outputs": [
    {
     "data": {
      "text/html": [
       "<div>\n",
       "<table border=\"1\" class=\"dataframe\">\n",
       "  <thead>\n",
       "    <tr style=\"text-align: right;\">\n",
       "      <th></th>\n",
       "      <th>Season</th>\n",
       "      <th>TeamCode</th>\n",
       "      <th>PlayerName</th>\n",
       "      <th>ShotsF</th>\n",
       "      <th>ShotsA</th>\n",
       "      <th>DShots</th>\n",
       "      <th>EVShotsF</th>\n",
       "      <th>EVShotsA</th>\n",
       "      <th>EVDShots</th>\n",
       "    </tr>\n",
       "  </thead>\n",
       "  <tbody>\n",
       "    <tr>\n",
       "      <th>18</th>\n",
       "      <td>2015</td>\n",
       "      <td>MTL</td>\n",
       "      <td>DAVID DESHARNAIS</td>\n",
       "      <td>555</td>\n",
       "      <td>445</td>\n",
       "      <td>110</td>\n",
       "      <td>435</td>\n",
       "      <td>444</td>\n",
       "      <td>-9</td>\n",
       "    </tr>\n",
       "    <tr>\n",
       "      <th>19</th>\n",
       "      <td>2015</td>\n",
       "      <td>MTL</td>\n",
       "      <td>DALE WEISE</td>\n",
       "      <td>448</td>\n",
       "      <td>344</td>\n",
       "      <td>104</td>\n",
       "      <td>364</td>\n",
       "      <td>341</td>\n",
       "      <td>23</td>\n",
       "    </tr>\n",
       "    <tr>\n",
       "      <th>20</th>\n",
       "      <td>2015</td>\n",
       "      <td>MTL</td>\n",
       "      <td>TOMAS FLEISCHMANN</td>\n",
       "      <td>390</td>\n",
       "      <td>444</td>\n",
       "      <td>-54</td>\n",
       "      <td>362</td>\n",
       "      <td>383</td>\n",
       "      <td>-21</td>\n",
       "    </tr>\n",
       "    <tr>\n",
       "      <th>21</th>\n",
       "      <td>2015</td>\n",
       "      <td>MTL</td>\n",
       "      <td>JEFF PETRY</td>\n",
       "      <td>523</td>\n",
       "      <td>492</td>\n",
       "      <td>31</td>\n",
       "      <td>460</td>\n",
       "      <td>397</td>\n",
       "      <td>63</td>\n",
       "    </tr>\n",
       "    <tr>\n",
       "      <th>22</th>\n",
       "      <td>2015</td>\n",
       "      <td>MTL</td>\n",
       "      <td>ALEXEI EMELIN</td>\n",
       "      <td>667</td>\n",
       "      <td>750</td>\n",
       "      <td>-83</td>\n",
       "      <td>661</td>\n",
       "      <td>612</td>\n",
       "      <td>49</td>\n",
       "    </tr>\n",
       "  </tbody>\n",
       "</table>\n",
       "</div>"
      ],
      "text/plain": [
       "    Season TeamCode         PlayerName  ShotsF  ShotsA  DShots  EVShotsF  \\\n",
       "18    2015      MTL   DAVID DESHARNAIS     555     445     110       435   \n",
       "19    2015      MTL         DALE WEISE     448     344     104       364   \n",
       "20    2015      MTL  TOMAS FLEISCHMANN     390     444     -54       362   \n",
       "21    2015      MTL         JEFF PETRY     523     492      31       460   \n",
       "22    2015      MTL      ALEXEI EMELIN     667     750     -83       661   \n",
       "\n",
       "    EVShotsA  EVDShots  \n",
       "18       444        -9  \n",
       "19       341        23  \n",
       "20       383       -21  \n",
       "21       397        63  \n",
       "22       612        49  "
      ]
     },
     "execution_count": 23,
     "metadata": {},
     "output_type": "execute_result"
    }
   ],
   "source": [
    "sa = sa [['Season', 'TeamCode', 'PlayerName', 'ShotsF', 'ShotsA', 'DShots', 'EVShotsF', 'EVShotsA', 'EVDShots' ]]\n",
    "sa = sa.drop_duplicates(['Season', 'TeamCode', 'PlayerName'])\n",
    "sa.head()"
   ]
  },
  {
   "cell_type": "code",
   "execution_count": 24,
   "metadata": {
    "collapsed": false
   },
   "outputs": [
    {
     "data": {
      "text/plain": [
       "Season        0\n",
       "TeamCode      0\n",
       "PlayerName    0\n",
       "ShotsF        0\n",
       "ShotsA        0\n",
       "DShots        0\n",
       "EVShotsF      0\n",
       "EVShotsA      0\n",
       "EVDShots      0\n",
       "dtype: int64"
      ]
     },
     "execution_count": 24,
     "metadata": {},
     "output_type": "execute_result"
    }
   ],
   "source": [
    "sa.isnull().sum()"
   ]
  },
  {
   "cell_type": "code",
   "execution_count": 25,
   "metadata": {
    "collapsed": false
   },
   "outputs": [
    {
     "data": {
      "text/plain": [
       "(1064, 9)"
      ]
     },
     "execution_count": 25,
     "metadata": {},
     "output_type": "execute_result"
    }
   ],
   "source": [
    "sa.shape"
   ]
  },
  {
   "cell_type": "markdown",
   "metadata": {},
   "source": [
    "### goals for and against"
   ]
  },
  {
   "cell_type": "markdown",
   "metadata": {},
   "source": [
    "- create goals for and goals against variable. If event team code is the same as team code assign a value of 1 for goals for and a value of 0 for goals against. If event team code is different to team code, assign a value of 0 for golas for and a value of 1 for goals against. Display total goals for and against per player for a season."
   ]
  },
  {
   "cell_type": "code",
   "execution_count": 26,
   "metadata": {
    "collapsed": true
   },
   "outputs": [],
   "source": [
    "gfa = dc.copy()\n",
    "gfa = gfa[gfa['Event'] == 'GOAL']"
   ]
  },
  {
   "cell_type": "code",
   "execution_count": 27,
   "metadata": {
    "collapsed": true
   },
   "outputs": [],
   "source": [
    "gfa['EVGoalF'] = gfa.apply(lambda x: 1 if ((x['AdvantageType'] == 'EV') & (x['EventTeamCode'] == x['TeamCode'])) else 1 if ((x['AdvantageType'] == 'SH') & (x['EventTeamCode'] == x['TeamCode'])) else 0, axis=1)\n",
    "gfa['EVGoalA'] = gfa.apply(lambda x: 1 if ((x['AdvantageType'] == 'EV') & (x['EventTeamCode'] != x['TeamCode'])) else 1 if ((x['AdvantageType'] == 'SH') & (x['EventTeamCode'] != x['TeamCode'])) else 0, axis=1)"
   ]
  },
  {
   "cell_type": "code",
   "execution_count": 28,
   "metadata": {
    "collapsed": true
   },
   "outputs": [],
   "source": [
    "gfa['GoalF'] = gfa.apply(lambda x: 1 if (x['EventTeamCode'] == x['TeamCode']) else 0, axis=1)\n",
    "gfa['GoalA'] = gfa.apply(lambda x: 1 if (x['EventTeamCode'] != x['TeamCode']) else 0, axis=1)"
   ]
  },
  {
   "cell_type": "code",
   "execution_count": 29,
   "metadata": {
    "collapsed": true
   },
   "outputs": [],
   "source": [
    "gfa['EVGoalsF'] = gfa.groupby(['Season', 'TeamCode', 'PlayerName'])['EVGoalF'].transform('sum')\n",
    "gfa['EVGoalsA'] = gfa.groupby(['Season', 'TeamCode', 'PlayerName'])['EVGoalA'].transform('sum')\n",
    "gfa['GoalsF'] = gfa.groupby(['Season', 'TeamCode', 'PlayerName'])['GoalF'].transform('sum')\n",
    "gfa['GoalsA'] = gfa.groupby(['Season', 'TeamCode', 'PlayerName'])['GoalA'].transform('sum')"
   ]
  },
  {
   "cell_type": "code",
   "execution_count": 30,
   "metadata": {
    "collapsed": false
   },
   "outputs": [
    {
     "data": {
      "text/html": [
       "<div>\n",
       "<table border=\"1\" class=\"dataframe\">\n",
       "  <thead>\n",
       "    <tr style=\"text-align: right;\">\n",
       "      <th></th>\n",
       "      <th>Season</th>\n",
       "      <th>TeamCode</th>\n",
       "      <th>PlayerName</th>\n",
       "      <th>GoalsF</th>\n",
       "      <th>GoalsA</th>\n",
       "      <th>EVGoalsF</th>\n",
       "      <th>EVGoalsA</th>\n",
       "      <th>Plus/Minus</th>\n",
       "    </tr>\n",
       "  </thead>\n",
       "  <tbody>\n",
       "    <tr>\n",
       "      <th>341</th>\n",
       "      <td>2015</td>\n",
       "      <td>MTL</td>\n",
       "      <td>TOMAS PLEKANEC</td>\n",
       "      <td>83</td>\n",
       "      <td>61</td>\n",
       "      <td>58</td>\n",
       "      <td>45</td>\n",
       "      <td>13</td>\n",
       "    </tr>\n",
       "    <tr>\n",
       "      <th>343</th>\n",
       "      <td>2015</td>\n",
       "      <td>MTL</td>\n",
       "      <td>BRENDAN GALLAGHER</td>\n",
       "      <td>65</td>\n",
       "      <td>25</td>\n",
       "      <td>44</td>\n",
       "      <td>25</td>\n",
       "      <td>19</td>\n",
       "    </tr>\n",
       "    <tr>\n",
       "      <th>345</th>\n",
       "      <td>2015</td>\n",
       "      <td>MTL</td>\n",
       "      <td>MAX PACIORETTY</td>\n",
       "      <td>88</td>\n",
       "      <td>73</td>\n",
       "      <td>61</td>\n",
       "      <td>62</td>\n",
       "      <td>-1</td>\n",
       "    </tr>\n",
       "    <tr>\n",
       "      <th>347</th>\n",
       "      <td>2015</td>\n",
       "      <td>MTL</td>\n",
       "      <td>PK SUBBAN</td>\n",
       "      <td>107</td>\n",
       "      <td>75</td>\n",
       "      <td>72</td>\n",
       "      <td>60</td>\n",
       "      <td>12</td>\n",
       "    </tr>\n",
       "    <tr>\n",
       "      <th>349</th>\n",
       "      <td>2015</td>\n",
       "      <td>MTL</td>\n",
       "      <td>ANDREI MARKOV</td>\n",
       "      <td>98</td>\n",
       "      <td>85</td>\n",
       "      <td>67</td>\n",
       "      <td>64</td>\n",
       "      <td>3</td>\n",
       "    </tr>\n",
       "  </tbody>\n",
       "</table>\n",
       "</div>"
      ],
      "text/plain": [
       "     Season TeamCode         PlayerName  GoalsF  GoalsA  EVGoalsF  EVGoalsA  \\\n",
       "341    2015      MTL     TOMAS PLEKANEC      83      61        58        45   \n",
       "343    2015      MTL  BRENDAN GALLAGHER      65      25        44        25   \n",
       "345    2015      MTL     MAX PACIORETTY      88      73        61        62   \n",
       "347    2015      MTL          PK SUBBAN     107      75        72        60   \n",
       "349    2015      MTL      ANDREI MARKOV      98      85        67        64   \n",
       "\n",
       "     Plus/Minus  \n",
       "341          13  \n",
       "343          19  \n",
       "345          -1  \n",
       "347          12  \n",
       "349           3  "
      ]
     },
     "execution_count": 30,
     "metadata": {},
     "output_type": "execute_result"
    }
   ],
   "source": [
    "gfa = gfa[['Season', 'GameNumber', 'TeamCode', 'PlayerName' , 'GoalsF', 'GoalsA', 'EVGoalsF', 'EVGoalsA']]\n",
    "gfa = gfa.drop_duplicates(['Season', 'GameNumber', 'TeamCode', 'PlayerName'])\n",
    "gfa['Plus/Minus'] = gfa['EVGoalsF'] - gfa['EVGoalsA']\n",
    "gfa = gfa.drop_duplicates(['Season', 'TeamCode', 'PlayerName'])\n",
    "gfa = gfa[['Season', 'TeamCode', 'PlayerName' , 'GoalsF', 'GoalsA', 'EVGoalsF', 'EVGoalsA', 'Plus/Minus']]\n",
    "gfa.head()"
   ]
  },
  {
   "cell_type": "code",
   "execution_count": 31,
   "metadata": {
    "collapsed": false
   },
   "outputs": [
    {
     "data": {
      "text/plain": [
       "(1033, 8)"
      ]
     },
     "execution_count": 31,
     "metadata": {},
     "output_type": "execute_result"
    }
   ],
   "source": [
    "gfa.shape"
   ]
  },
  {
   "cell_type": "markdown",
   "metadata": {},
   "source": [
    "### create dataframes for all on-ice event types"
   ]
  },
  {
   "cell_type": "markdown",
   "metadata": {},
   "source": [
    "#### goals dataframe (dg)"
   ]
  },
  {
   "cell_type": "code",
   "execution_count": 32,
   "metadata": {
    "collapsed": true
   },
   "outputs": [],
   "source": [
    "dg = dc.copy()\n",
    "dg = dg[dg['Event'] == 'GOAL']"
   ]
  },
  {
   "cell_type": "code",
   "execution_count": 33,
   "metadata": {
    "collapsed": false
   },
   "outputs": [],
   "source": [
    "dg = dg[['Season', 'GameNumber', 'EventNumber', 'Event', 'EventTeamCode', 'EventPlayer1']]\n",
    "dg = dg.rename(columns={'EventPlayer1': 'PlayerName', 'EventTeamCode':'TeamCode'})"
   ]
  },
  {
   "cell_type": "markdown",
   "metadata": {},
   "source": [
    "- create a goal variable. If event type is a goal assign a value of 1. If not, assign a value of 0. Display total goals per player for a season."
   ]
  },
  {
   "cell_type": "code",
   "execution_count": 34,
   "metadata": {
    "collapsed": false
   },
   "outputs": [],
   "source": [
    "dg['Goal'] = dg.apply(lambda x: 1 if (x['Event'] == 'GOAL') else 0, axis=1)\n",
    "dg = dg.drop_duplicates(['Season', 'GameNumber', 'EventNumber', 'TeamCode', 'PlayerName'])\n",
    "dg['Goals'] = dg.groupby(['Season','TeamCode', 'PlayerName'])['Goal'].transform('sum')"
   ]
  },
  {
   "cell_type": "markdown",
   "metadata": {},
   "source": [
    "- keep one observation per player by game and drop duplicates. This purpose of this step is to calculate the quantity of games per player for a season. "
   ]
  },
  {
   "cell_type": "code",
   "execution_count": 35,
   "metadata": {
    "collapsed": false
   },
   "outputs": [
    {
     "data": {
      "text/html": [
       "<div>\n",
       "<table border=\"1\" class=\"dataframe\">\n",
       "  <thead>\n",
       "    <tr style=\"text-align: right;\">\n",
       "      <th></th>\n",
       "      <th>Season</th>\n",
       "      <th>TeamCode</th>\n",
       "      <th>PlayerName</th>\n",
       "      <th>Goals</th>\n",
       "    </tr>\n",
       "  </thead>\n",
       "  <tbody>\n",
       "    <tr>\n",
       "      <th>341</th>\n",
       "      <td>2015</td>\n",
       "      <td>MTL</td>\n",
       "      <td>MAX PACIORETTY</td>\n",
       "      <td>30</td>\n",
       "    </tr>\n",
       "    <tr>\n",
       "      <th>579</th>\n",
       "      <td>2015</td>\n",
       "      <td>TOR</td>\n",
       "      <td>JAMES VAN RIEMSDYK</td>\n",
       "      <td>14</td>\n",
       "    </tr>\n",
       "    <tr>\n",
       "      <th>1177</th>\n",
       "      <td>2015</td>\n",
       "      <td>MTL</td>\n",
       "      <td>ALEX GALCHENYUK</td>\n",
       "      <td>30</td>\n",
       "    </tr>\n",
       "    <tr>\n",
       "      <th>1728</th>\n",
       "      <td>2015</td>\n",
       "      <td>CHI</td>\n",
       "      <td>ARTEMI PANARIN</td>\n",
       "      <td>30</td>\n",
       "    </tr>\n",
       "    <tr>\n",
       "      <th>1842</th>\n",
       "      <td>2015</td>\n",
       "      <td>NYR</td>\n",
       "      <td>DEREK STEPAN</td>\n",
       "      <td>22</td>\n",
       "    </tr>\n",
       "  </tbody>\n",
       "</table>\n",
       "</div>"
      ],
      "text/plain": [
       "      Season TeamCode          PlayerName  Goals\n",
       "341     2015      MTL      MAX PACIORETTY     30\n",
       "579     2015      TOR  JAMES VAN RIEMSDYK     14\n",
       "1177    2015      MTL     ALEX GALCHENYUK     30\n",
       "1728    2015      CHI      ARTEMI PANARIN     30\n",
       "1842    2015      NYR        DEREK STEPAN     22"
      ]
     },
     "execution_count": 35,
     "metadata": {},
     "output_type": "execute_result"
    }
   ],
   "source": [
    "dg = dg.drop_duplicates(['Season', 'GameNumber', 'TeamCode', 'PlayerName'])\n",
    "dg = dg.drop_duplicates(['Season', 'TeamCode', 'PlayerName'])\n",
    "dg = dg[['Season', 'TeamCode', 'PlayerName', 'Goals']]\n",
    "dg.head()"
   ]
  },
  {
   "cell_type": "code",
   "execution_count": 36,
   "metadata": {
    "collapsed": false
   },
   "outputs": [
    {
     "data": {
      "text/plain": [
       "Season        0\n",
       "TeamCode      0\n",
       "PlayerName    0\n",
       "Goals         0\n",
       "dtype: int64"
      ]
     },
     "execution_count": 36,
     "metadata": {},
     "output_type": "execute_result"
    }
   ],
   "source": [
    "dg.isnull().sum()"
   ]
  },
  {
   "cell_type": "code",
   "execution_count": 37,
   "metadata": {
    "collapsed": false
   },
   "outputs": [
    {
     "data": {
      "text/plain": [
       "(728, 4)"
      ]
     },
     "execution_count": 37,
     "metadata": {},
     "output_type": "execute_result"
    }
   ],
   "source": [
    "dg.shape"
   ]
  },
  {
   "cell_type": "markdown",
   "metadata": {},
   "source": [
    "#### assists dataframe (dast)"
   ]
  },
  {
   "cell_type": "code",
   "execution_count": 38,
   "metadata": {
    "collapsed": true
   },
   "outputs": [],
   "source": [
    "dast = dc.copy()\n",
    "dast = dast[dast['Event'] == 'GOAL']"
   ]
  },
  {
   "cell_type": "code",
   "execution_count": 39,
   "metadata": {
    "collapsed": false
   },
   "outputs": [],
   "source": [
    "dast = dast[['Season', 'GameNumber', 'EventNumber', 'Event', 'EventTeamCode', 'EventPlayer2', 'EventPlayer3']]\n",
    "dast = dast.rename(columns={'EventPlayer2': 'Assist1Name', 'EventPlayer3': 'Assist2Name', 'EventTeamCode':'TeamCode'})"
   ]
  },
  {
   "cell_type": "markdown",
   "metadata": {},
   "source": [
    "- reshape assist players 1 and 2 to create one column of assist players"
   ]
  },
  {
   "cell_type": "code",
   "execution_count": 40,
   "metadata": {
    "collapsed": true
   },
   "outputs": [],
   "source": [
    "a = [col for col in dast.columns if 'Name' in col]\n",
    "dast = pd.lreshape(dast, {'PlayerName' : a})"
   ]
  },
  {
   "cell_type": "markdown",
   "metadata": {},
   "source": [
    "- create an assist variable. If event type is a goal assign a value of 1. If not, assign a value of 0. Display total goals per player for a season."
   ]
  },
  {
   "cell_type": "code",
   "execution_count": 41,
   "metadata": {
    "collapsed": true
   },
   "outputs": [],
   "source": [
    "dast['Assist'] = dast.apply(lambda x: 1 if (x['Event'] == 'GOAL') else 0, axis=1)\n",
    "dast = dast.drop_duplicates(['Season', 'GameNumber', 'EventNumber', 'TeamCode', 'PlayerName'])\n",
    "dast['Assists'] = dast.groupby(['Season','TeamCode', 'PlayerName'])['Assist'].transform('sum')"
   ]
  },
  {
   "cell_type": "markdown",
   "metadata": {},
   "source": [
    "- keep one observation per player by game and drop duplicates. This purpose of this step is to calculate the quantity of games per player for a season. "
   ]
  },
  {
   "cell_type": "code",
   "execution_count": 42,
   "metadata": {
    "collapsed": false
   },
   "outputs": [
    {
     "data": {
      "text/html": [
       "<div>\n",
       "<table border=\"1\" class=\"dataframe\">\n",
       "  <thead>\n",
       "    <tr style=\"text-align: right;\">\n",
       "      <th></th>\n",
       "      <th>Season</th>\n",
       "      <th>TeamCode</th>\n",
       "      <th>PlayerName</th>\n",
       "      <th>Assists</th>\n",
       "    </tr>\n",
       "  </thead>\n",
       "  <tbody>\n",
       "    <tr>\n",
       "      <th>0</th>\n",
       "      <td>2015</td>\n",
       "      <td>MTL</td>\n",
       "      <td>PK SUBBAN</td>\n",
       "      <td>45</td>\n",
       "    </tr>\n",
       "    <tr>\n",
       "      <th>6</th>\n",
       "      <td>2015</td>\n",
       "      <td>TOR</td>\n",
       "      <td>NAZEM KADRI</td>\n",
       "      <td>28</td>\n",
       "    </tr>\n",
       "    <tr>\n",
       "      <th>11</th>\n",
       "      <td>2015</td>\n",
       "      <td>MTL</td>\n",
       "      <td>ANDREI MARKOV</td>\n",
       "      <td>39</td>\n",
       "    </tr>\n",
       "    <tr>\n",
       "      <th>23</th>\n",
       "      <td>2015</td>\n",
       "      <td>CHI</td>\n",
       "      <td>PATRICK KANE</td>\n",
       "      <td>60</td>\n",
       "    </tr>\n",
       "    <tr>\n",
       "      <th>29</th>\n",
       "      <td>2015</td>\n",
       "      <td>NYR</td>\n",
       "      <td>KEVIN HAYES</td>\n",
       "      <td>22</td>\n",
       "    </tr>\n",
       "  </tbody>\n",
       "</table>\n",
       "</div>"
      ],
      "text/plain": [
       "    Season TeamCode     PlayerName  Assists\n",
       "0     2015      MTL      PK SUBBAN       45\n",
       "6     2015      TOR    NAZEM KADRI       28\n",
       "11    2015      MTL  ANDREI MARKOV       39\n",
       "23    2015      CHI   PATRICK KANE       60\n",
       "29    2015      NYR    KEVIN HAYES       22"
      ]
     },
     "execution_count": 42,
     "metadata": {},
     "output_type": "execute_result"
    }
   ],
   "source": [
    "dast = dast.drop_duplicates(['Season', 'GameNumber', 'TeamCode', 'PlayerName'])\n",
    "dast = dast.drop_duplicates(['Season', 'TeamCode', 'PlayerName'])\n",
    "dast = dast[['Season', 'TeamCode', 'PlayerName', 'Assists']]\n",
    "dast.head()"
   ]
  },
  {
   "cell_type": "code",
   "execution_count": 43,
   "metadata": {
    "collapsed": false
   },
   "outputs": [
    {
     "data": {
      "text/plain": [
       "Season        0\n",
       "TeamCode      0\n",
       "PlayerName    0\n",
       "Assists       0\n",
       "dtype: int64"
      ]
     },
     "execution_count": 43,
     "metadata": {},
     "output_type": "execute_result"
    }
   ],
   "source": [
    "dast.isnull().sum()"
   ]
  },
  {
   "cell_type": "code",
   "execution_count": 44,
   "metadata": {
    "collapsed": false
   },
   "outputs": [
    {
     "data": {
      "text/plain": [
       "(846, 4)"
      ]
     },
     "execution_count": 44,
     "metadata": {},
     "output_type": "execute_result"
    }
   ],
   "source": [
    "dast.shape"
   ]
  },
  {
   "cell_type": "markdown",
   "metadata": {},
   "source": [
    "#### shot dataframe (ds)"
   ]
  },
  {
   "cell_type": "code",
   "execution_count": 45,
   "metadata": {
    "collapsed": true
   },
   "outputs": [],
   "source": [
    "ds = dc.copy()\n",
    "ds = ds[ds['Event'] == 'SHOT']"
   ]
  },
  {
   "cell_type": "code",
   "execution_count": 46,
   "metadata": {
    "collapsed": false
   },
   "outputs": [
    {
     "data": {
      "text/html": [
       "<div>\n",
       "<table border=\"1\" class=\"dataframe\">\n",
       "  <thead>\n",
       "    <tr style=\"text-align: right;\">\n",
       "      <th></th>\n",
       "      <th>Season</th>\n",
       "      <th>GameNumber</th>\n",
       "      <th>EventNumber</th>\n",
       "      <th>Event</th>\n",
       "      <th>TeamCode</th>\n",
       "      <th>PlayerName</th>\n",
       "    </tr>\n",
       "  </thead>\n",
       "  <tbody>\n",
       "    <tr>\n",
       "      <th>18</th>\n",
       "      <td>2015</td>\n",
       "      <td>20001</td>\n",
       "      <td>4</td>\n",
       "      <td>SHOT</td>\n",
       "      <td>TOR</td>\n",
       "      <td>BRAD BOYES</td>\n",
       "    </tr>\n",
       "    <tr>\n",
       "      <th>19</th>\n",
       "      <td>2015</td>\n",
       "      <td>20001</td>\n",
       "      <td>4</td>\n",
       "      <td>SHOT</td>\n",
       "      <td>TOR</td>\n",
       "      <td>BRAD BOYES</td>\n",
       "    </tr>\n",
       "    <tr>\n",
       "      <th>20</th>\n",
       "      <td>2015</td>\n",
       "      <td>20001</td>\n",
       "      <td>4</td>\n",
       "      <td>SHOT</td>\n",
       "      <td>TOR</td>\n",
       "      <td>BRAD BOYES</td>\n",
       "    </tr>\n",
       "    <tr>\n",
       "      <th>21</th>\n",
       "      <td>2015</td>\n",
       "      <td>20001</td>\n",
       "      <td>4</td>\n",
       "      <td>SHOT</td>\n",
       "      <td>TOR</td>\n",
       "      <td>BRAD BOYES</td>\n",
       "    </tr>\n",
       "    <tr>\n",
       "      <th>22</th>\n",
       "      <td>2015</td>\n",
       "      <td>20001</td>\n",
       "      <td>4</td>\n",
       "      <td>SHOT</td>\n",
       "      <td>TOR</td>\n",
       "      <td>BRAD BOYES</td>\n",
       "    </tr>\n",
       "  </tbody>\n",
       "</table>\n",
       "</div>"
      ],
      "text/plain": [
       "    Season  GameNumber  EventNumber Event TeamCode  PlayerName\n",
       "18    2015       20001            4  SHOT      TOR  BRAD BOYES\n",
       "19    2015       20001            4  SHOT      TOR  BRAD BOYES\n",
       "20    2015       20001            4  SHOT      TOR  BRAD BOYES\n",
       "21    2015       20001            4  SHOT      TOR  BRAD BOYES\n",
       "22    2015       20001            4  SHOT      TOR  BRAD BOYES"
      ]
     },
     "execution_count": 46,
     "metadata": {},
     "output_type": "execute_result"
    }
   ],
   "source": [
    "ds = ds[['Season', 'GameNumber', 'EventNumber', 'Event', 'EventTeamCode', 'EventPlayer1']]\n",
    "ds = ds.rename(columns={'EventPlayer1': 'PlayerName', 'EventTeamCode':'TeamCode'})\n",
    "ds.head()"
   ]
  },
  {
   "cell_type": "markdown",
   "metadata": {},
   "source": [
    "- create a shot variable. If event type is a goal assign a value of 1. If not, assign a value of 0. Display total shots per player for a season."
   ]
  },
  {
   "cell_type": "code",
   "execution_count": 47,
   "metadata": {
    "collapsed": true
   },
   "outputs": [],
   "source": [
    "ds['Shot'] = ds.apply(lambda x: 1 if (x['Event'] == 'SHOT') else 0, axis=1)\n",
    "ds = ds.drop_duplicates(['Season', 'GameNumber', 'EventNumber', 'TeamCode', 'PlayerName'])\n",
    "ds['Shots'] = ds.groupby(['Season','TeamCode', 'PlayerName'])['Shot'].transform('sum')"
   ]
  },
  {
   "cell_type": "markdown",
   "metadata": {},
   "source": [
    "- drop duplicates to keep one observation per player for the season."
   ]
  },
  {
   "cell_type": "code",
   "execution_count": 48,
   "metadata": {
    "collapsed": false
   },
   "outputs": [
    {
     "data": {
      "text/html": [
       "<div>\n",
       "<table border=\"1\" class=\"dataframe\">\n",
       "  <thead>\n",
       "    <tr style=\"text-align: right;\">\n",
       "      <th></th>\n",
       "      <th>Season</th>\n",
       "      <th>TeamCode</th>\n",
       "      <th>PlayerName</th>\n",
       "      <th>Shots</th>\n",
       "    </tr>\n",
       "  </thead>\n",
       "  <tbody>\n",
       "    <tr>\n",
       "      <th>18</th>\n",
       "      <td>2015</td>\n",
       "      <td>TOR</td>\n",
       "      <td>BRAD BOYES</td>\n",
       "      <td>78</td>\n",
       "    </tr>\n",
       "    <tr>\n",
       "      <th>54</th>\n",
       "      <td>2015</td>\n",
       "      <td>MTL</td>\n",
       "      <td>TOMAS PLEKANEC</td>\n",
       "      <td>175</td>\n",
       "    </tr>\n",
       "    <tr>\n",
       "      <th>191</th>\n",
       "      <td>2015</td>\n",
       "      <td>TOR</td>\n",
       "      <td>MATT HUNWICK</td>\n",
       "      <td>72</td>\n",
       "    </tr>\n",
       "    <tr>\n",
       "      <th>209</th>\n",
       "      <td>2015</td>\n",
       "      <td>TOR</td>\n",
       "      <td>DION PHANEUF</td>\n",
       "      <td>113</td>\n",
       "    </tr>\n",
       "    <tr>\n",
       "      <th>227</th>\n",
       "      <td>2015</td>\n",
       "      <td>MTL</td>\n",
       "      <td>MAX PACIORETTY</td>\n",
       "      <td>273</td>\n",
       "    </tr>\n",
       "  </tbody>\n",
       "</table>\n",
       "</div>"
      ],
      "text/plain": [
       "     Season TeamCode      PlayerName  Shots\n",
       "18     2015      TOR      BRAD BOYES     78\n",
       "54     2015      MTL  TOMAS PLEKANEC    175\n",
       "191    2015      TOR    MATT HUNWICK     72\n",
       "209    2015      TOR    DION PHANEUF    113\n",
       "227    2015      MTL  MAX PACIORETTY    273"
      ]
     },
     "execution_count": 48,
     "metadata": {},
     "output_type": "execute_result"
    }
   ],
   "source": [
    "ds = ds.drop_duplicates(['Season', 'GameNumber', 'TeamCode', 'PlayerName'])\n",
    "ds = ds.drop_duplicates(['Season', 'TeamCode', 'PlayerName'])\n",
    "ds = ds[['Season', 'TeamCode', 'PlayerName', 'Shots']]\n",
    "ds.head()"
   ]
  },
  {
   "cell_type": "code",
   "execution_count": 49,
   "metadata": {
    "collapsed": false
   },
   "outputs": [
    {
     "data": {
      "text/plain": [
       "Season        0\n",
       "TeamCode      0\n",
       "PlayerName    0\n",
       "Shots         0\n",
       "dtype: int64"
      ]
     },
     "execution_count": 49,
     "metadata": {},
     "output_type": "execute_result"
    }
   ],
   "source": [
    "ds.isnull().sum()"
   ]
  },
  {
   "cell_type": "code",
   "execution_count": 50,
   "metadata": {
    "collapsed": false
   },
   "outputs": [
    {
     "data": {
      "text/plain": [
       "(942, 4)"
      ]
     },
     "execution_count": 50,
     "metadata": {},
     "output_type": "execute_result"
    }
   ],
   "source": [
    "ds.shape"
   ]
  },
  {
   "cell_type": "markdown",
   "metadata": {
    "collapsed": true
   },
   "source": [
    "#### block dataframe (db)"
   ]
  },
  {
   "cell_type": "code",
   "execution_count": 51,
   "metadata": {
    "collapsed": true
   },
   "outputs": [],
   "source": [
    "dbl = dc.copy()\n",
    "dbl = dbl[dbl['Event'] == 'BLOCK']"
   ]
  },
  {
   "cell_type": "code",
   "execution_count": 52,
   "metadata": {
    "collapsed": false
   },
   "outputs": [
    {
     "data": {
      "text/plain": [
       "(397434, 19)"
      ]
     },
     "execution_count": 52,
     "metadata": {},
     "output_type": "execute_result"
    }
   ],
   "source": [
    "dbl.shape"
   ]
  },
  {
   "cell_type": "code",
   "execution_count": 53,
   "metadata": {
    "collapsed": false
   },
   "outputs": [
    {
     "data": {
      "text/plain": [
       "0"
      ]
     },
     "execution_count": 53,
     "metadata": {},
     "output_type": "execute_result"
    }
   ],
   "source": [
    "dbl['EventPlayer2'].isnull().sum()"
   ]
  },
  {
   "cell_type": "code",
   "execution_count": 54,
   "metadata": {
    "collapsed": false
   },
   "outputs": [
    {
     "data": {
      "text/plain": [
       "397434"
      ]
     },
     "execution_count": 54,
     "metadata": {},
     "output_type": "execute_result"
    }
   ],
   "source": [
    "dbl['EventPlayer3'].isnull().sum()"
   ]
  },
  {
   "cell_type": "code",
   "execution_count": 55,
   "metadata": {
    "collapsed": false
   },
   "outputs": [],
   "source": [
    "dbl['BlockTeam'] = dbl.EventDetail.str.split(' ', expand = True)[6]\n",
    "dbl['BlockTeamCode'] = dbl.BlockTeam.str.split(' ', expand = True)[0]"
   ]
  },
  {
   "cell_type": "code",
   "execution_count": 56,
   "metadata": {
    "collapsed": false
   },
   "outputs": [],
   "source": [
    "dbl = dbl[['Season', 'GameNumber', 'EventNumber', 'Event', 'EventPlayer1', 'BlockTeamCode']]\n",
    "dbl = dbl.rename(columns={'EventPlayer1': 'PlayerName', 'BlockTeamCode':'TeamCode'})"
   ]
  },
  {
   "cell_type": "markdown",
   "metadata": {
    "collapsed": true
   },
   "source": [
    "- create a block variable. If event type is a block assign a value of 1. If not, assign a value of 0. Display total shots per player for a season."
   ]
  },
  {
   "cell_type": "code",
   "execution_count": 57,
   "metadata": {
    "collapsed": true
   },
   "outputs": [],
   "source": [
    "dbl['Block'] = dbl.apply(lambda x: 1 if (x['Event'] == 'BLOCK') else 0, axis=1)\n",
    "dbl = dbl.drop_duplicates(['Season', 'GameNumber', 'EventNumber', 'TeamCode', 'PlayerName'])\n",
    "dbl['Blocks'] = dbl.groupby(['Season','TeamCode', 'PlayerName'])['Block'].transform('sum')"
   ]
  },
  {
   "cell_type": "markdown",
   "metadata": {
    "collapsed": true
   },
   "source": [
    "- drop duplicates to keep one observation per player for the season."
   ]
  },
  {
   "cell_type": "code",
   "execution_count": 58,
   "metadata": {
    "collapsed": false
   },
   "outputs": [
    {
     "data": {
      "text/html": [
       "<div>\n",
       "<table border=\"1\" class=\"dataframe\">\n",
       "  <thead>\n",
       "    <tr style=\"text-align: right;\">\n",
       "      <th></th>\n",
       "      <th>Season</th>\n",
       "      <th>TeamCode</th>\n",
       "      <th>PlayerName</th>\n",
       "      <th>Blocks</th>\n",
       "    </tr>\n",
       "  </thead>\n",
       "  <tbody>\n",
       "    <tr>\n",
       "      <th>72</th>\n",
       "      <td>2015</td>\n",
       "      <td>MTL</td>\n",
       "      <td>BRENDAN GALLAGHER</td>\n",
       "      <td>24</td>\n",
       "    </tr>\n",
       "    <tr>\n",
       "      <th>126</th>\n",
       "      <td>2015</td>\n",
       "      <td>MTL</td>\n",
       "      <td>NATHAN BEAULIEU</td>\n",
       "      <td>89</td>\n",
       "    </tr>\n",
       "    <tr>\n",
       "      <th>161</th>\n",
       "      <td>2015</td>\n",
       "      <td>TOR</td>\n",
       "      <td>PETER HOLLAND</td>\n",
       "      <td>19</td>\n",
       "    </tr>\n",
       "    <tr>\n",
       "      <th>167</th>\n",
       "      <td>2015</td>\n",
       "      <td>TOR</td>\n",
       "      <td>LEO KOMAROV</td>\n",
       "      <td>27</td>\n",
       "    </tr>\n",
       "    <tr>\n",
       "      <th>179</th>\n",
       "      <td>2015</td>\n",
       "      <td>TOR</td>\n",
       "      <td>JAKE GARDINER</td>\n",
       "      <td>66</td>\n",
       "    </tr>\n",
       "  </tbody>\n",
       "</table>\n",
       "</div>"
      ],
      "text/plain": [
       "     Season TeamCode         PlayerName  Blocks\n",
       "72     2015      MTL  BRENDAN GALLAGHER      24\n",
       "126    2015      MTL    NATHAN BEAULIEU      89\n",
       "161    2015      TOR      PETER HOLLAND      19\n",
       "167    2015      TOR        LEO KOMAROV      27\n",
       "179    2015      TOR      JAKE GARDINER      66"
      ]
     },
     "execution_count": 58,
     "metadata": {},
     "output_type": "execute_result"
    }
   ],
   "source": [
    "dbl = dbl.drop_duplicates(['Season', 'GameNumber', 'TeamCode', 'PlayerName'])\n",
    "dbl = dbl.drop_duplicates(['Season', 'TeamCode', 'PlayerName'])\n",
    "dbl = dbl[['Season', 'TeamCode', 'PlayerName', 'Blocks']]\n",
    "dbl.head()"
   ]
  },
  {
   "cell_type": "code",
   "execution_count": 59,
   "metadata": {
    "collapsed": false
   },
   "outputs": [
    {
     "data": {
      "text/plain": [
       "Season        0\n",
       "TeamCode      0\n",
       "PlayerName    0\n",
       "Blocks        0\n",
       "dtype: int64"
      ]
     },
     "execution_count": 59,
     "metadata": {},
     "output_type": "execute_result"
    }
   ],
   "source": [
    "dbl.isnull().sum()"
   ]
  },
  {
   "cell_type": "code",
   "execution_count": 60,
   "metadata": {
    "collapsed": false
   },
   "outputs": [
    {
     "data": {
      "text/plain": [
       "(1139, 4)"
      ]
     },
     "execution_count": 60,
     "metadata": {},
     "output_type": "execute_result"
    }
   ],
   "source": [
    "dbl.shape"
   ]
  },
  {
   "cell_type": "markdown",
   "metadata": {
    "collapsed": true
   },
   "source": [
    "#### hit dataframe (dh)"
   ]
  },
  {
   "cell_type": "code",
   "execution_count": 61,
   "metadata": {
    "collapsed": true
   },
   "outputs": [],
   "source": [
    "dhit = dc.copy()\n",
    "dhit = dhit[dhit['Event'] == 'HIT']"
   ]
  },
  {
   "cell_type": "code",
   "execution_count": 62,
   "metadata": {
    "collapsed": false
   },
   "outputs": [
    {
     "data": {
      "text/plain": [
       "(674608, 19)"
      ]
     },
     "execution_count": 62,
     "metadata": {},
     "output_type": "execute_result"
    }
   ],
   "source": [
    "dhit.shape"
   ]
  },
  {
   "cell_type": "code",
   "execution_count": 63,
   "metadata": {
    "collapsed": false
   },
   "outputs": [
    {
     "data": {
      "text/plain": [
       "0"
      ]
     },
     "execution_count": 63,
     "metadata": {},
     "output_type": "execute_result"
    }
   ],
   "source": [
    "dhit['EventPlayer2'].isnull().sum()"
   ]
  },
  {
   "cell_type": "code",
   "execution_count": 64,
   "metadata": {
    "collapsed": false
   },
   "outputs": [
    {
     "data": {
      "text/plain": [
       "674608"
      ]
     },
     "execution_count": 64,
     "metadata": {},
     "output_type": "execute_result"
    }
   ],
   "source": [
    "dhit['EventPlayer3'].isnull().sum()"
   ]
  },
  {
   "cell_type": "code",
   "execution_count": 65,
   "metadata": {
    "collapsed": false
   },
   "outputs": [],
   "source": [
    "dhit = dhit[['Season', 'GameNumber', 'EventNumber', 'Event', 'EventTeamCode', 'EventPlayer1']]\n",
    "dhit = dhit.rename(columns={'EventPlayer1': 'PlayerName', 'EventTeamCode':'TeamCode'})"
   ]
  },
  {
   "cell_type": "markdown",
   "metadata": {},
   "source": [
    "- create a hit variable. If event type is a hit assign a value of 1. If not, assign a value of 0. Display total shots per player for a season."
   ]
  },
  {
   "cell_type": "code",
   "execution_count": 66,
   "metadata": {
    "collapsed": true
   },
   "outputs": [],
   "source": [
    "dhit['Hit'] = dhit.apply(lambda x: 1 if (x['Event'] == 'HIT') else 0, axis=1)\n",
    "dhit = dhit.drop_duplicates(['Season', 'GameNumber', 'EventNumber', 'TeamCode', 'PlayerName'])\n",
    "dhit['Hits'] = dhit.groupby(['Season','TeamCode', 'PlayerName'])['Hit'].transform('sum')"
   ]
  },
  {
   "cell_type": "markdown",
   "metadata": {},
   "source": [
    "- drop duplicates to keep one observation per player for the season."
   ]
  },
  {
   "cell_type": "code",
   "execution_count": 67,
   "metadata": {
    "collapsed": false
   },
   "outputs": [
    {
     "data": {
      "text/html": [
       "<div>\n",
       "<table border=\"1\" class=\"dataframe\">\n",
       "  <thead>\n",
       "    <tr style=\"text-align: right;\">\n",
       "      <th></th>\n",
       "      <th>Season</th>\n",
       "      <th>TeamCode</th>\n",
       "      <th>PlayerName</th>\n",
       "      <th>Hits</th>\n",
       "    </tr>\n",
       "  </thead>\n",
       "  <tbody>\n",
       "    <tr>\n",
       "      <th>12</th>\n",
       "      <td>2015</td>\n",
       "      <td>MTL</td>\n",
       "      <td>BRENDAN GALLAGHER</td>\n",
       "      <td>43</td>\n",
       "    </tr>\n",
       "    <tr>\n",
       "      <th>30</th>\n",
       "      <td>2015</td>\n",
       "      <td>TOR</td>\n",
       "      <td>PETER HOLLAND</td>\n",
       "      <td>78</td>\n",
       "    </tr>\n",
       "    <tr>\n",
       "      <th>42</th>\n",
       "      <td>2015</td>\n",
       "      <td>TOR</td>\n",
       "      <td>DANIEL WINNIK</td>\n",
       "      <td>41</td>\n",
       "    </tr>\n",
       "    <tr>\n",
       "      <th>84</th>\n",
       "      <td>2015</td>\n",
       "      <td>MTL</td>\n",
       "      <td>JEFF PETRY</td>\n",
       "      <td>86</td>\n",
       "    </tr>\n",
       "    <tr>\n",
       "      <th>121</th>\n",
       "      <td>2015</td>\n",
       "      <td>TOR</td>\n",
       "      <td>MATT HUNWICK</td>\n",
       "      <td>127</td>\n",
       "    </tr>\n",
       "  </tbody>\n",
       "</table>\n",
       "</div>"
      ],
      "text/plain": [
       "     Season TeamCode         PlayerName  Hits\n",
       "12     2015      MTL  BRENDAN GALLAGHER    43\n",
       "30     2015      TOR      PETER HOLLAND    78\n",
       "42     2015      TOR      DANIEL WINNIK    41\n",
       "84     2015      MTL         JEFF PETRY    86\n",
       "121    2015      TOR       MATT HUNWICK   127"
      ]
     },
     "execution_count": 67,
     "metadata": {},
     "output_type": "execute_result"
    }
   ],
   "source": [
    "dhit = dhit.drop_duplicates(['Season', 'GameNumber', 'TeamCode', 'PlayerName'])\n",
    "dhit = dhit.drop_duplicates(['Season', 'TeamCode', 'PlayerName'])\n",
    "dhit = dhit[['Season', 'TeamCode', 'PlayerName', 'Hits']]\n",
    "dhit.head()"
   ]
  },
  {
   "cell_type": "code",
   "execution_count": 68,
   "metadata": {
    "collapsed": false
   },
   "outputs": [
    {
     "data": {
      "text/plain": [
       "Season        0\n",
       "TeamCode      0\n",
       "PlayerName    0\n",
       "Hits          0\n",
       "dtype: int64"
      ]
     },
     "execution_count": 68,
     "metadata": {},
     "output_type": "execute_result"
    }
   ],
   "source": [
    "dhit.isnull().sum()"
   ]
  },
  {
   "cell_type": "code",
   "execution_count": 69,
   "metadata": {
    "collapsed": false
   },
   "outputs": [
    {
     "data": {
      "text/plain": [
       "(992, 4)"
      ]
     },
     "execution_count": 69,
     "metadata": {},
     "output_type": "execute_result"
    }
   ],
   "source": [
    "dhit.shape"
   ]
  },
  {
   "cell_type": "markdown",
   "metadata": {},
   "source": [
    "#### penalty dataframe (dpen)"
   ]
  },
  {
   "cell_type": "code",
   "execution_count": 70,
   "metadata": {
    "collapsed": false
   },
   "outputs": [],
   "source": [
    "dp = dc.copy()\n",
    "dp = dp[dp['Event'] == 'PENL']"
   ]
  },
  {
   "cell_type": "markdown",
   "metadata": {},
   "source": [
    "- use event detail to find the duration of a given penalty and to assign it to the proper player. Major penalty is 5 minutes, so a value of 5 is assigned for every event that had a major penalty."
   ]
  },
  {
   "cell_type": "code",
   "execution_count": 72,
   "metadata": {
    "collapsed": false
   },
   "outputs": [
    {
     "name": "stderr",
     "output_type": "stream",
     "text": [
      "/anaconda/lib/python3.6/site-packages/ipykernel/__main__.py:5: FutureWarning: convert_objects is deprecated.  Use the data-type specific converters pd.to_datetime, pd.to_timedelta and pd.to_numeric.\n"
     ]
    }
   ],
   "source": [
    "dp['Pen'] = dp.EventDetail.str.split(')', expand = True)[0]\n",
    "dp['Penal'] = dp.Pen.str.split('(', expand = True)[1]\n",
    "dp['Penalt'] = dp.Penal.str.split(' ', expand = True)[0]\n",
    "dp['Penalty'] = dp.apply(lambda x: 5 if x['Penalt'] == 'maj' else x['Penalt'], axis=1)\n",
    "dp['Penalty'] = dp['Penalty'].convert_objects(convert_numeric=True)\n",
    "dp = dp[['Season', 'GameNumber', 'Period', 'Time', 'EventNumber', 'Event', 'EventDetail', 'EventTeamCode', 'EventPlayer1', 'EventPlayer2', 'EventPlayer3', 'TeamCode', 'PlayerName', 'Penalty']]"
   ]
  },
  {
   "cell_type": "markdown",
   "metadata": {},
   "source": [
    "- use event detail to find penalty team code and penalty player name."
   ]
  },
  {
   "cell_type": "code",
   "execution_count": 73,
   "metadata": {
    "collapsed": false
   },
   "outputs": [],
   "source": [
    "dp['PenaltyTeamCode'] = dp.EventDetail.str.split('\\\\s', expand = True)[0]\n",
    "dp['PN'] = dp.EventDetail.str.split('\\\\s', expand = True)[1]\n",
    "dp['PNumber'] = dp.PN.str.split('#', expand = True)[1]\n",
    "dp['PenaltyPlayerNumber'] = dp.PNumber.str.split(' ', expand = True)[0]\n",
    "dp['PenaltyPlayerLName'] = dp.EventDetail.str.split('\\\\s', expand = True)[2]\n",
    "#dp['PenaltyPlayerLName'] = dp.PPlLN.str.split(' ', expand = True)[0]\n",
    "dp = dp[['Season', 'GameNumber', 'Period', 'Time', 'EventNumber', 'Event', 'EventDetail', 'EventTeamCode', 'EventPlayer1', 'EventPlayer2', 'EventPlayer3', 'TeamCode', 'PlayerName', 'Penalty', 'PenaltyTeamCode', 'PenaltyPlayerNumber', 'PenaltyPlayerLName']]"
   ]
  },
  {
   "cell_type": "markdown",
   "metadata": {},
   "source": [
    "- seperate player name into first and last. The purpose is to connect the correct player name to penalty player name."
   ]
  },
  {
   "cell_type": "code",
   "execution_count": 74,
   "metadata": {
    "collapsed": false
   },
   "outputs": [],
   "source": [
    "dp['PlayerFName'] = dp.PlayerName.str.split('\\\\s', expand = True)[0]\n",
    "dp['PlayerLName'] = dp.PlayerName.str.split('\\\\s', expand = True)[1]\n",
    "dp['PenaltyPlayerFName'] = dp.apply(lambda x: x['PlayerFName'] if ((x['PenaltyTeamCode'] == x['TeamCode']) & (x['PenaltyPlayerNumber'] == x['PenaltyPlayerNumber']) & (x['PlayerLName'] == x['PenaltyPlayerLName'])) else np.nan, axis=1)\n",
    "dp['PenaltyPlayerFName'] = dp.groupby(['Season','PenaltyTeamCode', 'PenaltyPlayerNumber', 'PenaltyPlayerLName'])['PenaltyPlayerFName'].apply(lambda x: x.ffill().bfill())"
   ]
  },
  {
   "cell_type": "code",
   "execution_count": 75,
   "metadata": {
    "collapsed": true
   },
   "outputs": [],
   "source": [
    "dp['PenaltyName'] = dp.apply(lambda x: x['PlayerName'] if ((x['PenaltyTeamCode'] == x['TeamCode']) & (x['PenaltyPlayerNumber'] == x['PenaltyPlayerNumber']) & (x['PlayerLName'] == x['PenaltyPlayerLName']) & (x['PlayerFName'] == x['PenaltyPlayerFName'])) else np.nan, axis=1)\n",
    "dp['PenaltyName'] = dp.groupby(['Season','PenaltyTeamCode', 'PenaltyPlayerLName', 'PenaltyPlayerNumber', 'PenaltyPlayerLName'])['PenaltyName'].apply(lambda x: x.ffill().bfill())\n"
   ]
  },
  {
   "cell_type": "markdown",
   "metadata": {},
   "source": [
    "- drop duplicates per game and event number. Calculate the total number of penalties for each player."
   ]
  },
  {
   "cell_type": "code",
   "execution_count": 76,
   "metadata": {
    "collapsed": false
   },
   "outputs": [],
   "source": [
    "dp = dp.drop_duplicates(['Season', 'GameNumber', 'EventNumber', 'PenaltyTeamCode', 'PenaltyPlayerNumber', 'PenaltyName'])\n",
    "dp['Penalties'] = dp.groupby(['Season', 'PenaltyTeamCode', 'PenaltyPlayerNumber', 'PenaltyName'])['Penalty'].transform('sum')\n",
    "dp['Penalties'] = dp.groupby(['Season','PenaltyTeamCode', 'PenaltyPlayerNumber', 'PlayerName'])['Penalties'].apply(lambda x: x.ffill().bfill())\n",
    "#dp.head()"
   ]
  },
  {
   "cell_type": "markdown",
   "metadata": {},
   "source": [
    "- drop duplicates to keep one observation per player for the season."
   ]
  },
  {
   "cell_type": "code",
   "execution_count": 77,
   "metadata": {
    "collapsed": false
   },
   "outputs": [
    {
     "data": {
      "text/html": [
       "<div>\n",
       "<table border=\"1\" class=\"dataframe\">\n",
       "  <thead>\n",
       "    <tr style=\"text-align: right;\">\n",
       "      <th></th>\n",
       "      <th>Season</th>\n",
       "      <th>TeamCode</th>\n",
       "      <th>PlayerName</th>\n",
       "      <th>Penalties</th>\n",
       "    </tr>\n",
       "  </thead>\n",
       "  <tbody>\n",
       "    <tr>\n",
       "      <th>90</th>\n",
       "      <td>2015</td>\n",
       "      <td>TOR</td>\n",
       "      <td>NAZEM KADRI</td>\n",
       "      <td>73.0</td>\n",
       "    </tr>\n",
       "    <tr>\n",
       "      <th>408</th>\n",
       "      <td>2015</td>\n",
       "      <td>TOR</td>\n",
       "      <td>LEO KOMAROV</td>\n",
       "      <td>40.0</td>\n",
       "    </tr>\n",
       "    <tr>\n",
       "      <th>409</th>\n",
       "      <td>2015</td>\n",
       "      <td>MTL</td>\n",
       "      <td>DEVANTE SMITH-PELLY</td>\n",
       "      <td>22.0</td>\n",
       "    </tr>\n",
       "    <tr>\n",
       "      <th>568</th>\n",
       "      <td>2015</td>\n",
       "      <td>MTL</td>\n",
       "      <td>BRENDAN GALLAGHER</td>\n",
       "      <td>24.0</td>\n",
       "    </tr>\n",
       "    <tr>\n",
       "      <th>1088</th>\n",
       "      <td>2015</td>\n",
       "      <td>MTL</td>\n",
       "      <td>LARS ELLER</td>\n",
       "      <td>26.0</td>\n",
       "    </tr>\n",
       "  </tbody>\n",
       "</table>\n",
       "</div>"
      ],
      "text/plain": [
       "      Season TeamCode           PlayerName  Penalties\n",
       "90      2015      TOR          NAZEM KADRI       73.0\n",
       "408     2015      TOR          LEO KOMAROV       40.0\n",
       "409     2015      MTL  DEVANTE SMITH-PELLY       22.0\n",
       "568     2015      MTL    BRENDAN GALLAGHER       24.0\n",
       "1088    2015      MTL           LARS ELLER       26.0"
      ]
     },
     "execution_count": 77,
     "metadata": {},
     "output_type": "execute_result"
    }
   ],
   "source": [
    "dp = dp[['Season', 'PenaltyTeamCode', 'PenaltyName', 'Penalties']]\n",
    "dp = dp.drop_duplicates(['Season', 'PenaltyTeamCode', 'PenaltyName'])\n",
    "dp = dp.rename(columns={'PenaltyTeamCode':'TeamCode', 'PenaltyName':'PlayerName'})\n",
    "dp = dp[['Season', 'TeamCode', 'PlayerName', 'Penalties']]\n",
    "dp.head()"
   ]
  },
  {
   "cell_type": "markdown",
   "metadata": {},
   "source": [
    "- keep observations that are not null. Since a team can be allocated a penalty, those observations are excluded from the data."
   ]
  },
  {
   "cell_type": "code",
   "execution_count": 78,
   "metadata": {
    "collapsed": false
   },
   "outputs": [
    {
     "data": {
      "text/plain": [
       "30"
      ]
     },
     "execution_count": 78,
     "metadata": {},
     "output_type": "execute_result"
    }
   ],
   "source": [
    "dp['PlayerName'].isnull().sum()"
   ]
  },
  {
   "cell_type": "code",
   "execution_count": 79,
   "metadata": {
    "collapsed": true
   },
   "outputs": [],
   "source": [
    "dp = dp[dp['PlayerName'].notnull()]"
   ]
  },
  {
   "cell_type": "code",
   "execution_count": 80,
   "metadata": {
    "collapsed": false
   },
   "outputs": [
    {
     "data": {
      "text/plain": [
       "Season        0\n",
       "TeamCode      0\n",
       "PlayerName    0\n",
       "Penalties     0\n",
       "dtype: int64"
      ]
     },
     "execution_count": 80,
     "metadata": {},
     "output_type": "execute_result"
    }
   ],
   "source": [
    "dp.isnull().sum()"
   ]
  },
  {
   "cell_type": "code",
   "execution_count": 81,
   "metadata": {
    "collapsed": false
   },
   "outputs": [
    {
     "data": {
      "text/plain": [
       "(889, 4)"
      ]
     },
     "execution_count": 81,
     "metadata": {},
     "output_type": "execute_result"
    }
   ],
   "source": [
    "dp.shape"
   ]
  },
  {
   "cell_type": "markdown",
   "metadata": {},
   "source": [
    "####  miss dataframe (dmiss)"
   ]
  },
  {
   "cell_type": "code",
   "execution_count": 82,
   "metadata": {
    "collapsed": true
   },
   "outputs": [],
   "source": [
    "dmiss = dc.copy()\n",
    "dmiss = dmiss[dmiss['Event'] == 'MISS']"
   ]
  },
  {
   "cell_type": "code",
   "execution_count": 83,
   "metadata": {
    "collapsed": false
   },
   "outputs": [
    {
     "data": {
      "text/plain": [
       "(324756, 19)"
      ]
     },
     "execution_count": 83,
     "metadata": {},
     "output_type": "execute_result"
    }
   ],
   "source": [
    "dmiss.shape"
   ]
  },
  {
   "cell_type": "code",
   "execution_count": 84,
   "metadata": {
    "collapsed": false
   },
   "outputs": [
    {
     "data": {
      "text/plain": [
       "324756"
      ]
     },
     "execution_count": 84,
     "metadata": {},
     "output_type": "execute_result"
    }
   ],
   "source": [
    "dmiss['EventPlayer2'].isnull().sum()"
   ]
  },
  {
   "cell_type": "code",
   "execution_count": 85,
   "metadata": {
    "collapsed": false
   },
   "outputs": [
    {
     "data": {
      "text/plain": [
       "324756"
      ]
     },
     "execution_count": 85,
     "metadata": {},
     "output_type": "execute_result"
    }
   ],
   "source": [
    "dmiss['EventPlayer3'].isnull().sum()"
   ]
  },
  {
   "cell_type": "code",
   "execution_count": 86,
   "metadata": {
    "collapsed": false
   },
   "outputs": [],
   "source": [
    "dmiss = dmiss[['Season', 'GameNumber', 'EventNumber', 'Event', 'EventTeamCode', 'EventPlayer1']]\n",
    "dmiss = dmiss.rename(columns={'EventPlayer1': 'PlayerName', 'EventTeamCode':'TeamCode'})"
   ]
  },
  {
   "cell_type": "markdown",
   "metadata": {},
   "source": [
    "- create a miss variable. If event type is a miss assign a value of 1. If not, assign a value of 0. Display total shots per player for a season."
   ]
  },
  {
   "cell_type": "code",
   "execution_count": 87,
   "metadata": {
    "collapsed": true
   },
   "outputs": [],
   "source": [
    "dmiss['Miss'] = dmiss.apply(lambda x: 1 if (x['Event'] == 'MISS') else 0, axis=1)\n",
    "dmiss = dmiss.drop_duplicates(['Season', 'GameNumber', 'EventNumber', 'TeamCode', 'PlayerName'])\n",
    "dmiss['Misses'] = dmiss.groupby(['Season','TeamCode', 'PlayerName'])['Miss'].transform('sum')"
   ]
  },
  {
   "cell_type": "markdown",
   "metadata": {},
   "source": [
    "- drop duplicates to keep one observation per player for the season."
   ]
  },
  {
   "cell_type": "code",
   "execution_count": 88,
   "metadata": {
    "collapsed": false
   },
   "outputs": [
    {
     "data": {
      "text/html": [
       "<div>\n",
       "<table border=\"1\" class=\"dataframe\">\n",
       "  <thead>\n",
       "    <tr style=\"text-align: right;\">\n",
       "      <th></th>\n",
       "      <th>Season</th>\n",
       "      <th>TeamCode</th>\n",
       "      <th>PlayerName</th>\n",
       "      <th>Misses</th>\n",
       "    </tr>\n",
       "  </thead>\n",
       "  <tbody>\n",
       "    <tr>\n",
       "      <th>66</th>\n",
       "      <td>2015</td>\n",
       "      <td>MTL</td>\n",
       "      <td>PK SUBBAN</td>\n",
       "      <td>72</td>\n",
       "    </tr>\n",
       "    <tr>\n",
       "      <th>101</th>\n",
       "      <td>2015</td>\n",
       "      <td>MTL</td>\n",
       "      <td>ANDREI MARKOV</td>\n",
       "      <td>58</td>\n",
       "    </tr>\n",
       "    <tr>\n",
       "      <th>111</th>\n",
       "      <td>2015</td>\n",
       "      <td>MTL</td>\n",
       "      <td>ALEX GALCHENYUK</td>\n",
       "      <td>80</td>\n",
       "    </tr>\n",
       "    <tr>\n",
       "      <th>239</th>\n",
       "      <td>2015</td>\n",
       "      <td>MTL</td>\n",
       "      <td>LARS ELLER</td>\n",
       "      <td>60</td>\n",
       "    </tr>\n",
       "    <tr>\n",
       "      <th>299</th>\n",
       "      <td>2015</td>\n",
       "      <td>TOR</td>\n",
       "      <td>SCOTT HARRINGTON</td>\n",
       "      <td>8</td>\n",
       "    </tr>\n",
       "  </tbody>\n",
       "</table>\n",
       "</div>"
      ],
      "text/plain": [
       "     Season TeamCode        PlayerName  Misses\n",
       "66     2015      MTL         PK SUBBAN      72\n",
       "101    2015      MTL     ANDREI MARKOV      58\n",
       "111    2015      MTL   ALEX GALCHENYUK      80\n",
       "239    2015      MTL        LARS ELLER      60\n",
       "299    2015      TOR  SCOTT HARRINGTON       8"
      ]
     },
     "execution_count": 88,
     "metadata": {},
     "output_type": "execute_result"
    }
   ],
   "source": [
    "dmiss = dmiss.drop_duplicates(['Season', 'GameNumber', 'TeamCode', 'PlayerName'])\n",
    "dmiss = dmiss.drop_duplicates(['Season', 'TeamCode', 'PlayerName'])\n",
    "dmiss = dmiss[['Season', 'TeamCode', 'PlayerName', 'Misses']]\n",
    "dmiss.head()"
   ]
  },
  {
   "cell_type": "code",
   "execution_count": 89,
   "metadata": {
    "collapsed": false
   },
   "outputs": [
    {
     "data": {
      "text/plain": [
       "Season        0\n",
       "TeamCode      0\n",
       "PlayerName    0\n",
       "Misses        0\n",
       "dtype: int64"
      ]
     },
     "execution_count": 89,
     "metadata": {},
     "output_type": "execute_result"
    }
   ],
   "source": [
    "dmiss.isnull().sum()"
   ]
  },
  {
   "cell_type": "code",
   "execution_count": 90,
   "metadata": {
    "collapsed": false
   },
   "outputs": [
    {
     "data": {
      "text/plain": [
       "(899, 4)"
      ]
     },
     "execution_count": 90,
     "metadata": {},
     "output_type": "execute_result"
    }
   ],
   "source": [
    "dmiss.shape"
   ]
  },
  {
   "cell_type": "markdown",
   "metadata": {},
   "source": [
    "####  takeaway dataframe (dtake)"
   ]
  },
  {
   "cell_type": "code",
   "execution_count": 91,
   "metadata": {
    "collapsed": true
   },
   "outputs": [],
   "source": [
    "dtake = dc.copy()\n",
    "dtake = dtake[dtake['Event'] == 'TAKE']"
   ]
  },
  {
   "cell_type": "code",
   "execution_count": 92,
   "metadata": {
    "collapsed": false
   },
   "outputs": [
    {
     "data": {
      "text/plain": [
       "(178901, 19)"
      ]
     },
     "execution_count": 92,
     "metadata": {},
     "output_type": "execute_result"
    }
   ],
   "source": [
    "dtake.shape"
   ]
  },
  {
   "cell_type": "code",
   "execution_count": 93,
   "metadata": {
    "collapsed": false
   },
   "outputs": [
    {
     "data": {
      "text/plain": [
       "178901"
      ]
     },
     "execution_count": 93,
     "metadata": {},
     "output_type": "execute_result"
    }
   ],
   "source": [
    "dtake['EventPlayer2'].isnull().sum()"
   ]
  },
  {
   "cell_type": "code",
   "execution_count": 94,
   "metadata": {
    "collapsed": false
   },
   "outputs": [
    {
     "data": {
      "text/plain": [
       "178901"
      ]
     },
     "execution_count": 94,
     "metadata": {},
     "output_type": "execute_result"
    }
   ],
   "source": [
    "dtake['EventPlayer3'].isnull().sum()"
   ]
  },
  {
   "cell_type": "code",
   "execution_count": 95,
   "metadata": {
    "collapsed": true
   },
   "outputs": [],
   "source": [
    "dtake = dtake[['Season', 'GameNumber', 'EventNumber', 'Event', 'EventTeamCode', 'EventPlayer1']]\n",
    "dtake = dtake.rename(columns={'EventPlayer1': 'PlayerName', 'EventTeamCode':'TeamCode'})"
   ]
  },
  {
   "cell_type": "markdown",
   "metadata": {},
   "source": [
    "- create a takeaway variable. If event type is a takeaway assign a value of 1. If not, assign a value of 0. Display total shots per player for a season."
   ]
  },
  {
   "cell_type": "code",
   "execution_count": 96,
   "metadata": {
    "collapsed": true
   },
   "outputs": [],
   "source": [
    "dtake['Takeaway'] = dtake.apply(lambda x: 1 if (x['Event'] == 'TAKE') else 0, axis=1)\n",
    "dtake = dtake.drop_duplicates(['Season', 'GameNumber', 'EventNumber', 'TeamCode', 'PlayerName'])\n",
    "dtake['Takeaways'] = dtake.groupby(['Season','TeamCode', 'PlayerName'])['Takeaway'].transform('sum')"
   ]
  },
  {
   "cell_type": "markdown",
   "metadata": {},
   "source": [
    "- drop duplicates to keep one observation per player for the season."
   ]
  },
  {
   "cell_type": "code",
   "execution_count": 97,
   "metadata": {
    "collapsed": false
   },
   "outputs": [
    {
     "data": {
      "text/html": [
       "<div>\n",
       "<table border=\"1\" class=\"dataframe\">\n",
       "  <thead>\n",
       "    <tr style=\"text-align: right;\">\n",
       "      <th></th>\n",
       "      <th>Season</th>\n",
       "      <th>TeamCode</th>\n",
       "      <th>PlayerName</th>\n",
       "      <th>Takeaways</th>\n",
       "    </tr>\n",
       "  </thead>\n",
       "  <tbody>\n",
       "    <tr>\n",
       "      <th>143</th>\n",
       "      <td>2015</td>\n",
       "      <td>TOR</td>\n",
       "      <td>BRAD BOYES</td>\n",
       "      <td>25</td>\n",
       "    </tr>\n",
       "    <tr>\n",
       "      <th>185</th>\n",
       "      <td>2015</td>\n",
       "      <td>TOR</td>\n",
       "      <td>SCOTT HARRINGTON</td>\n",
       "      <td>1</td>\n",
       "    </tr>\n",
       "    <tr>\n",
       "      <th>221</th>\n",
       "      <td>2015</td>\n",
       "      <td>MTL</td>\n",
       "      <td>BRENDAN GALLAGHER</td>\n",
       "      <td>30</td>\n",
       "    </tr>\n",
       "    <tr>\n",
       "      <th>245</th>\n",
       "      <td>2015</td>\n",
       "      <td>MTL</td>\n",
       "      <td>ALEXANDER SEMIN</td>\n",
       "      <td>6</td>\n",
       "    </tr>\n",
       "    <tr>\n",
       "      <th>465</th>\n",
       "      <td>2015</td>\n",
       "      <td>TOR</td>\n",
       "      <td>MATT HUNWICK</td>\n",
       "      <td>24</td>\n",
       "    </tr>\n",
       "  </tbody>\n",
       "</table>\n",
       "</div>"
      ],
      "text/plain": [
       "     Season TeamCode         PlayerName  Takeaways\n",
       "143    2015      TOR         BRAD BOYES         25\n",
       "185    2015      TOR   SCOTT HARRINGTON          1\n",
       "221    2015      MTL  BRENDAN GALLAGHER         30\n",
       "245    2015      MTL    ALEXANDER SEMIN          6\n",
       "465    2015      TOR       MATT HUNWICK         24"
      ]
     },
     "execution_count": 97,
     "metadata": {},
     "output_type": "execute_result"
    }
   ],
   "source": [
    "dtake = dtake.drop_duplicates(['Season', 'GameNumber', 'TeamCode', 'PlayerName'])\n",
    "dtake = dtake.drop_duplicates(['Season', 'TeamCode', 'PlayerName'])\n",
    "dtake = dtake[['Season', 'TeamCode', 'PlayerName', 'Takeaways']]\n",
    "dtake.head()"
   ]
  },
  {
   "cell_type": "code",
   "execution_count": 98,
   "metadata": {
    "collapsed": false
   },
   "outputs": [
    {
     "data": {
      "text/plain": [
       "Season        0\n",
       "TeamCode      0\n",
       "PlayerName    0\n",
       "Takeaways     0\n",
       "dtype: int64"
      ]
     },
     "execution_count": 98,
     "metadata": {},
     "output_type": "execute_result"
    }
   ],
   "source": [
    "dtake.isnull().sum()"
   ]
  },
  {
   "cell_type": "code",
   "execution_count": 99,
   "metadata": {
    "collapsed": false
   },
   "outputs": [
    {
     "data": {
      "text/plain": [
       "(868, 4)"
      ]
     },
     "execution_count": 99,
     "metadata": {},
     "output_type": "execute_result"
    }
   ],
   "source": [
    "dtake.shape"
   ]
  },
  {
   "cell_type": "markdown",
   "metadata": {},
   "source": [
    "####  giveaway dataframe (dgive)"
   ]
  },
  {
   "cell_type": "code",
   "execution_count": 100,
   "metadata": {
    "collapsed": true
   },
   "outputs": [],
   "source": [
    "dgive = dc.copy()\n",
    "dgive = dgive[dgive['Event'] == 'GIVE']"
   ]
  },
  {
   "cell_type": "code",
   "execution_count": 101,
   "metadata": {
    "collapsed": false
   },
   "outputs": [
    {
     "data": {
      "text/plain": [
       "(235069, 19)"
      ]
     },
     "execution_count": 101,
     "metadata": {},
     "output_type": "execute_result"
    }
   ],
   "source": [
    "dgive.shape"
   ]
  },
  {
   "cell_type": "code",
   "execution_count": 102,
   "metadata": {
    "collapsed": false
   },
   "outputs": [
    {
     "data": {
      "text/plain": [
       "235069"
      ]
     },
     "execution_count": 102,
     "metadata": {},
     "output_type": "execute_result"
    }
   ],
   "source": [
    "dgive['EventPlayer2'].isnull().sum()"
   ]
  },
  {
   "cell_type": "code",
   "execution_count": 103,
   "metadata": {
    "collapsed": false
   },
   "outputs": [
    {
     "data": {
      "text/plain": [
       "235069"
      ]
     },
     "execution_count": 103,
     "metadata": {},
     "output_type": "execute_result"
    }
   ],
   "source": [
    "dgive['EventPlayer3'].isnull().sum()"
   ]
  },
  {
   "cell_type": "code",
   "execution_count": 104,
   "metadata": {
    "collapsed": true
   },
   "outputs": [],
   "source": [
    "dgive = dgive[['Season', 'GameNumber', 'EventNumber', 'Event', 'EventTeamCode', 'EventPlayer1']]\n",
    "dgive = dgive.rename(columns={'EventPlayer1': 'PlayerName', 'EventTeamCode':'TeamCode'})"
   ]
  },
  {
   "cell_type": "markdown",
   "metadata": {},
   "source": [
    "- create a giveaway variable. If event type is a giveaway assign a value of 1. If not, assign a value of 0. Display total shots per player for a season."
   ]
  },
  {
   "cell_type": "code",
   "execution_count": 105,
   "metadata": {
    "collapsed": true
   },
   "outputs": [],
   "source": [
    "dgive['Giveaway'] = dgive.apply(lambda x: 1 if (x['Event'] == 'GIVE') else 0, axis=1)\n",
    "dgive = dgive.drop_duplicates(['Season', 'GameNumber', 'EventNumber', 'TeamCode', 'PlayerName'])\n",
    "dgive['Giveaways'] = dgive.groupby(['Season','TeamCode', 'PlayerName'])['Giveaway'].transform('sum')"
   ]
  },
  {
   "cell_type": "markdown",
   "metadata": {},
   "source": [
    "- drop duplicates to keep one observation per player for the season."
   ]
  },
  {
   "cell_type": "code",
   "execution_count": 106,
   "metadata": {
    "collapsed": false
   },
   "outputs": [
    {
     "data": {
      "text/html": [
       "<div>\n",
       "<table border=\"1\" class=\"dataframe\">\n",
       "  <thead>\n",
       "    <tr style=\"text-align: right;\">\n",
       "      <th></th>\n",
       "      <th>Season</th>\n",
       "      <th>TeamCode</th>\n",
       "      <th>PlayerName</th>\n",
       "      <th>Giveaways</th>\n",
       "    </tr>\n",
       "  </thead>\n",
       "  <tbody>\n",
       "    <tr>\n",
       "      <th>24</th>\n",
       "      <td>2015</td>\n",
       "      <td>MTL</td>\n",
       "      <td>ALEXEI EMELIN</td>\n",
       "      <td>75</td>\n",
       "    </tr>\n",
       "    <tr>\n",
       "      <th>48</th>\n",
       "      <td>2015</td>\n",
       "      <td>TOR</td>\n",
       "      <td>MORGAN RIELLY</td>\n",
       "      <td>72</td>\n",
       "    </tr>\n",
       "    <tr>\n",
       "      <th>131</th>\n",
       "      <td>2015</td>\n",
       "      <td>MTL</td>\n",
       "      <td>NATHAN BEAULIEU</td>\n",
       "      <td>48</td>\n",
       "    </tr>\n",
       "    <tr>\n",
       "      <th>311</th>\n",
       "      <td>2015</td>\n",
       "      <td>MTL</td>\n",
       "      <td>TORREY MITCHELL</td>\n",
       "      <td>27</td>\n",
       "    </tr>\n",
       "    <tr>\n",
       "      <th>330</th>\n",
       "      <td>2015</td>\n",
       "      <td>MTL</td>\n",
       "      <td>DEVANTE SMITH-PELLY</td>\n",
       "      <td>15</td>\n",
       "    </tr>\n",
       "  </tbody>\n",
       "</table>\n",
       "</div>"
      ],
      "text/plain": [
       "     Season TeamCode           PlayerName  Giveaways\n",
       "24     2015      MTL        ALEXEI EMELIN         75\n",
       "48     2015      TOR        MORGAN RIELLY         72\n",
       "131    2015      MTL      NATHAN BEAULIEU         48\n",
       "311    2015      MTL      TORREY MITCHELL         27\n",
       "330    2015      MTL  DEVANTE SMITH-PELLY         15"
      ]
     },
     "execution_count": 106,
     "metadata": {},
     "output_type": "execute_result"
    }
   ],
   "source": [
    "dgive = dgive.drop_duplicates(['Season', 'GameNumber', 'TeamCode', 'PlayerName'])\n",
    "dgive = dgive.drop_duplicates(['Season', 'TeamCode', 'PlayerName'])\n",
    "dgive = dgive[['Season', 'TeamCode', 'PlayerName', 'Giveaways']]\n",
    "dgive.head()"
   ]
  },
  {
   "cell_type": "code",
   "execution_count": 107,
   "metadata": {
    "collapsed": false
   },
   "outputs": [
    {
     "data": {
      "text/plain": [
       "Season        0\n",
       "TeamCode      0\n",
       "PlayerName    0\n",
       "Giveaways     0\n",
       "dtype: int64"
      ]
     },
     "execution_count": 107,
     "metadata": {},
     "output_type": "execute_result"
    }
   ],
   "source": [
    "dgive.isnull().sum()"
   ]
  },
  {
   "cell_type": "code",
   "execution_count": 108,
   "metadata": {
    "collapsed": false
   },
   "outputs": [
    {
     "data": {
      "text/plain": [
       "(965, 4)"
      ]
     },
     "execution_count": 108,
     "metadata": {},
     "output_type": "execute_result"
    }
   ],
   "source": [
    "dgive.shape"
   ]
  },
  {
   "cell_type": "markdown",
   "metadata": {},
   "source": [
    "### import 2015 player shifts"
   ]
  },
  {
   "cell_type": "code",
   "execution_count": 109,
   "metadata": {
    "collapsed": true
   },
   "outputs": [],
   "source": [
    "dshift = pd.read_csv('/Users/stefanostselios/Brock University/Kevin Mongeon - StephanosShare/data/nhl_shifts20152016.csv')\n",
    "#dshift = pd.read_csv('/Users/kevinmongeon/Brock University/Steve Tselios - StephanosShare/data/nhl_shifts20152016.csv')\n",
    "dshift = dshift.drop('Unnamed: 0', axis=1)"
   ]
  },
  {
   "cell_type": "markdown",
   "metadata": {},
   "source": [
    "- rename variables, keep only regular season games and create a season variable."
   ]
  },
  {
   "cell_type": "code",
   "execution_count": 110,
   "metadata": {
    "collapsed": false
   },
   "outputs": [
    {
     "data": {
      "text/html": [
       "<div>\n",
       "<table border=\"1\" class=\"dataframe\">\n",
       "  <thead>\n",
       "    <tr style=\"text-align: right;\">\n",
       "      <th></th>\n",
       "      <th>Season</th>\n",
       "      <th>Date</th>\n",
       "      <th>GameNumber</th>\n",
       "      <th>Period</th>\n",
       "      <th>TeamCode</th>\n",
       "      <th>PlayerName</th>\n",
       "      <th>Player_Id</th>\n",
       "      <th>Start</th>\n",
       "      <th>End</th>\n",
       "      <th>Duration</th>\n",
       "    </tr>\n",
       "  </thead>\n",
       "  <tbody>\n",
       "    <tr>\n",
       "      <th>0</th>\n",
       "      <td>2015</td>\n",
       "      <td>2015-10-07</td>\n",
       "      <td>20001</td>\n",
       "      <td>1</td>\n",
       "      <td>MTL</td>\n",
       "      <td>ANDREI MARKOV</td>\n",
       "      <td>8467496.0</td>\n",
       "      <td>0.0</td>\n",
       "      <td>36.0</td>\n",
       "      <td>36.0</td>\n",
       "    </tr>\n",
       "    <tr>\n",
       "      <th>1</th>\n",
       "      <td>2015</td>\n",
       "      <td>2015-10-07</td>\n",
       "      <td>20001</td>\n",
       "      <td>1</td>\n",
       "      <td>MTL</td>\n",
       "      <td>MAX PACIORETTY</td>\n",
       "      <td>8474157.0</td>\n",
       "      <td>0.0</td>\n",
       "      <td>36.0</td>\n",
       "      <td>36.0</td>\n",
       "    </tr>\n",
       "    <tr>\n",
       "      <th>2</th>\n",
       "      <td>2015</td>\n",
       "      <td>2015-10-07</td>\n",
       "      <td>20001</td>\n",
       "      <td>1</td>\n",
       "      <td>MTL</td>\n",
       "      <td>TOMAS PLEKANEC</td>\n",
       "      <td>8469521.0</td>\n",
       "      <td>0.0</td>\n",
       "      <td>36.0</td>\n",
       "      <td>36.0</td>\n",
       "    </tr>\n",
       "    <tr>\n",
       "      <th>3</th>\n",
       "      <td>2015</td>\n",
       "      <td>2015-10-07</td>\n",
       "      <td>20001</td>\n",
       "      <td>1</td>\n",
       "      <td>TOR</td>\n",
       "      <td>JOFFREY LUPUL</td>\n",
       "      <td>8470207.0</td>\n",
       "      <td>0.0</td>\n",
       "      <td>37.0</td>\n",
       "      <td>37.0</td>\n",
       "    </tr>\n",
       "    <tr>\n",
       "      <th>4</th>\n",
       "      <td>2015</td>\n",
       "      <td>2015-10-07</td>\n",
       "      <td>20001</td>\n",
       "      <td>1</td>\n",
       "      <td>TOR</td>\n",
       "      <td>TYLER BOZAK</td>\n",
       "      <td>8475098.0</td>\n",
       "      <td>0.0</td>\n",
       "      <td>37.0</td>\n",
       "      <td>37.0</td>\n",
       "    </tr>\n",
       "  </tbody>\n",
       "</table>\n",
       "</div>"
      ],
      "text/plain": [
       "   Season        Date  GameNumber  Period TeamCode      PlayerName  Player_Id  \\\n",
       "0    2015  2015-10-07       20001       1      MTL   ANDREI MARKOV  8467496.0   \n",
       "1    2015  2015-10-07       20001       1      MTL  MAX PACIORETTY  8474157.0   \n",
       "2    2015  2015-10-07       20001       1      MTL  TOMAS PLEKANEC  8469521.0   \n",
       "3    2015  2015-10-07       20001       1      TOR   JOFFREY LUPUL  8470207.0   \n",
       "4    2015  2015-10-07       20001       1      TOR     TYLER BOZAK  8475098.0   \n",
       "\n",
       "   Start   End  Duration  \n",
       "0    0.0  36.0      36.0  \n",
       "1    0.0  36.0      36.0  \n",
       "2    0.0  36.0      36.0  \n",
       "3    0.0  37.0      37.0  \n",
       "4    0.0  37.0      37.0  "
      ]
     },
     "execution_count": 110,
     "metadata": {},
     "output_type": "execute_result"
    }
   ],
   "source": [
    "dshift['Season'] = 2015\n",
    "dshift= dshift.rename(columns={ 'Game_Id' : 'GameNumber', 'Team': 'TeamCode', 'Player': 'PlayerName' })\n",
    "dshift = dshift[dshift['GameNumber'] <= 21230]\n",
    "dshift = dshift[['Season', 'Date', 'GameNumber', 'Period', 'TeamCode', 'PlayerName', 'Player_Id', 'Start', 'End', 'Duration']]\n",
    "dshift.head()"
   ]
  },
  {
   "cell_type": "markdown",
   "metadata": {},
   "source": [
    "- calcuate the seconds an individual played per game. Convert seconds to minutes and drop duplicates per season, game number, team and player."
   ]
  },
  {
   "cell_type": "code",
   "execution_count": 111,
   "metadata": {
    "collapsed": true
   },
   "outputs": [],
   "source": [
    "dshift['Seconds'] = dshift.groupby(['Season', 'GameNumber', 'TeamCode', 'PlayerName'])['Duration'].transform('sum')\n",
    "dshift['Minutes'] = dshift['Seconds']/60\n",
    "dshift['Minutes'] = dshift['Minutes'].round(2)"
   ]
  },
  {
   "cell_type": "code",
   "execution_count": 112,
   "metadata": {
    "collapsed": true
   },
   "outputs": [],
   "source": [
    "dshift = dshift.drop_duplicates(['Season', 'GameNumber', 'TeamCode', 'PlayerName'])"
   ]
  },
  {
   "cell_type": "code",
   "execution_count": 113,
   "metadata": {
    "collapsed": false
   },
   "outputs": [
    {
     "data": {
      "text/html": [
       "<div>\n",
       "<table border=\"1\" class=\"dataframe\">\n",
       "  <thead>\n",
       "    <tr style=\"text-align: right;\">\n",
       "      <th></th>\n",
       "      <th>Season</th>\n",
       "      <th>Date</th>\n",
       "      <th>GameNumber</th>\n",
       "      <th>Period</th>\n",
       "      <th>TeamCode</th>\n",
       "      <th>PlayerName</th>\n",
       "      <th>Player_Id</th>\n",
       "      <th>Start</th>\n",
       "      <th>End</th>\n",
       "      <th>Duration</th>\n",
       "      <th>Seconds</th>\n",
       "      <th>Minutes</th>\n",
       "    </tr>\n",
       "  </thead>\n",
       "  <tbody>\n",
       "    <tr>\n",
       "      <th>0</th>\n",
       "      <td>2015</td>\n",
       "      <td>2015-10-07</td>\n",
       "      <td>20001</td>\n",
       "      <td>1</td>\n",
       "      <td>MTL</td>\n",
       "      <td>ANDREI MARKOV</td>\n",
       "      <td>8467496.0</td>\n",
       "      <td>0.0</td>\n",
       "      <td>36.0</td>\n",
       "      <td>36.0</td>\n",
       "      <td>1304.0</td>\n",
       "      <td>21.73</td>\n",
       "    </tr>\n",
       "    <tr>\n",
       "      <th>1</th>\n",
       "      <td>2015</td>\n",
       "      <td>2015-10-07</td>\n",
       "      <td>20001</td>\n",
       "      <td>1</td>\n",
       "      <td>MTL</td>\n",
       "      <td>MAX PACIORETTY</td>\n",
       "      <td>8474157.0</td>\n",
       "      <td>0.0</td>\n",
       "      <td>36.0</td>\n",
       "      <td>36.0</td>\n",
       "      <td>1087.0</td>\n",
       "      <td>18.12</td>\n",
       "    </tr>\n",
       "    <tr>\n",
       "      <th>2</th>\n",
       "      <td>2015</td>\n",
       "      <td>2015-10-07</td>\n",
       "      <td>20001</td>\n",
       "      <td>1</td>\n",
       "      <td>MTL</td>\n",
       "      <td>TOMAS PLEKANEC</td>\n",
       "      <td>8469521.0</td>\n",
       "      <td>0.0</td>\n",
       "      <td>36.0</td>\n",
       "      <td>36.0</td>\n",
       "      <td>1109.0</td>\n",
       "      <td>18.48</td>\n",
       "    </tr>\n",
       "    <tr>\n",
       "      <th>3</th>\n",
       "      <td>2015</td>\n",
       "      <td>2015-10-07</td>\n",
       "      <td>20001</td>\n",
       "      <td>1</td>\n",
       "      <td>TOR</td>\n",
       "      <td>JOFFREY LUPUL</td>\n",
       "      <td>8470207.0</td>\n",
       "      <td>0.0</td>\n",
       "      <td>37.0</td>\n",
       "      <td>37.0</td>\n",
       "      <td>1064.0</td>\n",
       "      <td>17.73</td>\n",
       "    </tr>\n",
       "    <tr>\n",
       "      <th>4</th>\n",
       "      <td>2015</td>\n",
       "      <td>2015-10-07</td>\n",
       "      <td>20001</td>\n",
       "      <td>1</td>\n",
       "      <td>TOR</td>\n",
       "      <td>TYLER BOZAK</td>\n",
       "      <td>8475098.0</td>\n",
       "      <td>0.0</td>\n",
       "      <td>37.0</td>\n",
       "      <td>37.0</td>\n",
       "      <td>1143.0</td>\n",
       "      <td>19.05</td>\n",
       "    </tr>\n",
       "  </tbody>\n",
       "</table>\n",
       "</div>"
      ],
      "text/plain": [
       "   Season        Date  GameNumber  Period TeamCode      PlayerName  Player_Id  \\\n",
       "0    2015  2015-10-07       20001       1      MTL   ANDREI MARKOV  8467496.0   \n",
       "1    2015  2015-10-07       20001       1      MTL  MAX PACIORETTY  8474157.0   \n",
       "2    2015  2015-10-07       20001       1      MTL  TOMAS PLEKANEC  8469521.0   \n",
       "3    2015  2015-10-07       20001       1      TOR   JOFFREY LUPUL  8470207.0   \n",
       "4    2015  2015-10-07       20001       1      TOR     TYLER BOZAK  8475098.0   \n",
       "\n",
       "   Start   End  Duration  Seconds  Minutes  \n",
       "0    0.0  36.0      36.0   1304.0    21.73  \n",
       "1    0.0  36.0      36.0   1087.0    18.12  \n",
       "2    0.0  36.0      36.0   1109.0    18.48  \n",
       "3    0.0  37.0      37.0   1064.0    17.73  \n",
       "4    0.0  37.0      37.0   1143.0    19.05  "
      ]
     },
     "execution_count": 113,
     "metadata": {},
     "output_type": "execute_result"
    }
   ],
   "source": [
    "dshift.head()"
   ]
  },
  {
   "cell_type": "markdown",
   "metadata": {},
   "source": [
    "- calcuate the seconds an individual played for the whole regular season. Convert seconds to minutes and drop duplicates per season, game number, team and player."
   ]
  },
  {
   "cell_type": "code",
   "execution_count": 114,
   "metadata": {
    "collapsed": false
   },
   "outputs": [
    {
     "data": {
      "text/html": [
       "<div>\n",
       "<table border=\"1\" class=\"dataframe\">\n",
       "  <thead>\n",
       "    <tr style=\"text-align: right;\">\n",
       "      <th></th>\n",
       "      <th>Season</th>\n",
       "      <th>Date</th>\n",
       "      <th>GameNumber</th>\n",
       "      <th>Period</th>\n",
       "      <th>TeamCode</th>\n",
       "      <th>PlayerName</th>\n",
       "      <th>Player_Id</th>\n",
       "      <th>Start</th>\n",
       "      <th>End</th>\n",
       "      <th>Duration</th>\n",
       "      <th>Seconds</th>\n",
       "      <th>Minutes</th>\n",
       "      <th>TSeconds</th>\n",
       "      <th>TOI</th>\n",
       "    </tr>\n",
       "  </thead>\n",
       "  <tbody>\n",
       "    <tr>\n",
       "      <th>0</th>\n",
       "      <td>2015</td>\n",
       "      <td>2015-10-07</td>\n",
       "      <td>20001</td>\n",
       "      <td>1</td>\n",
       "      <td>MTL</td>\n",
       "      <td>ANDREI MARKOV</td>\n",
       "      <td>8467496.0</td>\n",
       "      <td>0.0</td>\n",
       "      <td>36.0</td>\n",
       "      <td>36.0</td>\n",
       "      <td>1304.0</td>\n",
       "      <td>21.73</td>\n",
       "      <td>117272.0</td>\n",
       "      <td>1955.0</td>\n",
       "    </tr>\n",
       "    <tr>\n",
       "      <th>1</th>\n",
       "      <td>2015</td>\n",
       "      <td>2015-10-07</td>\n",
       "      <td>20001</td>\n",
       "      <td>1</td>\n",
       "      <td>MTL</td>\n",
       "      <td>MAX PACIORETTY</td>\n",
       "      <td>8474157.0</td>\n",
       "      <td>0.0</td>\n",
       "      <td>36.0</td>\n",
       "      <td>36.0</td>\n",
       "      <td>1087.0</td>\n",
       "      <td>18.12</td>\n",
       "      <td>91154.0</td>\n",
       "      <td>1519.0</td>\n",
       "    </tr>\n",
       "    <tr>\n",
       "      <th>2</th>\n",
       "      <td>2015</td>\n",
       "      <td>2015-10-07</td>\n",
       "      <td>20001</td>\n",
       "      <td>1</td>\n",
       "      <td>MTL</td>\n",
       "      <td>TOMAS PLEKANEC</td>\n",
       "      <td>8469521.0</td>\n",
       "      <td>0.0</td>\n",
       "      <td>36.0</td>\n",
       "      <td>36.0</td>\n",
       "      <td>1109.0</td>\n",
       "      <td>18.48</td>\n",
       "      <td>91178.0</td>\n",
       "      <td>1520.0</td>\n",
       "    </tr>\n",
       "    <tr>\n",
       "      <th>3</th>\n",
       "      <td>2015</td>\n",
       "      <td>2015-10-07</td>\n",
       "      <td>20001</td>\n",
       "      <td>1</td>\n",
       "      <td>TOR</td>\n",
       "      <td>JOFFREY LUPUL</td>\n",
       "      <td>8470207.0</td>\n",
       "      <td>0.0</td>\n",
       "      <td>37.0</td>\n",
       "      <td>37.0</td>\n",
       "      <td>1064.0</td>\n",
       "      <td>17.73</td>\n",
       "      <td>40354.0</td>\n",
       "      <td>673.0</td>\n",
       "    </tr>\n",
       "    <tr>\n",
       "      <th>4</th>\n",
       "      <td>2015</td>\n",
       "      <td>2015-10-07</td>\n",
       "      <td>20001</td>\n",
       "      <td>1</td>\n",
       "      <td>TOR</td>\n",
       "      <td>TYLER BOZAK</td>\n",
       "      <td>8475098.0</td>\n",
       "      <td>0.0</td>\n",
       "      <td>37.0</td>\n",
       "      <td>37.0</td>\n",
       "      <td>1143.0</td>\n",
       "      <td>19.05</td>\n",
       "      <td>59308.0</td>\n",
       "      <td>988.0</td>\n",
       "    </tr>\n",
       "  </tbody>\n",
       "</table>\n",
       "</div>"
      ],
      "text/plain": [
       "   Season        Date  GameNumber  Period TeamCode      PlayerName  Player_Id  \\\n",
       "0    2015  2015-10-07       20001       1      MTL   ANDREI MARKOV  8467496.0   \n",
       "1    2015  2015-10-07       20001       1      MTL  MAX PACIORETTY  8474157.0   \n",
       "2    2015  2015-10-07       20001       1      MTL  TOMAS PLEKANEC  8469521.0   \n",
       "3    2015  2015-10-07       20001       1      TOR   JOFFREY LUPUL  8470207.0   \n",
       "4    2015  2015-10-07       20001       1      TOR     TYLER BOZAK  8475098.0   \n",
       "\n",
       "   Start   End  Duration  Seconds  Minutes  TSeconds     TOI  \n",
       "0    0.0  36.0      36.0   1304.0    21.73  117272.0  1955.0  \n",
       "1    0.0  36.0      36.0   1087.0    18.12   91154.0  1519.0  \n",
       "2    0.0  36.0      36.0   1109.0    18.48   91178.0  1520.0  \n",
       "3    0.0  37.0      37.0   1064.0    17.73   40354.0   673.0  \n",
       "4    0.0  37.0      37.0   1143.0    19.05   59308.0   988.0  "
      ]
     },
     "execution_count": 114,
     "metadata": {},
     "output_type": "execute_result"
    }
   ],
   "source": [
    "dshift['TSeconds'] = dshift.groupby(['Season', 'TeamCode', 'PlayerName'])['Seconds'].transform('sum')\n",
    "dshift['TOI'] = dshift['TSeconds']/60\n",
    "dshift['TOI'] = dshift['TOI'].round(0)\n",
    "dshift.head()"
   ]
  },
  {
   "cell_type": "markdown",
   "metadata": {},
   "source": [
    "- keep only observation per player for the season"
   ]
  },
  {
   "cell_type": "code",
   "execution_count": 115,
   "metadata": {
    "collapsed": false
   },
   "outputs": [
    {
     "data": {
      "text/html": [
       "<div>\n",
       "<table border=\"1\" class=\"dataframe\">\n",
       "  <thead>\n",
       "    <tr style=\"text-align: right;\">\n",
       "      <th></th>\n",
       "      <th>Season</th>\n",
       "      <th>TeamCode</th>\n",
       "      <th>PlayerName</th>\n",
       "      <th>TOI</th>\n",
       "    </tr>\n",
       "  </thead>\n",
       "  <tbody>\n",
       "    <tr>\n",
       "      <th>0</th>\n",
       "      <td>2015</td>\n",
       "      <td>MTL</td>\n",
       "      <td>ANDREI MARKOV</td>\n",
       "      <td>1955.0</td>\n",
       "    </tr>\n",
       "    <tr>\n",
       "      <th>1</th>\n",
       "      <td>2015</td>\n",
       "      <td>MTL</td>\n",
       "      <td>MAX PACIORETTY</td>\n",
       "      <td>1519.0</td>\n",
       "    </tr>\n",
       "    <tr>\n",
       "      <th>2</th>\n",
       "      <td>2015</td>\n",
       "      <td>MTL</td>\n",
       "      <td>TOMAS PLEKANEC</td>\n",
       "      <td>1520.0</td>\n",
       "    </tr>\n",
       "    <tr>\n",
       "      <th>3</th>\n",
       "      <td>2015</td>\n",
       "      <td>TOR</td>\n",
       "      <td>JOFFREY LUPUL</td>\n",
       "      <td>673.0</td>\n",
       "    </tr>\n",
       "    <tr>\n",
       "      <th>4</th>\n",
       "      <td>2015</td>\n",
       "      <td>TOR</td>\n",
       "      <td>TYLER BOZAK</td>\n",
       "      <td>988.0</td>\n",
       "    </tr>\n",
       "  </tbody>\n",
       "</table>\n",
       "</div>"
      ],
      "text/plain": [
       "   Season TeamCode      PlayerName     TOI\n",
       "0    2015      MTL   ANDREI MARKOV  1955.0\n",
       "1    2015      MTL  MAX PACIORETTY  1519.0\n",
       "2    2015      MTL  TOMAS PLEKANEC  1520.0\n",
       "3    2015      TOR   JOFFREY LUPUL   673.0\n",
       "4    2015      TOR     TYLER BOZAK   988.0"
      ]
     },
     "execution_count": 115,
     "metadata": {},
     "output_type": "execute_result"
    }
   ],
   "source": [
    "dshift = dshift.drop_duplicates(['Season', 'TeamCode', 'PlayerName'])\n",
    "dshift = dshift[['Season', 'TeamCode', 'PlayerName', 'TOI']]\n",
    "dshift.head()"
   ]
  },
  {
   "cell_type": "code",
   "execution_count": 116,
   "metadata": {
    "collapsed": false
   },
   "outputs": [
    {
     "data": {
      "text/plain": [
       "Season        0\n",
       "TeamCode      0\n",
       "PlayerName    0\n",
       "TOI           0\n",
       "dtype: int64"
      ]
     },
     "execution_count": 116,
     "metadata": {},
     "output_type": "execute_result"
    }
   ],
   "source": [
    "dshift.isnull().sum()"
   ]
  },
  {
   "cell_type": "code",
   "execution_count": 117,
   "metadata": {
    "collapsed": false
   },
   "outputs": [
    {
     "data": {
      "text/plain": [
       "(1065, 4)"
      ]
     },
     "execution_count": 117,
     "metadata": {},
     "output_type": "execute_result"
    }
   ],
   "source": [
    "dshift.shape"
   ]
  },
  {
   "cell_type": "markdown",
   "metadata": {},
   "source": [
    "### import 2015 player positions"
   ]
  },
  {
   "cell_type": "code",
   "execution_count": 131,
   "metadata": {
    "collapsed": false
   },
   "outputs": [],
   "source": [
    "dpos = pd.read_csv('/Users/stefanostselios/Brock University/Kevin Mongeon - StephanosShare/data/nhl_positions20152016.csv')\n",
    "#dpos = pd.read_csv('/Users/kevinmongeon/Brock University/Steve Tselios - StephanosShare/data/nhl_positions20152015.csv')"
   ]
  },
  {
   "cell_type": "code",
   "execution_count": 132,
   "metadata": {
    "collapsed": false
   },
   "outputs": [
    {
     "data": {
      "text/html": [
       "<div>\n",
       "<table border=\"1\" class=\"dataframe\">\n",
       "  <thead>\n",
       "    <tr style=\"text-align: right;\">\n",
       "      <th></th>\n",
       "      <th>FirstName</th>\n",
       "      <th>LastName</th>\n",
       "      <th>TeamCode</th>\n",
       "      <th>Position</th>\n",
       "      <th>FName</th>\n",
       "      <th>LName</th>\n",
       "      <th>PlayerName</th>\n",
       "    </tr>\n",
       "  </thead>\n",
       "  <tbody>\n",
       "    <tr>\n",
       "      <th>0</th>\n",
       "      <td>Justin</td>\n",
       "      <td>Abdelkader</td>\n",
       "      <td>DET</td>\n",
       "      <td>LW/RW/C</td>\n",
       "      <td>JUSTIN</td>\n",
       "      <td>ABDELKADER</td>\n",
       "      <td>JUSTIN ABDELKADER</td>\n",
       "    </tr>\n",
       "    <tr>\n",
       "      <th>1</th>\n",
       "      <td>Noel</td>\n",
       "      <td>Acciari</td>\n",
       "      <td>BOS</td>\n",
       "      <td>C</td>\n",
       "      <td>NOEL</td>\n",
       "      <td>ACCIARI</td>\n",
       "      <td>NOEL ACCIARI</td>\n",
       "    </tr>\n",
       "    <tr>\n",
       "      <th>2</th>\n",
       "      <td>Kenny</td>\n",
       "      <td>Agostino</td>\n",
       "      <td>CGY</td>\n",
       "      <td>LW</td>\n",
       "      <td>KENNY</td>\n",
       "      <td>AGOSTINO</td>\n",
       "      <td>KENNY AGOSTINO</td>\n",
       "    </tr>\n",
       "    <tr>\n",
       "      <th>3</th>\n",
       "      <td>Andrew</td>\n",
       "      <td>Agozzino</td>\n",
       "      <td>COL</td>\n",
       "      <td>LW/C</td>\n",
       "      <td>ANDREW</td>\n",
       "      <td>AGOZZINO</td>\n",
       "      <td>ANDREW AGOZZINO</td>\n",
       "    </tr>\n",
       "    <tr>\n",
       "      <th>4</th>\n",
       "      <td>Karl</td>\n",
       "      <td>Alzner</td>\n",
       "      <td>WSH</td>\n",
       "      <td>D</td>\n",
       "      <td>KARL</td>\n",
       "      <td>ALZNER</td>\n",
       "      <td>KARL ALZNER</td>\n",
       "    </tr>\n",
       "  </tbody>\n",
       "</table>\n",
       "</div>"
      ],
      "text/plain": [
       "  FirstName    LastName TeamCode Position   FName       LName  \\\n",
       "0    Justin  Abdelkader      DET  LW/RW/C  JUSTIN  ABDELKADER   \n",
       "1      Noel     Acciari      BOS        C    NOEL     ACCIARI   \n",
       "2     Kenny    Agostino      CGY       LW   KENNY    AGOSTINO   \n",
       "3    Andrew    Agozzino      COL     LW/C  ANDREW    AGOZZINO   \n",
       "4      Karl      Alzner      WSH        D    KARL      ALZNER   \n",
       "\n",
       "          PlayerName  \n",
       "0  JUSTIN ABDELKADER  \n",
       "1       NOEL ACCIARI  \n",
       "2     KENNY AGOSTINO  \n",
       "3    ANDREW AGOZZINO  \n",
       "4        KARL ALZNER  "
      ]
     },
     "execution_count": 132,
     "metadata": {},
     "output_type": "execute_result"
    }
   ],
   "source": [
    "dpos.head()"
   ]
  },
  {
   "cell_type": "code",
   "execution_count": 133,
   "metadata": {
    "collapsed": false
   },
   "outputs": [
    {
     "data": {
      "text/html": [
       "<div>\n",
       "<table border=\"1\" class=\"dataframe\">\n",
       "  <thead>\n",
       "    <tr style=\"text-align: right;\">\n",
       "      <th></th>\n",
       "      <th>Season</th>\n",
       "      <th>TeamCode</th>\n",
       "      <th>PlayerName</th>\n",
       "      <th>Position</th>\n",
       "    </tr>\n",
       "  </thead>\n",
       "  <tbody>\n",
       "    <tr>\n",
       "      <th>0</th>\n",
       "      <td>2015</td>\n",
       "      <td>DET</td>\n",
       "      <td>JUSTIN ABDELKADER</td>\n",
       "      <td>LW/RW/C</td>\n",
       "    </tr>\n",
       "    <tr>\n",
       "      <th>1</th>\n",
       "      <td>2015</td>\n",
       "      <td>BOS</td>\n",
       "      <td>NOEL ACCIARI</td>\n",
       "      <td>C</td>\n",
       "    </tr>\n",
       "    <tr>\n",
       "      <th>2</th>\n",
       "      <td>2015</td>\n",
       "      <td>CGY</td>\n",
       "      <td>KENNY AGOSTINO</td>\n",
       "      <td>LW</td>\n",
       "    </tr>\n",
       "    <tr>\n",
       "      <th>3</th>\n",
       "      <td>2015</td>\n",
       "      <td>COL</td>\n",
       "      <td>ANDREW AGOZZINO</td>\n",
       "      <td>LW/C</td>\n",
       "    </tr>\n",
       "    <tr>\n",
       "      <th>4</th>\n",
       "      <td>2015</td>\n",
       "      <td>WSH</td>\n",
       "      <td>KARL ALZNER</td>\n",
       "      <td>D</td>\n",
       "    </tr>\n",
       "  </tbody>\n",
       "</table>\n",
       "</div>"
      ],
      "text/plain": [
       "   Season TeamCode         PlayerName Position\n",
       "0    2015      DET  JUSTIN ABDELKADER  LW/RW/C\n",
       "1    2015      BOS       NOEL ACCIARI        C\n",
       "2    2015      CGY     KENNY AGOSTINO       LW\n",
       "3    2015      COL    ANDREW AGOZZINO     LW/C\n",
       "4    2015      WSH        KARL ALZNER        D"
      ]
     },
     "execution_count": 133,
     "metadata": {},
     "output_type": "execute_result"
    }
   ],
   "source": [
    "dpos['Season'] = 2015\n",
    "dpos = dpos[['Season', 'TeamCode', 'PlayerName', 'Position']]\n",
    "dpos.head()"
   ]
  },
  {
   "cell_type": "code",
   "execution_count": 134,
   "metadata": {
    "collapsed": false
   },
   "outputs": [
    {
     "data": {
      "text/plain": [
       "Season         int64\n",
       "TeamCode      object\n",
       "PlayerName    object\n",
       "Position      object\n",
       "dtype: object"
      ]
     },
     "execution_count": 134,
     "metadata": {},
     "output_type": "execute_result"
    }
   ],
   "source": [
    "dpos.dtypes"
   ]
  },
  {
   "cell_type": "code",
   "execution_count": 135,
   "metadata": {
    "collapsed": false
   },
   "outputs": [
    {
     "data": {
      "text/plain": [
       "W    333\n",
       "D    306\n",
       "C    259\n",
       "G     92\n",
       "Name: Position, dtype: int64"
      ]
     },
     "execution_count": 135,
     "metadata": {},
     "output_type": "execute_result"
    }
   ],
   "source": [
    "dpos['Position'] = dpos.apply(lambda x: 'C' if x['Position'] == 'C/LW' else 'C' if x['Position'] == 'C/RW' else 'C' if x['Position'] == 'C/RW/LW' else 'C' if x['Position'] == 'C/LW/RW' else 'W' if x['Position'] == 'RW' else 'W' if x['Position'] == 'LW' else 'W' if x['Position'] == 'LW/C' else 'W' if x['Position'] == 'RW/C' else 'W' if x['Position'] == 'RW/LW' else 'W' if x['Position'] == 'LW/RW' else 'W' if x['Position'] == 'RW/LW/C' else 'W' if x['Position'] == 'RW/C/LW' else 'W' if x['Position'] == 'RW/C/LW' else 'W' if x['Position'] == 'LW/D' else 'W' if x['Position'] == 'LW/C/RW' else 'W' if x['Position'] == 'LW/RW/C' else 'D' if x['Position'] == 'D/LW' else 'D' if x['Position'] == 'D/RW' else 'C' if x['Position'] == 'C/D' else 'W' if x['Position'] == 'RW/D' else 'C' if x['Position'] == 'C/N' else x['Position'] , axis=1)\n",
    "dpos['Position'].value_counts()"
   ]
  },
  {
   "cell_type": "code",
   "execution_count": 136,
   "metadata": {
    "collapsed": false
   },
   "outputs": [
    {
     "data": {
      "text/html": [
       "<div>\n",
       "<table border=\"1\" class=\"dataframe\">\n",
       "  <thead>\n",
       "    <tr style=\"text-align: right;\">\n",
       "      <th></th>\n",
       "      <th>Season</th>\n",
       "      <th>TeamCode</th>\n",
       "      <th>PlayerName</th>\n",
       "      <th>Position</th>\n",
       "    </tr>\n",
       "  </thead>\n",
       "  <tbody>\n",
       "    <tr>\n",
       "      <th>0</th>\n",
       "      <td>2015</td>\n",
       "      <td>DET</td>\n",
       "      <td>JUSTIN ABDELKADER</td>\n",
       "      <td>W</td>\n",
       "    </tr>\n",
       "    <tr>\n",
       "      <th>1</th>\n",
       "      <td>2015</td>\n",
       "      <td>BOS</td>\n",
       "      <td>NOEL ACCIARI</td>\n",
       "      <td>C</td>\n",
       "    </tr>\n",
       "    <tr>\n",
       "      <th>2</th>\n",
       "      <td>2015</td>\n",
       "      <td>CGY</td>\n",
       "      <td>KENNY AGOSTINO</td>\n",
       "      <td>W</td>\n",
       "    </tr>\n",
       "    <tr>\n",
       "      <th>3</th>\n",
       "      <td>2015</td>\n",
       "      <td>COL</td>\n",
       "      <td>ANDREW AGOZZINO</td>\n",
       "      <td>W</td>\n",
       "    </tr>\n",
       "    <tr>\n",
       "      <th>4</th>\n",
       "      <td>2015</td>\n",
       "      <td>WSH</td>\n",
       "      <td>KARL ALZNER</td>\n",
       "      <td>D</td>\n",
       "    </tr>\n",
       "  </tbody>\n",
       "</table>\n",
       "</div>"
      ],
      "text/plain": [
       "   Season TeamCode         PlayerName Position\n",
       "0    2015      DET  JUSTIN ABDELKADER        W\n",
       "1    2015      BOS       NOEL ACCIARI        C\n",
       "2    2015      CGY     KENNY AGOSTINO        W\n",
       "3    2015      COL    ANDREW AGOZZINO        W\n",
       "4    2015      WSH        KARL ALZNER        D"
      ]
     },
     "execution_count": 136,
     "metadata": {},
     "output_type": "execute_result"
    }
   ],
   "source": [
    "dpos['TeamCode'] = dpos.apply(lambda x: 'L.A' if x['TeamCode'] == 'LAK' else 'N.J' if x['TeamCode'] == 'NJD' else 'S.J' if x['TeamCode'] == 'SJS' else 'T.B' if x['TeamCode'] == 'TBL' else x['TeamCode'] , axis=1)\n",
    "dpos.head()"
   ]
  },
  {
   "cell_type": "code",
   "execution_count": 137,
   "metadata": {
    "collapsed": false
   },
   "outputs": [
    {
     "data": {
      "text/plain": [
       "(990, 4)"
      ]
     },
     "execution_count": 137,
     "metadata": {},
     "output_type": "execute_result"
    }
   ],
   "source": [
    "dpos.shape"
   ]
  },
  {
   "cell_type": "markdown",
   "metadata": {},
   "source": [
    "### merge data frames"
   ]
  },
  {
   "cell_type": "markdown",
   "metadata": {},
   "source": [
    "- merge games played, goals and assists."
   ]
  },
  {
   "cell_type": "code",
   "execution_count": 138,
   "metadata": {
    "collapsed": true
   },
   "outputs": [],
   "source": [
    "dd = pd.merge(s, dpos, on=['Season', 'TeamCode', 'PlayerName'], how='left').merge(dg,on=['Season', 'TeamCode', 'PlayerName'], how = 'left').merge(dast,on=['Season', 'TeamCode', 'PlayerName'], how = 'left')"
   ]
  },
  {
   "cell_type": "markdown",
   "metadata": {},
   "source": [
    "- forward and backward fill players that have been traded during the season. Fill in positions for three players."
   ]
  },
  {
   "cell_type": "code",
   "execution_count": 139,
   "metadata": {
    "collapsed": false
   },
   "outputs": [
    {
     "data": {
      "text/html": [
       "<div>\n",
       "<table border=\"1\" class=\"dataframe\">\n",
       "  <thead>\n",
       "    <tr style=\"text-align: right;\">\n",
       "      <th></th>\n",
       "      <th>Season</th>\n",
       "      <th>TeamCode</th>\n",
       "      <th>PlayerName</th>\n",
       "      <th>GP</th>\n",
       "      <th>Position</th>\n",
       "      <th>Goals</th>\n",
       "      <th>Assists</th>\n",
       "    </tr>\n",
       "  </thead>\n",
       "  <tbody>\n",
       "    <tr>\n",
       "      <th>0</th>\n",
       "      <td>2015</td>\n",
       "      <td>MTL</td>\n",
       "      <td>TOMAS PLEKANEC</td>\n",
       "      <td>82</td>\n",
       "      <td>C</td>\n",
       "      <td>14.0</td>\n",
       "      <td>40.0</td>\n",
       "    </tr>\n",
       "    <tr>\n",
       "      <th>1</th>\n",
       "      <td>2015</td>\n",
       "      <td>MTL</td>\n",
       "      <td>BRENDAN GALLAGHER</td>\n",
       "      <td>53</td>\n",
       "      <td>W</td>\n",
       "      <td>19.0</td>\n",
       "      <td>21.0</td>\n",
       "    </tr>\n",
       "    <tr>\n",
       "      <th>2</th>\n",
       "      <td>2015</td>\n",
       "      <td>MTL</td>\n",
       "      <td>MAX PACIORETTY</td>\n",
       "      <td>82</td>\n",
       "      <td>W</td>\n",
       "      <td>30.0</td>\n",
       "      <td>34.0</td>\n",
       "    </tr>\n",
       "    <tr>\n",
       "      <th>3</th>\n",
       "      <td>2015</td>\n",
       "      <td>MTL</td>\n",
       "      <td>PK SUBBAN</td>\n",
       "      <td>68</td>\n",
       "      <td>D</td>\n",
       "      <td>6.0</td>\n",
       "      <td>45.0</td>\n",
       "    </tr>\n",
       "    <tr>\n",
       "      <th>4</th>\n",
       "      <td>2015</td>\n",
       "      <td>MTL</td>\n",
       "      <td>ANDREI MARKOV</td>\n",
       "      <td>82</td>\n",
       "      <td>D</td>\n",
       "      <td>5.0</td>\n",
       "      <td>39.0</td>\n",
       "    </tr>\n",
       "  </tbody>\n",
       "</table>\n",
       "</div>"
      ],
      "text/plain": [
       "   Season TeamCode         PlayerName  GP Position  Goals  Assists\n",
       "0    2015      MTL     TOMAS PLEKANEC  82        C   14.0     40.0\n",
       "1    2015      MTL  BRENDAN GALLAGHER  53        W   19.0     21.0\n",
       "2    2015      MTL     MAX PACIORETTY  82        W   30.0     34.0\n",
       "3    2015      MTL          PK SUBBAN  68        D    6.0     45.0\n",
       "4    2015      MTL      ANDREI MARKOV  82        D    5.0     39.0"
      ]
     },
     "execution_count": 139,
     "metadata": {},
     "output_type": "execute_result"
    }
   ],
   "source": [
    "dd['Position'] = dd.groupby(['PlayerName'])['Position'].apply(lambda x: x.ffill().bfill())\n",
    "dd.head()"
   ]
  },
  {
   "cell_type": "code",
   "execution_count": 140,
   "metadata": {
    "collapsed": false
   },
   "outputs": [
    {
     "data": {
      "text/plain": [
       "Season          0\n",
       "TeamCode        0\n",
       "PlayerName      0\n",
       "GP              0\n",
       "Position        0\n",
       "Goals         337\n",
       "Assists       219\n",
       "dtype: int64"
      ]
     },
     "execution_count": 140,
     "metadata": {},
     "output_type": "execute_result"
    }
   ],
   "source": [
    "dd.isnull().sum()"
   ]
  },
  {
   "cell_type": "code",
   "execution_count": 141,
   "metadata": {
    "collapsed": false
   },
   "outputs": [
    {
     "data": {
      "text/html": [
       "<div>\n",
       "<table border=\"1\" class=\"dataframe\">\n",
       "  <thead>\n",
       "    <tr style=\"text-align: right;\">\n",
       "      <th></th>\n",
       "      <th>Season</th>\n",
       "      <th>TeamCode</th>\n",
       "      <th>PlayerName</th>\n",
       "      <th>GP</th>\n",
       "      <th>Position</th>\n",
       "      <th>Goals</th>\n",
       "      <th>Assists</th>\n",
       "    </tr>\n",
       "  </thead>\n",
       "  <tbody>\n",
       "  </tbody>\n",
       "</table>\n",
       "</div>"
      ],
      "text/plain": [
       "Empty DataFrame\n",
       "Columns: [Season, TeamCode, PlayerName, GP, Position, Goals, Assists]\n",
       "Index: []"
      ]
     },
     "execution_count": 141,
     "metadata": {},
     "output_type": "execute_result"
    }
   ],
   "source": [
    "fix = dd.copy()\n",
    "fix = fix[fix['Position'].isnull()]\n",
    "fix.head(20)"
   ]
  },
  {
   "cell_type": "markdown",
   "metadata": {},
   "source": [
    "- fill in goals and assists with 0 for players who had no points."
   ]
  },
  {
   "cell_type": "code",
   "execution_count": 142,
   "metadata": {
    "collapsed": false
   },
   "outputs": [
    {
     "data": {
      "text/html": [
       "<div>\n",
       "<table border=\"1\" class=\"dataframe\">\n",
       "  <thead>\n",
       "    <tr style=\"text-align: right;\">\n",
       "      <th></th>\n",
       "      <th>Season</th>\n",
       "      <th>TeamCode</th>\n",
       "      <th>PlayerName</th>\n",
       "      <th>GP</th>\n",
       "      <th>Position</th>\n",
       "      <th>Goals</th>\n",
       "      <th>Assists</th>\n",
       "      <th>Points</th>\n",
       "    </tr>\n",
       "  </thead>\n",
       "  <tbody>\n",
       "    <tr>\n",
       "      <th>0</th>\n",
       "      <td>2015</td>\n",
       "      <td>MTL</td>\n",
       "      <td>TOMAS PLEKANEC</td>\n",
       "      <td>82</td>\n",
       "      <td>C</td>\n",
       "      <td>14.0</td>\n",
       "      <td>40.0</td>\n",
       "      <td>54.0</td>\n",
       "    </tr>\n",
       "    <tr>\n",
       "      <th>1</th>\n",
       "      <td>2015</td>\n",
       "      <td>MTL</td>\n",
       "      <td>BRENDAN GALLAGHER</td>\n",
       "      <td>53</td>\n",
       "      <td>W</td>\n",
       "      <td>19.0</td>\n",
       "      <td>21.0</td>\n",
       "      <td>40.0</td>\n",
       "    </tr>\n",
       "    <tr>\n",
       "      <th>2</th>\n",
       "      <td>2015</td>\n",
       "      <td>MTL</td>\n",
       "      <td>MAX PACIORETTY</td>\n",
       "      <td>82</td>\n",
       "      <td>W</td>\n",
       "      <td>30.0</td>\n",
       "      <td>34.0</td>\n",
       "      <td>64.0</td>\n",
       "    </tr>\n",
       "    <tr>\n",
       "      <th>3</th>\n",
       "      <td>2015</td>\n",
       "      <td>MTL</td>\n",
       "      <td>PK SUBBAN</td>\n",
       "      <td>68</td>\n",
       "      <td>D</td>\n",
       "      <td>6.0</td>\n",
       "      <td>45.0</td>\n",
       "      <td>51.0</td>\n",
       "    </tr>\n",
       "    <tr>\n",
       "      <th>4</th>\n",
       "      <td>2015</td>\n",
       "      <td>MTL</td>\n",
       "      <td>ANDREI MARKOV</td>\n",
       "      <td>82</td>\n",
       "      <td>D</td>\n",
       "      <td>5.0</td>\n",
       "      <td>39.0</td>\n",
       "      <td>44.0</td>\n",
       "    </tr>\n",
       "  </tbody>\n",
       "</table>\n",
       "</div>"
      ],
      "text/plain": [
       "   Season TeamCode         PlayerName  GP Position  Goals  Assists  Points\n",
       "0    2015      MTL     TOMAS PLEKANEC  82        C   14.0     40.0    54.0\n",
       "1    2015      MTL  BRENDAN GALLAGHER  53        W   19.0     21.0    40.0\n",
       "2    2015      MTL     MAX PACIORETTY  82        W   30.0     34.0    64.0\n",
       "3    2015      MTL          PK SUBBAN  68        D    6.0     45.0    51.0\n",
       "4    2015      MTL      ANDREI MARKOV  82        D    5.0     39.0    44.0"
      ]
     },
     "execution_count": 142,
     "metadata": {},
     "output_type": "execute_result"
    }
   ],
   "source": [
    "dd['Goals'] = dd['Goals'].fillna(0)\n",
    "dd['Assists'] = dd['Assists'].fillna(0)\n",
    "dd['Points'] = dd['Goals'] + dd['Assists']\n",
    "dd.head()"
   ]
  },
  {
   "cell_type": "code",
   "execution_count": 143,
   "metadata": {
    "collapsed": false
   },
   "outputs": [
    {
     "data": {
      "text/plain": [
       "Season        0\n",
       "TeamCode      0\n",
       "PlayerName    0\n",
       "GP            0\n",
       "Position      0\n",
       "Goals         0\n",
       "Assists       0\n",
       "Points        0\n",
       "dtype: int64"
      ]
     },
     "execution_count": 143,
     "metadata": {},
     "output_type": "execute_result"
    }
   ],
   "source": [
    "dd.isnull().sum()"
   ]
  },
  {
   "cell_type": "code",
   "execution_count": 144,
   "metadata": {
    "collapsed": false
   },
   "outputs": [
    {
     "data": {
      "text/html": [
       "<div>\n",
       "<table border=\"1\" class=\"dataframe\">\n",
       "  <thead>\n",
       "    <tr style=\"text-align: right;\">\n",
       "      <th></th>\n",
       "      <th>Season</th>\n",
       "      <th>TeamCode</th>\n",
       "      <th>PlayerName</th>\n",
       "      <th>GP</th>\n",
       "      <th>Position</th>\n",
       "      <th>Goals</th>\n",
       "      <th>Assists</th>\n",
       "      <th>Points</th>\n",
       "      <th>GoalsF</th>\n",
       "      <th>GoalsA</th>\n",
       "      <th>EVGoalsF</th>\n",
       "      <th>EVGoalsA</th>\n",
       "      <th>Plus/Minus</th>\n",
       "      <th>Shots</th>\n",
       "      <th>ShotsF</th>\n",
       "      <th>ShotsA</th>\n",
       "      <th>DShots</th>\n",
       "      <th>EVShotsF</th>\n",
       "      <th>EVShotsA</th>\n",
       "      <th>EVDShots</th>\n",
       "      <th>Blocks</th>\n",
       "      <th>Hits</th>\n",
       "      <th>Penalties</th>\n",
       "      <th>Takeaways</th>\n",
       "      <th>Giveaways</th>\n",
       "      <th>Misses</th>\n",
       "      <th>TOI</th>\n",
       "    </tr>\n",
       "  </thead>\n",
       "  <tbody>\n",
       "    <tr>\n",
       "      <th>0</th>\n",
       "      <td>2015</td>\n",
       "      <td>MTL</td>\n",
       "      <td>TOMAS PLEKANEC</td>\n",
       "      <td>82</td>\n",
       "      <td>C</td>\n",
       "      <td>14.0</td>\n",
       "      <td>40.0</td>\n",
       "      <td>54.0</td>\n",
       "      <td>83.0</td>\n",
       "      <td>61.0</td>\n",
       "      <td>58.0</td>\n",
       "      <td>45.0</td>\n",
       "      <td>13.0</td>\n",
       "      <td>175.0</td>\n",
       "      <td>800.0</td>\n",
       "      <td>711.0</td>\n",
       "      <td>89.0</td>\n",
       "      <td>618.0</td>\n",
       "      <td>602.0</td>\n",
       "      <td>16.0</td>\n",
       "      <td>46.0</td>\n",
       "      <td>60.0</td>\n",
       "      <td>36.0</td>\n",
       "      <td>15.0</td>\n",
       "      <td>45.0</td>\n",
       "      <td>61.0</td>\n",
       "      <td>1520.0</td>\n",
       "    </tr>\n",
       "    <tr>\n",
       "      <th>1</th>\n",
       "      <td>2015</td>\n",
       "      <td>MTL</td>\n",
       "      <td>BRENDAN GALLAGHER</td>\n",
       "      <td>53</td>\n",
       "      <td>W</td>\n",
       "      <td>19.0</td>\n",
       "      <td>21.0</td>\n",
       "      <td>40.0</td>\n",
       "      <td>65.0</td>\n",
       "      <td>25.0</td>\n",
       "      <td>44.0</td>\n",
       "      <td>25.0</td>\n",
       "      <td>19.0</td>\n",
       "      <td>154.0</td>\n",
       "      <td>555.0</td>\n",
       "      <td>379.0</td>\n",
       "      <td>176.0</td>\n",
       "      <td>420.0</td>\n",
       "      <td>378.0</td>\n",
       "      <td>42.0</td>\n",
       "      <td>24.0</td>\n",
       "      <td>43.0</td>\n",
       "      <td>24.0</td>\n",
       "      <td>30.0</td>\n",
       "      <td>14.0</td>\n",
       "      <td>42.0</td>\n",
       "      <td>879.0</td>\n",
       "    </tr>\n",
       "    <tr>\n",
       "      <th>2</th>\n",
       "      <td>2015</td>\n",
       "      <td>MTL</td>\n",
       "      <td>MAX PACIORETTY</td>\n",
       "      <td>82</td>\n",
       "      <td>W</td>\n",
       "      <td>30.0</td>\n",
       "      <td>34.0</td>\n",
       "      <td>64.0</td>\n",
       "      <td>88.0</td>\n",
       "      <td>73.0</td>\n",
       "      <td>61.0</td>\n",
       "      <td>62.0</td>\n",
       "      <td>-1.0</td>\n",
       "      <td>273.0</td>\n",
       "      <td>897.0</td>\n",
       "      <td>691.0</td>\n",
       "      <td>206.0</td>\n",
       "      <td>703.0</td>\n",
       "      <td>611.0</td>\n",
       "      <td>92.0</td>\n",
       "      <td>37.0</td>\n",
       "      <td>100.0</td>\n",
       "      <td>34.0</td>\n",
       "      <td>35.0</td>\n",
       "      <td>33.0</td>\n",
       "      <td>122.0</td>\n",
       "      <td>1519.0</td>\n",
       "    </tr>\n",
       "    <tr>\n",
       "      <th>3</th>\n",
       "      <td>2015</td>\n",
       "      <td>MTL</td>\n",
       "      <td>PK SUBBAN</td>\n",
       "      <td>68</td>\n",
       "      <td>D</td>\n",
       "      <td>6.0</td>\n",
       "      <td>45.0</td>\n",
       "      <td>51.0</td>\n",
       "      <td>107.0</td>\n",
       "      <td>75.0</td>\n",
       "      <td>72.0</td>\n",
       "      <td>60.0</td>\n",
       "      <td>12.0</td>\n",
       "      <td>170.0</td>\n",
       "      <td>1001.0</td>\n",
       "      <td>856.0</td>\n",
       "      <td>145.0</td>\n",
       "      <td>725.0</td>\n",
       "      <td>718.0</td>\n",
       "      <td>7.0</td>\n",
       "      <td>79.0</td>\n",
       "      <td>101.0</td>\n",
       "      <td>75.0</td>\n",
       "      <td>23.0</td>\n",
       "      <td>106.0</td>\n",
       "      <td>72.0</td>\n",
       "      <td>1793.0</td>\n",
       "    </tr>\n",
       "    <tr>\n",
       "      <th>4</th>\n",
       "      <td>2015</td>\n",
       "      <td>MTL</td>\n",
       "      <td>ANDREI MARKOV</td>\n",
       "      <td>82</td>\n",
       "      <td>D</td>\n",
       "      <td>5.0</td>\n",
       "      <td>39.0</td>\n",
       "      <td>44.0</td>\n",
       "      <td>98.0</td>\n",
       "      <td>85.0</td>\n",
       "      <td>67.0</td>\n",
       "      <td>64.0</td>\n",
       "      <td>3.0</td>\n",
       "      <td>112.0</td>\n",
       "      <td>992.0</td>\n",
       "      <td>992.0</td>\n",
       "      <td>0.0</td>\n",
       "      <td>754.0</td>\n",
       "      <td>824.0</td>\n",
       "      <td>-70.0</td>\n",
       "      <td>142.0</td>\n",
       "      <td>57.0</td>\n",
       "      <td>38.0</td>\n",
       "      <td>38.0</td>\n",
       "      <td>93.0</td>\n",
       "      <td>58.0</td>\n",
       "      <td>1955.0</td>\n",
       "    </tr>\n",
       "  </tbody>\n",
       "</table>\n",
       "</div>"
      ],
      "text/plain": [
       "   Season TeamCode         PlayerName  GP Position  Goals  Assists  Points  \\\n",
       "0    2015      MTL     TOMAS PLEKANEC  82        C   14.0     40.0    54.0   \n",
       "1    2015      MTL  BRENDAN GALLAGHER  53        W   19.0     21.0    40.0   \n",
       "2    2015      MTL     MAX PACIORETTY  82        W   30.0     34.0    64.0   \n",
       "3    2015      MTL          PK SUBBAN  68        D    6.0     45.0    51.0   \n",
       "4    2015      MTL      ANDREI MARKOV  82        D    5.0     39.0    44.0   \n",
       "\n",
       "   GoalsF  GoalsA  EVGoalsF  EVGoalsA  Plus/Minus  Shots  ShotsF  ShotsA  \\\n",
       "0    83.0    61.0      58.0      45.0        13.0  175.0   800.0   711.0   \n",
       "1    65.0    25.0      44.0      25.0        19.0  154.0   555.0   379.0   \n",
       "2    88.0    73.0      61.0      62.0        -1.0  273.0   897.0   691.0   \n",
       "3   107.0    75.0      72.0      60.0        12.0  170.0  1001.0   856.0   \n",
       "4    98.0    85.0      67.0      64.0         3.0  112.0   992.0   992.0   \n",
       "\n",
       "   DShots  EVShotsF  EVShotsA  EVDShots  Blocks   Hits  Penalties  Takeaways  \\\n",
       "0    89.0     618.0     602.0      16.0    46.0   60.0       36.0       15.0   \n",
       "1   176.0     420.0     378.0      42.0    24.0   43.0       24.0       30.0   \n",
       "2   206.0     703.0     611.0      92.0    37.0  100.0       34.0       35.0   \n",
       "3   145.0     725.0     718.0       7.0    79.0  101.0       75.0       23.0   \n",
       "4     0.0     754.0     824.0     -70.0   142.0   57.0       38.0       38.0   \n",
       "\n",
       "   Giveaways  Misses     TOI  \n",
       "0       45.0    61.0  1520.0  \n",
       "1       14.0    42.0   879.0  \n",
       "2       33.0   122.0  1519.0  \n",
       "3      106.0    72.0  1793.0  \n",
       "4       93.0    58.0  1955.0  "
      ]
     },
     "execution_count": 144,
     "metadata": {},
     "output_type": "execute_result"
    }
   ],
   "source": [
    "de = pd.merge(dd, gfa,on=['Season', 'TeamCode', 'PlayerName'], how = 'left').merge(ds,on=['Season', 'TeamCode', 'PlayerName'], how = 'left').merge(sa,on=['Season', 'TeamCode', 'PlayerName'], how = 'left').merge(dbl,on=['Season', 'TeamCode', 'PlayerName'], how = 'left').merge(dhit,on=['Season', 'TeamCode', 'PlayerName'], how = 'left').merge(dp,on=['Season', 'TeamCode', 'PlayerName'], how = 'left').merge(dtake,on=['Season', 'TeamCode', 'PlayerName'], how = 'left').merge(dgive,on=['Season', 'TeamCode', 'PlayerName'], how = 'left').merge(dmiss,on=['Season', 'TeamCode', 'PlayerName'], how = 'left').merge(dshift,on=['Season', 'TeamCode', 'PlayerName'], how = 'left')\n",
    "de.head()"
   ]
  },
  {
   "cell_type": "markdown",
   "metadata": {},
   "source": [
    "- fill in with 0 for all nan values since not all players have been on the ice for a goal for or a goal against. "
   ]
  },
  {
   "cell_type": "code",
   "execution_count": 145,
   "metadata": {
    "collapsed": true
   },
   "outputs": [],
   "source": [
    "de['GoalsF'] = de['GoalsF'].fillna(0)\n",
    "de['GoalsA'] = de['GoalsA'].fillna(0)\n",
    "de['EVGoalsF'] = de['EVGoalsF'].fillna(0)\n",
    "de['EVGoalsA'] = de['EVGoalsA'].fillna(0)\n",
    "de['Plus/Minus'] = de['Plus/Minus'].fillna(0)\n",
    "de['Shots'] = de['Shots'].fillna(0)\n",
    "de['Hits'] = de['Hits'].fillna(0)\n",
    "de['Blocks'] = de['Blocks'].fillna(0)\n",
    "de['Penalties'] = de['Penalties'].fillna(0)\n",
    "de['Giveaways'] = de['Giveaways'].fillna(0)\n",
    "de['Takeaways'] = de['Takeaways'].fillna(0)\n",
    "de['Misses'] = de['Misses'].fillna(0)"
   ]
  },
  {
   "cell_type": "code",
   "execution_count": 146,
   "metadata": {
    "collapsed": false
   },
   "outputs": [
    {
     "data": {
      "text/plain": [
       "Season        0\n",
       "TeamCode      0\n",
       "PlayerName    0\n",
       "GP            0\n",
       "Position      0\n",
       "Goals         0\n",
       "Assists       0\n",
       "Points        0\n",
       "GoalsF        0\n",
       "GoalsA        0\n",
       "EVGoalsF      0\n",
       "EVGoalsA      0\n",
       "Plus/Minus    0\n",
       "Shots         0\n",
       "ShotsF        1\n",
       "ShotsA        1\n",
       "DShots        1\n",
       "EVShotsF      1\n",
       "EVShotsA      1\n",
       "EVDShots      1\n",
       "Blocks        0\n",
       "Hits          0\n",
       "Penalties     0\n",
       "Takeaways     0\n",
       "Giveaways     0\n",
       "Misses        0\n",
       "TOI           0\n",
       "dtype: int64"
      ]
     },
     "execution_count": 146,
     "metadata": {},
     "output_type": "execute_result"
    }
   ],
   "source": [
    "de.isnull().sum()"
   ]
  },
  {
   "cell_type": "markdown",
   "metadata": {},
   "source": [
    "### total player stats for the season"
   ]
  },
  {
   "cell_type": "markdown",
   "metadata": {},
   "source": [
    "- players that have been traded need to be evaluated for their season performance. Group by sesaon and player name to calcute the sum of each stat. "
   ]
  },
  {
   "cell_type": "code",
   "execution_count": 147,
   "metadata": {
    "collapsed": true
   },
   "outputs": [],
   "source": [
    "de['TGP'] = de.groupby(['Season', 'PlayerName'])['GP'].transform('sum')\n",
    "de['TGoals'] = de.groupby(['Season', 'PlayerName'])['Goals'].transform('sum')\n",
    "de['TAssists'] = de.groupby(['Season', 'PlayerName'])['Assists'].transform('sum')\n",
    "de['TPoints'] = de.groupby(['Season', 'PlayerName'])['Points'].transform('sum')\n",
    "de['TGoalsF'] = de.groupby(['Season', 'PlayerName'])['GoalsF'].transform('sum')\n",
    "de['TGoalsA'] = de.groupby(['Season', 'PlayerName'])['GoalsA'].transform('sum')\n",
    "de['TEVGoalsF'] = de.groupby(['Season', 'PlayerName'])['EVGoalsF'].transform('sum')\n",
    "de['TEVGoalsA'] = de.groupby(['Season', 'PlayerName'])['EVGoalsA'].transform('sum')\n",
    "de['TPlus/Minus'] = de.groupby(['Season', 'PlayerName'])['Plus/Minus'].transform('sum')\n",
    "de['TShots'] = de.groupby(['Season', 'PlayerName'])['Shots'].transform('sum')\n",
    "de['TShotsF'] = de.groupby(['Season', 'PlayerName'])['ShotsF'].transform('sum')\n",
    "de['TShotsA'] = de.groupby(['Season', 'PlayerName'])['ShotsA'].transform('sum')\n",
    "de['TDShots'] = de.groupby(['Season', 'PlayerName'])['DShots'].transform('sum')\n",
    "de['TEVShotsF'] = de.groupby(['Season', 'PlayerName'])['EVShotsF'].transform('sum')\n",
    "de['TEVShotsA'] = de.groupby(['Season', 'PlayerName'])['EVShotsA'].transform('sum')\n",
    "de['TEVDShots'] = de.groupby(['Season', 'PlayerName'])['EVDShots'].transform('sum')\n",
    "de['TBlocks'] = de.groupby(['Season', 'PlayerName'])['Blocks'].transform('sum')\n",
    "de['THits'] = de.groupby(['Season', 'PlayerName'])['Hits'].transform('sum')\n",
    "de['TPenalties'] = de.groupby(['Season', 'PlayerName'])['Penalties'].transform('sum')\n",
    "de['TTakeaways'] = de.groupby(['Season', 'PlayerName'])['Takeaways'].transform('sum')\n",
    "de['TGiveaways'] = de.groupby(['Season', 'PlayerName'])['Giveaways'].transform('sum')\n",
    "de['TMisses'] = de.groupby(['Season', 'PlayerName'])['Misses'].transform('sum')\n",
    "de['TTOI'] = de.groupby(['Season', 'PlayerName'])['TOI'].transform('sum')"
   ]
  },
  {
   "cell_type": "markdown",
   "metadata": {},
   "source": [
    "- divide all stats with total time on ice to scale the data for cluster analysis"
   ]
  },
  {
   "cell_type": "code",
   "execution_count": 148,
   "metadata": {
    "collapsed": false
   },
   "outputs": [],
   "source": [
    "de['TOIGoals'] = de['TGoals'] / de['TTOI']\n",
    "de['TOIAssists'] = de['TAssists'] / de['TTOI']\n",
    "de['TOIPoints'] = de['TPoints'] / de['TTOI']\n",
    "de['TOIGoalsF'] = de['TGoalsF'] / de['TTOI']\n",
    "de['TOIGoalsA'] = de['TGoalsA'] / de['TTOI']\n",
    "de['TOIEVGoalsF'] = de['TEVGoalsF'] / de['TTOI']\n",
    "de['TOIEVGoalsA'] = de['TEVGoalsA'] / de['TTOI']\n",
    "de['TOIPlus/Minus'] = de['TPlus/Minus'] / de['TTOI']\n",
    "de['TOIShots'] = de['TShots'] / de['TTOI']\n",
    "de['TOIShotsF'] = de['TShotsF'] / de['TTOI']\n",
    "de['TOIShotsA'] = de['TShotsA'] / de['TTOI']\n",
    "de['TOIDShots'] = de['TDShots'] / de['TTOI']\n",
    "de['TOIEVShotsF'] = de['TEVShotsF'] / de['TTOI']\n",
    "de['TOIEVShotsA'] = de['TEVShotsA'] / de['TTOI']\n",
    "de['TOIEVDShots'] = de['TEVDShots'] / de['TTOI']\n",
    "de['TOIBlocks'] = de['TBlocks'] / de['TTOI']\n",
    "de['TOIHits'] = de['THits'] / de['TTOI']\n",
    "de['TOIPenalties'] = de['TPenalties'] / de['TTOI']\n",
    "de['TOITakeaways'] = de['TTakeaways'] / de['TTOI']\n",
    "de['TOIGiveaways'] = de['TGiveaways'] / de['TTOI']\n",
    "de['TOIMisses'] = de['TMisses'] / de['TTOI']"
   ]
  },
  {
   "cell_type": "markdown",
   "metadata": {},
   "source": [
    "- keep sesaon total variables and scaled variables"
   ]
  },
  {
   "cell_type": "code",
   "execution_count": 149,
   "metadata": {
    "collapsed": false
   },
   "outputs": [
    {
     "data": {
      "text/html": [
       "<div>\n",
       "<table border=\"1\" class=\"dataframe\">\n",
       "  <thead>\n",
       "    <tr style=\"text-align: right;\">\n",
       "      <th></th>\n",
       "      <th>Season</th>\n",
       "      <th>TeamCode</th>\n",
       "      <th>PlayerName</th>\n",
       "      <th>Position</th>\n",
       "      <th>TGP</th>\n",
       "      <th>TGoals</th>\n",
       "      <th>TAssists</th>\n",
       "      <th>TPoints</th>\n",
       "      <th>TGoalsF</th>\n",
       "      <th>TGoalsA</th>\n",
       "      <th>TEVGoalsF</th>\n",
       "      <th>TEVGoalsA</th>\n",
       "      <th>TPlus/Minus</th>\n",
       "      <th>TShots</th>\n",
       "      <th>TShotsF</th>\n",
       "      <th>TShotsA</th>\n",
       "      <th>TDShots</th>\n",
       "      <th>TEVShotsF</th>\n",
       "      <th>TEVShotsA</th>\n",
       "      <th>TEVDShots</th>\n",
       "      <th>TBlocks</th>\n",
       "      <th>THits</th>\n",
       "      <th>TPenalties</th>\n",
       "      <th>TTakeaways</th>\n",
       "      <th>TGiveaways</th>\n",
       "      <th>TMisses</th>\n",
       "      <th>TTOI</th>\n",
       "      <th>TOIGoals</th>\n",
       "      <th>TOIAssists</th>\n",
       "      <th>TOIPoints</th>\n",
       "      <th>TOIGoalsF</th>\n",
       "      <th>TOIGoalsA</th>\n",
       "      <th>TOIEVGoalsF</th>\n",
       "      <th>TOIEVGoalsA</th>\n",
       "      <th>TOIPlus/Minus</th>\n",
       "      <th>TOIShots</th>\n",
       "      <th>TOIShotsF</th>\n",
       "      <th>TOIShotsA</th>\n",
       "      <th>TOIDShots</th>\n",
       "      <th>TOIEVShotsF</th>\n",
       "      <th>TOIEVShotsA</th>\n",
       "      <th>TOIEVDShots</th>\n",
       "      <th>TOIBlocks</th>\n",
       "      <th>TOIHits</th>\n",
       "      <th>TOIPenalties</th>\n",
       "      <th>TOITakeaways</th>\n",
       "      <th>TOIGiveaways</th>\n",
       "      <th>TOIMisses</th>\n",
       "    </tr>\n",
       "  </thead>\n",
       "  <tbody>\n",
       "    <tr>\n",
       "      <th>0</th>\n",
       "      <td>2015</td>\n",
       "      <td>MTL</td>\n",
       "      <td>TOMAS PLEKANEC</td>\n",
       "      <td>C</td>\n",
       "      <td>82</td>\n",
       "      <td>14.0</td>\n",
       "      <td>40.0</td>\n",
       "      <td>54.0</td>\n",
       "      <td>83.0</td>\n",
       "      <td>61.0</td>\n",
       "      <td>58.0</td>\n",
       "      <td>45.0</td>\n",
       "      <td>13.0</td>\n",
       "      <td>175.0</td>\n",
       "      <td>800.0</td>\n",
       "      <td>711.0</td>\n",
       "      <td>89.0</td>\n",
       "      <td>618.0</td>\n",
       "      <td>602.0</td>\n",
       "      <td>16.0</td>\n",
       "      <td>46.0</td>\n",
       "      <td>60.0</td>\n",
       "      <td>36.0</td>\n",
       "      <td>15.0</td>\n",
       "      <td>45.0</td>\n",
       "      <td>61.0</td>\n",
       "      <td>1520.0</td>\n",
       "      <td>0.009211</td>\n",
       "      <td>0.026316</td>\n",
       "      <td>0.035526</td>\n",
       "      <td>0.054605</td>\n",
       "      <td>0.040132</td>\n",
       "      <td>0.038158</td>\n",
       "      <td>0.029605</td>\n",
       "      <td>0.008553</td>\n",
       "      <td>0.115132</td>\n",
       "      <td>0.526316</td>\n",
       "      <td>0.467763</td>\n",
       "      <td>0.058553</td>\n",
       "      <td>0.406579</td>\n",
       "      <td>0.396053</td>\n",
       "      <td>0.010526</td>\n",
       "      <td>0.030263</td>\n",
       "      <td>0.039474</td>\n",
       "      <td>0.023684</td>\n",
       "      <td>0.009868</td>\n",
       "      <td>0.029605</td>\n",
       "      <td>0.040132</td>\n",
       "    </tr>\n",
       "    <tr>\n",
       "      <th>1</th>\n",
       "      <td>2015</td>\n",
       "      <td>MTL</td>\n",
       "      <td>BRENDAN GALLAGHER</td>\n",
       "      <td>W</td>\n",
       "      <td>53</td>\n",
       "      <td>19.0</td>\n",
       "      <td>21.0</td>\n",
       "      <td>40.0</td>\n",
       "      <td>65.0</td>\n",
       "      <td>25.0</td>\n",
       "      <td>44.0</td>\n",
       "      <td>25.0</td>\n",
       "      <td>19.0</td>\n",
       "      <td>154.0</td>\n",
       "      <td>555.0</td>\n",
       "      <td>379.0</td>\n",
       "      <td>176.0</td>\n",
       "      <td>420.0</td>\n",
       "      <td>378.0</td>\n",
       "      <td>42.0</td>\n",
       "      <td>24.0</td>\n",
       "      <td>43.0</td>\n",
       "      <td>24.0</td>\n",
       "      <td>30.0</td>\n",
       "      <td>14.0</td>\n",
       "      <td>42.0</td>\n",
       "      <td>879.0</td>\n",
       "      <td>0.021615</td>\n",
       "      <td>0.023891</td>\n",
       "      <td>0.045506</td>\n",
       "      <td>0.073948</td>\n",
       "      <td>0.028441</td>\n",
       "      <td>0.050057</td>\n",
       "      <td>0.028441</td>\n",
       "      <td>0.021615</td>\n",
       "      <td>0.175199</td>\n",
       "      <td>0.631399</td>\n",
       "      <td>0.431172</td>\n",
       "      <td>0.200228</td>\n",
       "      <td>0.477816</td>\n",
       "      <td>0.430034</td>\n",
       "      <td>0.047782</td>\n",
       "      <td>0.027304</td>\n",
       "      <td>0.048919</td>\n",
       "      <td>0.027304</td>\n",
       "      <td>0.034130</td>\n",
       "      <td>0.015927</td>\n",
       "      <td>0.047782</td>\n",
       "    </tr>\n",
       "    <tr>\n",
       "      <th>2</th>\n",
       "      <td>2015</td>\n",
       "      <td>MTL</td>\n",
       "      <td>MAX PACIORETTY</td>\n",
       "      <td>W</td>\n",
       "      <td>82</td>\n",
       "      <td>30.0</td>\n",
       "      <td>34.0</td>\n",
       "      <td>64.0</td>\n",
       "      <td>88.0</td>\n",
       "      <td>73.0</td>\n",
       "      <td>61.0</td>\n",
       "      <td>62.0</td>\n",
       "      <td>-1.0</td>\n",
       "      <td>273.0</td>\n",
       "      <td>897.0</td>\n",
       "      <td>691.0</td>\n",
       "      <td>206.0</td>\n",
       "      <td>703.0</td>\n",
       "      <td>611.0</td>\n",
       "      <td>92.0</td>\n",
       "      <td>37.0</td>\n",
       "      <td>100.0</td>\n",
       "      <td>34.0</td>\n",
       "      <td>35.0</td>\n",
       "      <td>33.0</td>\n",
       "      <td>122.0</td>\n",
       "      <td>1519.0</td>\n",
       "      <td>0.019750</td>\n",
       "      <td>0.022383</td>\n",
       "      <td>0.042133</td>\n",
       "      <td>0.057933</td>\n",
       "      <td>0.048058</td>\n",
       "      <td>0.040158</td>\n",
       "      <td>0.040816</td>\n",
       "      <td>-0.000658</td>\n",
       "      <td>0.179724</td>\n",
       "      <td>0.590520</td>\n",
       "      <td>0.454905</td>\n",
       "      <td>0.135616</td>\n",
       "      <td>0.462804</td>\n",
       "      <td>0.402238</td>\n",
       "      <td>0.060566</td>\n",
       "      <td>0.024358</td>\n",
       "      <td>0.065833</td>\n",
       "      <td>0.022383</td>\n",
       "      <td>0.023041</td>\n",
       "      <td>0.021725</td>\n",
       "      <td>0.080316</td>\n",
       "    </tr>\n",
       "    <tr>\n",
       "      <th>3</th>\n",
       "      <td>2015</td>\n",
       "      <td>MTL</td>\n",
       "      <td>PK SUBBAN</td>\n",
       "      <td>D</td>\n",
       "      <td>68</td>\n",
       "      <td>6.0</td>\n",
       "      <td>45.0</td>\n",
       "      <td>51.0</td>\n",
       "      <td>107.0</td>\n",
       "      <td>75.0</td>\n",
       "      <td>72.0</td>\n",
       "      <td>60.0</td>\n",
       "      <td>12.0</td>\n",
       "      <td>170.0</td>\n",
       "      <td>1001.0</td>\n",
       "      <td>856.0</td>\n",
       "      <td>145.0</td>\n",
       "      <td>725.0</td>\n",
       "      <td>718.0</td>\n",
       "      <td>7.0</td>\n",
       "      <td>79.0</td>\n",
       "      <td>101.0</td>\n",
       "      <td>75.0</td>\n",
       "      <td>23.0</td>\n",
       "      <td>106.0</td>\n",
       "      <td>72.0</td>\n",
       "      <td>1793.0</td>\n",
       "      <td>0.003346</td>\n",
       "      <td>0.025098</td>\n",
       "      <td>0.028444</td>\n",
       "      <td>0.059677</td>\n",
       "      <td>0.041829</td>\n",
       "      <td>0.040156</td>\n",
       "      <td>0.033463</td>\n",
       "      <td>0.006693</td>\n",
       "      <td>0.094813</td>\n",
       "      <td>0.558282</td>\n",
       "      <td>0.477412</td>\n",
       "      <td>0.080870</td>\n",
       "      <td>0.404350</td>\n",
       "      <td>0.400446</td>\n",
       "      <td>0.003904</td>\n",
       "      <td>0.044060</td>\n",
       "      <td>0.056330</td>\n",
       "      <td>0.041829</td>\n",
       "      <td>0.012828</td>\n",
       "      <td>0.059119</td>\n",
       "      <td>0.040156</td>\n",
       "    </tr>\n",
       "    <tr>\n",
       "      <th>4</th>\n",
       "      <td>2015</td>\n",
       "      <td>MTL</td>\n",
       "      <td>ANDREI MARKOV</td>\n",
       "      <td>D</td>\n",
       "      <td>82</td>\n",
       "      <td>5.0</td>\n",
       "      <td>39.0</td>\n",
       "      <td>44.0</td>\n",
       "      <td>98.0</td>\n",
       "      <td>85.0</td>\n",
       "      <td>67.0</td>\n",
       "      <td>64.0</td>\n",
       "      <td>3.0</td>\n",
       "      <td>112.0</td>\n",
       "      <td>992.0</td>\n",
       "      <td>992.0</td>\n",
       "      <td>0.0</td>\n",
       "      <td>754.0</td>\n",
       "      <td>824.0</td>\n",
       "      <td>-70.0</td>\n",
       "      <td>142.0</td>\n",
       "      <td>57.0</td>\n",
       "      <td>38.0</td>\n",
       "      <td>38.0</td>\n",
       "      <td>93.0</td>\n",
       "      <td>58.0</td>\n",
       "      <td>1955.0</td>\n",
       "      <td>0.002558</td>\n",
       "      <td>0.019949</td>\n",
       "      <td>0.022506</td>\n",
       "      <td>0.050128</td>\n",
       "      <td>0.043478</td>\n",
       "      <td>0.034271</td>\n",
       "      <td>0.032737</td>\n",
       "      <td>0.001535</td>\n",
       "      <td>0.057289</td>\n",
       "      <td>0.507417</td>\n",
       "      <td>0.507417</td>\n",
       "      <td>0.000000</td>\n",
       "      <td>0.385678</td>\n",
       "      <td>0.421483</td>\n",
       "      <td>-0.035806</td>\n",
       "      <td>0.072634</td>\n",
       "      <td>0.029156</td>\n",
       "      <td>0.019437</td>\n",
       "      <td>0.019437</td>\n",
       "      <td>0.047570</td>\n",
       "      <td>0.029668</td>\n",
       "    </tr>\n",
       "  </tbody>\n",
       "</table>\n",
       "</div>"
      ],
      "text/plain": [
       "   Season TeamCode         PlayerName Position  TGP  TGoals  TAssists  \\\n",
       "0    2015      MTL     TOMAS PLEKANEC        C   82    14.0      40.0   \n",
       "1    2015      MTL  BRENDAN GALLAGHER        W   53    19.0      21.0   \n",
       "2    2015      MTL     MAX PACIORETTY        W   82    30.0      34.0   \n",
       "3    2015      MTL          PK SUBBAN        D   68     6.0      45.0   \n",
       "4    2015      MTL      ANDREI MARKOV        D   82     5.0      39.0   \n",
       "\n",
       "   TPoints  TGoalsF  TGoalsA  TEVGoalsF  TEVGoalsA  TPlus/Minus  TShots  \\\n",
       "0     54.0     83.0     61.0       58.0       45.0         13.0   175.0   \n",
       "1     40.0     65.0     25.0       44.0       25.0         19.0   154.0   \n",
       "2     64.0     88.0     73.0       61.0       62.0         -1.0   273.0   \n",
       "3     51.0    107.0     75.0       72.0       60.0         12.0   170.0   \n",
       "4     44.0     98.0     85.0       67.0       64.0          3.0   112.0   \n",
       "\n",
       "   TShotsF  TShotsA  TDShots  TEVShotsF  TEVShotsA  TEVDShots  TBlocks  THits  \\\n",
       "0    800.0    711.0     89.0      618.0      602.0       16.0     46.0   60.0   \n",
       "1    555.0    379.0    176.0      420.0      378.0       42.0     24.0   43.0   \n",
       "2    897.0    691.0    206.0      703.0      611.0       92.0     37.0  100.0   \n",
       "3   1001.0    856.0    145.0      725.0      718.0        7.0     79.0  101.0   \n",
       "4    992.0    992.0      0.0      754.0      824.0      -70.0    142.0   57.0   \n",
       "\n",
       "   TPenalties  TTakeaways  TGiveaways  TMisses    TTOI  TOIGoals  TOIAssists  \\\n",
       "0        36.0        15.0        45.0     61.0  1520.0  0.009211    0.026316   \n",
       "1        24.0        30.0        14.0     42.0   879.0  0.021615    0.023891   \n",
       "2        34.0        35.0        33.0    122.0  1519.0  0.019750    0.022383   \n",
       "3        75.0        23.0       106.0     72.0  1793.0  0.003346    0.025098   \n",
       "4        38.0        38.0        93.0     58.0  1955.0  0.002558    0.019949   \n",
       "\n",
       "   TOIPoints  TOIGoalsF  TOIGoalsA  TOIEVGoalsF  TOIEVGoalsA  TOIPlus/Minus  \\\n",
       "0   0.035526   0.054605   0.040132     0.038158     0.029605       0.008553   \n",
       "1   0.045506   0.073948   0.028441     0.050057     0.028441       0.021615   \n",
       "2   0.042133   0.057933   0.048058     0.040158     0.040816      -0.000658   \n",
       "3   0.028444   0.059677   0.041829     0.040156     0.033463       0.006693   \n",
       "4   0.022506   0.050128   0.043478     0.034271     0.032737       0.001535   \n",
       "\n",
       "   TOIShots  TOIShotsF  TOIShotsA  TOIDShots  TOIEVShotsF  TOIEVShotsA  \\\n",
       "0  0.115132   0.526316   0.467763   0.058553     0.406579     0.396053   \n",
       "1  0.175199   0.631399   0.431172   0.200228     0.477816     0.430034   \n",
       "2  0.179724   0.590520   0.454905   0.135616     0.462804     0.402238   \n",
       "3  0.094813   0.558282   0.477412   0.080870     0.404350     0.400446   \n",
       "4  0.057289   0.507417   0.507417   0.000000     0.385678     0.421483   \n",
       "\n",
       "   TOIEVDShots  TOIBlocks   TOIHits  TOIPenalties  TOITakeaways  TOIGiveaways  \\\n",
       "0     0.010526   0.030263  0.039474      0.023684      0.009868      0.029605   \n",
       "1     0.047782   0.027304  0.048919      0.027304      0.034130      0.015927   \n",
       "2     0.060566   0.024358  0.065833      0.022383      0.023041      0.021725   \n",
       "3     0.003904   0.044060  0.056330      0.041829      0.012828      0.059119   \n",
       "4    -0.035806   0.072634  0.029156      0.019437      0.019437      0.047570   \n",
       "\n",
       "   TOIMisses  \n",
       "0   0.040132  \n",
       "1   0.047782  \n",
       "2   0.080316  \n",
       "3   0.040156  \n",
       "4   0.029668  "
      ]
     },
     "execution_count": 149,
     "metadata": {},
     "output_type": "execute_result"
    }
   ],
   "source": [
    "de = de[['Season', 'TeamCode', 'PlayerName', 'Position', 'TGP', 'TGoals', 'TAssists', 'TPoints', 'TGoalsF', 'TGoalsA', 'TEVGoalsF', 'TEVGoalsA', 'TPlus/Minus', 'TShots', 'TShotsF', 'TShotsA', 'TDShots', 'TEVShotsF', 'TEVShotsA', 'TEVDShots', 'TBlocks', 'THits', 'TPenalties', 'TTakeaways', 'TGiveaways', 'TMisses', 'TTOI', 'TOIGoals', 'TOIAssists', 'TOIPoints', 'TOIGoalsF', 'TOIGoalsA', 'TOIEVGoalsF', 'TOIEVGoalsA', 'TOIPlus/Minus', 'TOIShots', 'TOIShotsF', 'TOIShotsA', 'TOIDShots', 'TOIEVShotsF', 'TOIEVShotsA', 'TOIEVDShots', 'TOIBlocks', 'TOIHits', 'TOIPenalties', 'TOITakeaways', 'TOIGiveaways', 'TOIMisses']]\n",
    "de.head()"
   ]
  },
  {
   "cell_type": "code",
   "execution_count": 150,
   "metadata": {
    "collapsed": true
   },
   "outputs": [],
   "source": [
    "de.to_csv('/Users/stefanostselios/Brock University/Kevin Mongeon - StephanosShare/out/stats/2015_player_stats.csv', index='False', sep=',')\n",
    "#de = pd.read_csv('/Users/kevinmongeon/Brock University/Steve Tselios - StephanosShare/out/stats/2015_player_stats.csv', index='False', sep=',')"
   ]
  },
  {
   "cell_type": "code",
   "execution_count": null,
   "metadata": {
    "collapsed": true
   },
   "outputs": [],
   "source": []
  }
 ],
 "metadata": {
  "kernelspec": {
   "display_name": "Python 3",
   "language": "python",
   "name": "python3"
  },
  "language_info": {
   "codemirror_mode": {
    "name": "ipython",
    "version": 3
   },
   "file_extension": ".py",
   "mimetype": "text/x-python",
   "name": "python",
   "nbconvert_exporter": "python",
   "pygments_lexer": "ipython3",
   "version": "3.6.0"
  }
 },
 "nbformat": 4,
 "nbformat_minor": 2
}
