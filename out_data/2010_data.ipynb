{
 "cells": [
  {
   "cell_type": "markdown",
   "metadata": {},
   "source": [
    "## 2010 play by play data"
   ]
  },
  {
   "cell_type": "code",
   "execution_count": 2,
   "metadata": {
    "collapsed": true
   },
   "outputs": [],
   "source": [
    "import sys\n",
    "import os\n",
    "import pandas as pd\n",
    "import numpy as np\n",
    "import datetime, time\n",
    "import matplotlib.pyplot as plt\n",
    "from matplotlib.backends.backend_pdf import PdfPages\n",
    "import matplotlib.cm as cm\n",
    "import statsmodels.api as sm\n",
    "from statsmodels.formula.api import ols\n",
    "from pylab import hist, show\n",
    "import scipy\n",
    "import zipfile\n",
    "from sklearn.cluster import KMeans\n",
    "from sklearn import metrics\n",
    "from sklearn.preprocessing import MinMaxScaler\n",
    "from sklearn.preprocessing import StandardScaler\n",
    "from sklearn.decomposition import PCA\n",
    "from scipy.cluster.hierarchy import linkage, dendrogram\n",
    "from scipy.cluster.hierarchy import cophenet\n",
    "from scipy.spatial.distance import pdist\n",
    "import seaborn as sn\n",
    "from sklearn.metrics import silhouette_samples, silhouette_score\n",
    "\n",
    "\n",
    "sys.setrecursionlimit(100000)\n",
    "pd.set_option('display.max_rows', 50)\n",
    "pd.set_option('display.max_columns', 200)"
   ]
  },
  {
   "cell_type": "markdown",
   "metadata": {},
   "source": [
    "### import 2010-2011 nhl data set"
   ]
  },
  {
   "cell_type": "code",
   "execution_count": 111,
   "metadata": {
    "collapsed": false
   },
   "outputs": [],
   "source": [
    "da = pd.read_csv('/Users/stefanostselios/Brock University/Kevin Mongeon - StephanosShare/data/nhl_pbp20102011.csv')\n",
    "#da = pd.read_csv('/Users/kevinmongeon/Brock University/Steve Tselios - StephanosShare/data/nhl_pbp20102011.csv')\n",
    "da = da.drop('Unnamed: 0', axis=1)"
   ]
  },
  {
   "cell_type": "markdown",
   "metadata": {},
   "source": [
    "- rename columns and create a season variable"
   ]
  },
  {
   "cell_type": "code",
   "execution_count": 112,
   "metadata": {
    "collapsed": false
   },
   "outputs": [],
   "source": [
    "da = da.rename(columns={ 'Game_Id' : 'GameNumber', 'Ev_Zone': 'EventZone', 'Time_Elapsed': 'Time', 'Ev_Team': 'EventTeamCode', 'Description': 'EventDetail', 'Away_Team': 'ATeamCode', 'Home_Team':'HTeamCode', 'p1_name': 'EventPlayer1','p2_name': 'EventPlayer2', 'p3_name': 'EventPlayer3', 'awayPlayer1': 'APlayer1', 'awayPlayer2': 'APlayer2', 'awayPlayer3': 'APlayer3', 'awayPlayer4': 'APlayer4', 'awayPlayer5': 'APlayer5', 'awayPlayer6': 'APlayer6', 'homePlayer1': 'HPlayer1', 'homePlayer2': 'HPlayer2', 'homePlayer3': 'HPlayer3','homePlayer4': 'HPlayer4', 'homePlayer5': 'HPlayer5','homePlayer6': 'HPlayer6', 'Away_Score': 'AGoals', 'Home_Score': 'HGoals', 'Away_Goalie': 'AGoalie', 'Home_Goalie': 'HGoalie', 'Away_Players': 'PlayersA', 'Home_Players': 'PlayersH' })\n",
    "da['Season'] = 2010\n",
    "da = da[['Season', 'GameNumber', 'Date', 'Period', 'Time', 'Strength', 'Event', 'EventDetail', 'EventTeamCode', 'EventPlayer1', 'EventPlayer2', 'EventPlayer3', 'ATeamCode', 'APlayer1', 'APlayer2', 'APlayer3', 'APlayer4', 'APlayer5', 'APlayer6', 'AGoalie', 'PlayersA', 'HTeamCode', 'HPlayer1', 'HPlayer2', 'HPlayer3', 'HPlayer4', 'HPlayer5', 'HPlayer6', 'HGoalie', 'PlayersH']]"
   ]
  },
  {
   "cell_type": "markdown",
   "metadata": {},
   "source": [
    "- keep only regular season games and exclude irrelevant on-ice events"
   ]
  },
  {
   "cell_type": "code",
   "execution_count": 113,
   "metadata": {
    "collapsed": false
   },
   "outputs": [],
   "source": [
    "da = da[da['GameNumber'] <= 21230]\n",
    "da = da[da['Period'] <= 4]\n",
    "da = da[da['Period'] >= 1]\n",
    "da = da[da['Event']!='STOP']\n",
    "da = da[da['Event']!='EISTR']\n",
    "da = da[da['Event']!='EIEND']\n",
    "da = da[da['Event']!='PSTR']\n",
    "da = da[da['Event']!='PEND']\n",
    "da = da[da['Event']!='SOC']\n",
    "da = da[da['Event']!='GEND']"
   ]
  },
  {
   "cell_type": "markdown",
   "metadata": {},
   "source": [
    "- create an event number variable that will count the number of events per game. \n",
    "- create an advantage type variable for even strength, power play and short handed situations."
   ]
  },
  {
   "cell_type": "code",
   "execution_count": 114,
   "metadata": {
    "collapsed": true
   },
   "outputs": [],
   "source": [
    "da['EventNumber'] = da.groupby(['Season', 'GameNumber']).cumcount()+1"
   ]
  },
  {
   "cell_type": "code",
   "execution_count": 115,
   "metadata": {
    "collapsed": true
   },
   "outputs": [],
   "source": [
    "da['AdvantageType'] = da.apply(lambda x: 'EV' if ((x['PlayersA'] == x['PlayersH']) & (x['PlayersA'] != 1) & (x['PlayersH'] != 1)) else 'PP' if ((x['PlayersA'] > x['PlayersH']) & (x['EventTeamCode'] == x['ATeamCode'])) else 'PP' if ((x['PlayersA'] < x['PlayersH']) & (x['EventTeamCode'] == x['HTeamCode'])) else 'SH' if ((x['PlayersA'] < x['PlayersH']) & (x['EventTeamCode'] == x['ATeamCode'])) else 'SH' if ((x['PlayersA'] > x['PlayersH']) & (x['EventTeamCode'] == x['HTeamCode'])) else 'PP' if ((x['PlayersA'] == 1 ) & (x['PlayersH'] == 1)) else np.nan, axis=1) "
   ]
  },
  {
   "cell_type": "code",
   "execution_count": 116,
   "metadata": {
    "collapsed": false
   },
   "outputs": [
    {
     "data": {
      "text/plain": [
       "EV    258601\n",
       "PP     38064\n",
       "SH     18082\n",
       "Name: AdvantageType, dtype: int64"
      ]
     },
     "execution_count": 116,
     "metadata": {},
     "output_type": "execute_result"
    }
   ],
   "source": [
    "da['AdvantageType'].value_counts()"
   ]
  },
  {
   "cell_type": "markdown",
   "metadata": {},
   "source": [
    "- reshape data from wide to long for away team players and home team players"
   ]
  },
  {
   "cell_type": "code",
   "execution_count": 117,
   "metadata": {
    "collapsed": false
   },
   "outputs": [
    {
     "data": {
      "text/html": [
       "<div>\n",
       "<table border=\"1\" class=\"dataframe\">\n",
       "  <thead>\n",
       "    <tr style=\"text-align: right;\">\n",
       "      <th></th>\n",
       "      <th>AGoalie</th>\n",
       "      <th>ATeamCode</th>\n",
       "      <th>AdvantageType</th>\n",
       "      <th>Date</th>\n",
       "      <th>Event</th>\n",
       "      <th>EventDetail</th>\n",
       "      <th>EventNumber</th>\n",
       "      <th>EventPlayer1</th>\n",
       "      <th>EventPlayer2</th>\n",
       "      <th>EventPlayer3</th>\n",
       "      <th>EventTeamCode</th>\n",
       "      <th>GameNumber</th>\n",
       "      <th>HGoalie</th>\n",
       "      <th>HTeamCode</th>\n",
       "      <th>Period</th>\n",
       "      <th>PlayersA</th>\n",
       "      <th>PlayersH</th>\n",
       "      <th>Season</th>\n",
       "      <th>Strength</th>\n",
       "      <th>Time</th>\n",
       "      <th>APlayer</th>\n",
       "      <th>HPlayer</th>\n",
       "    </tr>\n",
       "  </thead>\n",
       "  <tbody>\n",
       "    <tr>\n",
       "      <th>0</th>\n",
       "      <td>CAM WARD</td>\n",
       "      <td>CAR</td>\n",
       "      <td>EV</td>\n",
       "      <td>2010-10-07</td>\n",
       "      <td>FAC</td>\n",
       "      <td>MIN won Neu. Zone - CAR #36 JOKINEN vs MIN #9 ...</td>\n",
       "      <td>1</td>\n",
       "      <td>MIKKO KOIVU</td>\n",
       "      <td>JUSSI JOKINEN</td>\n",
       "      <td>NaN</td>\n",
       "      <td>MIN</td>\n",
       "      <td>20003</td>\n",
       "      <td>NIKLAS BACKSTROM</td>\n",
       "      <td>MIN</td>\n",
       "      <td>1</td>\n",
       "      <td>6</td>\n",
       "      <td>6</td>\n",
       "      <td>2010</td>\n",
       "      <td>5x5</td>\n",
       "      <td>0:00</td>\n",
       "      <td>JEFF SKINNER</td>\n",
       "      <td>MIKKO KOIVU</td>\n",
       "    </tr>\n",
       "    <tr>\n",
       "      <th>1</th>\n",
       "      <td>CAM WARD</td>\n",
       "      <td>CAR</td>\n",
       "      <td>EV</td>\n",
       "      <td>2010-10-07</td>\n",
       "      <td>FAC</td>\n",
       "      <td>MIN won Neu. Zone - CAR #36 JOKINEN vs MIN #9 ...</td>\n",
       "      <td>2</td>\n",
       "      <td>MIKKO KOIVU</td>\n",
       "      <td>JUSSI JOKINEN</td>\n",
       "      <td>NaN</td>\n",
       "      <td>MIN</td>\n",
       "      <td>20003</td>\n",
       "      <td>NIKLAS BACKSTROM</td>\n",
       "      <td>MIN</td>\n",
       "      <td>1</td>\n",
       "      <td>6</td>\n",
       "      <td>6</td>\n",
       "      <td>2010</td>\n",
       "      <td>5x5</td>\n",
       "      <td>0:08</td>\n",
       "      <td>JEFF SKINNER</td>\n",
       "      <td>MIKKO KOIVU</td>\n",
       "    </tr>\n",
       "    <tr>\n",
       "      <th>2</th>\n",
       "      <td>CAM WARD</td>\n",
       "      <td>CAR</td>\n",
       "      <td>EV</td>\n",
       "      <td>2010-10-07</td>\n",
       "      <td>SHOT</td>\n",
       "      <td>CAR ONGOAL - #12 STAAL, Snap, Off. Zone, 37 ft.</td>\n",
       "      <td>3</td>\n",
       "      <td>ERIC STAAL</td>\n",
       "      <td>NaN</td>\n",
       "      <td>NaN</td>\n",
       "      <td>CAR</td>\n",
       "      <td>20003</td>\n",
       "      <td>NIKLAS BACKSTROM</td>\n",
       "      <td>MIN</td>\n",
       "      <td>1</td>\n",
       "      <td>6</td>\n",
       "      <td>6</td>\n",
       "      <td>2010</td>\n",
       "      <td>5x5</td>\n",
       "      <td>1:05</td>\n",
       "      <td>ERIC STAAL</td>\n",
       "      <td>MATT CULLEN</td>\n",
       "    </tr>\n",
       "    <tr>\n",
       "      <th>3</th>\n",
       "      <td>CAM WARD</td>\n",
       "      <td>CAR</td>\n",
       "      <td>EV</td>\n",
       "      <td>2010-10-07</td>\n",
       "      <td>MISS</td>\n",
       "      <td>CAR #6 GLEASON, Wrist, Wide of Net, Off. Zone,...</td>\n",
       "      <td>4</td>\n",
       "      <td>TIM GLEASON</td>\n",
       "      <td>NaN</td>\n",
       "      <td>NaN</td>\n",
       "      <td>CAR</td>\n",
       "      <td>20003</td>\n",
       "      <td>NIKLAS BACKSTROM</td>\n",
       "      <td>MIN</td>\n",
       "      <td>1</td>\n",
       "      <td>6</td>\n",
       "      <td>6</td>\n",
       "      <td>2010</td>\n",
       "      <td>5x5</td>\n",
       "      <td>1:16</td>\n",
       "      <td>ERIC STAAL</td>\n",
       "      <td>MATT CULLEN</td>\n",
       "    </tr>\n",
       "    <tr>\n",
       "      <th>4</th>\n",
       "      <td>CAM WARD</td>\n",
       "      <td>CAR</td>\n",
       "      <td>EV</td>\n",
       "      <td>2010-10-07</td>\n",
       "      <td>HIT</td>\n",
       "      <td>MIN #22 CLUTTERBUCK HIT CAR #26 COLE, Neu. Zone</td>\n",
       "      <td>5</td>\n",
       "      <td>CAL CLUTTERBUCK</td>\n",
       "      <td>ERIK COLE</td>\n",
       "      <td>NaN</td>\n",
       "      <td>MIN</td>\n",
       "      <td>20003</td>\n",
       "      <td>NIKLAS BACKSTROM</td>\n",
       "      <td>MIN</td>\n",
       "      <td>1</td>\n",
       "      <td>6</td>\n",
       "      <td>6</td>\n",
       "      <td>2010</td>\n",
       "      <td>5x5</td>\n",
       "      <td>1:22</td>\n",
       "      <td>ERIC STAAL</td>\n",
       "      <td>MATT CULLEN</td>\n",
       "    </tr>\n",
       "  </tbody>\n",
       "</table>\n",
       "</div>"
      ],
      "text/plain": [
       "    AGoalie ATeamCode AdvantageType        Date Event  \\\n",
       "0  CAM WARD       CAR            EV  2010-10-07   FAC   \n",
       "1  CAM WARD       CAR            EV  2010-10-07   FAC   \n",
       "2  CAM WARD       CAR            EV  2010-10-07  SHOT   \n",
       "3  CAM WARD       CAR            EV  2010-10-07  MISS   \n",
       "4  CAM WARD       CAR            EV  2010-10-07   HIT   \n",
       "\n",
       "                                         EventDetail  EventNumber  \\\n",
       "0  MIN won Neu. Zone - CAR #36 JOKINEN vs MIN #9 ...            1   \n",
       "1  MIN won Neu. Zone - CAR #36 JOKINEN vs MIN #9 ...            2   \n",
       "2    CAR ONGOAL - #12 STAAL, Snap, Off. Zone, 37 ft.            3   \n",
       "3  CAR #6 GLEASON, Wrist, Wide of Net, Off. Zone,...            4   \n",
       "4    MIN #22 CLUTTERBUCK HIT CAR #26 COLE, Neu. Zone            5   \n",
       "\n",
       "      EventPlayer1   EventPlayer2 EventPlayer3 EventTeamCode  GameNumber  \\\n",
       "0      MIKKO KOIVU  JUSSI JOKINEN          NaN           MIN       20003   \n",
       "1      MIKKO KOIVU  JUSSI JOKINEN          NaN           MIN       20003   \n",
       "2       ERIC STAAL            NaN          NaN           CAR       20003   \n",
       "3      TIM GLEASON            NaN          NaN           CAR       20003   \n",
       "4  CAL CLUTTERBUCK      ERIK COLE          NaN           MIN       20003   \n",
       "\n",
       "            HGoalie HTeamCode  Period  PlayersA  PlayersH  Season Strength  \\\n",
       "0  NIKLAS BACKSTROM       MIN       1         6         6    2010      5x5   \n",
       "1  NIKLAS BACKSTROM       MIN       1         6         6    2010      5x5   \n",
       "2  NIKLAS BACKSTROM       MIN       1         6         6    2010      5x5   \n",
       "3  NIKLAS BACKSTROM       MIN       1         6         6    2010      5x5   \n",
       "4  NIKLAS BACKSTROM       MIN       1         6         6    2010      5x5   \n",
       "\n",
       "   Time       APlayer      HPlayer  \n",
       "0  0:00  JEFF SKINNER  MIKKO KOIVU  \n",
       "1  0:08  JEFF SKINNER  MIKKO KOIVU  \n",
       "2  1:05    ERIC STAAL  MATT CULLEN  \n",
       "3  1:16    ERIC STAAL  MATT CULLEN  \n",
       "4  1:22    ERIC STAAL  MATT CULLEN  "
      ]
     },
     "execution_count": 117,
     "metadata": {},
     "output_type": "execute_result"
    }
   ],
   "source": [
    "db = da.copy()\n",
    "a = [col for col in db.columns if 'APlayer' in col]\n",
    "b = [col for col in db.columns if 'HPlayer' in col]\n",
    "db = pd.lreshape(db, {'APlayer' : a, 'HPlayer' : b })\n",
    "db.head()"
   ]
  },
  {
   "cell_type": "code",
   "execution_count": 118,
   "metadata": {
    "collapsed": false
   },
   "outputs": [],
   "source": [
    "db = db[['Season', 'GameNumber', 'Date', 'Period', 'Time', 'AdvantageType', 'Strength', 'EventNumber', 'Event', 'EventDetail', 'EventTeamCode', 'EventPlayer1', 'EventPlayer2', 'EventPlayer3', 'ATeamCode', 'APlayer', 'AGoalie', 'PlayersA', 'HTeamCode', 'HPlayer', 'HGoalie', 'PlayersH']]\n",
    "db = db.sort_values(['Season', 'GameNumber', 'Period', 'Time'], ascending=[True, True, True, True])"
   ]
  },
  {
   "cell_type": "markdown",
   "metadata": {},
   "source": [
    "- reshape data from wide to long for away and home team code and player respectfully."
   ]
  },
  {
   "cell_type": "code",
   "execution_count": 119,
   "metadata": {
    "collapsed": false
   },
   "outputs": [],
   "source": [
    "dc = db.copy()\n",
    "dc = dc.rename(columns={'EventTeamCode': 'EventTeam', 'EventPlayer1': 'EventP1', 'EventPlayer2': 'EventP2', 'EventPlayer3': 'EventP3', 'PlayersA':'PA', 'PlayersH': 'PH'})"
   ]
  },
  {
   "cell_type": "code",
   "execution_count": 120,
   "metadata": {
    "collapsed": true
   },
   "outputs": [],
   "source": [
    "a = [col for col in dc.columns if 'Code' in col]\n",
    "b = [col for col in dc.columns if 'Player' in col]\n",
    "c = [col for col in dc.columns if 'Goalie' in col]\n",
    "d = [col for col in dc.columns if 'Position' in col]\n",
    "dc = pd.lreshape(dc, {'TeamCode' : a, 'PlayerName' : b, 'Goalie': c})"
   ]
  },
  {
   "cell_type": "code",
   "execution_count": 121,
   "metadata": {
    "collapsed": false
   },
   "outputs": [],
   "source": [
    "dc = dc.rename(columns={'EventTeam': 'EventTeamCode', 'EventP1': 'EventPlayer1', 'EventP2': 'EventPlayer2', 'EventP3': 'EventPlayer3', 'PA':'PlayersA', 'PH': 'PlayersH'})"
   ]
  },
  {
   "cell_type": "code",
   "execution_count": 122,
   "metadata": {
    "collapsed": false
   },
   "outputs": [
    {
     "data": {
      "text/plain": [
       "(3607391, 19)"
      ]
     },
     "execution_count": 122,
     "metadata": {},
     "output_type": "execute_result"
    }
   ],
   "source": [
    "dc.shape"
   ]
  },
  {
   "cell_type": "markdown",
   "metadata": {},
   "source": [
    "### games played"
   ]
  },
  {
   "cell_type": "markdown",
   "metadata": {},
   "source": [
    "- calculate the games each player participated in for the duration of the 2011 regular season."
   ]
  },
  {
   "cell_type": "code",
   "execution_count": 123,
   "metadata": {
    "collapsed": true
   },
   "outputs": [],
   "source": [
    "s = dc.copy()\n",
    "s = s[['Season', 'GameNumber', 'TeamCode', 'PlayerName']]\n",
    "s = s.sort_values(['Season', 'GameNumber', 'TeamCode'], ascending=[True, True, True])\n",
    "s = s.drop_duplicates(['Season', 'GameNumber', 'TeamCode', 'PlayerName'])"
   ]
  },
  {
   "cell_type": "code",
   "execution_count": 124,
   "metadata": {
    "collapsed": false
   },
   "outputs": [
    {
     "data": {
      "text/html": [
       "<div>\n",
       "<table border=\"1\" class=\"dataframe\">\n",
       "  <thead>\n",
       "    <tr style=\"text-align: right;\">\n",
       "      <th></th>\n",
       "      <th>Season</th>\n",
       "      <th>TeamCode</th>\n",
       "      <th>PlayerName</th>\n",
       "      <th>GP</th>\n",
       "    </tr>\n",
       "  </thead>\n",
       "  <tbody>\n",
       "    <tr>\n",
       "      <th>0</th>\n",
       "      <td>2010</td>\n",
       "      <td>MTL</td>\n",
       "      <td>SCOTT GOMEZ</td>\n",
       "      <td>80</td>\n",
       "    </tr>\n",
       "    <tr>\n",
       "      <th>1</th>\n",
       "      <td>2010</td>\n",
       "      <td>MTL</td>\n",
       "      <td>BRIAN GIONTA</td>\n",
       "      <td>82</td>\n",
       "    </tr>\n",
       "    <tr>\n",
       "      <th>2</th>\n",
       "      <td>2010</td>\n",
       "      <td>MTL</td>\n",
       "      <td>BENOIT POULIOT</td>\n",
       "      <td>79</td>\n",
       "    </tr>\n",
       "    <tr>\n",
       "      <th>3</th>\n",
       "      <td>2010</td>\n",
       "      <td>MTL</td>\n",
       "      <td>JOSH GORGES</td>\n",
       "      <td>36</td>\n",
       "    </tr>\n",
       "    <tr>\n",
       "      <th>4</th>\n",
       "      <td>2010</td>\n",
       "      <td>MTL</td>\n",
       "      <td>HAL GILL</td>\n",
       "      <td>75</td>\n",
       "    </tr>\n",
       "  </tbody>\n",
       "</table>\n",
       "</div>"
      ],
      "text/plain": [
       "   Season TeamCode      PlayerName  GP\n",
       "0    2010      MTL     SCOTT GOMEZ  80\n",
       "1    2010      MTL    BRIAN GIONTA  82\n",
       "2    2010      MTL  BENOIT POULIOT  79\n",
       "3    2010      MTL     JOSH GORGES  36\n",
       "4    2010      MTL        HAL GILL  75"
      ]
     },
     "execution_count": 124,
     "metadata": {},
     "output_type": "execute_result"
    }
   ],
   "source": [
    "s['GP'] = s.groupby(['Season', 'TeamCode','PlayerName'])['GameNumber'].transform('count')\n",
    "s = s.drop_duplicates(['Season', 'TeamCode', 'PlayerName'])\n",
    "s = s[['Season', 'TeamCode', 'PlayerName', 'GP']]\n",
    "s.head()"
   ]
  },
  {
   "cell_type": "code",
   "execution_count": 125,
   "metadata": {
    "collapsed": false
   },
   "outputs": [
    {
     "data": {
      "text/plain": [
       "Season        0\n",
       "TeamCode      0\n",
       "PlayerName    0\n",
       "GP            0\n",
       "dtype: int64"
      ]
     },
     "execution_count": 125,
     "metadata": {},
     "output_type": "execute_result"
    }
   ],
   "source": [
    "s.isnull().sum()"
   ]
  },
  {
   "cell_type": "code",
   "execution_count": 126,
   "metadata": {
    "collapsed": false
   },
   "outputs": [
    {
     "data": {
      "text/plain": [
       "(1058, 4)"
      ]
     },
     "execution_count": 126,
     "metadata": {},
     "output_type": "execute_result"
    }
   ],
   "source": [
    "s.shape"
   ]
  },
  {
   "cell_type": "markdown",
   "metadata": {},
   "source": [
    "### shots for and against"
   ]
  },
  {
   "cell_type": "markdown",
   "metadata": {},
   "source": [
    "- calculate the shots against each player faced througout the duration of a season. \n",
    "- create shot for and shot against variables. If event team code is indiferrent to team code assign a value of 1. If not, assign a value of 0. \n",
    "- **goals are a result of a shot and therefore need to be added to a player's shot total**. Display total shots per player for a season."
   ]
  },
  {
   "cell_type": "code",
   "execution_count": 127,
   "metadata": {
    "collapsed": false
   },
   "outputs": [],
   "source": [
    "sa = dc.copy()\n",
    "sa = sa[sa['Event'].isin(['SHOT','GOAL'])]"
   ]
  },
  {
   "cell_type": "code",
   "execution_count": 128,
   "metadata": {
    "collapsed": false
   },
   "outputs": [],
   "source": [
    "sa['ShotF'] = sa.apply(lambda x: 1 if x['EventTeamCode'] == x['TeamCode'] else 0, axis=1)\n",
    "sa['ShotsF'] = sa.groupby(['Season', 'TeamCode', 'PlayerName'])['ShotF'].transform('sum')\n",
    "\n",
    "sa['ShotA'] = sa.apply(lambda x: 1 if x['EventTeamCode'] != x['TeamCode'] else 0, axis=1)\n",
    "sa['ShotsA'] = sa.groupby(['Season', 'TeamCode', 'PlayerName'])['ShotA'].transform('sum')"
   ]
  },
  {
   "cell_type": "markdown",
   "metadata": {},
   "source": [
    "- create shot for and shot against variables for even strength situations only. If event team code is indiferrent to team code assign a value of 1. If not, assign a value of 0. \n",
    "- **goals are a result of a shot and therefore need to be added to a player's shot total**. Display total shots per player for a season."
   ]
  },
  {
   "cell_type": "code",
   "execution_count": 129,
   "metadata": {
    "collapsed": false
   },
   "outputs": [],
   "source": [
    "sa['EVShotF'] = sa.apply(lambda x: 1 if ((x['AdvantageType'] == 'EV') & (x['EventTeamCode'] == x['TeamCode'])) else 1 if ((x['AdvantageType'] == 'SH') & (x['EventTeamCode'] == x['TeamCode'])) else 0, axis=1)\n",
    "sa['EVShotsF'] = sa.groupby(['Season', 'TeamCode', 'PlayerName'])['EVShotF'].transform('sum')\n",
    "\n",
    "sa['EVShotA'] = sa.apply(lambda x: 1 if ((x['AdvantageType'] == 'EV') & (x['EventTeamCode'] != x['TeamCode'])) else 1 if ((x['AdvantageType'] == 'SH') & (x['EventTeamCode'] != x['TeamCode'])) else 0, axis=1)\n",
    "sa['EVShotsA'] = sa.groupby(['Season', 'TeamCode', 'PlayerName'])['EVShotA'].transform('sum')"
   ]
  },
  {
   "cell_type": "markdown",
   "metadata": {},
   "source": [
    "- calculate the shot differential for all shots and even strength shots."
   ]
  },
  {
   "cell_type": "code",
   "execution_count": 130,
   "metadata": {
    "collapsed": true
   },
   "outputs": [],
   "source": [
    "sa['DShots'] = sa['ShotsF'] - sa['ShotsA']\n",
    "sa['EVDShots'] = sa['EVShotsF'] - sa['EVShotsA']"
   ]
  },
  {
   "cell_type": "code",
   "execution_count": 131,
   "metadata": {
    "collapsed": false
   },
   "outputs": [
    {
     "data": {
      "text/html": [
       "<div>\n",
       "<table border=\"1\" class=\"dataframe\">\n",
       "  <thead>\n",
       "    <tr style=\"text-align: right;\">\n",
       "      <th></th>\n",
       "      <th>Season</th>\n",
       "      <th>TeamCode</th>\n",
       "      <th>PlayerName</th>\n",
       "      <th>ShotsF</th>\n",
       "      <th>ShotsA</th>\n",
       "      <th>DShots</th>\n",
       "      <th>EVShotsF</th>\n",
       "      <th>EVShotsA</th>\n",
       "      <th>EVDShots</th>\n",
       "    </tr>\n",
       "  </thead>\n",
       "  <tbody>\n",
       "    <tr>\n",
       "      <th>54</th>\n",
       "      <td>2010</td>\n",
       "      <td>MTL</td>\n",
       "      <td>TOMAS PLEKANEC</td>\n",
       "      <td>859</td>\n",
       "      <td>820</td>\n",
       "      <td>39</td>\n",
       "      <td>625</td>\n",
       "      <td>616</td>\n",
       "      <td>9</td>\n",
       "    </tr>\n",
       "    <tr>\n",
       "      <th>55</th>\n",
       "      <td>2010</td>\n",
       "      <td>MTL</td>\n",
       "      <td>LARS ELLER</td>\n",
       "      <td>408</td>\n",
       "      <td>406</td>\n",
       "      <td>2</td>\n",
       "      <td>397</td>\n",
       "      <td>395</td>\n",
       "      <td>2</td>\n",
       "    </tr>\n",
       "    <tr>\n",
       "      <th>56</th>\n",
       "      <td>2010</td>\n",
       "      <td>MTL</td>\n",
       "      <td>ANDREI KOSTITSYN</td>\n",
       "      <td>725</td>\n",
       "      <td>617</td>\n",
       "      <td>108</td>\n",
       "      <td>559</td>\n",
       "      <td>616</td>\n",
       "      <td>-57</td>\n",
       "    </tr>\n",
       "    <tr>\n",
       "      <th>57</th>\n",
       "      <td>2010</td>\n",
       "      <td>MTL</td>\n",
       "      <td>JAROSLAV SPACEK</td>\n",
       "      <td>585</td>\n",
       "      <td>591</td>\n",
       "      <td>-6</td>\n",
       "      <td>509</td>\n",
       "      <td>477</td>\n",
       "      <td>32</td>\n",
       "    </tr>\n",
       "    <tr>\n",
       "      <th>58</th>\n",
       "      <td>2010</td>\n",
       "      <td>MTL</td>\n",
       "      <td>PK SUBBAN</td>\n",
       "      <td>978</td>\n",
       "      <td>810</td>\n",
       "      <td>168</td>\n",
       "      <td>746</td>\n",
       "      <td>639</td>\n",
       "      <td>107</td>\n",
       "    </tr>\n",
       "  </tbody>\n",
       "</table>\n",
       "</div>"
      ],
      "text/plain": [
       "    Season TeamCode        PlayerName  ShotsF  ShotsA  DShots  EVShotsF  \\\n",
       "54    2010      MTL    TOMAS PLEKANEC     859     820      39       625   \n",
       "55    2010      MTL        LARS ELLER     408     406       2       397   \n",
       "56    2010      MTL  ANDREI KOSTITSYN     725     617     108       559   \n",
       "57    2010      MTL   JAROSLAV SPACEK     585     591      -6       509   \n",
       "58    2010      MTL         PK SUBBAN     978     810     168       746   \n",
       "\n",
       "    EVShotsA  EVDShots  \n",
       "54       616         9  \n",
       "55       395         2  \n",
       "56       616       -57  \n",
       "57       477        32  \n",
       "58       639       107  "
      ]
     },
     "execution_count": 131,
     "metadata": {},
     "output_type": "execute_result"
    }
   ],
   "source": [
    "sa = sa [['Season', 'TeamCode', 'PlayerName', 'ShotsF', 'ShotsA', 'DShots', 'EVShotsF', 'EVShotsA', 'EVDShots' ]]\n",
    "sa = sa.drop_duplicates(['Season', 'TeamCode', 'PlayerName'])\n",
    "sa.head()"
   ]
  },
  {
   "cell_type": "code",
   "execution_count": 132,
   "metadata": {
    "collapsed": false
   },
   "outputs": [
    {
     "data": {
      "text/plain": [
       "Season        0\n",
       "TeamCode      0\n",
       "PlayerName    0\n",
       "ShotsF        0\n",
       "ShotsA        0\n",
       "DShots        0\n",
       "EVShotsF      0\n",
       "EVShotsA      0\n",
       "EVDShots      0\n",
       "dtype: int64"
      ]
     },
     "execution_count": 132,
     "metadata": {},
     "output_type": "execute_result"
    }
   ],
   "source": [
    "sa.isnull().sum()"
   ]
  },
  {
   "cell_type": "code",
   "execution_count": 133,
   "metadata": {
    "collapsed": false
   },
   "outputs": [
    {
     "data": {
      "text/plain": [
       "(1057, 9)"
      ]
     },
     "execution_count": 133,
     "metadata": {},
     "output_type": "execute_result"
    }
   ],
   "source": [
    "sa.shape"
   ]
  },
  {
   "cell_type": "markdown",
   "metadata": {},
   "source": [
    "### goals for and against"
   ]
  },
  {
   "cell_type": "markdown",
   "metadata": {},
   "source": [
    "- create goals for and goals against variable. If event team code is the same as team code assign a value of 1 for goals for and a value of 0 for goals against. If event team code is different to team code, assign a value of 0 for golas for and a value of 1 for goals against. Display total goals for and against per player for a season."
   ]
  },
  {
   "cell_type": "code",
   "execution_count": 134,
   "metadata": {
    "collapsed": true
   },
   "outputs": [],
   "source": [
    "gfa = dc.copy()\n",
    "gfa = gfa[gfa['Event'] == 'GOAL']"
   ]
  },
  {
   "cell_type": "code",
   "execution_count": 135,
   "metadata": {
    "collapsed": true
   },
   "outputs": [],
   "source": [
    "gfa['EVGoalF'] = gfa.apply(lambda x: 1 if ((x['AdvantageType'] == 'EV') & (x['EventTeamCode'] == x['TeamCode'])) else 1 if ((x['AdvantageType'] == 'SH') & (x['EventTeamCode'] == x['TeamCode'])) else 0, axis=1)\n",
    "gfa['EVGoalA'] = gfa.apply(lambda x: 1 if ((x['AdvantageType'] == 'EV') & (x['EventTeamCode'] != x['TeamCode'])) else 1 if ((x['AdvantageType'] == 'SH') & (x['EventTeamCode'] != x['TeamCode'])) else 0, axis=1)"
   ]
  },
  {
   "cell_type": "code",
   "execution_count": 136,
   "metadata": {
    "collapsed": true
   },
   "outputs": [],
   "source": [
    "gfa['GoalF'] = gfa.apply(lambda x: 1 if (x['EventTeamCode'] == x['TeamCode']) else 0, axis=1)\n",
    "gfa['GoalA'] = gfa.apply(lambda x: 1 if (x['EventTeamCode'] != x['TeamCode']) else 0, axis=1)\n"
   ]
  },
  {
   "cell_type": "code",
   "execution_count": 137,
   "metadata": {
    "collapsed": true
   },
   "outputs": [],
   "source": [
    "gfa['EVGoalsF'] = gfa.groupby(['Season', 'TeamCode', 'PlayerName'])['EVGoalF'].transform('sum')\n",
    "gfa['EVGoalsA'] = gfa.groupby(['Season', 'TeamCode', 'PlayerName'])['EVGoalA'].transform('sum')\n",
    "gfa['GoalsF'] = gfa.groupby(['Season', 'TeamCode', 'PlayerName'])['GoalF'].transform('sum')\n",
    "gfa['GoalsA'] = gfa.groupby(['Season', 'TeamCode', 'PlayerName'])['GoalA'].transform('sum')"
   ]
  },
  {
   "cell_type": "code",
   "execution_count": 138,
   "metadata": {
    "collapsed": false
   },
   "outputs": [
    {
     "data": {
      "text/html": [
       "<div>\n",
       "<table border=\"1\" class=\"dataframe\">\n",
       "  <thead>\n",
       "    <tr style=\"text-align: right;\">\n",
       "      <th></th>\n",
       "      <th>Season</th>\n",
       "      <th>TeamCode</th>\n",
       "      <th>PlayerName</th>\n",
       "      <th>GoalsF</th>\n",
       "      <th>GoalsA</th>\n",
       "      <th>EVGoalsF</th>\n",
       "      <th>EVGoalsA</th>\n",
       "      <th>Plus/Minus</th>\n",
       "    </tr>\n",
       "  </thead>\n",
       "  <tbody>\n",
       "    <tr>\n",
       "      <th>108</th>\n",
       "      <td>2010</td>\n",
       "      <td>MTL</td>\n",
       "      <td>DUSTIN BOYD</td>\n",
       "      <td>1</td>\n",
       "      <td>9</td>\n",
       "      <td>1</td>\n",
       "      <td>7</td>\n",
       "      <td>-6</td>\n",
       "    </tr>\n",
       "    <tr>\n",
       "      <th>110</th>\n",
       "      <td>2010</td>\n",
       "      <td>MTL</td>\n",
       "      <td>MAXIM LAPIERRE</td>\n",
       "      <td>13</td>\n",
       "      <td>19</td>\n",
       "      <td>13</td>\n",
       "      <td>19</td>\n",
       "      <td>-6</td>\n",
       "    </tr>\n",
       "    <tr>\n",
       "      <th>112</th>\n",
       "      <td>2010</td>\n",
       "      <td>MTL</td>\n",
       "      <td>MATHIEU DARCHE</td>\n",
       "      <td>41</td>\n",
       "      <td>19</td>\n",
       "      <td>26</td>\n",
       "      <td>18</td>\n",
       "      <td>8</td>\n",
       "    </tr>\n",
       "    <tr>\n",
       "      <th>114</th>\n",
       "      <td>2010</td>\n",
       "      <td>MTL</td>\n",
       "      <td>JAROSLAV SPACEK</td>\n",
       "      <td>47</td>\n",
       "      <td>46</td>\n",
       "      <td>40</td>\n",
       "      <td>30</td>\n",
       "      <td>10</td>\n",
       "    </tr>\n",
       "    <tr>\n",
       "      <th>116</th>\n",
       "      <td>2010</td>\n",
       "      <td>MTL</td>\n",
       "      <td>PK SUBBAN</td>\n",
       "      <td>71</td>\n",
       "      <td>63</td>\n",
       "      <td>47</td>\n",
       "      <td>52</td>\n",
       "      <td>-5</td>\n",
       "    </tr>\n",
       "  </tbody>\n",
       "</table>\n",
       "</div>"
      ],
      "text/plain": [
       "     Season TeamCode       PlayerName  GoalsF  GoalsA  EVGoalsF  EVGoalsA  \\\n",
       "108    2010      MTL      DUSTIN BOYD       1       9         1         7   \n",
       "110    2010      MTL   MAXIM LAPIERRE      13      19        13        19   \n",
       "112    2010      MTL   MATHIEU DARCHE      41      19        26        18   \n",
       "114    2010      MTL  JAROSLAV SPACEK      47      46        40        30   \n",
       "116    2010      MTL        PK SUBBAN      71      63        47        52   \n",
       "\n",
       "     Plus/Minus  \n",
       "108          -6  \n",
       "110          -6  \n",
       "112           8  \n",
       "114          10  \n",
       "116          -5  "
      ]
     },
     "execution_count": 138,
     "metadata": {},
     "output_type": "execute_result"
    }
   ],
   "source": [
    "gfa = gfa[['Season', 'GameNumber', 'TeamCode', 'PlayerName' , 'GoalsF', 'GoalsA', 'EVGoalsF', 'EVGoalsA']]\n",
    "gfa = gfa.drop_duplicates(['Season', 'GameNumber', 'TeamCode', 'PlayerName'])\n",
    "gfa['Plus/Minus'] = gfa['EVGoalsF'] - gfa['EVGoalsA']\n",
    "gfa = gfa.drop_duplicates(['Season', 'TeamCode', 'PlayerName'])\n",
    "gfa = gfa[['Season', 'TeamCode', 'PlayerName' , 'GoalsF', 'GoalsA', 'EVGoalsF', 'EVGoalsA', 'Plus/Minus']]\n",
    "gfa.head()"
   ]
  },
  {
   "cell_type": "code",
   "execution_count": 139,
   "metadata": {
    "collapsed": false
   },
   "outputs": [
    {
     "data": {
      "text/plain": [
       "(1037, 8)"
      ]
     },
     "execution_count": 139,
     "metadata": {},
     "output_type": "execute_result"
    }
   ],
   "source": [
    "gfa.shape"
   ]
  },
  {
   "cell_type": "markdown",
   "metadata": {},
   "source": [
    "### create dataframes for all on-ice event types"
   ]
  },
  {
   "cell_type": "markdown",
   "metadata": {},
   "source": [
    "#### goals dataframe (dg)"
   ]
  },
  {
   "cell_type": "code",
   "execution_count": 140,
   "metadata": {
    "collapsed": true
   },
   "outputs": [],
   "source": [
    "dg = dc.copy()\n",
    "dg = dg[dg['Event'] == 'GOAL']"
   ]
  },
  {
   "cell_type": "code",
   "execution_count": 141,
   "metadata": {
    "collapsed": false
   },
   "outputs": [],
   "source": [
    "dg = dg[['Season', 'GameNumber', 'EventNumber', 'Event', 'EventTeamCode', 'EventPlayer1']]\n",
    "dg = dg.rename(columns={'EventPlayer1': 'PlayerName', 'EventTeamCode':'TeamCode'})"
   ]
  },
  {
   "cell_type": "markdown",
   "metadata": {},
   "source": [
    "- create a goal variable. If event type is a goal assign a value of 1. If not, assign a value of 0. Display total goals per player for a season."
   ]
  },
  {
   "cell_type": "code",
   "execution_count": 142,
   "metadata": {
    "collapsed": false
   },
   "outputs": [],
   "source": [
    "dg['Goal'] = dg.apply(lambda x: 1 if (x['Event'] == 'GOAL') else 0, axis=1)\n",
    "dg = dg.drop_duplicates(['Season', 'GameNumber', 'EventNumber', 'TeamCode', 'PlayerName'])\n",
    "dg['Goals'] = dg.groupby(['Season','TeamCode', 'PlayerName'])['Goal'].transform('sum')"
   ]
  },
  {
   "cell_type": "markdown",
   "metadata": {},
   "source": [
    "- keep one observation per player by game and drop duplicates. This purpose of this step is to calculate the quantity of games per player for a season. "
   ]
  },
  {
   "cell_type": "code",
   "execution_count": 143,
   "metadata": {
    "collapsed": false
   },
   "outputs": [
    {
     "data": {
      "text/html": [
       "<div>\n",
       "<table border=\"1\" class=\"dataframe\">\n",
       "  <thead>\n",
       "    <tr style=\"text-align: right;\">\n",
       "      <th></th>\n",
       "      <th>Season</th>\n",
       "      <th>TeamCode</th>\n",
       "      <th>PlayerName</th>\n",
       "      <th>Goals</th>\n",
       "    </tr>\n",
       "  </thead>\n",
       "  <tbody>\n",
       "    <tr>\n",
       "      <th>108</th>\n",
       "      <td>2010</td>\n",
       "      <td>MTL</td>\n",
       "      <td>DUSTIN BOYD</td>\n",
       "      <td>1</td>\n",
       "    </tr>\n",
       "    <tr>\n",
       "      <th>474</th>\n",
       "      <td>2010</td>\n",
       "      <td>TOR</td>\n",
       "      <td>TIM BRENT</td>\n",
       "      <td>8</td>\n",
       "    </tr>\n",
       "    <tr>\n",
       "      <th>546</th>\n",
       "      <td>2010</td>\n",
       "      <td>TOR</td>\n",
       "      <td>PHIL KESSEL</td>\n",
       "      <td>32</td>\n",
       "    </tr>\n",
       "    <tr>\n",
       "      <th>1283</th>\n",
       "      <td>2010</td>\n",
       "      <td>TOR</td>\n",
       "      <td>CLARKE MACARTHUR</td>\n",
       "      <td>21</td>\n",
       "    </tr>\n",
       "    <tr>\n",
       "      <th>1326</th>\n",
       "      <td>2010</td>\n",
       "      <td>MTL</td>\n",
       "      <td>JEFF HALPERN</td>\n",
       "      <td>11</td>\n",
       "    </tr>\n",
       "  </tbody>\n",
       "</table>\n",
       "</div>"
      ],
      "text/plain": [
       "      Season TeamCode        PlayerName  Goals\n",
       "108     2010      MTL       DUSTIN BOYD      1\n",
       "474     2010      TOR         TIM BRENT      8\n",
       "546     2010      TOR       PHIL KESSEL     32\n",
       "1283    2010      TOR  CLARKE MACARTHUR     21\n",
       "1326    2010      MTL      JEFF HALPERN     11"
      ]
     },
     "execution_count": 143,
     "metadata": {},
     "output_type": "execute_result"
    }
   ],
   "source": [
    "dg = dg.drop_duplicates(['Season', 'GameNumber', 'TeamCode', 'PlayerName'])\n",
    "dg = dg.drop_duplicates(['Season', 'TeamCode', 'PlayerName'])\n",
    "dg = dg[['Season', 'TeamCode', 'PlayerName', 'Goals']]\n",
    "dg.head()"
   ]
  },
  {
   "cell_type": "code",
   "execution_count": 144,
   "metadata": {
    "collapsed": false
   },
   "outputs": [
    {
     "data": {
      "text/plain": [
       "Season        0\n",
       "TeamCode      0\n",
       "PlayerName    0\n",
       "Goals         0\n",
       "dtype: int64"
      ]
     },
     "execution_count": 144,
     "metadata": {},
     "output_type": "execute_result"
    }
   ],
   "source": [
    "dg.isnull().sum()"
   ]
  },
  {
   "cell_type": "code",
   "execution_count": 145,
   "metadata": {
    "collapsed": false
   },
   "outputs": [
    {
     "data": {
      "text/plain": [
       "(751, 4)"
      ]
     },
     "execution_count": 145,
     "metadata": {},
     "output_type": "execute_result"
    }
   ],
   "source": [
    "dg.shape"
   ]
  },
  {
   "cell_type": "markdown",
   "metadata": {},
   "source": [
    "#### assists dataframe (dast)"
   ]
  },
  {
   "cell_type": "code",
   "execution_count": 146,
   "metadata": {
    "collapsed": true
   },
   "outputs": [],
   "source": [
    "dast = dc.copy()\n",
    "dast = dast[dast['Event'] == 'GOAL']"
   ]
  },
  {
   "cell_type": "code",
   "execution_count": 147,
   "metadata": {
    "collapsed": false
   },
   "outputs": [],
   "source": [
    "dast = dast[['Season', 'GameNumber', 'EventNumber', 'Event', 'EventTeamCode', 'EventPlayer2', 'EventPlayer3']]\n",
    "dast = dast.rename(columns={'EventPlayer2': 'Assist1Name', 'EventPlayer3': 'Assist2Name', 'EventTeamCode':'TeamCode'})"
   ]
  },
  {
   "cell_type": "markdown",
   "metadata": {},
   "source": [
    "- reshape assist players 1 and 2 to create one column of assist players"
   ]
  },
  {
   "cell_type": "code",
   "execution_count": 148,
   "metadata": {
    "collapsed": true
   },
   "outputs": [],
   "source": [
    "a = [col for col in dast.columns if 'Name' in col]\n",
    "dast = pd.lreshape(dast, {'PlayerName' : a})"
   ]
  },
  {
   "cell_type": "markdown",
   "metadata": {},
   "source": [
    "- create an assist variable. If event type is a goal assign a value of 1. If not, assign a value of 0. Display total goals per player for a season."
   ]
  },
  {
   "cell_type": "code",
   "execution_count": 149,
   "metadata": {
    "collapsed": true
   },
   "outputs": [],
   "source": [
    "dast['Assist'] = dast.apply(lambda x: 1 if (x['Event'] == 'GOAL') else 0, axis=1)\n",
    "dast = dast.drop_duplicates(['Season', 'GameNumber', 'EventNumber', 'TeamCode', 'PlayerName'])\n",
    "dast['Assists'] = dast.groupby(['Season','TeamCode', 'PlayerName'])['Assist'].transform('sum')"
   ]
  },
  {
   "cell_type": "markdown",
   "metadata": {},
   "source": [
    "- keep one observation per player by game and drop duplicates. This purpose of this step is to calculate the quantity of games per player for a season. "
   ]
  },
  {
   "cell_type": "code",
   "execution_count": 150,
   "metadata": {
    "collapsed": false
   },
   "outputs": [
    {
     "data": {
      "text/html": [
       "<div>\n",
       "<table border=\"1\" class=\"dataframe\">\n",
       "  <thead>\n",
       "    <tr style=\"text-align: right;\">\n",
       "      <th></th>\n",
       "      <th>Season</th>\n",
       "      <th>TeamCode</th>\n",
       "      <th>PlayerName</th>\n",
       "      <th>Assists</th>\n",
       "    </tr>\n",
       "  </thead>\n",
       "  <tbody>\n",
       "    <tr>\n",
       "      <th>0</th>\n",
       "      <td>2010</td>\n",
       "      <td>TOR</td>\n",
       "      <td>DION PHANEUF</td>\n",
       "      <td>22</td>\n",
       "    </tr>\n",
       "    <tr>\n",
       "      <th>6</th>\n",
       "      <td>2010</td>\n",
       "      <td>TOR</td>\n",
       "      <td>TYLER BOZAK</td>\n",
       "      <td>17</td>\n",
       "    </tr>\n",
       "    <tr>\n",
       "      <th>12</th>\n",
       "      <td>2010</td>\n",
       "      <td>TOR</td>\n",
       "      <td>NIKOLAI KULEMIN</td>\n",
       "      <td>27</td>\n",
       "    </tr>\n",
       "    <tr>\n",
       "      <th>18</th>\n",
       "      <td>2010</td>\n",
       "      <td>MTL</td>\n",
       "      <td>MAXIM LAPIERRE</td>\n",
       "      <td>3</td>\n",
       "    </tr>\n",
       "    <tr>\n",
       "      <th>24</th>\n",
       "      <td>2010</td>\n",
       "      <td>PHI</td>\n",
       "      <td>DARROLL POWE</td>\n",
       "      <td>10</td>\n",
       "    </tr>\n",
       "  </tbody>\n",
       "</table>\n",
       "</div>"
      ],
      "text/plain": [
       "    Season TeamCode       PlayerName  Assists\n",
       "0     2010      TOR     DION PHANEUF       22\n",
       "6     2010      TOR      TYLER BOZAK       17\n",
       "12    2010      TOR  NIKOLAI KULEMIN       27\n",
       "18    2010      MTL   MAXIM LAPIERRE        3\n",
       "24    2010      PHI     DARROLL POWE       10"
      ]
     },
     "execution_count": 150,
     "metadata": {},
     "output_type": "execute_result"
    }
   ],
   "source": [
    "dast = dast.drop_duplicates(['Season', 'GameNumber', 'TeamCode', 'PlayerName'])\n",
    "dast = dast.drop_duplicates(['Season', 'TeamCode', 'PlayerName'])\n",
    "dast = dast[['Season', 'TeamCode', 'PlayerName', 'Assists']]\n",
    "dast.head()"
   ]
  },
  {
   "cell_type": "code",
   "execution_count": 151,
   "metadata": {
    "collapsed": false
   },
   "outputs": [
    {
     "data": {
      "text/plain": [
       "Season        0\n",
       "TeamCode      0\n",
       "PlayerName    0\n",
       "Assists       0\n",
       "dtype: int64"
      ]
     },
     "execution_count": 151,
     "metadata": {},
     "output_type": "execute_result"
    }
   ],
   "source": [
    "dast.isnull().sum()"
   ]
  },
  {
   "cell_type": "code",
   "execution_count": 152,
   "metadata": {
    "collapsed": false
   },
   "outputs": [
    {
     "data": {
      "text/plain": [
       "(847, 4)"
      ]
     },
     "execution_count": 152,
     "metadata": {},
     "output_type": "execute_result"
    }
   ],
   "source": [
    "dast.shape"
   ]
  },
  {
   "cell_type": "markdown",
   "metadata": {},
   "source": [
    "#### shot dataframe (ds)"
   ]
  },
  {
   "cell_type": "code",
   "execution_count": 153,
   "metadata": {
    "collapsed": true
   },
   "outputs": [],
   "source": [
    "ds = dc.copy()\n",
    "ds = ds[ds['Event'] == 'SHOT']"
   ]
  },
  {
   "cell_type": "code",
   "execution_count": 154,
   "metadata": {
    "collapsed": false
   },
   "outputs": [
    {
     "data": {
      "text/html": [
       "<div>\n",
       "<table border=\"1\" class=\"dataframe\">\n",
       "  <thead>\n",
       "    <tr style=\"text-align: right;\">\n",
       "      <th></th>\n",
       "      <th>Season</th>\n",
       "      <th>GameNumber</th>\n",
       "      <th>EventNumber</th>\n",
       "      <th>Event</th>\n",
       "      <th>TeamCode</th>\n",
       "      <th>PlayerName</th>\n",
       "    </tr>\n",
       "  </thead>\n",
       "  <tbody>\n",
       "    <tr>\n",
       "      <th>54</th>\n",
       "      <td>2010</td>\n",
       "      <td>20001</td>\n",
       "      <td>54</td>\n",
       "      <td>SHOT</td>\n",
       "      <td>TOR</td>\n",
       "      <td>COLBY ARMSTRONG</td>\n",
       "    </tr>\n",
       "    <tr>\n",
       "      <th>55</th>\n",
       "      <td>2010</td>\n",
       "      <td>20001</td>\n",
       "      <td>54</td>\n",
       "      <td>SHOT</td>\n",
       "      <td>TOR</td>\n",
       "      <td>COLBY ARMSTRONG</td>\n",
       "    </tr>\n",
       "    <tr>\n",
       "      <th>56</th>\n",
       "      <td>2010</td>\n",
       "      <td>20001</td>\n",
       "      <td>54</td>\n",
       "      <td>SHOT</td>\n",
       "      <td>TOR</td>\n",
       "      <td>COLBY ARMSTRONG</td>\n",
       "    </tr>\n",
       "    <tr>\n",
       "      <th>57</th>\n",
       "      <td>2010</td>\n",
       "      <td>20001</td>\n",
       "      <td>54</td>\n",
       "      <td>SHOT</td>\n",
       "      <td>TOR</td>\n",
       "      <td>COLBY ARMSTRONG</td>\n",
       "    </tr>\n",
       "    <tr>\n",
       "      <th>58</th>\n",
       "      <td>2010</td>\n",
       "      <td>20001</td>\n",
       "      <td>54</td>\n",
       "      <td>SHOT</td>\n",
       "      <td>TOR</td>\n",
       "      <td>COLBY ARMSTRONG</td>\n",
       "    </tr>\n",
       "  </tbody>\n",
       "</table>\n",
       "</div>"
      ],
      "text/plain": [
       "    Season  GameNumber  EventNumber Event TeamCode       PlayerName\n",
       "54    2010       20001           54  SHOT      TOR  COLBY ARMSTRONG\n",
       "55    2010       20001           54  SHOT      TOR  COLBY ARMSTRONG\n",
       "56    2010       20001           54  SHOT      TOR  COLBY ARMSTRONG\n",
       "57    2010       20001           54  SHOT      TOR  COLBY ARMSTRONG\n",
       "58    2010       20001           54  SHOT      TOR  COLBY ARMSTRONG"
      ]
     },
     "execution_count": 154,
     "metadata": {},
     "output_type": "execute_result"
    }
   ],
   "source": [
    "ds = ds[['Season', 'GameNumber', 'EventNumber', 'Event', 'EventTeamCode', 'EventPlayer1']]\n",
    "ds = ds.rename(columns={'EventPlayer1': 'PlayerName', 'EventTeamCode':'TeamCode'})\n",
    "ds.head()"
   ]
  },
  {
   "cell_type": "markdown",
   "metadata": {},
   "source": [
    "- create a shot variable. If event type is a goal assign a value of 1. If not, assign a value of 0. Display total shots per player for a season."
   ]
  },
  {
   "cell_type": "code",
   "execution_count": 155,
   "metadata": {
    "collapsed": true
   },
   "outputs": [],
   "source": [
    "ds['Shot'] = ds.apply(lambda x: 1 if (x['Event'] == 'SHOT') else 0, axis=1)\n",
    "ds = ds.drop_duplicates(['Season', 'GameNumber', 'EventNumber', 'TeamCode', 'PlayerName'])\n",
    "ds['Shots'] = ds.groupby(['Season','TeamCode', 'PlayerName'])['Shot'].transform('sum')"
   ]
  },
  {
   "cell_type": "markdown",
   "metadata": {},
   "source": [
    "- drop duplicates to keep one observation per player for the season."
   ]
  },
  {
   "cell_type": "code",
   "execution_count": 156,
   "metadata": {
    "collapsed": false
   },
   "outputs": [
    {
     "data": {
      "text/html": [
       "<div>\n",
       "<table border=\"1\" class=\"dataframe\">\n",
       "  <thead>\n",
       "    <tr style=\"text-align: right;\">\n",
       "      <th></th>\n",
       "      <th>Season</th>\n",
       "      <th>TeamCode</th>\n",
       "      <th>PlayerName</th>\n",
       "      <th>Shots</th>\n",
       "    </tr>\n",
       "  </thead>\n",
       "  <tbody>\n",
       "    <tr>\n",
       "      <th>54</th>\n",
       "      <td>2010</td>\n",
       "      <td>TOR</td>\n",
       "      <td>COLBY ARMSTRONG</td>\n",
       "      <td>61.0</td>\n",
       "    </tr>\n",
       "    <tr>\n",
       "      <th>96</th>\n",
       "      <td>2010</td>\n",
       "      <td>MTL</td>\n",
       "      <td>DUSTIN BOYD</td>\n",
       "      <td>6.0</td>\n",
       "    </tr>\n",
       "    <tr>\n",
       "      <th>120</th>\n",
       "      <td>2010</td>\n",
       "      <td>TOR</td>\n",
       "      <td>LUKE SCHENN</td>\n",
       "      <td>124.0</td>\n",
       "    </tr>\n",
       "    <tr>\n",
       "      <th>144</th>\n",
       "      <td>2010</td>\n",
       "      <td>TOR</td>\n",
       "      <td>TIM BRENT</td>\n",
       "      <td>52.0</td>\n",
       "    </tr>\n",
       "    <tr>\n",
       "      <th>162</th>\n",
       "      <td>2010</td>\n",
       "      <td>MTL</td>\n",
       "      <td>RYAN O'BYRNE</td>\n",
       "      <td>3.0</td>\n",
       "    </tr>\n",
       "  </tbody>\n",
       "</table>\n",
       "</div>"
      ],
      "text/plain": [
       "     Season TeamCode       PlayerName  Shots\n",
       "54     2010      TOR  COLBY ARMSTRONG   61.0\n",
       "96     2010      MTL      DUSTIN BOYD    6.0\n",
       "120    2010      TOR      LUKE SCHENN  124.0\n",
       "144    2010      TOR        TIM BRENT   52.0\n",
       "162    2010      MTL     RYAN O'BYRNE    3.0"
      ]
     },
     "execution_count": 156,
     "metadata": {},
     "output_type": "execute_result"
    }
   ],
   "source": [
    "ds = ds.drop_duplicates(['Season', 'GameNumber', 'TeamCode', 'PlayerName'])\n",
    "ds = ds.drop_duplicates(['Season', 'TeamCode', 'PlayerName'])\n",
    "ds = ds[['Season', 'TeamCode', 'PlayerName', 'Shots']]\n",
    "ds.head()"
   ]
  },
  {
   "cell_type": "code",
   "execution_count": 157,
   "metadata": {
    "collapsed": false
   },
   "outputs": [
    {
     "data": {
      "text/plain": [
       "Season        0\n",
       "TeamCode      0\n",
       "PlayerName    2\n",
       "Shots         2\n",
       "dtype: int64"
      ]
     },
     "execution_count": 157,
     "metadata": {},
     "output_type": "execute_result"
    }
   ],
   "source": [
    "ds.isnull().sum()"
   ]
  },
  {
   "cell_type": "code",
   "execution_count": 158,
   "metadata": {
    "collapsed": false
   },
   "outputs": [
    {
     "data": {
      "text/plain": [
       "(948, 4)"
      ]
     },
     "execution_count": 158,
     "metadata": {},
     "output_type": "execute_result"
    }
   ],
   "source": [
    "ds.shape"
   ]
  },
  {
   "cell_type": "markdown",
   "metadata": {
    "collapsed": true
   },
   "source": [
    "#### block dataframe (db)"
   ]
  },
  {
   "cell_type": "code",
   "execution_count": 159,
   "metadata": {
    "collapsed": true
   },
   "outputs": [],
   "source": [
    "dbl = dc.copy()\n",
    "dbl = dbl[dbl['Event'] == 'BLOCK']"
   ]
  },
  {
   "cell_type": "code",
   "execution_count": 160,
   "metadata": {
    "collapsed": false
   },
   "outputs": [],
   "source": [
    "dbl['BlockTeam'] = dbl.EventDetail.str.split(' ', expand = True)[6]\n",
    "dbl['BlockTeamCode'] = dbl.BlockTeam.str.split(' ', expand = True)[0]"
   ]
  },
  {
   "cell_type": "code",
   "execution_count": 161,
   "metadata": {
    "collapsed": false
   },
   "outputs": [],
   "source": [
    "dbl = dbl[['Season', 'GameNumber', 'EventNumber', 'Event', 'EventPlayer1', 'BlockTeamCode']]\n",
    "dbl = dbl.rename(columns={'EventPlayer1': 'PlayerName', 'BlockTeamCode':'TeamCode'})"
   ]
  },
  {
   "cell_type": "markdown",
   "metadata": {
    "collapsed": true
   },
   "source": [
    "- create a block variable. If event type is a block assign a value of 1. If not, assign a value of 0. Display total shots per player for a season."
   ]
  },
  {
   "cell_type": "code",
   "execution_count": 162,
   "metadata": {
    "collapsed": true
   },
   "outputs": [],
   "source": [
    "dbl['Block'] = dbl.apply(lambda x: 1 if (x['Event'] == 'BLOCK') else 0, axis=1)\n",
    "dbl = dbl.drop_duplicates(['Season', 'GameNumber', 'EventNumber', 'TeamCode', 'PlayerName'])\n",
    "dbl['Blocks'] = dbl.groupby(['Season','TeamCode', 'PlayerName'])['Block'].transform('sum')"
   ]
  },
  {
   "cell_type": "markdown",
   "metadata": {
    "collapsed": true
   },
   "source": [
    "- drop duplicates to keep one observation per player for the season."
   ]
  },
  {
   "cell_type": "code",
   "execution_count": 163,
   "metadata": {
    "collapsed": false
   },
   "outputs": [
    {
     "data": {
      "text/html": [
       "<div>\n",
       "<table border=\"1\" class=\"dataframe\">\n",
       "  <thead>\n",
       "    <tr style=\"text-align: right;\">\n",
       "      <th></th>\n",
       "      <th>Season</th>\n",
       "      <th>TeamCode</th>\n",
       "      <th>PlayerName</th>\n",
       "      <th>Blocks</th>\n",
       "    </tr>\n",
       "  </thead>\n",
       "  <tbody>\n",
       "    <tr>\n",
       "      <th>24</th>\n",
       "      <td>2010</td>\n",
       "      <td>MTL</td>\n",
       "      <td>ALEXANDRE PICARD</td>\n",
       "      <td>59</td>\n",
       "    </tr>\n",
       "    <tr>\n",
       "      <th>48</th>\n",
       "      <td>2010</td>\n",
       "      <td>TOR</td>\n",
       "      <td>COLBY ARMSTRONG</td>\n",
       "      <td>27</td>\n",
       "    </tr>\n",
       "    <tr>\n",
       "      <th>138</th>\n",
       "      <td>2010</td>\n",
       "      <td>TOR</td>\n",
       "      <td>PHIL KESSEL</td>\n",
       "      <td>22</td>\n",
       "    </tr>\n",
       "    <tr>\n",
       "      <th>191</th>\n",
       "      <td>2010</td>\n",
       "      <td>MTL</td>\n",
       "      <td>TOMAS PLEKANEC</td>\n",
       "      <td>45</td>\n",
       "    </tr>\n",
       "    <tr>\n",
       "      <th>318</th>\n",
       "      <td>2010</td>\n",
       "      <td>TOR</td>\n",
       "      <td>LUKE SCHENN</td>\n",
       "      <td>168</td>\n",
       "    </tr>\n",
       "  </tbody>\n",
       "</table>\n",
       "</div>"
      ],
      "text/plain": [
       "     Season TeamCode        PlayerName  Blocks\n",
       "24     2010      MTL  ALEXANDRE PICARD      59\n",
       "48     2010      TOR   COLBY ARMSTRONG      27\n",
       "138    2010      TOR       PHIL KESSEL      22\n",
       "191    2010      MTL    TOMAS PLEKANEC      45\n",
       "318    2010      TOR       LUKE SCHENN     168"
      ]
     },
     "execution_count": 163,
     "metadata": {},
     "output_type": "execute_result"
    }
   ],
   "source": [
    "dbl = dbl.drop_duplicates(['Season', 'GameNumber', 'TeamCode', 'PlayerName'])\n",
    "dbl = dbl.drop_duplicates(['Season', 'TeamCode', 'PlayerName'])\n",
    "dbl = dbl[['Season', 'TeamCode', 'PlayerName', 'Blocks']]\n",
    "dbl.head()"
   ]
  },
  {
   "cell_type": "code",
   "execution_count": 164,
   "metadata": {
    "collapsed": false
   },
   "outputs": [
    {
     "data": {
      "text/plain": [
       "Season        0\n",
       "TeamCode      0\n",
       "PlayerName    0\n",
       "Blocks        0\n",
       "dtype: int64"
      ]
     },
     "execution_count": 164,
     "metadata": {},
     "output_type": "execute_result"
    }
   ],
   "source": [
    "dbl.isnull().sum()"
   ]
  },
  {
   "cell_type": "code",
   "execution_count": 165,
   "metadata": {
    "collapsed": false
   },
   "outputs": [
    {
     "data": {
      "text/plain": [
       "(1071, 4)"
      ]
     },
     "execution_count": 165,
     "metadata": {},
     "output_type": "execute_result"
    }
   ],
   "source": [
    "dbl.shape"
   ]
  },
  {
   "cell_type": "markdown",
   "metadata": {
    "collapsed": true
   },
   "source": [
    "#### hit dataframe (dh)"
   ]
  },
  {
   "cell_type": "code",
   "execution_count": 166,
   "metadata": {
    "collapsed": true
   },
   "outputs": [],
   "source": [
    "dhit = dc.copy()\n",
    "dhit = dhit[dhit['Event'] == 'HIT']"
   ]
  },
  {
   "cell_type": "code",
   "execution_count": 167,
   "metadata": {
    "collapsed": false
   },
   "outputs": [],
   "source": [
    "dhit = dhit[['Season', 'GameNumber', 'EventNumber', 'Event', 'EventTeamCode', 'EventPlayer1']]\n",
    "dhit = dhit.rename(columns={'EventPlayer1': 'PlayerName', 'EventTeamCode':'TeamCode'})"
   ]
  },
  {
   "cell_type": "markdown",
   "metadata": {},
   "source": [
    "- create a hit variable. If event type is a hit assign a value of 1. If not, assign a value of 0. Display total shots per player for a season."
   ]
  },
  {
   "cell_type": "code",
   "execution_count": 168,
   "metadata": {
    "collapsed": true
   },
   "outputs": [],
   "source": [
    "dhit['Hit'] = dhit.apply(lambda x: 1 if (x['Event'] == 'HIT') else 0, axis=1)\n",
    "dhit = dhit.drop_duplicates(['Season', 'GameNumber', 'EventNumber', 'TeamCode', 'PlayerName'])\n",
    "dhit['Hits'] = dhit.groupby(['Season','TeamCode', 'PlayerName'])['Hit'].transform('sum')"
   ]
  },
  {
   "cell_type": "markdown",
   "metadata": {},
   "source": [
    "- drop duplicates to keep one observation per player for the season."
   ]
  },
  {
   "cell_type": "code",
   "execution_count": 169,
   "metadata": {
    "collapsed": false
   },
   "outputs": [
    {
     "data": {
      "text/html": [
       "<div>\n",
       "<table border=\"1\" class=\"dataframe\">\n",
       "  <thead>\n",
       "    <tr style=\"text-align: right;\">\n",
       "      <th></th>\n",
       "      <th>Season</th>\n",
       "      <th>TeamCode</th>\n",
       "      <th>PlayerName</th>\n",
       "      <th>Hits</th>\n",
       "    </tr>\n",
       "  </thead>\n",
       "  <tbody>\n",
       "    <tr>\n",
       "      <th>6</th>\n",
       "      <td>2010</td>\n",
       "      <td>TOR</td>\n",
       "      <td>TIM BRENT</td>\n",
       "      <td>104.0</td>\n",
       "    </tr>\n",
       "    <tr>\n",
       "      <th>12</th>\n",
       "      <td>2010</td>\n",
       "      <td>MTL</td>\n",
       "      <td>TOMAS PLEKANEC</td>\n",
       "      <td>53.0</td>\n",
       "    </tr>\n",
       "    <tr>\n",
       "      <th>18</th>\n",
       "      <td>2010</td>\n",
       "      <td>MTL</td>\n",
       "      <td>PK SUBBAN</td>\n",
       "      <td>110.0</td>\n",
       "    </tr>\n",
       "    <tr>\n",
       "      <th>30</th>\n",
       "      <td>2010</td>\n",
       "      <td>TOR</td>\n",
       "      <td>MIKE BROWN</td>\n",
       "      <td>105.0</td>\n",
       "    </tr>\n",
       "    <tr>\n",
       "      <th>66</th>\n",
       "      <td>2010</td>\n",
       "      <td>TOR</td>\n",
       "      <td>FREDRIK SJOSTROM</td>\n",
       "      <td>108.0</td>\n",
       "    </tr>\n",
       "  </tbody>\n",
       "</table>\n",
       "</div>"
      ],
      "text/plain": [
       "    Season TeamCode        PlayerName   Hits\n",
       "6     2010      TOR         TIM BRENT  104.0\n",
       "12    2010      MTL    TOMAS PLEKANEC   53.0\n",
       "18    2010      MTL         PK SUBBAN  110.0\n",
       "30    2010      TOR        MIKE BROWN  105.0\n",
       "66    2010      TOR  FREDRIK SJOSTROM  108.0"
      ]
     },
     "execution_count": 169,
     "metadata": {},
     "output_type": "execute_result"
    }
   ],
   "source": [
    "dhit = dhit.drop_duplicates(['Season', 'GameNumber', 'TeamCode', 'PlayerName'])\n",
    "dhit = dhit.drop_duplicates(['Season', 'TeamCode', 'PlayerName'])\n",
    "dhit = dhit[['Season', 'TeamCode', 'PlayerName', 'Hits']]\n",
    "dhit.head()"
   ]
  },
  {
   "cell_type": "code",
   "execution_count": 170,
   "metadata": {
    "collapsed": false
   },
   "outputs": [
    {
     "data": {
      "text/plain": [
       "Season        0\n",
       "TeamCode      0\n",
       "PlayerName    2\n",
       "Hits          2\n",
       "dtype: int64"
      ]
     },
     "execution_count": 170,
     "metadata": {},
     "output_type": "execute_result"
    }
   ],
   "source": [
    "dhit.isnull().sum()"
   ]
  },
  {
   "cell_type": "code",
   "execution_count": 171,
   "metadata": {
    "collapsed": false
   },
   "outputs": [
    {
     "data": {
      "text/plain": [
       "(976, 4)"
      ]
     },
     "execution_count": 171,
     "metadata": {},
     "output_type": "execute_result"
    }
   ],
   "source": [
    "dhit.shape"
   ]
  },
  {
   "cell_type": "markdown",
   "metadata": {},
   "source": [
    "#### penalty dataframe (dpen)"
   ]
  },
  {
   "cell_type": "code",
   "execution_count": 172,
   "metadata": {
    "collapsed": false
   },
   "outputs": [],
   "source": [
    "dp = dc.copy()\n",
    "dp = dp[dp['Event'] == 'PENL']"
   ]
  },
  {
   "cell_type": "markdown",
   "metadata": {},
   "source": [
    "- use event detail to find the duration of a given penalty and to assign it to the proper player. Major penalty is 5 minutes, so a value of 5 is assigned for every event that had a major penalty."
   ]
  },
  {
   "cell_type": "code",
   "execution_count": 173,
   "metadata": {
    "collapsed": false
   },
   "outputs": [
    {
     "name": "stderr",
     "output_type": "stream",
     "text": [
      "/anaconda/lib/python3.6/site-packages/ipykernel/__main__.py:5: FutureWarning: convert_objects is deprecated.  Use the data-type specific converters pd.to_datetime, pd.to_timedelta and pd.to_numeric.\n"
     ]
    }
   ],
   "source": [
    "dp['Pen'] = dp.EventDetail.str.split(')', expand = True)[0]\n",
    "dp['Penal'] = dp.Pen.str.split('(', expand = True)[1]\n",
    "dp['Penalt'] = dp.Penal.str.split(' ', expand = True)[0]\n",
    "dp['Penalty'] = dp.apply(lambda x: 5 if x['Penalt'] == 'maj' else x['Penalt'], axis=1)\n",
    "dp['Penalty'] = dp['Penalty'].convert_objects(convert_numeric=True)\n",
    "dp = dp[['Season', 'GameNumber', 'Period', 'Time', 'EventNumber', 'Event', 'EventDetail', 'EventTeamCode', 'EventPlayer1', 'EventPlayer2', 'EventPlayer3', 'TeamCode', 'PlayerName', 'Penalty']]"
   ]
  },
  {
   "cell_type": "markdown",
   "metadata": {},
   "source": [
    "- use event detail to find penalty team code and penalty player name."
   ]
  },
  {
   "cell_type": "code",
   "execution_count": 174,
   "metadata": {
    "collapsed": false
   },
   "outputs": [],
   "source": [
    "dp['PenaltyTeamCode'] = dp.EventDetail.str.split('\\\\s', expand = True)[0]\n",
    "dp['PN'] = dp.EventDetail.str.split('\\\\s', expand = True)[1]\n",
    "dp['PNumber'] = dp.PN.str.split('#', expand = True)[1]\n",
    "dp['PenaltyPlayerNumber'] = dp.PNumber.str.split(' ', expand = True)[0]\n",
    "dp['PenaltyPlayerLName'] = dp.EventDetail.str.split('\\\\s', expand = True)[2]\n",
    "#dp['PenaltyPlayerLName'] = dp.PPlLN.str.split(' ', expand = True)[0]\n",
    "dp = dp[['Season', 'GameNumber', 'Period', 'Time', 'EventNumber', 'Event', 'EventDetail', 'EventTeamCode', 'EventPlayer1', 'EventPlayer2', 'EventPlayer3', 'TeamCode', 'PlayerName', 'Penalty', 'PenaltyTeamCode', 'PenaltyPlayerNumber', 'PenaltyPlayerLName']]"
   ]
  },
  {
   "cell_type": "markdown",
   "metadata": {},
   "source": [
    "- seperate player name into first and last. The purpose is to connect the correct player name to penalty player name."
   ]
  },
  {
   "cell_type": "code",
   "execution_count": 175,
   "metadata": {
    "collapsed": false
   },
   "outputs": [],
   "source": [
    "dp['PlayerFName'] = dp.PlayerName.str.split('\\\\s', expand = True)[0]\n",
    "dp['PlayerLName'] = dp.PlayerName.str.split('\\\\s', expand = True)[1]\n",
    "dp['PenaltyPlayerFName'] = dp.apply(lambda x: x['PlayerFName'] if ((x['PenaltyTeamCode'] == x['TeamCode']) & (x['PenaltyPlayerNumber'] == x['PenaltyPlayerNumber']) & (x['PlayerLName'] == x['PenaltyPlayerLName'])) else np.nan, axis=1)\n",
    "dp['PenaltyPlayerFName'] = dp.groupby(['Season','PenaltyTeamCode', 'PenaltyPlayerNumber', 'PenaltyPlayerLName'])['PenaltyPlayerFName'].apply(lambda x: x.ffill().bfill())"
   ]
  },
  {
   "cell_type": "code",
   "execution_count": 176,
   "metadata": {
    "collapsed": true
   },
   "outputs": [],
   "source": [
    "dp['PenaltyName'] = dp.apply(lambda x: x['PlayerName'] if ((x['PenaltyTeamCode'] == x['TeamCode']) & (x['PenaltyPlayerNumber'] == x['PenaltyPlayerNumber']) & (x['PlayerLName'] == x['PenaltyPlayerLName']) & (x['PlayerFName'] == x['PenaltyPlayerFName'])) else np.nan, axis=1)\n",
    "dp['PenaltyName'] = dp.groupby(['Season','PenaltyTeamCode', 'PenaltyPlayerLName', 'PenaltyPlayerNumber', 'PenaltyPlayerLName'])['PenaltyName'].apply(lambda x: x.ffill().bfill())"
   ]
  },
  {
   "cell_type": "markdown",
   "metadata": {},
   "source": [
    "- drop duplicates per game and event number. Calculate the total number of penalties for each player."
   ]
  },
  {
   "cell_type": "code",
   "execution_count": 177,
   "metadata": {
    "collapsed": false
   },
   "outputs": [],
   "source": [
    "dp = dp.drop_duplicates(['Season', 'GameNumber', 'EventNumber', 'PenaltyTeamCode', 'PenaltyPlayerNumber', 'PenaltyName'])\n",
    "dp['Penalties'] = dp.groupby(['Season', 'PenaltyTeamCode', 'PenaltyPlayerNumber', 'PenaltyName'])['Penalty'].transform('sum')\n",
    "dp['Penalties'] = dp.groupby(['Season','PenaltyTeamCode', 'PenaltyPlayerNumber', 'PlayerName'])['Penalties'].apply(lambda x: x.ffill().bfill())\n",
    "#dp.head()"
   ]
  },
  {
   "cell_type": "markdown",
   "metadata": {},
   "source": [
    "- drop duplicates to keep one observation per player for the season."
   ]
  },
  {
   "cell_type": "code",
   "execution_count": 178,
   "metadata": {
    "collapsed": false
   },
   "outputs": [
    {
     "data": {
      "text/html": [
       "<div>\n",
       "<table border=\"1\" class=\"dataframe\">\n",
       "  <thead>\n",
       "    <tr style=\"text-align: right;\">\n",
       "      <th></th>\n",
       "      <th>Season</th>\n",
       "      <th>TeamCode</th>\n",
       "      <th>PlayerName</th>\n",
       "      <th>Penalties</th>\n",
       "    </tr>\n",
       "  </thead>\n",
       "  <tbody>\n",
       "    <tr>\n",
       "      <th>175</th>\n",
       "      <td>2010</td>\n",
       "      <td>MTL</td>\n",
       "      <td>LARS ELLER</td>\n",
       "      <td>48.0</td>\n",
       "    </tr>\n",
       "    <tr>\n",
       "      <th>281</th>\n",
       "      <td>2010</td>\n",
       "      <td>MTL</td>\n",
       "      <td>MATHIEU DARCHE</td>\n",
       "      <td>10.0</td>\n",
       "    </tr>\n",
       "    <tr>\n",
       "      <th>675</th>\n",
       "      <td>2010</td>\n",
       "      <td>TOR</td>\n",
       "      <td>LUKE SCHENN</td>\n",
       "      <td>34.0</td>\n",
       "    </tr>\n",
       "    <tr>\n",
       "      <th>970</th>\n",
       "      <td>2010</td>\n",
       "      <td>TOR</td>\n",
       "      <td>DION PHANEUF</td>\n",
       "      <td>88.0</td>\n",
       "    </tr>\n",
       "    <tr>\n",
       "      <th>1035</th>\n",
       "      <td>2010</td>\n",
       "      <td>TOR</td>\n",
       "      <td>NaN</td>\n",
       "      <td>NaN</td>\n",
       "    </tr>\n",
       "  </tbody>\n",
       "</table>\n",
       "</div>"
      ],
      "text/plain": [
       "      Season TeamCode      PlayerName  Penalties\n",
       "175     2010      MTL      LARS ELLER       48.0\n",
       "281     2010      MTL  MATHIEU DARCHE       10.0\n",
       "675     2010      TOR     LUKE SCHENN       34.0\n",
       "970     2010      TOR    DION PHANEUF       88.0\n",
       "1035    2010      TOR             NaN        NaN"
      ]
     },
     "execution_count": 178,
     "metadata": {},
     "output_type": "execute_result"
    }
   ],
   "source": [
    "dp = dp[['Season', 'PenaltyTeamCode', 'PenaltyName', 'Penalties']]\n",
    "dp = dp.drop_duplicates(['Season', 'PenaltyTeamCode', 'PenaltyName'])\n",
    "dp = dp.rename(columns={'PenaltyTeamCode':'TeamCode', 'PenaltyName':'PlayerName'})\n",
    "dp = dp[['Season', 'TeamCode', 'PlayerName', 'Penalties']]\n",
    "dp.head()"
   ]
  },
  {
   "cell_type": "markdown",
   "metadata": {},
   "source": [
    "- keep observations that are not null. Since a team can be allocated a penalty, those observations are excluded from the data."
   ]
  },
  {
   "cell_type": "code",
   "execution_count": 179,
   "metadata": {
    "collapsed": true
   },
   "outputs": [],
   "source": [
    "dp = dp[dp['PlayerName'].notnull()]"
   ]
  },
  {
   "cell_type": "code",
   "execution_count": 180,
   "metadata": {
    "collapsed": false
   },
   "outputs": [
    {
     "data": {
      "text/plain": [
       "Season        0\n",
       "TeamCode      0\n",
       "PlayerName    0\n",
       "Penalties     0\n",
       "dtype: int64"
      ]
     },
     "execution_count": 180,
     "metadata": {},
     "output_type": "execute_result"
    }
   ],
   "source": [
    "dp.isnull().sum()"
   ]
  },
  {
   "cell_type": "code",
   "execution_count": 181,
   "metadata": {
    "collapsed": false
   },
   "outputs": [
    {
     "data": {
      "text/plain": [
       "(911, 4)"
      ]
     },
     "execution_count": 181,
     "metadata": {},
     "output_type": "execute_result"
    }
   ],
   "source": [
    "dp.shape"
   ]
  },
  {
   "cell_type": "markdown",
   "metadata": {},
   "source": [
    "####  miss dataframe (dmiss)"
   ]
  },
  {
   "cell_type": "code",
   "execution_count": 182,
   "metadata": {
    "collapsed": true
   },
   "outputs": [],
   "source": [
    "dmiss = dc.copy()\n",
    "dmiss = dmiss[dmiss['Event'] == 'MISS']"
   ]
  },
  {
   "cell_type": "code",
   "execution_count": 183,
   "metadata": {
    "collapsed": false
   },
   "outputs": [],
   "source": [
    "dmiss = dmiss[['Season', 'GameNumber', 'EventNumber', 'Event', 'EventTeamCode', 'EventPlayer1']]\n",
    "dmiss = dmiss.rename(columns={'EventPlayer1': 'PlayerName', 'EventTeamCode':'TeamCode'})"
   ]
  },
  {
   "cell_type": "markdown",
   "metadata": {},
   "source": [
    "- create a miss variable. If event type is a miss assign a value of 1. If not, assign a value of 0. Display total shots per player for a season."
   ]
  },
  {
   "cell_type": "code",
   "execution_count": 184,
   "metadata": {
    "collapsed": true
   },
   "outputs": [],
   "source": [
    "dmiss['Miss'] = dmiss.apply(lambda x: 1 if (x['Event'] == 'MISS') else 0, axis=1)\n",
    "dmiss = dmiss.drop_duplicates(['Season', 'GameNumber', 'EventNumber', 'TeamCode', 'PlayerName'])\n",
    "dmiss['Misses'] = dmiss.groupby(['Season','TeamCode', 'PlayerName'])['Miss'].transform('sum')"
   ]
  },
  {
   "cell_type": "markdown",
   "metadata": {},
   "source": [
    "- drop duplicates to keep one observation per player for the season."
   ]
  },
  {
   "cell_type": "code",
   "execution_count": 185,
   "metadata": {
    "collapsed": false
   },
   "outputs": [
    {
     "data": {
      "text/html": [
       "<div>\n",
       "<table border=\"1\" class=\"dataframe\">\n",
       "  <thead>\n",
       "    <tr style=\"text-align: right;\">\n",
       "      <th></th>\n",
       "      <th>Season</th>\n",
       "      <th>TeamCode</th>\n",
       "      <th>PlayerName</th>\n",
       "      <th>Misses</th>\n",
       "    </tr>\n",
       "  </thead>\n",
       "  <tbody>\n",
       "    <tr>\n",
       "      <th>42</th>\n",
       "      <td>2010</td>\n",
       "      <td>MTL</td>\n",
       "      <td>LARS ELLER</td>\n",
       "      <td>48</td>\n",
       "    </tr>\n",
       "    <tr>\n",
       "      <th>168</th>\n",
       "      <td>2010</td>\n",
       "      <td>TOR</td>\n",
       "      <td>DION PHANEUF</td>\n",
       "      <td>94</td>\n",
       "    </tr>\n",
       "    <tr>\n",
       "      <th>275</th>\n",
       "      <td>2010</td>\n",
       "      <td>TOR</td>\n",
       "      <td>LUKE SCHENN</td>\n",
       "      <td>56</td>\n",
       "    </tr>\n",
       "    <tr>\n",
       "      <th>297</th>\n",
       "      <td>2010</td>\n",
       "      <td>TOR</td>\n",
       "      <td>TOMAS KABERLE</td>\n",
       "      <td>44</td>\n",
       "    </tr>\n",
       "    <tr>\n",
       "      <th>342</th>\n",
       "      <td>2010</td>\n",
       "      <td>MTL</td>\n",
       "      <td>PK SUBBAN</td>\n",
       "      <td>78</td>\n",
       "    </tr>\n",
       "  </tbody>\n",
       "</table>\n",
       "</div>"
      ],
      "text/plain": [
       "     Season TeamCode     PlayerName  Misses\n",
       "42     2010      MTL     LARS ELLER      48\n",
       "168    2010      TOR   DION PHANEUF      94\n",
       "275    2010      TOR    LUKE SCHENN      56\n",
       "297    2010      TOR  TOMAS KABERLE      44\n",
       "342    2010      MTL      PK SUBBAN      78"
      ]
     },
     "execution_count": 185,
     "metadata": {},
     "output_type": "execute_result"
    }
   ],
   "source": [
    "dmiss = dmiss.drop_duplicates(['Season', 'GameNumber', 'TeamCode', 'PlayerName'])\n",
    "dmiss = dmiss.drop_duplicates(['Season', 'TeamCode', 'PlayerName'])\n",
    "dmiss = dmiss[['Season', 'TeamCode', 'PlayerName', 'Misses']]\n",
    "dmiss.head()"
   ]
  },
  {
   "cell_type": "code",
   "execution_count": 186,
   "metadata": {
    "collapsed": false
   },
   "outputs": [
    {
     "data": {
      "text/plain": [
       "Season        0\n",
       "TeamCode      0\n",
       "PlayerName    0\n",
       "Misses        0\n",
       "dtype: int64"
      ]
     },
     "execution_count": 186,
     "metadata": {},
     "output_type": "execute_result"
    }
   ],
   "source": [
    "dmiss.isnull().sum()"
   ]
  },
  {
   "cell_type": "code",
   "execution_count": 187,
   "metadata": {
    "collapsed": false
   },
   "outputs": [
    {
     "data": {
      "text/plain": [
       "(912, 4)"
      ]
     },
     "execution_count": 187,
     "metadata": {},
     "output_type": "execute_result"
    }
   ],
   "source": [
    "dmiss.shape"
   ]
  },
  {
   "cell_type": "markdown",
   "metadata": {},
   "source": [
    "####  takeaway dataframe (dtake)"
   ]
  },
  {
   "cell_type": "code",
   "execution_count": 188,
   "metadata": {
    "collapsed": true
   },
   "outputs": [],
   "source": [
    "dtake = dc.copy()\n",
    "dtake = dtake[dtake['Event'] == 'TAKE']"
   ]
  },
  {
   "cell_type": "code",
   "execution_count": 189,
   "metadata": {
    "collapsed": true
   },
   "outputs": [],
   "source": [
    "dtake = dtake[['Season', 'GameNumber', 'EventNumber', 'Event', 'EventTeamCode', 'EventPlayer1']]\n",
    "dtake = dtake.rename(columns={'EventPlayer1': 'PlayerName', 'EventTeamCode':'TeamCode'})"
   ]
  },
  {
   "cell_type": "markdown",
   "metadata": {},
   "source": [
    "- create a takeaway variable. If event type is a takeaway assign a value of 1. If not, assign a value of 0. Display total shots per player for a season."
   ]
  },
  {
   "cell_type": "code",
   "execution_count": 190,
   "metadata": {
    "collapsed": true
   },
   "outputs": [],
   "source": [
    "dtake['Takeaway'] = dtake.apply(lambda x: 1 if (x['Event'] == 'TAKE') else 0, axis=1)\n",
    "dtake = dtake.drop_duplicates(['Season', 'GameNumber', 'EventNumber', 'TeamCode', 'PlayerName'])\n",
    "dtake['Takeaways'] = dtake.groupby(['Season','TeamCode', 'PlayerName'])['Takeaway'].transform('sum')"
   ]
  },
  {
   "cell_type": "markdown",
   "metadata": {},
   "source": [
    "- drop duplicates to keep one observation per player for the season."
   ]
  },
  {
   "cell_type": "code",
   "execution_count": 191,
   "metadata": {
    "collapsed": false
   },
   "outputs": [
    {
     "data": {
      "text/html": [
       "<div>\n",
       "<table border=\"1\" class=\"dataframe\">\n",
       "  <thead>\n",
       "    <tr style=\"text-align: right;\">\n",
       "      <th></th>\n",
       "      <th>Season</th>\n",
       "      <th>TeamCode</th>\n",
       "      <th>PlayerName</th>\n",
       "      <th>Takeaways</th>\n",
       "    </tr>\n",
       "  </thead>\n",
       "  <tbody>\n",
       "    <tr>\n",
       "      <th>36</th>\n",
       "      <td>2010</td>\n",
       "      <td>MTL</td>\n",
       "      <td>LARS ELLER</td>\n",
       "      <td>24</td>\n",
       "    </tr>\n",
       "    <tr>\n",
       "      <th>201</th>\n",
       "      <td>2010</td>\n",
       "      <td>MTL</td>\n",
       "      <td>JEFF HALPERN</td>\n",
       "      <td>15</td>\n",
       "    </tr>\n",
       "    <tr>\n",
       "      <th>206</th>\n",
       "      <td>2010</td>\n",
       "      <td>MTL</td>\n",
       "      <td>JAROSLAV SPACEK</td>\n",
       "      <td>30</td>\n",
       "    </tr>\n",
       "    <tr>\n",
       "      <th>269</th>\n",
       "      <td>2010</td>\n",
       "      <td>TOR</td>\n",
       "      <td>MIKHAIL GRABOVSKI</td>\n",
       "      <td>49</td>\n",
       "    </tr>\n",
       "    <tr>\n",
       "      <th>302</th>\n",
       "      <td>2010</td>\n",
       "      <td>TOR</td>\n",
       "      <td>KRIS VERSTEEG</td>\n",
       "      <td>40</td>\n",
       "    </tr>\n",
       "  </tbody>\n",
       "</table>\n",
       "</div>"
      ],
      "text/plain": [
       "     Season TeamCode         PlayerName  Takeaways\n",
       "36     2010      MTL         LARS ELLER         24\n",
       "201    2010      MTL       JEFF HALPERN         15\n",
       "206    2010      MTL    JAROSLAV SPACEK         30\n",
       "269    2010      TOR  MIKHAIL GRABOVSKI         49\n",
       "302    2010      TOR      KRIS VERSTEEG         40"
      ]
     },
     "execution_count": 191,
     "metadata": {},
     "output_type": "execute_result"
    }
   ],
   "source": [
    "dtake = dtake.drop_duplicates(['Season', 'GameNumber', 'TeamCode', 'PlayerName'])\n",
    "dtake = dtake.drop_duplicates(['Season', 'TeamCode', 'PlayerName'])\n",
    "dtake = dtake[['Season', 'TeamCode', 'PlayerName', 'Takeaways']]\n",
    "dtake.head()"
   ]
  },
  {
   "cell_type": "code",
   "execution_count": 192,
   "metadata": {
    "collapsed": false
   },
   "outputs": [
    {
     "data": {
      "text/plain": [
       "Season        0\n",
       "TeamCode      0\n",
       "PlayerName    0\n",
       "Takeaways     0\n",
       "dtype: int64"
      ]
     },
     "execution_count": 192,
     "metadata": {},
     "output_type": "execute_result"
    }
   ],
   "source": [
    "dtake.isnull().sum()"
   ]
  },
  {
   "cell_type": "code",
   "execution_count": 193,
   "metadata": {
    "collapsed": false
   },
   "outputs": [
    {
     "data": {
      "text/plain": [
       "(870, 4)"
      ]
     },
     "execution_count": 193,
     "metadata": {},
     "output_type": "execute_result"
    }
   ],
   "source": [
    "dtake.shape"
   ]
  },
  {
   "cell_type": "markdown",
   "metadata": {},
   "source": [
    "####  giveaway dataframe (dgive)"
   ]
  },
  {
   "cell_type": "code",
   "execution_count": 194,
   "metadata": {
    "collapsed": true
   },
   "outputs": [],
   "source": [
    "dgive = dc.copy()\n",
    "dgive = dgive[dgive['Event'] == 'GIVE']"
   ]
  },
  {
   "cell_type": "code",
   "execution_count": 195,
   "metadata": {
    "collapsed": true
   },
   "outputs": [],
   "source": [
    "dgive = dgive[['Season', 'GameNumber', 'EventNumber', 'Event', 'EventTeamCode', 'EventPlayer1']]\n",
    "dgive = dgive.rename(columns={'EventPlayer1': 'PlayerName', 'EventTeamCode':'TeamCode'})"
   ]
  },
  {
   "cell_type": "markdown",
   "metadata": {},
   "source": [
    "- create a giveaway variable. If event type is a giveaway assign a value of 1. If not, assign a value of 0. Display total shots per player for a season."
   ]
  },
  {
   "cell_type": "code",
   "execution_count": 196,
   "metadata": {
    "collapsed": true
   },
   "outputs": [],
   "source": [
    "dgive['Giveaway'] = dgive.apply(lambda x: 1 if (x['Event'] == 'GIVE') else 0, axis=1)\n",
    "dgive = dgive.drop_duplicates(['Season', 'GameNumber', 'EventNumber', 'TeamCode', 'PlayerName'])\n",
    "dgive['Giveaways'] = dgive.groupby(['Season','TeamCode', 'PlayerName'])['Giveaway'].transform('sum')"
   ]
  },
  {
   "cell_type": "markdown",
   "metadata": {},
   "source": [
    "- drop duplicates to keep one observation per player for the season."
   ]
  },
  {
   "cell_type": "code",
   "execution_count": 197,
   "metadata": {
    "collapsed": false
   },
   "outputs": [
    {
     "data": {
      "text/html": [
       "<div>\n",
       "<table border=\"1\" class=\"dataframe\">\n",
       "  <thead>\n",
       "    <tr style=\"text-align: right;\">\n",
       "      <th></th>\n",
       "      <th>Season</th>\n",
       "      <th>TeamCode</th>\n",
       "      <th>PlayerName</th>\n",
       "      <th>Giveaways</th>\n",
       "    </tr>\n",
       "  </thead>\n",
       "  <tbody>\n",
       "    <tr>\n",
       "      <th>60</th>\n",
       "      <td>2010</td>\n",
       "      <td>TOR</td>\n",
       "      <td>JEAN-SEBASTIEN GIGUERE</td>\n",
       "      <td>33</td>\n",
       "    </tr>\n",
       "    <tr>\n",
       "      <th>72</th>\n",
       "      <td>2010</td>\n",
       "      <td>MTL</td>\n",
       "      <td>JOSH GORGES</td>\n",
       "      <td>24</td>\n",
       "    </tr>\n",
       "    <tr>\n",
       "      <th>102</th>\n",
       "      <td>2010</td>\n",
       "      <td>TOR</td>\n",
       "      <td>CARL GUNNARSSON</td>\n",
       "      <td>44</td>\n",
       "    </tr>\n",
       "    <tr>\n",
       "      <th>348</th>\n",
       "      <td>2010</td>\n",
       "      <td>MTL</td>\n",
       "      <td>MATHIEU DARCHE</td>\n",
       "      <td>10</td>\n",
       "    </tr>\n",
       "    <tr>\n",
       "      <th>378</th>\n",
       "      <td>2010</td>\n",
       "      <td>TOR</td>\n",
       "      <td>FRANCOIS BEAUCHEMIN</td>\n",
       "      <td>67</td>\n",
       "    </tr>\n",
       "  </tbody>\n",
       "</table>\n",
       "</div>"
      ],
      "text/plain": [
       "     Season TeamCode              PlayerName  Giveaways\n",
       "60     2010      TOR  JEAN-SEBASTIEN GIGUERE         33\n",
       "72     2010      MTL             JOSH GORGES         24\n",
       "102    2010      TOR         CARL GUNNARSSON         44\n",
       "348    2010      MTL          MATHIEU DARCHE         10\n",
       "378    2010      TOR     FRANCOIS BEAUCHEMIN         67"
      ]
     },
     "execution_count": 197,
     "metadata": {},
     "output_type": "execute_result"
    }
   ],
   "source": [
    "dgive = dgive.drop_duplicates(['Season', 'GameNumber', 'TeamCode', 'PlayerName'])\n",
    "dgive = dgive.drop_duplicates(['Season', 'TeamCode', 'PlayerName'])\n",
    "dgive = dgive[['Season', 'TeamCode', 'PlayerName', 'Giveaways']]\n",
    "dgive.head()"
   ]
  },
  {
   "cell_type": "code",
   "execution_count": 198,
   "metadata": {
    "collapsed": false
   },
   "outputs": [
    {
     "data": {
      "text/plain": [
       "Season        0\n",
       "TeamCode      0\n",
       "PlayerName    0\n",
       "Giveaways     0\n",
       "dtype: int64"
      ]
     },
     "execution_count": 198,
     "metadata": {},
     "output_type": "execute_result"
    }
   ],
   "source": [
    "dgive.isnull().sum()"
   ]
  },
  {
   "cell_type": "code",
   "execution_count": 199,
   "metadata": {
    "collapsed": false
   },
   "outputs": [
    {
     "data": {
      "text/plain": [
       "(969, 4)"
      ]
     },
     "execution_count": 199,
     "metadata": {},
     "output_type": "execute_result"
    }
   ],
   "source": [
    "dgive.shape"
   ]
  },
  {
   "cell_type": "markdown",
   "metadata": {},
   "source": [
    "### import 2010 player shifts"
   ]
  },
  {
   "cell_type": "code",
   "execution_count": 201,
   "metadata": {
    "collapsed": true
   },
   "outputs": [],
   "source": [
    "dshift = pd.read_csv('/Users/stefanostselios/Brock University/Kevin Mongeon - StephanosShare/data/nhl_shifts20102011.csv')\n",
    "#dshift = pd.read_csv('/Users/kevinmongeon/Brock University/Steve Tselios - StephanosShare/data/nhl_shifts20102011.csv')\n",
    "dshift = dshift.drop('Unnamed: 0', axis=1)"
   ]
  },
  {
   "cell_type": "markdown",
   "metadata": {},
   "source": [
    "- rename variables, keep only regular season games and create a season variable."
   ]
  },
  {
   "cell_type": "code",
   "execution_count": 202,
   "metadata": {
    "collapsed": false
   },
   "outputs": [
    {
     "data": {
      "text/html": [
       "<div>\n",
       "<table border=\"1\" class=\"dataframe\">\n",
       "  <thead>\n",
       "    <tr style=\"text-align: right;\">\n",
       "      <th></th>\n",
       "      <th>Season</th>\n",
       "      <th>Date</th>\n",
       "      <th>GameNumber</th>\n",
       "      <th>Period</th>\n",
       "      <th>TeamCode</th>\n",
       "      <th>PlayerName</th>\n",
       "      <th>Player_Id</th>\n",
       "      <th>Start</th>\n",
       "      <th>End</th>\n",
       "      <th>Duration</th>\n",
       "    </tr>\n",
       "  </thead>\n",
       "  <tbody>\n",
       "    <tr>\n",
       "      <th>0</th>\n",
       "      <td>2010</td>\n",
       "      <td>2010-10-07</td>\n",
       "      <td>20003</td>\n",
       "      <td>1</td>\n",
       "      <td>MIN</td>\n",
       "      <td>MIKKO KOIVU</td>\n",
       "      <td>8469459.0</td>\n",
       "      <td>0.0</td>\n",
       "      <td>47.0</td>\n",
       "      <td>47.0</td>\n",
       "    </tr>\n",
       "    <tr>\n",
       "      <th>1</th>\n",
       "      <td>2010</td>\n",
       "      <td>2010-10-07</td>\n",
       "      <td>20003</td>\n",
       "      <td>1</td>\n",
       "      <td>MIN</td>\n",
       "      <td>ANDREW BRUNETTE</td>\n",
       "      <td>8459596.0</td>\n",
       "      <td>0.0</td>\n",
       "      <td>52.0</td>\n",
       "      <td>52.0</td>\n",
       "    </tr>\n",
       "    <tr>\n",
       "      <th>2</th>\n",
       "      <td>2010</td>\n",
       "      <td>2010-10-07</td>\n",
       "      <td>20003</td>\n",
       "      <td>1</td>\n",
       "      <td>MIN</td>\n",
       "      <td>ANTTI MIETTINEN</td>\n",
       "      <td>8468704.0</td>\n",
       "      <td>0.0</td>\n",
       "      <td>52.0</td>\n",
       "      <td>52.0</td>\n",
       "    </tr>\n",
       "    <tr>\n",
       "      <th>3</th>\n",
       "      <td>2010</td>\n",
       "      <td>2010-10-07</td>\n",
       "      <td>20003</td>\n",
       "      <td>1</td>\n",
       "      <td>MIN</td>\n",
       "      <td>CAM BARKER</td>\n",
       "      <td>8471216.0</td>\n",
       "      <td>0.0</td>\n",
       "      <td>52.0</td>\n",
       "      <td>52.0</td>\n",
       "    </tr>\n",
       "    <tr>\n",
       "      <th>4</th>\n",
       "      <td>2010</td>\n",
       "      <td>2010-10-07</td>\n",
       "      <td>20003</td>\n",
       "      <td>1</td>\n",
       "      <td>MIN</td>\n",
       "      <td>GREG ZANON</td>\n",
       "      <td>8468636.0</td>\n",
       "      <td>0.0</td>\n",
       "      <td>52.0</td>\n",
       "      <td>52.0</td>\n",
       "    </tr>\n",
       "  </tbody>\n",
       "</table>\n",
       "</div>"
      ],
      "text/plain": [
       "   Season        Date  GameNumber  Period TeamCode       PlayerName  \\\n",
       "0    2010  2010-10-07       20003       1      MIN      MIKKO KOIVU   \n",
       "1    2010  2010-10-07       20003       1      MIN  ANDREW BRUNETTE   \n",
       "2    2010  2010-10-07       20003       1      MIN  ANTTI MIETTINEN   \n",
       "3    2010  2010-10-07       20003       1      MIN       CAM BARKER   \n",
       "4    2010  2010-10-07       20003       1      MIN       GREG ZANON   \n",
       "\n",
       "   Player_Id  Start   End  Duration  \n",
       "0  8469459.0    0.0  47.0      47.0  \n",
       "1  8459596.0    0.0  52.0      52.0  \n",
       "2  8468704.0    0.0  52.0      52.0  \n",
       "3  8471216.0    0.0  52.0      52.0  \n",
       "4  8468636.0    0.0  52.0      52.0  "
      ]
     },
     "execution_count": 202,
     "metadata": {},
     "output_type": "execute_result"
    }
   ],
   "source": [
    "dshift= dshift.rename(columns={ 'Game_Id' : 'GameNumber', 'Team': 'TeamCode', 'Player': 'PlayerName' })\n",
    "dshift = dshift[dshift['GameNumber'] <= 21230]\n",
    "dshift['Season'] = 2010\n",
    "dshift = dshift[['Season', 'Date', 'GameNumber', 'Period', 'TeamCode', 'PlayerName', 'Player_Id', 'Start', 'End', 'Duration']]\n",
    "dshift.head()"
   ]
  },
  {
   "cell_type": "markdown",
   "metadata": {},
   "source": [
    "- calcuate the seconds an individual played per game. Convert seconds to minutes and drop duplicates per season, game number, team and player."
   ]
  },
  {
   "cell_type": "code",
   "execution_count": 203,
   "metadata": {
    "collapsed": true
   },
   "outputs": [],
   "source": [
    "dshift['Seconds'] = dshift.groupby(['Season', 'GameNumber', 'TeamCode', 'PlayerName'])['Duration'].transform('sum')\n",
    "dshift['Minutes'] = dshift['Seconds']/60\n",
    "dshift['Minutes'] = dshift['Minutes'].round(2)"
   ]
  },
  {
   "cell_type": "code",
   "execution_count": 204,
   "metadata": {
    "collapsed": true
   },
   "outputs": [],
   "source": [
    "dshift = dshift.drop_duplicates(['Season', 'GameNumber', 'TeamCode', 'PlayerName'])"
   ]
  },
  {
   "cell_type": "code",
   "execution_count": 205,
   "metadata": {
    "collapsed": false
   },
   "outputs": [
    {
     "data": {
      "text/html": [
       "<div>\n",
       "<table border=\"1\" class=\"dataframe\">\n",
       "  <thead>\n",
       "    <tr style=\"text-align: right;\">\n",
       "      <th></th>\n",
       "      <th>Season</th>\n",
       "      <th>Date</th>\n",
       "      <th>GameNumber</th>\n",
       "      <th>Period</th>\n",
       "      <th>TeamCode</th>\n",
       "      <th>PlayerName</th>\n",
       "      <th>Player_Id</th>\n",
       "      <th>Start</th>\n",
       "      <th>End</th>\n",
       "      <th>Duration</th>\n",
       "      <th>Seconds</th>\n",
       "      <th>Minutes</th>\n",
       "    </tr>\n",
       "  </thead>\n",
       "  <tbody>\n",
       "    <tr>\n",
       "      <th>0</th>\n",
       "      <td>2010</td>\n",
       "      <td>2010-10-07</td>\n",
       "      <td>20003</td>\n",
       "      <td>1</td>\n",
       "      <td>MIN</td>\n",
       "      <td>MIKKO KOIVU</td>\n",
       "      <td>8469459.0</td>\n",
       "      <td>0.0</td>\n",
       "      <td>47.0</td>\n",
       "      <td>47.0</td>\n",
       "      <td>1269.0</td>\n",
       "      <td>21.15</td>\n",
       "    </tr>\n",
       "    <tr>\n",
       "      <th>1</th>\n",
       "      <td>2010</td>\n",
       "      <td>2010-10-07</td>\n",
       "      <td>20003</td>\n",
       "      <td>1</td>\n",
       "      <td>MIN</td>\n",
       "      <td>ANDREW BRUNETTE</td>\n",
       "      <td>8459596.0</td>\n",
       "      <td>0.0</td>\n",
       "      <td>52.0</td>\n",
       "      <td>52.0</td>\n",
       "      <td>1037.0</td>\n",
       "      <td>17.28</td>\n",
       "    </tr>\n",
       "    <tr>\n",
       "      <th>2</th>\n",
       "      <td>2010</td>\n",
       "      <td>2010-10-07</td>\n",
       "      <td>20003</td>\n",
       "      <td>1</td>\n",
       "      <td>MIN</td>\n",
       "      <td>ANTTI MIETTINEN</td>\n",
       "      <td>8468704.0</td>\n",
       "      <td>0.0</td>\n",
       "      <td>52.0</td>\n",
       "      <td>52.0</td>\n",
       "      <td>1108.0</td>\n",
       "      <td>18.47</td>\n",
       "    </tr>\n",
       "    <tr>\n",
       "      <th>3</th>\n",
       "      <td>2010</td>\n",
       "      <td>2010-10-07</td>\n",
       "      <td>20003</td>\n",
       "      <td>1</td>\n",
       "      <td>MIN</td>\n",
       "      <td>CAM BARKER</td>\n",
       "      <td>8471216.0</td>\n",
       "      <td>0.0</td>\n",
       "      <td>52.0</td>\n",
       "      <td>52.0</td>\n",
       "      <td>1158.0</td>\n",
       "      <td>19.30</td>\n",
       "    </tr>\n",
       "    <tr>\n",
       "      <th>4</th>\n",
       "      <td>2010</td>\n",
       "      <td>2010-10-07</td>\n",
       "      <td>20003</td>\n",
       "      <td>1</td>\n",
       "      <td>MIN</td>\n",
       "      <td>GREG ZANON</td>\n",
       "      <td>8468636.0</td>\n",
       "      <td>0.0</td>\n",
       "      <td>52.0</td>\n",
       "      <td>52.0</td>\n",
       "      <td>1346.0</td>\n",
       "      <td>22.43</td>\n",
       "    </tr>\n",
       "  </tbody>\n",
       "</table>\n",
       "</div>"
      ],
      "text/plain": [
       "   Season        Date  GameNumber  Period TeamCode       PlayerName  \\\n",
       "0    2010  2010-10-07       20003       1      MIN      MIKKO KOIVU   \n",
       "1    2010  2010-10-07       20003       1      MIN  ANDREW BRUNETTE   \n",
       "2    2010  2010-10-07       20003       1      MIN  ANTTI MIETTINEN   \n",
       "3    2010  2010-10-07       20003       1      MIN       CAM BARKER   \n",
       "4    2010  2010-10-07       20003       1      MIN       GREG ZANON   \n",
       "\n",
       "   Player_Id  Start   End  Duration  Seconds  Minutes  \n",
       "0  8469459.0    0.0  47.0      47.0   1269.0    21.15  \n",
       "1  8459596.0    0.0  52.0      52.0   1037.0    17.28  \n",
       "2  8468704.0    0.0  52.0      52.0   1108.0    18.47  \n",
       "3  8471216.0    0.0  52.0      52.0   1158.0    19.30  \n",
       "4  8468636.0    0.0  52.0      52.0   1346.0    22.43  "
      ]
     },
     "execution_count": 205,
     "metadata": {},
     "output_type": "execute_result"
    }
   ],
   "source": [
    "dshift.head()"
   ]
  },
  {
   "cell_type": "markdown",
   "metadata": {},
   "source": [
    "- calcuate the seconds an individual played for the whole regular season. Convert seconds to minutes and drop duplicates per season, game number, team and player."
   ]
  },
  {
   "cell_type": "code",
   "execution_count": 206,
   "metadata": {
    "collapsed": false
   },
   "outputs": [
    {
     "data": {
      "text/html": [
       "<div>\n",
       "<table border=\"1\" class=\"dataframe\">\n",
       "  <thead>\n",
       "    <tr style=\"text-align: right;\">\n",
       "      <th></th>\n",
       "      <th>Season</th>\n",
       "      <th>Date</th>\n",
       "      <th>GameNumber</th>\n",
       "      <th>Period</th>\n",
       "      <th>TeamCode</th>\n",
       "      <th>PlayerName</th>\n",
       "      <th>Player_Id</th>\n",
       "      <th>Start</th>\n",
       "      <th>End</th>\n",
       "      <th>Duration</th>\n",
       "      <th>Seconds</th>\n",
       "      <th>Minutes</th>\n",
       "      <th>TSeconds</th>\n",
       "      <th>TOI</th>\n",
       "    </tr>\n",
       "  </thead>\n",
       "  <tbody>\n",
       "    <tr>\n",
       "      <th>0</th>\n",
       "      <td>2010</td>\n",
       "      <td>2010-10-07</td>\n",
       "      <td>20003</td>\n",
       "      <td>1</td>\n",
       "      <td>MIN</td>\n",
       "      <td>MIKKO KOIVU</td>\n",
       "      <td>8469459.0</td>\n",
       "      <td>0.0</td>\n",
       "      <td>47.0</td>\n",
       "      <td>47.0</td>\n",
       "      <td>1269.0</td>\n",
       "      <td>21.15</td>\n",
       "      <td>83033.0</td>\n",
       "      <td>1383.88</td>\n",
       "    </tr>\n",
       "    <tr>\n",
       "      <th>1</th>\n",
       "      <td>2010</td>\n",
       "      <td>2010-10-07</td>\n",
       "      <td>20003</td>\n",
       "      <td>1</td>\n",
       "      <td>MIN</td>\n",
       "      <td>ANDREW BRUNETTE</td>\n",
       "      <td>8459596.0</td>\n",
       "      <td>0.0</td>\n",
       "      <td>52.0</td>\n",
       "      <td>52.0</td>\n",
       "      <td>1037.0</td>\n",
       "      <td>17.28</td>\n",
       "      <td>82653.0</td>\n",
       "      <td>1377.55</td>\n",
       "    </tr>\n",
       "    <tr>\n",
       "      <th>2</th>\n",
       "      <td>2010</td>\n",
       "      <td>2010-10-07</td>\n",
       "      <td>20003</td>\n",
       "      <td>1</td>\n",
       "      <td>MIN</td>\n",
       "      <td>ANTTI MIETTINEN</td>\n",
       "      <td>8468704.0</td>\n",
       "      <td>0.0</td>\n",
       "      <td>52.0</td>\n",
       "      <td>52.0</td>\n",
       "      <td>1108.0</td>\n",
       "      <td>18.47</td>\n",
       "      <td>74572.0</td>\n",
       "      <td>1242.87</td>\n",
       "    </tr>\n",
       "    <tr>\n",
       "      <th>3</th>\n",
       "      <td>2010</td>\n",
       "      <td>2010-10-07</td>\n",
       "      <td>20003</td>\n",
       "      <td>1</td>\n",
       "      <td>MIN</td>\n",
       "      <td>CAM BARKER</td>\n",
       "      <td>8471216.0</td>\n",
       "      <td>0.0</td>\n",
       "      <td>52.0</td>\n",
       "      <td>52.0</td>\n",
       "      <td>1158.0</td>\n",
       "      <td>19.30</td>\n",
       "      <td>51175.0</td>\n",
       "      <td>852.92</td>\n",
       "    </tr>\n",
       "    <tr>\n",
       "      <th>4</th>\n",
       "      <td>2010</td>\n",
       "      <td>2010-10-07</td>\n",
       "      <td>20003</td>\n",
       "      <td>1</td>\n",
       "      <td>MIN</td>\n",
       "      <td>GREG ZANON</td>\n",
       "      <td>8468636.0</td>\n",
       "      <td>0.0</td>\n",
       "      <td>52.0</td>\n",
       "      <td>52.0</td>\n",
       "      <td>1346.0</td>\n",
       "      <td>22.43</td>\n",
       "      <td>105993.0</td>\n",
       "      <td>1766.55</td>\n",
       "    </tr>\n",
       "  </tbody>\n",
       "</table>\n",
       "</div>"
      ],
      "text/plain": [
       "   Season        Date  GameNumber  Period TeamCode       PlayerName  \\\n",
       "0    2010  2010-10-07       20003       1      MIN      MIKKO KOIVU   \n",
       "1    2010  2010-10-07       20003       1      MIN  ANDREW BRUNETTE   \n",
       "2    2010  2010-10-07       20003       1      MIN  ANTTI MIETTINEN   \n",
       "3    2010  2010-10-07       20003       1      MIN       CAM BARKER   \n",
       "4    2010  2010-10-07       20003       1      MIN       GREG ZANON   \n",
       "\n",
       "   Player_Id  Start   End  Duration  Seconds  Minutes  TSeconds      TOI  \n",
       "0  8469459.0    0.0  47.0      47.0   1269.0    21.15   83033.0  1383.88  \n",
       "1  8459596.0    0.0  52.0      52.0   1037.0    17.28   82653.0  1377.55  \n",
       "2  8468704.0    0.0  52.0      52.0   1108.0    18.47   74572.0  1242.87  \n",
       "3  8471216.0    0.0  52.0      52.0   1158.0    19.30   51175.0   852.92  \n",
       "4  8468636.0    0.0  52.0      52.0   1346.0    22.43  105993.0  1766.55  "
      ]
     },
     "execution_count": 206,
     "metadata": {},
     "output_type": "execute_result"
    }
   ],
   "source": [
    "dshift['TSeconds'] = dshift.groupby(['Season', 'TeamCode', 'PlayerName'])['Seconds'].transform('sum')\n",
    "dshift['TOI'] = dshift['TSeconds']/60\n",
    "dshift['TOI'] = dshift['TOI'].round(2)\n",
    "dshift.head()"
   ]
  },
  {
   "cell_type": "markdown",
   "metadata": {},
   "source": [
    "- keep only observation per player for the season"
   ]
  },
  {
   "cell_type": "code",
   "execution_count": 207,
   "metadata": {
    "collapsed": false
   },
   "outputs": [
    {
     "data": {
      "text/html": [
       "<div>\n",
       "<table border=\"1\" class=\"dataframe\">\n",
       "  <thead>\n",
       "    <tr style=\"text-align: right;\">\n",
       "      <th></th>\n",
       "      <th>Season</th>\n",
       "      <th>TeamCode</th>\n",
       "      <th>PlayerName</th>\n",
       "      <th>TOI</th>\n",
       "    </tr>\n",
       "  </thead>\n",
       "  <tbody>\n",
       "    <tr>\n",
       "      <th>0</th>\n",
       "      <td>2010</td>\n",
       "      <td>MIN</td>\n",
       "      <td>MIKKO KOIVU</td>\n",
       "      <td>1383.88</td>\n",
       "    </tr>\n",
       "    <tr>\n",
       "      <th>1</th>\n",
       "      <td>2010</td>\n",
       "      <td>MIN</td>\n",
       "      <td>ANDREW BRUNETTE</td>\n",
       "      <td>1377.55</td>\n",
       "    </tr>\n",
       "    <tr>\n",
       "      <th>2</th>\n",
       "      <td>2010</td>\n",
       "      <td>MIN</td>\n",
       "      <td>ANTTI MIETTINEN</td>\n",
       "      <td>1242.87</td>\n",
       "    </tr>\n",
       "    <tr>\n",
       "      <th>3</th>\n",
       "      <td>2010</td>\n",
       "      <td>MIN</td>\n",
       "      <td>CAM BARKER</td>\n",
       "      <td>852.92</td>\n",
       "    </tr>\n",
       "    <tr>\n",
       "      <th>4</th>\n",
       "      <td>2010</td>\n",
       "      <td>MIN</td>\n",
       "      <td>GREG ZANON</td>\n",
       "      <td>1766.55</td>\n",
       "    </tr>\n",
       "  </tbody>\n",
       "</table>\n",
       "</div>"
      ],
      "text/plain": [
       "   Season TeamCode       PlayerName      TOI\n",
       "0    2010      MIN      MIKKO KOIVU  1383.88\n",
       "1    2010      MIN  ANDREW BRUNETTE  1377.55\n",
       "2    2010      MIN  ANTTI MIETTINEN  1242.87\n",
       "3    2010      MIN       CAM BARKER   852.92\n",
       "4    2010      MIN       GREG ZANON  1766.55"
      ]
     },
     "execution_count": 207,
     "metadata": {},
     "output_type": "execute_result"
    }
   ],
   "source": [
    "dshift = dshift.drop_duplicates(['Season', 'TeamCode', 'PlayerName'])\n",
    "dshift = dshift[['Season', 'TeamCode', 'PlayerName', 'TOI']]\n",
    "dshift.head()"
   ]
  },
  {
   "cell_type": "code",
   "execution_count": 208,
   "metadata": {
    "collapsed": false
   },
   "outputs": [
    {
     "data": {
      "text/plain": [
       "Season        0\n",
       "TeamCode      0\n",
       "PlayerName    0\n",
       "TOI           0\n",
       "dtype: int64"
      ]
     },
     "execution_count": 208,
     "metadata": {},
     "output_type": "execute_result"
    }
   ],
   "source": [
    "dshift.isnull().sum()"
   ]
  },
  {
   "cell_type": "code",
   "execution_count": 209,
   "metadata": {
    "collapsed": false
   },
   "outputs": [
    {
     "data": {
      "text/plain": [
       "(1058, 4)"
      ]
     },
     "execution_count": 209,
     "metadata": {},
     "output_type": "execute_result"
    }
   ],
   "source": [
    "dshift.shape"
   ]
  },
  {
   "cell_type": "markdown",
   "metadata": {},
   "source": [
    "### import 2010 player positions"
   ]
  },
  {
   "cell_type": "code",
   "execution_count": 242,
   "metadata": {
    "collapsed": false
   },
   "outputs": [],
   "source": [
    "dpos = pd.read_csv('/Users/stefanostselios/Brock University/Kevin Mongeon - StephanosShare/data/nhl_positions20102011.csv')\n",
    "#dpos = pd.read_csv('/Users/kevinmongeon/Brock University/Steve Tselios - StephanosShare/data/nhl_positions20102011.csv')"
   ]
  },
  {
   "cell_type": "code",
   "execution_count": 243,
   "metadata": {
    "collapsed": false
   },
   "outputs": [
    {
     "data": {
      "text/html": [
       "<div>\n",
       "<table border=\"1\" class=\"dataframe\">\n",
       "  <thead>\n",
       "    <tr style=\"text-align: right;\">\n",
       "      <th></th>\n",
       "      <th>Name</th>\n",
       "      <th>TeamCode</th>\n",
       "      <th>Position</th>\n",
       "      <th>PlayerName</th>\n",
       "    </tr>\n",
       "  </thead>\n",
       "  <tbody>\n",
       "    <tr>\n",
       "      <th>0</th>\n",
       "      <td>Justin Abdelkader</td>\n",
       "      <td>DET</td>\n",
       "      <td>L</td>\n",
       "      <td>JUSTIN ABDELKADER</td>\n",
       "    </tr>\n",
       "    <tr>\n",
       "      <th>1</th>\n",
       "      <td>Luke Adam</td>\n",
       "      <td>BUF</td>\n",
       "      <td>L</td>\n",
       "      <td>LUKE ADAM</td>\n",
       "    </tr>\n",
       "    <tr>\n",
       "      <th>2</th>\n",
       "      <td>Craig Adams</td>\n",
       "      <td>PIT</td>\n",
       "      <td>R</td>\n",
       "      <td>CRAIG ADAMS</td>\n",
       "    </tr>\n",
       "    <tr>\n",
       "      <th>3</th>\n",
       "      <td>Andrew Alberts</td>\n",
       "      <td>VAN</td>\n",
       "      <td>D</td>\n",
       "      <td>ANDREW ALBERTS</td>\n",
       "    </tr>\n",
       "    <tr>\n",
       "      <th>4</th>\n",
       "      <td>Daniel Alfredsson</td>\n",
       "      <td>OTT</td>\n",
       "      <td>R</td>\n",
       "      <td>DANIEL ALFREDSSON</td>\n",
       "    </tr>\n",
       "  </tbody>\n",
       "</table>\n",
       "</div>"
      ],
      "text/plain": [
       "                Name TeamCode Position         PlayerName\n",
       "0  Justin Abdelkader      DET        L  JUSTIN ABDELKADER\n",
       "1          Luke Adam      BUF        L          LUKE ADAM\n",
       "2        Craig Adams      PIT        R        CRAIG ADAMS\n",
       "3     Andrew Alberts      VAN        D     ANDREW ALBERTS\n",
       "4  Daniel Alfredsson      OTT        R  DANIEL ALFREDSSON"
      ]
     },
     "execution_count": 243,
     "metadata": {},
     "output_type": "execute_result"
    }
   ],
   "source": [
    "dpos= dpos.rename(columns={ 'Team': 'TeamCode', 'Old Team' : 'OldTeam', 'Pos ': 'Position'})\n",
    "dpos = dpos.drop(dpos.columns[dpos.columns.str.contains('unnamed',case = False)],axis = 1)\n",
    "dpos.head()"
   ]
  },
  {
   "cell_type": "code",
   "execution_count": 244,
   "metadata": {
    "collapsed": false
   },
   "outputs": [
    {
     "data": {
      "text/html": [
       "<div>\n",
       "<table border=\"1\" class=\"dataframe\">\n",
       "  <thead>\n",
       "    <tr style=\"text-align: right;\">\n",
       "      <th></th>\n",
       "      <th>Season</th>\n",
       "      <th>TeamCode</th>\n",
       "      <th>PlayerName</th>\n",
       "      <th>Position</th>\n",
       "    </tr>\n",
       "  </thead>\n",
       "  <tbody>\n",
       "    <tr>\n",
       "      <th>0</th>\n",
       "      <td>2010</td>\n",
       "      <td>DET</td>\n",
       "      <td>JUSTIN ABDELKADER</td>\n",
       "      <td>L</td>\n",
       "    </tr>\n",
       "    <tr>\n",
       "      <th>1</th>\n",
       "      <td>2010</td>\n",
       "      <td>BUF</td>\n",
       "      <td>LUKE ADAM</td>\n",
       "      <td>L</td>\n",
       "    </tr>\n",
       "    <tr>\n",
       "      <th>2</th>\n",
       "      <td>2010</td>\n",
       "      <td>PIT</td>\n",
       "      <td>CRAIG ADAMS</td>\n",
       "      <td>R</td>\n",
       "    </tr>\n",
       "    <tr>\n",
       "      <th>3</th>\n",
       "      <td>2010</td>\n",
       "      <td>VAN</td>\n",
       "      <td>ANDREW ALBERTS</td>\n",
       "      <td>D</td>\n",
       "    </tr>\n",
       "    <tr>\n",
       "      <th>4</th>\n",
       "      <td>2010</td>\n",
       "      <td>OTT</td>\n",
       "      <td>DANIEL ALFREDSSON</td>\n",
       "      <td>R</td>\n",
       "    </tr>\n",
       "  </tbody>\n",
       "</table>\n",
       "</div>"
      ],
      "text/plain": [
       "   Season TeamCode         PlayerName Position\n",
       "0    2010      DET  JUSTIN ABDELKADER        L\n",
       "1    2010      BUF          LUKE ADAM        L\n",
       "2    2010      PIT        CRAIG ADAMS        R\n",
       "3    2010      VAN     ANDREW ALBERTS        D\n",
       "4    2010      OTT  DANIEL ALFREDSSON        R"
      ]
     },
     "execution_count": 244,
     "metadata": {},
     "output_type": "execute_result"
    }
   ],
   "source": [
    "dpos= dpos.rename(columns={ 'Team': 'TeamCode', 'Pos ': 'Position'})\n",
    "dpos['Season'] = 2010\n",
    "dpos = dpos[['Season', 'TeamCode', 'PlayerName', 'Position']]\n",
    "dpos.head()"
   ]
  },
  {
   "cell_type": "code",
   "execution_count": 245,
   "metadata": {
    "collapsed": false
   },
   "outputs": [
    {
     "data": {
      "text/plain": [
       "Season         int64\n",
       "TeamCode      object\n",
       "PlayerName    object\n",
       "Position      object\n",
       "dtype: object"
      ]
     },
     "execution_count": 245,
     "metadata": {},
     "output_type": "execute_result"
    }
   ],
   "source": [
    "dpos.dtypes"
   ]
  },
  {
   "cell_type": "code",
   "execution_count": 246,
   "metadata": {
    "collapsed": false
   },
   "outputs": [
    {
     "data": {
      "text/plain": [
       "W    336\n",
       "D    303\n",
       "C    252\n",
       "G     87\n",
       "Name: Position, dtype: int64"
      ]
     },
     "execution_count": 246,
     "metadata": {},
     "output_type": "execute_result"
    }
   ],
   "source": [
    "dpos['Position'] = dpos.apply(lambda x: 'W' if x['Position'] == 'L' else 'W' if x['Position'] == 'R' else x['Position'] , axis=1)\n",
    "dpos['Position'].value_counts()"
   ]
  },
  {
   "cell_type": "code",
   "execution_count": 247,
   "metadata": {
    "collapsed": false
   },
   "outputs": [
    {
     "data": {
      "text/html": [
       "<div>\n",
       "<table border=\"1\" class=\"dataframe\">\n",
       "  <thead>\n",
       "    <tr style=\"text-align: right;\">\n",
       "      <th></th>\n",
       "      <th>Season</th>\n",
       "      <th>TeamCode</th>\n",
       "      <th>PlayerName</th>\n",
       "      <th>Position</th>\n",
       "    </tr>\n",
       "  </thead>\n",
       "  <tbody>\n",
       "    <tr>\n",
       "      <th>0</th>\n",
       "      <td>2010</td>\n",
       "      <td>DET</td>\n",
       "      <td>JUSTIN ABDELKADER</td>\n",
       "      <td>W</td>\n",
       "    </tr>\n",
       "    <tr>\n",
       "      <th>1</th>\n",
       "      <td>2010</td>\n",
       "      <td>BUF</td>\n",
       "      <td>LUKE ADAM</td>\n",
       "      <td>W</td>\n",
       "    </tr>\n",
       "    <tr>\n",
       "      <th>2</th>\n",
       "      <td>2010</td>\n",
       "      <td>PIT</td>\n",
       "      <td>CRAIG ADAMS</td>\n",
       "      <td>W</td>\n",
       "    </tr>\n",
       "    <tr>\n",
       "      <th>3</th>\n",
       "      <td>2010</td>\n",
       "      <td>VAN</td>\n",
       "      <td>ANDREW ALBERTS</td>\n",
       "      <td>D</td>\n",
       "    </tr>\n",
       "    <tr>\n",
       "      <th>4</th>\n",
       "      <td>2010</td>\n",
       "      <td>OTT</td>\n",
       "      <td>DANIEL ALFREDSSON</td>\n",
       "      <td>W</td>\n",
       "    </tr>\n",
       "  </tbody>\n",
       "</table>\n",
       "</div>"
      ],
      "text/plain": [
       "   Season TeamCode         PlayerName Position\n",
       "0    2010      DET  JUSTIN ABDELKADER        W\n",
       "1    2010      BUF          LUKE ADAM        W\n",
       "2    2010      PIT        CRAIG ADAMS        W\n",
       "3    2010      VAN     ANDREW ALBERTS        D\n",
       "4    2010      OTT  DANIEL ALFREDSSON        W"
      ]
     },
     "execution_count": 247,
     "metadata": {},
     "output_type": "execute_result"
    }
   ],
   "source": [
    "dpos['TeamCode'] = dpos.apply(lambda x: 'L.A' if x['TeamCode'] == 'LAK' else 'N.J' if x['TeamCode'] == 'NJD' else 'S.J' if x['TeamCode'] == 'SJS' else 'T.B' if x['TeamCode'] == 'TBL' else x['TeamCode'] , axis=1)\n",
    "dpos.head()"
   ]
  },
  {
   "cell_type": "code",
   "execution_count": 248,
   "metadata": {
    "collapsed": false
   },
   "outputs": [
    {
     "data": {
      "text/plain": [
       "(978, 4)"
      ]
     },
     "execution_count": 248,
     "metadata": {},
     "output_type": "execute_result"
    }
   ],
   "source": [
    "dpos.shape"
   ]
  },
  {
   "cell_type": "markdown",
   "metadata": {},
   "source": [
    "### merge data frames"
   ]
  },
  {
   "cell_type": "markdown",
   "metadata": {},
   "source": [
    "- merge games played, goals and assists."
   ]
  },
  {
   "cell_type": "code",
   "execution_count": 249,
   "metadata": {
    "collapsed": true
   },
   "outputs": [],
   "source": [
    "dd = pd.merge(s, dpos, on=['Season', 'TeamCode', 'PlayerName'], how='left').merge(dg,on=['Season', 'TeamCode', 'PlayerName'], how = 'left').merge(dast,on=['Season', 'TeamCode', 'PlayerName'], how = 'left')\n"
   ]
  },
  {
   "cell_type": "markdown",
   "metadata": {},
   "source": [
    "- forward and backward fill players that have been traded during the season. Fill in positions for three players."
   ]
  },
  {
   "cell_type": "code",
   "execution_count": 250,
   "metadata": {
    "collapsed": false
   },
   "outputs": [
    {
     "data": {
      "text/html": [
       "<div>\n",
       "<table border=\"1\" class=\"dataframe\">\n",
       "  <thead>\n",
       "    <tr style=\"text-align: right;\">\n",
       "      <th></th>\n",
       "      <th>Season</th>\n",
       "      <th>TeamCode</th>\n",
       "      <th>PlayerName</th>\n",
       "      <th>GP</th>\n",
       "      <th>Position</th>\n",
       "      <th>Goals</th>\n",
       "      <th>Assists</th>\n",
       "    </tr>\n",
       "  </thead>\n",
       "  <tbody>\n",
       "    <tr>\n",
       "      <th>0</th>\n",
       "      <td>2010</td>\n",
       "      <td>MTL</td>\n",
       "      <td>SCOTT GOMEZ</td>\n",
       "      <td>80</td>\n",
       "      <td>C</td>\n",
       "      <td>7.0</td>\n",
       "      <td>31.0</td>\n",
       "    </tr>\n",
       "    <tr>\n",
       "      <th>1</th>\n",
       "      <td>2010</td>\n",
       "      <td>MTL</td>\n",
       "      <td>BRIAN GIONTA</td>\n",
       "      <td>82</td>\n",
       "      <td>W</td>\n",
       "      <td>29.0</td>\n",
       "      <td>17.0</td>\n",
       "    </tr>\n",
       "    <tr>\n",
       "      <th>2</th>\n",
       "      <td>2010</td>\n",
       "      <td>MTL</td>\n",
       "      <td>BENOIT POULIOT</td>\n",
       "      <td>79</td>\n",
       "      <td>W</td>\n",
       "      <td>13.0</td>\n",
       "      <td>17.0</td>\n",
       "    </tr>\n",
       "    <tr>\n",
       "      <th>3</th>\n",
       "      <td>2010</td>\n",
       "      <td>MTL</td>\n",
       "      <td>JOSH GORGES</td>\n",
       "      <td>36</td>\n",
       "      <td>D</td>\n",
       "      <td>1.0</td>\n",
       "      <td>6.0</td>\n",
       "    </tr>\n",
       "    <tr>\n",
       "      <th>4</th>\n",
       "      <td>2010</td>\n",
       "      <td>MTL</td>\n",
       "      <td>HAL GILL</td>\n",
       "      <td>75</td>\n",
       "      <td>D</td>\n",
       "      <td>2.0</td>\n",
       "      <td>7.0</td>\n",
       "    </tr>\n",
       "  </tbody>\n",
       "</table>\n",
       "</div>"
      ],
      "text/plain": [
       "   Season TeamCode      PlayerName  GP Position  Goals  Assists\n",
       "0    2010      MTL     SCOTT GOMEZ  80        C    7.0     31.0\n",
       "1    2010      MTL    BRIAN GIONTA  82        W   29.0     17.0\n",
       "2    2010      MTL  BENOIT POULIOT  79        W   13.0     17.0\n",
       "3    2010      MTL     JOSH GORGES  36        D    1.0      6.0\n",
       "4    2010      MTL        HAL GILL  75        D    2.0      7.0"
      ]
     },
     "execution_count": 250,
     "metadata": {},
     "output_type": "execute_result"
    }
   ],
   "source": [
    "dd['Position'] = dd.groupby(['PlayerName'])['Position'].apply(lambda x: x.ffill().bfill())\n",
    "dd.head()"
   ]
  },
  {
   "cell_type": "code",
   "execution_count": 251,
   "metadata": {
    "collapsed": false
   },
   "outputs": [
    {
     "data": {
      "text/plain": [
       "Season          0\n",
       "TeamCode        0\n",
       "PlayerName      0\n",
       "GP              0\n",
       "Position        0\n",
       "Goals         307\n",
       "Assists       211\n",
       "dtype: int64"
      ]
     },
     "execution_count": 251,
     "metadata": {},
     "output_type": "execute_result"
    }
   ],
   "source": [
    "dd.isnull().sum()"
   ]
  },
  {
   "cell_type": "markdown",
   "metadata": {},
   "source": [
    "- fill in goals and assists with 0 for players who had no points."
   ]
  },
  {
   "cell_type": "code",
   "execution_count": 253,
   "metadata": {
    "collapsed": false
   },
   "outputs": [
    {
     "data": {
      "text/html": [
       "<div>\n",
       "<table border=\"1\" class=\"dataframe\">\n",
       "  <thead>\n",
       "    <tr style=\"text-align: right;\">\n",
       "      <th></th>\n",
       "      <th>Season</th>\n",
       "      <th>TeamCode</th>\n",
       "      <th>PlayerName</th>\n",
       "      <th>GP</th>\n",
       "      <th>Position</th>\n",
       "      <th>Goals</th>\n",
       "      <th>Assists</th>\n",
       "      <th>Points</th>\n",
       "    </tr>\n",
       "  </thead>\n",
       "  <tbody>\n",
       "    <tr>\n",
       "      <th>0</th>\n",
       "      <td>2010</td>\n",
       "      <td>MTL</td>\n",
       "      <td>SCOTT GOMEZ</td>\n",
       "      <td>80</td>\n",
       "      <td>C</td>\n",
       "      <td>7.0</td>\n",
       "      <td>31.0</td>\n",
       "      <td>38.0</td>\n",
       "    </tr>\n",
       "    <tr>\n",
       "      <th>1</th>\n",
       "      <td>2010</td>\n",
       "      <td>MTL</td>\n",
       "      <td>BRIAN GIONTA</td>\n",
       "      <td>82</td>\n",
       "      <td>W</td>\n",
       "      <td>29.0</td>\n",
       "      <td>17.0</td>\n",
       "      <td>46.0</td>\n",
       "    </tr>\n",
       "    <tr>\n",
       "      <th>2</th>\n",
       "      <td>2010</td>\n",
       "      <td>MTL</td>\n",
       "      <td>BENOIT POULIOT</td>\n",
       "      <td>79</td>\n",
       "      <td>W</td>\n",
       "      <td>13.0</td>\n",
       "      <td>17.0</td>\n",
       "      <td>30.0</td>\n",
       "    </tr>\n",
       "    <tr>\n",
       "      <th>3</th>\n",
       "      <td>2010</td>\n",
       "      <td>MTL</td>\n",
       "      <td>JOSH GORGES</td>\n",
       "      <td>36</td>\n",
       "      <td>D</td>\n",
       "      <td>1.0</td>\n",
       "      <td>6.0</td>\n",
       "      <td>7.0</td>\n",
       "    </tr>\n",
       "    <tr>\n",
       "      <th>4</th>\n",
       "      <td>2010</td>\n",
       "      <td>MTL</td>\n",
       "      <td>HAL GILL</td>\n",
       "      <td>75</td>\n",
       "      <td>D</td>\n",
       "      <td>2.0</td>\n",
       "      <td>7.0</td>\n",
       "      <td>9.0</td>\n",
       "    </tr>\n",
       "  </tbody>\n",
       "</table>\n",
       "</div>"
      ],
      "text/plain": [
       "   Season TeamCode      PlayerName  GP Position  Goals  Assists  Points\n",
       "0    2010      MTL     SCOTT GOMEZ  80        C    7.0     31.0    38.0\n",
       "1    2010      MTL    BRIAN GIONTA  82        W   29.0     17.0    46.0\n",
       "2    2010      MTL  BENOIT POULIOT  79        W   13.0     17.0    30.0\n",
       "3    2010      MTL     JOSH GORGES  36        D    1.0      6.0     7.0\n",
       "4    2010      MTL        HAL GILL  75        D    2.0      7.0     9.0"
      ]
     },
     "execution_count": 253,
     "metadata": {},
     "output_type": "execute_result"
    }
   ],
   "source": [
    "dd['Goals'] = dd['Goals'].fillna(0)\n",
    "dd['Assists'] = dd['Assists'].fillna(0)\n",
    "dd['Points'] = dd['Goals'] + dd['Assists']\n",
    "dd.head()"
   ]
  },
  {
   "cell_type": "code",
   "execution_count": 254,
   "metadata": {
    "collapsed": false
   },
   "outputs": [
    {
     "data": {
      "text/plain": [
       "Season        0\n",
       "TeamCode      0\n",
       "PlayerName    0\n",
       "GP            0\n",
       "Position      0\n",
       "Goals         0\n",
       "Assists       0\n",
       "Points        0\n",
       "dtype: int64"
      ]
     },
     "execution_count": 254,
     "metadata": {},
     "output_type": "execute_result"
    }
   ],
   "source": [
    "dd.isnull().sum()"
   ]
  },
  {
   "cell_type": "code",
   "execution_count": 255,
   "metadata": {
    "collapsed": false
   },
   "outputs": [
    {
     "data": {
      "text/html": [
       "<div>\n",
       "<table border=\"1\" class=\"dataframe\">\n",
       "  <thead>\n",
       "    <tr style=\"text-align: right;\">\n",
       "      <th></th>\n",
       "      <th>Season</th>\n",
       "      <th>TeamCode</th>\n",
       "      <th>PlayerName</th>\n",
       "      <th>GP</th>\n",
       "      <th>Position</th>\n",
       "      <th>Goals</th>\n",
       "      <th>Assists</th>\n",
       "      <th>Points</th>\n",
       "      <th>GoalsF</th>\n",
       "      <th>GoalsA</th>\n",
       "      <th>EVGoalsF</th>\n",
       "      <th>EVGoalsA</th>\n",
       "      <th>Plus/Minus</th>\n",
       "      <th>Shots</th>\n",
       "      <th>ShotsF</th>\n",
       "      <th>ShotsA</th>\n",
       "      <th>DShots</th>\n",
       "      <th>EVShotsF</th>\n",
       "      <th>EVShotsA</th>\n",
       "      <th>EVDShots</th>\n",
       "      <th>Blocks</th>\n",
       "      <th>Hits</th>\n",
       "      <th>Penalties</th>\n",
       "      <th>Takeaways</th>\n",
       "      <th>Giveaways</th>\n",
       "      <th>Misses</th>\n",
       "      <th>TOI</th>\n",
       "    </tr>\n",
       "  </thead>\n",
       "  <tbody>\n",
       "    <tr>\n",
       "      <th>0</th>\n",
       "      <td>2010</td>\n",
       "      <td>MTL</td>\n",
       "      <td>SCOTT GOMEZ</td>\n",
       "      <td>80</td>\n",
       "      <td>C</td>\n",
       "      <td>7.0</td>\n",
       "      <td>31.0</td>\n",
       "      <td>38.0</td>\n",
       "      <td>58.0</td>\n",
       "      <td>52.0</td>\n",
       "      <td>34.0</td>\n",
       "      <td>47.0</td>\n",
       "      <td>-13.0</td>\n",
       "      <td>150.0</td>\n",
       "      <td>898.0</td>\n",
       "      <td>693.0</td>\n",
       "      <td>205.0</td>\n",
       "      <td>712.0</td>\n",
       "      <td>638.0</td>\n",
       "      <td>74.0</td>\n",
       "      <td>23.0</td>\n",
       "      <td>32.0</td>\n",
       "      <td>48.0</td>\n",
       "      <td>56.0</td>\n",
       "      <td>28.0</td>\n",
       "      <td>57.0</td>\n",
       "      <td>1485.08</td>\n",
       "    </tr>\n",
       "    <tr>\n",
       "      <th>1</th>\n",
       "      <td>2010</td>\n",
       "      <td>MTL</td>\n",
       "      <td>BRIAN GIONTA</td>\n",
       "      <td>82</td>\n",
       "      <td>W</td>\n",
       "      <td>29.0</td>\n",
       "      <td>17.0</td>\n",
       "      <td>46.0</td>\n",
       "      <td>74.0</td>\n",
       "      <td>55.0</td>\n",
       "      <td>49.0</td>\n",
       "      <td>43.0</td>\n",
       "      <td>6.0</td>\n",
       "      <td>269.0</td>\n",
       "      <td>963.0</td>\n",
       "      <td>739.0</td>\n",
       "      <td>224.0</td>\n",
       "      <td>745.0</td>\n",
       "      <td>618.0</td>\n",
       "      <td>127.0</td>\n",
       "      <td>30.0</td>\n",
       "      <td>87.0</td>\n",
       "      <td>22.0</td>\n",
       "      <td>45.0</td>\n",
       "      <td>27.0</td>\n",
       "      <td>111.0</td>\n",
       "      <td>1608.75</td>\n",
       "    </tr>\n",
       "    <tr>\n",
       "      <th>2</th>\n",
       "      <td>2010</td>\n",
       "      <td>MTL</td>\n",
       "      <td>BENOIT POULIOT</td>\n",
       "      <td>79</td>\n",
       "      <td>W</td>\n",
       "      <td>13.0</td>\n",
       "      <td>17.0</td>\n",
       "      <td>30.0</td>\n",
       "      <td>40.0</td>\n",
       "      <td>33.0</td>\n",
       "      <td>35.0</td>\n",
       "      <td>33.0</td>\n",
       "      <td>2.0</td>\n",
       "      <td>117.0</td>\n",
       "      <td>523.0</td>\n",
       "      <td>415.0</td>\n",
       "      <td>108.0</td>\n",
       "      <td>465.0</td>\n",
       "      <td>413.0</td>\n",
       "      <td>52.0</td>\n",
       "      <td>20.0</td>\n",
       "      <td>110.0</td>\n",
       "      <td>87.0</td>\n",
       "      <td>26.0</td>\n",
       "      <td>14.0</td>\n",
       "      <td>43.0</td>\n",
       "      <td>911.32</td>\n",
       "    </tr>\n",
       "    <tr>\n",
       "      <th>3</th>\n",
       "      <td>2010</td>\n",
       "      <td>MTL</td>\n",
       "      <td>JOSH GORGES</td>\n",
       "      <td>36</td>\n",
       "      <td>D</td>\n",
       "      <td>1.0</td>\n",
       "      <td>6.0</td>\n",
       "      <td>7.0</td>\n",
       "      <td>25.0</td>\n",
       "      <td>35.0</td>\n",
       "      <td>23.0</td>\n",
       "      <td>25.0</td>\n",
       "      <td>-2.0</td>\n",
       "      <td>19.0</td>\n",
       "      <td>297.0</td>\n",
       "      <td>414.0</td>\n",
       "      <td>-117.0</td>\n",
       "      <td>284.0</td>\n",
       "      <td>306.0</td>\n",
       "      <td>-22.0</td>\n",
       "      <td>79.0</td>\n",
       "      <td>55.0</td>\n",
       "      <td>18.0</td>\n",
       "      <td>8.0</td>\n",
       "      <td>24.0</td>\n",
       "      <td>19.0</td>\n",
       "      <td>762.23</td>\n",
       "    </tr>\n",
       "    <tr>\n",
       "      <th>4</th>\n",
       "      <td>2010</td>\n",
       "      <td>MTL</td>\n",
       "      <td>HAL GILL</td>\n",
       "      <td>75</td>\n",
       "      <td>D</td>\n",
       "      <td>2.0</td>\n",
       "      <td>7.0</td>\n",
       "      <td>9.0</td>\n",
       "      <td>41.0</td>\n",
       "      <td>69.0</td>\n",
       "      <td>41.0</td>\n",
       "      <td>50.0</td>\n",
       "      <td>-9.0</td>\n",
       "      <td>60.0</td>\n",
       "      <td>611.0</td>\n",
       "      <td>836.0</td>\n",
       "      <td>-225.0</td>\n",
       "      <td>607.0</td>\n",
       "      <td>593.0</td>\n",
       "      <td>14.0</td>\n",
       "      <td>150.0</td>\n",
       "      <td>75.0</td>\n",
       "      <td>43.0</td>\n",
       "      <td>21.0</td>\n",
       "      <td>62.0</td>\n",
       "      <td>29.0</td>\n",
       "      <td>1486.48</td>\n",
       "    </tr>\n",
       "  </tbody>\n",
       "</table>\n",
       "</div>"
      ],
      "text/plain": [
       "   Season TeamCode      PlayerName  GP Position  Goals  Assists  Points  \\\n",
       "0    2010      MTL     SCOTT GOMEZ  80        C    7.0     31.0    38.0   \n",
       "1    2010      MTL    BRIAN GIONTA  82        W   29.0     17.0    46.0   \n",
       "2    2010      MTL  BENOIT POULIOT  79        W   13.0     17.0    30.0   \n",
       "3    2010      MTL     JOSH GORGES  36        D    1.0      6.0     7.0   \n",
       "4    2010      MTL        HAL GILL  75        D    2.0      7.0     9.0   \n",
       "\n",
       "   GoalsF  GoalsA  EVGoalsF  EVGoalsA  Plus/Minus  Shots  ShotsF  ShotsA  \\\n",
       "0    58.0    52.0      34.0      47.0       -13.0  150.0   898.0   693.0   \n",
       "1    74.0    55.0      49.0      43.0         6.0  269.0   963.0   739.0   \n",
       "2    40.0    33.0      35.0      33.0         2.0  117.0   523.0   415.0   \n",
       "3    25.0    35.0      23.0      25.0        -2.0   19.0   297.0   414.0   \n",
       "4    41.0    69.0      41.0      50.0        -9.0   60.0   611.0   836.0   \n",
       "\n",
       "   DShots  EVShotsF  EVShotsA  EVDShots  Blocks   Hits  Penalties  Takeaways  \\\n",
       "0   205.0     712.0     638.0      74.0    23.0   32.0       48.0       56.0   \n",
       "1   224.0     745.0     618.0     127.0    30.0   87.0       22.0       45.0   \n",
       "2   108.0     465.0     413.0      52.0    20.0  110.0       87.0       26.0   \n",
       "3  -117.0     284.0     306.0     -22.0    79.0   55.0       18.0        8.0   \n",
       "4  -225.0     607.0     593.0      14.0   150.0   75.0       43.0       21.0   \n",
       "\n",
       "   Giveaways  Misses      TOI  \n",
       "0       28.0    57.0  1485.08  \n",
       "1       27.0   111.0  1608.75  \n",
       "2       14.0    43.0   911.32  \n",
       "3       24.0    19.0   762.23  \n",
       "4       62.0    29.0  1486.48  "
      ]
     },
     "execution_count": 255,
     "metadata": {},
     "output_type": "execute_result"
    }
   ],
   "source": [
    "de = pd.merge(dd, gfa,on=['Season', 'TeamCode', 'PlayerName'], how = 'left').merge(ds,on=['Season', 'TeamCode', 'PlayerName'], how = 'left').merge(sa,on=['Season', 'TeamCode', 'PlayerName'], how = 'left').merge(dbl,on=['Season', 'TeamCode', 'PlayerName'], how = 'left').merge(dhit,on=['Season', 'TeamCode', 'PlayerName'], how = 'left').merge(dp,on=['Season', 'TeamCode', 'PlayerName'], how = 'left').merge(dtake,on=['Season', 'TeamCode', 'PlayerName'], how = 'left').merge(dgive,on=['Season', 'TeamCode', 'PlayerName'], how = 'left').merge(dmiss,on=['Season', 'TeamCode', 'PlayerName'], how = 'left').merge(dshift,on=['Season', 'TeamCode', 'PlayerName'], how = 'left')\n",
    "de.head()"
   ]
  },
  {
   "cell_type": "markdown",
   "metadata": {},
   "source": [
    "- fill in with 0 for all nan values since not all players have been on the ice for a goal for or a goal against. "
   ]
  },
  {
   "cell_type": "code",
   "execution_count": 259,
   "metadata": {
    "collapsed": true
   },
   "outputs": [],
   "source": [
    "de['GoalsF'] = de['GoalsF'].fillna(0)\n",
    "de['GoalsA'] = de['GoalsA'].fillna(0)\n",
    "de['EVGoalsF'] = de['EVGoalsF'].fillna(0)\n",
    "de['EVGoalsA'] = de['EVGoalsA'].fillna(0)\n",
    "de['ShotsF'] = de['ShotsF'].fillna(0)\n",
    "de['ShotsA'] = de['ShotsA'].fillna(0)\n",
    "de['DShots'] = de['DShots'].fillna(0)\n",
    "de['EVShotsF'] = de['EVShotsF'].fillna(0)\n",
    "de['EVShotsA'] = de['EVShotsA'].fillna(0)\n",
    "de['EVDShots'] = de['EVDShots'].fillna(0)\n",
    "de['Plus/Minus'] = de['Plus/Minus'].fillna(0)\n",
    "de['Shots'] = de['Shots'].fillna(0)\n",
    "de['Hits'] = de['Hits'].fillna(0)\n",
    "de['Blocks'] = de['Blocks'].fillna(0)\n",
    "de['Penalties'] = de['Penalties'].fillna(0)\n",
    "de['Giveaways'] = de['Giveaways'].fillna(0)\n",
    "de['Takeaways'] = de['Takeaways'].fillna(0)\n",
    "de['Misses'] = de['Misses'].fillna(0)"
   ]
  },
  {
   "cell_type": "code",
   "execution_count": 260,
   "metadata": {
    "collapsed": false
   },
   "outputs": [
    {
     "data": {
      "text/plain": [
       "Season        0\n",
       "TeamCode      0\n",
       "PlayerName    0\n",
       "GP            0\n",
       "Position      0\n",
       "Goals         0\n",
       "Assists       0\n",
       "Points        0\n",
       "GoalsF        0\n",
       "GoalsA        0\n",
       "EVGoalsF      0\n",
       "EVGoalsA      0\n",
       "Plus/Minus    0\n",
       "Shots         0\n",
       "ShotsF        0\n",
       "ShotsA        0\n",
       "DShots        0\n",
       "EVShotsF      0\n",
       "EVShotsA      0\n",
       "EVDShots      0\n",
       "Blocks        0\n",
       "Hits          0\n",
       "Penalties     0\n",
       "Takeaways     0\n",
       "Giveaways     0\n",
       "Misses        0\n",
       "TOI           0\n",
       "dtype: int64"
      ]
     },
     "execution_count": 260,
     "metadata": {},
     "output_type": "execute_result"
    }
   ],
   "source": [
    "de.isnull().sum()"
   ]
  },
  {
   "cell_type": "markdown",
   "metadata": {},
   "source": [
    "### total player stats for the season"
   ]
  },
  {
   "cell_type": "markdown",
   "metadata": {},
   "source": [
    "- - players that have been traded need to be evaluated for their season performance. Group by sesaon and player name to calcute the sum of each stat. "
   ]
  },
  {
   "cell_type": "code",
   "execution_count": 261,
   "metadata": {
    "collapsed": true
   },
   "outputs": [],
   "source": [
    "de['TGP'] = de.groupby(['Season', 'PlayerName'])['GP'].transform('sum')\n",
    "de['TGoals'] = de.groupby(['Season', 'PlayerName'])['Goals'].transform('sum')\n",
    "de['TAssists'] = de.groupby(['Season', 'PlayerName'])['Assists'].transform('sum')\n",
    "de['TPoints'] = de.groupby(['Season', 'PlayerName'])['Points'].transform('sum')\n",
    "de['TGoalsF'] = de.groupby(['Season', 'PlayerName'])['GoalsF'].transform('sum')\n",
    "de['TGoalsA'] = de.groupby(['Season', 'PlayerName'])['GoalsA'].transform('sum')\n",
    "de['TEVGoalsF'] = de.groupby(['Season', 'PlayerName'])['EVGoalsF'].transform('sum')\n",
    "de['TEVGoalsA'] = de.groupby(['Season', 'PlayerName'])['EVGoalsA'].transform('sum')\n",
    "de['TPlus/Minus'] = de.groupby(['Season', 'PlayerName'])['Plus/Minus'].transform('sum')\n",
    "de['TShots'] = de.groupby(['Season', 'PlayerName'])['Shots'].transform('sum')\n",
    "de['TShotsF'] = de.groupby(['Season', 'PlayerName'])['ShotsF'].transform('sum')\n",
    "de['TShotsA'] = de.groupby(['Season', 'PlayerName'])['ShotsA'].transform('sum')\n",
    "de['TDShots'] = de.groupby(['Season', 'PlayerName'])['DShots'].transform('sum')\n",
    "de['TEVShotsF'] = de.groupby(['Season', 'PlayerName'])['EVShotsF'].transform('sum')\n",
    "de['TEVShotsA'] = de.groupby(['Season', 'PlayerName'])['EVShotsA'].transform('sum')\n",
    "de['TEVDShots'] = de.groupby(['Season', 'PlayerName'])['EVDShots'].transform('sum')\n",
    "de['TBlocks'] = de.groupby(['Season', 'PlayerName'])['Blocks'].transform('sum')\n",
    "de['THits'] = de.groupby(['Season', 'PlayerName'])['Hits'].transform('sum')\n",
    "de['TPenalties'] = de.groupby(['Season', 'PlayerName'])['Penalties'].transform('sum')\n",
    "de['TTakeaways'] = de.groupby(['Season', 'PlayerName'])['Takeaways'].transform('sum')\n",
    "de['TGiveaways'] = de.groupby(['Season', 'PlayerName'])['Giveaways'].transform('sum')\n",
    "de['TMisses'] = de.groupby(['Season', 'PlayerName'])['Misses'].transform('sum')\n",
    "de['TTOI'] = de.groupby(['Season', 'PlayerName'])['TOI'].transform('sum')"
   ]
  },
  {
   "cell_type": "markdown",
   "metadata": {},
   "source": [
    "- divide all stats with total time on ice to scale the data for cluster analysis"
   ]
  },
  {
   "cell_type": "code",
   "execution_count": 262,
   "metadata": {
    "collapsed": true
   },
   "outputs": [],
   "source": [
    "de['TOIGoals'] = de['TGoals'] / de['TTOI']\n",
    "de['TOIAssists'] = de['TAssists'] / de['TTOI']\n",
    "de['TOIPoints'] = de['TPoints'] / de['TTOI']\n",
    "de['TOIGoalsF'] = de['TGoalsF'] / de['TTOI']\n",
    "de['TOIGoalsA'] = de['TGoalsA'] / de['TTOI']\n",
    "de['TOIEVGoalsF'] = de['TEVGoalsF'] / de['TTOI']\n",
    "de['TOIEVGoalsA'] = de['TEVGoalsA'] / de['TTOI']\n",
    "de['TOIPlus/Minus'] = de['TPlus/Minus'] / de['TTOI']\n",
    "de['TOIShots'] = de['TShots'] / de['TTOI']\n",
    "de['TOIShotsF'] = de['TShotsF'] / de['TTOI']\n",
    "de['TOIShotsA'] = de['TShotsA'] / de['TTOI']\n",
    "de['TOIDShots'] = de['TDShots'] / de['TTOI']\n",
    "de['TOIEVShotsF'] = de['TEVShotsF'] / de['TTOI']\n",
    "de['TOIEVShotsA'] = de['TEVShotsA'] / de['TTOI']\n",
    "de['TOIEVDShots'] = de['TEVDShots'] / de['TTOI']\n",
    "de['TOIBlocks'] = de['TBlocks'] / de['TTOI']\n",
    "de['TOIHits'] = de['THits'] / de['TTOI']\n",
    "de['TOIPenalties'] = de['TPenalties'] / de['TTOI']\n",
    "de['TOITakeaways'] = de['TTakeaways'] / de['TTOI']\n",
    "de['TOIGiveaways'] = de['TGiveaways'] / de['TTOI']\n",
    "de['TOIMisses'] = de['TMisses'] / de['TTOI']"
   ]
  },
  {
   "cell_type": "markdown",
   "metadata": {},
   "source": [
    "- keep season total variables and scaled variables"
   ]
  },
  {
   "cell_type": "code",
   "execution_count": 263,
   "metadata": {
    "collapsed": false
   },
   "outputs": [
    {
     "data": {
      "text/html": [
       "<div>\n",
       "<table border=\"1\" class=\"dataframe\">\n",
       "  <thead>\n",
       "    <tr style=\"text-align: right;\">\n",
       "      <th></th>\n",
       "      <th>Season</th>\n",
       "      <th>TeamCode</th>\n",
       "      <th>PlayerName</th>\n",
       "      <th>Position</th>\n",
       "      <th>TGP</th>\n",
       "      <th>TGoals</th>\n",
       "      <th>TAssists</th>\n",
       "      <th>TPoints</th>\n",
       "      <th>TGoalsF</th>\n",
       "      <th>TGoalsA</th>\n",
       "      <th>TEVGoalsF</th>\n",
       "      <th>TEVGoalsA</th>\n",
       "      <th>TPlus/Minus</th>\n",
       "      <th>TShots</th>\n",
       "      <th>TShotsF</th>\n",
       "      <th>TShotsA</th>\n",
       "      <th>TDShots</th>\n",
       "      <th>TEVShotsF</th>\n",
       "      <th>TEVShotsA</th>\n",
       "      <th>TEVDShots</th>\n",
       "      <th>TBlocks</th>\n",
       "      <th>THits</th>\n",
       "      <th>TPenalties</th>\n",
       "      <th>TTakeaways</th>\n",
       "      <th>TGiveaways</th>\n",
       "      <th>TMisses</th>\n",
       "      <th>TTOI</th>\n",
       "      <th>TOIGoals</th>\n",
       "      <th>TOIAssists</th>\n",
       "      <th>TOIPoints</th>\n",
       "      <th>TOIGoalsF</th>\n",
       "      <th>TOIGoalsA</th>\n",
       "      <th>TOIEVGoalsF</th>\n",
       "      <th>TOIEVGoalsA</th>\n",
       "      <th>TOIPlus/Minus</th>\n",
       "      <th>TOIShots</th>\n",
       "      <th>TOIShotsF</th>\n",
       "      <th>TOIShotsA</th>\n",
       "      <th>TOIDShots</th>\n",
       "      <th>TOIEVShotsF</th>\n",
       "      <th>TOIEVShotsA</th>\n",
       "      <th>TOIEVDShots</th>\n",
       "      <th>TOIBlocks</th>\n",
       "      <th>TOIHits</th>\n",
       "      <th>TOIPenalties</th>\n",
       "      <th>TOITakeaways</th>\n",
       "      <th>TOIGiveaways</th>\n",
       "      <th>TOIMisses</th>\n",
       "    </tr>\n",
       "  </thead>\n",
       "  <tbody>\n",
       "    <tr>\n",
       "      <th>0</th>\n",
       "      <td>2010</td>\n",
       "      <td>MTL</td>\n",
       "      <td>SCOTT GOMEZ</td>\n",
       "      <td>C</td>\n",
       "      <td>80</td>\n",
       "      <td>7.0</td>\n",
       "      <td>31.0</td>\n",
       "      <td>38.0</td>\n",
       "      <td>58.0</td>\n",
       "      <td>52.0</td>\n",
       "      <td>34.0</td>\n",
       "      <td>47.0</td>\n",
       "      <td>-13.0</td>\n",
       "      <td>150.0</td>\n",
       "      <td>898.0</td>\n",
       "      <td>693.0</td>\n",
       "      <td>205.0</td>\n",
       "      <td>712.0</td>\n",
       "      <td>638.0</td>\n",
       "      <td>74.0</td>\n",
       "      <td>23.0</td>\n",
       "      <td>32.0</td>\n",
       "      <td>48.0</td>\n",
       "      <td>56.0</td>\n",
       "      <td>28.0</td>\n",
       "      <td>57.0</td>\n",
       "      <td>1485.08</td>\n",
       "      <td>0.004714</td>\n",
       "      <td>0.020874</td>\n",
       "      <td>0.025588</td>\n",
       "      <td>0.039055</td>\n",
       "      <td>0.035015</td>\n",
       "      <td>0.022894</td>\n",
       "      <td>0.031648</td>\n",
       "      <td>-0.008754</td>\n",
       "      <td>0.101005</td>\n",
       "      <td>0.604681</td>\n",
       "      <td>0.466642</td>\n",
       "      <td>0.138040</td>\n",
       "      <td>0.479435</td>\n",
       "      <td>0.429606</td>\n",
       "      <td>0.049829</td>\n",
       "      <td>0.015487</td>\n",
       "      <td>0.021548</td>\n",
       "      <td>0.032321</td>\n",
       "      <td>0.037708</td>\n",
       "      <td>0.018854</td>\n",
       "      <td>0.038382</td>\n",
       "    </tr>\n",
       "    <tr>\n",
       "      <th>1</th>\n",
       "      <td>2010</td>\n",
       "      <td>MTL</td>\n",
       "      <td>BRIAN GIONTA</td>\n",
       "      <td>W</td>\n",
       "      <td>82</td>\n",
       "      <td>29.0</td>\n",
       "      <td>17.0</td>\n",
       "      <td>46.0</td>\n",
       "      <td>74.0</td>\n",
       "      <td>55.0</td>\n",
       "      <td>49.0</td>\n",
       "      <td>43.0</td>\n",
       "      <td>6.0</td>\n",
       "      <td>269.0</td>\n",
       "      <td>963.0</td>\n",
       "      <td>739.0</td>\n",
       "      <td>224.0</td>\n",
       "      <td>745.0</td>\n",
       "      <td>618.0</td>\n",
       "      <td>127.0</td>\n",
       "      <td>30.0</td>\n",
       "      <td>87.0</td>\n",
       "      <td>22.0</td>\n",
       "      <td>45.0</td>\n",
       "      <td>27.0</td>\n",
       "      <td>111.0</td>\n",
       "      <td>1608.75</td>\n",
       "      <td>0.018026</td>\n",
       "      <td>0.010567</td>\n",
       "      <td>0.028594</td>\n",
       "      <td>0.045998</td>\n",
       "      <td>0.034188</td>\n",
       "      <td>0.030458</td>\n",
       "      <td>0.026729</td>\n",
       "      <td>0.003730</td>\n",
       "      <td>0.167211</td>\n",
       "      <td>0.598601</td>\n",
       "      <td>0.459363</td>\n",
       "      <td>0.139239</td>\n",
       "      <td>0.463092</td>\n",
       "      <td>0.384149</td>\n",
       "      <td>0.078943</td>\n",
       "      <td>0.018648</td>\n",
       "      <td>0.054079</td>\n",
       "      <td>0.013675</td>\n",
       "      <td>0.027972</td>\n",
       "      <td>0.016783</td>\n",
       "      <td>0.068998</td>\n",
       "    </tr>\n",
       "    <tr>\n",
       "      <th>2</th>\n",
       "      <td>2010</td>\n",
       "      <td>MTL</td>\n",
       "      <td>BENOIT POULIOT</td>\n",
       "      <td>W</td>\n",
       "      <td>79</td>\n",
       "      <td>13.0</td>\n",
       "      <td>17.0</td>\n",
       "      <td>30.0</td>\n",
       "      <td>40.0</td>\n",
       "      <td>33.0</td>\n",
       "      <td>35.0</td>\n",
       "      <td>33.0</td>\n",
       "      <td>2.0</td>\n",
       "      <td>117.0</td>\n",
       "      <td>523.0</td>\n",
       "      <td>415.0</td>\n",
       "      <td>108.0</td>\n",
       "      <td>465.0</td>\n",
       "      <td>413.0</td>\n",
       "      <td>52.0</td>\n",
       "      <td>20.0</td>\n",
       "      <td>110.0</td>\n",
       "      <td>87.0</td>\n",
       "      <td>26.0</td>\n",
       "      <td>14.0</td>\n",
       "      <td>43.0</td>\n",
       "      <td>911.32</td>\n",
       "      <td>0.014265</td>\n",
       "      <td>0.018654</td>\n",
       "      <td>0.032919</td>\n",
       "      <td>0.043892</td>\n",
       "      <td>0.036211</td>\n",
       "      <td>0.038406</td>\n",
       "      <td>0.036211</td>\n",
       "      <td>0.002195</td>\n",
       "      <td>0.128385</td>\n",
       "      <td>0.573893</td>\n",
       "      <td>0.455383</td>\n",
       "      <td>0.118509</td>\n",
       "      <td>0.510249</td>\n",
       "      <td>0.453189</td>\n",
       "      <td>0.057060</td>\n",
       "      <td>0.021946</td>\n",
       "      <td>0.120704</td>\n",
       "      <td>0.095466</td>\n",
       "      <td>0.028530</td>\n",
       "      <td>0.015362</td>\n",
       "      <td>0.047184</td>\n",
       "    </tr>\n",
       "    <tr>\n",
       "      <th>3</th>\n",
       "      <td>2010</td>\n",
       "      <td>MTL</td>\n",
       "      <td>JOSH GORGES</td>\n",
       "      <td>D</td>\n",
       "      <td>36</td>\n",
       "      <td>1.0</td>\n",
       "      <td>6.0</td>\n",
       "      <td>7.0</td>\n",
       "      <td>25.0</td>\n",
       "      <td>35.0</td>\n",
       "      <td>23.0</td>\n",
       "      <td>25.0</td>\n",
       "      <td>-2.0</td>\n",
       "      <td>19.0</td>\n",
       "      <td>297.0</td>\n",
       "      <td>414.0</td>\n",
       "      <td>-117.0</td>\n",
       "      <td>284.0</td>\n",
       "      <td>306.0</td>\n",
       "      <td>-22.0</td>\n",
       "      <td>79.0</td>\n",
       "      <td>55.0</td>\n",
       "      <td>18.0</td>\n",
       "      <td>8.0</td>\n",
       "      <td>24.0</td>\n",
       "      <td>19.0</td>\n",
       "      <td>762.23</td>\n",
       "      <td>0.001312</td>\n",
       "      <td>0.007872</td>\n",
       "      <td>0.009184</td>\n",
       "      <td>0.032798</td>\n",
       "      <td>0.045918</td>\n",
       "      <td>0.030175</td>\n",
       "      <td>0.032798</td>\n",
       "      <td>-0.002624</td>\n",
       "      <td>0.024927</td>\n",
       "      <td>0.389646</td>\n",
       "      <td>0.543143</td>\n",
       "      <td>-0.153497</td>\n",
       "      <td>0.372591</td>\n",
       "      <td>0.401454</td>\n",
       "      <td>-0.028863</td>\n",
       "      <td>0.103643</td>\n",
       "      <td>0.072157</td>\n",
       "      <td>0.023615</td>\n",
       "      <td>0.010496</td>\n",
       "      <td>0.031487</td>\n",
       "      <td>0.024927</td>\n",
       "    </tr>\n",
       "    <tr>\n",
       "      <th>4</th>\n",
       "      <td>2010</td>\n",
       "      <td>MTL</td>\n",
       "      <td>HAL GILL</td>\n",
       "      <td>D</td>\n",
       "      <td>75</td>\n",
       "      <td>2.0</td>\n",
       "      <td>7.0</td>\n",
       "      <td>9.0</td>\n",
       "      <td>41.0</td>\n",
       "      <td>69.0</td>\n",
       "      <td>41.0</td>\n",
       "      <td>50.0</td>\n",
       "      <td>-9.0</td>\n",
       "      <td>60.0</td>\n",
       "      <td>611.0</td>\n",
       "      <td>836.0</td>\n",
       "      <td>-225.0</td>\n",
       "      <td>607.0</td>\n",
       "      <td>593.0</td>\n",
       "      <td>14.0</td>\n",
       "      <td>150.0</td>\n",
       "      <td>75.0</td>\n",
       "      <td>43.0</td>\n",
       "      <td>21.0</td>\n",
       "      <td>62.0</td>\n",
       "      <td>29.0</td>\n",
       "      <td>1486.48</td>\n",
       "      <td>0.001345</td>\n",
       "      <td>0.004709</td>\n",
       "      <td>0.006055</td>\n",
       "      <td>0.027582</td>\n",
       "      <td>0.046418</td>\n",
       "      <td>0.027582</td>\n",
       "      <td>0.033637</td>\n",
       "      <td>-0.006055</td>\n",
       "      <td>0.040364</td>\n",
       "      <td>0.411038</td>\n",
       "      <td>0.562402</td>\n",
       "      <td>-0.151364</td>\n",
       "      <td>0.408347</td>\n",
       "      <td>0.398929</td>\n",
       "      <td>0.009418</td>\n",
       "      <td>0.100910</td>\n",
       "      <td>0.050455</td>\n",
       "      <td>0.028927</td>\n",
       "      <td>0.014127</td>\n",
       "      <td>0.041709</td>\n",
       "      <td>0.019509</td>\n",
       "    </tr>\n",
       "  </tbody>\n",
       "</table>\n",
       "</div>"
      ],
      "text/plain": [
       "   Season TeamCode      PlayerName Position  TGP  TGoals  TAssists  TPoints  \\\n",
       "0    2010      MTL     SCOTT GOMEZ        C   80     7.0      31.0     38.0   \n",
       "1    2010      MTL    BRIAN GIONTA        W   82    29.0      17.0     46.0   \n",
       "2    2010      MTL  BENOIT POULIOT        W   79    13.0      17.0     30.0   \n",
       "3    2010      MTL     JOSH GORGES        D   36     1.0       6.0      7.0   \n",
       "4    2010      MTL        HAL GILL        D   75     2.0       7.0      9.0   \n",
       "\n",
       "   TGoalsF  TGoalsA  TEVGoalsF  TEVGoalsA  TPlus/Minus  TShots  TShotsF  \\\n",
       "0     58.0     52.0       34.0       47.0        -13.0   150.0    898.0   \n",
       "1     74.0     55.0       49.0       43.0          6.0   269.0    963.0   \n",
       "2     40.0     33.0       35.0       33.0          2.0   117.0    523.0   \n",
       "3     25.0     35.0       23.0       25.0         -2.0    19.0    297.0   \n",
       "4     41.0     69.0       41.0       50.0         -9.0    60.0    611.0   \n",
       "\n",
       "   TShotsA  TDShots  TEVShotsF  TEVShotsA  TEVDShots  TBlocks  THits  \\\n",
       "0    693.0    205.0      712.0      638.0       74.0     23.0   32.0   \n",
       "1    739.0    224.0      745.0      618.0      127.0     30.0   87.0   \n",
       "2    415.0    108.0      465.0      413.0       52.0     20.0  110.0   \n",
       "3    414.0   -117.0      284.0      306.0      -22.0     79.0   55.0   \n",
       "4    836.0   -225.0      607.0      593.0       14.0    150.0   75.0   \n",
       "\n",
       "   TPenalties  TTakeaways  TGiveaways  TMisses     TTOI  TOIGoals  TOIAssists  \\\n",
       "0        48.0        56.0        28.0     57.0  1485.08  0.004714    0.020874   \n",
       "1        22.0        45.0        27.0    111.0  1608.75  0.018026    0.010567   \n",
       "2        87.0        26.0        14.0     43.0   911.32  0.014265    0.018654   \n",
       "3        18.0         8.0        24.0     19.0   762.23  0.001312    0.007872   \n",
       "4        43.0        21.0        62.0     29.0  1486.48  0.001345    0.004709   \n",
       "\n",
       "   TOIPoints  TOIGoalsF  TOIGoalsA  TOIEVGoalsF  TOIEVGoalsA  TOIPlus/Minus  \\\n",
       "0   0.025588   0.039055   0.035015     0.022894     0.031648      -0.008754   \n",
       "1   0.028594   0.045998   0.034188     0.030458     0.026729       0.003730   \n",
       "2   0.032919   0.043892   0.036211     0.038406     0.036211       0.002195   \n",
       "3   0.009184   0.032798   0.045918     0.030175     0.032798      -0.002624   \n",
       "4   0.006055   0.027582   0.046418     0.027582     0.033637      -0.006055   \n",
       "\n",
       "   TOIShots  TOIShotsF  TOIShotsA  TOIDShots  TOIEVShotsF  TOIEVShotsA  \\\n",
       "0  0.101005   0.604681   0.466642   0.138040     0.479435     0.429606   \n",
       "1  0.167211   0.598601   0.459363   0.139239     0.463092     0.384149   \n",
       "2  0.128385   0.573893   0.455383   0.118509     0.510249     0.453189   \n",
       "3  0.024927   0.389646   0.543143  -0.153497     0.372591     0.401454   \n",
       "4  0.040364   0.411038   0.562402  -0.151364     0.408347     0.398929   \n",
       "\n",
       "   TOIEVDShots  TOIBlocks   TOIHits  TOIPenalties  TOITakeaways  TOIGiveaways  \\\n",
       "0     0.049829   0.015487  0.021548      0.032321      0.037708      0.018854   \n",
       "1     0.078943   0.018648  0.054079      0.013675      0.027972      0.016783   \n",
       "2     0.057060   0.021946  0.120704      0.095466      0.028530      0.015362   \n",
       "3    -0.028863   0.103643  0.072157      0.023615      0.010496      0.031487   \n",
       "4     0.009418   0.100910  0.050455      0.028927      0.014127      0.041709   \n",
       "\n",
       "   TOIMisses  \n",
       "0   0.038382  \n",
       "1   0.068998  \n",
       "2   0.047184  \n",
       "3   0.024927  \n",
       "4   0.019509  "
      ]
     },
     "execution_count": 263,
     "metadata": {},
     "output_type": "execute_result"
    }
   ],
   "source": [
    "de = de[['Season', 'TeamCode', 'PlayerName', 'Position', 'TGP', 'TGoals', 'TAssists', 'TPoints', 'TGoalsF', 'TGoalsA', 'TEVGoalsF', 'TEVGoalsA', 'TPlus/Minus', 'TShots', 'TShotsF', 'TShotsA', 'TDShots', 'TEVShotsF', 'TEVShotsA', 'TEVDShots', 'TBlocks', 'THits', 'TPenalties', 'TTakeaways', 'TGiveaways', 'TMisses', 'TTOI', 'TOIGoals', 'TOIAssists', 'TOIPoints', 'TOIGoalsF', 'TOIGoalsA', 'TOIEVGoalsF', 'TOIEVGoalsA', 'TOIPlus/Minus', 'TOIShots', 'TOIShotsF', 'TOIShotsA', 'TOIDShots', 'TOIEVShotsF', 'TOIEVShotsA', 'TOIEVDShots', 'TOIBlocks', 'TOIHits', 'TOIPenalties', 'TOITakeaways', 'TOIGiveaways', 'TOIMisses']]\n",
    "de.head()"
   ]
  },
  {
   "cell_type": "code",
   "execution_count": 264,
   "metadata": {
    "collapsed": true
   },
   "outputs": [],
   "source": [
    "de.to_csv('/Users/stefanostselios/Brock University/Kevin Mongeon - StephanosShare/out/stats/2010_player_stats.csv', index='False', sep=',')\n",
    "#de = pd.read_csv('/Users/kevinmongeon/Brock University/Steve Tselios - StephanosShare/out/stats/2010_player_stats.csv', index='False', sep=',')"
   ]
  },
  {
   "cell_type": "code",
   "execution_count": null,
   "metadata": {
    "collapsed": true
   },
   "outputs": [],
   "source": []
  }
 ],
 "metadata": {
  "kernelspec": {
   "display_name": "Python 3",
   "language": "python",
   "name": "python3"
  },
  "language_info": {
   "codemirror_mode": {
    "name": "ipython",
    "version": 3
   },
   "file_extension": ".py",
   "mimetype": "text/x-python",
   "name": "python",
   "nbconvert_exporter": "python",
   "pygments_lexer": "ipython3",
   "version": "3.6.0"
  }
 },
 "nbformat": 4,
 "nbformat_minor": 2
}
