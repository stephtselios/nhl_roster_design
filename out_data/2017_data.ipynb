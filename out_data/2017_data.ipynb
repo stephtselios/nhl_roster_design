{
 "cells": [
  {
   "cell_type": "markdown",
   "metadata": {},
   "source": [
    "## 2016 play by play data"
   ]
  },
  {
   "cell_type": "code",
   "execution_count": 1,
   "metadata": {
    "collapsed": true
   },
   "outputs": [],
   "source": [
    "import sys\n",
    "import os\n",
    "import pandas as pd\n",
    "import numpy as np\n",
    "import datetime, time\n",
    "import matplotlib.pyplot as plt\n",
    "from matplotlib.backends.backend_pdf import PdfPages\n",
    "import matplotlib.cm as cm\n",
    "import statsmodels.api as sm\n",
    "from statsmodels.formula.api import ols\n",
    "from pylab import hist, show\n",
    "import scipy\n",
    "import zipfile\n",
    "from sklearn.cluster import KMeans\n",
    "from sklearn import metrics\n",
    "from sklearn.preprocessing import MinMaxScaler\n",
    "from sklearn.preprocessing import StandardScaler\n",
    "from sklearn.decomposition import PCA\n",
    "from scipy.cluster.hierarchy import linkage, dendrogram\n",
    "from scipy.cluster.hierarchy import cophenet\n",
    "from scipy.spatial.distance import pdist\n",
    "import seaborn as sn\n",
    "from sklearn.metrics import silhouette_samples, silhouette_score\n",
    "\n",
    "\n",
    "sys.setrecursionlimit(100000)\n",
    "pd.set_option('display.max_rows', 50)\n",
    "pd.set_option('display.max_columns', 200)"
   ]
  },
  {
   "cell_type": "markdown",
   "metadata": {},
   "source": [
    "### import 2017 nhl data set"
   ]
  },
  {
   "cell_type": "code",
   "execution_count": 2,
   "metadata": {
    "collapsed": false
   },
   "outputs": [],
   "source": [
    "da = pd.read_csv('/Users/stefanostselios/Brock University/Kevin Mongeon - StephanosShare/data/nhl_pbp20172018.csv')\n",
    "#da = pd.read_csv('/Users/kevinmongeon/Brock University/Steve Tselios - StephanosShare/data/nhl_pbp20172018.csv')\n",
    "da = da.drop('Unnamed: 0', axis=1)"
   ]
  },
  {
   "cell_type": "markdown",
   "metadata": {},
   "source": [
    "- rename columns and create a season variable"
   ]
  },
  {
   "cell_type": "code",
   "execution_count": 3,
   "metadata": {
    "collapsed": false
   },
   "outputs": [],
   "source": [
    "da['Season'] = 2017\n",
    "da = da.rename(columns={ 'Game_Id' : 'GameNumber', 'Ev_Zone': 'EventZone', 'Time_Elapsed': 'Time', 'Ev_Team': 'EventTeamCode', 'Description': 'EventDetail', 'Away_Team': 'ATeamCode', 'Home_Team':'HTeamCode', 'p1_name': 'EventPlayer1','p2_name': 'EventPlayer2', 'p3_name': 'EventPlayer3', 'awayPlayer1': 'APlayer1', 'awayPlayer2': 'APlayer2', 'awayPlayer3': 'APlayer3', 'awayPlayer4': 'APlayer4', 'awayPlayer5': 'APlayer5', 'awayPlayer6': 'APlayer6', 'homePlayer1': 'HPlayer1', 'homePlayer2': 'HPlayer2', 'homePlayer3': 'HPlayer3','homePlayer4': 'HPlayer4', 'homePlayer5': 'HPlayer5','homePlayer6': 'HPlayer6', 'Away_Score': 'AGoals', 'Home_Score': 'HGoals', 'Away_Goalie': 'AGoalie', 'Home_Goalie': 'HGoalie', 'Away_Players': 'PlayersA', 'Home_Players': 'PlayersH' })\n",
    "da = da[['Season', 'GameNumber', 'Date', 'Period', 'Time', 'Strength', 'Event', 'EventDetail', 'EventTeamCode', 'EventPlayer1', 'EventPlayer2', 'EventPlayer3', 'ATeamCode', 'APlayer1', 'APlayer2', 'APlayer3', 'APlayer4', 'APlayer5', 'APlayer6', 'AGoalie', 'PlayersA', 'HTeamCode', 'HPlayer1', 'HPlayer2', 'HPlayer3', 'HPlayer4', 'HPlayer5', 'HPlayer6', 'HGoalie', 'PlayersH']]\n",
    "da = da.sort_values(['Season', 'GameNumber', 'Period', 'Time'], ascending=[True, True, True, True])"
   ]
  },
  {
   "cell_type": "markdown",
   "metadata": {},
   "source": [
    "- keep only regular season games and exclude irrelevant on-ice events"
   ]
  },
  {
   "cell_type": "code",
   "execution_count": 4,
   "metadata": {
    "collapsed": false
   },
   "outputs": [],
   "source": [
    "da = da[da['GameNumber'] <= 21271]\n",
    "da = da[da['Period'] <= 4]\n",
    "da = da[da['Period'] >= 1]\n",
    "da = da[da['Event']!='STOP']\n",
    "da = da[da['Event']!='EISTR']\n",
    "da = da[da['Event']!='EIEND']\n",
    "da = da[da['Event']!='PSTR']\n",
    "da = da[da['Event']!='PEND']\n",
    "da = da[da['Event']!='SOC']\n",
    "da = da[da['Event']!='GEND']"
   ]
  },
  {
   "cell_type": "markdown",
   "metadata": {},
   "source": [
    "- create an event number variable that will count the number of events per game. \n",
    "- create an advantage type variable for even strength, power play and short handed situations."
   ]
  },
  {
   "cell_type": "code",
   "execution_count": 5,
   "metadata": {
    "collapsed": true
   },
   "outputs": [],
   "source": [
    "da['EventNumber'] = da.groupby(['Season', 'GameNumber']).cumcount()+1"
   ]
  },
  {
   "cell_type": "code",
   "execution_count": 6,
   "metadata": {
    "collapsed": true
   },
   "outputs": [],
   "source": [
    "da['AdvantageType'] = da.apply(lambda x: 'EV' if ((x['PlayersA'] == x['PlayersH']) & (x['PlayersA'] != 1) & (x['PlayersH'] != 1)) else 'PP' if ((x['PlayersA'] > x['PlayersH']) & (x['EventTeamCode'] == x['ATeamCode'])) else 'PP' if ((x['PlayersA'] < x['PlayersH']) & (x['EventTeamCode'] == x['HTeamCode'])) else 'SH' if ((x['PlayersA'] < x['PlayersH']) & (x['EventTeamCode'] == x['ATeamCode'])) else 'SH' if ((x['PlayersA'] > x['PlayersH']) & (x['EventTeamCode'] == x['HTeamCode'])) else 'PP' if ((x['PlayersA'] == 1 ) & (x['PlayersH'] == 1)) else np.nan, axis=1) "
   ]
  },
  {
   "cell_type": "code",
   "execution_count": 7,
   "metadata": {
    "collapsed": false
   },
   "outputs": [
    {
     "data": {
      "text/plain": [
       "EV    287925\n",
       "PP     34368\n",
       "SH     15327\n",
       "Name: AdvantageType, dtype: int64"
      ]
     },
     "execution_count": 7,
     "metadata": {},
     "output_type": "execute_result"
    }
   ],
   "source": [
    "da['AdvantageType'].value_counts()"
   ]
  },
  {
   "cell_type": "markdown",
   "metadata": {},
   "source": [
    "- reshape data from wide to long for away team players and home team players"
   ]
  },
  {
   "cell_type": "code",
   "execution_count": 8,
   "metadata": {
    "collapsed": false
   },
   "outputs": [
    {
     "data": {
      "text/html": [
       "<div>\n",
       "<table border=\"1\" class=\"dataframe\">\n",
       "  <thead>\n",
       "    <tr style=\"text-align: right;\">\n",
       "      <th></th>\n",
       "      <th>AGoalie</th>\n",
       "      <th>ATeamCode</th>\n",
       "      <th>AdvantageType</th>\n",
       "      <th>Date</th>\n",
       "      <th>Event</th>\n",
       "      <th>EventDetail</th>\n",
       "      <th>EventNumber</th>\n",
       "      <th>EventPlayer1</th>\n",
       "      <th>EventPlayer2</th>\n",
       "      <th>EventPlayer3</th>\n",
       "      <th>EventTeamCode</th>\n",
       "      <th>GameNumber</th>\n",
       "      <th>HGoalie</th>\n",
       "      <th>HTeamCode</th>\n",
       "      <th>Period</th>\n",
       "      <th>PlayersA</th>\n",
       "      <th>PlayersH</th>\n",
       "      <th>Season</th>\n",
       "      <th>Strength</th>\n",
       "      <th>Time</th>\n",
       "      <th>APlayer</th>\n",
       "      <th>HPlayer</th>\n",
       "    </tr>\n",
       "  </thead>\n",
       "  <tbody>\n",
       "    <tr>\n",
       "      <th>0</th>\n",
       "      <td>FREDERIK ANDERSEN</td>\n",
       "      <td>TOR</td>\n",
       "      <td>EV</td>\n",
       "      <td>2017-10-04</td>\n",
       "      <td>FAC</td>\n",
       "      <td>TOR won Neu. Zone - TOR #43 KADRI vs WPG #55 S...</td>\n",
       "      <td>4</td>\n",
       "      <td>NAZEM KADRI</td>\n",
       "      <td>MARK SCHEIFELE</td>\n",
       "      <td>NaN</td>\n",
       "      <td>TOR</td>\n",
       "      <td>20001</td>\n",
       "      <td>STEVE MASON</td>\n",
       "      <td>WPG</td>\n",
       "      <td>1</td>\n",
       "      <td>6</td>\n",
       "      <td>6</td>\n",
       "      <td>2017</td>\n",
       "      <td>5x5</td>\n",
       "      <td>0:00</td>\n",
       "      <td>PATRICK MARLEAU</td>\n",
       "      <td>MARK SCHEIFELE</td>\n",
       "    </tr>\n",
       "    <tr>\n",
       "      <th>1</th>\n",
       "      <td>FREDERIK ANDERSEN</td>\n",
       "      <td>TOR</td>\n",
       "      <td>EV</td>\n",
       "      <td>2017-10-04</td>\n",
       "      <td>BLOCK</td>\n",
       "      <td>TOR #43 KADRI BLOCKED BY  WPG #39 ENSTROM, Wri...</td>\n",
       "      <td>5</td>\n",
       "      <td>TOBIAS ENSTROM</td>\n",
       "      <td>NAZEM KADRI</td>\n",
       "      <td>NaN</td>\n",
       "      <td>TOR</td>\n",
       "      <td>20001</td>\n",
       "      <td>STEVE MASON</td>\n",
       "      <td>WPG</td>\n",
       "      <td>1</td>\n",
       "      <td>6</td>\n",
       "      <td>6</td>\n",
       "      <td>2017</td>\n",
       "      <td>5x5</td>\n",
       "      <td>0:12</td>\n",
       "      <td>PATRICK MARLEAU</td>\n",
       "      <td>MARK SCHEIFELE</td>\n",
       "    </tr>\n",
       "    <tr>\n",
       "      <th>2</th>\n",
       "      <td>FREDERIK ANDERSEN</td>\n",
       "      <td>TOR</td>\n",
       "      <td>EV</td>\n",
       "      <td>2017-10-04</td>\n",
       "      <td>SHOT</td>\n",
       "      <td>WPG ONGOAL - #44 MORRISSEY, Wrist, Off. Zone, ...</td>\n",
       "      <td>6</td>\n",
       "      <td>JOSH MORRISSEY</td>\n",
       "      <td>NaN</td>\n",
       "      <td>NaN</td>\n",
       "      <td>WPG</td>\n",
       "      <td>20001</td>\n",
       "      <td>STEVE MASON</td>\n",
       "      <td>WPG</td>\n",
       "      <td>1</td>\n",
       "      <td>6</td>\n",
       "      <td>6</td>\n",
       "      <td>2017</td>\n",
       "      <td>5x5</td>\n",
       "      <td>0:38</td>\n",
       "      <td>PATRICK MARLEAU</td>\n",
       "      <td>SHAWN MATTHIAS</td>\n",
       "    </tr>\n",
       "    <tr>\n",
       "      <th>3</th>\n",
       "      <td>FREDERIK ANDERSEN</td>\n",
       "      <td>TOR</td>\n",
       "      <td>EV</td>\n",
       "      <td>2017-10-04</td>\n",
       "      <td>HIT</td>\n",
       "      <td>TOR #47 KOMAROV HIT WPG #44 MORRISSEY, Def. Zone</td>\n",
       "      <td>7</td>\n",
       "      <td>LEO KOMAROV</td>\n",
       "      <td>JOSH MORRISSEY</td>\n",
       "      <td>NaN</td>\n",
       "      <td>TOR</td>\n",
       "      <td>20001</td>\n",
       "      <td>STEVE MASON</td>\n",
       "      <td>WPG</td>\n",
       "      <td>1</td>\n",
       "      <td>6</td>\n",
       "      <td>6</td>\n",
       "      <td>2017</td>\n",
       "      <td>5x5</td>\n",
       "      <td>0:41</td>\n",
       "      <td>TYLER BOZAK</td>\n",
       "      <td>SHAWN MATTHIAS</td>\n",
       "    </tr>\n",
       "    <tr>\n",
       "      <th>4</th>\n",
       "      <td>FREDERIK ANDERSEN</td>\n",
       "      <td>TOR</td>\n",
       "      <td>EV</td>\n",
       "      <td>2017-10-04</td>\n",
       "      <td>SHOT</td>\n",
       "      <td>WPG ONGOAL - #16 MATTHIAS, Wrist, Off. Zone, 1...</td>\n",
       "      <td>8</td>\n",
       "      <td>SHAWN MATTHIAS</td>\n",
       "      <td>NaN</td>\n",
       "      <td>NaN</td>\n",
       "      <td>WPG</td>\n",
       "      <td>20001</td>\n",
       "      <td>STEVE MASON</td>\n",
       "      <td>WPG</td>\n",
       "      <td>1</td>\n",
       "      <td>6</td>\n",
       "      <td>6</td>\n",
       "      <td>2017</td>\n",
       "      <td>5x5</td>\n",
       "      <td>0:49</td>\n",
       "      <td>TYLER BOZAK</td>\n",
       "      <td>SHAWN MATTHIAS</td>\n",
       "    </tr>\n",
       "  </tbody>\n",
       "</table>\n",
       "</div>"
      ],
      "text/plain": [
       "             AGoalie ATeamCode AdvantageType        Date  Event  \\\n",
       "0  FREDERIK ANDERSEN       TOR            EV  2017-10-04    FAC   \n",
       "1  FREDERIK ANDERSEN       TOR            EV  2017-10-04  BLOCK   \n",
       "2  FREDERIK ANDERSEN       TOR            EV  2017-10-04   SHOT   \n",
       "3  FREDERIK ANDERSEN       TOR            EV  2017-10-04    HIT   \n",
       "4  FREDERIK ANDERSEN       TOR            EV  2017-10-04   SHOT   \n",
       "\n",
       "                                         EventDetail  EventNumber  \\\n",
       "0  TOR won Neu. Zone - TOR #43 KADRI vs WPG #55 S...            4   \n",
       "1  TOR #43 KADRI BLOCKED BY  WPG #39 ENSTROM, Wri...            5   \n",
       "2  WPG ONGOAL - #44 MORRISSEY, Wrist, Off. Zone, ...            6   \n",
       "3   TOR #47 KOMAROV HIT WPG #44 MORRISSEY, Def. Zone            7   \n",
       "4  WPG ONGOAL - #16 MATTHIAS, Wrist, Off. Zone, 1...            8   \n",
       "\n",
       "     EventPlayer1    EventPlayer2 EventPlayer3 EventTeamCode  GameNumber  \\\n",
       "0     NAZEM KADRI  MARK SCHEIFELE          NaN           TOR       20001   \n",
       "1  TOBIAS ENSTROM     NAZEM KADRI          NaN           TOR       20001   \n",
       "2  JOSH MORRISSEY             NaN          NaN           WPG       20001   \n",
       "3     LEO KOMAROV  JOSH MORRISSEY          NaN           TOR       20001   \n",
       "4  SHAWN MATTHIAS             NaN          NaN           WPG       20001   \n",
       "\n",
       "       HGoalie HTeamCode  Period  PlayersA  PlayersH  Season Strength  Time  \\\n",
       "0  STEVE MASON       WPG       1         6         6    2017      5x5  0:00   \n",
       "1  STEVE MASON       WPG       1         6         6    2017      5x5  0:12   \n",
       "2  STEVE MASON       WPG       1         6         6    2017      5x5  0:38   \n",
       "3  STEVE MASON       WPG       1         6         6    2017      5x5  0:41   \n",
       "4  STEVE MASON       WPG       1         6         6    2017      5x5  0:49   \n",
       "\n",
       "           APlayer         HPlayer  \n",
       "0  PATRICK MARLEAU  MARK SCHEIFELE  \n",
       "1  PATRICK MARLEAU  MARK SCHEIFELE  \n",
       "2  PATRICK MARLEAU  SHAWN MATTHIAS  \n",
       "3      TYLER BOZAK  SHAWN MATTHIAS  \n",
       "4      TYLER BOZAK  SHAWN MATTHIAS  "
      ]
     },
     "execution_count": 8,
     "metadata": {},
     "output_type": "execute_result"
    }
   ],
   "source": [
    "db = da.copy()\n",
    "a = [col for col in db.columns if 'APlayer' in col]\n",
    "b = [col for col in db.columns if 'HPlayer' in col]\n",
    "db = pd.lreshape(db, {'APlayer' : a, 'HPlayer' : b })\n",
    "db.head()"
   ]
  },
  {
   "cell_type": "code",
   "execution_count": 9,
   "metadata": {
    "collapsed": false
   },
   "outputs": [],
   "source": [
    "db = db[['Season', 'GameNumber', 'Date', 'Period', 'Time', 'AdvantageType', 'Strength', 'EventNumber', 'Event', 'EventDetail', 'EventTeamCode', 'EventPlayer1', 'EventPlayer2', 'EventPlayer3', 'ATeamCode', 'APlayer', 'AGoalie', 'PlayersA', 'HTeamCode', 'HPlayer', 'HGoalie', 'PlayersH']]\n",
    "db = db.sort_values(['Season', 'GameNumber', 'Period', 'Time'], ascending=[True, True, True, True])"
   ]
  },
  {
   "cell_type": "markdown",
   "metadata": {},
   "source": [
    "- reshape data from wide to long for away and home team code and player respectfully."
   ]
  },
  {
   "cell_type": "code",
   "execution_count": 10,
   "metadata": {
    "collapsed": false
   },
   "outputs": [],
   "source": [
    "dc = db.copy()\n",
    "dc = dc.rename(columns={'EventTeamCode': 'EventTeam', 'EventPlayer1': 'EventP1', 'EventPlayer2': 'EventP2', 'EventPlayer3': 'EventP3', 'PlayersA':'PA', 'PlayersH': 'PH'})"
   ]
  },
  {
   "cell_type": "code",
   "execution_count": 11,
   "metadata": {
    "collapsed": true
   },
   "outputs": [],
   "source": [
    "a = [col for col in dc.columns if 'Code' in col]\n",
    "b = [col for col in dc.columns if 'Player' in col]\n",
    "c = [col for col in dc.columns if 'Goalie' in col]\n",
    "d = [col for col in dc.columns if 'Position' in col]\n",
    "dc = pd.lreshape(dc, {'TeamCode' : a, 'PlayerName' : b, 'Goalie': c})"
   ]
  },
  {
   "cell_type": "code",
   "execution_count": 12,
   "metadata": {
    "collapsed": false
   },
   "outputs": [],
   "source": [
    "dc = dc.rename(columns={'EventTeam': 'EventTeamCode', 'EventP1': 'EventPlayer1', 'EventP2': 'EventPlayer2', 'EventP3': 'EventPlayer3', 'PA':'PlayersA', 'PH': 'PlayersH'})"
   ]
  },
  {
   "cell_type": "code",
   "execution_count": 13,
   "metadata": {
    "collapsed": false
   },
   "outputs": [
    {
     "data": {
      "text/plain": [
       "(3838847, 19)"
      ]
     },
     "execution_count": 13,
     "metadata": {},
     "output_type": "execute_result"
    }
   ],
   "source": [
    "dc.shape"
   ]
  },
  {
   "cell_type": "markdown",
   "metadata": {},
   "source": [
    "### games played"
   ]
  },
  {
   "cell_type": "markdown",
   "metadata": {},
   "source": [
    "- calculate the games each player participated in for the duration of the 2017 regular season."
   ]
  },
  {
   "cell_type": "code",
   "execution_count": 14,
   "metadata": {
    "collapsed": true
   },
   "outputs": [],
   "source": [
    "s = dc.copy()\n",
    "s = s[['Season', 'GameNumber', 'TeamCode', 'PlayerName']]\n",
    "s = s.sort_values(['Season', 'GameNumber', 'TeamCode'], ascending=[True, True, True])\n",
    "s = s.drop_duplicates(['Season', 'GameNumber', 'TeamCode', 'PlayerName'])"
   ]
  },
  {
   "cell_type": "code",
   "execution_count": 15,
   "metadata": {
    "collapsed": false
   },
   "outputs": [
    {
     "data": {
      "text/html": [
       "<div>\n",
       "<table border=\"1\" class=\"dataframe\">\n",
       "  <thead>\n",
       "    <tr style=\"text-align: right;\">\n",
       "      <th></th>\n",
       "      <th>Season</th>\n",
       "      <th>TeamCode</th>\n",
       "      <th>PlayerName</th>\n",
       "      <th>GP</th>\n",
       "    </tr>\n",
       "  </thead>\n",
       "  <tbody>\n",
       "    <tr>\n",
       "      <th>0</th>\n",
       "      <td>2017</td>\n",
       "      <td>TOR</td>\n",
       "      <td>PATRICK MARLEAU</td>\n",
       "      <td>82</td>\n",
       "    </tr>\n",
       "    <tr>\n",
       "      <th>1</th>\n",
       "      <td>2017</td>\n",
       "      <td>TOR</td>\n",
       "      <td>NAZEM KADRI</td>\n",
       "      <td>80</td>\n",
       "    </tr>\n",
       "    <tr>\n",
       "      <th>2</th>\n",
       "      <td>2017</td>\n",
       "      <td>TOR</td>\n",
       "      <td>LEO KOMAROV</td>\n",
       "      <td>74</td>\n",
       "    </tr>\n",
       "    <tr>\n",
       "      <th>3</th>\n",
       "      <td>2017</td>\n",
       "      <td>TOR</td>\n",
       "      <td>NIKITA ZAITSEV</td>\n",
       "      <td>60</td>\n",
       "    </tr>\n",
       "    <tr>\n",
       "      <th>4</th>\n",
       "      <td>2017</td>\n",
       "      <td>TOR</td>\n",
       "      <td>JAKE GARDINER</td>\n",
       "      <td>82</td>\n",
       "    </tr>\n",
       "  </tbody>\n",
       "</table>\n",
       "</div>"
      ],
      "text/plain": [
       "   Season TeamCode       PlayerName  GP\n",
       "0    2017      TOR  PATRICK MARLEAU  82\n",
       "1    2017      TOR      NAZEM KADRI  80\n",
       "2    2017      TOR      LEO KOMAROV  74\n",
       "3    2017      TOR   NIKITA ZAITSEV  60\n",
       "4    2017      TOR    JAKE GARDINER  82"
      ]
     },
     "execution_count": 15,
     "metadata": {},
     "output_type": "execute_result"
    }
   ],
   "source": [
    "s['GP'] = s.groupby(['Season', 'TeamCode','PlayerName'])['GameNumber'].transform('count')\n",
    "s = s.drop_duplicates(['Season', 'TeamCode', 'PlayerName'])\n",
    "s = s[['Season', 'TeamCode', 'PlayerName', 'GP']]\n",
    "s.head()"
   ]
  },
  {
   "cell_type": "code",
   "execution_count": 16,
   "metadata": {
    "collapsed": false
   },
   "outputs": [
    {
     "data": {
      "text/plain": [
       "Season        0\n",
       "TeamCode      0\n",
       "PlayerName    0\n",
       "GP            0\n",
       "dtype: int64"
      ]
     },
     "execution_count": 16,
     "metadata": {},
     "output_type": "execute_result"
    }
   ],
   "source": [
    "s.isnull().sum()"
   ]
  },
  {
   "cell_type": "code",
   "execution_count": 17,
   "metadata": {
    "collapsed": false
   },
   "outputs": [
    {
     "data": {
      "text/plain": [
       "(1067, 4)"
      ]
     },
     "execution_count": 17,
     "metadata": {},
     "output_type": "execute_result"
    }
   ],
   "source": [
    "s.shape"
   ]
  },
  {
   "cell_type": "markdown",
   "metadata": {},
   "source": [
    "### shots for and against"
   ]
  },
  {
   "cell_type": "markdown",
   "metadata": {},
   "source": [
    "- calculate the shots against each player faced througout the duration of a season. \n",
    "- create shot for and shot against variables. If event team code is indiferrent to team code assign a value of 1. If not, assign a value of 0. \n",
    "- **goals are a result of a shot and therefore need to be added to a player's shot total**. Display total shots per player for a season."
   ]
  },
  {
   "cell_type": "code",
   "execution_count": 19,
   "metadata": {
    "collapsed": false
   },
   "outputs": [],
   "source": [
    "sa = dc.copy()\n",
    "sa = sa[sa['Event'].isin(['SHOT','GOAL'])]"
   ]
  },
  {
   "cell_type": "code",
   "execution_count": 20,
   "metadata": {
    "collapsed": false
   },
   "outputs": [],
   "source": [
    "sa['ShotF'] = sa.apply(lambda x: 1 if x['EventTeamCode'] == x['TeamCode'] else 0, axis=1)\n",
    "sa['ShotsF'] = sa.groupby(['Season', 'TeamCode', 'PlayerName'])['ShotF'].transform('sum')\n",
    "\n",
    "sa['ShotA'] = sa.apply(lambda x: 1 if x['EventTeamCode'] != x['TeamCode'] else 0, axis=1)\n",
    "sa['ShotsA'] = sa.groupby(['Season', 'TeamCode', 'PlayerName'])['ShotA'].transform('sum')"
   ]
  },
  {
   "cell_type": "markdown",
   "metadata": {},
   "source": [
    "- create shot for and shot against variables for even strength situations only. If event team code is indiferrent to team code assign a value of 1. If not, assign a value of 0. \n",
    "- **goals are a result of a shot and therefore need to be added to a player's shot total**. Display total shots per player for a season."
   ]
  },
  {
   "cell_type": "code",
   "execution_count": 21,
   "metadata": {
    "collapsed": false
   },
   "outputs": [],
   "source": [
    "sa['EVShotF'] = sa.apply(lambda x: 1 if ((x['AdvantageType'] == 'EV') & (x['EventTeamCode'] == x['TeamCode'])) else 1 if ((x['AdvantageType'] == 'SH') & (x['EventTeamCode'] == x['TeamCode'])) else 0, axis=1)\n",
    "sa['EVShotsF'] = sa.groupby(['Season', 'TeamCode', 'PlayerName'])['EVShotF'].transform('sum')\n",
    "\n",
    "sa['EVShotA'] = sa.apply(lambda x: 1 if ((x['AdvantageType'] == 'EV') & (x['EventTeamCode'] != x['TeamCode'])) else 1 if ((x['AdvantageType'] == 'SH') & (x['EventTeamCode'] != x['TeamCode'])) else 0, axis=1)\n",
    "sa['EVShotsA'] = sa.groupby(['Season', 'TeamCode', 'PlayerName'])['EVShotA'].transform('sum')"
   ]
  },
  {
   "cell_type": "markdown",
   "metadata": {},
   "source": [
    "- calculate the shot differential for all shots and even strength shots."
   ]
  },
  {
   "cell_type": "code",
   "execution_count": 22,
   "metadata": {
    "collapsed": true
   },
   "outputs": [],
   "source": [
    "sa['DShots'] = sa['ShotsF'] - sa['ShotsA']\n",
    "sa['EVDShots'] = sa['EVShotsF'] - sa['EVShotsA']"
   ]
  },
  {
   "cell_type": "code",
   "execution_count": 23,
   "metadata": {
    "collapsed": false
   },
   "outputs": [
    {
     "data": {
      "text/html": [
       "<div>\n",
       "<table border=\"1\" class=\"dataframe\">\n",
       "  <thead>\n",
       "    <tr style=\"text-align: right;\">\n",
       "      <th></th>\n",
       "      <th>Season</th>\n",
       "      <th>TeamCode</th>\n",
       "      <th>PlayerName</th>\n",
       "      <th>ShotsF</th>\n",
       "      <th>ShotsA</th>\n",
       "      <th>DShots</th>\n",
       "      <th>EVShotsF</th>\n",
       "      <th>EVShotsA</th>\n",
       "      <th>EVDShots</th>\n",
       "    </tr>\n",
       "  </thead>\n",
       "  <tbody>\n",
       "    <tr>\n",
       "      <th>12</th>\n",
       "      <td>2017</td>\n",
       "      <td>TOR</td>\n",
       "      <td>PATRICK MARLEAU</td>\n",
       "      <td>749</td>\n",
       "      <td>730</td>\n",
       "      <td>19</td>\n",
       "      <td>607</td>\n",
       "      <td>703</td>\n",
       "      <td>-96</td>\n",
       "    </tr>\n",
       "    <tr>\n",
       "      <th>13</th>\n",
       "      <td>2017</td>\n",
       "      <td>TOR</td>\n",
       "      <td>NAZEM KADRI</td>\n",
       "      <td>811</td>\n",
       "      <td>714</td>\n",
       "      <td>97</td>\n",
       "      <td>597</td>\n",
       "      <td>712</td>\n",
       "      <td>-115</td>\n",
       "    </tr>\n",
       "    <tr>\n",
       "      <th>14</th>\n",
       "      <td>2017</td>\n",
       "      <td>TOR</td>\n",
       "      <td>LEO KOMAROV</td>\n",
       "      <td>508</td>\n",
       "      <td>710</td>\n",
       "      <td>-202</td>\n",
       "      <td>463</td>\n",
       "      <td>525</td>\n",
       "      <td>-62</td>\n",
       "    </tr>\n",
       "    <tr>\n",
       "      <th>15</th>\n",
       "      <td>2017</td>\n",
       "      <td>TOR</td>\n",
       "      <td>NIKITA ZAITSEV</td>\n",
       "      <td>556</td>\n",
       "      <td>827</td>\n",
       "      <td>-271</td>\n",
       "      <td>549</td>\n",
       "      <td>655</td>\n",
       "      <td>-106</td>\n",
       "    </tr>\n",
       "    <tr>\n",
       "      <th>16</th>\n",
       "      <td>2017</td>\n",
       "      <td>TOR</td>\n",
       "      <td>JAKE GARDINER</td>\n",
       "      <td>965</td>\n",
       "      <td>935</td>\n",
       "      <td>30</td>\n",
       "      <td>806</td>\n",
       "      <td>902</td>\n",
       "      <td>-96</td>\n",
       "    </tr>\n",
       "  </tbody>\n",
       "</table>\n",
       "</div>"
      ],
      "text/plain": [
       "    Season TeamCode       PlayerName  ShotsF  ShotsA  DShots  EVShotsF  \\\n",
       "12    2017      TOR  PATRICK MARLEAU     749     730      19       607   \n",
       "13    2017      TOR      NAZEM KADRI     811     714      97       597   \n",
       "14    2017      TOR      LEO KOMAROV     508     710    -202       463   \n",
       "15    2017      TOR   NIKITA ZAITSEV     556     827    -271       549   \n",
       "16    2017      TOR    JAKE GARDINER     965     935      30       806   \n",
       "\n",
       "    EVShotsA  EVDShots  \n",
       "12       703       -96  \n",
       "13       712      -115  \n",
       "14       525       -62  \n",
       "15       655      -106  \n",
       "16       902       -96  "
      ]
     },
     "execution_count": 23,
     "metadata": {},
     "output_type": "execute_result"
    }
   ],
   "source": [
    "sa = sa [['Season', 'TeamCode', 'PlayerName', 'ShotsF', 'ShotsA', 'DShots', 'EVShotsF', 'EVShotsA', 'EVDShots' ]]\n",
    "sa = sa.drop_duplicates(['Season', 'TeamCode', 'PlayerName'])\n",
    "sa.head()"
   ]
  },
  {
   "cell_type": "code",
   "execution_count": 24,
   "metadata": {
    "collapsed": false
   },
   "outputs": [
    {
     "data": {
      "text/plain": [
       "Season        0\n",
       "TeamCode      0\n",
       "PlayerName    0\n",
       "ShotsF        0\n",
       "ShotsA        0\n",
       "DShots        0\n",
       "EVShotsF      0\n",
       "EVShotsA      0\n",
       "EVDShots      0\n",
       "dtype: int64"
      ]
     },
     "execution_count": 24,
     "metadata": {},
     "output_type": "execute_result"
    }
   ],
   "source": [
    "sa.isnull().sum()"
   ]
  },
  {
   "cell_type": "code",
   "execution_count": 25,
   "metadata": {
    "collapsed": false
   },
   "outputs": [
    {
     "data": {
      "text/plain": [
       "(1067, 9)"
      ]
     },
     "execution_count": 25,
     "metadata": {},
     "output_type": "execute_result"
    }
   ],
   "source": [
    "sa.shape"
   ]
  },
  {
   "cell_type": "markdown",
   "metadata": {},
   "source": [
    "### goals for and against"
   ]
  },
  {
   "cell_type": "markdown",
   "metadata": {},
   "source": [
    "- create goals for and goals against variable. If event team code is the same as team code assign a value of 1 for goals for and a value of 0 for goals against. If event team code is different to team code, assign a value of 0 for golas for and a value of 1 for goals against. Display total goals for and against per player for a season."
   ]
  },
  {
   "cell_type": "code",
   "execution_count": 26,
   "metadata": {
    "collapsed": true
   },
   "outputs": [],
   "source": [
    "gfa = dc.copy()\n",
    "gfa = gfa[gfa['Event'] == 'GOAL']"
   ]
  },
  {
   "cell_type": "code",
   "execution_count": 27,
   "metadata": {
    "collapsed": true
   },
   "outputs": [],
   "source": [
    "gfa['EVGoalF'] = gfa.apply(lambda x: 1 if ((x['AdvantageType'] == 'EV') & (x['EventTeamCode'] == x['TeamCode'])) else 1 if ((x['AdvantageType'] == 'SH') & (x['EventTeamCode'] == x['TeamCode'])) else 0, axis=1)\n",
    "gfa['EVGoalA'] = gfa.apply(lambda x: 1 if ((x['AdvantageType'] == 'EV') & (x['EventTeamCode'] != x['TeamCode'])) else 1 if ((x['AdvantageType'] == 'SH') & (x['EventTeamCode'] != x['TeamCode'])) else 0, axis=1)"
   ]
  },
  {
   "cell_type": "code",
   "execution_count": 28,
   "metadata": {
    "collapsed": true
   },
   "outputs": [],
   "source": [
    "gfa['GoalF'] = gfa.apply(lambda x: 1 if (x['EventTeamCode'] == x['TeamCode']) else 0, axis=1)\n",
    "gfa['GoalA'] = gfa.apply(lambda x: 1 if (x['EventTeamCode'] != x['TeamCode']) else 0, axis=1)"
   ]
  },
  {
   "cell_type": "code",
   "execution_count": 29,
   "metadata": {
    "collapsed": true
   },
   "outputs": [],
   "source": [
    "gfa['EVGoalsF'] = gfa.groupby(['Season', 'TeamCode', 'PlayerName'])['EVGoalF'].transform('sum')\n",
    "gfa['EVGoalsA'] = gfa.groupby(['Season', 'TeamCode', 'PlayerName'])['EVGoalA'].transform('sum')\n",
    "gfa['GoalsF'] = gfa.groupby(['Season', 'TeamCode', 'PlayerName'])['GoalF'].transform('sum')\n",
    "gfa['GoalsA'] = gfa.groupby(['Season', 'TeamCode', 'PlayerName'])['GoalA'].transform('sum')"
   ]
  },
  {
   "cell_type": "code",
   "execution_count": 30,
   "metadata": {
    "collapsed": false
   },
   "outputs": [
    {
     "data": {
      "text/html": [
       "<div>\n",
       "<table border=\"1\" class=\"dataframe\">\n",
       "  <thead>\n",
       "    <tr style=\"text-align: right;\">\n",
       "      <th></th>\n",
       "      <th>Season</th>\n",
       "      <th>TeamCode</th>\n",
       "      <th>PlayerName</th>\n",
       "      <th>GoalsF</th>\n",
       "      <th>GoalsA</th>\n",
       "      <th>EVGoalsF</th>\n",
       "      <th>EVGoalsA</th>\n",
       "      <th>Plus/Minus</th>\n",
       "    </tr>\n",
       "  </thead>\n",
       "  <tbody>\n",
       "    <tr>\n",
       "      <th>159</th>\n",
       "      <td>2017</td>\n",
       "      <td>TOR</td>\n",
       "      <td>MITCHELL MARNER</td>\n",
       "      <td>86</td>\n",
       "      <td>53</td>\n",
       "      <td>50</td>\n",
       "      <td>51</td>\n",
       "      <td>-1</td>\n",
       "    </tr>\n",
       "    <tr>\n",
       "      <th>161</th>\n",
       "      <td>2017</td>\n",
       "      <td>TOR</td>\n",
       "      <td>TYLER BOZAK</td>\n",
       "      <td>80</td>\n",
       "      <td>42</td>\n",
       "      <td>45</td>\n",
       "      <td>42</td>\n",
       "      <td>3</td>\n",
       "    </tr>\n",
       "    <tr>\n",
       "      <th>163</th>\n",
       "      <td>2017</td>\n",
       "      <td>TOR</td>\n",
       "      <td>NAZEM KADRI</td>\n",
       "      <td>88</td>\n",
       "      <td>52</td>\n",
       "      <td>54</td>\n",
       "      <td>52</td>\n",
       "      <td>2</td>\n",
       "    </tr>\n",
       "    <tr>\n",
       "      <th>165</th>\n",
       "      <td>2017</td>\n",
       "      <td>TOR</td>\n",
       "      <td>JAMES VAN RIEMSDYK</td>\n",
       "      <td>82</td>\n",
       "      <td>47</td>\n",
       "      <td>44</td>\n",
       "      <td>47</td>\n",
       "      <td>-3</td>\n",
       "    </tr>\n",
       "    <tr>\n",
       "      <th>167</th>\n",
       "      <td>2017</td>\n",
       "      <td>TOR</td>\n",
       "      <td>MORGAN RIELLY</td>\n",
       "      <td>97</td>\n",
       "      <td>78</td>\n",
       "      <td>66</td>\n",
       "      <td>65</td>\n",
       "      <td>1</td>\n",
       "    </tr>\n",
       "  </tbody>\n",
       "</table>\n",
       "</div>"
      ],
      "text/plain": [
       "     Season TeamCode          PlayerName  GoalsF  GoalsA  EVGoalsF  EVGoalsA  \\\n",
       "159    2017      TOR     MITCHELL MARNER      86      53        50        51   \n",
       "161    2017      TOR         TYLER BOZAK      80      42        45        42   \n",
       "163    2017      TOR         NAZEM KADRI      88      52        54        52   \n",
       "165    2017      TOR  JAMES VAN RIEMSDYK      82      47        44        47   \n",
       "167    2017      TOR       MORGAN RIELLY      97      78        66        65   \n",
       "\n",
       "     Plus/Minus  \n",
       "159          -1  \n",
       "161           3  \n",
       "163           2  \n",
       "165          -3  \n",
       "167           1  "
      ]
     },
     "execution_count": 30,
     "metadata": {},
     "output_type": "execute_result"
    }
   ],
   "source": [
    "gfa = gfa[['Season', 'GameNumber', 'TeamCode', 'PlayerName' , 'GoalsF', 'GoalsA', 'EVGoalsF', 'EVGoalsA']]\n",
    "gfa = gfa.drop_duplicates(['Season', 'GameNumber', 'TeamCode', 'PlayerName'])\n",
    "gfa['Plus/Minus'] = gfa['EVGoalsF'] - gfa['EVGoalsA']\n",
    "gfa = gfa.drop_duplicates(['Season', 'TeamCode', 'PlayerName'])\n",
    "gfa = gfa[['Season', 'TeamCode', 'PlayerName' , 'GoalsF', 'GoalsA', 'EVGoalsF', 'EVGoalsA', 'Plus/Minus']]\n",
    "gfa.head()"
   ]
  },
  {
   "cell_type": "code",
   "execution_count": 31,
   "metadata": {
    "collapsed": false
   },
   "outputs": [
    {
     "data": {
      "text/plain": [
       "(1036, 8)"
      ]
     },
     "execution_count": 31,
     "metadata": {},
     "output_type": "execute_result"
    }
   ],
   "source": [
    "gfa.shape"
   ]
  },
  {
   "cell_type": "markdown",
   "metadata": {},
   "source": [
    "### create dataframes for all on-ice event types"
   ]
  },
  {
   "cell_type": "markdown",
   "metadata": {},
   "source": [
    "#### goals dataframe (dg)"
   ]
  },
  {
   "cell_type": "code",
   "execution_count": 32,
   "metadata": {
    "collapsed": true
   },
   "outputs": [],
   "source": [
    "dg = dc.copy()\n",
    "dg = dg[dg['Event'] == 'GOAL']"
   ]
  },
  {
   "cell_type": "code",
   "execution_count": 33,
   "metadata": {
    "collapsed": false
   },
   "outputs": [],
   "source": [
    "dg = dg[['Season', 'GameNumber', 'EventNumber', 'Event', 'EventTeamCode', 'EventPlayer1']]\n",
    "dg = dg.rename(columns={'EventPlayer1': 'PlayerName', 'EventTeamCode':'TeamCode'})"
   ]
  },
  {
   "cell_type": "markdown",
   "metadata": {},
   "source": [
    "- create a goal variable. If event type is a goal assign a value of 1. If not, assign a value of 0. Display total goals per player for a season."
   ]
  },
  {
   "cell_type": "code",
   "execution_count": 34,
   "metadata": {
    "collapsed": false
   },
   "outputs": [],
   "source": [
    "dg['Goal'] = dg.apply(lambda x: 1 if (x['Event'] == 'GOAL') else 0, axis=1)\n",
    "dg = dg.drop_duplicates(['Season', 'GameNumber', 'EventNumber', 'TeamCode', 'PlayerName'])\n",
    "dg['Goals'] = dg.groupby(['Season','TeamCode', 'PlayerName'])['Goal'].transform('sum')"
   ]
  },
  {
   "cell_type": "markdown",
   "metadata": {},
   "source": [
    "- keep one observation per player by game and drop duplicates. This purpose of this step is to calculate the quantity of games per player for a season. "
   ]
  },
  {
   "cell_type": "code",
   "execution_count": 35,
   "metadata": {
    "collapsed": false
   },
   "outputs": [
    {
     "data": {
      "text/html": [
       "<div>\n",
       "<table border=\"1\" class=\"dataframe\">\n",
       "  <thead>\n",
       "    <tr style=\"text-align: right;\">\n",
       "      <th></th>\n",
       "      <th>Season</th>\n",
       "      <th>TeamCode</th>\n",
       "      <th>PlayerName</th>\n",
       "      <th>Goals</th>\n",
       "    </tr>\n",
       "  </thead>\n",
       "  <tbody>\n",
       "    <tr>\n",
       "      <th>159</th>\n",
       "      <td>2017</td>\n",
       "      <td>TOR</td>\n",
       "      <td>NAZEM KADRI</td>\n",
       "      <td>32</td>\n",
       "    </tr>\n",
       "    <tr>\n",
       "      <th>236</th>\n",
       "      <td>2017</td>\n",
       "      <td>TOR</td>\n",
       "      <td>JAMES VAN RIEMSDYK</td>\n",
       "      <td>36</td>\n",
       "    </tr>\n",
       "    <tr>\n",
       "      <th>254</th>\n",
       "      <td>2017</td>\n",
       "      <td>TOR</td>\n",
       "      <td>WILLIAM NYLANDER</td>\n",
       "      <td>20</td>\n",
       "    </tr>\n",
       "    <tr>\n",
       "      <th>974</th>\n",
       "      <td>2017</td>\n",
       "      <td>TOR</td>\n",
       "      <td>PATRICK MARLEAU</td>\n",
       "      <td>27</td>\n",
       "    </tr>\n",
       "    <tr>\n",
       "      <th>1078</th>\n",
       "      <td>2017</td>\n",
       "      <td>WPG</td>\n",
       "      <td>MARK SCHEIFELE</td>\n",
       "      <td>23</td>\n",
       "    </tr>\n",
       "  </tbody>\n",
       "</table>\n",
       "</div>"
      ],
      "text/plain": [
       "      Season TeamCode          PlayerName  Goals\n",
       "159     2017      TOR         NAZEM KADRI     32\n",
       "236     2017      TOR  JAMES VAN RIEMSDYK     36\n",
       "254     2017      TOR    WILLIAM NYLANDER     20\n",
       "974     2017      TOR     PATRICK MARLEAU     27\n",
       "1078    2017      WPG      MARK SCHEIFELE     23"
      ]
     },
     "execution_count": 35,
     "metadata": {},
     "output_type": "execute_result"
    }
   ],
   "source": [
    "dg = dg.drop_duplicates(['Season', 'GameNumber', 'TeamCode', 'PlayerName'])\n",
    "dg = dg.drop_duplicates(['Season', 'TeamCode', 'PlayerName'])\n",
    "dg = dg[['Season', 'TeamCode', 'PlayerName', 'Goals']]\n",
    "dg.head()"
   ]
  },
  {
   "cell_type": "code",
   "execution_count": 36,
   "metadata": {
    "collapsed": false
   },
   "outputs": [
    {
     "data": {
      "text/plain": [
       "Season        0\n",
       "TeamCode      0\n",
       "PlayerName    0\n",
       "Goals         0\n",
       "dtype: int64"
      ]
     },
     "execution_count": 36,
     "metadata": {},
     "output_type": "execute_result"
    }
   ],
   "source": [
    "dg.isnull().sum()"
   ]
  },
  {
   "cell_type": "code",
   "execution_count": 37,
   "metadata": {
    "collapsed": false
   },
   "outputs": [
    {
     "data": {
      "text/plain": [
       "(772, 4)"
      ]
     },
     "execution_count": 37,
     "metadata": {},
     "output_type": "execute_result"
    }
   ],
   "source": [
    "dg.shape"
   ]
  },
  {
   "cell_type": "markdown",
   "metadata": {},
   "source": [
    "#### assists dataframe (dast)"
   ]
  },
  {
   "cell_type": "code",
   "execution_count": 38,
   "metadata": {
    "collapsed": true
   },
   "outputs": [],
   "source": [
    "dast = dc.copy()\n",
    "dast = dast[dast['Event'] == 'GOAL']"
   ]
  },
  {
   "cell_type": "code",
   "execution_count": 39,
   "metadata": {
    "collapsed": false
   },
   "outputs": [],
   "source": [
    "dast = dast[['Season', 'GameNumber', 'EventNumber', 'Event', 'EventTeamCode', 'EventPlayer2', 'EventPlayer3']]\n",
    "dast = dast.rename(columns={'EventPlayer2': 'Assist1Name', 'EventPlayer3': 'Assist2Name', 'EventTeamCode':'TeamCode'})"
   ]
  },
  {
   "cell_type": "markdown",
   "metadata": {},
   "source": [
    "- reshape assist players 1 and 2 to create one column of assist players"
   ]
  },
  {
   "cell_type": "code",
   "execution_count": 40,
   "metadata": {
    "collapsed": true
   },
   "outputs": [],
   "source": [
    "a = [col for col in dast.columns if 'Name' in col]\n",
    "dast = pd.lreshape(dast, {'PlayerName' : a})"
   ]
  },
  {
   "cell_type": "markdown",
   "metadata": {},
   "source": [
    "- create an assist variable. If event type is a goal assign a value of 1. If not, assign a value of 0. Display total goals per player for a season."
   ]
  },
  {
   "cell_type": "code",
   "execution_count": 41,
   "metadata": {
    "collapsed": true
   },
   "outputs": [],
   "source": [
    "dast['Assist'] = dast.apply(lambda x: 1 if (x['Event'] == 'GOAL') else 0, axis=1)\n",
    "dast = dast.drop_duplicates(['Season', 'GameNumber', 'EventNumber', 'TeamCode', 'PlayerName'])\n",
    "dast['Assists'] = dast.groupby(['Season','TeamCode', 'PlayerName'])['Assist'].transform('sum')"
   ]
  },
  {
   "cell_type": "markdown",
   "metadata": {},
   "source": [
    "- keep one observation per player by game and drop duplicates. This purpose of this step is to calculate the quantity of games per player for a season. "
   ]
  },
  {
   "cell_type": "code",
   "execution_count": 42,
   "metadata": {
    "collapsed": false
   },
   "outputs": [
    {
     "data": {
      "text/html": [
       "<div>\n",
       "<table border=\"1\" class=\"dataframe\">\n",
       "  <thead>\n",
       "    <tr style=\"text-align: right;\">\n",
       "      <th></th>\n",
       "      <th>Season</th>\n",
       "      <th>TeamCode</th>\n",
       "      <th>PlayerName</th>\n",
       "      <th>Assists</th>\n",
       "    </tr>\n",
       "  </thead>\n",
       "  <tbody>\n",
       "    <tr>\n",
       "      <th>0</th>\n",
       "      <td>2017</td>\n",
       "      <td>TOR</td>\n",
       "      <td>JAMES VAN RIEMSDYK</td>\n",
       "      <td>18</td>\n",
       "    </tr>\n",
       "    <tr>\n",
       "      <th>5</th>\n",
       "      <td>2017</td>\n",
       "      <td>TOR</td>\n",
       "      <td>TYLER BOZAK</td>\n",
       "      <td>32</td>\n",
       "    </tr>\n",
       "    <tr>\n",
       "      <th>11</th>\n",
       "      <td>2017</td>\n",
       "      <td>TOR</td>\n",
       "      <td>JAKE GARDINER</td>\n",
       "      <td>47</td>\n",
       "    </tr>\n",
       "    <tr>\n",
       "      <th>17</th>\n",
       "      <td>2017</td>\n",
       "      <td>TOR</td>\n",
       "      <td>AUSTON MATTHEWS</td>\n",
       "      <td>29</td>\n",
       "    </tr>\n",
       "    <tr>\n",
       "      <th>23</th>\n",
       "      <td>2017</td>\n",
       "      <td>TOR</td>\n",
       "      <td>NAZEM KADRI</td>\n",
       "      <td>23</td>\n",
       "    </tr>\n",
       "  </tbody>\n",
       "</table>\n",
       "</div>"
      ],
      "text/plain": [
       "    Season TeamCode          PlayerName  Assists\n",
       "0     2017      TOR  JAMES VAN RIEMSDYK       18\n",
       "5     2017      TOR         TYLER BOZAK       32\n",
       "11    2017      TOR       JAKE GARDINER       47\n",
       "17    2017      TOR     AUSTON MATTHEWS       29\n",
       "23    2017      TOR         NAZEM KADRI       23"
      ]
     },
     "execution_count": 42,
     "metadata": {},
     "output_type": "execute_result"
    }
   ],
   "source": [
    "dast = dast.drop_duplicates(['Season', 'GameNumber', 'TeamCode', 'PlayerName'])\n",
    "dast = dast.drop_duplicates(['Season', 'TeamCode', 'PlayerName'])\n",
    "dast = dast[['Season', 'TeamCode', 'PlayerName', 'Assists']]\n",
    "dast.head()"
   ]
  },
  {
   "cell_type": "code",
   "execution_count": 43,
   "metadata": {
    "collapsed": false
   },
   "outputs": [
    {
     "data": {
      "text/plain": [
       "Season        0\n",
       "TeamCode      0\n",
       "PlayerName    0\n",
       "Assists       0\n",
       "dtype: int64"
      ]
     },
     "execution_count": 43,
     "metadata": {},
     "output_type": "execute_result"
    }
   ],
   "source": [
    "dast.isnull().sum()"
   ]
  },
  {
   "cell_type": "code",
   "execution_count": 44,
   "metadata": {
    "collapsed": false
   },
   "outputs": [
    {
     "data": {
      "text/plain": [
       "(872, 4)"
      ]
     },
     "execution_count": 44,
     "metadata": {},
     "output_type": "execute_result"
    }
   ],
   "source": [
    "dast.shape"
   ]
  },
  {
   "cell_type": "markdown",
   "metadata": {},
   "source": [
    "#### shot dataframe (ds)"
   ]
  },
  {
   "cell_type": "code",
   "execution_count": 45,
   "metadata": {
    "collapsed": true
   },
   "outputs": [],
   "source": [
    "ds = dc.copy()\n",
    "ds = ds[ds['Event'] == 'SHOT']"
   ]
  },
  {
   "cell_type": "code",
   "execution_count": 46,
   "metadata": {
    "collapsed": false
   },
   "outputs": [
    {
     "data": {
      "text/html": [
       "<div>\n",
       "<table border=\"1\" class=\"dataframe\">\n",
       "  <thead>\n",
       "    <tr style=\"text-align: right;\">\n",
       "      <th></th>\n",
       "      <th>Season</th>\n",
       "      <th>GameNumber</th>\n",
       "      <th>EventNumber</th>\n",
       "      <th>Event</th>\n",
       "      <th>TeamCode</th>\n",
       "      <th>PlayerName</th>\n",
       "    </tr>\n",
       "  </thead>\n",
       "  <tbody>\n",
       "    <tr>\n",
       "      <th>12</th>\n",
       "      <td>2017</td>\n",
       "      <td>20001</td>\n",
       "      <td>6</td>\n",
       "      <td>SHOT</td>\n",
       "      <td>WPG</td>\n",
       "      <td>JOSH MORRISSEY</td>\n",
       "    </tr>\n",
       "    <tr>\n",
       "      <th>13</th>\n",
       "      <td>2017</td>\n",
       "      <td>20001</td>\n",
       "      <td>6</td>\n",
       "      <td>SHOT</td>\n",
       "      <td>WPG</td>\n",
       "      <td>JOSH MORRISSEY</td>\n",
       "    </tr>\n",
       "    <tr>\n",
       "      <th>14</th>\n",
       "      <td>2017</td>\n",
       "      <td>20001</td>\n",
       "      <td>6</td>\n",
       "      <td>SHOT</td>\n",
       "      <td>WPG</td>\n",
       "      <td>JOSH MORRISSEY</td>\n",
       "    </tr>\n",
       "    <tr>\n",
       "      <th>15</th>\n",
       "      <td>2017</td>\n",
       "      <td>20001</td>\n",
       "      <td>6</td>\n",
       "      <td>SHOT</td>\n",
       "      <td>WPG</td>\n",
       "      <td>JOSH MORRISSEY</td>\n",
       "    </tr>\n",
       "    <tr>\n",
       "      <th>16</th>\n",
       "      <td>2017</td>\n",
       "      <td>20001</td>\n",
       "      <td>6</td>\n",
       "      <td>SHOT</td>\n",
       "      <td>WPG</td>\n",
       "      <td>JOSH MORRISSEY</td>\n",
       "    </tr>\n",
       "  </tbody>\n",
       "</table>\n",
       "</div>"
      ],
      "text/plain": [
       "    Season  GameNumber  EventNumber Event TeamCode      PlayerName\n",
       "12    2017       20001            6  SHOT      WPG  JOSH MORRISSEY\n",
       "13    2017       20001            6  SHOT      WPG  JOSH MORRISSEY\n",
       "14    2017       20001            6  SHOT      WPG  JOSH MORRISSEY\n",
       "15    2017       20001            6  SHOT      WPG  JOSH MORRISSEY\n",
       "16    2017       20001            6  SHOT      WPG  JOSH MORRISSEY"
      ]
     },
     "execution_count": 46,
     "metadata": {},
     "output_type": "execute_result"
    }
   ],
   "source": [
    "ds = ds[['Season', 'GameNumber', 'EventNumber', 'Event', 'EventTeamCode', 'EventPlayer1']]\n",
    "ds = ds.rename(columns={'EventPlayer1': 'PlayerName', 'EventTeamCode':'TeamCode'})\n",
    "ds.head()"
   ]
  },
  {
   "cell_type": "markdown",
   "metadata": {},
   "source": [
    "- create a shot variable. If event type is a goal assign a value of 1. If not, assign a value of 0. Display total shots per player for a season."
   ]
  },
  {
   "cell_type": "code",
   "execution_count": 47,
   "metadata": {
    "collapsed": true
   },
   "outputs": [],
   "source": [
    "ds['Shot'] = ds.apply(lambda x: 1 if (x['Event'] == 'SHOT') else 0, axis=1)\n",
    "ds = ds.drop_duplicates(['Season', 'GameNumber', 'EventNumber', 'TeamCode', 'PlayerName'])\n",
    "ds['Shots'] = ds.groupby(['Season','TeamCode', 'PlayerName'])['Shot'].transform('sum')"
   ]
  },
  {
   "cell_type": "markdown",
   "metadata": {},
   "source": [
    "- drop duplicates to keep one observation per player for the season."
   ]
  },
  {
   "cell_type": "code",
   "execution_count": 48,
   "metadata": {
    "collapsed": false
   },
   "outputs": [
    {
     "data": {
      "text/html": [
       "<div>\n",
       "<table border=\"1\" class=\"dataframe\">\n",
       "  <thead>\n",
       "    <tr style=\"text-align: right;\">\n",
       "      <th></th>\n",
       "      <th>Season</th>\n",
       "      <th>TeamCode</th>\n",
       "      <th>PlayerName</th>\n",
       "      <th>Shots</th>\n",
       "    </tr>\n",
       "  </thead>\n",
       "  <tbody>\n",
       "    <tr>\n",
       "      <th>12</th>\n",
       "      <td>2017</td>\n",
       "      <td>WPG</td>\n",
       "      <td>JOSH MORRISSEY</td>\n",
       "      <td>93</td>\n",
       "    </tr>\n",
       "    <tr>\n",
       "      <th>24</th>\n",
       "      <td>2017</td>\n",
       "      <td>WPG</td>\n",
       "      <td>SHAWN MATTHIAS</td>\n",
       "      <td>25</td>\n",
       "    </tr>\n",
       "    <tr>\n",
       "      <th>36</th>\n",
       "      <td>2017</td>\n",
       "      <td>WPG</td>\n",
       "      <td>DUSTIN BYFUGLIEN</td>\n",
       "      <td>185</td>\n",
       "    </tr>\n",
       "    <tr>\n",
       "      <th>58</th>\n",
       "      <td>2017</td>\n",
       "      <td>WPG</td>\n",
       "      <td>ADAM LOWRY</td>\n",
       "      <td>62</td>\n",
       "    </tr>\n",
       "    <tr>\n",
       "      <th>78</th>\n",
       "      <td>2017</td>\n",
       "      <td>WPG</td>\n",
       "      <td>BRYAN LITTLE</td>\n",
       "      <td>113</td>\n",
       "    </tr>\n",
       "  </tbody>\n",
       "</table>\n",
       "</div>"
      ],
      "text/plain": [
       "    Season TeamCode        PlayerName  Shots\n",
       "12    2017      WPG    JOSH MORRISSEY     93\n",
       "24    2017      WPG    SHAWN MATTHIAS     25\n",
       "36    2017      WPG  DUSTIN BYFUGLIEN    185\n",
       "58    2017      WPG        ADAM LOWRY     62\n",
       "78    2017      WPG      BRYAN LITTLE    113"
      ]
     },
     "execution_count": 48,
     "metadata": {},
     "output_type": "execute_result"
    }
   ],
   "source": [
    "ds = ds.drop_duplicates(['Season', 'GameNumber', 'TeamCode', 'PlayerName'])\n",
    "ds = ds.drop_duplicates(['Season', 'TeamCode', 'PlayerName'])\n",
    "ds = ds[['Season', 'TeamCode', 'PlayerName', 'Shots']]\n",
    "ds.head()"
   ]
  },
  {
   "cell_type": "code",
   "execution_count": 49,
   "metadata": {
    "collapsed": false
   },
   "outputs": [
    {
     "data": {
      "text/plain": [
       "Season        0\n",
       "TeamCode      0\n",
       "PlayerName    0\n",
       "Shots         0\n",
       "dtype: int64"
      ]
     },
     "execution_count": 49,
     "metadata": {},
     "output_type": "execute_result"
    }
   ],
   "source": [
    "ds.isnull().sum()"
   ]
  },
  {
   "cell_type": "code",
   "execution_count": 50,
   "metadata": {
    "collapsed": false
   },
   "outputs": [
    {
     "data": {
      "text/plain": [
       "(947, 4)"
      ]
     },
     "execution_count": 50,
     "metadata": {},
     "output_type": "execute_result"
    }
   ],
   "source": [
    "ds.shape"
   ]
  },
  {
   "cell_type": "markdown",
   "metadata": {
    "collapsed": true
   },
   "source": [
    "#### block dataframe (db)"
   ]
  },
  {
   "cell_type": "code",
   "execution_count": 51,
   "metadata": {
    "collapsed": true
   },
   "outputs": [],
   "source": [
    "dbl = dc.copy()\n",
    "dbl = dbl[dbl['Event'] == 'BLOCK']"
   ]
  },
  {
   "cell_type": "code",
   "execution_count": 52,
   "metadata": {
    "collapsed": false
   },
   "outputs": [
    {
     "data": {
      "text/plain": [
       "(428943, 19)"
      ]
     },
     "execution_count": 52,
     "metadata": {},
     "output_type": "execute_result"
    }
   ],
   "source": [
    "dbl.shape"
   ]
  },
  {
   "cell_type": "code",
   "execution_count": 53,
   "metadata": {
    "collapsed": false
   },
   "outputs": [
    {
     "data": {
      "text/plain": [
       "0"
      ]
     },
     "execution_count": 53,
     "metadata": {},
     "output_type": "execute_result"
    }
   ],
   "source": [
    "dbl['EventPlayer2'].isnull().sum()"
   ]
  },
  {
   "cell_type": "code",
   "execution_count": 54,
   "metadata": {
    "collapsed": false
   },
   "outputs": [
    {
     "data": {
      "text/plain": [
       "428943"
      ]
     },
     "execution_count": 54,
     "metadata": {},
     "output_type": "execute_result"
    }
   ],
   "source": [
    "dbl['EventPlayer3'].isnull().sum()"
   ]
  },
  {
   "cell_type": "code",
   "execution_count": 55,
   "metadata": {
    "collapsed": false
   },
   "outputs": [],
   "source": [
    "dbl['BlockTeam'] = dbl.EventDetail.str.split(' ', expand = True)[6]\n",
    "dbl['BlockTeamCode'] = dbl.BlockTeam.str.split(' ', expand = True)[0]"
   ]
  },
  {
   "cell_type": "code",
   "execution_count": 56,
   "metadata": {
    "collapsed": false
   },
   "outputs": [],
   "source": [
    "dbl = dbl[['Season', 'GameNumber', 'EventNumber', 'Event', 'EventPlayer1', 'BlockTeamCode']]\n",
    "dbl = dbl.rename(columns={'EventPlayer1': 'PlayerName', 'BlockTeamCode':'TeamCode'})"
   ]
  },
  {
   "cell_type": "markdown",
   "metadata": {
    "collapsed": true
   },
   "source": [
    "- create a block variable. If event type is a block assign a value of 1. If not, assign a value of 0. Display total shots per player for a season."
   ]
  },
  {
   "cell_type": "code",
   "execution_count": 57,
   "metadata": {
    "collapsed": true
   },
   "outputs": [],
   "source": [
    "dbl['Block'] = dbl.apply(lambda x: 1 if (x['Event'] == 'BLOCK') else 0, axis=1)\n",
    "dbl = dbl.drop_duplicates(['Season', 'GameNumber', 'EventNumber', 'TeamCode', 'PlayerName'])\n",
    "dbl['Blocks'] = dbl.groupby(['Season','TeamCode', 'PlayerName'])['Block'].transform('sum')"
   ]
  },
  {
   "cell_type": "markdown",
   "metadata": {
    "collapsed": true
   },
   "source": [
    "- drop duplicates to keep one observation per player for the season."
   ]
  },
  {
   "cell_type": "code",
   "execution_count": 58,
   "metadata": {
    "collapsed": false
   },
   "outputs": [
    {
     "data": {
      "text/html": [
       "<div>\n",
       "<table border=\"1\" class=\"dataframe\">\n",
       "  <thead>\n",
       "    <tr style=\"text-align: right;\">\n",
       "      <th></th>\n",
       "      <th>Season</th>\n",
       "      <th>TeamCode</th>\n",
       "      <th>PlayerName</th>\n",
       "      <th>Blocks</th>\n",
       "    </tr>\n",
       "  </thead>\n",
       "  <tbody>\n",
       "    <tr>\n",
       "      <th>6</th>\n",
       "      <td>2017</td>\n",
       "      <td>WPG</td>\n",
       "      <td>TOBIAS ENSTROM</td>\n",
       "      <td>50</td>\n",
       "    </tr>\n",
       "    <tr>\n",
       "      <th>63</th>\n",
       "      <td>2017</td>\n",
       "      <td>TOR</td>\n",
       "      <td>LEO KOMAROV</td>\n",
       "      <td>45</td>\n",
       "    </tr>\n",
       "    <tr>\n",
       "      <th>68</th>\n",
       "      <td>2017</td>\n",
       "      <td>TOR</td>\n",
       "      <td>NIKITA ZAITSEV</td>\n",
       "      <td>134</td>\n",
       "    </tr>\n",
       "    <tr>\n",
       "      <th>110</th>\n",
       "      <td>2017</td>\n",
       "      <td>WPG</td>\n",
       "      <td>TYLER MYERS</td>\n",
       "      <td>115</td>\n",
       "    </tr>\n",
       "    <tr>\n",
       "      <th>272</th>\n",
       "      <td>2017</td>\n",
       "      <td>TOR</td>\n",
       "      <td>NAZEM KADRI</td>\n",
       "      <td>26</td>\n",
       "    </tr>\n",
       "  </tbody>\n",
       "</table>\n",
       "</div>"
      ],
      "text/plain": [
       "     Season TeamCode      PlayerName  Blocks\n",
       "6      2017      WPG  TOBIAS ENSTROM      50\n",
       "63     2017      TOR     LEO KOMAROV      45\n",
       "68     2017      TOR  NIKITA ZAITSEV     134\n",
       "110    2017      WPG     TYLER MYERS     115\n",
       "272    2017      TOR     NAZEM KADRI      26"
      ]
     },
     "execution_count": 58,
     "metadata": {},
     "output_type": "execute_result"
    }
   ],
   "source": [
    "dbl = dbl.drop_duplicates(['Season', 'GameNumber', 'TeamCode', 'PlayerName'])\n",
    "dbl = dbl.drop_duplicates(['Season', 'TeamCode', 'PlayerName'])\n",
    "dbl = dbl[['Season', 'TeamCode', 'PlayerName', 'Blocks']]\n",
    "dbl.head()"
   ]
  },
  {
   "cell_type": "code",
   "execution_count": 59,
   "metadata": {
    "collapsed": false
   },
   "outputs": [
    {
     "data": {
      "text/plain": [
       "Season        0\n",
       "TeamCode      0\n",
       "PlayerName    0\n",
       "Blocks        0\n",
       "dtype: int64"
      ]
     },
     "execution_count": 59,
     "metadata": {},
     "output_type": "execute_result"
    }
   ],
   "source": [
    "dbl.isnull().sum()"
   ]
  },
  {
   "cell_type": "code",
   "execution_count": 60,
   "metadata": {
    "collapsed": false
   },
   "outputs": [
    {
     "data": {
      "text/plain": [
       "(1152, 4)"
      ]
     },
     "execution_count": 60,
     "metadata": {},
     "output_type": "execute_result"
    }
   ],
   "source": [
    "dbl.shape"
   ]
  },
  {
   "cell_type": "markdown",
   "metadata": {
    "collapsed": true
   },
   "source": [
    "#### hit dataframe (dh)"
   ]
  },
  {
   "cell_type": "code",
   "execution_count": 61,
   "metadata": {
    "collapsed": true
   },
   "outputs": [],
   "source": [
    "dhit = dc.copy()\n",
    "dhit = dhit[dhit['Event'] == 'HIT']"
   ]
  },
  {
   "cell_type": "code",
   "execution_count": 62,
   "metadata": {
    "collapsed": false
   },
   "outputs": [
    {
     "data": {
      "text/plain": [
       "(648631, 19)"
      ]
     },
     "execution_count": 62,
     "metadata": {},
     "output_type": "execute_result"
    }
   ],
   "source": [
    "dhit.shape"
   ]
  },
  {
   "cell_type": "code",
   "execution_count": 63,
   "metadata": {
    "collapsed": false
   },
   "outputs": [
    {
     "data": {
      "text/plain": [
       "0"
      ]
     },
     "execution_count": 63,
     "metadata": {},
     "output_type": "execute_result"
    }
   ],
   "source": [
    "dhit['EventPlayer2'].isnull().sum()"
   ]
  },
  {
   "cell_type": "code",
   "execution_count": 64,
   "metadata": {
    "collapsed": false
   },
   "outputs": [
    {
     "data": {
      "text/plain": [
       "648631"
      ]
     },
     "execution_count": 64,
     "metadata": {},
     "output_type": "execute_result"
    }
   ],
   "source": [
    "dhit['EventPlayer3'].isnull().sum()"
   ]
  },
  {
   "cell_type": "code",
   "execution_count": 65,
   "metadata": {
    "collapsed": false
   },
   "outputs": [],
   "source": [
    "dhit = dhit[['Season', 'GameNumber', 'EventNumber', 'Event', 'EventTeamCode', 'EventPlayer1']]\n",
    "dhit = dhit.rename(columns={'EventPlayer1': 'PlayerName', 'EventTeamCode':'TeamCode'})"
   ]
  },
  {
   "cell_type": "markdown",
   "metadata": {},
   "source": [
    "- create a hit variable. If event type is a hit assign a value of 1. If not, assign a value of 0. Display total shots per player for a season."
   ]
  },
  {
   "cell_type": "code",
   "execution_count": 66,
   "metadata": {
    "collapsed": true
   },
   "outputs": [],
   "source": [
    "dhit['Hit'] = dhit.apply(lambda x: 1 if (x['Event'] == 'HIT') else 0, axis=1)\n",
    "dhit = dhit.drop_duplicates(['Season', 'GameNumber', 'EventNumber', 'TeamCode', 'PlayerName'])\n",
    "dhit['Hits'] = dhit.groupby(['Season','TeamCode', 'PlayerName'])['Hit'].transform('sum')"
   ]
  },
  {
   "cell_type": "markdown",
   "metadata": {},
   "source": [
    "- drop duplicates to keep one observation per player for the season."
   ]
  },
  {
   "cell_type": "code",
   "execution_count": 67,
   "metadata": {
    "collapsed": false
   },
   "outputs": [
    {
     "data": {
      "text/html": [
       "<div>\n",
       "<table border=\"1\" class=\"dataframe\">\n",
       "  <thead>\n",
       "    <tr style=\"text-align: right;\">\n",
       "      <th></th>\n",
       "      <th>Season</th>\n",
       "      <th>TeamCode</th>\n",
       "      <th>PlayerName</th>\n",
       "      <th>Hits</th>\n",
       "    </tr>\n",
       "  </thead>\n",
       "  <tbody>\n",
       "    <tr>\n",
       "      <th>18</th>\n",
       "      <td>2017</td>\n",
       "      <td>TOR</td>\n",
       "      <td>LEO KOMAROV</td>\n",
       "      <td>219</td>\n",
       "    </tr>\n",
       "    <tr>\n",
       "      <th>104</th>\n",
       "      <td>2017</td>\n",
       "      <td>WPG</td>\n",
       "      <td>JACOB TROUBA</td>\n",
       "      <td>84</td>\n",
       "    </tr>\n",
       "    <tr>\n",
       "      <th>200</th>\n",
       "      <td>2017</td>\n",
       "      <td>TOR</td>\n",
       "      <td>RON HAINSEY</td>\n",
       "      <td>91</td>\n",
       "    </tr>\n",
       "    <tr>\n",
       "      <th>206</th>\n",
       "      <td>2017</td>\n",
       "      <td>TOR</td>\n",
       "      <td>MATT MARTIN</td>\n",
       "      <td>146</td>\n",
       "    </tr>\n",
       "    <tr>\n",
       "      <th>266</th>\n",
       "      <td>2017</td>\n",
       "      <td>WPG</td>\n",
       "      <td>DMITRY KULIKOV</td>\n",
       "      <td>69</td>\n",
       "    </tr>\n",
       "  </tbody>\n",
       "</table>\n",
       "</div>"
      ],
      "text/plain": [
       "     Season TeamCode      PlayerName  Hits\n",
       "18     2017      TOR     LEO KOMAROV   219\n",
       "104    2017      WPG    JACOB TROUBA    84\n",
       "200    2017      TOR     RON HAINSEY    91\n",
       "206    2017      TOR     MATT MARTIN   146\n",
       "266    2017      WPG  DMITRY KULIKOV    69"
      ]
     },
     "execution_count": 67,
     "metadata": {},
     "output_type": "execute_result"
    }
   ],
   "source": [
    "dhit = dhit.drop_duplicates(['Season', 'GameNumber', 'TeamCode', 'PlayerName'])\n",
    "dhit = dhit.drop_duplicates(['Season', 'TeamCode', 'PlayerName'])\n",
    "dhit = dhit[['Season', 'TeamCode', 'PlayerName', 'Hits']]\n",
    "dhit.head()"
   ]
  },
  {
   "cell_type": "code",
   "execution_count": 68,
   "metadata": {
    "collapsed": false
   },
   "outputs": [
    {
     "data": {
      "text/plain": [
       "Season        0\n",
       "TeamCode      0\n",
       "PlayerName    0\n",
       "Hits          0\n",
       "dtype: int64"
      ]
     },
     "execution_count": 68,
     "metadata": {},
     "output_type": "execute_result"
    }
   ],
   "source": [
    "dhit.isnull().sum()"
   ]
  },
  {
   "cell_type": "code",
   "execution_count": 69,
   "metadata": {
    "collapsed": false
   },
   "outputs": [
    {
     "data": {
      "text/plain": [
       "(962, 4)"
      ]
     },
     "execution_count": 69,
     "metadata": {},
     "output_type": "execute_result"
    }
   ],
   "source": [
    "dhit.shape"
   ]
  },
  {
   "cell_type": "markdown",
   "metadata": {},
   "source": [
    "#### penalty dataframe (dpen)"
   ]
  },
  {
   "cell_type": "code",
   "execution_count": 70,
   "metadata": {
    "collapsed": false
   },
   "outputs": [],
   "source": [
    "dp = dc.copy()\n",
    "dp = dp[dp['Event'] == 'PENL']"
   ]
  },
  {
   "cell_type": "markdown",
   "metadata": {},
   "source": [
    "- use event detail to find the duration of a given penalty and to assign it to the proper player. Major penalty is 5 minutes, so a value of 5 is assigned for every event that had a major penalty."
   ]
  },
  {
   "cell_type": "code",
   "execution_count": 71,
   "metadata": {
    "collapsed": false
   },
   "outputs": [
    {
     "name": "stderr",
     "output_type": "stream",
     "text": [
      "/anaconda/lib/python3.6/site-packages/ipykernel/__main__.py:5: FutureWarning: convert_objects is deprecated.  Use the data-type specific converters pd.to_datetime, pd.to_timedelta and pd.to_numeric.\n"
     ]
    }
   ],
   "source": [
    "dp['Pen'] = dp.EventDetail.str.split(')', expand = True)[0]\n",
    "dp['Penal'] = dp.Pen.str.split('(', expand = True)[1]\n",
    "dp['Penalt'] = dp.Penal.str.split(' ', expand = True)[0]\n",
    "dp['Penalty'] = dp.apply(lambda x: 5 if x['Penalt'] == 'maj' else x['Penalt'], axis=1)\n",
    "dp['Penalty'] = dp['Penalty'].convert_objects(convert_numeric=True)\n",
    "dp = dp[['Season', 'GameNumber', 'Period', 'Time', 'EventNumber', 'Event', 'EventDetail', 'EventTeamCode', 'EventPlayer1', 'EventPlayer2', 'EventPlayer3', 'TeamCode', 'PlayerName', 'Penalty']]"
   ]
  },
  {
   "cell_type": "markdown",
   "metadata": {},
   "source": [
    "- use event detail to find penalty team code and penalty player name."
   ]
  },
  {
   "cell_type": "code",
   "execution_count": 72,
   "metadata": {
    "collapsed": false
   },
   "outputs": [],
   "source": [
    "dp['PenaltyTeamCode'] = dp.EventDetail.str.split('\\\\s', expand = True)[0]\n",
    "dp['PN'] = dp.EventDetail.str.split('\\\\s', expand = True)[1]\n",
    "dp['PNumber'] = dp.PN.str.split('#', expand = True)[1]\n",
    "dp['PenaltyPlayerNumber'] = dp.PNumber.str.split(' ', expand = True)[0]\n",
    "dp['PenaltyPlayerLName'] = dp.EventDetail.str.split('\\\\s', expand = True)[2]\n",
    "#dp['PenaltyPlayerLName'] = dp.PPlLN.str.split(' ', expand = True)[0]\n",
    "dp = dp[['Season', 'GameNumber', 'Period', 'Time', 'EventNumber', 'Event', 'EventDetail', 'EventTeamCode', 'EventPlayer1', 'EventPlayer2', 'EventPlayer3', 'TeamCode', 'PlayerName', 'Penalty', 'PenaltyTeamCode', 'PenaltyPlayerNumber', 'PenaltyPlayerLName']]"
   ]
  },
  {
   "cell_type": "markdown",
   "metadata": {},
   "source": [
    "- seperate player name into first and last. The purpose is to connect the correct player name to penalty player name."
   ]
  },
  {
   "cell_type": "code",
   "execution_count": 73,
   "metadata": {
    "collapsed": false
   },
   "outputs": [],
   "source": [
    "dp['PlayerFName'] = dp.PlayerName.str.split('\\\\s', expand = True)[0]\n",
    "dp['PlayerLName'] = dp.PlayerName.str.split('\\\\s', expand = True)[1]\n",
    "dp['PenaltyPlayerFName'] = dp.apply(lambda x: x['PlayerFName'] if ((x['PenaltyTeamCode'] == x['TeamCode']) & (x['PenaltyPlayerNumber'] == x['PenaltyPlayerNumber']) & (x['PlayerLName'] == x['PenaltyPlayerLName'])) else np.nan, axis=1)\n",
    "dp['PenaltyPlayerFName'] = dp.groupby(['Season','PenaltyTeamCode', 'PenaltyPlayerNumber', 'PenaltyPlayerLName'])['PenaltyPlayerFName'].apply(lambda x: x.ffill().bfill())"
   ]
  },
  {
   "cell_type": "code",
   "execution_count": 74,
   "metadata": {
    "collapsed": true
   },
   "outputs": [],
   "source": [
    "dp['PenaltyName'] = dp.apply(lambda x: x['PlayerName'] if ((x['PenaltyTeamCode'] == x['TeamCode']) & (x['PenaltyPlayerNumber'] == x['PenaltyPlayerNumber']) & (x['PlayerLName'] == x['PenaltyPlayerLName']) & (x['PlayerFName'] == x['PenaltyPlayerFName'])) else np.nan, axis=1)\n",
    "dp['PenaltyName'] = dp.groupby(['Season','PenaltyTeamCode', 'PenaltyPlayerLName', 'PenaltyPlayerNumber', 'PenaltyPlayerLName'])['PenaltyName'].apply(lambda x: x.ffill().bfill())\n"
   ]
  },
  {
   "cell_type": "markdown",
   "metadata": {},
   "source": [
    "- drop duplicates per game and event number. Calculate the total number of penalties for each player."
   ]
  },
  {
   "cell_type": "code",
   "execution_count": 75,
   "metadata": {
    "collapsed": false
   },
   "outputs": [],
   "source": [
    "dp = dp.drop_duplicates(['Season', 'GameNumber', 'EventNumber', 'PenaltyTeamCode', 'PenaltyPlayerNumber', 'PenaltyName'])\n",
    "dp['Penalties'] = dp.groupby(['Season', 'PenaltyTeamCode', 'PenaltyPlayerNumber', 'PenaltyName'])['Penalty'].transform('sum')\n",
    "dp['Penalties'] = dp.groupby(['Season','PenaltyTeamCode', 'PenaltyPlayerNumber', 'PlayerName'])['Penalties'].apply(lambda x: x.ffill().bfill())\n",
    "#dp.head()"
   ]
  },
  {
   "cell_type": "markdown",
   "metadata": {},
   "source": [
    "- drop duplicates to keep one observation per player for the season."
   ]
  },
  {
   "cell_type": "code",
   "execution_count": 76,
   "metadata": {
    "collapsed": false
   },
   "outputs": [
    {
     "data": {
      "text/html": [
       "<div>\n",
       "<table border=\"1\" class=\"dataframe\">\n",
       "  <thead>\n",
       "    <tr style=\"text-align: right;\">\n",
       "      <th></th>\n",
       "      <th>Season</th>\n",
       "      <th>TeamCode</th>\n",
       "      <th>PlayerName</th>\n",
       "      <th>Penalties</th>\n",
       "    </tr>\n",
       "  </thead>\n",
       "  <tbody>\n",
       "    <tr>\n",
       "      <th>42</th>\n",
       "      <td>2017</td>\n",
       "      <td>TOR</td>\n",
       "      <td>CONNOR BROWN</td>\n",
       "      <td>18.0</td>\n",
       "    </tr>\n",
       "    <tr>\n",
       "      <th>128</th>\n",
       "      <td>2017</td>\n",
       "      <td>WPG</td>\n",
       "      <td>JACOB TROUBA</td>\n",
       "      <td>34.0</td>\n",
       "    </tr>\n",
       "    <tr>\n",
       "      <th>284</th>\n",
       "      <td>2017</td>\n",
       "      <td>TOR</td>\n",
       "      <td>JAKE GARDINER</td>\n",
       "      <td>32.0</td>\n",
       "    </tr>\n",
       "    <tr>\n",
       "      <th>365</th>\n",
       "      <td>2017</td>\n",
       "      <td>TOR</td>\n",
       "      <td>MORGAN RIELLY</td>\n",
       "      <td>14.0</td>\n",
       "    </tr>\n",
       "    <tr>\n",
       "      <th>472</th>\n",
       "      <td>2017</td>\n",
       "      <td>TOR</td>\n",
       "      <td>LEO KOMAROV</td>\n",
       "      <td>31.0</td>\n",
       "    </tr>\n",
       "  </tbody>\n",
       "</table>\n",
       "</div>"
      ],
      "text/plain": [
       "     Season TeamCode     PlayerName  Penalties\n",
       "42     2017      TOR   CONNOR BROWN       18.0\n",
       "128    2017      WPG   JACOB TROUBA       34.0\n",
       "284    2017      TOR  JAKE GARDINER       32.0\n",
       "365    2017      TOR  MORGAN RIELLY       14.0\n",
       "472    2017      TOR    LEO KOMAROV       31.0"
      ]
     },
     "execution_count": 76,
     "metadata": {},
     "output_type": "execute_result"
    }
   ],
   "source": [
    "dp = dp[['Season', 'PenaltyTeamCode', 'PenaltyName', 'Penalties']]\n",
    "dp = dp.drop_duplicates(['Season', 'PenaltyTeamCode', 'PenaltyName'])\n",
    "dp = dp.rename(columns={'PenaltyTeamCode':'TeamCode', 'PenaltyName':'PlayerName'})\n",
    "dp = dp[['Season', 'TeamCode', 'PlayerName', 'Penalties']]\n",
    "dp.head()"
   ]
  },
  {
   "cell_type": "markdown",
   "metadata": {},
   "source": [
    "- keep observations that are not null. Since a team can be allocated a penalty, those observations are excluded from the data."
   ]
  },
  {
   "cell_type": "code",
   "execution_count": 77,
   "metadata": {
    "collapsed": false
   },
   "outputs": [
    {
     "data": {
      "text/plain": [
       "31"
      ]
     },
     "execution_count": 77,
     "metadata": {},
     "output_type": "execute_result"
    }
   ],
   "source": [
    "dp['PlayerName'].isnull().sum()"
   ]
  },
  {
   "cell_type": "code",
   "execution_count": 78,
   "metadata": {
    "collapsed": true
   },
   "outputs": [],
   "source": [
    "dp = dp[dp['PlayerName'].notnull()]"
   ]
  },
  {
   "cell_type": "code",
   "execution_count": 79,
   "metadata": {
    "collapsed": false
   },
   "outputs": [
    {
     "data": {
      "text/plain": [
       "Season        0\n",
       "TeamCode      0\n",
       "PlayerName    0\n",
       "Penalties     0\n",
       "dtype: int64"
      ]
     },
     "execution_count": 79,
     "metadata": {},
     "output_type": "execute_result"
    }
   ],
   "source": [
    "dp.isnull().sum()"
   ]
  },
  {
   "cell_type": "code",
   "execution_count": 80,
   "metadata": {
    "collapsed": false
   },
   "outputs": [
    {
     "data": {
      "text/plain": [
       "(886, 4)"
      ]
     },
     "execution_count": 80,
     "metadata": {},
     "output_type": "execute_result"
    }
   ],
   "source": [
    "dp.shape"
   ]
  },
  {
   "cell_type": "markdown",
   "metadata": {},
   "source": [
    "####  miss dataframe (dmiss)"
   ]
  },
  {
   "cell_type": "code",
   "execution_count": 81,
   "metadata": {
    "collapsed": true
   },
   "outputs": [],
   "source": [
    "dmiss = dc.copy()\n",
    "dmiss = dmiss[dmiss['Event'] == 'MISS']"
   ]
  },
  {
   "cell_type": "code",
   "execution_count": 82,
   "metadata": {
    "collapsed": false
   },
   "outputs": [
    {
     "data": {
      "text/plain": [
       "(354512, 19)"
      ]
     },
     "execution_count": 82,
     "metadata": {},
     "output_type": "execute_result"
    }
   ],
   "source": [
    "dmiss.shape"
   ]
  },
  {
   "cell_type": "code",
   "execution_count": 83,
   "metadata": {
    "collapsed": false
   },
   "outputs": [
    {
     "data": {
      "text/plain": [
       "354512"
      ]
     },
     "execution_count": 83,
     "metadata": {},
     "output_type": "execute_result"
    }
   ],
   "source": [
    "dmiss['EventPlayer2'].isnull().sum()"
   ]
  },
  {
   "cell_type": "code",
   "execution_count": 84,
   "metadata": {
    "collapsed": false
   },
   "outputs": [
    {
     "data": {
      "text/plain": [
       "354512"
      ]
     },
     "execution_count": 84,
     "metadata": {},
     "output_type": "execute_result"
    }
   ],
   "source": [
    "dmiss['EventPlayer3'].isnull().sum()"
   ]
  },
  {
   "cell_type": "code",
   "execution_count": 85,
   "metadata": {
    "collapsed": false
   },
   "outputs": [],
   "source": [
    "dmiss = dmiss[['Season', 'GameNumber', 'EventNumber', 'Event', 'EventTeamCode', 'EventPlayer1']]\n",
    "dmiss = dmiss.rename(columns={'EventPlayer1': 'PlayerName', 'EventTeamCode':'TeamCode'})"
   ]
  },
  {
   "cell_type": "markdown",
   "metadata": {},
   "source": [
    "- create a miss variable. If event type is a miss assign a value of 1. If not, assign a value of 0. Display total shots per player for a season."
   ]
  },
  {
   "cell_type": "code",
   "execution_count": 86,
   "metadata": {
    "collapsed": true
   },
   "outputs": [],
   "source": [
    "dmiss['Miss'] = dmiss.apply(lambda x: 1 if (x['Event'] == 'MISS') else 0, axis=1)\n",
    "dmiss = dmiss.drop_duplicates(['Season', 'GameNumber', 'EventNumber', 'TeamCode', 'PlayerName'])\n",
    "dmiss['Misses'] = dmiss.groupby(['Season','TeamCode', 'PlayerName'])['Miss'].transform('sum')"
   ]
  },
  {
   "cell_type": "markdown",
   "metadata": {},
   "source": [
    "- drop duplicates to keep one observation per player for the season."
   ]
  },
  {
   "cell_type": "code",
   "execution_count": 87,
   "metadata": {
    "collapsed": false
   },
   "outputs": [
    {
     "data": {
      "text/html": [
       "<div>\n",
       "<table border=\"1\" class=\"dataframe\">\n",
       "  <thead>\n",
       "    <tr style=\"text-align: right;\">\n",
       "      <th></th>\n",
       "      <th>Season</th>\n",
       "      <th>TeamCode</th>\n",
       "      <th>PlayerName</th>\n",
       "      <th>Misses</th>\n",
       "    </tr>\n",
       "  </thead>\n",
       "  <tbody>\n",
       "    <tr>\n",
       "      <th>73</th>\n",
       "      <td>2017</td>\n",
       "      <td>WPG</td>\n",
       "      <td>BLAKE WHEELER</td>\n",
       "      <td>81</td>\n",
       "    </tr>\n",
       "    <tr>\n",
       "      <th>144</th>\n",
       "      <td>2017</td>\n",
       "      <td>TOR</td>\n",
       "      <td>MITCHELL MARNER</td>\n",
       "      <td>83</td>\n",
       "    </tr>\n",
       "    <tr>\n",
       "      <th>212</th>\n",
       "      <td>2017</td>\n",
       "      <td>TOR</td>\n",
       "      <td>CONNOR BROWN</td>\n",
       "      <td>53</td>\n",
       "    </tr>\n",
       "    <tr>\n",
       "      <th>329</th>\n",
       "      <td>2017</td>\n",
       "      <td>WPG</td>\n",
       "      <td>TOBIAS ENSTROM</td>\n",
       "      <td>19</td>\n",
       "    </tr>\n",
       "    <tr>\n",
       "      <th>347</th>\n",
       "      <td>2017</td>\n",
       "      <td>TOR</td>\n",
       "      <td>RON HAINSEY</td>\n",
       "      <td>43</td>\n",
       "    </tr>\n",
       "  </tbody>\n",
       "</table>\n",
       "</div>"
      ],
      "text/plain": [
       "     Season TeamCode       PlayerName  Misses\n",
       "73     2017      WPG    BLAKE WHEELER      81\n",
       "144    2017      TOR  MITCHELL MARNER      83\n",
       "212    2017      TOR     CONNOR BROWN      53\n",
       "329    2017      WPG   TOBIAS ENSTROM      19\n",
       "347    2017      TOR      RON HAINSEY      43"
      ]
     },
     "execution_count": 87,
     "metadata": {},
     "output_type": "execute_result"
    }
   ],
   "source": [
    "dmiss = dmiss.drop_duplicates(['Season', 'GameNumber', 'TeamCode', 'PlayerName'])\n",
    "dmiss = dmiss.drop_duplicates(['Season', 'TeamCode', 'PlayerName'])\n",
    "dmiss = dmiss[['Season', 'TeamCode', 'PlayerName', 'Misses']]\n",
    "dmiss.head()"
   ]
  },
  {
   "cell_type": "code",
   "execution_count": 88,
   "metadata": {
    "collapsed": false
   },
   "outputs": [
    {
     "data": {
      "text/plain": [
       "Season        0\n",
       "TeamCode      0\n",
       "PlayerName    0\n",
       "Misses        0\n",
       "dtype: int64"
      ]
     },
     "execution_count": 88,
     "metadata": {},
     "output_type": "execute_result"
    }
   ],
   "source": [
    "dmiss.isnull().sum()"
   ]
  },
  {
   "cell_type": "code",
   "execution_count": 89,
   "metadata": {
    "collapsed": false
   },
   "outputs": [
    {
     "data": {
      "text/plain": [
       "(915, 4)"
      ]
     },
     "execution_count": 89,
     "metadata": {},
     "output_type": "execute_result"
    }
   ],
   "source": [
    "dmiss.shape"
   ]
  },
  {
   "cell_type": "markdown",
   "metadata": {},
   "source": [
    "####  takeaway dataframe (dtake)"
   ]
  },
  {
   "cell_type": "code",
   "execution_count": 90,
   "metadata": {
    "collapsed": true
   },
   "outputs": [],
   "source": [
    "dtake = dc.copy()\n",
    "dtake = dtake[dtake['Event'] == 'TAKE']"
   ]
  },
  {
   "cell_type": "code",
   "execution_count": 91,
   "metadata": {
    "collapsed": false
   },
   "outputs": [
    {
     "data": {
      "text/plain": [
       "(214286, 19)"
      ]
     },
     "execution_count": 91,
     "metadata": {},
     "output_type": "execute_result"
    }
   ],
   "source": [
    "dtake.shape"
   ]
  },
  {
   "cell_type": "code",
   "execution_count": 92,
   "metadata": {
    "collapsed": false
   },
   "outputs": [
    {
     "data": {
      "text/plain": [
       "214286"
      ]
     },
     "execution_count": 92,
     "metadata": {},
     "output_type": "execute_result"
    }
   ],
   "source": [
    "dtake['EventPlayer2'].isnull().sum()"
   ]
  },
  {
   "cell_type": "code",
   "execution_count": 93,
   "metadata": {
    "collapsed": false
   },
   "outputs": [
    {
     "data": {
      "text/plain": [
       "214286"
      ]
     },
     "execution_count": 93,
     "metadata": {},
     "output_type": "execute_result"
    }
   ],
   "source": [
    "dtake['EventPlayer3'].isnull().sum()"
   ]
  },
  {
   "cell_type": "code",
   "execution_count": 94,
   "metadata": {
    "collapsed": true
   },
   "outputs": [],
   "source": [
    "dtake = dtake[['Season', 'GameNumber', 'EventNumber', 'Event', 'EventTeamCode', 'EventPlayer1']]\n",
    "dtake = dtake.rename(columns={'EventPlayer1': 'PlayerName', 'EventTeamCode':'TeamCode'})"
   ]
  },
  {
   "cell_type": "markdown",
   "metadata": {},
   "source": [
    "- create a takeaway variable. If event type is a takeaway assign a value of 1. If not, assign a value of 0. Display total shots per player for a season."
   ]
  },
  {
   "cell_type": "code",
   "execution_count": 95,
   "metadata": {
    "collapsed": true
   },
   "outputs": [],
   "source": [
    "dtake['Takeaway'] = dtake.apply(lambda x: 1 if (x['Event'] == 'TAKE') else 0, axis=1)\n",
    "dtake = dtake.drop_duplicates(['Season', 'GameNumber', 'EventNumber', 'TeamCode', 'PlayerName'])\n",
    "dtake['Takeaways'] = dtake.groupby(['Season','TeamCode', 'PlayerName'])['Takeaway'].transform('sum')"
   ]
  },
  {
   "cell_type": "markdown",
   "metadata": {},
   "source": [
    "- drop duplicates to keep one observation per player for the season."
   ]
  },
  {
   "cell_type": "code",
   "execution_count": 96,
   "metadata": {
    "collapsed": false
   },
   "outputs": [
    {
     "data": {
      "text/html": [
       "<div>\n",
       "<table border=\"1\" class=\"dataframe\">\n",
       "  <thead>\n",
       "    <tr style=\"text-align: right;\">\n",
       "      <th></th>\n",
       "      <th>Season</th>\n",
       "      <th>TeamCode</th>\n",
       "      <th>PlayerName</th>\n",
       "      <th>Takeaways</th>\n",
       "    </tr>\n",
       "  </thead>\n",
       "  <tbody>\n",
       "    <tr>\n",
       "      <th>706</th>\n",
       "      <td>2017</td>\n",
       "      <td>WPG</td>\n",
       "      <td>SHAWN MATTHIAS</td>\n",
       "      <td>7</td>\n",
       "    </tr>\n",
       "    <tr>\n",
       "      <th>884</th>\n",
       "      <td>2017</td>\n",
       "      <td>WPG</td>\n",
       "      <td>MARK SCHEIFELE</td>\n",
       "      <td>47</td>\n",
       "    </tr>\n",
       "    <tr>\n",
       "      <th>1442</th>\n",
       "      <td>2017</td>\n",
       "      <td>TOR</td>\n",
       "      <td>ERIC FEHR</td>\n",
       "      <td>2</td>\n",
       "    </tr>\n",
       "    <tr>\n",
       "      <th>1447</th>\n",
       "      <td>2017</td>\n",
       "      <td>WPG</td>\n",
       "      <td>NIKOLAJ EHLERS</td>\n",
       "      <td>38</td>\n",
       "    </tr>\n",
       "    <tr>\n",
       "      <th>1790</th>\n",
       "      <td>2017</td>\n",
       "      <td>PIT</td>\n",
       "      <td>TOM KUHNHACKL</td>\n",
       "      <td>15</td>\n",
       "    </tr>\n",
       "  </tbody>\n",
       "</table>\n",
       "</div>"
      ],
      "text/plain": [
       "      Season TeamCode      PlayerName  Takeaways\n",
       "706     2017      WPG  SHAWN MATTHIAS          7\n",
       "884     2017      WPG  MARK SCHEIFELE         47\n",
       "1442    2017      TOR       ERIC FEHR          2\n",
       "1447    2017      WPG  NIKOLAJ EHLERS         38\n",
       "1790    2017      PIT   TOM KUHNHACKL         15"
      ]
     },
     "execution_count": 96,
     "metadata": {},
     "output_type": "execute_result"
    }
   ],
   "source": [
    "dtake = dtake.drop_duplicates(['Season', 'GameNumber', 'TeamCode', 'PlayerName'])\n",
    "dtake = dtake.drop_duplicates(['Season', 'TeamCode', 'PlayerName'])\n",
    "dtake = dtake[['Season', 'TeamCode', 'PlayerName', 'Takeaways']]\n",
    "dtake.head()"
   ]
  },
  {
   "cell_type": "code",
   "execution_count": 97,
   "metadata": {
    "collapsed": false
   },
   "outputs": [
    {
     "data": {
      "text/plain": [
       "Season        0\n",
       "TeamCode      0\n",
       "PlayerName    0\n",
       "Takeaways     0\n",
       "dtype: int64"
      ]
     },
     "execution_count": 97,
     "metadata": {},
     "output_type": "execute_result"
    }
   ],
   "source": [
    "dtake.isnull().sum()"
   ]
  },
  {
   "cell_type": "code",
   "execution_count": 98,
   "metadata": {
    "collapsed": false
   },
   "outputs": [
    {
     "data": {
      "text/plain": [
       "(896, 4)"
      ]
     },
     "execution_count": 98,
     "metadata": {},
     "output_type": "execute_result"
    }
   ],
   "source": [
    "dtake.shape"
   ]
  },
  {
   "cell_type": "markdown",
   "metadata": {},
   "source": [
    "####  giveaway dataframe (dgive)"
   ]
  },
  {
   "cell_type": "code",
   "execution_count": 99,
   "metadata": {
    "collapsed": true
   },
   "outputs": [],
   "source": [
    "dgive = dc.copy()\n",
    "dgive = dgive[dgive['Event'] == 'GIVE']"
   ]
  },
  {
   "cell_type": "code",
   "execution_count": 100,
   "metadata": {
    "collapsed": false
   },
   "outputs": [
    {
     "data": {
      "text/plain": [
       "(278083, 19)"
      ]
     },
     "execution_count": 100,
     "metadata": {},
     "output_type": "execute_result"
    }
   ],
   "source": [
    "dgive.shape"
   ]
  },
  {
   "cell_type": "code",
   "execution_count": 101,
   "metadata": {
    "collapsed": false
   },
   "outputs": [
    {
     "data": {
      "text/plain": [
       "278083"
      ]
     },
     "execution_count": 101,
     "metadata": {},
     "output_type": "execute_result"
    }
   ],
   "source": [
    "dgive['EventPlayer2'].isnull().sum()"
   ]
  },
  {
   "cell_type": "code",
   "execution_count": 102,
   "metadata": {
    "collapsed": false
   },
   "outputs": [
    {
     "data": {
      "text/plain": [
       "278083"
      ]
     },
     "execution_count": 102,
     "metadata": {},
     "output_type": "execute_result"
    }
   ],
   "source": [
    "dgive['EventPlayer3'].isnull().sum()"
   ]
  },
  {
   "cell_type": "code",
   "execution_count": 103,
   "metadata": {
    "collapsed": true
   },
   "outputs": [],
   "source": [
    "dgive = dgive[['Season', 'GameNumber', 'EventNumber', 'Event', 'EventTeamCode', 'EventPlayer1']]\n",
    "dgive = dgive.rename(columns={'EventPlayer1': 'PlayerName', 'EventTeamCode':'TeamCode'})"
   ]
  },
  {
   "cell_type": "markdown",
   "metadata": {},
   "source": [
    "- create a giveaway variable. If event type is a giveaway assign a value of 1. If not, assign a value of 0. Display total shots per player for a season."
   ]
  },
  {
   "cell_type": "code",
   "execution_count": 104,
   "metadata": {
    "collapsed": true
   },
   "outputs": [],
   "source": [
    "dgive['Giveaway'] = dgive.apply(lambda x: 1 if (x['Event'] == 'GIVE') else 0, axis=1)\n",
    "dgive = dgive.drop_duplicates(['Season', 'GameNumber', 'EventNumber', 'TeamCode', 'PlayerName'])\n",
    "dgive['Giveaways'] = dgive.groupby(['Season','TeamCode', 'PlayerName'])['Giveaway'].transform('sum')"
   ]
  },
  {
   "cell_type": "markdown",
   "metadata": {},
   "source": [
    "- drop duplicates to keep one observation per player for the season."
   ]
  },
  {
   "cell_type": "code",
   "execution_count": 105,
   "metadata": {
    "collapsed": false
   },
   "outputs": [
    {
     "data": {
      "text/html": [
       "<div>\n",
       "<table border=\"1\" class=\"dataframe\">\n",
       "  <thead>\n",
       "    <tr style=\"text-align: right;\">\n",
       "      <th></th>\n",
       "      <th>Season</th>\n",
       "      <th>TeamCode</th>\n",
       "      <th>PlayerName</th>\n",
       "      <th>Giveaways</th>\n",
       "    </tr>\n",
       "  </thead>\n",
       "  <tbody>\n",
       "    <tr>\n",
       "      <th>53</th>\n",
       "      <td>2017</td>\n",
       "      <td>WPG</td>\n",
       "      <td>DUSTIN BYFUGLIEN</td>\n",
       "      <td>79</td>\n",
       "    </tr>\n",
       "    <tr>\n",
       "      <th>182</th>\n",
       "      <td>2017</td>\n",
       "      <td>WPG</td>\n",
       "      <td>PATRIK LAINE</td>\n",
       "      <td>51</td>\n",
       "    </tr>\n",
       "    <tr>\n",
       "      <th>359</th>\n",
       "      <td>2017</td>\n",
       "      <td>TOR</td>\n",
       "      <td>RON HAINSEY</td>\n",
       "      <td>85</td>\n",
       "    </tr>\n",
       "    <tr>\n",
       "      <th>442</th>\n",
       "      <td>2017</td>\n",
       "      <td>TOR</td>\n",
       "      <td>MITCHELL MARNER</td>\n",
       "      <td>50</td>\n",
       "    </tr>\n",
       "    <tr>\n",
       "      <th>498</th>\n",
       "      <td>2017</td>\n",
       "      <td>TOR</td>\n",
       "      <td>JAKE GARDINER</td>\n",
       "      <td>105</td>\n",
       "    </tr>\n",
       "  </tbody>\n",
       "</table>\n",
       "</div>"
      ],
      "text/plain": [
       "     Season TeamCode        PlayerName  Giveaways\n",
       "53     2017      WPG  DUSTIN BYFUGLIEN         79\n",
       "182    2017      WPG      PATRIK LAINE         51\n",
       "359    2017      TOR       RON HAINSEY         85\n",
       "442    2017      TOR   MITCHELL MARNER         50\n",
       "498    2017      TOR     JAKE GARDINER        105"
      ]
     },
     "execution_count": 105,
     "metadata": {},
     "output_type": "execute_result"
    }
   ],
   "source": [
    "dgive = dgive.drop_duplicates(['Season', 'GameNumber', 'TeamCode', 'PlayerName'])\n",
    "dgive = dgive.drop_duplicates(['Season', 'TeamCode', 'PlayerName'])\n",
    "dgive = dgive[['Season', 'TeamCode', 'PlayerName', 'Giveaways']]\n",
    "dgive.head()"
   ]
  },
  {
   "cell_type": "code",
   "execution_count": 106,
   "metadata": {
    "collapsed": false
   },
   "outputs": [
    {
     "data": {
      "text/plain": [
       "Season        0\n",
       "TeamCode      0\n",
       "PlayerName    0\n",
       "Giveaways     0\n",
       "dtype: int64"
      ]
     },
     "execution_count": 106,
     "metadata": {},
     "output_type": "execute_result"
    }
   ],
   "source": [
    "dgive.isnull().sum()"
   ]
  },
  {
   "cell_type": "code",
   "execution_count": 107,
   "metadata": {
    "collapsed": false
   },
   "outputs": [
    {
     "data": {
      "text/plain": [
       "(981, 4)"
      ]
     },
     "execution_count": 107,
     "metadata": {},
     "output_type": "execute_result"
    }
   ],
   "source": [
    "dgive.shape"
   ]
  },
  {
   "cell_type": "markdown",
   "metadata": {},
   "source": [
    "### import 2017 player shifts"
   ]
  },
  {
   "cell_type": "code",
   "execution_count": 108,
   "metadata": {
    "collapsed": true
   },
   "outputs": [],
   "source": [
    "dshift = pd.read_csv('/Users/stefanostselios/Brock University/Kevin Mongeon - StephanosShare/data/nhl_shifts20172018.csv')\n",
    "#dshift = pd.read_csv('/Users/kevinmongeon/Brock University/Steve Tselios - StephanosShare/data/nhl_shifts20172018.csv')\n",
    "dshift = dshift.drop('Unnamed: 0', axis=1)"
   ]
  },
  {
   "cell_type": "markdown",
   "metadata": {},
   "source": [
    "- rename variables, keep only regular season games and create a season variable."
   ]
  },
  {
   "cell_type": "code",
   "execution_count": 109,
   "metadata": {
    "collapsed": false
   },
   "outputs": [
    {
     "data": {
      "text/html": [
       "<div>\n",
       "<table border=\"1\" class=\"dataframe\">\n",
       "  <thead>\n",
       "    <tr style=\"text-align: right;\">\n",
       "      <th></th>\n",
       "      <th>Season</th>\n",
       "      <th>Date</th>\n",
       "      <th>GameNumber</th>\n",
       "      <th>Period</th>\n",
       "      <th>TeamCode</th>\n",
       "      <th>PlayerName</th>\n",
       "      <th>Player_Id</th>\n",
       "      <th>Start</th>\n",
       "      <th>End</th>\n",
       "      <th>Duration</th>\n",
       "    </tr>\n",
       "  </thead>\n",
       "  <tbody>\n",
       "    <tr>\n",
       "      <th>0</th>\n",
       "      <td>2017</td>\n",
       "      <td>2017-10-04</td>\n",
       "      <td>20001</td>\n",
       "      <td>1</td>\n",
       "      <td>WPG</td>\n",
       "      <td>BLAKE WHEELER</td>\n",
       "      <td>8471218</td>\n",
       "      <td>0.0</td>\n",
       "      <td>28.0</td>\n",
       "      <td>28.0</td>\n",
       "    </tr>\n",
       "    <tr>\n",
       "      <th>1</th>\n",
       "      <td>2017</td>\n",
       "      <td>2017-10-04</td>\n",
       "      <td>20001</td>\n",
       "      <td>1</td>\n",
       "      <td>WPG</td>\n",
       "      <td>DUSTIN BYFUGLIEN</td>\n",
       "      <td>8470834</td>\n",
       "      <td>0.0</td>\n",
       "      <td>28.0</td>\n",
       "      <td>28.0</td>\n",
       "    </tr>\n",
       "    <tr>\n",
       "      <th>2</th>\n",
       "      <td>2017</td>\n",
       "      <td>2017-10-04</td>\n",
       "      <td>20001</td>\n",
       "      <td>1</td>\n",
       "      <td>WPG</td>\n",
       "      <td>TOBIAS ENSTROM</td>\n",
       "      <td>8470828</td>\n",
       "      <td>0.0</td>\n",
       "      <td>28.0</td>\n",
       "      <td>28.0</td>\n",
       "    </tr>\n",
       "    <tr>\n",
       "      <th>3</th>\n",
       "      <td>2017</td>\n",
       "      <td>2017-10-04</td>\n",
       "      <td>20001</td>\n",
       "      <td>1</td>\n",
       "      <td>WPG</td>\n",
       "      <td>MARK SCHEIFELE</td>\n",
       "      <td>8476460</td>\n",
       "      <td>0.0</td>\n",
       "      <td>37.0</td>\n",
       "      <td>37.0</td>\n",
       "    </tr>\n",
       "    <tr>\n",
       "      <th>4</th>\n",
       "      <td>2017</td>\n",
       "      <td>2017-10-04</td>\n",
       "      <td>20001</td>\n",
       "      <td>1</td>\n",
       "      <td>WPG</td>\n",
       "      <td>MATHIEU PERREAULT</td>\n",
       "      <td>8473618</td>\n",
       "      <td>0.0</td>\n",
       "      <td>37.0</td>\n",
       "      <td>37.0</td>\n",
       "    </tr>\n",
       "  </tbody>\n",
       "</table>\n",
       "</div>"
      ],
      "text/plain": [
       "   Season        Date  GameNumber  Period TeamCode         PlayerName  \\\n",
       "0    2017  2017-10-04       20001       1      WPG      BLAKE WHEELER   \n",
       "1    2017  2017-10-04       20001       1      WPG   DUSTIN BYFUGLIEN   \n",
       "2    2017  2017-10-04       20001       1      WPG     TOBIAS ENSTROM   \n",
       "3    2017  2017-10-04       20001       1      WPG     MARK SCHEIFELE   \n",
       "4    2017  2017-10-04       20001       1      WPG  MATHIEU PERREAULT   \n",
       "\n",
       "   Player_Id  Start   End  Duration  \n",
       "0    8471218    0.0  28.0      28.0  \n",
       "1    8470834    0.0  28.0      28.0  \n",
       "2    8470828    0.0  28.0      28.0  \n",
       "3    8476460    0.0  37.0      37.0  \n",
       "4    8473618    0.0  37.0      37.0  "
      ]
     },
     "execution_count": 109,
     "metadata": {},
     "output_type": "execute_result"
    }
   ],
   "source": [
    "dshift['Season'] = 2017\n",
    "dshift= dshift.rename(columns={ 'Game_Id' : 'GameNumber', 'Team': 'TeamCode', 'Player': 'PlayerName' })\n",
    "dshift = dshift[dshift['GameNumber'] <= 21271]\n",
    "dshift = dshift[['Season', 'Date', 'GameNumber', 'Period', 'TeamCode', 'PlayerName', 'Player_Id', 'Start', 'End', 'Duration']]\n",
    "dshift.head()"
   ]
  },
  {
   "cell_type": "markdown",
   "metadata": {},
   "source": [
    "- calcuate the seconds an individual played per game. Convert seconds to minutes and drop duplicates per season, game number, team and player."
   ]
  },
  {
   "cell_type": "code",
   "execution_count": 110,
   "metadata": {
    "collapsed": true
   },
   "outputs": [],
   "source": [
    "dshift['Seconds'] = dshift.groupby(['Season', 'GameNumber', 'TeamCode', 'PlayerName'])['Duration'].transform('sum')\n",
    "dshift['Minutes'] = dshift['Seconds']/60\n",
    "dshift['Minutes'] = dshift['Minutes'].round(2)"
   ]
  },
  {
   "cell_type": "code",
   "execution_count": 111,
   "metadata": {
    "collapsed": true
   },
   "outputs": [],
   "source": [
    "dshift = dshift.drop_duplicates(['Season', 'GameNumber', 'TeamCode', 'PlayerName'])"
   ]
  },
  {
   "cell_type": "code",
   "execution_count": 112,
   "metadata": {
    "collapsed": false
   },
   "outputs": [
    {
     "data": {
      "text/html": [
       "<div>\n",
       "<table border=\"1\" class=\"dataframe\">\n",
       "  <thead>\n",
       "    <tr style=\"text-align: right;\">\n",
       "      <th></th>\n",
       "      <th>Season</th>\n",
       "      <th>Date</th>\n",
       "      <th>GameNumber</th>\n",
       "      <th>Period</th>\n",
       "      <th>TeamCode</th>\n",
       "      <th>PlayerName</th>\n",
       "      <th>Player_Id</th>\n",
       "      <th>Start</th>\n",
       "      <th>End</th>\n",
       "      <th>Duration</th>\n",
       "      <th>Seconds</th>\n",
       "      <th>Minutes</th>\n",
       "    </tr>\n",
       "  </thead>\n",
       "  <tbody>\n",
       "    <tr>\n",
       "      <th>0</th>\n",
       "      <td>2017</td>\n",
       "      <td>2017-10-04</td>\n",
       "      <td>20001</td>\n",
       "      <td>1</td>\n",
       "      <td>WPG</td>\n",
       "      <td>BLAKE WHEELER</td>\n",
       "      <td>8471218</td>\n",
       "      <td>0.0</td>\n",
       "      <td>28.0</td>\n",
       "      <td>28.0</td>\n",
       "      <td>1098.0</td>\n",
       "      <td>18.30</td>\n",
       "    </tr>\n",
       "    <tr>\n",
       "      <th>1</th>\n",
       "      <td>2017</td>\n",
       "      <td>2017-10-04</td>\n",
       "      <td>20001</td>\n",
       "      <td>1</td>\n",
       "      <td>WPG</td>\n",
       "      <td>DUSTIN BYFUGLIEN</td>\n",
       "      <td>8470834</td>\n",
       "      <td>0.0</td>\n",
       "      <td>28.0</td>\n",
       "      <td>28.0</td>\n",
       "      <td>1339.0</td>\n",
       "      <td>22.32</td>\n",
       "    </tr>\n",
       "    <tr>\n",
       "      <th>2</th>\n",
       "      <td>2017</td>\n",
       "      <td>2017-10-04</td>\n",
       "      <td>20001</td>\n",
       "      <td>1</td>\n",
       "      <td>WPG</td>\n",
       "      <td>TOBIAS ENSTROM</td>\n",
       "      <td>8470828</td>\n",
       "      <td>0.0</td>\n",
       "      <td>28.0</td>\n",
       "      <td>28.0</td>\n",
       "      <td>758.0</td>\n",
       "      <td>12.63</td>\n",
       "    </tr>\n",
       "    <tr>\n",
       "      <th>3</th>\n",
       "      <td>2017</td>\n",
       "      <td>2017-10-04</td>\n",
       "      <td>20001</td>\n",
       "      <td>1</td>\n",
       "      <td>WPG</td>\n",
       "      <td>MARK SCHEIFELE</td>\n",
       "      <td>8476460</td>\n",
       "      <td>0.0</td>\n",
       "      <td>37.0</td>\n",
       "      <td>37.0</td>\n",
       "      <td>1142.0</td>\n",
       "      <td>19.03</td>\n",
       "    </tr>\n",
       "    <tr>\n",
       "      <th>4</th>\n",
       "      <td>2017</td>\n",
       "      <td>2017-10-04</td>\n",
       "      <td>20001</td>\n",
       "      <td>1</td>\n",
       "      <td>WPG</td>\n",
       "      <td>MATHIEU PERREAULT</td>\n",
       "      <td>8473618</td>\n",
       "      <td>0.0</td>\n",
       "      <td>37.0</td>\n",
       "      <td>37.0</td>\n",
       "      <td>1049.0</td>\n",
       "      <td>17.48</td>\n",
       "    </tr>\n",
       "  </tbody>\n",
       "</table>\n",
       "</div>"
      ],
      "text/plain": [
       "   Season        Date  GameNumber  Period TeamCode         PlayerName  \\\n",
       "0    2017  2017-10-04       20001       1      WPG      BLAKE WHEELER   \n",
       "1    2017  2017-10-04       20001       1      WPG   DUSTIN BYFUGLIEN   \n",
       "2    2017  2017-10-04       20001       1      WPG     TOBIAS ENSTROM   \n",
       "3    2017  2017-10-04       20001       1      WPG     MARK SCHEIFELE   \n",
       "4    2017  2017-10-04       20001       1      WPG  MATHIEU PERREAULT   \n",
       "\n",
       "   Player_Id  Start   End  Duration  Seconds  Minutes  \n",
       "0    8471218    0.0  28.0      28.0   1098.0    18.30  \n",
       "1    8470834    0.0  28.0      28.0   1339.0    22.32  \n",
       "2    8470828    0.0  28.0      28.0    758.0    12.63  \n",
       "3    8476460    0.0  37.0      37.0   1142.0    19.03  \n",
       "4    8473618    0.0  37.0      37.0   1049.0    17.48  "
      ]
     },
     "execution_count": 112,
     "metadata": {},
     "output_type": "execute_result"
    }
   ],
   "source": [
    "dshift.head()"
   ]
  },
  {
   "cell_type": "markdown",
   "metadata": {},
   "source": [
    "- calcuate the seconds an individual played for the whole regular season. Convert seconds to minutes and drop duplicates per season, game number, team and player."
   ]
  },
  {
   "cell_type": "code",
   "execution_count": 113,
   "metadata": {
    "collapsed": false
   },
   "outputs": [
    {
     "data": {
      "text/html": [
       "<div>\n",
       "<table border=\"1\" class=\"dataframe\">\n",
       "  <thead>\n",
       "    <tr style=\"text-align: right;\">\n",
       "      <th></th>\n",
       "      <th>Season</th>\n",
       "      <th>Date</th>\n",
       "      <th>GameNumber</th>\n",
       "      <th>Period</th>\n",
       "      <th>TeamCode</th>\n",
       "      <th>PlayerName</th>\n",
       "      <th>Player_Id</th>\n",
       "      <th>Start</th>\n",
       "      <th>End</th>\n",
       "      <th>Duration</th>\n",
       "      <th>Seconds</th>\n",
       "      <th>Minutes</th>\n",
       "      <th>TSeconds</th>\n",
       "      <th>TOI</th>\n",
       "    </tr>\n",
       "  </thead>\n",
       "  <tbody>\n",
       "    <tr>\n",
       "      <th>0</th>\n",
       "      <td>2017</td>\n",
       "      <td>2017-10-04</td>\n",
       "      <td>20001</td>\n",
       "      <td>1</td>\n",
       "      <td>WPG</td>\n",
       "      <td>BLAKE WHEELER</td>\n",
       "      <td>8471218</td>\n",
       "      <td>0.0</td>\n",
       "      <td>28.0</td>\n",
       "      <td>28.0</td>\n",
       "      <td>1098.0</td>\n",
       "      <td>18.30</td>\n",
       "      <td>98447.0</td>\n",
       "      <td>1641.0</td>\n",
       "    </tr>\n",
       "    <tr>\n",
       "      <th>1</th>\n",
       "      <td>2017</td>\n",
       "      <td>2017-10-04</td>\n",
       "      <td>20001</td>\n",
       "      <td>1</td>\n",
       "      <td>WPG</td>\n",
       "      <td>DUSTIN BYFUGLIEN</td>\n",
       "      <td>8470834</td>\n",
       "      <td>0.0</td>\n",
       "      <td>28.0</td>\n",
       "      <td>28.0</td>\n",
       "      <td>1339.0</td>\n",
       "      <td>22.32</td>\n",
       "      <td>100763.0</td>\n",
       "      <td>1679.0</td>\n",
       "    </tr>\n",
       "    <tr>\n",
       "      <th>2</th>\n",
       "      <td>2017</td>\n",
       "      <td>2017-10-04</td>\n",
       "      <td>20001</td>\n",
       "      <td>1</td>\n",
       "      <td>WPG</td>\n",
       "      <td>TOBIAS ENSTROM</td>\n",
       "      <td>8470828</td>\n",
       "      <td>0.0</td>\n",
       "      <td>28.0</td>\n",
       "      <td>28.0</td>\n",
       "      <td>758.0</td>\n",
       "      <td>12.63</td>\n",
       "      <td>43941.0</td>\n",
       "      <td>732.0</td>\n",
       "    </tr>\n",
       "    <tr>\n",
       "      <th>3</th>\n",
       "      <td>2017</td>\n",
       "      <td>2017-10-04</td>\n",
       "      <td>20001</td>\n",
       "      <td>1</td>\n",
       "      <td>WPG</td>\n",
       "      <td>MARK SCHEIFELE</td>\n",
       "      <td>8476460</td>\n",
       "      <td>0.0</td>\n",
       "      <td>37.0</td>\n",
       "      <td>37.0</td>\n",
       "      <td>1142.0</td>\n",
       "      <td>19.03</td>\n",
       "      <td>74442.0</td>\n",
       "      <td>1241.0</td>\n",
       "    </tr>\n",
       "    <tr>\n",
       "      <th>4</th>\n",
       "      <td>2017</td>\n",
       "      <td>2017-10-04</td>\n",
       "      <td>20001</td>\n",
       "      <td>1</td>\n",
       "      <td>WPG</td>\n",
       "      <td>MATHIEU PERREAULT</td>\n",
       "      <td>8473618</td>\n",
       "      <td>0.0</td>\n",
       "      <td>37.0</td>\n",
       "      <td>37.0</td>\n",
       "      <td>1049.0</td>\n",
       "      <td>17.48</td>\n",
       "      <td>60725.0</td>\n",
       "      <td>1012.0</td>\n",
       "    </tr>\n",
       "  </tbody>\n",
       "</table>\n",
       "</div>"
      ],
      "text/plain": [
       "   Season        Date  GameNumber  Period TeamCode         PlayerName  \\\n",
       "0    2017  2017-10-04       20001       1      WPG      BLAKE WHEELER   \n",
       "1    2017  2017-10-04       20001       1      WPG   DUSTIN BYFUGLIEN   \n",
       "2    2017  2017-10-04       20001       1      WPG     TOBIAS ENSTROM   \n",
       "3    2017  2017-10-04       20001       1      WPG     MARK SCHEIFELE   \n",
       "4    2017  2017-10-04       20001       1      WPG  MATHIEU PERREAULT   \n",
       "\n",
       "   Player_Id  Start   End  Duration  Seconds  Minutes  TSeconds     TOI  \n",
       "0    8471218    0.0  28.0      28.0   1098.0    18.30   98447.0  1641.0  \n",
       "1    8470834    0.0  28.0      28.0   1339.0    22.32  100763.0  1679.0  \n",
       "2    8470828    0.0  28.0      28.0    758.0    12.63   43941.0   732.0  \n",
       "3    8476460    0.0  37.0      37.0   1142.0    19.03   74442.0  1241.0  \n",
       "4    8473618    0.0  37.0      37.0   1049.0    17.48   60725.0  1012.0  "
      ]
     },
     "execution_count": 113,
     "metadata": {},
     "output_type": "execute_result"
    }
   ],
   "source": [
    "dshift['TSeconds'] = dshift.groupby(['Season', 'TeamCode', 'PlayerName'])['Seconds'].transform('sum')\n",
    "dshift['TOI'] = dshift['TSeconds']/60\n",
    "dshift['TOI'] = dshift['TOI'].round(0)\n",
    "dshift.head()"
   ]
  },
  {
   "cell_type": "markdown",
   "metadata": {},
   "source": [
    "- keep only observation per player for the season"
   ]
  },
  {
   "cell_type": "code",
   "execution_count": 114,
   "metadata": {
    "collapsed": false
   },
   "outputs": [
    {
     "data": {
      "text/html": [
       "<div>\n",
       "<table border=\"1\" class=\"dataframe\">\n",
       "  <thead>\n",
       "    <tr style=\"text-align: right;\">\n",
       "      <th></th>\n",
       "      <th>Season</th>\n",
       "      <th>TeamCode</th>\n",
       "      <th>PlayerName</th>\n",
       "      <th>TOI</th>\n",
       "    </tr>\n",
       "  </thead>\n",
       "  <tbody>\n",
       "    <tr>\n",
       "      <th>0</th>\n",
       "      <td>2017</td>\n",
       "      <td>WPG</td>\n",
       "      <td>BLAKE WHEELER</td>\n",
       "      <td>1641.0</td>\n",
       "    </tr>\n",
       "    <tr>\n",
       "      <th>1</th>\n",
       "      <td>2017</td>\n",
       "      <td>WPG</td>\n",
       "      <td>DUSTIN BYFUGLIEN</td>\n",
       "      <td>1679.0</td>\n",
       "    </tr>\n",
       "    <tr>\n",
       "      <th>2</th>\n",
       "      <td>2017</td>\n",
       "      <td>WPG</td>\n",
       "      <td>TOBIAS ENSTROM</td>\n",
       "      <td>732.0</td>\n",
       "    </tr>\n",
       "    <tr>\n",
       "      <th>3</th>\n",
       "      <td>2017</td>\n",
       "      <td>WPG</td>\n",
       "      <td>MARK SCHEIFELE</td>\n",
       "      <td>1241.0</td>\n",
       "    </tr>\n",
       "    <tr>\n",
       "      <th>4</th>\n",
       "      <td>2017</td>\n",
       "      <td>WPG</td>\n",
       "      <td>MATHIEU PERREAULT</td>\n",
       "      <td>1012.0</td>\n",
       "    </tr>\n",
       "  </tbody>\n",
       "</table>\n",
       "</div>"
      ],
      "text/plain": [
       "   Season TeamCode         PlayerName     TOI\n",
       "0    2017      WPG      BLAKE WHEELER  1641.0\n",
       "1    2017      WPG   DUSTIN BYFUGLIEN  1679.0\n",
       "2    2017      WPG     TOBIAS ENSTROM   732.0\n",
       "3    2017      WPG     MARK SCHEIFELE  1241.0\n",
       "4    2017      WPG  MATHIEU PERREAULT  1012.0"
      ]
     },
     "execution_count": 114,
     "metadata": {},
     "output_type": "execute_result"
    }
   ],
   "source": [
    "dshift = dshift.drop_duplicates(['Season', 'TeamCode', 'PlayerName'])\n",
    "dshift = dshift[['Season', 'TeamCode', 'PlayerName', 'TOI']]\n",
    "dshift.head()"
   ]
  },
  {
   "cell_type": "code",
   "execution_count": 115,
   "metadata": {
    "collapsed": false
   },
   "outputs": [
    {
     "data": {
      "text/plain": [
       "Season        0\n",
       "TeamCode      0\n",
       "PlayerName    0\n",
       "TOI           0\n",
       "dtype: int64"
      ]
     },
     "execution_count": 115,
     "metadata": {},
     "output_type": "execute_result"
    }
   ],
   "source": [
    "dshift.isnull().sum()"
   ]
  },
  {
   "cell_type": "code",
   "execution_count": 116,
   "metadata": {
    "collapsed": false
   },
   "outputs": [
    {
     "data": {
      "text/plain": [
       "(1067, 4)"
      ]
     },
     "execution_count": 116,
     "metadata": {},
     "output_type": "execute_result"
    }
   ],
   "source": [
    "dshift.shape"
   ]
  },
  {
   "cell_type": "markdown",
   "metadata": {},
   "source": [
    "### import 2017 player positions"
   ]
  },
  {
   "cell_type": "code",
   "execution_count": 117,
   "metadata": {
    "collapsed": false
   },
   "outputs": [],
   "source": [
    "dpos = pd.read_csv('/Users/stefanostselios/Brock University/Kevin Mongeon - StephanosShare/data/nhl_positions20172018.csv')\n",
    "#dpos = pd.read_csv('/Users/kevinmongeon/Brock University/Steve Tselios - StephanosShare/data/nhl_positions20172018.csv')"
   ]
  },
  {
   "cell_type": "code",
   "execution_count": 118,
   "metadata": {
    "collapsed": false
   },
   "outputs": [
    {
     "data": {
      "text/html": [
       "<div>\n",
       "<table border=\"1\" class=\"dataframe\">\n",
       "  <thead>\n",
       "    <tr style=\"text-align: right;\">\n",
       "      <th></th>\n",
       "      <th>Last Name</th>\n",
       "      <th>First Name</th>\n",
       "      <th>Position</th>\n",
       "      <th>TeamCode</th>\n",
       "      <th>FName</th>\n",
       "      <th>LName</th>\n",
       "      <th>PlayerName</th>\n",
       "    </tr>\n",
       "  </thead>\n",
       "  <tbody>\n",
       "    <tr>\n",
       "      <th>0</th>\n",
       "      <td>Hayes</td>\n",
       "      <td>Jimmy</td>\n",
       "      <td>RW</td>\n",
       "      <td>NJD</td>\n",
       "      <td>JIMMY</td>\n",
       "      <td>HAYES</td>\n",
       "      <td>JIMMY HAYES</td>\n",
       "    </tr>\n",
       "    <tr>\n",
       "      <th>1</th>\n",
       "      <td>Lehtera</td>\n",
       "      <td>Jori</td>\n",
       "      <td>C</td>\n",
       "      <td>PHI</td>\n",
       "      <td>JORI</td>\n",
       "      <td>LEHTERA</td>\n",
       "      <td>JORI LEHTERA</td>\n",
       "    </tr>\n",
       "    <tr>\n",
       "      <th>2</th>\n",
       "      <td>Stone</td>\n",
       "      <td>Michael</td>\n",
       "      <td>D</td>\n",
       "      <td>CGY</td>\n",
       "      <td>MICHAEL</td>\n",
       "      <td>STONE</td>\n",
       "      <td>MICHAEL STONE</td>\n",
       "    </tr>\n",
       "    <tr>\n",
       "      <th>3</th>\n",
       "      <td>Hartnell</td>\n",
       "      <td>Scott</td>\n",
       "      <td>LW</td>\n",
       "      <td>NSH</td>\n",
       "      <td>SCOTT</td>\n",
       "      <td>HARTNELL</td>\n",
       "      <td>SCOTT HARTNELL</td>\n",
       "    </tr>\n",
       "    <tr>\n",
       "      <th>4</th>\n",
       "      <td>Hainsey</td>\n",
       "      <td>Ron</td>\n",
       "      <td>D</td>\n",
       "      <td>TOR</td>\n",
       "      <td>RON</td>\n",
       "      <td>HAINSEY</td>\n",
       "      <td>RON HAINSEY</td>\n",
       "    </tr>\n",
       "  </tbody>\n",
       "</table>\n",
       "</div>"
      ],
      "text/plain": [
       "  Last Name First Name Position TeamCode    FName     LName      PlayerName\n",
       "0     Hayes      Jimmy       RW      NJD    JIMMY     HAYES     JIMMY HAYES\n",
       "1   Lehtera       Jori        C      PHI     JORI   LEHTERA    JORI LEHTERA\n",
       "2     Stone    Michael        D      CGY  MICHAEL     STONE   MICHAEL STONE\n",
       "3  Hartnell      Scott       LW      NSH    SCOTT  HARTNELL  SCOTT HARTNELL\n",
       "4   Hainsey        Ron        D      TOR      RON   HAINSEY     RON HAINSEY"
      ]
     },
     "execution_count": 118,
     "metadata": {},
     "output_type": "execute_result"
    }
   ],
   "source": [
    "dpos.head()"
   ]
  },
  {
   "cell_type": "code",
   "execution_count": 119,
   "metadata": {
    "collapsed": false
   },
   "outputs": [
    {
     "data": {
      "text/html": [
       "<div>\n",
       "<table border=\"1\" class=\"dataframe\">\n",
       "  <thead>\n",
       "    <tr style=\"text-align: right;\">\n",
       "      <th></th>\n",
       "      <th>Season</th>\n",
       "      <th>TeamCode</th>\n",
       "      <th>PlayerName</th>\n",
       "      <th>Position</th>\n",
       "    </tr>\n",
       "  </thead>\n",
       "  <tbody>\n",
       "    <tr>\n",
       "      <th>0</th>\n",
       "      <td>2017</td>\n",
       "      <td>NJD</td>\n",
       "      <td>JIMMY HAYES</td>\n",
       "      <td>RW</td>\n",
       "    </tr>\n",
       "    <tr>\n",
       "      <th>1</th>\n",
       "      <td>2017</td>\n",
       "      <td>PHI</td>\n",
       "      <td>JORI LEHTERA</td>\n",
       "      <td>C</td>\n",
       "    </tr>\n",
       "    <tr>\n",
       "      <th>2</th>\n",
       "      <td>2017</td>\n",
       "      <td>CGY</td>\n",
       "      <td>MICHAEL STONE</td>\n",
       "      <td>D</td>\n",
       "    </tr>\n",
       "    <tr>\n",
       "      <th>3</th>\n",
       "      <td>2017</td>\n",
       "      <td>NSH</td>\n",
       "      <td>SCOTT HARTNELL</td>\n",
       "      <td>LW</td>\n",
       "    </tr>\n",
       "    <tr>\n",
       "      <th>4</th>\n",
       "      <td>2017</td>\n",
       "      <td>TOR</td>\n",
       "      <td>RON HAINSEY</td>\n",
       "      <td>D</td>\n",
       "    </tr>\n",
       "  </tbody>\n",
       "</table>\n",
       "</div>"
      ],
      "text/plain": [
       "   Season TeamCode      PlayerName Position\n",
       "0    2017      NJD     JIMMY HAYES       RW\n",
       "1    2017      PHI    JORI LEHTERA        C\n",
       "2    2017      CGY   MICHAEL STONE        D\n",
       "3    2017      NSH  SCOTT HARTNELL       LW\n",
       "4    2017      TOR     RON HAINSEY        D"
      ]
     },
     "execution_count": 119,
     "metadata": {},
     "output_type": "execute_result"
    }
   ],
   "source": [
    "dpos['Season'] = 2017\n",
    "dpos= dpos.rename(columns={ 'Team': 'TeamCode', 'Pos ': 'Position'})\n",
    "dpos = dpos[['Season', 'TeamCode', 'PlayerName', 'Position']]\n",
    "dpos.head()"
   ]
  },
  {
   "cell_type": "code",
   "execution_count": 120,
   "metadata": {
    "collapsed": false
   },
   "outputs": [
    {
     "data": {
      "text/plain": [
       "Season         int64\n",
       "TeamCode      object\n",
       "PlayerName    object\n",
       "Position      object\n",
       "dtype: object"
      ]
     },
     "execution_count": 120,
     "metadata": {},
     "output_type": "execute_result"
    }
   ],
   "source": [
    "dpos.dtypes"
   ]
  },
  {
   "cell_type": "code",
   "execution_count": 121,
   "metadata": {
    "collapsed": false
   },
   "outputs": [
    {
     "data": {
      "text/plain": [
       "W    347\n",
       "D    306\n",
       "C    237\n",
       "G     95\n",
       "Name: Position, dtype: int64"
      ]
     },
     "execution_count": 121,
     "metadata": {},
     "output_type": "execute_result"
    }
   ],
   "source": [
    "dpos['Position'] = dpos.apply(lambda x: 'C' if x['Position'] == 'C/LW' else 'C' if x['Position'] == 'C/RW' else 'C' if x['Position'] == 'C/RW/LW' else 'C' if x['Position'] == 'C/LW/RW' else 'W' if x['Position'] == 'RW' else 'W' if x['Position'] == 'LW' else 'W' if x['Position'] == 'LW/C' else 'W' if x['Position'] == 'RW/C' else 'W' if x['Position'] == 'RW/LW' else 'W' if x['Position'] == 'LW/RW' else 'W' if x['Position'] == 'RW/LW/C' else 'W' if x['Position'] == 'RW/C/LW' else 'W' if x['Position'] == 'RW/C/LW' else 'W' if x['Position'] == 'LW/D' else 'W' if x['Position'] == 'LW/C/RW' else 'W' if x['Position'] == 'LW/RW/C' else 'D' if x['Position'] == 'D/LW' else 'D' if x['Position'] == 'D/RW' else 'C' if x['Position'] == 'C/D' else 'W' if x['Position'] == 'RW/D' else x['Position'] , axis=1)\n",
    "dpos['Position'].value_counts()"
   ]
  },
  {
   "cell_type": "code",
   "execution_count": 122,
   "metadata": {
    "collapsed": false
   },
   "outputs": [
    {
     "data": {
      "text/html": [
       "<div>\n",
       "<table border=\"1\" class=\"dataframe\">\n",
       "  <thead>\n",
       "    <tr style=\"text-align: right;\">\n",
       "      <th></th>\n",
       "      <th>Season</th>\n",
       "      <th>TeamCode</th>\n",
       "      <th>PlayerName</th>\n",
       "      <th>Position</th>\n",
       "    </tr>\n",
       "  </thead>\n",
       "  <tbody>\n",
       "    <tr>\n",
       "      <th>0</th>\n",
       "      <td>2017</td>\n",
       "      <td>N.J</td>\n",
       "      <td>JIMMY HAYES</td>\n",
       "      <td>W</td>\n",
       "    </tr>\n",
       "    <tr>\n",
       "      <th>1</th>\n",
       "      <td>2017</td>\n",
       "      <td>PHI</td>\n",
       "      <td>JORI LEHTERA</td>\n",
       "      <td>C</td>\n",
       "    </tr>\n",
       "    <tr>\n",
       "      <th>2</th>\n",
       "      <td>2017</td>\n",
       "      <td>CGY</td>\n",
       "      <td>MICHAEL STONE</td>\n",
       "      <td>D</td>\n",
       "    </tr>\n",
       "    <tr>\n",
       "      <th>3</th>\n",
       "      <td>2017</td>\n",
       "      <td>NSH</td>\n",
       "      <td>SCOTT HARTNELL</td>\n",
       "      <td>W</td>\n",
       "    </tr>\n",
       "    <tr>\n",
       "      <th>4</th>\n",
       "      <td>2017</td>\n",
       "      <td>TOR</td>\n",
       "      <td>RON HAINSEY</td>\n",
       "      <td>D</td>\n",
       "    </tr>\n",
       "  </tbody>\n",
       "</table>\n",
       "</div>"
      ],
      "text/plain": [
       "   Season TeamCode      PlayerName Position\n",
       "0    2017      N.J     JIMMY HAYES        W\n",
       "1    2017      PHI    JORI LEHTERA        C\n",
       "2    2017      CGY   MICHAEL STONE        D\n",
       "3    2017      NSH  SCOTT HARTNELL        W\n",
       "4    2017      TOR     RON HAINSEY        D"
      ]
     },
     "execution_count": 122,
     "metadata": {},
     "output_type": "execute_result"
    }
   ],
   "source": [
    "dpos['TeamCode'] = dpos.apply(lambda x: 'L.A' if x['TeamCode'] == 'LAK' else 'N.J' if x['TeamCode'] == 'NJD' else 'S.J' if x['TeamCode'] == 'SJS' else 'T.B' if x['TeamCode'] == 'TBL' else x['TeamCode'] , axis=1)\n",
    "dpos.head()"
   ]
  },
  {
   "cell_type": "code",
   "execution_count": 123,
   "metadata": {
    "collapsed": false
   },
   "outputs": [
    {
     "data": {
      "text/plain": [
       "(985, 4)"
      ]
     },
     "execution_count": 123,
     "metadata": {},
     "output_type": "execute_result"
    }
   ],
   "source": [
    "dpos.shape"
   ]
  },
  {
   "cell_type": "markdown",
   "metadata": {},
   "source": [
    "### merge data frames"
   ]
  },
  {
   "cell_type": "markdown",
   "metadata": {},
   "source": [
    "- merge games played, goals and assists."
   ]
  },
  {
   "cell_type": "code",
   "execution_count": 124,
   "metadata": {
    "collapsed": true
   },
   "outputs": [],
   "source": [
    "dd = pd.merge(s, dpos, on=['Season', 'TeamCode', 'PlayerName'], how='left').merge(dg,on=['Season', 'TeamCode', 'PlayerName'], how = 'left').merge(dast,on=['Season', 'TeamCode', 'PlayerName'], how = 'left')"
   ]
  },
  {
   "cell_type": "markdown",
   "metadata": {},
   "source": [
    "- forward and backward fill players that have been traded during the season. Fill in positions for three players."
   ]
  },
  {
   "cell_type": "code",
   "execution_count": 126,
   "metadata": {
    "collapsed": false
   },
   "outputs": [
    {
     "data": {
      "text/html": [
       "<div>\n",
       "<table border=\"1\" class=\"dataframe\">\n",
       "  <thead>\n",
       "    <tr style=\"text-align: right;\">\n",
       "      <th></th>\n",
       "      <th>Season</th>\n",
       "      <th>TeamCode</th>\n",
       "      <th>PlayerName</th>\n",
       "      <th>GP</th>\n",
       "      <th>Position</th>\n",
       "      <th>Goals</th>\n",
       "      <th>Assists</th>\n",
       "    </tr>\n",
       "  </thead>\n",
       "  <tbody>\n",
       "    <tr>\n",
       "      <th>0</th>\n",
       "      <td>2017</td>\n",
       "      <td>TOR</td>\n",
       "      <td>PATRICK MARLEAU</td>\n",
       "      <td>82</td>\n",
       "      <td>W</td>\n",
       "      <td>27.0</td>\n",
       "      <td>20.0</td>\n",
       "    </tr>\n",
       "    <tr>\n",
       "      <th>1</th>\n",
       "      <td>2017</td>\n",
       "      <td>TOR</td>\n",
       "      <td>NAZEM KADRI</td>\n",
       "      <td>80</td>\n",
       "      <td>C</td>\n",
       "      <td>32.0</td>\n",
       "      <td>23.0</td>\n",
       "    </tr>\n",
       "    <tr>\n",
       "      <th>2</th>\n",
       "      <td>2017</td>\n",
       "      <td>TOR</td>\n",
       "      <td>LEO KOMAROV</td>\n",
       "      <td>74</td>\n",
       "      <td>C</td>\n",
       "      <td>7.0</td>\n",
       "      <td>12.0</td>\n",
       "    </tr>\n",
       "    <tr>\n",
       "      <th>3</th>\n",
       "      <td>2017</td>\n",
       "      <td>TOR</td>\n",
       "      <td>NIKITA ZAITSEV</td>\n",
       "      <td>60</td>\n",
       "      <td>D</td>\n",
       "      <td>5.0</td>\n",
       "      <td>8.0</td>\n",
       "    </tr>\n",
       "    <tr>\n",
       "      <th>4</th>\n",
       "      <td>2017</td>\n",
       "      <td>TOR</td>\n",
       "      <td>JAKE GARDINER</td>\n",
       "      <td>82</td>\n",
       "      <td>D</td>\n",
       "      <td>5.0</td>\n",
       "      <td>47.0</td>\n",
       "    </tr>\n",
       "  </tbody>\n",
       "</table>\n",
       "</div>"
      ],
      "text/plain": [
       "   Season TeamCode       PlayerName  GP Position  Goals  Assists\n",
       "0    2017      TOR  PATRICK MARLEAU  82        W   27.0     20.0\n",
       "1    2017      TOR      NAZEM KADRI  80        C   32.0     23.0\n",
       "2    2017      TOR      LEO KOMAROV  74        C    7.0     12.0\n",
       "3    2017      TOR   NIKITA ZAITSEV  60        D    5.0      8.0\n",
       "4    2017      TOR    JAKE GARDINER  82        D    5.0     47.0"
      ]
     },
     "execution_count": 126,
     "metadata": {},
     "output_type": "execute_result"
    }
   ],
   "source": [
    "dd['Position'] = dd.groupby(['PlayerName'])['Position'].apply(lambda x: x.ffill().bfill())\n",
    "dd['Position'] = dd.apply(lambda x: 'C' if x['PlayerName'] == \"DANNY O'REGAN\" else x['Position'] , axis=1)\n",
    "dd.head()"
   ]
  },
  {
   "cell_type": "code",
   "execution_count": 128,
   "metadata": {
    "collapsed": false
   },
   "outputs": [
    {
     "data": {
      "text/plain": [
       "Season          0\n",
       "TeamCode        0\n",
       "PlayerName      0\n",
       "GP              0\n",
       "Position        0\n",
       "Goals         295\n",
       "Assists       195\n",
       "dtype: int64"
      ]
     },
     "execution_count": 128,
     "metadata": {},
     "output_type": "execute_result"
    }
   ],
   "source": [
    "dd.isnull().sum()"
   ]
  },
  {
   "cell_type": "code",
   "execution_count": 129,
   "metadata": {
    "collapsed": false
   },
   "outputs": [
    {
     "data": {
      "text/html": [
       "<div>\n",
       "<table border=\"1\" class=\"dataframe\">\n",
       "  <thead>\n",
       "    <tr style=\"text-align: right;\">\n",
       "      <th></th>\n",
       "      <th>Season</th>\n",
       "      <th>TeamCode</th>\n",
       "      <th>PlayerName</th>\n",
       "      <th>GP</th>\n",
       "      <th>Position</th>\n",
       "      <th>Goals</th>\n",
       "      <th>Assists</th>\n",
       "    </tr>\n",
       "  </thead>\n",
       "  <tbody>\n",
       "  </tbody>\n",
       "</table>\n",
       "</div>"
      ],
      "text/plain": [
       "Empty DataFrame\n",
       "Columns: [Season, TeamCode, PlayerName, GP, Position, Goals, Assists]\n",
       "Index: []"
      ]
     },
     "execution_count": 129,
     "metadata": {},
     "output_type": "execute_result"
    }
   ],
   "source": [
    "fix = dd.copy()\n",
    "fix = fix[fix['Position'].isnull()]\n",
    "fix.head(20)"
   ]
  },
  {
   "cell_type": "markdown",
   "metadata": {},
   "source": [
    "- fill in goals and assists with 0 for players who had no points."
   ]
  },
  {
   "cell_type": "code",
   "execution_count": 130,
   "metadata": {
    "collapsed": false
   },
   "outputs": [
    {
     "data": {
      "text/html": [
       "<div>\n",
       "<table border=\"1\" class=\"dataframe\">\n",
       "  <thead>\n",
       "    <tr style=\"text-align: right;\">\n",
       "      <th></th>\n",
       "      <th>Season</th>\n",
       "      <th>TeamCode</th>\n",
       "      <th>PlayerName</th>\n",
       "      <th>GP</th>\n",
       "      <th>Position</th>\n",
       "      <th>Goals</th>\n",
       "      <th>Assists</th>\n",
       "      <th>Points</th>\n",
       "    </tr>\n",
       "  </thead>\n",
       "  <tbody>\n",
       "    <tr>\n",
       "      <th>0</th>\n",
       "      <td>2017</td>\n",
       "      <td>TOR</td>\n",
       "      <td>PATRICK MARLEAU</td>\n",
       "      <td>82</td>\n",
       "      <td>W</td>\n",
       "      <td>27.0</td>\n",
       "      <td>20.0</td>\n",
       "      <td>47.0</td>\n",
       "    </tr>\n",
       "    <tr>\n",
       "      <th>1</th>\n",
       "      <td>2017</td>\n",
       "      <td>TOR</td>\n",
       "      <td>NAZEM KADRI</td>\n",
       "      <td>80</td>\n",
       "      <td>C</td>\n",
       "      <td>32.0</td>\n",
       "      <td>23.0</td>\n",
       "      <td>55.0</td>\n",
       "    </tr>\n",
       "    <tr>\n",
       "      <th>2</th>\n",
       "      <td>2017</td>\n",
       "      <td>TOR</td>\n",
       "      <td>LEO KOMAROV</td>\n",
       "      <td>74</td>\n",
       "      <td>C</td>\n",
       "      <td>7.0</td>\n",
       "      <td>12.0</td>\n",
       "      <td>19.0</td>\n",
       "    </tr>\n",
       "    <tr>\n",
       "      <th>3</th>\n",
       "      <td>2017</td>\n",
       "      <td>TOR</td>\n",
       "      <td>NIKITA ZAITSEV</td>\n",
       "      <td>60</td>\n",
       "      <td>D</td>\n",
       "      <td>5.0</td>\n",
       "      <td>8.0</td>\n",
       "      <td>13.0</td>\n",
       "    </tr>\n",
       "    <tr>\n",
       "      <th>4</th>\n",
       "      <td>2017</td>\n",
       "      <td>TOR</td>\n",
       "      <td>JAKE GARDINER</td>\n",
       "      <td>82</td>\n",
       "      <td>D</td>\n",
       "      <td>5.0</td>\n",
       "      <td>47.0</td>\n",
       "      <td>52.0</td>\n",
       "    </tr>\n",
       "  </tbody>\n",
       "</table>\n",
       "</div>"
      ],
      "text/plain": [
       "   Season TeamCode       PlayerName  GP Position  Goals  Assists  Points\n",
       "0    2017      TOR  PATRICK MARLEAU  82        W   27.0     20.0    47.0\n",
       "1    2017      TOR      NAZEM KADRI  80        C   32.0     23.0    55.0\n",
       "2    2017      TOR      LEO KOMAROV  74        C    7.0     12.0    19.0\n",
       "3    2017      TOR   NIKITA ZAITSEV  60        D    5.0      8.0    13.0\n",
       "4    2017      TOR    JAKE GARDINER  82        D    5.0     47.0    52.0"
      ]
     },
     "execution_count": 130,
     "metadata": {},
     "output_type": "execute_result"
    }
   ],
   "source": [
    "dd['Goals'] = dd['Goals'].fillna(0)\n",
    "dd['Assists'] = dd['Assists'].fillna(0)\n",
    "dd['Points'] = dd['Goals'] + dd['Assists']\n",
    "dd.head()"
   ]
  },
  {
   "cell_type": "code",
   "execution_count": 131,
   "metadata": {
    "collapsed": false
   },
   "outputs": [
    {
     "data": {
      "text/plain": [
       "Season        0\n",
       "TeamCode      0\n",
       "PlayerName    0\n",
       "GP            0\n",
       "Position      0\n",
       "Goals         0\n",
       "Assists       0\n",
       "Points        0\n",
       "dtype: int64"
      ]
     },
     "execution_count": 131,
     "metadata": {},
     "output_type": "execute_result"
    }
   ],
   "source": [
    "dd.isnull().sum()"
   ]
  },
  {
   "cell_type": "code",
   "execution_count": 132,
   "metadata": {
    "collapsed": false
   },
   "outputs": [
    {
     "data": {
      "text/html": [
       "<div>\n",
       "<table border=\"1\" class=\"dataframe\">\n",
       "  <thead>\n",
       "    <tr style=\"text-align: right;\">\n",
       "      <th></th>\n",
       "      <th>Season</th>\n",
       "      <th>TeamCode</th>\n",
       "      <th>PlayerName</th>\n",
       "      <th>GP</th>\n",
       "      <th>Position</th>\n",
       "      <th>Goals</th>\n",
       "      <th>Assists</th>\n",
       "      <th>Points</th>\n",
       "      <th>GoalsF</th>\n",
       "      <th>GoalsA</th>\n",
       "      <th>EVGoalsF</th>\n",
       "      <th>EVGoalsA</th>\n",
       "      <th>Plus/Minus</th>\n",
       "      <th>Shots</th>\n",
       "      <th>ShotsF</th>\n",
       "      <th>ShotsA</th>\n",
       "      <th>DShots</th>\n",
       "      <th>EVShotsF</th>\n",
       "      <th>EVShotsA</th>\n",
       "      <th>EVDShots</th>\n",
       "      <th>Blocks</th>\n",
       "      <th>Hits</th>\n",
       "      <th>Penalties</th>\n",
       "      <th>Takeaways</th>\n",
       "      <th>Giveaways</th>\n",
       "      <th>Misses</th>\n",
       "      <th>TOI</th>\n",
       "    </tr>\n",
       "  </thead>\n",
       "  <tbody>\n",
       "    <tr>\n",
       "      <th>0</th>\n",
       "      <td>2017</td>\n",
       "      <td>TOR</td>\n",
       "      <td>PATRICK MARLEAU</td>\n",
       "      <td>82</td>\n",
       "      <td>W</td>\n",
       "      <td>27.0</td>\n",
       "      <td>20.0</td>\n",
       "      <td>47.0</td>\n",
       "      <td>81.0</td>\n",
       "      <td>59.0</td>\n",
       "      <td>61.0</td>\n",
       "      <td>55.0</td>\n",
       "      <td>6.0</td>\n",
       "      <td>177.0</td>\n",
       "      <td>749</td>\n",
       "      <td>730</td>\n",
       "      <td>19</td>\n",
       "      <td>607</td>\n",
       "      <td>703</td>\n",
       "      <td>-96</td>\n",
       "      <td>26.0</td>\n",
       "      <td>85.0</td>\n",
       "      <td>16.0</td>\n",
       "      <td>28.0</td>\n",
       "      <td>33.0</td>\n",
       "      <td>67.0</td>\n",
       "      <td>1393.0</td>\n",
       "    </tr>\n",
       "    <tr>\n",
       "      <th>1</th>\n",
       "      <td>2017</td>\n",
       "      <td>TOR</td>\n",
       "      <td>NAZEM KADRI</td>\n",
       "      <td>80</td>\n",
       "      <td>C</td>\n",
       "      <td>32.0</td>\n",
       "      <td>23.0</td>\n",
       "      <td>55.0</td>\n",
       "      <td>88.0</td>\n",
       "      <td>52.0</td>\n",
       "      <td>54.0</td>\n",
       "      <td>52.0</td>\n",
       "      <td>2.0</td>\n",
       "      <td>178.0</td>\n",
       "      <td>811</td>\n",
       "      <td>714</td>\n",
       "      <td>97</td>\n",
       "      <td>597</td>\n",
       "      <td>712</td>\n",
       "      <td>-115</td>\n",
       "      <td>26.0</td>\n",
       "      <td>93.0</td>\n",
       "      <td>42.0</td>\n",
       "      <td>42.0</td>\n",
       "      <td>48.0</td>\n",
       "      <td>75.0</td>\n",
       "      <td>1341.0</td>\n",
       "    </tr>\n",
       "    <tr>\n",
       "      <th>2</th>\n",
       "      <td>2017</td>\n",
       "      <td>TOR</td>\n",
       "      <td>LEO KOMAROV</td>\n",
       "      <td>74</td>\n",
       "      <td>C</td>\n",
       "      <td>7.0</td>\n",
       "      <td>12.0</td>\n",
       "      <td>19.0</td>\n",
       "      <td>42.0</td>\n",
       "      <td>52.0</td>\n",
       "      <td>35.0</td>\n",
       "      <td>35.0</td>\n",
       "      <td>0.0</td>\n",
       "      <td>107.0</td>\n",
       "      <td>508</td>\n",
       "      <td>710</td>\n",
       "      <td>-202</td>\n",
       "      <td>463</td>\n",
       "      <td>525</td>\n",
       "      <td>-62</td>\n",
       "      <td>45.0</td>\n",
       "      <td>219.0</td>\n",
       "      <td>31.0</td>\n",
       "      <td>47.0</td>\n",
       "      <td>42.0</td>\n",
       "      <td>43.0</td>\n",
       "      <td>1168.0</td>\n",
       "    </tr>\n",
       "    <tr>\n",
       "      <th>3</th>\n",
       "      <td>2017</td>\n",
       "      <td>TOR</td>\n",
       "      <td>NIKITA ZAITSEV</td>\n",
       "      <td>60</td>\n",
       "      <td>D</td>\n",
       "      <td>5.0</td>\n",
       "      <td>8.0</td>\n",
       "      <td>13.0</td>\n",
       "      <td>60.0</td>\n",
       "      <td>69.0</td>\n",
       "      <td>59.0</td>\n",
       "      <td>51.0</td>\n",
       "      <td>8.0</td>\n",
       "      <td>49.0</td>\n",
       "      <td>556</td>\n",
       "      <td>827</td>\n",
       "      <td>-271</td>\n",
       "      <td>549</td>\n",
       "      <td>655</td>\n",
       "      <td>-106</td>\n",
       "      <td>134.0</td>\n",
       "      <td>113.0</td>\n",
       "      <td>31.0</td>\n",
       "      <td>21.0</td>\n",
       "      <td>76.0</td>\n",
       "      <td>29.0</td>\n",
       "      <td>1333.0</td>\n",
       "    </tr>\n",
       "    <tr>\n",
       "      <th>4</th>\n",
       "      <td>2017</td>\n",
       "      <td>TOR</td>\n",
       "      <td>JAKE GARDINER</td>\n",
       "      <td>82</td>\n",
       "      <td>D</td>\n",
       "      <td>5.0</td>\n",
       "      <td>47.0</td>\n",
       "      <td>52.0</td>\n",
       "      <td>97.0</td>\n",
       "      <td>66.0</td>\n",
       "      <td>75.0</td>\n",
       "      <td>63.0</td>\n",
       "      <td>12.0</td>\n",
       "      <td>128.0</td>\n",
       "      <td>965</td>\n",
       "      <td>935</td>\n",
       "      <td>30</td>\n",
       "      <td>806</td>\n",
       "      <td>902</td>\n",
       "      <td>-96</td>\n",
       "      <td>103.0</td>\n",
       "      <td>51.0</td>\n",
       "      <td>32.0</td>\n",
       "      <td>39.0</td>\n",
       "      <td>105.0</td>\n",
       "      <td>68.0</td>\n",
       "      <td>1847.0</td>\n",
       "    </tr>\n",
       "  </tbody>\n",
       "</table>\n",
       "</div>"
      ],
      "text/plain": [
       "   Season TeamCode       PlayerName  GP Position  Goals  Assists  Points  \\\n",
       "0    2017      TOR  PATRICK MARLEAU  82        W   27.0     20.0    47.0   \n",
       "1    2017      TOR      NAZEM KADRI  80        C   32.0     23.0    55.0   \n",
       "2    2017      TOR      LEO KOMAROV  74        C    7.0     12.0    19.0   \n",
       "3    2017      TOR   NIKITA ZAITSEV  60        D    5.0      8.0    13.0   \n",
       "4    2017      TOR    JAKE GARDINER  82        D    5.0     47.0    52.0   \n",
       "\n",
       "   GoalsF  GoalsA  EVGoalsF  EVGoalsA  Plus/Minus  Shots  ShotsF  ShotsA  \\\n",
       "0    81.0    59.0      61.0      55.0         6.0  177.0     749     730   \n",
       "1    88.0    52.0      54.0      52.0         2.0  178.0     811     714   \n",
       "2    42.0    52.0      35.0      35.0         0.0  107.0     508     710   \n",
       "3    60.0    69.0      59.0      51.0         8.0   49.0     556     827   \n",
       "4    97.0    66.0      75.0      63.0        12.0  128.0     965     935   \n",
       "\n",
       "   DShots  EVShotsF  EVShotsA  EVDShots  Blocks   Hits  Penalties  Takeaways  \\\n",
       "0      19       607       703       -96    26.0   85.0       16.0       28.0   \n",
       "1      97       597       712      -115    26.0   93.0       42.0       42.0   \n",
       "2    -202       463       525       -62    45.0  219.0       31.0       47.0   \n",
       "3    -271       549       655      -106   134.0  113.0       31.0       21.0   \n",
       "4      30       806       902       -96   103.0   51.0       32.0       39.0   \n",
       "\n",
       "   Giveaways  Misses     TOI  \n",
       "0       33.0    67.0  1393.0  \n",
       "1       48.0    75.0  1341.0  \n",
       "2       42.0    43.0  1168.0  \n",
       "3       76.0    29.0  1333.0  \n",
       "4      105.0    68.0  1847.0  "
      ]
     },
     "execution_count": 132,
     "metadata": {},
     "output_type": "execute_result"
    }
   ],
   "source": [
    "de = pd.merge(dd, gfa,on=['Season', 'TeamCode', 'PlayerName'], how = 'left').merge(ds,on=['Season', 'TeamCode', 'PlayerName'], how = 'left').merge(sa,on=['Season', 'TeamCode', 'PlayerName'], how = 'left').merge(dbl,on=['Season', 'TeamCode', 'PlayerName'], how = 'left').merge(dhit,on=['Season', 'TeamCode', 'PlayerName'], how = 'left').merge(dp,on=['Season', 'TeamCode', 'PlayerName'], how = 'left').merge(dtake,on=['Season', 'TeamCode', 'PlayerName'], how = 'left').merge(dgive,on=['Season', 'TeamCode', 'PlayerName'], how = 'left').merge(dmiss,on=['Season', 'TeamCode', 'PlayerName'], how = 'left').merge(dshift,on=['Season', 'TeamCode', 'PlayerName'], how = 'left')\n",
    "de.head()"
   ]
  },
  {
   "cell_type": "markdown",
   "metadata": {},
   "source": [
    "- fill in with 0 for all nan values since not all players have been on the ice for a goal for or a goal against. "
   ]
  },
  {
   "cell_type": "code",
   "execution_count": 133,
   "metadata": {
    "collapsed": true
   },
   "outputs": [],
   "source": [
    "de['GoalsF'] = de['GoalsF'].fillna(0)\n",
    "de['GoalsA'] = de['GoalsA'].fillna(0)\n",
    "de['EVGoalsF'] = de['EVGoalsF'].fillna(0)\n",
    "de['EVGoalsA'] = de['EVGoalsA'].fillna(0)\n",
    "de['Plus/Minus'] = de['Plus/Minus'].fillna(0)\n",
    "de['Shots'] = de['Shots'].fillna(0)\n",
    "de['Hits'] = de['Hits'].fillna(0)\n",
    "de['Blocks'] = de['Blocks'].fillna(0)\n",
    "de['Penalties'] = de['Penalties'].fillna(0)\n",
    "de['Giveaways'] = de['Giveaways'].fillna(0)\n",
    "de['Takeaways'] = de['Takeaways'].fillna(0)\n",
    "de['Misses'] = de['Misses'].fillna(0)"
   ]
  },
  {
   "cell_type": "code",
   "execution_count": 134,
   "metadata": {
    "collapsed": false
   },
   "outputs": [
    {
     "data": {
      "text/plain": [
       "Season        0\n",
       "TeamCode      0\n",
       "PlayerName    0\n",
       "GP            0\n",
       "Position      0\n",
       "Goals         0\n",
       "Assists       0\n",
       "Points        0\n",
       "GoalsF        0\n",
       "GoalsA        0\n",
       "EVGoalsF      0\n",
       "EVGoalsA      0\n",
       "Plus/Minus    0\n",
       "Shots         0\n",
       "ShotsF        0\n",
       "ShotsA        0\n",
       "DShots        0\n",
       "EVShotsF      0\n",
       "EVShotsA      0\n",
       "EVDShots      0\n",
       "Blocks        0\n",
       "Hits          0\n",
       "Penalties     0\n",
       "Takeaways     0\n",
       "Giveaways     0\n",
       "Misses        0\n",
       "TOI           1\n",
       "dtype: int64"
      ]
     },
     "execution_count": 134,
     "metadata": {},
     "output_type": "execute_result"
    }
   ],
   "source": [
    "de.isnull().sum()"
   ]
  },
  {
   "cell_type": "code",
   "execution_count": 136,
   "metadata": {
    "collapsed": true
   },
   "outputs": [],
   "source": [
    "de = de[de['TOI'].notnull()]"
   ]
  },
  {
   "cell_type": "markdown",
   "metadata": {},
   "source": [
    "### total player stats for the season"
   ]
  },
  {
   "cell_type": "markdown",
   "metadata": {},
   "source": [
    "- players that have been traded need to be evaluated for their season performance. Group by sesaon and player name to calcute the sum of each stat. "
   ]
  },
  {
   "cell_type": "code",
   "execution_count": 137,
   "metadata": {
    "collapsed": true
   },
   "outputs": [],
   "source": [
    "de['TGP'] = de.groupby(['Season', 'PlayerName', 'Position'])['GP'].transform('sum')\n",
    "de['TGoals'] = de.groupby(['Season', 'PlayerName', 'Position'])['Goals'].transform('sum')\n",
    "de['TAssists'] = de.groupby(['Season', 'PlayerName', 'Position'])['Assists'].transform('sum')\n",
    "de['TPoints'] = de.groupby(['Season', 'PlayerName', 'Position'])['Points'].transform('sum')\n",
    "de['TGoalsF'] = de.groupby(['Season', 'PlayerName', 'Position'])['GoalsF'].transform('sum')\n",
    "de['TGoalsA'] = de.groupby(['Season', 'PlayerName','Position'])['GoalsA'].transform('sum')\n",
    "de['TEVGoalsF'] = de.groupby(['Season', 'PlayerName', 'Position'])['EVGoalsF'].transform('sum')\n",
    "de['TEVGoalsA'] = de.groupby(['Season', 'PlayerName', 'Position'])['EVGoalsA'].transform('sum')\n",
    "de['TPlus/Minus'] = de.groupby(['Season', 'PlayerName', 'Position'])['Plus/Minus'].transform('sum')\n",
    "de['TShots'] = de.groupby(['Season', 'PlayerName', 'Position'])['Shots'].transform('sum')\n",
    "de['TShotsF'] = de.groupby(['Season', 'PlayerName', 'Position'])['ShotsF'].transform('sum')\n",
    "de['TShotsA'] = de.groupby(['Season', 'PlayerName', 'Position'])['ShotsA'].transform('sum')\n",
    "de['TDShots'] = de.groupby(['Season', 'PlayerName'])['DShots'].transform('sum')\n",
    "de['TEVShotsF'] = de.groupby(['Season', 'PlayerName', 'Position'])['EVShotsF'].transform('sum')\n",
    "de['TEVShotsA'] = de.groupby(['Season', 'PlayerName', 'Position'])['EVShotsA'].transform('sum')\n",
    "de['TEVDShots'] = de.groupby(['Season', 'PlayerName', 'Position'])['EVDShots'].transform('sum')\n",
    "de['TBlocks'] = de.groupby(['Season', 'PlayerName', 'Position'])['Blocks'].transform('sum')\n",
    "de['THits'] = de.groupby(['Season', 'PlayerName', 'Position'])['Hits'].transform('sum')\n",
    "de['TPenalties'] = de.groupby(['Season', 'PlayerName', 'Position'])['Penalties'].transform('sum')\n",
    "de['TTakeaways'] = de.groupby(['Season', 'PlayerName', 'Position'])['Takeaways'].transform('sum')\n",
    "de['TGiveaways'] = de.groupby(['Season', 'PlayerName', 'Position'])['Giveaways'].transform('sum')\n",
    "de['TMisses'] = de.groupby(['Season', 'PlayerName', 'Position'])['Misses'].transform('sum')\n",
    "de['TTOI'] = de.groupby(['Season', 'PlayerName', 'Position'])['TOI'].transform('sum')"
   ]
  },
  {
   "cell_type": "markdown",
   "metadata": {},
   "source": [
    "- divide all stats with total time on ice to scale the data for cluster analysis"
   ]
  },
  {
   "cell_type": "code",
   "execution_count": 139,
   "metadata": {
    "collapsed": false
   },
   "outputs": [],
   "source": [
    "de['TOIGoals'] = de['TGoals'] / de['TTOI']\n",
    "de['TOIAssists'] = de['TAssists'] / de['TTOI']\n",
    "de['TOIPoints'] = de['TPoints'] / de['TTOI']\n",
    "de['TOIGoalsF'] = de['TGoalsF'] / de['TTOI']\n",
    "de['TOIGoalsA'] = de['TGoalsA'] / de['TTOI']\n",
    "de['TOIEVGoalsF'] = de['TEVGoalsF'] / de['TTOI']\n",
    "de['TOIEVGoalsA'] = de['TEVGoalsA'] / de['TTOI']\n",
    "de['TOIPlus/Minus'] = de['TPlus/Minus'] / de['TTOI']\n",
    "de['TOIShots'] = de['TShots'] / de['TTOI']\n",
    "de['TOIShotsF'] = de['TShotsF'] / de['TTOI']\n",
    "de['TOIShotsA'] = de['TShotsA'] / de['TTOI']\n",
    "de['TOIDShots'] = de['TDShots'] / de['TTOI']\n",
    "de['TOIEVShotsF'] = de['TEVShotsF'] / de['TTOI']\n",
    "de['TOIEVShotsA'] = de['TEVShotsA'] / de['TTOI']\n",
    "de['TOIEVDShots'] = de['TEVDShots'] / de['TTOI']\n",
    "de['TOIBlocks'] = de['TBlocks'] / de['TTOI']\n",
    "de['TOIHits'] = de['THits'] / de['TTOI']\n",
    "de['TOIPenalties'] = de['TPenalties'] / de['TTOI']\n",
    "de['TOITakeaways'] = de['TTakeaways'] / de['TTOI']\n",
    "de['TOIGiveaways'] = de['TGiveaways'] / de['TTOI']\n",
    "de['TOIMisses'] = de['TMisses'] / de['TTOI']"
   ]
  },
  {
   "cell_type": "markdown",
   "metadata": {},
   "source": [
    "- keep sesaon total variables and scaled variables"
   ]
  },
  {
   "cell_type": "code",
   "execution_count": 140,
   "metadata": {
    "collapsed": false
   },
   "outputs": [
    {
     "data": {
      "text/html": [
       "<div>\n",
       "<table border=\"1\" class=\"dataframe\">\n",
       "  <thead>\n",
       "    <tr style=\"text-align: right;\">\n",
       "      <th></th>\n",
       "      <th>Season</th>\n",
       "      <th>TeamCode</th>\n",
       "      <th>PlayerName</th>\n",
       "      <th>Position</th>\n",
       "      <th>TGP</th>\n",
       "      <th>TGoals</th>\n",
       "      <th>TAssists</th>\n",
       "      <th>TPoints</th>\n",
       "      <th>TGoalsF</th>\n",
       "      <th>TGoalsA</th>\n",
       "      <th>TEVGoalsF</th>\n",
       "      <th>TEVGoalsA</th>\n",
       "      <th>TPlus/Minus</th>\n",
       "      <th>TShots</th>\n",
       "      <th>TShotsF</th>\n",
       "      <th>TShotsA</th>\n",
       "      <th>TDShots</th>\n",
       "      <th>TEVShotsF</th>\n",
       "      <th>TEVShotsA</th>\n",
       "      <th>TEVDShots</th>\n",
       "      <th>TBlocks</th>\n",
       "      <th>THits</th>\n",
       "      <th>TPenalties</th>\n",
       "      <th>TTakeaways</th>\n",
       "      <th>TGiveaways</th>\n",
       "      <th>TMisses</th>\n",
       "      <th>TTOI</th>\n",
       "      <th>TOIGoals</th>\n",
       "      <th>TOIAssists</th>\n",
       "      <th>TOIPoints</th>\n",
       "      <th>TOIGoalsF</th>\n",
       "      <th>TOIGoalsA</th>\n",
       "      <th>TOIEVGoalsF</th>\n",
       "      <th>TOIEVGoalsA</th>\n",
       "      <th>TOIPlus/Minus</th>\n",
       "      <th>TOIShots</th>\n",
       "      <th>TOIShotsF</th>\n",
       "      <th>TOIShotsA</th>\n",
       "      <th>TOIDShots</th>\n",
       "      <th>TOIEVShotsF</th>\n",
       "      <th>TOIEVShotsA</th>\n",
       "      <th>TOIEVDShots</th>\n",
       "      <th>TOIBlocks</th>\n",
       "      <th>TOIHits</th>\n",
       "      <th>TOIPenalties</th>\n",
       "      <th>TOITakeaways</th>\n",
       "      <th>TOIGiveaways</th>\n",
       "      <th>TOIMisses</th>\n",
       "    </tr>\n",
       "  </thead>\n",
       "  <tbody>\n",
       "    <tr>\n",
       "      <th>0</th>\n",
       "      <td>2017</td>\n",
       "      <td>TOR</td>\n",
       "      <td>PATRICK MARLEAU</td>\n",
       "      <td>W</td>\n",
       "      <td>82</td>\n",
       "      <td>27.0</td>\n",
       "      <td>20.0</td>\n",
       "      <td>47.0</td>\n",
       "      <td>81.0</td>\n",
       "      <td>59.0</td>\n",
       "      <td>61.0</td>\n",
       "      <td>55.0</td>\n",
       "      <td>6.0</td>\n",
       "      <td>177.0</td>\n",
       "      <td>749</td>\n",
       "      <td>730</td>\n",
       "      <td>19</td>\n",
       "      <td>607</td>\n",
       "      <td>703</td>\n",
       "      <td>-96</td>\n",
       "      <td>26.0</td>\n",
       "      <td>85.0</td>\n",
       "      <td>16.0</td>\n",
       "      <td>28.0</td>\n",
       "      <td>33.0</td>\n",
       "      <td>67.0</td>\n",
       "      <td>1393.0</td>\n",
       "      <td>0.019383</td>\n",
       "      <td>0.014358</td>\n",
       "      <td>0.033740</td>\n",
       "      <td>0.058148</td>\n",
       "      <td>0.042355</td>\n",
       "      <td>0.043790</td>\n",
       "      <td>0.039483</td>\n",
       "      <td>0.004307</td>\n",
       "      <td>0.127064</td>\n",
       "      <td>0.537688</td>\n",
       "      <td>0.524049</td>\n",
       "      <td>0.013640</td>\n",
       "      <td>0.435750</td>\n",
       "      <td>0.504666</td>\n",
       "      <td>-0.068916</td>\n",
       "      <td>0.018665</td>\n",
       "      <td>0.061019</td>\n",
       "      <td>0.011486</td>\n",
       "      <td>0.020101</td>\n",
       "      <td>0.023690</td>\n",
       "      <td>0.048098</td>\n",
       "    </tr>\n",
       "    <tr>\n",
       "      <th>1</th>\n",
       "      <td>2017</td>\n",
       "      <td>TOR</td>\n",
       "      <td>NAZEM KADRI</td>\n",
       "      <td>C</td>\n",
       "      <td>80</td>\n",
       "      <td>32.0</td>\n",
       "      <td>23.0</td>\n",
       "      <td>55.0</td>\n",
       "      <td>88.0</td>\n",
       "      <td>52.0</td>\n",
       "      <td>54.0</td>\n",
       "      <td>52.0</td>\n",
       "      <td>2.0</td>\n",
       "      <td>178.0</td>\n",
       "      <td>811</td>\n",
       "      <td>714</td>\n",
       "      <td>97</td>\n",
       "      <td>597</td>\n",
       "      <td>712</td>\n",
       "      <td>-115</td>\n",
       "      <td>26.0</td>\n",
       "      <td>93.0</td>\n",
       "      <td>42.0</td>\n",
       "      <td>42.0</td>\n",
       "      <td>48.0</td>\n",
       "      <td>75.0</td>\n",
       "      <td>1341.0</td>\n",
       "      <td>0.023863</td>\n",
       "      <td>0.017151</td>\n",
       "      <td>0.041014</td>\n",
       "      <td>0.065623</td>\n",
       "      <td>0.038777</td>\n",
       "      <td>0.040268</td>\n",
       "      <td>0.038777</td>\n",
       "      <td>0.001491</td>\n",
       "      <td>0.132737</td>\n",
       "      <td>0.604773</td>\n",
       "      <td>0.532438</td>\n",
       "      <td>0.072334</td>\n",
       "      <td>0.445190</td>\n",
       "      <td>0.530947</td>\n",
       "      <td>-0.085757</td>\n",
       "      <td>0.019389</td>\n",
       "      <td>0.069351</td>\n",
       "      <td>0.031320</td>\n",
       "      <td>0.031320</td>\n",
       "      <td>0.035794</td>\n",
       "      <td>0.055928</td>\n",
       "    </tr>\n",
       "    <tr>\n",
       "      <th>2</th>\n",
       "      <td>2017</td>\n",
       "      <td>TOR</td>\n",
       "      <td>LEO KOMAROV</td>\n",
       "      <td>C</td>\n",
       "      <td>74</td>\n",
       "      <td>7.0</td>\n",
       "      <td>12.0</td>\n",
       "      <td>19.0</td>\n",
       "      <td>42.0</td>\n",
       "      <td>52.0</td>\n",
       "      <td>35.0</td>\n",
       "      <td>35.0</td>\n",
       "      <td>0.0</td>\n",
       "      <td>107.0</td>\n",
       "      <td>508</td>\n",
       "      <td>710</td>\n",
       "      <td>-202</td>\n",
       "      <td>463</td>\n",
       "      <td>525</td>\n",
       "      <td>-62</td>\n",
       "      <td>45.0</td>\n",
       "      <td>219.0</td>\n",
       "      <td>31.0</td>\n",
       "      <td>47.0</td>\n",
       "      <td>42.0</td>\n",
       "      <td>43.0</td>\n",
       "      <td>1168.0</td>\n",
       "      <td>0.005993</td>\n",
       "      <td>0.010274</td>\n",
       "      <td>0.016267</td>\n",
       "      <td>0.035959</td>\n",
       "      <td>0.044521</td>\n",
       "      <td>0.029966</td>\n",
       "      <td>0.029966</td>\n",
       "      <td>0.000000</td>\n",
       "      <td>0.091610</td>\n",
       "      <td>0.434932</td>\n",
       "      <td>0.607877</td>\n",
       "      <td>-0.172945</td>\n",
       "      <td>0.396404</td>\n",
       "      <td>0.449486</td>\n",
       "      <td>-0.053082</td>\n",
       "      <td>0.038527</td>\n",
       "      <td>0.187500</td>\n",
       "      <td>0.026541</td>\n",
       "      <td>0.040240</td>\n",
       "      <td>0.035959</td>\n",
       "      <td>0.036815</td>\n",
       "    </tr>\n",
       "    <tr>\n",
       "      <th>3</th>\n",
       "      <td>2017</td>\n",
       "      <td>TOR</td>\n",
       "      <td>NIKITA ZAITSEV</td>\n",
       "      <td>D</td>\n",
       "      <td>60</td>\n",
       "      <td>5.0</td>\n",
       "      <td>8.0</td>\n",
       "      <td>13.0</td>\n",
       "      <td>60.0</td>\n",
       "      <td>69.0</td>\n",
       "      <td>59.0</td>\n",
       "      <td>51.0</td>\n",
       "      <td>8.0</td>\n",
       "      <td>49.0</td>\n",
       "      <td>556</td>\n",
       "      <td>827</td>\n",
       "      <td>-271</td>\n",
       "      <td>549</td>\n",
       "      <td>655</td>\n",
       "      <td>-106</td>\n",
       "      <td>134.0</td>\n",
       "      <td>113.0</td>\n",
       "      <td>31.0</td>\n",
       "      <td>21.0</td>\n",
       "      <td>76.0</td>\n",
       "      <td>29.0</td>\n",
       "      <td>1333.0</td>\n",
       "      <td>0.003751</td>\n",
       "      <td>0.006002</td>\n",
       "      <td>0.009752</td>\n",
       "      <td>0.045011</td>\n",
       "      <td>0.051763</td>\n",
       "      <td>0.044261</td>\n",
       "      <td>0.038260</td>\n",
       "      <td>0.006002</td>\n",
       "      <td>0.036759</td>\n",
       "      <td>0.417104</td>\n",
       "      <td>0.620405</td>\n",
       "      <td>-0.203301</td>\n",
       "      <td>0.411853</td>\n",
       "      <td>0.491373</td>\n",
       "      <td>-0.079520</td>\n",
       "      <td>0.100525</td>\n",
       "      <td>0.084771</td>\n",
       "      <td>0.023256</td>\n",
       "      <td>0.015754</td>\n",
       "      <td>0.057014</td>\n",
       "      <td>0.021755</td>\n",
       "    </tr>\n",
       "    <tr>\n",
       "      <th>4</th>\n",
       "      <td>2017</td>\n",
       "      <td>TOR</td>\n",
       "      <td>JAKE GARDINER</td>\n",
       "      <td>D</td>\n",
       "      <td>82</td>\n",
       "      <td>5.0</td>\n",
       "      <td>47.0</td>\n",
       "      <td>52.0</td>\n",
       "      <td>97.0</td>\n",
       "      <td>66.0</td>\n",
       "      <td>75.0</td>\n",
       "      <td>63.0</td>\n",
       "      <td>12.0</td>\n",
       "      <td>128.0</td>\n",
       "      <td>965</td>\n",
       "      <td>935</td>\n",
       "      <td>30</td>\n",
       "      <td>806</td>\n",
       "      <td>902</td>\n",
       "      <td>-96</td>\n",
       "      <td>103.0</td>\n",
       "      <td>51.0</td>\n",
       "      <td>32.0</td>\n",
       "      <td>39.0</td>\n",
       "      <td>105.0</td>\n",
       "      <td>68.0</td>\n",
       "      <td>1847.0</td>\n",
       "      <td>0.002707</td>\n",
       "      <td>0.025447</td>\n",
       "      <td>0.028154</td>\n",
       "      <td>0.052518</td>\n",
       "      <td>0.035734</td>\n",
       "      <td>0.040606</td>\n",
       "      <td>0.034109</td>\n",
       "      <td>0.006497</td>\n",
       "      <td>0.069302</td>\n",
       "      <td>0.522469</td>\n",
       "      <td>0.506226</td>\n",
       "      <td>0.016243</td>\n",
       "      <td>0.436383</td>\n",
       "      <td>0.488360</td>\n",
       "      <td>-0.051976</td>\n",
       "      <td>0.055766</td>\n",
       "      <td>0.027612</td>\n",
       "      <td>0.017325</td>\n",
       "      <td>0.021115</td>\n",
       "      <td>0.056849</td>\n",
       "      <td>0.036816</td>\n",
       "    </tr>\n",
       "  </tbody>\n",
       "</table>\n",
       "</div>"
      ],
      "text/plain": [
       "   Season TeamCode       PlayerName Position  TGP  TGoals  TAssists  TPoints  \\\n",
       "0    2017      TOR  PATRICK MARLEAU        W   82    27.0      20.0     47.0   \n",
       "1    2017      TOR      NAZEM KADRI        C   80    32.0      23.0     55.0   \n",
       "2    2017      TOR      LEO KOMAROV        C   74     7.0      12.0     19.0   \n",
       "3    2017      TOR   NIKITA ZAITSEV        D   60     5.0       8.0     13.0   \n",
       "4    2017      TOR    JAKE GARDINER        D   82     5.0      47.0     52.0   \n",
       "\n",
       "   TGoalsF  TGoalsA  TEVGoalsF  TEVGoalsA  TPlus/Minus  TShots  TShotsF  \\\n",
       "0     81.0     59.0       61.0       55.0          6.0   177.0      749   \n",
       "1     88.0     52.0       54.0       52.0          2.0   178.0      811   \n",
       "2     42.0     52.0       35.0       35.0          0.0   107.0      508   \n",
       "3     60.0     69.0       59.0       51.0          8.0    49.0      556   \n",
       "4     97.0     66.0       75.0       63.0         12.0   128.0      965   \n",
       "\n",
       "   TShotsA  TDShots  TEVShotsF  TEVShotsA  TEVDShots  TBlocks  THits  \\\n",
       "0      730       19        607        703        -96     26.0   85.0   \n",
       "1      714       97        597        712       -115     26.0   93.0   \n",
       "2      710     -202        463        525        -62     45.0  219.0   \n",
       "3      827     -271        549        655       -106    134.0  113.0   \n",
       "4      935       30        806        902        -96    103.0   51.0   \n",
       "\n",
       "   TPenalties  TTakeaways  TGiveaways  TMisses    TTOI  TOIGoals  TOIAssists  \\\n",
       "0        16.0        28.0        33.0     67.0  1393.0  0.019383    0.014358   \n",
       "1        42.0        42.0        48.0     75.0  1341.0  0.023863    0.017151   \n",
       "2        31.0        47.0        42.0     43.0  1168.0  0.005993    0.010274   \n",
       "3        31.0        21.0        76.0     29.0  1333.0  0.003751    0.006002   \n",
       "4        32.0        39.0       105.0     68.0  1847.0  0.002707    0.025447   \n",
       "\n",
       "   TOIPoints  TOIGoalsF  TOIGoalsA  TOIEVGoalsF  TOIEVGoalsA  TOIPlus/Minus  \\\n",
       "0   0.033740   0.058148   0.042355     0.043790     0.039483       0.004307   \n",
       "1   0.041014   0.065623   0.038777     0.040268     0.038777       0.001491   \n",
       "2   0.016267   0.035959   0.044521     0.029966     0.029966       0.000000   \n",
       "3   0.009752   0.045011   0.051763     0.044261     0.038260       0.006002   \n",
       "4   0.028154   0.052518   0.035734     0.040606     0.034109       0.006497   \n",
       "\n",
       "   TOIShots  TOIShotsF  TOIShotsA  TOIDShots  TOIEVShotsF  TOIEVShotsA  \\\n",
       "0  0.127064   0.537688   0.524049   0.013640     0.435750     0.504666   \n",
       "1  0.132737   0.604773   0.532438   0.072334     0.445190     0.530947   \n",
       "2  0.091610   0.434932   0.607877  -0.172945     0.396404     0.449486   \n",
       "3  0.036759   0.417104   0.620405  -0.203301     0.411853     0.491373   \n",
       "4  0.069302   0.522469   0.506226   0.016243     0.436383     0.488360   \n",
       "\n",
       "   TOIEVDShots  TOIBlocks   TOIHits  TOIPenalties  TOITakeaways  TOIGiveaways  \\\n",
       "0    -0.068916   0.018665  0.061019      0.011486      0.020101      0.023690   \n",
       "1    -0.085757   0.019389  0.069351      0.031320      0.031320      0.035794   \n",
       "2    -0.053082   0.038527  0.187500      0.026541      0.040240      0.035959   \n",
       "3    -0.079520   0.100525  0.084771      0.023256      0.015754      0.057014   \n",
       "4    -0.051976   0.055766  0.027612      0.017325      0.021115      0.056849   \n",
       "\n",
       "   TOIMisses  \n",
       "0   0.048098  \n",
       "1   0.055928  \n",
       "2   0.036815  \n",
       "3   0.021755  \n",
       "4   0.036816  "
      ]
     },
     "execution_count": 140,
     "metadata": {},
     "output_type": "execute_result"
    }
   ],
   "source": [
    "de = de[['Season', 'TeamCode', 'PlayerName', 'Position', 'TGP', 'TGoals', 'TAssists', 'TPoints', 'TGoalsF', 'TGoalsA', 'TEVGoalsF', 'TEVGoalsA', 'TPlus/Minus', 'TShots', 'TShotsF', 'TShotsA', 'TDShots', 'TEVShotsF', 'TEVShotsA', 'TEVDShots', 'TBlocks', 'THits', 'TPenalties', 'TTakeaways', 'TGiveaways', 'TMisses', 'TTOI', 'TOIGoals', 'TOIAssists', 'TOIPoints', 'TOIGoalsF', 'TOIGoalsA', 'TOIEVGoalsF', 'TOIEVGoalsA', 'TOIPlus/Minus', 'TOIShots', 'TOIShotsF', 'TOIShotsA', 'TOIDShots', 'TOIEVShotsF', 'TOIEVShotsA', 'TOIEVDShots', 'TOIBlocks', 'TOIHits', 'TOIPenalties', 'TOITakeaways', 'TOIGiveaways', 'TOIMisses']]\n",
    "de.head()"
   ]
  },
  {
   "cell_type": "code",
   "execution_count": 141,
   "metadata": {
    "collapsed": false
   },
   "outputs": [
    {
     "data": {
      "text/plain": [
       "(1066, 48)"
      ]
     },
     "execution_count": 141,
     "metadata": {},
     "output_type": "execute_result"
    }
   ],
   "source": [
    "de.shape"
   ]
  },
  {
   "cell_type": "code",
   "execution_count": 142,
   "metadata": {
    "collapsed": true
   },
   "outputs": [],
   "source": [
    "de.to_csv('/Users/stefanostselios/Brock University/Kevin Mongeon - StephanosShare/out/stats/2017_player_stats.csv', index='False', sep=',')\n",
    "#de = pd.read_csv('/Users/kevinmongeon/Brock University/Steve Tselios - StephanosShare/out/stats/2017_player_stats.csv', index='False', sep=',')"
   ]
  },
  {
   "cell_type": "code",
   "execution_count": null,
   "metadata": {
    "collapsed": true
   },
   "outputs": [],
   "source": []
  }
 ],
 "metadata": {
  "kernelspec": {
   "display_name": "Python 3",
   "language": "python",
   "name": "python3"
  },
  "language_info": {
   "codemirror_mode": {
    "name": "ipython",
    "version": 3
   },
   "file_extension": ".py",
   "mimetype": "text/x-python",
   "name": "python",
   "nbconvert_exporter": "python",
   "pygments_lexer": "ipython3",
   "version": "3.6.0"
  }
 },
 "nbformat": 4,
 "nbformat_minor": 2
}
