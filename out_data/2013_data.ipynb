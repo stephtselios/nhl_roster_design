{
 "cells": [
  {
   "cell_type": "markdown",
   "metadata": {},
   "source": [
    "## 2013 play by play data"
   ]
  },
  {
   "cell_type": "code",
   "execution_count": 41,
   "metadata": {
    "collapsed": true
   },
   "outputs": [],
   "source": [
    "import sys\n",
    "import os\n",
    "import pandas as pd\n",
    "import numpy as np\n",
    "import datetime, time\n",
    "import matplotlib.pyplot as plt\n",
    "from matplotlib.backends.backend_pdf import PdfPages\n",
    "import matplotlib.cm as cm\n",
    "import statsmodels.api as sm\n",
    "from statsmodels.formula.api import ols\n",
    "from pylab import hist, show\n",
    "import scipy\n",
    "import zipfile\n",
    "from sklearn.cluster import KMeans\n",
    "from sklearn import metrics\n",
    "from sklearn.preprocessing import MinMaxScaler\n",
    "from sklearn.preprocessing import StandardScaler\n",
    "from sklearn.decomposition import PCA\n",
    "from scipy.cluster.hierarchy import linkage, dendrogram\n",
    "from scipy.cluster.hierarchy import cophenet\n",
    "from scipy.spatial.distance import pdist\n",
    "import seaborn as sn\n",
    "from sklearn.metrics import silhouette_samples, silhouette_score\n",
    "\n",
    "\n",
    "sys.setrecursionlimit(100000)\n",
    "pd.set_option('display.max_rows', 50)\n",
    "pd.set_option('display.max_columns', 200)"
   ]
  },
  {
   "cell_type": "markdown",
   "metadata": {},
   "source": [
    "### import 2013 nhl data set"
   ]
  },
  {
   "cell_type": "code",
   "execution_count": 42,
   "metadata": {
    "collapsed": false
   },
   "outputs": [],
   "source": [
    "da = pd.read_csv('/Users/stefanostselios/Brock University/Kevin Mongeon - StephanosShare/data/nhl_pbp20132014.csv')\n",
    "#da = pd.read_csv('/Users/kevinmongeon/Brock University/Steve Tselios - StephanosShare/data/nhl_pbp20132014.csv')\n",
    "da = da.drop('Unnamed: 0', axis=1)"
   ]
  },
  {
   "cell_type": "markdown",
   "metadata": {},
   "source": [
    "- rename columns and create a season variable"
   ]
  },
  {
   "cell_type": "code",
   "execution_count": 43,
   "metadata": {
    "collapsed": false
   },
   "outputs": [],
   "source": [
    "da['Season'] = 2013\n",
    "da = da.rename(columns={ 'Game_Id' : 'GameNumber', 'Ev_Zone': 'EventZone', 'Time_Elapsed': 'Time', 'Ev_Team': 'EventTeamCode', 'Description': 'EventDetail', 'Away_Team': 'ATeamCode', 'Home_Team':'HTeamCode', 'p1_name': 'EventPlayer1','p2_name': 'EventPlayer2', 'p3_name': 'EventPlayer3', 'awayPlayer1': 'APlayer1', 'awayPlayer2': 'APlayer2', 'awayPlayer3': 'APlayer3', 'awayPlayer4': 'APlayer4', 'awayPlayer5': 'APlayer5', 'awayPlayer6': 'APlayer6', 'homePlayer1': 'HPlayer1', 'homePlayer2': 'HPlayer2', 'homePlayer3': 'HPlayer3','homePlayer4': 'HPlayer4', 'homePlayer5': 'HPlayer5','homePlayer6': 'HPlayer6', 'Away_Score': 'AGoals', 'Home_Score': 'HGoals', 'Away_Goalie': 'AGoalie', 'Home_Goalie': 'HGoalie', 'Away_Players': 'PlayersA', 'Home_Players': 'PlayersH' })\n",
    "da = da[['Season', 'GameNumber', 'Date', 'Period', 'Time', 'Strength', 'Event', 'EventDetail', 'EventTeamCode', 'EventPlayer1', 'EventPlayer2', 'EventPlayer3', 'ATeamCode', 'APlayer1', 'APlayer2', 'APlayer3', 'APlayer4', 'APlayer5', 'APlayer6', 'AGoalie', 'PlayersA', 'HTeamCode', 'HPlayer1', 'HPlayer2', 'HPlayer3', 'HPlayer4', 'HPlayer5', 'HPlayer6', 'HGoalie', 'PlayersH']]\n",
    "da = da.sort_values(['Season', 'GameNumber', 'Period', 'Time'], ascending=[True, True, True, True])"
   ]
  },
  {
   "cell_type": "markdown",
   "metadata": {},
   "source": [
    "- keep only regular season games and exclude irrelevant on-ice events"
   ]
  },
  {
   "cell_type": "code",
   "execution_count": 44,
   "metadata": {
    "collapsed": false
   },
   "outputs": [],
   "source": [
    "da = da[da['GameNumber'] <= 21320]\n",
    "da = da[da['Period'] <= 4]\n",
    "da = da[da['Period'] >= 1]\n",
    "da = da[da['Event']!='STOP']\n",
    "da = da[da['Event']!='EISTR']\n",
    "da = da[da['Event']!='EIEND']\n",
    "da = da[da['Event']!='PSTR']\n",
    "da = da[da['Event']!='PEND']\n",
    "da = da[da['Event']!='SOC']\n",
    "da = da[da['Event']!='GEND']"
   ]
  },
  {
   "cell_type": "markdown",
   "metadata": {},
   "source": [
    "- create an event number variable that will count the number of events per game. \n",
    "- create an advantage type variable for even strength, power play and short handed situations."
   ]
  },
  {
   "cell_type": "code",
   "execution_count": 45,
   "metadata": {
    "collapsed": true
   },
   "outputs": [],
   "source": [
    "da['EventNumber'] = da.groupby(['Season', 'GameNumber']).cumcount()+1"
   ]
  },
  {
   "cell_type": "code",
   "execution_count": 46,
   "metadata": {
    "collapsed": true
   },
   "outputs": [],
   "source": [
    "da['AdvantageType'] = da.apply(lambda x: 'EV' if ((x['PlayersA'] == x['PlayersH']) & (x['PlayersA'] != 1) & (x['PlayersH'] != 1)) else 'PP' if ((x['PlayersA'] > x['PlayersH']) & (x['EventTeamCode'] == x['ATeamCode'])) else 'PP' if ((x['PlayersA'] < x['PlayersH']) & (x['EventTeamCode'] == x['HTeamCode'])) else 'SH' if ((x['PlayersA'] < x['PlayersH']) & (x['EventTeamCode'] == x['ATeamCode'])) else 'SH' if ((x['PlayersA'] > x['PlayersH']) & (x['EventTeamCode'] == x['HTeamCode'])) else 'PP' if ((x['PlayersA'] == 1 ) & (x['PlayersH'] == 1)) else np.nan, axis=1) "
   ]
  },
  {
   "cell_type": "code",
   "execution_count": 47,
   "metadata": {
    "collapsed": false
   },
   "outputs": [
    {
     "data": {
      "text/plain": [
       "EV    264338\n",
       "PP     35520\n",
       "SH     15933\n",
       "Name: AdvantageType, dtype: int64"
      ]
     },
     "execution_count": 47,
     "metadata": {},
     "output_type": "execute_result"
    }
   ],
   "source": [
    "da['AdvantageType'].value_counts()"
   ]
  },
  {
   "cell_type": "markdown",
   "metadata": {},
   "source": [
    "- reshape data from wide to long for away team players and home team players"
   ]
  },
  {
   "cell_type": "code",
   "execution_count": 48,
   "metadata": {
    "collapsed": false
   },
   "outputs": [
    {
     "data": {
      "text/html": [
       "<div>\n",
       "<table border=\"1\" class=\"dataframe\">\n",
       "  <thead>\n",
       "    <tr style=\"text-align: right;\">\n",
       "      <th></th>\n",
       "      <th>AGoalie</th>\n",
       "      <th>ATeamCode</th>\n",
       "      <th>AdvantageType</th>\n",
       "      <th>Date</th>\n",
       "      <th>Event</th>\n",
       "      <th>EventDetail</th>\n",
       "      <th>EventNumber</th>\n",
       "      <th>EventPlayer1</th>\n",
       "      <th>EventPlayer2</th>\n",
       "      <th>EventPlayer3</th>\n",
       "      <th>EventTeamCode</th>\n",
       "      <th>GameNumber</th>\n",
       "      <th>HGoalie</th>\n",
       "      <th>HTeamCode</th>\n",
       "      <th>Period</th>\n",
       "      <th>PlayersA</th>\n",
       "      <th>PlayersH</th>\n",
       "      <th>Season</th>\n",
       "      <th>Strength</th>\n",
       "      <th>Time</th>\n",
       "      <th>APlayer</th>\n",
       "      <th>HPlayer</th>\n",
       "    </tr>\n",
       "  </thead>\n",
       "  <tbody>\n",
       "    <tr>\n",
       "      <th>0</th>\n",
       "      <td>JAMES REIMER</td>\n",
       "      <td>TOR</td>\n",
       "      <td>EV</td>\n",
       "      <td>2013-10-01</td>\n",
       "      <td>FAC</td>\n",
       "      <td>TOR won Neu. Zone - TOR #42 BOZAK vs MTL #14 P...</td>\n",
       "      <td>1</td>\n",
       "      <td>TYLER BOZAK</td>\n",
       "      <td>TOMAS PLEKANEC</td>\n",
       "      <td>NaN</td>\n",
       "      <td>TOR</td>\n",
       "      <td>20001</td>\n",
       "      <td>CAREY PRICE</td>\n",
       "      <td>MTL</td>\n",
       "      <td>1</td>\n",
       "      <td>6</td>\n",
       "      <td>6</td>\n",
       "      <td>2013</td>\n",
       "      <td>5x5</td>\n",
       "      <td>0:00</td>\n",
       "      <td>TYLER BOZAK</td>\n",
       "      <td>TOMAS PLEKANEC</td>\n",
       "    </tr>\n",
       "    <tr>\n",
       "      <th>1</th>\n",
       "      <td>JAMES REIMER</td>\n",
       "      <td>TOR</td>\n",
       "      <td>PP</td>\n",
       "      <td>2013-10-01</td>\n",
       "      <td>PENL</td>\n",
       "      <td>TOR #3 PHANEUF Boarding(2 min), Def. Zone Draw...</td>\n",
       "      <td>2</td>\n",
       "      <td>DION PHANEUF</td>\n",
       "      <td>BRANDON PRUST</td>\n",
       "      <td>NaN</td>\n",
       "      <td>TOR</td>\n",
       "      <td>20001</td>\n",
       "      <td>CAREY PRICE</td>\n",
       "      <td>MTL</td>\n",
       "      <td>1</td>\n",
       "      <td>6</td>\n",
       "      <td>5</td>\n",
       "      <td>2013</td>\n",
       "      <td>4x5</td>\n",
       "      <td>10:03</td>\n",
       "      <td>TYLER BOZAK</td>\n",
       "      <td>LARS ELLER</td>\n",
       "    </tr>\n",
       "    <tr>\n",
       "      <th>2</th>\n",
       "      <td>JAMES REIMER</td>\n",
       "      <td>TOR</td>\n",
       "      <td>EV</td>\n",
       "      <td>2013-10-01</td>\n",
       "      <td>FAC</td>\n",
       "      <td>MTL won Off. Zone - TOR #42 BOZAK vs MTL #81 E...</td>\n",
       "      <td>3</td>\n",
       "      <td>LARS ELLER</td>\n",
       "      <td>TYLER BOZAK</td>\n",
       "      <td>NaN</td>\n",
       "      <td>MTL</td>\n",
       "      <td>20001</td>\n",
       "      <td>CAREY PRICE</td>\n",
       "      <td>MTL</td>\n",
       "      <td>1</td>\n",
       "      <td>5</td>\n",
       "      <td>5</td>\n",
       "      <td>2013</td>\n",
       "      <td>4x4</td>\n",
       "      <td>10:03</td>\n",
       "      <td>TYLER BOZAK</td>\n",
       "      <td>ALEX GALCHENYUK</td>\n",
       "    </tr>\n",
       "    <tr>\n",
       "      <th>3</th>\n",
       "      <td>JAMES REIMER</td>\n",
       "      <td>TOR</td>\n",
       "      <td>EV</td>\n",
       "      <td>2013-10-01</td>\n",
       "      <td>GOAL</td>\n",
       "      <td>MTL #81 ELLER(1), Wrist, Off. Zone, 18 ft.Assi...</td>\n",
       "      <td>4</td>\n",
       "      <td>LARS ELLER</td>\n",
       "      <td>RAPHAEL DIAZ</td>\n",
       "      <td>ALEX GALCHENYUK</td>\n",
       "      <td>MTL</td>\n",
       "      <td>20001</td>\n",
       "      <td>CAREY PRICE</td>\n",
       "      <td>MTL</td>\n",
       "      <td>1</td>\n",
       "      <td>5</td>\n",
       "      <td>5</td>\n",
       "      <td>2013</td>\n",
       "      <td>4x4</td>\n",
       "      <td>10:08</td>\n",
       "      <td>TYLER BOZAK</td>\n",
       "      <td>ALEX GALCHENYUK</td>\n",
       "    </tr>\n",
       "    <tr>\n",
       "      <th>4</th>\n",
       "      <td>JAMES REIMER</td>\n",
       "      <td>TOR</td>\n",
       "      <td>EV</td>\n",
       "      <td>2013-10-01</td>\n",
       "      <td>FAC</td>\n",
       "      <td>TOR won Neu. Zone - TOR #63 BOLLAND vs MTL #81...</td>\n",
       "      <td>5</td>\n",
       "      <td>DAVE BOLLAND</td>\n",
       "      <td>LARS ELLER</td>\n",
       "      <td>NaN</td>\n",
       "      <td>TOR</td>\n",
       "      <td>20001</td>\n",
       "      <td>CAREY PRICE</td>\n",
       "      <td>MTL</td>\n",
       "      <td>1</td>\n",
       "      <td>5</td>\n",
       "      <td>5</td>\n",
       "      <td>2013</td>\n",
       "      <td>4x4</td>\n",
       "      <td>10:08</td>\n",
       "      <td>DAVE BOLLAND</td>\n",
       "      <td>ALEX GALCHENYUK</td>\n",
       "    </tr>\n",
       "  </tbody>\n",
       "</table>\n",
       "</div>"
      ],
      "text/plain": [
       "        AGoalie ATeamCode AdvantageType        Date Event  \\\n",
       "0  JAMES REIMER       TOR            EV  2013-10-01   FAC   \n",
       "1  JAMES REIMER       TOR            PP  2013-10-01  PENL   \n",
       "2  JAMES REIMER       TOR            EV  2013-10-01   FAC   \n",
       "3  JAMES REIMER       TOR            EV  2013-10-01  GOAL   \n",
       "4  JAMES REIMER       TOR            EV  2013-10-01   FAC   \n",
       "\n",
       "                                         EventDetail  EventNumber  \\\n",
       "0  TOR won Neu. Zone - TOR #42 BOZAK vs MTL #14 P...            1   \n",
       "1  TOR #3 PHANEUF Boarding(2 min), Def. Zone Draw...            2   \n",
       "2  MTL won Off. Zone - TOR #42 BOZAK vs MTL #81 E...            3   \n",
       "3  MTL #81 ELLER(1), Wrist, Off. Zone, 18 ft.Assi...            4   \n",
       "4  TOR won Neu. Zone - TOR #63 BOLLAND vs MTL #81...            5   \n",
       "\n",
       "   EventPlayer1    EventPlayer2     EventPlayer3 EventTeamCode  GameNumber  \\\n",
       "0   TYLER BOZAK  TOMAS PLEKANEC              NaN           TOR       20001   \n",
       "1  DION PHANEUF   BRANDON PRUST              NaN           TOR       20001   \n",
       "2    LARS ELLER     TYLER BOZAK              NaN           MTL       20001   \n",
       "3    LARS ELLER    RAPHAEL DIAZ  ALEX GALCHENYUK           MTL       20001   \n",
       "4  DAVE BOLLAND      LARS ELLER              NaN           TOR       20001   \n",
       "\n",
       "       HGoalie HTeamCode  Period  PlayersA  PlayersH  Season Strength   Time  \\\n",
       "0  CAREY PRICE       MTL       1         6         6    2013      5x5   0:00   \n",
       "1  CAREY PRICE       MTL       1         6         5    2013      4x5  10:03   \n",
       "2  CAREY PRICE       MTL       1         5         5    2013      4x4  10:03   \n",
       "3  CAREY PRICE       MTL       1         5         5    2013      4x4  10:08   \n",
       "4  CAREY PRICE       MTL       1         5         5    2013      4x4  10:08   \n",
       "\n",
       "        APlayer          HPlayer  \n",
       "0   TYLER BOZAK   TOMAS PLEKANEC  \n",
       "1   TYLER BOZAK       LARS ELLER  \n",
       "2   TYLER BOZAK  ALEX GALCHENYUK  \n",
       "3   TYLER BOZAK  ALEX GALCHENYUK  \n",
       "4  DAVE BOLLAND  ALEX GALCHENYUK  "
      ]
     },
     "execution_count": 48,
     "metadata": {},
     "output_type": "execute_result"
    }
   ],
   "source": [
    "db = da.copy()\n",
    "a = [col for col in db.columns if 'APlayer' in col]\n",
    "b = [col for col in db.columns if 'HPlayer' in col]\n",
    "db = pd.lreshape(db, {'APlayer' : a, 'HPlayer' : b })\n",
    "db.head()"
   ]
  },
  {
   "cell_type": "code",
   "execution_count": 49,
   "metadata": {
    "collapsed": false
   },
   "outputs": [],
   "source": [
    "db = db[['Season', 'GameNumber', 'Date', 'Period', 'Time', 'AdvantageType', 'Strength', 'EventNumber', 'Event', 'EventDetail', 'EventTeamCode', 'EventPlayer1', 'EventPlayer2', 'EventPlayer3', 'ATeamCode', 'APlayer', 'AGoalie', 'PlayersA', 'HTeamCode', 'HPlayer', 'HGoalie', 'PlayersH']]\n",
    "db = db.sort_values(['Season', 'GameNumber', 'Period', 'Time'], ascending=[True, True, True, True])"
   ]
  },
  {
   "cell_type": "markdown",
   "metadata": {},
   "source": [
    "- reshape data from wide to long for away and home team code and player respectfully."
   ]
  },
  {
   "cell_type": "code",
   "execution_count": 50,
   "metadata": {
    "collapsed": false
   },
   "outputs": [],
   "source": [
    "dc = db.copy()\n",
    "dc = dc.rename(columns={'EventTeamCode': 'EventTeam', 'EventPlayer1': 'EventP1', 'EventPlayer2': 'EventP2', 'EventPlayer3': 'EventP3', 'PlayersA':'PA', 'PlayersH': 'PH'})"
   ]
  },
  {
   "cell_type": "code",
   "execution_count": 51,
   "metadata": {
    "collapsed": true
   },
   "outputs": [],
   "source": [
    "a = [col for col in dc.columns if 'Code' in col]\n",
    "b = [col for col in dc.columns if 'Player' in col]\n",
    "c = [col for col in dc.columns if 'Goalie' in col]\n",
    "d = [col for col in dc.columns if 'Position' in col]\n",
    "dc = pd.lreshape(dc, {'TeamCode' : a, 'PlayerName' : b, 'Goalie': c})"
   ]
  },
  {
   "cell_type": "code",
   "execution_count": 52,
   "metadata": {
    "collapsed": false
   },
   "outputs": [],
   "source": [
    "dc = dc.rename(columns={'EventTeam': 'EventTeamCode', 'EventP1': 'EventPlayer1', 'EventP2': 'EventPlayer2', 'EventP3': 'EventPlayer3', 'PA':'PlayersA', 'PH': 'PlayersH'})"
   ]
  },
  {
   "cell_type": "code",
   "execution_count": 53,
   "metadata": {
    "collapsed": false
   },
   "outputs": [
    {
     "data": {
      "text/plain": [
       "(3627691, 19)"
      ]
     },
     "execution_count": 53,
     "metadata": {},
     "output_type": "execute_result"
    }
   ],
   "source": [
    "dc.shape"
   ]
  },
  {
   "cell_type": "markdown",
   "metadata": {},
   "source": [
    "### games played"
   ]
  },
  {
   "cell_type": "markdown",
   "metadata": {},
   "source": [
    "- calculate the games each player participated in for the duration of the 2011 regular season."
   ]
  },
  {
   "cell_type": "code",
   "execution_count": 54,
   "metadata": {
    "collapsed": true
   },
   "outputs": [],
   "source": [
    "s = dc.copy()\n",
    "s = s[['Season', 'GameNumber', 'TeamCode', 'PlayerName']]\n",
    "s = s.sort_values(['Season', 'GameNumber', 'TeamCode'], ascending=[True, True, True])\n",
    "s = s.drop_duplicates(['Season', 'GameNumber', 'TeamCode', 'PlayerName'])"
   ]
  },
  {
   "cell_type": "code",
   "execution_count": 55,
   "metadata": {
    "collapsed": false
   },
   "outputs": [
    {
     "data": {
      "text/html": [
       "<div>\n",
       "<table border=\"1\" class=\"dataframe\">\n",
       "  <thead>\n",
       "    <tr style=\"text-align: right;\">\n",
       "      <th></th>\n",
       "      <th>Season</th>\n",
       "      <th>TeamCode</th>\n",
       "      <th>PlayerName</th>\n",
       "      <th>GP</th>\n",
       "    </tr>\n",
       "  </thead>\n",
       "  <tbody>\n",
       "    <tr>\n",
       "      <th>1814260</th>\n",
       "      <td>2013</td>\n",
       "      <td>MTL</td>\n",
       "      <td>TOMAS PLEKANEC</td>\n",
       "      <td>81</td>\n",
       "    </tr>\n",
       "    <tr>\n",
       "      <th>1814261</th>\n",
       "      <td>2013</td>\n",
       "      <td>MTL</td>\n",
       "      <td>RENE BOURQUE</td>\n",
       "      <td>63</td>\n",
       "    </tr>\n",
       "    <tr>\n",
       "      <th>1814262</th>\n",
       "      <td>2013</td>\n",
       "      <td>MTL</td>\n",
       "      <td>BRIAN GIONTA</td>\n",
       "      <td>81</td>\n",
       "    </tr>\n",
       "    <tr>\n",
       "      <th>1814263</th>\n",
       "      <td>2013</td>\n",
       "      <td>MTL</td>\n",
       "      <td>JOSH GORGES</td>\n",
       "      <td>66</td>\n",
       "    </tr>\n",
       "    <tr>\n",
       "      <th>1814264</th>\n",
       "      <td>2013</td>\n",
       "      <td>MTL</td>\n",
       "      <td>PK SUBBAN</td>\n",
       "      <td>82</td>\n",
       "    </tr>\n",
       "  </tbody>\n",
       "</table>\n",
       "</div>"
      ],
      "text/plain": [
       "         Season TeamCode      PlayerName  GP\n",
       "1814260    2013      MTL  TOMAS PLEKANEC  81\n",
       "1814261    2013      MTL    RENE BOURQUE  63\n",
       "1814262    2013      MTL    BRIAN GIONTA  81\n",
       "1814263    2013      MTL     JOSH GORGES  66\n",
       "1814264    2013      MTL       PK SUBBAN  82"
      ]
     },
     "execution_count": 55,
     "metadata": {},
     "output_type": "execute_result"
    }
   ],
   "source": [
    "s['GP'] = s.groupby(['Season', 'TeamCode','PlayerName'])['GameNumber'].transform('count')\n",
    "s = s.drop_duplicates(['Season', 'TeamCode', 'PlayerName'])\n",
    "s = s[['Season', 'TeamCode', 'PlayerName', 'GP']]\n",
    "s.head()"
   ]
  },
  {
   "cell_type": "code",
   "execution_count": 56,
   "metadata": {
    "collapsed": false
   },
   "outputs": [
    {
     "data": {
      "text/plain": [
       "Season        0\n",
       "TeamCode      0\n",
       "PlayerName    0\n",
       "GP            0\n",
       "dtype: int64"
      ]
     },
     "execution_count": 56,
     "metadata": {},
     "output_type": "execute_result"
    }
   ],
   "source": [
    "s.isnull().sum()"
   ]
  },
  {
   "cell_type": "code",
   "execution_count": 57,
   "metadata": {
    "collapsed": false
   },
   "outputs": [
    {
     "data": {
      "text/plain": [
       "(1056, 4)"
      ]
     },
     "execution_count": 57,
     "metadata": {},
     "output_type": "execute_result"
    }
   ],
   "source": [
    "s.shape"
   ]
  },
  {
   "cell_type": "markdown",
   "metadata": {},
   "source": [
    "### shots for and against"
   ]
  },
  {
   "cell_type": "markdown",
   "metadata": {},
   "source": [
    "- calculate the shots against each player faced througout the duration of a season. \n",
    "- create shot for and shot against variables. If event team code is indiferrent to team code assign a value of 1. If not, assign a value of 0. \n",
    "- **goals are a result of a shot and therefore need to be added to a player's shot total**. Display total shots per player for a season."
   ]
  },
  {
   "cell_type": "code",
   "execution_count": 71,
   "metadata": {
    "collapsed": false
   },
   "outputs": [],
   "source": [
    "sa = dc.copy()\n",
    "sa = sa[sa['Event'].isin(['SHOT','GOAL'])]"
   ]
  },
  {
   "cell_type": "code",
   "execution_count": 72,
   "metadata": {
    "collapsed": false
   },
   "outputs": [],
   "source": [
    "sa['ShotF'] = sa.apply(lambda x: 1 if x['EventTeamCode'] == x['TeamCode'] else 0, axis=1)\n",
    "sa['ShotsF'] = sa.groupby(['Season', 'TeamCode', 'PlayerName'])['ShotF'].transform('sum')\n",
    "\n",
    "sa['ShotA'] = sa.apply(lambda x: 1 if x['EventTeamCode'] != x['TeamCode'] else 0, axis=1)\n",
    "sa['ShotsA'] = sa.groupby(['Season', 'TeamCode', 'PlayerName'])['ShotA'].transform('sum')"
   ]
  },
  {
   "cell_type": "markdown",
   "metadata": {},
   "source": [
    "- create shot for and shot against variables for even strength situations only. If event team code is indiferrent to team code assign a value of 1. If not, assign a value of 0. \n",
    "- **goals are a result of a shot and therefore need to be added to a player's shot total**. Display total shots per player for a season."
   ]
  },
  {
   "cell_type": "code",
   "execution_count": 73,
   "metadata": {
    "collapsed": false
   },
   "outputs": [],
   "source": [
    "sa['EVShotF'] = sa.apply(lambda x: 1 if ((x['AdvantageType'] == 'EV') & (x['EventTeamCode'] == x['TeamCode'])) else 1 if ((x['AdvantageType'] == 'SH') & (x['EventTeamCode'] == x['TeamCode'])) else 0, axis=1)\n",
    "sa['EVShotsF'] = sa.groupby(['Season', 'TeamCode', 'PlayerName'])['EVShotF'].transform('sum')\n",
    "\n",
    "sa['EVShotA'] = sa.apply(lambda x: 1 if ((x['AdvantageType'] == 'EV') & (x['EventTeamCode'] != x['TeamCode'])) else 1 if ((x['AdvantageType'] == 'SH') & (x['EventTeamCode'] != x['TeamCode'])) else 0, axis=1)\n",
    "sa['EVShotsA'] = sa.groupby(['Season', 'TeamCode', 'PlayerName'])['EVShotA'].transform('sum')"
   ]
  },
  {
   "cell_type": "markdown",
   "metadata": {},
   "source": [
    "- calculate the shot differential for all shots and even strength shots."
   ]
  },
  {
   "cell_type": "code",
   "execution_count": 74,
   "metadata": {
    "collapsed": true
   },
   "outputs": [],
   "source": [
    "sa['DShots'] = sa['ShotsF'] - sa['ShotsA']\n",
    "sa['EVDShots'] = sa['EVShotsF'] - sa['EVShotsA']"
   ]
  },
  {
   "cell_type": "code",
   "execution_count": 75,
   "metadata": {
    "collapsed": false
   },
   "outputs": [
    {
     "data": {
      "text/html": [
       "<div>\n",
       "<table border=\"1\" class=\"dataframe\">\n",
       "  <thead>\n",
       "    <tr style=\"text-align: right;\">\n",
       "      <th></th>\n",
       "      <th>Season</th>\n",
       "      <th>TeamCode</th>\n",
       "      <th>PlayerName</th>\n",
       "      <th>ShotsF</th>\n",
       "      <th>ShotsA</th>\n",
       "      <th>DShots</th>\n",
       "      <th>EVShotsF</th>\n",
       "      <th>EVShotsA</th>\n",
       "      <th>EVDShots</th>\n",
       "    </tr>\n",
       "  </thead>\n",
       "  <tbody>\n",
       "    <tr>\n",
       "      <th>16</th>\n",
       "      <td>2013</td>\n",
       "      <td>TOR</td>\n",
       "      <td>TYLER BOZAK</td>\n",
       "      <td>656</td>\n",
       "      <td>710</td>\n",
       "      <td>-54</td>\n",
       "      <td>502</td>\n",
       "      <td>633</td>\n",
       "      <td>-131</td>\n",
       "    </tr>\n",
       "    <tr>\n",
       "      <th>18</th>\n",
       "      <td>2013</td>\n",
       "      <td>TOR</td>\n",
       "      <td>PHIL KESSEL</td>\n",
       "      <td>985</td>\n",
       "      <td>916</td>\n",
       "      <td>69</td>\n",
       "      <td>730</td>\n",
       "      <td>915</td>\n",
       "      <td>-185</td>\n",
       "    </tr>\n",
       "    <tr>\n",
       "      <th>20</th>\n",
       "      <td>2013</td>\n",
       "      <td>TOR</td>\n",
       "      <td>PAUL RANGER</td>\n",
       "      <td>376</td>\n",
       "      <td>577</td>\n",
       "      <td>-201</td>\n",
       "      <td>364</td>\n",
       "      <td>479</td>\n",
       "      <td>-115</td>\n",
       "    </tr>\n",
       "    <tr>\n",
       "      <th>22</th>\n",
       "      <td>2013</td>\n",
       "      <td>TOR</td>\n",
       "      <td>JAKE GARDINER</td>\n",
       "      <td>834</td>\n",
       "      <td>887</td>\n",
       "      <td>-53</td>\n",
       "      <td>680</td>\n",
       "      <td>838</td>\n",
       "      <td>-158</td>\n",
       "    </tr>\n",
       "    <tr>\n",
       "      <th>24</th>\n",
       "      <td>2013</td>\n",
       "      <td>TOR</td>\n",
       "      <td>JAMES REIMER</td>\n",
       "      <td>673</td>\n",
       "      <td>1067</td>\n",
       "      <td>-394</td>\n",
       "      <td>673</td>\n",
       "      <td>902</td>\n",
       "      <td>-229</td>\n",
       "    </tr>\n",
       "  </tbody>\n",
       "</table>\n",
       "</div>"
      ],
      "text/plain": [
       "    Season TeamCode     PlayerName  ShotsF  ShotsA  DShots  EVShotsF  \\\n",
       "16    2013      TOR    TYLER BOZAK     656     710     -54       502   \n",
       "18    2013      TOR    PHIL KESSEL     985     916      69       730   \n",
       "20    2013      TOR    PAUL RANGER     376     577    -201       364   \n",
       "22    2013      TOR  JAKE GARDINER     834     887     -53       680   \n",
       "24    2013      TOR   JAMES REIMER     673    1067    -394       673   \n",
       "\n",
       "    EVShotsA  EVDShots  \n",
       "16       633      -131  \n",
       "18       915      -185  \n",
       "20       479      -115  \n",
       "22       838      -158  \n",
       "24       902      -229  "
      ]
     },
     "execution_count": 75,
     "metadata": {},
     "output_type": "execute_result"
    }
   ],
   "source": [
    "sa = sa [['Season', 'TeamCode', 'PlayerName', 'ShotsF', 'ShotsA', 'DShots', 'EVShotsF', 'EVShotsA', 'EVDShots' ]]\n",
    "sa = sa.drop_duplicates(['Season', 'TeamCode', 'PlayerName'])\n",
    "sa.head()"
   ]
  },
  {
   "cell_type": "code",
   "execution_count": 76,
   "metadata": {
    "collapsed": false
   },
   "outputs": [
    {
     "data": {
      "text/plain": [
       "Season        0\n",
       "TeamCode      0\n",
       "PlayerName    0\n",
       "ShotsF        0\n",
       "ShotsA        0\n",
       "DShots        0\n",
       "EVShotsF      0\n",
       "EVShotsA      0\n",
       "EVDShots      0\n",
       "dtype: int64"
      ]
     },
     "execution_count": 76,
     "metadata": {},
     "output_type": "execute_result"
    }
   ],
   "source": [
    "sa.isnull().sum()"
   ]
  },
  {
   "cell_type": "code",
   "execution_count": 77,
   "metadata": {
    "collapsed": false
   },
   "outputs": [
    {
     "data": {
      "text/plain": [
       "(1056, 9)"
      ]
     },
     "execution_count": 77,
     "metadata": {},
     "output_type": "execute_result"
    }
   ],
   "source": [
    "sa.shape"
   ]
  },
  {
   "cell_type": "markdown",
   "metadata": {},
   "source": [
    "### goals for and against"
   ]
  },
  {
   "cell_type": "markdown",
   "metadata": {},
   "source": [
    "- create goals for and goals against variable. If event team code is the same as team code assign a value of 1 for goals for and a value of 0 for goals against. If event team code is different to team code, assign a value of 0 for golas for and a value of 1 for goals against. Display total goals for and against per player for a season."
   ]
  },
  {
   "cell_type": "code",
   "execution_count": 78,
   "metadata": {
    "collapsed": true
   },
   "outputs": [],
   "source": [
    "gfa = dc.copy()\n",
    "gfa = gfa[gfa['Event'] == 'GOAL']"
   ]
  },
  {
   "cell_type": "code",
   "execution_count": 79,
   "metadata": {
    "collapsed": true
   },
   "outputs": [],
   "source": [
    "gfa['EVGoalF'] = gfa.apply(lambda x: 1 if ((x['AdvantageType'] == 'EV') & (x['EventTeamCode'] == x['TeamCode'])) else 1 if ((x['AdvantageType'] == 'SH') & (x['EventTeamCode'] == x['TeamCode'])) else 0, axis=1)\n",
    "gfa['EVGoalA'] = gfa.apply(lambda x: 1 if ((x['AdvantageType'] == 'EV') & (x['EventTeamCode'] != x['TeamCode'])) else 1 if ((x['AdvantageType'] == 'SH') & (x['EventTeamCode'] != x['TeamCode'])) else 0, axis=1)"
   ]
  },
  {
   "cell_type": "code",
   "execution_count": 80,
   "metadata": {
    "collapsed": true
   },
   "outputs": [],
   "source": [
    "gfa['GoalF'] = gfa.apply(lambda x: 1 if (x['EventTeamCode'] == x['TeamCode']) else 0, axis=1)\n",
    "gfa['GoalA'] = gfa.apply(lambda x: 1 if (x['EventTeamCode'] != x['TeamCode']) else 0, axis=1)"
   ]
  },
  {
   "cell_type": "code",
   "execution_count": 81,
   "metadata": {
    "collapsed": true
   },
   "outputs": [],
   "source": [
    "gfa['EVGoalsF'] = gfa.groupby(['Season', 'TeamCode', 'PlayerName'])['EVGoalF'].transform('sum')\n",
    "gfa['EVGoalsA'] = gfa.groupby(['Season', 'TeamCode', 'PlayerName'])['EVGoalA'].transform('sum')\n",
    "gfa['GoalsF'] = gfa.groupby(['Season', 'TeamCode', 'PlayerName'])['GoalF'].transform('sum')\n",
    "gfa['GoalsA'] = gfa.groupby(['Season', 'TeamCode', 'PlayerName'])['GoalA'].transform('sum')"
   ]
  },
  {
   "cell_type": "code",
   "execution_count": 82,
   "metadata": {
    "collapsed": false
   },
   "outputs": [
    {
     "data": {
      "text/html": [
       "<div>\n",
       "<table border=\"1\" class=\"dataframe\">\n",
       "  <thead>\n",
       "    <tr style=\"text-align: right;\">\n",
       "      <th></th>\n",
       "      <th>Season</th>\n",
       "      <th>TeamCode</th>\n",
       "      <th>PlayerName</th>\n",
       "      <th>GoalsF</th>\n",
       "      <th>GoalsA</th>\n",
       "      <th>EVGoalsF</th>\n",
       "      <th>EVGoalsA</th>\n",
       "      <th>Plus/Minus</th>\n",
       "    </tr>\n",
       "  </thead>\n",
       "  <tbody>\n",
       "    <tr>\n",
       "      <th>16</th>\n",
       "      <td>2013</td>\n",
       "      <td>TOR</td>\n",
       "      <td>TYLER BOZAK</td>\n",
       "      <td>77</td>\n",
       "      <td>65</td>\n",
       "      <td>59</td>\n",
       "      <td>58</td>\n",
       "      <td>1</td>\n",
       "    </tr>\n",
       "    <tr>\n",
       "      <th>18</th>\n",
       "      <td>2013</td>\n",
       "      <td>TOR</td>\n",
       "      <td>PHIL KESSEL</td>\n",
       "      <td>101</td>\n",
       "      <td>71</td>\n",
       "      <td>73</td>\n",
       "      <td>71</td>\n",
       "      <td>2</td>\n",
       "    </tr>\n",
       "    <tr>\n",
       "      <th>20</th>\n",
       "      <td>2013</td>\n",
       "      <td>TOR</td>\n",
       "      <td>PAUL RANGER</td>\n",
       "      <td>35</td>\n",
       "      <td>44</td>\n",
       "      <td>32</td>\n",
       "      <td>33</td>\n",
       "      <td>-1</td>\n",
       "    </tr>\n",
       "    <tr>\n",
       "      <th>22</th>\n",
       "      <td>2013</td>\n",
       "      <td>TOR</td>\n",
       "      <td>JAKE GARDINER</td>\n",
       "      <td>72</td>\n",
       "      <td>56</td>\n",
       "      <td>51</td>\n",
       "      <td>51</td>\n",
       "      <td>0</td>\n",
       "    </tr>\n",
       "    <tr>\n",
       "      <th>24</th>\n",
       "      <td>2013</td>\n",
       "      <td>TOR</td>\n",
       "      <td>JAMES REIMER</td>\n",
       "      <td>45</td>\n",
       "      <td>96</td>\n",
       "      <td>45</td>\n",
       "      <td>70</td>\n",
       "      <td>-25</td>\n",
       "    </tr>\n",
       "  </tbody>\n",
       "</table>\n",
       "</div>"
      ],
      "text/plain": [
       "    Season TeamCode     PlayerName  GoalsF  GoalsA  EVGoalsF  EVGoalsA  \\\n",
       "16    2013      TOR    TYLER BOZAK      77      65        59        58   \n",
       "18    2013      TOR    PHIL KESSEL     101      71        73        71   \n",
       "20    2013      TOR    PAUL RANGER      35      44        32        33   \n",
       "22    2013      TOR  JAKE GARDINER      72      56        51        51   \n",
       "24    2013      TOR   JAMES REIMER      45      96        45        70   \n",
       "\n",
       "    Plus/Minus  \n",
       "16           1  \n",
       "18           2  \n",
       "20          -1  \n",
       "22           0  \n",
       "24         -25  "
      ]
     },
     "execution_count": 82,
     "metadata": {},
     "output_type": "execute_result"
    }
   ],
   "source": [
    "gfa = gfa[['Season', 'GameNumber', 'TeamCode', 'PlayerName' , 'GoalsF', 'GoalsA', 'EVGoalsF', 'EVGoalsA']]\n",
    "gfa = gfa.drop_duplicates(['Season', 'GameNumber', 'TeamCode', 'PlayerName'])\n",
    "gfa['Plus/Minus'] = gfa['EVGoalsF'] - gfa['EVGoalsA']\n",
    "gfa = gfa.drop_duplicates(['Season', 'TeamCode', 'PlayerName'])\n",
    "gfa = gfa[['Season', 'TeamCode', 'PlayerName' , 'GoalsF', 'GoalsA', 'EVGoalsF', 'EVGoalsA', 'Plus/Minus']]\n",
    "gfa.head()"
   ]
  },
  {
   "cell_type": "code",
   "execution_count": 83,
   "metadata": {
    "collapsed": false
   },
   "outputs": [
    {
     "data": {
      "text/plain": [
       "(1023, 8)"
      ]
     },
     "execution_count": 83,
     "metadata": {},
     "output_type": "execute_result"
    }
   ],
   "source": [
    "gfa.shape"
   ]
  },
  {
   "cell_type": "markdown",
   "metadata": {},
   "source": [
    "### create dataframes for all on-ice event types"
   ]
  },
  {
   "cell_type": "markdown",
   "metadata": {},
   "source": [
    "#### goals dataframe (dg)"
   ]
  },
  {
   "cell_type": "code",
   "execution_count": 84,
   "metadata": {
    "collapsed": true
   },
   "outputs": [],
   "source": [
    "dg = dc.copy()\n",
    "dg = dg[dg['Event'] == 'GOAL']"
   ]
  },
  {
   "cell_type": "code",
   "execution_count": 85,
   "metadata": {
    "collapsed": false
   },
   "outputs": [],
   "source": [
    "dg = dg[['Season', 'GameNumber', 'EventNumber', 'Event', 'EventTeamCode', 'EventPlayer1']]\n",
    "dg = dg.rename(columns={'EventPlayer1': 'PlayerName', 'EventTeamCode':'TeamCode'})"
   ]
  },
  {
   "cell_type": "markdown",
   "metadata": {},
   "source": [
    "- create a goal variable. If event type is a goal assign a value of 1. If not, assign a value of 0. Display total goals per player for a season."
   ]
  },
  {
   "cell_type": "code",
   "execution_count": 86,
   "metadata": {
    "collapsed": false
   },
   "outputs": [],
   "source": [
    "dg['Goal'] = dg.apply(lambda x: 1 if (x['Event'] == 'GOAL') else 0, axis=1)\n",
    "dg = dg.drop_duplicates(['Season', 'GameNumber', 'EventNumber', 'TeamCode', 'PlayerName'])\n",
    "dg['Goals'] = dg.groupby(['Season','TeamCode', 'PlayerName'])['Goal'].transform('sum')"
   ]
  },
  {
   "cell_type": "markdown",
   "metadata": {},
   "source": [
    "- keep one observation per player by game and drop duplicates. This purpose of this step is to calculate the quantity of games per player for a season. "
   ]
  },
  {
   "cell_type": "code",
   "execution_count": 87,
   "metadata": {
    "collapsed": false
   },
   "outputs": [
    {
     "data": {
      "text/html": [
       "<div>\n",
       "<table border=\"1\" class=\"dataframe\">\n",
       "  <thead>\n",
       "    <tr style=\"text-align: right;\">\n",
       "      <th></th>\n",
       "      <th>Season</th>\n",
       "      <th>TeamCode</th>\n",
       "      <th>PlayerName</th>\n",
       "      <th>Goals</th>\n",
       "    </tr>\n",
       "  </thead>\n",
       "  <tbody>\n",
       "    <tr>\n",
       "      <th>16</th>\n",
       "      <td>2013</td>\n",
       "      <td>MTL</td>\n",
       "      <td>LARS ELLER</td>\n",
       "      <td>12</td>\n",
       "    </tr>\n",
       "    <tr>\n",
       "      <th>97</th>\n",
       "      <td>2013</td>\n",
       "      <td>MTL</td>\n",
       "      <td>BRENDAN GALLAGHER</td>\n",
       "      <td>19</td>\n",
       "    </tr>\n",
       "    <tr>\n",
       "      <th>598</th>\n",
       "      <td>2013</td>\n",
       "      <td>TOR</td>\n",
       "      <td>JAMES VAN RIEMSDYK</td>\n",
       "      <td>30</td>\n",
       "    </tr>\n",
       "    <tr>\n",
       "      <th>821</th>\n",
       "      <td>2013</td>\n",
       "      <td>TOR</td>\n",
       "      <td>TYLER BOZAK</td>\n",
       "      <td>19</td>\n",
       "    </tr>\n",
       "    <tr>\n",
       "      <th>1067</th>\n",
       "      <td>2013</td>\n",
       "      <td>TOR</td>\n",
       "      <td>DION PHANEUF</td>\n",
       "      <td>8</td>\n",
       "    </tr>\n",
       "  </tbody>\n",
       "</table>\n",
       "</div>"
      ],
      "text/plain": [
       "      Season TeamCode          PlayerName  Goals\n",
       "16      2013      MTL          LARS ELLER     12\n",
       "97      2013      MTL   BRENDAN GALLAGHER     19\n",
       "598     2013      TOR  JAMES VAN RIEMSDYK     30\n",
       "821     2013      TOR         TYLER BOZAK     19\n",
       "1067    2013      TOR        DION PHANEUF      8"
      ]
     },
     "execution_count": 87,
     "metadata": {},
     "output_type": "execute_result"
    }
   ],
   "source": [
    "dg = dg.drop_duplicates(['Season', 'GameNumber', 'TeamCode', 'PlayerName'])\n",
    "dg = dg.drop_duplicates(['Season', 'TeamCode', 'PlayerName'])\n",
    "dg = dg[['Season', 'TeamCode', 'PlayerName', 'Goals']]\n",
    "dg.head()"
   ]
  },
  {
   "cell_type": "code",
   "execution_count": 88,
   "metadata": {
    "collapsed": false
   },
   "outputs": [
    {
     "data": {
      "text/plain": [
       "Season        0\n",
       "TeamCode      0\n",
       "PlayerName    0\n",
       "Goals         0\n",
       "dtype: int64"
      ]
     },
     "execution_count": 88,
     "metadata": {},
     "output_type": "execute_result"
    }
   ],
   "source": [
    "dg.isnull().sum()"
   ]
  },
  {
   "cell_type": "code",
   "execution_count": 89,
   "metadata": {
    "collapsed": false
   },
   "outputs": [
    {
     "data": {
      "text/plain": [
       "(736, 4)"
      ]
     },
     "execution_count": 89,
     "metadata": {},
     "output_type": "execute_result"
    }
   ],
   "source": [
    "dg.shape"
   ]
  },
  {
   "cell_type": "markdown",
   "metadata": {},
   "source": [
    "#### assists dataframe (dast)"
   ]
  },
  {
   "cell_type": "code",
   "execution_count": 90,
   "metadata": {
    "collapsed": true
   },
   "outputs": [],
   "source": [
    "dast = dc.copy()\n",
    "dast = dast[dast['Event'] == 'GOAL']"
   ]
  },
  {
   "cell_type": "code",
   "execution_count": 91,
   "metadata": {
    "collapsed": false
   },
   "outputs": [],
   "source": [
    "dast = dast[['Season', 'GameNumber', 'EventNumber', 'Event', 'EventTeamCode', 'EventPlayer2', 'EventPlayer3']]\n",
    "dast = dast.rename(columns={'EventPlayer2': 'Assist1Name', 'EventPlayer3': 'Assist2Name', 'EventTeamCode':'TeamCode'})"
   ]
  },
  {
   "cell_type": "markdown",
   "metadata": {},
   "source": [
    "- reshape assist players 1 and 2 to create one column of assist players"
   ]
  },
  {
   "cell_type": "code",
   "execution_count": 92,
   "metadata": {
    "collapsed": true
   },
   "outputs": [],
   "source": [
    "a = [col for col in dast.columns if 'Name' in col]\n",
    "dast = pd.lreshape(dast, {'PlayerName' : a})"
   ]
  },
  {
   "cell_type": "markdown",
   "metadata": {},
   "source": [
    "- create an assist variable. If event type is a goal assign a value of 1. If not, assign a value of 0. Display total goals per player for a season."
   ]
  },
  {
   "cell_type": "code",
   "execution_count": 93,
   "metadata": {
    "collapsed": true
   },
   "outputs": [],
   "source": [
    "dast['Assist'] = dast.apply(lambda x: 1 if (x['Event'] == 'GOAL') else 0, axis=1)\n",
    "dast = dast.drop_duplicates(['Season', 'GameNumber', 'EventNumber', 'TeamCode', 'PlayerName'])\n",
    "dast['Assists'] = dast.groupby(['Season','TeamCode', 'PlayerName'])['Assist'].transform('sum')"
   ]
  },
  {
   "cell_type": "markdown",
   "metadata": {},
   "source": [
    "- keep one observation per player by game and drop duplicates. This purpose of this step is to calculate the quantity of games per player for a season. "
   ]
  },
  {
   "cell_type": "code",
   "execution_count": 94,
   "metadata": {
    "collapsed": false
   },
   "outputs": [
    {
     "data": {
      "text/html": [
       "<div>\n",
       "<table border=\"1\" class=\"dataframe\">\n",
       "  <thead>\n",
       "    <tr style=\"text-align: right;\">\n",
       "      <th></th>\n",
       "      <th>Season</th>\n",
       "      <th>TeamCode</th>\n",
       "      <th>PlayerName</th>\n",
       "      <th>Assists</th>\n",
       "    </tr>\n",
       "  </thead>\n",
       "  <tbody>\n",
       "    <tr>\n",
       "      <th>0</th>\n",
       "      <td>2013</td>\n",
       "      <td>MTL</td>\n",
       "      <td>RAPHAEL DIAZ</td>\n",
       "      <td>11</td>\n",
       "    </tr>\n",
       "    <tr>\n",
       "      <th>5</th>\n",
       "      <td>2013</td>\n",
       "      <td>MTL</td>\n",
       "      <td>LARS ELLER</td>\n",
       "      <td>14</td>\n",
       "    </tr>\n",
       "    <tr>\n",
       "      <th>11</th>\n",
       "      <td>2013</td>\n",
       "      <td>TOR</td>\n",
       "      <td>PHIL KESSEL</td>\n",
       "      <td>43</td>\n",
       "    </tr>\n",
       "    <tr>\n",
       "      <th>15</th>\n",
       "      <td>2013</td>\n",
       "      <td>TOR</td>\n",
       "      <td>NAZEM KADRI</td>\n",
       "      <td>30</td>\n",
       "    </tr>\n",
       "    <tr>\n",
       "      <th>21</th>\n",
       "      <td>2013</td>\n",
       "      <td>TOR</td>\n",
       "      <td>TROY BODIE</td>\n",
       "      <td>7</td>\n",
       "    </tr>\n",
       "  </tbody>\n",
       "</table>\n",
       "</div>"
      ],
      "text/plain": [
       "    Season TeamCode    PlayerName  Assists\n",
       "0     2013      MTL  RAPHAEL DIAZ       11\n",
       "5     2013      MTL    LARS ELLER       14\n",
       "11    2013      TOR   PHIL KESSEL       43\n",
       "15    2013      TOR   NAZEM KADRI       30\n",
       "21    2013      TOR    TROY BODIE        7"
      ]
     },
     "execution_count": 94,
     "metadata": {},
     "output_type": "execute_result"
    }
   ],
   "source": [
    "dast = dast.drop_duplicates(['Season', 'GameNumber', 'TeamCode', 'PlayerName'])\n",
    "dast = dast.drop_duplicates(['Season', 'TeamCode', 'PlayerName'])\n",
    "dast = dast[['Season', 'TeamCode', 'PlayerName', 'Assists']]\n",
    "dast.head()"
   ]
  },
  {
   "cell_type": "code",
   "execution_count": 95,
   "metadata": {
    "collapsed": false
   },
   "outputs": [
    {
     "data": {
      "text/plain": [
       "Season        0\n",
       "TeamCode      0\n",
       "PlayerName    0\n",
       "Assists       0\n",
       "dtype: int64"
      ]
     },
     "execution_count": 95,
     "metadata": {},
     "output_type": "execute_result"
    }
   ],
   "source": [
    "dast.isnull().sum()"
   ]
  },
  {
   "cell_type": "code",
   "execution_count": 96,
   "metadata": {
    "collapsed": false
   },
   "outputs": [
    {
     "data": {
      "text/plain": [
       "(831, 4)"
      ]
     },
     "execution_count": 96,
     "metadata": {},
     "output_type": "execute_result"
    }
   ],
   "source": [
    "dast.shape"
   ]
  },
  {
   "cell_type": "markdown",
   "metadata": {},
   "source": [
    "#### shot dataframe (ds)"
   ]
  },
  {
   "cell_type": "code",
   "execution_count": 97,
   "metadata": {
    "collapsed": true
   },
   "outputs": [],
   "source": [
    "ds = dc.copy()\n",
    "ds = ds[ds['Event'] == 'SHOT']"
   ]
  },
  {
   "cell_type": "code",
   "execution_count": 98,
   "metadata": {
    "collapsed": false
   },
   "outputs": [
    {
     "data": {
      "text/html": [
       "<div>\n",
       "<table border=\"1\" class=\"dataframe\">\n",
       "  <thead>\n",
       "    <tr style=\"text-align: right;\">\n",
       "      <th></th>\n",
       "      <th>Season</th>\n",
       "      <th>GameNumber</th>\n",
       "      <th>EventNumber</th>\n",
       "      <th>Event</th>\n",
       "      <th>TeamCode</th>\n",
       "      <th>PlayerName</th>\n",
       "    </tr>\n",
       "  </thead>\n",
       "  <tbody>\n",
       "    <tr>\n",
       "      <th>31</th>\n",
       "      <td>2013</td>\n",
       "      <td>20001</td>\n",
       "      <td>7</td>\n",
       "      <td>SHOT</td>\n",
       "      <td>TOR</td>\n",
       "      <td>DAVE BOLLAND</td>\n",
       "    </tr>\n",
       "    <tr>\n",
       "      <th>32</th>\n",
       "      <td>2013</td>\n",
       "      <td>20001</td>\n",
       "      <td>7</td>\n",
       "      <td>SHOT</td>\n",
       "      <td>TOR</td>\n",
       "      <td>DAVE BOLLAND</td>\n",
       "    </tr>\n",
       "    <tr>\n",
       "      <th>33</th>\n",
       "      <td>2013</td>\n",
       "      <td>20001</td>\n",
       "      <td>7</td>\n",
       "      <td>SHOT</td>\n",
       "      <td>TOR</td>\n",
       "      <td>DAVE BOLLAND</td>\n",
       "    </tr>\n",
       "    <tr>\n",
       "      <th>34</th>\n",
       "      <td>2013</td>\n",
       "      <td>20001</td>\n",
       "      <td>7</td>\n",
       "      <td>SHOT</td>\n",
       "      <td>TOR</td>\n",
       "      <td>DAVE BOLLAND</td>\n",
       "    </tr>\n",
       "    <tr>\n",
       "      <th>35</th>\n",
       "      <td>2013</td>\n",
       "      <td>20001</td>\n",
       "      <td>7</td>\n",
       "      <td>SHOT</td>\n",
       "      <td>TOR</td>\n",
       "      <td>DAVE BOLLAND</td>\n",
       "    </tr>\n",
       "  </tbody>\n",
       "</table>\n",
       "</div>"
      ],
      "text/plain": [
       "    Season  GameNumber  EventNumber Event TeamCode    PlayerName\n",
       "31    2013       20001            7  SHOT      TOR  DAVE BOLLAND\n",
       "32    2013       20001            7  SHOT      TOR  DAVE BOLLAND\n",
       "33    2013       20001            7  SHOT      TOR  DAVE BOLLAND\n",
       "34    2013       20001            7  SHOT      TOR  DAVE BOLLAND\n",
       "35    2013       20001            7  SHOT      TOR  DAVE BOLLAND"
      ]
     },
     "execution_count": 98,
     "metadata": {},
     "output_type": "execute_result"
    }
   ],
   "source": [
    "ds = ds[['Season', 'GameNumber', 'EventNumber', 'Event', 'EventTeamCode', 'EventPlayer1']]\n",
    "ds = ds.rename(columns={'EventPlayer1': 'PlayerName', 'EventTeamCode':'TeamCode'})\n",
    "ds.head()"
   ]
  },
  {
   "cell_type": "markdown",
   "metadata": {},
   "source": [
    "- create a shot variable. If event type is a goal assign a value of 1. If not, assign a value of 0. Display total shots per player for a season."
   ]
  },
  {
   "cell_type": "code",
   "execution_count": 99,
   "metadata": {
    "collapsed": true
   },
   "outputs": [],
   "source": [
    "ds['Shot'] = ds.apply(lambda x: 1 if (x['Event'] == 'SHOT') else 0, axis=1)\n",
    "ds = ds.drop_duplicates(['Season', 'GameNumber', 'EventNumber', 'TeamCode', 'PlayerName'])\n",
    "ds['Shots'] = ds.groupby(['Season','TeamCode', 'PlayerName'])['Shot'].transform('sum')"
   ]
  },
  {
   "cell_type": "markdown",
   "metadata": {},
   "source": [
    "- drop duplicates to keep one observation per player for the season."
   ]
  },
  {
   "cell_type": "code",
   "execution_count": 100,
   "metadata": {
    "collapsed": false
   },
   "outputs": [
    {
     "data": {
      "text/html": [
       "<div>\n",
       "<table border=\"1\" class=\"dataframe\">\n",
       "  <thead>\n",
       "    <tr style=\"text-align: right;\">\n",
       "      <th></th>\n",
       "      <th>Season</th>\n",
       "      <th>TeamCode</th>\n",
       "      <th>PlayerName</th>\n",
       "      <th>Shots</th>\n",
       "    </tr>\n",
       "  </thead>\n",
       "  <tbody>\n",
       "    <tr>\n",
       "      <th>31</th>\n",
       "      <td>2013</td>\n",
       "      <td>TOR</td>\n",
       "      <td>DAVE BOLLAND</td>\n",
       "      <td>26</td>\n",
       "    </tr>\n",
       "    <tr>\n",
       "      <th>46</th>\n",
       "      <td>2013</td>\n",
       "      <td>MTL</td>\n",
       "      <td>PK SUBBAN</td>\n",
       "      <td>194</td>\n",
       "    </tr>\n",
       "    <tr>\n",
       "      <th>109</th>\n",
       "      <td>2013</td>\n",
       "      <td>TOR</td>\n",
       "      <td>PHIL KESSEL</td>\n",
       "      <td>268</td>\n",
       "    </tr>\n",
       "    <tr>\n",
       "      <th>126</th>\n",
       "      <td>2013</td>\n",
       "      <td>MTL</td>\n",
       "      <td>RENE BOURQUE</td>\n",
       "      <td>109</td>\n",
       "    </tr>\n",
       "    <tr>\n",
       "      <th>136</th>\n",
       "      <td>2013</td>\n",
       "      <td>TOR</td>\n",
       "      <td>CODY FRANSON</td>\n",
       "      <td>110</td>\n",
       "    </tr>\n",
       "  </tbody>\n",
       "</table>\n",
       "</div>"
      ],
      "text/plain": [
       "     Season TeamCode    PlayerName  Shots\n",
       "31     2013      TOR  DAVE BOLLAND     26\n",
       "46     2013      MTL     PK SUBBAN    194\n",
       "109    2013      TOR   PHIL KESSEL    268\n",
       "126    2013      MTL  RENE BOURQUE    109\n",
       "136    2013      TOR  CODY FRANSON    110"
      ]
     },
     "execution_count": 100,
     "metadata": {},
     "output_type": "execute_result"
    }
   ],
   "source": [
    "ds = ds.drop_duplicates(['Season', 'GameNumber', 'TeamCode', 'PlayerName'])\n",
    "ds = ds.drop_duplicates(['Season', 'TeamCode', 'PlayerName'])\n",
    "ds = ds[['Season', 'TeamCode', 'PlayerName', 'Shots']]\n",
    "ds.head()"
   ]
  },
  {
   "cell_type": "code",
   "execution_count": 101,
   "metadata": {
    "collapsed": false
   },
   "outputs": [
    {
     "data": {
      "text/plain": [
       "Season        0\n",
       "TeamCode      0\n",
       "PlayerName    0\n",
       "Shots         0\n",
       "dtype: int64"
      ]
     },
     "execution_count": 101,
     "metadata": {},
     "output_type": "execute_result"
    }
   ],
   "source": [
    "ds.isnull().sum()"
   ]
  },
  {
   "cell_type": "code",
   "execution_count": 102,
   "metadata": {
    "collapsed": false
   },
   "outputs": [
    {
     "data": {
      "text/plain": [
       "(924, 4)"
      ]
     },
     "execution_count": 102,
     "metadata": {},
     "output_type": "execute_result"
    }
   ],
   "source": [
    "ds.shape"
   ]
  },
  {
   "cell_type": "markdown",
   "metadata": {
    "collapsed": true
   },
   "source": [
    "#### block dataframe (db)"
   ]
  },
  {
   "cell_type": "code",
   "execution_count": 103,
   "metadata": {
    "collapsed": true
   },
   "outputs": [],
   "source": [
    "dbl = dc.copy()\n",
    "dbl = dbl[dbl['Event'] == 'BLOCK']"
   ]
  },
  {
   "cell_type": "code",
   "execution_count": 104,
   "metadata": {
    "collapsed": false
   },
   "outputs": [
    {
     "data": {
      "text/plain": [
       "(397937, 19)"
      ]
     },
     "execution_count": 104,
     "metadata": {},
     "output_type": "execute_result"
    }
   ],
   "source": [
    "dbl.shape"
   ]
  },
  {
   "cell_type": "code",
   "execution_count": 105,
   "metadata": {
    "collapsed": false
   },
   "outputs": [
    {
     "data": {
      "text/plain": [
       "0"
      ]
     },
     "execution_count": 105,
     "metadata": {},
     "output_type": "execute_result"
    }
   ],
   "source": [
    "dbl['EventPlayer2'].isnull().sum()"
   ]
  },
  {
   "cell_type": "code",
   "execution_count": 106,
   "metadata": {
    "collapsed": false
   },
   "outputs": [
    {
     "data": {
      "text/plain": [
       "397937"
      ]
     },
     "execution_count": 106,
     "metadata": {},
     "output_type": "execute_result"
    }
   ],
   "source": [
    "dbl['EventPlayer3'].isnull().sum()"
   ]
  },
  {
   "cell_type": "code",
   "execution_count": 107,
   "metadata": {
    "collapsed": false
   },
   "outputs": [],
   "source": [
    "dbl['BlockTeam'] = dbl.EventDetail.str.split(' ', expand = True)[6]\n",
    "dbl['BlockTeamCode'] = dbl.BlockTeam.str.split(' ', expand = True)[0]"
   ]
  },
  {
   "cell_type": "code",
   "execution_count": 108,
   "metadata": {
    "collapsed": false
   },
   "outputs": [],
   "source": [
    "dbl = dbl[['Season', 'GameNumber', 'EventNumber', 'Event', 'EventPlayer1', 'BlockTeamCode']]\n",
    "dbl = dbl.rename(columns={'EventPlayer1': 'PlayerName', 'BlockTeamCode':'TeamCode'})"
   ]
  },
  {
   "cell_type": "markdown",
   "metadata": {
    "collapsed": true
   },
   "source": [
    "- create a block variable. If event type is a block assign a value of 1. If not, assign a value of 0. Display total shots per player for a season."
   ]
  },
  {
   "cell_type": "code",
   "execution_count": 109,
   "metadata": {
    "collapsed": true
   },
   "outputs": [],
   "source": [
    "dbl['Block'] = dbl.apply(lambda x: 1 if (x['Event'] == 'BLOCK') else 0, axis=1)\n",
    "dbl = dbl.drop_duplicates(['Season', 'GameNumber', 'EventNumber', 'TeamCode', 'PlayerName'])\n",
    "dbl['Blocks'] = dbl.groupby(['Season','TeamCode', 'PlayerName'])['Block'].transform('sum')"
   ]
  },
  {
   "cell_type": "markdown",
   "metadata": {
    "collapsed": true
   },
   "source": [
    "- drop duplicates to keep one observation per player for the season."
   ]
  },
  {
   "cell_type": "code",
   "execution_count": 110,
   "metadata": {
    "collapsed": false
   },
   "outputs": [
    {
     "data": {
      "text/html": [
       "<div>\n",
       "<table border=\"1\" class=\"dataframe\">\n",
       "  <thead>\n",
       "    <tr style=\"text-align: right;\">\n",
       "      <th></th>\n",
       "      <th>Season</th>\n",
       "      <th>TeamCode</th>\n",
       "      <th>PlayerName</th>\n",
       "      <th>Blocks</th>\n",
       "    </tr>\n",
       "  </thead>\n",
       "  <tbody>\n",
       "    <tr>\n",
       "      <th>146</th>\n",
       "      <td>2013</td>\n",
       "      <td>TOR</td>\n",
       "      <td>MARK FRASER</td>\n",
       "      <td>51</td>\n",
       "    </tr>\n",
       "    <tr>\n",
       "      <th>181</th>\n",
       "      <td>2013</td>\n",
       "      <td>TOR</td>\n",
       "      <td>JAKE GARDINER</td>\n",
       "      <td>86</td>\n",
       "    </tr>\n",
       "    <tr>\n",
       "      <th>241</th>\n",
       "      <td>2013</td>\n",
       "      <td>TOR</td>\n",
       "      <td>TYLER BOZAK</td>\n",
       "      <td>41</td>\n",
       "    </tr>\n",
       "    <tr>\n",
       "      <th>277</th>\n",
       "      <td>2013</td>\n",
       "      <td>MTL</td>\n",
       "      <td>JOSH GORGES</td>\n",
       "      <td>175</td>\n",
       "    </tr>\n",
       "    <tr>\n",
       "      <th>289</th>\n",
       "      <td>2013</td>\n",
       "      <td>MTL</td>\n",
       "      <td>RAPHAEL DIAZ</td>\n",
       "      <td>99</td>\n",
       "    </tr>\n",
       "  </tbody>\n",
       "</table>\n",
       "</div>"
      ],
      "text/plain": [
       "     Season TeamCode     PlayerName  Blocks\n",
       "146    2013      TOR    MARK FRASER      51\n",
       "181    2013      TOR  JAKE GARDINER      86\n",
       "241    2013      TOR    TYLER BOZAK      41\n",
       "277    2013      MTL    JOSH GORGES     175\n",
       "289    2013      MTL   RAPHAEL DIAZ      99"
      ]
     },
     "execution_count": 110,
     "metadata": {},
     "output_type": "execute_result"
    }
   ],
   "source": [
    "dbl = dbl.drop_duplicates(['Season', 'GameNumber', 'TeamCode', 'PlayerName'])\n",
    "dbl = dbl.drop_duplicates(['Season', 'TeamCode', 'PlayerName'])\n",
    "dbl = dbl[['Season', 'TeamCode', 'PlayerName', 'Blocks']]\n",
    "dbl.head()"
   ]
  },
  {
   "cell_type": "code",
   "execution_count": 111,
   "metadata": {
    "collapsed": false
   },
   "outputs": [
    {
     "data": {
      "text/plain": [
       "Season        0\n",
       "TeamCode      0\n",
       "PlayerName    0\n",
       "Blocks        0\n",
       "dtype: int64"
      ]
     },
     "execution_count": 111,
     "metadata": {},
     "output_type": "execute_result"
    }
   ],
   "source": [
    "dbl.isnull().sum()"
   ]
  },
  {
   "cell_type": "code",
   "execution_count": 112,
   "metadata": {
    "collapsed": false
   },
   "outputs": [
    {
     "data": {
      "text/plain": [
       "(1104, 4)"
      ]
     },
     "execution_count": 112,
     "metadata": {},
     "output_type": "execute_result"
    }
   ],
   "source": [
    "dbl.shape"
   ]
  },
  {
   "cell_type": "markdown",
   "metadata": {
    "collapsed": true
   },
   "source": [
    "#### hit dataframe (dh)"
   ]
  },
  {
   "cell_type": "code",
   "execution_count": 114,
   "metadata": {
    "collapsed": true
   },
   "outputs": [],
   "source": [
    "dhit = dc.copy()\n",
    "dhit = dhit[dhit['Event'] == 'HIT']"
   ]
  },
  {
   "cell_type": "code",
   "execution_count": 115,
   "metadata": {
    "collapsed": false
   },
   "outputs": [
    {
     "data": {
      "text/plain": [
       "(682051, 19)"
      ]
     },
     "execution_count": 115,
     "metadata": {},
     "output_type": "execute_result"
    }
   ],
   "source": [
    "dhit.shape"
   ]
  },
  {
   "cell_type": "code",
   "execution_count": 116,
   "metadata": {
    "collapsed": false
   },
   "outputs": [
    {
     "data": {
      "text/plain": [
       "0"
      ]
     },
     "execution_count": 116,
     "metadata": {},
     "output_type": "execute_result"
    }
   ],
   "source": [
    "dhit['EventPlayer2'].isnull().sum()"
   ]
  },
  {
   "cell_type": "code",
   "execution_count": 117,
   "metadata": {
    "collapsed": false
   },
   "outputs": [
    {
     "data": {
      "text/plain": [
       "682051"
      ]
     },
     "execution_count": 117,
     "metadata": {},
     "output_type": "execute_result"
    }
   ],
   "source": [
    "dhit['EventPlayer3'].isnull().sum()"
   ]
  },
  {
   "cell_type": "code",
   "execution_count": 118,
   "metadata": {
    "collapsed": false
   },
   "outputs": [],
   "source": [
    "dhit = dhit[['Season', 'GameNumber', 'EventNumber', 'Event', 'EventTeamCode', 'EventPlayer1']]\n",
    "dhit = dhit.rename(columns={'EventPlayer1': 'PlayerName', 'EventTeamCode':'TeamCode'})"
   ]
  },
  {
   "cell_type": "markdown",
   "metadata": {},
   "source": [
    "- create a hit variable. If event type is a hit assign a value of 1. If not, assign a value of 0. Display total shots per player for a season."
   ]
  },
  {
   "cell_type": "code",
   "execution_count": 119,
   "metadata": {
    "collapsed": true
   },
   "outputs": [],
   "source": [
    "dhit['Hit'] = dhit.apply(lambda x: 1 if (x['Event'] == 'HIT') else 0, axis=1)\n",
    "dhit = dhit.drop_duplicates(['Season', 'GameNumber', 'EventNumber', 'TeamCode', 'PlayerName'])\n",
    "dhit['Hits'] = dhit.groupby(['Season','TeamCode', 'PlayerName'])['Hit'].transform('sum')"
   ]
  },
  {
   "cell_type": "markdown",
   "metadata": {},
   "source": [
    "- drop duplicates to keep one observation per player for the season."
   ]
  },
  {
   "cell_type": "code",
   "execution_count": 120,
   "metadata": {
    "collapsed": false
   },
   "outputs": [
    {
     "data": {
      "text/html": [
       "<div>\n",
       "<table border=\"1\" class=\"dataframe\">\n",
       "  <thead>\n",
       "    <tr style=\"text-align: right;\">\n",
       "      <th></th>\n",
       "      <th>Season</th>\n",
       "      <th>TeamCode</th>\n",
       "      <th>PlayerName</th>\n",
       "      <th>Hits</th>\n",
       "    </tr>\n",
       "  </thead>\n",
       "  <tbody>\n",
       "    <tr>\n",
       "      <th>36</th>\n",
       "      <td>2013</td>\n",
       "      <td>TOR</td>\n",
       "      <td>DAVE BOLLAND</td>\n",
       "      <td>38</td>\n",
       "    </tr>\n",
       "    <tr>\n",
       "      <th>41</th>\n",
       "      <td>2013</td>\n",
       "      <td>TOR</td>\n",
       "      <td>NIKOLAI KULEMIN</td>\n",
       "      <td>153</td>\n",
       "    </tr>\n",
       "    <tr>\n",
       "      <th>61</th>\n",
       "      <td>2013</td>\n",
       "      <td>TOR</td>\n",
       "      <td>COLTON ORR</td>\n",
       "      <td>112</td>\n",
       "    </tr>\n",
       "    <tr>\n",
       "      <th>193</th>\n",
       "      <td>2013</td>\n",
       "      <td>TOR</td>\n",
       "      <td>MASON RAYMOND</td>\n",
       "      <td>38</td>\n",
       "    </tr>\n",
       "    <tr>\n",
       "      <th>205</th>\n",
       "      <td>2013</td>\n",
       "      <td>TOR</td>\n",
       "      <td>TYLER BOZAK</td>\n",
       "      <td>62</td>\n",
       "    </tr>\n",
       "  </tbody>\n",
       "</table>\n",
       "</div>"
      ],
      "text/plain": [
       "     Season TeamCode       PlayerName  Hits\n",
       "36     2013      TOR     DAVE BOLLAND    38\n",
       "41     2013      TOR  NIKOLAI KULEMIN   153\n",
       "61     2013      TOR       COLTON ORR   112\n",
       "193    2013      TOR    MASON RAYMOND    38\n",
       "205    2013      TOR      TYLER BOZAK    62"
      ]
     },
     "execution_count": 120,
     "metadata": {},
     "output_type": "execute_result"
    }
   ],
   "source": [
    "dhit = dhit.drop_duplicates(['Season', 'GameNumber', 'TeamCode', 'PlayerName'])\n",
    "dhit = dhit.drop_duplicates(['Season', 'TeamCode', 'PlayerName'])\n",
    "dhit = dhit[['Season', 'TeamCode', 'PlayerName', 'Hits']]\n",
    "dhit.head()"
   ]
  },
  {
   "cell_type": "code",
   "execution_count": 121,
   "metadata": {
    "collapsed": false
   },
   "outputs": [
    {
     "data": {
      "text/plain": [
       "Season        0\n",
       "TeamCode      0\n",
       "PlayerName    0\n",
       "Hits          0\n",
       "dtype: int64"
      ]
     },
     "execution_count": 121,
     "metadata": {},
     "output_type": "execute_result"
    }
   ],
   "source": [
    "dhit.isnull().sum()"
   ]
  },
  {
   "cell_type": "code",
   "execution_count": 122,
   "metadata": {
    "collapsed": false
   },
   "outputs": [
    {
     "data": {
      "text/plain": [
       "(959, 4)"
      ]
     },
     "execution_count": 122,
     "metadata": {},
     "output_type": "execute_result"
    }
   ],
   "source": [
    "dhit.shape"
   ]
  },
  {
   "cell_type": "markdown",
   "metadata": {},
   "source": [
    "#### penalty dataframe (dpen)"
   ]
  },
  {
   "cell_type": "code",
   "execution_count": 123,
   "metadata": {
    "collapsed": false
   },
   "outputs": [],
   "source": [
    "dp = dc.copy()\n",
    "dp = dp[dp['Event'] == 'PENL']"
   ]
  },
  {
   "cell_type": "markdown",
   "metadata": {},
   "source": [
    "- use event detail to find the duration of a given penalty and to assign it to the proper player. Major penalty is 5 minutes, so a value of 5 is assigned for every event that had a major penalty."
   ]
  },
  {
   "cell_type": "code",
   "execution_count": 124,
   "metadata": {
    "collapsed": false
   },
   "outputs": [
    {
     "name": "stderr",
     "output_type": "stream",
     "text": [
      "/anaconda/lib/python3.6/site-packages/ipykernel/__main__.py:5: FutureWarning: convert_objects is deprecated.  Use the data-type specific converters pd.to_datetime, pd.to_timedelta and pd.to_numeric.\n"
     ]
    }
   ],
   "source": [
    "dp['Pen'] = dp.EventDetail.str.split(')', expand = True)[0]\n",
    "dp['Penal'] = dp.Pen.str.split('(', expand = True)[1]\n",
    "dp['Penalt'] = dp.Penal.str.split(' ', expand = True)[0]\n",
    "dp['Penalty'] = dp.apply(lambda x: 5 if x['Penalt'] == 'maj' else x['Penalt'], axis=1)\n",
    "dp['Penalty'] = dp['Penalty'].convert_objects(convert_numeric=True)\n",
    "dp = dp[['Season', 'GameNumber', 'Period', 'Time', 'EventNumber', 'Event', 'EventDetail', 'EventTeamCode', 'EventPlayer1', 'EventPlayer2', 'EventPlayer3', 'TeamCode', 'PlayerName', 'Penalty']]"
   ]
  },
  {
   "cell_type": "markdown",
   "metadata": {},
   "source": [
    "- use event detail to find penalty team code and penalty player name."
   ]
  },
  {
   "cell_type": "code",
   "execution_count": 125,
   "metadata": {
    "collapsed": false
   },
   "outputs": [],
   "source": [
    "dp['PenaltyTeamCode'] = dp.EventDetail.str.split('\\\\s', expand = True)[0]\n",
    "dp['PN'] = dp.EventDetail.str.split('\\\\s', expand = True)[1]\n",
    "dp['PNumber'] = dp.PN.str.split('#', expand = True)[1]\n",
    "dp['PenaltyPlayerNumber'] = dp.PNumber.str.split(' ', expand = True)[0]\n",
    "dp['PenaltyPlayerLName'] = dp.EventDetail.str.split('\\\\s', expand = True)[2]\n",
    "#dp['PenaltyPlayerLName'] = dp.PPlLN.str.split(' ', expand = True)[0]\n",
    "dp = dp[['Season', 'GameNumber', 'Period', 'Time', 'EventNumber', 'Event', 'EventDetail', 'EventTeamCode', 'EventPlayer1', 'EventPlayer2', 'EventPlayer3', 'TeamCode', 'PlayerName', 'Penalty', 'PenaltyTeamCode', 'PenaltyPlayerNumber', 'PenaltyPlayerLName']]"
   ]
  },
  {
   "cell_type": "markdown",
   "metadata": {},
   "source": [
    "- seperate player name into first and last. The purpose is to connect the correct player name to penalty player name."
   ]
  },
  {
   "cell_type": "code",
   "execution_count": 126,
   "metadata": {
    "collapsed": false
   },
   "outputs": [],
   "source": [
    "dp['PlayerFName'] = dp.PlayerName.str.split('\\\\s', expand = True)[0]\n",
    "dp['PlayerLName'] = dp.PlayerName.str.split('\\\\s', expand = True)[1]\n",
    "dp['PenaltyPlayerFName'] = dp.apply(lambda x: x['PlayerFName'] if ((x['PenaltyTeamCode'] == x['TeamCode']) & (x['PenaltyPlayerNumber'] == x['PenaltyPlayerNumber']) & (x['PlayerLName'] == x['PenaltyPlayerLName'])) else np.nan, axis=1)\n",
    "dp['PenaltyPlayerFName'] = dp.groupby(['Season','PenaltyTeamCode', 'PenaltyPlayerNumber', 'PenaltyPlayerLName'])['PenaltyPlayerFName'].apply(lambda x: x.ffill().bfill())"
   ]
  },
  {
   "cell_type": "code",
   "execution_count": 127,
   "metadata": {
    "collapsed": true
   },
   "outputs": [],
   "source": [
    "dp['PenaltyName'] = dp.apply(lambda x: x['PlayerName'] if ((x['PenaltyTeamCode'] == x['TeamCode']) & (x['PenaltyPlayerNumber'] == x['PenaltyPlayerNumber']) & (x['PlayerLName'] == x['PenaltyPlayerLName']) & (x['PlayerFName'] == x['PenaltyPlayerFName'])) else np.nan, axis=1)\n",
    "dp['PenaltyName'] = dp.groupby(['Season','PenaltyTeamCode', 'PenaltyPlayerLName', 'PenaltyPlayerNumber', 'PenaltyPlayerLName'])['PenaltyName'].apply(lambda x: x.ffill().bfill())\n"
   ]
  },
  {
   "cell_type": "markdown",
   "metadata": {},
   "source": [
    "- drop duplicates per game and event number. Calculate the total number of penalties for each player."
   ]
  },
  {
   "cell_type": "code",
   "execution_count": 128,
   "metadata": {
    "collapsed": false
   },
   "outputs": [],
   "source": [
    "dp = dp.drop_duplicates(['Season', 'GameNumber', 'EventNumber', 'PenaltyTeamCode', 'PenaltyPlayerNumber', 'PenaltyName'])\n",
    "dp['Penalties'] = dp.groupby(['Season', 'PenaltyTeamCode', 'PenaltyPlayerNumber', 'PenaltyName'])['Penalty'].transform('sum')\n",
    "dp['Penalties'] = dp.groupby(['Season','PenaltyTeamCode', 'PenaltyPlayerNumber', 'PlayerName'])['Penalties'].apply(lambda x: x.ffill().bfill())\n",
    "#dp.head()"
   ]
  },
  {
   "cell_type": "markdown",
   "metadata": {},
   "source": [
    "- drop duplicates to keep one observation per player for the season."
   ]
  },
  {
   "cell_type": "code",
   "execution_count": 129,
   "metadata": {
    "collapsed": false
   },
   "outputs": [
    {
     "data": {
      "text/html": [
       "<div>\n",
       "<table border=\"1\" class=\"dataframe\">\n",
       "  <thead>\n",
       "    <tr style=\"text-align: right;\">\n",
       "      <th></th>\n",
       "      <th>Season</th>\n",
       "      <th>TeamCode</th>\n",
       "      <th>PlayerName</th>\n",
       "      <th>Penalties</th>\n",
       "    </tr>\n",
       "  </thead>\n",
       "  <tbody>\n",
       "    <tr>\n",
       "      <th>6</th>\n",
       "      <td>2013</td>\n",
       "      <td>TOR</td>\n",
       "      <td>DION PHANEUF</td>\n",
       "      <td>140.0</td>\n",
       "    </tr>\n",
       "    <tr>\n",
       "      <th>115</th>\n",
       "      <td>2013</td>\n",
       "      <td>TOR</td>\n",
       "      <td>JAMES VAN RIEMSDYK</td>\n",
       "      <td>50.0</td>\n",
       "    </tr>\n",
       "    <tr>\n",
       "      <th>559</th>\n",
       "      <td>2013</td>\n",
       "      <td>MTL</td>\n",
       "      <td>LARS ELLER</td>\n",
       "      <td>68.0</td>\n",
       "    </tr>\n",
       "    <tr>\n",
       "      <th>585</th>\n",
       "      <td>2013</td>\n",
       "      <td>MTL</td>\n",
       "      <td>TOMAS PLEKANEC</td>\n",
       "      <td>38.0</td>\n",
       "    </tr>\n",
       "    <tr>\n",
       "      <th>645</th>\n",
       "      <td>2013</td>\n",
       "      <td>MTL</td>\n",
       "      <td>NaN</td>\n",
       "      <td>NaN</td>\n",
       "    </tr>\n",
       "  </tbody>\n",
       "</table>\n",
       "</div>"
      ],
      "text/plain": [
       "     Season TeamCode          PlayerName  Penalties\n",
       "6      2013      TOR        DION PHANEUF      140.0\n",
       "115    2013      TOR  JAMES VAN RIEMSDYK       50.0\n",
       "559    2013      MTL          LARS ELLER       68.0\n",
       "585    2013      MTL      TOMAS PLEKANEC       38.0\n",
       "645    2013      MTL                 NaN        NaN"
      ]
     },
     "execution_count": 129,
     "metadata": {},
     "output_type": "execute_result"
    }
   ],
   "source": [
    "dp = dp[['Season', 'PenaltyTeamCode', 'PenaltyName', 'Penalties']]\n",
    "dp = dp.drop_duplicates(['Season', 'PenaltyTeamCode', 'PenaltyName'])\n",
    "dp = dp.rename(columns={'PenaltyTeamCode':'TeamCode', 'PenaltyName':'PlayerName'})\n",
    "dp = dp[['Season', 'TeamCode', 'PlayerName', 'Penalties']]\n",
    "dp.head()"
   ]
  },
  {
   "cell_type": "markdown",
   "metadata": {},
   "source": [
    "- keep observations that are not null. Since a team can be allocated a penalty, those observations are excluded from the data."
   ]
  },
  {
   "cell_type": "code",
   "execution_count": 130,
   "metadata": {
    "collapsed": false
   },
   "outputs": [
    {
     "data": {
      "text/plain": [
       "30"
      ]
     },
     "execution_count": 130,
     "metadata": {},
     "output_type": "execute_result"
    }
   ],
   "source": [
    "dp['PlayerName'].isnull().sum()"
   ]
  },
  {
   "cell_type": "code",
   "execution_count": 131,
   "metadata": {
    "collapsed": true
   },
   "outputs": [],
   "source": [
    "dp = dp[dp['PlayerName'].notnull()]"
   ]
  },
  {
   "cell_type": "code",
   "execution_count": 132,
   "metadata": {
    "collapsed": false
   },
   "outputs": [
    {
     "data": {
      "text/plain": [
       "Season        0\n",
       "TeamCode      0\n",
       "PlayerName    0\n",
       "Penalties     0\n",
       "dtype: int64"
      ]
     },
     "execution_count": 132,
     "metadata": {},
     "output_type": "execute_result"
    }
   ],
   "source": [
    "dp.isnull().sum()"
   ]
  },
  {
   "cell_type": "code",
   "execution_count": 133,
   "metadata": {
    "collapsed": false
   },
   "outputs": [
    {
     "data": {
      "text/plain": [
       "(872, 4)"
      ]
     },
     "execution_count": 133,
     "metadata": {},
     "output_type": "execute_result"
    }
   ],
   "source": [
    "dp.shape"
   ]
  },
  {
   "cell_type": "markdown",
   "metadata": {},
   "source": [
    "####  miss dataframe (dmiss)"
   ]
  },
  {
   "cell_type": "code",
   "execution_count": 134,
   "metadata": {
    "collapsed": true
   },
   "outputs": [],
   "source": [
    "dmiss = dc.copy()\n",
    "dmiss = dmiss[dmiss['Event'] == 'MISS']"
   ]
  },
  {
   "cell_type": "code",
   "execution_count": 135,
   "metadata": {
    "collapsed": false
   },
   "outputs": [
    {
     "data": {
      "text/plain": [
       "(329252, 19)"
      ]
     },
     "execution_count": 135,
     "metadata": {},
     "output_type": "execute_result"
    }
   ],
   "source": [
    "dmiss.shape"
   ]
  },
  {
   "cell_type": "code",
   "execution_count": 136,
   "metadata": {
    "collapsed": false
   },
   "outputs": [
    {
     "data": {
      "text/plain": [
       "329252"
      ]
     },
     "execution_count": 136,
     "metadata": {},
     "output_type": "execute_result"
    }
   ],
   "source": [
    "dmiss['EventPlayer2'].isnull().sum()"
   ]
  },
  {
   "cell_type": "code",
   "execution_count": 137,
   "metadata": {
    "collapsed": false
   },
   "outputs": [
    {
     "data": {
      "text/plain": [
       "329252"
      ]
     },
     "execution_count": 137,
     "metadata": {},
     "output_type": "execute_result"
    }
   ],
   "source": [
    "dmiss['EventPlayer3'].isnull().sum()"
   ]
  },
  {
   "cell_type": "code",
   "execution_count": 138,
   "metadata": {
    "collapsed": false
   },
   "outputs": [],
   "source": [
    "dmiss = dmiss[['Season', 'GameNumber', 'EventNumber', 'Event', 'EventTeamCode', 'EventPlayer1']]\n",
    "dmiss = dmiss.rename(columns={'EventPlayer1': 'PlayerName', 'EventTeamCode':'TeamCode'})"
   ]
  },
  {
   "cell_type": "markdown",
   "metadata": {},
   "source": [
    "- create a miss variable. If event type is a miss assign a value of 1. If not, assign a value of 0. Display total shots per player for a season."
   ]
  },
  {
   "cell_type": "code",
   "execution_count": 139,
   "metadata": {
    "collapsed": true
   },
   "outputs": [],
   "source": [
    "dmiss['Miss'] = dmiss.apply(lambda x: 1 if (x['Event'] == 'MISS') else 0, axis=1)\n",
    "dmiss = dmiss.drop_duplicates(['Season', 'GameNumber', 'EventNumber', 'TeamCode', 'PlayerName'])\n",
    "dmiss['Misses'] = dmiss.groupby(['Season','TeamCode', 'PlayerName'])['Miss'].transform('sum')"
   ]
  },
  {
   "cell_type": "markdown",
   "metadata": {},
   "source": [
    "- drop duplicates to keep one observation per player for the season."
   ]
  },
  {
   "cell_type": "code",
   "execution_count": 140,
   "metadata": {
    "collapsed": false
   },
   "outputs": [
    {
     "data": {
      "text/html": [
       "<div>\n",
       "<table border=\"1\" class=\"dataframe\">\n",
       "  <thead>\n",
       "    <tr style=\"text-align: right;\">\n",
       "      <th></th>\n",
       "      <th>Season</th>\n",
       "      <th>TeamCode</th>\n",
       "      <th>PlayerName</th>\n",
       "      <th>Misses</th>\n",
       "    </tr>\n",
       "  </thead>\n",
       "  <tbody>\n",
       "    <tr>\n",
       "      <th>67</th>\n",
       "      <td>2013</td>\n",
       "      <td>MTL</td>\n",
       "      <td>GEORGE PARROS</td>\n",
       "      <td>1</td>\n",
       "    </tr>\n",
       "    <tr>\n",
       "      <th>175</th>\n",
       "      <td>2013</td>\n",
       "      <td>MTL</td>\n",
       "      <td>RENE BOURQUE</td>\n",
       "      <td>54</td>\n",
       "    </tr>\n",
       "    <tr>\n",
       "      <th>217</th>\n",
       "      <td>2013</td>\n",
       "      <td>MTL</td>\n",
       "      <td>TRAVIS MOEN</td>\n",
       "      <td>29</td>\n",
       "    </tr>\n",
       "    <tr>\n",
       "      <th>265</th>\n",
       "      <td>2013</td>\n",
       "      <td>TOR</td>\n",
       "      <td>JAMES VAN RIEMSDYK</td>\n",
       "      <td>72</td>\n",
       "    </tr>\n",
       "    <tr>\n",
       "      <th>301</th>\n",
       "      <td>2013</td>\n",
       "      <td>TOR</td>\n",
       "      <td>CODY FRANSON</td>\n",
       "      <td>59</td>\n",
       "    </tr>\n",
       "  </tbody>\n",
       "</table>\n",
       "</div>"
      ],
      "text/plain": [
       "     Season TeamCode          PlayerName  Misses\n",
       "67     2013      MTL       GEORGE PARROS       1\n",
       "175    2013      MTL        RENE BOURQUE      54\n",
       "217    2013      MTL         TRAVIS MOEN      29\n",
       "265    2013      TOR  JAMES VAN RIEMSDYK      72\n",
       "301    2013      TOR        CODY FRANSON      59"
      ]
     },
     "execution_count": 140,
     "metadata": {},
     "output_type": "execute_result"
    }
   ],
   "source": [
    "dmiss = dmiss.drop_duplicates(['Season', 'GameNumber', 'TeamCode', 'PlayerName'])\n",
    "dmiss = dmiss.drop_duplicates(['Season', 'TeamCode', 'PlayerName'])\n",
    "dmiss = dmiss[['Season', 'TeamCode', 'PlayerName', 'Misses']]\n",
    "dmiss.head()"
   ]
  },
  {
   "cell_type": "code",
   "execution_count": 141,
   "metadata": {
    "collapsed": false
   },
   "outputs": [
    {
     "data": {
      "text/plain": [
       "Season        0\n",
       "TeamCode      0\n",
       "PlayerName    0\n",
       "Misses        0\n",
       "dtype: int64"
      ]
     },
     "execution_count": 141,
     "metadata": {},
     "output_type": "execute_result"
    }
   ],
   "source": [
    "dmiss.isnull().sum()"
   ]
  },
  {
   "cell_type": "code",
   "execution_count": 142,
   "metadata": {
    "collapsed": false
   },
   "outputs": [
    {
     "data": {
      "text/plain": [
       "(890, 4)"
      ]
     },
     "execution_count": 142,
     "metadata": {},
     "output_type": "execute_result"
    }
   ],
   "source": [
    "dmiss.shape"
   ]
  },
  {
   "cell_type": "markdown",
   "metadata": {},
   "source": [
    "####  takeaway dataframe (dtake)"
   ]
  },
  {
   "cell_type": "code",
   "execution_count": 143,
   "metadata": {
    "collapsed": true
   },
   "outputs": [],
   "source": [
    "dtake = dc.copy()\n",
    "dtake = dtake[dtake['Event'] == 'TAKE']"
   ]
  },
  {
   "cell_type": "code",
   "execution_count": 144,
   "metadata": {
    "collapsed": false
   },
   "outputs": [
    {
     "data": {
      "text/plain": [
       "(186893, 19)"
      ]
     },
     "execution_count": 144,
     "metadata": {},
     "output_type": "execute_result"
    }
   ],
   "source": [
    "dtake.shape"
   ]
  },
  {
   "cell_type": "code",
   "execution_count": 145,
   "metadata": {
    "collapsed": false
   },
   "outputs": [
    {
     "data": {
      "text/plain": [
       "186893"
      ]
     },
     "execution_count": 145,
     "metadata": {},
     "output_type": "execute_result"
    }
   ],
   "source": [
    "dtake['EventPlayer2'].isnull().sum()"
   ]
  },
  {
   "cell_type": "code",
   "execution_count": 146,
   "metadata": {
    "collapsed": false
   },
   "outputs": [
    {
     "data": {
      "text/plain": [
       "186893"
      ]
     },
     "execution_count": 146,
     "metadata": {},
     "output_type": "execute_result"
    }
   ],
   "source": [
    "dtake['EventPlayer3'].isnull().sum()"
   ]
  },
  {
   "cell_type": "code",
   "execution_count": 147,
   "metadata": {
    "collapsed": true
   },
   "outputs": [],
   "source": [
    "dtake = dtake[['Season', 'GameNumber', 'EventNumber', 'Event', 'EventTeamCode', 'EventPlayer1']]\n",
    "dtake = dtake.rename(columns={'EventPlayer1': 'PlayerName', 'EventTeamCode':'TeamCode'})"
   ]
  },
  {
   "cell_type": "markdown",
   "metadata": {},
   "source": [
    "- create a takeaway variable. If event type is a takeaway assign a value of 1. If not, assign a value of 0. Display total shots per player for a season."
   ]
  },
  {
   "cell_type": "code",
   "execution_count": 148,
   "metadata": {
    "collapsed": true
   },
   "outputs": [],
   "source": [
    "dtake['Takeaway'] = dtake.apply(lambda x: 1 if (x['Event'] == 'TAKE') else 0, axis=1)\n",
    "dtake = dtake.drop_duplicates(['Season', 'GameNumber', 'EventNumber', 'TeamCode', 'PlayerName'])\n",
    "dtake['Takeaways'] = dtake.groupby(['Season','TeamCode', 'PlayerName'])['Takeaway'].transform('sum')"
   ]
  },
  {
   "cell_type": "markdown",
   "metadata": {},
   "source": [
    "- drop duplicates to keep one observation per player for the season."
   ]
  },
  {
   "cell_type": "code",
   "execution_count": 149,
   "metadata": {
    "collapsed": false
   },
   "outputs": [
    {
     "data": {
      "text/html": [
       "<div>\n",
       "<table border=\"1\" class=\"dataframe\">\n",
       "  <thead>\n",
       "    <tr style=\"text-align: right;\">\n",
       "      <th></th>\n",
       "      <th>Season</th>\n",
       "      <th>TeamCode</th>\n",
       "      <th>PlayerName</th>\n",
       "      <th>Takeaways</th>\n",
       "    </tr>\n",
       "  </thead>\n",
       "  <tbody>\n",
       "    <tr>\n",
       "      <th>131</th>\n",
       "      <td>2013</td>\n",
       "      <td>TOR</td>\n",
       "      <td>DAVE BOLLAND</td>\n",
       "      <td>10</td>\n",
       "    </tr>\n",
       "    <tr>\n",
       "      <th>151</th>\n",
       "      <td>2013</td>\n",
       "      <td>MTL</td>\n",
       "      <td>DANNY BRIERE</td>\n",
       "      <td>22</td>\n",
       "    </tr>\n",
       "    <tr>\n",
       "      <th>666</th>\n",
       "      <td>2013</td>\n",
       "      <td>MTL</td>\n",
       "      <td>JOSH GORGES</td>\n",
       "      <td>11</td>\n",
       "    </tr>\n",
       "    <tr>\n",
       "      <th>816</th>\n",
       "      <td>2013</td>\n",
       "      <td>TOR</td>\n",
       "      <td>TYLER BOZAK</td>\n",
       "      <td>49</td>\n",
       "    </tr>\n",
       "    <tr>\n",
       "      <th>874</th>\n",
       "      <td>2013</td>\n",
       "      <td>TOR</td>\n",
       "      <td>JOFFREY LUPUL</td>\n",
       "      <td>25</td>\n",
       "    </tr>\n",
       "  </tbody>\n",
       "</table>\n",
       "</div>"
      ],
      "text/plain": [
       "     Season TeamCode     PlayerName  Takeaways\n",
       "131    2013      TOR   DAVE BOLLAND         10\n",
       "151    2013      MTL   DANNY BRIERE         22\n",
       "666    2013      MTL    JOSH GORGES         11\n",
       "816    2013      TOR    TYLER BOZAK         49\n",
       "874    2013      TOR  JOFFREY LUPUL         25"
      ]
     },
     "execution_count": 149,
     "metadata": {},
     "output_type": "execute_result"
    }
   ],
   "source": [
    "dtake = dtake.drop_duplicates(['Season', 'GameNumber', 'TeamCode', 'PlayerName'])\n",
    "dtake = dtake.drop_duplicates(['Season', 'TeamCode', 'PlayerName'])\n",
    "dtake = dtake[['Season', 'TeamCode', 'PlayerName', 'Takeaways']]\n",
    "dtake.head()"
   ]
  },
  {
   "cell_type": "code",
   "execution_count": 150,
   "metadata": {
    "collapsed": false
   },
   "outputs": [
    {
     "data": {
      "text/plain": [
       "Season        0\n",
       "TeamCode      0\n",
       "PlayerName    0\n",
       "Takeaways     0\n",
       "dtype: int64"
      ]
     },
     "execution_count": 150,
     "metadata": {},
     "output_type": "execute_result"
    }
   ],
   "source": [
    "dtake.isnull().sum()"
   ]
  },
  {
   "cell_type": "code",
   "execution_count": 151,
   "metadata": {
    "collapsed": false
   },
   "outputs": [
    {
     "data": {
      "text/plain": [
       "(858, 4)"
      ]
     },
     "execution_count": 151,
     "metadata": {},
     "output_type": "execute_result"
    }
   ],
   "source": [
    "dtake.shape"
   ]
  },
  {
   "cell_type": "markdown",
   "metadata": {},
   "source": [
    "####  giveaway dataframe (dgive)"
   ]
  },
  {
   "cell_type": "code",
   "execution_count": 152,
   "metadata": {
    "collapsed": true
   },
   "outputs": [],
   "source": [
    "dgive = dc.copy()\n",
    "dgive = dgive[dgive['Event'] == 'GIVE']"
   ]
  },
  {
   "cell_type": "code",
   "execution_count": 153,
   "metadata": {
    "collapsed": false
   },
   "outputs": [
    {
     "data": {
      "text/plain": [
       "(223653, 19)"
      ]
     },
     "execution_count": 153,
     "metadata": {},
     "output_type": "execute_result"
    }
   ],
   "source": [
    "dgive.shape"
   ]
  },
  {
   "cell_type": "code",
   "execution_count": 154,
   "metadata": {
    "collapsed": false
   },
   "outputs": [
    {
     "data": {
      "text/plain": [
       "223653"
      ]
     },
     "execution_count": 154,
     "metadata": {},
     "output_type": "execute_result"
    }
   ],
   "source": [
    "dgive['EventPlayer2'].isnull().sum()"
   ]
  },
  {
   "cell_type": "code",
   "execution_count": 155,
   "metadata": {
    "collapsed": false
   },
   "outputs": [
    {
     "data": {
      "text/plain": [
       "223653"
      ]
     },
     "execution_count": 155,
     "metadata": {},
     "output_type": "execute_result"
    }
   ],
   "source": [
    "dgive['EventPlayer3'].isnull().sum()"
   ]
  },
  {
   "cell_type": "code",
   "execution_count": 156,
   "metadata": {
    "collapsed": true
   },
   "outputs": [],
   "source": [
    "dgive = dgive[['Season', 'GameNumber', 'EventNumber', 'Event', 'EventTeamCode', 'EventPlayer1']]\n",
    "dgive = dgive.rename(columns={'EventPlayer1': 'PlayerName', 'EventTeamCode':'TeamCode'})"
   ]
  },
  {
   "cell_type": "markdown",
   "metadata": {},
   "source": [
    "- create a giveaway variable. If event type is a giveaway assign a value of 1. If not, assign a value of 0. Display total shots per player for a season."
   ]
  },
  {
   "cell_type": "code",
   "execution_count": 157,
   "metadata": {
    "collapsed": true
   },
   "outputs": [],
   "source": [
    "dgive['Giveaway'] = dgive.apply(lambda x: 1 if (x['Event'] == 'GIVE') else 0, axis=1)\n",
    "dgive = dgive.drop_duplicates(['Season', 'GameNumber', 'EventNumber', 'TeamCode', 'PlayerName'])\n",
    "dgive['Giveaways'] = dgive.groupby(['Season','TeamCode', 'PlayerName'])['Giveaway'].transform('sum')"
   ]
  },
  {
   "cell_type": "markdown",
   "metadata": {},
   "source": [
    "- drop duplicates to keep one observation per player for the season."
   ]
  },
  {
   "cell_type": "code",
   "execution_count": 158,
   "metadata": {
    "collapsed": false
   },
   "outputs": [
    {
     "data": {
      "text/html": [
       "<div>\n",
       "<table border=\"1\" class=\"dataframe\">\n",
       "  <thead>\n",
       "    <tr style=\"text-align: right;\">\n",
       "      <th></th>\n",
       "      <th>Season</th>\n",
       "      <th>TeamCode</th>\n",
       "      <th>PlayerName</th>\n",
       "      <th>Giveaways</th>\n",
       "    </tr>\n",
       "  </thead>\n",
       "  <tbody>\n",
       "    <tr>\n",
       "      <th>141</th>\n",
       "      <td>2013</td>\n",
       "      <td>TOR</td>\n",
       "      <td>CODY FRANSON</td>\n",
       "      <td>68</td>\n",
       "    </tr>\n",
       "    <tr>\n",
       "      <th>187</th>\n",
       "      <td>2013</td>\n",
       "      <td>MTL</td>\n",
       "      <td>ANDREI MARKOV</td>\n",
       "      <td>82</td>\n",
       "    </tr>\n",
       "    <tr>\n",
       "      <th>337</th>\n",
       "      <td>2013</td>\n",
       "      <td>MTL</td>\n",
       "      <td>TRAVIS MOEN</td>\n",
       "      <td>11</td>\n",
       "    </tr>\n",
       "    <tr>\n",
       "      <th>457</th>\n",
       "      <td>2013</td>\n",
       "      <td>TOR</td>\n",
       "      <td>MARK FRASER</td>\n",
       "      <td>16</td>\n",
       "    </tr>\n",
       "    <tr>\n",
       "      <th>607</th>\n",
       "      <td>2013</td>\n",
       "      <td>MTL</td>\n",
       "      <td>CAREY PRICE</td>\n",
       "      <td>58</td>\n",
       "    </tr>\n",
       "  </tbody>\n",
       "</table>\n",
       "</div>"
      ],
      "text/plain": [
       "     Season TeamCode     PlayerName  Giveaways\n",
       "141    2013      TOR   CODY FRANSON         68\n",
       "187    2013      MTL  ANDREI MARKOV         82\n",
       "337    2013      MTL    TRAVIS MOEN         11\n",
       "457    2013      TOR    MARK FRASER         16\n",
       "607    2013      MTL    CAREY PRICE         58"
      ]
     },
     "execution_count": 158,
     "metadata": {},
     "output_type": "execute_result"
    }
   ],
   "source": [
    "dgive = dgive.drop_duplicates(['Season', 'GameNumber', 'TeamCode', 'PlayerName'])\n",
    "dgive = dgive.drop_duplicates(['Season', 'TeamCode', 'PlayerName'])\n",
    "dgive = dgive[['Season', 'TeamCode', 'PlayerName', 'Giveaways']]\n",
    "dgive.head()"
   ]
  },
  {
   "cell_type": "code",
   "execution_count": 159,
   "metadata": {
    "collapsed": false
   },
   "outputs": [
    {
     "data": {
      "text/plain": [
       "Season        0\n",
       "TeamCode      0\n",
       "PlayerName    0\n",
       "Giveaways     0\n",
       "dtype: int64"
      ]
     },
     "execution_count": 159,
     "metadata": {},
     "output_type": "execute_result"
    }
   ],
   "source": [
    "dgive.isnull().sum()"
   ]
  },
  {
   "cell_type": "code",
   "execution_count": 160,
   "metadata": {
    "collapsed": false
   },
   "outputs": [
    {
     "data": {
      "text/plain": [
       "(946, 4)"
      ]
     },
     "execution_count": 160,
     "metadata": {},
     "output_type": "execute_result"
    }
   ],
   "source": [
    "dgive.shape"
   ]
  },
  {
   "cell_type": "markdown",
   "metadata": {},
   "source": [
    "### import 2013 player shifts"
   ]
  },
  {
   "cell_type": "code",
   "execution_count": 161,
   "metadata": {
    "collapsed": true
   },
   "outputs": [],
   "source": [
    "dshift = pd.read_csv('/Users/stefanostselios/Brock University/Kevin Mongeon - StephanosShare/data/nhl_shifts20132014.csv')\n",
    "#dshift = pd.read_csv('/Users/kevinmongeon/Brock University/Steve Tselios - StephanosShare/data/nhl_shifts20132014.csv')\n",
    "dshift = dshift.drop('Unnamed: 0', axis=1)"
   ]
  },
  {
   "cell_type": "markdown",
   "metadata": {},
   "source": [
    "- rename variables, keep only regular season games and create a season variable."
   ]
  },
  {
   "cell_type": "code",
   "execution_count": 162,
   "metadata": {
    "collapsed": false
   },
   "outputs": [
    {
     "data": {
      "text/html": [
       "<div>\n",
       "<table border=\"1\" class=\"dataframe\">\n",
       "  <thead>\n",
       "    <tr style=\"text-align: right;\">\n",
       "      <th></th>\n",
       "      <th>Season</th>\n",
       "      <th>Date</th>\n",
       "      <th>GameNumber</th>\n",
       "      <th>Period</th>\n",
       "      <th>TeamCode</th>\n",
       "      <th>PlayerName</th>\n",
       "      <th>Player_Id</th>\n",
       "      <th>Start</th>\n",
       "      <th>End</th>\n",
       "      <th>Duration</th>\n",
       "    </tr>\n",
       "  </thead>\n",
       "  <tbody>\n",
       "    <tr>\n",
       "      <th>0</th>\n",
       "      <td>2013</td>\n",
       "      <td>2013-10-01</td>\n",
       "      <td>20001</td>\n",
       "      <td>1</td>\n",
       "      <td>MTL</td>\n",
       "      <td>TOMAS PLEKANEC</td>\n",
       "      <td>8469521.0</td>\n",
       "      <td>0.0</td>\n",
       "      <td>29.0</td>\n",
       "      <td>29.0</td>\n",
       "    </tr>\n",
       "    <tr>\n",
       "      <th>1</th>\n",
       "      <td>2013</td>\n",
       "      <td>2013-10-01</td>\n",
       "      <td>20001</td>\n",
       "      <td>1</td>\n",
       "      <td>MTL</td>\n",
       "      <td>BRIAN GIONTA</td>\n",
       "      <td>8467407.0</td>\n",
       "      <td>0.0</td>\n",
       "      <td>34.0</td>\n",
       "      <td>34.0</td>\n",
       "    </tr>\n",
       "    <tr>\n",
       "      <th>2</th>\n",
       "      <td>2013</td>\n",
       "      <td>2013-10-01</td>\n",
       "      <td>20001</td>\n",
       "      <td>1</td>\n",
       "      <td>MTL</td>\n",
       "      <td>RENE BOURQUE</td>\n",
       "      <td>8471504.0</td>\n",
       "      <td>0.0</td>\n",
       "      <td>34.0</td>\n",
       "      <td>34.0</td>\n",
       "    </tr>\n",
       "    <tr>\n",
       "      <th>3</th>\n",
       "      <td>2013</td>\n",
       "      <td>2013-10-01</td>\n",
       "      <td>20001</td>\n",
       "      <td>1</td>\n",
       "      <td>TOR</td>\n",
       "      <td>JAMES VAN RIEMSDYK</td>\n",
       "      <td>8474037.0</td>\n",
       "      <td>0.0</td>\n",
       "      <td>36.0</td>\n",
       "      <td>36.0</td>\n",
       "    </tr>\n",
       "    <tr>\n",
       "      <th>4</th>\n",
       "      <td>2013</td>\n",
       "      <td>2013-10-01</td>\n",
       "      <td>20001</td>\n",
       "      <td>1</td>\n",
       "      <td>TOR</td>\n",
       "      <td>PHIL KESSEL</td>\n",
       "      <td>8473548.0</td>\n",
       "      <td>0.0</td>\n",
       "      <td>36.0</td>\n",
       "      <td>36.0</td>\n",
       "    </tr>\n",
       "  </tbody>\n",
       "</table>\n",
       "</div>"
      ],
      "text/plain": [
       "   Season        Date  GameNumber  Period TeamCode          PlayerName  \\\n",
       "0    2013  2013-10-01       20001       1      MTL      TOMAS PLEKANEC   \n",
       "1    2013  2013-10-01       20001       1      MTL        BRIAN GIONTA   \n",
       "2    2013  2013-10-01       20001       1      MTL        RENE BOURQUE   \n",
       "3    2013  2013-10-01       20001       1      TOR  JAMES VAN RIEMSDYK   \n",
       "4    2013  2013-10-01       20001       1      TOR         PHIL KESSEL   \n",
       "\n",
       "   Player_Id  Start   End  Duration  \n",
       "0  8469521.0    0.0  29.0      29.0  \n",
       "1  8467407.0    0.0  34.0      34.0  \n",
       "2  8471504.0    0.0  34.0      34.0  \n",
       "3  8474037.0    0.0  36.0      36.0  \n",
       "4  8473548.0    0.0  36.0      36.0  "
      ]
     },
     "execution_count": 162,
     "metadata": {},
     "output_type": "execute_result"
    }
   ],
   "source": [
    "dshift['Season'] = 2013\n",
    "dshift= dshift.rename(columns={ 'Game_Id' : 'GameNumber', 'Team': 'TeamCode', 'Player': 'PlayerName' })\n",
    "dshift = dshift[dshift['GameNumber'] <= 21230]\n",
    "dshift = dshift[['Season', 'Date', 'GameNumber', 'Period', 'TeamCode', 'PlayerName', 'Player_Id', 'Start', 'End', 'Duration']]\n",
    "dshift.head()"
   ]
  },
  {
   "cell_type": "markdown",
   "metadata": {},
   "source": [
    "- calcuate the seconds an individual played per game. Convert seconds to minutes and drop duplicates per season, game number, team and player."
   ]
  },
  {
   "cell_type": "code",
   "execution_count": 163,
   "metadata": {
    "collapsed": true
   },
   "outputs": [],
   "source": [
    "dshift['Seconds'] = dshift.groupby(['Season', 'GameNumber', 'TeamCode', 'PlayerName'])['Duration'].transform('sum')\n",
    "dshift['Minutes'] = dshift['Seconds']/60\n",
    "dshift['Minutes'] = dshift['Minutes'].round(2)"
   ]
  },
  {
   "cell_type": "code",
   "execution_count": 164,
   "metadata": {
    "collapsed": true
   },
   "outputs": [],
   "source": [
    "dshift = dshift.drop_duplicates(['Season', 'GameNumber', 'TeamCode', 'PlayerName'])"
   ]
  },
  {
   "cell_type": "code",
   "execution_count": 165,
   "metadata": {
    "collapsed": false
   },
   "outputs": [
    {
     "data": {
      "text/html": [
       "<div>\n",
       "<table border=\"1\" class=\"dataframe\">\n",
       "  <thead>\n",
       "    <tr style=\"text-align: right;\">\n",
       "      <th></th>\n",
       "      <th>Season</th>\n",
       "      <th>Date</th>\n",
       "      <th>GameNumber</th>\n",
       "      <th>Period</th>\n",
       "      <th>TeamCode</th>\n",
       "      <th>PlayerName</th>\n",
       "      <th>Player_Id</th>\n",
       "      <th>Start</th>\n",
       "      <th>End</th>\n",
       "      <th>Duration</th>\n",
       "      <th>Seconds</th>\n",
       "      <th>Minutes</th>\n",
       "    </tr>\n",
       "  </thead>\n",
       "  <tbody>\n",
       "    <tr>\n",
       "      <th>0</th>\n",
       "      <td>2013</td>\n",
       "      <td>2013-10-01</td>\n",
       "      <td>20001</td>\n",
       "      <td>1</td>\n",
       "      <td>MTL</td>\n",
       "      <td>TOMAS PLEKANEC</td>\n",
       "      <td>8469521.0</td>\n",
       "      <td>0.0</td>\n",
       "      <td>29.0</td>\n",
       "      <td>29.0</td>\n",
       "      <td>1086.0</td>\n",
       "      <td>18.10</td>\n",
       "    </tr>\n",
       "    <tr>\n",
       "      <th>1</th>\n",
       "      <td>2013</td>\n",
       "      <td>2013-10-01</td>\n",
       "      <td>20001</td>\n",
       "      <td>1</td>\n",
       "      <td>MTL</td>\n",
       "      <td>BRIAN GIONTA</td>\n",
       "      <td>8467407.0</td>\n",
       "      <td>0.0</td>\n",
       "      <td>34.0</td>\n",
       "      <td>34.0</td>\n",
       "      <td>921.0</td>\n",
       "      <td>15.35</td>\n",
       "    </tr>\n",
       "    <tr>\n",
       "      <th>2</th>\n",
       "      <td>2013</td>\n",
       "      <td>2013-10-01</td>\n",
       "      <td>20001</td>\n",
       "      <td>1</td>\n",
       "      <td>MTL</td>\n",
       "      <td>RENE BOURQUE</td>\n",
       "      <td>8471504.0</td>\n",
       "      <td>0.0</td>\n",
       "      <td>34.0</td>\n",
       "      <td>34.0</td>\n",
       "      <td>897.0</td>\n",
       "      <td>14.95</td>\n",
       "    </tr>\n",
       "    <tr>\n",
       "      <th>3</th>\n",
       "      <td>2013</td>\n",
       "      <td>2013-10-01</td>\n",
       "      <td>20001</td>\n",
       "      <td>1</td>\n",
       "      <td>TOR</td>\n",
       "      <td>JAMES VAN RIEMSDYK</td>\n",
       "      <td>8474037.0</td>\n",
       "      <td>0.0</td>\n",
       "      <td>36.0</td>\n",
       "      <td>36.0</td>\n",
       "      <td>1260.0</td>\n",
       "      <td>21.00</td>\n",
       "    </tr>\n",
       "    <tr>\n",
       "      <th>4</th>\n",
       "      <td>2013</td>\n",
       "      <td>2013-10-01</td>\n",
       "      <td>20001</td>\n",
       "      <td>1</td>\n",
       "      <td>TOR</td>\n",
       "      <td>PHIL KESSEL</td>\n",
       "      <td>8473548.0</td>\n",
       "      <td>0.0</td>\n",
       "      <td>36.0</td>\n",
       "      <td>36.0</td>\n",
       "      <td>1271.0</td>\n",
       "      <td>21.18</td>\n",
       "    </tr>\n",
       "  </tbody>\n",
       "</table>\n",
       "</div>"
      ],
      "text/plain": [
       "   Season        Date  GameNumber  Period TeamCode          PlayerName  \\\n",
       "0    2013  2013-10-01       20001       1      MTL      TOMAS PLEKANEC   \n",
       "1    2013  2013-10-01       20001       1      MTL        BRIAN GIONTA   \n",
       "2    2013  2013-10-01       20001       1      MTL        RENE BOURQUE   \n",
       "3    2013  2013-10-01       20001       1      TOR  JAMES VAN RIEMSDYK   \n",
       "4    2013  2013-10-01       20001       1      TOR         PHIL KESSEL   \n",
       "\n",
       "   Player_Id  Start   End  Duration  Seconds  Minutes  \n",
       "0  8469521.0    0.0  29.0      29.0   1086.0    18.10  \n",
       "1  8467407.0    0.0  34.0      34.0    921.0    15.35  \n",
       "2  8471504.0    0.0  34.0      34.0    897.0    14.95  \n",
       "3  8474037.0    0.0  36.0      36.0   1260.0    21.00  \n",
       "4  8473548.0    0.0  36.0      36.0   1271.0    21.18  "
      ]
     },
     "execution_count": 165,
     "metadata": {},
     "output_type": "execute_result"
    }
   ],
   "source": [
    "dshift.head()"
   ]
  },
  {
   "cell_type": "markdown",
   "metadata": {},
   "source": [
    "- calcuate the seconds an individual played for the whole regular season. Convert seconds to minutes and drop duplicates per season, game number, team and player."
   ]
  },
  {
   "cell_type": "code",
   "execution_count": 166,
   "metadata": {
    "collapsed": false
   },
   "outputs": [
    {
     "data": {
      "text/html": [
       "<div>\n",
       "<table border=\"1\" class=\"dataframe\">\n",
       "  <thead>\n",
       "    <tr style=\"text-align: right;\">\n",
       "      <th></th>\n",
       "      <th>Season</th>\n",
       "      <th>Date</th>\n",
       "      <th>GameNumber</th>\n",
       "      <th>Period</th>\n",
       "      <th>TeamCode</th>\n",
       "      <th>PlayerName</th>\n",
       "      <th>Player_Id</th>\n",
       "      <th>Start</th>\n",
       "      <th>End</th>\n",
       "      <th>Duration</th>\n",
       "      <th>Seconds</th>\n",
       "      <th>Minutes</th>\n",
       "      <th>TSeconds</th>\n",
       "      <th>TOI</th>\n",
       "    </tr>\n",
       "  </thead>\n",
       "  <tbody>\n",
       "    <tr>\n",
       "      <th>0</th>\n",
       "      <td>2013</td>\n",
       "      <td>2013-10-01</td>\n",
       "      <td>20001</td>\n",
       "      <td>1</td>\n",
       "      <td>MTL</td>\n",
       "      <td>TOMAS PLEKANEC</td>\n",
       "      <td>8469521.0</td>\n",
       "      <td>0.0</td>\n",
       "      <td>29.0</td>\n",
       "      <td>29.0</td>\n",
       "      <td>1086.0</td>\n",
       "      <td>18.10</td>\n",
       "      <td>96107.0</td>\n",
       "      <td>1602.0</td>\n",
       "    </tr>\n",
       "    <tr>\n",
       "      <th>1</th>\n",
       "      <td>2013</td>\n",
       "      <td>2013-10-01</td>\n",
       "      <td>20001</td>\n",
       "      <td>1</td>\n",
       "      <td>MTL</td>\n",
       "      <td>BRIAN GIONTA</td>\n",
       "      <td>8467407.0</td>\n",
       "      <td>0.0</td>\n",
       "      <td>34.0</td>\n",
       "      <td>34.0</td>\n",
       "      <td>921.0</td>\n",
       "      <td>15.35</td>\n",
       "      <td>86731.0</td>\n",
       "      <td>1446.0</td>\n",
       "    </tr>\n",
       "    <tr>\n",
       "      <th>2</th>\n",
       "      <td>2013</td>\n",
       "      <td>2013-10-01</td>\n",
       "      <td>20001</td>\n",
       "      <td>1</td>\n",
       "      <td>MTL</td>\n",
       "      <td>RENE BOURQUE</td>\n",
       "      <td>8471504.0</td>\n",
       "      <td>0.0</td>\n",
       "      <td>34.0</td>\n",
       "      <td>34.0</td>\n",
       "      <td>897.0</td>\n",
       "      <td>14.95</td>\n",
       "      <td>53613.0</td>\n",
       "      <td>894.0</td>\n",
       "    </tr>\n",
       "    <tr>\n",
       "      <th>3</th>\n",
       "      <td>2013</td>\n",
       "      <td>2013-10-01</td>\n",
       "      <td>20001</td>\n",
       "      <td>1</td>\n",
       "      <td>TOR</td>\n",
       "      <td>JAMES VAN RIEMSDYK</td>\n",
       "      <td>8474037.0</td>\n",
       "      <td>0.0</td>\n",
       "      <td>36.0</td>\n",
       "      <td>36.0</td>\n",
       "      <td>1260.0</td>\n",
       "      <td>21.00</td>\n",
       "      <td>101071.0</td>\n",
       "      <td>1685.0</td>\n",
       "    </tr>\n",
       "    <tr>\n",
       "      <th>4</th>\n",
       "      <td>2013</td>\n",
       "      <td>2013-10-01</td>\n",
       "      <td>20001</td>\n",
       "      <td>1</td>\n",
       "      <td>TOR</td>\n",
       "      <td>PHIL KESSEL</td>\n",
       "      <td>8473548.0</td>\n",
       "      <td>0.0</td>\n",
       "      <td>36.0</td>\n",
       "      <td>36.0</td>\n",
       "      <td>1271.0</td>\n",
       "      <td>21.18</td>\n",
       "      <td>101678.0</td>\n",
       "      <td>1695.0</td>\n",
       "    </tr>\n",
       "  </tbody>\n",
       "</table>\n",
       "</div>"
      ],
      "text/plain": [
       "   Season        Date  GameNumber  Period TeamCode          PlayerName  \\\n",
       "0    2013  2013-10-01       20001       1      MTL      TOMAS PLEKANEC   \n",
       "1    2013  2013-10-01       20001       1      MTL        BRIAN GIONTA   \n",
       "2    2013  2013-10-01       20001       1      MTL        RENE BOURQUE   \n",
       "3    2013  2013-10-01       20001       1      TOR  JAMES VAN RIEMSDYK   \n",
       "4    2013  2013-10-01       20001       1      TOR         PHIL KESSEL   \n",
       "\n",
       "   Player_Id  Start   End  Duration  Seconds  Minutes  TSeconds     TOI  \n",
       "0  8469521.0    0.0  29.0      29.0   1086.0    18.10   96107.0  1602.0  \n",
       "1  8467407.0    0.0  34.0      34.0    921.0    15.35   86731.0  1446.0  \n",
       "2  8471504.0    0.0  34.0      34.0    897.0    14.95   53613.0   894.0  \n",
       "3  8474037.0    0.0  36.0      36.0   1260.0    21.00  101071.0  1685.0  \n",
       "4  8473548.0    0.0  36.0      36.0   1271.0    21.18  101678.0  1695.0  "
      ]
     },
     "execution_count": 166,
     "metadata": {},
     "output_type": "execute_result"
    }
   ],
   "source": [
    "dshift['TSeconds'] = dshift.groupby(['Season', 'TeamCode', 'PlayerName'])['Seconds'].transform('sum')\n",
    "dshift['TOI'] = dshift['TSeconds']/60\n",
    "dshift['TOI'] = dshift['TOI'].round(0)\n",
    "dshift.head()"
   ]
  },
  {
   "cell_type": "markdown",
   "metadata": {},
   "source": [
    "- keep only observation per player for the season"
   ]
  },
  {
   "cell_type": "code",
   "execution_count": 167,
   "metadata": {
    "collapsed": false
   },
   "outputs": [
    {
     "data": {
      "text/html": [
       "<div>\n",
       "<table border=\"1\" class=\"dataframe\">\n",
       "  <thead>\n",
       "    <tr style=\"text-align: right;\">\n",
       "      <th></th>\n",
       "      <th>Season</th>\n",
       "      <th>TeamCode</th>\n",
       "      <th>PlayerName</th>\n",
       "      <th>TOI</th>\n",
       "    </tr>\n",
       "  </thead>\n",
       "  <tbody>\n",
       "    <tr>\n",
       "      <th>0</th>\n",
       "      <td>2013</td>\n",
       "      <td>MTL</td>\n",
       "      <td>TOMAS PLEKANEC</td>\n",
       "      <td>1602.0</td>\n",
       "    </tr>\n",
       "    <tr>\n",
       "      <th>1</th>\n",
       "      <td>2013</td>\n",
       "      <td>MTL</td>\n",
       "      <td>BRIAN GIONTA</td>\n",
       "      <td>1446.0</td>\n",
       "    </tr>\n",
       "    <tr>\n",
       "      <th>2</th>\n",
       "      <td>2013</td>\n",
       "      <td>MTL</td>\n",
       "      <td>RENE BOURQUE</td>\n",
       "      <td>894.0</td>\n",
       "    </tr>\n",
       "    <tr>\n",
       "      <th>3</th>\n",
       "      <td>2013</td>\n",
       "      <td>TOR</td>\n",
       "      <td>JAMES VAN RIEMSDYK</td>\n",
       "      <td>1685.0</td>\n",
       "    </tr>\n",
       "    <tr>\n",
       "      <th>4</th>\n",
       "      <td>2013</td>\n",
       "      <td>TOR</td>\n",
       "      <td>PHIL KESSEL</td>\n",
       "      <td>1695.0</td>\n",
       "    </tr>\n",
       "  </tbody>\n",
       "</table>\n",
       "</div>"
      ],
      "text/plain": [
       "   Season TeamCode          PlayerName     TOI\n",
       "0    2013      MTL      TOMAS PLEKANEC  1602.0\n",
       "1    2013      MTL        BRIAN GIONTA  1446.0\n",
       "2    2013      MTL        RENE BOURQUE   894.0\n",
       "3    2013      TOR  JAMES VAN RIEMSDYK  1685.0\n",
       "4    2013      TOR         PHIL KESSEL  1695.0"
      ]
     },
     "execution_count": 167,
     "metadata": {},
     "output_type": "execute_result"
    }
   ],
   "source": [
    "dshift = dshift.drop_duplicates(['Season', 'TeamCode', 'PlayerName'])\n",
    "dshift = dshift[['Season', 'TeamCode', 'PlayerName', 'TOI']]\n",
    "dshift.head()"
   ]
  },
  {
   "cell_type": "code",
   "execution_count": 168,
   "metadata": {
    "collapsed": false
   },
   "outputs": [
    {
     "data": {
      "text/plain": [
       "Season        0\n",
       "TeamCode      0\n",
       "PlayerName    0\n",
       "TOI           0\n",
       "dtype: int64"
      ]
     },
     "execution_count": 168,
     "metadata": {},
     "output_type": "execute_result"
    }
   ],
   "source": [
    "dshift.isnull().sum()"
   ]
  },
  {
   "cell_type": "code",
   "execution_count": 169,
   "metadata": {
    "collapsed": false
   },
   "outputs": [
    {
     "data": {
      "text/plain": [
       "(1056, 4)"
      ]
     },
     "execution_count": 169,
     "metadata": {},
     "output_type": "execute_result"
    }
   ],
   "source": [
    "dshift.shape"
   ]
  },
  {
   "cell_type": "markdown",
   "metadata": {},
   "source": [
    "### import 2012 player positions"
   ]
  },
  {
   "cell_type": "code",
   "execution_count": 182,
   "metadata": {
    "collapsed": false
   },
   "outputs": [],
   "source": [
    "dpos = pd.read_csv('/Users/stefanostselios/Brock University/Kevin Mongeon - StephanosShare/data/nhl_positions20132014.csv')\n",
    "#dpos = pd.read_csv('/Users/kevinmongeon/Brock University/Steve Tselios - StephanosShare/data/nhl_positions20132014.csv')"
   ]
  },
  {
   "cell_type": "code",
   "execution_count": 183,
   "metadata": {
    "collapsed": false
   },
   "outputs": [
    {
     "data": {
      "text/html": [
       "<div>\n",
       "<table border=\"1\" class=\"dataframe\">\n",
       "  <thead>\n",
       "    <tr style=\"text-align: right;\">\n",
       "      <th></th>\n",
       "      <th>FirstName</th>\n",
       "      <th>LastName</th>\n",
       "      <th>TeamCode</th>\n",
       "      <th>Position</th>\n",
       "      <th>FName</th>\n",
       "      <th>LName</th>\n",
       "      <th>PlayerName</th>\n",
       "    </tr>\n",
       "  </thead>\n",
       "  <tbody>\n",
       "    <tr>\n",
       "      <th>0</th>\n",
       "      <td>Spencer</td>\n",
       "      <td>Abbott</td>\n",
       "      <td>TOR</td>\n",
       "      <td>LW/RW</td>\n",
       "      <td>SPENCER</td>\n",
       "      <td>ABBOTT</td>\n",
       "      <td>SPENCER ABBOTT</td>\n",
       "    </tr>\n",
       "    <tr>\n",
       "      <th>1</th>\n",
       "      <td>Justin</td>\n",
       "      <td>Abdelkader</td>\n",
       "      <td>DET</td>\n",
       "      <td>LW/C</td>\n",
       "      <td>JUSTIN</td>\n",
       "      <td>ABDELKADER</td>\n",
       "      <td>JUSTIN ABDELKADER</td>\n",
       "    </tr>\n",
       "    <tr>\n",
       "      <th>2</th>\n",
       "      <td>Will</td>\n",
       "      <td>Acton</td>\n",
       "      <td>EDM</td>\n",
       "      <td>C/RW</td>\n",
       "      <td>WILL</td>\n",
       "      <td>ACTON</td>\n",
       "      <td>WILL ACTON</td>\n",
       "    </tr>\n",
       "    <tr>\n",
       "      <th>3</th>\n",
       "      <td>Luke</td>\n",
       "      <td>Adam</td>\n",
       "      <td>BUF</td>\n",
       "      <td>C/LW</td>\n",
       "      <td>LUKE</td>\n",
       "      <td>ADAM</td>\n",
       "      <td>LUKE ADAM</td>\n",
       "    </tr>\n",
       "    <tr>\n",
       "      <th>4</th>\n",
       "      <td>Craig</td>\n",
       "      <td>Adams</td>\n",
       "      <td>PIT</td>\n",
       "      <td>RW</td>\n",
       "      <td>CRAIG</td>\n",
       "      <td>ADAMS</td>\n",
       "      <td>CRAIG ADAMS</td>\n",
       "    </tr>\n",
       "  </tbody>\n",
       "</table>\n",
       "</div>"
      ],
      "text/plain": [
       "  FirstName    LastName TeamCode Position    FName       LName  \\\n",
       "0   Spencer      Abbott      TOR    LW/RW  SPENCER      ABBOTT   \n",
       "1    Justin  Abdelkader      DET     LW/C   JUSTIN  ABDELKADER   \n",
       "2      Will       Acton      EDM     C/RW     WILL       ACTON   \n",
       "3      Luke        Adam      BUF     C/LW     LUKE        ADAM   \n",
       "4     Craig       Adams      PIT       RW    CRAIG       ADAMS   \n",
       "\n",
       "          PlayerName  \n",
       "0     SPENCER ABBOTT  \n",
       "1  JUSTIN ABDELKADER  \n",
       "2         WILL ACTON  \n",
       "3          LUKE ADAM  \n",
       "4        CRAIG ADAMS  "
      ]
     },
     "execution_count": 183,
     "metadata": {},
     "output_type": "execute_result"
    }
   ],
   "source": [
    "dpos.head()"
   ]
  },
  {
   "cell_type": "code",
   "execution_count": 184,
   "metadata": {
    "collapsed": false
   },
   "outputs": [
    {
     "data": {
      "text/html": [
       "<div>\n",
       "<table border=\"1\" class=\"dataframe\">\n",
       "  <thead>\n",
       "    <tr style=\"text-align: right;\">\n",
       "      <th></th>\n",
       "      <th>Season</th>\n",
       "      <th>TeamCode</th>\n",
       "      <th>PlayerName</th>\n",
       "      <th>Position</th>\n",
       "    </tr>\n",
       "  </thead>\n",
       "  <tbody>\n",
       "    <tr>\n",
       "      <th>0</th>\n",
       "      <td>2013</td>\n",
       "      <td>TOR</td>\n",
       "      <td>SPENCER ABBOTT</td>\n",
       "      <td>LW/RW</td>\n",
       "    </tr>\n",
       "    <tr>\n",
       "      <th>1</th>\n",
       "      <td>2013</td>\n",
       "      <td>DET</td>\n",
       "      <td>JUSTIN ABDELKADER</td>\n",
       "      <td>LW/C</td>\n",
       "    </tr>\n",
       "    <tr>\n",
       "      <th>2</th>\n",
       "      <td>2013</td>\n",
       "      <td>EDM</td>\n",
       "      <td>WILL ACTON</td>\n",
       "      <td>C/RW</td>\n",
       "    </tr>\n",
       "    <tr>\n",
       "      <th>3</th>\n",
       "      <td>2013</td>\n",
       "      <td>BUF</td>\n",
       "      <td>LUKE ADAM</td>\n",
       "      <td>C/LW</td>\n",
       "    </tr>\n",
       "    <tr>\n",
       "      <th>4</th>\n",
       "      <td>2013</td>\n",
       "      <td>PIT</td>\n",
       "      <td>CRAIG ADAMS</td>\n",
       "      <td>RW</td>\n",
       "    </tr>\n",
       "  </tbody>\n",
       "</table>\n",
       "</div>"
      ],
      "text/plain": [
       "   Season TeamCode         PlayerName Position\n",
       "0    2013      TOR     SPENCER ABBOTT    LW/RW\n",
       "1    2013      DET  JUSTIN ABDELKADER     LW/C\n",
       "2    2013      EDM         WILL ACTON     C/RW\n",
       "3    2013      BUF          LUKE ADAM     C/LW\n",
       "4    2013      PIT        CRAIG ADAMS       RW"
      ]
     },
     "execution_count": 184,
     "metadata": {},
     "output_type": "execute_result"
    }
   ],
   "source": [
    "dpos['Season'] = 2013\n",
    "dpos= dpos.rename(columns={ 'Team': 'TeamCode', 'Pos ': 'Position'})\n",
    "dpos = dpos[['Season', 'TeamCode', 'PlayerName', 'Position']]\n",
    "dpos.head()"
   ]
  },
  {
   "cell_type": "code",
   "execution_count": 185,
   "metadata": {
    "collapsed": false
   },
   "outputs": [
    {
     "data": {
      "text/plain": [
       "Season         int64\n",
       "TeamCode      object\n",
       "PlayerName    object\n",
       "Position      object\n",
       "dtype: object"
      ]
     },
     "execution_count": 185,
     "metadata": {},
     "output_type": "execute_result"
    }
   ],
   "source": [
    "dpos.dtypes"
   ]
  },
  {
   "cell_type": "code",
   "execution_count": 186,
   "metadata": {
    "collapsed": false
   },
   "outputs": [
    {
     "data": {
      "text/plain": [
       "W    328\n",
       "D    303\n",
       "C    255\n",
       "G     97\n",
       "Name: Position, dtype: int64"
      ]
     },
     "execution_count": 186,
     "metadata": {},
     "output_type": "execute_result"
    }
   ],
   "source": [
    "dpos['Position'] = dpos.apply(lambda x: 'C' if x['Position'] == 'C/LW' else 'C' if x['Position'] == 'C/RW' else 'C' if x['Position'] == 'C/RW/LW' else 'C' if x['Position'] == 'C/LW/RW' else 'W' if x['Position'] == 'RW' else 'W' if x['Position'] == 'LW' else 'W' if x['Position'] == 'LW/C' else 'W' if x['Position'] == 'RW/C' else 'W' if x['Position'] == 'RW/LW' else 'W' if x['Position'] == 'LW/RW' else 'W' if x['Position'] == 'RW/LW/C' else 'W' if x['Position'] == 'RW/C/LW' else 'W' if x['Position'] == 'RW/C/LW' else 'W' if x['Position'] == 'LW/D' else 'W' if x['Position'] == 'LW/C/RW' else 'W' if x['Position'] == 'LW/RW/C' else 'D' if x['Position'] == 'D/LW' else 'D' if x['Position'] == 'D/RW' else 'C' if x['Position'] == 'C/D' else 'W' if x['Position'] == 'RW/D' else x['Position'] , axis=1)\n",
    "dpos['Position'].value_counts()"
   ]
  },
  {
   "cell_type": "code",
   "execution_count": 187,
   "metadata": {
    "collapsed": false
   },
   "outputs": [
    {
     "data": {
      "text/html": [
       "<div>\n",
       "<table border=\"1\" class=\"dataframe\">\n",
       "  <thead>\n",
       "    <tr style=\"text-align: right;\">\n",
       "      <th></th>\n",
       "      <th>Season</th>\n",
       "      <th>TeamCode</th>\n",
       "      <th>PlayerName</th>\n",
       "      <th>Position</th>\n",
       "    </tr>\n",
       "  </thead>\n",
       "  <tbody>\n",
       "    <tr>\n",
       "      <th>0</th>\n",
       "      <td>2013</td>\n",
       "      <td>TOR</td>\n",
       "      <td>SPENCER ABBOTT</td>\n",
       "      <td>W</td>\n",
       "    </tr>\n",
       "    <tr>\n",
       "      <th>1</th>\n",
       "      <td>2013</td>\n",
       "      <td>DET</td>\n",
       "      <td>JUSTIN ABDELKADER</td>\n",
       "      <td>W</td>\n",
       "    </tr>\n",
       "    <tr>\n",
       "      <th>2</th>\n",
       "      <td>2013</td>\n",
       "      <td>EDM</td>\n",
       "      <td>WILL ACTON</td>\n",
       "      <td>C</td>\n",
       "    </tr>\n",
       "    <tr>\n",
       "      <th>3</th>\n",
       "      <td>2013</td>\n",
       "      <td>BUF</td>\n",
       "      <td>LUKE ADAM</td>\n",
       "      <td>C</td>\n",
       "    </tr>\n",
       "    <tr>\n",
       "      <th>4</th>\n",
       "      <td>2013</td>\n",
       "      <td>PIT</td>\n",
       "      <td>CRAIG ADAMS</td>\n",
       "      <td>W</td>\n",
       "    </tr>\n",
       "  </tbody>\n",
       "</table>\n",
       "</div>"
      ],
      "text/plain": [
       "   Season TeamCode         PlayerName Position\n",
       "0    2013      TOR     SPENCER ABBOTT        W\n",
       "1    2013      DET  JUSTIN ABDELKADER        W\n",
       "2    2013      EDM         WILL ACTON        C\n",
       "3    2013      BUF          LUKE ADAM        C\n",
       "4    2013      PIT        CRAIG ADAMS        W"
      ]
     },
     "execution_count": 187,
     "metadata": {},
     "output_type": "execute_result"
    }
   ],
   "source": [
    "dpos['TeamCode'] = dpos.apply(lambda x: 'L.A' if x['TeamCode'] == 'LAK' else 'N.J' if x['TeamCode'] == 'NJD' else 'S.J' if x['TeamCode'] == 'SJS' else 'T.B' if x['TeamCode'] == 'TBL' else x['TeamCode'] , axis=1)\n",
    "dpos.head()"
   ]
  },
  {
   "cell_type": "code",
   "execution_count": 188,
   "metadata": {
    "collapsed": false
   },
   "outputs": [
    {
     "data": {
      "text/plain": [
       "(983, 4)"
      ]
     },
     "execution_count": 188,
     "metadata": {},
     "output_type": "execute_result"
    }
   ],
   "source": [
    "dpos.shape"
   ]
  },
  {
   "cell_type": "markdown",
   "metadata": {},
   "source": [
    "### merge data frames"
   ]
  },
  {
   "cell_type": "markdown",
   "metadata": {},
   "source": [
    "- merge games played, goals and assists."
   ]
  },
  {
   "cell_type": "code",
   "execution_count": 193,
   "metadata": {
    "collapsed": true
   },
   "outputs": [],
   "source": [
    "dd = pd.merge(s, dpos, on=['Season', 'TeamCode', 'PlayerName'], how='left').merge(dg,on=['Season', 'TeamCode', 'PlayerName'], how = 'left').merge(dast,on=['Season', 'TeamCode', 'PlayerName'], how = 'left')"
   ]
  },
  {
   "cell_type": "markdown",
   "metadata": {},
   "source": [
    "- forward and backward fill players that have been traded during the season. Fill in positions for three players."
   ]
  },
  {
   "cell_type": "code",
   "execution_count": 194,
   "metadata": {
    "collapsed": false
   },
   "outputs": [
    {
     "data": {
      "text/html": [
       "<div>\n",
       "<table border=\"1\" class=\"dataframe\">\n",
       "  <thead>\n",
       "    <tr style=\"text-align: right;\">\n",
       "      <th></th>\n",
       "      <th>Season</th>\n",
       "      <th>TeamCode</th>\n",
       "      <th>PlayerName</th>\n",
       "      <th>GP</th>\n",
       "      <th>Position</th>\n",
       "      <th>Goals</th>\n",
       "      <th>Assists</th>\n",
       "    </tr>\n",
       "  </thead>\n",
       "  <tbody>\n",
       "    <tr>\n",
       "      <th>0</th>\n",
       "      <td>2013</td>\n",
       "      <td>MTL</td>\n",
       "      <td>TOMAS PLEKANEC</td>\n",
       "      <td>81</td>\n",
       "      <td>C</td>\n",
       "      <td>20.0</td>\n",
       "      <td>23.0</td>\n",
       "    </tr>\n",
       "    <tr>\n",
       "      <th>1</th>\n",
       "      <td>2013</td>\n",
       "      <td>MTL</td>\n",
       "      <td>RENE BOURQUE</td>\n",
       "      <td>63</td>\n",
       "      <td>W</td>\n",
       "      <td>9.0</td>\n",
       "      <td>7.0</td>\n",
       "    </tr>\n",
       "    <tr>\n",
       "      <th>2</th>\n",
       "      <td>2013</td>\n",
       "      <td>MTL</td>\n",
       "      <td>BRIAN GIONTA</td>\n",
       "      <td>81</td>\n",
       "      <td>W</td>\n",
       "      <td>18.0</td>\n",
       "      <td>22.0</td>\n",
       "    </tr>\n",
       "    <tr>\n",
       "      <th>3</th>\n",
       "      <td>2013</td>\n",
       "      <td>MTL</td>\n",
       "      <td>JOSH GORGES</td>\n",
       "      <td>66</td>\n",
       "      <td>D</td>\n",
       "      <td>1.0</td>\n",
       "      <td>13.0</td>\n",
       "    </tr>\n",
       "    <tr>\n",
       "      <th>4</th>\n",
       "      <td>2013</td>\n",
       "      <td>MTL</td>\n",
       "      <td>PK SUBBAN</td>\n",
       "      <td>82</td>\n",
       "      <td>D</td>\n",
       "      <td>10.0</td>\n",
       "      <td>43.0</td>\n",
       "    </tr>\n",
       "  </tbody>\n",
       "</table>\n",
       "</div>"
      ],
      "text/plain": [
       "   Season TeamCode      PlayerName  GP Position  Goals  Assists\n",
       "0    2013      MTL  TOMAS PLEKANEC  81        C   20.0     23.0\n",
       "1    2013      MTL    RENE BOURQUE  63        W    9.0      7.0\n",
       "2    2013      MTL    BRIAN GIONTA  81        W   18.0     22.0\n",
       "3    2013      MTL     JOSH GORGES  66        D    1.0     13.0\n",
       "4    2013      MTL       PK SUBBAN  82        D   10.0     43.0"
      ]
     },
     "execution_count": 194,
     "metadata": {},
     "output_type": "execute_result"
    }
   ],
   "source": [
    "dd['Position'] = dd.groupby(['PlayerName'])['Position'].apply(lambda x: x.ffill().bfill())\n",
    "dd['Position'] = dd.apply(lambda x: 'D' if x['PlayerName'] == 'MICHAEL KOSTKA' else 'C' if x['PlayerName'] == 'DANNY BRIERE' else x['Position'] , axis=1)\n",
    "\n",
    "dd.head()"
   ]
  },
  {
   "cell_type": "code",
   "execution_count": 195,
   "metadata": {
    "collapsed": false
   },
   "outputs": [
    {
     "data": {
      "text/plain": [
       "Season          0\n",
       "TeamCode        0\n",
       "PlayerName      0\n",
       "GP              0\n",
       "Position        0\n",
       "Goals         320\n",
       "Assists       225\n",
       "dtype: int64"
      ]
     },
     "execution_count": 195,
     "metadata": {},
     "output_type": "execute_result"
    }
   ],
   "source": [
    "dd.isnull().sum()"
   ]
  },
  {
   "cell_type": "code",
   "execution_count": 196,
   "metadata": {
    "collapsed": false
   },
   "outputs": [
    {
     "data": {
      "text/html": [
       "<div>\n",
       "<table border=\"1\" class=\"dataframe\">\n",
       "  <thead>\n",
       "    <tr style=\"text-align: right;\">\n",
       "      <th></th>\n",
       "      <th>Season</th>\n",
       "      <th>TeamCode</th>\n",
       "      <th>PlayerName</th>\n",
       "      <th>GP</th>\n",
       "      <th>Position</th>\n",
       "      <th>Goals</th>\n",
       "      <th>Assists</th>\n",
       "    </tr>\n",
       "  </thead>\n",
       "  <tbody>\n",
       "  </tbody>\n",
       "</table>\n",
       "</div>"
      ],
      "text/plain": [
       "Empty DataFrame\n",
       "Columns: [Season, TeamCode, PlayerName, GP, Position, Goals, Assists]\n",
       "Index: []"
      ]
     },
     "execution_count": 196,
     "metadata": {},
     "output_type": "execute_result"
    }
   ],
   "source": [
    "fix = dd.copy()\n",
    "fix = fix[fix['Position'].isnull()]\n",
    "fix.head(20)"
   ]
  },
  {
   "cell_type": "markdown",
   "metadata": {},
   "source": [
    "- fill in goals and assists with 0 for players who had no points."
   ]
  },
  {
   "cell_type": "code",
   "execution_count": 197,
   "metadata": {
    "collapsed": false
   },
   "outputs": [
    {
     "data": {
      "text/html": [
       "<div>\n",
       "<table border=\"1\" class=\"dataframe\">\n",
       "  <thead>\n",
       "    <tr style=\"text-align: right;\">\n",
       "      <th></th>\n",
       "      <th>Season</th>\n",
       "      <th>TeamCode</th>\n",
       "      <th>PlayerName</th>\n",
       "      <th>GP</th>\n",
       "      <th>Position</th>\n",
       "      <th>Goals</th>\n",
       "      <th>Assists</th>\n",
       "      <th>Points</th>\n",
       "    </tr>\n",
       "  </thead>\n",
       "  <tbody>\n",
       "    <tr>\n",
       "      <th>0</th>\n",
       "      <td>2013</td>\n",
       "      <td>MTL</td>\n",
       "      <td>TOMAS PLEKANEC</td>\n",
       "      <td>81</td>\n",
       "      <td>C</td>\n",
       "      <td>20.0</td>\n",
       "      <td>23.0</td>\n",
       "      <td>43.0</td>\n",
       "    </tr>\n",
       "    <tr>\n",
       "      <th>1</th>\n",
       "      <td>2013</td>\n",
       "      <td>MTL</td>\n",
       "      <td>RENE BOURQUE</td>\n",
       "      <td>63</td>\n",
       "      <td>W</td>\n",
       "      <td>9.0</td>\n",
       "      <td>7.0</td>\n",
       "      <td>16.0</td>\n",
       "    </tr>\n",
       "    <tr>\n",
       "      <th>2</th>\n",
       "      <td>2013</td>\n",
       "      <td>MTL</td>\n",
       "      <td>BRIAN GIONTA</td>\n",
       "      <td>81</td>\n",
       "      <td>W</td>\n",
       "      <td>18.0</td>\n",
       "      <td>22.0</td>\n",
       "      <td>40.0</td>\n",
       "    </tr>\n",
       "    <tr>\n",
       "      <th>3</th>\n",
       "      <td>2013</td>\n",
       "      <td>MTL</td>\n",
       "      <td>JOSH GORGES</td>\n",
       "      <td>66</td>\n",
       "      <td>D</td>\n",
       "      <td>1.0</td>\n",
       "      <td>13.0</td>\n",
       "      <td>14.0</td>\n",
       "    </tr>\n",
       "    <tr>\n",
       "      <th>4</th>\n",
       "      <td>2013</td>\n",
       "      <td>MTL</td>\n",
       "      <td>PK SUBBAN</td>\n",
       "      <td>82</td>\n",
       "      <td>D</td>\n",
       "      <td>10.0</td>\n",
       "      <td>43.0</td>\n",
       "      <td>53.0</td>\n",
       "    </tr>\n",
       "  </tbody>\n",
       "</table>\n",
       "</div>"
      ],
      "text/plain": [
       "   Season TeamCode      PlayerName  GP Position  Goals  Assists  Points\n",
       "0    2013      MTL  TOMAS PLEKANEC  81        C   20.0     23.0    43.0\n",
       "1    2013      MTL    RENE BOURQUE  63        W    9.0      7.0    16.0\n",
       "2    2013      MTL    BRIAN GIONTA  81        W   18.0     22.0    40.0\n",
       "3    2013      MTL     JOSH GORGES  66        D    1.0     13.0    14.0\n",
       "4    2013      MTL       PK SUBBAN  82        D   10.0     43.0    53.0"
      ]
     },
     "execution_count": 197,
     "metadata": {},
     "output_type": "execute_result"
    }
   ],
   "source": [
    "dd['Goals'] = dd['Goals'].fillna(0)\n",
    "dd['Assists'] = dd['Assists'].fillna(0)\n",
    "dd['Points'] = dd['Goals'] + dd['Assists']\n",
    "dd.head()"
   ]
  },
  {
   "cell_type": "code",
   "execution_count": 198,
   "metadata": {
    "collapsed": false
   },
   "outputs": [
    {
     "data": {
      "text/plain": [
       "Season        0\n",
       "TeamCode      0\n",
       "PlayerName    0\n",
       "GP            0\n",
       "Position      0\n",
       "Goals         0\n",
       "Assists       0\n",
       "Points        0\n",
       "dtype: int64"
      ]
     },
     "execution_count": 198,
     "metadata": {},
     "output_type": "execute_result"
    }
   ],
   "source": [
    "dd.isnull().sum()"
   ]
  },
  {
   "cell_type": "code",
   "execution_count": 199,
   "metadata": {
    "collapsed": false
   },
   "outputs": [
    {
     "data": {
      "text/html": [
       "<div>\n",
       "<table border=\"1\" class=\"dataframe\">\n",
       "  <thead>\n",
       "    <tr style=\"text-align: right;\">\n",
       "      <th></th>\n",
       "      <th>Season</th>\n",
       "      <th>TeamCode</th>\n",
       "      <th>PlayerName</th>\n",
       "      <th>GP</th>\n",
       "      <th>Position</th>\n",
       "      <th>Goals</th>\n",
       "      <th>Assists</th>\n",
       "      <th>Points</th>\n",
       "      <th>GoalsF</th>\n",
       "      <th>GoalsA</th>\n",
       "      <th>EVGoalsF</th>\n",
       "      <th>EVGoalsA</th>\n",
       "      <th>Plus/Minus</th>\n",
       "      <th>Shots</th>\n",
       "      <th>ShotsF</th>\n",
       "      <th>ShotsA</th>\n",
       "      <th>DShots</th>\n",
       "      <th>EVShotsF</th>\n",
       "      <th>EVShotsA</th>\n",
       "      <th>EVDShots</th>\n",
       "      <th>Blocks</th>\n",
       "      <th>Hits</th>\n",
       "      <th>Penalties</th>\n",
       "      <th>Takeaways</th>\n",
       "      <th>Giveaways</th>\n",
       "      <th>Misses</th>\n",
       "      <th>TOI</th>\n",
       "    </tr>\n",
       "  </thead>\n",
       "  <tbody>\n",
       "    <tr>\n",
       "      <th>0</th>\n",
       "      <td>2013</td>\n",
       "      <td>MTL</td>\n",
       "      <td>TOMAS PLEKANEC</td>\n",
       "      <td>81</td>\n",
       "      <td>C</td>\n",
       "      <td>20.0</td>\n",
       "      <td>23.0</td>\n",
       "      <td>43.0</td>\n",
       "      <td>61.0</td>\n",
       "      <td>56.0</td>\n",
       "      <td>46.0</td>\n",
       "      <td>36.0</td>\n",
       "      <td>10.0</td>\n",
       "      <td>180.0</td>\n",
       "      <td>699</td>\n",
       "      <td>860</td>\n",
       "      <td>-161</td>\n",
       "      <td>577</td>\n",
       "      <td>650</td>\n",
       "      <td>-73</td>\n",
       "      <td>43.0</td>\n",
       "      <td>44.0</td>\n",
       "      <td>38.0</td>\n",
       "      <td>38.0</td>\n",
       "      <td>37.0</td>\n",
       "      <td>91.0</td>\n",
       "      <td>1602.0</td>\n",
       "    </tr>\n",
       "    <tr>\n",
       "      <th>1</th>\n",
       "      <td>2013</td>\n",
       "      <td>MTL</td>\n",
       "      <td>RENE BOURQUE</td>\n",
       "      <td>63</td>\n",
       "      <td>W</td>\n",
       "      <td>9.0</td>\n",
       "      <td>7.0</td>\n",
       "      <td>16.0</td>\n",
       "      <td>28.0</td>\n",
       "      <td>21.0</td>\n",
       "      <td>20.0</td>\n",
       "      <td>21.0</td>\n",
       "      <td>-1.0</td>\n",
       "      <td>109.0</td>\n",
       "      <td>398</td>\n",
       "      <td>433</td>\n",
       "      <td>-35</td>\n",
       "      <td>340</td>\n",
       "      <td>430</td>\n",
       "      <td>-90</td>\n",
       "      <td>15.0</td>\n",
       "      <td>90.0</td>\n",
       "      <td>32.0</td>\n",
       "      <td>13.0</td>\n",
       "      <td>9.0</td>\n",
       "      <td>54.0</td>\n",
       "      <td>894.0</td>\n",
       "    </tr>\n",
       "    <tr>\n",
       "      <th>2</th>\n",
       "      <td>2013</td>\n",
       "      <td>MTL</td>\n",
       "      <td>BRIAN GIONTA</td>\n",
       "      <td>81</td>\n",
       "      <td>W</td>\n",
       "      <td>18.0</td>\n",
       "      <td>22.0</td>\n",
       "      <td>40.0</td>\n",
       "      <td>50.0</td>\n",
       "      <td>47.0</td>\n",
       "      <td>38.0</td>\n",
       "      <td>39.0</td>\n",
       "      <td>-1.0</td>\n",
       "      <td>166.0</td>\n",
       "      <td>634</td>\n",
       "      <td>759</td>\n",
       "      <td>-125</td>\n",
       "      <td>541</td>\n",
       "      <td>652</td>\n",
       "      <td>-111</td>\n",
       "      <td>52.0</td>\n",
       "      <td>46.0</td>\n",
       "      <td>20.0</td>\n",
       "      <td>38.0</td>\n",
       "      <td>21.0</td>\n",
       "      <td>81.0</td>\n",
       "      <td>1446.0</td>\n",
       "    </tr>\n",
       "    <tr>\n",
       "      <th>3</th>\n",
       "      <td>2013</td>\n",
       "      <td>MTL</td>\n",
       "      <td>JOSH GORGES</td>\n",
       "      <td>66</td>\n",
       "      <td>D</td>\n",
       "      <td>1.0</td>\n",
       "      <td>13.0</td>\n",
       "      <td>14.0</td>\n",
       "      <td>44.0</td>\n",
       "      <td>55.0</td>\n",
       "      <td>43.0</td>\n",
       "      <td>37.0</td>\n",
       "      <td>6.0</td>\n",
       "      <td>34.0</td>\n",
       "      <td>527</td>\n",
       "      <td>736</td>\n",
       "      <td>-209</td>\n",
       "      <td>510</td>\n",
       "      <td>562</td>\n",
       "      <td>-52</td>\n",
       "      <td>175.0</td>\n",
       "      <td>97.0</td>\n",
       "      <td>12.0</td>\n",
       "      <td>11.0</td>\n",
       "      <td>29.0</td>\n",
       "      <td>37.0</td>\n",
       "      <td>1402.0</td>\n",
       "    </tr>\n",
       "    <tr>\n",
       "      <th>4</th>\n",
       "      <td>2013</td>\n",
       "      <td>MTL</td>\n",
       "      <td>PK SUBBAN</td>\n",
       "      <td>82</td>\n",
       "      <td>D</td>\n",
       "      <td>10.0</td>\n",
       "      <td>43.0</td>\n",
       "      <td>53.0</td>\n",
       "      <td>111.0</td>\n",
       "      <td>79.0</td>\n",
       "      <td>70.0</td>\n",
       "      <td>74.0</td>\n",
       "      <td>-4.0</td>\n",
       "      <td>194.0</td>\n",
       "      <td>1115</td>\n",
       "      <td>920</td>\n",
       "      <td>195</td>\n",
       "      <td>792</td>\n",
       "      <td>882</td>\n",
       "      <td>-90</td>\n",
       "      <td>124.0</td>\n",
       "      <td>135.0</td>\n",
       "      <td>81.0</td>\n",
       "      <td>26.0</td>\n",
       "      <td>83.0</td>\n",
       "      <td>82.0</td>\n",
       "      <td>2019.0</td>\n",
       "    </tr>\n",
       "  </tbody>\n",
       "</table>\n",
       "</div>"
      ],
      "text/plain": [
       "   Season TeamCode      PlayerName  GP Position  Goals  Assists  Points  \\\n",
       "0    2013      MTL  TOMAS PLEKANEC  81        C   20.0     23.0    43.0   \n",
       "1    2013      MTL    RENE BOURQUE  63        W    9.0      7.0    16.0   \n",
       "2    2013      MTL    BRIAN GIONTA  81        W   18.0     22.0    40.0   \n",
       "3    2013      MTL     JOSH GORGES  66        D    1.0     13.0    14.0   \n",
       "4    2013      MTL       PK SUBBAN  82        D   10.0     43.0    53.0   \n",
       "\n",
       "   GoalsF  GoalsA  EVGoalsF  EVGoalsA  Plus/Minus  Shots  ShotsF  ShotsA  \\\n",
       "0    61.0    56.0      46.0      36.0        10.0  180.0     699     860   \n",
       "1    28.0    21.0      20.0      21.0        -1.0  109.0     398     433   \n",
       "2    50.0    47.0      38.0      39.0        -1.0  166.0     634     759   \n",
       "3    44.0    55.0      43.0      37.0         6.0   34.0     527     736   \n",
       "4   111.0    79.0      70.0      74.0        -4.0  194.0    1115     920   \n",
       "\n",
       "   DShots  EVShotsF  EVShotsA  EVDShots  Blocks   Hits  Penalties  Takeaways  \\\n",
       "0    -161       577       650       -73    43.0   44.0       38.0       38.0   \n",
       "1     -35       340       430       -90    15.0   90.0       32.0       13.0   \n",
       "2    -125       541       652      -111    52.0   46.0       20.0       38.0   \n",
       "3    -209       510       562       -52   175.0   97.0       12.0       11.0   \n",
       "4     195       792       882       -90   124.0  135.0       81.0       26.0   \n",
       "\n",
       "   Giveaways  Misses     TOI  \n",
       "0       37.0    91.0  1602.0  \n",
       "1        9.0    54.0   894.0  \n",
       "2       21.0    81.0  1446.0  \n",
       "3       29.0    37.0  1402.0  \n",
       "4       83.0    82.0  2019.0  "
      ]
     },
     "execution_count": 199,
     "metadata": {},
     "output_type": "execute_result"
    }
   ],
   "source": [
    "de = pd.merge(dd, gfa,on=['Season', 'TeamCode', 'PlayerName'], how = 'left').merge(ds,on=['Season', 'TeamCode', 'PlayerName'], how = 'left').merge(sa,on=['Season', 'TeamCode', 'PlayerName'], how = 'left').merge(dbl,on=['Season', 'TeamCode', 'PlayerName'], how = 'left').merge(dhit,on=['Season', 'TeamCode', 'PlayerName'], how = 'left').merge(dp,on=['Season', 'TeamCode', 'PlayerName'], how = 'left').merge(dtake,on=['Season', 'TeamCode', 'PlayerName'], how = 'left').merge(dgive,on=['Season', 'TeamCode', 'PlayerName'], how = 'left').merge(dmiss,on=['Season', 'TeamCode', 'PlayerName'], how = 'left').merge(dshift,on=['Season', 'TeamCode', 'PlayerName'], how = 'left')\n",
    "de.head()"
   ]
  },
  {
   "cell_type": "markdown",
   "metadata": {},
   "source": [
    "- fill in with 0 for all nan values since not all players have been on the ice for a goal for or a goal against. "
   ]
  },
  {
   "cell_type": "code",
   "execution_count": 200,
   "metadata": {
    "collapsed": true
   },
   "outputs": [],
   "source": [
    "de['GoalsF'] = de['GoalsF'].fillna(0)\n",
    "de['GoalsA'] = de['GoalsA'].fillna(0)\n",
    "de['EVGoalsF'] = de['EVGoalsF'].fillna(0)\n",
    "de['EVGoalsA'] = de['EVGoalsA'].fillna(0)\n",
    "de['Plus/Minus'] = de['Plus/Minus'].fillna(0)\n",
    "de['Shots'] = de['Shots'].fillna(0)\n",
    "de['Hits'] = de['Hits'].fillna(0)\n",
    "de['Blocks'] = de['Blocks'].fillna(0)\n",
    "de['Penalties'] = de['Penalties'].fillna(0)\n",
    "de['Giveaways'] = de['Giveaways'].fillna(0)\n",
    "de['Takeaways'] = de['Takeaways'].fillna(0)\n",
    "de['Misses'] = de['Misses'].fillna(0)"
   ]
  },
  {
   "cell_type": "code",
   "execution_count": 201,
   "metadata": {
    "collapsed": false
   },
   "outputs": [
    {
     "data": {
      "text/plain": [
       "Season        0\n",
       "TeamCode      0\n",
       "PlayerName    0\n",
       "GP            0\n",
       "Position      0\n",
       "Goals         0\n",
       "Assists       0\n",
       "Points        0\n",
       "GoalsF        0\n",
       "GoalsA        0\n",
       "EVGoalsF      0\n",
       "EVGoalsA      0\n",
       "Plus/Minus    0\n",
       "Shots         0\n",
       "ShotsF        0\n",
       "ShotsA        0\n",
       "DShots        0\n",
       "EVShotsF      0\n",
       "EVShotsA      0\n",
       "EVDShots      0\n",
       "Blocks        0\n",
       "Hits          0\n",
       "Penalties     0\n",
       "Takeaways     0\n",
       "Giveaways     0\n",
       "Misses        0\n",
       "TOI           0\n",
       "dtype: int64"
      ]
     },
     "execution_count": 201,
     "metadata": {},
     "output_type": "execute_result"
    }
   ],
   "source": [
    "de.isnull().sum()"
   ]
  },
  {
   "cell_type": "markdown",
   "metadata": {},
   "source": [
    "### total player stats for the season"
   ]
  },
  {
   "cell_type": "markdown",
   "metadata": {},
   "source": [
    "- players that have been traded need to be evaluated for their season performance. Group by sesaon and player name to calcute the sum of each stat. "
   ]
  },
  {
   "cell_type": "code",
   "execution_count": 202,
   "metadata": {
    "collapsed": true
   },
   "outputs": [],
   "source": [
    "de['TGP'] = de.groupby(['Season', 'PlayerName'])['GP'].transform('sum')\n",
    "de['TGoals'] = de.groupby(['Season', 'PlayerName'])['Goals'].transform('sum')\n",
    "de['TAssists'] = de.groupby(['Season', 'PlayerName'])['Assists'].transform('sum')\n",
    "de['TPoints'] = de.groupby(['Season', 'PlayerName'])['Points'].transform('sum')\n",
    "de['TGoalsF'] = de.groupby(['Season', 'PlayerName'])['GoalsF'].transform('sum')\n",
    "de['TGoalsA'] = de.groupby(['Season', 'PlayerName'])['GoalsA'].transform('sum')\n",
    "de['TEVGoalsF'] = de.groupby(['Season', 'PlayerName'])['EVGoalsF'].transform('sum')\n",
    "de['TEVGoalsA'] = de.groupby(['Season', 'PlayerName'])['EVGoalsA'].transform('sum')\n",
    "de['TPlus/Minus'] = de.groupby(['Season', 'PlayerName'])['Plus/Minus'].transform('sum')\n",
    "de['TShots'] = de.groupby(['Season', 'PlayerName'])['Shots'].transform('sum')\n",
    "de['TShotsF'] = de.groupby(['Season', 'PlayerName'])['ShotsF'].transform('sum')\n",
    "de['TShotsA'] = de.groupby(['Season', 'PlayerName'])['ShotsA'].transform('sum')\n",
    "de['TDShots'] = de.groupby(['Season', 'PlayerName'])['DShots'].transform('sum')\n",
    "de['TEVShotsF'] = de.groupby(['Season', 'PlayerName'])['EVShotsF'].transform('sum')\n",
    "de['TEVShotsA'] = de.groupby(['Season', 'PlayerName'])['EVShotsA'].transform('sum')\n",
    "de['TEVDShots'] = de.groupby(['Season', 'PlayerName'])['EVDShots'].transform('sum')\n",
    "de['TBlocks'] = de.groupby(['Season', 'PlayerName'])['Blocks'].transform('sum')\n",
    "de['THits'] = de.groupby(['Season', 'PlayerName'])['Hits'].transform('sum')\n",
    "de['TPenalties'] = de.groupby(['Season', 'PlayerName'])['Penalties'].transform('sum')\n",
    "de['TTakeaways'] = de.groupby(['Season', 'PlayerName'])['Takeaways'].transform('sum')\n",
    "de['TGiveaways'] = de.groupby(['Season', 'PlayerName'])['Giveaways'].transform('sum')\n",
    "de['TMisses'] = de.groupby(['Season', 'PlayerName'])['Misses'].transform('sum')\n",
    "de['TTOI'] = de.groupby(['Season', 'PlayerName'])['TOI'].transform('sum')"
   ]
  },
  {
   "cell_type": "markdown",
   "metadata": {},
   "source": [
    "- divide all stats with total time on ice to scale the data for cluster analysis"
   ]
  },
  {
   "cell_type": "code",
   "execution_count": 203,
   "metadata": {
    "collapsed": false
   },
   "outputs": [],
   "source": [
    "de['TOIGoals'] = de['TGoals'] / de['TTOI']\n",
    "de['TOIAssists'] = de['TAssists'] / de['TTOI']\n",
    "de['TOIPoints'] = de['TPoints'] / de['TTOI']\n",
    "de['TOIGoalsF'] = de['TGoalsF'] / de['TTOI']\n",
    "de['TOIGoalsA'] = de['TGoalsA'] / de['TTOI']\n",
    "de['TOIEVGoalsF'] = de['TEVGoalsF'] / de['TTOI']\n",
    "de['TOIEVGoalsA'] = de['TEVGoalsA'] / de['TTOI']\n",
    "de['TOIPlus/Minus'] = de['TPlus/Minus'] / de['TTOI']\n",
    "de['TOIShots'] = de['TShots'] / de['TTOI']\n",
    "de['TOIShotsF'] = de['TShotsF'] / de['TTOI']\n",
    "de['TOIShotsA'] = de['TShotsA'] / de['TTOI']\n",
    "de['TOIDShots'] = de['TDShots'] / de['TTOI']\n",
    "de['TOIEVShotsF'] = de['TEVShotsF'] / de['TTOI']\n",
    "de['TOIEVShotsA'] = de['TEVShotsA'] / de['TTOI']\n",
    "de['TOIEVDShots'] = de['TEVDShots'] / de['TTOI']\n",
    "de['TOIBlocks'] = de['TBlocks'] / de['TTOI']\n",
    "de['TOIHits'] = de['THits'] / de['TTOI']\n",
    "de['TOIPenalties'] = de['TPenalties'] / de['TTOI']\n",
    "de['TOITakeaways'] = de['TTakeaways'] / de['TTOI']\n",
    "de['TOIGiveaways'] = de['TGiveaways'] / de['TTOI']\n",
    "de['TOIMisses'] = de['TMisses'] / de['TTOI']"
   ]
  },
  {
   "cell_type": "markdown",
   "metadata": {},
   "source": [
    "- keep sesaon total variables and scaled variables"
   ]
  },
  {
   "cell_type": "code",
   "execution_count": 204,
   "metadata": {
    "collapsed": false,
    "scrolled": true
   },
   "outputs": [
    {
     "data": {
      "text/html": [
       "<div>\n",
       "<table border=\"1\" class=\"dataframe\">\n",
       "  <thead>\n",
       "    <tr style=\"text-align: right;\">\n",
       "      <th></th>\n",
       "      <th>Season</th>\n",
       "      <th>TeamCode</th>\n",
       "      <th>PlayerName</th>\n",
       "      <th>Position</th>\n",
       "      <th>TGP</th>\n",
       "      <th>TGoals</th>\n",
       "      <th>TAssists</th>\n",
       "      <th>TPoints</th>\n",
       "      <th>TGoalsF</th>\n",
       "      <th>TGoalsA</th>\n",
       "      <th>TEVGoalsF</th>\n",
       "      <th>TEVGoalsA</th>\n",
       "      <th>TPlus/Minus</th>\n",
       "      <th>TShots</th>\n",
       "      <th>TShotsF</th>\n",
       "      <th>TShotsA</th>\n",
       "      <th>TDShots</th>\n",
       "      <th>TEVShotsF</th>\n",
       "      <th>TEVShotsA</th>\n",
       "      <th>TEVDShots</th>\n",
       "      <th>TBlocks</th>\n",
       "      <th>THits</th>\n",
       "      <th>TPenalties</th>\n",
       "      <th>TTakeaways</th>\n",
       "      <th>TGiveaways</th>\n",
       "      <th>TMisses</th>\n",
       "      <th>TTOI</th>\n",
       "      <th>TOIGoals</th>\n",
       "      <th>TOIAssists</th>\n",
       "      <th>TOIPoints</th>\n",
       "      <th>TOIGoalsF</th>\n",
       "      <th>TOIGoalsA</th>\n",
       "      <th>TOIEVGoalsF</th>\n",
       "      <th>TOIEVGoalsA</th>\n",
       "      <th>TOIPlus/Minus</th>\n",
       "      <th>TOIShots</th>\n",
       "      <th>TOIShotsF</th>\n",
       "      <th>TOIShotsA</th>\n",
       "      <th>TOIDShots</th>\n",
       "      <th>TOIEVShotsF</th>\n",
       "      <th>TOIEVShotsA</th>\n",
       "      <th>TOIEVDShots</th>\n",
       "      <th>TOIBlocks</th>\n",
       "      <th>TOIHits</th>\n",
       "      <th>TOIPenalties</th>\n",
       "      <th>TOITakeaways</th>\n",
       "      <th>TOIGiveaways</th>\n",
       "      <th>TOIMisses</th>\n",
       "    </tr>\n",
       "  </thead>\n",
       "  <tbody>\n",
       "    <tr>\n",
       "      <th>0</th>\n",
       "      <td>2013</td>\n",
       "      <td>MTL</td>\n",
       "      <td>TOMAS PLEKANEC</td>\n",
       "      <td>C</td>\n",
       "      <td>81</td>\n",
       "      <td>20.0</td>\n",
       "      <td>23.0</td>\n",
       "      <td>43.0</td>\n",
       "      <td>61.0</td>\n",
       "      <td>56.0</td>\n",
       "      <td>46.0</td>\n",
       "      <td>36.0</td>\n",
       "      <td>10.0</td>\n",
       "      <td>180.0</td>\n",
       "      <td>699</td>\n",
       "      <td>860</td>\n",
       "      <td>-161</td>\n",
       "      <td>577</td>\n",
       "      <td>650</td>\n",
       "      <td>-73</td>\n",
       "      <td>43.0</td>\n",
       "      <td>44.0</td>\n",
       "      <td>38.0</td>\n",
       "      <td>38.0</td>\n",
       "      <td>37.0</td>\n",
       "      <td>91.0</td>\n",
       "      <td>1602.0</td>\n",
       "      <td>0.012484</td>\n",
       "      <td>0.014357</td>\n",
       "      <td>0.026841</td>\n",
       "      <td>0.038077</td>\n",
       "      <td>0.034956</td>\n",
       "      <td>0.028714</td>\n",
       "      <td>0.022472</td>\n",
       "      <td>0.006242</td>\n",
       "      <td>0.112360</td>\n",
       "      <td>0.436330</td>\n",
       "      <td>0.536829</td>\n",
       "      <td>-0.100499</td>\n",
       "      <td>0.360175</td>\n",
       "      <td>0.405743</td>\n",
       "      <td>-0.045568</td>\n",
       "      <td>0.026841</td>\n",
       "      <td>0.027466</td>\n",
       "      <td>0.023720</td>\n",
       "      <td>0.023720</td>\n",
       "      <td>0.023096</td>\n",
       "      <td>0.056804</td>\n",
       "    </tr>\n",
       "    <tr>\n",
       "      <th>1</th>\n",
       "      <td>2013</td>\n",
       "      <td>MTL</td>\n",
       "      <td>RENE BOURQUE</td>\n",
       "      <td>W</td>\n",
       "      <td>63</td>\n",
       "      <td>9.0</td>\n",
       "      <td>7.0</td>\n",
       "      <td>16.0</td>\n",
       "      <td>28.0</td>\n",
       "      <td>21.0</td>\n",
       "      <td>20.0</td>\n",
       "      <td>21.0</td>\n",
       "      <td>-1.0</td>\n",
       "      <td>109.0</td>\n",
       "      <td>398</td>\n",
       "      <td>433</td>\n",
       "      <td>-35</td>\n",
       "      <td>340</td>\n",
       "      <td>430</td>\n",
       "      <td>-90</td>\n",
       "      <td>15.0</td>\n",
       "      <td>90.0</td>\n",
       "      <td>32.0</td>\n",
       "      <td>13.0</td>\n",
       "      <td>9.0</td>\n",
       "      <td>54.0</td>\n",
       "      <td>894.0</td>\n",
       "      <td>0.010067</td>\n",
       "      <td>0.007830</td>\n",
       "      <td>0.017897</td>\n",
       "      <td>0.031320</td>\n",
       "      <td>0.023490</td>\n",
       "      <td>0.022371</td>\n",
       "      <td>0.023490</td>\n",
       "      <td>-0.001119</td>\n",
       "      <td>0.121924</td>\n",
       "      <td>0.445190</td>\n",
       "      <td>0.484340</td>\n",
       "      <td>-0.039150</td>\n",
       "      <td>0.380313</td>\n",
       "      <td>0.480984</td>\n",
       "      <td>-0.100671</td>\n",
       "      <td>0.016779</td>\n",
       "      <td>0.100671</td>\n",
       "      <td>0.035794</td>\n",
       "      <td>0.014541</td>\n",
       "      <td>0.010067</td>\n",
       "      <td>0.060403</td>\n",
       "    </tr>\n",
       "    <tr>\n",
       "      <th>2</th>\n",
       "      <td>2013</td>\n",
       "      <td>MTL</td>\n",
       "      <td>BRIAN GIONTA</td>\n",
       "      <td>W</td>\n",
       "      <td>81</td>\n",
       "      <td>18.0</td>\n",
       "      <td>22.0</td>\n",
       "      <td>40.0</td>\n",
       "      <td>50.0</td>\n",
       "      <td>47.0</td>\n",
       "      <td>38.0</td>\n",
       "      <td>39.0</td>\n",
       "      <td>-1.0</td>\n",
       "      <td>166.0</td>\n",
       "      <td>634</td>\n",
       "      <td>759</td>\n",
       "      <td>-125</td>\n",
       "      <td>541</td>\n",
       "      <td>652</td>\n",
       "      <td>-111</td>\n",
       "      <td>52.0</td>\n",
       "      <td>46.0</td>\n",
       "      <td>20.0</td>\n",
       "      <td>38.0</td>\n",
       "      <td>21.0</td>\n",
       "      <td>81.0</td>\n",
       "      <td>1446.0</td>\n",
       "      <td>0.012448</td>\n",
       "      <td>0.015214</td>\n",
       "      <td>0.027663</td>\n",
       "      <td>0.034578</td>\n",
       "      <td>0.032503</td>\n",
       "      <td>0.026279</td>\n",
       "      <td>0.026971</td>\n",
       "      <td>-0.000692</td>\n",
       "      <td>0.114799</td>\n",
       "      <td>0.438451</td>\n",
       "      <td>0.524896</td>\n",
       "      <td>-0.086445</td>\n",
       "      <td>0.374136</td>\n",
       "      <td>0.450899</td>\n",
       "      <td>-0.076763</td>\n",
       "      <td>0.035961</td>\n",
       "      <td>0.031812</td>\n",
       "      <td>0.013831</td>\n",
       "      <td>0.026279</td>\n",
       "      <td>0.014523</td>\n",
       "      <td>0.056017</td>\n",
       "    </tr>\n",
       "    <tr>\n",
       "      <th>3</th>\n",
       "      <td>2013</td>\n",
       "      <td>MTL</td>\n",
       "      <td>JOSH GORGES</td>\n",
       "      <td>D</td>\n",
       "      <td>66</td>\n",
       "      <td>1.0</td>\n",
       "      <td>13.0</td>\n",
       "      <td>14.0</td>\n",
       "      <td>44.0</td>\n",
       "      <td>55.0</td>\n",
       "      <td>43.0</td>\n",
       "      <td>37.0</td>\n",
       "      <td>6.0</td>\n",
       "      <td>34.0</td>\n",
       "      <td>527</td>\n",
       "      <td>736</td>\n",
       "      <td>-209</td>\n",
       "      <td>510</td>\n",
       "      <td>562</td>\n",
       "      <td>-52</td>\n",
       "      <td>175.0</td>\n",
       "      <td>97.0</td>\n",
       "      <td>12.0</td>\n",
       "      <td>11.0</td>\n",
       "      <td>29.0</td>\n",
       "      <td>37.0</td>\n",
       "      <td>1402.0</td>\n",
       "      <td>0.000713</td>\n",
       "      <td>0.009272</td>\n",
       "      <td>0.009986</td>\n",
       "      <td>0.031384</td>\n",
       "      <td>0.039230</td>\n",
       "      <td>0.030670</td>\n",
       "      <td>0.026391</td>\n",
       "      <td>0.004280</td>\n",
       "      <td>0.024251</td>\n",
       "      <td>0.375892</td>\n",
       "      <td>0.524964</td>\n",
       "      <td>-0.149073</td>\n",
       "      <td>0.363766</td>\n",
       "      <td>0.400856</td>\n",
       "      <td>-0.037090</td>\n",
       "      <td>0.124822</td>\n",
       "      <td>0.069187</td>\n",
       "      <td>0.008559</td>\n",
       "      <td>0.007846</td>\n",
       "      <td>0.020685</td>\n",
       "      <td>0.026391</td>\n",
       "    </tr>\n",
       "    <tr>\n",
       "      <th>4</th>\n",
       "      <td>2013</td>\n",
       "      <td>MTL</td>\n",
       "      <td>PK SUBBAN</td>\n",
       "      <td>D</td>\n",
       "      <td>82</td>\n",
       "      <td>10.0</td>\n",
       "      <td>43.0</td>\n",
       "      <td>53.0</td>\n",
       "      <td>111.0</td>\n",
       "      <td>79.0</td>\n",
       "      <td>70.0</td>\n",
       "      <td>74.0</td>\n",
       "      <td>-4.0</td>\n",
       "      <td>194.0</td>\n",
       "      <td>1115</td>\n",
       "      <td>920</td>\n",
       "      <td>195</td>\n",
       "      <td>792</td>\n",
       "      <td>882</td>\n",
       "      <td>-90</td>\n",
       "      <td>124.0</td>\n",
       "      <td>135.0</td>\n",
       "      <td>81.0</td>\n",
       "      <td>26.0</td>\n",
       "      <td>83.0</td>\n",
       "      <td>82.0</td>\n",
       "      <td>2019.0</td>\n",
       "      <td>0.004953</td>\n",
       "      <td>0.021298</td>\n",
       "      <td>0.026251</td>\n",
       "      <td>0.054978</td>\n",
       "      <td>0.039128</td>\n",
       "      <td>0.034671</td>\n",
       "      <td>0.036652</td>\n",
       "      <td>-0.001981</td>\n",
       "      <td>0.096087</td>\n",
       "      <td>0.552254</td>\n",
       "      <td>0.455671</td>\n",
       "      <td>0.096582</td>\n",
       "      <td>0.392273</td>\n",
       "      <td>0.436850</td>\n",
       "      <td>-0.044577</td>\n",
       "      <td>0.061417</td>\n",
       "      <td>0.066865</td>\n",
       "      <td>0.040119</td>\n",
       "      <td>0.012878</td>\n",
       "      <td>0.041109</td>\n",
       "      <td>0.040614</td>\n",
       "    </tr>\n",
       "  </tbody>\n",
       "</table>\n",
       "</div>"
      ],
      "text/plain": [
       "   Season TeamCode      PlayerName Position  TGP  TGoals  TAssists  TPoints  \\\n",
       "0    2013      MTL  TOMAS PLEKANEC        C   81    20.0      23.0     43.0   \n",
       "1    2013      MTL    RENE BOURQUE        W   63     9.0       7.0     16.0   \n",
       "2    2013      MTL    BRIAN GIONTA        W   81    18.0      22.0     40.0   \n",
       "3    2013      MTL     JOSH GORGES        D   66     1.0      13.0     14.0   \n",
       "4    2013      MTL       PK SUBBAN        D   82    10.0      43.0     53.0   \n",
       "\n",
       "   TGoalsF  TGoalsA  TEVGoalsF  TEVGoalsA  TPlus/Minus  TShots  TShotsF  \\\n",
       "0     61.0     56.0       46.0       36.0         10.0   180.0      699   \n",
       "1     28.0     21.0       20.0       21.0         -1.0   109.0      398   \n",
       "2     50.0     47.0       38.0       39.0         -1.0   166.0      634   \n",
       "3     44.0     55.0       43.0       37.0          6.0    34.0      527   \n",
       "4    111.0     79.0       70.0       74.0         -4.0   194.0     1115   \n",
       "\n",
       "   TShotsA  TDShots  TEVShotsF  TEVShotsA  TEVDShots  TBlocks  THits  \\\n",
       "0      860     -161        577        650        -73     43.0   44.0   \n",
       "1      433      -35        340        430        -90     15.0   90.0   \n",
       "2      759     -125        541        652       -111     52.0   46.0   \n",
       "3      736     -209        510        562        -52    175.0   97.0   \n",
       "4      920      195        792        882        -90    124.0  135.0   \n",
       "\n",
       "   TPenalties  TTakeaways  TGiveaways  TMisses    TTOI  TOIGoals  TOIAssists  \\\n",
       "0        38.0        38.0        37.0     91.0  1602.0  0.012484    0.014357   \n",
       "1        32.0        13.0         9.0     54.0   894.0  0.010067    0.007830   \n",
       "2        20.0        38.0        21.0     81.0  1446.0  0.012448    0.015214   \n",
       "3        12.0        11.0        29.0     37.0  1402.0  0.000713    0.009272   \n",
       "4        81.0        26.0        83.0     82.0  2019.0  0.004953    0.021298   \n",
       "\n",
       "   TOIPoints  TOIGoalsF  TOIGoalsA  TOIEVGoalsF  TOIEVGoalsA  TOIPlus/Minus  \\\n",
       "0   0.026841   0.038077   0.034956     0.028714     0.022472       0.006242   \n",
       "1   0.017897   0.031320   0.023490     0.022371     0.023490      -0.001119   \n",
       "2   0.027663   0.034578   0.032503     0.026279     0.026971      -0.000692   \n",
       "3   0.009986   0.031384   0.039230     0.030670     0.026391       0.004280   \n",
       "4   0.026251   0.054978   0.039128     0.034671     0.036652      -0.001981   \n",
       "\n",
       "   TOIShots  TOIShotsF  TOIShotsA  TOIDShots  TOIEVShotsF  TOIEVShotsA  \\\n",
       "0  0.112360   0.436330   0.536829  -0.100499     0.360175     0.405743   \n",
       "1  0.121924   0.445190   0.484340  -0.039150     0.380313     0.480984   \n",
       "2  0.114799   0.438451   0.524896  -0.086445     0.374136     0.450899   \n",
       "3  0.024251   0.375892   0.524964  -0.149073     0.363766     0.400856   \n",
       "4  0.096087   0.552254   0.455671   0.096582     0.392273     0.436850   \n",
       "\n",
       "   TOIEVDShots  TOIBlocks   TOIHits  TOIPenalties  TOITakeaways  TOIGiveaways  \\\n",
       "0    -0.045568   0.026841  0.027466      0.023720      0.023720      0.023096   \n",
       "1    -0.100671   0.016779  0.100671      0.035794      0.014541      0.010067   \n",
       "2    -0.076763   0.035961  0.031812      0.013831      0.026279      0.014523   \n",
       "3    -0.037090   0.124822  0.069187      0.008559      0.007846      0.020685   \n",
       "4    -0.044577   0.061417  0.066865      0.040119      0.012878      0.041109   \n",
       "\n",
       "   TOIMisses  \n",
       "0   0.056804  \n",
       "1   0.060403  \n",
       "2   0.056017  \n",
       "3   0.026391  \n",
       "4   0.040614  "
      ]
     },
     "execution_count": 204,
     "metadata": {},
     "output_type": "execute_result"
    }
   ],
   "source": [
    "de = de[['Season', 'TeamCode', 'PlayerName', 'Position', 'TGP', 'TGoals', 'TAssists', 'TPoints', 'TGoalsF', 'TGoalsA', 'TEVGoalsF', 'TEVGoalsA', 'TPlus/Minus', 'TShots', 'TShotsF', 'TShotsA', 'TDShots', 'TEVShotsF', 'TEVShotsA', 'TEVDShots', 'TBlocks', 'THits', 'TPenalties', 'TTakeaways', 'TGiveaways', 'TMisses', 'TTOI', 'TOIGoals', 'TOIAssists', 'TOIPoints', 'TOIGoalsF', 'TOIGoalsA', 'TOIEVGoalsF', 'TOIEVGoalsA', 'TOIPlus/Minus', 'TOIShots', 'TOIShotsF', 'TOIShotsA', 'TOIDShots', 'TOIEVShotsF', 'TOIEVShotsA', 'TOIEVDShots', 'TOIBlocks', 'TOIHits', 'TOIPenalties', 'TOITakeaways', 'TOIGiveaways', 'TOIMisses']]\n",
    "de.head()"
   ]
  },
  {
   "cell_type": "code",
   "execution_count": 205,
   "metadata": {
    "collapsed": true
   },
   "outputs": [],
   "source": [
    "de.to_csv('/Users/stefanostselios/Brock University/Kevin Mongeon - StephanosShare/out/stats/2013_player_stats.csv', index='False', sep=',')\n",
    "#de = pd.read_csv('/Users/kevinmongeon/Brock University/Steve Tselios - StephanosShare/out/stats/2013_player_stats.csv', index='False', sep=',')"
   ]
  },
  {
   "cell_type": "code",
   "execution_count": null,
   "metadata": {
    "collapsed": true
   },
   "outputs": [],
   "source": []
  }
 ],
 "metadata": {
  "kernelspec": {
   "display_name": "Python 3",
   "language": "python",
   "name": "python3"
  },
  "language_info": {
   "codemirror_mode": {
    "name": "ipython",
    "version": 3
   },
   "file_extension": ".py",
   "mimetype": "text/x-python",
   "name": "python",
   "nbconvert_exporter": "python",
   "pygments_lexer": "ipython3",
   "version": "3.6.0"
  }
 },
 "nbformat": 4,
 "nbformat_minor": 2
}
