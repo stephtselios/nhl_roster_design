{
 "cells": [
  {
   "cell_type": "code",
   "execution_count": 1,
   "metadata": {
    "collapsed": true
   },
   "outputs": [],
   "source": [
    "import sys\n",
    "import os\n",
    "import pandas as pd\n",
    "import numpy as np\n",
    "import datetime, time\n",
    "import matplotlib.pyplot as plt\n",
    "import statsmodels.api as sm\n",
    "import statsmodels.formula.api as smf\n",
    "import patsy\n",
    "from statsmodels.formula.api import ols\n",
    "from statsmodels.iolib.summary2 import summary_col\n",
    "from pylab import hist, show\n",
    "import scipy\n",
    "import zipfile\n",
    "\n",
    "\n",
    "pd.set_option('display.max_rows', 50)\n",
    "pd.set_option('display.max_columns', 200)"
   ]
  },
  {
   "cell_type": "markdown",
   "metadata": {},
   "source": [
    "## import play by play data for 2010 to 2017 seasons"
   ]
  },
  {
   "cell_type": "markdown",
   "metadata": {},
   "source": [
    "import seasons, rename variables and create a season variable."
   ]
  },
  {
   "cell_type": "code",
   "execution_count": 2,
   "metadata": {
    "collapsed": true
   },
   "outputs": [],
   "source": [
    "#d2010 = pd.read_csv('/Users/stefanostselios/Brock University/Kevin Mongeon - StephanosShare/out/pbp_merged.csv')\n",
    "#d2010 = pd.read_csv('/Users/kevinmongeon/Brock University/Steve Tselios - StephanosShare/out/pbp_merged.csv')\n",
    "#d2010 = d2010.drop('Unnamed: 0', axis=1)\n",
    "#d2010 = d2010.rename(columns={'TeamCode': 'EventTeamCode'})\n"
   ]
  },
  {
   "cell_type": "code",
   "execution_count": 3,
   "metadata": {
    "collapsed": true
   },
   "outputs": [],
   "source": [
    "d2010 = pd.read_csv('/Users/stefanostselios/Brock University/Kevin Mongeon - StephanosShare/data/nhl_pbp20102011.csv')\n",
    "#d2010 = pd.read_csv('/Users/kevinmongeon/Brock University/Steve Tselios - StephanosShare/data/nhl_pbp20102011.csv')\n",
    "d2010 = d2010.drop('Unnamed: 0', axis=1)"
   ]
  },
  {
   "cell_type": "code",
   "execution_count": 4,
   "metadata": {
    "collapsed": true
   },
   "outputs": [],
   "source": [
    "d2010 = d2010.rename(columns={ 'Game_Id' : 'GameNumber', 'Event': 'EventType', 'Ev_Zone': 'EventZone', 'Time_Elapsed': 'Time', 'Ev_Team': 'EventTeamCode', 'Description': 'EventDetail', 'Away_Team': 'VTeamCode', 'Home_Team':'HTeamCode', 'p1_name': 'EventPlayer1','p2_name': 'EventPlayer2', 'p3_name': 'EventPlayer3', 'awayPlayer1': 'VPlayer1', 'awayPlayer2': 'VPlayer2', 'awayPlayer3': 'VPlayer3', 'awayPlayer4': 'VPlayer4', 'awayPlayer5': 'VPlayer5', 'awayPlayer6': 'VPlayer6', 'homePlayer1': 'HPlayer1', 'homePlayer2': 'HPlayer2', 'homePlayer3': 'HPlayer3','homePlayer4': 'HPlayer4', 'homePlayer5': 'HPlayer5','homePlayer6': 'HPlayer6', 'Away_Score': 'VGoals', 'Home_Score': 'HGoals', 'Away_Goalie': 'VGoalie', 'Home_Goalie': 'HGoalie', 'Away_Players': 'PlayersV', 'Home_Players': 'PlayersH' })\n",
    "d2010['Season'] = 2010\n",
    "d2010 = d2010[['Season', 'GameNumber', 'Date', 'Period', 'Time', 'Strength', 'EventType', 'EventDetail', 'EventTeamCode', 'EventPlayer1', 'EventPlayer2', 'EventPlayer3', 'VTeamCode', 'VPlayer1', 'VPlayer2', 'VPlayer3', 'VPlayer4', 'VPlayer5', 'VPlayer6', 'VGoalie', 'PlayersV', 'HTeamCode', 'HPlayer1', 'HPlayer2', 'HPlayer3', 'HPlayer4', 'HPlayer5', 'HPlayer6', 'HGoalie', 'PlayersH']]\n",
    "d2010 = d2010[d2010['GameNumber'] <= 21230]"
   ]
  },
  {
   "cell_type": "code",
   "execution_count": 5,
   "metadata": {
    "collapsed": false
   },
   "outputs": [],
   "source": [
    "d2011 = pd.read_csv('/Users/stefanostselios/Brock University/Kevin Mongeon - StephanosShare/data/nhl_pbp20112012.csv')\n",
    "#d2011 = pd.read_csv('/Users/kevinmongeon/Brock University/Steve Tselios - StephanosShare/data/nhl_pbp20112012.csv')\n",
    "d2011 = d2011.drop('Unnamed: 0', axis=1)"
   ]
  },
  {
   "cell_type": "code",
   "execution_count": 6,
   "metadata": {
    "collapsed": true
   },
   "outputs": [],
   "source": [
    "d2011 = d2011.rename(columns={ 'Game_Id' : 'GameNumber', 'Event': 'EventType', 'Ev_Zone': 'EventZone', 'Time_Elapsed': 'Time', 'Ev_Team': 'EventTeamCode', 'Description': 'EventDetail', 'Away_Team': 'VTeamCode', 'Home_Team':'HTeamCode', 'p1_name': 'EventPlayer1','p2_name': 'EventPlayer2', 'p3_name': 'EventPlayer3', 'awayPlayer1': 'VPlayer1', 'awayPlayer2': 'VPlayer2', 'awayPlayer3': 'VPlayer3', 'awayPlayer4': 'VPlayer4', 'awayPlayer5': 'VPlayer5', 'awayPlayer6': 'VPlayer6', 'homePlayer1': 'HPlayer1', 'homePlayer2': 'HPlayer2', 'homePlayer3': 'HPlayer3','homePlayer4': 'HPlayer4', 'homePlayer5': 'HPlayer5','homePlayer6': 'HPlayer6', 'Away_Score': 'VGoals', 'Home_Score': 'HGoals', 'Away_Goalie': 'VGoalie', 'Home_Goalie': 'HGoalie', 'Away_Players': 'PlayersV', 'Home_Players': 'PlayersH' })\n",
    "d2011['Season'] = 2011\n",
    "d2011 = d2011[['Season', 'GameNumber', 'Date', 'Period', 'Time', 'Strength', 'EventType', 'EventDetail', 'EventTeamCode', 'EventPlayer1', 'EventPlayer2', 'EventPlayer3', 'VTeamCode', 'VPlayer1', 'VPlayer2', 'VPlayer3', 'VPlayer4', 'VPlayer5', 'VPlayer6', 'VGoalie', 'PlayersV', 'HTeamCode', 'HPlayer1', 'HPlayer2', 'HPlayer3', 'HPlayer4', 'HPlayer5', 'HPlayer6', 'HGoalie', 'PlayersH']]\n",
    "d2011 = d2011[d2011['GameNumber'] <= 21230]"
   ]
  },
  {
   "cell_type": "code",
   "execution_count": 7,
   "metadata": {
    "collapsed": true
   },
   "outputs": [],
   "source": [
    "d2012 = pd.read_csv('/Users/stefanostselios/Brock University/Kevin Mongeon - StephanosShare/data/nhl_pbp20122013.csv')\n",
    "#d2012 = pd.read_csv('/Users/kevinmongeon/Brock University/Steve Tselios - StephanosShare/data/nhl_pbp20122013.csv')\n",
    "d2012 = d2012.drop('Unnamed: 0', axis=1)"
   ]
  },
  {
   "cell_type": "code",
   "execution_count": 8,
   "metadata": {
    "collapsed": true
   },
   "outputs": [],
   "source": [
    "d2012 = d2012.rename(columns={ 'Game_Id' : 'GameNumber', 'Event': 'EventType', 'Ev_Zone': 'EventZone', 'Time_Elapsed': 'Time', 'Ev_Team': 'EventTeamCode', 'Description': 'EventDetail', 'Away_Team': 'VTeamCode', 'Home_Team':'HTeamCode', 'p1_name': 'EventPlayer1','p2_name': 'EventPlayer2', 'p3_name': 'EventPlayer3', 'awayPlayer1': 'VPlayer1', 'awayPlayer2': 'VPlayer2', 'awayPlayer3': 'VPlayer3', 'awayPlayer4': 'VPlayer4', 'awayPlayer5': 'VPlayer5', 'awayPlayer6': 'VPlayer6', 'homePlayer1': 'HPlayer1', 'homePlayer2': 'HPlayer2', 'homePlayer3': 'HPlayer3','homePlayer4': 'HPlayer4', 'homePlayer5': 'HPlayer5','homePlayer6': 'HPlayer6', 'Away_Score': 'VGoals', 'Home_Score': 'HGoals', 'Away_Goalie': 'VGoalie', 'Home_Goalie': 'HGoalie', 'Away_Players': 'PlayersV', 'Home_Players': 'PlayersH' })\n",
    "d2012['Season'] = 2012\n",
    "d2012 = d2012[['Season', 'GameNumber', 'Date', 'Period', 'Time', 'Strength', 'EventType', 'EventDetail', 'EventTeamCode', 'EventPlayer1', 'EventPlayer2', 'EventPlayer3', 'VTeamCode', 'VPlayer1', 'VPlayer2', 'VPlayer3', 'VPlayer4', 'VPlayer5', 'VPlayer6', 'VGoalie', 'PlayersV', 'HTeamCode', 'HPlayer1', 'HPlayer2', 'HPlayer3', 'HPlayer4', 'HPlayer5', 'HPlayer6', 'HGoalie', 'PlayersH']]\n",
    "d2012 = d2012[d2012['GameNumber'] <= 20720]"
   ]
  },
  {
   "cell_type": "code",
   "execution_count": 9,
   "metadata": {
    "collapsed": true
   },
   "outputs": [],
   "source": [
    "d2013 = pd.read_csv('/Users/stefanostselios/Brock University/Kevin Mongeon - StephanosShare/data/nhl_pbp20132014.csv')\n",
    "#d2013 = pd.read_csv('/Users/kevinmongeon/Brock University/Steve Tselios - StephanosShare/data/nhl_pbp20132014.csv')\n",
    "d2013 = d2013.drop('Unnamed: 0', axis=1)"
   ]
  },
  {
   "cell_type": "code",
   "execution_count": 10,
   "metadata": {
    "collapsed": true
   },
   "outputs": [],
   "source": [
    "d2013 = d2013.rename(columns={ 'Game_Id' : 'GameNumber',  'Event': 'EventType', 'Ev_Zone': 'EventZone', 'Time_Elapsed': 'Time', 'Ev_Team': 'EventTeamCode', 'Description': 'EventDetail', 'Away_Team': 'VTeamCode', 'Home_Team':'HTeamCode', 'p1_name': 'EventPlayer1','p2_name': 'EventPlayer2', 'p3_name': 'EventPlayer3', 'awayPlayer1': 'VPlayer1', 'awayPlayer2': 'VPlayer2', 'awayPlayer3': 'VPlayer3', 'awayPlayer4': 'VPlayer4', 'awayPlayer5': 'VPlayer5', 'awayPlayer6': 'VPlayer6', 'homePlayer1': 'HPlayer1', 'homePlayer2': 'HPlayer2', 'homePlayer3': 'HPlayer3','homePlayer4': 'HPlayer4', 'homePlayer5': 'HPlayer5','homePlayer6': 'HPlayer6', 'Away_Score': 'VGoals', 'Home_Score': 'HGoals', 'Away_Goalie': 'VGoalie', 'Home_Goalie': 'HGoalie', 'Away_Players': 'PlayersV', 'Home_Players': 'PlayersH' })\n",
    "d2013['Season'] = 2013\n",
    "d2013 = d2013[['Season', 'GameNumber', 'Date', 'Period', 'Time', 'Strength', 'EventType', 'EventDetail', 'EventTeamCode', 'EventPlayer1', 'EventPlayer2', 'EventPlayer3', 'VTeamCode', 'VPlayer1', 'VPlayer2', 'VPlayer3', 'VPlayer4', 'VPlayer5', 'VPlayer6', 'VGoalie', 'PlayersV', 'HTeamCode', 'HPlayer1', 'HPlayer2', 'HPlayer3', 'HPlayer4', 'HPlayer5', 'HPlayer6', 'HGoalie', 'PlayersH']]\n",
    "d2013 = d2013[d2013['GameNumber'] <= 21230]"
   ]
  },
  {
   "cell_type": "code",
   "execution_count": 11,
   "metadata": {
    "collapsed": true
   },
   "outputs": [],
   "source": [
    "d2014 = pd.read_csv('/Users/stefanostselios/Brock University/Kevin Mongeon - StephanosShare/data/nhl_pbp20142015.csv')\n",
    "#d2014 = pd.read_csv('/Users/kevinmongeon/Brock University/Steve Tselios - StephanosShare/data/nhl_pbp20142015.csv')\n",
    "d2014 = d2014.drop('Unnamed: 0', axis=1)"
   ]
  },
  {
   "cell_type": "code",
   "execution_count": 12,
   "metadata": {
    "collapsed": true
   },
   "outputs": [],
   "source": [
    "d2014 = d2014.rename(columns={ 'Game_Id' : 'GameNumber',  'Event': 'EventType', 'Ev_Zone': 'EventZone', 'Time_Elapsed': 'Time', 'Ev_Team': 'EventTeamCode', 'Description': 'EventDetail', 'Away_Team': 'VTeamCode', 'Home_Team':'HTeamCode', 'p1_name': 'EventPlayer1','p2_name': 'EventPlayer2', 'p3_name': 'EventPlayer3', 'awayPlayer1': 'VPlayer1', 'awayPlayer2': 'VPlayer2', 'awayPlayer3': 'VPlayer3', 'awayPlayer4': 'VPlayer4', 'awayPlayer5': 'VPlayer5', 'awayPlayer6': 'VPlayer6', 'homePlayer1': 'HPlayer1', 'homePlayer2': 'HPlayer2', 'homePlayer3': 'HPlayer3','homePlayer4': 'HPlayer4', 'homePlayer5': 'HPlayer5','homePlayer6': 'HPlayer6', 'Away_Score': 'VGoals', 'Home_Score': 'HGoals', 'Away_Goalie': 'VGoalie', 'Home_Goalie': 'HGoalie', 'Away_Players': 'PlayersV', 'Home_Players': 'PlayersH' })\n",
    "d2014['Season'] = 2014\n",
    "d2014 = d2014[['Season', 'GameNumber', 'Date', 'Period', 'Time', 'Strength', 'EventType', 'EventDetail', 'EventTeamCode', 'EventPlayer1', 'EventPlayer2', 'EventPlayer3', 'VTeamCode', 'VPlayer1', 'VPlayer2', 'VPlayer3', 'VPlayer4', 'VPlayer5', 'VPlayer6', 'VGoalie', 'PlayersV', 'HTeamCode', 'HPlayer1', 'HPlayer2', 'HPlayer3', 'HPlayer4', 'HPlayer5', 'HPlayer6', 'HGoalie', 'PlayersH']]\n",
    "d2014 = d2014[d2014['GameNumber'] <= 21230]"
   ]
  },
  {
   "cell_type": "code",
   "execution_count": 13,
   "metadata": {
    "collapsed": true
   },
   "outputs": [],
   "source": [
    "d2015 = pd.read_csv('/Users/stefanostselios/Brock University/Kevin Mongeon - StephanosShare/data/nhl_pbp20152016.csv')\n",
    "#d2015 = pd.read_csv('/Users/kevinmongeon/Brock University/Steve Tselios - StephanosShare/data/nhl_pbp20152016.csv')\n",
    "d2015 = d2015.drop('Unnamed: 0', axis=1)"
   ]
  },
  {
   "cell_type": "code",
   "execution_count": 14,
   "metadata": {
    "collapsed": true
   },
   "outputs": [],
   "source": [
    "d2015 = d2015.rename(columns={ 'Game_Id' : 'GameNumber',  'Event': 'EventType', 'Ev_Zone': 'EventZone', 'Time_Elapsed': 'Time', 'Ev_Team': 'EventTeamCode', 'Description': 'EventDetail', 'Away_Team': 'VTeamCode', 'Home_Team':'HTeamCode', 'p1_name': 'EventPlayer1','p2_name': 'EventPlayer2', 'p3_name': 'EventPlayer3', 'awayPlayer1': 'VPlayer1', 'awayPlayer2': 'VPlayer2', 'awayPlayer3': 'VPlayer3', 'awayPlayer4': 'VPlayer4', 'awayPlayer5': 'VPlayer5', 'awayPlayer6': 'VPlayer6', 'homePlayer1': 'HPlayer1', 'homePlayer2': 'HPlayer2', 'homePlayer3': 'HPlayer3','homePlayer4': 'HPlayer4', 'homePlayer5': 'HPlayer5','homePlayer6': 'HPlayer6', 'Away_Score': 'VGoals', 'Home_Score': 'HGoals', 'Away_Goalie': 'VGoalie', 'Home_Goalie': 'HGoalie', 'Away_Players': 'PlayersV', 'Home_Players': 'PlayersH' })\n",
    "d2015['Season'] = 2015\n",
    "d2015 = d2015[['Season', 'GameNumber', 'Date', 'Period', 'Time', 'Strength', 'EventType', 'EventDetail', 'EventTeamCode', 'EventPlayer1', 'EventPlayer2', 'EventPlayer3', 'VTeamCode', 'VPlayer1', 'VPlayer2', 'VPlayer3', 'VPlayer4', 'VPlayer5', 'VPlayer6', 'VGoalie', 'PlayersV', 'HTeamCode', 'HPlayer1', 'HPlayer2', 'HPlayer3', 'HPlayer4', 'HPlayer5', 'HPlayer6', 'HGoalie', 'PlayersH']]\n",
    "d2015 = d2015[d2015['GameNumber'] <= 21230]"
   ]
  },
  {
   "cell_type": "code",
   "execution_count": 15,
   "metadata": {
    "collapsed": true
   },
   "outputs": [],
   "source": [
    "d2016 = pd.read_csv('/Users/stefanostselios/Brock University/Kevin Mongeon - StephanosShare/data/nhl_pbp20162017.csv')\n",
    "#d2016 = pd.read_csv('/Users/kevinmongeon/Brock University/Steve Tselios - StephanosShare/data/nhl_pbp20162017.csv')\n",
    "d2016 = d2016.drop('Unnamed: 0', axis=1)"
   ]
  },
  {
   "cell_type": "code",
   "execution_count": 16,
   "metadata": {
    "collapsed": true
   },
   "outputs": [],
   "source": [
    "d2016 = d2016.rename(columns={ 'Game_Id' : 'GameNumber', 'Event': 'EventType', 'Ev_Zone': 'EventZone', 'Time_Elapsed': 'Time', 'Ev_Team': 'EventTeamCode', 'Description': 'EventDetail', 'Away_Team': 'VTeamCode', 'Home_Team':'HTeamCode', 'p1_name': 'EventPlayer1','p2_name': 'EventPlayer2', 'p3_name': 'EventPlayer3', 'awayPlayer1': 'VPlayer1', 'awayPlayer2': 'VPlayer2', 'awayPlayer3': 'VPlayer3', 'awayPlayer4': 'VPlayer4', 'awayPlayer5': 'VPlayer5', 'awayPlayer6': 'VPlayer6', 'homePlayer1': 'HPlayer1', 'homePlayer2': 'HPlayer2', 'homePlayer3': 'HPlayer3','homePlayer4': 'HPlayer4', 'homePlayer5': 'HPlayer5','homePlayer6': 'HPlayer6', 'Away_Score': 'VGoals', 'Home_Score': 'HGoals', 'Away_Goalie': 'VGoalie', 'Home_Goalie': 'HGoalie', 'Away_Players': 'PlayersV', 'Home_Players': 'PlayersH' })\n",
    "d2016['Season'] = 2016\n",
    "d2016 = d2016[['Season', 'GameNumber', 'Date', 'Period', 'Time', 'Strength', 'EventType', 'EventDetail', 'EventTeamCode', 'EventPlayer1', 'EventPlayer2', 'EventPlayer3', 'VTeamCode', 'VPlayer1', 'VPlayer2', 'VPlayer3', 'VPlayer4', 'VPlayer5', 'VPlayer6', 'VGoalie', 'PlayersV', 'HTeamCode', 'HPlayer1', 'HPlayer2', 'HPlayer3', 'HPlayer4', 'HPlayer5', 'HPlayer6', 'HGoalie', 'PlayersH']]\n",
    "d2016 = d2016[d2016['GameNumber'] <= 21230]"
   ]
  },
  {
   "cell_type": "code",
   "execution_count": 17,
   "metadata": {
    "collapsed": true
   },
   "outputs": [],
   "source": [
    "d2017 = pd.read_csv('/Users/stefanostselios/Brock University/Kevin Mongeon - StephanosShare/data/nhl_pbp20172018.csv')\n",
    "#d2017 = pd.read_csv('/Users/kevinmongeon/Brock University/Steve Tselios - StephanosShare/data/nhl_pbp20172018.csv')\n",
    "d2017 = d2017.drop('Unnamed: 0', axis=1)"
   ]
  },
  {
   "cell_type": "code",
   "execution_count": 18,
   "metadata": {
    "collapsed": false
   },
   "outputs": [],
   "source": [
    "d2017 = d2017.rename(columns={ 'Game_Id' : 'GameNumber',  'Event': 'EventType', 'Ev_Zone': 'EventZone', 'Time_Elapsed': 'Time', 'Ev_Team': 'EventTeamCode', 'Description': 'EventDetail', 'Away_Team': 'VTeamCode', 'Home_Team':'HTeamCode', 'p1_name': 'EventPlayer1','p2_name': 'EventPlayer2', 'p3_name': 'EventPlayer3', 'awayPlayer1': 'VPlayer1', 'awayPlayer2': 'VPlayer2', 'awayPlayer3': 'VPlayer3', 'awayPlayer4': 'VPlayer4', 'awayPlayer5': 'VPlayer5', 'awayPlayer6': 'VPlayer6', 'homePlayer1': 'HPlayer1', 'homePlayer2': 'HPlayer2', 'homePlayer3': 'HPlayer3','homePlayer4': 'HPlayer4', 'homePlayer5': 'HPlayer5','homePlayer6': 'HPlayer6', 'Away_Score': 'VGoals', 'Home_Score': 'HGoals', 'Away_Goalie': 'VGoalie', 'Home_Goalie': 'HGoalie', 'Away_Players': 'PlayersV', 'Home_Players': 'PlayersH' })\n",
    "d2017['Season'] = 2017\n",
    "d2017 = d2017[['Season', 'GameNumber', 'Date', 'Period', 'Time', 'Strength', 'EventType', 'EventDetail', 'EventTeamCode', 'EventPlayer1', 'EventPlayer2', 'EventPlayer3', 'VTeamCode', 'VPlayer1', 'VPlayer2', 'VPlayer3', 'VPlayer4', 'VPlayer5', 'VPlayer6', 'VGoalie', 'PlayersV', 'HTeamCode', 'HPlayer1', 'HPlayer2', 'HPlayer3', 'HPlayer4', 'HPlayer5', 'HPlayer6', 'HGoalie', 'PlayersH']]\n",
    "d2017 = d2017[d2017['GameNumber'] <= 21271]"
   ]
  },
  {
   "cell_type": "markdown",
   "metadata": {},
   "source": [
    "### join 2010 - 2017 seasons"
   ]
  },
  {
   "cell_type": "code",
   "execution_count": 19,
   "metadata": {
    "collapsed": false
   },
   "outputs": [
    {
     "data": {
      "text/html": [
       "<div>\n",
       "<table border=\"1\" class=\"dataframe\">\n",
       "  <thead>\n",
       "    <tr style=\"text-align: right;\">\n",
       "      <th></th>\n",
       "      <th>Season</th>\n",
       "      <th>GameNumber</th>\n",
       "      <th>Date</th>\n",
       "      <th>Period</th>\n",
       "      <th>Time</th>\n",
       "      <th>Strength</th>\n",
       "      <th>EventType</th>\n",
       "      <th>EventDetail</th>\n",
       "      <th>EventTeamCode</th>\n",
       "      <th>EventPlayer1</th>\n",
       "      <th>EventPlayer2</th>\n",
       "      <th>EventPlayer3</th>\n",
       "      <th>VTeamCode</th>\n",
       "      <th>VPlayer1</th>\n",
       "      <th>VPlayer2</th>\n",
       "      <th>VPlayer3</th>\n",
       "      <th>VPlayer4</th>\n",
       "      <th>VPlayer5</th>\n",
       "      <th>VPlayer6</th>\n",
       "      <th>VGoalie</th>\n",
       "      <th>PlayersV</th>\n",
       "      <th>HTeamCode</th>\n",
       "      <th>HPlayer1</th>\n",
       "      <th>HPlayer2</th>\n",
       "      <th>HPlayer3</th>\n",
       "      <th>HPlayer4</th>\n",
       "      <th>HPlayer5</th>\n",
       "      <th>HPlayer6</th>\n",
       "      <th>HGoalie</th>\n",
       "      <th>PlayersH</th>\n",
       "    </tr>\n",
       "  </thead>\n",
       "  <tbody>\n",
       "    <tr>\n",
       "      <th>348</th>\n",
       "      <td>2010</td>\n",
       "      <td>20001</td>\n",
       "      <td>2010-10-07</td>\n",
       "      <td>1</td>\n",
       "      <td>0:00</td>\n",
       "      <td>5x5</td>\n",
       "      <td>PSTR</td>\n",
       "      <td>Period Start- Local time: 7:29 EDT</td>\n",
       "      <td>NaN</td>\n",
       "      <td>NaN</td>\n",
       "      <td>NaN</td>\n",
       "      <td>NaN</td>\n",
       "      <td>MTL</td>\n",
       "      <td>SCOTT GOMEZ</td>\n",
       "      <td>BRIAN GIONTA</td>\n",
       "      <td>BENOIT POULIOT</td>\n",
       "      <td>JOSH GORGES</td>\n",
       "      <td>HAL GILL</td>\n",
       "      <td>CAREY PRICE</td>\n",
       "      <td>CAREY PRICE</td>\n",
       "      <td>6</td>\n",
       "      <td>TOR</td>\n",
       "      <td>TIM BRENT</td>\n",
       "      <td>COLBY ARMSTRONG</td>\n",
       "      <td>FREDRIK SJOSTROM</td>\n",
       "      <td>DION PHANEUF</td>\n",
       "      <td>FRANCOIS BEAUCHEMIN</td>\n",
       "      <td>JEAN-SEBASTIEN GIGUERE</td>\n",
       "      <td>JEAN-SEBASTIEN GIGUERE</td>\n",
       "      <td>6</td>\n",
       "    </tr>\n",
       "    <tr>\n",
       "      <th>349</th>\n",
       "      <td>2010</td>\n",
       "      <td>20001</td>\n",
       "      <td>2010-10-07</td>\n",
       "      <td>1</td>\n",
       "      <td>0:00</td>\n",
       "      <td>5x5</td>\n",
       "      <td>FAC</td>\n",
       "      <td>MTL won Neu. Zone - MTL #11 GOMEZ vs TOR #37 B...</td>\n",
       "      <td>MTL</td>\n",
       "      <td>SCOTT GOMEZ</td>\n",
       "      <td>TIM BRENT</td>\n",
       "      <td>NaN</td>\n",
       "      <td>MTL</td>\n",
       "      <td>SCOTT GOMEZ</td>\n",
       "      <td>BRIAN GIONTA</td>\n",
       "      <td>BENOIT POULIOT</td>\n",
       "      <td>JOSH GORGES</td>\n",
       "      <td>HAL GILL</td>\n",
       "      <td>CAREY PRICE</td>\n",
       "      <td>CAREY PRICE</td>\n",
       "      <td>6</td>\n",
       "      <td>TOR</td>\n",
       "      <td>TIM BRENT</td>\n",
       "      <td>COLBY ARMSTRONG</td>\n",
       "      <td>FREDRIK SJOSTROM</td>\n",
       "      <td>DION PHANEUF</td>\n",
       "      <td>FRANCOIS BEAUCHEMIN</td>\n",
       "      <td>JEAN-SEBASTIEN GIGUERE</td>\n",
       "      <td>JEAN-SEBASTIEN GIGUERE</td>\n",
       "      <td>6</td>\n",
       "    </tr>\n",
       "    <tr>\n",
       "      <th>350</th>\n",
       "      <td>2010</td>\n",
       "      <td>20001</td>\n",
       "      <td>2010-10-07</td>\n",
       "      <td>1</td>\n",
       "      <td>0:15</td>\n",
       "      <td>5x5</td>\n",
       "      <td>HIT</td>\n",
       "      <td>TOR #37 BRENT HIT MTL #26 GORGES, Off. Zone</td>\n",
       "      <td>TOR</td>\n",
       "      <td>TIM BRENT</td>\n",
       "      <td>JOSH GORGES</td>\n",
       "      <td>NaN</td>\n",
       "      <td>MTL</td>\n",
       "      <td>SCOTT GOMEZ</td>\n",
       "      <td>BRIAN GIONTA</td>\n",
       "      <td>BENOIT POULIOT</td>\n",
       "      <td>JOSH GORGES</td>\n",
       "      <td>HAL GILL</td>\n",
       "      <td>CAREY PRICE</td>\n",
       "      <td>CAREY PRICE</td>\n",
       "      <td>6</td>\n",
       "      <td>TOR</td>\n",
       "      <td>TIM BRENT</td>\n",
       "      <td>COLBY ARMSTRONG</td>\n",
       "      <td>FREDRIK SJOSTROM</td>\n",
       "      <td>DION PHANEUF</td>\n",
       "      <td>FRANCOIS BEAUCHEMIN</td>\n",
       "      <td>JEAN-SEBASTIEN GIGUERE</td>\n",
       "      <td>JEAN-SEBASTIEN GIGUERE</td>\n",
       "      <td>6</td>\n",
       "    </tr>\n",
       "    <tr>\n",
       "      <th>351</th>\n",
       "      <td>2010</td>\n",
       "      <td>20001</td>\n",
       "      <td>2010-10-07</td>\n",
       "      <td>1</td>\n",
       "      <td>0:46</td>\n",
       "      <td>5x5</td>\n",
       "      <td>HIT</td>\n",
       "      <td>MTL #14 PLEKANEC HIT TOR #2 SCHENN, Off. Zone</td>\n",
       "      <td>MTL</td>\n",
       "      <td>TOMAS PLEKANEC</td>\n",
       "      <td>LUKE SCHENN</td>\n",
       "      <td>NaN</td>\n",
       "      <td>MTL</td>\n",
       "      <td>TOMAS PLEKANEC</td>\n",
       "      <td>LARS ELLER</td>\n",
       "      <td>ANDREI KOSTITSYN</td>\n",
       "      <td>JAROSLAV SPACEK</td>\n",
       "      <td>PK SUBBAN</td>\n",
       "      <td>CAREY PRICE</td>\n",
       "      <td>CAREY PRICE</td>\n",
       "      <td>6</td>\n",
       "      <td>TOR</td>\n",
       "      <td>TYLER BOZAK</td>\n",
       "      <td>PHIL KESSEL</td>\n",
       "      <td>KRIS VERSTEEG</td>\n",
       "      <td>LUKE SCHENN</td>\n",
       "      <td>TOMAS KABERLE</td>\n",
       "      <td>JEAN-SEBASTIEN GIGUERE</td>\n",
       "      <td>JEAN-SEBASTIEN GIGUERE</td>\n",
       "      <td>6</td>\n",
       "    </tr>\n",
       "    <tr>\n",
       "      <th>352</th>\n",
       "      <td>2010</td>\n",
       "      <td>20001</td>\n",
       "      <td>2010-10-07</td>\n",
       "      <td>1</td>\n",
       "      <td>0:57</td>\n",
       "      <td>5x5</td>\n",
       "      <td>HIT</td>\n",
       "      <td>MTL #76 SUBBAN HIT TOR #15 KABERLE, Neu. Zone</td>\n",
       "      <td>MTL</td>\n",
       "      <td>PK SUBBAN</td>\n",
       "      <td>TOMAS KABERLE</td>\n",
       "      <td>NaN</td>\n",
       "      <td>MTL</td>\n",
       "      <td>TOMAS PLEKANEC</td>\n",
       "      <td>LARS ELLER</td>\n",
       "      <td>ANDREI KOSTITSYN</td>\n",
       "      <td>JAROSLAV SPACEK</td>\n",
       "      <td>PK SUBBAN</td>\n",
       "      <td>CAREY PRICE</td>\n",
       "      <td>CAREY PRICE</td>\n",
       "      <td>6</td>\n",
       "      <td>TOR</td>\n",
       "      <td>TYLER BOZAK</td>\n",
       "      <td>PHIL KESSEL</td>\n",
       "      <td>KRIS VERSTEEG</td>\n",
       "      <td>LUKE SCHENN</td>\n",
       "      <td>TOMAS KABERLE</td>\n",
       "      <td>JEAN-SEBASTIEN GIGUERE</td>\n",
       "      <td>JEAN-SEBASTIEN GIGUERE</td>\n",
       "      <td>6</td>\n",
       "    </tr>\n",
       "  </tbody>\n",
       "</table>\n",
       "</div>"
      ],
      "text/plain": [
       "     Season  GameNumber        Date  Period  Time Strength EventType  \\\n",
       "348    2010       20001  2010-10-07       1  0:00      5x5      PSTR   \n",
       "349    2010       20001  2010-10-07       1  0:00      5x5       FAC   \n",
       "350    2010       20001  2010-10-07       1  0:15      5x5       HIT   \n",
       "351    2010       20001  2010-10-07       1  0:46      5x5       HIT   \n",
       "352    2010       20001  2010-10-07       1  0:57      5x5       HIT   \n",
       "\n",
       "                                           EventDetail EventTeamCode  \\\n",
       "348                 Period Start- Local time: 7:29 EDT           NaN   \n",
       "349  MTL won Neu. Zone - MTL #11 GOMEZ vs TOR #37 B...           MTL   \n",
       "350        TOR #37 BRENT HIT MTL #26 GORGES, Off. Zone           TOR   \n",
       "351      MTL #14 PLEKANEC HIT TOR #2 SCHENN, Off. Zone           MTL   \n",
       "352      MTL #76 SUBBAN HIT TOR #15 KABERLE, Neu. Zone           MTL   \n",
       "\n",
       "       EventPlayer1   EventPlayer2 EventPlayer3 VTeamCode        VPlayer1  \\\n",
       "348             NaN            NaN          NaN       MTL     SCOTT GOMEZ   \n",
       "349     SCOTT GOMEZ      TIM BRENT          NaN       MTL     SCOTT GOMEZ   \n",
       "350       TIM BRENT    JOSH GORGES          NaN       MTL     SCOTT GOMEZ   \n",
       "351  TOMAS PLEKANEC    LUKE SCHENN          NaN       MTL  TOMAS PLEKANEC   \n",
       "352       PK SUBBAN  TOMAS KABERLE          NaN       MTL  TOMAS PLEKANEC   \n",
       "\n",
       "         VPlayer2          VPlayer3         VPlayer4   VPlayer5     VPlayer6  \\\n",
       "348  BRIAN GIONTA    BENOIT POULIOT      JOSH GORGES   HAL GILL  CAREY PRICE   \n",
       "349  BRIAN GIONTA    BENOIT POULIOT      JOSH GORGES   HAL GILL  CAREY PRICE   \n",
       "350  BRIAN GIONTA    BENOIT POULIOT      JOSH GORGES   HAL GILL  CAREY PRICE   \n",
       "351    LARS ELLER  ANDREI KOSTITSYN  JAROSLAV SPACEK  PK SUBBAN  CAREY PRICE   \n",
       "352    LARS ELLER  ANDREI KOSTITSYN  JAROSLAV SPACEK  PK SUBBAN  CAREY PRICE   \n",
       "\n",
       "         VGoalie  PlayersV HTeamCode     HPlayer1         HPlayer2  \\\n",
       "348  CAREY PRICE         6       TOR    TIM BRENT  COLBY ARMSTRONG   \n",
       "349  CAREY PRICE         6       TOR    TIM BRENT  COLBY ARMSTRONG   \n",
       "350  CAREY PRICE         6       TOR    TIM BRENT  COLBY ARMSTRONG   \n",
       "351  CAREY PRICE         6       TOR  TYLER BOZAK      PHIL KESSEL   \n",
       "352  CAREY PRICE         6       TOR  TYLER BOZAK      PHIL KESSEL   \n",
       "\n",
       "             HPlayer3      HPlayer4             HPlayer5  \\\n",
       "348  FREDRIK SJOSTROM  DION PHANEUF  FRANCOIS BEAUCHEMIN   \n",
       "349  FREDRIK SJOSTROM  DION PHANEUF  FRANCOIS BEAUCHEMIN   \n",
       "350  FREDRIK SJOSTROM  DION PHANEUF  FRANCOIS BEAUCHEMIN   \n",
       "351     KRIS VERSTEEG   LUKE SCHENN        TOMAS KABERLE   \n",
       "352     KRIS VERSTEEG   LUKE SCHENN        TOMAS KABERLE   \n",
       "\n",
       "                   HPlayer6                 HGoalie  PlayersH  \n",
       "348  JEAN-SEBASTIEN GIGUERE  JEAN-SEBASTIEN GIGUERE         6  \n",
       "349  JEAN-SEBASTIEN GIGUERE  JEAN-SEBASTIEN GIGUERE         6  \n",
       "350  JEAN-SEBASTIEN GIGUERE  JEAN-SEBASTIEN GIGUERE         6  \n",
       "351  JEAN-SEBASTIEN GIGUERE  JEAN-SEBASTIEN GIGUERE         6  \n",
       "352  JEAN-SEBASTIEN GIGUERE  JEAN-SEBASTIEN GIGUERE         6  "
      ]
     },
     "execution_count": 19,
     "metadata": {},
     "output_type": "execute_result"
    }
   ],
   "source": [
    "dataframes = [d2010, d2011, d2012, d2013, d2014, d2015, d2016, d2017]\n",
    "dm = pd.concat(dataframes)\n",
    "dm = dm[['Season', 'GameNumber', 'Date', 'Period', 'Time', 'Strength', 'EventType', 'EventDetail', 'EventTeamCode', 'EventPlayer1', 'EventPlayer2', 'EventPlayer3', 'VTeamCode', 'VPlayer1', 'VPlayer2', 'VPlayer3', 'VPlayer4', 'VPlayer5', 'VPlayer6', 'VGoalie', 'PlayersV', 'HTeamCode', 'HPlayer1', 'HPlayer2', 'HPlayer3', 'HPlayer4', 'HPlayer5', 'HPlayer6', 'HGoalie', 'PlayersH']]\n",
    "dm = dm.sort_values(['Season', 'GameNumber'], ascending=[True, True])\n",
    "dm.head()"
   ]
  },
  {
   "cell_type": "code",
   "execution_count": 20,
   "metadata": {
    "collapsed": false
   },
   "outputs": [
    {
     "data": {
      "text/plain": [
       "(2927212, 30)"
      ]
     },
     "execution_count": 20,
     "metadata": {},
     "output_type": "execute_result"
    }
   ],
   "source": [
    "dm.shape"
   ]
  },
  {
   "cell_type": "code",
   "execution_count": 21,
   "metadata": {
    "collapsed": true
   },
   "outputs": [],
   "source": [
    "dm.to_csv('/Users/stefanostselios/Brock University/Kevin Mongeon - StephanosShare/out/data/2010_2017_pbp.csv')\n",
    "#dm.to_csv('/Users/kevinmongeon/Brock University/Steve Tselios - StephanosShare/out/data/2011_2017_pbp.csv')"
   ]
  },
  {
   "cell_type": "markdown",
   "metadata": {},
   "source": [
    "### import player positions per season"
   ]
  },
  {
   "cell_type": "code",
   "execution_count": 22,
   "metadata": {
    "collapsed": true
   },
   "outputs": [],
   "source": [
    "p2010 = pd.read_csv('/Users/stefanostselios/Brock University/Kevin Mongeon - StephanosShare/out/stats/2010_player_stats.csv')\n",
    "#p2010 = pd.read_csv('/Users/kevinmongeon/Brock University/Steve Tselios - StephanosShare/out/stats/2010_player_stats.csv')\n",
    "p2010 = p2010.drop('Unnamed: 0', axis=1)"
   ]
  },
  {
   "cell_type": "code",
   "execution_count": 23,
   "metadata": {
    "collapsed": true
   },
   "outputs": [],
   "source": [
    "p2011 = pd.read_csv('/Users/stefanostselios/Brock University/Kevin Mongeon - StephanosShare/out/stats/2011_player_stats.csv')\n",
    "#p2011 = pd.read_csv('/Users/kevinmongeon/Brock University/Steve Tselios - StephanosShare/out/stats/2011_player_stats.csv')\n",
    "p2011 = p2011.drop('Unnamed: 0', axis=1)"
   ]
  },
  {
   "cell_type": "code",
   "execution_count": 24,
   "metadata": {
    "collapsed": true
   },
   "outputs": [],
   "source": [
    "p2012 = pd.read_csv('/Users/stefanostselios/Brock University/Kevin Mongeon - StephanosShare/out/stats/2012_player_stats.csv')\n",
    "#p2012 = pd.read_csv('/Users/kevinmongeon/Brock University/Steve Tselios - StephanosShare/stats/2012_player_stats_rank.csv')\n",
    "p2012 = p2012.drop('Unnamed: 0', axis=1)"
   ]
  },
  {
   "cell_type": "code",
   "execution_count": 25,
   "metadata": {
    "collapsed": true
   },
   "outputs": [],
   "source": [
    "p2013 = pd.read_csv('/Users/stefanostselios/Brock University/Kevin Mongeon - StephanosShare/out/stats/2013_player_stats.csv')\n",
    "#p2013 = pd.read_csv('/Users/kevinmongeon/Brock University/Steve Tselios - StephanosShare/out/stats/2013_player_stats.csv')\n",
    "p2013 = p2013.drop('Unnamed: 0', axis=1)"
   ]
  },
  {
   "cell_type": "code",
   "execution_count": 26,
   "metadata": {
    "collapsed": false
   },
   "outputs": [],
   "source": [
    "p2014 = pd.read_csv('/Users/stefanostselios/Brock University/Kevin Mongeon - StephanosShare/out/stats/2014_player_stats.csv')\n",
    "#p2014 = pd.read_csv('/Users/kevinmongeon/Brock University/Steve Tselios - StephanosShare/out/stats/2014_player_stats.csv')\n",
    "p2014 = p2014.drop('Unnamed: 0', axis=1)"
   ]
  },
  {
   "cell_type": "code",
   "execution_count": 27,
   "metadata": {
    "collapsed": true
   },
   "outputs": [],
   "source": [
    "p2015 = pd.read_csv('/Users/stefanostselios/Brock University/Kevin Mongeon - StephanosShare/out/stats/2015_player_stats.csv')\n",
    "#p2015 = pd.read_csv('/Users/kevinmongeon/Brock University/Steve Tselios - StephanosShare/out/stats/2015_player_stats.csv')\n",
    "p2015 = p2015.drop('Unnamed: 0', axis=1)"
   ]
  },
  {
   "cell_type": "code",
   "execution_count": 28,
   "metadata": {
    "collapsed": true
   },
   "outputs": [],
   "source": [
    "p2016 = pd.read_csv('/Users/stefanostselios/Brock University/Kevin Mongeon - StephanosShare/out/stats/2016_player_stats.csv')\n",
    "#p2016 = pd.read_csv('/Users/kevinmongeon/Brock University/Steve Tselios - StephanosShare/out/stats/2016_player_stats.csv')\n",
    "p2016 = p2016.drop('Unnamed: 0', axis=1)"
   ]
  },
  {
   "cell_type": "code",
   "execution_count": 29,
   "metadata": {
    "collapsed": true
   },
   "outputs": [],
   "source": [
    "p2017 = pd.read_csv('/Users/stefanostselios/Brock University/Kevin Mongeon - StephanosShare/out/stats/2017_player_stats.csv')\n",
    "#p2017 = pd.read_csv('/Users/kevinmongeon/Brock University/Steve Tselios - StephanosShare/out/stats/2017_player_stats.csv')\n",
    "p2017 = p2017.drop('Unnamed: 0', axis=1)"
   ]
  },
  {
   "cell_type": "markdown",
   "metadata": {},
   "source": [
    "### join 2010 - 2017 player positions"
   ]
  },
  {
   "cell_type": "code",
   "execution_count": 30,
   "metadata": {
    "collapsed": false
   },
   "outputs": [
    {
     "data": {
      "text/html": [
       "<div>\n",
       "<table border=\"1\" class=\"dataframe\">\n",
       "  <thead>\n",
       "    <tr style=\"text-align: right;\">\n",
       "      <th></th>\n",
       "      <th>Season</th>\n",
       "      <th>TeamCode</th>\n",
       "      <th>PlayerName</th>\n",
       "      <th>Position</th>\n",
       "    </tr>\n",
       "  </thead>\n",
       "  <tbody>\n",
       "    <tr>\n",
       "      <th>0</th>\n",
       "      <td>2010</td>\n",
       "      <td>MTL</td>\n",
       "      <td>SCOTT GOMEZ</td>\n",
       "      <td>C</td>\n",
       "    </tr>\n",
       "    <tr>\n",
       "      <th>697</th>\n",
       "      <td>2010</td>\n",
       "      <td>BUF</td>\n",
       "      <td>LUKE ADAM</td>\n",
       "      <td>W</td>\n",
       "    </tr>\n",
       "    <tr>\n",
       "      <th>698</th>\n",
       "      <td>2010</td>\n",
       "      <td>ATL</td>\n",
       "      <td>NOAH WELCH</td>\n",
       "      <td>D</td>\n",
       "    </tr>\n",
       "    <tr>\n",
       "      <th>699</th>\n",
       "      <td>2010</td>\n",
       "      <td>NYI</td>\n",
       "      <td>MATT MARTIN</td>\n",
       "      <td>W</td>\n",
       "    </tr>\n",
       "    <tr>\n",
       "      <th>700</th>\n",
       "      <td>2010</td>\n",
       "      <td>PIT</td>\n",
       "      <td>ARRON ASHAM</td>\n",
       "      <td>W</td>\n",
       "    </tr>\n",
       "  </tbody>\n",
       "</table>\n",
       "</div>"
      ],
      "text/plain": [
       "     Season TeamCode   PlayerName Position\n",
       "0      2010      MTL  SCOTT GOMEZ        C\n",
       "697    2010      BUF    LUKE ADAM        W\n",
       "698    2010      ATL   NOAH WELCH        D\n",
       "699    2010      NYI  MATT MARTIN        W\n",
       "700    2010      PIT  ARRON ASHAM        W"
      ]
     },
     "execution_count": 30,
     "metadata": {},
     "output_type": "execute_result"
    }
   ],
   "source": [
    "db = [p2010, p2011, p2012, p2013, p2014, p2015, p2016, p2017]\n",
    "dp = pd.concat(db)\n",
    "dp = dp[['Season', 'TeamCode', 'PlayerName', 'Position']]\n",
    "dp = dp.sort_values(['Season'], ascending=[True])\n",
    "dp.head()"
   ]
  },
  {
   "cell_type": "code",
   "execution_count": 31,
   "metadata": {
    "collapsed": false
   },
   "outputs": [
    {
     "data": {
      "text/plain": [
       "Season        0\n",
       "TeamCode      0\n",
       "PlayerName    0\n",
       "Position      0\n",
       "dtype: int64"
      ]
     },
     "execution_count": 31,
     "metadata": {},
     "output_type": "execute_result"
    }
   ],
   "source": [
    "dp.isnull().sum()"
   ]
  },
  {
   "cell_type": "code",
   "execution_count": 32,
   "metadata": {
    "collapsed": true
   },
   "outputs": [],
   "source": [
    "dp.to_csv('/Users/stefanostselios/Brock University/Kevin Mongeon - StephanosShare/out/data/2010_2017_player_position.csv')\n",
    "#dp.to_csv('/Users/kevinmongeon/Brock University/Steve Tselios - StephanosShare/out/data/2011_2017_player_position.csv')"
   ]
  },
  {
   "cell_type": "markdown",
   "metadata": {},
   "source": [
    "### import player rankings per season"
   ]
  },
  {
   "cell_type": "markdown",
   "metadata": {},
   "source": [
    "- a new dataframe will be created by joining the rankings of all nhl players for 2011-2017 season."
   ]
  },
  {
   "cell_type": "code",
   "execution_count": 33,
   "metadata": {
    "collapsed": true
   },
   "outputs": [],
   "source": [
    "r2010 = pd.read_csv('/Users/stefanostselios/Brock University/Kevin Mongeon - StephanosShare/out/clusters/2010_player_rank.csv')\n",
    "#r2011 = pd.read_csv('/Users/kevinmongeon/Brock University/Steve Tselios - StephanosShare/out/clusters/2010_player_rank.csv')\n",
    "r2010 = r2010.drop('Unnamed: 0', axis=1)"
   ]
  },
  {
   "cell_type": "code",
   "execution_count": 34,
   "metadata": {
    "collapsed": true
   },
   "outputs": [],
   "source": [
    "r2011 = pd.read_csv('/Users/stefanostselios/Brock University/Kevin Mongeon - StephanosShare/out/clusters/2011_player_rank.csv')\n",
    "#r2011 = pd.read_csv('/Users/kevinmongeon/Brock University/Steve Tselios - StephanosShare/out/clusters/2011_player_rank.csv')\n",
    "r2011 = r2011.drop('Unnamed: 0', axis=1)"
   ]
  },
  {
   "cell_type": "code",
   "execution_count": 35,
   "metadata": {
    "collapsed": true
   },
   "outputs": [],
   "source": [
    "r2012 = pd.read_csv('/Users/stefanostselios/Brock University/Kevin Mongeon - StephanosShare/out/clusters/2012_player_rank.csv')\n",
    "#r2012 = pd.read_csv('/Users/kevinmongeon/Brock University/Steve Tselios - StephanosShare/out/clusters/2012_player_rank.csv')\n",
    "r2012 = r2012.drop('Unnamed: 0', axis=1)"
   ]
  },
  {
   "cell_type": "code",
   "execution_count": 36,
   "metadata": {
    "collapsed": false
   },
   "outputs": [],
   "source": [
    "r2013 = pd.read_csv('/Users/stefanostselios/Brock University/Kevin Mongeon - StephanosShare/out/clusters/2013_player_rank.csv')\n",
    "#r2013 = pd.read_csv('/Users/kevinmongeon/Brock University/Steve Tselios - StephanosShare/out/clusters/2013_player_rank.csv')\n",
    "r2013 = r2013.drop('Unnamed: 0', axis=1)"
   ]
  },
  {
   "cell_type": "code",
   "execution_count": 37,
   "metadata": {
    "collapsed": true
   },
   "outputs": [],
   "source": [
    "r2014 = pd.read_csv('/Users/stefanostselios/Brock University/Kevin Mongeon - StephanosShare/out/clusters/2014_player_rank.csv')\n",
    "#r2014 = pd.read_csv('/Users/kevinmongeon/Brock University/Steve Tselios - StephanosShare/out/clusters/2014_player_rank.csv')\n",
    "r2014 = r2014.drop('Unnamed: 0', axis=1)"
   ]
  },
  {
   "cell_type": "code",
   "execution_count": 38,
   "metadata": {
    "collapsed": true
   },
   "outputs": [],
   "source": [
    "r2015 = pd.read_csv('/Users/stefanostselios/Brock University/Kevin Mongeon - StephanosShare/out/clusters/2015_player_rank.csv')\n",
    "#r2015 = pd.read_csv('/Users/kevinmongeon/Brock University/Steve Tselios - StephanosShare/out/clusters/2015_player_rank.csv')\n",
    "r2015 = r2015.drop('Unnamed: 0', axis=1)"
   ]
  },
  {
   "cell_type": "code",
   "execution_count": 39,
   "metadata": {
    "collapsed": true
   },
   "outputs": [],
   "source": [
    "r2016 = pd.read_csv('/Users/stefanostselios/Brock University/Kevin Mongeon - StephanosShare/out/clusters/2016_player_rank.csv')\n",
    "#r2016 = pd.read_csv('/Users/kevinmongeon/Brock University/Steve Tselios - StephanosShare/out/clusters/2016_player_rank.csv')\n",
    "r2016 = r2016.drop('Unnamed: 0', axis=1)"
   ]
  },
  {
   "cell_type": "code",
   "execution_count": 40,
   "metadata": {
    "collapsed": true
   },
   "outputs": [],
   "source": [
    "r2017 = pd.read_csv('/Users/stefanostselios/Brock University/Kevin Mongeon - StephanosShare/out/clusters/2017_player_rank.csv')\n",
    "#r2017 = pd.read_csv('/Users/kevinmongeon/Brock University/Steve Tselios - StephanosShare/out/clusters/2017_player_rank.csv')\n",
    "r2017 = r2017.drop('Unnamed: 0', axis=1)"
   ]
  },
  {
   "cell_type": "markdown",
   "metadata": {},
   "source": [
    "### join 2010 - 2017 player rankings"
   ]
  },
  {
   "cell_type": "code",
   "execution_count": 41,
   "metadata": {
    "collapsed": false
   },
   "outputs": [
    {
     "data": {
      "text/html": [
       "<div>\n",
       "<table border=\"1\" class=\"dataframe\">\n",
       "  <thead>\n",
       "    <tr style=\"text-align: right;\">\n",
       "      <th></th>\n",
       "      <th>Season</th>\n",
       "      <th>TeamCode</th>\n",
       "      <th>PlayerName</th>\n",
       "      <th>Position</th>\n",
       "      <th>Rank</th>\n",
       "    </tr>\n",
       "  </thead>\n",
       "  <tbody>\n",
       "    <tr>\n",
       "      <th>0</th>\n",
       "      <td>2010</td>\n",
       "      <td>VAN</td>\n",
       "      <td>HENRIK SEDIN</td>\n",
       "      <td>C</td>\n",
       "      <td>1</td>\n",
       "    </tr>\n",
       "    <tr>\n",
       "      <th>540</th>\n",
       "      <td>2010</td>\n",
       "      <td>WSH</td>\n",
       "      <td>ALEX OVECHKIN</td>\n",
       "      <td>W</td>\n",
       "      <td>1</td>\n",
       "    </tr>\n",
       "    <tr>\n",
       "      <th>541</th>\n",
       "      <td>2010</td>\n",
       "      <td>ANA</td>\n",
       "      <td>TEEMU SELANNE</td>\n",
       "      <td>W</td>\n",
       "      <td>1</td>\n",
       "    </tr>\n",
       "    <tr>\n",
       "      <th>542</th>\n",
       "      <td>2010</td>\n",
       "      <td>DET</td>\n",
       "      <td>HENRIK ZETTERBERG</td>\n",
       "      <td>W</td>\n",
       "      <td>1</td>\n",
       "    </tr>\n",
       "    <tr>\n",
       "      <th>543</th>\n",
       "      <td>2010</td>\n",
       "      <td>PHI</td>\n",
       "      <td>CLAUDE GIROUX</td>\n",
       "      <td>W</td>\n",
       "      <td>1</td>\n",
       "    </tr>\n",
       "  </tbody>\n",
       "</table>\n",
       "</div>"
      ],
      "text/plain": [
       "     Season TeamCode         PlayerName Position  Rank\n",
       "0      2010      VAN       HENRIK SEDIN        C     1\n",
       "540    2010      WSH      ALEX OVECHKIN        W     1\n",
       "541    2010      ANA      TEEMU SELANNE        W     1\n",
       "542    2010      DET  HENRIK ZETTERBERG        W     1\n",
       "543    2010      PHI      CLAUDE GIROUX        W     1"
      ]
     },
     "execution_count": 41,
     "metadata": {},
     "output_type": "execute_result"
    }
   ],
   "source": [
    "dc = [r2010, r2011, r2012, r2013, r2014, r2015, r2016, r2017]\n",
    "dr = pd.concat(dc)\n",
    "dr = dr[['Season', 'TeamCode', 'PlayerName', 'Position', 'Rank']]\n",
    "dr = dr.sort_values(['Season'], ascending=[True])\n",
    "dr.head()"
   ]
  },
  {
   "cell_type": "code",
   "execution_count": 42,
   "metadata": {
    "collapsed": false
   },
   "outputs": [
    {
     "data": {
      "text/plain": [
       "Season        0\n",
       "TeamCode      0\n",
       "PlayerName    0\n",
       "Position      0\n",
       "Rank          0\n",
       "dtype: int64"
      ]
     },
     "execution_count": 42,
     "metadata": {},
     "output_type": "execute_result"
    }
   ],
   "source": [
    "dr.isnull().sum()"
   ]
  },
  {
   "cell_type": "code",
   "execution_count": 43,
   "metadata": {
    "collapsed": true
   },
   "outputs": [],
   "source": [
    "dr.to_csv('/Users/stefanostselios/Brock University/Kevin Mongeon - StephanosShare/out/data/2010_2017_player_rank.csv')\n",
    "#dr.to_csv('/Users/kevinmongeon/Brock University/Steve Tselios - StephanosShare/out/data/2010_2017_player_rank.csv')"
   ]
  },
  {
   "cell_type": "code",
   "execution_count": null,
   "metadata": {
    "collapsed": true
   },
   "outputs": [],
   "source": []
  }
 ],
 "metadata": {
  "kernelspec": {
   "display_name": "Python 3",
   "language": "python",
   "name": "python3"
  },
  "language_info": {
   "codemirror_mode": {
    "name": "ipython",
    "version": 3
   },
   "file_extension": ".py",
   "mimetype": "text/x-python",
   "name": "python",
   "nbconvert_exporter": "python",
   "pygments_lexer": "ipython3",
   "version": "3.6.0"
  }
 },
 "nbformat": 4,
 "nbformat_minor": 2
}
