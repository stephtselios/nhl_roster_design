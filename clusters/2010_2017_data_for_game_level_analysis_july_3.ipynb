{
 "cells": [
  {
   "cell_type": "code",
   "execution_count": 54,
   "metadata": {
    "collapsed": true
   },
   "outputs": [],
   "source": [
    "import sys\n",
    "import os\n",
    "import pandas as pd\n",
    "import numpy as np\n",
    "import datetime, time\n",
    "import matplotlib.pyplot as plt\n",
    "import statsmodels.api as sm\n",
    "import statsmodels.formula.api as smf\n",
    "import patsy\n",
    "from statsmodels.formula.api import ols\n",
    "from statsmodels.iolib.summary2 import summary_col\n",
    "from pylab import hist, show\n",
    "import scipy\n",
    "import zipfile\n",
    "\n",
    "\n",
    "pd.set_option('display.max_rows', 50)\n",
    "pd.set_option('display.max_columns', 200)"
   ]
  },
  {
   "cell_type": "markdown",
   "metadata": {},
   "source": [
    "### import play by play data set"
   ]
  },
  {
   "cell_type": "code",
   "execution_count": 55,
   "metadata": {
    "collapsed": false
   },
   "outputs": [],
   "source": [
    "da = pd.read_csv('/Users/stefanostselios/Brock University/Kevin Mongeon - StephanosShare/out/data/2010_2017_pbp.csv')\n",
    "#da.pd.read_csv('/Users/kevinmongeon/Brock University/Steve Tselios - StephanosShare/out/data/2010_2017_pbp.csv')\n",
    "da = da.drop('Unnamed: 0', axis=1)"
   ]
  },
  {
   "cell_type": "markdown",
   "metadata": {},
   "source": [
    "- exclude irrelevant on-ice events"
   ]
  },
  {
   "cell_type": "code",
   "execution_count": 56,
   "metadata": {
    "collapsed": false
   },
   "outputs": [],
   "source": [
    "da = da[da['EventType']!='STOP']\n",
    "da = da[da['EventType']!='EISTR']\n",
    "da = da[da['EventType']!='EIEND']\n",
    "da = da[da['EventType']!='PSTR']\n",
    "da = da[da['EventType']!='PEND']\n",
    "da = da[da['EventType']!='SOC']\n",
    "da = da[da['EventType']!='GEND']"
   ]
  },
  {
   "cell_type": "markdown",
   "metadata": {},
   "source": [
    "- create an event number variable that will count the number of events per game. \n",
    "- create an advantage type variable for even strength, power play and short handed situations."
   ]
  },
  {
   "cell_type": "code",
   "execution_count": 57,
   "metadata": {
    "collapsed": true
   },
   "outputs": [],
   "source": [
    "da['EventNumber'] = da.groupby(['Season', 'GameNumber']).cumcount()+1"
   ]
  },
  {
   "cell_type": "code",
   "execution_count": 58,
   "metadata": {
    "collapsed": true
   },
   "outputs": [],
   "source": [
    "da['AdvantageType'] = da.apply(lambda x: 'EV' if ((x['PlayersV'] == x['PlayersH']) & (x['PlayersV'] != 1) & (x['PlayersH'] != 1)) else 'PP' if ((x['PlayersV'] > x['PlayersH']) & (x['EventTeamCode'] == x['VTeamCode'])) else 'PP' if ((x['PlayersV'] < x['PlayersH']) & (x['EventTeamCode'] == x['HTeamCode'])) else 'SH' if ((x['PlayersV'] < x['PlayersH']) & (x['EventTeamCode'] == x['VTeamCode'])) else 'SH' if ((x['PlayersV'] > x['PlayersH']) & (x['EventTeamCode'] == x['HTeamCode'])) else 'PP' if ((x['PlayersV'] == 1 ) & (x['PlayersH'] == 1)) else np.nan, axis=1)\n"
   ]
  },
  {
   "cell_type": "markdown",
   "metadata": {},
   "source": [
    "- display goals for each game and drop duplicates."
   ]
  },
  {
   "cell_type": "code",
   "execution_count": 59,
   "metadata": {
    "collapsed": false
   },
   "outputs": [],
   "source": [
    "dg = da.copy()\n",
    "dg = dg[dg['EventType'] == 'GOAL']\n",
    "dg['hgoal'] = dg.apply(lambda x: 1 if x['EventTeamCode'] == x['HTeamCode'] else 0, axis=1)\n",
    "dg['vgoal'] = dg.apply(lambda x: 1 if x['EventTeamCode'] == x['VTeamCode'] else 0, axis=1)\n",
    "dg['HGF'] = dg.groupby(['Season', 'GameNumber', 'HTeamCode'])['hgoal'].transform('sum')\n",
    "dg['VGF'] = dg.groupby(['Season', 'GameNumber', 'VTeamCode'])['vgoal'].transform('sum')\n",
    "dg = dg.drop_duplicates(['Season', 'GameNumber'])\n",
    "dg = dg[['Season', 'GameNumber', 'VTeamCode', 'HTeamCode', 'VGF', 'HGF']]"
   ]
  },
  {
   "cell_type": "markdown",
   "metadata": {},
   "source": [
    "- find the goal differential per game with respect to home team."
   ]
  },
  {
   "cell_type": "code",
   "execution_count": 60,
   "metadata": {
    "collapsed": true
   },
   "outputs": [],
   "source": [
    "dg['GD'] = dg['HGF'] - dg['VGF']\n",
    "dg['WinTeam'] = dg.apply(lambda x: x['HTeamCode'] if x['GD'] > 0 else x['VTeamCode'], axis=1)\n",
    "dg['LossTeam'] = dg.apply(lambda x: x['HTeamCode'] if x['WinTeam'] != x['HTeamCode'] else x['VTeamCode'], axis=1)"
   ]
  },
  {
   "cell_type": "markdown",
   "metadata": {},
   "source": [
    "- display goals againest per team."
   ]
  },
  {
   "cell_type": "code",
   "execution_count": 61,
   "metadata": {
    "collapsed": true
   },
   "outputs": [],
   "source": [
    "dg['VGA'] = dg['HGF']\n",
    "dg['HGA'] = dg['VGF']"
   ]
  },
  {
   "cell_type": "code",
   "execution_count": 62,
   "metadata": {
    "collapsed": false
   },
   "outputs": [
    {
     "data": {
      "text/html": [
       "<div>\n",
       "<table border=\"1\" class=\"dataframe\">\n",
       "  <thead>\n",
       "    <tr style=\"text-align: right;\">\n",
       "      <th></th>\n",
       "      <th>Season</th>\n",
       "      <th>GameNumber</th>\n",
       "      <th>VTeamCode</th>\n",
       "      <th>HTeamCode</th>\n",
       "      <th>VGF</th>\n",
       "      <th>HGF</th>\n",
       "      <th>GD</th>\n",
       "      <th>WinTeam</th>\n",
       "      <th>LossTeam</th>\n",
       "      <th>VGA</th>\n",
       "      <th>HGA</th>\n",
       "    </tr>\n",
       "  </thead>\n",
       "  <tbody>\n",
       "    <tr>\n",
       "      <th>34</th>\n",
       "      <td>2010</td>\n",
       "      <td>20001</td>\n",
       "      <td>MTL</td>\n",
       "      <td>TOR</td>\n",
       "      <td>2</td>\n",
       "      <td>3</td>\n",
       "      <td>1</td>\n",
       "      <td>TOR</td>\n",
       "      <td>MTL</td>\n",
       "      <td>3</td>\n",
       "      <td>2</td>\n",
       "    </tr>\n",
       "    <tr>\n",
       "      <th>254870</th>\n",
       "      <td>2010</td>\n",
       "      <td>20825</td>\n",
       "      <td>NYR</td>\n",
       "      <td>ATL</td>\n",
       "      <td>2</td>\n",
       "      <td>3</td>\n",
       "      <td>1</td>\n",
       "      <td>ATL</td>\n",
       "      <td>NYR</td>\n",
       "      <td>3</td>\n",
       "      <td>2</td>\n",
       "    </tr>\n",
       "    <tr>\n",
       "      <th>254594</th>\n",
       "      <td>2010</td>\n",
       "      <td>20824</td>\n",
       "      <td>COL</td>\n",
       "      <td>CBJ</td>\n",
       "      <td>1</td>\n",
       "      <td>3</td>\n",
       "      <td>2</td>\n",
       "      <td>CBJ</td>\n",
       "      <td>COL</td>\n",
       "      <td>3</td>\n",
       "      <td>1</td>\n",
       "    </tr>\n",
       "    <tr>\n",
       "      <th>254186</th>\n",
       "      <td>2010</td>\n",
       "      <td>20823</td>\n",
       "      <td>PIT</td>\n",
       "      <td>NYI</td>\n",
       "      <td>3</td>\n",
       "      <td>9</td>\n",
       "      <td>6</td>\n",
       "      <td>NYI</td>\n",
       "      <td>PIT</td>\n",
       "      <td>9</td>\n",
       "      <td>3</td>\n",
       "    </tr>\n",
       "    <tr>\n",
       "      <th>254069</th>\n",
       "      <td>2010</td>\n",
       "      <td>20822</td>\n",
       "      <td>S.J</td>\n",
       "      <td>N.J</td>\n",
       "      <td>1</td>\n",
       "      <td>2</td>\n",
       "      <td>1</td>\n",
       "      <td>N.J</td>\n",
       "      <td>S.J</td>\n",
       "      <td>2</td>\n",
       "      <td>1</td>\n",
       "    </tr>\n",
       "  </tbody>\n",
       "</table>\n",
       "</div>"
      ],
      "text/plain": [
       "        Season  GameNumber VTeamCode HTeamCode  VGF  HGF  GD WinTeam LossTeam  \\\n",
       "34        2010       20001       MTL       TOR    2    3   1     TOR      MTL   \n",
       "254870    2010       20825       NYR       ATL    2    3   1     ATL      NYR   \n",
       "254594    2010       20824       COL       CBJ    1    3   2     CBJ      COL   \n",
       "254186    2010       20823       PIT       NYI    3    9   6     NYI      PIT   \n",
       "254069    2010       20822       S.J       N.J    1    2   1     N.J      S.J   \n",
       "\n",
       "        VGA  HGA  \n",
       "34        3    2  \n",
       "254870    3    2  \n",
       "254594    3    1  \n",
       "254186    9    3  \n",
       "254069    2    1  "
      ]
     },
     "execution_count": 62,
     "metadata": {},
     "output_type": "execute_result"
    }
   ],
   "source": [
    "dg = dg.sort_values(['Season'], ascending=[True])\n",
    "dg.head()"
   ]
  },
  {
   "cell_type": "code",
   "execution_count": 63,
   "metadata": {
    "collapsed": true
   },
   "outputs": [],
   "source": [
    "dg.to_csv('/Users/stefanostselios/Brock University/Kevin Mongeon - StephanosShare/out/data/2010_2017_season_game_data.csv', index='False', sep=',')\n",
    "#dg.to_csv('/Users/kevinmongeon/Brock University/Steve Tselios - StephanosShare/out/data/2010_2017_season_game_data.csv', index='False', sep=',')"
   ]
  },
  {
   "cell_type": "markdown",
   "metadata": {},
   "source": [
    "## season_level_data"
   ]
  },
  {
   "cell_type": "code",
   "execution_count": 64,
   "metadata": {
    "collapsed": true
   },
   "outputs": [],
   "source": [
    "dm = da.copy()"
   ]
  },
  {
   "cell_type": "markdown",
   "metadata": {},
   "source": [
    "- events that happened in regulation time only"
   ]
  },
  {
   "cell_type": "code",
   "execution_count": 65,
   "metadata": {
    "collapsed": true
   },
   "outputs": [],
   "source": [
    "dm = dm[dm['Period'] <= 3]\n",
    "dm = dm[dm['Period'] >= 1]"
   ]
  },
  {
   "cell_type": "markdown",
   "metadata": {},
   "source": [
    "- **reshape the data set from wide to long.**"
   ]
  },
  {
   "cell_type": "code",
   "execution_count": 66,
   "metadata": {
    "collapsed": true
   },
   "outputs": [],
   "source": [
    "dm = dm.sort_values(['Season', 'GameNumber', 'Period', 'EventNumber'], ascending=[True, True, True, True])"
   ]
  },
  {
   "cell_type": "code",
   "execution_count": 67,
   "metadata": {
    "collapsed": true
   },
   "outputs": [],
   "source": [
    "a = [col for col in dm.columns if 'VPlayer' in col]\n",
    "b = [col for col in dm.columns if 'HPlayer' in col]\n",
    "dm = pd.lreshape(dm, {'VPlayer' : a, 'HPlayer' : b})"
   ]
  },
  {
   "cell_type": "code",
   "execution_count": 68,
   "metadata": {
    "collapsed": false
   },
   "outputs": [
    {
     "data": {
      "text/plain": [
       "(13810032, 22)"
      ]
     },
     "execution_count": 68,
     "metadata": {},
     "output_type": "execute_result"
    }
   ],
   "source": [
    "dm.shape"
   ]
  },
  {
   "cell_type": "code",
   "execution_count": 69,
   "metadata": {
    "collapsed": true
   },
   "outputs": [],
   "source": [
    "dm.to_csv('/Users/stefanostselios/Brock University/Kevin Mongeon - StephanosShare/out/data/2010_2017_play_by_play.csv', index='False', sep=',')\n",
    "#dm.to_csv('/Users/kevinmongeon/Brock University/Steve Tselios - StephanosShare/out/data/2010_2017_play_by_play.csv', index='False', sep=',')"
   ]
  },
  {
   "cell_type": "markdown",
   "metadata": {},
   "source": [
    "#### create new data set and keep variables: \n",
    "- (a) game number.\n",
    "- (b) visitor team information.\n",
    "- (c) home team information."
   ]
  },
  {
   "cell_type": "code",
   "execution_count": 70,
   "metadata": {
    "collapsed": false
   },
   "outputs": [
    {
     "data": {
      "text/html": [
       "<div>\n",
       "<table border=\"1\" class=\"dataframe\">\n",
       "  <thead>\n",
       "    <tr style=\"text-align: right;\">\n",
       "      <th></th>\n",
       "      <th>Season</th>\n",
       "      <th>GameNumber</th>\n",
       "      <th>VTeamCode</th>\n",
       "      <th>VPlayer</th>\n",
       "      <th>HTeamCode</th>\n",
       "      <th>HPlayer</th>\n",
       "    </tr>\n",
       "  </thead>\n",
       "  <tbody>\n",
       "    <tr>\n",
       "      <th>0</th>\n",
       "      <td>2010</td>\n",
       "      <td>20001</td>\n",
       "      <td>MTL</td>\n",
       "      <td>SCOTT GOMEZ</td>\n",
       "      <td>TOR</td>\n",
       "      <td>TIM BRENT</td>\n",
       "    </tr>\n",
       "    <tr>\n",
       "      <th>1</th>\n",
       "      <td>2010</td>\n",
       "      <td>20001</td>\n",
       "      <td>MTL</td>\n",
       "      <td>SCOTT GOMEZ</td>\n",
       "      <td>TOR</td>\n",
       "      <td>TIM BRENT</td>\n",
       "    </tr>\n",
       "    <tr>\n",
       "      <th>2</th>\n",
       "      <td>2010</td>\n",
       "      <td>20001</td>\n",
       "      <td>MTL</td>\n",
       "      <td>TOMAS PLEKANEC</td>\n",
       "      <td>TOR</td>\n",
       "      <td>TYLER BOZAK</td>\n",
       "    </tr>\n",
       "    <tr>\n",
       "      <th>3</th>\n",
       "      <td>2010</td>\n",
       "      <td>20001</td>\n",
       "      <td>MTL</td>\n",
       "      <td>TOMAS PLEKANEC</td>\n",
       "      <td>TOR</td>\n",
       "      <td>TYLER BOZAK</td>\n",
       "    </tr>\n",
       "    <tr>\n",
       "      <th>4</th>\n",
       "      <td>2010</td>\n",
       "      <td>20001</td>\n",
       "      <td>MTL</td>\n",
       "      <td>TOMAS PLEKANEC</td>\n",
       "      <td>TOR</td>\n",
       "      <td>TYLER BOZAK</td>\n",
       "    </tr>\n",
       "  </tbody>\n",
       "</table>\n",
       "</div>"
      ],
      "text/plain": [
       "   Season  GameNumber VTeamCode         VPlayer HTeamCode      HPlayer\n",
       "0    2010       20001       MTL     SCOTT GOMEZ       TOR    TIM BRENT\n",
       "1    2010       20001       MTL     SCOTT GOMEZ       TOR    TIM BRENT\n",
       "2    2010       20001       MTL  TOMAS PLEKANEC       TOR  TYLER BOZAK\n",
       "3    2010       20001       MTL  TOMAS PLEKANEC       TOR  TYLER BOZAK\n",
       "4    2010       20001       MTL  TOMAS PLEKANEC       TOR  TYLER BOZAK"
      ]
     },
     "execution_count": 70,
     "metadata": {},
     "output_type": "execute_result"
    }
   ],
   "source": [
    "df = dm.copy()\n",
    "df = df[['Season', 'GameNumber', 'VTeamCode', 'VPlayer', 'HTeamCode', 'HPlayer']]\n",
    "df = df.sort_values(['Season', 'GameNumber'], ascending=[True, True])\n",
    "df.head()"
   ]
  },
  {
   "cell_type": "markdown",
   "metadata": {},
   "source": [
    "- merge season_game_data (dg) on new dataset"
   ]
  },
  {
   "cell_type": "code",
   "execution_count": 71,
   "metadata": {
    "collapsed": false
   },
   "outputs": [
    {
     "data": {
      "text/html": [
       "<div>\n",
       "<table border=\"1\" class=\"dataframe\">\n",
       "  <thead>\n",
       "    <tr style=\"text-align: right;\">\n",
       "      <th></th>\n",
       "      <th>Season</th>\n",
       "      <th>GameNumber</th>\n",
       "      <th>VTeamCode</th>\n",
       "      <th>VPlayer</th>\n",
       "      <th>HTeamCode</th>\n",
       "      <th>HPlayer</th>\n",
       "      <th>VGF</th>\n",
       "      <th>HGF</th>\n",
       "      <th>GD</th>\n",
       "      <th>WinTeam</th>\n",
       "      <th>LossTeam</th>\n",
       "      <th>VGA</th>\n",
       "      <th>HGA</th>\n",
       "    </tr>\n",
       "  </thead>\n",
       "  <tbody>\n",
       "    <tr>\n",
       "      <th>0</th>\n",
       "      <td>2010</td>\n",
       "      <td>20001</td>\n",
       "      <td>MTL</td>\n",
       "      <td>SCOTT GOMEZ</td>\n",
       "      <td>TOR</td>\n",
       "      <td>TIM BRENT</td>\n",
       "      <td>2</td>\n",
       "      <td>3</td>\n",
       "      <td>1</td>\n",
       "      <td>TOR</td>\n",
       "      <td>MTL</td>\n",
       "      <td>3</td>\n",
       "      <td>2</td>\n",
       "    </tr>\n",
       "    <tr>\n",
       "      <th>1</th>\n",
       "      <td>2010</td>\n",
       "      <td>20001</td>\n",
       "      <td>MTL</td>\n",
       "      <td>SCOTT GOMEZ</td>\n",
       "      <td>TOR</td>\n",
       "      <td>TIM BRENT</td>\n",
       "      <td>2</td>\n",
       "      <td>3</td>\n",
       "      <td>1</td>\n",
       "      <td>TOR</td>\n",
       "      <td>MTL</td>\n",
       "      <td>3</td>\n",
       "      <td>2</td>\n",
       "    </tr>\n",
       "    <tr>\n",
       "      <th>2</th>\n",
       "      <td>2010</td>\n",
       "      <td>20001</td>\n",
       "      <td>MTL</td>\n",
       "      <td>TOMAS PLEKANEC</td>\n",
       "      <td>TOR</td>\n",
       "      <td>TYLER BOZAK</td>\n",
       "      <td>2</td>\n",
       "      <td>3</td>\n",
       "      <td>1</td>\n",
       "      <td>TOR</td>\n",
       "      <td>MTL</td>\n",
       "      <td>3</td>\n",
       "      <td>2</td>\n",
       "    </tr>\n",
       "    <tr>\n",
       "      <th>3</th>\n",
       "      <td>2010</td>\n",
       "      <td>20001</td>\n",
       "      <td>MTL</td>\n",
       "      <td>TOMAS PLEKANEC</td>\n",
       "      <td>TOR</td>\n",
       "      <td>TYLER BOZAK</td>\n",
       "      <td>2</td>\n",
       "      <td>3</td>\n",
       "      <td>1</td>\n",
       "      <td>TOR</td>\n",
       "      <td>MTL</td>\n",
       "      <td>3</td>\n",
       "      <td>2</td>\n",
       "    </tr>\n",
       "    <tr>\n",
       "      <th>4</th>\n",
       "      <td>2010</td>\n",
       "      <td>20001</td>\n",
       "      <td>MTL</td>\n",
       "      <td>TOMAS PLEKANEC</td>\n",
       "      <td>TOR</td>\n",
       "      <td>TYLER BOZAK</td>\n",
       "      <td>2</td>\n",
       "      <td>3</td>\n",
       "      <td>1</td>\n",
       "      <td>TOR</td>\n",
       "      <td>MTL</td>\n",
       "      <td>3</td>\n",
       "      <td>2</td>\n",
       "    </tr>\n",
       "  </tbody>\n",
       "</table>\n",
       "</div>"
      ],
      "text/plain": [
       "   Season  GameNumber VTeamCode         VPlayer HTeamCode      HPlayer  VGF  \\\n",
       "0    2010       20001       MTL     SCOTT GOMEZ       TOR    TIM BRENT    2   \n",
       "1    2010       20001       MTL     SCOTT GOMEZ       TOR    TIM BRENT    2   \n",
       "2    2010       20001       MTL  TOMAS PLEKANEC       TOR  TYLER BOZAK    2   \n",
       "3    2010       20001       MTL  TOMAS PLEKANEC       TOR  TYLER BOZAK    2   \n",
       "4    2010       20001       MTL  TOMAS PLEKANEC       TOR  TYLER BOZAK    2   \n",
       "\n",
       "   HGF  GD WinTeam LossTeam  VGA  HGA  \n",
       "0    3   1     TOR      MTL    3    2  \n",
       "1    3   1     TOR      MTL    3    2  \n",
       "2    3   1     TOR      MTL    3    2  \n",
       "3    3   1     TOR      MTL    3    2  \n",
       "4    3   1     TOR      MTL    3    2  "
      ]
     },
     "execution_count": 71,
     "metadata": {},
     "output_type": "execute_result"
    }
   ],
   "source": [
    "df = pd.merge(df, dg, on=['Season', 'GameNumber', 'VTeamCode', 'HTeamCode'], how='left')\n",
    "df.head()    "
   ]
  },
  {
   "cell_type": "markdown",
   "metadata": {},
   "source": [
    "- reshape the data to have home and visitor team observatons under the same coloumns. "
   ]
  },
  {
   "cell_type": "code",
   "execution_count": 72,
   "metadata": {
    "collapsed": false
   },
   "outputs": [
    {
     "data": {
      "text/html": [
       "<div>\n",
       "<table border=\"1\" class=\"dataframe\">\n",
       "  <thead>\n",
       "    <tr style=\"text-align: right;\">\n",
       "      <th></th>\n",
       "      <th>Season</th>\n",
       "      <th>GameNumber</th>\n",
       "      <th>TeamCode</th>\n",
       "      <th>PlayerName</th>\n",
       "      <th>GF</th>\n",
       "      <th>GA</th>\n",
       "      <th>GD</th>\n",
       "      <th>WinTeam</th>\n",
       "      <th>LossTeam</th>\n",
       "    </tr>\n",
       "  </thead>\n",
       "  <tbody>\n",
       "    <tr>\n",
       "      <th>0</th>\n",
       "      <td>2010</td>\n",
       "      <td>20001</td>\n",
       "      <td>MTL</td>\n",
       "      <td>SCOTT GOMEZ</td>\n",
       "      <td>2</td>\n",
       "      <td>3</td>\n",
       "      <td>-1</td>\n",
       "      <td>TOR</td>\n",
       "      <td>MTL</td>\n",
       "    </tr>\n",
       "    <tr>\n",
       "      <th>1</th>\n",
       "      <td>2010</td>\n",
       "      <td>20001</td>\n",
       "      <td>MTL</td>\n",
       "      <td>SCOTT GOMEZ</td>\n",
       "      <td>2</td>\n",
       "      <td>3</td>\n",
       "      <td>-1</td>\n",
       "      <td>TOR</td>\n",
       "      <td>MTL</td>\n",
       "    </tr>\n",
       "    <tr>\n",
       "      <th>2</th>\n",
       "      <td>2010</td>\n",
       "      <td>20001</td>\n",
       "      <td>MTL</td>\n",
       "      <td>TOMAS PLEKANEC</td>\n",
       "      <td>2</td>\n",
       "      <td>3</td>\n",
       "      <td>-1</td>\n",
       "      <td>TOR</td>\n",
       "      <td>MTL</td>\n",
       "    </tr>\n",
       "    <tr>\n",
       "      <th>3</th>\n",
       "      <td>2010</td>\n",
       "      <td>20001</td>\n",
       "      <td>MTL</td>\n",
       "      <td>TOMAS PLEKANEC</td>\n",
       "      <td>2</td>\n",
       "      <td>3</td>\n",
       "      <td>-1</td>\n",
       "      <td>TOR</td>\n",
       "      <td>MTL</td>\n",
       "    </tr>\n",
       "    <tr>\n",
       "      <th>4</th>\n",
       "      <td>2010</td>\n",
       "      <td>20001</td>\n",
       "      <td>MTL</td>\n",
       "      <td>TOMAS PLEKANEC</td>\n",
       "      <td>2</td>\n",
       "      <td>3</td>\n",
       "      <td>-1</td>\n",
       "      <td>TOR</td>\n",
       "      <td>MTL</td>\n",
       "    </tr>\n",
       "  </tbody>\n",
       "</table>\n",
       "</div>"
      ],
      "text/plain": [
       "   Season  GameNumber TeamCode      PlayerName  GF  GA  GD WinTeam LossTeam\n",
       "0    2010       20001      MTL     SCOTT GOMEZ   2   3  -1     TOR      MTL\n",
       "1    2010       20001      MTL     SCOTT GOMEZ   2   3  -1     TOR      MTL\n",
       "2    2010       20001      MTL  TOMAS PLEKANEC   2   3  -1     TOR      MTL\n",
       "3    2010       20001      MTL  TOMAS PLEKANEC   2   3  -1     TOR      MTL\n",
       "4    2010       20001      MTL  TOMAS PLEKANEC   2   3  -1     TOR      MTL"
      ]
     },
     "execution_count": 72,
     "metadata": {},
     "output_type": "execute_result"
    }
   ],
   "source": [
    "a = [col for col in df.columns if 'Player' in col]\n",
    "b = [col for col in df.columns if 'TeamCode' in col]\n",
    "c = [col for col in df.columns if 'GF' in col]\n",
    "d = [col for col in df.columns if 'GA' in col]\n",
    "df = pd.lreshape(df, {'PlayerName' : a, 'TeamCode' : b, 'GF' : c, 'GA' : d })\n",
    "df['GD'] = df['GF'] - df['GA']\n",
    "df = df[['Season', 'GameNumber', 'TeamCode', 'PlayerName', 'GF', 'GA', 'GD', 'WinTeam', 'LossTeam']]\n",
    "df.head()"
   ]
  },
  {
   "cell_type": "markdown",
   "metadata": {},
   "source": [
    "### import player position and rankings"
   ]
  },
  {
   "cell_type": "code",
   "execution_count": 73,
   "metadata": {
    "collapsed": true
   },
   "outputs": [],
   "source": [
    "dp = pd.read_csv('/Users/stefanostselios/Brock University/Kevin Mongeon - StephanosShare/out/data/2010_2017_player_position.csv')\n",
    "#dp = pd.read_csv('/Users/kevinmongeon/Brock University/Steve Tselios - StephanosShare/out/data/2010_2017_player_position.csv')\n",
    "dp = dp.drop('Unnamed: 0', axis=1)"
   ]
  },
  {
   "cell_type": "code",
   "execution_count": 74,
   "metadata": {
    "collapsed": false
   },
   "outputs": [],
   "source": [
    "dr = pd.read_csv('/Users/stefanostselios/Brock University/Kevin Mongeon - StephanosShare/out/data/2010_2017_player_rank.csv')\n",
    "#dr = pd.read_csv('/Users/kevinmongeon/Brock University/Steve Tselios - StephanosShare/out/data/2010_2017_player_rank.csv')\n",
    "dr = dr.drop('Unnamed: 0', axis=1)"
   ]
  },
  {
   "cell_type": "markdown",
   "metadata": {},
   "source": [
    "- merge player position and player rankings"
   ]
  },
  {
   "cell_type": "code",
   "execution_count": 75,
   "metadata": {
    "collapsed": false
   },
   "outputs": [
    {
     "data": {
      "text/plain": [
       "(8394, 5)"
      ]
     },
     "execution_count": 75,
     "metadata": {},
     "output_type": "execute_result"
    }
   ],
   "source": [
    "ds = pd.merge(dp, dr, on=['Season', 'TeamCode', 'PlayerName', 'Position'], how='left')\n",
    "ds.shape"
   ]
  },
  {
   "cell_type": "code",
   "execution_count": 76,
   "metadata": {
    "collapsed": false
   },
   "outputs": [
    {
     "data": {
      "text/plain": [
       "Season           0\n",
       "TeamCode         0\n",
       "PlayerName       0\n",
       "Position         0\n",
       "Rank          1821\n",
       "dtype: int64"
      ]
     },
     "execution_count": 76,
     "metadata": {},
     "output_type": "execute_result"
    }
   ],
   "source": [
    "ds.isnull().sum()"
   ]
  },
  {
   "cell_type": "markdown",
   "metadata": {},
   "source": [
    "skaters that were not included in the clusters and therefore not ranked, forwards are assigned to the 4th line, defensemen to the bottom (3rd) pairing and goaltenders to backup. "
   ]
  },
  {
   "cell_type": "code",
   "execution_count": 77,
   "metadata": {
    "collapsed": false
   },
   "outputs": [
    {
     "data": {
      "text/plain": [
       "(8394, 5)"
      ]
     },
     "execution_count": 77,
     "metadata": {},
     "output_type": "execute_result"
    }
   ],
   "source": [
    "ds['Rank'] = ds.apply(lambda x: 3 if ((x['Position'] == 'G') & (pd.isnull(x.Rank))) else 3 if ((x['Position'] == 'D') & (pd.isnull(x.Rank))) else 4 if ((x['Position'] == 'W') & (pd.isnull(x.Rank))) else 4 if ((x['Position'] == 'C') & (pd.isnull(x.Rank))) else x['Rank'], axis=1)\n",
    "#ds = ds.sort_values(['TeamCode'], ascending=[True])\n",
    "ds.shape"
   ]
  },
  {
   "cell_type": "code",
   "execution_count": 78,
   "metadata": {
    "collapsed": false
   },
   "outputs": [
    {
     "data": {
      "text/plain": [
       "Season        0\n",
       "TeamCode      0\n",
       "PlayerName    0\n",
       "Position      0\n",
       "Rank          0\n",
       "dtype: int64"
      ]
     },
     "execution_count": 78,
     "metadata": {},
     "output_type": "execute_result"
    }
   ],
   "source": [
    "ds.isnull().sum()"
   ]
  },
  {
   "cell_type": "markdown",
   "metadata": {},
   "source": [
    "- **display each player by team per game. Drop duplicates.**"
   ]
  },
  {
   "cell_type": "code",
   "execution_count": 79,
   "metadata": {
    "collapsed": false
   },
   "outputs": [
    {
     "data": {
      "text/html": [
       "<div>\n",
       "<table border=\"1\" class=\"dataframe\">\n",
       "  <thead>\n",
       "    <tr style=\"text-align: right;\">\n",
       "      <th></th>\n",
       "      <th>Season</th>\n",
       "      <th>GameNumber</th>\n",
       "      <th>TeamCode</th>\n",
       "      <th>PlayerName</th>\n",
       "      <th>Position</th>\n",
       "      <th>Rank</th>\n",
       "      <th>GF</th>\n",
       "      <th>GA</th>\n",
       "      <th>GD</th>\n",
       "      <th>WinTeam</th>\n",
       "      <th>LossTeam</th>\n",
       "    </tr>\n",
       "  </thead>\n",
       "  <tbody>\n",
       "    <tr>\n",
       "      <th>0</th>\n",
       "      <td>2010</td>\n",
       "      <td>20001</td>\n",
       "      <td>MTL</td>\n",
       "      <td>SCOTT GOMEZ</td>\n",
       "      <td>C</td>\n",
       "      <td>2.0</td>\n",
       "      <td>2</td>\n",
       "      <td>3</td>\n",
       "      <td>-1</td>\n",
       "      <td>TOR</td>\n",
       "      <td>MTL</td>\n",
       "    </tr>\n",
       "    <tr>\n",
       "      <th>1</th>\n",
       "      <td>2010</td>\n",
       "      <td>20001</td>\n",
       "      <td>MTL</td>\n",
       "      <td>SCOTT GOMEZ</td>\n",
       "      <td>C</td>\n",
       "      <td>2.0</td>\n",
       "      <td>2</td>\n",
       "      <td>3</td>\n",
       "      <td>-1</td>\n",
       "      <td>TOR</td>\n",
       "      <td>MTL</td>\n",
       "    </tr>\n",
       "    <tr>\n",
       "      <th>2</th>\n",
       "      <td>2010</td>\n",
       "      <td>20001</td>\n",
       "      <td>MTL</td>\n",
       "      <td>TOMAS PLEKANEC</td>\n",
       "      <td>C</td>\n",
       "      <td>1.0</td>\n",
       "      <td>2</td>\n",
       "      <td>3</td>\n",
       "      <td>-1</td>\n",
       "      <td>TOR</td>\n",
       "      <td>MTL</td>\n",
       "    </tr>\n",
       "    <tr>\n",
       "      <th>3</th>\n",
       "      <td>2010</td>\n",
       "      <td>20001</td>\n",
       "      <td>MTL</td>\n",
       "      <td>TOMAS PLEKANEC</td>\n",
       "      <td>C</td>\n",
       "      <td>1.0</td>\n",
       "      <td>2</td>\n",
       "      <td>3</td>\n",
       "      <td>-1</td>\n",
       "      <td>TOR</td>\n",
       "      <td>MTL</td>\n",
       "    </tr>\n",
       "    <tr>\n",
       "      <th>4</th>\n",
       "      <td>2010</td>\n",
       "      <td>20001</td>\n",
       "      <td>MTL</td>\n",
       "      <td>TOMAS PLEKANEC</td>\n",
       "      <td>C</td>\n",
       "      <td>1.0</td>\n",
       "      <td>2</td>\n",
       "      <td>3</td>\n",
       "      <td>-1</td>\n",
       "      <td>TOR</td>\n",
       "      <td>MTL</td>\n",
       "    </tr>\n",
       "  </tbody>\n",
       "</table>\n",
       "</div>"
      ],
      "text/plain": [
       "   Season  GameNumber TeamCode      PlayerName Position  Rank  GF  GA  GD  \\\n",
       "0    2010       20001      MTL     SCOTT GOMEZ        C   2.0   2   3  -1   \n",
       "1    2010       20001      MTL     SCOTT GOMEZ        C   2.0   2   3  -1   \n",
       "2    2010       20001      MTL  TOMAS PLEKANEC        C   1.0   2   3  -1   \n",
       "3    2010       20001      MTL  TOMAS PLEKANEC        C   1.0   2   3  -1   \n",
       "4    2010       20001      MTL  TOMAS PLEKANEC        C   1.0   2   3  -1   \n",
       "\n",
       "  WinTeam LossTeam  \n",
       "0     TOR      MTL  \n",
       "1     TOR      MTL  \n",
       "2     TOR      MTL  \n",
       "3     TOR      MTL  \n",
       "4     TOR      MTL  "
      ]
     },
     "execution_count": 79,
     "metadata": {},
     "output_type": "execute_result"
    }
   ],
   "source": [
    "dw = pd.merge(df, ds, on=['Season', 'TeamCode', 'PlayerName'], how='left')\n",
    "dw = dw[['Season', 'GameNumber', 'TeamCode', 'PlayerName', 'Position', 'Rank', 'GF', 'GA', 'GD', 'WinTeam', 'LossTeam']]\n",
    "dw.head()"
   ]
  },
  {
   "cell_type": "code",
   "execution_count": 80,
   "metadata": {
    "collapsed": false
   },
   "outputs": [
    {
     "data": {
      "text/plain": [
       "Season          0\n",
       "GameNumber      0\n",
       "TeamCode        0\n",
       "PlayerName      0\n",
       "Position      835\n",
       "Rank          835\n",
       "GF              0\n",
       "GA              0\n",
       "GD              0\n",
       "WinTeam         0\n",
       "LossTeam        0\n",
       "dtype: int64"
      ]
     },
     "execution_count": 80,
     "metadata": {},
     "output_type": "execute_result"
    }
   ],
   "source": [
    "dw.isnull().sum()"
   ]
  },
  {
   "cell_type": "code",
   "execution_count": 81,
   "metadata": {
    "collapsed": false
   },
   "outputs": [
    {
     "data": {
      "text/plain": [
       "DANIEL O'REGAN    835\n",
       "Name: PlayerName, dtype: int64"
      ]
     },
     "execution_count": 81,
     "metadata": {},
     "output_type": "execute_result"
    }
   ],
   "source": [
    "w = dw.copy()\n",
    "w = w[w['Rank'].isnull()]\n",
    "w['PlayerName'].value_counts()"
   ]
  },
  {
   "cell_type": "code",
   "execution_count": 82,
   "metadata": {
    "collapsed": true
   },
   "outputs": [],
   "source": [
    "dw['Position'] = dw['Position'].fillna('C')\n",
    "dw['Rank'] = dw['Rank'].fillna(4)"
   ]
  },
  {
   "cell_type": "code",
   "execution_count": 83,
   "metadata": {
    "collapsed": false
   },
   "outputs": [
    {
     "data": {
      "text/plain": [
       "Season        0\n",
       "GameNumber    0\n",
       "TeamCode      0\n",
       "PlayerName    0\n",
       "Position      0\n",
       "Rank          0\n",
       "GF            0\n",
       "GA            0\n",
       "GD            0\n",
       "WinTeam       0\n",
       "LossTeam      0\n",
       "dtype: int64"
      ]
     },
     "execution_count": 83,
     "metadata": {},
     "output_type": "execute_result"
    }
   ],
   "source": [
    "dw.isnull().sum()"
   ]
  },
  {
   "cell_type": "markdown",
   "metadata": {},
   "source": [
    "- create column that displays the position and roster count by team per game. To simplify matters, we categorize skaters into forwards and defensemen."
   ]
  },
  {
   "cell_type": "code",
   "execution_count": 84,
   "metadata": {
    "collapsed": false
   },
   "outputs": [
    {
     "data": {
      "text/html": [
       "<div>\n",
       "<table border=\"1\" class=\"dataframe\">\n",
       "  <thead>\n",
       "    <tr style=\"text-align: right;\">\n",
       "      <th></th>\n",
       "      <th>Season</th>\n",
       "      <th>GameNumber</th>\n",
       "      <th>TeamCode</th>\n",
       "      <th>PlayerName</th>\n",
       "      <th>Position</th>\n",
       "      <th>Rank</th>\n",
       "      <th>GF</th>\n",
       "      <th>GA</th>\n",
       "      <th>GD</th>\n",
       "      <th>WinTeam</th>\n",
       "      <th>LossTeam</th>\n",
       "      <th>RosterCount</th>\n",
       "      <th>PositionCount</th>\n",
       "    </tr>\n",
       "  </thead>\n",
       "  <tbody>\n",
       "    <tr>\n",
       "      <th>0</th>\n",
       "      <td>2010</td>\n",
       "      <td>20001</td>\n",
       "      <td>MTL</td>\n",
       "      <td>SCOTT GOMEZ</td>\n",
       "      <td>C</td>\n",
       "      <td>2.0</td>\n",
       "      <td>2</td>\n",
       "      <td>3</td>\n",
       "      <td>-1</td>\n",
       "      <td>TOR</td>\n",
       "      <td>MTL</td>\n",
       "      <td>19</td>\n",
       "      <td>7</td>\n",
       "    </tr>\n",
       "    <tr>\n",
       "      <th>2</th>\n",
       "      <td>2010</td>\n",
       "      <td>20001</td>\n",
       "      <td>MTL</td>\n",
       "      <td>TOMAS PLEKANEC</td>\n",
       "      <td>C</td>\n",
       "      <td>1.0</td>\n",
       "      <td>2</td>\n",
       "      <td>3</td>\n",
       "      <td>-1</td>\n",
       "      <td>TOR</td>\n",
       "      <td>MTL</td>\n",
       "      <td>19</td>\n",
       "      <td>7</td>\n",
       "    </tr>\n",
       "    <tr>\n",
       "      <th>9</th>\n",
       "      <td>2010</td>\n",
       "      <td>20001</td>\n",
       "      <td>MTL</td>\n",
       "      <td>JEFF HALPERN</td>\n",
       "      <td>C</td>\n",
       "      <td>2.0</td>\n",
       "      <td>2</td>\n",
       "      <td>3</td>\n",
       "      <td>-1</td>\n",
       "      <td>TOR</td>\n",
       "      <td>MTL</td>\n",
       "      <td>19</td>\n",
       "      <td>7</td>\n",
       "    </tr>\n",
       "    <tr>\n",
       "      <th>13</th>\n",
       "      <td>2010</td>\n",
       "      <td>20001</td>\n",
       "      <td>MTL</td>\n",
       "      <td>DUSTIN BOYD</td>\n",
       "      <td>C</td>\n",
       "      <td>4.0</td>\n",
       "      <td>2</td>\n",
       "      <td>3</td>\n",
       "      <td>-1</td>\n",
       "      <td>TOR</td>\n",
       "      <td>MTL</td>\n",
       "      <td>19</td>\n",
       "      <td>7</td>\n",
       "    </tr>\n",
       "    <tr>\n",
       "      <th>95</th>\n",
       "      <td>2010</td>\n",
       "      <td>20001</td>\n",
       "      <td>MTL</td>\n",
       "      <td>TOM PYATT</td>\n",
       "      <td>C</td>\n",
       "      <td>3.0</td>\n",
       "      <td>2</td>\n",
       "      <td>3</td>\n",
       "      <td>-1</td>\n",
       "      <td>TOR</td>\n",
       "      <td>MTL</td>\n",
       "      <td>19</td>\n",
       "      <td>7</td>\n",
       "    </tr>\n",
       "  </tbody>\n",
       "</table>\n",
       "</div>"
      ],
      "text/plain": [
       "    Season  GameNumber TeamCode      PlayerName Position  Rank  GF  GA  GD  \\\n",
       "0     2010       20001      MTL     SCOTT GOMEZ        C   2.0   2   3  -1   \n",
       "2     2010       20001      MTL  TOMAS PLEKANEC        C   1.0   2   3  -1   \n",
       "9     2010       20001      MTL    JEFF HALPERN        C   2.0   2   3  -1   \n",
       "13    2010       20001      MTL     DUSTIN BOYD        C   4.0   2   3  -1   \n",
       "95    2010       20001      MTL       TOM PYATT        C   3.0   2   3  -1   \n",
       "\n",
       "   WinTeam LossTeam  RosterCount  PositionCount  \n",
       "0      TOR      MTL           19              7  \n",
       "2      TOR      MTL           19              7  \n",
       "9      TOR      MTL           19              7  \n",
       "13     TOR      MTL           19              7  \n",
       "95     TOR      MTL           19              7  "
      ]
     },
     "execution_count": 84,
     "metadata": {},
     "output_type": "execute_result"
    }
   ],
   "source": [
    "dw = dw.drop_duplicates(['Season', 'GameNumber', 'TeamCode', 'PlayerName'])\n",
    "dw['RosterCount'] = dw.groupby(['Season', 'GameNumber', 'TeamCode'])['PlayerName'].transform('count')\n",
    "dw['PositionCount'] = dw.groupby(['Season', 'GameNumber', 'TeamCode', 'Position'])['PlayerName'].transform('count')\n",
    "dw.head()"
   ]
  },
  {
   "cell_type": "markdown",
   "metadata": {},
   "source": [
    "- count the amount of forwards and defensemen by team per game."
   ]
  },
  {
   "cell_type": "code",
   "execution_count": 85,
   "metadata": {
    "collapsed": false
   },
   "outputs": [
    {
     "data": {
      "text/html": [
       "<div>\n",
       "<table border=\"1\" class=\"dataframe\">\n",
       "  <thead>\n",
       "    <tr style=\"text-align: right;\">\n",
       "      <th></th>\n",
       "      <th>Season</th>\n",
       "      <th>GameNumber</th>\n",
       "      <th>TeamCode</th>\n",
       "      <th>PlayerName</th>\n",
       "      <th>Position</th>\n",
       "      <th>Rank</th>\n",
       "      <th>GF</th>\n",
       "      <th>GA</th>\n",
       "      <th>GD</th>\n",
       "      <th>WinTeam</th>\n",
       "      <th>LossTeam</th>\n",
       "      <th>RosterCount</th>\n",
       "      <th>PositionCount</th>\n",
       "      <th>CCount</th>\n",
       "      <th>WCount</th>\n",
       "      <th>DCount</th>\n",
       "      <th>GCount</th>\n",
       "    </tr>\n",
       "  </thead>\n",
       "  <tbody>\n",
       "    <tr>\n",
       "      <th>0</th>\n",
       "      <td>2010</td>\n",
       "      <td>20001</td>\n",
       "      <td>MTL</td>\n",
       "      <td>SCOTT GOMEZ</td>\n",
       "      <td>C</td>\n",
       "      <td>2.0</td>\n",
       "      <td>2</td>\n",
       "      <td>3</td>\n",
       "      <td>-1</td>\n",
       "      <td>TOR</td>\n",
       "      <td>MTL</td>\n",
       "      <td>19</td>\n",
       "      <td>7</td>\n",
       "      <td>7.0</td>\n",
       "      <td>5.0</td>\n",
       "      <td>6.0</td>\n",
       "      <td>1.0</td>\n",
       "    </tr>\n",
       "    <tr>\n",
       "      <th>2</th>\n",
       "      <td>2010</td>\n",
       "      <td>20001</td>\n",
       "      <td>MTL</td>\n",
       "      <td>TOMAS PLEKANEC</td>\n",
       "      <td>C</td>\n",
       "      <td>1.0</td>\n",
       "      <td>2</td>\n",
       "      <td>3</td>\n",
       "      <td>-1</td>\n",
       "      <td>TOR</td>\n",
       "      <td>MTL</td>\n",
       "      <td>19</td>\n",
       "      <td>7</td>\n",
       "      <td>7.0</td>\n",
       "      <td>5.0</td>\n",
       "      <td>6.0</td>\n",
       "      <td>1.0</td>\n",
       "    </tr>\n",
       "    <tr>\n",
       "      <th>9</th>\n",
       "      <td>2010</td>\n",
       "      <td>20001</td>\n",
       "      <td>MTL</td>\n",
       "      <td>JEFF HALPERN</td>\n",
       "      <td>C</td>\n",
       "      <td>2.0</td>\n",
       "      <td>2</td>\n",
       "      <td>3</td>\n",
       "      <td>-1</td>\n",
       "      <td>TOR</td>\n",
       "      <td>MTL</td>\n",
       "      <td>19</td>\n",
       "      <td>7</td>\n",
       "      <td>7.0</td>\n",
       "      <td>5.0</td>\n",
       "      <td>6.0</td>\n",
       "      <td>1.0</td>\n",
       "    </tr>\n",
       "    <tr>\n",
       "      <th>13</th>\n",
       "      <td>2010</td>\n",
       "      <td>20001</td>\n",
       "      <td>MTL</td>\n",
       "      <td>DUSTIN BOYD</td>\n",
       "      <td>C</td>\n",
       "      <td>4.0</td>\n",
       "      <td>2</td>\n",
       "      <td>3</td>\n",
       "      <td>-1</td>\n",
       "      <td>TOR</td>\n",
       "      <td>MTL</td>\n",
       "      <td>19</td>\n",
       "      <td>7</td>\n",
       "      <td>7.0</td>\n",
       "      <td>5.0</td>\n",
       "      <td>6.0</td>\n",
       "      <td>1.0</td>\n",
       "    </tr>\n",
       "    <tr>\n",
       "      <th>95</th>\n",
       "      <td>2010</td>\n",
       "      <td>20001</td>\n",
       "      <td>MTL</td>\n",
       "      <td>TOM PYATT</td>\n",
       "      <td>C</td>\n",
       "      <td>3.0</td>\n",
       "      <td>2</td>\n",
       "      <td>3</td>\n",
       "      <td>-1</td>\n",
       "      <td>TOR</td>\n",
       "      <td>MTL</td>\n",
       "      <td>19</td>\n",
       "      <td>7</td>\n",
       "      <td>7.0</td>\n",
       "      <td>5.0</td>\n",
       "      <td>6.0</td>\n",
       "      <td>1.0</td>\n",
       "    </tr>\n",
       "  </tbody>\n",
       "</table>\n",
       "</div>"
      ],
      "text/plain": [
       "    Season  GameNumber TeamCode      PlayerName Position  Rank  GF  GA  GD  \\\n",
       "0     2010       20001      MTL     SCOTT GOMEZ        C   2.0   2   3  -1   \n",
       "2     2010       20001      MTL  TOMAS PLEKANEC        C   1.0   2   3  -1   \n",
       "9     2010       20001      MTL    JEFF HALPERN        C   2.0   2   3  -1   \n",
       "13    2010       20001      MTL     DUSTIN BOYD        C   4.0   2   3  -1   \n",
       "95    2010       20001      MTL       TOM PYATT        C   3.0   2   3  -1   \n",
       "\n",
       "   WinTeam LossTeam  RosterCount  PositionCount  CCount  WCount  DCount  \\\n",
       "0      TOR      MTL           19              7     7.0     5.0     6.0   \n",
       "2      TOR      MTL           19              7     7.0     5.0     6.0   \n",
       "9      TOR      MTL           19              7     7.0     5.0     6.0   \n",
       "13     TOR      MTL           19              7     7.0     5.0     6.0   \n",
       "95     TOR      MTL           19              7     7.0     5.0     6.0   \n",
       "\n",
       "    GCount  \n",
       "0      1.0  \n",
       "2      1.0  \n",
       "9      1.0  \n",
       "13     1.0  \n",
       "95     1.0  "
      ]
     },
     "execution_count": 85,
     "metadata": {},
     "output_type": "execute_result"
    }
   ],
   "source": [
    "dw['CCount'] = dw.apply(lambda x: x['PositionCount'] if x['Position']=='C' else np.NaN, 1)\n",
    "dw['WCount'] = dw.apply(lambda x: x['PositionCount'] if x['Position']=='W' else np.NaN, 1)\n",
    "dw['DCount'] = dw.apply(lambda x: x['PositionCount'] if x['Position']=='D' else np.NaN, 1)\n",
    "dw['GCount'] = dw.apply(lambda x: x['PositionCount'] if x['Position']=='G' else np.NaN, 1)\n",
    "\n",
    "dw['CCount'] = dw.groupby(['Season','GameNumber', 'TeamCode'])['CCount'].apply(lambda x: x.ffill().bfill())\n",
    "dw['WCount'] = dw.groupby(['Season','GameNumber', 'TeamCode'])['WCount'].apply(lambda x: x.ffill().bfill())\n",
    "dw['DCount'] = dw.groupby(['Season','GameNumber', 'TeamCode'])['DCount'].apply(lambda x: x.ffill().bfill())\n",
    "dw['GCount'] = dw.groupby(['Season','GameNumber', 'TeamCode'])['GCount'].apply(lambda x: x.ffill().bfill())\n",
    "dw.head()"
   ]
  },
  {
   "cell_type": "code",
   "execution_count": 86,
   "metadata": {
    "collapsed": true
   },
   "outputs": [],
   "source": [
    "dw.to_csv('/Users/stefanostselios/Brock University/Kevin Mongeon - StephanosShare/out/data/2010_2017_season_team_game_player.csv', index='False', sep=',')\n",
    "#dw.to_csv('/Users/kevinmongeon/Brock University/Steve Tselios - StephanosShare/out/data/2010_2017_season_team_game_player.csv', index='False', sep=',')"
   ]
  },
  {
   "cell_type": "code",
   "execution_count": 87,
   "metadata": {
    "collapsed": true
   },
   "outputs": [],
   "source": [
    "dw1 = dw.drop_duplicates(['Season', 'GameNumber', 'TeamCode'])\n",
    "dw1 = dw1.sort_values(['Season', 'GameNumber'], ascending=[True, True])"
   ]
  },
  {
   "cell_type": "code",
   "execution_count": 88,
   "metadata": {
    "collapsed": false
   },
   "outputs": [
    {
     "data": {
      "text/plain": [
       "(18742, 17)"
      ]
     },
     "execution_count": 88,
     "metadata": {},
     "output_type": "execute_result"
    }
   ],
   "source": [
    "dw1.shape"
   ]
  },
  {
   "cell_type": "code",
   "execution_count": 89,
   "metadata": {
    "collapsed": false
   },
   "outputs": [
    {
     "data": {
      "text/html": [
       "<div>\n",
       "<table border=\"1\" class=\"dataframe\">\n",
       "  <thead>\n",
       "    <tr style=\"text-align: right;\">\n",
       "      <th></th>\n",
       "      <th>Season</th>\n",
       "      <th>GameNumber</th>\n",
       "      <th>TeamCode</th>\n",
       "      <th>PlayerName</th>\n",
       "      <th>Position</th>\n",
       "      <th>Rank</th>\n",
       "      <th>GF</th>\n",
       "      <th>GA</th>\n",
       "      <th>GD</th>\n",
       "      <th>WinTeam</th>\n",
       "      <th>LossTeam</th>\n",
       "      <th>RosterCount</th>\n",
       "      <th>PositionCount</th>\n",
       "      <th>CCount</th>\n",
       "      <th>WCount</th>\n",
       "      <th>DCount</th>\n",
       "      <th>GCount</th>\n",
       "    </tr>\n",
       "  </thead>\n",
       "  <tbody>\n",
       "    <tr>\n",
       "      <th>0</th>\n",
       "      <td>2010</td>\n",
       "      <td>20001</td>\n",
       "      <td>MTL</td>\n",
       "      <td>SCOTT GOMEZ</td>\n",
       "      <td>C</td>\n",
       "      <td>2.0</td>\n",
       "      <td>2</td>\n",
       "      <td>3</td>\n",
       "      <td>-1</td>\n",
       "      <td>TOR</td>\n",
       "      <td>MTL</td>\n",
       "      <td>19</td>\n",
       "      <td>7</td>\n",
       "      <td>7.0</td>\n",
       "      <td>5.0</td>\n",
       "      <td>6.0</td>\n",
       "      <td>1.0</td>\n",
       "    </tr>\n",
       "    <tr>\n",
       "      <th>13810032</th>\n",
       "      <td>2010</td>\n",
       "      <td>20001</td>\n",
       "      <td>TOR</td>\n",
       "      <td>TIM BRENT</td>\n",
       "      <td>C</td>\n",
       "      <td>3.0</td>\n",
       "      <td>3</td>\n",
       "      <td>2</td>\n",
       "      <td>1</td>\n",
       "      <td>TOR</td>\n",
       "      <td>MTL</td>\n",
       "      <td>19</td>\n",
       "      <td>4</td>\n",
       "      <td>4.0</td>\n",
       "      <td>8.0</td>\n",
       "      <td>6.0</td>\n",
       "      <td>1.0</td>\n",
       "    </tr>\n",
       "    <tr>\n",
       "      <th>1544</th>\n",
       "      <td>2010</td>\n",
       "      <td>20002</td>\n",
       "      <td>PHI</td>\n",
       "      <td>JEFF CARTER</td>\n",
       "      <td>C</td>\n",
       "      <td>1.0</td>\n",
       "      <td>3</td>\n",
       "      <td>2</td>\n",
       "      <td>1</td>\n",
       "      <td>PHI</td>\n",
       "      <td>PIT</td>\n",
       "      <td>19</td>\n",
       "      <td>4</td>\n",
       "      <td>4.0</td>\n",
       "      <td>8.0</td>\n",
       "      <td>6.0</td>\n",
       "      <td>1.0</td>\n",
       "    </tr>\n",
       "    <tr>\n",
       "      <th>13811576</th>\n",
       "      <td>2010</td>\n",
       "      <td>20002</td>\n",
       "      <td>PIT</td>\n",
       "      <td>EVGENI MALKIN</td>\n",
       "      <td>C</td>\n",
       "      <td>1.0</td>\n",
       "      <td>2</td>\n",
       "      <td>3</td>\n",
       "      <td>-1</td>\n",
       "      <td>PHI</td>\n",
       "      <td>PIT</td>\n",
       "      <td>19</td>\n",
       "      <td>7</td>\n",
       "      <td>7.0</td>\n",
       "      <td>5.0</td>\n",
       "      <td>6.0</td>\n",
       "      <td>1.0</td>\n",
       "    </tr>\n",
       "    <tr>\n",
       "      <th>3157</th>\n",
       "      <td>2010</td>\n",
       "      <td>20003</td>\n",
       "      <td>CAR</td>\n",
       "      <td>JEFF SKINNER</td>\n",
       "      <td>C</td>\n",
       "      <td>1.0</td>\n",
       "      <td>4</td>\n",
       "      <td>3</td>\n",
       "      <td>1</td>\n",
       "      <td>CAR</td>\n",
       "      <td>MIN</td>\n",
       "      <td>19</td>\n",
       "      <td>6</td>\n",
       "      <td>6.0</td>\n",
       "      <td>6.0</td>\n",
       "      <td>6.0</td>\n",
       "      <td>1.0</td>\n",
       "    </tr>\n",
       "  </tbody>\n",
       "</table>\n",
       "</div>"
      ],
      "text/plain": [
       "          Season  GameNumber TeamCode     PlayerName Position  Rank  GF  GA  \\\n",
       "0           2010       20001      MTL    SCOTT GOMEZ        C   2.0   2   3   \n",
       "13810032    2010       20001      TOR      TIM BRENT        C   3.0   3   2   \n",
       "1544        2010       20002      PHI    JEFF CARTER        C   1.0   3   2   \n",
       "13811576    2010       20002      PIT  EVGENI MALKIN        C   1.0   2   3   \n",
       "3157        2010       20003      CAR   JEFF SKINNER        C   1.0   4   3   \n",
       "\n",
       "          GD WinTeam LossTeam  RosterCount  PositionCount  CCount  WCount  \\\n",
       "0         -1     TOR      MTL           19              7     7.0     5.0   \n",
       "13810032   1     TOR      MTL           19              4     4.0     8.0   \n",
       "1544       1     PHI      PIT           19              4     4.0     8.0   \n",
       "13811576  -1     PHI      PIT           19              7     7.0     5.0   \n",
       "3157       1     CAR      MIN           19              6     6.0     6.0   \n",
       "\n",
       "          DCount  GCount  \n",
       "0            6.0     1.0  \n",
       "13810032     6.0     1.0  \n",
       "1544         6.0     1.0  \n",
       "13811576     6.0     1.0  \n",
       "3157         6.0     1.0  "
      ]
     },
     "execution_count": 89,
     "metadata": {},
     "output_type": "execute_result"
    }
   ],
   "source": [
    "dw1.head()"
   ]
  },
  {
   "cell_type": "code",
   "execution_count": 90,
   "metadata": {
    "collapsed": true
   },
   "outputs": [],
   "source": [
    "dw1.to_csv('/Users/stefanostselios/Brock University/Kevin Mongeon - StephanosShare/out/data/2010_2017_game_team_roster_player.csv', index='False', sep=',')\n",
    "#dw1.to_csv('/Users/kevinmongeon/Brock University/Steve Tselios - StephanosShare/out/data/2010_2017_game_team_roster_player.csv', index='False', sep=',')"
   ]
  },
  {
   "cell_type": "markdown",
   "metadata": {},
   "source": [
    "### full regular season stats"
   ]
  },
  {
   "cell_type": "code",
   "execution_count": 91,
   "metadata": {
    "collapsed": false
   },
   "outputs": [
    {
     "data": {
      "text/plain": [
       "(74928, 14)"
      ]
     },
     "execution_count": 91,
     "metadata": {},
     "output_type": "execute_result"
    }
   ],
   "source": [
    "dw2 = dw.copy()\n",
    "dw2 = dw2.groupby(['Season', 'GameNumber', 'TeamCode', 'Position', 'GF', 'GA', 'RosterCount', 'PositionCount', 'CCount', 'WCount', 'DCount', 'WinTeam', 'LossTeam'], as_index=False)['Rank'].mean()\n",
    "dw2.shape"
   ]
  },
  {
   "cell_type": "markdown",
   "metadata": {},
   "source": [
    "- create columns for team win and team loss. "
   ]
  },
  {
   "cell_type": "code",
   "execution_count": 92,
   "metadata": {
    "collapsed": true
   },
   "outputs": [],
   "source": [
    "dw2['TeamWin'] =  dw2.apply(lambda x: 1 if x['TeamCode']==x['WinTeam'] else 0, 1)\n",
    "dw2['TeamLos'] =  dw2.apply(lambda x: 1 if x['TeamCode']==x['LossTeam'] else 0, 1)"
   ]
  },
  {
   "cell_type": "markdown",
   "metadata": {},
   "source": [
    "- display games played, games won, games loss, goals for and goals against by team for the season."
   ]
  },
  {
   "cell_type": "code",
   "execution_count": 93,
   "metadata": {
    "collapsed": false
   },
   "outputs": [
    {
     "data": {
      "text/html": [
       "<div>\n",
       "<table border=\"1\" class=\"dataframe\">\n",
       "  <thead>\n",
       "    <tr style=\"text-align: right;\">\n",
       "      <th></th>\n",
       "      <th>Season</th>\n",
       "      <th>GameNumber</th>\n",
       "      <th>TeamCode</th>\n",
       "      <th>Position</th>\n",
       "      <th>GF</th>\n",
       "      <th>GA</th>\n",
       "      <th>RosterCount</th>\n",
       "      <th>PositionCount</th>\n",
       "      <th>CCount</th>\n",
       "      <th>WCount</th>\n",
       "      <th>DCount</th>\n",
       "      <th>WinTeam</th>\n",
       "      <th>LossTeam</th>\n",
       "      <th>Rank</th>\n",
       "      <th>TeamWin</th>\n",
       "      <th>TeamLos</th>\n",
       "      <th>GP</th>\n",
       "      <th>GW</th>\n",
       "      <th>GL</th>\n",
       "    </tr>\n",
       "  </thead>\n",
       "  <tbody>\n",
       "    <tr>\n",
       "      <th>0</th>\n",
       "      <td>2010</td>\n",
       "      <td>20001</td>\n",
       "      <td>MTL</td>\n",
       "      <td>C</td>\n",
       "      <td>220</td>\n",
       "      <td>213</td>\n",
       "      <td>19</td>\n",
       "      <td>7</td>\n",
       "      <td>7.0</td>\n",
       "      <td>5.0</td>\n",
       "      <td>6.0</td>\n",
       "      <td>TOR</td>\n",
       "      <td>MTL</td>\n",
       "      <td>2.571429</td>\n",
       "      <td>0</td>\n",
       "      <td>1</td>\n",
       "      <td>82</td>\n",
       "      <td>44</td>\n",
       "      <td>38</td>\n",
       "    </tr>\n",
       "    <tr>\n",
       "      <th>1</th>\n",
       "      <td>2010</td>\n",
       "      <td>20001</td>\n",
       "      <td>MTL</td>\n",
       "      <td>D</td>\n",
       "      <td>220</td>\n",
       "      <td>213</td>\n",
       "      <td>19</td>\n",
       "      <td>6</td>\n",
       "      <td>7.0</td>\n",
       "      <td>5.0</td>\n",
       "      <td>6.0</td>\n",
       "      <td>TOR</td>\n",
       "      <td>MTL</td>\n",
       "      <td>2.000000</td>\n",
       "      <td>0</td>\n",
       "      <td>1</td>\n",
       "      <td>82</td>\n",
       "      <td>44</td>\n",
       "      <td>38</td>\n",
       "    </tr>\n",
       "    <tr>\n",
       "      <th>2</th>\n",
       "      <td>2010</td>\n",
       "      <td>20001</td>\n",
       "      <td>MTL</td>\n",
       "      <td>G</td>\n",
       "      <td>220</td>\n",
       "      <td>213</td>\n",
       "      <td>19</td>\n",
       "      <td>1</td>\n",
       "      <td>7.0</td>\n",
       "      <td>5.0</td>\n",
       "      <td>6.0</td>\n",
       "      <td>TOR</td>\n",
       "      <td>MTL</td>\n",
       "      <td>1.000000</td>\n",
       "      <td>0</td>\n",
       "      <td>1</td>\n",
       "      <td>82</td>\n",
       "      <td>44</td>\n",
       "      <td>38</td>\n",
       "    </tr>\n",
       "    <tr>\n",
       "      <th>3</th>\n",
       "      <td>2010</td>\n",
       "      <td>20001</td>\n",
       "      <td>MTL</td>\n",
       "      <td>W</td>\n",
       "      <td>220</td>\n",
       "      <td>213</td>\n",
       "      <td>19</td>\n",
       "      <td>5</td>\n",
       "      <td>7.0</td>\n",
       "      <td>5.0</td>\n",
       "      <td>6.0</td>\n",
       "      <td>TOR</td>\n",
       "      <td>MTL</td>\n",
       "      <td>2.000000</td>\n",
       "      <td>0</td>\n",
       "      <td>1</td>\n",
       "      <td>82</td>\n",
       "      <td>44</td>\n",
       "      <td>38</td>\n",
       "    </tr>\n",
       "    <tr>\n",
       "      <th>4</th>\n",
       "      <td>2010</td>\n",
       "      <td>20001</td>\n",
       "      <td>TOR</td>\n",
       "      <td>C</td>\n",
       "      <td>225</td>\n",
       "      <td>259</td>\n",
       "      <td>19</td>\n",
       "      <td>4</td>\n",
       "      <td>4.0</td>\n",
       "      <td>8.0</td>\n",
       "      <td>6.0</td>\n",
       "      <td>TOR</td>\n",
       "      <td>MTL</td>\n",
       "      <td>2.500000</td>\n",
       "      <td>1</td>\n",
       "      <td>0</td>\n",
       "      <td>82</td>\n",
       "      <td>37</td>\n",
       "      <td>45</td>\n",
       "    </tr>\n",
       "  </tbody>\n",
       "</table>\n",
       "</div>"
      ],
      "text/plain": [
       "   Season  GameNumber TeamCode Position   GF   GA  RosterCount  PositionCount  \\\n",
       "0    2010       20001      MTL        C  220  213           19              7   \n",
       "1    2010       20001      MTL        D  220  213           19              6   \n",
       "2    2010       20001      MTL        G  220  213           19              1   \n",
       "3    2010       20001      MTL        W  220  213           19              5   \n",
       "4    2010       20001      TOR        C  225  259           19              4   \n",
       "\n",
       "   CCount  WCount  DCount WinTeam LossTeam      Rank  TeamWin  TeamLos  GP  \\\n",
       "0     7.0     5.0     6.0     TOR      MTL  2.571429        0        1  82   \n",
       "1     7.0     5.0     6.0     TOR      MTL  2.000000        0        1  82   \n",
       "2     7.0     5.0     6.0     TOR      MTL  1.000000        0        1  82   \n",
       "3     7.0     5.0     6.0     TOR      MTL  2.000000        0        1  82   \n",
       "4     4.0     8.0     6.0     TOR      MTL  2.500000        1        0  82   \n",
       "\n",
       "   GW  GL  \n",
       "0  44  38  \n",
       "1  44  38  \n",
       "2  44  38  \n",
       "3  44  38  \n",
       "4  37  45  "
      ]
     },
     "execution_count": 93,
     "metadata": {},
     "output_type": "execute_result"
    }
   ],
   "source": [
    "dw2['GP'] = dw2.groupby(['Season', 'Position', 'TeamCode'])['GameNumber'].transform('count')\n",
    "dw2['GW'] = dw2.groupby(['Season', 'Position', 'TeamCode'])['TeamWin'].transform('sum')\n",
    "dw2['GL'] = dw2.groupby(['Season', 'Position', 'TeamCode'])['TeamLos'].transform('sum')\n",
    "dw2['GF'] = dw2.groupby(['Season', 'Position', 'TeamCode'])['GF'].transform('sum')\n",
    "dw2['GA'] = dw2.groupby(['Season', 'Position', 'TeamCode'])['GA'].transform('sum')\n",
    "dw2.head()"
   ]
  },
  {
   "cell_type": "markdown",
   "metadata": {},
   "source": [
    "- create columns with the mean ranking for forward and defenseman by team per game."
   ]
  },
  {
   "cell_type": "code",
   "execution_count": 94,
   "metadata": {
    "collapsed": false
   },
   "outputs": [
    {
     "data": {
      "text/html": [
       "<div>\n",
       "<table border=\"1\" class=\"dataframe\">\n",
       "  <thead>\n",
       "    <tr style=\"text-align: right;\">\n",
       "      <th></th>\n",
       "      <th>Season</th>\n",
       "      <th>GameNumber</th>\n",
       "      <th>TeamCode</th>\n",
       "      <th>Position</th>\n",
       "      <th>GF</th>\n",
       "      <th>GA</th>\n",
       "      <th>RosterCount</th>\n",
       "      <th>PositionCount</th>\n",
       "      <th>CCount</th>\n",
       "      <th>WCount</th>\n",
       "      <th>DCount</th>\n",
       "      <th>WinTeam</th>\n",
       "      <th>LossTeam</th>\n",
       "      <th>Rank</th>\n",
       "      <th>TeamWin</th>\n",
       "      <th>TeamLos</th>\n",
       "      <th>GP</th>\n",
       "      <th>GW</th>\n",
       "      <th>GL</th>\n",
       "      <th>RankC</th>\n",
       "      <th>RankW</th>\n",
       "      <th>RankD</th>\n",
       "      <th>RankG</th>\n",
       "    </tr>\n",
       "  </thead>\n",
       "  <tbody>\n",
       "    <tr>\n",
       "      <th>0</th>\n",
       "      <td>2010</td>\n",
       "      <td>20001</td>\n",
       "      <td>MTL</td>\n",
       "      <td>C</td>\n",
       "      <td>220</td>\n",
       "      <td>213</td>\n",
       "      <td>19</td>\n",
       "      <td>7</td>\n",
       "      <td>7.0</td>\n",
       "      <td>5.0</td>\n",
       "      <td>6.0</td>\n",
       "      <td>TOR</td>\n",
       "      <td>MTL</td>\n",
       "      <td>2.571429</td>\n",
       "      <td>0</td>\n",
       "      <td>1</td>\n",
       "      <td>82</td>\n",
       "      <td>44</td>\n",
       "      <td>38</td>\n",
       "      <td>2.571429</td>\n",
       "      <td>2.00</td>\n",
       "      <td>2.0</td>\n",
       "      <td>1.0</td>\n",
       "    </tr>\n",
       "    <tr>\n",
       "      <th>1</th>\n",
       "      <td>2010</td>\n",
       "      <td>20001</td>\n",
       "      <td>MTL</td>\n",
       "      <td>D</td>\n",
       "      <td>220</td>\n",
       "      <td>213</td>\n",
       "      <td>19</td>\n",
       "      <td>6</td>\n",
       "      <td>7.0</td>\n",
       "      <td>5.0</td>\n",
       "      <td>6.0</td>\n",
       "      <td>TOR</td>\n",
       "      <td>MTL</td>\n",
       "      <td>2.000000</td>\n",
       "      <td>0</td>\n",
       "      <td>1</td>\n",
       "      <td>82</td>\n",
       "      <td>44</td>\n",
       "      <td>38</td>\n",
       "      <td>2.571429</td>\n",
       "      <td>2.00</td>\n",
       "      <td>2.0</td>\n",
       "      <td>1.0</td>\n",
       "    </tr>\n",
       "    <tr>\n",
       "      <th>2</th>\n",
       "      <td>2010</td>\n",
       "      <td>20001</td>\n",
       "      <td>MTL</td>\n",
       "      <td>G</td>\n",
       "      <td>220</td>\n",
       "      <td>213</td>\n",
       "      <td>19</td>\n",
       "      <td>1</td>\n",
       "      <td>7.0</td>\n",
       "      <td>5.0</td>\n",
       "      <td>6.0</td>\n",
       "      <td>TOR</td>\n",
       "      <td>MTL</td>\n",
       "      <td>1.000000</td>\n",
       "      <td>0</td>\n",
       "      <td>1</td>\n",
       "      <td>82</td>\n",
       "      <td>44</td>\n",
       "      <td>38</td>\n",
       "      <td>2.571429</td>\n",
       "      <td>2.00</td>\n",
       "      <td>2.0</td>\n",
       "      <td>1.0</td>\n",
       "    </tr>\n",
       "    <tr>\n",
       "      <th>3</th>\n",
       "      <td>2010</td>\n",
       "      <td>20001</td>\n",
       "      <td>MTL</td>\n",
       "      <td>W</td>\n",
       "      <td>220</td>\n",
       "      <td>213</td>\n",
       "      <td>19</td>\n",
       "      <td>5</td>\n",
       "      <td>7.0</td>\n",
       "      <td>5.0</td>\n",
       "      <td>6.0</td>\n",
       "      <td>TOR</td>\n",
       "      <td>MTL</td>\n",
       "      <td>2.000000</td>\n",
       "      <td>0</td>\n",
       "      <td>1</td>\n",
       "      <td>82</td>\n",
       "      <td>44</td>\n",
       "      <td>38</td>\n",
       "      <td>2.571429</td>\n",
       "      <td>2.00</td>\n",
       "      <td>2.0</td>\n",
       "      <td>1.0</td>\n",
       "    </tr>\n",
       "    <tr>\n",
       "      <th>4</th>\n",
       "      <td>2010</td>\n",
       "      <td>20001</td>\n",
       "      <td>TOR</td>\n",
       "      <td>C</td>\n",
       "      <td>225</td>\n",
       "      <td>259</td>\n",
       "      <td>19</td>\n",
       "      <td>4</td>\n",
       "      <td>4.0</td>\n",
       "      <td>8.0</td>\n",
       "      <td>6.0</td>\n",
       "      <td>TOR</td>\n",
       "      <td>MTL</td>\n",
       "      <td>2.500000</td>\n",
       "      <td>1</td>\n",
       "      <td>0</td>\n",
       "      <td>82</td>\n",
       "      <td>37</td>\n",
       "      <td>45</td>\n",
       "      <td>2.500000</td>\n",
       "      <td>2.25</td>\n",
       "      <td>2.0</td>\n",
       "      <td>3.0</td>\n",
       "    </tr>\n",
       "  </tbody>\n",
       "</table>\n",
       "</div>"
      ],
      "text/plain": [
       "   Season  GameNumber TeamCode Position   GF   GA  RosterCount  PositionCount  \\\n",
       "0    2010       20001      MTL        C  220  213           19              7   \n",
       "1    2010       20001      MTL        D  220  213           19              6   \n",
       "2    2010       20001      MTL        G  220  213           19              1   \n",
       "3    2010       20001      MTL        W  220  213           19              5   \n",
       "4    2010       20001      TOR        C  225  259           19              4   \n",
       "\n",
       "   CCount  WCount  DCount WinTeam LossTeam      Rank  TeamWin  TeamLos  GP  \\\n",
       "0     7.0     5.0     6.0     TOR      MTL  2.571429        0        1  82   \n",
       "1     7.0     5.0     6.0     TOR      MTL  2.000000        0        1  82   \n",
       "2     7.0     5.0     6.0     TOR      MTL  1.000000        0        1  82   \n",
       "3     7.0     5.0     6.0     TOR      MTL  2.000000        0        1  82   \n",
       "4     4.0     8.0     6.0     TOR      MTL  2.500000        1        0  82   \n",
       "\n",
       "   GW  GL     RankC  RankW  RankD  RankG  \n",
       "0  44  38  2.571429   2.00    2.0    1.0  \n",
       "1  44  38  2.571429   2.00    2.0    1.0  \n",
       "2  44  38  2.571429   2.00    2.0    1.0  \n",
       "3  44  38  2.571429   2.00    2.0    1.0  \n",
       "4  37  45  2.500000   2.25    2.0    3.0  "
      ]
     },
     "execution_count": 94,
     "metadata": {},
     "output_type": "execute_result"
    }
   ],
   "source": [
    "dw2['RankC'] = dw2.apply(lambda x: x['Rank'] if x['Position']=='C' else np.NaN, 1)\n",
    "dw2['RankW'] = dw2.apply(lambda x: x['Rank'] if x['Position']=='W' else np.NaN, 1)\n",
    "dw2['RankD'] = dw2.apply(lambda x: x['Rank'] if x['Position']=='D' else np.NaN, 1)\n",
    "dw2['RankG'] = dw2.apply(lambda x: x['Rank'] if x['Position']=='G' else np.NaN, 1)\n",
    "\n",
    "dw2['RankC'] = dw2.groupby(['Season','GameNumber', 'TeamCode'])['RankC'].apply(lambda x: x.ffill().bfill())\n",
    "dw2['RankW'] = dw2.groupby(['Season','GameNumber', 'TeamCode'])['RankW'].apply(lambda x: x.ffill().bfill())\n",
    "dw2['RankD'] = dw2.groupby(['Season','GameNumber', 'TeamCode'])['RankD'].apply(lambda x: x.ffill().bfill())\n",
    "dw2['RankG'] = dw2.groupby(['Season','GameNumber', 'TeamCode'])['RankG'].apply(lambda x: x.ffill().bfill())\n",
    "dw2.head()"
   ]
  },
  {
   "cell_type": "markdown",
   "metadata": {},
   "source": [
    "- compute the mean per position by team for the season."
   ]
  },
  {
   "cell_type": "code",
   "execution_count": 95,
   "metadata": {
    "collapsed": false
   },
   "outputs": [
    {
     "data": {
      "text/html": [
       "<div>\n",
       "<table border=\"1\" class=\"dataframe\">\n",
       "  <thead>\n",
       "    <tr style=\"text-align: right;\">\n",
       "      <th></th>\n",
       "      <th>Season</th>\n",
       "      <th>GameNumber</th>\n",
       "      <th>TeamCode</th>\n",
       "      <th>Position</th>\n",
       "      <th>GF</th>\n",
       "      <th>GA</th>\n",
       "      <th>RosterCount</th>\n",
       "      <th>PositionCount</th>\n",
       "      <th>CCount</th>\n",
       "      <th>WCount</th>\n",
       "      <th>DCount</th>\n",
       "      <th>WinTeam</th>\n",
       "      <th>LossTeam</th>\n",
       "      <th>Rank</th>\n",
       "      <th>TeamWin</th>\n",
       "      <th>TeamLos</th>\n",
       "      <th>GP</th>\n",
       "      <th>GW</th>\n",
       "      <th>GL</th>\n",
       "      <th>RankC</th>\n",
       "      <th>RankW</th>\n",
       "      <th>RankD</th>\n",
       "      <th>RankG</th>\n",
       "      <th>MeanC</th>\n",
       "      <th>MeanW</th>\n",
       "      <th>MeanD</th>\n",
       "      <th>MeanG</th>\n",
       "    </tr>\n",
       "  </thead>\n",
       "  <tbody>\n",
       "    <tr>\n",
       "      <th>0</th>\n",
       "      <td>2010</td>\n",
       "      <td>20001</td>\n",
       "      <td>MTL</td>\n",
       "      <td>C</td>\n",
       "      <td>220</td>\n",
       "      <td>213</td>\n",
       "      <td>19</td>\n",
       "      <td>7</td>\n",
       "      <td>7.0</td>\n",
       "      <td>5.0</td>\n",
       "      <td>6.0</td>\n",
       "      <td>TOR</td>\n",
       "      <td>MTL</td>\n",
       "      <td>2.571429</td>\n",
       "      <td>0</td>\n",
       "      <td>1</td>\n",
       "      <td>82</td>\n",
       "      <td>44</td>\n",
       "      <td>38</td>\n",
       "      <td>2.571429</td>\n",
       "      <td>2.00</td>\n",
       "      <td>2.0</td>\n",
       "      <td>1.0</td>\n",
       "      <td>2.193148</td>\n",
       "      <td>1.858420</td>\n",
       "      <td>1.822590</td>\n",
       "      <td>1.158537</td>\n",
       "    </tr>\n",
       "    <tr>\n",
       "      <th>1</th>\n",
       "      <td>2010</td>\n",
       "      <td>20001</td>\n",
       "      <td>MTL</td>\n",
       "      <td>D</td>\n",
       "      <td>220</td>\n",
       "      <td>213</td>\n",
       "      <td>19</td>\n",
       "      <td>6</td>\n",
       "      <td>7.0</td>\n",
       "      <td>5.0</td>\n",
       "      <td>6.0</td>\n",
       "      <td>TOR</td>\n",
       "      <td>MTL</td>\n",
       "      <td>2.000000</td>\n",
       "      <td>0</td>\n",
       "      <td>1</td>\n",
       "      <td>82</td>\n",
       "      <td>44</td>\n",
       "      <td>38</td>\n",
       "      <td>2.571429</td>\n",
       "      <td>2.00</td>\n",
       "      <td>2.0</td>\n",
       "      <td>1.0</td>\n",
       "      <td>2.193148</td>\n",
       "      <td>1.858420</td>\n",
       "      <td>1.822590</td>\n",
       "      <td>1.158537</td>\n",
       "    </tr>\n",
       "    <tr>\n",
       "      <th>2</th>\n",
       "      <td>2010</td>\n",
       "      <td>20001</td>\n",
       "      <td>MTL</td>\n",
       "      <td>G</td>\n",
       "      <td>220</td>\n",
       "      <td>213</td>\n",
       "      <td>19</td>\n",
       "      <td>1</td>\n",
       "      <td>7.0</td>\n",
       "      <td>5.0</td>\n",
       "      <td>6.0</td>\n",
       "      <td>TOR</td>\n",
       "      <td>MTL</td>\n",
       "      <td>1.000000</td>\n",
       "      <td>0</td>\n",
       "      <td>1</td>\n",
       "      <td>82</td>\n",
       "      <td>44</td>\n",
       "      <td>38</td>\n",
       "      <td>2.571429</td>\n",
       "      <td>2.00</td>\n",
       "      <td>2.0</td>\n",
       "      <td>1.0</td>\n",
       "      <td>2.193148</td>\n",
       "      <td>1.858420</td>\n",
       "      <td>1.822590</td>\n",
       "      <td>1.158537</td>\n",
       "    </tr>\n",
       "    <tr>\n",
       "      <th>3</th>\n",
       "      <td>2010</td>\n",
       "      <td>20001</td>\n",
       "      <td>MTL</td>\n",
       "      <td>W</td>\n",
       "      <td>220</td>\n",
       "      <td>213</td>\n",
       "      <td>19</td>\n",
       "      <td>5</td>\n",
       "      <td>7.0</td>\n",
       "      <td>5.0</td>\n",
       "      <td>6.0</td>\n",
       "      <td>TOR</td>\n",
       "      <td>MTL</td>\n",
       "      <td>2.000000</td>\n",
       "      <td>0</td>\n",
       "      <td>1</td>\n",
       "      <td>82</td>\n",
       "      <td>44</td>\n",
       "      <td>38</td>\n",
       "      <td>2.571429</td>\n",
       "      <td>2.00</td>\n",
       "      <td>2.0</td>\n",
       "      <td>1.0</td>\n",
       "      <td>2.193148</td>\n",
       "      <td>1.858420</td>\n",
       "      <td>1.822590</td>\n",
       "      <td>1.158537</td>\n",
       "    </tr>\n",
       "    <tr>\n",
       "      <th>4</th>\n",
       "      <td>2010</td>\n",
       "      <td>20001</td>\n",
       "      <td>TOR</td>\n",
       "      <td>C</td>\n",
       "      <td>225</td>\n",
       "      <td>259</td>\n",
       "      <td>19</td>\n",
       "      <td>4</td>\n",
       "      <td>4.0</td>\n",
       "      <td>8.0</td>\n",
       "      <td>6.0</td>\n",
       "      <td>TOR</td>\n",
       "      <td>MTL</td>\n",
       "      <td>2.500000</td>\n",
       "      <td>1</td>\n",
       "      <td>0</td>\n",
       "      <td>82</td>\n",
       "      <td>37</td>\n",
       "      <td>45</td>\n",
       "      <td>2.500000</td>\n",
       "      <td>2.25</td>\n",
       "      <td>2.0</td>\n",
       "      <td>3.0</td>\n",
       "      <td>2.163211</td>\n",
       "      <td>2.307903</td>\n",
       "      <td>2.256678</td>\n",
       "      <td>2.182927</td>\n",
       "    </tr>\n",
       "  </tbody>\n",
       "</table>\n",
       "</div>"
      ],
      "text/plain": [
       "   Season  GameNumber TeamCode Position   GF   GA  RosterCount  PositionCount  \\\n",
       "0    2010       20001      MTL        C  220  213           19              7   \n",
       "1    2010       20001      MTL        D  220  213           19              6   \n",
       "2    2010       20001      MTL        G  220  213           19              1   \n",
       "3    2010       20001      MTL        W  220  213           19              5   \n",
       "4    2010       20001      TOR        C  225  259           19              4   \n",
       "\n",
       "   CCount  WCount  DCount WinTeam LossTeam      Rank  TeamWin  TeamLos  GP  \\\n",
       "0     7.0     5.0     6.0     TOR      MTL  2.571429        0        1  82   \n",
       "1     7.0     5.0     6.0     TOR      MTL  2.000000        0        1  82   \n",
       "2     7.0     5.0     6.0     TOR      MTL  1.000000        0        1  82   \n",
       "3     7.0     5.0     6.0     TOR      MTL  2.000000        0        1  82   \n",
       "4     4.0     8.0     6.0     TOR      MTL  2.500000        1        0  82   \n",
       "\n",
       "   GW  GL     RankC  RankW  RankD  RankG     MeanC     MeanW     MeanD  \\\n",
       "0  44  38  2.571429   2.00    2.0    1.0  2.193148  1.858420  1.822590   \n",
       "1  44  38  2.571429   2.00    2.0    1.0  2.193148  1.858420  1.822590   \n",
       "2  44  38  2.571429   2.00    2.0    1.0  2.193148  1.858420  1.822590   \n",
       "3  44  38  2.571429   2.00    2.0    1.0  2.193148  1.858420  1.822590   \n",
       "4  37  45  2.500000   2.25    2.0    3.0  2.163211  2.307903  2.256678   \n",
       "\n",
       "      MeanG  \n",
       "0  1.158537  \n",
       "1  1.158537  \n",
       "2  1.158537  \n",
       "3  1.158537  \n",
       "4  2.182927  "
      ]
     },
     "execution_count": 95,
     "metadata": {},
     "output_type": "execute_result"
    }
   ],
   "source": [
    "dw2['MeanC']= dw2.groupby(['Season', 'TeamCode'])['RankC'].transform('mean')\n",
    "dw2['MeanW']= dw2.groupby(['Season', 'TeamCode'])['RankW'].transform('mean')\n",
    "dw2['MeanD']= dw2.groupby(['Season', 'TeamCode'])['RankD'].transform('mean')\n",
    "dw2['MeanG']= dw2.groupby(['Season', 'TeamCode'])['RankG'].transform('mean')\n",
    "dw2.head()"
   ]
  },
  {
   "cell_type": "markdown",
   "metadata": {},
   "source": [
    "- display the quantity of wins and losses per team for the whole season"
   ]
  },
  {
   "cell_type": "code",
   "execution_count": 96,
   "metadata": {
    "collapsed": false
   },
   "outputs": [
    {
     "data": {
      "text/html": [
       "<div>\n",
       "<table border=\"1\" class=\"dataframe\">\n",
       "  <thead>\n",
       "    <tr style=\"text-align: right;\">\n",
       "      <th></th>\n",
       "      <th>Season</th>\n",
       "      <th>GameNumber</th>\n",
       "      <th>TeamCode</th>\n",
       "      <th>Position</th>\n",
       "      <th>GF</th>\n",
       "      <th>GA</th>\n",
       "      <th>RosterCount</th>\n",
       "      <th>PositionCount</th>\n",
       "      <th>CCount</th>\n",
       "      <th>WCount</th>\n",
       "      <th>DCount</th>\n",
       "      <th>WinTeam</th>\n",
       "      <th>LossTeam</th>\n",
       "      <th>Rank</th>\n",
       "      <th>TeamWin</th>\n",
       "      <th>TeamLos</th>\n",
       "      <th>GP</th>\n",
       "      <th>GW</th>\n",
       "      <th>GL</th>\n",
       "      <th>RankC</th>\n",
       "      <th>RankW</th>\n",
       "      <th>RankD</th>\n",
       "      <th>RankG</th>\n",
       "      <th>MeanC</th>\n",
       "      <th>MeanW</th>\n",
       "      <th>MeanD</th>\n",
       "      <th>MeanG</th>\n",
       "      <th>L</th>\n",
       "      <th>W</th>\n",
       "    </tr>\n",
       "  </thead>\n",
       "  <tbody>\n",
       "    <tr>\n",
       "      <th>0</th>\n",
       "      <td>2010</td>\n",
       "      <td>20001</td>\n",
       "      <td>MTL</td>\n",
       "      <td>C</td>\n",
       "      <td>220</td>\n",
       "      <td>213</td>\n",
       "      <td>19</td>\n",
       "      <td>7</td>\n",
       "      <td>7.0</td>\n",
       "      <td>5.0</td>\n",
       "      <td>6.0</td>\n",
       "      <td>TOR</td>\n",
       "      <td>MTL</td>\n",
       "      <td>2.571429</td>\n",
       "      <td>0</td>\n",
       "      <td>1</td>\n",
       "      <td>82</td>\n",
       "      <td>44</td>\n",
       "      <td>38</td>\n",
       "      <td>2.571429</td>\n",
       "      <td>2.00</td>\n",
       "      <td>2.0</td>\n",
       "      <td>1.0</td>\n",
       "      <td>2.193148</td>\n",
       "      <td>1.858420</td>\n",
       "      <td>1.822590</td>\n",
       "      <td>1.158537</td>\n",
       "      <td>38</td>\n",
       "      <td>44</td>\n",
       "    </tr>\n",
       "    <tr>\n",
       "      <th>1</th>\n",
       "      <td>2010</td>\n",
       "      <td>20001</td>\n",
       "      <td>MTL</td>\n",
       "      <td>D</td>\n",
       "      <td>220</td>\n",
       "      <td>213</td>\n",
       "      <td>19</td>\n",
       "      <td>6</td>\n",
       "      <td>7.0</td>\n",
       "      <td>5.0</td>\n",
       "      <td>6.0</td>\n",
       "      <td>TOR</td>\n",
       "      <td>MTL</td>\n",
       "      <td>2.000000</td>\n",
       "      <td>0</td>\n",
       "      <td>1</td>\n",
       "      <td>82</td>\n",
       "      <td>44</td>\n",
       "      <td>38</td>\n",
       "      <td>2.571429</td>\n",
       "      <td>2.00</td>\n",
       "      <td>2.0</td>\n",
       "      <td>1.0</td>\n",
       "      <td>2.193148</td>\n",
       "      <td>1.858420</td>\n",
       "      <td>1.822590</td>\n",
       "      <td>1.158537</td>\n",
       "      <td>38</td>\n",
       "      <td>44</td>\n",
       "    </tr>\n",
       "    <tr>\n",
       "      <th>2</th>\n",
       "      <td>2010</td>\n",
       "      <td>20001</td>\n",
       "      <td>MTL</td>\n",
       "      <td>G</td>\n",
       "      <td>220</td>\n",
       "      <td>213</td>\n",
       "      <td>19</td>\n",
       "      <td>1</td>\n",
       "      <td>7.0</td>\n",
       "      <td>5.0</td>\n",
       "      <td>6.0</td>\n",
       "      <td>TOR</td>\n",
       "      <td>MTL</td>\n",
       "      <td>1.000000</td>\n",
       "      <td>0</td>\n",
       "      <td>1</td>\n",
       "      <td>82</td>\n",
       "      <td>44</td>\n",
       "      <td>38</td>\n",
       "      <td>2.571429</td>\n",
       "      <td>2.00</td>\n",
       "      <td>2.0</td>\n",
       "      <td>1.0</td>\n",
       "      <td>2.193148</td>\n",
       "      <td>1.858420</td>\n",
       "      <td>1.822590</td>\n",
       "      <td>1.158537</td>\n",
       "      <td>38</td>\n",
       "      <td>44</td>\n",
       "    </tr>\n",
       "    <tr>\n",
       "      <th>3</th>\n",
       "      <td>2010</td>\n",
       "      <td>20001</td>\n",
       "      <td>MTL</td>\n",
       "      <td>W</td>\n",
       "      <td>220</td>\n",
       "      <td>213</td>\n",
       "      <td>19</td>\n",
       "      <td>5</td>\n",
       "      <td>7.0</td>\n",
       "      <td>5.0</td>\n",
       "      <td>6.0</td>\n",
       "      <td>TOR</td>\n",
       "      <td>MTL</td>\n",
       "      <td>2.000000</td>\n",
       "      <td>0</td>\n",
       "      <td>1</td>\n",
       "      <td>82</td>\n",
       "      <td>44</td>\n",
       "      <td>38</td>\n",
       "      <td>2.571429</td>\n",
       "      <td>2.00</td>\n",
       "      <td>2.0</td>\n",
       "      <td>1.0</td>\n",
       "      <td>2.193148</td>\n",
       "      <td>1.858420</td>\n",
       "      <td>1.822590</td>\n",
       "      <td>1.158537</td>\n",
       "      <td>38</td>\n",
       "      <td>44</td>\n",
       "    </tr>\n",
       "    <tr>\n",
       "      <th>4</th>\n",
       "      <td>2010</td>\n",
       "      <td>20001</td>\n",
       "      <td>TOR</td>\n",
       "      <td>C</td>\n",
       "      <td>225</td>\n",
       "      <td>259</td>\n",
       "      <td>19</td>\n",
       "      <td>4</td>\n",
       "      <td>4.0</td>\n",
       "      <td>8.0</td>\n",
       "      <td>6.0</td>\n",
       "      <td>TOR</td>\n",
       "      <td>MTL</td>\n",
       "      <td>2.500000</td>\n",
       "      <td>1</td>\n",
       "      <td>0</td>\n",
       "      <td>82</td>\n",
       "      <td>37</td>\n",
       "      <td>45</td>\n",
       "      <td>2.500000</td>\n",
       "      <td>2.25</td>\n",
       "      <td>2.0</td>\n",
       "      <td>3.0</td>\n",
       "      <td>2.163211</td>\n",
       "      <td>2.307903</td>\n",
       "      <td>2.256678</td>\n",
       "      <td>2.182927</td>\n",
       "      <td>45</td>\n",
       "      <td>37</td>\n",
       "    </tr>\n",
       "  </tbody>\n",
       "</table>\n",
       "</div>"
      ],
      "text/plain": [
       "   Season  GameNumber TeamCode Position   GF   GA  RosterCount  PositionCount  \\\n",
       "0    2010       20001      MTL        C  220  213           19              7   \n",
       "1    2010       20001      MTL        D  220  213           19              6   \n",
       "2    2010       20001      MTL        G  220  213           19              1   \n",
       "3    2010       20001      MTL        W  220  213           19              5   \n",
       "4    2010       20001      TOR        C  225  259           19              4   \n",
       "\n",
       "   CCount  WCount  DCount WinTeam LossTeam      Rank  TeamWin  TeamLos  GP  \\\n",
       "0     7.0     5.0     6.0     TOR      MTL  2.571429        0        1  82   \n",
       "1     7.0     5.0     6.0     TOR      MTL  2.000000        0        1  82   \n",
       "2     7.0     5.0     6.0     TOR      MTL  1.000000        0        1  82   \n",
       "3     7.0     5.0     6.0     TOR      MTL  2.000000        0        1  82   \n",
       "4     4.0     8.0     6.0     TOR      MTL  2.500000        1        0  82   \n",
       "\n",
       "   GW  GL     RankC  RankW  RankD  RankG     MeanC     MeanW     MeanD  \\\n",
       "0  44  38  2.571429   2.00    2.0    1.0  2.193148  1.858420  1.822590   \n",
       "1  44  38  2.571429   2.00    2.0    1.0  2.193148  1.858420  1.822590   \n",
       "2  44  38  2.571429   2.00    2.0    1.0  2.193148  1.858420  1.822590   \n",
       "3  44  38  2.571429   2.00    2.0    1.0  2.193148  1.858420  1.822590   \n",
       "4  37  45  2.500000   2.25    2.0    3.0  2.163211  2.307903  2.256678   \n",
       "\n",
       "      MeanG   L   W  \n",
       "0  1.158537  38  44  \n",
       "1  1.158537  38  44  \n",
       "2  1.158537  38  44  \n",
       "3  1.158537  38  44  \n",
       "4  2.182927  45  37  "
      ]
     },
     "execution_count": 96,
     "metadata": {},
     "output_type": "execute_result"
    }
   ],
   "source": [
    "dw2['L'] = dw2.apply(lambda x: x['GL'] if x['TeamCode']== x['LossTeam'] else (x['GP'] - x['GW']), 1)\n",
    "dw2['W'] = dw2.apply(lambda x: x['GW'] if x['TeamCode']== x['WinTeam'] else (x['GP'] - x['GL']), 1)\n",
    "dw2.head()"
   ]
  },
  {
   "cell_type": "markdown",
   "metadata": {},
   "source": [
    "- compute win and loss percent by team. Drop duplicate observations."
   ]
  },
  {
   "cell_type": "code",
   "execution_count": 97,
   "metadata": {
    "collapsed": false
   },
   "outputs": [
    {
     "data": {
      "text/html": [
       "<div>\n",
       "<table border=\"1\" class=\"dataframe\">\n",
       "  <thead>\n",
       "    <tr style=\"text-align: right;\">\n",
       "      <th></th>\n",
       "      <th>Season</th>\n",
       "      <th>TeamCode</th>\n",
       "      <th>GP</th>\n",
       "      <th>W</th>\n",
       "      <th>L</th>\n",
       "      <th>GF</th>\n",
       "      <th>GA</th>\n",
       "      <th>WinPc</th>\n",
       "      <th>LossPc</th>\n",
       "      <th>MeanC</th>\n",
       "      <th>MeanW</th>\n",
       "      <th>MeanD</th>\n",
       "      <th>MeanG</th>\n",
       "    </tr>\n",
       "  </thead>\n",
       "  <tbody>\n",
       "    <tr>\n",
       "      <th>0</th>\n",
       "      <td>2010</td>\n",
       "      <td>MTL</td>\n",
       "      <td>82</td>\n",
       "      <td>44</td>\n",
       "      <td>38</td>\n",
       "      <td>220</td>\n",
       "      <td>213</td>\n",
       "      <td>0.536585</td>\n",
       "      <td>0.463415</td>\n",
       "      <td>2.193148</td>\n",
       "      <td>1.858420</td>\n",
       "      <td>1.822590</td>\n",
       "      <td>1.158537</td>\n",
       "    </tr>\n",
       "    <tr>\n",
       "      <th>4</th>\n",
       "      <td>2010</td>\n",
       "      <td>TOR</td>\n",
       "      <td>82</td>\n",
       "      <td>37</td>\n",
       "      <td>45</td>\n",
       "      <td>225</td>\n",
       "      <td>259</td>\n",
       "      <td>0.451220</td>\n",
       "      <td>0.548780</td>\n",
       "      <td>2.163211</td>\n",
       "      <td>2.307903</td>\n",
       "      <td>2.256678</td>\n",
       "      <td>2.182927</td>\n",
       "    </tr>\n",
       "    <tr>\n",
       "      <th>8</th>\n",
       "      <td>2010</td>\n",
       "      <td>PHI</td>\n",
       "      <td>82</td>\n",
       "      <td>47</td>\n",
       "      <td>35</td>\n",
       "      <td>266</td>\n",
       "      <td>233</td>\n",
       "      <td>0.573171</td>\n",
       "      <td>0.426829</td>\n",
       "      <td>1.994919</td>\n",
       "      <td>1.757283</td>\n",
       "      <td>1.947154</td>\n",
       "      <td>2.012195</td>\n",
       "    </tr>\n",
       "    <tr>\n",
       "      <th>12</th>\n",
       "      <td>2010</td>\n",
       "      <td>PIT</td>\n",
       "      <td>82</td>\n",
       "      <td>49</td>\n",
       "      <td>33</td>\n",
       "      <td>244</td>\n",
       "      <td>203</td>\n",
       "      <td>0.597561</td>\n",
       "      <td>0.402439</td>\n",
       "      <td>2.024129</td>\n",
       "      <td>2.275203</td>\n",
       "      <td>1.926713</td>\n",
       "      <td>1.756098</td>\n",
       "    </tr>\n",
       "    <tr>\n",
       "      <th>16</th>\n",
       "      <td>2010</td>\n",
       "      <td>CAR</td>\n",
       "      <td>82</td>\n",
       "      <td>40</td>\n",
       "      <td>42</td>\n",
       "      <td>239</td>\n",
       "      <td>242</td>\n",
       "      <td>0.487805</td>\n",
       "      <td>0.512195</td>\n",
       "      <td>2.072997</td>\n",
       "      <td>2.473229</td>\n",
       "      <td>1.847561</td>\n",
       "      <td>1.243902</td>\n",
       "    </tr>\n",
       "  </tbody>\n",
       "</table>\n",
       "</div>"
      ],
      "text/plain": [
       "    Season TeamCode  GP   W   L   GF   GA     WinPc    LossPc     MeanC  \\\n",
       "0     2010      MTL  82  44  38  220  213  0.536585  0.463415  2.193148   \n",
       "4     2010      TOR  82  37  45  225  259  0.451220  0.548780  2.163211   \n",
       "8     2010      PHI  82  47  35  266  233  0.573171  0.426829  1.994919   \n",
       "12    2010      PIT  82  49  33  244  203  0.597561  0.402439  2.024129   \n",
       "16    2010      CAR  82  40  42  239  242  0.487805  0.512195  2.072997   \n",
       "\n",
       "       MeanW     MeanD     MeanG  \n",
       "0   1.858420  1.822590  1.158537  \n",
       "4   2.307903  2.256678  2.182927  \n",
       "8   1.757283  1.947154  2.012195  \n",
       "12  2.275203  1.926713  1.756098  \n",
       "16  2.473229  1.847561  1.243902  "
      ]
     },
     "execution_count": 97,
     "metadata": {},
     "output_type": "execute_result"
    }
   ],
   "source": [
    "dw2 = dw2[['Season', 'TeamCode', 'GP', 'L', 'W', 'GF', 'GA', 'MeanC', 'MeanW', 'MeanD', 'MeanG']]\n",
    "dw2 = dw2.drop_duplicates(['Season', 'TeamCode'])\n",
    "dw2['WinPc'] = dw2['W']/ dw2['GP']\n",
    "dw2['LossPc'] = dw2['L']/ dw2['GP']\n",
    "\n",
    "dw2 = dw2[['Season', 'TeamCode', 'GP','W', 'L', 'GF', 'GA', 'WinPc', 'LossPc', 'MeanC', 'MeanW', 'MeanD', 'MeanG']]\n",
    "dw2.head()"
   ]
  },
  {
   "cell_type": "markdown",
   "metadata": {},
   "source": [
    "- rank teams based on win percent, mean centres, wingers and defensemen. "
   ]
  },
  {
   "cell_type": "code",
   "execution_count": 98,
   "metadata": {
    "collapsed": false
   },
   "outputs": [
    {
     "data": {
      "text/html": [
       "<div>\n",
       "<table border=\"1\" class=\"dataframe\">\n",
       "  <thead>\n",
       "    <tr style=\"text-align: right;\">\n",
       "      <th></th>\n",
       "      <th>Season</th>\n",
       "      <th>TeamCode</th>\n",
       "      <th>GP</th>\n",
       "      <th>W</th>\n",
       "      <th>L</th>\n",
       "      <th>GF</th>\n",
       "      <th>GA</th>\n",
       "      <th>WinPc</th>\n",
       "      <th>LossPc</th>\n",
       "      <th>MeanC</th>\n",
       "      <th>MeanW</th>\n",
       "      <th>MeanD</th>\n",
       "      <th>MeanG</th>\n",
       "      <th>RankWin</th>\n",
       "      <th>RankC</th>\n",
       "      <th>RankW</th>\n",
       "      <th>RankD</th>\n",
       "      <th>RankG</th>\n",
       "    </tr>\n",
       "  </thead>\n",
       "  <tbody>\n",
       "    <tr>\n",
       "      <th>180</th>\n",
       "      <td>2010</td>\n",
       "      <td>VAN</td>\n",
       "      <td>82</td>\n",
       "      <td>54</td>\n",
       "      <td>28</td>\n",
       "      <td>268</td>\n",
       "      <td>192</td>\n",
       "      <td>0.658537</td>\n",
       "      <td>0.341463</td>\n",
       "      <td>2.121951</td>\n",
       "      <td>1.851287</td>\n",
       "      <td>1.909117</td>\n",
       "      <td>1.000000</td>\n",
       "      <td>1.0</td>\n",
       "      <td>14.0</td>\n",
       "      <td>5.0</td>\n",
       "      <td>10.0</td>\n",
       "      <td>1.0</td>\n",
       "    </tr>\n",
       "    <tr>\n",
       "      <th>12</th>\n",
       "      <td>2010</td>\n",
       "      <td>PIT</td>\n",
       "      <td>82</td>\n",
       "      <td>49</td>\n",
       "      <td>33</td>\n",
       "      <td>244</td>\n",
       "      <td>203</td>\n",
       "      <td>0.597561</td>\n",
       "      <td>0.402439</td>\n",
       "      <td>2.024129</td>\n",
       "      <td>2.275203</td>\n",
       "      <td>1.926713</td>\n",
       "      <td>1.756098</td>\n",
       "      <td>2.0</td>\n",
       "      <td>9.0</td>\n",
       "      <td>19.0</td>\n",
       "      <td>14.0</td>\n",
       "      <td>12.0</td>\n",
       "    </tr>\n",
       "    <tr>\n",
       "      <th>44</th>\n",
       "      <td>2010</td>\n",
       "      <td>S.J</td>\n",
       "      <td>82</td>\n",
       "      <td>48</td>\n",
       "      <td>34</td>\n",
       "      <td>253</td>\n",
       "      <td>216</td>\n",
       "      <td>0.585366</td>\n",
       "      <td>0.414634</td>\n",
       "      <td>1.650523</td>\n",
       "      <td>1.952700</td>\n",
       "      <td>1.917538</td>\n",
       "      <td>1.573171</td>\n",
       "      <td>3.5</td>\n",
       "      <td>2.0</td>\n",
       "      <td>11.0</td>\n",
       "      <td>12.0</td>\n",
       "      <td>10.0</td>\n",
       "    </tr>\n",
       "    <tr>\n",
       "      <th>84</th>\n",
       "      <td>2010</td>\n",
       "      <td>WSH</td>\n",
       "      <td>82</td>\n",
       "      <td>48</td>\n",
       "      <td>34</td>\n",
       "      <td>230</td>\n",
       "      <td>203</td>\n",
       "      <td>0.585366</td>\n",
       "      <td>0.414634</td>\n",
       "      <td>2.416638</td>\n",
       "      <td>1.962152</td>\n",
       "      <td>1.900407</td>\n",
       "      <td>1.536585</td>\n",
       "      <td>3.5</td>\n",
       "      <td>26.0</td>\n",
       "      <td>12.0</td>\n",
       "      <td>9.0</td>\n",
       "      <td>9.0</td>\n",
       "    </tr>\n",
       "    <tr>\n",
       "      <th>68</th>\n",
       "      <td>2010</td>\n",
       "      <td>DET</td>\n",
       "      <td>82</td>\n",
       "      <td>47</td>\n",
       "      <td>35</td>\n",
       "      <td>263</td>\n",
       "      <td>241</td>\n",
       "      <td>0.573171</td>\n",
       "      <td>0.426829</td>\n",
       "      <td>1.688618</td>\n",
       "      <td>1.920369</td>\n",
       "      <td>1.661150</td>\n",
       "      <td>2.134146</td>\n",
       "      <td>6.0</td>\n",
       "      <td>3.0</td>\n",
       "      <td>9.0</td>\n",
       "      <td>1.0</td>\n",
       "      <td>21.0</td>\n",
       "    </tr>\n",
       "    <tr>\n",
       "      <th>8</th>\n",
       "      <td>2010</td>\n",
       "      <td>PHI</td>\n",
       "      <td>82</td>\n",
       "      <td>47</td>\n",
       "      <td>35</td>\n",
       "      <td>266</td>\n",
       "      <td>233</td>\n",
       "      <td>0.573171</td>\n",
       "      <td>0.426829</td>\n",
       "      <td>1.994919</td>\n",
       "      <td>1.757283</td>\n",
       "      <td>1.947154</td>\n",
       "      <td>2.012195</td>\n",
       "      <td>6.0</td>\n",
       "      <td>7.0</td>\n",
       "      <td>3.0</td>\n",
       "      <td>17.0</td>\n",
       "      <td>16.0</td>\n",
       "    </tr>\n",
       "    <tr>\n",
       "      <th>64</th>\n",
       "      <td>2010</td>\n",
       "      <td>ANA</td>\n",
       "      <td>82</td>\n",
       "      <td>47</td>\n",
       "      <td>35</td>\n",
       "      <td>241</td>\n",
       "      <td>237</td>\n",
       "      <td>0.573171</td>\n",
       "      <td>0.426829</td>\n",
       "      <td>2.454268</td>\n",
       "      <td>2.119599</td>\n",
       "      <td>2.171893</td>\n",
       "      <td>1.695122</td>\n",
       "      <td>6.0</td>\n",
       "      <td>28.0</td>\n",
       "      <td>15.0</td>\n",
       "      <td>24.0</td>\n",
       "      <td>11.0</td>\n",
       "    </tr>\n",
       "    <tr>\n",
       "      <th>88</th>\n",
       "      <td>2010</td>\n",
       "      <td>BOS</td>\n",
       "      <td>82</td>\n",
       "      <td>46</td>\n",
       "      <td>36</td>\n",
       "      <td>250</td>\n",
       "      <td>200</td>\n",
       "      <td>0.560976</td>\n",
       "      <td>0.439024</td>\n",
       "      <td>1.553833</td>\n",
       "      <td>1.685017</td>\n",
       "      <td>1.912602</td>\n",
       "      <td>1.329268</td>\n",
       "      <td>9.0</td>\n",
       "      <td>1.0</td>\n",
       "      <td>2.0</td>\n",
       "      <td>11.0</td>\n",
       "      <td>7.0</td>\n",
       "    </tr>\n",
       "    <tr>\n",
       "      <th>140</th>\n",
       "      <td>2010</td>\n",
       "      <td>T.B</td>\n",
       "      <td>82</td>\n",
       "      <td>46</td>\n",
       "      <td>36</td>\n",
       "      <td>252</td>\n",
       "      <td>246</td>\n",
       "      <td>0.560976</td>\n",
       "      <td>0.439024</td>\n",
       "      <td>2.113531</td>\n",
       "      <td>1.662805</td>\n",
       "      <td>2.023229</td>\n",
       "      <td>2.359756</td>\n",
       "      <td>9.0</td>\n",
       "      <td>13.0</td>\n",
       "      <td>1.0</td>\n",
       "      <td>19.0</td>\n",
       "      <td>26.0</td>\n",
       "    </tr>\n",
       "    <tr>\n",
       "      <th>176</th>\n",
       "      <td>2010</td>\n",
       "      <td>L.A</td>\n",
       "      <td>82</td>\n",
       "      <td>46</td>\n",
       "      <td>36</td>\n",
       "      <td>229</td>\n",
       "      <td>207</td>\n",
       "      <td>0.560976</td>\n",
       "      <td>0.439024</td>\n",
       "      <td>2.266260</td>\n",
       "      <td>2.017567</td>\n",
       "      <td>1.809233</td>\n",
       "      <td>2.000000</td>\n",
       "      <td>9.0</td>\n",
       "      <td>23.0</td>\n",
       "      <td>14.0</td>\n",
       "      <td>5.0</td>\n",
       "      <td>13.5</td>\n",
       "    </tr>\n",
       "  </tbody>\n",
       "</table>\n",
       "</div>"
      ],
      "text/plain": [
       "     Season TeamCode  GP   W   L   GF   GA     WinPc    LossPc     MeanC  \\\n",
       "180    2010      VAN  82  54  28  268  192  0.658537  0.341463  2.121951   \n",
       "12     2010      PIT  82  49  33  244  203  0.597561  0.402439  2.024129   \n",
       "44     2010      S.J  82  48  34  253  216  0.585366  0.414634  1.650523   \n",
       "84     2010      WSH  82  48  34  230  203  0.585366  0.414634  2.416638   \n",
       "68     2010      DET  82  47  35  263  241  0.573171  0.426829  1.688618   \n",
       "8      2010      PHI  82  47  35  266  233  0.573171  0.426829  1.994919   \n",
       "64     2010      ANA  82  47  35  241  237  0.573171  0.426829  2.454268   \n",
       "88     2010      BOS  82  46  36  250  200  0.560976  0.439024  1.553833   \n",
       "140    2010      T.B  82  46  36  252  246  0.560976  0.439024  2.113531   \n",
       "176    2010      L.A  82  46  36  229  207  0.560976  0.439024  2.266260   \n",
       "\n",
       "        MeanW     MeanD     MeanG  RankWin  RankC  RankW  RankD  RankG  \n",
       "180  1.851287  1.909117  1.000000      1.0   14.0    5.0   10.0    1.0  \n",
       "12   2.275203  1.926713  1.756098      2.0    9.0   19.0   14.0   12.0  \n",
       "44   1.952700  1.917538  1.573171      3.5    2.0   11.0   12.0   10.0  \n",
       "84   1.962152  1.900407  1.536585      3.5   26.0   12.0    9.0    9.0  \n",
       "68   1.920369  1.661150  2.134146      6.0    3.0    9.0    1.0   21.0  \n",
       "8    1.757283  1.947154  2.012195      6.0    7.0    3.0   17.0   16.0  \n",
       "64   2.119599  2.171893  1.695122      6.0   28.0   15.0   24.0   11.0  \n",
       "88   1.685017  1.912602  1.329268      9.0    1.0    2.0   11.0    7.0  \n",
       "140  1.662805  2.023229  2.359756      9.0   13.0    1.0   19.0   26.0  \n",
       "176  2.017567  1.809233  2.000000      9.0   23.0   14.0    5.0   13.5  "
      ]
     },
     "execution_count": 98,
     "metadata": {},
     "output_type": "execute_result"
    }
   ],
   "source": [
    "dw2['RankWin'] = dw2.groupby(['Season'])['WinPc'].rank(ascending=False)\n",
    "dw2['RankC'] = dw2.groupby(['Season'])['MeanC'].rank(ascending=True)\n",
    "dw2['RankW'] = dw2.groupby(['Season'])['MeanW'].rank(ascending=True)\n",
    "dw2['RankD'] = dw2.groupby(['Season'])['MeanD'].rank(ascending=True)\n",
    "dw2['RankG'] = dw2.groupby(['Season'])['MeanG'].rank(ascending=True)\n",
    "dw2 = dw2.sort_values(['Season', 'RankWin', 'RankC', 'RankW', 'RankD', 'RankG'], ascending=[True, True, True, True, True, True])\n",
    "dw2.head(10)"
   ]
  },
  {
   "cell_type": "code",
   "execution_count": 99,
   "metadata": {
    "collapsed": true
   },
   "outputs": [],
   "source": [
    "dw2.to_csv('/Users/stefanostselios/Brock University/Kevin Mongeon - StephanosShare/out/data/2010_2017_season_team_roster_rank.csv', index='False', sep=',')\n",
    "#dw2.to_csv('/Users/kevinmongeon/Brock University/Steve Tselios - StephanosShare/out/data/2010_2017_season_team_roster_rank.csv', index='False', sep=',')"
   ]
  },
  {
   "cell_type": "markdown",
   "metadata": {},
   "source": [
    "### keep games that have 12 forwards and 6 defensemen per team!!"
   ]
  },
  {
   "cell_type": "code",
   "execution_count": 100,
   "metadata": {
    "collapsed": false
   },
   "outputs": [
    {
     "data": {
      "text/plain": [
       "(357527, 17)"
      ]
     },
     "execution_count": 100,
     "metadata": {},
     "output_type": "execute_result"
    }
   ],
   "source": [
    "du = dw.copy()\n",
    "du.shape"
   ]
  },
  {
   "cell_type": "code",
   "execution_count": 101,
   "metadata": {
    "collapsed": false
   },
   "outputs": [
    {
     "data": {
      "text/html": [
       "<div>\n",
       "<table border=\"1\" class=\"dataframe\">\n",
       "  <thead>\n",
       "    <tr style=\"text-align: right;\">\n",
       "      <th></th>\n",
       "      <th>Season</th>\n",
       "      <th>GameNumber</th>\n",
       "      <th>TeamCode</th>\n",
       "      <th>PlayerName</th>\n",
       "      <th>Position</th>\n",
       "      <th>Rank</th>\n",
       "      <th>GF</th>\n",
       "      <th>GA</th>\n",
       "      <th>GD</th>\n",
       "      <th>WinTeam</th>\n",
       "      <th>LossTeam</th>\n",
       "      <th>RosterCount</th>\n",
       "      <th>PositionCount</th>\n",
       "      <th>CCount</th>\n",
       "      <th>WCount</th>\n",
       "      <th>DCount</th>\n",
       "      <th>GCount</th>\n",
       "      <th>FCount</th>\n",
       "    </tr>\n",
       "  </thead>\n",
       "  <tbody>\n",
       "    <tr>\n",
       "      <th>0</th>\n",
       "      <td>2010</td>\n",
       "      <td>20001</td>\n",
       "      <td>MTL</td>\n",
       "      <td>SCOTT GOMEZ</td>\n",
       "      <td>C</td>\n",
       "      <td>2.0</td>\n",
       "      <td>2</td>\n",
       "      <td>3</td>\n",
       "      <td>-1</td>\n",
       "      <td>TOR</td>\n",
       "      <td>MTL</td>\n",
       "      <td>19</td>\n",
       "      <td>7</td>\n",
       "      <td>7.0</td>\n",
       "      <td>5.0</td>\n",
       "      <td>6.0</td>\n",
       "      <td>1.0</td>\n",
       "      <td>12.0</td>\n",
       "    </tr>\n",
       "    <tr>\n",
       "      <th>2</th>\n",
       "      <td>2010</td>\n",
       "      <td>20001</td>\n",
       "      <td>MTL</td>\n",
       "      <td>TOMAS PLEKANEC</td>\n",
       "      <td>C</td>\n",
       "      <td>1.0</td>\n",
       "      <td>2</td>\n",
       "      <td>3</td>\n",
       "      <td>-1</td>\n",
       "      <td>TOR</td>\n",
       "      <td>MTL</td>\n",
       "      <td>19</td>\n",
       "      <td>7</td>\n",
       "      <td>7.0</td>\n",
       "      <td>5.0</td>\n",
       "      <td>6.0</td>\n",
       "      <td>1.0</td>\n",
       "      <td>12.0</td>\n",
       "    </tr>\n",
       "    <tr>\n",
       "      <th>9</th>\n",
       "      <td>2010</td>\n",
       "      <td>20001</td>\n",
       "      <td>MTL</td>\n",
       "      <td>JEFF HALPERN</td>\n",
       "      <td>C</td>\n",
       "      <td>2.0</td>\n",
       "      <td>2</td>\n",
       "      <td>3</td>\n",
       "      <td>-1</td>\n",
       "      <td>TOR</td>\n",
       "      <td>MTL</td>\n",
       "      <td>19</td>\n",
       "      <td>7</td>\n",
       "      <td>7.0</td>\n",
       "      <td>5.0</td>\n",
       "      <td>6.0</td>\n",
       "      <td>1.0</td>\n",
       "      <td>12.0</td>\n",
       "    </tr>\n",
       "    <tr>\n",
       "      <th>13</th>\n",
       "      <td>2010</td>\n",
       "      <td>20001</td>\n",
       "      <td>MTL</td>\n",
       "      <td>DUSTIN BOYD</td>\n",
       "      <td>C</td>\n",
       "      <td>4.0</td>\n",
       "      <td>2</td>\n",
       "      <td>3</td>\n",
       "      <td>-1</td>\n",
       "      <td>TOR</td>\n",
       "      <td>MTL</td>\n",
       "      <td>19</td>\n",
       "      <td>7</td>\n",
       "      <td>7.0</td>\n",
       "      <td>5.0</td>\n",
       "      <td>6.0</td>\n",
       "      <td>1.0</td>\n",
       "      <td>12.0</td>\n",
       "    </tr>\n",
       "    <tr>\n",
       "      <th>95</th>\n",
       "      <td>2010</td>\n",
       "      <td>20001</td>\n",
       "      <td>MTL</td>\n",
       "      <td>TOM PYATT</td>\n",
       "      <td>C</td>\n",
       "      <td>3.0</td>\n",
       "      <td>2</td>\n",
       "      <td>3</td>\n",
       "      <td>-1</td>\n",
       "      <td>TOR</td>\n",
       "      <td>MTL</td>\n",
       "      <td>19</td>\n",
       "      <td>7</td>\n",
       "      <td>7.0</td>\n",
       "      <td>5.0</td>\n",
       "      <td>6.0</td>\n",
       "      <td>1.0</td>\n",
       "      <td>12.0</td>\n",
       "    </tr>\n",
       "  </tbody>\n",
       "</table>\n",
       "</div>"
      ],
      "text/plain": [
       "    Season  GameNumber TeamCode      PlayerName Position  Rank  GF  GA  GD  \\\n",
       "0     2010       20001      MTL     SCOTT GOMEZ        C   2.0   2   3  -1   \n",
       "2     2010       20001      MTL  TOMAS PLEKANEC        C   1.0   2   3  -1   \n",
       "9     2010       20001      MTL    JEFF HALPERN        C   2.0   2   3  -1   \n",
       "13    2010       20001      MTL     DUSTIN BOYD        C   4.0   2   3  -1   \n",
       "95    2010       20001      MTL       TOM PYATT        C   3.0   2   3  -1   \n",
       "\n",
       "   WinTeam LossTeam  RosterCount  PositionCount  CCount  WCount  DCount  \\\n",
       "0      TOR      MTL           19              7     7.0     5.0     6.0   \n",
       "2      TOR      MTL           19              7     7.0     5.0     6.0   \n",
       "9      TOR      MTL           19              7     7.0     5.0     6.0   \n",
       "13     TOR      MTL           19              7     7.0     5.0     6.0   \n",
       "95     TOR      MTL           19              7     7.0     5.0     6.0   \n",
       "\n",
       "    GCount  FCount  \n",
       "0      1.0    12.0  \n",
       "2      1.0    12.0  \n",
       "9      1.0    12.0  \n",
       "13     1.0    12.0  \n",
       "95     1.0    12.0  "
      ]
     },
     "execution_count": 101,
     "metadata": {},
     "output_type": "execute_result"
    }
   ],
   "source": [
    "du['FCount'] = du['CCount']+ du['WCount']\n",
    "du.head()"
   ]
  },
  {
   "cell_type": "code",
   "execution_count": 102,
   "metadata": {
    "collapsed": false
   },
   "outputs": [
    {
     "data": {
      "text/plain": [
       "(317702, 18)"
      ]
     },
     "execution_count": 102,
     "metadata": {},
     "output_type": "execute_result"
    }
   ],
   "source": [
    "du = du.groupby(['Season', 'GameNumber']).filter(lambda x: ((x['FCount'] == 12) & (x['DCount'] == 6)).all())\n",
    "du.shape"
   ]
  },
  {
   "cell_type": "code",
   "execution_count": 103,
   "metadata": {
    "collapsed": true
   },
   "outputs": [],
   "source": [
    "du.to_csv('/Users/stefanostselios/Brock University/Kevin Mongeon - StephanosShare/out/data/2010_2017_12f_6d_g_game_team.csv', index='False', sep=',')\n",
    "#du.to_csv('/Users/kevinmongeon/Brock University/Steve Tselios - StephanosShare/out/data/2010_2017_12f_6d_g_game_team.csv', index='False', sep=',')"
   ]
  },
  {
   "cell_type": "markdown",
   "metadata": {},
   "source": [
    "### keep games that have 4 C, 8 W and 6D per team"
   ]
  },
  {
   "cell_type": "code",
   "execution_count": 104,
   "metadata": {
    "collapsed": false
   },
   "outputs": [
    {
     "data": {
      "text/plain": [
       "(357527, 17)"
      ]
     },
     "execution_count": 104,
     "metadata": {},
     "output_type": "execute_result"
    }
   ],
   "source": [
    "dy = dw.copy()\n",
    "dy.shape"
   ]
  },
  {
   "cell_type": "code",
   "execution_count": 105,
   "metadata": {
    "collapsed": false
   },
   "outputs": [
    {
     "data": {
      "text/plain": [
       "(15794, 17)"
      ]
     },
     "execution_count": 105,
     "metadata": {},
     "output_type": "execute_result"
    }
   ],
   "source": [
    "dy = dy.groupby(['Season', 'GameNumber']).filter(lambda x: ((x['CCount'] == 4) & (x['WCount'] == 8) & (x['DCount'] == 6)).all())\n",
    "dy.shape"
   ]
  },
  {
   "cell_type": "code",
   "execution_count": 106,
   "metadata": {
    "collapsed": true
   },
   "outputs": [],
   "source": [
    "dy.to_csv('/Users/stefanostselios/Brock University/Kevin Mongeon - StephanosShare/out/data/2010_2017_4c_8w_6d_game_team.csv', index='False', sep=',')\n",
    "#dy.to_csv('/Users/kevinmongeon/Brock University/Steve Tselios - StephanosShare/out/data/2010_2017_4c_8w_6d_game_team.csv', index='False', sep=',')"
   ]
  }
 ],
 "metadata": {
  "kernelspec": {
   "display_name": "Python 3",
   "language": "python",
   "name": "python3"
  },
  "language_info": {
   "codemirror_mode": {
    "name": "ipython",
    "version": 3
   },
   "file_extension": ".py",
   "mimetype": "text/x-python",
   "name": "python",
   "nbconvert_exporter": "python",
   "pygments_lexer": "ipython3",
   "version": "3.6.0"
  }
 },
 "nbformat": 4,
 "nbformat_minor": 2
}
