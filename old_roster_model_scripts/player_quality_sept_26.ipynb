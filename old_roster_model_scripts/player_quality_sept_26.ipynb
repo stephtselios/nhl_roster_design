{
 "cells": [
  {
   "cell_type": "markdown",
   "metadata": {},
   "source": [
    "## player quality"
   ]
  },
  {
   "cell_type": "markdown",
   "metadata": {},
   "source": [
    "The purpose of this notebook is to determine the quality of players per team and position for the whole season. Each player will be manually assigned a value of 1 or 2 based on their productivity. This will show the quantity of elite players each team have and assist with estimating the value of each roster position on team success. "
   ]
  },
  {
   "cell_type": "markdown",
   "metadata": {},
   "source": [
    "###  import modules"
   ]
  },
  {
   "cell_type": "code",
   "execution_count": 55,
   "metadata": {
    "collapsed": true
   },
   "outputs": [],
   "source": [
    "import sys\n",
    "import os\n",
    "import pandas as pd\n",
    "import numpy as np\n",
    "import datetime, time\n",
    "import matplotlib.pyplot as plt\n",
    "import statsmodels.api as sm\n",
    "from statsmodels.formula.api import ols\n",
    "from pylab import hist, show\n",
    "import scipy\n",
    "\n",
    "pd.set_option('display.max_rows', 50)\n",
    "pd.set_option('display.max_columns', 200)"
   ]
  },
  {
   "cell_type": "markdown",
   "metadata": {},
   "source": [
    "### import data "
   ]
  },
  {
   "cell_type": "code",
   "execution_count": 56,
   "metadata": {
    "collapsed": false
   },
   "outputs": [
    {
     "name": "stderr",
     "output_type": "stream",
     "text": [
      "/home/kmongeon/anaconda3/envs/datascience1/lib/python3.6/site-packages/IPython/core/interactiveshell.py:2698: DtypeWarning: Columns (11) have mixed types. Specify dtype option on import or set low_memory=False.\n",
      "  interactivity=interactivity, compiler=compiler, result=result)\n"
     ]
    }
   ],
   "source": [
    "dm = pd.read_csv('play_by_play.csv')\n",
    "dm = dm.drop('Unnamed: 0', axis=1)"
   ]
  },
  {
   "cell_type": "code",
   "execution_count": 57,
   "metadata": {
    "collapsed": false
   },
   "outputs": [
    {
     "data": {
      "text/html": [
       "<div>\n",
       "<style>\n",
       "    .dataframe thead tr:only-child th {\n",
       "        text-align: right;\n",
       "    }\n",
       "\n",
       "    .dataframe thead th {\n",
       "        text-align: left;\n",
       "    }\n",
       "\n",
       "    .dataframe tbody tr th {\n",
       "        vertical-align: top;\n",
       "    }\n",
       "</style>\n",
       "<table border=\"1\" class=\"dataframe\">\n",
       "  <thead>\n",
       "    <tr style=\"text-align: right;\">\n",
       "      <th></th>\n",
       "      <th>Season</th>\n",
       "      <th>GameNumber</th>\n",
       "      <th>GameDate</th>\n",
       "      <th>Period</th>\n",
       "      <th>AdvantageType</th>\n",
       "      <th>Zone</th>\n",
       "      <th>EventNumber</th>\n",
       "      <th>EventType</th>\n",
       "      <th>EventDetail</th>\n",
       "      <th>EventTeamCode</th>\n",
       "      <th>EventPlayerNumber</th>\n",
       "      <th>EventPlayerName</th>\n",
       "      <th>EventTimeFromZero</th>\n",
       "      <th>EventTimeFromTwenty</th>\n",
       "      <th>VTeamCode</th>\n",
       "      <th>VPlayer</th>\n",
       "      <th>VPosition</th>\n",
       "      <th>HTeamCode</th>\n",
       "      <th>HPlayer</th>\n",
       "      <th>HPosition</th>\n",
       "      <th>ShotType</th>\n",
       "      <th>ShotResult</th>\n",
       "      <th>Length</th>\n",
       "      <th>PenaltyType</th>\n",
       "    </tr>\n",
       "  </thead>\n",
       "  <tbody>\n",
       "    <tr>\n",
       "      <th>0</th>\n",
       "      <td>2010</td>\n",
       "      <td>20001</td>\n",
       "      <td>2010-10-07</td>\n",
       "      <td>1</td>\n",
       "      <td>EV</td>\n",
       "      <td>N</td>\n",
       "      <td>1</td>\n",
       "      <td>FAC</td>\n",
       "      <td>MTL won Neu. Zone - MTL #11 GOMEZ vs TOR #37 B...</td>\n",
       "      <td>MTL</td>\n",
       "      <td>11.0</td>\n",
       "      <td>GOMEZ</td>\n",
       "      <td>0</td>\n",
       "      <td>1200</td>\n",
       "      <td>MTL</td>\n",
       "      <td>11.0</td>\n",
       "      <td>C</td>\n",
       "      <td>TOR</td>\n",
       "      <td>37.0</td>\n",
       "      <td>C</td>\n",
       "      <td>NaN</td>\n",
       "      <td>NaN</td>\n",
       "      <td>NaN</td>\n",
       "      <td>NaN</td>\n",
       "    </tr>\n",
       "    <tr>\n",
       "      <th>1</th>\n",
       "      <td>2010</td>\n",
       "      <td>20001</td>\n",
       "      <td>2010-10-07</td>\n",
       "      <td>1</td>\n",
       "      <td>EV</td>\n",
       "      <td>N</td>\n",
       "      <td>1</td>\n",
       "      <td>FAC</td>\n",
       "      <td>MTL won Neu. Zone - MTL #11 GOMEZ vs TOR #37 B...</td>\n",
       "      <td>MTL</td>\n",
       "      <td>11.0</td>\n",
       "      <td>GOMEZ</td>\n",
       "      <td>0</td>\n",
       "      <td>1200</td>\n",
       "      <td>MTL</td>\n",
       "      <td>21.0</td>\n",
       "      <td>R</td>\n",
       "      <td>TOR</td>\n",
       "      <td>9.0</td>\n",
       "      <td>R</td>\n",
       "      <td>NaN</td>\n",
       "      <td>NaN</td>\n",
       "      <td>NaN</td>\n",
       "      <td>NaN</td>\n",
       "    </tr>\n",
       "    <tr>\n",
       "      <th>2</th>\n",
       "      <td>2010</td>\n",
       "      <td>20001</td>\n",
       "      <td>2010-10-07</td>\n",
       "      <td>1</td>\n",
       "      <td>EV</td>\n",
       "      <td>N</td>\n",
       "      <td>1</td>\n",
       "      <td>FAC</td>\n",
       "      <td>MTL won Neu. Zone - MTL #11 GOMEZ vs TOR #37 B...</td>\n",
       "      <td>MTL</td>\n",
       "      <td>11.0</td>\n",
       "      <td>GOMEZ</td>\n",
       "      <td>0</td>\n",
       "      <td>1200</td>\n",
       "      <td>MTL</td>\n",
       "      <td>57.0</td>\n",
       "      <td>L</td>\n",
       "      <td>TOR</td>\n",
       "      <td>11.0</td>\n",
       "      <td>L</td>\n",
       "      <td>NaN</td>\n",
       "      <td>NaN</td>\n",
       "      <td>NaN</td>\n",
       "      <td>NaN</td>\n",
       "    </tr>\n",
       "    <tr>\n",
       "      <th>3</th>\n",
       "      <td>2010</td>\n",
       "      <td>20001</td>\n",
       "      <td>2010-10-07</td>\n",
       "      <td>1</td>\n",
       "      <td>EV</td>\n",
       "      <td>N</td>\n",
       "      <td>1</td>\n",
       "      <td>FAC</td>\n",
       "      <td>MTL won Neu. Zone - MTL #11 GOMEZ vs TOR #37 B...</td>\n",
       "      <td>MTL</td>\n",
       "      <td>11.0</td>\n",
       "      <td>GOMEZ</td>\n",
       "      <td>0</td>\n",
       "      <td>1200</td>\n",
       "      <td>MTL</td>\n",
       "      <td>26.0</td>\n",
       "      <td>D</td>\n",
       "      <td>TOR</td>\n",
       "      <td>3.0</td>\n",
       "      <td>D</td>\n",
       "      <td>NaN</td>\n",
       "      <td>NaN</td>\n",
       "      <td>NaN</td>\n",
       "      <td>NaN</td>\n",
       "    </tr>\n",
       "    <tr>\n",
       "      <th>4</th>\n",
       "      <td>2010</td>\n",
       "      <td>20001</td>\n",
       "      <td>2010-10-07</td>\n",
       "      <td>1</td>\n",
       "      <td>EV</td>\n",
       "      <td>N</td>\n",
       "      <td>1</td>\n",
       "      <td>FAC</td>\n",
       "      <td>MTL won Neu. Zone - MTL #11 GOMEZ vs TOR #37 B...</td>\n",
       "      <td>MTL</td>\n",
       "      <td>11.0</td>\n",
       "      <td>GOMEZ</td>\n",
       "      <td>0</td>\n",
       "      <td>1200</td>\n",
       "      <td>MTL</td>\n",
       "      <td>75.0</td>\n",
       "      <td>D</td>\n",
       "      <td>TOR</td>\n",
       "      <td>22.0</td>\n",
       "      <td>D</td>\n",
       "      <td>NaN</td>\n",
       "      <td>NaN</td>\n",
       "      <td>NaN</td>\n",
       "      <td>NaN</td>\n",
       "    </tr>\n",
       "    <tr>\n",
       "      <th>5</th>\n",
       "      <td>2010</td>\n",
       "      <td>20001</td>\n",
       "      <td>2010-10-07</td>\n",
       "      <td>1</td>\n",
       "      <td>EV</td>\n",
       "      <td>N</td>\n",
       "      <td>1</td>\n",
       "      <td>FAC</td>\n",
       "      <td>MTL won Neu. Zone - MTL #11 GOMEZ vs TOR #37 B...</td>\n",
       "      <td>MTL</td>\n",
       "      <td>11.0</td>\n",
       "      <td>GOMEZ</td>\n",
       "      <td>0</td>\n",
       "      <td>1200</td>\n",
       "      <td>MTL</td>\n",
       "      <td>31.0</td>\n",
       "      <td>G</td>\n",
       "      <td>TOR</td>\n",
       "      <td>35.0</td>\n",
       "      <td>G</td>\n",
       "      <td>NaN</td>\n",
       "      <td>NaN</td>\n",
       "      <td>NaN</td>\n",
       "      <td>NaN</td>\n",
       "    </tr>\n",
       "    <tr>\n",
       "      <th>6</th>\n",
       "      <td>2010</td>\n",
       "      <td>20001</td>\n",
       "      <td>2010-10-07</td>\n",
       "      <td>1</td>\n",
       "      <td>EV</td>\n",
       "      <td>O</td>\n",
       "      <td>3</td>\n",
       "      <td>HIT</td>\n",
       "      <td>TOR #37 BRENT HIT MTL #26 GORGES, Off. Zone</td>\n",
       "      <td>TOR</td>\n",
       "      <td>37.0</td>\n",
       "      <td>BRENT</td>\n",
       "      <td>15</td>\n",
       "      <td>1185</td>\n",
       "      <td>MTL</td>\n",
       "      <td>11.0</td>\n",
       "      <td>C</td>\n",
       "      <td>TOR</td>\n",
       "      <td>37.0</td>\n",
       "      <td>C</td>\n",
       "      <td>NaN</td>\n",
       "      <td>NaN</td>\n",
       "      <td>NaN</td>\n",
       "      <td>NaN</td>\n",
       "    </tr>\n",
       "    <tr>\n",
       "      <th>7</th>\n",
       "      <td>2010</td>\n",
       "      <td>20001</td>\n",
       "      <td>2010-10-07</td>\n",
       "      <td>1</td>\n",
       "      <td>EV</td>\n",
       "      <td>O</td>\n",
       "      <td>3</td>\n",
       "      <td>HIT</td>\n",
       "      <td>TOR #37 BRENT HIT MTL #26 GORGES, Off. Zone</td>\n",
       "      <td>TOR</td>\n",
       "      <td>37.0</td>\n",
       "      <td>BRENT</td>\n",
       "      <td>15</td>\n",
       "      <td>1185</td>\n",
       "      <td>MTL</td>\n",
       "      <td>21.0</td>\n",
       "      <td>R</td>\n",
       "      <td>TOR</td>\n",
       "      <td>9.0</td>\n",
       "      <td>R</td>\n",
       "      <td>NaN</td>\n",
       "      <td>NaN</td>\n",
       "      <td>NaN</td>\n",
       "      <td>NaN</td>\n",
       "    </tr>\n",
       "    <tr>\n",
       "      <th>8</th>\n",
       "      <td>2010</td>\n",
       "      <td>20001</td>\n",
       "      <td>2010-10-07</td>\n",
       "      <td>1</td>\n",
       "      <td>EV</td>\n",
       "      <td>O</td>\n",
       "      <td>3</td>\n",
       "      <td>HIT</td>\n",
       "      <td>TOR #37 BRENT HIT MTL #26 GORGES, Off. Zone</td>\n",
       "      <td>TOR</td>\n",
       "      <td>37.0</td>\n",
       "      <td>BRENT</td>\n",
       "      <td>15</td>\n",
       "      <td>1185</td>\n",
       "      <td>MTL</td>\n",
       "      <td>57.0</td>\n",
       "      <td>L</td>\n",
       "      <td>TOR</td>\n",
       "      <td>11.0</td>\n",
       "      <td>L</td>\n",
       "      <td>NaN</td>\n",
       "      <td>NaN</td>\n",
       "      <td>NaN</td>\n",
       "      <td>NaN</td>\n",
       "    </tr>\n",
       "    <tr>\n",
       "      <th>9</th>\n",
       "      <td>2010</td>\n",
       "      <td>20001</td>\n",
       "      <td>2010-10-07</td>\n",
       "      <td>1</td>\n",
       "      <td>EV</td>\n",
       "      <td>O</td>\n",
       "      <td>3</td>\n",
       "      <td>HIT</td>\n",
       "      <td>TOR #37 BRENT HIT MTL #26 GORGES, Off. Zone</td>\n",
       "      <td>TOR</td>\n",
       "      <td>37.0</td>\n",
       "      <td>BRENT</td>\n",
       "      <td>15</td>\n",
       "      <td>1185</td>\n",
       "      <td>MTL</td>\n",
       "      <td>26.0</td>\n",
       "      <td>D</td>\n",
       "      <td>TOR</td>\n",
       "      <td>3.0</td>\n",
       "      <td>D</td>\n",
       "      <td>NaN</td>\n",
       "      <td>NaN</td>\n",
       "      <td>NaN</td>\n",
       "      <td>NaN</td>\n",
       "    </tr>\n",
       "  </tbody>\n",
       "</table>\n",
       "</div>"
      ],
      "text/plain": [
       "   Season  GameNumber    GameDate  Period AdvantageType Zone  EventNumber  \\\n",
       "0    2010       20001  2010-10-07       1            EV    N            1   \n",
       "1    2010       20001  2010-10-07       1            EV    N            1   \n",
       "2    2010       20001  2010-10-07       1            EV    N            1   \n",
       "3    2010       20001  2010-10-07       1            EV    N            1   \n",
       "4    2010       20001  2010-10-07       1            EV    N            1   \n",
       "5    2010       20001  2010-10-07       1            EV    N            1   \n",
       "6    2010       20001  2010-10-07       1            EV    O            3   \n",
       "7    2010       20001  2010-10-07       1            EV    O            3   \n",
       "8    2010       20001  2010-10-07       1            EV    O            3   \n",
       "9    2010       20001  2010-10-07       1            EV    O            3   \n",
       "\n",
       "  EventType                                        EventDetail EventTeamCode  \\\n",
       "0       FAC  MTL won Neu. Zone - MTL #11 GOMEZ vs TOR #37 B...           MTL   \n",
       "1       FAC  MTL won Neu. Zone - MTL #11 GOMEZ vs TOR #37 B...           MTL   \n",
       "2       FAC  MTL won Neu. Zone - MTL #11 GOMEZ vs TOR #37 B...           MTL   \n",
       "3       FAC  MTL won Neu. Zone - MTL #11 GOMEZ vs TOR #37 B...           MTL   \n",
       "4       FAC  MTL won Neu. Zone - MTL #11 GOMEZ vs TOR #37 B...           MTL   \n",
       "5       FAC  MTL won Neu. Zone - MTL #11 GOMEZ vs TOR #37 B...           MTL   \n",
       "6       HIT        TOR #37 BRENT HIT MTL #26 GORGES, Off. Zone           TOR   \n",
       "7       HIT        TOR #37 BRENT HIT MTL #26 GORGES, Off. Zone           TOR   \n",
       "8       HIT        TOR #37 BRENT HIT MTL #26 GORGES, Off. Zone           TOR   \n",
       "9       HIT        TOR #37 BRENT HIT MTL #26 GORGES, Off. Zone           TOR   \n",
       "\n",
       "  EventPlayerNumber EventPlayerName  EventTimeFromZero  EventTimeFromTwenty  \\\n",
       "0              11.0           GOMEZ                  0                 1200   \n",
       "1              11.0           GOMEZ                  0                 1200   \n",
       "2              11.0           GOMEZ                  0                 1200   \n",
       "3              11.0           GOMEZ                  0                 1200   \n",
       "4              11.0           GOMEZ                  0                 1200   \n",
       "5              11.0           GOMEZ                  0                 1200   \n",
       "6              37.0           BRENT                 15                 1185   \n",
       "7              37.0           BRENT                 15                 1185   \n",
       "8              37.0           BRENT                 15                 1185   \n",
       "9              37.0           BRENT                 15                 1185   \n",
       "\n",
       "  VTeamCode  VPlayer VPosition HTeamCode  HPlayer HPosition ShotType  \\\n",
       "0       MTL     11.0         C       TOR     37.0         C      NaN   \n",
       "1       MTL     21.0         R       TOR      9.0         R      NaN   \n",
       "2       MTL     57.0         L       TOR     11.0         L      NaN   \n",
       "3       MTL     26.0         D       TOR      3.0         D      NaN   \n",
       "4       MTL     75.0         D       TOR     22.0         D      NaN   \n",
       "5       MTL     31.0         G       TOR     35.0         G      NaN   \n",
       "6       MTL     11.0         C       TOR     37.0         C      NaN   \n",
       "7       MTL     21.0         R       TOR      9.0         R      NaN   \n",
       "8       MTL     57.0         L       TOR     11.0         L      NaN   \n",
       "9       MTL     26.0         D       TOR      3.0         D      NaN   \n",
       "\n",
       "  ShotResult  Length PenaltyType  \n",
       "0        NaN     NaN         NaN  \n",
       "1        NaN     NaN         NaN  \n",
       "2        NaN     NaN         NaN  \n",
       "3        NaN     NaN         NaN  \n",
       "4        NaN     NaN         NaN  \n",
       "5        NaN     NaN         NaN  \n",
       "6        NaN     NaN         NaN  \n",
       "7        NaN     NaN         NaN  \n",
       "8        NaN     NaN         NaN  \n",
       "9        NaN     NaN         NaN  "
      ]
     },
     "execution_count": 57,
     "metadata": {},
     "output_type": "execute_result"
    }
   ],
   "source": [
    "dm.head(10)"
   ]
  },
  {
   "cell_type": "code",
   "execution_count": 58,
   "metadata": {
    "collapsed": false
   },
   "outputs": [
    {
     "data": {
      "text/plain": [
       "(1531666, 24)"
      ]
     },
     "execution_count": 58,
     "metadata": {},
     "output_type": "execute_result"
    }
   ],
   "source": [
    "dm.shape"
   ]
  },
  {
   "cell_type": "markdown",
   "metadata": {},
   "source": [
    "create new data set and keep variables: \n",
    "- (a) game number.\n",
    "- (b) visitor team information.\n",
    "- (c) home team information."
   ]
  },
  {
   "cell_type": "code",
   "execution_count": 59,
   "metadata": {
    "collapsed": true
   },
   "outputs": [],
   "source": [
    "df = dm[['Season', 'GameNumber', 'VTeamCode', 'VPlayer', 'VPosition', 'HTeamCode', 'HPlayer', 'HPosition']]"
   ]
  },
  {
   "cell_type": "code",
   "execution_count": 60,
   "metadata": {
    "collapsed": false
   },
   "outputs": [
    {
     "data": {
      "text/plain": [
       "(1531666, 8)"
      ]
     },
     "execution_count": 60,
     "metadata": {},
     "output_type": "execute_result"
    }
   ],
   "source": [
    "df.shape"
   ]
  },
  {
   "cell_type": "markdown",
   "metadata": {},
   "source": [
    "- reshape the data to have home and visitor team observatons under the same coloumns. "
   ]
  },
  {
   "cell_type": "code",
   "execution_count": 61,
   "metadata": {
    "collapsed": true
   },
   "outputs": [],
   "source": [
    "a = [col for col in df.columns if 'Player' in col]\n",
    "b = [col for col in df.columns if 'Position' in col]\n",
    "c = [col for col in df.columns if 'TeamCode' in col]\n",
    "df = pd.lreshape(df, {'Player' : a, 'Position' : b, 'TeamCode' : c})"
   ]
  },
  {
   "cell_type": "code",
   "execution_count": 62,
   "metadata": {
    "collapsed": false
   },
   "outputs": [
    {
     "data": {
      "text/html": [
       "<div>\n",
       "<style>\n",
       "    .dataframe thead tr:only-child th {\n",
       "        text-align: right;\n",
       "    }\n",
       "\n",
       "    .dataframe thead th {\n",
       "        text-align: left;\n",
       "    }\n",
       "\n",
       "    .dataframe tbody tr th {\n",
       "        vertical-align: top;\n",
       "    }\n",
       "</style>\n",
       "<table border=\"1\" class=\"dataframe\">\n",
       "  <thead>\n",
       "    <tr style=\"text-align: right;\">\n",
       "      <th></th>\n",
       "      <th>GameNumber</th>\n",
       "      <th>Season</th>\n",
       "      <th>Player</th>\n",
       "      <th>Position</th>\n",
       "      <th>TeamCode</th>\n",
       "    </tr>\n",
       "  </thead>\n",
       "  <tbody>\n",
       "    <tr>\n",
       "      <th>0</th>\n",
       "      <td>20001</td>\n",
       "      <td>2010</td>\n",
       "      <td>11.0</td>\n",
       "      <td>C</td>\n",
       "      <td>MTL</td>\n",
       "    </tr>\n",
       "    <tr>\n",
       "      <th>1</th>\n",
       "      <td>20001</td>\n",
       "      <td>2010</td>\n",
       "      <td>21.0</td>\n",
       "      <td>R</td>\n",
       "      <td>MTL</td>\n",
       "    </tr>\n",
       "    <tr>\n",
       "      <th>2</th>\n",
       "      <td>20001</td>\n",
       "      <td>2010</td>\n",
       "      <td>57.0</td>\n",
       "      <td>L</td>\n",
       "      <td>MTL</td>\n",
       "    </tr>\n",
       "    <tr>\n",
       "      <th>3</th>\n",
       "      <td>20001</td>\n",
       "      <td>2010</td>\n",
       "      <td>26.0</td>\n",
       "      <td>D</td>\n",
       "      <td>MTL</td>\n",
       "    </tr>\n",
       "    <tr>\n",
       "      <th>4</th>\n",
       "      <td>20001</td>\n",
       "      <td>2010</td>\n",
       "      <td>75.0</td>\n",
       "      <td>D</td>\n",
       "      <td>MTL</td>\n",
       "    </tr>\n",
       "  </tbody>\n",
       "</table>\n",
       "</div>"
      ],
      "text/plain": [
       "   GameNumber  Season  Player Position TeamCode\n",
       "0       20001    2010    11.0        C      MTL\n",
       "1       20001    2010    21.0        R      MTL\n",
       "2       20001    2010    57.0        L      MTL\n",
       "3       20001    2010    26.0        D      MTL\n",
       "4       20001    2010    75.0        D      MTL"
      ]
     },
     "execution_count": 62,
     "metadata": {},
     "output_type": "execute_result"
    }
   ],
   "source": [
    "df.head(5)"
   ]
  },
  {
   "cell_type": "code",
   "execution_count": 63,
   "metadata": {
    "collapsed": false
   },
   "outputs": [
    {
     "data": {
      "text/plain": [
       "(3063332, 5)"
      ]
     },
     "execution_count": 63,
     "metadata": {},
     "output_type": "execute_result"
    }
   ],
   "source": [
    "df.shape"
   ]
  },
  {
   "cell_type": "markdown",
   "metadata": {},
   "source": [
    "- group data by game number, team and player to drop duplicates and keep only one observation per player per game."
   ]
  },
  {
   "cell_type": "code",
   "execution_count": 64,
   "metadata": {
    "collapsed": true
   },
   "outputs": [],
   "source": [
    "df = df.drop_duplicates(['GameNumber', 'TeamCode', 'Player'])\n",
    "df = df[['Season', 'GameNumber', 'TeamCode', 'Player', 'Position']]\n",
    "df = df.rename(columns={'Player': 'PlayerNumber', 'Position': 'PlayerPosition' })\n",
    "df = df.sort_values(['Season', 'GameNumber', 'TeamCode', 'PlayerPosition', 'PlayerNumber'], ascending=[True, True, True, True, True])"
   ]
  },
  {
   "cell_type": "code",
   "execution_count": 65,
   "metadata": {
    "collapsed": false
   },
   "outputs": [
    {
     "data": {
      "text/plain": [
       "(46920, 5)"
      ]
     },
     "execution_count": 65,
     "metadata": {},
     "output_type": "execute_result"
    }
   ],
   "source": [
    "df.shape"
   ]
  },
  {
   "cell_type": "markdown",
   "metadata": {},
   "source": [
    "- store player quality to csv file"
   ]
  },
  {
   "cell_type": "code",
   "execution_count": 66,
   "metadata": {
    "collapsed": false
   },
   "outputs": [
    {
     "data": {
      "text/html": [
       "<div>\n",
       "<style>\n",
       "    .dataframe thead tr:only-child th {\n",
       "        text-align: right;\n",
       "    }\n",
       "\n",
       "    .dataframe thead th {\n",
       "        text-align: left;\n",
       "    }\n",
       "\n",
       "    .dataframe tbody tr th {\n",
       "        vertical-align: top;\n",
       "    }\n",
       "</style>\n",
       "<table border=\"1\" class=\"dataframe\">\n",
       "  <thead>\n",
       "    <tr style=\"text-align: right;\">\n",
       "      <th></th>\n",
       "      <th>Season</th>\n",
       "      <th>GameNumber</th>\n",
       "      <th>TeamCode</th>\n",
       "      <th>PlayerNumber</th>\n",
       "      <th>PlayerPosition</th>\n",
       "    </tr>\n",
       "  </thead>\n",
       "  <tbody>\n",
       "    <tr>\n",
       "      <th>0</th>\n",
       "      <td>2010</td>\n",
       "      <td>20001</td>\n",
       "      <td>MTL</td>\n",
       "      <td>11.0</td>\n",
       "      <td>C</td>\n",
       "    </tr>\n",
       "    <tr>\n",
       "      <th>12</th>\n",
       "      <td>2010</td>\n",
       "      <td>20001</td>\n",
       "      <td>MTL</td>\n",
       "      <td>14.0</td>\n",
       "      <td>C</td>\n",
       "    </tr>\n",
       "    <tr>\n",
       "      <th>54</th>\n",
       "      <td>2010</td>\n",
       "      <td>20001</td>\n",
       "      <td>MTL</td>\n",
       "      <td>15.0</td>\n",
       "      <td>C</td>\n",
       "    </tr>\n",
       "    <tr>\n",
       "      <th>78</th>\n",
       "      <td>2010</td>\n",
       "      <td>20001</td>\n",
       "      <td>MTL</td>\n",
       "      <td>17.0</td>\n",
       "      <td>C</td>\n",
       "    </tr>\n",
       "    <tr>\n",
       "      <th>55</th>\n",
       "      <td>2010</td>\n",
       "      <td>20001</td>\n",
       "      <td>MTL</td>\n",
       "      <td>40.0</td>\n",
       "      <td>C</td>\n",
       "    </tr>\n",
       "  </tbody>\n",
       "</table>\n",
       "</div>"
      ],
      "text/plain": [
       "    Season  GameNumber TeamCode  PlayerNumber PlayerPosition\n",
       "0     2010       20001      MTL          11.0              C\n",
       "12    2010       20001      MTL          14.0              C\n",
       "54    2010       20001      MTL          15.0              C\n",
       "78    2010       20001      MTL          17.0              C\n",
       "55    2010       20001      MTL          40.0              C"
      ]
     },
     "execution_count": 66,
     "metadata": {},
     "output_type": "execute_result"
    }
   ],
   "source": [
    "df.head()"
   ]
  },
  {
   "cell_type": "code",
   "execution_count": 67,
   "metadata": {
    "collapsed": true
   },
   "outputs": [],
   "source": [
    "#df.to_csv('out_data/player_quality.csv', index='False', sep=',')"
   ]
  },
  {
   "cell_type": "code",
   "execution_count": 68,
   "metadata": {
    "collapsed": false
   },
   "outputs": [
    {
     "data": {
      "text/plain": [
       "(46920, 5)"
      ]
     },
     "execution_count": 68,
     "metadata": {},
     "output_type": "execute_result"
    }
   ],
   "source": [
    "df.shape"
   ]
  },
  {
   "cell_type": "markdown",
   "metadata": {
    "collapsed": true
   },
   "source": [
    "#### roster position follows."
   ]
  },
  {
   "cell_type": "markdown",
   "metadata": {
    "collapsed": true
   },
   "source": [
    "- group data by team and player to keep one observation per player for the whole season (drop duplicates)."
   ]
  },
  {
   "cell_type": "code",
   "execution_count": 69,
   "metadata": {
    "collapsed": true
   },
   "outputs": [],
   "source": [
    "dc = df[['Season', 'TeamCode', 'PlayerNumber', 'PlayerPosition']]"
   ]
  },
  {
   "cell_type": "code",
   "execution_count": 70,
   "metadata": {
    "collapsed": true
   },
   "outputs": [],
   "source": [
    "dc = dc.drop_duplicates(['TeamCode', 'PlayerNumber', 'PlayerPosition'])\n",
    "dc = dc.sort_values(['TeamCode', 'PlayerPosition', 'PlayerNumber'], ascending=[True, True, True])"
   ]
  },
  {
   "cell_type": "code",
   "execution_count": 71,
   "metadata": {
    "collapsed": false
   },
   "outputs": [
    {
     "data": {
      "text/plain": [
       "(1059, 4)"
      ]
     },
     "execution_count": 71,
     "metadata": {},
     "output_type": "execute_result"
    }
   ],
   "source": [
    "dc.shape"
   ]
  },
  {
   "cell_type": "markdown",
   "metadata": {},
   "source": [
    "- save the data set and manually rank players per team."
   ]
  },
  {
   "cell_type": "code",
   "execution_count": 72,
   "metadata": {
    "collapsed": false
   },
   "outputs": [
    {
     "data": {
      "text/html": [
       "<div>\n",
       "<style>\n",
       "    .dataframe thead tr:only-child th {\n",
       "        text-align: right;\n",
       "    }\n",
       "\n",
       "    .dataframe thead th {\n",
       "        text-align: left;\n",
       "    }\n",
       "\n",
       "    .dataframe tbody tr th {\n",
       "        vertical-align: top;\n",
       "    }\n",
       "</style>\n",
       "<table border=\"1\" class=\"dataframe\">\n",
       "  <thead>\n",
       "    <tr style=\"text-align: right;\">\n",
       "      <th></th>\n",
       "      <th>Season</th>\n",
       "      <th>TeamCode</th>\n",
       "      <th>PlayerNumber</th>\n",
       "      <th>PlayerPosition</th>\n",
       "    </tr>\n",
       "  </thead>\n",
       "  <tbody>\n",
       "    <tr>\n",
       "      <th>9607</th>\n",
       "      <td>2010</td>\n",
       "      <td>ANA</td>\n",
       "      <td>11.0</td>\n",
       "      <td>C</td>\n",
       "    </tr>\n",
       "    <tr>\n",
       "      <th>186052</th>\n",
       "      <td>2010</td>\n",
       "      <td>ANA</td>\n",
       "      <td>12.0</td>\n",
       "      <td>C</td>\n",
       "    </tr>\n",
       "    <tr>\n",
       "      <th>2264542</th>\n",
       "      <td>2010</td>\n",
       "      <td>ANA</td>\n",
       "      <td>14.0</td>\n",
       "      <td>C</td>\n",
       "    </tr>\n",
       "    <tr>\n",
       "      <th>9625</th>\n",
       "      <td>2010</td>\n",
       "      <td>ANA</td>\n",
       "      <td>15.0</td>\n",
       "      <td>C</td>\n",
       "    </tr>\n",
       "    <tr>\n",
       "      <th>1609648</th>\n",
       "      <td>2010</td>\n",
       "      <td>ANA</td>\n",
       "      <td>20.0</td>\n",
       "      <td>C</td>\n",
       "    </tr>\n",
       "  </tbody>\n",
       "</table>\n",
       "</div>"
      ],
      "text/plain": [
       "         Season TeamCode  PlayerNumber PlayerPosition\n",
       "9607       2010      ANA          11.0              C\n",
       "186052     2010      ANA          12.0              C\n",
       "2264542    2010      ANA          14.0              C\n",
       "9625       2010      ANA          15.0              C\n",
       "1609648    2010      ANA          20.0              C"
      ]
     },
     "execution_count": 72,
     "metadata": {},
     "output_type": "execute_result"
    }
   ],
   "source": [
    "dc.head(5)"
   ]
  },
  {
   "cell_type": "code",
   "execution_count": 73,
   "metadata": {
    "collapsed": true
   },
   "outputs": [],
   "source": [
    "dc.to_csv('player_rank.csv', index='False', sep=',')"
   ]
  },
  {
   "cell_type": "markdown",
   "metadata": {},
   "source": [
    "#### next step is to rank players manually and  merge player rank into play by play"
   ]
  },
  {
   "cell_type": "markdown",
   "metadata": {
    "collapsed": true
   },
   "source": [
    "- import manual player rank csv file."
   ]
  },
  {
   "cell_type": "code",
   "execution_count": 74,
   "metadata": {
    "collapsed": true
   },
   "outputs": [],
   "source": [
    "dr = pd.read_csv('player_rank_manual.csv')\n",
    "dr = dr.drop('Unnamed: 0', axis=1)"
   ]
  },
  {
   "cell_type": "code",
   "execution_count": 75,
   "metadata": {
    "collapsed": false
   },
   "outputs": [
    {
     "data": {
      "text/plain": [
       "(1059, 5)"
      ]
     },
     "execution_count": 75,
     "metadata": {},
     "output_type": "execute_result"
    }
   ],
   "source": [
    "dr.shape"
   ]
  },
  {
   "cell_type": "markdown",
   "metadata": {},
   "source": [
    "- **rename columns** for event team and player in order to reshape data. "
   ]
  },
  {
   "cell_type": "code",
   "execution_count": 76,
   "metadata": {
    "collapsed": false
   },
   "outputs": [
    {
     "data": {
      "text/html": [
       "<div>\n",
       "<style>\n",
       "    .dataframe thead tr:only-child th {\n",
       "        text-align: right;\n",
       "    }\n",
       "\n",
       "    .dataframe thead th {\n",
       "        text-align: left;\n",
       "    }\n",
       "\n",
       "    .dataframe tbody tr th {\n",
       "        vertical-align: top;\n",
       "    }\n",
       "</style>\n",
       "<table border=\"1\" class=\"dataframe\">\n",
       "  <thead>\n",
       "    <tr style=\"text-align: right;\">\n",
       "      <th></th>\n",
       "      <th>Season</th>\n",
       "      <th>TeamCode</th>\n",
       "      <th>PlayerNumber</th>\n",
       "      <th>PlayerPosition</th>\n",
       "      <th>Rank</th>\n",
       "    </tr>\n",
       "  </thead>\n",
       "  <tbody>\n",
       "    <tr>\n",
       "      <th>0</th>\n",
       "      <td>2010</td>\n",
       "      <td>ANA</td>\n",
       "      <td>11</td>\n",
       "      <td>C</td>\n",
       "      <td>2</td>\n",
       "    </tr>\n",
       "    <tr>\n",
       "      <th>1</th>\n",
       "      <td>2010</td>\n",
       "      <td>ANA</td>\n",
       "      <td>12</td>\n",
       "      <td>C</td>\n",
       "      <td>2</td>\n",
       "    </tr>\n",
       "    <tr>\n",
       "      <th>2</th>\n",
       "      <td>2010</td>\n",
       "      <td>ANA</td>\n",
       "      <td>14</td>\n",
       "      <td>C</td>\n",
       "      <td>2</td>\n",
       "    </tr>\n",
       "    <tr>\n",
       "      <th>3</th>\n",
       "      <td>2010</td>\n",
       "      <td>ANA</td>\n",
       "      <td>15</td>\n",
       "      <td>C</td>\n",
       "      <td>1</td>\n",
       "    </tr>\n",
       "    <tr>\n",
       "      <th>4</th>\n",
       "      <td>2010</td>\n",
       "      <td>ANA</td>\n",
       "      <td>20</td>\n",
       "      <td>C</td>\n",
       "      <td>2</td>\n",
       "    </tr>\n",
       "  </tbody>\n",
       "</table>\n",
       "</div>"
      ],
      "text/plain": [
       "   Season TeamCode  PlayerNumber PlayerPosition  Rank\n",
       "0    2010      ANA            11              C     2\n",
       "1    2010      ANA            12              C     2\n",
       "2    2010      ANA            14              C     2\n",
       "3    2010      ANA            15              C     1\n",
       "4    2010      ANA            20              C     2"
      ]
     },
     "execution_count": 76,
     "metadata": {},
     "output_type": "execute_result"
    }
   ],
   "source": [
    "dr.head()"
   ]
  },
  {
   "cell_type": "code",
   "execution_count": 77,
   "metadata": {
    "collapsed": true
   },
   "outputs": [],
   "source": [
    "dm = dm.rename(columns={'EventPlayerNumber': 'EventPNumber', 'EventTeamCode': 'EventTeam', 'EventPlayerName': 'EventPName' })"
   ]
  },
  {
   "cell_type": "markdown",
   "metadata": {},
   "source": [
    "### reshape data for home and visitor  observations to be under the same columns."
   ]
  },
  {
   "cell_type": "code",
   "execution_count": 78,
   "metadata": {
    "collapsed": true
   },
   "outputs": [],
   "source": [
    "a = [col for col in dm.columns if 'Player' in col]\n",
    "b = [col for col in dm.columns if 'Position' in col]\n",
    "c = [col for col in dm.columns if 'TeamCode' in col]\n",
    "dm = pd.lreshape(dm, {'Player' : a, 'Position' : b, 'TeamCode' : c})"
   ]
  },
  {
   "cell_type": "code",
   "execution_count": 79,
   "metadata": {
    "collapsed": true
   },
   "outputs": [],
   "source": [
    "dm = dm.rename(columns={'Player': 'PlayerNumber', 'Position': 'PlayerPosition', 'EventPNumber': 'EventPlayerNumber', 'EventTeam': 'EventTeamCode', 'EventPName': 'EventPlayerName'})\n",
    "dm = dm.sort_values(['Season', 'GameNumber', 'EventNumber'], ascending=[True, True, True])"
   ]
  },
  {
   "cell_type": "code",
   "execution_count": 80,
   "metadata": {
    "collapsed": false
   },
   "outputs": [
    {
     "data": {
      "text/plain": [
       "(3063332, 21)"
      ]
     },
     "execution_count": 80,
     "metadata": {},
     "output_type": "execute_result"
    }
   ],
   "source": [
    "dm.shape"
   ]
  },
  {
   "cell_type": "markdown",
   "metadata": {},
   "source": [
    "### merge player rank data set onto play_by_play"
   ]
  },
  {
   "cell_type": "code",
   "execution_count": 44,
   "metadata": {
    "collapsed": true
   },
   "outputs": [],
   "source": [
    "dm = dm.merge(dr, on=['Season', 'TeamCode', 'PlayerNumber', 'PlayerPosition'], how='left')\n",
    "dm.sort_values(['Season', 'GameNumber', 'EventNumber'], ascending=[True, True, True], inplace=True)"
   ]
  },
  {
   "cell_type": "code",
   "execution_count": 45,
   "metadata": {
    "collapsed": true
   },
   "outputs": [],
   "source": [
    "dm = dm[['Season', 'GameNumber', 'GameDate', 'Period', 'AdvantageType', 'Zone', 'EventNumber', 'EventType',  'EventDetail', 'EventTeamCode', 'EventPlayerNumber', 'EventPlayerName',  'EventTimeFromZero', 'EventTimeFromTwenty', 'TeamCode', 'PlayerNumber', 'PlayerPosition', 'ShotType', 'ShotResult', 'Length', 'PenaltyType', 'Rank']]\n",
    "dm.sort_values(['Season', 'GameNumber', 'EventNumber'], ascending=[True, True, True], inplace=True)"
   ]
  },
  {
   "cell_type": "code",
   "execution_count": 46,
   "metadata": {
    "collapsed": false
   },
   "outputs": [
    {
     "data": {
      "text/plain": [
       "(3063332, 22)"
      ]
     },
     "execution_count": 46,
     "metadata": {},
     "output_type": "execute_result"
    }
   ],
   "source": [
    "dm.shape"
   ]
  },
  {
   "cell_type": "markdown",
   "metadata": {},
   "source": [
    "- check the data set to see if and which columns contain NaN values."
   ]
  },
  {
   "cell_type": "code",
   "execution_count": 47,
   "metadata": {
    "collapsed": false
   },
   "outputs": [
    {
     "data": {
      "text/plain": [
       "Season                       0\n",
       "GameNumber                   0\n",
       "GameDate                     0\n",
       "Period                       0\n",
       "AdvantageType                0\n",
       "Zone                         0\n",
       "EventNumber                  0\n",
       "EventType                    0\n",
       "EventDetail                  0\n",
       "EventTeamCode                0\n",
       "EventPlayerNumber            0\n",
       "EventPlayerName              0\n",
       "EventTimeFromZero            0\n",
       "EventTimeFromTwenty          0\n",
       "TeamCode                     0\n",
       "PlayerNumber                 0\n",
       "PlayerPosition               0\n",
       "ShotType               1749130\n",
       "ShotResult             2789200\n",
       "Length                 2084206\n",
       "PenaltyType            2946770\n",
       "Rank                         0\n",
       "dtype: int64"
      ]
     },
     "execution_count": 47,
     "metadata": {},
     "output_type": "execute_result"
    }
   ],
   "source": [
    "dm.isnull().sum()"
   ]
  },
  {
   "cell_type": "code",
   "execution_count": 48,
   "metadata": {
    "collapsed": false
   },
   "outputs": [
    {
     "data": {
      "text/html": [
       "<div>\n",
       "<style>\n",
       "    .dataframe thead tr:only-child th {\n",
       "        text-align: right;\n",
       "    }\n",
       "\n",
       "    .dataframe thead th {\n",
       "        text-align: left;\n",
       "    }\n",
       "\n",
       "    .dataframe tbody tr th {\n",
       "        vertical-align: top;\n",
       "    }\n",
       "</style>\n",
       "<table border=\"1\" class=\"dataframe\">\n",
       "  <thead>\n",
       "    <tr style=\"text-align: right;\">\n",
       "      <th></th>\n",
       "      <th>Season</th>\n",
       "      <th>GameNumber</th>\n",
       "      <th>GameDate</th>\n",
       "      <th>Period</th>\n",
       "      <th>AdvantageType</th>\n",
       "      <th>Zone</th>\n",
       "      <th>EventNumber</th>\n",
       "      <th>EventType</th>\n",
       "      <th>EventDetail</th>\n",
       "      <th>EventTeamCode</th>\n",
       "      <th>EventPlayerNumber</th>\n",
       "      <th>EventPlayerName</th>\n",
       "      <th>EventTimeFromZero</th>\n",
       "      <th>EventTimeFromTwenty</th>\n",
       "      <th>TeamCode</th>\n",
       "      <th>PlayerNumber</th>\n",
       "      <th>PlayerPosition</th>\n",
       "      <th>ShotType</th>\n",
       "      <th>ShotResult</th>\n",
       "      <th>Length</th>\n",
       "      <th>PenaltyType</th>\n",
       "      <th>Rank</th>\n",
       "    </tr>\n",
       "  </thead>\n",
       "  <tbody>\n",
       "    <tr>\n",
       "      <th>0</th>\n",
       "      <td>2010</td>\n",
       "      <td>20001</td>\n",
       "      <td>2010-10-07</td>\n",
       "      <td>1</td>\n",
       "      <td>EV</td>\n",
       "      <td>N</td>\n",
       "      <td>1</td>\n",
       "      <td>FAC</td>\n",
       "      <td>MTL won Neu. Zone - MTL #11 GOMEZ vs TOR #37 B...</td>\n",
       "      <td>MTL</td>\n",
       "      <td>11.0</td>\n",
       "      <td>GOMEZ</td>\n",
       "      <td>0</td>\n",
       "      <td>1200</td>\n",
       "      <td>MTL</td>\n",
       "      <td>11</td>\n",
       "      <td>C</td>\n",
       "      <td>NaN</td>\n",
       "      <td>NaN</td>\n",
       "      <td>NaN</td>\n",
       "      <td>NaN</td>\n",
       "      <td>2</td>\n",
       "    </tr>\n",
       "    <tr>\n",
       "      <th>1</th>\n",
       "      <td>2010</td>\n",
       "      <td>20001</td>\n",
       "      <td>2010-10-07</td>\n",
       "      <td>1</td>\n",
       "      <td>EV</td>\n",
       "      <td>N</td>\n",
       "      <td>1</td>\n",
       "      <td>FAC</td>\n",
       "      <td>MTL won Neu. Zone - MTL #11 GOMEZ vs TOR #37 B...</td>\n",
       "      <td>MTL</td>\n",
       "      <td>11.0</td>\n",
       "      <td>GOMEZ</td>\n",
       "      <td>0</td>\n",
       "      <td>1200</td>\n",
       "      <td>MTL</td>\n",
       "      <td>21</td>\n",
       "      <td>R</td>\n",
       "      <td>NaN</td>\n",
       "      <td>NaN</td>\n",
       "      <td>NaN</td>\n",
       "      <td>NaN</td>\n",
       "      <td>2</td>\n",
       "    </tr>\n",
       "    <tr>\n",
       "      <th>2</th>\n",
       "      <td>2010</td>\n",
       "      <td>20001</td>\n",
       "      <td>2010-10-07</td>\n",
       "      <td>1</td>\n",
       "      <td>EV</td>\n",
       "      <td>N</td>\n",
       "      <td>1</td>\n",
       "      <td>FAC</td>\n",
       "      <td>MTL won Neu. Zone - MTL #11 GOMEZ vs TOR #37 B...</td>\n",
       "      <td>MTL</td>\n",
       "      <td>11.0</td>\n",
       "      <td>GOMEZ</td>\n",
       "      <td>0</td>\n",
       "      <td>1200</td>\n",
       "      <td>MTL</td>\n",
       "      <td>57</td>\n",
       "      <td>L</td>\n",
       "      <td>NaN</td>\n",
       "      <td>NaN</td>\n",
       "      <td>NaN</td>\n",
       "      <td>NaN</td>\n",
       "      <td>2</td>\n",
       "    </tr>\n",
       "    <tr>\n",
       "      <th>3</th>\n",
       "      <td>2010</td>\n",
       "      <td>20001</td>\n",
       "      <td>2010-10-07</td>\n",
       "      <td>1</td>\n",
       "      <td>EV</td>\n",
       "      <td>N</td>\n",
       "      <td>1</td>\n",
       "      <td>FAC</td>\n",
       "      <td>MTL won Neu. Zone - MTL #11 GOMEZ vs TOR #37 B...</td>\n",
       "      <td>MTL</td>\n",
       "      <td>11.0</td>\n",
       "      <td>GOMEZ</td>\n",
       "      <td>0</td>\n",
       "      <td>1200</td>\n",
       "      <td>MTL</td>\n",
       "      <td>26</td>\n",
       "      <td>D</td>\n",
       "      <td>NaN</td>\n",
       "      <td>NaN</td>\n",
       "      <td>NaN</td>\n",
       "      <td>NaN</td>\n",
       "      <td>2</td>\n",
       "    </tr>\n",
       "    <tr>\n",
       "      <th>4</th>\n",
       "      <td>2010</td>\n",
       "      <td>20001</td>\n",
       "      <td>2010-10-07</td>\n",
       "      <td>1</td>\n",
       "      <td>EV</td>\n",
       "      <td>N</td>\n",
       "      <td>1</td>\n",
       "      <td>FAC</td>\n",
       "      <td>MTL won Neu. Zone - MTL #11 GOMEZ vs TOR #37 B...</td>\n",
       "      <td>MTL</td>\n",
       "      <td>11.0</td>\n",
       "      <td>GOMEZ</td>\n",
       "      <td>0</td>\n",
       "      <td>1200</td>\n",
       "      <td>MTL</td>\n",
       "      <td>75</td>\n",
       "      <td>D</td>\n",
       "      <td>NaN</td>\n",
       "      <td>NaN</td>\n",
       "      <td>NaN</td>\n",
       "      <td>NaN</td>\n",
       "      <td>2</td>\n",
       "    </tr>\n",
       "  </tbody>\n",
       "</table>\n",
       "</div>"
      ],
      "text/plain": [
       "   Season  GameNumber    GameDate  Period AdvantageType Zone  EventNumber  \\\n",
       "0    2010       20001  2010-10-07       1            EV    N            1   \n",
       "1    2010       20001  2010-10-07       1            EV    N            1   \n",
       "2    2010       20001  2010-10-07       1            EV    N            1   \n",
       "3    2010       20001  2010-10-07       1            EV    N            1   \n",
       "4    2010       20001  2010-10-07       1            EV    N            1   \n",
       "\n",
       "  EventType                                        EventDetail EventTeamCode  \\\n",
       "0       FAC  MTL won Neu. Zone - MTL #11 GOMEZ vs TOR #37 B...           MTL   \n",
       "1       FAC  MTL won Neu. Zone - MTL #11 GOMEZ vs TOR #37 B...           MTL   \n",
       "2       FAC  MTL won Neu. Zone - MTL #11 GOMEZ vs TOR #37 B...           MTL   \n",
       "3       FAC  MTL won Neu. Zone - MTL #11 GOMEZ vs TOR #37 B...           MTL   \n",
       "4       FAC  MTL won Neu. Zone - MTL #11 GOMEZ vs TOR #37 B...           MTL   \n",
       "\n",
       "  EventPlayerNumber EventPlayerName  EventTimeFromZero  EventTimeFromTwenty  \\\n",
       "0              11.0           GOMEZ                  0                 1200   \n",
       "1              11.0           GOMEZ                  0                 1200   \n",
       "2              11.0           GOMEZ                  0                 1200   \n",
       "3              11.0           GOMEZ                  0                 1200   \n",
       "4              11.0           GOMEZ                  0                 1200   \n",
       "\n",
       "  TeamCode PlayerNumber PlayerPosition ShotType ShotResult  Length  \\\n",
       "0      MTL           11              C      NaN        NaN     NaN   \n",
       "1      MTL           21              R      NaN        NaN     NaN   \n",
       "2      MTL           57              L      NaN        NaN     NaN   \n",
       "3      MTL           26              D      NaN        NaN     NaN   \n",
       "4      MTL           75              D      NaN        NaN     NaN   \n",
       "\n",
       "  PenaltyType  Rank  \n",
       "0         NaN     2  \n",
       "1         NaN     2  \n",
       "2         NaN     2  \n",
       "3         NaN     2  \n",
       "4         NaN     2  "
      ]
     },
     "execution_count": 48,
     "metadata": {},
     "output_type": "execute_result"
    }
   ],
   "source": [
    "dm.head()"
   ]
  },
  {
   "cell_type": "markdown",
   "metadata": {},
   "source": [
    "- save new data set."
   ]
  },
  {
   "cell_type": "code",
   "execution_count": 49,
   "metadata": {
    "collapsed": true
   },
   "outputs": [],
   "source": [
    "dm.to_csv('play_by_play_with_player_rank.csv', index='False', sep=',')"
   ]
  },
  {
   "cell_type": "markdown",
   "metadata": {},
   "source": [
    "#### the next step is to estimate the value of each roster position."
   ]
  },
  {
   "cell_type": "code",
   "execution_count": null,
   "metadata": {
    "collapsed": true
   },
   "outputs": [],
   "source": []
  }
 ],
 "metadata": {
  "kernelspec": {
   "display_name": "Python 3",
   "language": "python",
   "name": "python3"
  },
  "language_info": {
   "codemirror_mode": {
    "name": "ipython",
    "version": 3
   },
   "file_extension": ".py",
   "mimetype": "text/x-python",
   "name": "python",
   "nbconvert_exporter": "python",
   "pygments_lexer": "ipython3",
   "version": "3.6.0"
  }
 },
 "nbformat": 4,
 "nbformat_minor": 2
}
