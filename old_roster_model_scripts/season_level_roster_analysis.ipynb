{
 "cells": [
  {
   "cell_type": "markdown",
   "metadata": {},
   "source": [
    "## roster model estimation"
   ]
  },
  {
   "cell_type": "markdown",
   "metadata": {},
   "source": [
    "To determine the impact each roster position has on team success, we need to examine the quality of players per game and the result of each game. For each roster position, there will be elite players and secondary players per team. Elite players will be assinged a value of 1 whereas secondary players, a value 2."
   ]
  },
  {
   "cell_type": "markdown",
   "metadata": {},
   "source": [
    "### import data sets  \"play by play goal detail\" and \"game detail\""
   ]
  },
  {
   "cell_type": "code",
   "execution_count": 79,
   "metadata": {
    "collapsed": true
   },
   "outputs": [],
   "source": [
    "import sys\n",
    "import os\n",
    "import pandas as pd\n",
    "import numpy as np\n",
    "import datetime, time\n",
    "import matplotlib.pyplot as plt\n",
    "import statsmodels.api as sm\n",
    "from statsmodels.formula.api import ols\n",
    "from pylab import hist, show\n",
    "import scipy\n",
    "import zipfile\n",
    "\n",
    "\n",
    "pd.set_option('display.max_rows', 50)\n",
    "pd.set_option('display.max_columns', 200)\n"
   ]
  },
  {
   "cell_type": "code",
   "execution_count": 80,
   "metadata": {
    "collapsed": false
   },
   "outputs": [
    {
     "data": {
      "text/plain": [
       "'/Users/stefanostselios/Desktop/nhl_roster_design-master'"
      ]
     },
     "execution_count": 80,
     "metadata": {},
     "output_type": "execute_result"
    }
   ],
   "source": [
    "pwd"
   ]
  },
  {
   "cell_type": "code",
   "execution_count": 81,
   "metadata": {
    "collapsed": false
   },
   "outputs": [],
   "source": [
    "d0 = pd.read_csv('season_teams_roster.csv', index_col=0)\n",
    "d1 = pd.read_csv('season_team.csv', index_col=0)"
   ]
  },
  {
   "cell_type": "code",
   "execution_count": 82,
   "metadata": {
    "collapsed": false
   },
   "outputs": [
    {
     "data": {
      "text/plain": [
       "Index(['Season', 'TeamCode', 'GP', 'W', 'L', 'GF', 'GA', 'WinPc', 'LossPc',\n",
       "       'Mean_F', 'Mean_D'],\n",
       "      dtype='object')"
      ]
     },
     "execution_count": 82,
     "metadata": {},
     "output_type": "execute_result"
    }
   ],
   "source": [
    "d0.columns"
   ]
  },
  {
   "cell_type": "code",
   "execution_count": 83,
   "metadata": {
    "collapsed": false
   },
   "outputs": [
    {
     "data": {
      "text/plain": [
       "Index(['Season', 'TeamCode', 'RosterCount', 'MeanF1', 'MeanF2', 'MeanD1',\n",
       "       'MeanD2'],\n",
       "      dtype='object')"
      ]
     },
     "execution_count": 83,
     "metadata": {},
     "output_type": "execute_result"
    }
   ],
   "source": [
    "d1.columns"
   ]
  },
  {
   "cell_type": "code",
   "execution_count": 84,
   "metadata": {
    "collapsed": false
   },
   "outputs": [
    {
     "data": {
      "text/html": [
       "<div>\n",
       "<table border=\"1\" class=\"dataframe\">\n",
       "  <thead>\n",
       "    <tr style=\"text-align: right;\">\n",
       "      <th></th>\n",
       "      <th>Season</th>\n",
       "      <th>TeamCode</th>\n",
       "      <th>GP</th>\n",
       "      <th>W</th>\n",
       "      <th>L</th>\n",
       "      <th>GF</th>\n",
       "      <th>GA</th>\n",
       "      <th>WinPc</th>\n",
       "      <th>LossPc</th>\n",
       "      <th>Mean_F</th>\n",
       "      <th>Mean_D</th>\n",
       "      <th>RosterCount</th>\n",
       "      <th>MeanF1</th>\n",
       "      <th>MeanF2</th>\n",
       "      <th>MeanD1</th>\n",
       "      <th>MeanD2</th>\n",
       "    </tr>\n",
       "  </thead>\n",
       "  <tbody>\n",
       "    <tr>\n",
       "      <th>0</th>\n",
       "      <td>2010</td>\n",
       "      <td>MTL</td>\n",
       "      <td>68</td>\n",
       "      <td>37</td>\n",
       "      <td>31</td>\n",
       "      <td>188</td>\n",
       "      <td>181</td>\n",
       "      <td>0.544118</td>\n",
       "      <td>0.455882</td>\n",
       "      <td>1.734069</td>\n",
       "      <td>1.825980</td>\n",
       "      <td>18.0</td>\n",
       "      <td>3.191176</td>\n",
       "      <td>8.808824</td>\n",
       "      <td>1.044118</td>\n",
       "      <td>4.955882</td>\n",
       "    </tr>\n",
       "    <tr>\n",
       "      <th>1</th>\n",
       "      <td>2010</td>\n",
       "      <td>TOR</td>\n",
       "      <td>70</td>\n",
       "      <td>34</td>\n",
       "      <td>36</td>\n",
       "      <td>195</td>\n",
       "      <td>218</td>\n",
       "      <td>0.485714</td>\n",
       "      <td>0.514286</td>\n",
       "      <td>1.834524</td>\n",
       "      <td>1.888095</td>\n",
       "      <td>18.0</td>\n",
       "      <td>1.985714</td>\n",
       "      <td>10.014286</td>\n",
       "      <td>0.671429</td>\n",
       "      <td>5.328571</td>\n",
       "    </tr>\n",
       "    <tr>\n",
       "      <th>2</th>\n",
       "      <td>2010</td>\n",
       "      <td>PHI</td>\n",
       "      <td>72</td>\n",
       "      <td>41</td>\n",
       "      <td>31</td>\n",
       "      <td>235</td>\n",
       "      <td>207</td>\n",
       "      <td>0.569444</td>\n",
       "      <td>0.430556</td>\n",
       "      <td>1.592593</td>\n",
       "      <td>1.571759</td>\n",
       "      <td>18.0</td>\n",
       "      <td>4.888889</td>\n",
       "      <td>7.111111</td>\n",
       "      <td>2.569444</td>\n",
       "      <td>3.430556</td>\n",
       "    </tr>\n",
       "    <tr>\n",
       "      <th>3</th>\n",
       "      <td>2010</td>\n",
       "      <td>PIT</td>\n",
       "      <td>71</td>\n",
       "      <td>40</td>\n",
       "      <td>31</td>\n",
       "      <td>204</td>\n",
       "      <td>180</td>\n",
       "      <td>0.563380</td>\n",
       "      <td>0.436620</td>\n",
       "      <td>1.642019</td>\n",
       "      <td>1.561033</td>\n",
       "      <td>18.0</td>\n",
       "      <td>4.295775</td>\n",
       "      <td>7.704225</td>\n",
       "      <td>2.633803</td>\n",
       "      <td>3.366197</td>\n",
       "    </tr>\n",
       "    <tr>\n",
       "      <th>4</th>\n",
       "      <td>2010</td>\n",
       "      <td>CAR</td>\n",
       "      <td>76</td>\n",
       "      <td>38</td>\n",
       "      <td>38</td>\n",
       "      <td>222</td>\n",
       "      <td>218</td>\n",
       "      <td>0.500000</td>\n",
       "      <td>0.500000</td>\n",
       "      <td>1.751096</td>\n",
       "      <td>1.804825</td>\n",
       "      <td>18.0</td>\n",
       "      <td>2.986842</td>\n",
       "      <td>9.013158</td>\n",
       "      <td>1.171053</td>\n",
       "      <td>4.828947</td>\n",
       "    </tr>\n",
       "  </tbody>\n",
       "</table>\n",
       "</div>"
      ],
      "text/plain": [
       "   Season TeamCode  GP   W   L   GF   GA     WinPc    LossPc    Mean_F  \\\n",
       "0    2010      MTL  68  37  31  188  181  0.544118  0.455882  1.734069   \n",
       "1    2010      TOR  70  34  36  195  218  0.485714  0.514286  1.834524   \n",
       "2    2010      PHI  72  41  31  235  207  0.569444  0.430556  1.592593   \n",
       "3    2010      PIT  71  40  31  204  180  0.563380  0.436620  1.642019   \n",
       "4    2010      CAR  76  38  38  222  218  0.500000  0.500000  1.751096   \n",
       "\n",
       "     Mean_D  RosterCount    MeanF1     MeanF2    MeanD1    MeanD2  \n",
       "0  1.825980         18.0  3.191176   8.808824  1.044118  4.955882  \n",
       "1  1.888095         18.0  1.985714  10.014286  0.671429  5.328571  \n",
       "2  1.571759         18.0  4.888889   7.111111  2.569444  3.430556  \n",
       "3  1.561033         18.0  4.295775   7.704225  2.633803  3.366197  \n",
       "4  1.804825         18.0  2.986842   9.013158  1.171053  4.828947  "
      ]
     },
     "execution_count": 84,
     "metadata": {},
     "output_type": "execute_result"
    }
   ],
   "source": [
    "dm = d0.merge(d1, on=['Season', 'TeamCode'], how='left')\n",
    "dm.head()"
   ]
  },
  {
   "cell_type": "code",
   "execution_count": 85,
   "metadata": {
    "collapsed": true
   },
   "outputs": [],
   "source": [
    "dm['DF'] = dm['MeanF1'] - dm['MeanF2']\n",
    "dm['DD'] = dm['MeanD1'] - dm['MeanD2']"
   ]
  },
  {
   "cell_type": "code",
   "execution_count": 86,
   "metadata": {
    "collapsed": false
   },
   "outputs": [
    {
     "data": {
      "text/plain": [
       "(30, 18)"
      ]
     },
     "execution_count": 86,
     "metadata": {},
     "output_type": "execute_result"
    }
   ],
   "source": [
    "dm.shape"
   ]
  },
  {
   "cell_type": "code",
   "execution_count": 87,
   "metadata": {
    "collapsed": false
   },
   "outputs": [
    {
     "data": {
      "text/plain": [
       "Season         0\n",
       "TeamCode       0\n",
       "GP             0\n",
       "W              0\n",
       "L              0\n",
       "GF             0\n",
       "GA             0\n",
       "WinPc          0\n",
       "LossPc         0\n",
       "Mean_F         0\n",
       "Mean_D         0\n",
       "RosterCount    0\n",
       "MeanF1         0\n",
       "MeanF2         0\n",
       "MeanD1         0\n",
       "MeanD2         0\n",
       "DF             0\n",
       "DD             0\n",
       "dtype: int64"
      ]
     },
     "execution_count": 87,
     "metadata": {},
     "output_type": "execute_result"
    }
   ],
   "source": [
    "dm.isnull().sum()"
   ]
  },
  {
   "cell_type": "markdown",
   "metadata": {},
   "source": [
    "## Summary analysis"
   ]
  },
  {
   "cell_type": "code",
   "execution_count": 88,
   "metadata": {
    "collapsed": false
   },
   "outputs": [
    {
     "data": {
      "text/html": [
       "<div>\n",
       "<table border=\"1\" class=\"dataframe\">\n",
       "  <thead>\n",
       "    <tr style=\"text-align: right;\">\n",
       "      <th></th>\n",
       "      <th>Season</th>\n",
       "      <th>GP</th>\n",
       "      <th>W</th>\n",
       "      <th>L</th>\n",
       "      <th>GF</th>\n",
       "      <th>GA</th>\n",
       "      <th>WinPc</th>\n",
       "      <th>LossPc</th>\n",
       "      <th>Mean_F</th>\n",
       "      <th>Mean_D</th>\n",
       "      <th>RosterCount</th>\n",
       "      <th>MeanF1</th>\n",
       "      <th>MeanF2</th>\n",
       "      <th>MeanD1</th>\n",
       "      <th>MeanD2</th>\n",
       "      <th>DF</th>\n",
       "      <th>DD</th>\n",
       "    </tr>\n",
       "  </thead>\n",
       "  <tbody>\n",
       "    <tr>\n",
       "      <th>count</th>\n",
       "      <td>30.0</td>\n",
       "      <td>30.000000</td>\n",
       "      <td>30.000000</td>\n",
       "      <td>30.000000</td>\n",
       "      <td>30.000000</td>\n",
       "      <td>30.000000</td>\n",
       "      <td>30.000000</td>\n",
       "      <td>30.000000</td>\n",
       "      <td>30.000000</td>\n",
       "      <td>30.000000</td>\n",
       "      <td>30.0</td>\n",
       "      <td>30.000000</td>\n",
       "      <td>30.000000</td>\n",
       "      <td>30.000000</td>\n",
       "      <td>30.000000</td>\n",
       "      <td>30.000000</td>\n",
       "      <td>30.000000</td>\n",
       "    </tr>\n",
       "    <tr>\n",
       "      <th>mean</th>\n",
       "      <td>2010.0</td>\n",
       "      <td>67.666667</td>\n",
       "      <td>33.833333</td>\n",
       "      <td>33.833333</td>\n",
       "      <td>192.233333</td>\n",
       "      <td>192.233333</td>\n",
       "      <td>0.498496</td>\n",
       "      <td>0.501504</td>\n",
       "      <td>1.747567</td>\n",
       "      <td>1.752933</td>\n",
       "      <td>18.0</td>\n",
       "      <td>3.029195</td>\n",
       "      <td>8.970805</td>\n",
       "      <td>1.482401</td>\n",
       "      <td>4.517599</td>\n",
       "      <td>-5.941610</td>\n",
       "      <td>-3.035198</td>\n",
       "    </tr>\n",
       "    <tr>\n",
       "      <th>std</th>\n",
       "      <td>0.0</td>\n",
       "      <td>8.052985</td>\n",
       "      <td>7.991734</td>\n",
       "      <td>7.240134</td>\n",
       "      <td>29.395852</td>\n",
       "      <td>27.583958</td>\n",
       "      <td>0.094480</td>\n",
       "      <td>0.094480</td>\n",
       "      <td>0.126848</td>\n",
       "      <td>0.155524</td>\n",
       "      <td>0.0</td>\n",
       "      <td>1.522172</td>\n",
       "      <td>1.522172</td>\n",
       "      <td>0.933143</td>\n",
       "      <td>0.933143</td>\n",
       "      <td>3.044344</td>\n",
       "      <td>1.866286</td>\n",
       "    </tr>\n",
       "    <tr>\n",
       "      <th>min</th>\n",
       "      <td>2010.0</td>\n",
       "      <td>38.000000</td>\n",
       "      <td>18.000000</td>\n",
       "      <td>20.000000</td>\n",
       "      <td>112.000000</td>\n",
       "      <td>126.000000</td>\n",
       "      <td>0.296875</td>\n",
       "      <td>0.342466</td>\n",
       "      <td>1.519231</td>\n",
       "      <td>1.530702</td>\n",
       "      <td>18.0</td>\n",
       "      <td>0.000000</td>\n",
       "      <td>6.230769</td>\n",
       "      <td>0.000000</td>\n",
       "      <td>3.184211</td>\n",
       "      <td>-12.000000</td>\n",
       "      <td>-6.000000</td>\n",
       "    </tr>\n",
       "    <tr>\n",
       "      <th>25%</th>\n",
       "      <td>2010.0</td>\n",
       "      <td>66.250000</td>\n",
       "      <td>28.250000</td>\n",
       "      <td>30.000000</td>\n",
       "      <td>176.750000</td>\n",
       "      <td>175.250000</td>\n",
       "      <td>0.438263</td>\n",
       "      <td>0.432072</td>\n",
       "      <td>1.637527</td>\n",
       "      <td>1.612522</td>\n",
       "      <td>18.0</td>\n",
       "      <td>2.019136</td>\n",
       "      <td>7.650321</td>\n",
       "      <td>0.924901</td>\n",
       "      <td>3.675132</td>\n",
       "      <td>-7.961727</td>\n",
       "      <td>-4.150198</td>\n",
       "    </tr>\n",
       "    <tr>\n",
       "      <th>50%</th>\n",
       "      <td>2010.0</td>\n",
       "      <td>70.000000</td>\n",
       "      <td>36.500000</td>\n",
       "      <td>31.500000</td>\n",
       "      <td>195.500000</td>\n",
       "      <td>188.500000</td>\n",
       "      <td>0.520833</td>\n",
       "      <td>0.479167</td>\n",
       "      <td>1.746702</td>\n",
       "      <td>1.752412</td>\n",
       "      <td>18.0</td>\n",
       "      <td>3.039575</td>\n",
       "      <td>8.960425</td>\n",
       "      <td>1.485526</td>\n",
       "      <td>4.514474</td>\n",
       "      <td>-5.920850</td>\n",
       "      <td>-3.028947</td>\n",
       "    </tr>\n",
       "    <tr>\n",
       "      <th>75%</th>\n",
       "      <td>2010.0</td>\n",
       "      <td>72.000000</td>\n",
       "      <td>40.000000</td>\n",
       "      <td>37.500000</td>\n",
       "      <td>205.750000</td>\n",
       "      <td>213.250000</td>\n",
       "      <td>0.567928</td>\n",
       "      <td>0.561737</td>\n",
       "      <td>1.831739</td>\n",
       "      <td>1.845850</td>\n",
       "      <td>18.0</td>\n",
       "      <td>4.349679</td>\n",
       "      <td>9.980864</td>\n",
       "      <td>2.324868</td>\n",
       "      <td>5.075099</td>\n",
       "      <td>-3.300642</td>\n",
       "      <td>-1.350263</td>\n",
       "    </tr>\n",
       "    <tr>\n",
       "      <th>max</th>\n",
       "      <td>2010.0</td>\n",
       "      <td>76.000000</td>\n",
       "      <td>48.000000</td>\n",
       "      <td>47.000000</td>\n",
       "      <td>238.000000</td>\n",
       "      <td>241.000000</td>\n",
       "      <td>0.657534</td>\n",
       "      <td>0.703125</td>\n",
       "      <td>2.000000</td>\n",
       "      <td>2.000000</td>\n",
       "      <td>18.0</td>\n",
       "      <td>5.769231</td>\n",
       "      <td>12.000000</td>\n",
       "      <td>2.815789</td>\n",
       "      <td>6.000000</td>\n",
       "      <td>-0.461538</td>\n",
       "      <td>-0.368421</td>\n",
       "    </tr>\n",
       "  </tbody>\n",
       "</table>\n",
       "</div>"
      ],
      "text/plain": [
       "       Season         GP          W          L          GF          GA  \\\n",
       "count    30.0  30.000000  30.000000  30.000000   30.000000   30.000000   \n",
       "mean   2010.0  67.666667  33.833333  33.833333  192.233333  192.233333   \n",
       "std       0.0   8.052985   7.991734   7.240134   29.395852   27.583958   \n",
       "min    2010.0  38.000000  18.000000  20.000000  112.000000  126.000000   \n",
       "25%    2010.0  66.250000  28.250000  30.000000  176.750000  175.250000   \n",
       "50%    2010.0  70.000000  36.500000  31.500000  195.500000  188.500000   \n",
       "75%    2010.0  72.000000  40.000000  37.500000  205.750000  213.250000   \n",
       "max    2010.0  76.000000  48.000000  47.000000  238.000000  241.000000   \n",
       "\n",
       "           WinPc     LossPc     Mean_F     Mean_D  RosterCount     MeanF1  \\\n",
       "count  30.000000  30.000000  30.000000  30.000000         30.0  30.000000   \n",
       "mean    0.498496   0.501504   1.747567   1.752933         18.0   3.029195   \n",
       "std     0.094480   0.094480   0.126848   0.155524          0.0   1.522172   \n",
       "min     0.296875   0.342466   1.519231   1.530702         18.0   0.000000   \n",
       "25%     0.438263   0.432072   1.637527   1.612522         18.0   2.019136   \n",
       "50%     0.520833   0.479167   1.746702   1.752412         18.0   3.039575   \n",
       "75%     0.567928   0.561737   1.831739   1.845850         18.0   4.349679   \n",
       "max     0.657534   0.703125   2.000000   2.000000         18.0   5.769231   \n",
       "\n",
       "          MeanF2     MeanD1     MeanD2         DF         DD  \n",
       "count  30.000000  30.000000  30.000000  30.000000  30.000000  \n",
       "mean    8.970805   1.482401   4.517599  -5.941610  -3.035198  \n",
       "std     1.522172   0.933143   0.933143   3.044344   1.866286  \n",
       "min     6.230769   0.000000   3.184211 -12.000000  -6.000000  \n",
       "25%     7.650321   0.924901   3.675132  -7.961727  -4.150198  \n",
       "50%     8.960425   1.485526   4.514474  -5.920850  -3.028947  \n",
       "75%     9.980864   2.324868   5.075099  -3.300642  -1.350263  \n",
       "max    12.000000   2.815789   6.000000  -0.461538  -0.368421  "
      ]
     },
     "execution_count": 88,
     "metadata": {},
     "output_type": "execute_result"
    }
   ],
   "source": [
    "dm.describe()"
   ]
  },
  {
   "cell_type": "markdown",
   "metadata": {},
   "source": [
    "### estimate roster model "
   ]
  },
  {
   "cell_type": "markdown",
   "metadata": {},
   "source": [
    "- regress home win on the difference in number of home and visitor players by position and quality (predictor variables). Add a constant to the predictors and use OLS. The purpose is to deterimine the impact each roster positin has on home team success."
   ]
  },
  {
   "cell_type": "code",
   "execution_count": 89,
   "metadata": {
    "collapsed": false
   },
   "outputs": [
    {
     "data": {
      "text/html": [
       "<table class=\"simpletable\">\n",
       "<caption>OLS Regression Results</caption>\n",
       "<tr>\n",
       "  <th>Dep. Variable:</th>          <td>WinPc</td>      <th>  R-squared:         </th> <td>   0.850</td>\n",
       "</tr>\n",
       "<tr>\n",
       "  <th>Model:</th>                   <td>OLS</td>       <th>  Adj. R-squared:    </th> <td>   0.838</td>\n",
       "</tr>\n",
       "<tr>\n",
       "  <th>Method:</th>             <td>Least Squares</td>  <th>  F-statistic:       </th> <td>   76.24</td>\n",
       "</tr>\n",
       "<tr>\n",
       "  <th>Date:</th>             <td>Mon, 27 Nov 2017</td> <th>  Prob (F-statistic):</th> <td>7.84e-12</td>\n",
       "</tr>\n",
       "<tr>\n",
       "  <th>Time:</th>                 <td>21:41:52</td>     <th>  Log-Likelihood:    </th> <td>  57.135</td>\n",
       "</tr>\n",
       "<tr>\n",
       "  <th>No. Observations:</th>      <td>    30</td>      <th>  AIC:               </th> <td>  -108.3</td>\n",
       "</tr>\n",
       "<tr>\n",
       "  <th>Df Residuals:</th>          <td>    27</td>      <th>  BIC:               </th> <td>  -104.1</td>\n",
       "</tr>\n",
       "<tr>\n",
       "  <th>Df Model:</th>              <td>     2</td>      <th>                     </th>     <td> </td>   \n",
       "</tr>\n",
       "<tr>\n",
       "  <th>Covariance Type:</th>      <td>nonrobust</td>    <th>                     </th>     <td> </td>   \n",
       "</tr>\n",
       "</table>\n",
       "<table class=\"simpletable\">\n",
       "<tr>\n",
       "     <td></td>       <th>coef</th>     <th>std err</th>      <th>t</th>      <th>P>|t|</th> <th>[95.0% Conf. Int.]</th> \n",
       "</tr>\n",
       "<tr>\n",
       "  <th>const</th>  <td>    0.0073</td> <td>    0.000</td> <td>   43.334</td> <td> 0.000</td> <td>    0.007     0.008</td>\n",
       "</tr>\n",
       "<tr>\n",
       "  <th>MeanF1</th> <td>    0.0697</td> <td>    0.004</td> <td>   15.674</td> <td> 0.000</td> <td>    0.061     0.079</td>\n",
       "</tr>\n",
       "<tr>\n",
       "  <th>MeanD1</th> <td>    0.0279</td> <td>    0.006</td> <td>    4.401</td> <td> 0.000</td> <td>    0.015     0.041</td>\n",
       "</tr>\n",
       "<tr>\n",
       "  <th>MeanF2</th> <td>    0.0184</td> <td>    0.003</td> <td>    5.316</td> <td> 0.000</td> <td>    0.011     0.026</td>\n",
       "</tr>\n",
       "<tr>\n",
       "  <th>MeanD2</th> <td>    0.0162</td> <td>    0.006</td> <td>    2.576</td> <td> 0.016</td> <td>    0.003     0.029</td>\n",
       "</tr>\n",
       "</table>\n",
       "<table class=\"simpletable\">\n",
       "<tr>\n",
       "  <th>Omnibus:</th>       <td>22.450</td> <th>  Durbin-Watson:     </th> <td>   1.989</td>\n",
       "</tr>\n",
       "<tr>\n",
       "  <th>Prob(Omnibus):</th> <td> 0.000</td> <th>  Jarque-Bera (JB):  </th> <td>  42.152</td>\n",
       "</tr>\n",
       "<tr>\n",
       "  <th>Skew:</th>          <td>-1.596</td> <th>  Prob(JB):          </th> <td>7.03e-10</td>\n",
       "</tr>\n",
       "<tr>\n",
       "  <th>Kurtosis:</th>      <td> 7.850</td> <th>  Cond. No.          </th> <td>8.28e+16</td>\n",
       "</tr>\n",
       "</table>"
      ],
      "text/plain": [
       "<class 'statsmodels.iolib.summary.Summary'>\n",
       "\"\"\"\n",
       "                            OLS Regression Results                            \n",
       "==============================================================================\n",
       "Dep. Variable:                  WinPc   R-squared:                       0.850\n",
       "Model:                            OLS   Adj. R-squared:                  0.838\n",
       "Method:                 Least Squares   F-statistic:                     76.24\n",
       "Date:                Mon, 27 Nov 2017   Prob (F-statistic):           7.84e-12\n",
       "Time:                        21:41:52   Log-Likelihood:                 57.135\n",
       "No. Observations:                  30   AIC:                            -108.3\n",
       "Df Residuals:                      27   BIC:                            -104.1\n",
       "Df Model:                           2                                         \n",
       "Covariance Type:            nonrobust                                         \n",
       "==============================================================================\n",
       "                 coef    std err          t      P>|t|      [95.0% Conf. Int.]\n",
       "------------------------------------------------------------------------------\n",
       "const          0.0073      0.000     43.334      0.000         0.007     0.008\n",
       "MeanF1         0.0697      0.004     15.674      0.000         0.061     0.079\n",
       "MeanD1         0.0279      0.006      4.401      0.000         0.015     0.041\n",
       "MeanF2         0.0184      0.003      5.316      0.000         0.011     0.026\n",
       "MeanD2         0.0162      0.006      2.576      0.016         0.003     0.029\n",
       "==============================================================================\n",
       "Omnibus:                       22.450   Durbin-Watson:                   1.989\n",
       "Prob(Omnibus):                  0.000   Jarque-Bera (JB):               42.152\n",
       "Skew:                          -1.596   Prob(JB):                     7.03e-10\n",
       "Kurtosis:                       7.850   Cond. No.                     8.28e+16\n",
       "==============================================================================\n",
       "\n",
       "Warnings:\n",
       "[1] Standard Errors assume that the covariance matrix of the errors is correctly specified.\n",
       "[2] The smallest eigenvalue is  5e-31. This might indicate that there are\n",
       "strong multicollinearity problems or that the design matrix is singular.\n",
       "\"\"\""
      ]
     },
     "execution_count": 89,
     "metadata": {},
     "output_type": "execute_result"
    }
   ],
   "source": [
    "y = dm['WinPc']  \n",
    "X = sm.add_constant(dm[['MeanF1', 'MeanD1', 'MeanF2', 'MeanD2']] )\n",
    "result = sm.OLS(y, X).fit()\n",
    "result.summary()"
   ]
  },
  {
   "cell_type": "code",
   "execution_count": 90,
   "metadata": {
    "collapsed": false
   },
   "outputs": [
    {
     "data": {
      "text/plain": [
       "const     0.007348\n",
       "MeanF1    0.069747\n",
       "MeanD1    0.027893\n",
       "MeanF2    0.018432\n",
       "MeanD2    0.016197\n",
       "dtype: float64"
      ]
     },
     "execution_count": 90,
     "metadata": {},
     "output_type": "execute_result"
    }
   ],
   "source": [
    "result.params"
   ]
  },
  {
   "cell_type": "code",
   "execution_count": 91,
   "metadata": {
    "collapsed": false
   },
   "outputs": [
    {
     "data": {
      "text/html": [
       "<table class=\"simpletable\">\n",
       "<caption>OLS Regression Results</caption>\n",
       "<tr>\n",
       "  <th>Dep. Variable:</th>          <td>WinPc</td>      <th>  R-squared:         </th> <td>   0.845</td>\n",
       "</tr>\n",
       "<tr>\n",
       "  <th>Model:</th>                   <td>OLS</td>       <th>  Adj. R-squared:    </th> <td>   0.839</td>\n",
       "</tr>\n",
       "<tr>\n",
       "  <th>Method:</th>             <td>Least Squares</td>  <th>  F-statistic:       </th> <td>   152.4</td>\n",
       "</tr>\n",
       "<tr>\n",
       "  <th>Date:</th>             <td>Mon, 27 Nov 2017</td> <th>  Prob (F-statistic):</th> <td>7.63e-13</td>\n",
       "</tr>\n",
       "<tr>\n",
       "  <th>Time:</th>                 <td>21:41:52</td>     <th>  Log-Likelihood:    </th> <td>  56.663</td>\n",
       "</tr>\n",
       "<tr>\n",
       "  <th>No. Observations:</th>      <td>    30</td>      <th>  AIC:               </th> <td>  -109.3</td>\n",
       "</tr>\n",
       "<tr>\n",
       "  <th>Df Residuals:</th>          <td>    28</td>      <th>  BIC:               </th> <td>  -106.5</td>\n",
       "</tr>\n",
       "<tr>\n",
       "  <th>Df Model:</th>              <td>     1</td>      <th>                     </th>     <td> </td>   \n",
       "</tr>\n",
       "<tr>\n",
       "  <th>Covariance Type:</th>      <td>nonrobust</td>    <th>                     </th>     <td> </td>   \n",
       "</tr>\n",
       "</table>\n",
       "<table class=\"simpletable\">\n",
       "<tr>\n",
       "     <td></td>       <th>coef</th>     <th>std err</th>      <th>t</th>      <th>P>|t|</th> <th>[95.0% Conf. Int.]</th> \n",
       "</tr>\n",
       "<tr>\n",
       "  <th>const</th>  <td>    0.3257</td> <td>    0.016</td> <td>   20.856</td> <td> 0.000</td> <td>    0.294     0.358</td>\n",
       "</tr>\n",
       "<tr>\n",
       "  <th>MeanF1</th> <td>    0.0570</td> <td>    0.005</td> <td>   12.343</td> <td> 0.000</td> <td>    0.048     0.067</td>\n",
       "</tr>\n",
       "</table>\n",
       "<table class=\"simpletable\">\n",
       "<tr>\n",
       "  <th>Omnibus:</th>       <td>21.045</td> <th>  Durbin-Watson:     </th> <td>   1.897</td>\n",
       "</tr>\n",
       "<tr>\n",
       "  <th>Prob(Omnibus):</th> <td> 0.000</td> <th>  Jarque-Bera (JB):  </th> <td>  36.117</td>\n",
       "</tr>\n",
       "<tr>\n",
       "  <th>Skew:</th>          <td>-1.540</td> <th>  Prob(JB):          </th> <td>1.44e-08</td>\n",
       "</tr>\n",
       "<tr>\n",
       "  <th>Kurtosis:</th>      <td> 7.406</td> <th>  Cond. No.          </th> <td>    8.17</td>\n",
       "</tr>\n",
       "</table>"
      ],
      "text/plain": [
       "<class 'statsmodels.iolib.summary.Summary'>\n",
       "\"\"\"\n",
       "                            OLS Regression Results                            \n",
       "==============================================================================\n",
       "Dep. Variable:                  WinPc   R-squared:                       0.845\n",
       "Model:                            OLS   Adj. R-squared:                  0.839\n",
       "Method:                 Least Squares   F-statistic:                     152.4\n",
       "Date:                Mon, 27 Nov 2017   Prob (F-statistic):           7.63e-13\n",
       "Time:                        21:41:52   Log-Likelihood:                 56.663\n",
       "No. Observations:                  30   AIC:                            -109.3\n",
       "Df Residuals:                      28   BIC:                            -106.5\n",
       "Df Model:                           1                                         \n",
       "Covariance Type:            nonrobust                                         \n",
       "==============================================================================\n",
       "                 coef    std err          t      P>|t|      [95.0% Conf. Int.]\n",
       "------------------------------------------------------------------------------\n",
       "const          0.3257      0.016     20.856      0.000         0.294     0.358\n",
       "MeanF1         0.0570      0.005     12.343      0.000         0.048     0.067\n",
       "==============================================================================\n",
       "Omnibus:                       21.045   Durbin-Watson:                   1.897\n",
       "Prob(Omnibus):                  0.000   Jarque-Bera (JB):               36.117\n",
       "Skew:                          -1.540   Prob(JB):                     1.44e-08\n",
       "Kurtosis:                       7.406   Cond. No.                         8.17\n",
       "==============================================================================\n",
       "\n",
       "Warnings:\n",
       "[1] Standard Errors assume that the covariance matrix of the errors is correctly specified.\n",
       "\"\"\""
      ]
     },
     "execution_count": 91,
     "metadata": {},
     "output_type": "execute_result"
    }
   ],
   "source": [
    "y = dm['WinPc']  \n",
    "X = sm.add_constant(dm[['MeanF1']] )\n",
    "result = sm.OLS(y, X).fit()\n",
    "result.summary()"
   ]
  },
  {
   "cell_type": "code",
   "execution_count": 92,
   "metadata": {
    "collapsed": false
   },
   "outputs": [
    {
     "name": "stdout",
     "output_type": "stream",
     "text": [
      "Optimization terminated successfully.\n",
      "         Current function value: 0.664127\n",
      "         Iterations 4\n"
     ]
    },
    {
     "name": "stderr",
     "output_type": "stream",
     "text": [
      "/anaconda/lib/python3.6/site-packages/statsmodels/base/model.py:971: RuntimeWarning: invalid value encountered in sqrt\n",
      "  return np.sqrt(np.diag(self.cov_params()))\n",
      "/anaconda/lib/python3.6/site-packages/scipy/stats/_distn_infrastructure.py:875: RuntimeWarning: invalid value encountered in greater\n",
      "  return (self.a < x) & (x < self.b)\n",
      "/anaconda/lib/python3.6/site-packages/scipy/stats/_distn_infrastructure.py:875: RuntimeWarning: invalid value encountered in less\n",
      "  return (self.a < x) & (x < self.b)\n",
      "/anaconda/lib/python3.6/site-packages/scipy/stats/_distn_infrastructure.py:1814: RuntimeWarning: invalid value encountered in less_equal\n",
      "  cond2 = cond0 & (x <= self.a)\n"
     ]
    },
    {
     "data": {
      "text/html": [
       "<table class=\"simpletable\">\n",
       "<caption>Logit Regression Results</caption>\n",
       "<tr>\n",
       "  <th>Dep. Variable:</th>       <td>WinPc</td>      <th>  No. Observations:  </th>  <td>    30</td> \n",
       "</tr>\n",
       "<tr>\n",
       "  <th>Model:</th>               <td>Logit</td>      <th>  Df Residuals:      </th>  <td>    27</td> \n",
       "</tr>\n",
       "<tr>\n",
       "  <th>Method:</th>               <td>MLE</td>       <th>  Df Model:          </th>  <td>     2</td> \n",
       "</tr>\n",
       "<tr>\n",
       "  <th>Date:</th>          <td>Mon, 27 Nov 2017</td> <th>  Pseudo R-squ.:     </th>  <td>0.04185</td>\n",
       "</tr>\n",
       "<tr>\n",
       "  <th>Time:</th>              <td>21:41:52</td>     <th>  Log-Likelihood:    </th> <td> -19.924</td>\n",
       "</tr>\n",
       "<tr>\n",
       "  <th>converged:</th>           <td>True</td>       <th>  LL-Null:           </th> <td> -20.794</td>\n",
       "</tr>\n",
       "<tr>\n",
       "  <th> </th>                      <td> </td>        <th>  LLR p-value:       </th>  <td>0.4188</td> \n",
       "</tr>\n",
       "</table>\n",
       "<table class=\"simpletable\">\n",
       "<tr>\n",
       "     <td></td>       <th>coef</th>     <th>std err</th>      <th>z</th>      <th>P>|z|</th> <th>[95.0% Conf. Int.]</th> \n",
       "</tr>\n",
       "<tr>\n",
       "  <th>const</th>  <td>    0.0076</td> <td> 1.47e+07</td> <td> 5.15e-10</td> <td> 1.000</td> <td>-2.88e+07  2.88e+07</td>\n",
       "</tr>\n",
       "<tr>\n",
       "  <th>MeanF1</th> <td>    0.1513</td> <td> 2.66e+06</td> <td>  5.7e-08</td> <td> 1.000</td> <td>-5.21e+06  5.21e+06</td>\n",
       "</tr>\n",
       "<tr>\n",
       "  <th>MeanD1</th> <td>    0.0447</td> <td>      nan</td> <td>      nan</td> <td>   nan</td> <td>      nan       nan</td>\n",
       "</tr>\n",
       "<tr>\n",
       "  <th>MeanF2</th> <td>   -0.0605</td> <td> 2.66e+06</td> <td>-2.28e-08</td> <td> 1.000</td> <td>-5.21e+06  5.21e+06</td>\n",
       "</tr>\n",
       "<tr>\n",
       "  <th>MeanD2</th> <td>    0.0008</td> <td>      nan</td> <td>      nan</td> <td>   nan</td> <td>      nan       nan</td>\n",
       "</tr>\n",
       "</table>"
      ],
      "text/plain": [
       "<class 'statsmodels.iolib.summary.Summary'>\n",
       "\"\"\"\n",
       "                           Logit Regression Results                           \n",
       "==============================================================================\n",
       "Dep. Variable:                  WinPc   No. Observations:                   30\n",
       "Model:                          Logit   Df Residuals:                       27\n",
       "Method:                           MLE   Df Model:                            2\n",
       "Date:                Mon, 27 Nov 2017   Pseudo R-squ.:                 0.04185\n",
       "Time:                        21:41:52   Log-Likelihood:                -19.924\n",
       "converged:                       True   LL-Null:                       -20.794\n",
       "                                        LLR p-value:                    0.4188\n",
       "==============================================================================\n",
       "                 coef    std err          z      P>|z|      [95.0% Conf. Int.]\n",
       "------------------------------------------------------------------------------\n",
       "const          0.0076   1.47e+07   5.15e-10      1.000     -2.88e+07  2.88e+07\n",
       "MeanF1         0.1513   2.66e+06    5.7e-08      1.000     -5.21e+06  5.21e+06\n",
       "MeanD1         0.0447        nan        nan        nan           nan       nan\n",
       "MeanF2        -0.0605   2.66e+06  -2.28e-08      1.000     -5.21e+06  5.21e+06\n",
       "MeanD2         0.0008        nan        nan        nan           nan       nan\n",
       "==============================================================================\n",
       "\"\"\""
      ]
     },
     "execution_count": 92,
     "metadata": {},
     "output_type": "execute_result"
    }
   ],
   "source": [
    "y = dm['WinPc']  \n",
    "X = sm.add_constant(dm[['MeanF1', 'MeanD1', 'MeanF2', 'MeanD2']] )\n",
    "result = sm.Logit(y, X).fit()\n",
    "result.summary()"
   ]
  },
  {
   "cell_type": "code",
   "execution_count": 93,
   "metadata": {
    "collapsed": false
   },
   "outputs": [
    {
     "name": "stdout",
     "output_type": "stream",
     "text": [
      "Optimization terminated successfully.\n",
      "         Current function value: 0.664265\n",
      "         Iterations 4\n"
     ]
    },
    {
     "data": {
      "text/html": [
       "<table class=\"simpletable\">\n",
       "<caption>Logit Regression Results</caption>\n",
       "<tr>\n",
       "  <th>Dep. Variable:</th>       <td>WinPc</td>      <th>  No. Observations:  </th>  <td>    30</td> \n",
       "</tr>\n",
       "<tr>\n",
       "  <th>Model:</th>               <td>Logit</td>      <th>  Df Residuals:      </th>  <td>    28</td> \n",
       "</tr>\n",
       "<tr>\n",
       "  <th>Method:</th>               <td>MLE</td>       <th>  Df Model:          </th>  <td>     1</td> \n",
       "</tr>\n",
       "<tr>\n",
       "  <th>Date:</th>          <td>Mon, 27 Nov 2017</td> <th>  Pseudo R-squ.:     </th>  <td>0.04166</td>\n",
       "</tr>\n",
       "<tr>\n",
       "  <th>Time:</th>              <td>21:41:52</td>     <th>  Log-Likelihood:    </th> <td> -19.928</td>\n",
       "</tr>\n",
       "<tr>\n",
       "  <th>converged:</th>           <td>True</td>       <th>  LL-Null:           </th> <td> -20.794</td>\n",
       "</tr>\n",
       "<tr>\n",
       "  <th> </th>                      <td> </td>        <th>  LLR p-value:       </th>  <td>0.1881</td> \n",
       "</tr>\n",
       "</table>\n",
       "<table class=\"simpletable\">\n",
       "<tr>\n",
       "     <td></td>       <th>coef</th>     <th>std err</th>      <th>z</th>      <th>P>|z|</th> <th>[95.0% Conf. Int.]</th> \n",
       "</tr>\n",
       "<tr>\n",
       "  <th>const</th>  <td>   -0.7149</td> <td>    0.854</td> <td>   -0.837</td> <td> 0.402</td> <td>   -2.389     0.959</td>\n",
       "</tr>\n",
       "<tr>\n",
       "  <th>MeanF1</th> <td>    0.2336</td> <td>    0.253</td> <td>    0.924</td> <td> 0.355</td> <td>   -0.262     0.729</td>\n",
       "</tr>\n",
       "</table>"
      ],
      "text/plain": [
       "<class 'statsmodels.iolib.summary.Summary'>\n",
       "\"\"\"\n",
       "                           Logit Regression Results                           \n",
       "==============================================================================\n",
       "Dep. Variable:                  WinPc   No. Observations:                   30\n",
       "Model:                          Logit   Df Residuals:                       28\n",
       "Method:                           MLE   Df Model:                            1\n",
       "Date:                Mon, 27 Nov 2017   Pseudo R-squ.:                 0.04166\n",
       "Time:                        21:41:52   Log-Likelihood:                -19.928\n",
       "converged:                       True   LL-Null:                       -20.794\n",
       "                                        LLR p-value:                    0.1881\n",
       "==============================================================================\n",
       "                 coef    std err          z      P>|z|      [95.0% Conf. Int.]\n",
       "------------------------------------------------------------------------------\n",
       "const         -0.7149      0.854     -0.837      0.402        -2.389     0.959\n",
       "MeanF1         0.2336      0.253      0.924      0.355        -0.262     0.729\n",
       "==============================================================================\n",
       "\"\"\""
      ]
     },
     "execution_count": 93,
     "metadata": {},
     "output_type": "execute_result"
    }
   ],
   "source": [
    "y = dm['WinPc']  \n",
    "X = sm.add_constant(dm[['MeanF1']] )\n",
    "result = sm.Logit(y, X).fit()\n",
    "result.summary()"
   ]
  },
  {
   "cell_type": "code",
   "execution_count": 94,
   "metadata": {
    "collapsed": false
   },
   "outputs": [
    {
     "data": {
      "text/html": [
       "<table class=\"simpletable\">\n",
       "<caption>OLS Regression Results</caption>\n",
       "<tr>\n",
       "  <th>Dep. Variable:</th>          <td>WinPc</td>      <th>  R-squared:         </th> <td>   0.845</td>\n",
       "</tr>\n",
       "<tr>\n",
       "  <th>Model:</th>                   <td>OLS</td>       <th>  Adj. R-squared:    </th> <td>   0.839</td>\n",
       "</tr>\n",
       "<tr>\n",
       "  <th>Method:</th>             <td>Least Squares</td>  <th>  F-statistic:       </th> <td>   152.4</td>\n",
       "</tr>\n",
       "<tr>\n",
       "  <th>Date:</th>             <td>Mon, 27 Nov 2017</td> <th>  Prob (F-statistic):</th> <td>7.63e-13</td>\n",
       "</tr>\n",
       "<tr>\n",
       "  <th>Time:</th>                 <td>21:41:52</td>     <th>  Log-Likelihood:    </th> <td>  56.663</td>\n",
       "</tr>\n",
       "<tr>\n",
       "  <th>No. Observations:</th>      <td>    30</td>      <th>  AIC:               </th> <td>  -109.3</td>\n",
       "</tr>\n",
       "<tr>\n",
       "  <th>Df Residuals:</th>          <td>    28</td>      <th>  BIC:               </th> <td>  -106.5</td>\n",
       "</tr>\n",
       "<tr>\n",
       "  <th>Df Model:</th>              <td>     1</td>      <th>                     </th>     <td> </td>   \n",
       "</tr>\n",
       "<tr>\n",
       "  <th>Covariance Type:</th>      <td>nonrobust</td>    <th>                     </th>     <td> </td>   \n",
       "</tr>\n",
       "</table>\n",
       "<table class=\"simpletable\">\n",
       "<tr>\n",
       "    <td></td>       <th>coef</th>     <th>std err</th>      <th>t</th>      <th>P>|t|</th> <th>[95.0% Conf. Int.]</th> \n",
       "</tr>\n",
       "<tr>\n",
       "  <th>const</th> <td>    0.6680</td> <td>    0.015</td> <td>   43.448</td> <td> 0.000</td> <td>    0.636     0.699</td>\n",
       "</tr>\n",
       "<tr>\n",
       "  <th>DF</th>    <td>    0.0285</td> <td>    0.002</td> <td>   12.343</td> <td> 0.000</td> <td>    0.024     0.033</td>\n",
       "</tr>\n",
       "</table>\n",
       "<table class=\"simpletable\">\n",
       "<tr>\n",
       "  <th>Omnibus:</th>       <td>21.045</td> <th>  Durbin-Watson:     </th> <td>   1.897</td>\n",
       "</tr>\n",
       "<tr>\n",
       "  <th>Prob(Omnibus):</th> <td> 0.000</td> <th>  Jarque-Bera (JB):  </th> <td>  36.117</td>\n",
       "</tr>\n",
       "<tr>\n",
       "  <th>Skew:</th>          <td>-1.540</td> <th>  Prob(JB):          </th> <td>1.44e-08</td>\n",
       "</tr>\n",
       "<tr>\n",
       "  <th>Kurtosis:</th>      <td> 7.406</td> <th>  Cond. No.          </th> <td>    15.1</td>\n",
       "</tr>\n",
       "</table>"
      ],
      "text/plain": [
       "<class 'statsmodels.iolib.summary.Summary'>\n",
       "\"\"\"\n",
       "                            OLS Regression Results                            \n",
       "==============================================================================\n",
       "Dep. Variable:                  WinPc   R-squared:                       0.845\n",
       "Model:                            OLS   Adj. R-squared:                  0.839\n",
       "Method:                 Least Squares   F-statistic:                     152.4\n",
       "Date:                Mon, 27 Nov 2017   Prob (F-statistic):           7.63e-13\n",
       "Time:                        21:41:52   Log-Likelihood:                 56.663\n",
       "No. Observations:                  30   AIC:                            -109.3\n",
       "Df Residuals:                      28   BIC:                            -106.5\n",
       "Df Model:                           1                                         \n",
       "Covariance Type:            nonrobust                                         \n",
       "==============================================================================\n",
       "                 coef    std err          t      P>|t|      [95.0% Conf. Int.]\n",
       "------------------------------------------------------------------------------\n",
       "const          0.6680      0.015     43.448      0.000         0.636     0.699\n",
       "DF             0.0285      0.002     12.343      0.000         0.024     0.033\n",
       "==============================================================================\n",
       "Omnibus:                       21.045   Durbin-Watson:                   1.897\n",
       "Prob(Omnibus):                  0.000   Jarque-Bera (JB):               36.117\n",
       "Skew:                          -1.540   Prob(JB):                     1.44e-08\n",
       "Kurtosis:                       7.406   Cond. No.                         15.1\n",
       "==============================================================================\n",
       "\n",
       "Warnings:\n",
       "[1] Standard Errors assume that the covariance matrix of the errors is correctly specified.\n",
       "\"\"\""
      ]
     },
     "execution_count": 94,
     "metadata": {},
     "output_type": "execute_result"
    }
   ],
   "source": [
    "y = dm['WinPc']  \n",
    "X = sm.add_constant(dm[['DF']] )\n",
    "result = sm.OLS(y, X).fit()\n",
    "result.summary()"
   ]
  },
  {
   "cell_type": "code",
   "execution_count": 95,
   "metadata": {
    "collapsed": false
   },
   "outputs": [
    {
     "name": "stdout",
     "output_type": "stream",
     "text": [
      "Optimization terminated successfully.\n",
      "         Current function value: 0.664265\n",
      "         Iterations 4\n"
     ]
    },
    {
     "data": {
      "text/html": [
       "<table class=\"simpletable\">\n",
       "<caption>Logit Regression Results</caption>\n",
       "<tr>\n",
       "  <th>Dep. Variable:</th>       <td>WinPc</td>      <th>  No. Observations:  </th>  <td>    30</td> \n",
       "</tr>\n",
       "<tr>\n",
       "  <th>Model:</th>               <td>Logit</td>      <th>  Df Residuals:      </th>  <td>    28</td> \n",
       "</tr>\n",
       "<tr>\n",
       "  <th>Method:</th>               <td>MLE</td>       <th>  Df Model:          </th>  <td>     1</td> \n",
       "</tr>\n",
       "<tr>\n",
       "  <th>Date:</th>          <td>Mon, 27 Nov 2017</td> <th>  Pseudo R-squ.:     </th>  <td>0.04166</td>\n",
       "</tr>\n",
       "<tr>\n",
       "  <th>Time:</th>              <td>21:41:52</td>     <th>  Log-Likelihood:    </th> <td> -19.928</td>\n",
       "</tr>\n",
       "<tr>\n",
       "  <th>converged:</th>           <td>True</td>       <th>  LL-Null:           </th> <td> -20.794</td>\n",
       "</tr>\n",
       "<tr>\n",
       "  <th> </th>                      <td> </td>        <th>  LLR p-value:       </th>  <td>0.1881</td> \n",
       "</tr>\n",
       "</table>\n",
       "<table class=\"simpletable\">\n",
       "<tr>\n",
       "    <td></td>       <th>coef</th>     <th>std err</th>      <th>z</th>      <th>P>|z|</th> <th>[95.0% Conf. Int.]</th> \n",
       "</tr>\n",
       "<tr>\n",
       "  <th>const</th> <td>    0.6867</td> <td>    0.834</td> <td>    0.824</td> <td> 0.410</td> <td>   -0.947     2.321</td>\n",
       "</tr>\n",
       "<tr>\n",
       "  <th>DF</th>    <td>    0.1168</td> <td>    0.126</td> <td>    0.924</td> <td> 0.355</td> <td>   -0.131     0.364</td>\n",
       "</tr>\n",
       "</table>"
      ],
      "text/plain": [
       "<class 'statsmodels.iolib.summary.Summary'>\n",
       "\"\"\"\n",
       "                           Logit Regression Results                           \n",
       "==============================================================================\n",
       "Dep. Variable:                  WinPc   No. Observations:                   30\n",
       "Model:                          Logit   Df Residuals:                       28\n",
       "Method:                           MLE   Df Model:                            1\n",
       "Date:                Mon, 27 Nov 2017   Pseudo R-squ.:                 0.04166\n",
       "Time:                        21:41:52   Log-Likelihood:                -19.928\n",
       "converged:                       True   LL-Null:                       -20.794\n",
       "                                        LLR p-value:                    0.1881\n",
       "==============================================================================\n",
       "                 coef    std err          z      P>|z|      [95.0% Conf. Int.]\n",
       "------------------------------------------------------------------------------\n",
       "const          0.6867      0.834      0.824      0.410        -0.947     2.321\n",
       "DF             0.1168      0.126      0.924      0.355        -0.131     0.364\n",
       "==============================================================================\n",
       "\"\"\""
      ]
     },
     "execution_count": 95,
     "metadata": {},
     "output_type": "execute_result"
    }
   ],
   "source": [
    "y = dm['WinPc']  \n",
    "X = sm.add_constant(dm[['DF']] )\n",
    "result = sm.Logit(y, X).fit()\n",
    "result.summary()"
   ]
  },
  {
   "cell_type": "code",
   "execution_count": 96,
   "metadata": {
    "collapsed": false
   },
   "outputs": [
    {
     "data": {
      "text/html": [
       "<table class=\"simpletable\">\n",
       "<caption>OLS Regression Results</caption>\n",
       "<tr>\n",
       "  <th>Dep. Variable:</th>          <td>WinPc</td>      <th>  R-squared:         </th> <td>   0.603</td>\n",
       "</tr>\n",
       "<tr>\n",
       "  <th>Model:</th>                   <td>OLS</td>       <th>  Adj. R-squared:    </th> <td>   0.589</td>\n",
       "</tr>\n",
       "<tr>\n",
       "  <th>Method:</th>             <td>Least Squares</td>  <th>  F-statistic:       </th> <td>   42.53</td>\n",
       "</tr>\n",
       "<tr>\n",
       "  <th>Date:</th>             <td>Mon, 27 Nov 2017</td> <th>  Prob (F-statistic):</th> <td>4.55e-07</td>\n",
       "</tr>\n",
       "<tr>\n",
       "  <th>Time:</th>                 <td>21:41:52</td>     <th>  Log-Likelihood:    </th> <td>  42.579</td>\n",
       "</tr>\n",
       "<tr>\n",
       "  <th>No. Observations:</th>      <td>    30</td>      <th>  AIC:               </th> <td>  -81.16</td>\n",
       "</tr>\n",
       "<tr>\n",
       "  <th>Df Residuals:</th>          <td>    28</td>      <th>  BIC:               </th> <td>  -78.36</td>\n",
       "</tr>\n",
       "<tr>\n",
       "  <th>Df Model:</th>              <td>     1</td>      <th>                     </th>     <td> </td>   \n",
       "</tr>\n",
       "<tr>\n",
       "  <th>Covariance Type:</th>      <td>nonrobust</td>    <th>                     </th>     <td> </td>   \n",
       "</tr>\n",
       "</table>\n",
       "<table class=\"simpletable\">\n",
       "<tr>\n",
       "    <td></td>       <th>coef</th>     <th>std err</th>      <th>t</th>      <th>P>|t|</th> <th>[95.0% Conf. Int.]</th> \n",
       "</tr>\n",
       "<tr>\n",
       "  <th>const</th> <td>    0.6178</td> <td>    0.021</td> <td>   28.897</td> <td> 0.000</td> <td>    0.574     0.662</td>\n",
       "</tr>\n",
       "<tr>\n",
       "  <th>DD</th>    <td>    0.0393</td> <td>    0.006</td> <td>    6.522</td> <td> 0.000</td> <td>    0.027     0.052</td>\n",
       "</tr>\n",
       "</table>\n",
       "<table class=\"simpletable\">\n",
       "<tr>\n",
       "  <th>Omnibus:</th>       <td> 5.760</td> <th>  Durbin-Watson:     </th> <td>   2.175</td>\n",
       "</tr>\n",
       "<tr>\n",
       "  <th>Prob(Omnibus):</th> <td> 0.056</td> <th>  Jarque-Bera (JB):  </th> <td>   4.194</td>\n",
       "</tr>\n",
       "<tr>\n",
       "  <th>Skew:</th>          <td>-0.872</td> <th>  Prob(JB):          </th> <td>   0.123</td>\n",
       "</tr>\n",
       "<tr>\n",
       "  <th>Kurtosis:</th>      <td> 3.561</td> <th>  Cond. No.          </th> <td>    7.26</td>\n",
       "</tr>\n",
       "</table>"
      ],
      "text/plain": [
       "<class 'statsmodels.iolib.summary.Summary'>\n",
       "\"\"\"\n",
       "                            OLS Regression Results                            \n",
       "==============================================================================\n",
       "Dep. Variable:                  WinPc   R-squared:                       0.603\n",
       "Model:                            OLS   Adj. R-squared:                  0.589\n",
       "Method:                 Least Squares   F-statistic:                     42.53\n",
       "Date:                Mon, 27 Nov 2017   Prob (F-statistic):           4.55e-07\n",
       "Time:                        21:41:52   Log-Likelihood:                 42.579\n",
       "No. Observations:                  30   AIC:                            -81.16\n",
       "Df Residuals:                      28   BIC:                            -78.36\n",
       "Df Model:                           1                                         \n",
       "Covariance Type:            nonrobust                                         \n",
       "==============================================================================\n",
       "                 coef    std err          t      P>|t|      [95.0% Conf. Int.]\n",
       "------------------------------------------------------------------------------\n",
       "const          0.6178      0.021     28.897      0.000         0.574     0.662\n",
       "DD             0.0393      0.006      6.522      0.000         0.027     0.052\n",
       "==============================================================================\n",
       "Omnibus:                        5.760   Durbin-Watson:                   2.175\n",
       "Prob(Omnibus):                  0.056   Jarque-Bera (JB):                4.194\n",
       "Skew:                          -0.872   Prob(JB):                        0.123\n",
       "Kurtosis:                       3.561   Cond. No.                         7.26\n",
       "==============================================================================\n",
       "\n",
       "Warnings:\n",
       "[1] Standard Errors assume that the covariance matrix of the errors is correctly specified.\n",
       "\"\"\""
      ]
     },
     "execution_count": 96,
     "metadata": {},
     "output_type": "execute_result"
    }
   ],
   "source": [
    "y = dm['WinPc']  \n",
    "X = sm.add_constant(dm[['DD']] )\n",
    "result = sm.OLS(y, X).fit()\n",
    "result.summary()"
   ]
  },
  {
   "cell_type": "code",
   "execution_count": 97,
   "metadata": {
    "collapsed": false
   },
   "outputs": [
    {
     "name": "stdout",
     "output_type": "stream",
     "text": [
      "Optimization terminated successfully.\n",
      "         Current function value: 0.672517\n",
      "         Iterations 4\n"
     ]
    },
    {
     "data": {
      "text/html": [
       "<table class=\"simpletable\">\n",
       "<caption>Logit Regression Results</caption>\n",
       "<tr>\n",
       "  <th>Dep. Variable:</th>       <td>WinPc</td>      <th>  No. Observations:  </th>  <td>    30</td> \n",
       "</tr>\n",
       "<tr>\n",
       "  <th>Model:</th>               <td>Logit</td>      <th>  Df Residuals:      </th>  <td>    28</td> \n",
       "</tr>\n",
       "<tr>\n",
       "  <th>Method:</th>               <td>MLE</td>       <th>  Df Model:          </th>  <td>     1</td> \n",
       "</tr>\n",
       "<tr>\n",
       "  <th>Date:</th>          <td>Mon, 27 Nov 2017</td> <th>  Pseudo R-squ.:     </th>  <td>0.02975</td>\n",
       "</tr>\n",
       "<tr>\n",
       "  <th>Time:</th>              <td>21:41:52</td>     <th>  Log-Likelihood:    </th> <td> -20.176</td>\n",
       "</tr>\n",
       "<tr>\n",
       "  <th>converged:</th>           <td>True</td>       <th>  LL-Null:           </th> <td> -20.794</td>\n",
       "</tr>\n",
       "<tr>\n",
       "  <th> </th>                      <td> </td>        <th>  LLR p-value:       </th>  <td>0.2660</td> \n",
       "</tr>\n",
       "</table>\n",
       "<table class=\"simpletable\">\n",
       "<tr>\n",
       "    <td></td>       <th>coef</th>     <th>std err</th>      <th>z</th>      <th>P>|z|</th> <th>[95.0% Conf. Int.]</th> \n",
       "</tr>\n",
       "<tr>\n",
       "  <th>const</th> <td>    0.4769</td> <td>    0.717</td> <td>    0.666</td> <td> 0.506</td> <td>   -0.928     1.881</td>\n",
       "</tr>\n",
       "<tr>\n",
       "  <th>DD</th>    <td>    0.1592</td> <td>    0.203</td> <td>    0.785</td> <td> 0.432</td> <td>   -0.238     0.557</td>\n",
       "</tr>\n",
       "</table>"
      ],
      "text/plain": [
       "<class 'statsmodels.iolib.summary.Summary'>\n",
       "\"\"\"\n",
       "                           Logit Regression Results                           \n",
       "==============================================================================\n",
       "Dep. Variable:                  WinPc   No. Observations:                   30\n",
       "Model:                          Logit   Df Residuals:                       28\n",
       "Method:                           MLE   Df Model:                            1\n",
       "Date:                Mon, 27 Nov 2017   Pseudo R-squ.:                 0.02975\n",
       "Time:                        21:41:52   Log-Likelihood:                -20.176\n",
       "converged:                       True   LL-Null:                       -20.794\n",
       "                                        LLR p-value:                    0.2660\n",
       "==============================================================================\n",
       "                 coef    std err          z      P>|z|      [95.0% Conf. Int.]\n",
       "------------------------------------------------------------------------------\n",
       "const          0.4769      0.717      0.666      0.506        -0.928     1.881\n",
       "DD             0.1592      0.203      0.785      0.432        -0.238     0.557\n",
       "==============================================================================\n",
       "\"\"\""
      ]
     },
     "execution_count": 97,
     "metadata": {},
     "output_type": "execute_result"
    }
   ],
   "source": [
    "y = dm['WinPc']  \n",
    "X = sm.add_constant(dm[['DD']] )\n",
    "result = sm.Logit(y, X).fit()\n",
    "result.summary()"
   ]
  },
  {
   "cell_type": "code",
   "execution_count": 98,
   "metadata": {
    "collapsed": false
   },
   "outputs": [
    {
     "data": {
      "image/png": "[encoded data removed]",
      "text/plain": [
       "<matplotlib.figure.Figure at 0x116931c50>"
      ]
     },
     "metadata": {},
     "output_type": "display_data"
    }
   ],
   "source": [
    "y = dm.WinPc\n",
    "x = dm.DF\n",
    "plt.scatter(x, y)\n",
    "plt.show()"
   ]
  },
  {
   "cell_type": "code",
   "execution_count": 99,
   "metadata": {
    "collapsed": false
   },
   "outputs": [
    {
     "data": {
      "image/png": "[encoded data removed]",
      "text/plain": [
       "<matplotlib.figure.Figure at 0x116e82390>"
      ]
     },
     "metadata": {},
     "output_type": "display_data"
    }
   ],
   "source": [
    "y = dm.WinPc\n",
    "x = dm.DD\n",
    "plt.scatter(x, y)\n",
    "plt.show()"
   ]
  },
  {
   "cell_type": "code",
   "execution_count": 100,
   "metadata": {
    "collapsed": false
   },
   "outputs": [
    {
     "data": {
      "image/png": "[encoded data removed]",
      "text/plain": [
       "<matplotlib.figure.Figure at 0x116c65780>"
      ]
     },
     "metadata": {},
     "output_type": "display_data"
    }
   ],
   "source": [
    "y = dm.GF\n",
    "x = dm.DF\n",
    "plt.scatter(x, y)\n",
    "plt.show()"
   ]
  },
  {
   "cell_type": "code",
   "execution_count": 101,
   "metadata": {
    "collapsed": false
   },
   "outputs": [
    {
     "data": {
      "image/png": "[encoded data removed]",
      "text/plain": [
       "<matplotlib.figure.Figure at 0x116f77a58>"
      ]
     },
     "metadata": {},
     "output_type": "display_data"
    }
   ],
   "source": [
    "y = dm.GA\n",
    "x = dm.DF\n",
    "plt.scatter(x, y)\n",
    "plt.show()"
   ]
  },
  {
   "cell_type": "code",
   "execution_count": 102,
   "metadata": {
    "collapsed": false
   },
   "outputs": [
    {
     "data": {
      "image/png": "[encoded data removed]",
      "text/plain": [
       "<matplotlib.figure.Figure at 0x116e35f98>"
      ]
     },
     "metadata": {},
     "output_type": "display_data"
    }
   ],
   "source": [
    "y = dm.GF\n",
    "x = dm.DD\n",
    "plt.scatter(x, y)\n",
    "plt.show()"
   ]
  },
  {
   "cell_type": "code",
   "execution_count": 103,
   "metadata": {
    "collapsed": false
   },
   "outputs": [
    {
     "data": {
      "image/png": "[encoded data removed]",
      "text/plain": [
       "<matplotlib.figure.Figure at 0x116aac908>"
      ]
     },
     "metadata": {},
     "output_type": "display_data"
    }
   ],
   "source": [
    "y = dm.GA\n",
    "x = dm.DD\n",
    "plt.scatter(x, y)\n",
    "plt.show()"
   ]
  },
  {
   "cell_type": "code",
   "execution_count": null,
   "metadata": {
    "collapsed": true
   },
   "outputs": [],
   "source": []
  }
 ],
 "metadata": {
  "kernelspec": {
   "display_name": "Python 3",
   "language": "python",
   "name": "python3"
  },
  "language_info": {
   "codemirror_mode": {
    "name": "ipython",
    "version": 3
   },
   "file_extension": ".py",
   "mimetype": "text/x-python",
   "name": "python",
   "nbconvert_exporter": "python",
   "pygments_lexer": "ipython3",
   "version": "3.6.0"
  }
 },
 "nbformat": 4,
 "nbformat_minor": 2
}
