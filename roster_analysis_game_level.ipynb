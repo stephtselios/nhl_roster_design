{
 "cells": [
  {
   "cell_type": "markdown",
   "metadata": {},
   "source": [
    "## roster model estimation"
   ]
  },
  {
   "cell_type": "markdown",
   "metadata": {},
   "source": [
    "To determine the impact each roster position has on team success, we need to examine the quality of players per game and the result of each game. For each roster position, there will be elite players and secondary players per team. Elite players will be assinged a value of 1 whereas secondary players, a value 2."
   ]
  },
  {
   "cell_type": "markdown",
   "metadata": {},
   "source": [
    "### import data sets  \"play by play goal detail\" and \"game detail\""
   ]
  },
  {
   "cell_type": "code",
   "execution_count": 48,
   "metadata": {
    "collapsed": true
   },
   "outputs": [],
   "source": [
    "import sys\n",
    "import os\n",
    "import pandas as pd\n",
    "import numpy as np\n",
    "import datetime, time\n",
    "import matplotlib.pyplot as plt\n",
    "import statsmodels.api as sm\n",
    "from statsmodels.formula.api import ols\n",
    "from pylab import hist, show\n",
    "import scipy\n",
    "import zipfile\n",
    "\n",
    "\n",
    "pd.set_option('display.max_rows', 50)\n",
    "pd.set_option('display.max_columns', 200)\n"
   ]
  },
  {
   "cell_type": "code",
   "execution_count": 49,
   "metadata": {
    "collapsed": false
   },
   "outputs": [
    {
     "data": {
      "text/plain": [
       "'/Users/stefanostselios/Desktop/nhl_roster_design-master'"
      ]
     },
     "execution_count": 49,
     "metadata": {},
     "output_type": "execute_result"
    }
   ],
   "source": [
    "pwd"
   ]
  },
  {
   "cell_type": "code",
   "execution_count": 50,
   "metadata": {
    "collapsed": false
   },
   "outputs": [],
   "source": [
    "d0 = pd.read_csv('season_games.csv', index_col=0)\n",
    "d1 = pd.read_csv('game_team_roster_quality.csv', index_col=0)"
   ]
  },
  {
   "cell_type": "code",
   "execution_count": 58,
   "metadata": {
    "collapsed": false
   },
   "outputs": [
    {
     "data": {
      "text/html": [
       "<div>\n",
       "<table border=\"1\" class=\"dataframe\">\n",
       "  <thead>\n",
       "    <tr style=\"text-align: right;\">\n",
       "      <th></th>\n",
       "      <th>Season</th>\n",
       "      <th>GameNumber</th>\n",
       "      <th>VTeamCode</th>\n",
       "      <th>HTeamCode</th>\n",
       "      <th>HGF</th>\n",
       "      <th>VGF</th>\n",
       "      <th>GD</th>\n",
       "      <th>WinTeam</th>\n",
       "    </tr>\n",
       "  </thead>\n",
       "  <tbody>\n",
       "    <tr>\n",
       "      <th>0</th>\n",
       "      <td>2010</td>\n",
       "      <td>20001</td>\n",
       "      <td>MTL</td>\n",
       "      <td>TOR</td>\n",
       "      <td>3</td>\n",
       "      <td>2</td>\n",
       "      <td>1</td>\n",
       "      <td>HOME</td>\n",
       "    </tr>\n",
       "    <tr>\n",
       "      <th>1</th>\n",
       "      <td>2010</td>\n",
       "      <td>20002</td>\n",
       "      <td>PHI</td>\n",
       "      <td>PIT</td>\n",
       "      <td>2</td>\n",
       "      <td>3</td>\n",
       "      <td>-1</td>\n",
       "      <td>AWAY</td>\n",
       "    </tr>\n",
       "    <tr>\n",
       "      <th>2</th>\n",
       "      <td>2010</td>\n",
       "      <td>20003</td>\n",
       "      <td>CAR</td>\n",
       "      <td>MIN</td>\n",
       "      <td>3</td>\n",
       "      <td>4</td>\n",
       "      <td>-1</td>\n",
       "      <td>AWAY</td>\n",
       "    </tr>\n",
       "    <tr>\n",
       "      <th>3</th>\n",
       "      <td>2010</td>\n",
       "      <td>20004</td>\n",
       "      <td>CHI</td>\n",
       "      <td>COL</td>\n",
       "      <td>4</td>\n",
       "      <td>3</td>\n",
       "      <td>1</td>\n",
       "      <td>HOME</td>\n",
       "    </tr>\n",
       "    <tr>\n",
       "      <th>4</th>\n",
       "      <td>2010</td>\n",
       "      <td>20005</td>\n",
       "      <td>CGY</td>\n",
       "      <td>EDM</td>\n",
       "      <td>4</td>\n",
       "      <td>0</td>\n",
       "      <td>4</td>\n",
       "      <td>HOME</td>\n",
       "    </tr>\n",
       "  </tbody>\n",
       "</table>\n",
       "</div>"
      ],
      "text/plain": [
       "   Season  GameNumber VTeamCode HTeamCode  HGF  VGF  GD WinTeam\n",
       "0    2010       20001       MTL       TOR    3    2   1    HOME\n",
       "1    2010       20002       PHI       PIT    2    3  -1    AWAY\n",
       "2    2010       20003       CAR       MIN    3    4  -1    AWAY\n",
       "3    2010       20004       CHI       COL    4    3   1    HOME\n",
       "4    2010       20005       CGY       EDM    4    0   4    HOME"
      ]
     },
     "execution_count": 58,
     "metadata": {},
     "output_type": "execute_result"
    }
   ],
   "source": [
    "d0['WinTeam'] = d0.apply(lambda x: 'HOME' if x['GD'] > 0 else 'AWAY', axis=1)\n",
    "d0 = d0[['Season', 'GameNumber', 'VTeamCode', 'HTeamCode', 'HGF', 'VGF', 'GD', 'WinTeam']]\n",
    "d0.head()"
   ]
  },
  {
   "cell_type": "code",
   "execution_count": 59,
   "metadata": {
    "collapsed": true
   },
   "outputs": [],
   "source": [
    "dm = d0.merge(d1, on=['Season', 'GameNumber'], how='left')"
   ]
  },
  {
   "cell_type": "markdown",
   "metadata": {},
   "source": [
    "- Calculate the difference between player quality per game for all positions with respect to home team ( Home Team - Visitor Team). There are 5 positions and 2 types of player quality. This will give us a total of 10 differenecs. "
   ]
  },
  {
   "cell_type": "code",
   "execution_count": 62,
   "metadata": {
    "collapsed": false
   },
   "outputs": [
    {
     "data": {
      "text/plain": [
       "(1230, 16)"
      ]
     },
     "execution_count": 62,
     "metadata": {},
     "output_type": "execute_result"
    }
   ],
   "source": [
    "dm = dm[dm['GameNumber'] <= 21230]\n",
    "dm.shape"
   ]
  },
  {
   "cell_type": "code",
   "execution_count": 63,
   "metadata": {
    "collapsed": true
   },
   "outputs": [],
   "source": [
    "dm['VF'] = dm['VF1'] + dm['VF2']\n",
    "dm['VD'] = dm['VD1'] + dm['VD2']\n",
    "dm['HF'] = dm['HF1'] + dm['HF2']\n",
    "dm['HD'] = dm['HD1'] + dm['HD2']"
   ]
  },
  {
   "cell_type": "code",
   "execution_count": 64,
   "metadata": {
    "collapsed": false
   },
   "outputs": [
    {
     "data": {
      "text/plain": [
       "12.0    1114\n",
       "11.0      75\n",
       "13.0      31\n",
       "10.0       9\n",
       "Name: VF, dtype: int64"
      ]
     },
     "execution_count": 64,
     "metadata": {},
     "output_type": "execute_result"
    }
   ],
   "source": [
    "dm['VF'].value_counts()"
   ]
  },
  {
   "cell_type": "code",
   "execution_count": 65,
   "metadata": {
    "collapsed": false
   },
   "outputs": [
    {
     "data": {
      "text/plain": [
       "6.0    1114\n",
       "7.0      75\n",
       "5.0      31\n",
       "8.0       9\n",
       "Name: VD, dtype: int64"
      ]
     },
     "execution_count": 65,
     "metadata": {},
     "output_type": "execute_result"
    }
   ],
   "source": [
    "dm['VD'].value_counts()"
   ]
  },
  {
   "cell_type": "code",
   "execution_count": 66,
   "metadata": {
    "collapsed": false
   },
   "outputs": [
    {
     "data": {
      "text/plain": [
       "12.0    1122\n",
       "11.0      91\n",
       "13.0       3\n",
       "Name: HF, dtype: int64"
      ]
     },
     "execution_count": 66,
     "metadata": {},
     "output_type": "execute_result"
    }
   ],
   "source": [
    "dm['HF'].value_counts()"
   ]
  },
  {
   "cell_type": "code",
   "execution_count": 67,
   "metadata": {
    "collapsed": false
   },
   "outputs": [
    {
     "data": {
      "text/plain": [
       "6.0    1122\n",
       "7.0      91\n",
       "5.0       3\n",
       "Name: HD, dtype: int64"
      ]
     },
     "execution_count": 67,
     "metadata": {},
     "output_type": "execute_result"
    }
   ],
   "source": [
    "dm['HD'].value_counts()"
   ]
  },
  {
   "cell_type": "code",
   "execution_count": 68,
   "metadata": {
    "collapsed": true
   },
   "outputs": [],
   "source": [
    "dm = dm[((dm['VF'] == 12) & (dm['HF'] == 12) & (dm['VD'] == 6) & (dm['HD'] == 6))]"
   ]
  },
  {
   "cell_type": "code",
   "execution_count": 69,
   "metadata": {
    "collapsed": false
   },
   "outputs": [
    {
     "data": {
      "text/plain": [
       "6.0    1015\n",
       "Name: VD, dtype: int64"
      ]
     },
     "execution_count": 69,
     "metadata": {},
     "output_type": "execute_result"
    }
   ],
   "source": [
    "dm['VD'].value_counts()"
   ]
  },
  {
   "cell_type": "code",
   "execution_count": 70,
   "metadata": {
    "collapsed": false
   },
   "outputs": [
    {
     "data": {
      "text/plain": [
       "6.0    1015\n",
       "Name: HD, dtype: int64"
      ]
     },
     "execution_count": 70,
     "metadata": {},
     "output_type": "execute_result"
    }
   ],
   "source": [
    "dm['HD'].value_counts()"
   ]
  },
  {
   "cell_type": "code",
   "execution_count": 71,
   "metadata": {
    "collapsed": false
   },
   "outputs": [
    {
     "data": {
      "text/plain": [
       "12.0    1015\n",
       "Name: VF, dtype: int64"
      ]
     },
     "execution_count": 71,
     "metadata": {},
     "output_type": "execute_result"
    }
   ],
   "source": [
    "dm['VF'].value_counts()"
   ]
  },
  {
   "cell_type": "code",
   "execution_count": 72,
   "metadata": {
    "collapsed": false
   },
   "outputs": [
    {
     "data": {
      "text/plain": [
       "12.0    1015\n",
       "Name: HF, dtype: int64"
      ]
     },
     "execution_count": 72,
     "metadata": {},
     "output_type": "execute_result"
    }
   ],
   "source": [
    "dm['HF'].value_counts()"
   ]
  },
  {
   "cell_type": "markdown",
   "metadata": {},
   "source": [
    "## Summary analysis"
   ]
  },
  {
   "cell_type": "code",
   "execution_count": 73,
   "metadata": {
    "collapsed": false
   },
   "outputs": [
    {
     "data": {
      "text/html": [
       "<div>\n",
       "<table border=\"1\" class=\"dataframe\">\n",
       "  <thead>\n",
       "    <tr style=\"text-align: right;\">\n",
       "      <th></th>\n",
       "      <th>Season</th>\n",
       "      <th>GameNumber</th>\n",
       "      <th>HGF</th>\n",
       "      <th>VGF</th>\n",
       "      <th>GD</th>\n",
       "      <th>VF1</th>\n",
       "      <th>VF2</th>\n",
       "      <th>VD1</th>\n",
       "      <th>VD2</th>\n",
       "      <th>HF1</th>\n",
       "      <th>HF2</th>\n",
       "      <th>HD1</th>\n",
       "      <th>HD2</th>\n",
       "      <th>VF</th>\n",
       "      <th>VD</th>\n",
       "      <th>HF</th>\n",
       "      <th>HD</th>\n",
       "    </tr>\n",
       "  </thead>\n",
       "  <tbody>\n",
       "    <tr>\n",
       "      <th>count</th>\n",
       "      <td>1015.0</td>\n",
       "      <td>1015.000000</td>\n",
       "      <td>1015.000000</td>\n",
       "      <td>1015.000000</td>\n",
       "      <td>1015.000000</td>\n",
       "      <td>1015.000000</td>\n",
       "      <td>1015.000000</td>\n",
       "      <td>1015.000000</td>\n",
       "      <td>1015.000000</td>\n",
       "      <td>1015.000000</td>\n",
       "      <td>1015.000000</td>\n",
       "      <td>1015.000000</td>\n",
       "      <td>1015.000000</td>\n",
       "      <td>1015.0</td>\n",
       "      <td>1015.0</td>\n",
       "      <td>1015.0</td>\n",
       "      <td>1015.0</td>\n",
       "    </tr>\n",
       "    <tr>\n",
       "      <th>mean</th>\n",
       "      <td>2010.0</td>\n",
       "      <td>20622.621675</td>\n",
       "      <td>2.941872</td>\n",
       "      <td>2.739901</td>\n",
       "      <td>0.201970</td>\n",
       "      <td>2.805911</td>\n",
       "      <td>9.194089</td>\n",
       "      <td>1.121182</td>\n",
       "      <td>4.878818</td>\n",
       "      <td>3.209852</td>\n",
       "      <td>8.790148</td>\n",
       "      <td>1.266010</td>\n",
       "      <td>4.733990</td>\n",
       "      <td>12.0</td>\n",
       "      <td>6.0</td>\n",
       "      <td>12.0</td>\n",
       "      <td>6.0</td>\n",
       "    </tr>\n",
       "    <tr>\n",
       "      <th>std</th>\n",
       "      <td>0.0</td>\n",
       "      <td>352.180753</td>\n",
       "      <td>1.716485</td>\n",
       "      <td>1.634000</td>\n",
       "      <td>2.438513</td>\n",
       "      <td>1.519357</td>\n",
       "      <td>1.519357</td>\n",
       "      <td>0.685216</td>\n",
       "      <td>0.685216</td>\n",
       "      <td>1.583414</td>\n",
       "      <td>1.583414</td>\n",
       "      <td>0.667783</td>\n",
       "      <td>0.667783</td>\n",
       "      <td>0.0</td>\n",
       "      <td>0.0</td>\n",
       "      <td>0.0</td>\n",
       "      <td>0.0</td>\n",
       "    </tr>\n",
       "    <tr>\n",
       "      <th>min</th>\n",
       "      <td>2010.0</td>\n",
       "      <td>20001.000000</td>\n",
       "      <td>0.000000</td>\n",
       "      <td>0.000000</td>\n",
       "      <td>-8.000000</td>\n",
       "      <td>0.000000</td>\n",
       "      <td>6.000000</td>\n",
       "      <td>0.000000</td>\n",
       "      <td>4.000000</td>\n",
       "      <td>0.000000</td>\n",
       "      <td>6.000000</td>\n",
       "      <td>0.000000</td>\n",
       "      <td>4.000000</td>\n",
       "      <td>12.0</td>\n",
       "      <td>6.0</td>\n",
       "      <td>12.0</td>\n",
       "      <td>6.0</td>\n",
       "    </tr>\n",
       "    <tr>\n",
       "      <th>25%</th>\n",
       "      <td>2010.0</td>\n",
       "      <td>20319.500000</td>\n",
       "      <td>2.000000</td>\n",
       "      <td>2.000000</td>\n",
       "      <td>-1.000000</td>\n",
       "      <td>2.000000</td>\n",
       "      <td>8.000000</td>\n",
       "      <td>1.000000</td>\n",
       "      <td>4.000000</td>\n",
       "      <td>2.000000</td>\n",
       "      <td>7.000000</td>\n",
       "      <td>1.000000</td>\n",
       "      <td>4.000000</td>\n",
       "      <td>12.0</td>\n",
       "      <td>6.0</td>\n",
       "      <td>12.0</td>\n",
       "      <td>6.0</td>\n",
       "    </tr>\n",
       "    <tr>\n",
       "      <th>50%</th>\n",
       "      <td>2010.0</td>\n",
       "      <td>20628.000000</td>\n",
       "      <td>3.000000</td>\n",
       "      <td>3.000000</td>\n",
       "      <td>1.000000</td>\n",
       "      <td>3.000000</td>\n",
       "      <td>9.000000</td>\n",
       "      <td>1.000000</td>\n",
       "      <td>5.000000</td>\n",
       "      <td>3.000000</td>\n",
       "      <td>9.000000</td>\n",
       "      <td>1.000000</td>\n",
       "      <td>5.000000</td>\n",
       "      <td>12.0</td>\n",
       "      <td>6.0</td>\n",
       "      <td>12.0</td>\n",
       "      <td>6.0</td>\n",
       "    </tr>\n",
       "    <tr>\n",
       "      <th>75%</th>\n",
       "      <td>2010.0</td>\n",
       "      <td>20927.500000</td>\n",
       "      <td>4.000000</td>\n",
       "      <td>4.000000</td>\n",
       "      <td>2.000000</td>\n",
       "      <td>4.000000</td>\n",
       "      <td>10.000000</td>\n",
       "      <td>2.000000</td>\n",
       "      <td>5.000000</td>\n",
       "      <td>5.000000</td>\n",
       "      <td>10.000000</td>\n",
       "      <td>2.000000</td>\n",
       "      <td>5.000000</td>\n",
       "      <td>12.0</td>\n",
       "      <td>6.0</td>\n",
       "      <td>12.0</td>\n",
       "      <td>6.0</td>\n",
       "    </tr>\n",
       "    <tr>\n",
       "      <th>max</th>\n",
       "      <td>2010.0</td>\n",
       "      <td>21230.000000</td>\n",
       "      <td>9.000000</td>\n",
       "      <td>10.000000</td>\n",
       "      <td>7.000000</td>\n",
       "      <td>6.000000</td>\n",
       "      <td>12.000000</td>\n",
       "      <td>2.000000</td>\n",
       "      <td>6.000000</td>\n",
       "      <td>6.000000</td>\n",
       "      <td>12.000000</td>\n",
       "      <td>2.000000</td>\n",
       "      <td>6.000000</td>\n",
       "      <td>12.0</td>\n",
       "      <td>6.0</td>\n",
       "      <td>12.0</td>\n",
       "      <td>6.0</td>\n",
       "    </tr>\n",
       "  </tbody>\n",
       "</table>\n",
       "</div>"
      ],
      "text/plain": [
       "       Season    GameNumber          HGF          VGF           GD  \\\n",
       "count  1015.0   1015.000000  1015.000000  1015.000000  1015.000000   \n",
       "mean   2010.0  20622.621675     2.941872     2.739901     0.201970   \n",
       "std       0.0    352.180753     1.716485     1.634000     2.438513   \n",
       "min    2010.0  20001.000000     0.000000     0.000000    -8.000000   \n",
       "25%    2010.0  20319.500000     2.000000     2.000000    -1.000000   \n",
       "50%    2010.0  20628.000000     3.000000     3.000000     1.000000   \n",
       "75%    2010.0  20927.500000     4.000000     4.000000     2.000000   \n",
       "max    2010.0  21230.000000     9.000000    10.000000     7.000000   \n",
       "\n",
       "               VF1          VF2          VD1          VD2          HF1  \\\n",
       "count  1015.000000  1015.000000  1015.000000  1015.000000  1015.000000   \n",
       "mean      2.805911     9.194089     1.121182     4.878818     3.209852   \n",
       "std       1.519357     1.519357     0.685216     0.685216     1.583414   \n",
       "min       0.000000     6.000000     0.000000     4.000000     0.000000   \n",
       "25%       2.000000     8.000000     1.000000     4.000000     2.000000   \n",
       "50%       3.000000     9.000000     1.000000     5.000000     3.000000   \n",
       "75%       4.000000    10.000000     2.000000     5.000000     5.000000   \n",
       "max       6.000000    12.000000     2.000000     6.000000     6.000000   \n",
       "\n",
       "               HF2          HD1          HD2      VF      VD      HF      HD  \n",
       "count  1015.000000  1015.000000  1015.000000  1015.0  1015.0  1015.0  1015.0  \n",
       "mean      8.790148     1.266010     4.733990    12.0     6.0    12.0     6.0  \n",
       "std       1.583414     0.667783     0.667783     0.0     0.0     0.0     0.0  \n",
       "min       6.000000     0.000000     4.000000    12.0     6.0    12.0     6.0  \n",
       "25%       7.000000     1.000000     4.000000    12.0     6.0    12.0     6.0  \n",
       "50%       9.000000     1.000000     5.000000    12.0     6.0    12.0     6.0  \n",
       "75%      10.000000     2.000000     5.000000    12.0     6.0    12.0     6.0  \n",
       "max      12.000000     2.000000     6.000000    12.0     6.0    12.0     6.0  "
      ]
     },
     "execution_count": 73,
     "metadata": {},
     "output_type": "execute_result"
    }
   ],
   "source": [
    "dm.describe()"
   ]
  },
  {
   "cell_type": "code",
   "execution_count": 74,
   "metadata": {
    "collapsed": true
   },
   "outputs": [],
   "source": [
    "dm = dm[['Season', 'GameNumber', 'VTeamCode', 'HTeamCode', 'HGF', 'VGF', 'GD','WinTeam',\n",
    "         'VF1', 'VF2', 'VD1', 'VD2', \n",
    "         'HF1', 'HF2', 'HD1', 'HD2']]"
   ]
  },
  {
   "cell_type": "code",
   "execution_count": 75,
   "metadata": {
    "collapsed": false
   },
   "outputs": [],
   "source": [
    "dm['HomeWin'] = dm.apply(lambda x: 1 if x['WinTeam']=='HOME' else 0, axis=1)\n",
    "dm['DF1'] = dm['HF1'] - dm['VF1']\n",
    "dm['DF2'] = dm['HF2'] - dm['VF2']\n",
    "dm['DD1'] = dm['HD1'] - dm['VD1']\n",
    "dm['DD2'] = dm['HD2'] - dm['VD2']"
   ]
  },
  {
   "cell_type": "code",
   "execution_count": 76,
   "metadata": {
    "collapsed": false
   },
   "outputs": [
    {
     "data": {
      "text/html": [
       "<div>\n",
       "<table border=\"1\" class=\"dataframe\">\n",
       "  <thead>\n",
       "    <tr style=\"text-align: right;\">\n",
       "      <th></th>\n",
       "      <th></th>\n",
       "      <th>DF1</th>\n",
       "      <th>DF2</th>\n",
       "      <th>DD1</th>\n",
       "      <th>DD2</th>\n",
       "    </tr>\n",
       "    <tr>\n",
       "      <th>WinTeam</th>\n",
       "      <th></th>\n",
       "      <th></th>\n",
       "      <th></th>\n",
       "      <th></th>\n",
       "      <th></th>\n",
       "    </tr>\n",
       "  </thead>\n",
       "  <tbody>\n",
       "    <tr>\n",
       "      <th rowspan=\"8\" valign=\"top\">AWAY</th>\n",
       "      <th>count</th>\n",
       "      <td>486.000000</td>\n",
       "      <td>486.000000</td>\n",
       "      <td>486.000000</td>\n",
       "      <td>486.000000</td>\n",
       "    </tr>\n",
       "    <tr>\n",
       "      <th>mean</th>\n",
       "      <td>0.261317</td>\n",
       "      <td>-0.261317</td>\n",
       "      <td>0.080247</td>\n",
       "      <td>-0.080247</td>\n",
       "    </tr>\n",
       "    <tr>\n",
       "      <th>std</th>\n",
       "      <td>2.204874</td>\n",
       "      <td>2.204874</td>\n",
       "      <td>0.967375</td>\n",
       "      <td>0.967375</td>\n",
       "    </tr>\n",
       "    <tr>\n",
       "      <th>min</th>\n",
       "      <td>-5.000000</td>\n",
       "      <td>-6.000000</td>\n",
       "      <td>-2.000000</td>\n",
       "      <td>-2.000000</td>\n",
       "    </tr>\n",
       "    <tr>\n",
       "      <th>25%</th>\n",
       "      <td>-1.000000</td>\n",
       "      <td>-2.000000</td>\n",
       "      <td>-1.000000</td>\n",
       "      <td>-1.000000</td>\n",
       "    </tr>\n",
       "    <tr>\n",
       "      <th>50%</th>\n",
       "      <td>0.000000</td>\n",
       "      <td>0.000000</td>\n",
       "      <td>0.000000</td>\n",
       "      <td>0.000000</td>\n",
       "    </tr>\n",
       "    <tr>\n",
       "      <th>75%</th>\n",
       "      <td>2.000000</td>\n",
       "      <td>1.000000</td>\n",
       "      <td>1.000000</td>\n",
       "      <td>1.000000</td>\n",
       "    </tr>\n",
       "    <tr>\n",
       "      <th>max</th>\n",
       "      <td>6.000000</td>\n",
       "      <td>5.000000</td>\n",
       "      <td>2.000000</td>\n",
       "      <td>2.000000</td>\n",
       "    </tr>\n",
       "    <tr>\n",
       "      <th rowspan=\"8\" valign=\"top\">HOME</th>\n",
       "      <th>count</th>\n",
       "      <td>529.000000</td>\n",
       "      <td>529.000000</td>\n",
       "      <td>529.000000</td>\n",
       "      <td>529.000000</td>\n",
       "    </tr>\n",
       "    <tr>\n",
       "      <th>mean</th>\n",
       "      <td>0.534972</td>\n",
       "      <td>-0.534972</td>\n",
       "      <td>0.204159</td>\n",
       "      <td>-0.204159</td>\n",
       "    </tr>\n",
       "    <tr>\n",
       "      <th>std</th>\n",
       "      <td>2.204336</td>\n",
       "      <td>2.204336</td>\n",
       "      <td>0.992348</td>\n",
       "      <td>0.992348</td>\n",
       "    </tr>\n",
       "    <tr>\n",
       "      <th>min</th>\n",
       "      <td>-5.000000</td>\n",
       "      <td>-6.000000</td>\n",
       "      <td>-2.000000</td>\n",
       "      <td>-2.000000</td>\n",
       "    </tr>\n",
       "    <tr>\n",
       "      <th>25%</th>\n",
       "      <td>-1.000000</td>\n",
       "      <td>-2.000000</td>\n",
       "      <td>0.000000</td>\n",
       "      <td>-1.000000</td>\n",
       "    </tr>\n",
       "    <tr>\n",
       "      <th>50%</th>\n",
       "      <td>1.000000</td>\n",
       "      <td>-1.000000</td>\n",
       "      <td>0.000000</td>\n",
       "      <td>0.000000</td>\n",
       "    </tr>\n",
       "    <tr>\n",
       "      <th>75%</th>\n",
       "      <td>2.000000</td>\n",
       "      <td>1.000000</td>\n",
       "      <td>1.000000</td>\n",
       "      <td>0.000000</td>\n",
       "    </tr>\n",
       "    <tr>\n",
       "      <th>max</th>\n",
       "      <td>6.000000</td>\n",
       "      <td>5.000000</td>\n",
       "      <td>2.000000</td>\n",
       "      <td>2.000000</td>\n",
       "    </tr>\n",
       "  </tbody>\n",
       "</table>\n",
       "</div>"
      ],
      "text/plain": [
       "                      DF1         DF2         DD1         DD2\n",
       "WinTeam                                                      \n",
       "AWAY    count  486.000000  486.000000  486.000000  486.000000\n",
       "        mean     0.261317   -0.261317    0.080247   -0.080247\n",
       "        std      2.204874    2.204874    0.967375    0.967375\n",
       "        min     -5.000000   -6.000000   -2.000000   -2.000000\n",
       "        25%     -1.000000   -2.000000   -1.000000   -1.000000\n",
       "        50%      0.000000    0.000000    0.000000    0.000000\n",
       "        75%      2.000000    1.000000    1.000000    1.000000\n",
       "        max      6.000000    5.000000    2.000000    2.000000\n",
       "HOME    count  529.000000  529.000000  529.000000  529.000000\n",
       "        mean     0.534972   -0.534972    0.204159   -0.204159\n",
       "        std      2.204336    2.204336    0.992348    0.992348\n",
       "        min     -5.000000   -6.000000   -2.000000   -2.000000\n",
       "        25%     -1.000000   -2.000000    0.000000   -1.000000\n",
       "        50%      1.000000   -1.000000    0.000000    0.000000\n",
       "        75%      2.000000    1.000000    1.000000    0.000000\n",
       "        max      6.000000    5.000000    2.000000    2.000000"
      ]
     },
     "execution_count": 76,
     "metadata": {},
     "output_type": "execute_result"
    }
   ],
   "source": [
    "dm.groupby(['WinTeam'])['DF1', 'DF2', 'DD1', 'DD2'].describe()"
   ]
  },
  {
   "cell_type": "markdown",
   "metadata": {},
   "source": [
    "## Mean number of F1, F2, D1 D1 per team\n",
    "\n",
    "* create a season-team dataframe\n",
    "  \n",
    "  ** number of wins/points/winning percentage"
   ]
  },
  {
   "cell_type": "markdown",
   "metadata": {},
   "source": [
    "### estimate roster model "
   ]
  },
  {
   "cell_type": "markdown",
   "metadata": {},
   "source": [
    "- regress home win on the difference in number of home and visitor players by position and quality (predictor variables). Add a constant to the predictors and use OLS. The purpose is to deterimine the impact each roster positin has on home team success."
   ]
  },
  {
   "cell_type": "code",
   "execution_count": 80,
   "metadata": {
    "collapsed": true
   },
   "outputs": [],
   "source": [
    "y = dm['HomeWin']  \n",
    "X = sm.add_constant(dm[['DF1', 'DD1', 'DF2', 'DD2']] )"
   ]
  },
  {
   "cell_type": "code",
   "execution_count": 81,
   "metadata": {
    "collapsed": false
   },
   "outputs": [
    {
     "data": {
      "text/html": [
       "<table class=\"simpletable\">\n",
       "<caption>OLS Regression Results</caption>\n",
       "<tr>\n",
       "  <th>Dep. Variable:</th>         <td>HomeWin</td>     <th>  R-squared:         </th> <td>   0.005</td>\n",
       "</tr>\n",
       "<tr>\n",
       "  <th>Model:</th>                   <td>OLS</td>       <th>  Adj. R-squared:    </th> <td>   0.003</td>\n",
       "</tr>\n",
       "<tr>\n",
       "  <th>Method:</th>             <td>Least Squares</td>  <th>  F-statistic:       </th> <td>   2.508</td>\n",
       "</tr>\n",
       "<tr>\n",
       "  <th>Date:</th>             <td>Tue, 21 Nov 2017</td> <th>  Prob (F-statistic):</th>  <td>0.0819</td> \n",
       "</tr>\n",
       "<tr>\n",
       "  <th>Time:</th>                 <td>20:44:02</td>     <th>  Log-Likelihood:    </th> <td> -733.26</td>\n",
       "</tr>\n",
       "<tr>\n",
       "  <th>No. Observations:</th>      <td>  1015</td>      <th>  AIC:               </th> <td>   1473.</td>\n",
       "</tr>\n",
       "<tr>\n",
       "  <th>Df Residuals:</th>          <td>  1012</td>      <th>  BIC:               </th> <td>   1487.</td>\n",
       "</tr>\n",
       "<tr>\n",
       "  <th>Df Model:</th>              <td>     2</td>      <th>                     </th>     <td> </td>   \n",
       "</tr>\n",
       "<tr>\n",
       "  <th>Covariance Type:</th>      <td>nonrobust</td>    <th>                     </th>     <td> </td>   \n",
       "</tr>\n",
       "</table>\n",
       "<table class=\"simpletable\">\n",
       "<tr>\n",
       "    <td></td>       <th>coef</th>     <th>std err</th>      <th>t</th>      <th>P>|t|</th> <th>[95.0% Conf. Int.]</th> \n",
       "</tr>\n",
       "<tr>\n",
       "  <th>const</th> <td>    0.5147</td> <td>    0.016</td> <td>   32.281</td> <td> 0.000</td> <td>    0.483     0.546</td>\n",
       "</tr>\n",
       "<tr>\n",
       "  <th>DF1</th>   <td>    0.0043</td> <td>    0.004</td> <td>    0.985</td> <td> 0.325</td> <td>   -0.004     0.013</td>\n",
       "</tr>\n",
       "<tr>\n",
       "  <th>DD1</th>   <td>    0.0104</td> <td>    0.010</td> <td>    1.055</td> <td> 0.292</td> <td>   -0.009     0.030</td>\n",
       "</tr>\n",
       "<tr>\n",
       "  <th>DF2</th>   <td>   -0.0043</td> <td>    0.004</td> <td>   -0.985</td> <td> 0.325</td> <td>   -0.013     0.004</td>\n",
       "</tr>\n",
       "<tr>\n",
       "  <th>DD2</th>   <td>   -0.0104</td> <td>    0.010</td> <td>   -1.055</td> <td> 0.292</td> <td>   -0.030     0.009</td>\n",
       "</tr>\n",
       "</table>\n",
       "<table class=\"simpletable\">\n",
       "<tr>\n",
       "  <th>Omnibus:</th>       <td> 1.199</td> <th>  Durbin-Watson:     </th> <td>   1.890</td>\n",
       "</tr>\n",
       "<tr>\n",
       "  <th>Prob(Omnibus):</th> <td> 0.549</td> <th>  Jarque-Bera (JB):  </th> <td> 165.846</td>\n",
       "</tr>\n",
       "<tr>\n",
       "  <th>Skew:</th>          <td>-0.084</td> <th>  Prob(JB):          </th> <td>9.70e-37</td>\n",
       "</tr>\n",
       "<tr>\n",
       "  <th>Kurtosis:</th>      <td> 1.027</td> <th>  Cond. No.          </th> <td>2.10e+16</td>\n",
       "</tr>\n",
       "</table>"
      ],
      "text/plain": [
       "<class 'statsmodels.iolib.summary.Summary'>\n",
       "\"\"\"\n",
       "                            OLS Regression Results                            \n",
       "==============================================================================\n",
       "Dep. Variable:                HomeWin   R-squared:                       0.005\n",
       "Model:                            OLS   Adj. R-squared:                  0.003\n",
       "Method:                 Least Squares   F-statistic:                     2.508\n",
       "Date:                Tue, 21 Nov 2017   Prob (F-statistic):             0.0819\n",
       "Time:                        20:44:02   Log-Likelihood:                -733.26\n",
       "No. Observations:                1015   AIC:                             1473.\n",
       "Df Residuals:                    1012   BIC:                             1487.\n",
       "Df Model:                           2                                         \n",
       "Covariance Type:            nonrobust                                         \n",
       "==============================================================================\n",
       "                 coef    std err          t      P>|t|      [95.0% Conf. Int.]\n",
       "------------------------------------------------------------------------------\n",
       "const          0.5147      0.016     32.281      0.000         0.483     0.546\n",
       "DF1            0.0043      0.004      0.985      0.325        -0.004     0.013\n",
       "DD1            0.0104      0.010      1.055      0.292        -0.009     0.030\n",
       "DF2           -0.0043      0.004     -0.985      0.325        -0.013     0.004\n",
       "DD2           -0.0104      0.010     -1.055      0.292        -0.030     0.009\n",
       "==============================================================================\n",
       "Omnibus:                        1.199   Durbin-Watson:                   1.890\n",
       "Prob(Omnibus):                  0.549   Jarque-Bera (JB):              165.846\n",
       "Skew:                          -0.084   Prob(JB):                     9.70e-37\n",
       "Kurtosis:                       1.027   Cond. No.                     2.10e+16\n",
       "==============================================================================\n",
       "\n",
       "Warnings:\n",
       "[1] Standard Errors assume that the covariance matrix of the errors is correctly specified.\n",
       "[2] The smallest eigenvalue is 2.5e-29. This might indicate that there are\n",
       "strong multicollinearity problems or that the design matrix is singular.\n",
       "\"\"\""
      ]
     },
     "execution_count": 81,
     "metadata": {},
     "output_type": "execute_result"
    }
   ],
   "source": [
    "result = sm.OLS(y, X).fit()\n",
    "result.summary()"
   ]
  },
  {
   "cell_type": "code",
   "execution_count": 82,
   "metadata": {
    "collapsed": false
   },
   "outputs": [
    {
     "data": {
      "text/plain": [
       "const    0.514692\n",
       "DF1      0.004312\n",
       "DD1      0.010381\n",
       "DF2     -0.004312\n",
       "DD2     -0.010381\n",
       "dtype: float64"
      ]
     },
     "execution_count": 82,
     "metadata": {},
     "output_type": "execute_result"
    }
   ],
   "source": [
    "result.params"
   ]
  },
  {
   "cell_type": "markdown",
   "metadata": {
    "collapsed": true
   },
   "source": [
    "- By increasing the differential of **elite** player quality in forwards and defense (home team – visitor team) by one unit, home win **increases** by 0.4% and 1% respectfully.\n",
    "- By increasing the differential of **secondary** player quality in forwards and defense (home team – visitor team) by one unit, home win **decreases** by 0.4% and 1% respectfully."
   ]
  },
  {
   "cell_type": "code",
   "execution_count": null,
   "metadata": {
    "collapsed": true
   },
   "outputs": [],
   "source": []
  }
 ],
 "metadata": {
  "kernelspec": {
   "display_name": "Python 3",
   "language": "python",
   "name": "python3"
  },
  "language_info": {
   "codemirror_mode": {
    "name": "ipython",
    "version": 3
   },
   "file_extension": ".py",
   "mimetype": "text/x-python",
   "name": "python",
   "nbconvert_exporter": "python",
   "pygments_lexer": "ipython3",
   "version": "3.6.0"
  }
 },
 "nbformat": 4,
 "nbformat_minor": 2
}
