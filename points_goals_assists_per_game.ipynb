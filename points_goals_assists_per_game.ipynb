{
 "cells": [
  {
   "cell_type": "markdown",
   "metadata": {},
   "source": [
    "# Player Evaluation"
   ]
  },
  {
   "cell_type": "code",
   "execution_count": 1,
   "metadata": {
    "collapsed": true
   },
   "outputs": [],
   "source": [
    "import sys\n",
    "import os\n",
    "import pandas as pd\n",
    "import numpy as np\n",
    "import datetime, time\n",
    "import matplotlib.pyplot as plt\n",
    "import statsmodels.api as sm\n",
    "from statsmodels.formula.api import ols\n",
    "from pylab import hist, show\n",
    "import scipy\n",
    "import zipfile\n",
    "\n",
    "sys.setrecursionlimit(10000)\n",
    "pd.set_option('display.max_rows', 50)\n",
    "pd.set_option('display.max_columns', 200)"
   ]
  },
  {
   "cell_type": "code",
   "execution_count": 2,
   "metadata": {
    "collapsed": false
   },
   "outputs": [
    {
     "data": {
      "text/plain": [
       "'/Users/stefanostselios/Desktop/nhl_roster_design-master'"
      ]
     },
     "execution_count": 2,
     "metadata": {},
     "output_type": "execute_result"
    }
   ],
   "source": [
    "pwd"
   ]
  },
  {
   "cell_type": "markdown",
   "metadata": {},
   "source": [
    "### import play by play dataframe"
   ]
  },
  {
   "cell_type": "code",
   "execution_count": 3,
   "metadata": {
    "collapsed": false
   },
   "outputs": [],
   "source": [
    "da = pd.read_csv('pbp_merged.csv')\n",
    "da = da.drop('Unnamed: 0', axis=1)\n",
    "da = da.rename(columns={'TeamCode': 'EventTeamCode'})"
   ]
  },
  {
   "cell_type": "markdown",
   "metadata": {},
   "source": [
    "- keep regular season games and events that happened in regulation and overtime (exclude shootouts). Drop irrelevant data."
   ]
  },
  {
   "cell_type": "code",
   "execution_count": 4,
   "metadata": {
    "collapsed": true
   },
   "outputs": [],
   "source": [
    "da = da[da['GameNumber'] <= 21230]\n",
    "da = da[da['Period'] <= 4]\n",
    "da = da[da['Period'] >= 1]\n",
    "da = da[da['EventType']!='STOP']\n",
    "da = da[da['EventType']!='EISTR']\n",
    "da = da[da['EventType']!='EIEND']"
   ]
  },
  {
   "cell_type": "markdown",
   "metadata": {},
   "source": [
    "- use event detail for goals information to identify the players that assisted on a given goal. Split event detail data into assist player 1 and assist player 2, to display primary and secondary assist. "
   ]
  },
  {
   "cell_type": "code",
   "execution_count": 5,
   "metadata": {
    "collapsed": true
   },
   "outputs": [],
   "source": [
    "#number of assist player 1 - need to split by '#'\n",
    "da['Assist1'] = da.EventDetail.str.split(' ', expand = True)[8]\n",
    "da['AssistPlayer1Number'] = da.Assist1.str.split('#', expand = True)[1]\n",
    "\n",
    "#name of assist player 1 - need to split by '('\n",
    "da['Assist1Last'] = da.EventDetail.str.split(' ', expand = True)[9]\n",
    "da['AssistPlayer1Name'] = da.Assist1Last.str.split('(', expand = True)[0]\n",
    "\n",
    "#number of assist player 2 - need to split by '#'\n",
    "da['Assist2'] = da.EventDetail.str.split(' ', expand = True)[10]\n",
    "da['AssistPlayer2Number'] = da.Assist2.str.split('#', expand = True)[1]\n",
    "\n",
    "#name of assist player 2 - need to split by '('\n",
    "da['Assist2Last'] = da.EventDetail.str.split(' ', expand = True)[11]\n",
    "da['AssistPlayer2Name'] = da.Assist2Last.str.split('(', expand = True)[0]"
   ]
  },
  {
   "cell_type": "markdown",
   "metadata": {},
   "source": [
    "- drop 'Assist1', 'Assist1Last', 'Assist2' and 'Assist2Last'"
   ]
  },
  {
   "cell_type": "code",
   "execution_count": 6,
   "metadata": {
    "collapsed": false
   },
   "outputs": [],
   "source": [
    "da = da [['Season', 'GameNumber', 'EventNumber', 'Period', 'AdvantageType', 'EventTimeFromZero', 'EventTimeFromTwenty', 'EventType', 'EventDetail', 'VPlayer1', 'VPosition1', 'VPlayer2', 'VPosition2', 'VPlayer3', 'VPosition3', 'VPlayer4', 'VPosition4', 'VPlayer5', 'VPosition5', 'VPlayer6', 'VPosition6', 'HPlayer1', 'HPosition1', 'HPlayer2', 'HPosition2', 'HPlayer3', 'HPosition3', 'HPlayer4', 'HPosition4', 'HPlayer5', 'HPosition5', 'HPlayer6', 'HPosition6', 'GameDate', 'VTeamCode', 'HTeamCode', 'EventTeamCode', 'PlayerNumber', 'PlayerName','ShotType', 'ShotResult', 'Zone', 'Length', 'PenaltyType', 'AssistPlayer1Number', 'AssistPlayer1Name', 'AssistPlayer2Number', 'AssistPlayer2Name']]"
   ]
  },
  {
   "cell_type": "code",
   "execution_count": 7,
   "metadata": {
    "collapsed": false
   },
   "outputs": [
    {
     "data": {
      "text/plain": [
       "(314600, 48)"
      ]
     },
     "execution_count": 7,
     "metadata": {},
     "output_type": "execute_result"
    }
   ],
   "source": [
    "da.shape"
   ]
  },
  {
   "cell_type": "markdown",
   "metadata": {},
   "source": [
    "- If event type is **not a goal,** in the assist columns display **NaN.**"
   ]
  },
  {
   "cell_type": "code",
   "execution_count": 8,
   "metadata": {
    "collapsed": false
   },
   "outputs": [],
   "source": [
    "da['AssistPlayer1Number'] = da.apply(lambda x: x['AssistPlayer1Number'] if (x['EventType'] == 'GOAL') else np.nan, axis=1)\n",
    "da['AssistPlayer1Name'] = da.apply(lambda x: x['AssistPlayer1Name'] if (x['EventType'] == 'GOAL') else np.nan, axis=1)\n",
    "da['AssistPlayer2Number'] = da.apply(lambda x: x['AssistPlayer2Number'] if (x['EventType'] == 'GOAL') else np.nan, axis=1)\n",
    "da['AssistPlayer2Name'] = da.apply(lambda x: x['AssistPlayer2Name'] if (x['EventType'] == 'GOAL') else np.nan, axis=1)"
   ]
  },
  {
   "cell_type": "markdown",
   "metadata": {},
   "source": [
    "### create a dataframe for goals"
   ]
  },
  {
   "cell_type": "code",
   "execution_count": 9,
   "metadata": {
    "collapsed": false
   },
   "outputs": [],
   "source": [
    "db = da\n",
    "db = db.rename(columns={'EventTeamCode': 'TeamCode' })\n",
    "db = db.sort_values(['Season', 'GameNumber', 'Period', 'EventNumber'], ascending=[True, True, True, True])"
   ]
  },
  {
   "cell_type": "markdown",
   "metadata": {},
   "source": [
    "- create a goal variable. If event type is a goal assign a value of 1. If not, assign a value of 0. Display total goals per player for a season."
   ]
  },
  {
   "cell_type": "markdown",
   "metadata": {},
   "source": [
    "- display total goals per player for a season."
   ]
  },
  {
   "cell_type": "code",
   "execution_count": 10,
   "metadata": {
    "collapsed": false
   },
   "outputs": [],
   "source": [
    "db['Goal'] = db.apply(lambda x: 1 if (x['EventType'] == 'GOAL') else 0, axis=1)\n",
    "db['Goals'] = db.groupby(['Season','TeamCode', 'PlayerNumber', 'PlayerName'])['Goal'].transform('sum')\n",
    "db['Goals'] = db.groupby(['Season','TeamCode', 'PlayerNumber', 'PlayerName'])['Goals'].apply(lambda x: x.ffill().bfill())"
   ]
  },
  {
   "cell_type": "markdown",
   "metadata": {},
   "source": [
    "- keep one observation per player by game and drop duplicates. This purpose of this step is to calculate the quantity of games per player for a season. "
   ]
  },
  {
   "cell_type": "code",
   "execution_count": 11,
   "metadata": {
    "collapsed": true
   },
   "outputs": [],
   "source": [
    "db = db.drop_duplicates(['Season', 'GameNumber', 'TeamCode', 'PlayerNumber', 'PlayerName'])\n",
    "db['GP'] = db.groupby(['Season', 'TeamCode', 'PlayerNumber','PlayerName'])['GameNumber'].transform('count')\n",
    "db = db.drop_duplicates(['Season', 'TeamCode', 'PlayerNumber', 'PlayerName'])"
   ]
  },
  {
   "cell_type": "markdown",
   "metadata": {},
   "source": [
    "- reshape visitor and home team, players from wide to long. Create 2 columns for visitor (VPlayer, VPosition) and 2 columns for home (HPlayer, HPosition) team."
   ]
  },
  {
   "cell_type": "code",
   "execution_count": 12,
   "metadata": {
    "collapsed": true
   },
   "outputs": [],
   "source": [
    "a = [col for col in db.columns if 'VPlayer' in col]\n",
    "b = [col for col in db.columns if 'HPlayer' in col]\n",
    "c = [col for col in db.columns if 'VPosition' in col]\n",
    "d = [col for col in db.columns if 'HPosition' in col]\n",
    "db = pd.lreshape(db, {'VPlayer' : a, 'HPlayer' : b, 'VPosition' : c, 'HPosition': d})"
   ]
  },
  {
   "cell_type": "code",
   "execution_count": 13,
   "metadata": {
    "collapsed": false
   },
   "outputs": [],
   "source": [
    "db['PlayerPosition'] = db.apply(lambda x: x['VPosition'] if ((x['TeamCode'] == x['VTeamCode']) & (x['PlayerNumber'] == x['VPlayer'])) else (x['HPosition'] if ((x['TeamCode'] == x['HTeamCode']) & (x['PlayerNumber'] == x['HPlayer'])) else np.nan), axis=1)\n",
    "db['PlayerPosition'] = db.groupby(['Season', 'TeamCode', 'PlayerNumber', 'PlayerName'])['PlayerPosition'].apply(lambda x: x.ffill().bfill())"
   ]
  },
  {
   "cell_type": "code",
   "execution_count": 14,
   "metadata": {
    "collapsed": false
   },
   "outputs": [
    {
     "data": {
      "text/html": [
       "<div>\n",
       "<table border=\"1\" class=\"dataframe\">\n",
       "  <thead>\n",
       "    <tr style=\"text-align: right;\">\n",
       "      <th></th>\n",
       "      <th>Season</th>\n",
       "      <th>TeamCode</th>\n",
       "      <th>PlayerNumber</th>\n",
       "      <th>PlayerName</th>\n",
       "      <th>PlayerPosition</th>\n",
       "      <th>GP</th>\n",
       "      <th>Goals</th>\n",
       "    </tr>\n",
       "  </thead>\n",
       "  <tbody>\n",
       "    <tr>\n",
       "      <th>0</th>\n",
       "      <td>2010</td>\n",
       "      <td>MTL</td>\n",
       "      <td>11.0</td>\n",
       "      <td>GOMEZ</td>\n",
       "      <td>C</td>\n",
       "      <td>80.0</td>\n",
       "      <td>7.0</td>\n",
       "    </tr>\n",
       "    <tr>\n",
       "      <th>1</th>\n",
       "      <td>2010</td>\n",
       "      <td>TOR</td>\n",
       "      <td>37.0</td>\n",
       "      <td>BRENT</td>\n",
       "      <td>C</td>\n",
       "      <td>79.0</td>\n",
       "      <td>8.0</td>\n",
       "    </tr>\n",
       "    <tr>\n",
       "      <th>2</th>\n",
       "      <td>2010</td>\n",
       "      <td>MTL</td>\n",
       "      <td>14.0</td>\n",
       "      <td>PLEKANEC</td>\n",
       "      <td>C</td>\n",
       "      <td>77.0</td>\n",
       "      <td>22.0</td>\n",
       "    </tr>\n",
       "    <tr>\n",
       "      <th>3</th>\n",
       "      <td>2010</td>\n",
       "      <td>MTL</td>\n",
       "      <td>76.0</td>\n",
       "      <td>SUBBAN</td>\n",
       "      <td>D</td>\n",
       "      <td>77.0</td>\n",
       "      <td>14.0</td>\n",
       "    </tr>\n",
       "    <tr>\n",
       "      <th>4</th>\n",
       "      <td>2010</td>\n",
       "      <td>TOR</td>\n",
       "      <td>35.0</td>\n",
       "      <td>GIGUERE</td>\n",
       "      <td>G</td>\n",
       "      <td>17.0</td>\n",
       "      <td>0.0</td>\n",
       "    </tr>\n",
       "  </tbody>\n",
       "</table>\n",
       "</div>"
      ],
      "text/plain": [
       "   Season TeamCode  PlayerNumber PlayerName PlayerPosition    GP  Goals\n",
       "0    2010      MTL          11.0      GOMEZ              C  80.0    7.0\n",
       "1    2010      TOR          37.0      BRENT              C  79.0    8.0\n",
       "2    2010      MTL          14.0   PLEKANEC              C  77.0   22.0\n",
       "3    2010      MTL          76.0     SUBBAN              D  77.0   14.0\n",
       "4    2010      TOR          35.0    GIGUERE              G  17.0    0.0"
      ]
     },
     "execution_count": 14,
     "metadata": {},
     "output_type": "execute_result"
    }
   ],
   "source": [
    "db = db[['Season', 'TeamCode', 'PlayerNumber', 'PlayerName', 'PlayerPosition', 'GP', 'Goals']]\n",
    "db.head()"
   ]
  },
  {
   "cell_type": "markdown",
   "metadata": {},
   "source": [
    "### create a dataframe for assists"
   ]
  },
  {
   "cell_type": "markdown",
   "metadata": {},
   "source": [
    "- This dataset contains only event type that were goals."
   ]
  },
  {
   "cell_type": "code",
   "execution_count": 15,
   "metadata": {
    "collapsed": false
   },
   "outputs": [],
   "source": [
    "dc = da[da['EventType'] == 'GOAL']\n",
    "dc = dc[['Season', 'GameNumber', 'EventNumber', 'Period', 'AdvantageType', 'EventType', 'EventDetail', 'GameDate', 'EventTeamCode', 'AssistPlayer1Number', 'AssistPlayer1Name', 'AssistPlayer2Number', 'AssistPlayer2Name']]\n",
    "dc = dc.sort_values(['Season', 'GameNumber', 'Period', 'EventNumber'], ascending=[True, True, True, True])\n",
    "dc = dc.rename(columns={'AssistPlayer1Number': 'AssistPlayerNumber1', 'AssistPlayer1Name': 'AssistPlayerName1', 'AssistPlayer2Number': 'AssistPlayerNumber2', 'AssistPlayer2Name': 'AssistPlayerName2', 'EventTeamCode': 'TeamCode' })\n",
    "dc = dc.sort_values(['Season', 'GameNumber', 'Period', 'EventNumber'], ascending=[True, True, True, True])"
   ]
  },
  {
   "cell_type": "markdown",
   "metadata": {},
   "source": [
    "- reshape data from wide to long based on assist variables to display both primary and secondary assists in one column."
   ]
  },
  {
   "cell_type": "code",
   "execution_count": 16,
   "metadata": {
    "collapsed": false
   },
   "outputs": [],
   "source": [
    "a = [col for col in dc.columns if 'AssistPlayerNumber' in col]\n",
    "b = [col for col in dc.columns if 'AssistPlayerName' in col]\n",
    "dc = pd.lreshape(dc, {'AssistPlayerNumber' : a, 'AssistPlayerName' : b})\n",
    "dc = dc[['Season', 'GameNumber', 'GameDate', 'EventNumber', 'Period', 'AdvantageType', 'EventType', 'EventDetail', 'TeamCode', 'AssistPlayerNumber', 'AssistPlayerName']]\n",
    "dc = dc.sort_values(['Season', 'GameNumber', 'Period', 'EventNumber'], ascending=[True, True, True, True])"
   ]
  },
  {
   "cell_type": "markdown",
   "metadata": {},
   "source": [
    "- create assist variables. Assign a value of 1 if an event was a goal; 0 otherwise. Calculate the total assists each player resgistered for a season."
   ]
  },
  {
   "cell_type": "code",
   "execution_count": 17,
   "metadata": {
    "collapsed": false
   },
   "outputs": [],
   "source": [
    "dc['Assist'] = dc.apply(lambda x: 1 if (x['EventType'] == 'GOAL') else 0, axis=1)\n",
    "dc['Assists'] = dc.groupby(['Season', 'TeamCode', 'AssistPlayerNumber', 'AssistPlayerName'])['Assist'].transform('sum')"
   ]
  },
  {
   "cell_type": "markdown",
   "metadata": {},
   "source": [
    "- keep one observation per player for the season and drop duplicates."
   ]
  },
  {
   "cell_type": "code",
   "execution_count": 18,
   "metadata": {
    "collapsed": false
   },
   "outputs": [
    {
     "data": {
      "text/html": [
       "<div>\n",
       "<table border=\"1\" class=\"dataframe\">\n",
       "  <thead>\n",
       "    <tr style=\"text-align: right;\">\n",
       "      <th></th>\n",
       "      <th>Season</th>\n",
       "      <th>TeamCode</th>\n",
       "      <th>PlayerNumber</th>\n",
       "      <th>PlayerName</th>\n",
       "      <th>Assists</th>\n",
       "    </tr>\n",
       "  </thead>\n",
       "  <tbody>\n",
       "    <tr>\n",
       "      <th>0</th>\n",
       "      <td>2010</td>\n",
       "      <td>TOR</td>\n",
       "      <td>3</td>\n",
       "      <td>PHANEUF</td>\n",
       "      <td>22</td>\n",
       "    </tr>\n",
       "    <tr>\n",
       "      <th>1</th>\n",
       "      <td>2010</td>\n",
       "      <td>TOR</td>\n",
       "      <td>42</td>\n",
       "      <td>BOZAK</td>\n",
       "      <td>17</td>\n",
       "    </tr>\n",
       "    <tr>\n",
       "      <th>6232</th>\n",
       "      <td>2010</td>\n",
       "      <td>TOR</td>\n",
       "      <td>8</td>\n",
       "      <td>KOMISAREK</td>\n",
       "      <td>9</td>\n",
       "    </tr>\n",
       "    <tr>\n",
       "      <th>2</th>\n",
       "      <td>2010</td>\n",
       "      <td>TOR</td>\n",
       "      <td>41</td>\n",
       "      <td>KULEMIN</td>\n",
       "      <td>27</td>\n",
       "    </tr>\n",
       "    <tr>\n",
       "      <th>6233</th>\n",
       "      <td>2010</td>\n",
       "      <td>TOR</td>\n",
       "      <td>84</td>\n",
       "      <td>GRABOVSKI</td>\n",
       "      <td>29</td>\n",
       "    </tr>\n",
       "  </tbody>\n",
       "</table>\n",
       "</div>"
      ],
      "text/plain": [
       "      Season TeamCode PlayerNumber PlayerName  Assists\n",
       "0       2010      TOR            3    PHANEUF       22\n",
       "1       2010      TOR           42      BOZAK       17\n",
       "6232    2010      TOR            8  KOMISAREK        9\n",
       "2       2010      TOR           41    KULEMIN       27\n",
       "6233    2010      TOR           84  GRABOVSKI       29"
      ]
     },
     "execution_count": 18,
     "metadata": {},
     "output_type": "execute_result"
    }
   ],
   "source": [
    "dc = dc.rename(columns={'AssistPlayerNumber': 'PlayerNumber', 'AssistPlayerName': 'PlayerName' })\n",
    "dc = dc[['Season', 'TeamCode', 'PlayerNumber', 'PlayerName', 'Assists']]\n",
    "dc = dc.drop_duplicates(['Season', 'TeamCode', 'PlayerNumber', 'PlayerName'])\n",
    "dc.head()"
   ]
  },
  {
   "cell_type": "markdown",
   "metadata": {},
   "source": [
    "### merge assist dataframe (dc) onto goal dataframe (db)."
   ]
  },
  {
   "cell_type": "code",
   "execution_count": 19,
   "metadata": {
    "collapsed": false
   },
   "outputs": [
    {
     "data": {
      "text/html": [
       "<div>\n",
       "<table border=\"1\" class=\"dataframe\">\n",
       "  <thead>\n",
       "    <tr style=\"text-align: right;\">\n",
       "      <th></th>\n",
       "      <th>Season</th>\n",
       "      <th>TeamCode</th>\n",
       "      <th>PlayerNumber</th>\n",
       "      <th>PlayerName</th>\n",
       "      <th>PlayerPosition</th>\n",
       "      <th>GP</th>\n",
       "      <th>Goals</th>\n",
       "      <th>Assists</th>\n",
       "    </tr>\n",
       "  </thead>\n",
       "  <tbody>\n",
       "    <tr>\n",
       "      <th>4377</th>\n",
       "      <td>2010</td>\n",
       "      <td>ANA</td>\n",
       "      <td>1.0</td>\n",
       "      <td>HILLER</td>\n",
       "      <td>NaN</td>\n",
       "      <td>6.0</td>\n",
       "      <td>0.0</td>\n",
       "      <td>NaN</td>\n",
       "    </tr>\n",
       "    <tr>\n",
       "      <th>4378</th>\n",
       "      <td>2010</td>\n",
       "      <td>ANA</td>\n",
       "      <td>1.0</td>\n",
       "      <td>HILLER</td>\n",
       "      <td>NaN</td>\n",
       "      <td>6.0</td>\n",
       "      <td>0.0</td>\n",
       "      <td>NaN</td>\n",
       "    </tr>\n",
       "    <tr>\n",
       "      <th>4379</th>\n",
       "      <td>2010</td>\n",
       "      <td>ANA</td>\n",
       "      <td>1.0</td>\n",
       "      <td>HILLER</td>\n",
       "      <td>NaN</td>\n",
       "      <td>6.0</td>\n",
       "      <td>0.0</td>\n",
       "      <td>NaN</td>\n",
       "    </tr>\n",
       "    <tr>\n",
       "      <th>4380</th>\n",
       "      <td>2010</td>\n",
       "      <td>ANA</td>\n",
       "      <td>1.0</td>\n",
       "      <td>HILLER</td>\n",
       "      <td>NaN</td>\n",
       "      <td>6.0</td>\n",
       "      <td>0.0</td>\n",
       "      <td>NaN</td>\n",
       "    </tr>\n",
       "    <tr>\n",
       "      <th>4381</th>\n",
       "      <td>2010</td>\n",
       "      <td>ANA</td>\n",
       "      <td>1.0</td>\n",
       "      <td>HILLER</td>\n",
       "      <td>NaN</td>\n",
       "      <td>6.0</td>\n",
       "      <td>0.0</td>\n",
       "      <td>NaN</td>\n",
       "    </tr>\n",
       "    <tr>\n",
       "      <th>7082</th>\n",
       "      <td>2010</td>\n",
       "      <td>ANA</td>\n",
       "      <td>1.0</td>\n",
       "      <td>HILLER</td>\n",
       "      <td>NaN</td>\n",
       "      <td>NaN</td>\n",
       "      <td>NaN</td>\n",
       "      <td>1.0</td>\n",
       "    </tr>\n",
       "    <tr>\n",
       "      <th>3754</th>\n",
       "      <td>2010</td>\n",
       "      <td>ANA</td>\n",
       "      <td>3.0</td>\n",
       "      <td>LILJA</td>\n",
       "      <td>D</td>\n",
       "      <td>52.0</td>\n",
       "      <td>1.0</td>\n",
       "      <td>NaN</td>\n",
       "    </tr>\n",
       "    <tr>\n",
       "      <th>3755</th>\n",
       "      <td>2010</td>\n",
       "      <td>ANA</td>\n",
       "      <td>3.0</td>\n",
       "      <td>LILJA</td>\n",
       "      <td>D</td>\n",
       "      <td>52.0</td>\n",
       "      <td>1.0</td>\n",
       "      <td>NaN</td>\n",
       "    </tr>\n",
       "    <tr>\n",
       "      <th>3756</th>\n",
       "      <td>2010</td>\n",
       "      <td>ANA</td>\n",
       "      <td>3.0</td>\n",
       "      <td>LILJA</td>\n",
       "      <td>D</td>\n",
       "      <td>52.0</td>\n",
       "      <td>1.0</td>\n",
       "      <td>NaN</td>\n",
       "    </tr>\n",
       "    <tr>\n",
       "      <th>3757</th>\n",
       "      <td>2010</td>\n",
       "      <td>ANA</td>\n",
       "      <td>3.0</td>\n",
       "      <td>LILJA</td>\n",
       "      <td>D</td>\n",
       "      <td>52.0</td>\n",
       "      <td>1.0</td>\n",
       "      <td>NaN</td>\n",
       "    </tr>\n",
       "  </tbody>\n",
       "</table>\n",
       "</div>"
      ],
      "text/plain": [
       "      Season TeamCode  PlayerNumber PlayerName PlayerPosition    GP  Goals  \\\n",
       "4377    2010      ANA           1.0     HILLER            NaN   6.0    0.0   \n",
       "4378    2010      ANA           1.0     HILLER            NaN   6.0    0.0   \n",
       "4379    2010      ANA           1.0     HILLER            NaN   6.0    0.0   \n",
       "4380    2010      ANA           1.0     HILLER            NaN   6.0    0.0   \n",
       "4381    2010      ANA           1.0     HILLER            NaN   6.0    0.0   \n",
       "7082    2010      ANA           1.0     HILLER            NaN   NaN    NaN   \n",
       "3754    2010      ANA           3.0      LILJA              D  52.0    1.0   \n",
       "3755    2010      ANA           3.0      LILJA              D  52.0    1.0   \n",
       "3756    2010      ANA           3.0      LILJA              D  52.0    1.0   \n",
       "3757    2010      ANA           3.0      LILJA              D  52.0    1.0   \n",
       "\n",
       "      Assists  \n",
       "4377      NaN  \n",
       "4378      NaN  \n",
       "4379      NaN  \n",
       "4380      NaN  \n",
       "4381      NaN  \n",
       "7082      1.0  \n",
       "3754      NaN  \n",
       "3755      NaN  \n",
       "3756      NaN  \n",
       "3757      NaN  "
      ]
     },
     "execution_count": 19,
     "metadata": {},
     "output_type": "execute_result"
    }
   ],
   "source": [
    "db = pd.merge(db, dc, on=['Season', 'TeamCode', 'PlayerNumber', 'PlayerName'], how='outer')\n",
    "db = db.sort_values(['Season', 'TeamCode', 'PlayerNumber', 'PlayerName'], ascending=[True, True, True, True])\n",
    "db.head(10)"
   ]
  },
  {
   "cell_type": "markdown",
   "metadata": {},
   "source": [
    "- group by team, player to forward fill and back fill NaN values"
   ]
  },
  {
   "cell_type": "code",
   "execution_count": 20,
   "metadata": {
    "collapsed": true
   },
   "outputs": [],
   "source": [
    "db['PlayerPosition'] = db.groupby(['Season', 'TeamCode', 'PlayerNumber', 'PlayerName'])['PlayerPosition'].apply(lambda x: x.ffill().bfill())\n",
    "db['GP'] = db.groupby(['Season','TeamCode', 'PlayerNumber', 'PlayerName'])['GP'].apply(lambda x: x.ffill().bfill())\n",
    "db['Goals'] = db.groupby(['Season','TeamCode', 'PlayerNumber', 'PlayerName'])['Goals'].apply(lambda x: x.ffill().bfill())\n",
    "db['Assists'] = db.groupby(['Season','TeamCode', 'PlayerNumber', 'PlayerName'])['Assists'].apply(lambda x: x.ffill().bfill())"
   ]
  },
  {
   "cell_type": "markdown",
   "metadata": {},
   "source": [
    "- keep one observation per player for the season and drop duplicates."
   ]
  },
  {
   "cell_type": "code",
   "execution_count": 21,
   "metadata": {
    "collapsed": false
   },
   "outputs": [],
   "source": [
    "db = db.drop_duplicates(['Season', 'TeamCode', 'PlayerNumber', 'PlayerName', 'PlayerPosition'])"
   ]
  },
  {
   "cell_type": "markdown",
   "metadata": {},
   "source": [
    "- assign 0 to NaN values for goals and assists."
   ]
  },
  {
   "cell_type": "code",
   "execution_count": 22,
   "metadata": {
    "collapsed": false
   },
   "outputs": [],
   "source": [
    "db['Assists'].fillna(0, inplace=True)\n",
    "db['Goals'].fillna(0, inplace=True)"
   ]
  },
  {
   "cell_type": "markdown",
   "metadata": {},
   "source": [
    "- display total points by player for the season. Calculate their production per game in terms of points, goals and assists. Sort dataframe by points per game. "
   ]
  },
  {
   "cell_type": "code",
   "execution_count": 23,
   "metadata": {
    "collapsed": false
   },
   "outputs": [],
   "source": [
    "db['Points'] = db['Goals'] + db['Assists']"
   ]
  },
  {
   "cell_type": "code",
   "execution_count": 24,
   "metadata": {
    "collapsed": true
   },
   "outputs": [],
   "source": [
    "db['GoalsPerGame'] = db['Goals'] / db['GP']\n",
    "db['AssistsPerGame'] = db['Assists'] / db['GP']\n",
    "db['PointsPerGame'] = db['Points'] / db['GP']"
   ]
  },
  {
   "cell_type": "markdown",
   "metadata": {},
   "source": [
    "exclude goaltenders from the dataframe."
   ]
  },
  {
   "cell_type": "code",
   "execution_count": 25,
   "metadata": {
    "collapsed": false
   },
   "outputs": [
    {
     "data": {
      "text/html": [
       "<div>\n",
       "<table border=\"1\" class=\"dataframe\">\n",
       "  <thead>\n",
       "    <tr style=\"text-align: right;\">\n",
       "      <th></th>\n",
       "      <th>Season</th>\n",
       "      <th>TeamCode</th>\n",
       "      <th>PlayerNumber</th>\n",
       "      <th>PlayerName</th>\n",
       "      <th>PlayerPosition</th>\n",
       "      <th>GP</th>\n",
       "      <th>Goals</th>\n",
       "      <th>Assists</th>\n",
       "      <th>Points</th>\n",
       "      <th>GoalsPerGame</th>\n",
       "      <th>AssistsPerGame</th>\n",
       "      <th>PointsPerGame</th>\n",
       "    </tr>\n",
       "  </thead>\n",
       "  <tbody>\n",
       "    <tr>\n",
       "      <th>223</th>\n",
       "      <td>2010</td>\n",
       "      <td>PIT</td>\n",
       "      <td>87.0</td>\n",
       "      <td>CROSBY</td>\n",
       "      <td>C</td>\n",
       "      <td>41.0</td>\n",
       "      <td>32.0</td>\n",
       "      <td>34.0</td>\n",
       "      <td>66.0</td>\n",
       "      <td>0.780488</td>\n",
       "      <td>0.829268</td>\n",
       "      <td>1.609756</td>\n",
       "    </tr>\n",
       "    <tr>\n",
       "      <th>3209</th>\n",
       "      <td>2010</td>\n",
       "      <td>VAN</td>\n",
       "      <td>22.0</td>\n",
       "      <td>SEDIN</td>\n",
       "      <td>L</td>\n",
       "      <td>81.0</td>\n",
       "      <td>41.0</td>\n",
       "      <td>62.0</td>\n",
       "      <td>103.0</td>\n",
       "      <td>0.506173</td>\n",
       "      <td>0.765432</td>\n",
       "      <td>1.271605</td>\n",
       "    </tr>\n",
       "    <tr>\n",
       "      <th>1523</th>\n",
       "      <td>2010</td>\n",
       "      <td>ANA</td>\n",
       "      <td>10.0</td>\n",
       "      <td>PERRY</td>\n",
       "      <td>R</td>\n",
       "      <td>82.0</td>\n",
       "      <td>50.0</td>\n",
       "      <td>47.0</td>\n",
       "      <td>97.0</td>\n",
       "      <td>0.609756</td>\n",
       "      <td>0.573171</td>\n",
       "      <td>1.182927</td>\n",
       "    </tr>\n",
       "    <tr>\n",
       "      <th>3203</th>\n",
       "      <td>2010</td>\n",
       "      <td>VAN</td>\n",
       "      <td>33.0</td>\n",
       "      <td>SEDIN</td>\n",
       "      <td>C</td>\n",
       "      <td>82.0</td>\n",
       "      <td>19.0</td>\n",
       "      <td>75.0</td>\n",
       "      <td>94.0</td>\n",
       "      <td>0.231707</td>\n",
       "      <td>0.914634</td>\n",
       "      <td>1.146341</td>\n",
       "    </tr>\n",
       "    <tr>\n",
       "      <th>1622</th>\n",
       "      <td>2010</td>\n",
       "      <td>ANA</td>\n",
       "      <td>15.0</td>\n",
       "      <td>GETZLAF</td>\n",
       "      <td>C</td>\n",
       "      <td>67.0</td>\n",
       "      <td>19.0</td>\n",
       "      <td>57.0</td>\n",
       "      <td>76.0</td>\n",
       "      <td>0.283582</td>\n",
       "      <td>0.850746</td>\n",
       "      <td>1.134328</td>\n",
       "    </tr>\n",
       "    <tr>\n",
       "      <th>1634</th>\n",
       "      <td>2010</td>\n",
       "      <td>ANA</td>\n",
       "      <td>8.0</td>\n",
       "      <td>SELANNE</td>\n",
       "      <td>R</td>\n",
       "      <td>73.0</td>\n",
       "      <td>31.0</td>\n",
       "      <td>49.0</td>\n",
       "      <td>80.0</td>\n",
       "      <td>0.424658</td>\n",
       "      <td>0.671233</td>\n",
       "      <td>1.095890</td>\n",
       "    </tr>\n",
       "    <tr>\n",
       "      <th>2046</th>\n",
       "      <td>2010</td>\n",
       "      <td>WSH</td>\n",
       "      <td>8.0</td>\n",
       "      <td>OVECHKIN</td>\n",
       "      <td>L</td>\n",
       "      <td>79.0</td>\n",
       "      <td>32.0</td>\n",
       "      <td>53.0</td>\n",
       "      <td>85.0</td>\n",
       "      <td>0.405063</td>\n",
       "      <td>0.670886</td>\n",
       "      <td>1.075949</td>\n",
       "    </tr>\n",
       "    <tr>\n",
       "      <th>1305</th>\n",
       "      <td>2010</td>\n",
       "      <td>DAL</td>\n",
       "      <td>91.0</td>\n",
       "      <td>RICHARDS</td>\n",
       "      <td>C</td>\n",
       "      <td>72.0</td>\n",
       "      <td>28.0</td>\n",
       "      <td>49.0</td>\n",
       "      <td>77.0</td>\n",
       "      <td>0.388889</td>\n",
       "      <td>0.680556</td>\n",
       "      <td>1.069444</td>\n",
       "    </tr>\n",
       "    <tr>\n",
       "      <th>1517</th>\n",
       "      <td>2010</td>\n",
       "      <td>DET</td>\n",
       "      <td>13.0</td>\n",
       "      <td>DATSYUK</td>\n",
       "      <td>C</td>\n",
       "      <td>56.0</td>\n",
       "      <td>23.0</td>\n",
       "      <td>36.0</td>\n",
       "      <td>59.0</td>\n",
       "      <td>0.410714</td>\n",
       "      <td>0.642857</td>\n",
       "      <td>1.053571</td>\n",
       "    </tr>\n",
       "    <tr>\n",
       "      <th>977</th>\n",
       "      <td>2010</td>\n",
       "      <td>CGY</td>\n",
       "      <td>12.0</td>\n",
       "      <td>IGINLA</td>\n",
       "      <td>R</td>\n",
       "      <td>82.0</td>\n",
       "      <td>43.0</td>\n",
       "      <td>43.0</td>\n",
       "      <td>86.0</td>\n",
       "      <td>0.524390</td>\n",
       "      <td>0.524390</td>\n",
       "      <td>1.048780</td>\n",
       "    </tr>\n",
       "  </tbody>\n",
       "</table>\n",
       "</div>"
      ],
      "text/plain": [
       "      Season TeamCode  PlayerNumber PlayerName PlayerPosition    GP  Goals  \\\n",
       "223     2010      PIT          87.0     CROSBY              C  41.0   32.0   \n",
       "3209    2010      VAN          22.0      SEDIN              L  81.0   41.0   \n",
       "1523    2010      ANA          10.0      PERRY              R  82.0   50.0   \n",
       "3203    2010      VAN          33.0      SEDIN              C  82.0   19.0   \n",
       "1622    2010      ANA          15.0    GETZLAF              C  67.0   19.0   \n",
       "1634    2010      ANA           8.0    SELANNE              R  73.0   31.0   \n",
       "2046    2010      WSH           8.0   OVECHKIN              L  79.0   32.0   \n",
       "1305    2010      DAL          91.0   RICHARDS              C  72.0   28.0   \n",
       "1517    2010      DET          13.0    DATSYUK              C  56.0   23.0   \n",
       "977     2010      CGY          12.0     IGINLA              R  82.0   43.0   \n",
       "\n",
       "      Assists  Points  GoalsPerGame  AssistsPerGame  PointsPerGame  \n",
       "223      34.0    66.0      0.780488        0.829268       1.609756  \n",
       "3209     62.0   103.0      0.506173        0.765432       1.271605  \n",
       "1523     47.0    97.0      0.609756        0.573171       1.182927  \n",
       "3203     75.0    94.0      0.231707        0.914634       1.146341  \n",
       "1622     57.0    76.0      0.283582        0.850746       1.134328  \n",
       "1634     49.0    80.0      0.424658        0.671233       1.095890  \n",
       "2046     53.0    85.0      0.405063        0.670886       1.075949  \n",
       "1305     49.0    77.0      0.388889        0.680556       1.069444  \n",
       "1517     36.0    59.0      0.410714        0.642857       1.053571  \n",
       "977      43.0    86.0      0.524390        0.524390       1.048780  "
      ]
     },
     "execution_count": 25,
     "metadata": {},
     "output_type": "execute_result"
    }
   ],
   "source": [
    "db = db[db['PlayerPosition'] != 'G']\n",
    "db = db.sort_values(['PointsPerGame', 'GoalsPerGame', 'AssistsPerGame'], ascending=[False, False, False])\n",
    "db.head(10)"
   ]
  },
  {
   "cell_type": "code",
   "execution_count": 26,
   "metadata": {
    "collapsed": true
   },
   "outputs": [],
   "source": [
    "db.to_csv('points_goals_assists_per_game.csv', index='False', sep=',')"
   ]
  },
  {
   "cell_type": "code",
   "execution_count": 27,
   "metadata": {
    "collapsed": true
   },
   "outputs": [],
   "source": [
    "#dz = db[db['TeamCode'] == 'ANA']"
   ]
  },
  {
   "cell_type": "code",
   "execution_count": 28,
   "metadata": {
    "collapsed": false
   },
   "outputs": [],
   "source": [
    "#dz['TotalGoals'] = dz.groupby(['Season', 'TeamCode', 'PlayerName', 'PlayerPosition'])['Goals'].transform('count')"
   ]
  },
  {
   "cell_type": "code",
   "execution_count": 29,
   "metadata": {
    "collapsed": false
   },
   "outputs": [],
   "source": [
    "#dz.head(50)"
   ]
  }
 ],
 "metadata": {
  "kernelspec": {
   "display_name": "Python 3",
   "language": "python",
   "name": "python3"
  },
  "language_info": {
   "codemirror_mode": {
    "name": "ipython",
    "version": 3
   },
   "file_extension": ".py",
   "mimetype": "text/x-python",
   "name": "python",
   "nbconvert_exporter": "python",
   "pygments_lexer": "ipython3",
   "version": "3.6.0"
  }
 },
 "nbformat": 4,
 "nbformat_minor": 2
}
