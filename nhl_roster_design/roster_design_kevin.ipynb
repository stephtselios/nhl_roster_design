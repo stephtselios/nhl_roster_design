{
 "cells": [
  {
   "cell_type": "markdown",
   "metadata": {},
   "source": [
    "# Examination of effecient NHL roster design"
   ]
  },
  {
   "cell_type": "code",
   "execution_count": 62,
   "metadata": {
    "collapsed": true
   },
   "outputs": [],
   "source": [
    "import sys\n",
    "import os\n",
    "import pandas as pd\n",
    "import numpy as np\n",
    "import datetime, time\n",
    "import matplotlib.pyplot as plt\n",
    "import statsmodels.api as sm\n",
    "from statsmodels.formula.api import ols\n",
    "from pylab import hist, show\n",
    "import scipy"
   ]
  },
  {
   "cell_type": "markdown",
   "metadata": {},
   "source": [
    "## Import dataframes"
   ]
  },
  {
   "cell_type": "code",
   "execution_count": 63,
   "metadata": {
    "collapsed": true
   },
   "outputs": [],
   "source": [
    "dm = pd.read_csv('t_play_by_play_o.csv')\n",
    "dm = dm.sort_values(['Season', 'GameNumber', 'Period', 'EventNumber'], ascending=[True, True, True, True])\n",
    "dm = dm [['Season', 'GameNumber', 'EventNumber', 'Period', 'AdvantageType', 'EventTimeFromZero', 'EventTimeFromTwenty', 'EventType', 'EventDetail', 'VPlayer1', 'VPlayer1Position', 'VPlayer2', 'VPlayer2Position', 'VPlayer3', 'VPlayer3Position', 'VPlayer4', 'VPlayer4Position', 'VPlayer5', 'VPlayer5Position', 'VPlayer6', 'VPlayer6Position', 'HPlayer1', 'HPlayer1Position', 'HPlayer2', 'HPlayer2Position', 'HPlayer3', 'HPlayer3Position', 'HPlayer4', 'HPlayer4Position', 'HPlayer5', 'HPlayer5Position', 'HPlayer6', 'HPlayer6Position']]"
   ]
  },
  {
   "cell_type": "code",
   "execution_count": 41,
   "metadata": {
    "collapsed": true
   },
   "outputs": [],
   "source": [
    "dg = pd.read_csv('t_play_by_play_giveaway_detail_o.csv')\n",
    "dg = dg.rename(columns={'GivePlayerNumber': 'PlayerNumber', 'GivePlayerLName': 'PlayerName', 'GiveTeamCode': 'TeamCode'})"
   ]
  },
  {
   "cell_type": "code",
   "execution_count": 42,
   "metadata": {
    "collapsed": true
   },
   "outputs": [],
   "source": [
    "dt = pd.read_csv('t_play_by_play_takeaway_detail_o.csv')\n",
    "dt = dt.sort_values(['Season', 'GameNumber', 'EventNumber'], ascending=[True, True, True])\n",
    "dt = dt.rename(columns={'TakePlayerNumber': 'PlayerNumber', 'TakePlayerLName': 'PlayerName', 'TakeTeamCode': 'TeamCode'})"
   ]
  },
  {
   "cell_type": "code",
   "execution_count": 43,
   "metadata": {
    "collapsed": true
   },
   "outputs": [],
   "source": [
    "dl = pd.read_csv('t_play_by_play_goal_detail_o.csv')\n",
    "dl = dl.sort_values(['Season', 'GameNumber', 'EventNumber'], ascending=[True, True, True])\n",
    "dl = dl.rename(columns={'PlayerLName': 'PlayerName'})"
   ]
  },
  {
   "cell_type": "code",
   "execution_count": 44,
   "metadata": {
    "collapsed": true
   },
   "outputs": [],
   "source": [
    "ds = pd.read_csv('t_play_by_play_shot_detail_o.csv')\n",
    "ds = ds.sort_values(['Season', 'GameNumber', 'EventNumber'], ascending=[True, True, True])\n",
    "ds = ds.rename(columns={'PlayerLName': 'PlayerName'})"
   ]
  },
  {
   "cell_type": "code",
   "execution_count": 45,
   "metadata": {
    "collapsed": true
   },
   "outputs": [],
   "source": [
    "dn = pd.read_csv('t_play_by_play_miss_detail_o.csv')\n",
    "dn = dn.sort_values(['Season', 'GameNumber', 'EventNumber'], ascending=[True, True, True])\n",
    "dn = dn.rename(columns={'PlayerLName': 'PlayerName'})"
   ]
  },
  {
   "cell_type": "code",
   "execution_count": 46,
   "metadata": {
    "collapsed": true
   },
   "outputs": [],
   "source": [
    "db = pd.read_csv('t_play_by_play_block_detail_o.csv')\n",
    "db = db.sort_values(['Season', 'GameNumber', 'EventNumber'], ascending=[True, True, True])\n",
    "db = db.rename(columns={'ShotPlayerLName': 'ShotPlayerName', 'BlockPlayerLName': 'PlayerName', 'BlockPlayerNumber': 'PlayerNumber', 'BlockTeamCode': 'TeamCode'})"
   ]
  },
  {
   "cell_type": "code",
   "execution_count": 47,
   "metadata": {
    "collapsed": true
   },
   "outputs": [],
   "source": [
    "dh = pd.read_csv('t_play_by_play_hit_detail_o.csv')\n",
    "dh = dh.sort_values(['Season', 'GameNumber', 'EventNumber'], ascending=[True, True, True])\n",
    "dh = dh.rename(columns={'HitterPlayerLName': 'HitterPlayerName', 'HitteePlayerLName': 'HitteePlayerName'})"
   ]
  },
  {
   "cell_type": "code",
   "execution_count": 48,
   "metadata": {
    "collapsed": true
   },
   "outputs": [],
   "source": [
    "df = pd.read_csv('t_play_by_play_faceoff_detail_o.csv')\n",
    "df = df.sort_values(['Season', 'GameNumber', 'EventNumber'], ascending=[True, True, True])\n",
    "df = df.rename(columns={'VPlayerLName': 'VPlayerName', 'HPlayerLName': 'HPlayerName'})"
   ]
  },
  {
   "cell_type": "code",
   "execution_count": 49,
   "metadata": {
    "collapsed": true
   },
   "outputs": [],
   "source": [
    "dp = pd.read_csv('t_play_by_play_penalty_detail_o.csv')\n",
    "dp = dp.sort_values(['Season', 'GameNumber', 'EventNumber'], ascending=[True, True, True])\n",
    "dp = dp.rename(columns={'PenaltyPlayerLName': 'PenaltyPlayerName', 'DrawnByPlayerLName': 'DrawnByPlayerName'})"
   ]
  },
  {
   "cell_type": "code",
   "execution_count": 50,
   "metadata": {
    "collapsed": true
   },
   "outputs": [],
   "source": [
    "dd = pd.read_csv('t_game_detail_o.csv')"
   ]
  },
  {
   "cell_type": "markdown",
   "metadata": {},
   "source": [
    "# merge event details into play by play"
   ]
  },
  {
   "cell_type": "code",
   "execution_count": 52,
   "metadata": {
    "collapsed": false
   },
   "outputs": [
    {
     "data": {
      "text/plain": [
       "399135"
      ]
     },
     "execution_count": 52,
     "metadata": {},
     "output_type": "execute_result"
    }
   ],
   "source": [
    "len(dm)"
   ]
  },
  {
   "cell_type": "code",
   "execution_count": 53,
   "metadata": {
    "collapsed": false
   },
   "outputs": [],
   "source": [
    "dz = pd.merge(dm,dg, on=['Season', 'GameNumber', 'EventNumber'], how='left')\n",
    "dz = pd.merge(dm,dt, on=['Season', 'GameNumber', 'EventNumber'], how='left')\n",
    "dz = pd.merge(dm,ds, on=['Season', 'GameNumber', 'EventNumber'], how='left')\n",
    "dz = pd.merge(dm,dn, on=['Season', 'GameNumber', 'EventNumber'], how='left')\n",
    "dz = pd.merge(dm,db, on=['Season', 'GameNumber', 'EventNumber'], how='left')\n",
    "dz = pd.merge(dm,df, on=['Season', 'GameNumber', 'EventNumber'], how='left')\n",
    "dz = pd.merge(dm,dp, on=['Season', 'GameNumber', 'EventNumber'], how='left')\n",
    "dz = pd.merge(dm,dl, on=['Season', 'GameNumber', 'EventNumber'], how='left')\n",
    "del dl, dp, df, db, dn, ds, dt, dg"
   ]
  },
  {
   "cell_type": "code",
   "execution_count": 54,
   "metadata": {
    "collapsed": false
   },
   "outputs": [
    {
     "data": {
      "text/plain": [
       "399135"
      ]
     },
     "execution_count": 54,
     "metadata": {},
     "output_type": "execute_result"
    }
   ],
   "source": [
    "len(dm)"
   ]
  },
  {
   "cell_type": "code",
   "execution_count": 55,
   "metadata": {
    "collapsed": false
   },
   "outputs": [
    {
     "data": {
      "text/plain": [
       "Index(['Season', 'GameNumber', 'EventNumber', 'Period', 'AdvantageType',\n",
       "       'EventTimeFromZero', 'EventTimeFromTwenty', 'EventType', 'EventDetail',\n",
       "       'VPlayer1', 'VPlayer1Position', 'VPlayer2', 'VPlayer2Position',\n",
       "       'VPlayer3', 'VPlayer3Position', 'VPlayer4', 'VPlayer4Position',\n",
       "       'VPlayer5', 'VPlayer5Position', 'VPlayer6', 'VPlayer6Position',\n",
       "       'HPlayer1', 'HPlayer1Position', 'HPlayer2', 'HPlayer2Position',\n",
       "       'HPlayer3', 'HPlayer3Position', 'HPlayer4', 'HPlayer4Position',\n",
       "       'HPlayer5', 'HPlayer5Position', 'HPlayer6', 'HPlayer6Position'],\n",
       "      dtype='object')"
      ]
     },
     "execution_count": 55,
     "metadata": {},
     "output_type": "execute_result"
    }
   ],
   "source": [
    "dm.columns"
   ]
  },
  {
   "cell_type": "markdown",
   "metadata": {},
   "source": [
    "# remove irrelevant observations"
   ]
  },
  {
   "cell_type": "code",
   "execution_count": 56,
   "metadata": {
    "collapsed": true
   },
   "outputs": [],
   "source": [
    "dm = dm[dm['GameNumber'] <= 20002]\n",
    "dm = dm[dm['EventType']!='STOP']"
   ]
  },
  {
   "cell_type": "markdown",
   "metadata": {},
   "source": [
    "# man-advantage scenarios"
   ]
  },
  {
   "cell_type": "code",
   "execution_count": 57,
   "metadata": {
    "collapsed": true
   },
   "outputs": [],
   "source": [
    "value_list = ['PP', 'SH']\n",
    "dm[dm['AdvantageType'].isin(value_list)]\n",
    "dm = dm[dm['AdvantageType'] != 'PP']\n",
    "dm = dm[dm['AdvantageType'] != 'SH']\n",
    "dm['AdvantageType'] = dm['AdvantageType'].fillna('EV')"
   ]
  },
  {
   "cell_type": "markdown",
   "metadata": {},
   "source": [
    "# generate time between events"
   ]
  },
  {
   "cell_type": "code",
   "execution_count": 58,
   "metadata": {
    "collapsed": true
   },
   "outputs": [],
   "source": [
    "# set_index (unit of observation: season, gn, en)\n",
    "dm['TimeBetweenEvent'] = dm['EventTimeFromZero'] - dm['EventTimeFromZero'].shift(1)\n",
    "dm['TimeBetweenEvent'] = dm['TimeBetweenEvent'].abs()"
   ]
  },
  {
   "cell_type": "code",
   "execution_count": 68,
   "metadata": {
    "collapsed": true
   },
   "outputs": [],
   "source": [
    "dm.to_csv('pbpmerge.csv', index='False', sep=',')"
   ]
  },
  {
   "cell_type": "code",
   "execution_count": null,
   "metadata": {
    "collapsed": true
   },
   "outputs": [],
   "source": []
  }
 ],
 "metadata": {
  "kernelspec": {
   "display_name": "Python 3",
   "language": "python",
   "name": "python3"
  },
  "language_info": {
   "codemirror_mode": {
    "name": "ipython",
    "version": 3
   },
   "file_extension": ".py",
   "mimetype": "text/x-python",
   "name": "python",
   "nbconvert_exporter": "python",
   "pygments_lexer": "ipython3",
   "version": "3.6.0"
  }
 },
 "nbformat": 4,
 "nbformat_minor": 2
}
