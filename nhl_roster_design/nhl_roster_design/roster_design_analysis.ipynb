{
 "cells": [
  {
   "cell_type": "markdown",
   "metadata": {},
   "source": [
    "# purpose of notebook:"
   ]
  },
  {
   "cell_type": "markdown",
   "metadata": {},
   "source": [
    "### a) generate a variable that will show the time difference between an event and a goal.\n",
    "### b) keep only events that happened 20 seconds prior to a goal.\n",
    "### c) group events by goal number to count the occurance of each event prior to a goal.\n",
    "### d) sum by event type to display the incidence of each event in two games.\n",
    "### e) establish the impact of each event on a goal.\n",
    "### f) deterime if events have a positive or negative impact on each team.\n",
    "### g) assign values to players based on their participation in events that led to a goal. "
   ]
  },
  {
   "cell_type": "markdown",
   "metadata": {},
   "source": [
    "## 1) import modules"
   ]
  },
  {
   "cell_type": "code",
   "execution_count": 253,
   "metadata": {
    "collapsed": true
   },
   "outputs": [],
   "source": [
    "import sys\n",
    "import os\n",
    "import pandas as pd\n",
    "import numpy as np\n",
    "import datetime, time\n",
    "import matplotlib.pyplot as plt\n",
    "import statsmodels.api as sm\n",
    "from statsmodels.formula.api import ols\n",
    "from pylab import hist, show\n",
    "import scipy"
   ]
  },
  {
   "cell_type": "markdown",
   "metadata": {},
   "source": [
    "## 2) import data frame"
   ]
  },
  {
   "cell_type": "code",
   "execution_count": 254,
   "metadata": {
    "collapsed": true
   },
   "outputs": [],
   "source": [
    "dm = pd.read_csv('pbpmerge.csv')"
   ]
  },
  {
   "cell_type": "markdown",
   "metadata": {},
   "source": [
    "## 3) drop unnamed column (irrelevant)"
   ]
  },
  {
   "cell_type": "code",
   "execution_count": 255,
   "metadata": {
    "collapsed": true
   },
   "outputs": [],
   "source": [
    "dm = dm.drop('Unnamed: 0', axis=1)"
   ]
  },
  {
   "cell_type": "code",
   "execution_count": 256,
   "metadata": {
    "collapsed": false
   },
   "outputs": [
    {
     "data": {
      "text/plain": [
       "Index(['Season', 'GameNumber', 'EventNumber', 'Period', 'AdvantageType',\n",
       "       'EventTimeFromZero', 'EventTimeFromTwenty', 'EventType', 'EventDetail',\n",
       "       'VPlayer1', 'VPlayer1Position', 'VPlayer2', 'VPlayer2Position',\n",
       "       'VPlayer3', 'VPlayer3Position', 'VPlayer4', 'VPlayer4Position',\n",
       "       'VPlayer5', 'VPlayer5Position', 'VPlayer6', 'VPlayer6Position',\n",
       "       'HPlayer1', 'HPlayer1Position', 'HPlayer2', 'HPlayer2Position',\n",
       "       'HPlayer3', 'HPlayer3Position', 'HPlayer4', 'HPlayer4Position',\n",
       "       'HPlayer5', 'HPlayer5Position', 'HPlayer6', 'HPlayer6Position',\n",
       "       'TeamCode', 'PlayerNumber', 'PlayerName', 'ShotType', 'Zone', 'Length',\n",
       "       'ShotResult', 'ShotTeamCode', 'ShotPlayerNumber', 'ShotPlayerName',\n",
       "       'WinTeamCode', 'VTeamCode', 'VPlayerNumber', 'VPlayerName', 'HTeamCode',\n",
       "       'HPlayerNumber', 'HPlayerName', 'HitterTeamCode', 'HitterPlayerNumber',\n",
       "       'HitterPlayerName', 'HitteeTeamCode', 'HitteePlayerNumber',\n",
       "       'HitteePlayerName', 'PenaltyTeamCode', 'PenaltyPlayerNumber',\n",
       "       'PenaltyPlayerName', 'PenaltyType', 'DrawnByTeamCode',\n",
       "       'DrawnByPlayerNumber', 'DrawnByPlayerName', 'GameDate', 'GoalNumber',\n",
       "       'GoalTime', 'Assist1Player', 'Assist2Player'],\n",
       "      dtype='object')"
      ]
     },
     "execution_count": 256,
     "metadata": {},
     "output_type": "execute_result"
    }
   ],
   "source": [
    "dm.columns"
   ]
  },
  {
   "cell_type": "markdown",
   "metadata": {},
   "source": [
    "## 4) fill in team code for all type of events"
   ]
  },
  {
   "cell_type": "code",
   "execution_count": 257,
   "metadata": {
    "collapsed": false
   },
   "outputs": [],
   "source": [
    "dm['TeamCode'] = np.where(dm['EventType'] == 'FAC', dm['WinTeamCode'],\n",
    "                             (np.where(dm['EventType'] == 'HIT', dm['HitterTeamCode'],\n",
    "                                       (np.where(dm['EventType'] == 'PENL', dm['PenaltyTeamCode'], dm['TeamCode'])))))"
   ]
  },
  {
   "cell_type": "markdown",
   "metadata": {},
   "source": [
    "## 5) fill in home and visitor team code with the use of  team code variable"
   ]
  },
  {
   "cell_type": "markdown",
   "metadata": {},
   "source": [
    "### - fill in home team code for all events prior to a goal"
   ]
  },
  {
   "cell_type": "code",
   "execution_count": 258,
   "metadata": {
    "collapsed": true
   },
   "outputs": [],
   "source": [
    "dm['HTeamCode'] = dm['HTeamCode'].fillna(method='bfill')"
   ]
  },
  {
   "cell_type": "markdown",
   "metadata": {},
   "source": [
    "### - fill in visitor team code for all events  prior to a goal"
   ]
  },
  {
   "cell_type": "code",
   "execution_count": 259,
   "metadata": {
    "collapsed": true
   },
   "outputs": [],
   "source": [
    "dm['VTeamCode'] = dm['VTeamCode'].fillna(method='bfill')"
   ]
  },
  {
   "cell_type": "markdown",
   "metadata": {},
   "source": [
    "## 6) fill in variables goal number and goal time with values"
   ]
  },
  {
   "cell_type": "markdown",
   "metadata": {},
   "source": [
    "### - fill in goal number backwards for all events that occured prior to a goal"
   ]
  },
  {
   "cell_type": "code",
   "execution_count": 260,
   "metadata": {
    "collapsed": false
   },
   "outputs": [],
   "source": [
    "dm['GoalNumber']= dm['GoalNumber'].fillna(method='bfill')"
   ]
  },
  {
   "cell_type": "markdown",
   "metadata": {},
   "source": [
    "### - fill in goal time backwards for all events that occured prior to a goal"
   ]
  },
  {
   "cell_type": "code",
   "execution_count": 261,
   "metadata": {
    "collapsed": false
   },
   "outputs": [],
   "source": [
    "dm['GoalTime'] = dm['GoalTime'].fillna(method='bfill')"
   ]
  },
  {
   "cell_type": "markdown",
   "metadata": {},
   "source": [
    "## 7) generate a variable that will calculate the time difference between goal and events"
   ]
  },
  {
   "cell_type": "code",
   "execution_count": 262,
   "metadata": {
    "collapsed": false
   },
   "outputs": [],
   "source": [
    "dm['TBGoalandEvent'] = dm['GoalTime'] - dm['EventTimeFromZero']"
   ]
  },
  {
   "cell_type": "code",
   "execution_count": 263,
   "metadata": {
    "collapsed": false
   },
   "outputs": [
    {
     "data": {
      "text/html": [
       "<div>\n",
       "<table border=\"1\" class=\"dataframe\">\n",
       "  <thead>\n",
       "    <tr style=\"text-align: right;\">\n",
       "      <th></th>\n",
       "      <th>Season</th>\n",
       "      <th>GameNumber</th>\n",
       "      <th>EventNumber</th>\n",
       "      <th>Period</th>\n",
       "      <th>AdvantageType</th>\n",
       "      <th>EventTimeFromZero</th>\n",
       "      <th>EventTimeFromTwenty</th>\n",
       "      <th>EventType</th>\n",
       "      <th>EventDetail</th>\n",
       "      <th>VPlayer1</th>\n",
       "      <th>...</th>\n",
       "      <th>PenaltyType</th>\n",
       "      <th>DrawnByTeamCode</th>\n",
       "      <th>DrawnByPlayerNumber</th>\n",
       "      <th>DrawnByPlayerName</th>\n",
       "      <th>GameDate</th>\n",
       "      <th>GoalNumber</th>\n",
       "      <th>GoalTime</th>\n",
       "      <th>Assist1Player</th>\n",
       "      <th>Assist2Player</th>\n",
       "      <th>TBGoalandEvent</th>\n",
       "    </tr>\n",
       "  </thead>\n",
       "  <tbody>\n",
       "    <tr>\n",
       "      <th>200</th>\n",
       "      <td>2010</td>\n",
       "      <td>20001</td>\n",
       "      <td>279.0</td>\n",
       "      <td>3</td>\n",
       "      <td>EV</td>\n",
       "      <td>904</td>\n",
       "      <td>296.0</td>\n",
       "      <td>SHOT</td>\n",
       "      <td>MTL ONGOAL - #21 GIONTA, Slap, Neu. Zone, 72 ft.</td>\n",
       "      <td>11.0</td>\n",
       "      <td>...</td>\n",
       "      <td>NaN</td>\n",
       "      <td>NaN</td>\n",
       "      <td>NaN</td>\n",
       "      <td>NaN</td>\n",
       "      <td>NaN</td>\n",
       "      <td>2.0</td>\n",
       "      <td>1035.0</td>\n",
       "      <td>NaN</td>\n",
       "      <td>NaN</td>\n",
       "      <td>131.0</td>\n",
       "    </tr>\n",
       "    <tr>\n",
       "      <th>201</th>\n",
       "      <td>2010</td>\n",
       "      <td>20001</td>\n",
       "      <td>280.0</td>\n",
       "      <td>3</td>\n",
       "      <td>EV</td>\n",
       "      <td>929</td>\n",
       "      <td>271.0</td>\n",
       "      <td>BLOCK</td>\n",
       "      <td>TOR #41 KULEMIN BLOCKED BY  MTL #94 PYATT, Wri...</td>\n",
       "      <td>17.0</td>\n",
       "      <td>...</td>\n",
       "      <td>NaN</td>\n",
       "      <td>NaN</td>\n",
       "      <td>NaN</td>\n",
       "      <td>NaN</td>\n",
       "      <td>NaN</td>\n",
       "      <td>2.0</td>\n",
       "      <td>1035.0</td>\n",
       "      <td>NaN</td>\n",
       "      <td>NaN</td>\n",
       "      <td>106.0</td>\n",
       "    </tr>\n",
       "    <tr>\n",
       "      <th>202</th>\n",
       "      <td>2010</td>\n",
       "      <td>20001</td>\n",
       "      <td>281.0</td>\n",
       "      <td>3</td>\n",
       "      <td>EV</td>\n",
       "      <td>966</td>\n",
       "      <td>234.0</td>\n",
       "      <td>PENL</td>\n",
       "      <td>MTL #94 PYATT&amp;nbsp;Hooking(2 min), Def. Zone D...</td>\n",
       "      <td>17.0</td>\n",
       "      <td>...</td>\n",
       "      <td>Hooking</td>\n",
       "      <td>TOR</td>\n",
       "      <td>41.0</td>\n",
       "      <td>KULEMIN</td>\n",
       "      <td>NaN</td>\n",
       "      <td>2.0</td>\n",
       "      <td>1035.0</td>\n",
       "      <td>NaN</td>\n",
       "      <td>NaN</td>\n",
       "      <td>69.0</td>\n",
       "    </tr>\n",
       "    <tr>\n",
       "      <th>203</th>\n",
       "      <td>2010</td>\n",
       "      <td>20001</td>\n",
       "      <td>295.0</td>\n",
       "      <td>3</td>\n",
       "      <td>EV</td>\n",
       "      <td>1087</td>\n",
       "      <td>113.0</td>\n",
       "      <td>SHOT</td>\n",
       "      <td>TOR ONGOAL - #81 KESSEL, Wrist, Off. Zone, 19 ft.</td>\n",
       "      <td>17.0</td>\n",
       "      <td>...</td>\n",
       "      <td>NaN</td>\n",
       "      <td>NaN</td>\n",
       "      <td>NaN</td>\n",
       "      <td>NaN</td>\n",
       "      <td>NaN</td>\n",
       "      <td>2.0</td>\n",
       "      <td>1035.0</td>\n",
       "      <td>NaN</td>\n",
       "      <td>NaN</td>\n",
       "      <td>-52.0</td>\n",
       "    </tr>\n",
       "    <tr>\n",
       "      <th>204</th>\n",
       "      <td>2010</td>\n",
       "      <td>20001</td>\n",
       "      <td>297.0</td>\n",
       "      <td>3</td>\n",
       "      <td>EV</td>\n",
       "      <td>1110</td>\n",
       "      <td>90.0</td>\n",
       "      <td>FAC</td>\n",
       "      <td>MTL won Neu. Zone - MTL #14 PLEKANEC vs TOR #3...</td>\n",
       "      <td>14.0</td>\n",
       "      <td>...</td>\n",
       "      <td>NaN</td>\n",
       "      <td>NaN</td>\n",
       "      <td>NaN</td>\n",
       "      <td>NaN</td>\n",
       "      <td>2010-10-07</td>\n",
       "      <td>2.0</td>\n",
       "      <td>1035.0</td>\n",
       "      <td>NaN</td>\n",
       "      <td>NaN</td>\n",
       "      <td>-75.0</td>\n",
       "    </tr>\n",
       "    <tr>\n",
       "      <th>205</th>\n",
       "      <td>2010</td>\n",
       "      <td>20001</td>\n",
       "      <td>298.0</td>\n",
       "      <td>3</td>\n",
       "      <td>EV</td>\n",
       "      <td>1124</td>\n",
       "      <td>76.0</td>\n",
       "      <td>HIT</td>\n",
       "      <td>TOR #2 SCHENN HIT MTL #46 KOSTITSYN, Def. Zone</td>\n",
       "      <td>14.0</td>\n",
       "      <td>...</td>\n",
       "      <td>NaN</td>\n",
       "      <td>NaN</td>\n",
       "      <td>NaN</td>\n",
       "      <td>NaN</td>\n",
       "      <td>NaN</td>\n",
       "      <td>2.0</td>\n",
       "      <td>1035.0</td>\n",
       "      <td>NaN</td>\n",
       "      <td>NaN</td>\n",
       "      <td>-89.0</td>\n",
       "    </tr>\n",
       "    <tr>\n",
       "      <th>206</th>\n",
       "      <td>2010</td>\n",
       "      <td>20001</td>\n",
       "      <td>299.0</td>\n",
       "      <td>3</td>\n",
       "      <td>EV</td>\n",
       "      <td>1145</td>\n",
       "      <td>55.0</td>\n",
       "      <td>BLOCK</td>\n",
       "      <td>MTL #14 PLEKANEC BLOCKED BY  TOR #36 GUNNARSSO...</td>\n",
       "      <td>11.0</td>\n",
       "      <td>...</td>\n",
       "      <td>NaN</td>\n",
       "      <td>NaN</td>\n",
       "      <td>NaN</td>\n",
       "      <td>NaN</td>\n",
       "      <td>NaN</td>\n",
       "      <td>2.0</td>\n",
       "      <td>1035.0</td>\n",
       "      <td>NaN</td>\n",
       "      <td>NaN</td>\n",
       "      <td>-110.0</td>\n",
       "    </tr>\n",
       "    <tr>\n",
       "      <th>207</th>\n",
       "      <td>2010</td>\n",
       "      <td>20001</td>\n",
       "      <td>300.0</td>\n",
       "      <td>3</td>\n",
       "      <td>EV</td>\n",
       "      <td>1181</td>\n",
       "      <td>19.0</td>\n",
       "      <td>TAKE</td>\n",
       "      <td>TOR&amp;nbsp;TAKEAWAY - #22 BEAUCHEMIN, Def. Zone</td>\n",
       "      <td>11.0</td>\n",
       "      <td>...</td>\n",
       "      <td>NaN</td>\n",
       "      <td>NaN</td>\n",
       "      <td>NaN</td>\n",
       "      <td>NaN</td>\n",
       "      <td>NaN</td>\n",
       "      <td>2.0</td>\n",
       "      <td>1035.0</td>\n",
       "      <td>NaN</td>\n",
       "      <td>NaN</td>\n",
       "      <td>-146.0</td>\n",
       "    </tr>\n",
       "    <tr>\n",
       "      <th>208</th>\n",
       "      <td>2010</td>\n",
       "      <td>20001</td>\n",
       "      <td>301.0</td>\n",
       "      <td>3</td>\n",
       "      <td>EV</td>\n",
       "      <td>1192</td>\n",
       "      <td>8.0</td>\n",
       "      <td>SHOT</td>\n",
       "      <td>MTL ONGOAL - #21 GIONTA, Wrap-around, Off. Zon...</td>\n",
       "      <td>11.0</td>\n",
       "      <td>...</td>\n",
       "      <td>NaN</td>\n",
       "      <td>NaN</td>\n",
       "      <td>NaN</td>\n",
       "      <td>NaN</td>\n",
       "      <td>NaN</td>\n",
       "      <td>2.0</td>\n",
       "      <td>1035.0</td>\n",
       "      <td>NaN</td>\n",
       "      <td>NaN</td>\n",
       "      <td>-157.0</td>\n",
       "    </tr>\n",
       "    <tr>\n",
       "      <th>209</th>\n",
       "      <td>2010</td>\n",
       "      <td>20001</td>\n",
       "      <td>302.0</td>\n",
       "      <td>3</td>\n",
       "      <td>EV</td>\n",
       "      <td>1198</td>\n",
       "      <td>2.0</td>\n",
       "      <td>SHOT</td>\n",
       "      <td>MTL ONGOAL - #21 GIONTA, Snap, Off. Zone, 12 ft.</td>\n",
       "      <td>11.0</td>\n",
       "      <td>...</td>\n",
       "      <td>NaN</td>\n",
       "      <td>NaN</td>\n",
       "      <td>NaN</td>\n",
       "      <td>NaN</td>\n",
       "      <td>NaN</td>\n",
       "      <td>2.0</td>\n",
       "      <td>1035.0</td>\n",
       "      <td>NaN</td>\n",
       "      <td>NaN</td>\n",
       "      <td>-163.0</td>\n",
       "    </tr>\n",
       "    <tr>\n",
       "      <th>210</th>\n",
       "      <td>2010</td>\n",
       "      <td>20001</td>\n",
       "      <td>303.0</td>\n",
       "      <td>3</td>\n",
       "      <td>EV</td>\n",
       "      <td>1199</td>\n",
       "      <td>1.0</td>\n",
       "      <td>SHOT</td>\n",
       "      <td>MTL ONGOAL - #76 SUBBAN, Slap, Off. Zone, 42 ft.</td>\n",
       "      <td>11.0</td>\n",
       "      <td>...</td>\n",
       "      <td>NaN</td>\n",
       "      <td>NaN</td>\n",
       "      <td>NaN</td>\n",
       "      <td>NaN</td>\n",
       "      <td>NaN</td>\n",
       "      <td>2.0</td>\n",
       "      <td>1035.0</td>\n",
       "      <td>NaN</td>\n",
       "      <td>NaN</td>\n",
       "      <td>-164.0</td>\n",
       "    </tr>\n",
       "    <tr>\n",
       "      <th>211</th>\n",
       "      <td>2010</td>\n",
       "      <td>20002</td>\n",
       "      <td>1.0</td>\n",
       "      <td>1</td>\n",
       "      <td>EV</td>\n",
       "      <td>0</td>\n",
       "      <td>1200.0</td>\n",
       "      <td>FAC</td>\n",
       "      <td>PIT won Neu. Zone - PHI #18 RICHARDS vs PIT #8...</td>\n",
       "      <td>17.0</td>\n",
       "      <td>...</td>\n",
       "      <td>NaN</td>\n",
       "      <td>NaN</td>\n",
       "      <td>NaN</td>\n",
       "      <td>NaN</td>\n",
       "      <td>2010-10-07</td>\n",
       "      <td>2.0</td>\n",
       "      <td>1035.0</td>\n",
       "      <td>NaN</td>\n",
       "      <td>NaN</td>\n",
       "      <td>1035.0</td>\n",
       "    </tr>\n",
       "    <tr>\n",
       "      <th>212</th>\n",
       "      <td>2010</td>\n",
       "      <td>20002</td>\n",
       "      <td>3.0</td>\n",
       "      <td>1</td>\n",
       "      <td>EV</td>\n",
       "      <td>25</td>\n",
       "      <td>1175.0</td>\n",
       "      <td>BLOCK</td>\n",
       "      <td>PHI #17 CARTER BLOCKED BY  PIT #44 ORPIK, Wris...</td>\n",
       "      <td>17.0</td>\n",
       "      <td>...</td>\n",
       "      <td>NaN</td>\n",
       "      <td>NaN</td>\n",
       "      <td>NaN</td>\n",
       "      <td>NaN</td>\n",
       "      <td>NaN</td>\n",
       "      <td>2.0</td>\n",
       "      <td>1035.0</td>\n",
       "      <td>NaN</td>\n",
       "      <td>NaN</td>\n",
       "      <td>1010.0</td>\n",
       "    </tr>\n",
       "    <tr>\n",
       "      <th>213</th>\n",
       "      <td>2010</td>\n",
       "      <td>20002</td>\n",
       "      <td>5.0</td>\n",
       "      <td>1</td>\n",
       "      <td>EV</td>\n",
       "      <td>26</td>\n",
       "      <td>1174.0</td>\n",
       "      <td>FAC</td>\n",
       "      <td>PHI won Off. Zone - PHI #48 BRIERE vs PIT #10 ...</td>\n",
       "      <td>48.0</td>\n",
       "      <td>...</td>\n",
       "      <td>NaN</td>\n",
       "      <td>NaN</td>\n",
       "      <td>NaN</td>\n",
       "      <td>NaN</td>\n",
       "      <td>2010-10-07</td>\n",
       "      <td>2.0</td>\n",
       "      <td>1035.0</td>\n",
       "      <td>NaN</td>\n",
       "      <td>NaN</td>\n",
       "      <td>1009.0</td>\n",
       "    </tr>\n",
       "    <tr>\n",
       "      <th>214</th>\n",
       "      <td>2010</td>\n",
       "      <td>20002</td>\n",
       "      <td>6.0</td>\n",
       "      <td>1</td>\n",
       "      <td>EV</td>\n",
       "      <td>27</td>\n",
       "      <td>1173.0</td>\n",
       "      <td>BLOCK</td>\n",
       "      <td>PHI #19 HARTNELL BLOCKED BY  PIT #3 GOLIGOSKI,...</td>\n",
       "      <td>48.0</td>\n",
       "      <td>...</td>\n",
       "      <td>NaN</td>\n",
       "      <td>NaN</td>\n",
       "      <td>NaN</td>\n",
       "      <td>NaN</td>\n",
       "      <td>NaN</td>\n",
       "      <td>2.0</td>\n",
       "      <td>1035.0</td>\n",
       "      <td>NaN</td>\n",
       "      <td>NaN</td>\n",
       "      <td>1008.0</td>\n",
       "    </tr>\n",
       "    <tr>\n",
       "      <th>215</th>\n",
       "      <td>2010</td>\n",
       "      <td>20002</td>\n",
       "      <td>8.0</td>\n",
       "      <td>1</td>\n",
       "      <td>EV</td>\n",
       "      <td>29</td>\n",
       "      <td>1171.0</td>\n",
       "      <td>FAC</td>\n",
       "      <td>PHI won Off. Zone - PHI #48 BRIERE vs PIT #10 ...</td>\n",
       "      <td>48.0</td>\n",
       "      <td>...</td>\n",
       "      <td>NaN</td>\n",
       "      <td>NaN</td>\n",
       "      <td>NaN</td>\n",
       "      <td>NaN</td>\n",
       "      <td>2010-10-07</td>\n",
       "      <td>2.0</td>\n",
       "      <td>1035.0</td>\n",
       "      <td>NaN</td>\n",
       "      <td>NaN</td>\n",
       "      <td>1006.0</td>\n",
       "    </tr>\n",
       "    <tr>\n",
       "      <th>216</th>\n",
       "      <td>2010</td>\n",
       "      <td>20002</td>\n",
       "      <td>9.0</td>\n",
       "      <td>1</td>\n",
       "      <td>EV</td>\n",
       "      <td>32</td>\n",
       "      <td>1168.0</td>\n",
       "      <td>SHOT</td>\n",
       "      <td>PHI ONGOAL - #5 COBURN, Wrist, Off. Zone, 61 ft.</td>\n",
       "      <td>48.0</td>\n",
       "      <td>...</td>\n",
       "      <td>NaN</td>\n",
       "      <td>NaN</td>\n",
       "      <td>NaN</td>\n",
       "      <td>NaN</td>\n",
       "      <td>NaN</td>\n",
       "      <td>2.0</td>\n",
       "      <td>1035.0</td>\n",
       "      <td>NaN</td>\n",
       "      <td>NaN</td>\n",
       "      <td>1003.0</td>\n",
       "    </tr>\n",
       "    <tr>\n",
       "      <th>217</th>\n",
       "      <td>2010</td>\n",
       "      <td>20002</td>\n",
       "      <td>11.0</td>\n",
       "      <td>1</td>\n",
       "      <td>EV</td>\n",
       "      <td>41</td>\n",
       "      <td>1159.0</td>\n",
       "      <td>FAC</td>\n",
       "      <td>PIT won Def. Zone - PHI #48 BRIERE vs PIT #10 ...</td>\n",
       "      <td>48.0</td>\n",
       "      <td>...</td>\n",
       "      <td>NaN</td>\n",
       "      <td>NaN</td>\n",
       "      <td>NaN</td>\n",
       "      <td>NaN</td>\n",
       "      <td>2010-10-07</td>\n",
       "      <td>2.0</td>\n",
       "      <td>1035.0</td>\n",
       "      <td>NaN</td>\n",
       "      <td>NaN</td>\n",
       "      <td>994.0</td>\n",
       "    </tr>\n",
       "    <tr>\n",
       "      <th>218</th>\n",
       "      <td>2010</td>\n",
       "      <td>20002</td>\n",
       "      <td>12.0</td>\n",
       "      <td>1</td>\n",
       "      <td>EV</td>\n",
       "      <td>53</td>\n",
       "      <td>1147.0</td>\n",
       "      <td>HIT</td>\n",
       "      <td>PHI #19 HARTNELL HIT PIT #48 KENNEDY, Off. Zone</td>\n",
       "      <td>48.0</td>\n",
       "      <td>...</td>\n",
       "      <td>NaN</td>\n",
       "      <td>NaN</td>\n",
       "      <td>NaN</td>\n",
       "      <td>NaN</td>\n",
       "      <td>NaN</td>\n",
       "      <td>2.0</td>\n",
       "      <td>1035.0</td>\n",
       "      <td>NaN</td>\n",
       "      <td>NaN</td>\n",
       "      <td>982.0</td>\n",
       "    </tr>\n",
       "    <tr>\n",
       "      <th>219</th>\n",
       "      <td>2010</td>\n",
       "      <td>20002</td>\n",
       "      <td>13.0</td>\n",
       "      <td>1</td>\n",
       "      <td>EV</td>\n",
       "      <td>88</td>\n",
       "      <td>1112.0</td>\n",
       "      <td>MISS</td>\n",
       "      <td>PHI #22 LEINO, Tip-In, Wide of Net, Off. Zone,...</td>\n",
       "      <td>28.0</td>\n",
       "      <td>...</td>\n",
       "      <td>NaN</td>\n",
       "      <td>NaN</td>\n",
       "      <td>NaN</td>\n",
       "      <td>NaN</td>\n",
       "      <td>NaN</td>\n",
       "      <td>2.0</td>\n",
       "      <td>1035.0</td>\n",
       "      <td>NaN</td>\n",
       "      <td>NaN</td>\n",
       "      <td>947.0</td>\n",
       "    </tr>\n",
       "    <tr>\n",
       "      <th>220</th>\n",
       "      <td>2010</td>\n",
       "      <td>20002</td>\n",
       "      <td>14.0</td>\n",
       "      <td>1</td>\n",
       "      <td>EV</td>\n",
       "      <td>101</td>\n",
       "      <td>1099.0</td>\n",
       "      <td>MISS</td>\n",
       "      <td>PIT #48 KENNEDY, Wrist, Wide of Net, Off. Zone...</td>\n",
       "      <td>28.0</td>\n",
       "      <td>...</td>\n",
       "      <td>NaN</td>\n",
       "      <td>NaN</td>\n",
       "      <td>NaN</td>\n",
       "      <td>NaN</td>\n",
       "      <td>NaN</td>\n",
       "      <td>2.0</td>\n",
       "      <td>1035.0</td>\n",
       "      <td>NaN</td>\n",
       "      <td>NaN</td>\n",
       "      <td>934.0</td>\n",
       "    </tr>\n",
       "    <tr>\n",
       "      <th>221</th>\n",
       "      <td>2010</td>\n",
       "      <td>20002</td>\n",
       "      <td>15.0</td>\n",
       "      <td>1</td>\n",
       "      <td>EV</td>\n",
       "      <td>110</td>\n",
       "      <td>1090.0</td>\n",
       "      <td>SHOT</td>\n",
       "      <td>PIT ONGOAL - #19 COMRIE, Wrist, Off. Zone, 11 ft.</td>\n",
       "      <td>28.0</td>\n",
       "      <td>...</td>\n",
       "      <td>NaN</td>\n",
       "      <td>NaN</td>\n",
       "      <td>NaN</td>\n",
       "      <td>NaN</td>\n",
       "      <td>NaN</td>\n",
       "      <td>2.0</td>\n",
       "      <td>1035.0</td>\n",
       "      <td>NaN</td>\n",
       "      <td>NaN</td>\n",
       "      <td>925.0</td>\n",
       "    </tr>\n",
       "    <tr>\n",
       "      <th>222</th>\n",
       "      <td>2010</td>\n",
       "      <td>20002</td>\n",
       "      <td>16.0</td>\n",
       "      <td>1</td>\n",
       "      <td>EV</td>\n",
       "      <td>128</td>\n",
       "      <td>1072.0</td>\n",
       "      <td>HIT</td>\n",
       "      <td>PIT #26 TANGRADI HIT PHI #41 MESZAROS, Def. Zone</td>\n",
       "      <td>11.0</td>\n",
       "      <td>...</td>\n",
       "      <td>NaN</td>\n",
       "      <td>NaN</td>\n",
       "      <td>NaN</td>\n",
       "      <td>NaN</td>\n",
       "      <td>NaN</td>\n",
       "      <td>2.0</td>\n",
       "      <td>1035.0</td>\n",
       "      <td>NaN</td>\n",
       "      <td>NaN</td>\n",
       "      <td>907.0</td>\n",
       "    </tr>\n",
       "    <tr>\n",
       "      <th>223</th>\n",
       "      <td>2010</td>\n",
       "      <td>20002</td>\n",
       "      <td>17.0</td>\n",
       "      <td>1</td>\n",
       "      <td>EV</td>\n",
       "      <td>156</td>\n",
       "      <td>1044.0</td>\n",
       "      <td>HIT</td>\n",
       "      <td>PIT #7 MARTIN HIT PHI #11 BETTS, Def. Zone</td>\n",
       "      <td>11.0</td>\n",
       "      <td>...</td>\n",
       "      <td>NaN</td>\n",
       "      <td>NaN</td>\n",
       "      <td>NaN</td>\n",
       "      <td>NaN</td>\n",
       "      <td>NaN</td>\n",
       "      <td>2.0</td>\n",
       "      <td>1035.0</td>\n",
       "      <td>NaN</td>\n",
       "      <td>NaN</td>\n",
       "      <td>879.0</td>\n",
       "    </tr>\n",
       "    <tr>\n",
       "      <th>224</th>\n",
       "      <td>2010</td>\n",
       "      <td>20002</td>\n",
       "      <td>18.0</td>\n",
       "      <td>1</td>\n",
       "      <td>EV</td>\n",
       "      <td>174</td>\n",
       "      <td>1026.0</td>\n",
       "      <td>SHOT</td>\n",
       "      <td>PHI ONGOAL - #17 CARTER, Wrist, Off. Zone, 31 ft.</td>\n",
       "      <td>17.0</td>\n",
       "      <td>...</td>\n",
       "      <td>NaN</td>\n",
       "      <td>NaN</td>\n",
       "      <td>NaN</td>\n",
       "      <td>NaN</td>\n",
       "      <td>NaN</td>\n",
       "      <td>2.0</td>\n",
       "      <td>1035.0</td>\n",
       "      <td>NaN</td>\n",
       "      <td>NaN</td>\n",
       "      <td>861.0</td>\n",
       "    </tr>\n",
       "    <tr>\n",
       "      <th>225</th>\n",
       "      <td>2010</td>\n",
       "      <td>20002</td>\n",
       "      <td>19.0</td>\n",
       "      <td>1</td>\n",
       "      <td>EV</td>\n",
       "      <td>192</td>\n",
       "      <td>1008.0</td>\n",
       "      <td>SHOT</td>\n",
       "      <td>PIT ONGOAL - #27 ADAMS, Wrist, Off. Zone, 50 ft.</td>\n",
       "      <td>17.0</td>\n",
       "      <td>...</td>\n",
       "      <td>NaN</td>\n",
       "      <td>NaN</td>\n",
       "      <td>NaN</td>\n",
       "      <td>NaN</td>\n",
       "      <td>NaN</td>\n",
       "      <td>2.0</td>\n",
       "      <td>1035.0</td>\n",
       "      <td>NaN</td>\n",
       "      <td>NaN</td>\n",
       "      <td>843.0</td>\n",
       "    </tr>\n",
       "    <tr>\n",
       "      <th>226</th>\n",
       "      <td>2010</td>\n",
       "      <td>20002</td>\n",
       "      <td>21.0</td>\n",
       "      <td>1</td>\n",
       "      <td>EV</td>\n",
       "      <td>194</td>\n",
       "      <td>1006.0</td>\n",
       "      <td>FAC</td>\n",
       "      <td>PIT won Off. Zone - PHI #11 BETTS vs PIT #87 C...</td>\n",
       "      <td>11.0</td>\n",
       "      <td>...</td>\n",
       "      <td>NaN</td>\n",
       "      <td>NaN</td>\n",
       "      <td>NaN</td>\n",
       "      <td>NaN</td>\n",
       "      <td>2010-10-07</td>\n",
       "      <td>2.0</td>\n",
       "      <td>1035.0</td>\n",
       "      <td>NaN</td>\n",
       "      <td>NaN</td>\n",
       "      <td>841.0</td>\n",
       "    </tr>\n",
       "    <tr>\n",
       "      <th>227</th>\n",
       "      <td>2010</td>\n",
       "      <td>20002</td>\n",
       "      <td>22.0</td>\n",
       "      <td>1</td>\n",
       "      <td>EV</td>\n",
       "      <td>199</td>\n",
       "      <td>1001.0</td>\n",
       "      <td>MISS</td>\n",
       "      <td>PIT #4 MICHALEK, Snap, Wide of Net, Off. Zone,...</td>\n",
       "      <td>11.0</td>\n",
       "      <td>...</td>\n",
       "      <td>NaN</td>\n",
       "      <td>NaN</td>\n",
       "      <td>NaN</td>\n",
       "      <td>NaN</td>\n",
       "      <td>NaN</td>\n",
       "      <td>2.0</td>\n",
       "      <td>1035.0</td>\n",
       "      <td>NaN</td>\n",
       "      <td>NaN</td>\n",
       "      <td>836.0</td>\n",
       "    </tr>\n",
       "    <tr>\n",
       "      <th>228</th>\n",
       "      <td>2010</td>\n",
       "      <td>20002</td>\n",
       "      <td>23.0</td>\n",
       "      <td>1</td>\n",
       "      <td>EV</td>\n",
       "      <td>209</td>\n",
       "      <td>991.0</td>\n",
       "      <td>MISS</td>\n",
       "      <td>PIT #44 ORPIK, Wrist, Wide of Net, Off. Zone, ...</td>\n",
       "      <td>11.0</td>\n",
       "      <td>...</td>\n",
       "      <td>NaN</td>\n",
       "      <td>NaN</td>\n",
       "      <td>NaN</td>\n",
       "      <td>NaN</td>\n",
       "      <td>NaN</td>\n",
       "      <td>2.0</td>\n",
       "      <td>1035.0</td>\n",
       "      <td>NaN</td>\n",
       "      <td>NaN</td>\n",
       "      <td>826.0</td>\n",
       "    </tr>\n",
       "    <tr>\n",
       "      <th>229</th>\n",
       "      <td>2010</td>\n",
       "      <td>20002</td>\n",
       "      <td>24.0</td>\n",
       "      <td>1</td>\n",
       "      <td>EV</td>\n",
       "      <td>226</td>\n",
       "      <td>974.0</td>\n",
       "      <td>GIVE</td>\n",
       "      <td>PIT&amp;nbsp;GIVEAWAY - #9 DUPUIS, Off. Zone</td>\n",
       "      <td>48.0</td>\n",
       "      <td>...</td>\n",
       "      <td>NaN</td>\n",
       "      <td>NaN</td>\n",
       "      <td>NaN</td>\n",
       "      <td>NaN</td>\n",
       "      <td>NaN</td>\n",
       "      <td>2.0</td>\n",
       "      <td>1035.0</td>\n",
       "      <td>NaN</td>\n",
       "      <td>NaN</td>\n",
       "      <td>809.0</td>\n",
       "    </tr>\n",
       "  </tbody>\n",
       "</table>\n",
       "<p>30 rows × 69 columns</p>\n",
       "</div>"
      ],
      "text/plain": [
       "     Season  GameNumber  EventNumber  Period AdvantageType  EventTimeFromZero  \\\n",
       "200    2010       20001        279.0       3            EV                904   \n",
       "201    2010       20001        280.0       3            EV                929   \n",
       "202    2010       20001        281.0       3            EV                966   \n",
       "203    2010       20001        295.0       3            EV               1087   \n",
       "204    2010       20001        297.0       3            EV               1110   \n",
       "205    2010       20001        298.0       3            EV               1124   \n",
       "206    2010       20001        299.0       3            EV               1145   \n",
       "207    2010       20001        300.0       3            EV               1181   \n",
       "208    2010       20001        301.0       3            EV               1192   \n",
       "209    2010       20001        302.0       3            EV               1198   \n",
       "210    2010       20001        303.0       3            EV               1199   \n",
       "211    2010       20002          1.0       1            EV                  0   \n",
       "212    2010       20002          3.0       1            EV                 25   \n",
       "213    2010       20002          5.0       1            EV                 26   \n",
       "214    2010       20002          6.0       1            EV                 27   \n",
       "215    2010       20002          8.0       1            EV                 29   \n",
       "216    2010       20002          9.0       1            EV                 32   \n",
       "217    2010       20002         11.0       1            EV                 41   \n",
       "218    2010       20002         12.0       1            EV                 53   \n",
       "219    2010       20002         13.0       1            EV                 88   \n",
       "220    2010       20002         14.0       1            EV                101   \n",
       "221    2010       20002         15.0       1            EV                110   \n",
       "222    2010       20002         16.0       1            EV                128   \n",
       "223    2010       20002         17.0       1            EV                156   \n",
       "224    2010       20002         18.0       1            EV                174   \n",
       "225    2010       20002         19.0       1            EV                192   \n",
       "226    2010       20002         21.0       1            EV                194   \n",
       "227    2010       20002         22.0       1            EV                199   \n",
       "228    2010       20002         23.0       1            EV                209   \n",
       "229    2010       20002         24.0       1            EV                226   \n",
       "\n",
       "     EventTimeFromTwenty EventType  \\\n",
       "200                296.0      SHOT   \n",
       "201                271.0     BLOCK   \n",
       "202                234.0      PENL   \n",
       "203                113.0      SHOT   \n",
       "204                 90.0       FAC   \n",
       "205                 76.0       HIT   \n",
       "206                 55.0     BLOCK   \n",
       "207                 19.0      TAKE   \n",
       "208                  8.0      SHOT   \n",
       "209                  2.0      SHOT   \n",
       "210                  1.0      SHOT   \n",
       "211               1200.0       FAC   \n",
       "212               1175.0     BLOCK   \n",
       "213               1174.0       FAC   \n",
       "214               1173.0     BLOCK   \n",
       "215               1171.0       FAC   \n",
       "216               1168.0      SHOT   \n",
       "217               1159.0       FAC   \n",
       "218               1147.0       HIT   \n",
       "219               1112.0      MISS   \n",
       "220               1099.0      MISS   \n",
       "221               1090.0      SHOT   \n",
       "222               1072.0       HIT   \n",
       "223               1044.0       HIT   \n",
       "224               1026.0      SHOT   \n",
       "225               1008.0      SHOT   \n",
       "226               1006.0       FAC   \n",
       "227               1001.0      MISS   \n",
       "228                991.0      MISS   \n",
       "229                974.0      GIVE   \n",
       "\n",
       "                                           EventDetail  VPlayer1  \\\n",
       "200   MTL ONGOAL - #21 GIONTA, Slap, Neu. Zone, 72 ft.      11.0   \n",
       "201  TOR #41 KULEMIN BLOCKED BY  MTL #94 PYATT, Wri...      17.0   \n",
       "202  MTL #94 PYATT&nbsp;Hooking(2 min), Def. Zone D...      17.0   \n",
       "203  TOR ONGOAL - #81 KESSEL, Wrist, Off. Zone, 19 ft.      17.0   \n",
       "204  MTL won Neu. Zone - MTL #14 PLEKANEC vs TOR #3...      14.0   \n",
       "205     TOR #2 SCHENN HIT MTL #46 KOSTITSYN, Def. Zone      14.0   \n",
       "206  MTL #14 PLEKANEC BLOCKED BY  TOR #36 GUNNARSSO...      11.0   \n",
       "207      TOR&nbsp;TAKEAWAY - #22 BEAUCHEMIN, Def. Zone      11.0   \n",
       "208  MTL ONGOAL - #21 GIONTA, Wrap-around, Off. Zon...      11.0   \n",
       "209   MTL ONGOAL - #21 GIONTA, Snap, Off. Zone, 12 ft.      11.0   \n",
       "210   MTL ONGOAL - #76 SUBBAN, Slap, Off. Zone, 42 ft.      11.0   \n",
       "211  PIT won Neu. Zone - PHI #18 RICHARDS vs PIT #8...      17.0   \n",
       "212  PHI #17 CARTER BLOCKED BY  PIT #44 ORPIK, Wris...      17.0   \n",
       "213  PHI won Off. Zone - PHI #48 BRIERE vs PIT #10 ...      48.0   \n",
       "214  PHI #19 HARTNELL BLOCKED BY  PIT #3 GOLIGOSKI,...      48.0   \n",
       "215  PHI won Off. Zone - PHI #48 BRIERE vs PIT #10 ...      48.0   \n",
       "216   PHI ONGOAL - #5 COBURN, Wrist, Off. Zone, 61 ft.      48.0   \n",
       "217  PIT won Def. Zone - PHI #48 BRIERE vs PIT #10 ...      48.0   \n",
       "218    PHI #19 HARTNELL HIT PIT #48 KENNEDY, Off. Zone      48.0   \n",
       "219  PHI #22 LEINO, Tip-In, Wide of Net, Off. Zone,...      28.0   \n",
       "220  PIT #48 KENNEDY, Wrist, Wide of Net, Off. Zone...      28.0   \n",
       "221  PIT ONGOAL - #19 COMRIE, Wrist, Off. Zone, 11 ft.      28.0   \n",
       "222   PIT #26 TANGRADI HIT PHI #41 MESZAROS, Def. Zone      11.0   \n",
       "223         PIT #7 MARTIN HIT PHI #11 BETTS, Def. Zone      11.0   \n",
       "224  PHI ONGOAL - #17 CARTER, Wrist, Off. Zone, 31 ft.      17.0   \n",
       "225   PIT ONGOAL - #27 ADAMS, Wrist, Off. Zone, 50 ft.      17.0   \n",
       "226  PIT won Off. Zone - PHI #11 BETTS vs PIT #87 C...      11.0   \n",
       "227  PIT #4 MICHALEK, Snap, Wide of Net, Off. Zone,...      11.0   \n",
       "228  PIT #44 ORPIK, Wrist, Wide of Net, Off. Zone, ...      11.0   \n",
       "229           PIT&nbsp;GIVEAWAY - #9 DUPUIS, Off. Zone      48.0   \n",
       "\n",
       "          ...       PenaltyType  DrawnByTeamCode DrawnByPlayerNumber  \\\n",
       "200       ...               NaN              NaN                 NaN   \n",
       "201       ...               NaN              NaN                 NaN   \n",
       "202       ...           Hooking              TOR                41.0   \n",
       "203       ...               NaN              NaN                 NaN   \n",
       "204       ...               NaN              NaN                 NaN   \n",
       "205       ...               NaN              NaN                 NaN   \n",
       "206       ...               NaN              NaN                 NaN   \n",
       "207       ...               NaN              NaN                 NaN   \n",
       "208       ...               NaN              NaN                 NaN   \n",
       "209       ...               NaN              NaN                 NaN   \n",
       "210       ...               NaN              NaN                 NaN   \n",
       "211       ...               NaN              NaN                 NaN   \n",
       "212       ...               NaN              NaN                 NaN   \n",
       "213       ...               NaN              NaN                 NaN   \n",
       "214       ...               NaN              NaN                 NaN   \n",
       "215       ...               NaN              NaN                 NaN   \n",
       "216       ...               NaN              NaN                 NaN   \n",
       "217       ...               NaN              NaN                 NaN   \n",
       "218       ...               NaN              NaN                 NaN   \n",
       "219       ...               NaN              NaN                 NaN   \n",
       "220       ...               NaN              NaN                 NaN   \n",
       "221       ...               NaN              NaN                 NaN   \n",
       "222       ...               NaN              NaN                 NaN   \n",
       "223       ...               NaN              NaN                 NaN   \n",
       "224       ...               NaN              NaN                 NaN   \n",
       "225       ...               NaN              NaN                 NaN   \n",
       "226       ...               NaN              NaN                 NaN   \n",
       "227       ...               NaN              NaN                 NaN   \n",
       "228       ...               NaN              NaN                 NaN   \n",
       "229       ...               NaN              NaN                 NaN   \n",
       "\n",
       "     DrawnByPlayerName    GameDate  GoalNumber GoalTime  Assist1Player  \\\n",
       "200                NaN         NaN         2.0   1035.0            NaN   \n",
       "201                NaN         NaN         2.0   1035.0            NaN   \n",
       "202            KULEMIN         NaN         2.0   1035.0            NaN   \n",
       "203                NaN         NaN         2.0   1035.0            NaN   \n",
       "204                NaN  2010-10-07         2.0   1035.0            NaN   \n",
       "205                NaN         NaN         2.0   1035.0            NaN   \n",
       "206                NaN         NaN         2.0   1035.0            NaN   \n",
       "207                NaN         NaN         2.0   1035.0            NaN   \n",
       "208                NaN         NaN         2.0   1035.0            NaN   \n",
       "209                NaN         NaN         2.0   1035.0            NaN   \n",
       "210                NaN         NaN         2.0   1035.0            NaN   \n",
       "211                NaN  2010-10-07         2.0   1035.0            NaN   \n",
       "212                NaN         NaN         2.0   1035.0            NaN   \n",
       "213                NaN  2010-10-07         2.0   1035.0            NaN   \n",
       "214                NaN         NaN         2.0   1035.0            NaN   \n",
       "215                NaN  2010-10-07         2.0   1035.0            NaN   \n",
       "216                NaN         NaN         2.0   1035.0            NaN   \n",
       "217                NaN  2010-10-07         2.0   1035.0            NaN   \n",
       "218                NaN         NaN         2.0   1035.0            NaN   \n",
       "219                NaN         NaN         2.0   1035.0            NaN   \n",
       "220                NaN         NaN         2.0   1035.0            NaN   \n",
       "221                NaN         NaN         2.0   1035.0            NaN   \n",
       "222                NaN         NaN         2.0   1035.0            NaN   \n",
       "223                NaN         NaN         2.0   1035.0            NaN   \n",
       "224                NaN         NaN         2.0   1035.0            NaN   \n",
       "225                NaN         NaN         2.0   1035.0            NaN   \n",
       "226                NaN  2010-10-07         2.0   1035.0            NaN   \n",
       "227                NaN         NaN         2.0   1035.0            NaN   \n",
       "228                NaN         NaN         2.0   1035.0            NaN   \n",
       "229                NaN         NaN         2.0   1035.0            NaN   \n",
       "\n",
       "    Assist2Player  TBGoalandEvent  \n",
       "200           NaN           131.0  \n",
       "201           NaN           106.0  \n",
       "202           NaN            69.0  \n",
       "203           NaN           -52.0  \n",
       "204           NaN           -75.0  \n",
       "205           NaN           -89.0  \n",
       "206           NaN          -110.0  \n",
       "207           NaN          -146.0  \n",
       "208           NaN          -157.0  \n",
       "209           NaN          -163.0  \n",
       "210           NaN          -164.0  \n",
       "211           NaN          1035.0  \n",
       "212           NaN          1010.0  \n",
       "213           NaN          1009.0  \n",
       "214           NaN          1008.0  \n",
       "215           NaN          1006.0  \n",
       "216           NaN          1003.0  \n",
       "217           NaN           994.0  \n",
       "218           NaN           982.0  \n",
       "219           NaN           947.0  \n",
       "220           NaN           934.0  \n",
       "221           NaN           925.0  \n",
       "222           NaN           907.0  \n",
       "223           NaN           879.0  \n",
       "224           NaN           861.0  \n",
       "225           NaN           843.0  \n",
       "226           NaN           841.0  \n",
       "227           NaN           836.0  \n",
       "228           NaN           826.0  \n",
       "229           NaN           809.0  \n",
       "\n",
       "[30 rows x 69 columns]"
      ]
     },
     "execution_count": 263,
     "metadata": {},
     "output_type": "execute_result"
    }
   ],
   "source": [
    "dm[200:230]"
   ]
  },
  {
   "cell_type": "markdown",
   "metadata": {},
   "source": [
    "## 8) keep only events that happened 20 seconds prior to goal"
   ]
  },
  {
   "cell_type": "code",
   "execution_count": 264,
   "metadata": {
    "collapsed": false
   },
   "outputs": [],
   "source": [
    "dm = dm[dm['TBGoalandEvent'] <= 20]"
   ]
  },
  {
   "cell_type": "code",
   "execution_count": 265,
   "metadata": {
    "collapsed": false
   },
   "outputs": [],
   "source": [
    "dm = dm[dm['TBGoalandEvent'] >= 0]"
   ]
  },
  {
   "cell_type": "markdown",
   "metadata": {},
   "source": [
    "### | results show the events that occured 20 sec prior to each goal."
   ]
  },
  {
   "cell_type": "markdown",
   "metadata": {},
   "source": [
    "## 9) create a column that will show the total observations for two games"
   ]
  },
  {
   "cell_type": "code",
   "execution_count": 266,
   "metadata": {
    "collapsed": false
   },
   "outputs": [],
   "source": [
    "dm['Counts'] = dm.groupby('Season')['EventType'].transform('count')"
   ]
  },
  {
   "cell_type": "markdown",
   "metadata": {},
   "source": [
    "## 10) create columns for each type of event and assign values to determine the impact they have on a goal"
   ]
  },
  {
   "cell_type": "markdown",
   "metadata": {},
   "source": [
    "### - create a column that assigns a value of 1 to block events"
   ]
  },
  {
   "cell_type": "code",
   "execution_count": 267,
   "metadata": {
    "collapsed": true
   },
   "outputs": [],
   "source": [
    "dm['block'] = np.where(dm['EventType'] == 'BLOCK', 1, 0)"
   ]
  },
  {
   "cell_type": "markdown",
   "metadata": {},
   "source": [
    "### - create a column that assigns a value of 1 to faceoff events"
   ]
  },
  {
   "cell_type": "code",
   "execution_count": 268,
   "metadata": {
    "collapsed": true
   },
   "outputs": [],
   "source": [
    "dm['faceoff'] = np.where(dm['EventType'] == 'FAC', 1, 0)"
   ]
  },
  {
   "cell_type": "markdown",
   "metadata": {},
   "source": [
    "### - create a column that assigns a value of 1 to giveaway events"
   ]
  },
  {
   "cell_type": "code",
   "execution_count": 269,
   "metadata": {
    "collapsed": true
   },
   "outputs": [],
   "source": [
    "dm['giveaway'] = np.where(dm['EventType'] == 'GIVE', 1, 0)"
   ]
  },
  {
   "cell_type": "markdown",
   "metadata": {},
   "source": [
    "### - create a column that assigns a value of 1 to goal events"
   ]
  },
  {
   "cell_type": "code",
   "execution_count": 270,
   "metadata": {
    "collapsed": true
   },
   "outputs": [],
   "source": [
    "dm['goal'] = np.where(dm['EventType'] == 'GOAL', 1, 0)"
   ]
  },
  {
   "cell_type": "markdown",
   "metadata": {},
   "source": [
    "### - create a column that assigns a value of 1 to hit events"
   ]
  },
  {
   "cell_type": "code",
   "execution_count": 271,
   "metadata": {
    "collapsed": true
   },
   "outputs": [],
   "source": [
    "dm['hit'] = np.where(dm['EventType'] == 'HIT', 1, 0)"
   ]
  },
  {
   "cell_type": "markdown",
   "metadata": {},
   "source": [
    "### - create a column that assigns a value of 1 to miss events"
   ]
  },
  {
   "cell_type": "code",
   "execution_count": 272,
   "metadata": {
    "collapsed": true
   },
   "outputs": [],
   "source": [
    "dm['miss'] = np.where(dm['EventType'] == 'MISS', 1, 0)"
   ]
  },
  {
   "cell_type": "markdown",
   "metadata": {},
   "source": [
    "### - create a column that assigns a value of 1 to penalty events"
   ]
  },
  {
   "cell_type": "code",
   "execution_count": 273,
   "metadata": {
    "collapsed": true
   },
   "outputs": [],
   "source": [
    "dm['penalty'] = np.where(dm['EventType'] == 'PENL', 1, 0)"
   ]
  },
  {
   "cell_type": "markdown",
   "metadata": {},
   "source": [
    "### - create a column that assigns a value of 1 to shot events"
   ]
  },
  {
   "cell_type": "code",
   "execution_count": 274,
   "metadata": {
    "collapsed": true
   },
   "outputs": [],
   "source": [
    "dm['shot'] = np.where(dm['EventType'] == 'SHOT', 1, 0)"
   ]
  },
  {
   "cell_type": "markdown",
   "metadata": {},
   "source": [
    "### - create a column that assigns a value of 1 to takeaway events"
   ]
  },
  {
   "cell_type": "code",
   "execution_count": 275,
   "metadata": {
    "collapsed": true
   },
   "outputs": [],
   "source": [
    "dm['takeaway'] = np.where(dm['EventType'] == 'TAKE', 1, 0)"
   ]
  },
  {
   "cell_type": "markdown",
   "metadata": {},
   "source": [
    "## 11) display of each event leading to a goal for two games"
   ]
  },
  {
   "cell_type": "code",
   "execution_count": 276,
   "metadata": {
    "collapsed": false
   },
   "outputs": [],
   "source": [
    "dy = dm.groupby(['Season','GameNumber', 'GoalNumber', 'EventType']).size()"
   ]
  },
  {
   "cell_type": "markdown",
   "metadata": {
    "collapsed": true
   },
   "source": [
    "### | the above table lists the occurance of each event type prior to each goal."
   ]
  },
  {
   "cell_type": "markdown",
   "metadata": {},
   "source": [
    "## 12) create a variable that will show the value of each event and determine if the event has a positive or negative impact on each team. "
   ]
  },
  {
   "cell_type": "markdown",
   "metadata": {},
   "source": [
    "### the mean is used to determine the impact each event has on a goal. "
   ]
  },
  {
   "cell_type": "code",
   "execution_count": 277,
   "metadata": {
    "collapsed": false
   },
   "outputs": [],
   "source": [
    "dm['eventvalue'] = np.where(dm['EventType'] == 'BLOCK', dm['block'].mean(),\n",
    "                             (np.where(dm['EventType'] == 'FAC', dm['faceoff'].mean(),\n",
    "                                       (np.where(dm['EventType'] == 'GIVE', -(dm['giveaway'].mean()),\n",
    "                                                 (np.where(dm['EventType'] == 'GOAL', dm['goal'].mean(),\n",
    "                                                          (np.where(dm['EventType'] == 'HIT', dm['hit'].mean(),\n",
    "                                                                   (np.where(dm['EventType'] == 'MISS', dm['miss'].mean(),\n",
    "                                                                            (np.where(dm['EventType'] == 'PENL', -(dm['penalty'].mean()),\n",
    "                                                                                     (np.where(dm['EventType'] == 'SHOT', dm['shot'].mean(),\n",
    "                                                                                              (np.where(dm['EventType'] == 'TAKE', dm['takeaway'].mean(), 0)))))))))))))))))"
   ]
  },
  {
   "cell_type": "markdown",
   "metadata": {},
   "source": [
    "### - giveaway has a negative impact on the team that commited it"
   ]
  },
  {
   "cell_type": "markdown",
   "metadata": {},
   "source": [
    "### - faceoff has a positive impact on the team that won it and a negative impact on the team that lost "
   ]
  },
  {
   "cell_type": "markdown",
   "metadata": {},
   "source": [
    "### - takeaway has a positive impact on the team that stole the puck and have possession"
   ]
  },
  {
   "cell_type": "markdown",
   "metadata": {},
   "source": [
    "### all events have been assigned a value. "
   ]
  },
  {
   "cell_type": "markdown",
   "metadata": {},
   "source": [
    "### - hit has a positive impact for the team that delivered the hit and a negative impact on the team that received the hit"
   ]
  },
  {
   "cell_type": "markdown",
   "metadata": {},
   "source": [
    "### - penalty has a positive impact on the team that drew the penalty and a negative impact on the team serving "
   ]
  },
  {
   "cell_type": "markdown",
   "metadata": {},
   "source": [
    "## 13) create event value for home and visitor teams"
   ]
  },
  {
   "cell_type": "markdown",
   "metadata": {},
   "source": [
    "### - event value for home team. If an event has a positive impact on the home team, the mean will be positive. If an event has a negative impact on the home team, the mean will be negative."
   ]
  },
  {
   "cell_type": "code",
   "execution_count": 281,
   "metadata": {
    "collapsed": false
   },
   "outputs": [],
   "source": [
    "dm['heventvalue'] = np.where(dm['TeamCode'] == dm['HTeamCode'], dm['eventvalue'], -(dm['eventvalue']))"
   ]
  },
  {
   "cell_type": "markdown",
   "metadata": {},
   "source": [
    "### - event value for visitor team.  If an event has a positive impact on the visitor team, the mean will be positive. If an event has a negative impact on the home team, the mean will be negative."
   ]
  },
  {
   "cell_type": "code",
   "execution_count": 279,
   "metadata": {
    "collapsed": false
   },
   "outputs": [],
   "source": [
    "dm['veventvalue'] = np.where(dm['TeamCode'] == dm['VTeamCode'], dm['eventvalue'], -(dm['eventvalue']))"
   ]
  },
  {
   "cell_type": "markdown",
   "metadata": {},
   "source": [
    "## 14) assign values to each player dependent on the ice-events they participated in."
   ]
  },
  {
   "cell_type": "code",
   "execution_count": null,
   "metadata": {
    "collapsed": true
   },
   "outputs": [],
   "source": []
  }
 ],
 "metadata": {
  "kernelspec": {
   "display_name": "Python 3",
   "language": "python",
   "name": "python3"
  },
  "language_info": {
   "codemirror_mode": {
    "name": "ipython",
    "version": 3
   },
   "file_extension": ".py",
   "mimetype": "text/x-python",
   "name": "python",
   "nbconvert_exporter": "python",
   "pygments_lexer": "ipython3",
   "version": "3.6.0"
  }
 },
 "nbformat": 4,
 "nbformat_minor": 2
}
