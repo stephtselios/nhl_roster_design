{
 "cells": [
  {
   "cell_type": "markdown",
   "metadata": {},
   "source": [
    "Player evaluation will be conducted prior to roster design, as it weighs the overall performance of each player from each game throughout the course of a season. Total Hockey Rating (THoR) is an all-inclusive statistic rating of all NHL defensemen and forwards incidental to all on-ice events. All events of a game are documented and appointed a value determined by the probability that event generated a goal. "
   ]
  },
  {
   "cell_type": "markdown",
   "metadata": {},
   "source": [
    "### purpose of notebook:"
   ]
  },
  {
   "cell_type": "markdown",
   "metadata": {},
   "source": [
    "a) generate a variable that will show the time difference between a goal and all events that happened prior.\n"
   ]
  },
  {
   "cell_type": "markdown",
   "metadata": {},
   "source": [
    "b) keep only events that happened 20 seconds prior to a goal."
   ]
  },
  {
   "cell_type": "markdown",
   "metadata": {},
   "source": [
    "c) group events by goal number to count the occurance of each event prior to a goal."
   ]
  },
  {
   "cell_type": "markdown",
   "metadata": {},
   "source": [
    "d) sum by event type to display the incidence of each event in two games."
   ]
  },
  {
   "cell_type": "markdown",
   "metadata": {},
   "source": [
    "e) establish the impact of each event on a goal."
   ]
  },
  {
   "cell_type": "markdown",
   "metadata": {},
   "source": [
    "f) deterime if events have a positive or negative impact on each team."
   ]
  },
  {
   "cell_type": "markdown",
   "metadata": {},
   "source": [
    "g) assign values to players based on their participation in events that led to a goal."
   ]
  },
  {
   "cell_type": "markdown",
   "metadata": {},
   "source": [
    "##  import modules"
   ]
  },
  {
   "cell_type": "code",
   "execution_count": 44,
   "metadata": {
    "collapsed": true
   },
   "outputs": [],
   "source": [
    "import sys\n",
    "import os\n",
    "import pandas as pd\n",
    "import numpy as np\n",
    "import datetime, time\n",
    "import matplotlib.pyplot as plt\n",
    "import statsmodels.api as sm\n",
    "from statsmodels.formula.api import ols\n",
    "from pylab import hist, show\n",
    "import scipy"
   ]
  },
  {
   "cell_type": "markdown",
   "metadata": {},
   "source": [
    "## import data frame"
   ]
  },
  {
   "cell_type": "markdown",
   "metadata": {},
   "source": [
    "The merged data frame created in the roster_design_stephanos notebook is imported and used for player evaluation."
   ]
  },
  {
   "cell_type": "code",
   "execution_count": 45,
   "metadata": {
    "collapsed": true
   },
   "outputs": [],
   "source": [
    "dm = pd.read_csv('pbpmerge.csv')"
   ]
  },
  {
   "cell_type": "markdown",
   "metadata": {},
   "source": [
    "## drop unnamed column (irrelevant)"
   ]
  },
  {
   "cell_type": "code",
   "execution_count": 46,
   "metadata": {
    "collapsed": true
   },
   "outputs": [],
   "source": [
    "dm = dm.drop('Unnamed: 0', axis=1)"
   ]
  },
  {
   "cell_type": "markdown",
   "metadata": {},
   "source": [
    "## a list of the columns in pbpmerge data frame"
   ]
  },
  {
   "cell_type": "code",
   "execution_count": 47,
   "metadata": {
    "collapsed": false
   },
   "outputs": [
    {
     "data": {
      "text/plain": [
       "Index(['Season', 'GameNumber', 'EventNumber', 'Period', 'AdvantageType',\n",
       "       'EventTimeFromZero', 'EventTimeFromTwenty', 'EventType', 'EventDetail',\n",
       "       'VPlayer1', 'VPlayer1Position', 'VPlayer2', 'VPlayer2Position',\n",
       "       'VPlayer3', 'VPlayer3Position', 'VPlayer4', 'VPlayer4Position',\n",
       "       'VPlayer5', 'VPlayer5Position', 'VPlayer6', 'VPlayer6Position',\n",
       "       'HPlayer1', 'HPlayer1Position', 'HPlayer2', 'HPlayer2Position',\n",
       "       'HPlayer3', 'HPlayer3Position', 'HPlayer4', 'HPlayer4Position',\n",
       "       'HPlayer5', 'HPlayer5Position', 'HPlayer6', 'HPlayer6Position',\n",
       "       'TeamCode', 'PlayerNumber', 'PlayerName', 'ShotType', 'Zone', 'Length',\n",
       "       'ShotResult', 'ShotTeamCode', 'ShotPlayerNumber', 'ShotPlayerName',\n",
       "       'WinTeamCode', 'VTeamCode', 'VPlayerNumber', 'VPlayerName', 'HTeamCode',\n",
       "       'HPlayerNumber', 'HPlayerName', 'HitterTeamCode', 'HitterPlayerNumber',\n",
       "       'HitterPlayerName', 'HitteeTeamCode', 'HitteePlayerNumber',\n",
       "       'HitteePlayerName', 'PenaltyTeamCode', 'PenaltyPlayerNumber',\n",
       "       'PenaltyPlayerName', 'PenaltyType', 'DrawnByTeamCode',\n",
       "       'DrawnByPlayerNumber', 'DrawnByPlayerName', 'GameDate', 'GoalNumber',\n",
       "       'GoalTime', 'Assist1Player', 'Assist2Player'],\n",
       "      dtype='object')"
      ]
     },
     "execution_count": 47,
     "metadata": {},
     "output_type": "execute_result"
    }
   ],
   "source": [
    "dm.columns"
   ]
  },
  {
   "cell_type": "markdown",
   "metadata": {},
   "source": [
    "## fill in team code for all type of events"
   ]
  },
  {
   "cell_type": "markdown",
   "metadata": {},
   "source": [
    "For team code column not to be missing any data, **numpy where** is used. It is a command that assigns values to team code based on the event type and the outcome of that event. "
   ]
  },
  {
   "cell_type": "markdown",
   "metadata": {},
   "source": [
    "- if an event is a faceoff, the team that won the faceoff will be assigned to 'TeamCode'. "
   ]
  },
  {
   "cell_type": "markdown",
   "metadata": {},
   "source": [
    "- if an event is a hit, the team that registered a hit will be assigned to 'TeamCode'. "
   ]
  },
  {
   "cell_type": "markdown",
   "metadata": {},
   "source": [
    "- if an event is a penalty, the team that committed the penalty will be assigned to 'TeamCode'."
   ]
  },
  {
   "cell_type": "code",
   "execution_count": 48,
   "metadata": {
    "collapsed": false
   },
   "outputs": [],
   "source": [
    "dm['TeamCode'] = np.where(dm['EventType'] == 'FAC', dm['WinTeamCode'],\n",
    "                             (np.where(dm['EventType'] == 'HIT', dm['HitterTeamCode'],\n",
    "                                       (np.where(dm['EventType'] == 'PENL', dm['PenaltyTeamCode'], dm['TeamCode'])))))"
   ]
  },
  {
   "cell_type": "markdown",
   "metadata": {},
   "source": [
    "## fill in home and visitor team code "
   ]
  },
  {
   "cell_type": "markdown",
   "metadata": {},
   "source": [
    "To confirm there are no missing data, home and visitor team code are filled in *backwards*. "
   ]
  },
  {
   "cell_type": "markdown",
   "metadata": {},
   "source": [
    " - visitor team code for all events prior to a goal filled in backwards"
   ]
  },
  {
   "cell_type": "code",
   "execution_count": 50,
   "metadata": {
    "collapsed": true
   },
   "outputs": [],
   "source": [
    "dm['VTeamCode'] = dm['VTeamCode'].fillna(method='bfill')"
   ]
  },
  {
   "cell_type": "markdown",
   "metadata": {},
   "source": [
    " - home team code for all events prior to a goal filled in backwards"
   ]
  },
  {
   "cell_type": "code",
   "execution_count": 49,
   "metadata": {
    "collapsed": true
   },
   "outputs": [],
   "source": [
    "dm['HTeamCode'] = dm['HTeamCode'].fillna(method='bfill')"
   ]
  },
  {
   "cell_type": "markdown",
   "metadata": {},
   "source": [
    "##  fill in variables goal number and goal time with values"
   ]
  },
  {
   "cell_type": "markdown",
   "metadata": {},
   "source": [
    "Goal number and goal time values will be assigned to every event, dependent on the number of goals scored in a game and the time (from zero) they happened. Since events that occured **prior to a goal** are being examined, *fill in backwards method* is used. This will assist with the calculation of time difference between a goal and a given event."
   ]
  },
  {
   "cell_type": "markdown",
   "metadata": {},
   "source": [
    " - goal number for all events prior to a goal filled in backwards"
   ]
  },
  {
   "cell_type": "code",
   "execution_count": 51,
   "metadata": {
    "collapsed": false
   },
   "outputs": [],
   "source": [
    "dm['GoalNumber']= dm['GoalNumber'].fillna(method='bfill')"
   ]
  },
  {
   "cell_type": "markdown",
   "metadata": {},
   "source": [
    "- goal time for all events prior to a goal filled in backwards"
   ]
  },
  {
   "cell_type": "code",
   "execution_count": 52,
   "metadata": {
    "collapsed": false
   },
   "outputs": [],
   "source": [
    "dm['GoalTime'] = dm['GoalTime'].fillna(method='bfill')"
   ]
  },
  {
   "cell_type": "markdown",
   "metadata": {},
   "source": [
    "## generate a variable that will calculate the time difference between goal and events"
   ]
  },
  {
   "cell_type": "markdown",
   "metadata": {},
   "source": [
    "The time difference between a goal and an event is calculated as followed: "
   ]
  },
  {
   "cell_type": "code",
   "execution_count": 53,
   "metadata": {
    "collapsed": false
   },
   "outputs": [],
   "source": [
    "dm['TBGoalandEvent'] = dm['GoalTime'] - dm['EventTimeFromZero']"
   ]
  },
  {
   "cell_type": "markdown",
   "metadata": {},
   "source": [
    "## keep only events that happened 20 seconds prior to goal"
   ]
  },
  {
   "cell_type": "markdown",
   "metadata": {},
   "source": [
    "The playler evaluation model uses only events that happened 20 seconds prior to a goal. If the time between a goal and an event exceeds 20 seconds, the event will not be included in the dataframe. Thus:"
   ]
  },
  {
   "cell_type": "code",
   "execution_count": 55,
   "metadata": {
    "collapsed": false
   },
   "outputs": [],
   "source": [
    "dm = dm[dm['TBGoalandEvent'] <= 20]"
   ]
  },
  {
   "cell_type": "code",
   "execution_count": 56,
   "metadata": {
    "collapsed": false
   },
   "outputs": [],
   "source": [
    "dm = dm[dm['TBGoalandEvent'] >= 0]"
   ]
  },
  {
   "cell_type": "markdown",
   "metadata": {},
   "source": [
    "## create a column that will show the total observations for two games"
   ]
  },
  {
   "cell_type": "markdown",
   "metadata": {},
   "source": [
    "the data is grouped by season to count the total occurance of events that happened 20 seconds prior to a goal, in the first two games of the season"
   ]
  },
  {
   "cell_type": "code",
   "execution_count": 57,
   "metadata": {
    "collapsed": false
   },
   "outputs": [],
   "source": [
    "dm['Counts'] = dm.groupby('Season')['EventType'].transform('count')"
   ]
  },
  {
   "cell_type": "markdown",
   "metadata": {},
   "source": [
    "## create columns for each type of event and assign values to determine the impact they have on a goal"
   ]
  },
  {
   "cell_type": "markdown",
   "metadata": {},
   "source": [
    "Values are appointed to eight even strengths events: face-off, shot on goal, missed shot, penalty, hit, takeaway, giveaway and goal."
   ]
  },
  {
   "cell_type": "markdown",
   "metadata": {},
   "source": [
    " - create a column that assigns a value of 1 to block events and a value of 0 to every non block event"
   ]
  },
  {
   "cell_type": "code",
   "execution_count": 58,
   "metadata": {
    "collapsed": true
   },
   "outputs": [],
   "source": [
    "dm['block'] = np.where(dm['EventType'] == 'BLOCK', 1, 0)"
   ]
  },
  {
   "cell_type": "markdown",
   "metadata": {},
   "source": [
    " - create a column that assigns a value of 1 to faceoff events and a value of 0 to every non faceoff event"
   ]
  },
  {
   "cell_type": "code",
   "execution_count": 59,
   "metadata": {
    "collapsed": true
   },
   "outputs": [],
   "source": [
    "dm['faceoff'] = np.where(dm['EventType'] == 'FAC', 1, 0)"
   ]
  },
  {
   "cell_type": "markdown",
   "metadata": {},
   "source": [
    " - create a column that assigns a value of 1 to giveaway events and a value of 0 to every non giveaway event"
   ]
  },
  {
   "cell_type": "code",
   "execution_count": 60,
   "metadata": {
    "collapsed": true
   },
   "outputs": [],
   "source": [
    "dm['giveaway'] = np.where(dm['EventType'] == 'GIVE', 1, 0)"
   ]
  },
  {
   "cell_type": "markdown",
   "metadata": {},
   "source": [
    "- create a column that assigns a value of 1 to goal events and a value of 0 to every non goal event"
   ]
  },
  {
   "cell_type": "code",
   "execution_count": 61,
   "metadata": {
    "collapsed": true
   },
   "outputs": [],
   "source": [
    "dm['goal'] = np.where(dm['EventType'] == 'GOAL', 1, 0)"
   ]
  },
  {
   "cell_type": "markdown",
   "metadata": {},
   "source": [
    "- create a column that assigns a value of 1 to hit events and a value of 0 to every non hit event"
   ]
  },
  {
   "cell_type": "code",
   "execution_count": 62,
   "metadata": {
    "collapsed": true
   },
   "outputs": [],
   "source": [
    "dm['hit'] = np.where(dm['EventType'] == 'HIT', 1, 0)"
   ]
  },
  {
   "cell_type": "markdown",
   "metadata": {},
   "source": [
    "- create a column that assigns a value of 1 to miss events and a value of 0 to every non miss shot event"
   ]
  },
  {
   "cell_type": "code",
   "execution_count": 63,
   "metadata": {
    "collapsed": true
   },
   "outputs": [],
   "source": [
    "dm['miss'] = np.where(dm['EventType'] == 'MISS', 1, 0)"
   ]
  },
  {
   "cell_type": "markdown",
   "metadata": {},
   "source": [
    " - create a column that assigns a value of 1 to penalty events and a value of 0 to every non penalty events"
   ]
  },
  {
   "cell_type": "code",
   "execution_count": 64,
   "metadata": {
    "collapsed": true
   },
   "outputs": [],
   "source": [
    "dm['penalty'] = np.where(dm['EventType'] == 'PENL', 1, 0)"
   ]
  },
  {
   "cell_type": "markdown",
   "metadata": {},
   "source": [
    "- create a column that assigns a value of 1 to shot events and a value of 0 to every non shot events"
   ]
  },
  {
   "cell_type": "code",
   "execution_count": 65,
   "metadata": {
    "collapsed": true
   },
   "outputs": [],
   "source": [
    "dm['shot'] = np.where(dm['EventType'] == 'SHOT', 1, 0)"
   ]
  },
  {
   "cell_type": "markdown",
   "metadata": {},
   "source": [
    " - create a column that assigns a value of 1 to takeaway events and a value of 0 to non takeaway events"
   ]
  },
  {
   "cell_type": "code",
   "execution_count": 66,
   "metadata": {
    "collapsed": true
   },
   "outputs": [],
   "source": [
    "dm['takeaway'] = np.where(dm['EventType'] == 'TAKE', 1, 0)"
   ]
  },
  {
   "cell_type": "markdown",
   "metadata": {},
   "source": [
    "## display of each event leading to a goal for two games"
   ]
  },
  {
   "cell_type": "markdown",
   "metadata": {
    "collapsed": true
   },
   "source": [
    "The below table lists the occurance of each event type prior to each goal."
   ]
  },
  {
   "cell_type": "code",
   "execution_count": 67,
   "metadata": {
    "collapsed": false
   },
   "outputs": [],
   "source": [
    "dy = dm.groupby(['Season','GameNumber', 'GoalNumber', 'EventType']).size()"
   ]
  },
  {
   "cell_type": "markdown",
   "metadata": {},
   "source": [
    "## create a variable that will display the value of each event "
   ]
  },
  {
   "cell_type": "markdown",
   "metadata": {},
   "source": [
    "All events that happened 20 seconds prior to a goal are counted. The **mean** is used to establish the impact each event has on a goal."
   ]
  },
  {
   "cell_type": "markdown",
   "metadata": {},
   "source": [
    "Fist step is to determine if an event has a positive or negative impact on a goal:"
   ]
  },
  {
   "cell_type": "markdown",
   "metadata": {},
   "source": [
    " - giveaway has a negative impact on the team that lost possession."
   ]
  },
  {
   "cell_type": "markdown",
   "metadata": {},
   "source": [
    " - faceoff has a positive impact on the team that won the faceoff and a negative impact for the team that lost. "
   ]
  },
  {
   "cell_type": "markdown",
   "metadata": {},
   "source": [
    "- hit has a positive impact for the team that delivered the hit and a negative impact on the team that received the hit."
   ]
  },
  {
   "cell_type": "markdown",
   "metadata": {},
   "source": [
    "- penalty has a positive impact on the team that drew the penalty and a negative impact on the team serving. "
   ]
  },
  {
   "cell_type": "markdown",
   "metadata": {},
   "source": [
    " - takeaway has a positive impact on the team that stole the puck and have possession."
   ]
  },
  {
   "cell_type": "code",
   "execution_count": 68,
   "metadata": {
    "collapsed": false
   },
   "outputs": [],
   "source": [
    "dm['eventvalue'] = np.where(dm['EventType'] == 'BLOCK', dm['block'].mean(),\n",
    "                             (np.where(dm['EventType'] == 'FAC', dm['faceoff'].mean(),\n",
    "                                       (np.where(dm['EventType'] == 'GIVE', -(dm['giveaway'].mean()),\n",
    "                                                 (np.where(dm['EventType'] == 'GOAL', dm['goal'].mean(),\n",
    "                                                          (np.where(dm['EventType'] == 'HIT', dm['hit'].mean(),\n",
    "                                                                   (np.where(dm['EventType'] == 'MISS', dm['miss'].mean(),\n",
    "                                                                            (np.where(dm['EventType'] == 'PENL', -(dm['penalty'].mean()),\n",
    "                                                                                     (np.where(dm['EventType'] == 'SHOT', dm['shot'].mean(),\n",
    "                                                                                              (np.where(dm['EventType'] == 'TAKE', dm['takeaway'].mean(), 0)))))))))))))))))"
   ]
  },
  {
   "cell_type": "markdown",
   "metadata": {},
   "source": [
    "All event types have been assigned a value based on the impact they had on a goal. "
   ]
  },
  {
   "cell_type": "markdown",
   "metadata": {},
   "source": [
    "##  create event value for home and visitor teams"
   ]
  },
  {
   "cell_type": "markdown",
   "metadata": {},
   "source": [
    "Each event has an effect on both home and visitor team. An event that has a positive impact on the home team will have a negative impact on the visitor team. Similarly, an event that has a negative effect on the home team, will have a positive effect on the visitor team."
   ]
  },
  {
   "cell_type": "markdown",
   "metadata": {},
   "source": [
    "- If an event has a positive impact on the **home team**, the mean will be positive. If an event has a negative impact on the home team, the mean will be negative."
   ]
  },
  {
   "cell_type": "code",
   "execution_count": 69,
   "metadata": {
    "collapsed": false
   },
   "outputs": [],
   "source": [
    "dm['heventvalue'] = np.where(dm['TeamCode'] == dm['HTeamCode'], dm['eventvalue'], -(dm['eventvalue']))"
   ]
  },
  {
   "cell_type": "markdown",
   "metadata": {},
   "source": [
    "- If an event has a positive impact on the **visitor team**, the mean will be positive. If an event has a negative impact on the home team, the mean will be negative."
   ]
  },
  {
   "cell_type": "code",
   "execution_count": 70,
   "metadata": {
    "collapsed": false
   },
   "outputs": [],
   "source": [
    "dm['veventvalue'] = np.where(dm['TeamCode'] == dm['VTeamCode'], dm['eventvalue'], -(dm['eventvalue']))"
   ]
  },
  {
   "cell_type": "markdown",
   "metadata": {},
   "source": [
    "## assign values to each player "
   ]
  },
  {
   "cell_type": "markdown",
   "metadata": {},
   "source": [
    "The value of an event is assigned to all players that were on ice, a total of 12 players (6 per team). The overall contribution of each player is the total (sum) of events they participated in. "
   ]
  },
  {
   "cell_type": "markdown",
   "metadata": {},
   "source": [
    "### a) Overall contribution of each player from the visitor team in all (6) positions "
   ]
  },
  {
   "cell_type": "markdown",
   "metadata": {},
   "source": [
    "Group data frame by season, visitor team code and visitor player position to seperate players that play in the same position. "
   ]
  },
  {
   "cell_type": "markdown",
   "metadata": {},
   "source": [
    "- create variable that evaluates the overall contribution of each player from the visitor team that is listed as \"VPlayer1\""
   ]
  },
  {
   "cell_type": "code",
   "execution_count": 84,
   "metadata": {
    "collapsed": false
   },
   "outputs": [],
   "source": [
    "dm['vp1'] = dm.groupby(['Season', 'VTeamCode', 'VPlayer1'])['veventvalue'].transform('sum')"
   ]
  },
  {
   "cell_type": "markdown",
   "metadata": {},
   "source": [
    "- create variable that evaluates each player from the visitor team that is listed as \"VPlayer2\""
   ]
  },
  {
   "cell_type": "code",
   "execution_count": 72,
   "metadata": {
    "collapsed": true
   },
   "outputs": [],
   "source": [
    "dm['vp2'] = dm.groupby(['Season', 'VTeamCode', 'VPlayer2'])['veventvalue'].transform('sum')"
   ]
  },
  {
   "cell_type": "markdown",
   "metadata": {},
   "source": [
    "- create variable that evaluates each player from the visitor team that is listed as \"VPlayer3\""
   ]
  },
  {
   "cell_type": "code",
   "execution_count": 73,
   "metadata": {
    "collapsed": true
   },
   "outputs": [],
   "source": [
    "dm['vp3'] = dm.groupby(['Season', 'VTeamCode', 'VPlayer3'])['veventvalue'].transform('sum')"
   ]
  },
  {
   "cell_type": "markdown",
   "metadata": {},
   "source": [
    "- create variable that evaluates each player from the visitor team that is listed as \"VPlayer4\""
   ]
  },
  {
   "cell_type": "code",
   "execution_count": 74,
   "metadata": {
    "collapsed": true
   },
   "outputs": [],
   "source": [
    "dm['vp4'] = dm.groupby(['Season', 'VTeamCode', 'VPlayer4'])['veventvalue'].transform('sum')"
   ]
  },
  {
   "cell_type": "markdown",
   "metadata": {},
   "source": [
    "- create variable that evaluates each player from the visitor team that is listed as \"VPlayer5\""
   ]
  },
  {
   "cell_type": "code",
   "execution_count": 75,
   "metadata": {
    "collapsed": true
   },
   "outputs": [],
   "source": [
    "dm['vp5'] = dm.groupby(['Season', 'VTeamCode', 'VPlayer5'])['veventvalue'].transform('sum')"
   ]
  },
  {
   "cell_type": "markdown",
   "metadata": {},
   "source": [
    "- create variable that evaluates each player from the visitor team that is listed as \"VPlayer6\""
   ]
  },
  {
   "cell_type": "code",
   "execution_count": 76,
   "metadata": {
    "collapsed": true
   },
   "outputs": [],
   "source": [
    "dm['vp6'] = dm.groupby(['Season', 'VTeamCode', 'VPlayer6'])['veventvalue'].transform('sum')"
   ]
  },
  {
   "cell_type": "markdown",
   "metadata": {},
   "source": [
    "### b) Overall contribution of each player from the home team in all (6) positions"
   ]
  },
  {
   "cell_type": "markdown",
   "metadata": {},
   "source": [
    "Group data frame by season, home team code and home player position to seperate players that play in the same position. "
   ]
  },
  {
   "cell_type": "markdown",
   "metadata": {},
   "source": [
    "- create variable that evaluates each player from the home team that is listed as \"HPlayer1\""
   ]
  },
  {
   "cell_type": "code",
   "execution_count": 77,
   "metadata": {
    "collapsed": true
   },
   "outputs": [],
   "source": [
    "dm['hp1'] = dm.groupby(['Season', 'HTeamCode', 'HPlayer1'])['heventvalue'].transform('sum')"
   ]
  },
  {
   "cell_type": "markdown",
   "metadata": {},
   "source": [
    "- create variable that evaluates each player from the home team that is listed as \"HPlayer2\""
   ]
  },
  {
   "cell_type": "code",
   "execution_count": 78,
   "metadata": {
    "collapsed": true
   },
   "outputs": [],
   "source": [
    "dm['hp2'] = dm.groupby(['Season', 'HTeamCode', 'HPlayer2'])['heventvalue'].transform('sum')"
   ]
  },
  {
   "cell_type": "markdown",
   "metadata": {},
   "source": [
    "- create variable that evaluates each player from the home team that is listed as \"HPlayer3\""
   ]
  },
  {
   "cell_type": "code",
   "execution_count": 79,
   "metadata": {
    "collapsed": true
   },
   "outputs": [],
   "source": [
    "dm['hp3'] = dm.groupby(['Season', 'HTeamCode', 'HPlayer3'])['heventvalue'].transform('mean')"
   ]
  },
  {
   "cell_type": "markdown",
   "metadata": {},
   "source": [
    "- create variable that evaluates each player from the home team that is listed as \"HPlayer4\""
   ]
  },
  {
   "cell_type": "code",
   "execution_count": 80,
   "metadata": {
    "collapsed": true
   },
   "outputs": [],
   "source": [
    "dm['hp4'] = dm.groupby(['Season', 'HTeamCode', 'HPlayer4'])['heventvalue'].transform('sum')"
   ]
  },
  {
   "cell_type": "markdown",
   "metadata": {},
   "source": [
    "- create variable that evaluates each player from the home team that is listed as \"HPlayer5\""
   ]
  },
  {
   "cell_type": "code",
   "execution_count": 81,
   "metadata": {
    "collapsed": true
   },
   "outputs": [],
   "source": [
    "dm['hp5'] = dm.groupby(['Season', 'HTeamCode', 'HPlayer5'])['heventvalue'].transform('sum')"
   ]
  },
  {
   "cell_type": "markdown",
   "metadata": {},
   "source": [
    "- create variable that evaluates each player from the home team that is listed as \"HPlayer6\""
   ]
  },
  {
   "cell_type": "code",
   "execution_count": 82,
   "metadata": {
    "collapsed": true
   },
   "outputs": [],
   "source": [
    "dm['hp6'] = dm.groupby(['Season', 'HTeamCode', 'HPlayer6'])['heventvalue'].transform('sum')"
   ]
  },
  {
   "cell_type": "markdown",
   "metadata": {},
   "source": [
    "## players that play in multiple positions."
   ]
  },
  {
   "cell_type": "markdown",
   "metadata": {},
   "source": [
    "Throughout the duration of a game, a player may change position. As mentioned above, the overall impact of a given player is the total (sum) of events he participated in. To properly measure each player's contribution, a cross examination per position must be applied. "
   ]
  },
  {
   "cell_type": "markdown",
   "metadata": {},
   "source": [
    "- a) cross examine each position for visitor team."
   ]
  },
  {
   "cell_type": "markdown",
   "metadata": {
    "collapsed": true
   },
   "source": [
    "- b) cross examine each position for home team."
   ]
  },
  {
   "cell_type": "code",
   "execution_count": null,
   "metadata": {
    "collapsed": true
   },
   "outputs": [],
   "source": []
  }
 ],
 "metadata": {
  "kernelspec": {
   "display_name": "Python 3",
   "language": "python",
   "name": "python3"
  },
  "language_info": {
   "codemirror_mode": {
    "name": "ipython",
    "version": 3
   },
   "file_extension": ".py",
   "mimetype": "text/x-python",
   "name": "python",
   "nbconvert_exporter": "python",
   "pygments_lexer": "ipython3",
   "version": "3.6.0"
  }
 },
 "nbformat": 4,
 "nbformat_minor": 2
}
