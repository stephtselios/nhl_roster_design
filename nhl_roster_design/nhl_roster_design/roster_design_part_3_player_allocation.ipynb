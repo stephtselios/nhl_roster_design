{
 "cells": [
  {
   "cell_type": "markdown",
   "metadata": {},
   "source": [
    "# Player Allocation"
   ]
  },
  {
   "cell_type": "markdown",
   "metadata": {},
   "source": [
    "Upon completion of evaluation of overall performance for all skaters, each player will be categorized and assigned to their respectful position within the roster of their team. The fundamental statistic used to differentiate top from bottom players, is zone start percentage. There are three zones from where plays can be started: offensive, neutral and defensive. Offensive zone start percentage is calculated by the number of face-offs held in the attacking area divided by the sum of face-offs an individual player was on the ice for. Identically, defensive zone start percentage is computed by the number of face-offs taken in their own territory divided by the total face-offs each player was on the ice for. Skaters who are talented in creating opportunities and producing goals will have a greater percentage of offensive zone starts in comparison to defensive zone starts. Equivalently, players who are skilled in preventing chances and goals being conceded, will have a higher defensive zone start percentage in correlation to offensive zone starts. In other words, top six forwards and top four pairing defensemen will start much of their shifts in the zone their opponent whereas bottom six forwards and bottom pairing defensemen in their own zone.\n"
   ]
  },
  {
   "cell_type": "markdown",
   "metadata": {},
   "source": [
    "### purpose of notebook:"
   ]
  },
  {
   "cell_type": "markdown",
   "metadata": {},
   "source": [
    "a) create two variables: offensive zone start and defensive zone start."
   ]
  },
  {
   "cell_type": "markdown",
   "metadata": {},
   "source": [
    "b) sum up the total offensive and defensive zone start per player."
   ]
  },
  {
   "cell_type": "markdown",
   "metadata": {},
   "source": [
    "c) categorize forwards into top and bottom six."
   ]
  },
  {
   "cell_type": "markdown",
   "metadata": {},
   "source": [
    "d) categorize defensemen into top four and bottom pairing."
   ]
  },
  {
   "cell_type": "markdown",
   "metadata": {},
   "source": [
    "e) determine each player's roster depth position"
   ]
  },
  {
   "cell_type": "markdown",
   "metadata": {},
   "source": [
    "##  import modules"
   ]
  },
  {
   "cell_type": "code",
   "execution_count": 1,
   "metadata": {
    "collapsed": true
   },
   "outputs": [],
   "source": [
    "import sys\n",
    "import os\n",
    "import pandas as pd\n",
    "import numpy as np\n",
    "import datetime, time\n",
    "import matplotlib.pyplot as plt\n",
    "import statsmodels.api as sm\n",
    "from statsmodels.formula.api import ols\n",
    "from pylab import hist, show\n",
    "import scipy"
   ]
  },
  {
   "cell_type": "markdown",
   "metadata": {},
   "source": [
    "## import data frame"
   ]
  },
  {
   "cell_type": "markdown",
   "metadata": {},
   "source": [
    "The player evaluation data frame is used for player allocation."
   ]
  },
  {
   "cell_type": "code",
   "execution_count": 2,
   "metadata": {
    "collapsed": false
   },
   "outputs": [],
   "source": [
    "dm = pd.read_csv('player_evaluation.csv')"
   ]
  },
  {
   "cell_type": "markdown",
   "metadata": {},
   "source": [
    "## drop unnamed column (irrelevant)"
   ]
  },
  {
   "cell_type": "code",
   "execution_count": 3,
   "metadata": {
    "collapsed": true
   },
   "outputs": [],
   "source": [
    "dm = dm.drop('Unnamed: 0', axis=1)"
   ]
  },
  {
   "cell_type": "markdown",
   "metadata": {},
   "source": [
    "## zone start"
   ]
  },
  {
   "cell_type": "markdown",
   "metadata": {},
   "source": [
    "With the help of zone variable, offensive, neutral and defensive zone starts will be created."
   ]
  },
  {
   "cell_type": "markdown",
   "metadata": {},
   "source": [
    "**zone start variable:** "
   ]
  },
  {
   "cell_type": "markdown",
   "metadata": {},
   "source": [
    "- a value of 1 will be assigned if the on-ice event happened in the offensive zone."
   ]
  },
  {
   "cell_type": "markdown",
   "metadata": {},
   "source": [
    "- a value of 0 will be assigned if the on-ice event happened in the neutral zone."
   ]
  },
  {
   "cell_type": "markdown",
   "metadata": {},
   "source": [
    "- a value of -1 if it happened in the defensive zone of the representative team."
   ]
  },
  {
   "cell_type": "code",
   "execution_count": 4,
   "metadata": {
    "collapsed": true
   },
   "outputs": [],
   "source": [
    "dm['zs'] = np.where(dm['Zone'] == 'O', 1,\n",
    "                    (np.where(dm['Zone'] == 'D', -1, 0)))"
   ]
  },
  {
   "cell_type": "markdown",
   "metadata": {},
   "source": [
    "## home and visitor zone start"
   ]
  },
  {
   "cell_type": "markdown",
   "metadata": {},
   "source": [
    "- visitor team zone start (vzs)"
   ]
  },
  {
   "cell_type": "markdown",
   "metadata": {},
   "source": [
    "If team code of event is the same as visitor team, the visitor zone start variable will be assigned identical value to zone start. If not, it will be assigned the opposite (negative) value of zone start. "
   ]
  },
  {
   "cell_type": "code",
   "execution_count": 5,
   "metadata": {
    "collapsed": false
   },
   "outputs": [],
   "source": [
    "dm['vzs'] = np.where(dm['TeamCode'] == dm['VTeamCode'], dm['zs'], -dm['zs'] )"
   ]
  },
  {
   "cell_type": "markdown",
   "metadata": {},
   "source": [
    "- home team zone start (hzs) "
   ]
  },
  {
   "cell_type": "markdown",
   "metadata": {},
   "source": [
    "If team code of event is the same as home team, the home team will be assigned identical value to zone start. If not, it will be assigned the opposite (negative) value of zone start. "
   ]
  },
  {
   "cell_type": "code",
   "execution_count": 6,
   "metadata": {
    "collapsed": false
   },
   "outputs": [],
   "source": [
    "dm['hzs'] = np.where(dm['TeamCode'] == dm['HTeamCode'], dm['zs'], -dm['zs'] )"
   ]
  },
  {
   "cell_type": "markdown",
   "metadata": {},
   "source": [
    "## assign zone start to players"
   ]
  },
  {
   "cell_type": "markdown",
   "metadata": {},
   "source": [
    "The value of zone start is assigned to all players that were on ice, a total of 12 players (6 per team). The overall zone start variable of each player is the total (sum) of events they participated in. "
   ]
  },
  {
   "cell_type": "markdown",
   "metadata": {},
   "source": [
    "### a) overall zone start of each player from the visitor team in all (6) positions "
   ]
  },
  {
   "cell_type": "markdown",
   "metadata": {},
   "source": [
    "Group data frame by season, visitor team code and visitor player position to seperate players that play in the same position. "
   ]
  },
  {
   "cell_type": "markdown",
   "metadata": {},
   "source": [
    "- create variable that sums up the overall zone start of each player from the visitor team that is listed as \"VPlayer1\""
   ]
  },
  {
   "cell_type": "code",
   "execution_count": 7,
   "metadata": {
    "collapsed": true
   },
   "outputs": [],
   "source": [
    "dm['zvp1'] = dm.groupby(['Season', 'VTeamCode', 'VPlayer1'])['vzs'].transform('sum')"
   ]
  },
  {
   "cell_type": "markdown",
   "metadata": {},
   "source": [
    "- create variable that sums up the overall zone start of each player from the visitor team that is listed as \"VPlayer2\""
   ]
  },
  {
   "cell_type": "code",
   "execution_count": 8,
   "metadata": {
    "collapsed": false
   },
   "outputs": [],
   "source": [
    "dm['zvp2'] = dm.groupby(['Season', 'VTeamCode', 'VPlayer2'])['vzs'].transform('sum')"
   ]
  },
  {
   "cell_type": "markdown",
   "metadata": {},
   "source": [
    "- create variable that sums up the overall zone start of each player from the visitor team that is listed as \"VPlayer3\""
   ]
  },
  {
   "cell_type": "code",
   "execution_count": 9,
   "metadata": {
    "collapsed": true
   },
   "outputs": [],
   "source": [
    "dm['zvp3'] = dm.groupby(['Season', 'VTeamCode', 'VPlayer3'])['vzs'].transform('sum')"
   ]
  },
  {
   "cell_type": "markdown",
   "metadata": {},
   "source": [
    "- create variable that sums up the overall zone start of each player from the visitor team that is listed as \"VPlayer4\""
   ]
  },
  {
   "cell_type": "code",
   "execution_count": 10,
   "metadata": {
    "collapsed": true
   },
   "outputs": [],
   "source": [
    "dm['zvp4'] = dm.groupby(['Season', 'VTeamCode', 'VPlayer4'])['vzs'].transform('sum')"
   ]
  },
  {
   "cell_type": "markdown",
   "metadata": {},
   "source": [
    "- create variable that sums up the overall zone start of each player from the visitor team that is listed as \"VPlayer5\""
   ]
  },
  {
   "cell_type": "code",
   "execution_count": 11,
   "metadata": {
    "collapsed": true
   },
   "outputs": [],
   "source": [
    "dm['zvp5'] = dm.groupby(['Season', 'VTeamCode', 'VPlayer5'])['vzs'].transform('sum')"
   ]
  },
  {
   "cell_type": "markdown",
   "metadata": {},
   "source": [
    "- create variable that sums up the overall zone start of each player from the visitor team that is listed as \"VPlayer6\""
   ]
  },
  {
   "cell_type": "code",
   "execution_count": 12,
   "metadata": {
    "collapsed": true
   },
   "outputs": [],
   "source": [
    "dm['zvp6'] = dm.groupby(['Season', 'VTeamCode', 'VPlayer6'])['vzs'].transform('sum')"
   ]
  },
  {
   "cell_type": "markdown",
   "metadata": {},
   "source": [
    "### b) overall zone start of each player from the home team in all (6) positions"
   ]
  },
  {
   "cell_type": "markdown",
   "metadata": {},
   "source": [
    "Group data frame by season, home team code and home player position to seperate players that play in the same position."
   ]
  },
  {
   "cell_type": "markdown",
   "metadata": {},
   "source": [
    "- create variable that sums up the overall zone start of each player from the visitor team that is listed as \"HPlayer1\""
   ]
  },
  {
   "cell_type": "code",
   "execution_count": 13,
   "metadata": {
    "collapsed": true
   },
   "outputs": [],
   "source": [
    "dm['zhp1'] = dm.groupby(['Season', 'HTeamCode', 'HPlayer1'])['hzs'].transform('sum')"
   ]
  },
  {
   "cell_type": "markdown",
   "metadata": {},
   "source": [
    "- create variable that sums up the overall zone start of each player from the visitor team that is listed as \"HPlayer2\""
   ]
  },
  {
   "cell_type": "code",
   "execution_count": 14,
   "metadata": {
    "collapsed": true
   },
   "outputs": [],
   "source": [
    "dm['zhp2'] = dm.groupby(['Season', 'HTeamCode', 'HPlayer2'])['hzs'].transform('sum')"
   ]
  },
  {
   "cell_type": "markdown",
   "metadata": {},
   "source": [
    "- create variable that sums up the overall zone start of each player from the visitor team that is listed as \"HPlayer3\""
   ]
  },
  {
   "cell_type": "code",
   "execution_count": 15,
   "metadata": {
    "collapsed": true
   },
   "outputs": [],
   "source": [
    "dm['zhp3'] = dm.groupby(['Season', 'HTeamCode', 'HPlayer3'])['hzs'].transform('sum')"
   ]
  },
  {
   "cell_type": "markdown",
   "metadata": {},
   "source": [
    "- create variable that sums up the overall zone start of each player from the visitor team that is listed as \"HPlayer4\""
   ]
  },
  {
   "cell_type": "code",
   "execution_count": 16,
   "metadata": {
    "collapsed": true
   },
   "outputs": [],
   "source": [
    "dm['zhp4'] = dm.groupby(['Season', 'HTeamCode', 'HPlayer4'])['hzs'].transform('sum')"
   ]
  },
  {
   "cell_type": "markdown",
   "metadata": {},
   "source": [
    "- create variable that sums up the overall zone start of each player from the visitor team that is listed as \"HPlayer5\""
   ]
  },
  {
   "cell_type": "code",
   "execution_count": 17,
   "metadata": {
    "collapsed": true
   },
   "outputs": [],
   "source": [
    "dm['zhp5'] = dm.groupby(['Season', 'HTeamCode', 'HPlayer5'])['hzs'].transform('sum')"
   ]
  },
  {
   "cell_type": "markdown",
   "metadata": {},
   "source": [
    "- create variable that sums up the overall zone start of each player from the visitor team that is listed as \"HPlayer6\""
   ]
  },
  {
   "cell_type": "code",
   "execution_count": 18,
   "metadata": {
    "collapsed": true
   },
   "outputs": [],
   "source": [
    "dm['zhp6'] = dm.groupby(['Season', 'HTeamCode', 'HPlayer6'])['hzs'].transform('sum')"
   ]
  },
  {
   "cell_type": "markdown",
   "metadata": {},
   "source": [
    "## players that play in multiple positions"
   ]
  },
  {
   "cell_type": "markdown",
   "metadata": {},
   "source": [
    "Throughout the duration of a game, a player may change position. As mentioned above, the overall impact of a given player is the total (sum) of events he participated in. To properly measure each player's contribution, a cross examination per position must be applied."
   ]
  },
  {
   "cell_type": "markdown",
   "metadata": {},
   "source": [
    "- **a) cross examine each position for visitor team:**"
   ]
  },
  {
   "cell_type": "markdown",
   "metadata": {},
   "source": [
    "**visitor player 1**"
   ]
  },
  {
   "cell_type": "markdown",
   "metadata": {},
   "source": [
    "- if **visitor player in position 1** played any games in any other position throughtout the season, the total of zone starts he was on the ice for are calculated with the use of **np.where**. It is the sum of zone starts for all positions he played in.A player might play in position 6 (goaltender position) when his team is trailing in the final minutes of a game and they decide to pull the goaltender to add an additonal skater."
   ]
  },
  {
   "cell_type": "code",
   "execution_count": 19,
   "metadata": {
    "collapsed": true
   },
   "outputs": [],
   "source": [
    "dm['tzvp1'] = np.where((dm['VTeamCode'] == dm['VTeamCode']) & (dm['VPlayer1'] == dm['VPlayer2']), dm['zvp1'] + dm['zvp2'],\n",
    "                       (np.where((dm['VTeamCode'] == dm['VTeamCode']) & (dm['VPlayer1'] == dm['VPlayer3']), dm['zvp1'] + dm['zvp3'],\n",
    "                                 (np.where((dm['VTeamCode'] == dm['VTeamCode']) & (dm['VPlayer1'] == dm['VPlayer4']), dm['zvp1'] + dm['zvp4'],\n",
    "                                           (np.where((dm['VTeamCode'] == dm['VTeamCode']) & (dm['VPlayer1'] == dm['VPlayer5']), dm['zvp1'] + dm['zvp5'],\n",
    "                                                     (np.where((dm['VTeamCode'] == dm['VTeamCode']) & (dm['VPlayer1'] == dm['VPlayer6']), dm['zvp1'] + dm['zvp6'], dm['zvp1']))))))))) "
   ]
  },
  {
   "cell_type": "markdown",
   "metadata": {},
   "source": [
    "**visitor player 2**"
   ]
  },
  {
   "cell_type": "markdown",
   "metadata": {},
   "source": [
    "- if **visitor player in position 2** played any games in any other position throughtout the season, the total of zone starts he was on the ice for are calculated with the use of **np.where**. It is the sum of zone starts for all positions he played in. A player might play in position 6 (goaltender position) when his team is trailing in the final minutes of a game and they decide to pull the goaltender to add an additonal skater."
   ]
  },
  {
   "cell_type": "code",
   "execution_count": 20,
   "metadata": {
    "collapsed": true
   },
   "outputs": [],
   "source": [
    "dm['tzvp2'] = np.where((dm['VTeamCode'] == dm['VTeamCode']) & (dm['VPlayer2'] == dm['VPlayer1']), dm['zvp2'] + dm['zvp1'],\n",
    "                       (np.where((dm['VTeamCode'] == dm['VTeamCode']) & (dm['VPlayer2'] == dm['VPlayer3']), dm['zvp2'] + dm['zvp3'],\n",
    "                                 (np.where((dm['VTeamCode'] == dm['VTeamCode']) & (dm['VPlayer2'] == dm['VPlayer4']), dm['zvp2'] + dm['zvp4'],\n",
    "                                           (np.where((dm['VTeamCode'] == dm['VTeamCode']) & (dm['VPlayer2'] == dm['VPlayer5']), dm['zvp2'] + dm['zvp5'],\n",
    "                                                     (np.where((dm['VTeamCode'] == dm['VTeamCode']) & (dm['VPlayer2'] == dm['VPlayer6']), dm['zvp2'] + dm['zvp6'], dm['zvp2']))))))))) "
   ]
  },
  {
   "cell_type": "markdown",
   "metadata": {
    "collapsed": false
   },
   "source": [
    "** visitor player 3**"
   ]
  },
  {
   "cell_type": "markdown",
   "metadata": {},
   "source": [
    "- if **visitor player in position 3** played any games in any other position throughtout the season, the total of zone starts he was on the ice for are calculated with the use of **np.where**. It is the sum of zone starts for all positions he played in. A player might play in position 6 (goaltender position) when his team is trailing in the final minutes of a game and they decide to pull the goaltender to add an additonal skater."
   ]
  },
  {
   "cell_type": "code",
   "execution_count": 21,
   "metadata": {
    "collapsed": true
   },
   "outputs": [],
   "source": [
    "dm['tzvp3'] = np.where((dm['VTeamCode'] == dm['VTeamCode']) & (dm['VPlayer3'] == dm['VPlayer1']), dm['zvp3'] + dm['zvp1'],\n",
    "                       (np.where((dm['VTeamCode'] == dm['VTeamCode']) & (dm['VPlayer3'] == dm['VPlayer2']), dm['zvp3'] + dm['zvp2'],\n",
    "                                 (np.where((dm['VTeamCode'] == dm['VTeamCode']) & (dm['VPlayer3'] == dm['VPlayer4']), dm['zvp3'] + dm['zvp4'],\n",
    "                                           (np.where((dm['VTeamCode'] == dm['VTeamCode']) & (dm['VPlayer3'] == dm['VPlayer5']), dm['zvp3'] + dm['zvp5'],\n",
    "                                                     (np.where((dm['VTeamCode'] == dm['VTeamCode']) & (dm['VPlayer3'] == dm['VPlayer6']), dm['zvp3'] + dm['zvp6'], dm['zvp3']))))))))) "
   ]
  },
  {
   "cell_type": "markdown",
   "metadata": {},
   "source": [
    "** visitor player 4**"
   ]
  },
  {
   "cell_type": "markdown",
   "metadata": {},
   "source": [
    "- if **visitor player in position 4** played any games in any other position throughtout the season, the total of zone starts he was on the ice for are calculated with the use of **np.where**. It is the sum of zone starts for all positions he played in. A player might play in position 6 (goaltender position) when his team is trailing in the final minutes of a game and they decide to pull the goaltender to add an additonal skater."
   ]
  },
  {
   "cell_type": "code",
   "execution_count": 22,
   "metadata": {
    "collapsed": true
   },
   "outputs": [],
   "source": [
    "dm['tzvp4'] = np.where((dm['VTeamCode'] == dm['VTeamCode']) & (dm['VPlayer4'] == dm['VPlayer1']), dm['zvp4'] + dm['zvp1'],\n",
    "                       (np.where((dm['VTeamCode'] == dm['VTeamCode']) & (dm['VPlayer4'] == dm['VPlayer2']), dm['zvp4'] + dm['zvp2'],\n",
    "                                 (np.where((dm['VTeamCode'] == dm['VTeamCode']) & (dm['VPlayer4'] == dm['VPlayer3']), dm['zvp4'] + dm['zvp3'],\n",
    "                                           (np.where((dm['VTeamCode'] == dm['VTeamCode']) & (dm['VPlayer4'] == dm['VPlayer5']), dm['zvp4'] + dm['zvp5'],\n",
    "                                                     (np.where((dm['VTeamCode'] == dm['VTeamCode']) & (dm['VPlayer4'] == dm['VPlayer6']), dm['zvp4'] + dm['zvp6'], dm['zvp4']))))))))) "
   ]
  },
  {
   "cell_type": "markdown",
   "metadata": {},
   "source": [
    "** visitor player 5**"
   ]
  },
  {
   "cell_type": "markdown",
   "metadata": {},
   "source": [
    "- if **visitor player in position 5** played any games in any other position throughtout the season, the total of zone starts he was on the ice for are calculated with the use of **np.where**. It is the sum of zone starts for all positions he played in. A player might play in position 6 (goaltender position) when his team is trailing in the final minutes of a game and they decide to pull the goaltender to add an additonal skater."
   ]
  },
  {
   "cell_type": "code",
   "execution_count": 23,
   "metadata": {
    "collapsed": true
   },
   "outputs": [],
   "source": [
    "dm['tzvp5'] = np.where((dm['VTeamCode'] == dm['VTeamCode']) & (dm['VPlayer5'] == dm['VPlayer1']), dm['zvp5'] + dm['zvp1'],\n",
    "                       (np.where((dm['VTeamCode'] == dm['VTeamCode']) & (dm['VPlayer5'] == dm['VPlayer2']), dm['zvp5'] + dm['zvp2'],\n",
    "                                 (np.where((dm['VTeamCode'] == dm['VTeamCode']) & (dm['VPlayer5'] == dm['VPlayer3']), dm['zvp5'] + dm['zvp3'],\n",
    "                                           (np.where((dm['VTeamCode'] == dm['VTeamCode']) & (dm['VPlayer5'] == dm['VPlayer4']), dm['zvp5'] + dm['zvp4'],\n",
    "                                                     (np.where((dm['VTeamCode'] == dm['VTeamCode']) & (dm['VPlayer5'] == dm['VPlayer6']), dm['zvp5'] + dm['zvp6'], dm['zvp5']))))))))) "
   ]
  },
  {
   "cell_type": "markdown",
   "metadata": {},
   "source": [
    "**visitor player 6**"
   ]
  },
  {
   "cell_type": "markdown",
   "metadata": {},
   "source": [
    "Position 6 is the goaltender position. A goalie doesn't play in any other position, therefore :"
   ]
  },
  {
   "cell_type": "code",
   "execution_count": 24,
   "metadata": {
    "collapsed": true
   },
   "outputs": [],
   "source": [
    "dm['tzvp6'] = dm['zvp6']"
   ]
  },
  {
   "cell_type": "markdown",
   "metadata": {},
   "source": [
    "- **b) cross examine each position for home team:**"
   ]
  },
  {
   "cell_type": "markdown",
   "metadata": {},
   "source": [
    "**home position 1**"
   ]
  },
  {
   "cell_type": "markdown",
   "metadata": {},
   "source": [
    "- if **home player in position 1** played any games in any other position throughtout the season, the total of zone starts he was on the ice for are calculated with the use of **np.where**. It is the sum of zone starts for all positions he played in. A player might play in position 6 (goaltender position) when his team is trailing in the final minutes of a game and they decide to pull the goaltender to add an additonal skater."
   ]
  },
  {
   "cell_type": "code",
   "execution_count": 25,
   "metadata": {
    "collapsed": true
   },
   "outputs": [],
   "source": [
    "dm['tzhp1'] = np.where((dm['HTeamCode'] == dm['HTeamCode']) & (dm['HPlayer1'] == dm['HPlayer2']), dm['zhp1'] + dm['zhp2'],\n",
    "                       (np.where((dm['HTeamCode'] == dm['HTeamCode']) & (dm['HPlayer1'] == dm['HPlayer3']), dm['zhp1'] + dm['zhp3'],\n",
    "                                 (np.where((dm['HTeamCode'] == dm['HTeamCode']) & (dm['HPlayer1'] == dm['HPlayer4']), dm['zhp1'] + dm['zhp4'],\n",
    "                                           (np.where((dm['HTeamCode'] == dm['HTeamCode']) & (dm['HPlayer1'] == dm['HPlayer5']), dm['zhp1'] + dm['zhp5'],\n",
    "                                                     (np.where((dm['HTeamCode'] == dm['HTeamCode']) & (dm['HPlayer1'] == dm['HPlayer6']), dm['zhp1'] + dm['zhp6'], dm['zhp1']))))))))) "
   ]
  },
  {
   "cell_type": "markdown",
   "metadata": {},
   "source": [
    "** home player 2**"
   ]
  },
  {
   "cell_type": "markdown",
   "metadata": {},
   "source": [
    "- if **home player in position 2** played any games in any other position throughtout the season, the total of zone starts he was on the ice for are calculated with the use of **np.where**. It is the sum of zone starts for all positions he played in. A player might play in position 6 (goaltender position) when his team is trailing in the final minutes of a game and they decide to pull the goaltender to add an additonal skater."
   ]
  },
  {
   "cell_type": "code",
   "execution_count": 26,
   "metadata": {
    "collapsed": true
   },
   "outputs": [],
   "source": [
    "dm['tzhp2'] = np.where((dm['HTeamCode'] == dm['HTeamCode']) & (dm['HPlayer2'] == dm['HPlayer1']), dm['zhp2'] + dm['zhp1'],\n",
    "                       (np.where((dm['HTeamCode'] == dm['HTeamCode']) & (dm['HPlayer2'] == dm['HPlayer3']), dm['zhp2'] + dm['zhp3'],\n",
    "                                 (np.where((dm['HTeamCode'] == dm['HTeamCode']) & (dm['HPlayer2'] == dm['HPlayer4']), dm['zhp2'] + dm['zhp4'],\n",
    "                                           (np.where((dm['HTeamCode'] == dm['HTeamCode']) & (dm['HPlayer2'] == dm['HPlayer5']), dm['zhp2'] + dm['zhp5'],\n",
    "                                                     (np.where((dm['HTeamCode'] == dm['HTeamCode']) & (dm['HPlayer2'] == dm['HPlayer6']), dm['zhp2'] + dm['zhp6'], dm['zhp2']))))))))) "
   ]
  },
  {
   "cell_type": "markdown",
   "metadata": {},
   "source": [
    "** home player 3**"
   ]
  },
  {
   "cell_type": "markdown",
   "metadata": {},
   "source": [
    "- if **home player in position 3** played any games in any other position throughtout the season, the total of zone starts he was on the ice for are calculated with the use of **np.where**. It is the sum of zone starts for all positions he played in. A player might play in position 6 (goaltender position) when his team is trailing in the final minutes of a game and they decide to pull the goaltender to add an additonal skater."
   ]
  },
  {
   "cell_type": "code",
   "execution_count": 27,
   "metadata": {
    "collapsed": true
   },
   "outputs": [],
   "source": [
    "dm['tzhp3'] = np.where((dm['HTeamCode'] == dm['HTeamCode']) & (dm['HPlayer3'] == dm['HPlayer1']), dm['zhp3'] + dm['zhp1'],\n",
    "                       (np.where((dm['HTeamCode'] == dm['HTeamCode']) & (dm['HPlayer3'] == dm['HPlayer2']), dm['zhp3'] + dm['zhp2'],\n",
    "                                 (np.where((dm['HTeamCode'] == dm['HTeamCode']) & (dm['HPlayer3'] == dm['HPlayer4']), dm['zhp3'] + dm['zhp4'],\n",
    "                                           (np.where((dm['HTeamCode'] == dm['HTeamCode']) & (dm['HPlayer3'] == dm['HPlayer5']), dm['zhp3'] + dm['zhp5'],\n",
    "                                                     (np.where((dm['HTeamCode'] == dm['HTeamCode']) & (dm['HPlayer3'] == dm['HPlayer6']), dm['zhp3'] + dm['zhp6'], dm['zhp3']))))))))) "
   ]
  },
  {
   "cell_type": "markdown",
   "metadata": {},
   "source": [
    "** home player 4**"
   ]
  },
  {
   "cell_type": "markdown",
   "metadata": {},
   "source": [
    "- if **home player in position 4** played any games in any other position throughtout the season, the total of zone starts he was on the ice for are calculated with the use of **np.where**. It is the sum of zone starts for all positions he played in. A player might play in position 6 (goaltender position) when his team is trailing in the final minutes of a game and they decide to pull the goaltender to add an additonal skater."
   ]
  },
  {
   "cell_type": "code",
   "execution_count": 28,
   "metadata": {
    "collapsed": true
   },
   "outputs": [],
   "source": [
    "dm['tzhp4'] = np.where((dm['HTeamCode'] == dm['HTeamCode']) & (dm['HPlayer4'] == dm['HPlayer1']), dm['zhp4'] + dm['zhp1'],\n",
    "                       (np.where((dm['HTeamCode'] == dm['HTeamCode']) & (dm['HPlayer4'] == dm['HPlayer2']), dm['zhp4'] + dm['zhp2'],\n",
    "                                 (np.where((dm['HTeamCode'] == dm['HTeamCode']) & (dm['HPlayer4'] == dm['HPlayer3']), dm['zhp4'] + dm['zhp3'],\n",
    "                                           (np.where((dm['HTeamCode'] == dm['HTeamCode']) & (dm['HPlayer4'] == dm['HPlayer5']), dm['zhp4'] + dm['zhp5'],\n",
    "                                                     (np.where((dm['HTeamCode'] == dm['HTeamCode']) & (dm['HPlayer4'] == dm['HPlayer6']), dm['zhp4'] + dm['zhp6'], dm['zhp4']))))))))) "
   ]
  },
  {
   "cell_type": "markdown",
   "metadata": {},
   "source": [
    "**home player 5**"
   ]
  },
  {
   "cell_type": "markdown",
   "metadata": {},
   "source": [
    "- if **home player in position 5** played any games in any other position throughtout the season, the total of zone starts he was on the ice for are calculated with the use of **np.where**. It is the sum of zone starts for all positions he played in. A player might play in position 6 (goaltender position) when his team is trailing in the final minutes of a game and they decide to pull the goaltender to add an additonal skater."
   ]
  },
  {
   "cell_type": "code",
   "execution_count": 29,
   "metadata": {
    "collapsed": true
   },
   "outputs": [],
   "source": [
    "dm['tzhp5'] = np.where((dm['HTeamCode'] == dm['HTeamCode']) & (dm['HPlayer5'] == dm['HPlayer1']), dm['zhp5'] + dm['zhp1'],\n",
    "                       (np.where((dm['HTeamCode'] == dm['HTeamCode']) & (dm['HPlayer5'] == dm['HPlayer2']), dm['zhp5'] + dm['zhp2'],\n",
    "                                 (np.where((dm['HTeamCode'] == dm['HTeamCode']) & (dm['HPlayer5'] == dm['HPlayer3']), dm['zhp5'] + dm['zhp3'],\n",
    "                                           (np.where((dm['HTeamCode'] == dm['HTeamCode']) & (dm['HPlayer5'] == dm['HPlayer4']), dm['zhp5'] + dm['zhp4'],\n",
    "                                                     (np.where((dm['HTeamCode'] == dm['HTeamCode']) & (dm['HPlayer5'] == dm['HPlayer6']), dm['zhp5'] + dm['zhp6'], dm['zhp5']))))))))) "
   ]
  },
  {
   "cell_type": "markdown",
   "metadata": {},
   "source": [
    "** home player 6**"
   ]
  },
  {
   "cell_type": "markdown",
   "metadata": {},
   "source": [
    "**Position 6 is the goaltender position.** A goalie doesn't play in any other position, therefore :"
   ]
  },
  {
   "cell_type": "code",
   "execution_count": 30,
   "metadata": {
    "collapsed": true
   },
   "outputs": [],
   "source": [
    "dm['tzhp6'] = dm['zhp6']"
   ]
  },
  {
   "cell_type": "markdown",
   "metadata": {},
   "source": [
    "## overall zone starts"
   ]
  },
  {
   "cell_type": "markdown",
   "metadata": {},
   "source": [
    "Zone starts of each player has been calculated only for his team being home or away for the season, since home zone start value and visitor zone start value were used. The **total zone starts** of each player is the total of zone starts he participated for a whole season. Thus, the sum of both home and away zone starts."
   ]
  },
  {
   "cell_type": "markdown",
   "metadata": {},
   "source": [
    "- create a variable will add up the home zone start value and away zone start value for all players of a given team, that played in **position 1.**"
   ]
  },
  {
   "cell_type": "code",
   "execution_count": 31,
   "metadata": {
    "collapsed": false
   },
   "outputs": [],
   "source": [
    "dm['zplyr1'] = np.where((dm['Season'] == dm['Season']) & (dm['HTeamCode'] == dm['VTeamCode']) & (dm['HPlayer1'] == dm['VPlayer1']), (dm['tzhp1'] + dm['tzvp1'])/dm['gp1'],\n",
    "                   (np.where((dm['Season'] == dm['Season']) & (dm['HTeamCode'] != dm['VTeamCode']) & (dm['HPlayer1'] != dm['VPlayer1']), dm['tzhp1']/dm['thgp3'],\n",
    "                   (np.where((dm['Season'] == dm['Season']) &(dm['VTeamCode'] == dm['HTeamCode']) & (dm['VPlayer1'] == dm['HPlayer1']), (dm['tzvp1'] + dm['tzhp1'])/dm['gp1'], dm['tzvp1']/dm['tvgp1'])))))"
   ]
  },
  {
   "cell_type": "markdown",
   "metadata": {},
   "source": [
    "- create a variable will add up the home zone start value and away zone start value for all players of a given team, that played in **position 2.**"
   ]
  },
  {
   "cell_type": "code",
   "execution_count": 32,
   "metadata": {
    "collapsed": true
   },
   "outputs": [],
   "source": [
    "dm['zplyr2'] = np.where((dm['Season'] == dm['Season']) & (dm['HTeamCode'] == dm['VTeamCode']) & (dm['HPlayer2'] == dm['VPlayer2']), (dm['tzhp2'] + dm['tzvp2'])/2,\n",
    "                   (np.where((dm['Season'] == dm['Season']) & (dm['HTeamCode'] != dm['VTeamCode']) & (dm['HPlayer2'] != dm['VPlayer2']), dm['tzhp2'],\n",
    "                   (np.where((dm['Season'] == dm['Season']) &(dm['VTeamCode'] == dm['HTeamCode']) & (dm['VPlayer2'] == dm['HPlayer2']), (dm['tzvp2'] + dm['tzhp2'])/2, dm['tzvp2'])))))"
   ]
  },
  {
   "cell_type": "markdown",
   "metadata": {},
   "source": [
    "- create a variable will add up the home zone start value and away zone start value for all players of a given team, that played in **position 3.**"
   ]
  },
  {
   "cell_type": "code",
   "execution_count": 33,
   "metadata": {
    "collapsed": true
   },
   "outputs": [],
   "source": [
    "dm['zplyr3'] = np.where((dm['Season'] == dm['Season']) & (dm['HTeamCode'] == dm['VTeamCode']) & (dm['HPlayer3'] == dm['VPlayer3']), (dm['tzhp3'] + dm['tzvp3'])/2,\n",
    "                   (np.where((dm['Season'] == dm['Season']) & (dm['HTeamCode'] != dm['VTeamCode']) & (dm['HPlayer3'] != dm['VPlayer3']), dm['tzhp3'],\n",
    "                   (np.where((dm['Season'] == dm['Season']) &(dm['VTeamCode'] == dm['HTeamCode']) & (dm['VPlayer3'] == dm['HPlayer3']), (dm['tzvp3'] + dm['tzhp3'])/2, dm['tzvp3'])))))"
   ]
  },
  {
   "cell_type": "markdown",
   "metadata": {},
   "source": [
    "- create a variable will add up the home zone start value and away zone start value for all players of a given team, that played in **position 4.**"
   ]
  },
  {
   "cell_type": "code",
   "execution_count": 34,
   "metadata": {
    "collapsed": true
   },
   "outputs": [],
   "source": [
    "dm['zplyr4'] = np.where((dm['Season'] == dm['Season']) & (dm['HTeamCode'] == dm['VTeamCode']) & (dm['HPlayer4'] == dm['VPlayer4']), (dm['tzhp4'] + dm['tzvp4'])/2,\n",
    "                   (np.where((dm['Season'] == dm['Season']) & (dm['HTeamCode'] != dm['VTeamCode']) & (dm['HPlayer4'] != dm['VPlayer4']), dm['tzhp4'],\n",
    "                   (np.where((dm['Season'] == dm['Season']) &(dm['VTeamCode'] == dm['HTeamCode']) & (dm['VPlayer4'] == dm['HPlayer4']), (dm['tzvp4'] + dm['tzhp4'])/2, dm['tzvp4'])))))"
   ]
  },
  {
   "cell_type": "markdown",
   "metadata": {},
   "source": [
    "- create a variable will add up the home zone start value and away zone start value for all players of a given team, that played in **position 5.**"
   ]
  },
  {
   "cell_type": "code",
   "execution_count": 35,
   "metadata": {
    "collapsed": true
   },
   "outputs": [],
   "source": [
    "dm['zplyr5'] = np.where((dm['Season'] == dm['Season']) & (dm['HTeamCode'] == dm['VTeamCode']) & (dm['HPlayer5'] == dm['VPlayer5']), (dm['tzhp5'] + dm['tzvp5'])/2,\n",
    "                   (np.where((dm['Season'] == dm['Season']) & (dm['HTeamCode'] != dm['VTeamCode']) & (dm['HPlayer5'] != dm['VPlayer5']), dm['tzhp5'],\n",
    "                   (np.where((dm['Season'] == dm['Season']) &(dm['VTeamCode'] == dm['HTeamCode']) & (dm['VPlayer5'] == dm['HPlayer5']), (dm['tzvp5'] + dm['tzhp5'])/2, dm['tzvp5'])))))"
   ]
  },
  {
   "cell_type": "markdown",
   "metadata": {},
   "source": [
    "- create a variable will add up the home zone start value and away zone start value for all players of a given team, that played in **position 6.**"
   ]
  },
  {
   "cell_type": "code",
   "execution_count": 36,
   "metadata": {
    "collapsed": true
   },
   "outputs": [],
   "source": [
    "dm['zplyr6'] = np.where((dm['Season'] == dm['Season']) & (dm['HTeamCode'] == dm['VTeamCode']) & (dm['HPlayer6'] == dm['VPlayer6']), (dm['tzhp6'] + dm['tzvp6'])/2,\n",
    "                   (np.where((dm['Season'] == dm['Season']) & (dm['HTeamCode'] != dm['VTeamCode']) & (dm['HPlayer6'] != dm['VPlayer6']), dm['tzhp6'],\n",
    "                   (np.where((dm['Season'] == dm['Season']) &(dm['VTeamCode'] == dm['HTeamCode']) & (dm['VPlayer6'] == dm['HPlayer6']), (dm['tzvp6'] + dm['tzhp6'])/2, dm['tzvp6'])))))"
   ]
  },
  {
   "cell_type": "markdown",
   "metadata": {},
   "source": [
    "## allocate players per position to forward lines and defensive pairings"
   ]
  },
  {
   "cell_type": "markdown",
   "metadata": {},
   "source": [
    "- If the zone start variable of a player for a given team is the highest in that specific position, it indicates that he participated in the most offensive zone starts. These skaters will be identified as **first line forwards and top defenisive pairing**. "
   ]
  },
  {
   "cell_type": "markdown",
   "metadata": {},
   "source": [
    "- If the zone start variable of a player is the second highest in that specific position, it indicates that the given skater participated in the second most offensive zone starts. These skaters will be identified as **second line forwards and second defenisive pairing**. "
   ]
  },
  {
   "cell_type": "markdown",
   "metadata": {},
   "source": [
    "- If the zone start variable of a player is the third highest in that specific position, it indicates that the given skater participated in the third most offensive zone starts. These skaters will be identified as **third line forwards and bottom defenisive pairing**. "
   ]
  },
  {
   "cell_type": "markdown",
   "metadata": {},
   "source": [
    "- If the zone start variable of a player is the lowest in that specific position, it indicates that the given skater participated in the least offensive zone starts. These skaters will be identified as **fourth line forwards**. "
   ]
  },
  {
   "cell_type": "markdown",
   "metadata": {},
   "source": [
    "### a) visitor team"
   ]
  },
  {
   "cell_type": "markdown",
   "metadata": {},
   "source": [
    "- generate a variable that will allocate all players to their respectful line. **Position 1** is the **centre** position of forward lines. If **total zone start ** is the highest amongst players per position, that player is assinged to the **top line**. If **total zone start** is the lowest amongst players per position, that player is assinged to the **4th line**. For the two values left, the player that has the highest **total zone start ** will be allocated to the **2nd line**. The other player will be assigned to the **3rd line**."
   ]
  },
  {
   "cell_type": "code",
   "execution_count": 37,
   "metadata": {
    "collapsed": false
   },
   "outputs": [],
   "source": [
    "dm['vmax1'] = dm.groupby(['Season', 'VTeamCode'])['tzvp1'].transform(max)"
   ]
  },
  {
   "cell_type": "code",
   "execution_count": 38,
   "metadata": {
    "collapsed": false
   },
   "outputs": [],
   "source": [
    "dm['vmin1'] = dm.groupby(['Season', 'VTeamCode'])['tzvp1'].transform(min)"
   ]
  },
  {
   "cell_type": "code",
   "execution_count": 39,
   "metadata": {
    "collapsed": false
   },
   "outputs": [],
   "source": [
    "dm['vc'] = np.where((dm['Season'] == dm['Season']) & (dm['VTeamCode'] == dm['VTeamCode']) & (dm['tzvp1'] == dm['vmax1']), 1, \n",
    "                    (np.where((dm['Season'] == dm['Season']) & (dm['VTeamCode'] == dm['VTeamCode']) & (dm['tzvp1'] == dm['vmin1']), 4,\n",
    "                        (np.where((dm['Season'] == dm['Season']) & (dm['VTeamCode'] == dm['VTeamCode']) & (dm['VPlayer1'] != dm['VPlayer1']) & (dm['tzvp1'] != dm['vmax1']) & (dm['tzvp1'] != dm['vmin1']) & (dm['tzvp1'].shift() != dm['vmax1']) & (dm['tzvp1'].shift() != dm['vmin1']) & (dm['tzvp1'] > dm['tzvp1'].shift()), 2, 3))))) \n"
   ]
  },
  {
   "cell_type": "markdown",
   "metadata": {},
   "source": [
    "- generate a variable that will allocate all players to their respectful line. **Position 2** is the **right wing** position of forward lines. If **total zone start ** is the highest amongst players per position, that player is assinged to the **top line**. If **total zone start** is the lowest amongst players per position, that player is assinged to the **4th line**. For the two values left, the player that has the highest **total zone start ** will be allocated to the **2nd line**. The other player will be assigned to the **3rd line**."
   ]
  },
  {
   "cell_type": "code",
   "execution_count": 40,
   "metadata": {
    "collapsed": false
   },
   "outputs": [],
   "source": [
    "dm['vmax2'] = dm.groupby(['Season', 'VTeamCode'])['tzvp2'].transform(max)"
   ]
  },
  {
   "cell_type": "code",
   "execution_count": 41,
   "metadata": {
    "collapsed": true
   },
   "outputs": [],
   "source": [
    "dm['vmin2'] = dm.groupby(['Season', 'VTeamCode'])['tzvp2'].transform(min)"
   ]
  },
  {
   "cell_type": "code",
   "execution_count": 42,
   "metadata": {
    "collapsed": true
   },
   "outputs": [],
   "source": [
    "dm['vrw'] = np.where((dm['Season'] == dm['Season']) & (dm['VTeamCode'] == dm['VTeamCode']) & (dm['tzvp2'] == dm['vmax2']), 1, \n",
    "                    (np.where((dm['Season'] == dm['Season']) & (dm['VTeamCode'] == dm['VTeamCode']) & (dm['tzvp2'] == dm['vmin2']), 4,\n",
    "                        (np.where((dm['Season'] == dm['Season']) & (dm['VTeamCode'] == dm['VTeamCode']) & (dm['VPlayer2'] != dm['VPlayer2']) & (dm['tzvp2'] != dm['vmax2']) & (dm['tzvp2'] != dm['vmin2']) & (dm['tzvp2'].shift() != dm['vmax2']) & (dm['tzvp2'].shift() != dm['vmin2']) & (dm['tzvp2'] > dm['tzvp2'].shift()), 2, 3))))) \n"
   ]
  },
  {
   "cell_type": "markdown",
   "metadata": {},
   "source": [
    "- generate a variable that will allocate all players to their respectful line. **Position 3** is the **left wing** position of forward lines. If **total zone start ** is the highest amongst players per position, that player is assinged to the **top line**. If **total zone start** is the lowest amongst players per position, that player is assinged to the **4th line**. For the two values left, the player that has the highest **total zone start ** will be allocated to the **2nd line**. The other player will be assigned to the **3rd line**."
   ]
  },
  {
   "cell_type": "code",
   "execution_count": 43,
   "metadata": {
    "collapsed": false
   },
   "outputs": [],
   "source": [
    "dm['vmax3'] = dm.groupby(['Season', 'VTeamCode'])['tzvp3'].transform(max)"
   ]
  },
  {
   "cell_type": "code",
   "execution_count": 44,
   "metadata": {
    "collapsed": true
   },
   "outputs": [],
   "source": [
    "dm['vmin3'] = dm.groupby(['Season', 'VTeamCode'])['tzvp3'].transform(min)"
   ]
  },
  {
   "cell_type": "code",
   "execution_count": 45,
   "metadata": {
    "collapsed": false
   },
   "outputs": [],
   "source": [
    "dm['vlw'] = np.where((dm['Season'] == dm['Season']) & (dm['VTeamCode'] == dm['VTeamCode']) & (dm['tzvp3'] == dm['vmax3']), 1, \n",
    "                    (np.where((dm['Season'] == dm['Season']) & (dm['VTeamCode'] == dm['VTeamCode']) & (dm['tzvp3'] == dm['vmin3']), 4,\n",
    "                        (np.where((dm['Season'] == dm['Season']) & (dm['VTeamCode'] == dm['VTeamCode']) & (dm['VPlayer3'] != dm['VPlayer3']) & (dm['tzvp3'] != dm['vmax3']) & (dm['tzvp3'] != dm['vmin3']) & (dm['tzvp3'].shift() != dm['vmax3']) & (dm['tzvp3'].shift() != dm['vmin3']) & (dm['tzvp3'] > dm['tzvp3'].shift()), 2, 3))))) \n"
   ]
  },
  {
   "cell_type": "markdown",
   "metadata": {},
   "source": [
    "- generate a variable that will allocate all players to their respectful line. **Position 4** is the **right defense** position of forward lines. If **total zone start ** is the highest amongst players per position, that player is assinged to the **top line**. If **total zone start** is the lowest amongst players per position, that player is assinged to the **4th line**. For the two values left, the player that has the highest **total zone start ** will be allocated to the **2nd line**. The other player will be assigned to the **3rd line**."
   ]
  },
  {
   "cell_type": "code",
   "execution_count": 46,
   "metadata": {
    "collapsed": true
   },
   "outputs": [],
   "source": [
    "dm['vmax4'] = dm.groupby(['Season', 'VTeamCode'])['tzvp4'].transform(max)"
   ]
  },
  {
   "cell_type": "code",
   "execution_count": 47,
   "metadata": {
    "collapsed": true
   },
   "outputs": [],
   "source": [
    "dm['vmin4'] = dm.groupby(['Season', 'VTeamCode'])['tzvp4'].transform(min)"
   ]
  },
  {
   "cell_type": "code",
   "execution_count": 48,
   "metadata": {
    "collapsed": true
   },
   "outputs": [],
   "source": [
    "dm['vdr'] = np.where((dm['Season'] == dm['Season']) & (dm['VTeamCode'] == dm['VTeamCode']) & (dm['tzvp4'] == dm['vmax4']), 1, \n",
    "                    (np.where((dm['Season'] == dm['Season']) & (dm['VTeamCode'] == dm['VTeamCode']) & (dm['tzvp4'] == dm['vmin4']), 4,\n",
    "                        (np.where((dm['Season'] == dm['Season']) & (dm['VTeamCode'] == dm['VTeamCode']) & (dm['VPlayer4'] != dm['VPlayer4']) & (dm['tzvp4'] != dm['vmax4']) & (dm['tzvp4'] != dm['vmin4']) & (dm['tzvp4'].shift() != dm['vmax4']) & (dm['tzvp4'].shift() != dm['vmin4']) & (dm['tzvp4'] > dm['tzvp4'].shift()), 2, 3))))) \n"
   ]
  },
  {
   "cell_type": "markdown",
   "metadata": {},
   "source": [
    "- generate a variable that will allocate all players to their respectful line. **Position 5** is the **left defense** position of forward lines. If **total zone start ** is the highest amongst players per position, that player is assinged to the **top line**. If **total zone start** is the lowest amongst players per position, that player is assinged to the **4th line**. For the two values left, the player that has the highest **total zone start ** will be allocated to the **2nd line**. The other player will be assigned to the **3rd line**."
   ]
  },
  {
   "cell_type": "code",
   "execution_count": 49,
   "metadata": {
    "collapsed": true
   },
   "outputs": [],
   "source": [
    "dm['vmax5'] = dm.groupby(['Season', 'VTeamCode'])['tzvp5'].transform(max)"
   ]
  },
  {
   "cell_type": "code",
   "execution_count": 50,
   "metadata": {
    "collapsed": true
   },
   "outputs": [],
   "source": [
    "dm['vmin5'] = dm.groupby(['Season', 'VTeamCode'])['tzvp5'].transform(min)"
   ]
  },
  {
   "cell_type": "code",
   "execution_count": 51,
   "metadata": {
    "collapsed": true
   },
   "outputs": [],
   "source": [
    "dm['vdl'] = np.where((dm['Season'] == dm['Season']) & (dm['VTeamCode'] == dm['VTeamCode']) & (dm['tzvp5'] == dm['vmax5']), 1, \n",
    "                    (np.where((dm['Season'] == dm['Season']) & (dm['VTeamCode'] == dm['VTeamCode']) & (dm['tzvp5'] == dm['vmin5']), 4,\n",
    "                        (np.where((dm['Season'] == dm['Season']) & (dm['VTeamCode'] == dm['VTeamCode']) & (dm['VPlayer5'] != dm['VPlayer5']) & (dm['tzvp5'] != dm['vmax5']) & (dm['tzvp5'] != dm['vmin5']) & (dm['tzvp5'].shift() != dm['vmax5']) & (dm['tzvp5'].shift() != dm['vmin5']) & (dm['tzvp5'] > dm['tzvp5'].shift()), 2, 3))))) \n"
   ]
  },
  {
   "cell_type": "markdown",
   "metadata": {},
   "source": [
    "- **Position 6** is the **goaltender position**. No conditions necessary "
   ]
  },
  {
   "cell_type": "code",
   "execution_count": 52,
   "metadata": {
    "collapsed": true
   },
   "outputs": [],
   "source": [
    "dm['vg'] = 1"
   ]
  },
  {
   "cell_type": "markdown",
   "metadata": {},
   "source": [
    "### b) home team"
   ]
  },
  {
   "cell_type": "markdown",
   "metadata": {},
   "source": [
    "- generate a variable that will allocate all players to their respectful line. **Position 1** is the **centre** position of forward lines. If **total zone start ** is the highest amongst players per position, that player is assinged to the **top line**. If **total zone start** is the lowest amongst players per position, that player is assinged to the **4th line**. For the two values left, the player that has the highest **total zone start ** will be allocated to the **2nd line**. The other player will be assigned to the **3rd line**."
   ]
  },
  {
   "cell_type": "code",
   "execution_count": 53,
   "metadata": {
    "collapsed": true
   },
   "outputs": [],
   "source": [
    "dm['hmax1'] = dm.groupby(['Season', 'HTeamCode'])['tzhp1'].transform(max)"
   ]
  },
  {
   "cell_type": "code",
   "execution_count": 54,
   "metadata": {
    "collapsed": true
   },
   "outputs": [],
   "source": [
    "dm['hmin1'] = dm.groupby(['Season', 'HTeamCode'])['tzhp1'].transform(min)"
   ]
  },
  {
   "cell_type": "code",
   "execution_count": 55,
   "metadata": {
    "collapsed": true
   },
   "outputs": [],
   "source": [
    "dm['hc'] = np.where((dm['Season'] == dm['Season']) & (dm['HTeamCode'] == dm['HTeamCode']) & (dm['tzhp1'] == dm['hmax1']), 1, \n",
    "                    (np.where((dm['Season'] == dm['Season']) & (dm['HTeamCode'] == dm['HTeamCode']) & (dm['tzhp1'] == dm['hmin1']), 4,\n",
    "                        (np.where((dm['Season'] == dm['Season']) & (dm['HTeamCode'] == dm['HTeamCode']) & (dm['HPlayer1'] != dm['HPlayer1']) & (dm['tzhp1'] != dm['hmax1']) & (dm['tzhp1'] != dm['hmin1']) & (dm['tzhp1'].shift() != dm['hmax1']) & (dm['tzhp1'].shift() != dm['hmin1']) & (dm['tzhp1'] > dm['tzhp1'].shift()), 2, 3))))) \n"
   ]
  },
  {
   "cell_type": "markdown",
   "metadata": {},
   "source": [
    "- generate a variable that will allocate all players to their respectful line. **Position 2** is the **right wing** position of forward lines. If **total zone start ** is the highest amongst players per position, that player is assinged to the **top line**. If **total zone start** is the lowest amongst players per position, that player is assinged to the **4th line**. For the two values left, the player that has the highest **total zone start ** will be allocated to the **2nd line**. The other player will be assigned to the **3rd line**."
   ]
  },
  {
   "cell_type": "code",
   "execution_count": 56,
   "metadata": {
    "collapsed": false
   },
   "outputs": [],
   "source": [
    "dm['hmax2'] = dm.groupby(['Season', 'HTeamCode'])['tzhp2'].transform(max)"
   ]
  },
  {
   "cell_type": "code",
   "execution_count": 57,
   "metadata": {
    "collapsed": true
   },
   "outputs": [],
   "source": [
    "dm['hmin2'] = dm.groupby(['Season', 'HTeamCode'])['tzhp2'].transform(min)"
   ]
  },
  {
   "cell_type": "code",
   "execution_count": 58,
   "metadata": {
    "collapsed": true
   },
   "outputs": [],
   "source": [
    "dm['hrw'] = np.where((dm['Season'] == dm['Season']) & (dm['HTeamCode'] == dm['HTeamCode']) & (dm['tzhp2'] == dm['hmax2']), 1, \n",
    "                    (np.where((dm['Season'] == dm['Season']) & (dm['HTeamCode'] == dm['HTeamCode']) & (dm['tzhp2'] == dm['hmin2']), 4,\n",
    "                        (np.where((dm['Season'] == dm['Season']) & (dm['HTeamCode'] == dm['HTeamCode']) & (dm['HPlayer2'] != dm['HPlayer2']) & (dm['tzhp2'] != dm['hmax2']) & (dm['tzhp2'] != dm['hmin2']) & (dm['tzhp2'].shift() != dm['hmax2']) & (dm['tzhp2'].shift() != dm['hmin2']) & (dm['tzhp2'] > dm['tzhp2'].shift()), 2, 3))))) \n"
   ]
  },
  {
   "cell_type": "markdown",
   "metadata": {},
   "source": [
    "- generate a variable that will allocate all players to their respectful line. **Position 3** is the **left wing** position of forward lines. If **total zone start ** is the highest amongst players per position, that player is assinged to the **top line**. If **total zone start** is the lowest amongst players per position, that player is assinged to the **4th line**. For the two values left, the player that has the highest **total zone start ** will be allocated to the **2nd line**. The other player will be assigned to the **3rd line**."
   ]
  },
  {
   "cell_type": "code",
   "execution_count": 59,
   "metadata": {
    "collapsed": true
   },
   "outputs": [],
   "source": [
    "dm['hmax3'] = dm.groupby(['Season', 'HTeamCode'])['tzhp3'].transform(max)"
   ]
  },
  {
   "cell_type": "code",
   "execution_count": 60,
   "metadata": {
    "collapsed": true
   },
   "outputs": [],
   "source": [
    "dm['hmin3'] = dm.groupby(['Season', 'HTeamCode'])['tzhp3'].transform(min)"
   ]
  },
  {
   "cell_type": "code",
   "execution_count": 61,
   "metadata": {
    "collapsed": false
   },
   "outputs": [],
   "source": [
    "dm['hlw'] = np.where((dm['Season'] == dm['Season']) & (dm['HTeamCode'] == dm['HTeamCode']) & (dm['tzhp3'] == dm['hmax3']), 1, \n",
    "                    (np.where((dm['Season'] == dm['Season']) & (dm['HTeamCode'] == dm['HTeamCode']) & (dm['tzhp3'] == dm['hmin3']), 4,\n",
    "                        (np.where((dm['Season'] == dm['Season']) & (dm['HTeamCode'] == dm['HTeamCode']) & (dm['HPlayer3'] != dm['HPlayer3']) & (dm['tzhp3'] != dm['hmax3']) & (dm['tzhp3'] != dm['hmin3']) & (dm['tzhp3'].shift() != dm['hmax3']) & (dm['tzhp3'].shift() != dm['hmin3']) & (dm['tzhp3'] > dm['tzhp3'].shift()), 2, 3))))) \n"
   ]
  },
  {
   "cell_type": "markdown",
   "metadata": {},
   "source": [
    "- generate a variable that will allocate all players to their respectful line. **Position 4** is the **right defense** position of forward lines. If **total zone start ** is the highest amongst players per position, that player is assinged to the **top line**. If **total zone start** is the lowest amongst players per position, that player is assinged to the **4th line**. For the two values left, the player that has the highest **total zone start ** will be allocated to the **2nd line**. The other player will be assigned to the **3rd line**."
   ]
  },
  {
   "cell_type": "code",
   "execution_count": 62,
   "metadata": {
    "collapsed": true
   },
   "outputs": [],
   "source": [
    "dm['hmax4'] = dm.groupby(['Season', 'HTeamCode'])['tzhp4'].transform(max)"
   ]
  },
  {
   "cell_type": "code",
   "execution_count": 63,
   "metadata": {
    "collapsed": true
   },
   "outputs": [],
   "source": [
    "dm['hmin4'] = dm.groupby(['Season', 'HTeamCode'])['tzhp4'].transform(min)"
   ]
  },
  {
   "cell_type": "code",
   "execution_count": 64,
   "metadata": {
    "collapsed": true
   },
   "outputs": [],
   "source": [
    "dm['hdr'] = np.where((dm['Season'] == dm['Season']) & (dm['HTeamCode'] == dm['HTeamCode']) & (dm['tzhp4'] == dm['hmax4']), 1, \n",
    "                    (np.where((dm['Season'] == dm['Season']) & (dm['HTeamCode'] == dm['HTeamCode']) & (dm['tzhp4'] == dm['hmin4']), 4,\n",
    "                        (np.where((dm['Season'] == dm['Season']) & (dm['HTeamCode'] == dm['HTeamCode']) & (dm['HPlayer4'] != dm['HPlayer4']) & (dm['tzhp4'] != dm['hmax4']) & (dm['tzhp4'] != dm['hmin4']) & (dm['tzhp4'].shift() != dm['hmax4']) & (dm['tzhp4'].shift() != dm['hmin4']) & (dm['tzhp4'] > dm['tzhp4'].shift()), 2, 3))))) \n"
   ]
  },
  {
   "cell_type": "markdown",
   "metadata": {},
   "source": [
    "- generate a variable that will allocate all players to their respectful line. **Position 5** is the **left defense** position of forward lines. If **total zone start ** is the highest amongst players per position, that player is assinged to the **top line**. If **total zone start** is the lowest amongst players per position, that player is assinged to the **4th line**. For the two values left, the player that has the highest **total zone start ** will be allocated to the **2nd line**. The other player will be assigned to the **3rd line**."
   ]
  },
  {
   "cell_type": "code",
   "execution_count": 65,
   "metadata": {
    "collapsed": true
   },
   "outputs": [],
   "source": [
    "dm['hmax5'] = dm.groupby(['Season', 'HTeamCode'])['tzhp5'].transform(max)"
   ]
  },
  {
   "cell_type": "code",
   "execution_count": 66,
   "metadata": {
    "collapsed": true
   },
   "outputs": [],
   "source": [
    "dm['hmin5'] = dm.groupby(['Season', 'HTeamCode'])['tzhp5'].transform(min)"
   ]
  },
  {
   "cell_type": "code",
   "execution_count": 67,
   "metadata": {
    "collapsed": true
   },
   "outputs": [],
   "source": [
    "dm['hdl'] = np.where((dm['Season'] == dm['Season']) & (dm['HTeamCode'] == dm['HTeamCode']) & (dm['tzhp5'] == dm['hmax5']), 1, \n",
    "                    (np.where((dm['Season'] == dm['Season']) & (dm['HTeamCode'] == dm['HTeamCode']) & (dm['tzhp5'] == dm['hmin5']), 4,\n",
    "                        (np.where((dm['Season'] == dm['Season']) & (dm['HTeamCode'] == dm['HTeamCode']) & (dm['HPlayer5'] != dm['HPlayer5']) & (dm['tzhp5'] != dm['hmax5']) & (dm['tzhp5'] != dm['hmin5']) & (dm['tzhp5'].shift() != dm['hmax5']) & (dm['tzhp5'].shift() != dm['hmin5']) & (dm['tzhp5'] > dm['tzhp5'].shift()), 2, 3))))) \n"
   ]
  },
  {
   "cell_type": "markdown",
   "metadata": {},
   "source": [
    "-**Position 6** is the **goaltender position.** No conditions necessary "
   ]
  },
  {
   "cell_type": "code",
   "execution_count": 68,
   "metadata": {
    "collapsed": true
   },
   "outputs": [],
   "source": [
    "dm['hg'] = 1"
   ]
  },
  {
   "cell_type": "markdown",
   "metadata": {
    "collapsed": true
   },
   "source": [
    "## overall player allocation##"
   ]
  },
  {
   "cell_type": "markdown",
   "metadata": {},
   "source": [
    "Each player has been assigned to their respectful roster position based on his team being home or away for the season. The **overall roster position** of each player is the mean of both home and away position."
   ]
  },
  {
   "cell_type": "markdown",
   "metadata": {},
   "source": [
    "- create a variable for the overall roster position for all players of a given team, that played in position 1, which is the **centre position.**"
   ]
  },
  {
   "cell_type": "code",
   "execution_count": 69,
   "metadata": {
    "collapsed": false
   },
   "outputs": [],
   "source": [
    "dm['c'] = np.where((dm['Season'] == dm['Season']) & (dm['HTeamCode'] == dm['VTeamCode']) & (dm['HPlayer1'] == dm['VPlayer1']), (dm['hc'] + dm['vc'])/dm['gp1'],\n",
    "                   (np.where((dm['Season'] == dm['Season']) & (dm['HTeamCode'] != dm['VTeamCode']) & (dm['HPlayer1'] != dm['VPlayer1']), dm['hc']/dm['thgp1'],\n",
    "                   (np.where((dm['Season'] == dm['Season']) &(dm['VTeamCode'] == dm['HTeamCode']) & (dm['VPlayer1'] == dm['HPlayer1']), (dm['vc'] + dm['hc'])/dm['gp1'], dm['vc']/dm['tvgp1'])))))"
   ]
  },
  {
   "cell_type": "markdown",
   "metadata": {},
   "source": [
    "- create a variable for the overall roster position for all players of a given team, that played in position 2, which is the **right wing position.**"
   ]
  },
  {
   "cell_type": "code",
   "execution_count": 70,
   "metadata": {
    "collapsed": true
   },
   "outputs": [],
   "source": [
    "dm['rw'] = np.where((dm['Season'] == dm['Season']) & (dm['HTeamCode'] == dm['VTeamCode']) & (dm['HPlayer2'] == dm['VPlayer2']), (dm['hrw'] + dm['vrw'])/dm['gp2'],\n",
    "                   (np.where((dm['Season'] == dm['Season']) & (dm['HTeamCode'] != dm['VTeamCode']) & (dm['HPlayer2'] != dm['VPlayer2']), dm['hrw']/dm['thgp2'],\n",
    "                   (np.where((dm['Season'] == dm['Season']) &(dm['VTeamCode'] == dm['HTeamCode']) & (dm['VPlayer2'] == dm['HPlayer2']), (dm['vrw'] + dm['hrw'])/dm['gp2'], dm['vrw']/dm['tvgp2'])))))"
   ]
  },
  {
   "cell_type": "markdown",
   "metadata": {},
   "source": [
    "- create a variable for the overall roster position for all players of a given team, that played in position 3, which is the **left wing position.**"
   ]
  },
  {
   "cell_type": "code",
   "execution_count": 71,
   "metadata": {
    "collapsed": true
   },
   "outputs": [],
   "source": [
    "dm['lw'] = np.where((dm['Season'] == dm['Season']) & (dm['HTeamCode'] == dm['VTeamCode']) & (dm['HPlayer3'] == dm['VPlayer3']), (dm['hlw'] + dm['vlw'])/dm['gp3'],\n",
    "                   (np.where((dm['Season'] == dm['Season']) & (dm['HTeamCode'] != dm['VTeamCode']) & (dm['HPlayer3'] != dm['VPlayer3']), dm['hlw']/dm['thgp3'],\n",
    "                   (np.where((dm['Season'] == dm['Season']) &(dm['VTeamCode'] == dm['HTeamCode']) & (dm['VPlayer3'] == dm['HPlayer3']), (dm['vlw'] + dm['hlw'])/dm['gp3'], dm['vlw']/dm['tvgp3'])))))"
   ]
  },
  {
   "cell_type": "markdown",
   "metadata": {},
   "source": [
    "- create a variable for the overall roster position for all players of a given team, that played in position 4, which is the **right defense position.**"
   ]
  },
  {
   "cell_type": "code",
   "execution_count": 72,
   "metadata": {
    "collapsed": true
   },
   "outputs": [],
   "source": [
    "dm['dr'] = np.where((dm['Season'] == dm['Season']) & (dm['HTeamCode'] == dm['VTeamCode']) & (dm['HPlayer4'] == dm['VPlayer4']), (dm['hdr'] + dm['vdr'])/dm['gp4'],\n",
    "                   (np.where((dm['Season'] == dm['Season']) & (dm['HTeamCode'] != dm['VTeamCode']) & (dm['HPlayer4'] != dm['VPlayer4']), dm['hdr']/dm['thgp4'],\n",
    "                   (np.where((dm['Season'] == dm['Season']) &(dm['VTeamCode'] == dm['HTeamCode']) & (dm['VPlayer4'] == dm['HPlayer4']), (dm['vdr'] + dm['hdr'])/dm['gp4'], dm['vdr']/dm['tvgp4'])))))"
   ]
  },
  {
   "cell_type": "markdown",
   "metadata": {},
   "source": [
    "- create a variable for the overall roster position for all players of a given team, that played in position 5, which is the **left defense position.**"
   ]
  },
  {
   "cell_type": "code",
   "execution_count": 73,
   "metadata": {
    "collapsed": true
   },
   "outputs": [],
   "source": [
    "dm['dl'] = np.where((dm['Season'] == dm['Season']) & (dm['HTeamCode'] == dm['VTeamCode']) & (dm['HPlayer5'] == dm['VPlayer5']), (dm['hdl'] + dm['vdl'])/dm['gp5'],\n",
    "                   (np.where((dm['Season'] == dm['Season']) & (dm['HTeamCode'] != dm['VTeamCode']) & (dm['HPlayer5'] != dm['VPlayer5']), dm['hdl']/dm['thgp5'],\n",
    "                   (np.where((dm['Season'] == dm['Season']) &(dm['VTeamCode'] == dm['HTeamCode']) & (dm['VPlayer5'] == dm['HPlayer5']), (dm['vdl'] + dm['hdl'])/dm['gp5'], dm['vdl']/dm['tvgp5'])))))"
   ]
  },
  {
   "cell_type": "markdown",
   "metadata": {},
   "source": [
    "- create a variable for the overall roster position for all players of a given team, that played in position 5, which is the **goaltender position.**"
   ]
  },
  {
   "cell_type": "code",
   "execution_count": 74,
   "metadata": {
    "collapsed": false
   },
   "outputs": [],
   "source": [
    "dm['g'] = np.where((dm['Season'] == dm['Season']) & (dm['HTeamCode'] == dm['VTeamCode']) & (dm['HPlayer6'] == dm['VPlayer6']), (dm['hg'] + dm['vg'])/dm['gp6'],\n",
    "                   (np.where((dm['Season'] == dm['Season']) & (dm['HTeamCode'] != dm['VTeamCode']) & (dm['HPlayer6'] != dm['VPlayer6']), dm['hg']/dm['thgp6'],\n",
    "                   (np.where((dm['Season'] == dm['Season']) &(dm['VTeamCode'] == dm['HTeamCode']) & (dm['VPlayer6'] == dm['HPlayer6']), (dm['vg'] + dm['hg'])/dm['gp6'], dm['vg']//dm['tvgp6'])))))"
   ]
  },
  {
   "cell_type": "markdown",
   "metadata": {
    "collapsed": true
   },
   "source": [
    "## store player allocation data frame"
   ]
  },
  {
   "cell_type": "markdown",
   "metadata": {},
   "source": [
    "the player allocation data frame will be stored and used for the implementation of roster model."
   ]
  },
  {
   "cell_type": "code",
   "execution_count": 75,
   "metadata": {
    "collapsed": true
   },
   "outputs": [],
   "source": [
    "dm.to_csv('player_allocation.csv', index='False', sep=',')"
   ]
  }
 ],
 "metadata": {
  "kernelspec": {
   "display_name": "Python 3",
   "language": "python",
   "name": "python3"
  },
  "language_info": {
   "codemirror_mode": {
    "name": "ipython",
    "version": 3
   },
   "file_extension": ".py",
   "mimetype": "text/x-python",
   "name": "python",
   "nbconvert_exporter": "python",
   "pygments_lexer": "ipython3",
   "version": "3.6.0"
  }
 },
 "nbformat": 4,
 "nbformat_minor": 2
}
