{
 "cells": [
  {
   "cell_type": "markdown",
   "metadata": {},
   "source": [
    "# Player Allocation"
   ]
  },
  {
   "cell_type": "markdown",
   "metadata": {},
   "source": [
    "Upon completion of evaluation of overall performance for all skaters, each player will be categorized and assigned to their respectful position within the roster of their team. The fundamental statistic used to differentiate top from bottom players, is zone start percentage. There are three zones from where plays can be started: offensive, neutral and defensive. Offensive zone start percentage is calculated by the number of face-offs held in the attacking area divided by the sum of face-offs an individual player was on the ice for. Identically, defensive zone start percentage is computed by the number of face-offs taken in their own territory divided by the total face-offs each player was on the ice for. Skaters who are talented in creating opportunities and producing goals will have a greater percentage of offensive zone starts in comparison to defensive zone starts. Equivalently, players who are skilled in preventing chances and goals being conceded, will have a higher defensive zone start percentage in correlation to offensive zone starts. In other words, top six forwards and top four pairing defensemen will start much of their shifts in the zone their opponent whereas bottom six forwards and bottom pairing defensemen in their own zone.\n"
   ]
  },
  {
   "cell_type": "markdown",
   "metadata": {},
   "source": [
    "### purpose of notebook:"
   ]
  },
  {
   "cell_type": "markdown",
   "metadata": {},
   "source": [
    "a) create two variables: offensive zone start and defensive zone start."
   ]
  },
  {
   "cell_type": "markdown",
   "metadata": {},
   "source": [
    "b) sum up the total offensive and defensive zone start per player."
   ]
  },
  {
   "cell_type": "markdown",
   "metadata": {},
   "source": [
    "c) categorize forwards into top and bottom six."
   ]
  },
  {
   "cell_type": "markdown",
   "metadata": {},
   "source": [
    "d) categorize defensemen into top four and bottom pairing."
   ]
  },
  {
   "cell_type": "markdown",
   "metadata": {},
   "source": [
    "e) determine each player's roster depth position"
   ]
  },
  {
   "cell_type": "markdown",
   "metadata": {},
   "source": [
    "##  import modules"
   ]
  },
  {
   "cell_type": "code",
   "execution_count": 189,
   "metadata": {
    "collapsed": true
   },
   "outputs": [],
   "source": [
    "import sys\n",
    "import os\n",
    "import pandas as pd\n",
    "import numpy as np\n",
    "import datetime, time\n",
    "import matplotlib.pyplot as plt\n",
    "import statsmodels.api as sm\n",
    "from statsmodels.formula.api import ols\n",
    "from pylab import hist, show\n",
    "import scipy"
   ]
  },
  {
   "cell_type": "markdown",
   "metadata": {},
   "source": [
    "## import data frame"
   ]
  },
  {
   "cell_type": "markdown",
   "metadata": {},
   "source": [
    "The player evaluation data frame is used for player allocation."
   ]
  },
  {
   "cell_type": "code",
   "execution_count": 190,
   "metadata": {
    "collapsed": true
   },
   "outputs": [],
   "source": [
    "dm = pd.read_csv('plyreval.csv')"
   ]
  },
  {
   "cell_type": "markdown",
   "metadata": {},
   "source": [
    "## drop unnamed column (irrelevant)"
   ]
  },
  {
   "cell_type": "code",
   "execution_count": 191,
   "metadata": {
    "collapsed": true
   },
   "outputs": [],
   "source": [
    "dm = dm.drop('Unnamed: 0', axis=1)"
   ]
  },
  {
   "cell_type": "markdown",
   "metadata": {},
   "source": [
    "## zone start"
   ]
  },
  {
   "cell_type": "markdown",
   "metadata": {},
   "source": [
    "With the help of zone variable, offensive, neutral and defensive zone starts will be created."
   ]
  },
  {
   "cell_type": "markdown",
   "metadata": {},
   "source": [
    "**zone start variable:** "
   ]
  },
  {
   "cell_type": "markdown",
   "metadata": {},
   "source": [
    "- a value of 1 will be assigned if the on-ice event happened in the offensive zone."
   ]
  },
  {
   "cell_type": "markdown",
   "metadata": {},
   "source": [
    "- a value of 0 will be assigned if the on-ice event happened in the neutral zone."
   ]
  },
  {
   "cell_type": "markdown",
   "metadata": {},
   "source": [
    "- a value of -1 if it happened in the defensive zone of the representative team."
   ]
  },
  {
   "cell_type": "code",
   "execution_count": 192,
   "metadata": {
    "collapsed": true
   },
   "outputs": [],
   "source": [
    "dm['zs'] = np.where(dm['Zone'] == 'O', 1,\n",
    "                    (np.where(dm['Zone'] == 'D', -1, 0)))"
   ]
  },
  {
   "cell_type": "markdown",
   "metadata": {},
   "source": [
    "## home and visitor zone start"
   ]
  },
  {
   "cell_type": "markdown",
   "metadata": {},
   "source": [
    "- visitor team zone start (vzs)"
   ]
  },
  {
   "cell_type": "markdown",
   "metadata": {},
   "source": [
    "If team code of event is the same as visitor team, the visitor zone start variable will be assigned identical value to zone start. If not, it will be assigned the opposite (negative) value of zone start. "
   ]
  },
  {
   "cell_type": "code",
   "execution_count": 193,
   "metadata": {
    "collapsed": false
   },
   "outputs": [],
   "source": [
    "dm['vzs'] = np.where(dm['TeamCode'] == dm['VTeamCode'], dm['zs'], -dm['zs'] )"
   ]
  },
  {
   "cell_type": "markdown",
   "metadata": {},
   "source": [
    "- home team zone start (hzs) "
   ]
  },
  {
   "cell_type": "markdown",
   "metadata": {},
   "source": [
    "If team code of event is the same as home team, the home team will be assigned identical value to zone start. If not, it will be assigned the opposite (negative) value of zone start. "
   ]
  },
  {
   "cell_type": "code",
   "execution_count": 194,
   "metadata": {
    "collapsed": false
   },
   "outputs": [],
   "source": [
    "dm['hzs'] = np.where(dm['TeamCode'] == dm['HTeamCode'], dm['zs'], -dm['zs'] )"
   ]
  },
  {
   "cell_type": "markdown",
   "metadata": {},
   "source": [
    "## assign zone start to players"
   ]
  },
  {
   "cell_type": "markdown",
   "metadata": {},
   "source": [
    "The value of zone start is assigned to all players that were on ice, a total of 12 players (6 per team). The overall zone start variable of each player is the total (sum) of events they participated in. "
   ]
  },
  {
   "cell_type": "markdown",
   "metadata": {},
   "source": [
    "### a) overall zone start of each player from the visitor team in all (6) positions "
   ]
  },
  {
   "cell_type": "markdown",
   "metadata": {},
   "source": [
    "Group data frame by season, visitor team code and visitor player position to seperate players that play in the same position. "
   ]
  },
  {
   "cell_type": "markdown",
   "metadata": {},
   "source": [
    "- create variable that sums up the overall zone start of each player from the visitor team that is listed as \"VPlayer1\""
   ]
  },
  {
   "cell_type": "code",
   "execution_count": 195,
   "metadata": {
    "collapsed": true
   },
   "outputs": [],
   "source": [
    "dm['zvp1'] = dm.groupby(['Season', 'VTeamCode', 'VPlayer1'])['vzs'].transform('sum')"
   ]
  },
  {
   "cell_type": "markdown",
   "metadata": {},
   "source": [
    "- create variable that sums up the overall zone start of each player from the visitor team that is listed as \"VPlayer2\""
   ]
  },
  {
   "cell_type": "code",
   "execution_count": 196,
   "metadata": {
    "collapsed": false
   },
   "outputs": [],
   "source": [
    "dm['zvp2'] = dm.groupby(['Season', 'VTeamCode', 'VPlayer2'])['vzs'].transform('sum')"
   ]
  },
  {
   "cell_type": "markdown",
   "metadata": {},
   "source": [
    "- create variable that sums up the overall zone start of each player from the visitor team that is listed as \"VPlayer3\""
   ]
  },
  {
   "cell_type": "code",
   "execution_count": 197,
   "metadata": {
    "collapsed": true
   },
   "outputs": [],
   "source": [
    "dm['zvp3'] = dm.groupby(['Season', 'VTeamCode', 'VPlayer3'])['vzs'].transform('sum')"
   ]
  },
  {
   "cell_type": "markdown",
   "metadata": {},
   "source": [
    "- create variable that sums up the overall zone start of each player from the visitor team that is listed as \"VPlayer4\""
   ]
  },
  {
   "cell_type": "code",
   "execution_count": 198,
   "metadata": {
    "collapsed": true
   },
   "outputs": [],
   "source": [
    "dm['zvp4'] = dm.groupby(['Season', 'VTeamCode', 'VPlayer4'])['vzs'].transform('sum')"
   ]
  },
  {
   "cell_type": "markdown",
   "metadata": {},
   "source": [
    "- create variable that sums up the overall zone start of each player from the visitor team that is listed as \"VPlayer5\""
   ]
  },
  {
   "cell_type": "code",
   "execution_count": 199,
   "metadata": {
    "collapsed": true
   },
   "outputs": [],
   "source": [
    "dm['zvp5'] = dm.groupby(['Season', 'VTeamCode', 'VPlayer5'])['vzs'].transform('sum')"
   ]
  },
  {
   "cell_type": "markdown",
   "metadata": {},
   "source": [
    "- create variable that sums up the overall zone start of each player from the visitor team that is listed as \"VPlayer6\""
   ]
  },
  {
   "cell_type": "code",
   "execution_count": 200,
   "metadata": {
    "collapsed": true
   },
   "outputs": [],
   "source": [
    "dm['zvp6'] = dm.groupby(['Season', 'VTeamCode', 'VPlayer6'])['vzs'].transform('sum')"
   ]
  },
  {
   "cell_type": "markdown",
   "metadata": {},
   "source": [
    "### b) overall zone start of each player from the home team in all (6) positions"
   ]
  },
  {
   "cell_type": "markdown",
   "metadata": {},
   "source": [
    "Group data frame by season, home team code and home player position to seperate players that play in the same position."
   ]
  },
  {
   "cell_type": "markdown",
   "metadata": {},
   "source": [
    "- create variable that sums up the overall zone start of each player from the visitor team that is listed as \"HPlayer1\""
   ]
  },
  {
   "cell_type": "code",
   "execution_count": 201,
   "metadata": {
    "collapsed": true
   },
   "outputs": [],
   "source": [
    "dm['zhp1'] = dm.groupby(['Season', 'HTeamCode', 'HPlayer1'])['hzs'].transform('sum')"
   ]
  },
  {
   "cell_type": "markdown",
   "metadata": {},
   "source": [
    "- create variable that sums up the overall zone start of each player from the visitor team that is listed as \"HPlayer2\""
   ]
  },
  {
   "cell_type": "code",
   "execution_count": 202,
   "metadata": {
    "collapsed": true
   },
   "outputs": [],
   "source": [
    "dm['zhp2'] = dm.groupby(['Season', 'HTeamCode', 'HPlayer2'])['hzs'].transform('sum')"
   ]
  },
  {
   "cell_type": "markdown",
   "metadata": {},
   "source": [
    "- create variable that sums up the overall zone start of each player from the visitor team that is listed as \"HPlayer3\""
   ]
  },
  {
   "cell_type": "code",
   "execution_count": 203,
   "metadata": {
    "collapsed": true
   },
   "outputs": [],
   "source": [
    "dm['zhp3'] = dm.groupby(['Season', 'HTeamCode', 'HPlayer3'])['hzs'].transform('sum')"
   ]
  },
  {
   "cell_type": "markdown",
   "metadata": {},
   "source": [
    "- create variable that sums up the overall zone start of each player from the visitor team that is listed as \"HPlayer4\""
   ]
  },
  {
   "cell_type": "code",
   "execution_count": 204,
   "metadata": {
    "collapsed": true
   },
   "outputs": [],
   "source": [
    "dm['zhp4'] = dm.groupby(['Season', 'HTeamCode', 'HPlayer4'])['hzs'].transform('sum')"
   ]
  },
  {
   "cell_type": "markdown",
   "metadata": {},
   "source": [
    "- create variable that sums up the overall zone start of each player from the visitor team that is listed as \"HPlayer5\""
   ]
  },
  {
   "cell_type": "code",
   "execution_count": 205,
   "metadata": {
    "collapsed": true
   },
   "outputs": [],
   "source": [
    "dm['zhp5'] = dm.groupby(['Season', 'HTeamCode', 'HPlayer5'])['hzs'].transform('sum')"
   ]
  },
  {
   "cell_type": "markdown",
   "metadata": {},
   "source": [
    "- create variable that sums up the overall zone start of each player from the visitor team that is listed as \"HPlayer6\""
   ]
  },
  {
   "cell_type": "code",
   "execution_count": 206,
   "metadata": {
    "collapsed": true
   },
   "outputs": [],
   "source": [
    "dm['zhp6'] = dm.groupby(['Season', 'HTeamCode', 'HPlayer6'])['hzs'].transform('sum')"
   ]
  },
  {
   "cell_type": "markdown",
   "metadata": {},
   "source": [
    "## players that play in multiple positions"
   ]
  },
  {
   "cell_type": "markdown",
   "metadata": {},
   "source": [
    "Throughout the duration of a game, a player may change position. As mentioned above, the overall impact of a given player is the total (sum) of events he participated in. To properly measure each player's contribution, a cross examination per position must be applied."
   ]
  },
  {
   "cell_type": "markdown",
   "metadata": {},
   "source": [
    "- **a) cross examine each position for visitor team:**"
   ]
  },
  {
   "cell_type": "markdown",
   "metadata": {},
   "source": [
    "- if visitor player in position 1 played in any other position, the total of zone starts he was on the ice for are calculated with the use of **np.where**."
   ]
  },
  {
   "cell_type": "code",
   "execution_count": 241,
   "metadata": {
    "collapsed": false
   },
   "outputs": [],
   "source": [
    "dm['tzvp1'] = np.where(dm['VPlayer1'] == dm['VPlayer2'], dm['zvp1'] + dm['zvp2'],\n",
    "                     (np.where(dm['VPlayer1'] == dm['VPlayer3'], dm['zvp1'] + dm['zvp3'],\n",
    "                              (np.where(dm['VPlayer1'] == dm['VPlayer4'], dm['zvp1'] + dm['zvp4'],\n",
    "                                       (np.where(dm['VPlayer1'] == dm['VPlayer5'], dm['zvp1'] + dm['zvp5'],\n",
    "                                                (np.where(dm['VPlayer1'] == dm['VPlayer6'], dm['zvp1'] + dm['zvp6'], dm['zvp1'])))))))))"
   ]
  },
  {
   "cell_type": "markdown",
   "metadata": {},
   "source": [
    "- if visitor player in position 2 played in any other position, the total of zone starts he was on the ice for are calculated with the use of **np.where**. If visitor player in position 2, didn't play in any other position, the total of zone starts in position 2 he participated in, are listed."
   ]
  },
  {
   "cell_type": "code",
   "execution_count": 208,
   "metadata": {
    "collapsed": true
   },
   "outputs": [],
   "source": [
    "dm['tzvp2'] = np.where(dm['VPlayer2'] == dm['VPlayer1'], dm['zvp2'] + dm['zvp1'],\n",
    "                     (np.where(dm['VPlayer2'] == dm['VPlayer3'], dm['zvp2'] + dm['zvp3'],\n",
    "                              (np.where(dm['VPlayer2'] == dm['VPlayer4'], dm['zvp2'] + dm['zvp4'],\n",
    "                                       (np.where(dm['VPlayer2'] == dm['VPlayer5'], dm['zvp2'] + dm['zvp5'],\n",
    "                                                (np.where(dm['VPlayer2'] == dm['VPlayer6'], dm['zvp2'] + dm['zvp6'], dm['zvp2'])))))))))"
   ]
  },
  {
   "cell_type": "markdown",
   "metadata": {},
   "source": [
    "- if visitor player in position 3 played in any other position, the total of zone starts he was on the ice for are calculated with the use of **np.where**. If visitor player in position 3, didn't play in any other position, the total of zone starts in position 3 he participated in, are listed."
   ]
  },
  {
   "cell_type": "code",
   "execution_count": 209,
   "metadata": {
    "collapsed": true
   },
   "outputs": [],
   "source": [
    "dm['tzvp3'] = np.where(dm['VPlayer3'] == dm['VPlayer1'], dm['zvp3'] + dm['zvp1'],\n",
    "                     (np.where(dm['VPlayer3'] == dm['VPlayer2'], dm['zvp3'] + dm['zvp2'],\n",
    "                              (np.where(dm['VPlayer3'] == dm['VPlayer4'], dm['zvp3'] + dm['zvp4'],\n",
    "                                       (np.where(dm['VPlayer3'] == dm['VPlayer5'], dm['zvp3'] + dm['zvp5'],\n",
    "                                                (np.where(dm['VPlayer3'] == dm['VPlayer6'], dm['zvp3'] + dm['zvp6'], dm['zvp3'])))))))))"
   ]
  },
  {
   "cell_type": "markdown",
   "metadata": {},
   "source": [
    "- if visitor player in position 4 played in any other position, the total of zone starts he was on the ice for are calculated with the use of **np.where**. If visitor player in position 4, didn't play in any other position, the total of zone starts in position 4 he participated in, are listed."
   ]
  },
  {
   "cell_type": "code",
   "execution_count": 210,
   "metadata": {
    "collapsed": true
   },
   "outputs": [],
   "source": [
    "dm['tzvp4'] = np.where(dm['VPlayer4'] == dm['VPlayer1'], dm['zvp4'] + dm['zvp1'],\n",
    "                     (np.where(dm['VPlayer4'] == dm['VPlayer2'], dm['zvp4'] + dm['zvp2'],\n",
    "                              (np.where(dm['VPlayer4'] == dm['VPlayer3'], dm['zvp4'] + dm['zvp3'],\n",
    "                                       (np.where(dm['VPlayer4'] == dm['VPlayer5'], dm['zvp4'] + dm['zvp5'],\n",
    "                                                (np.where(dm['VPlayer4'] == dm['VPlayer6'], dm['zvp1'] + dm['zvp6'], dm['zvp4'])))))))))"
   ]
  },
  {
   "cell_type": "markdown",
   "metadata": {},
   "source": [
    "- if visitor player in position 5 played in any other position, the total of zone starts he was on the ice for are calculated with the use of **np.where**. If visitor player in position 5, didn't play in any other position, the total of zone starts in position 5 he participated in, are listed."
   ]
  },
  {
   "cell_type": "code",
   "execution_count": 211,
   "metadata": {
    "collapsed": true
   },
   "outputs": [],
   "source": [
    "dm['tzvp5'] = np.where(dm['VPlayer5'] == dm['VPlayer1'], dm['zvp5'] + dm['zvp1'],\n",
    "                     (np.where(dm['VPlayer5'] == dm['VPlayer2'], dm['zvp5'] + dm['zvp2'],\n",
    "                              (np.where(dm['VPlayer5'] == dm['VPlayer3'], dm['zvp5'] + dm['zvp3'],\n",
    "                                       (np.where(dm['VPlayer5'] == dm['VPlayer4'], dm['zvp5'] + dm['zvp4'],\n",
    "                                                (np.where(dm['VPlayer5'] == dm['VPlayer6'], dm['zvp5'] + dm['zvp6'], dm['zvp5'])))))))))"
   ]
  },
  {
   "cell_type": "markdown",
   "metadata": {},
   "source": [
    "- if visitor player in position 6 played in any other position, the total of zone starts he was on the ice for are calculated with the use of **np.where**. If visitor player in position 6, didn't play in any other position, the total of zone starts in position 6 he participated in, are listed."
   ]
  },
  {
   "cell_type": "code",
   "execution_count": 212,
   "metadata": {
    "collapsed": true
   },
   "outputs": [],
   "source": [
    "dm['tzvp6'] = np.where(dm['VPlayer6'] == dm['VPlayer1'], dm['zvp6'] + dm['zvp1'],\n",
    "                     (np.where(dm['VPlayer6'] == dm['VPlayer2'], dm['zvp6'] + dm['zvp2'],\n",
    "                              (np.where(dm['VPlayer6'] == dm['VPlayer3'], dm['zvp6'] + dm['zvp3'],\n",
    "                                       (np.where(dm['VPlayer6'] == dm['VPlayer4'], dm['zvp6'] + dm['zvp4'],\n",
    "                                                (np.where(dm['VPlayer6'] == dm['VPlayer5'], dm['zvp6'] + dm['zvp5'], dm['zvp6'])))))))))"
   ]
  },
  {
   "cell_type": "markdown",
   "metadata": {},
   "source": [
    "- **b) cross examine each position for home team:**"
   ]
  },
  {
   "cell_type": "markdown",
   "metadata": {},
   "source": [
    "- if home player in position 1 played in any other position, the total of zone starts he was on the ice for are calculated with the use of **np.where**. If home player in position 1, didn't play in any other position, the total of zone starts in position 1 he participated in, are listed."
   ]
  },
  {
   "cell_type": "code",
   "execution_count": 213,
   "metadata": {
    "collapsed": true
   },
   "outputs": [],
   "source": [
    "dm['tzhp1'] = np.where(dm['HPlayer1'] == dm['HPlayer2'], dm['zhp1'] + dm['zhp2'],\n",
    "                     (np.where(dm['HPlayer1'] == dm['HPlayer3'], dm['zhp1'] + dm['zhp3'],\n",
    "                              (np.where(dm['HPlayer1'] == dm['HPlayer4'], dm['zhp1'] + dm['zhp4'],\n",
    "                                       (np.where(dm['HPlayer1'] == dm['HPlayer5'], dm['zhp1'] + dm['zhp5'],\n",
    "                                                (np.where(dm['HPlayer1'] == dm['HPlayer6'], dm['zhp1'] + dm['zhp6'], dm['zhp1'])))))))))"
   ]
  },
  {
   "cell_type": "markdown",
   "metadata": {},
   "source": [
    "- if home player in position 2 played in any other position, the total of zone starts he was on the ice for are calculated with the use of **np.where**. If home player in position 2, didn't play in any other position, the total of zone starts in position 2 he participated in, are listed."
   ]
  },
  {
   "cell_type": "code",
   "execution_count": 214,
   "metadata": {
    "collapsed": true
   },
   "outputs": [],
   "source": [
    "dm['tzhp2'] = np.where(dm['HPlayer2'] == dm['HPlayer1'], dm['zhp2'] + dm['zhp1'],\n",
    "                     (np.where(dm['HPlayer2'] == dm['HPlayer3'], dm['zhp2'] + dm['zhp3'],\n",
    "                              (np.where(dm['HPlayer2'] == dm['HPlayer4'], dm['zhp2'] + dm['zhp4'],\n",
    "                                       (np.where(dm['HPlayer2'] == dm['HPlayer5'], dm['zhp2'] + dm['zhp5'],\n",
    "                                                (np.where(dm['HPlayer2'] == dm['HPlayer6'], dm['zhp2'] + dm['zhp6'], dm['zhp2'])))))))))"
   ]
  },
  {
   "cell_type": "markdown",
   "metadata": {},
   "source": [
    "- if home player in position 3 played in any other position, the total of zone starts he was on the ice for are calculated with the use of **np.where**. If home player in position 3, didn't play in any other position, the total of zone starts in position 3 he participated in, are listed."
   ]
  },
  {
   "cell_type": "code",
   "execution_count": 215,
   "metadata": {
    "collapsed": true
   },
   "outputs": [],
   "source": [
    "dm['tzhp3'] = np.where(dm['HPlayer3'] == dm['HPlayer1'], dm['zhp3'] + dm['zhp1'],\n",
    "                     (np.where(dm['HPlayer3'] == dm['HPlayer2'], dm['zhp3'] + dm['zhp2'],\n",
    "                              (np.where(dm['HPlayer3'] == dm['HPlayer4'], dm['zhp3'] + dm['zhp4'],\n",
    "                                       (np.where(dm['HPlayer3'] == dm['HPlayer5'], dm['zhp3'] + dm['zhp5'],\n",
    "                                                (np.where(dm['HPlayer3'] == dm['HPlayer6'], dm['zhp3'] + dm['zhp6'], dm['zhp3'])))))))))"
   ]
  },
  {
   "cell_type": "markdown",
   "metadata": {},
   "source": [
    "- if home player in position 4 played in any other position, the total of zone starts he was on the ice for are calculated with the use of **np.where**. If home player in position 4, didn't play in any other position, the total of zone starts in position 4 he participated in, are listed."
   ]
  },
  {
   "cell_type": "code",
   "execution_count": 216,
   "metadata": {
    "collapsed": true
   },
   "outputs": [],
   "source": [
    "dm['tzhp4'] = np.where(dm['HPlayer4'] == dm['HPlayer1'], dm['zhp4'] + dm['zhp1'],\n",
    "                     (np.where(dm['HPlayer4'] == dm['HPlayer2'], dm['zhp4'] + dm['zhp2'],\n",
    "                              (np.where(dm['HPlayer4'] == dm['HPlayer3'], dm['zhp4'] + dm['zhp3'],\n",
    "                                       (np.where(dm['HPlayer4'] == dm['HPlayer5'], dm['zhp4'] + dm['zhp5'],\n",
    "                                                (np.where(dm['HPlayer4'] == dm['HPlayer6'], dm['zhp1'] + dm['zhp6'], dm['zhp4'])))))))))"
   ]
  },
  {
   "cell_type": "markdown",
   "metadata": {},
   "source": [
    "- if home player in position 5 played in any other position, the total of zone starts he was on the ice for are calculated with the use of **np.where**. If home player in position 5, didn't play in any other position, the total of zone starts in position 5 he participated in, are listed."
   ]
  },
  {
   "cell_type": "code",
   "execution_count": 217,
   "metadata": {
    "collapsed": true
   },
   "outputs": [],
   "source": [
    "dm['tzhp5'] = np.where(dm['HPlayer5'] == dm['HPlayer1'], dm['zhp5'] + dm['zhp1'],\n",
    "                     (np.where(dm['HPlayer5'] == dm['HPlayer2'], dm['zhp5'] + dm['zhp2'],\n",
    "                              (np.where(dm['HPlayer5'] == dm['HPlayer3'], dm['zhp5'] + dm['zhp3'],\n",
    "                                       (np.where(dm['HPlayer5'] == dm['HPlayer4'], dm['zhp5'] + dm['zhp4'],\n",
    "                                                (np.where(dm['HPlayer5'] == dm['HPlayer6'], dm['zhp5'] + dm['zhp6'], dm['zhp5'])))))))))"
   ]
  },
  {
   "cell_type": "markdown",
   "metadata": {},
   "source": [
    "- if home player in position 6 played in any other position, the total of zone starts he was on the ice for are calculated with the use of **np.where**. If home player in position 6, didn't play in any other position, the total of zone starts in position 6 he participated in, are listed."
   ]
  },
  {
   "cell_type": "code",
   "execution_count": 218,
   "metadata": {
    "collapsed": true
   },
   "outputs": [],
   "source": [
    "dm['tzhp6'] = np.where(dm['HPlayer6'] == dm['HPlayer1'], dm['zhp6'] + dm['zhp1'],\n",
    "                     (np.where(dm['HPlayer6'] == dm['HPlayer2'], dm['zhp6'] + dm['zhp2'],\n",
    "                              (np.where(dm['HPlayer6'] == dm['HPlayer3'], dm['zhp6'] + dm['zhp3'],\n",
    "                                       (np.where(dm['HPlayer6'] == dm['HPlayer4'], dm['zhp6'] + dm['zhp4'],\n",
    "                                                (np.where(dm['HPlayer6'] == dm['HPlayer5'], dm['zhp6'] + dm['zhp5'], dm['zhp6'])))))))))"
   ]
  },
  {
   "cell_type": "markdown",
   "metadata": {},
   "source": [
    "## overall zone starts"
   ]
  },
  {
   "cell_type": "markdown",
   "metadata": {},
   "source": [
    "Zone starts of each player has been calculated only for his team being home or away for the season, since home zone start value and visitor zone start value were used. The **total zone starts** of each player is the total of zone starts he participated for a whole season. Thus, the sum of both home and away zone starts."
   ]
  },
  {
   "cell_type": "markdown",
   "metadata": {},
   "source": [
    "- create a variable will add up the home zone start value and away zone start value for all players of a given team, that played in position 1."
   ]
  },
  {
   "cell_type": "code",
   "execution_count": 219,
   "metadata": {
    "collapsed": true
   },
   "outputs": [],
   "source": [
    "dm['zplyr1'] = np.where(dm['HTeamCode'] == dm['VTeamCode'], dm['tzhp1'] + dm['tzvp1'],\n",
    "                       (np.where(dm['VTeamCode'] == dm['HTeamCode'], dm['tzvp1'] + dm['tzhp1'], 0)))"
   ]
  },
  {
   "cell_type": "markdown",
   "metadata": {},
   "source": [
    "- create a variable will add up the home zone start value and away zone start value for all players of a given team, that played in position 2."
   ]
  },
  {
   "cell_type": "code",
   "execution_count": 220,
   "metadata": {
    "collapsed": true
   },
   "outputs": [],
   "source": [
    "dm['zplyr2'] = np.where(dm['HTeamCode'] == dm['VTeamCode'], dm['tzhp2'] + dm['tzvp2'],\n",
    "                       (np.where(dm['VTeamCode'] == dm['HTeamCode'], dm['tzvp2'] + dm['tzhp2'], 0)))"
   ]
  },
  {
   "cell_type": "markdown",
   "metadata": {},
   "source": [
    "- create a variable will add up the home zone start value and away zone start value for all players of a given team, that played in position 3."
   ]
  },
  {
   "cell_type": "code",
   "execution_count": 221,
   "metadata": {
    "collapsed": true
   },
   "outputs": [],
   "source": [
    "dm['zplyr3'] = np.where(dm['HTeamCode'] == dm['VTeamCode'], dm['tzhp3'] + dm['tzvp3'],\n",
    "                       (np.where(dm['VTeamCode'] == dm['HTeamCode'], dm['tzvp3'] + dm['tzhp3'], 0)))"
   ]
  },
  {
   "cell_type": "markdown",
   "metadata": {},
   "source": [
    "- create a variable will add up the home zone start value and away zone start value for all players of a given team, that played in position 4."
   ]
  },
  {
   "cell_type": "code",
   "execution_count": 222,
   "metadata": {
    "collapsed": true
   },
   "outputs": [],
   "source": [
    "dm['zplyr4'] = np.where(dm['HTeamCode'] == dm['VTeamCode'], dm['tzhp4'] + dm['tzvp4'],\n",
    "                       (np.where(dm['VTeamCode'] == dm['HTeamCode'], dm['tzvp4'] + dm['tzhp4'], 0)))"
   ]
  },
  {
   "cell_type": "markdown",
   "metadata": {},
   "source": [
    "- create a variable will add up the home zone start value and away zone start value for all players of a given team, that played in position 5."
   ]
  },
  {
   "cell_type": "code",
   "execution_count": 223,
   "metadata": {
    "collapsed": true
   },
   "outputs": [],
   "source": [
    "dm['zplyr5'] = np.where(dm['HTeamCode'] == dm['VTeamCode'], dm['tzhp5'] + dm['tzvp5'],\n",
    "                       (np.where(dm['VTeamCode'] == dm['HTeamCode'], dm['tzvp5'] + dm['tzhp5'], 0)))"
   ]
  },
  {
   "cell_type": "markdown",
   "metadata": {},
   "source": [
    "- create a variable will add up the home zone start value and away zone start value for all players of a given team, that played in position 6."
   ]
  },
  {
   "cell_type": "code",
   "execution_count": 224,
   "metadata": {
    "collapsed": true
   },
   "outputs": [],
   "source": [
    "dm['zplyr6'] = np.where(dm['HTeamCode'] == dm['VTeamCode'], dm['tzhp6'] + dm['tzvp6'],\n",
    "                       (np.where(dm['VTeamCode'] == dm['HTeamCode'], dm['tzvp6'] + dm['tzhp6'], 0)))                            "
   ]
  },
  {
   "cell_type": "markdown",
   "metadata": {},
   "source": [
    "## allocate players per position to forward lines and defensive pairings"
   ]
  },
  {
   "cell_type": "markdown",
   "metadata": {},
   "source": [
    "- If the zone start variable of a player for a given team is the highest in that specific position, it indicates that he participated in the most offensive zone starts. These skaters will be identified as **first line forwards and top defenisive pairing**. "
   ]
  },
  {
   "cell_type": "markdown",
   "metadata": {},
   "source": [
    "- If the zone start variable of a player is the second highest in that specific position, it indicates that the given skater participated in the second most offensive zone starts. These skaters will be identified as **second line forwards and second defenisive pairing**. "
   ]
  },
  {
   "cell_type": "markdown",
   "metadata": {},
   "source": [
    "- If the zone start variable of a player is the third highest in that specific position, it indicates that the given skater participated in the third most offensive zone starts. These skaters will be identified as **third line forwards and bottom defenisive pairing**. "
   ]
  },
  {
   "cell_type": "markdown",
   "metadata": {},
   "source": [
    "- If the zone start variable of a player is the lowest in that specific position, it indicates that the given skater participated in the least offensive zone starts. These skaters will be identified as **fourth line forwards**. "
   ]
  },
  {
   "cell_type": "markdown",
   "metadata": {},
   "source": [
    "### a) visitor team"
   ]
  },
  {
   "cell_type": "markdown",
   "metadata": {},
   "source": [
    "- generate a variable that will allocate all players in position 1 to their respectful line. Position 1 is the **centre** position of forward lines. If **total zone start > 2**, player is assinged to the **top line**. If **total zone start between 2 and 0**, player is assinged to the **2nd line**. If **total zone start between 0 and -2**, player is assigned to the **3rd line**. Finally, if **total zone start less than -2**, player assigned to **4th line**.  "
   ]
  },
  {
   "cell_type": "code",
   "execution_count": 225,
   "metadata": {
    "collapsed": false
   },
   "outputs": [],
   "source": [
    "conditions = [ dm['tzvp1'] > 2, (dm['tzvp1'] <= 2) & (dm['tzvp1']> 0), (dm['tzvp1'] <= 0) & (dm['tzvp1']> -2), dm['tzvp1'] <= -2 ]\n",
    "choices     = [ 1, 2, 3, 4 ]\n",
    "\n",
    "dm['vc'] = np.select(conditions, choices, default=np.nan)"
   ]
  },
  {
   "cell_type": "markdown",
   "metadata": {},
   "source": [
    "- generate a variable that will allocate all players in position 2 to their respectful line. Position 2 is the **right wing** position of forward lines. If **total zone start > 2**, player is assinged to the **top line**. If **total zone start between 2 and 0**, player is assinged to the **2nd line**. If **total zone start between 0 and -2**, player is assigned to the **3rd line**. Finally, if **total zone start less than -2**, player assigned to **4th line**.  "
   ]
  },
  {
   "cell_type": "code",
   "execution_count": 226,
   "metadata": {
    "collapsed": true
   },
   "outputs": [],
   "source": [
    "conditions = [ dm['tzvp2'] > 2, (dm['tzvp2'] <= 2) & (dm['tzvp2']> 0), (dm['tzvp2'] <= 0) & (dm['tzvp2']> -2), dm['tzvp2'] <= -2 ]\n",
    "choices     = [ 1, 2, 3, 4 ]\n",
    "\n",
    "dm['vrw'] = np.select(conditions, choices, default=np.nan)"
   ]
  },
  {
   "cell_type": "markdown",
   "metadata": {},
   "source": [
    "- generate a variable that will allocate all players in position 3 to their respectful line. Position 3 is the **left wing** position of forward lines. If **total zone start > 2**, player is assinged to the **top line**. If **total zone start between 2 and 0**, player is assinged to the **2nd line**. If **total zone start between 0 and -2**, player is assigned to the **3rd line**. Finally, if **total zone start less than -2**, player assigned to **4th line**.  "
   ]
  },
  {
   "cell_type": "code",
   "execution_count": 227,
   "metadata": {
    "collapsed": false
   },
   "outputs": [],
   "source": [
    "conditions = [ dm['tzvp3'] > 2, (dm['tzvp3'] <= 2) & (dm['tzvp3']> 0), (dm['tzvp3'] <= 0) & (dm['tzvp3']> -2), dm['tzvp3'] <= -2 ]\n",
    "choices     = [ 1, 2, 3, 4 ]\n",
    "\n",
    "dm['vlw'] = np.select(conditions, choices, default=np.nan)"
   ]
  },
  {
   "cell_type": "markdown",
   "metadata": {},
   "source": [
    "- generate a variable that will allocate all players in position 4 to their respectful line. Position 4 is the **right defense** position. If **total zone start > 3**, player is assinged to the **top defense pairing**. If **total zone start between 3 and 0**, player is assinged to the **2nd defense pairng**. Finally, if **total zone start less than 0**, player assigned to **3rd defense pairing**.   "
   ]
  },
  {
   "cell_type": "code",
   "execution_count": 228,
   "metadata": {
    "collapsed": true
   },
   "outputs": [],
   "source": [
    "conditions = [ dm['tzvp4'] > 3, (dm['tzvp4'] <= 3) & (dm['tzvp4']> 0), dm['tzvp4'] <= 0 ]\n",
    "choices     = [ 1, 2, 3]\n",
    "\n",
    "dm['vdr'] = np.select(conditions, choices, default=np.nan)"
   ]
  },
  {
   "cell_type": "markdown",
   "metadata": {},
   "source": [
    "- generate a variable that will allocate all players in position 5 to their respectful line. Position 5 is the **left defense** position. If **total zone start > 3**, player is assinged to the **top defense pairing**. If **total zone start between 3 and 0**, player is assinged to the **2nd defense pairng**. Finally, if **total zone start less than 0**, player assigned to **3rd defense pairing**.  "
   ]
  },
  {
   "cell_type": "code",
   "execution_count": 229,
   "metadata": {
    "collapsed": true
   },
   "outputs": [],
   "source": [
    "conditions = [ dm['tzvp5'] > 3, (dm['tzvp5'] <= 3) & (dm['tzvp5']> 0), dm['tzvp5'] <= 0 ]\n",
    "choices     = [ 1, 2, 3]\n",
    "\n",
    "dm['vdl'] = np.select(conditions, choices, default=np.nan)"
   ]
  },
  {
   "cell_type": "markdown",
   "metadata": {},
   "source": [
    "- Position 6 is the goaltender position. No conditions necessary "
   ]
  },
  {
   "cell_type": "code",
   "execution_count": 230,
   "metadata": {
    "collapsed": true
   },
   "outputs": [],
   "source": [
    "dm['vg'] = 1"
   ]
  },
  {
   "cell_type": "markdown",
   "metadata": {},
   "source": [
    "### b) home team"
   ]
  },
  {
   "cell_type": "markdown",
   "metadata": {},
   "source": [
    "- generate a variable that will allocate all players in position 5 to their respectful line. Position 5 is the **left defense** position. If **total zone start > 3**, player is assinged to the **top defense pairing**. If **total zone start between 3 and 0**, player is assinged to the **2nd defense pairng**. Finally, if **total zone start less than 0**, player assigned to **3rd defense pairing**. "
   ]
  },
  {
   "cell_type": "code",
   "execution_count": 231,
   "metadata": {
    "collapsed": false
   },
   "outputs": [],
   "source": [
    "conditions = [ dm['tzhp1'] > 2, (dm['tzhp1'] <= 2) & (dm['tzhp1']> 0), (dm['tzhp1'] <= 0) & (dm['tzhp1']> -2), dm['tzhp1'] <= -2 ]\n",
    "choices     = [ 1, 2, 3, 4 ]\n",
    "\n",
    "dm['hc'] = np.select(conditions, choices, default=np.nan)"
   ]
  },
  {
   "cell_type": "markdown",
   "metadata": {},
   "source": [
    "- generate a variable that will allocate all players in position 2 to their respectful line. Position 2 is the **right wing** position of forward lines. If **total zone start > 2**, player is assinged to the **top line**. If **total zone start between 2 and 0**, player is assinged to the **2nd line**. If **total zone start between 0 and -2**, player is assigned to the **3rd line**. Finally, if **total zone start less than -2**, player assigned to **4th line**.  "
   ]
  },
  {
   "cell_type": "code",
   "execution_count": 232,
   "metadata": {
    "collapsed": true
   },
   "outputs": [],
   "source": [
    "conditions = [ dm['tzhp2'] > 2, (dm['tzhp2'] <= 2) & (dm['tzhp2']> 0), (dm['tzhp2'] <= 0) & (dm['tzhp2']> -2), dm['tzhp2'] <= -2 ]\n",
    "choices     = [ 1, 2, 3, 4 ]\n",
    "\n",
    "dm['hrw'] = np.select(conditions, choices, default=np.nan)"
   ]
  },
  {
   "cell_type": "markdown",
   "metadata": {},
   "source": [
    "- generate a variable that will allocate all players in position 3 to their respectful line. Position 3 is the **left wing** position of forward lines. If **total zone start > 2**, player is assinged to the **top line**. If **total zone start between 2 and 0**, player is assinged to the **2nd line**. If **total zone start between 0 and -2**, player is assigned to the **3rd line**. Finally, if **total zone start less than -2**, player assigned to **4th line**.  "
   ]
  },
  {
   "cell_type": "code",
   "execution_count": 233,
   "metadata": {
    "collapsed": true
   },
   "outputs": [],
   "source": [
    "conditions = [ dm['tzhp3'] > 2, (dm['tzhp3'] <= 2) & (dm['tzhp3']> 0), (dm['tzhp3'] <= 0) & (dm['tzhp3']> -2), dm['tzhp3'] <= -2 ]\n",
    "choices     = [ 1, 2, 3, 4 ]\n",
    "\n",
    "dm['hlw'] = np.select(conditions, choices, default=np.nan)"
   ]
  },
  {
   "cell_type": "markdown",
   "metadata": {},
   "source": [
    "- generate a variable that will allocate all players in position 4 to their respectful line. Position 4 is the **right defense** position. If **total zone start > 3**, player is assinged to the **top defense pairing**. If **total zone start between 3 and 0**, player is assinged to the **2nd defense pairng**. Finally, if **total zone start less than 0**, player assigned to **3rd defense pairing**.   "
   ]
  },
  {
   "cell_type": "code",
   "execution_count": 234,
   "metadata": {
    "collapsed": true
   },
   "outputs": [],
   "source": [
    "conditions = [ dm['tzhp4'] > 3, (dm['tzhp4'] <= 3) & (dm['tzhp4']> 0), dm['tzhp4'] <= 0 ]\n",
    "choices     = [ 1, 2, 3]\n",
    "\n",
    "dm['hdr'] = np.select(conditions, choices, default=np.nan)"
   ]
  },
  {
   "cell_type": "markdown",
   "metadata": {},
   "source": [
    "- generate a variable that will allocate all players in position 5 to their respectful line. Position 5 is the **left defense** position. If **total zone start > 3**, player is assinged to the **top defense pairing**. If **total zone start between 3 and 0**, player is assinged to the **2nd defense pairng**. Finally, if **total zone start less than 0**, player assigned to **3rd defense pairing**.  "
   ]
  },
  {
   "cell_type": "code",
   "execution_count": 235,
   "metadata": {
    "collapsed": true
   },
   "outputs": [],
   "source": [
    "conditions = [ dm['tzhp5'] > 3, (dm['tzhp5'] <= 3) & (dm['tzhp5']> 0), dm['tzhp5'] <= 0 ]\n",
    "choices     = [ 1, 2, 3]\n",
    "\n",
    "dm['hdl'] = np.select(conditions, choices, default=np.nan)"
   ]
  },
  {
   "cell_type": "markdown",
   "metadata": {},
   "source": [
    "- Position 6 is the goaltender position. No conditions necessary "
   ]
  },
  {
   "cell_type": "code",
   "execution_count": 236,
   "metadata": {
    "collapsed": true
   },
   "outputs": [],
   "source": [
    "dm['vg'] = 1"
   ]
  },
  {
   "cell_type": "code",
   "execution_count": null,
   "metadata": {
    "collapsed": true
   },
   "outputs": [],
   "source": []
  }
 ],
 "metadata": {
  "kernelspec": {
   "display_name": "Python 3",
   "language": "python",
   "name": "python3"
  },
  "language_info": {
   "codemirror_mode": {
    "name": "ipython",
    "version": 3
   },
   "file_extension": ".py",
   "mimetype": "text/x-python",
   "name": "python",
   "nbconvert_exporter": "python",
   "pygments_lexer": "ipython3",
   "version": "3.6.0"
  }
 },
 "nbformat": 4,
 "nbformat_minor": 2
}
