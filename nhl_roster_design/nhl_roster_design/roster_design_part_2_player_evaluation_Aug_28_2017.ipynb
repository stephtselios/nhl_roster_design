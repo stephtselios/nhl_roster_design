{
 "cells": [
  {
   "cell_type": "markdown",
   "metadata": {},
   "source": [
    "# Player Evaluation"
   ]
  },
  {
   "cell_type": "markdown",
   "metadata": {},
   "source": [
    "Player evaluation will be conducted prior to roster design, as it weighs the overall performance of each player from each game throughout the course of a season. Total Hockey Rating (THoR) is an all-inclusive statistic rating of all NHL defensemen and forwards incidental to all on-ice events. All events of a game are documented and appointed a value determined by the probability that event generated a goal. "
   ]
  },
  {
   "cell_type": "markdown",
   "metadata": {},
   "source": [
    "### purpose of notebook:"
   ]
  },
  {
   "cell_type": "markdown",
   "metadata": {},
   "source": [
    "- determine roster position for both home and visitor team."
   ]
  },
  {
   "cell_type": "markdown",
   "metadata": {},
   "source": [
    "- reshape data set"
   ]
  },
  {
   "cell_type": "markdown",
   "metadata": {},
   "source": [
    "- generate a variable that will show the time difference between a goal and all events that happened prior.\n"
   ]
  },
  {
   "cell_type": "markdown",
   "metadata": {},
   "source": [
    "- keep only events that happened 20 seconds prior to a goal."
   ]
  },
  {
   "cell_type": "markdown",
   "metadata": {},
   "source": [
    "- group events by goal number to count the occurance of each event prior to a goal."
   ]
  },
  {
   "cell_type": "markdown",
   "metadata": {},
   "source": [
    "- sum by event type to display the incidence of each event in two games."
   ]
  },
  {
   "cell_type": "markdown",
   "metadata": {},
   "source": [
    "- determine the value of home ice advantage ( μ )"
   ]
  },
  {
   "cell_type": "markdown",
   "metadata": {},
   "source": [
    "- estimate the value each zone has on an event ( γ )"
   ]
  },
  {
   "cell_type": "markdown",
   "metadata": {},
   "source": [
    "- determine if zone start has a positive or negative impact on each team for a given on ice event ( offensive, neutral and defensive)"
   ]
  },
  {
   "cell_type": "markdown",
   "metadata": {},
   "source": [
    "- establish the impact of each event on a goal."
   ]
  },
  {
   "cell_type": "markdown",
   "metadata": {},
   "source": [
    "- determine if events have a positive or negative impact on each team."
   ]
  },
  {
   "cell_type": "markdown",
   "metadata": {},
   "source": [
    "- assign values to players based on their participation in events that led to a goal."
   ]
  },
  {
   "cell_type": "markdown",
   "metadata": {},
   "source": [
    "##  import modules"
   ]
  },
  {
   "cell_type": "code",
   "execution_count": 3,
   "metadata": {
    "collapsed": true
   },
   "outputs": [],
   "source": [
    "import sys\n",
    "import os\n",
    "import pandas as pd\n",
    "import numpy as np\n",
    "import datetime, time\n",
    "import matplotlib.pyplot as plt\n",
    "import statsmodels.api as sm\n",
    "from statsmodels.formula.api import ols\n",
    "from pylab import hist, show\n",
    "import scipy"
   ]
  },
  {
   "cell_type": "markdown",
   "metadata": {},
   "source": [
    "## import data frame"
   ]
  },
  {
   "cell_type": "markdown",
   "metadata": {},
   "source": [
    "The merged data frame created in the roster_design_stephanos notebook is imported and used for player evaluation."
   ]
  },
  {
   "cell_type": "code",
   "execution_count": 4,
   "metadata": {
    "collapsed": true
   },
   "outputs": [],
   "source": [
    "dm = pd.read_csv('pbpmerge.csv')"
   ]
  },
  {
   "cell_type": "markdown",
   "metadata": {},
   "source": [
    "## drop unnamed column (irrelevant)"
   ]
  },
  {
   "cell_type": "code",
   "execution_count": 5,
   "metadata": {
    "collapsed": true
   },
   "outputs": [],
   "source": [
    "dm = dm.drop('Unnamed: 0', axis=1)"
   ]
  },
  {
   "cell_type": "markdown",
   "metadata": {},
   "source": [
    "## rename visitor and home player position column"
   ]
  },
  {
   "cell_type": "code",
   "execution_count": 6,
   "metadata": {
    "collapsed": false
   },
   "outputs": [
    {
     "data": {
      "text/plain": [
       "Index(['Season', 'GameNumber', 'EventNumber', 'Period', 'AdvantageType',\n",
       "       'EventTimeFromZero', 'EventTimeFromTwenty', 'EventType', 'EventDetail',\n",
       "       'VPlayer1', 'VPosition1', 'VPlayer2', 'VPosition2', 'VPlayer3',\n",
       "       'VPosition3', 'VPlayer4', 'VPosition4', 'VPlayer5', 'VPosition5',\n",
       "       'VPlayer6', 'VPosition6', 'HPlayer1', 'HPosition1', 'HPlayer2',\n",
       "       'HPosition2', 'HPlayer3', 'HPosition3', 'HPlayer4', 'HPosition4',\n",
       "       'HPlayer5', 'HPosition5', 'HPlayer6', 'HPosition6', 'TeamCode',\n",
       "       'PlayerNumber', 'PlayerName', 'ShotType', 'Zone', 'Length',\n",
       "       'ShotResult', 'ShotTeamCode', 'ShotPlayerNumber', 'ShotPlayerName',\n",
       "       'WinTeamCode', 'VTeamCode', 'VNumber', 'VName', 'HTeamCode', 'HNumber',\n",
       "       'HName', 'HitterTeamCode', 'HitterPlayerNumber', 'HitterPlayerName',\n",
       "       'HitteeTeamCode', 'HitteePlayerNumber', 'HitteePlayerName',\n",
       "       'PenaltyTeamCode', 'PenaltyPlayerNumber', 'PenaltyPlayerName',\n",
       "       'PenaltyType', 'DrawnByTeamCode', 'DrawnByPlayerNumber',\n",
       "       'DrawnByPlayerName', 'GameDate', 'GoalNumber', 'GoalTime',\n",
       "       'Assist1Player', 'Assist2Player'],\n",
       "      dtype='object')"
      ]
     },
     "execution_count": 6,
     "metadata": {},
     "output_type": "execute_result"
    }
   ],
   "source": [
    "dm.columns"
   ]
  },
  {
   "cell_type": "markdown",
   "metadata": {},
   "source": [
    "## roster position"
   ]
  },
  {
   "cell_type": "markdown",
   "metadata": {},
   "source": [
    "Play by play data reports each on-ice event along all 12 players that were on the ice during a given event, along with the outcome of that on-ice event. There are 6 players for the visitor team and 6 for the home team. Positions 1, 2 and 3 are the forward positions, 4 and 5 are the defense positions and 6 is the goaltender position. Each position is categorized below. "
   ]
  },
  {
   "cell_type": "markdown",
   "metadata": {},
   "source": [
    "### a) for visitor team:"
   ]
  },
  {
   "cell_type": "markdown",
   "metadata": {},
   "source": [
    "**position 1** is the **centre position** of forward lines"
   ]
  },
  {
   "cell_type": "code",
   "execution_count": 7,
   "metadata": {
    "collapsed": true
   },
   "outputs": [],
   "source": [
    "dm['VPosition1'] = 'C'"
   ]
  },
  {
   "cell_type": "markdown",
   "metadata": {},
   "source": [
    "**position 2** is the **right wing** position of forward lines"
   ]
  },
  {
   "cell_type": "code",
   "execution_count": 8,
   "metadata": {
    "collapsed": true
   },
   "outputs": [],
   "source": [
    "dm['VPosition2'] = 'RW'"
   ]
  },
  {
   "cell_type": "markdown",
   "metadata": {},
   "source": [
    "**position 3** is the **left wing** position of forward lines"
   ]
  },
  {
   "cell_type": "code",
   "execution_count": 9,
   "metadata": {
    "collapsed": true
   },
   "outputs": [],
   "source": [
    "dm['VPosition3'] = 'LW'"
   ]
  },
  {
   "cell_type": "markdown",
   "metadata": {},
   "source": [
    "**position 4** is the **right defense** position of defensive pairings"
   ]
  },
  {
   "cell_type": "code",
   "execution_count": 10,
   "metadata": {
    "collapsed": true
   },
   "outputs": [],
   "source": [
    "dm['VPosition4'] = 'RD'"
   ]
  },
  {
   "cell_type": "markdown",
   "metadata": {},
   "source": [
    "**position 5** is the **left defense** position of defensive pairings"
   ]
  },
  {
   "cell_type": "code",
   "execution_count": 11,
   "metadata": {
    "collapsed": true
   },
   "outputs": [],
   "source": [
    "dm['VPosition5'] = 'LD'"
   ]
  },
  {
   "cell_type": "markdown",
   "metadata": {},
   "source": [
    "### b) for home team: "
   ]
  },
  {
   "cell_type": "markdown",
   "metadata": {},
   "source": [
    "**position 1** is the **centre position** of forward lines"
   ]
  },
  {
   "cell_type": "code",
   "execution_count": 12,
   "metadata": {
    "collapsed": true
   },
   "outputs": [],
   "source": [
    "dm['HPosition1'] = 'C'"
   ]
  },
  {
   "cell_type": "markdown",
   "metadata": {},
   "source": [
    "**position 2** is the **right wing** position of forward lines"
   ]
  },
  {
   "cell_type": "code",
   "execution_count": 13,
   "metadata": {
    "collapsed": true
   },
   "outputs": [],
   "source": [
    "dm['HPosition2'] = 'RW'"
   ]
  },
  {
   "cell_type": "markdown",
   "metadata": {},
   "source": [
    "**position 3** is the **left wing** position of forward lines"
   ]
  },
  {
   "cell_type": "code",
   "execution_count": 14,
   "metadata": {
    "collapsed": true
   },
   "outputs": [],
   "source": [
    "dm['HPosition3'] = 'LW'"
   ]
  },
  {
   "cell_type": "markdown",
   "metadata": {},
   "source": [
    "**position 4** is the **right defense** position of defensive pairings"
   ]
  },
  {
   "cell_type": "code",
   "execution_count": 15,
   "metadata": {
    "collapsed": true
   },
   "outputs": [],
   "source": [
    "dm['HPosition4'] = 'RD'"
   ]
  },
  {
   "cell_type": "markdown",
   "metadata": {},
   "source": [
    "**position 5** is the **left defense** position of defensive pairings"
   ]
  },
  {
   "cell_type": "code",
   "execution_count": 16,
   "metadata": {
    "collapsed": true
   },
   "outputs": [],
   "source": [
    "dm['HPosition5'] = 'LD'"
   ]
  },
  {
   "cell_type": "markdown",
   "metadata": {},
   "source": [
    "## reshape from wide to long"
   ]
  },
  {
   "cell_type": "markdown",
   "metadata": {},
   "source": [
    "Once each roster position has been determined, the next step is to reshape the data set form wide to long. Instead of having 2 columns for each roster position (24 total), all players will be listed into 4 columns: 2 columns for the visitor team ** 'VPlayer' & 'VPosition'** and 2 columns for the home team **'HPlayer' & 'HPosition'**"
   ]
  },
  {
   "cell_type": "code",
   "execution_count": 17,
   "metadata": {
    "collapsed": false
   },
   "outputs": [],
   "source": [
    "a = [col for col in dm.columns if 'VPlayer' in col]\n",
    "b = [col for col in dm.columns if 'HPlayer' in col]\n",
    "c = [col for col in dm.columns if 'VPosition' in col]\n",
    "d = [col for col in dm.columns if 'HPosition' in col]\n",
    "dm = pd.lreshape(dm, {'VPlayer' : a, 'HPlayer' : b, 'VPosition' : c, 'HPosition': d})"
   ]
  },
  {
   "cell_type": "code",
   "execution_count": 18,
   "metadata": {
    "collapsed": false
   },
   "outputs": [],
   "source": [
    "dm = dm.sort_values(['Season', 'GameNumber', 'Period', 'EventNumber'], ascending=[True, True, True, True])"
   ]
  },
  {
   "cell_type": "code",
   "execution_count": 19,
   "metadata": {
    "collapsed": false
   },
   "outputs": [
    {
     "data": {
      "text/plain": [
       "Index(['AdvantageType', 'Assist1Player', 'Assist2Player', 'DrawnByPlayerName',\n",
       "       'DrawnByPlayerNumber', 'DrawnByTeamCode', 'EventDetail', 'EventNumber',\n",
       "       'EventTimeFromTwenty', 'EventTimeFromZero', 'EventType', 'GameDate',\n",
       "       'GameNumber', 'GoalNumber', 'GoalTime', 'HName', 'HNumber', 'HTeamCode',\n",
       "       'HitteePlayerName', 'HitteePlayerNumber', 'HitteeTeamCode',\n",
       "       'HitterPlayerName', 'HitterPlayerNumber', 'HitterTeamCode', 'Length',\n",
       "       'PenaltyPlayerName', 'PenaltyPlayerNumber', 'PenaltyTeamCode',\n",
       "       'PenaltyType', 'Period', 'PlayerName', 'PlayerNumber', 'Season',\n",
       "       'ShotPlayerName', 'ShotPlayerNumber', 'ShotResult', 'ShotTeamCode',\n",
       "       'ShotType', 'TeamCode', 'VName', 'VNumber', 'VTeamCode', 'WinTeamCode',\n",
       "       'Zone', 'VPlayer', 'HPlayer', 'VPosition', 'HPosition'],\n",
       "      dtype='object')"
      ]
     },
     "execution_count": 19,
     "metadata": {},
     "output_type": "execute_result"
    }
   ],
   "source": [
    "dm.columns"
   ]
  },
  {
   "cell_type": "code",
   "execution_count": 20,
   "metadata": {
    "collapsed": false
   },
   "outputs": [],
   "source": [
    "dm = dm[['Season', 'GameNumber', 'EventNumber', 'Period', 'AdvantageType', 'EventTimeFromZero', 'EventTimeFromTwenty', 'EventType', 'EventDetail', 'TeamCode', 'VPlayer', 'VPosition', 'HPlayer', 'HPosition', 'PlayerNumber', 'PlayerName', 'ShotType', 'Zone', 'Length', 'ShotResult', 'ShotTeamCode', 'ShotPlayerNumber', 'ShotPlayerName', 'WinTeamCode', 'VTeamCode', 'HTeamCode', 'HitterTeamCode', 'HitterPlayerNumber', 'HitterPlayerName', 'HitteeTeamCode', 'HitteePlayerNumber', 'HitteePlayerName', 'PenaltyTeamCode', 'PenaltyPlayerNumber', 'PenaltyPlayerName', 'PenaltyType', 'DrawnByTeamCode', 'DrawnByPlayerNumber', 'DrawnByPlayerName', 'GameDate', 'GoalNumber', 'GoalTime', 'Assist1Player', 'Assist2Player']]\n",
    "           "
   ]
  },
  {
   "cell_type": "markdown",
   "metadata": {},
   "source": [
    "## fill in team code for all type of events"
   ]
  },
  {
   "cell_type": "markdown",
   "metadata": {},
   "source": [
    "For team code column not to be missing any data, **numpy where** is used. It is a command that assigns values to team code based on the event type and the outcome of that event. "
   ]
  },
  {
   "cell_type": "markdown",
   "metadata": {},
   "source": [
    "- if an event is a faceoff, the team that won the faceoff will be assigned to 'TeamCode'. "
   ]
  },
  {
   "cell_type": "markdown",
   "metadata": {},
   "source": [
    "- if an event is a hit, the team that registered a hit will be assigned to 'TeamCode'. "
   ]
  },
  {
   "cell_type": "markdown",
   "metadata": {},
   "source": [
    "- if an event is a penalty, the team that committed the penalty will be assigned to 'TeamCode'."
   ]
  },
  {
   "cell_type": "code",
   "execution_count": 21,
   "metadata": {
    "collapsed": false
   },
   "outputs": [],
   "source": [
    "dm['TeamCode'] = np.where(dm['EventType'] == 'FAC', dm['WinTeamCode'],\n",
    "                             (np.where(dm['EventType'] == 'HIT', dm['HitterTeamCode'],\n",
    "                                       (np.where(dm['EventType'] == 'PENL', dm['PenaltyTeamCode'], dm['TeamCode'])))))"
   ]
  },
  {
   "cell_type": "markdown",
   "metadata": {},
   "source": [
    "## fill in home and visitor team code "
   ]
  },
  {
   "cell_type": "markdown",
   "metadata": {},
   "source": [
    "To confirm there are no missing data, home and visitor team code are filled in *backwards*. "
   ]
  },
  {
   "cell_type": "markdown",
   "metadata": {},
   "source": [
    " - visitor team code for all events prior to a goal filled in backwards"
   ]
  },
  {
   "cell_type": "code",
   "execution_count": 22,
   "metadata": {
    "collapsed": false
   },
   "outputs": [],
   "source": [
    "dm['VTeamCode'] = dm['VTeamCode'].fillna(method='bfill')"
   ]
  },
  {
   "cell_type": "markdown",
   "metadata": {},
   "source": [
    " - home team code for all events prior to a goal filled in backwards"
   ]
  },
  {
   "cell_type": "code",
   "execution_count": 23,
   "metadata": {
    "collapsed": true
   },
   "outputs": [],
   "source": [
    "dm['HTeamCode'] = dm['HTeamCode'].fillna(method='bfill')"
   ]
  },
  {
   "cell_type": "markdown",
   "metadata": {},
   "source": [
    "##  fill in variables goal number and goal time with values"
   ]
  },
  {
   "cell_type": "markdown",
   "metadata": {},
   "source": [
    "Goal number and goal time values will be assigned to every event, dependent on the number of goals scored in a game and the time (from zero) they happened. Since events that occured **prior to a goal** are being examined, *fill in backwards method* is used. This will assist with the calculation of time difference between a goal and a given event."
   ]
  },
  {
   "cell_type": "markdown",
   "metadata": {},
   "source": [
    " - goal number for all events prior to a goal filled in backwards"
   ]
  },
  {
   "cell_type": "code",
   "execution_count": 24,
   "metadata": {
    "collapsed": false
   },
   "outputs": [],
   "source": [
    "dm['GoalNumber']= dm['GoalNumber'].fillna(method='bfill')"
   ]
  },
  {
   "cell_type": "markdown",
   "metadata": {},
   "source": [
    "- goal time for all events prior to a goal filled in backwards"
   ]
  },
  {
   "cell_type": "code",
   "execution_count": 25,
   "metadata": {
    "collapsed": false
   },
   "outputs": [],
   "source": [
    "dm['GoalTime'] = dm['GoalTime'].fillna(method='bfill')"
   ]
  },
  {
   "cell_type": "markdown",
   "metadata": {},
   "source": [
    "## generate a variable that will calculate the time difference between goal and events"
   ]
  },
  {
   "cell_type": "markdown",
   "metadata": {},
   "source": [
    "The time difference between a goal and an event is calculated as followed: "
   ]
  },
  {
   "cell_type": "code",
   "execution_count": 26,
   "metadata": {
    "collapsed": false
   },
   "outputs": [],
   "source": [
    "dm['TBGoalandEvent'] = dm['GoalTime'] - dm['EventTimeFromZero']"
   ]
  },
  {
   "cell_type": "markdown",
   "metadata": {},
   "source": [
    "## keep only events that happened 20 seconds prior to goal"
   ]
  },
  {
   "cell_type": "markdown",
   "metadata": {},
   "source": [
    "The playler evaluation model uses only events that happened 20 seconds prior to a goal. If the time between a goal and an event exceeds 20 seconds, the event will not be included in the dataframe. Thus:"
   ]
  },
  {
   "cell_type": "code",
   "execution_count": 27,
   "metadata": {
    "collapsed": false
   },
   "outputs": [],
   "source": [
    "dm = dm[dm['TBGoalandEvent'] <= 20]"
   ]
  },
  {
   "cell_type": "code",
   "execution_count": 28,
   "metadata": {
    "collapsed": false
   },
   "outputs": [],
   "source": [
    "dm = dm[dm['TBGoalandEvent'] >= 0]"
   ]
  },
  {
   "cell_type": "markdown",
   "metadata": {},
   "source": [
    "## create a column that will show the total observations for two games"
   ]
  },
  {
   "cell_type": "markdown",
   "metadata": {},
   "source": [
    "the data is grouped by season to count the total occurance of events that happened 20 seconds prior to a goal, in the first two games of the season"
   ]
  },
  {
   "cell_type": "code",
   "execution_count": 29,
   "metadata": {
    "collapsed": false
   },
   "outputs": [],
   "source": [
    "dm['counts'] = dm.groupby('Season')['EventType'].transform('count')"
   ]
  },
  {
   "cell_type": "markdown",
   "metadata": {},
   "source": [
    "## display of each event leading to a goal for two games"
   ]
  },
  {
   "cell_type": "markdown",
   "metadata": {
    "collapsed": true
   },
   "source": [
    "The below table lists the occurance of each event type prior to each goal."
   ]
  },
  {
   "cell_type": "code",
   "execution_count": 30,
   "metadata": {
    "collapsed": false
   },
   "outputs": [],
   "source": [
    "dy = dm.groupby(['Season','GameNumber', 'GoalNumber', 'EventType', 'Zone']).size()"
   ]
  },
  {
   "cell_type": "markdown",
   "metadata": {},
   "source": [
    "## create a variable that will establish the value of home ice advantage (μ)"
   ]
  },
  {
   "cell_type": "markdown",
   "metadata": {},
   "source": [
    "The home team advantage is a phenomenon whereby sports teams experience a competitive benefit from playing at their home venue. Home team ice advantage is definied as the **mean goal differential in home games less the mean goal differential in road games of a given team**. This is strictly a measure of home ice advantage and does not depend on the quality of the team."
   ]
  },
  {
   "cell_type": "markdown",
   "metadata": {},
   "source": [
    "- assign value of 1 for a goal being scored for the home team."
   ]
  },
  {
   "cell_type": "code",
   "execution_count": 31,
   "metadata": {
    "collapsed": false
   },
   "outputs": [],
   "source": [
    "dm['hgd'] = np.where((dm['Season'] == dm['Season']) & (dm['TeamCode'] == dm['HTeamCode']) & (dm['TeamCode'] == dm['TeamCode']) & (dm['EventType'] == 'GOAL'), 1, 0)"
   ]
  },
  {
   "cell_type": "markdown",
   "metadata": {},
   "source": [
    "- assign a value of 1 for a goal being scored for the visitor team."
   ]
  },
  {
   "cell_type": "code",
   "execution_count": 32,
   "metadata": {
    "collapsed": true
   },
   "outputs": [],
   "source": [
    "dm['vgd'] = np.where((dm['Season'] == dm['Season']) & (dm['TeamCode'] == dm['VTeamCode']) & (dm['TeamCode'] == dm['TeamCode']) & (dm['EventType'] == 'GOAL'), 1, 0)"
   ]
  },
  {
   "cell_type": "markdown",
   "metadata": {},
   "source": [
    "- goal differential for a given team is the difference between mean goals as the home team and mean goals as the visitor team."
   ]
  },
  {
   "cell_type": "code",
   "execution_count": 33,
   "metadata": {
    "collapsed": true
   },
   "outputs": [],
   "source": [
    "dm['gd'] = np.where((dm['Season'] == dm['Season']) & (dm['TeamCode'] == dm['TeamCode']), dm['hgd'].mean() - dm['vgd'].mean(), 0)"
   ]
  },
  {
   "cell_type": "markdown",
   "metadata": {},
   "source": [
    "The variable generated is then divided with the mean total goals per game in season, which is calculated by averaging the total goals scored by all teams in the league over all games. The statistic is the quantity of interest in assessing differential home ice advantage in the NHL."
   ]
  },
  {
   "cell_type": "code",
   "execution_count": 34,
   "metadata": {
    "collapsed": false
   },
   "outputs": [],
   "source": [
    "dm['homeadv'] = np.where((dm['Season'] == dm['Season']), dm['gd']/(dm['hgd'].mean() + dm['vgd'].mean()), 0)"
   ]
  },
  {
   "cell_type": "markdown",
   "metadata": {},
   "source": [
    "## create a variable that will display the value of each zone"
   ]
  },
  {
   "cell_type": "markdown",
   "metadata": {},
   "source": [
    "The impact of zone start on each event that occured 20 seconds prior to a goal needs to be calculated. Values are assigned to three zone starts: offensive, neutral and defensive. "
   ]
  },
  {
   "cell_type": "markdown",
   "metadata": {},
   "source": [
    "- create a column that assigns a value of 1 to **offensive** zone events and a value of 0 to **non offensive** zone start events."
   ]
  },
  {
   "cell_type": "code",
   "execution_count": 35,
   "metadata": {
    "collapsed": false
   },
   "outputs": [],
   "source": [
    "dm['ozone'] = np.where(dm['Zone'] == 'O', 1, 0)"
   ]
  },
  {
   "cell_type": "markdown",
   "metadata": {},
   "source": [
    "- create a column that assigns a value of 1 to **neutral** zone start events and a value of 0 to **non neutral** zone start events."
   ]
  },
  {
   "cell_type": "code",
   "execution_count": 36,
   "metadata": {
    "collapsed": true
   },
   "outputs": [],
   "source": [
    "dm['nzone'] = np.where(dm['Zone'] == 'N', 1, 0)"
   ]
  },
  {
   "cell_type": "markdown",
   "metadata": {},
   "source": [
    "- create a column that assigns a value of 1 to **defensive** zone start events and a value of 0 to **non defensive** zone start events."
   ]
  },
  {
   "cell_type": "code",
   "execution_count": 37,
   "metadata": {
    "collapsed": true
   },
   "outputs": [],
   "source": [
    "dm['dzone'] = np.where(dm['Zone'] == 'D', 1, 0)"
   ]
  },
  {
   "cell_type": "markdown",
   "metadata": {},
   "source": [
    "## create a variable that will display the value of each zone start"
   ]
  },
  {
   "cell_type": "markdown",
   "metadata": {},
   "source": [
    "Values have been assigned to all three zone starts. The **mean** of each zone start is used to estimate the effect each zone start has on a goal."
   ]
  },
  {
   "cell_type": "code",
   "execution_count": 38,
   "metadata": {
    "collapsed": true
   },
   "outputs": [],
   "source": [
    "dm['zsvalue'] = np.where(dm['Season']== dm['Season'] & (dm['Zone'] == 'O'), dm['ozone'].mean(),\n",
    "                             (np.where(dm['Season']== dm['Season'] & (dm['Zone'] == 'N'), dm['nzone'].mean(),\n",
    "                                       (np.where(dm['Season']== dm['Season'] & (dm['Zone'] == 'D'), (dm['dzone'].mean()), 0 )))))"
   ]
  },
  {
   "cell_type": "markdown",
   "metadata": {},
   "source": [
    "All zone starts have been assigned a value based on the impact they had on a goal. "
   ]
  },
  {
   "cell_type": "markdown",
   "metadata": {},
   "source": [
    " ## create zone value for home and visitor teams (γ)"
   ]
  },
  {
   "cell_type": "markdown",
   "metadata": {},
   "source": [
    "Every zone start has an effect on both home and visitor team. A zone start that happened in the **offensive zone of the home team,** will be in the defensive zone of the visitor team. A zone start that happened in the **defensive zone of the home team,** will be in the offensive zone for the visitor team. Neutral zone is the same for both teams. "
   ]
  },
  {
   "cell_type": "markdown",
   "metadata": {},
   "source": [
    "If zone start is **offensive**, it has a positive impact and **assigned a value of +1**. If zone start is **neutral**, it has no impact and is assigned a **value of 0**. If zone start is **defensive**, it has a negaive impact and assigned a **value of -1**."
   ]
  },
  {
   "cell_type": "markdown",
   "metadata": {},
   "source": [
    "### a) zone value for home team"
   ]
  },
  {
   "cell_type": "markdown",
   "metadata": {},
   "source": [
    "First, we must deterimine if the event refers to the home or visitor team. To estimate zone starts relevant to home team, team code of the event must be the same as home team code. The next step is to assign value based on the zone start of a given event."
   ]
  },
  {
   "cell_type": "markdown",
   "metadata": {},
   "source": [
    "- If zone start is offensive for the home team, the mean value of offensive zone start is assigned to the home team. "
   ]
  },
  {
   "cell_type": "markdown",
   "metadata": {},
   "source": [
    "- if zone start is offensive for the visitor team, the **negative** mean value of defensive zone start is assigned to home team."
   ]
  },
  {
   "cell_type": "markdown",
   "metadata": {},
   "source": [
    "- if zone start is defensive for the home team, the **negative** mean value of defensive zone start is assigned to home team"
   ]
  },
  {
   "cell_type": "markdown",
   "metadata": {},
   "source": [
    "- if zone start is defensive for the away team, the mean value of offensive zone start is assigned to the home team."
   ]
  },
  {
   "cell_type": "markdown",
   "metadata": {},
   "source": [
    "- if zone start neutral, zone start has no impact on the given event and assigned a value of zero."
   ]
  },
  {
   "cell_type": "code",
   "execution_count": 39,
   "metadata": {
    "collapsed": false
   },
   "outputs": [],
   "source": [
    "dm['hzsvalue'] = np.where((dm['Season']== dm['Season']) & (dm['TeamCode'] == dm['HTeamCode']) & (dm['Zone'] == 'O'), dm['ozone'].mean(),\n",
    "                          (np.where((dm['Season']== dm['Season']) & (dm['TeamCode'] != dm['HTeamCode']) & (dm['Zone'] == 'O'), -dm['dzone'].mean(),\n",
    "                                   (np.where((dm['Season']== dm['Season']) &(dm['TeamCode'] == dm['HTeamCode']) & (dm['Zone'] == 'D'), -dm['dzone'].mean(),\n",
    "                                          (np.where((dm['Season']== dm['Season']) & (dm['TeamCode'] != dm['HTeamCode']) & (dm['Zone'] == 'D'), dm['ozone'].mean(), 0)))))))\n",
    "                                                                                              "
   ]
  },
  {
   "cell_type": "markdown",
   "metadata": {},
   "source": [
    "### b) zone value for visitor team"
   ]
  },
  {
   "cell_type": "markdown",
   "metadata": {},
   "source": [
    "First, we must deterimine if the event refers to the home or visitor team. To estimate zone starts relevant to visitor team, team code of a given event must be the same as visitor team code. The next step is to assign value based on the zone start of a given event."
   ]
  },
  {
   "cell_type": "markdown",
   "metadata": {},
   "source": [
    "- if zone start is offensive for the visitor team, the mean value of offensive zone start is assigned to the visitor team. "
   ]
  },
  {
   "cell_type": "markdown",
   "metadata": {},
   "source": [
    "- if zone start is offensive for the home team, the **negative** mean value of defensive zone start is assigned to the visitor team. "
   ]
  },
  {
   "cell_type": "markdown",
   "metadata": {},
   "source": [
    "- if zone start is defensive for the visitor team, the **negative** mean value of deffensive zone start is assigned to the visitor team. "
   ]
  },
  {
   "cell_type": "markdown",
   "metadata": {},
   "source": [
    "- if zone start is defensive for the home team, the mean value of offensive zone start is assigned to the visitor team. "
   ]
  },
  {
   "cell_type": "markdown",
   "metadata": {},
   "source": [
    "- if zone start neutral, zone start has no impact on the given event and assigned a value of zero."
   ]
  },
  {
   "cell_type": "code",
   "execution_count": 40,
   "metadata": {
    "collapsed": false
   },
   "outputs": [],
   "source": [
    "dm['vzsvalue'] = np.where((dm['Season']== dm['Season']) & (dm['TeamCode'] == dm['VTeamCode']) & (dm['Zone'] == 'O'), dm['ozone'].mean(),\n",
    "                          (np.where((dm['Season']== dm['Season']) & (dm['TeamCode'] != dm['VTeamCode']) & (dm['Zone'] == 'O'), -dm['dzone'].mean(),\n",
    "                                (np.where((dm['Season']== dm['Season']) & (dm['TeamCode'] == dm['VTeamCode']) & (dm['Zone'] == 'D'), -dm['dzone'].mean(),\n",
    "                                        (np.where((dm['Season']== dm['Season']) &(dm['TeamCode'] != dm['VTeamCode']) & (dm['Zone'] == 'D'), dm['ozone'].mean(), 0)))))))\n",
    "                                                                                              "
   ]
  },
  {
   "cell_type": "markdown",
   "metadata": {},
   "source": [
    "## zone start (ZS)"
   ]
  },
  {
   "cell_type": "markdown",
   "metadata": {},
   "source": [
    "With the help of zone variable, offensive, neutral and defensive zone starts will be created."
   ]
  },
  {
   "cell_type": "markdown",
   "metadata": {},
   "source": [
    "**zone start variable:** "
   ]
  },
  {
   "cell_type": "markdown",
   "metadata": {},
   "source": [
    "- a value of 1 will be assigned if the on-ice event happened in the offensive zone."
   ]
  },
  {
   "cell_type": "markdown",
   "metadata": {},
   "source": [
    "- a value of 0 will be assigned if the on-ice event happened in the neutral zone."
   ]
  },
  {
   "cell_type": "markdown",
   "metadata": {},
   "source": [
    "- a value of -1 if it happened in the defensive zone of the representative team."
   ]
  },
  {
   "cell_type": "code",
   "execution_count": 41,
   "metadata": {
    "collapsed": true
   },
   "outputs": [],
   "source": [
    "dm['zs'] = np.where(dm['Zone'] == 'O', 1,\n",
    "                    (np.where(dm['Zone'] == 'D', -1, 0)))"
   ]
  },
  {
   "cell_type": "markdown",
   "metadata": {},
   "source": [
    "## home and visitor zone start"
   ]
  },
  {
   "cell_type": "markdown",
   "metadata": {},
   "source": [
    "- **visitor team zone start (vzs)**"
   ]
  },
  {
   "cell_type": "markdown",
   "metadata": {},
   "source": [
    "If team code of event is the same as visitor team, the visitor zone start variable will be assigned identical value to zone start. If not, it will be assigned the opposite (negative) value of zone start. "
   ]
  },
  {
   "cell_type": "code",
   "execution_count": 42,
   "metadata": {
    "collapsed": true
   },
   "outputs": [],
   "source": [
    "dm['vzs'] = np.where(dm['TeamCode'] == dm['VTeamCode'], dm['zs'], -dm['zs'] )"
   ]
  },
  {
   "cell_type": "markdown",
   "metadata": {},
   "source": [
    "- **home team zone start (hzs) **"
   ]
  },
  {
   "cell_type": "markdown",
   "metadata": {},
   "source": [
    "If team code of event is the same as home team, the home team will be assigned identical value to zone start. If not, it will be assigned the opposite (negative) value of zone start."
   ]
  },
  {
   "cell_type": "code",
   "execution_count": 43,
   "metadata": {
    "collapsed": true
   },
   "outputs": [],
   "source": [
    "dm['hzs'] = np.where(dm['TeamCode'] == dm['HTeamCode'], dm['zs'], -dm['zs'] )"
   ]
  },
  {
   "cell_type": "markdown",
   "metadata": {},
   "source": [
    "## create columns for each type of event and assign values to determine the impact they have on a goal"
   ]
  },
  {
   "cell_type": "markdown",
   "metadata": {},
   "source": [
    "Values are appointed to eight even strengths events: block shot, face-off, shot on goal, missed shot, penalty, hit, takeaway, giveaway and goal."
   ]
  },
  {
   "cell_type": "markdown",
   "metadata": {},
   "source": [
    " - create a column that assigns a value of 1 to block events and a value of 0 to every non block event"
   ]
  },
  {
   "cell_type": "code",
   "execution_count": 44,
   "metadata": {
    "collapsed": true
   },
   "outputs": [],
   "source": [
    "dm['block'] = np.where(dm['EventType'] == 'BLOCK', 1, 0)"
   ]
  },
  {
   "cell_type": "markdown",
   "metadata": {},
   "source": [
    " - create a column that assigns a value of 1 to faceoff events and a value of 0 to every non faceoff event"
   ]
  },
  {
   "cell_type": "code",
   "execution_count": 45,
   "metadata": {
    "collapsed": true
   },
   "outputs": [],
   "source": [
    "dm['faceoff'] = np.where(dm['EventType'] == 'FAC', 1, 0)"
   ]
  },
  {
   "cell_type": "markdown",
   "metadata": {},
   "source": [
    " - create a column that assigns a value of 1 to giveaway events and a value of 0 to every non giveaway event"
   ]
  },
  {
   "cell_type": "code",
   "execution_count": 46,
   "metadata": {
    "collapsed": true
   },
   "outputs": [],
   "source": [
    "dm['giveaway'] = np.where(dm['EventType'] == 'GIVE', 1, 0)"
   ]
  },
  {
   "cell_type": "markdown",
   "metadata": {},
   "source": [
    "- create a column that assigns a value of 1 to goal events and a value of 0 to every non goal event"
   ]
  },
  {
   "cell_type": "code",
   "execution_count": 47,
   "metadata": {
    "collapsed": true
   },
   "outputs": [],
   "source": [
    "dm['goal'] = np.where(dm['EventType'] == 'GOAL', 1, 0)"
   ]
  },
  {
   "cell_type": "markdown",
   "metadata": {},
   "source": [
    "- create a column that assigns a value of 1 to hit events and a value of 0 to every non hit event"
   ]
  },
  {
   "cell_type": "code",
   "execution_count": 48,
   "metadata": {
    "collapsed": true
   },
   "outputs": [],
   "source": [
    "dm['hit'] = np.where(dm['EventType'] == 'HIT', 1, 0)"
   ]
  },
  {
   "cell_type": "markdown",
   "metadata": {},
   "source": [
    "- create a column that assigns a value of 1 to miss events and a value of 0 to every non miss shot event"
   ]
  },
  {
   "cell_type": "code",
   "execution_count": 49,
   "metadata": {
    "collapsed": true
   },
   "outputs": [],
   "source": [
    "dm['miss'] = np.where(dm['EventType'] == 'MISS', 1, 0)"
   ]
  },
  {
   "cell_type": "markdown",
   "metadata": {},
   "source": [
    " - create a column that assigns a value of 1 to penalty events and a value of 0 to every non penalty events"
   ]
  },
  {
   "cell_type": "code",
   "execution_count": 50,
   "metadata": {
    "collapsed": true
   },
   "outputs": [],
   "source": [
    "dm['penalty'] = np.where(dm['EventType'] == 'PENL', 1, 0)"
   ]
  },
  {
   "cell_type": "markdown",
   "metadata": {},
   "source": [
    "- create a column that assigns a value of 1 to shot events and a value of 0 to every non shot events"
   ]
  },
  {
   "cell_type": "code",
   "execution_count": 51,
   "metadata": {
    "collapsed": true
   },
   "outputs": [],
   "source": [
    "dm['shot'] = np.where(dm['EventType'] == 'SHOT', 1, 0)"
   ]
  },
  {
   "cell_type": "markdown",
   "metadata": {},
   "source": [
    " - create a column that assigns a value of 1 to takeaway events and a value of 0 to non takeaway events"
   ]
  },
  {
   "cell_type": "code",
   "execution_count": 52,
   "metadata": {
    "collapsed": true
   },
   "outputs": [],
   "source": [
    "dm['takeaway'] = np.where(dm['EventType'] == 'TAKE', 1, 0)"
   ]
  },
  {
   "cell_type": "markdown",
   "metadata": {},
   "source": [
    "## create a variable that will display the value of each event "
   ]
  },
  {
   "cell_type": "markdown",
   "metadata": {},
   "source": [
    "All events that happened 20 seconds prior to a goal are counted. The **mean** is used to establish the impact each event has on a goal."
   ]
  },
  {
   "cell_type": "markdown",
   "metadata": {},
   "source": [
    "Fist step is to determine if an event has a positive or negative impact on a goal:"
   ]
  },
  {
   "cell_type": "markdown",
   "metadata": {},
   "source": [
    " - giveaway has a negative impact on the team that lost possession."
   ]
  },
  {
   "cell_type": "markdown",
   "metadata": {},
   "source": [
    " - faceoff has a positive impact on the team that won the faceoff and a negative impact on the team that lost. "
   ]
  },
  {
   "cell_type": "markdown",
   "metadata": {},
   "source": [
    "- hit has a positive impact for the team that delivered the hit and a negative impact on the team that received the hit."
   ]
  },
  {
   "cell_type": "markdown",
   "metadata": {},
   "source": [
    "- penalty has a positive impact on the team that drew the penalty and a negative impact on the team serving. "
   ]
  },
  {
   "cell_type": "markdown",
   "metadata": {},
   "source": [
    " - takeaway has a positive impact on the team that stole the puck and gained possession."
   ]
  },
  {
   "cell_type": "code",
   "execution_count": 53,
   "metadata": {
    "collapsed": false
   },
   "outputs": [],
   "source": [
    "dm['eventvalue'] = np.where((dm['Season']== dm['Season']) & (dm['EventType'] == 'BLOCK'), dm['block'].mean(),\n",
    "                             (np.where((dm['Season']== dm['Season']) & (dm['EventType'] == 'FAC'), dm['faceoff'].mean(),\n",
    "                                       (np.where((dm['Season']== dm['Season']) & (dm['EventType'] == 'GIVE'), -(dm['giveaway'].mean()),\n",
    "                                                 (np.where((dm['Season']== dm['Season']) & (dm['EventType'] == 'GOAL'), dm['goal'].mean(),\n",
    "                                                          (np.where((dm['Season']== dm['Season']) & (dm['EventType'] == 'HIT'), dm['hit'].mean(),\n",
    "                                                                   (np.where((dm['Season']== dm['Season']) & (dm['EventType'] == 'MISS'), dm['miss'].mean(),\n",
    "                                                                            (np.where((dm['Season']== dm['Season']) & (dm['EventType'] == 'PENL'), -(dm['penalty'].mean()),\n",
    "                                                                                     (np.where((dm['Season']== dm['Season']) & (dm['EventType'] == 'SHOT'), dm['shot'].mean(),\n",
    "                                                                                              (np.where((dm['Season']== dm['Season']) & (dm['EventType'] == 'TAKE'), dm['takeaway'].mean(), 0)))))))))))))))))"
   ]
  },
  {
   "cell_type": "markdown",
   "metadata": {},
   "source": [
    "All event types have been assigned a value based on the impact they had on a goal. "
   ]
  },
  {
   "cell_type": "markdown",
   "metadata": {},
   "source": [
    "##  create event value for home and visitor teams"
   ]
  },
  {
   "cell_type": "markdown",
   "metadata": {},
   "source": [
    "Each event has an effect on both home and visitor team. An event that has a positive impact on the home team will have a negative impact on the visitor team. Similarly, an event that has a negative effect on the home team, will have a positive effect on the visitor team."
   ]
  },
  {
   "cell_type": "markdown",
   "metadata": {},
   "source": [
    "- If an event has a positive impact on the **home team**, the mean will be positive. If an event has a negative impact on the home team, the mean will be negative."
   ]
  },
  {
   "cell_type": "code",
   "execution_count": 54,
   "metadata": {
    "collapsed": false
   },
   "outputs": [],
   "source": [
    "dm['heventvalue'] = np.where((dm['Season']== dm['Season']) & dm['TeamCode'] == dm['HTeamCode'], dm['eventvalue'], -(dm['eventvalue']))"
   ]
  },
  {
   "cell_type": "markdown",
   "metadata": {},
   "source": [
    "- If an event has a positive impact on the **visitor team**, the mean will be positive. If an event has a negative impact on the visitor team, the mean will be negative."
   ]
  },
  {
   "cell_type": "code",
   "execution_count": 55,
   "metadata": {
    "collapsed": false
   },
   "outputs": [],
   "source": [
    "dm['veventvalue'] = np.where((dm['Season']== dm['Season']) & dm['TeamCode'] == dm['VTeamCode'], dm['eventvalue'], -(dm['eventvalue']))"
   ]
  },
  {
   "cell_type": "markdown",
   "metadata": {},
   "source": [
    "## assign values to each player "
   ]
  },
  {
   "cell_type": "markdown",
   "metadata": {},
   "source": [
    "The value of an event is assigned to all players that were on ice, a total of 12 players (6 per team). The overall contribution of each player is the total (sum) of events they participated in. "
   ]
  },
  {
   "cell_type": "markdown",
   "metadata": {},
   "source": [
    "### a) overall contribution of each player from the visitor team in all (6) positions "
   ]
  },
  {
   "cell_type": "markdown",
   "metadata": {},
   "source": [
    "Group data frame by season, visitor team code and visitor player to seperate players that play in the same position. "
   ]
  },
  {
   "cell_type": "code",
   "execution_count": 56,
   "metadata": {
    "collapsed": false
   },
   "outputs": [],
   "source": [
    "dm['vp'] = dm.groupby(['Season', 'VTeamCode', 'VPlayer'])['veventvalue'].transform('sum')"
   ]
  },
  {
   "cell_type": "markdown",
   "metadata": {},
   "source": [
    "### b) overall contribution of each player from the home team in all (6) positions"
   ]
  },
  {
   "cell_type": "markdown",
   "metadata": {},
   "source": [
    "Group data frame by season, home team code and home player to seperate players that play in the same position. "
   ]
  },
  {
   "cell_type": "code",
   "execution_count": 57,
   "metadata": {
    "collapsed": true
   },
   "outputs": [],
   "source": [
    "dm['hp'] = dm.groupby(['Season', 'HTeamCode', 'HPlayer'])['heventvalue'].transform('sum')"
   ]
  },
  {
   "cell_type": "markdown",
   "metadata": {},
   "source": [
    "## games played"
   ]
  },
  {
   "cell_type": "markdown",
   "metadata": {},
   "source": [
    "Create a variable that will calculate the sum of games each player played in. The total contribution of a given  player is the sum of events he participated in divided by the number of games he played."
   ]
  },
  {
   "cell_type": "markdown",
   "metadata": {},
   "source": [
    "- **a) games played per player for visitor team:**"
   ]
  },
  {
   "cell_type": "markdown",
   "metadata": {},
   "source": [
    "- create variable that counts the amount of games each player from the **visitor team** played."
   ]
  },
  {
   "cell_type": "code",
   "execution_count": 58,
   "metadata": {
    "collapsed": true
   },
   "outputs": [],
   "source": [
    "dm['vgp'] = dm.groupby(['Season', 'VTeamCode', 'EventNumber', 'VPlayer'])['GameNumber'].transform('count')"
   ]
  },
  {
   "cell_type": "markdown",
   "metadata": {},
   "source": [
    "- **b) games played per player for home team:**"
   ]
  },
  {
   "cell_type": "markdown",
   "metadata": {},
   "source": [
    "- create variable that counts the amount of games each player from the **home team** played."
   ]
  },
  {
   "cell_type": "code",
   "execution_count": 59,
   "metadata": {
    "collapsed": true
   },
   "outputs": [],
   "source": [
    "dm['hgp'] = dm.groupby(['Season', 'HTeamCode', 'EventNumber', 'HPlayer'])['GameNumber'].transform('count')"
   ]
  },
  {
   "cell_type": "markdown",
   "metadata": {},
   "source": [
    "## overall games played"
   ]
  },
  {
   "cell_type": "markdown",
   "metadata": {},
   "source": [
    "The amount of games each player played has been calculated only for his team being at home or away for the season, since home games played and visitor games played were used. The **total games** of each player is the sum of home and away games he participated in for a whole season."
   ]
  },
  {
   "cell_type": "markdown",
   "metadata": {},
   "source": [
    "- create a variable will add up the home event value and away event value for all players of a given team."
   ]
  },
  {
   "cell_type": "code",
   "execution_count": 60,
   "metadata": {
    "collapsed": true
   },
   "outputs": [],
   "source": [
    "dm['gp'] = np.where((dm['Season'] == dm['Season']) & (dm['HTeamCode'] == dm['VTeamCode']) & (dm['HPlayer'] == dm['VPlayer']), (dm['hgp'] + dm['vgp']),\n",
    "                   (np.where((dm['Season'] == dm['Season']) & (dm['HTeamCode'] != dm['VTeamCode']) & (dm['HPlayer'] != dm['VPlayer']), dm['hgp'],\n",
    "                   (np.where((dm['Season'] == dm['Season']) &(dm['VTeamCode'] == dm['HTeamCode']) & (dm['VPlayer'] == dm['HPlayer']), (dm['vgp'] + dm['hgp']), dm['vgp'])))))"
   ]
  },
  {
   "cell_type": "markdown",
   "metadata": {},
   "source": [
    "## overall player contribution"
   ]
  },
  {
   "cell_type": "markdown",
   "metadata": {},
   "source": [
    "The impact of each player has been calculated only for his team being at home or away for the season, since home event value and visitor event value were used. The **total contribution** of each player is the total of events he participated for a whole season. Thus, the sum of both home and away event values must be computed."
   ]
  },
  {
   "cell_type": "markdown",
   "metadata": {},
   "source": [
    "- create a variable will add up the home event value and away event value for all players of a given team, that played in **position 1.**"
   ]
  },
  {
   "cell_type": "code",
   "execution_count": 61,
   "metadata": {
    "collapsed": true
   },
   "outputs": [],
   "source": [
    "dm['plyr'] = np.where((dm['Season'] == dm['Season']) & (dm['HTeamCode'] == dm['VTeamCode']) & (dm['HPlayer'] == dm['VPlayer']), (dm['hp'] + dm['vp'])/dm['gp'],\n",
    "                   (np.where((dm['Season'] == dm['Season']) & (dm['HTeamCode'] != dm['VTeamCode']) & (dm['HPlayer'] != dm['VPlayer']), dm['hp']/dm['hgp'],\n",
    "                   (np.where((dm['Season'] == dm['Season']) &(dm['VTeamCode'] == dm['HTeamCode']) & (dm['VPlayer'] == dm['HPlayer']), (dm['vp'] + dm['hp'])/dm['gp'], dm['vp']/dm['vgp'])))))"
   ]
  },
  {
   "cell_type": "markdown",
   "metadata": {},
   "source": [
    "The total contribution of each player for the duration of a season has been measured."
   ]
  },
  {
   "cell_type": "markdown",
   "metadata": {
    "collapsed": true
   },
   "source": [
    "## store player evaluation data frame"
   ]
  },
  {
   "cell_type": "markdown",
   "metadata": {},
   "source": [
    "the player evaluation data frame will be stored and used for the next stage of analysis, player allocation."
   ]
  },
  {
   "cell_type": "code",
   "execution_count": 62,
   "metadata": {
    "collapsed": true
   },
   "outputs": [],
   "source": [
    "dm.to_csv('player_evaluation.csv', index='False', sep=',')"
   ]
  },
  {
   "cell_type": "markdown",
   "metadata": {},
   "source": [
    "The next step is to allocate players to their respectful roster position."
   ]
  },
  {
   "cell_type": "code",
   "execution_count": null,
   "metadata": {
    "collapsed": true
   },
   "outputs": [],
   "source": []
  }
 ],
 "metadata": {
  "kernelspec": {
   "display_name": "Python 3",
   "language": "python",
   "name": "python3"
  },
  "language_info": {
   "codemirror_mode": {
    "name": "ipython",
    "version": 3
   },
   "file_extension": ".py",
   "mimetype": "text/x-python",
   "name": "python",
   "nbconvert_exporter": "python",
   "pygments_lexer": "ipython3",
   "version": "3.6.0"
  }
 },
 "nbformat": 4,
 "nbformat_minor": 2
}
