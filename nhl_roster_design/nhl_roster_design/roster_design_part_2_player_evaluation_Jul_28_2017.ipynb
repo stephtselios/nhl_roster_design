{
 "cells": [
  {
   "cell_type": "markdown",
   "metadata": {},
   "source": [
    "# Player Evaluation"
   ]
  },
  {
   "cell_type": "markdown",
   "metadata": {},
   "source": [
    "Player evaluation will be conducted prior to roster design, as it weighs the overall performance of each player from each game throughout the course of a season. Total Hockey Rating (THoR) is an all-inclusive statistic rating of all NHL defensemen and forwards incidental to all on-ice events. All events of a game are documented and appointed a value determined by the probability that event generated a goal. "
   ]
  },
  {
   "cell_type": "markdown",
   "metadata": {},
   "source": [
    "### purpose of notebook:"
   ]
  },
  {
   "cell_type": "markdown",
   "metadata": {},
   "source": [
    "a) generate a variable that will show the time difference between a goal and all events that happened prior.\n"
   ]
  },
  {
   "cell_type": "markdown",
   "metadata": {},
   "source": [
    "b) keep only events that happened 20 seconds prior to a goal."
   ]
  },
  {
   "cell_type": "markdown",
   "metadata": {},
   "source": [
    "c) group events by goal number to count the occurance of each event prior to a goal."
   ]
  },
  {
   "cell_type": "markdown",
   "metadata": {},
   "source": [
    "d) sum by event type to display the incidence of each event in two games."
   ]
  },
  {
   "cell_type": "markdown",
   "metadata": {},
   "source": [
    "e) establish the impact of each event on a goal."
   ]
  },
  {
   "cell_type": "markdown",
   "metadata": {},
   "source": [
    "f) deterime if events have a positive or negative impact on each team."
   ]
  },
  {
   "cell_type": "markdown",
   "metadata": {},
   "source": [
    "g) assign values to players based on their participation in events that led to a goal."
   ]
  },
  {
   "cell_type": "markdown",
   "metadata": {},
   "source": [
    "##  import modules"
   ]
  },
  {
   "cell_type": "code",
   "execution_count": 140,
   "metadata": {
    "collapsed": true
   },
   "outputs": [],
   "source": [
    "import sys\n",
    "import os\n",
    "import pandas as pd\n",
    "import numpy as np\n",
    "import datetime, time\n",
    "import matplotlib.pyplot as plt\n",
    "import statsmodels.api as sm\n",
    "from statsmodels.formula.api import ols\n",
    "from pylab import hist, show\n",
    "import scipy"
   ]
  },
  {
   "cell_type": "markdown",
   "metadata": {},
   "source": [
    "## import data frame"
   ]
  },
  {
   "cell_type": "markdown",
   "metadata": {},
   "source": [
    "The merged data frame created in the roster_design_stephanos notebook is imported and used for player evaluation."
   ]
  },
  {
   "cell_type": "code",
   "execution_count": 141,
   "metadata": {
    "collapsed": true
   },
   "outputs": [],
   "source": [
    "dm = pd.read_csv('pbpmerge.csv')"
   ]
  },
  {
   "cell_type": "markdown",
   "metadata": {},
   "source": [
    "## drop unnamed column (irrelevant)"
   ]
  },
  {
   "cell_type": "code",
   "execution_count": 142,
   "metadata": {
    "collapsed": true
   },
   "outputs": [],
   "source": [
    "dm = dm.drop('Unnamed: 0', axis=1)"
   ]
  },
  {
   "cell_type": "markdown",
   "metadata": {},
   "source": [
    "## rename visitor and home player position column"
   ]
  },
  {
   "cell_type": "code",
   "execution_count": 143,
   "metadata": {
    "collapsed": false
   },
   "outputs": [
    {
     "data": {
      "text/plain": [
       "Index(['Season', 'GameNumber', 'EventNumber', 'Period', 'AdvantageType',\n",
       "       'EventTimeFromZero', 'EventTimeFromTwenty', 'EventType', 'EventDetail',\n",
       "       'VPlayer1', 'VPosition1', 'VPlayer2', 'VPosition2', 'VPlayer3',\n",
       "       'VPosition3', 'VPlayer4', 'VPosition4', 'VPlayer5', 'VPosition5',\n",
       "       'VPlayer6', 'VPosition6', 'HPlayer1', 'HPosition1', 'HPlayer2',\n",
       "       'HPosition2', 'HPlayer3', 'HPosition3', 'HPlayer4', 'HPosition4',\n",
       "       'HPlayer5', 'HPosition5', 'HPlayer6', 'HPosition6', 'TeamCode',\n",
       "       'PlayerNumber', 'PlayerName', 'ShotType', 'Zone', 'Length',\n",
       "       'ShotResult', 'ShotTeamCode', 'ShotPlayerNumber', 'ShotPlayerName',\n",
       "       'WinTeamCode', 'VTeamCode', 'VNumber', 'VName', 'HTeamCode', 'HNumber',\n",
       "       'HName', 'HitterTeamCode', 'HitterPlayerNumber', 'HitterPlayerName',\n",
       "       'HitteeTeamCode', 'HitteePlayerNumber', 'HitteePlayerName',\n",
       "       'PenaltyTeamCode', 'PenaltyPlayerNumber', 'PenaltyPlayerName',\n",
       "       'PenaltyType', 'DrawnByTeamCode', 'DrawnByPlayerNumber',\n",
       "       'DrawnByPlayerName', 'GameDate', 'GoalNumber', 'GoalTime',\n",
       "       'Assist1Player', 'Assist2Player'],\n",
       "      dtype='object')"
      ]
     },
     "execution_count": 143,
     "metadata": {},
     "output_type": "execute_result"
    }
   ],
   "source": [
    "dm.columns"
   ]
  },
  {
   "cell_type": "markdown",
   "metadata": {},
   "source": [
    "## roster position"
   ]
  },
  {
   "cell_type": "markdown",
   "metadata": {},
   "source": [
    "### a) for visitor team:"
   ]
  },
  {
   "cell_type": "markdown",
   "metadata": {},
   "source": [
    "**position 1** is the **centre position** of forward lines"
   ]
  },
  {
   "cell_type": "code",
   "execution_count": 144,
   "metadata": {
    "collapsed": true
   },
   "outputs": [],
   "source": [
    "dm['VPosition1'] = 'C'"
   ]
  },
  {
   "cell_type": "markdown",
   "metadata": {},
   "source": [
    "**position 2** is the **right wing** position of forward lines"
   ]
  },
  {
   "cell_type": "code",
   "execution_count": 145,
   "metadata": {
    "collapsed": true
   },
   "outputs": [],
   "source": [
    "dm['VPosition2'] = 'RW'"
   ]
  },
  {
   "cell_type": "markdown",
   "metadata": {},
   "source": [
    "**position 3** is the **left wing** position of forward lines"
   ]
  },
  {
   "cell_type": "code",
   "execution_count": 146,
   "metadata": {
    "collapsed": true
   },
   "outputs": [],
   "source": [
    "dm['VPosition3'] = 'LW'"
   ]
  },
  {
   "cell_type": "markdown",
   "metadata": {},
   "source": [
    "**position 4** is the **right defense** position of defensive pairings"
   ]
  },
  {
   "cell_type": "code",
   "execution_count": 147,
   "metadata": {
    "collapsed": true
   },
   "outputs": [],
   "source": [
    "dm['VPosition4'] = 'RD'"
   ]
  },
  {
   "cell_type": "markdown",
   "metadata": {},
   "source": [
    "**position 5** is the **left defense** position of defensive pairings"
   ]
  },
  {
   "cell_type": "code",
   "execution_count": 148,
   "metadata": {
    "collapsed": true
   },
   "outputs": [],
   "source": [
    "dm['VPosition5'] = 'LD'"
   ]
  },
  {
   "cell_type": "markdown",
   "metadata": {},
   "source": [
    "### b) for home team: "
   ]
  },
  {
   "cell_type": "markdown",
   "metadata": {},
   "source": [
    "**position 1** is the **centre position** of forward lines"
   ]
  },
  {
   "cell_type": "code",
   "execution_count": 149,
   "metadata": {
    "collapsed": true
   },
   "outputs": [],
   "source": [
    "dm['HPosition1'] = 'C'"
   ]
  },
  {
   "cell_type": "markdown",
   "metadata": {},
   "source": [
    "**position 2** is the **right wing** position of forward lines"
   ]
  },
  {
   "cell_type": "code",
   "execution_count": 150,
   "metadata": {
    "collapsed": true
   },
   "outputs": [],
   "source": [
    "dm['HPosition2'] = 'RW'"
   ]
  },
  {
   "cell_type": "markdown",
   "metadata": {},
   "source": [
    "**position 3** is the **left wing** position of forward lines"
   ]
  },
  {
   "cell_type": "code",
   "execution_count": 151,
   "metadata": {
    "collapsed": true
   },
   "outputs": [],
   "source": [
    "dm['HPosition3'] = 'LW'"
   ]
  },
  {
   "cell_type": "markdown",
   "metadata": {},
   "source": [
    "**position 4** is the **right defense** position of defensive pairings"
   ]
  },
  {
   "cell_type": "code",
   "execution_count": 152,
   "metadata": {
    "collapsed": true
   },
   "outputs": [],
   "source": [
    "dm['HPosition4'] = 'RD'"
   ]
  },
  {
   "cell_type": "markdown",
   "metadata": {},
   "source": [
    "**position 5** is the **left defense** position of defensive pairings"
   ]
  },
  {
   "cell_type": "code",
   "execution_count": 153,
   "metadata": {
    "collapsed": true
   },
   "outputs": [],
   "source": [
    "dm['HPosition5'] = 'LD'"
   ]
  },
  {
   "cell_type": "markdown",
   "metadata": {},
   "source": [
    "## reshape from wide to long"
   ]
  },
  {
   "cell_type": "code",
   "execution_count": 154,
   "metadata": {
    "collapsed": false
   },
   "outputs": [],
   "source": [
    "a = [col for col in dm.columns if 'VPlayer' in col]\n",
    "b = [col for col in dm.columns if 'HPlayer' in col]\n",
    "c = [col for col in dm.columns if 'VPosition' in col]\n",
    "d = [col for col in dm.columns if 'HPosition' in col]\n",
    "dm = pd.lreshape(dm, {'VPlayer' : a, 'HPlayer' : b, 'VPosition' : c, 'HPosition': d})"
   ]
  },
  {
   "cell_type": "code",
   "execution_count": 155,
   "metadata": {
    "collapsed": false
   },
   "outputs": [],
   "source": [
    "dm = dm.sort_values(['Season', 'GameNumber', 'Period', 'EventNumber'], ascending=[True, True, True, True])"
   ]
  },
  {
   "cell_type": "code",
   "execution_count": 156,
   "metadata": {
    "collapsed": false
   },
   "outputs": [
    {
     "data": {
      "text/plain": [
       "Index(['AdvantageType', 'Assist1Player', 'Assist2Player', 'DrawnByPlayerName',\n",
       "       'DrawnByPlayerNumber', 'DrawnByTeamCode', 'EventDetail', 'EventNumber',\n",
       "       'EventTimeFromTwenty', 'EventTimeFromZero', 'EventType', 'GameDate',\n",
       "       'GameNumber', 'GoalNumber', 'GoalTime', 'HName', 'HNumber', 'HTeamCode',\n",
       "       'HitteePlayerName', 'HitteePlayerNumber', 'HitteeTeamCode',\n",
       "       'HitterPlayerName', 'HitterPlayerNumber', 'HitterTeamCode', 'Length',\n",
       "       'PenaltyPlayerName', 'PenaltyPlayerNumber', 'PenaltyTeamCode',\n",
       "       'PenaltyType', 'Period', 'PlayerName', 'PlayerNumber', 'Season',\n",
       "       'ShotPlayerName', 'ShotPlayerNumber', 'ShotResult', 'ShotTeamCode',\n",
       "       'ShotType', 'TeamCode', 'VName', 'VNumber', 'VTeamCode', 'WinTeamCode',\n",
       "       'Zone', 'VPlayer', 'HPlayer', 'VPosition', 'HPosition'],\n",
       "      dtype='object')"
      ]
     },
     "execution_count": 156,
     "metadata": {},
     "output_type": "execute_result"
    }
   ],
   "source": [
    "dm.columns"
   ]
  },
  {
   "cell_type": "code",
   "execution_count": 157,
   "metadata": {
    "collapsed": false
   },
   "outputs": [],
   "source": [
    "dm = dm[['Season', 'GameNumber', 'EventNumber', 'Period', 'AdvantageType', 'EventTimeFromZero', 'EventTimeFromTwenty', 'EventType', 'EventDetail', 'TeamCode', 'VPlayer', 'VPosition', 'HPlayer', 'HPosition', 'PlayerNumber', 'PlayerName', 'ShotType', 'Zone', 'Length', 'ShotResult', 'ShotTeamCode', 'ShotPlayerNumber', 'ShotPlayerName', 'WinTeamCode', 'VTeamCode', 'HTeamCode', 'HitterTeamCode', 'HitterPlayerNumber', 'HitterPlayerName', 'HitteeTeamCode', 'HitteePlayerNumber', 'HitteePlayerName', 'PenaltyTeamCode', 'PenaltyPlayerNumber', 'PenaltyPlayerName', 'PenaltyType', 'DrawnByTeamCode', 'DrawnByPlayerNumber', 'DrawnByPlayerName', 'GameDate', 'GoalNumber', 'GoalTime', 'Assist1Player', 'Assist2Player']]\n",
    "           "
   ]
  },
  {
   "cell_type": "markdown",
   "metadata": {},
   "source": [
    "## fill in team code for all type of events"
   ]
  },
  {
   "cell_type": "markdown",
   "metadata": {},
   "source": [
    "For team code column not to be missing any data, **numpy where** is used. It is a command that assigns values to team code based on the event type and the outcome of that event. "
   ]
  },
  {
   "cell_type": "markdown",
   "metadata": {},
   "source": [
    "- if an event is a faceoff, the team that won the faceoff will be assigned to 'TeamCode'. "
   ]
  },
  {
   "cell_type": "markdown",
   "metadata": {},
   "source": [
    "- if an event is a hit, the team that registered a hit will be assigned to 'TeamCode'. "
   ]
  },
  {
   "cell_type": "markdown",
   "metadata": {},
   "source": [
    "- if an event is a penalty, the team that committed the penalty will be assigned to 'TeamCode'."
   ]
  },
  {
   "cell_type": "code",
   "execution_count": 158,
   "metadata": {
    "collapsed": false
   },
   "outputs": [],
   "source": [
    "dm['TeamCode'] = np.where(dm['EventType'] == 'FAC', dm['WinTeamCode'],\n",
    "                             (np.where(dm['EventType'] == 'HIT', dm['HitterTeamCode'],\n",
    "                                       (np.where(dm['EventType'] == 'PENL', dm['PenaltyTeamCode'], dm['TeamCode'])))))"
   ]
  },
  {
   "cell_type": "markdown",
   "metadata": {},
   "source": [
    "## fill in home and visitor team code "
   ]
  },
  {
   "cell_type": "markdown",
   "metadata": {},
   "source": [
    "To confirm there are no missing data, home and visitor team code are filled in *backwards*. "
   ]
  },
  {
   "cell_type": "markdown",
   "metadata": {},
   "source": [
    " - visitor team code for all events prior to a goal filled in backwards"
   ]
  },
  {
   "cell_type": "code",
   "execution_count": 159,
   "metadata": {
    "collapsed": false
   },
   "outputs": [],
   "source": [
    "dm['VTeamCode'] = dm['VTeamCode'].fillna(method='bfill')"
   ]
  },
  {
   "cell_type": "markdown",
   "metadata": {},
   "source": [
    " - home team code for all events prior to a goal filled in backwards"
   ]
  },
  {
   "cell_type": "code",
   "execution_count": 160,
   "metadata": {
    "collapsed": true
   },
   "outputs": [],
   "source": [
    "dm['HTeamCode'] = dm['HTeamCode'].fillna(method='bfill')"
   ]
  },
  {
   "cell_type": "markdown",
   "metadata": {},
   "source": [
    "##  fill in variables goal number and goal time with values"
   ]
  },
  {
   "cell_type": "markdown",
   "metadata": {},
   "source": [
    "Goal number and goal time values will be assigned to every event, dependent on the number of goals scored in a game and the time (from zero) they happened. Since events that occured **prior to a goal** are being examined, *fill in backwards method* is used. This will assist with the calculation of time difference between a goal and a given event."
   ]
  },
  {
   "cell_type": "markdown",
   "metadata": {},
   "source": [
    " - goal number for all events prior to a goal filled in backwards"
   ]
  },
  {
   "cell_type": "code",
   "execution_count": 161,
   "metadata": {
    "collapsed": false
   },
   "outputs": [],
   "source": [
    "dm['GoalNumber']= dm['GoalNumber'].fillna(method='bfill')"
   ]
  },
  {
   "cell_type": "markdown",
   "metadata": {},
   "source": [
    "- goal time for all events prior to a goal filled in backwards"
   ]
  },
  {
   "cell_type": "code",
   "execution_count": 162,
   "metadata": {
    "collapsed": false
   },
   "outputs": [],
   "source": [
    "dm['GoalTime'] = dm['GoalTime'].fillna(method='bfill')"
   ]
  },
  {
   "cell_type": "markdown",
   "metadata": {},
   "source": [
    "## generate a variable that will calculate the time difference between goal and events"
   ]
  },
  {
   "cell_type": "markdown",
   "metadata": {},
   "source": [
    "The time difference between a goal and an event is calculated as followed: "
   ]
  },
  {
   "cell_type": "code",
   "execution_count": 163,
   "metadata": {
    "collapsed": false
   },
   "outputs": [],
   "source": [
    "dm['TBGoalandEvent'] = dm['GoalTime'] - dm['EventTimeFromZero']"
   ]
  },
  {
   "cell_type": "markdown",
   "metadata": {},
   "source": [
    "## keep only events that happened 20 seconds prior to goal"
   ]
  },
  {
   "cell_type": "markdown",
   "metadata": {},
   "source": [
    "The playler evaluation model uses only events that happened 20 seconds prior to a goal. If the time between a goal and an event exceeds 20 seconds, the event will not be included in the dataframe. Thus:"
   ]
  },
  {
   "cell_type": "code",
   "execution_count": 164,
   "metadata": {
    "collapsed": false
   },
   "outputs": [],
   "source": [
    "dm = dm[dm['TBGoalandEvent'] <= 20]"
   ]
  },
  {
   "cell_type": "code",
   "execution_count": 165,
   "metadata": {
    "collapsed": false
   },
   "outputs": [],
   "source": [
    "dm = dm[dm['TBGoalandEvent'] >= 0]"
   ]
  },
  {
   "cell_type": "markdown",
   "metadata": {},
   "source": [
    "## create a column that will show the total observations for two games"
   ]
  },
  {
   "cell_type": "markdown",
   "metadata": {},
   "source": [
    "the data is grouped by season to count the total occurance of events that happened 20 seconds prior to a goal, in the first two games of the season"
   ]
  },
  {
   "cell_type": "code",
   "execution_count": 166,
   "metadata": {
    "collapsed": false
   },
   "outputs": [],
   "source": [
    "dm['Counts'] = dm.groupby('Season')['EventType'].transform('count')"
   ]
  },
  {
   "cell_type": "markdown",
   "metadata": {},
   "source": [
    "## create columns for each type of event and assign values to determine the impact they have on a goal"
   ]
  },
  {
   "cell_type": "markdown",
   "metadata": {},
   "source": [
    "Values are appointed to eight even strengths events: block shot, face-off, shot on goal, missed shot, penalty, hit, takeaway, giveaway and goal."
   ]
  },
  {
   "cell_type": "markdown",
   "metadata": {},
   "source": [
    " - create a column that assigns a value of 1 to block events and a value of 0 to every non block event"
   ]
  },
  {
   "cell_type": "code",
   "execution_count": 167,
   "metadata": {
    "collapsed": true
   },
   "outputs": [],
   "source": [
    "dm['block'] = np.where(dm['EventType'] == 'BLOCK', 1, 0)"
   ]
  },
  {
   "cell_type": "markdown",
   "metadata": {},
   "source": [
    " - create a column that assigns a value of 1 to faceoff events and a value of 0 to every non faceoff event"
   ]
  },
  {
   "cell_type": "code",
   "execution_count": 168,
   "metadata": {
    "collapsed": true
   },
   "outputs": [],
   "source": [
    "dm['faceoff'] = np.where(dm['EventType'] == 'FAC', 1, 0)"
   ]
  },
  {
   "cell_type": "markdown",
   "metadata": {},
   "source": [
    " - create a column that assigns a value of 1 to giveaway events and a value of 0 to every non giveaway event"
   ]
  },
  {
   "cell_type": "code",
   "execution_count": 169,
   "metadata": {
    "collapsed": true
   },
   "outputs": [],
   "source": [
    "dm['giveaway'] = np.where(dm['EventType'] == 'GIVE', 1, 0)"
   ]
  },
  {
   "cell_type": "markdown",
   "metadata": {},
   "source": [
    "- create a column that assigns a value of 1 to goal events and a value of 0 to every non goal event"
   ]
  },
  {
   "cell_type": "code",
   "execution_count": 170,
   "metadata": {
    "collapsed": true
   },
   "outputs": [],
   "source": [
    "dm['goal'] = np.where(dm['EventType'] == 'GOAL', 1, 0)"
   ]
  },
  {
   "cell_type": "markdown",
   "metadata": {},
   "source": [
    "- create a column that assigns a value of 1 to hit events and a value of 0 to every non hit event"
   ]
  },
  {
   "cell_type": "code",
   "execution_count": 171,
   "metadata": {
    "collapsed": true
   },
   "outputs": [],
   "source": [
    "dm['hit'] = np.where(dm['EventType'] == 'HIT', 1, 0)"
   ]
  },
  {
   "cell_type": "markdown",
   "metadata": {},
   "source": [
    "- create a column that assigns a value of 1 to miss events and a value of 0 to every non miss shot event"
   ]
  },
  {
   "cell_type": "code",
   "execution_count": 172,
   "metadata": {
    "collapsed": true
   },
   "outputs": [],
   "source": [
    "dm['miss'] = np.where(dm['EventType'] == 'MISS', 1, 0)"
   ]
  },
  {
   "cell_type": "markdown",
   "metadata": {},
   "source": [
    " - create a column that assigns a value of 1 to penalty events and a value of 0 to every non penalty events"
   ]
  },
  {
   "cell_type": "code",
   "execution_count": 173,
   "metadata": {
    "collapsed": true
   },
   "outputs": [],
   "source": [
    "dm['penalty'] = np.where(dm['EventType'] == 'PENL', 1, 0)"
   ]
  },
  {
   "cell_type": "markdown",
   "metadata": {},
   "source": [
    "- create a column that assigns a value of 1 to shot events and a value of 0 to every non shot events"
   ]
  },
  {
   "cell_type": "code",
   "execution_count": 174,
   "metadata": {
    "collapsed": true
   },
   "outputs": [],
   "source": [
    "dm['shot'] = np.where(dm['EventType'] == 'SHOT', 1, 0)"
   ]
  },
  {
   "cell_type": "markdown",
   "metadata": {},
   "source": [
    " - create a column that assigns a value of 1 to takeaway events and a value of 0 to non takeaway events"
   ]
  },
  {
   "cell_type": "code",
   "execution_count": 175,
   "metadata": {
    "collapsed": true
   },
   "outputs": [],
   "source": [
    "dm['takeaway'] = np.where(dm['EventType'] == 'TAKE', 1, 0)"
   ]
  },
  {
   "cell_type": "markdown",
   "metadata": {},
   "source": [
    "## display of each event leading to a goal for two games"
   ]
  },
  {
   "cell_type": "markdown",
   "metadata": {
    "collapsed": true
   },
   "source": [
    "The below table lists the occurance of each event type prior to each goal."
   ]
  },
  {
   "cell_type": "code",
   "execution_count": 176,
   "metadata": {
    "collapsed": false
   },
   "outputs": [],
   "source": [
    "dy = dm.groupby(['Season','GameNumber', 'GoalNumber', 'EventType']).size()"
   ]
  },
  {
   "cell_type": "markdown",
   "metadata": {},
   "source": [
    "## create a variable that will display the value of each event "
   ]
  },
  {
   "cell_type": "markdown",
   "metadata": {},
   "source": [
    "All events that happened 20 seconds prior to a goal are counted. The **mean** is used to establish the impact each event has on a goal."
   ]
  },
  {
   "cell_type": "markdown",
   "metadata": {},
   "source": [
    "Fist step is to determine if an event has a positive or negative impact on a goal:"
   ]
  },
  {
   "cell_type": "markdown",
   "metadata": {},
   "source": [
    " - giveaway has a negative impact on the team that lost possession."
   ]
  },
  {
   "cell_type": "markdown",
   "metadata": {},
   "source": [
    " - faceoff has a positive impact on the team that won the faceoff and a negative impact on the team that lost. "
   ]
  },
  {
   "cell_type": "markdown",
   "metadata": {},
   "source": [
    "- hit has a positive impact for the team that delivered the hit and a negative impact on the team that received the hit."
   ]
  },
  {
   "cell_type": "markdown",
   "metadata": {},
   "source": [
    "- penalty has a positive impact on the team that drew the penalty and a negative impact on the team serving. "
   ]
  },
  {
   "cell_type": "markdown",
   "metadata": {},
   "source": [
    " - takeaway has a positive impact on the team that stole the puck and gained possession."
   ]
  },
  {
   "cell_type": "code",
   "execution_count": 177,
   "metadata": {
    "collapsed": false
   },
   "outputs": [],
   "source": [
    "dm['eventvalue'] = np.where(dm['EventType'] == 'BLOCK', dm['block'].mean(),\n",
    "                             (np.where(dm['EventType'] == 'FAC', dm['faceoff'].mean(),\n",
    "                                       (np.where(dm['EventType'] == 'GIVE', -(dm['giveaway'].mean()),\n",
    "                                                 (np.where(dm['EventType'] == 'GOAL', dm['goal'].mean(),\n",
    "                                                          (np.where(dm['EventType'] == 'HIT', dm['hit'].mean(),\n",
    "                                                                   (np.where(dm['EventType'] == 'MISS', dm['miss'].mean(),\n",
    "                                                                            (np.where(dm['EventType'] == 'PENL', -(dm['penalty'].mean()),\n",
    "                                                                                     (np.where(dm['EventType'] == 'SHOT', dm['shot'].mean(),\n",
    "                                                                                              (np.where(dm['EventType'] == 'TAKE', dm['takeaway'].mean(), 0)))))))))))))))))"
   ]
  },
  {
   "cell_type": "markdown",
   "metadata": {},
   "source": [
    "All event types have been assigned a value based on the impact they had on a goal. "
   ]
  },
  {
   "cell_type": "markdown",
   "metadata": {},
   "source": [
    "##  create event value for home and visitor teams"
   ]
  },
  {
   "cell_type": "markdown",
   "metadata": {},
   "source": [
    "Each event has an effect on both home and visitor team. An event that has a positive impact on the home team will have a negative impact on the visitor team. Similarly, an event that has a negative effect on the home team, will have a positive effect on the visitor team."
   ]
  },
  {
   "cell_type": "markdown",
   "metadata": {},
   "source": [
    "- If an event has a positive impact on the **home team**, the mean will be positive. If an event has a negative impact on the home team, the mean will be negative."
   ]
  },
  {
   "cell_type": "code",
   "execution_count": 178,
   "metadata": {
    "collapsed": false
   },
   "outputs": [],
   "source": [
    "dm['heventvalue'] = np.where(dm['TeamCode'] == dm['HTeamCode'], dm['eventvalue'], -(dm['eventvalue']))"
   ]
  },
  {
   "cell_type": "markdown",
   "metadata": {},
   "source": [
    "- If an event has a positive impact on the **visitor team**, the mean will be positive. If an event has a negative impact on the visitor team, the mean will be negative."
   ]
  },
  {
   "cell_type": "code",
   "execution_count": 179,
   "metadata": {
    "collapsed": false
   },
   "outputs": [],
   "source": [
    "dm['veventvalue'] = np.where(dm['TeamCode'] == dm['VTeamCode'], dm['eventvalue'], -(dm['eventvalue']))"
   ]
  },
  {
   "cell_type": "markdown",
   "metadata": {},
   "source": [
    "## assign values to each player "
   ]
  },
  {
   "cell_type": "markdown",
   "metadata": {},
   "source": [
    "The value of an event is assigned to all players that were on ice, a total of 12 players (6 per team). The overall contribution of each player is the total (sum) of events they participated in. "
   ]
  },
  {
   "cell_type": "markdown",
   "metadata": {},
   "source": [
    "### a) overall contribution of each player from the visitor team in all (6) positions "
   ]
  },
  {
   "cell_type": "markdown",
   "metadata": {},
   "source": [
    "Group data frame by season, visitor team code and visitor player to seperate players that play in the same position. "
   ]
  },
  {
   "cell_type": "code",
   "execution_count": 180,
   "metadata": {
    "collapsed": false
   },
   "outputs": [],
   "source": [
    "dm['vp'] = dm.groupby(['Season', 'VTeamCode', 'VPlayer'])['veventvalue'].transform('sum')"
   ]
  },
  {
   "cell_type": "markdown",
   "metadata": {},
   "source": [
    "### b) overall contribution of each player from the home team in all (6) positions"
   ]
  },
  {
   "cell_type": "markdown",
   "metadata": {},
   "source": [
    "Group data frame by season, home team code and home player to seperate players that play in the same position. "
   ]
  },
  {
   "cell_type": "code",
   "execution_count": 181,
   "metadata": {
    "collapsed": true
   },
   "outputs": [],
   "source": [
    "dm['hp'] = dm.groupby(['Season', 'HTeamCode', 'HPlayer'])['heventvalue'].transform('sum')"
   ]
  },
  {
   "cell_type": "markdown",
   "metadata": {},
   "source": [
    "## games played"
   ]
  },
  {
   "cell_type": "markdown",
   "metadata": {},
   "source": [
    "Create a variable that will calculate the sum of games each player played in. The total contribution of a given  player is the sum of events he participated in divided by the number of games he played."
   ]
  },
  {
   "cell_type": "markdown",
   "metadata": {},
   "source": [
    "- **a) games played per player for visitor team:**"
   ]
  },
  {
   "cell_type": "markdown",
   "metadata": {},
   "source": [
    "- create variable that counts the amount of games each player from the **visitor team** played."
   ]
  },
  {
   "cell_type": "code",
   "execution_count": 182,
   "metadata": {
    "collapsed": true
   },
   "outputs": [],
   "source": [
    "dm['vgp'] = dm.groupby(['Season', 'VTeamCode', 'EventNumber', 'VPlayer'])['GameNumber'].transform('count')"
   ]
  },
  {
   "cell_type": "markdown",
   "metadata": {},
   "source": [
    "- **b) games played per player for home team:**"
   ]
  },
  {
   "cell_type": "markdown",
   "metadata": {},
   "source": [
    "- create variable that counts the amount of games each player from the **home team** played."
   ]
  },
  {
   "cell_type": "code",
   "execution_count": 183,
   "metadata": {
    "collapsed": true
   },
   "outputs": [],
   "source": [
    "dm['hgp'] = dm.groupby(['Season', 'HTeamCode', 'EventNumber', 'HPlayer'])['GameNumber'].transform('count')"
   ]
  },
  {
   "cell_type": "markdown",
   "metadata": {},
   "source": [
    "## overall games played"
   ]
  },
  {
   "cell_type": "markdown",
   "metadata": {},
   "source": [
    "The amount of games each player played has been calculated only for his team being at home or away for the season, since home games played and visitor games played were used. The **total games** of each player is the sum of home and away games he participated in for a whole season."
   ]
  },
  {
   "cell_type": "markdown",
   "metadata": {},
   "source": [
    "- create a variable will add up the home event value and away event value for all players of a given team."
   ]
  },
  {
   "cell_type": "code",
   "execution_count": 184,
   "metadata": {
    "collapsed": true
   },
   "outputs": [],
   "source": [
    "dm['gp'] = np.where((dm['Season'] == dm['Season']) & (dm['HTeamCode'] == dm['VTeamCode']) & (dm['HPlayer'] == dm['VPlayer']), (dm['hgp'] + dm['vgp']),\n",
    "                   (np.where((dm['Season'] == dm['Season']) & (dm['HTeamCode'] != dm['VTeamCode']) & (dm['HPlayer'] != dm['VPlayer']), dm['hgp'],\n",
    "                   (np.where((dm['Season'] == dm['Season']) &(dm['VTeamCode'] == dm['HTeamCode']) & (dm['VPlayer'] == dm['HPlayer']), (dm['vgp'] + dm['hgp']), dm['vgp'])))))"
   ]
  },
  {
   "cell_type": "markdown",
   "metadata": {},
   "source": [
    "## overall player contribution"
   ]
  },
  {
   "cell_type": "markdown",
   "metadata": {},
   "source": [
    "The impact of each player has been calculated only for his team being at home or away for the season, since home event value and visitor event value were used. The **total contribution** of each player is the total of events he participated for a whole season. Thus, the sum of both home and away event values must be computed."
   ]
  },
  {
   "cell_type": "markdown",
   "metadata": {},
   "source": [
    "- create a variable will add up the home event value and away event value for all players of a given team, that played in **position 1.**"
   ]
  },
  {
   "cell_type": "code",
   "execution_count": 185,
   "metadata": {
    "collapsed": true
   },
   "outputs": [],
   "source": [
    "dm['plyr'] = np.where((dm['Season'] == dm['Season']) & (dm['HTeamCode'] == dm['VTeamCode']) & (dm['HPlayer'] == dm['VPlayer']), (dm['hp'] + dm['vp'])/dm['gp'],\n",
    "                   (np.where((dm['Season'] == dm['Season']) & (dm['HTeamCode'] != dm['VTeamCode']) & (dm['HPlayer'] != dm['VPlayer']), dm['hp']/dm['hgp'],\n",
    "                   (np.where((dm['Season'] == dm['Season']) &(dm['VTeamCode'] == dm['HTeamCode']) & (dm['VPlayer'] == dm['HPlayer']), (dm['vp'] + dm['hp'])/dm['gp'], dm['vp']/dm['vgp'])))))"
   ]
  },
  {
   "cell_type": "markdown",
   "metadata": {},
   "source": [
    "The total contribution of each player for the duration of a season has been measured."
   ]
  },
  {
   "cell_type": "markdown",
   "metadata": {
    "collapsed": true
   },
   "source": [
    "## store player evaluation data frame"
   ]
  },
  {
   "cell_type": "markdown",
   "metadata": {},
   "source": [
    "the player evaluation data frame will be stored and used for the next stage of analysis, player allocation."
   ]
  },
  {
   "cell_type": "code",
   "execution_count": 186,
   "metadata": {
    "collapsed": true
   },
   "outputs": [],
   "source": [
    "dm.to_csv('player_evaluation.csv', index='False', sep=',')"
   ]
  },
  {
   "cell_type": "markdown",
   "metadata": {},
   "source": [
    "The next step is to allocate players to their respectful roster position."
   ]
  },
  {
   "cell_type": "code",
   "execution_count": null,
   "metadata": {
    "collapsed": true
   },
   "outputs": [],
   "source": []
  }
 ],
 "metadata": {
  "kernelspec": {
   "display_name": "Python 3",
   "language": "python",
   "name": "python3"
  },
  "language_info": {
   "codemirror_mode": {
    "name": "ipython",
    "version": 3
   },
   "file_extension": ".py",
   "mimetype": "text/x-python",
   "name": "python",
   "nbconvert_exporter": "python",
   "pygments_lexer": "ipython3",
   "version": "3.6.0"
  }
 },
 "nbformat": 4,
 "nbformat_minor": 2
}
