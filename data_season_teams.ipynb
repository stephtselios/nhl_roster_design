{
 "cells": [
  {
   "cell_type": "code",
   "execution_count": 402,
   "metadata": {
    "collapsed": true
   },
   "outputs": [],
   "source": [
    "import sys\n",
    "import os\n",
    "import pandas as pd\n",
    "import numpy as np\n",
    "import datetime, time\n",
    "import matplotlib.pyplot as plt\n",
    "import statsmodels.api as sm\n",
    "from statsmodels.formula.api import ols\n",
    "from pylab import hist, show\n",
    "import scipy\n",
    "import zipfile\n",
    "\n",
    "\n",
    "pd.set_option('display.max_rows', 50)\n",
    "pd.set_option('display.max_columns', 200)"
   ]
  },
  {
   "cell_type": "code",
   "execution_count": 403,
   "metadata": {
    "collapsed": false
   },
   "outputs": [
    {
     "data": {
      "text/plain": [
       "'/Users/stefanostselios/Desktop/nhl_roster_design-master'"
      ]
     },
     "execution_count": 403,
     "metadata": {},
     "output_type": "execute_result"
    }
   ],
   "source": [
    "pwd"
   ]
  },
  {
   "cell_type": "markdown",
   "metadata": {},
   "source": [
    "### import data and keep regular season games."
   ]
  },
  {
   "cell_type": "code",
   "execution_count": 404,
   "metadata": {
    "collapsed": false
   },
   "outputs": [],
   "source": [
    "dm = pd.read_csv('season_games.csv')\n",
    "dm = dm.drop('Unnamed: 0', axis=1)\n",
    "dm = dm[dm['GameNumber'] <= 21230]"
   ]
  },
  {
   "cell_type": "code",
   "execution_count": 406,
   "metadata": {
    "collapsed": true
   },
   "outputs": [],
   "source": [
    "dm = dm.rename(columns={'WinTeam': 'Win'})"
   ]
  },
  {
   "cell_type": "markdown",
   "metadata": {},
   "source": [
    "- create win and loss team columns."
   ]
  },
  {
   "cell_type": "code",
   "execution_count": 407,
   "metadata": {
    "collapsed": false
   },
   "outputs": [],
   "source": [
    "dm['WinTeam'] = dm.apply(lambda x: x['HTeamCode'] if x['Win'] == 'HOME' else x['VTeamCode'], axis=1)"
   ]
  },
  {
   "cell_type": "code",
   "execution_count": 408,
   "metadata": {
    "collapsed": true
   },
   "outputs": [],
   "source": [
    "dm['LossTeam'] = dm.apply(lambda x: x['HTeamCode'] if x['Win'] != 'HOME' else x['VTeamCode'], axis=1)"
   ]
  },
  {
   "cell_type": "code",
   "execution_count": 409,
   "metadata": {
    "collapsed": true
   },
   "outputs": [],
   "source": [
    "df = dm[['Season', 'GameNumber', 'VTeamCode', 'HTeamCode', 'Win', 'WinTeam', 'LossTeam']]"
   ]
  },
  {
   "cell_type": "markdown",
   "metadata": {},
   "source": [
    "- reshape data to have home and visitor team in one column."
   ]
  },
  {
   "cell_type": "code",
   "execution_count": 410,
   "metadata": {
    "collapsed": false
   },
   "outputs": [],
   "source": [
    "a = [col for col in df.columns if 'Code' in col]\n",
    "df = pd.lreshape(df, {'TeamCode' : a})"
   ]
  },
  {
   "cell_type": "code",
   "execution_count": 411,
   "metadata": {
    "collapsed": true
   },
   "outputs": [],
   "source": [
    "df = df[['Season', 'GameNumber','TeamCode', 'WinTeam', 'LossTeam', 'Win']]\n",
    "df = df.sort_values(['Season', 'GameNumber'], ascending=[True, True])"
   ]
  },
  {
   "cell_type": "markdown",
   "metadata": {},
   "source": [
    "- calcuate the games played and won by each team. Drop duplicates."
   ]
  },
  {
   "cell_type": "code",
   "execution_count": 412,
   "metadata": {
    "collapsed": false
   },
   "outputs": [],
   "source": [
    "df['GP'] = df.groupby(['Season', 'TeamCode'])['GameNumber'].transform('count')"
   ]
  },
  {
   "cell_type": "code",
   "execution_count": 414,
   "metadata": {
    "collapsed": true
   },
   "outputs": [],
   "source": [
    "df = df.drop_duplicates(['Season', 'GameNumber'])"
   ]
  },
  {
   "cell_type": "code",
   "execution_count": 416,
   "metadata": {
    "collapsed": false
   },
   "outputs": [],
   "source": [
    "df['GW'] = df.groupby(['Season', 'WinTeam'])['GameNumber'].transform('count')"
   ]
  },
  {
   "cell_type": "code",
   "execution_count": 419,
   "metadata": {
    "collapsed": true
   },
   "outputs": [],
   "source": [
    "df = df.drop_duplicates(['Season', 'WinTeam'])"
   ]
  },
  {
   "cell_type": "code",
   "execution_count": 423,
   "metadata": {
    "collapsed": false
   },
   "outputs": [],
   "source": [
    "df = df[['Season','WinTeam', 'LossTeam', 'GP', 'GW']]"
   ]
  },
  {
   "cell_type": "markdown",
   "metadata": {},
   "source": [
    "- reshape data and drop duplicates by teamcode."
   ]
  },
  {
   "cell_type": "code",
   "execution_count": 425,
   "metadata": {
    "collapsed": false
   },
   "outputs": [],
   "source": [
    "a = [col for col in df.columns if 'Team' in col]\n",
    "df = pd.lreshape(df, {'TeamCode' : a})\n",
    "df = df[['Season','TeamCode','GP', 'GW']]\n",
    "df = df.sort_values(['Season', 'TeamCode'], ascending=[True, True])\n",
    "df = df.drop_duplicates(['Season', 'TeamCode'])"
   ]
  },
  {
   "cell_type": "code",
   "execution_count": 426,
   "metadata": {
    "collapsed": false
   },
   "outputs": [],
   "source": [
    "df['GL'] = df['GP'] - df['GW']"
   ]
  },
  {
   "cell_type": "code",
   "execution_count": 427,
   "metadata": {
    "collapsed": false
   },
   "outputs": [],
   "source": [
    "df['WinPc'] = df['GW']/ df['GP']"
   ]
  },
  {
   "cell_type": "code",
   "execution_count": 428,
   "metadata": {
    "collapsed": false
   },
   "outputs": [],
   "source": [
    "df['LossPc'] = df['GL']/ df['GP']"
   ]
  },
  {
   "cell_type": "markdown",
   "metadata": {},
   "source": [
    "### rank teams based on their winning percentage"
   ]
  },
  {
   "cell_type": "code",
   "execution_count": 438,
   "metadata": {
    "collapsed": true
   },
   "outputs": [],
   "source": [
    "df['Rank'] = df.groupby('Season')['WinPc'].rank(ascending=False)"
   ]
  },
  {
   "cell_type": "code",
   "execution_count": 439,
   "metadata": {
    "collapsed": true
   },
   "outputs": [],
   "source": [
    "df = df.sort_values(['Season', 'Rank'], ascending=[True, True])"
   ]
  },
  {
   "cell_type": "code",
   "execution_count": 440,
   "metadata": {
    "collapsed": false
   },
   "outputs": [
    {
     "data": {
      "text/plain": [
       "(30, 8)"
      ]
     },
     "execution_count": 440,
     "metadata": {},
     "output_type": "execute_result"
    }
   ],
   "source": [
    "df.shape"
   ]
  },
  {
   "cell_type": "code",
   "execution_count": 441,
   "metadata": {
    "collapsed": false
   },
   "outputs": [
    {
     "data": {
      "text/html": [
       "<div>\n",
       "<table border=\"1\" class=\"dataframe\">\n",
       "  <thead>\n",
       "    <tr style=\"text-align: right;\">\n",
       "      <th></th>\n",
       "      <th>Season</th>\n",
       "      <th>TeamCode</th>\n",
       "      <th>GP</th>\n",
       "      <th>GW</th>\n",
       "      <th>GL</th>\n",
       "      <th>WinPc</th>\n",
       "      <th>LossPc</th>\n",
       "      <th>Rank</th>\n",
       "    </tr>\n",
       "  </thead>\n",
       "  <tbody>\n",
       "    <tr>\n",
       "      <th>24</th>\n",
       "      <td>2010</td>\n",
       "      <td>VAN</td>\n",
       "      <td>82</td>\n",
       "      <td>54</td>\n",
       "      <td>28</td>\n",
       "      <td>0.658537</td>\n",
       "      <td>0.341463</td>\n",
       "      <td>1.0</td>\n",
       "    </tr>\n",
       "    <tr>\n",
       "      <th>21</th>\n",
       "      <td>2010</td>\n",
       "      <td>PIT</td>\n",
       "      <td>82</td>\n",
       "      <td>49</td>\n",
       "      <td>33</td>\n",
       "      <td>0.597561</td>\n",
       "      <td>0.402439</td>\n",
       "      <td>2.0</td>\n",
       "    </tr>\n",
       "    <tr>\n",
       "      <th>5</th>\n",
       "      <td>2010</td>\n",
       "      <td>SJ</td>\n",
       "      <td>82</td>\n",
       "      <td>48</td>\n",
       "      <td>34</td>\n",
       "      <td>0.585366</td>\n",
       "      <td>0.414634</td>\n",
       "      <td>3.5</td>\n",
       "    </tr>\n",
       "    <tr>\n",
       "      <th>13</th>\n",
       "      <td>2010</td>\n",
       "      <td>WSH</td>\n",
       "      <td>82</td>\n",
       "      <td>48</td>\n",
       "      <td>34</td>\n",
       "      <td>0.585366</td>\n",
       "      <td>0.414634</td>\n",
       "      <td>3.5</td>\n",
       "    </tr>\n",
       "    <tr>\n",
       "      <th>26</th>\n",
       "      <td>2010</td>\n",
       "      <td>ANA</td>\n",
       "      <td>82</td>\n",
       "      <td>47</td>\n",
       "      <td>35</td>\n",
       "      <td>0.573171</td>\n",
       "      <td>0.426829</td>\n",
       "      <td>6.0</td>\n",
       "    </tr>\n",
       "    <tr>\n",
       "      <th>7</th>\n",
       "      <td>2010</td>\n",
       "      <td>DET</td>\n",
       "      <td>82</td>\n",
       "      <td>47</td>\n",
       "      <td>35</td>\n",
       "      <td>0.573171</td>\n",
       "      <td>0.426829</td>\n",
       "      <td>6.0</td>\n",
       "    </tr>\n",
       "    <tr>\n",
       "      <th>1</th>\n",
       "      <td>2010</td>\n",
       "      <td>PHI</td>\n",
       "      <td>82</td>\n",
       "      <td>47</td>\n",
       "      <td>35</td>\n",
       "      <td>0.573171</td>\n",
       "      <td>0.426829</td>\n",
       "      <td>6.0</td>\n",
       "    </tr>\n",
       "    <tr>\n",
       "      <th>19</th>\n",
       "      <td>2010</td>\n",
       "      <td>BOS</td>\n",
       "      <td>82</td>\n",
       "      <td>46</td>\n",
       "      <td>36</td>\n",
       "      <td>0.560976</td>\n",
       "      <td>0.439024</td>\n",
       "      <td>9.0</td>\n",
       "    </tr>\n",
       "    <tr>\n",
       "      <th>18</th>\n",
       "      <td>2010</td>\n",
       "      <td>LA</td>\n",
       "      <td>82</td>\n",
       "      <td>46</td>\n",
       "      <td>36</td>\n",
       "      <td>0.560976</td>\n",
       "      <td>0.439024</td>\n",
       "      <td>9.0</td>\n",
       "    </tr>\n",
       "    <tr>\n",
       "      <th>14</th>\n",
       "      <td>2010</td>\n",
       "      <td>TB</td>\n",
       "      <td>82</td>\n",
       "      <td>46</td>\n",
       "      <td>36</td>\n",
       "      <td>0.560976</td>\n",
       "      <td>0.439024</td>\n",
       "      <td>9.0</td>\n",
       "    </tr>\n",
       "    <tr>\n",
       "      <th>23</th>\n",
       "      <td>2010</td>\n",
       "      <td>CHI</td>\n",
       "      <td>82</td>\n",
       "      <td>44</td>\n",
       "      <td>38</td>\n",
       "      <td>0.536585</td>\n",
       "      <td>0.463415</td>\n",
       "      <td>12.5</td>\n",
       "    </tr>\n",
       "    <tr>\n",
       "      <th>12</th>\n",
       "      <td>2010</td>\n",
       "      <td>MTL</td>\n",
       "      <td>82</td>\n",
       "      <td>44</td>\n",
       "      <td>38</td>\n",
       "      <td>0.536585</td>\n",
       "      <td>0.463415</td>\n",
       "      <td>12.5</td>\n",
       "    </tr>\n",
       "    <tr>\n",
       "      <th>16</th>\n",
       "      <td>2010</td>\n",
       "      <td>NSH</td>\n",
       "      <td>82</td>\n",
       "      <td>44</td>\n",
       "      <td>38</td>\n",
       "      <td>0.536585</td>\n",
       "      <td>0.463415</td>\n",
       "      <td>12.5</td>\n",
       "    </tr>\n",
       "    <tr>\n",
       "      <th>11</th>\n",
       "      <td>2010</td>\n",
       "      <td>NYR</td>\n",
       "      <td>82</td>\n",
       "      <td>44</td>\n",
       "      <td>38</td>\n",
       "      <td>0.536585</td>\n",
       "      <td>0.463415</td>\n",
       "      <td>12.5</td>\n",
       "    </tr>\n",
       "    <tr>\n",
       "      <th>8</th>\n",
       "      <td>2010</td>\n",
       "      <td>BUF</td>\n",
       "      <td>82</td>\n",
       "      <td>43</td>\n",
       "      <td>39</td>\n",
       "      <td>0.524390</td>\n",
       "      <td>0.475610</td>\n",
       "      <td>15.5</td>\n",
       "    </tr>\n",
       "    <tr>\n",
       "      <th>10</th>\n",
       "      <td>2010</td>\n",
       "      <td>PHX</td>\n",
       "      <td>82</td>\n",
       "      <td>43</td>\n",
       "      <td>39</td>\n",
       "      <td>0.524390</td>\n",
       "      <td>0.475610</td>\n",
       "      <td>15.5</td>\n",
       "    </tr>\n",
       "    <tr>\n",
       "      <th>6</th>\n",
       "      <td>2010</td>\n",
       "      <td>DAL</td>\n",
       "      <td>82</td>\n",
       "      <td>42</td>\n",
       "      <td>40</td>\n",
       "      <td>0.512195</td>\n",
       "      <td>0.487805</td>\n",
       "      <td>17.0</td>\n",
       "    </tr>\n",
       "    <tr>\n",
       "      <th>20</th>\n",
       "      <td>2010</td>\n",
       "      <td>CGY</td>\n",
       "      <td>82</td>\n",
       "      <td>41</td>\n",
       "      <td>41</td>\n",
       "      <td>0.500000</td>\n",
       "      <td>0.500000</td>\n",
       "      <td>18.0</td>\n",
       "    </tr>\n",
       "    <tr>\n",
       "      <th>2</th>\n",
       "      <td>2010</td>\n",
       "      <td>CAR</td>\n",
       "      <td>82</td>\n",
       "      <td>40</td>\n",
       "      <td>42</td>\n",
       "      <td>0.487805</td>\n",
       "      <td>0.512195</td>\n",
       "      <td>19.0</td>\n",
       "    </tr>\n",
       "    <tr>\n",
       "      <th>28</th>\n",
       "      <td>2010</td>\n",
       "      <td>MIN</td>\n",
       "      <td>82</td>\n",
       "      <td>39</td>\n",
       "      <td>43</td>\n",
       "      <td>0.475610</td>\n",
       "      <td>0.524390</td>\n",
       "      <td>20.0</td>\n",
       "    </tr>\n",
       "    <tr>\n",
       "      <th>25</th>\n",
       "      <td>2010</td>\n",
       "      <td>NJ</td>\n",
       "      <td>82</td>\n",
       "      <td>38</td>\n",
       "      <td>44</td>\n",
       "      <td>0.463415</td>\n",
       "      <td>0.536585</td>\n",
       "      <td>21.5</td>\n",
       "    </tr>\n",
       "    <tr>\n",
       "      <th>15</th>\n",
       "      <td>2010</td>\n",
       "      <td>STL</td>\n",
       "      <td>82</td>\n",
       "      <td>38</td>\n",
       "      <td>44</td>\n",
       "      <td>0.463415</td>\n",
       "      <td>0.536585</td>\n",
       "      <td>21.5</td>\n",
       "    </tr>\n",
       "    <tr>\n",
       "      <th>0</th>\n",
       "      <td>2010</td>\n",
       "      <td>TOR</td>\n",
       "      <td>82</td>\n",
       "      <td>37</td>\n",
       "      <td>45</td>\n",
       "      <td>0.451220</td>\n",
       "      <td>0.548780</td>\n",
       "      <td>23.0</td>\n",
       "    </tr>\n",
       "    <tr>\n",
       "      <th>9</th>\n",
       "      <td>2010</td>\n",
       "      <td>ATL</td>\n",
       "      <td>82</td>\n",
       "      <td>34</td>\n",
       "      <td>48</td>\n",
       "      <td>0.414634</td>\n",
       "      <td>0.585366</td>\n",
       "      <td>24.5</td>\n",
       "    </tr>\n",
       "    <tr>\n",
       "      <th>17</th>\n",
       "      <td>2010</td>\n",
       "      <td>CBJ</td>\n",
       "      <td>82</td>\n",
       "      <td>34</td>\n",
       "      <td>48</td>\n",
       "      <td>0.414634</td>\n",
       "      <td>0.585366</td>\n",
       "      <td>24.5</td>\n",
       "    </tr>\n",
       "    <tr>\n",
       "      <th>27</th>\n",
       "      <td>2010</td>\n",
       "      <td>OTT</td>\n",
       "      <td>82</td>\n",
       "      <td>32</td>\n",
       "      <td>50</td>\n",
       "      <td>0.390244</td>\n",
       "      <td>0.609756</td>\n",
       "      <td>26.0</td>\n",
       "    </tr>\n",
       "    <tr>\n",
       "      <th>3</th>\n",
       "      <td>2010</td>\n",
       "      <td>COL</td>\n",
       "      <td>82</td>\n",
       "      <td>30</td>\n",
       "      <td>52</td>\n",
       "      <td>0.365854</td>\n",
       "      <td>0.634146</td>\n",
       "      <td>28.0</td>\n",
       "    </tr>\n",
       "    <tr>\n",
       "      <th>29</th>\n",
       "      <td>2010</td>\n",
       "      <td>FLA</td>\n",
       "      <td>82</td>\n",
       "      <td>30</td>\n",
       "      <td>52</td>\n",
       "      <td>0.365854</td>\n",
       "      <td>0.634146</td>\n",
       "      <td>28.0</td>\n",
       "    </tr>\n",
       "    <tr>\n",
       "      <th>22</th>\n",
       "      <td>2010</td>\n",
       "      <td>NYI</td>\n",
       "      <td>82</td>\n",
       "      <td>30</td>\n",
       "      <td>52</td>\n",
       "      <td>0.365854</td>\n",
       "      <td>0.634146</td>\n",
       "      <td>28.0</td>\n",
       "    </tr>\n",
       "    <tr>\n",
       "      <th>4</th>\n",
       "      <td>2010</td>\n",
       "      <td>EDM</td>\n",
       "      <td>82</td>\n",
       "      <td>25</td>\n",
       "      <td>57</td>\n",
       "      <td>0.304878</td>\n",
       "      <td>0.695122</td>\n",
       "      <td>30.0</td>\n",
       "    </tr>\n",
       "  </tbody>\n",
       "</table>\n",
       "</div>"
      ],
      "text/plain": [
       "    Season TeamCode  GP  GW  GL     WinPc    LossPc  Rank\n",
       "24    2010      VAN  82  54  28  0.658537  0.341463   1.0\n",
       "21    2010      PIT  82  49  33  0.597561  0.402439   2.0\n",
       "5     2010       SJ  82  48  34  0.585366  0.414634   3.5\n",
       "13    2010      WSH  82  48  34  0.585366  0.414634   3.5\n",
       "26    2010      ANA  82  47  35  0.573171  0.426829   6.0\n",
       "7     2010      DET  82  47  35  0.573171  0.426829   6.0\n",
       "1     2010      PHI  82  47  35  0.573171  0.426829   6.0\n",
       "19    2010      BOS  82  46  36  0.560976  0.439024   9.0\n",
       "18    2010       LA  82  46  36  0.560976  0.439024   9.0\n",
       "14    2010       TB  82  46  36  0.560976  0.439024   9.0\n",
       "23    2010      CHI  82  44  38  0.536585  0.463415  12.5\n",
       "12    2010      MTL  82  44  38  0.536585  0.463415  12.5\n",
       "16    2010      NSH  82  44  38  0.536585  0.463415  12.5\n",
       "11    2010      NYR  82  44  38  0.536585  0.463415  12.5\n",
       "8     2010      BUF  82  43  39  0.524390  0.475610  15.5\n",
       "10    2010      PHX  82  43  39  0.524390  0.475610  15.5\n",
       "6     2010      DAL  82  42  40  0.512195  0.487805  17.0\n",
       "20    2010      CGY  82  41  41  0.500000  0.500000  18.0\n",
       "2     2010      CAR  82  40  42  0.487805  0.512195  19.0\n",
       "28    2010      MIN  82  39  43  0.475610  0.524390  20.0\n",
       "25    2010       NJ  82  38  44  0.463415  0.536585  21.5\n",
       "15    2010      STL  82  38  44  0.463415  0.536585  21.5\n",
       "0     2010      TOR  82  37  45  0.451220  0.548780  23.0\n",
       "9     2010      ATL  82  34  48  0.414634  0.585366  24.5\n",
       "17    2010      CBJ  82  34  48  0.414634  0.585366  24.5\n",
       "27    2010      OTT  82  32  50  0.390244  0.609756  26.0\n",
       "3     2010      COL  82  30  52  0.365854  0.634146  28.0\n",
       "29    2010      FLA  82  30  52  0.365854  0.634146  28.0\n",
       "22    2010      NYI  82  30  52  0.365854  0.634146  28.0\n",
       "4     2010      EDM  82  25  57  0.304878  0.695122  30.0"
      ]
     },
     "execution_count": 441,
     "metadata": {},
     "output_type": "execute_result"
    }
   ],
   "source": [
    "df.head(30)"
   ]
  },
  {
   "cell_type": "code",
   "execution_count": 442,
   "metadata": {
    "collapsed": true
   },
   "outputs": [],
   "source": [
    "df.to_csv('season_teams.csv', index='False')"
   ]
  },
  {
   "cell_type": "code",
   "execution_count": null,
   "metadata": {
    "collapsed": true
   },
   "outputs": [],
   "source": []
  }
 ],
 "metadata": {
  "kernelspec": {
   "display_name": "Python 3",
   "language": "python",
   "name": "python3"
  },
  "language_info": {
   "codemirror_mode": {
    "name": "ipython",
    "version": 3
   },
   "file_extension": ".py",
   "mimetype": "text/x-python",
   "name": "python",
   "nbconvert_exporter": "python",
   "pygments_lexer": "ipython3",
   "version": "3.6.0"
  }
 },
 "nbformat": 4,
 "nbformat_minor": 2
}
