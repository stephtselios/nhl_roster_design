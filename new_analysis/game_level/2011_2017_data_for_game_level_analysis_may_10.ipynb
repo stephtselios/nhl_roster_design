{
 "cells": [
  {
   "cell_type": "code",
   "execution_count": 1,
   "metadata": {
    "collapsed": true
   },
   "outputs": [],
   "source": [
    "import sys\n",
    "import os\n",
    "import pandas as pd\n",
    "import numpy as np\n",
    "import datetime, time\n",
    "import matplotlib.pyplot as plt\n",
    "import statsmodels.api as sm\n",
    "import statsmodels.formula.api as smf\n",
    "import patsy\n",
    "from statsmodels.formula.api import ols\n",
    "from statsmodels.iolib.summary2 import summary_col\n",
    "from pylab import hist, show\n",
    "import scipy\n",
    "import zipfile\n",
    "\n",
    "\n",
    "pd.set_option('display.max_rows', 50)\n",
    "pd.set_option('display.max_columns', 200)"
   ]
  },
  {
   "cell_type": "markdown",
   "metadata": {},
   "source": [
    "### import play by play data set"
   ]
  },
  {
   "cell_type": "code",
   "execution_count": 91,
   "metadata": {
    "collapsed": false
   },
   "outputs": [],
   "source": [
    "da = pd.read_csv('/Users/stefanostselios/Brock University/Kevin Mongeon - StephanosShare/out/data/2011_2017_pbp.csv')\n",
    "#da.pd.read_csv('/Users/kevinmongeon/Brock University/Steve Tselios - StephanosShare/out/data/2011_2017_pbp.csv')\n",
    "da = da.drop('Unnamed: 0', axis=1)"
   ]
  },
  {
   "cell_type": "markdown",
   "metadata": {},
   "source": [
    "- exclude irrelevant on-ice events"
   ]
  },
  {
   "cell_type": "code",
   "execution_count": 92,
   "metadata": {
    "collapsed": false
   },
   "outputs": [],
   "source": [
    "da = da[da['EventType']!='STOP']\n",
    "da = da[da['EventType']!='EISTR']\n",
    "da = da[da['EventType']!='EIEND']\n",
    "da = da[da['EventType']!='PSTR']\n",
    "da = da[da['EventType']!='PEND']\n",
    "da = da[da['EventType']!='SOC']\n",
    "da = da[da['EventType']!='GEND']"
   ]
  },
  {
   "cell_type": "markdown",
   "metadata": {},
   "source": [
    "- create an event number variable that will count the number of events per game. \n",
    "- create an advantage type variable for even strength, power play and short handed situations."
   ]
  },
  {
   "cell_type": "code",
   "execution_count": 93,
   "metadata": {
    "collapsed": true
   },
   "outputs": [],
   "source": [
    "da['EventNumber'] = da.groupby(['Season', 'GameNumber']).cumcount()+1"
   ]
  },
  {
   "cell_type": "code",
   "execution_count": 94,
   "metadata": {
    "collapsed": true
   },
   "outputs": [],
   "source": [
    "da['AdvantageType'] = da.apply(lambda x: 'EV' if ((x['PlayersV'] == x['PlayersH']) & (x['PlayersV'] != 1) & (x['PlayersH'] != 1)) else 'PP' if ((x['PlayersV'] > x['PlayersH']) & (x['EventTeamCode'] == x['VTeamCode'])) else 'PP' if ((x['PlayersV'] < x['PlayersH']) & (x['EventTeamCode'] == x['HTeamCode'])) else 'SH' if ((x['PlayersV'] < x['PlayersH']) & (x['EventTeamCode'] == x['VTeamCode'])) else 'SH' if ((x['PlayersV'] > x['PlayersH']) & (x['EventTeamCode'] == x['HTeamCode'])) else 'PP' if ((x['PlayersV'] == 1 ) & (x['PlayersH'] == 1)) else np.nan, axis=1)\n"
   ]
  },
  {
   "cell_type": "markdown",
   "metadata": {},
   "source": [
    "- display goals for each game and drop duplicates."
   ]
  },
  {
   "cell_type": "code",
   "execution_count": 114,
   "metadata": {
    "collapsed": false
   },
   "outputs": [],
   "source": [
    "dg = da.copy()\n",
    "dg = dg[dg['EventType'] == 'GOAL']\n",
    "dg['hgoal'] = dg.apply(lambda x: 1 if x['EventTeamCode'] == x['HTeamCode'] else 0, axis=1)\n",
    "dg['vgoal'] = dg.apply(lambda x: 1 if x['EventTeamCode'] == x['VTeamCode'] else 0, axis=1)\n",
    "dg['HGF'] = dg.groupby(['Season', 'GameNumber', 'HTeamCode'])['hgoal'].transform('sum')\n",
    "dg['VGF'] = dg.groupby(['Season', 'GameNumber', 'VTeamCode'])['vgoal'].transform('sum')\n",
    "dg = dg.drop_duplicates(['Season', 'GameNumber'])\n",
    "dg = dg[['Season', 'GameNumber', 'VTeamCode', 'HTeamCode', 'VGF', 'HGF']]"
   ]
  },
  {
   "cell_type": "markdown",
   "metadata": {},
   "source": [
    "- find the goal differential per game with respect to home team."
   ]
  },
  {
   "cell_type": "code",
   "execution_count": 115,
   "metadata": {
    "collapsed": true
   },
   "outputs": [],
   "source": [
    "dg['GD'] = dg['HGF'] - dg['VGF']\n",
    "dg['WinTeam'] = dg.apply(lambda x: x['HTeamCode'] if x['GD'] > 0 else x['VTeamCode'], axis=1)\n",
    "dg['LossTeam'] = dg.apply(lambda x: x['HTeamCode'] if x['WinTeam'] != x['HTeamCode'] else x['VTeamCode'], axis=1)"
   ]
  },
  {
   "cell_type": "markdown",
   "metadata": {},
   "source": [
    "- display goals againest per team."
   ]
  },
  {
   "cell_type": "code",
   "execution_count": 116,
   "metadata": {
    "collapsed": true
   },
   "outputs": [],
   "source": [
    "dg['VGA'] = dg['HGF']\n",
    "dg['HGA'] = dg['VGF']"
   ]
  },
  {
   "cell_type": "code",
   "execution_count": 117,
   "metadata": {
    "collapsed": false
   },
   "outputs": [
    {
     "data": {
      "text/html": [
       "<div>\n",
       "<table border=\"1\" class=\"dataframe\">\n",
       "  <thead>\n",
       "    <tr style=\"text-align: right;\">\n",
       "      <th></th>\n",
       "      <th>Season</th>\n",
       "      <th>GameNumber</th>\n",
       "      <th>VTeamCode</th>\n",
       "      <th>HTeamCode</th>\n",
       "      <th>VGF</th>\n",
       "      <th>HGF</th>\n",
       "      <th>GD</th>\n",
       "      <th>WinTeam</th>\n",
       "      <th>LossTeam</th>\n",
       "      <th>VGA</th>\n",
       "      <th>HGA</th>\n",
       "    </tr>\n",
       "  </thead>\n",
       "  <tbody>\n",
       "    <tr>\n",
       "      <th>43</th>\n",
       "      <td>2011</td>\n",
       "      <td>20001</td>\n",
       "      <td>PHI</td>\n",
       "      <td>BOS</td>\n",
       "      <td>2</td>\n",
       "      <td>1</td>\n",
       "      <td>-1</td>\n",
       "      <td>PHI</td>\n",
       "      <td>BOS</td>\n",
       "      <td>1</td>\n",
       "      <td>2</td>\n",
       "    </tr>\n",
       "    <tr>\n",
       "      <th>252331</th>\n",
       "      <td>2011</td>\n",
       "      <td>20826</td>\n",
       "      <td>VAN</td>\n",
       "      <td>CGY</td>\n",
       "      <td>3</td>\n",
       "      <td>4</td>\n",
       "      <td>1</td>\n",
       "      <td>CGY</td>\n",
       "      <td>VAN</td>\n",
       "      <td>4</td>\n",
       "      <td>3</td>\n",
       "    </tr>\n",
       "    <tr>\n",
       "      <th>251980</th>\n",
       "      <td>2011</td>\n",
       "      <td>20825</td>\n",
       "      <td>CHI</td>\n",
       "      <td>PHX</td>\n",
       "      <td>0</td>\n",
       "      <td>3</td>\n",
       "      <td>3</td>\n",
       "      <td>PHX</td>\n",
       "      <td>CHI</td>\n",
       "      <td>3</td>\n",
       "      <td>0</td>\n",
       "    </tr>\n",
       "    <tr>\n",
       "      <th>251755</th>\n",
       "      <td>2011</td>\n",
       "      <td>20824</td>\n",
       "      <td>CBJ</td>\n",
       "      <td>MIN</td>\n",
       "      <td>3</td>\n",
       "      <td>1</td>\n",
       "      <td>-2</td>\n",
       "      <td>CBJ</td>\n",
       "      <td>MIN</td>\n",
       "      <td>1</td>\n",
       "      <td>3</td>\n",
       "    </tr>\n",
       "    <tr>\n",
       "      <th>251436</th>\n",
       "      <td>2011</td>\n",
       "      <td>20823</td>\n",
       "      <td>COL</td>\n",
       "      <td>STL</td>\n",
       "      <td>2</td>\n",
       "      <td>3</td>\n",
       "      <td>1</td>\n",
       "      <td>STL</td>\n",
       "      <td>COL</td>\n",
       "      <td>3</td>\n",
       "      <td>2</td>\n",
       "    </tr>\n",
       "  </tbody>\n",
       "</table>\n",
       "</div>"
      ],
      "text/plain": [
       "        Season  GameNumber VTeamCode HTeamCode  VGF  HGF  GD WinTeam LossTeam  \\\n",
       "43        2011       20001       PHI       BOS    2    1  -1     PHI      BOS   \n",
       "252331    2011       20826       VAN       CGY    3    4   1     CGY      VAN   \n",
       "251980    2011       20825       CHI       PHX    0    3   3     PHX      CHI   \n",
       "251755    2011       20824       CBJ       MIN    3    1  -2     CBJ      MIN   \n",
       "251436    2011       20823       COL       STL    2    3   1     STL      COL   \n",
       "\n",
       "        VGA  HGA  \n",
       "43        1    2  \n",
       "252331    4    3  \n",
       "251980    3    0  \n",
       "251755    1    3  \n",
       "251436    3    2  "
      ]
     },
     "execution_count": 117,
     "metadata": {},
     "output_type": "execute_result"
    }
   ],
   "source": [
    "dg = dg.sort_values(['Season'], ascending=[True])\n",
    "dg.head()"
   ]
  },
  {
   "cell_type": "code",
   "execution_count": 118,
   "metadata": {
    "collapsed": true
   },
   "outputs": [],
   "source": [
    "dg.to_csv('/Users/stefanostselios/Brock University/Kevin Mongeon - StephanosShare/out/data/2011_2017_season_game_data.csv', index='False', sep=',')\n",
    "#dg.to_csv('/Users/kevinmongeon/Brock University/Steve Tselios - StephanosShare/out/data/2011_2017_season_game_data.csv', index='False', sep=',')"
   ]
  },
  {
   "cell_type": "markdown",
   "metadata": {},
   "source": [
    "## season_level_data"
   ]
  },
  {
   "cell_type": "code",
   "execution_count": 119,
   "metadata": {
    "collapsed": true
   },
   "outputs": [],
   "source": [
    "dm = da.copy()"
   ]
  },
  {
   "cell_type": "markdown",
   "metadata": {},
   "source": [
    "- events that happened in regulation time only"
   ]
  },
  {
   "cell_type": "code",
   "execution_count": 120,
   "metadata": {
    "collapsed": true
   },
   "outputs": [],
   "source": [
    "dm = dm[dm['Period'] <= 3]\n",
    "dm = dm[dm['Period'] >= 1]"
   ]
  },
  {
   "cell_type": "markdown",
   "metadata": {},
   "source": [
    "- **reshape the data set from wide to long.**"
   ]
  },
  {
   "cell_type": "code",
   "execution_count": 121,
   "metadata": {
    "collapsed": true
   },
   "outputs": [],
   "source": [
    "dm = dm.sort_values(['Season', 'GameNumber', 'Period', 'EventNumber'], ascending=[True, True, True, True])"
   ]
  },
  {
   "cell_type": "code",
   "execution_count": 122,
   "metadata": {
    "collapsed": true
   },
   "outputs": [],
   "source": [
    "a = [col for col in dm.columns if 'VPlayer' in col]\n",
    "b = [col for col in dm.columns if 'HPlayer' in col]\n",
    "dm = pd.lreshape(dm, {'VPlayer' : a, 'HPlayer' : b})"
   ]
  },
  {
   "cell_type": "code",
   "execution_count": 123,
   "metadata": {
    "collapsed": false
   },
   "outputs": [
    {
     "data": {
      "text/plain": [
       "(12012909, 22)"
      ]
     },
     "execution_count": 123,
     "metadata": {},
     "output_type": "execute_result"
    }
   ],
   "source": [
    "dm.shape"
   ]
  },
  {
   "cell_type": "code",
   "execution_count": 124,
   "metadata": {
    "collapsed": true
   },
   "outputs": [],
   "source": [
    "dm.to_csv('/Users/stefanostselios/Brock University/Kevin Mongeon - StephanosShare/out/data/2011_2017_play_by_play.csv', index='False', sep=',')\n",
    "#dm.to_csv('/Users/kevinmongeon/Brock University/Steve Tselios - StephanosShare/out/data/2011_2017_play_by_play.csv', index='False', sep=',')"
   ]
  },
  {
   "cell_type": "markdown",
   "metadata": {},
   "source": [
    "#### create new data set and keep variables: \n",
    "- (a) game number.\n",
    "- (b) visitor team information.\n",
    "- (c) home team information."
   ]
  },
  {
   "cell_type": "code",
   "execution_count": 125,
   "metadata": {
    "collapsed": false
   },
   "outputs": [
    {
     "data": {
      "text/html": [
       "<div>\n",
       "<table border=\"1\" class=\"dataframe\">\n",
       "  <thead>\n",
       "    <tr style=\"text-align: right;\">\n",
       "      <th></th>\n",
       "      <th>Season</th>\n",
       "      <th>GameNumber</th>\n",
       "      <th>VTeamCode</th>\n",
       "      <th>VPlayer</th>\n",
       "      <th>HTeamCode</th>\n",
       "      <th>HPlayer</th>\n",
       "    </tr>\n",
       "  </thead>\n",
       "  <tbody>\n",
       "    <tr>\n",
       "      <th>0</th>\n",
       "      <td>2011</td>\n",
       "      <td>20001</td>\n",
       "      <td>PHI</td>\n",
       "      <td>DANNY BRIERE</td>\n",
       "      <td>BOS</td>\n",
       "      <td>DAVID KREJCI</td>\n",
       "    </tr>\n",
       "    <tr>\n",
       "      <th>1</th>\n",
       "      <td>2011</td>\n",
       "      <td>20001</td>\n",
       "      <td>PHI</td>\n",
       "      <td>DANNY BRIERE</td>\n",
       "      <td>BOS</td>\n",
       "      <td>DAVID KREJCI</td>\n",
       "    </tr>\n",
       "    <tr>\n",
       "      <th>2</th>\n",
       "      <td>2011</td>\n",
       "      <td>20001</td>\n",
       "      <td>PHI</td>\n",
       "      <td>DANNY BRIERE</td>\n",
       "      <td>BOS</td>\n",
       "      <td>DAVID KREJCI</td>\n",
       "    </tr>\n",
       "    <tr>\n",
       "      <th>3</th>\n",
       "      <td>2011</td>\n",
       "      <td>20001</td>\n",
       "      <td>PHI</td>\n",
       "      <td>DANNY BRIERE</td>\n",
       "      <td>BOS</td>\n",
       "      <td>DAVID KREJCI</td>\n",
       "    </tr>\n",
       "    <tr>\n",
       "      <th>4</th>\n",
       "      <td>2011</td>\n",
       "      <td>20001</td>\n",
       "      <td>PHI</td>\n",
       "      <td>DANNY BRIERE</td>\n",
       "      <td>BOS</td>\n",
       "      <td>PATRICE BERGERON</td>\n",
       "    </tr>\n",
       "  </tbody>\n",
       "</table>\n",
       "</div>"
      ],
      "text/plain": [
       "   Season  GameNumber VTeamCode       VPlayer HTeamCode           HPlayer\n",
       "0    2011       20001       PHI  DANNY BRIERE       BOS      DAVID KREJCI\n",
       "1    2011       20001       PHI  DANNY BRIERE       BOS      DAVID KREJCI\n",
       "2    2011       20001       PHI  DANNY BRIERE       BOS      DAVID KREJCI\n",
       "3    2011       20001       PHI  DANNY BRIERE       BOS      DAVID KREJCI\n",
       "4    2011       20001       PHI  DANNY BRIERE       BOS  PATRICE BERGERON"
      ]
     },
     "execution_count": 125,
     "metadata": {},
     "output_type": "execute_result"
    }
   ],
   "source": [
    "df = dm.copy()\n",
    "df = df[['Season', 'GameNumber', 'VTeamCode', 'VPlayer', 'HTeamCode', 'HPlayer']]\n",
    "df = df.sort_values(['Season', 'GameNumber'], ascending=[True, True])\n",
    "df.head()"
   ]
  },
  {
   "cell_type": "markdown",
   "metadata": {},
   "source": [
    "- merge season_game_data (dg) on new dataset"
   ]
  },
  {
   "cell_type": "code",
   "execution_count": 126,
   "metadata": {
    "collapsed": false
   },
   "outputs": [
    {
     "data": {
      "text/html": [
       "<div>\n",
       "<table border=\"1\" class=\"dataframe\">\n",
       "  <thead>\n",
       "    <tr style=\"text-align: right;\">\n",
       "      <th></th>\n",
       "      <th>Season</th>\n",
       "      <th>GameNumber</th>\n",
       "      <th>VTeamCode</th>\n",
       "      <th>VPlayer</th>\n",
       "      <th>HTeamCode</th>\n",
       "      <th>HPlayer</th>\n",
       "      <th>VGF</th>\n",
       "      <th>HGF</th>\n",
       "      <th>GD</th>\n",
       "      <th>WinTeam</th>\n",
       "      <th>LossTeam</th>\n",
       "      <th>VGA</th>\n",
       "      <th>HGA</th>\n",
       "    </tr>\n",
       "  </thead>\n",
       "  <tbody>\n",
       "    <tr>\n",
       "      <th>0</th>\n",
       "      <td>2011</td>\n",
       "      <td>20001</td>\n",
       "      <td>PHI</td>\n",
       "      <td>DANNY BRIERE</td>\n",
       "      <td>BOS</td>\n",
       "      <td>DAVID KREJCI</td>\n",
       "      <td>2</td>\n",
       "      <td>1</td>\n",
       "      <td>-1</td>\n",
       "      <td>PHI</td>\n",
       "      <td>BOS</td>\n",
       "      <td>1</td>\n",
       "      <td>2</td>\n",
       "    </tr>\n",
       "    <tr>\n",
       "      <th>1</th>\n",
       "      <td>2011</td>\n",
       "      <td>20001</td>\n",
       "      <td>PHI</td>\n",
       "      <td>DANNY BRIERE</td>\n",
       "      <td>BOS</td>\n",
       "      <td>DAVID KREJCI</td>\n",
       "      <td>2</td>\n",
       "      <td>1</td>\n",
       "      <td>-1</td>\n",
       "      <td>PHI</td>\n",
       "      <td>BOS</td>\n",
       "      <td>1</td>\n",
       "      <td>2</td>\n",
       "    </tr>\n",
       "    <tr>\n",
       "      <th>2</th>\n",
       "      <td>2011</td>\n",
       "      <td>20001</td>\n",
       "      <td>PHI</td>\n",
       "      <td>DANNY BRIERE</td>\n",
       "      <td>BOS</td>\n",
       "      <td>DAVID KREJCI</td>\n",
       "      <td>2</td>\n",
       "      <td>1</td>\n",
       "      <td>-1</td>\n",
       "      <td>PHI</td>\n",
       "      <td>BOS</td>\n",
       "      <td>1</td>\n",
       "      <td>2</td>\n",
       "    </tr>\n",
       "    <tr>\n",
       "      <th>3</th>\n",
       "      <td>2011</td>\n",
       "      <td>20001</td>\n",
       "      <td>PHI</td>\n",
       "      <td>DANNY BRIERE</td>\n",
       "      <td>BOS</td>\n",
       "      <td>DAVID KREJCI</td>\n",
       "      <td>2</td>\n",
       "      <td>1</td>\n",
       "      <td>-1</td>\n",
       "      <td>PHI</td>\n",
       "      <td>BOS</td>\n",
       "      <td>1</td>\n",
       "      <td>2</td>\n",
       "    </tr>\n",
       "    <tr>\n",
       "      <th>4</th>\n",
       "      <td>2011</td>\n",
       "      <td>20001</td>\n",
       "      <td>PHI</td>\n",
       "      <td>DANNY BRIERE</td>\n",
       "      <td>BOS</td>\n",
       "      <td>PATRICE BERGERON</td>\n",
       "      <td>2</td>\n",
       "      <td>1</td>\n",
       "      <td>-1</td>\n",
       "      <td>PHI</td>\n",
       "      <td>BOS</td>\n",
       "      <td>1</td>\n",
       "      <td>2</td>\n",
       "    </tr>\n",
       "  </tbody>\n",
       "</table>\n",
       "</div>"
      ],
      "text/plain": [
       "   Season  GameNumber VTeamCode       VPlayer HTeamCode           HPlayer  \\\n",
       "0    2011       20001       PHI  DANNY BRIERE       BOS      DAVID KREJCI   \n",
       "1    2011       20001       PHI  DANNY BRIERE       BOS      DAVID KREJCI   \n",
       "2    2011       20001       PHI  DANNY BRIERE       BOS      DAVID KREJCI   \n",
       "3    2011       20001       PHI  DANNY BRIERE       BOS      DAVID KREJCI   \n",
       "4    2011       20001       PHI  DANNY BRIERE       BOS  PATRICE BERGERON   \n",
       "\n",
       "   VGF  HGF  GD WinTeam LossTeam  VGA  HGA  \n",
       "0    2    1  -1     PHI      BOS    1    2  \n",
       "1    2    1  -1     PHI      BOS    1    2  \n",
       "2    2    1  -1     PHI      BOS    1    2  \n",
       "3    2    1  -1     PHI      BOS    1    2  \n",
       "4    2    1  -1     PHI      BOS    1    2  "
      ]
     },
     "execution_count": 126,
     "metadata": {},
     "output_type": "execute_result"
    }
   ],
   "source": [
    "df = pd.merge(df, dg, on=['Season', 'GameNumber', 'VTeamCode', 'HTeamCode'], how='left')\n",
    "df.head()    "
   ]
  },
  {
   "cell_type": "markdown",
   "metadata": {},
   "source": [
    "- reshape the data to have home and visitor team observatons under the same coloumns. "
   ]
  },
  {
   "cell_type": "code",
   "execution_count": 127,
   "metadata": {
    "collapsed": false
   },
   "outputs": [
    {
     "data": {
      "text/html": [
       "<div>\n",
       "<table border=\"1\" class=\"dataframe\">\n",
       "  <thead>\n",
       "    <tr style=\"text-align: right;\">\n",
       "      <th></th>\n",
       "      <th>Season</th>\n",
       "      <th>GameNumber</th>\n",
       "      <th>TeamCode</th>\n",
       "      <th>PlayerName</th>\n",
       "      <th>GF</th>\n",
       "      <th>GA</th>\n",
       "      <th>GD</th>\n",
       "      <th>WinTeam</th>\n",
       "      <th>LossTeam</th>\n",
       "    </tr>\n",
       "  </thead>\n",
       "  <tbody>\n",
       "    <tr>\n",
       "      <th>0</th>\n",
       "      <td>2011</td>\n",
       "      <td>20001</td>\n",
       "      <td>PHI</td>\n",
       "      <td>DANNY BRIERE</td>\n",
       "      <td>2</td>\n",
       "      <td>1</td>\n",
       "      <td>-1</td>\n",
       "      <td>PHI</td>\n",
       "      <td>BOS</td>\n",
       "    </tr>\n",
       "    <tr>\n",
       "      <th>1</th>\n",
       "      <td>2011</td>\n",
       "      <td>20001</td>\n",
       "      <td>PHI</td>\n",
       "      <td>DANNY BRIERE</td>\n",
       "      <td>2</td>\n",
       "      <td>1</td>\n",
       "      <td>-1</td>\n",
       "      <td>PHI</td>\n",
       "      <td>BOS</td>\n",
       "    </tr>\n",
       "    <tr>\n",
       "      <th>2</th>\n",
       "      <td>2011</td>\n",
       "      <td>20001</td>\n",
       "      <td>PHI</td>\n",
       "      <td>DANNY BRIERE</td>\n",
       "      <td>2</td>\n",
       "      <td>1</td>\n",
       "      <td>-1</td>\n",
       "      <td>PHI</td>\n",
       "      <td>BOS</td>\n",
       "    </tr>\n",
       "    <tr>\n",
       "      <th>3</th>\n",
       "      <td>2011</td>\n",
       "      <td>20001</td>\n",
       "      <td>PHI</td>\n",
       "      <td>DANNY BRIERE</td>\n",
       "      <td>2</td>\n",
       "      <td>1</td>\n",
       "      <td>-1</td>\n",
       "      <td>PHI</td>\n",
       "      <td>BOS</td>\n",
       "    </tr>\n",
       "    <tr>\n",
       "      <th>4</th>\n",
       "      <td>2011</td>\n",
       "      <td>20001</td>\n",
       "      <td>PHI</td>\n",
       "      <td>DANNY BRIERE</td>\n",
       "      <td>2</td>\n",
       "      <td>1</td>\n",
       "      <td>-1</td>\n",
       "      <td>PHI</td>\n",
       "      <td>BOS</td>\n",
       "    </tr>\n",
       "  </tbody>\n",
       "</table>\n",
       "</div>"
      ],
      "text/plain": [
       "   Season  GameNumber TeamCode    PlayerName  GF  GA  GD WinTeam LossTeam\n",
       "0    2011       20001      PHI  DANNY BRIERE   2   1  -1     PHI      BOS\n",
       "1    2011       20001      PHI  DANNY BRIERE   2   1  -1     PHI      BOS\n",
       "2    2011       20001      PHI  DANNY BRIERE   2   1  -1     PHI      BOS\n",
       "3    2011       20001      PHI  DANNY BRIERE   2   1  -1     PHI      BOS\n",
       "4    2011       20001      PHI  DANNY BRIERE   2   1  -1     PHI      BOS"
      ]
     },
     "execution_count": 127,
     "metadata": {},
     "output_type": "execute_result"
    }
   ],
   "source": [
    "a = [col for col in df.columns if 'Player' in col]\n",
    "b = [col for col in df.columns if 'TeamCode' in col]\n",
    "c = [col for col in df.columns if 'GF' in col]\n",
    "d = [col for col in df.columns if 'GA' in col]\n",
    "df = pd.lreshape(df, {'PlayerName' : a, 'TeamCode' : b, 'GF' : c, 'GA' : d })\n",
    "df = df[['Season', 'GameNumber', 'TeamCode', 'PlayerName', 'GF', 'GA', 'GD', 'WinTeam', 'LossTeam']]\n",
    "df.head()"
   ]
  },
  {
   "cell_type": "markdown",
   "metadata": {},
   "source": [
    "### import player position and rankings"
   ]
  },
  {
   "cell_type": "code",
   "execution_count": 134,
   "metadata": {
    "collapsed": true
   },
   "outputs": [],
   "source": [
    "dp = pd.read_csv('/Users/stefanostselios/Brock University/Kevin Mongeon - StephanosShare/out/data/2011_2017_player_position.csv')\n",
    "#dp = pd.read_csv('/Users/kevinmongeon/Brock University/Steve Tselios - StephanosShare/out/data/2011_2017_player_position.csv')\n",
    "dp = dp.drop('Unnamed: 0', axis=1)"
   ]
  },
  {
   "cell_type": "code",
   "execution_count": 136,
   "metadata": {
    "collapsed": false
   },
   "outputs": [],
   "source": [
    "dr = pd.read_csv('/Users/stefanostselios/Brock University/Kevin Mongeon - StephanosShare/out/data/2011_2017_player_rank.csv')\n",
    "#dr = pd.read_csv('/Users/kevinmongeon/Brock University/Steve Tselios - StephanosShare/out/data/2011_2017_player_rank.csv')\n",
    "dr = dr.drop('Unnamed: 0', axis=1)"
   ]
  },
  {
   "cell_type": "markdown",
   "metadata": {},
   "source": [
    "- merge player position and player rankings"
   ]
  },
  {
   "cell_type": "code",
   "execution_count": 137,
   "metadata": {
    "collapsed": false
   },
   "outputs": [
    {
     "data": {
      "text/plain": [
       "(7336, 5)"
      ]
     },
     "execution_count": 137,
     "metadata": {},
     "output_type": "execute_result"
    }
   ],
   "source": [
    "ds = pd.merge(dp, dr, on=['Season', 'TeamCode', 'PlayerName', 'Position'], how='left')\n",
    "ds.shape"
   ]
  },
  {
   "cell_type": "code",
   "execution_count": 138,
   "metadata": {
    "collapsed": false
   },
   "outputs": [
    {
     "data": {
      "text/plain": [
       "Season           0\n",
       "TeamCode         0\n",
       "PlayerName       0\n",
       "Position         0\n",
       "Rank          1581\n",
       "dtype: int64"
      ]
     },
     "execution_count": 138,
     "metadata": {},
     "output_type": "execute_result"
    }
   ],
   "source": [
    "ds.isnull().sum()"
   ]
  },
  {
   "cell_type": "markdown",
   "metadata": {},
   "source": [
    "skaters that were not included in the clusters and therefore not ranked, forwards are assigned to the 4th line, defensemen to the bottom (3rd) pairing and goaltenders to backup. "
   ]
  },
  {
   "cell_type": "code",
   "execution_count": 139,
   "metadata": {
    "collapsed": false
   },
   "outputs": [
    {
     "data": {
      "text/plain": [
       "(7336, 5)"
      ]
     },
     "execution_count": 139,
     "metadata": {},
     "output_type": "execute_result"
    }
   ],
   "source": [
    "ds['Rank'] = ds.apply(lambda x: 3 if ((x['Position'] == 'G') & (pd.isnull(x.Rank))) else 3 if ((x['Position'] == 'D') & (pd.isnull(x.Rank))) else 4 if ((x['Position'] == 'W') & (pd.isnull(x.Rank))) else 4 if ((x['Position'] == 'C') & (pd.isnull(x.Rank))) else x['Rank'], axis=1)\n",
    "#ds = ds.sort_values(['TeamCode'], ascending=[True])\n",
    "ds.shape"
   ]
  },
  {
   "cell_type": "code",
   "execution_count": 140,
   "metadata": {
    "collapsed": false
   },
   "outputs": [
    {
     "data": {
      "text/plain": [
       "Season        0\n",
       "TeamCode      0\n",
       "PlayerName    0\n",
       "Position      0\n",
       "Rank          0\n",
       "dtype: int64"
      ]
     },
     "execution_count": 140,
     "metadata": {},
     "output_type": "execute_result"
    }
   ],
   "source": [
    "ds.isnull().sum()"
   ]
  },
  {
   "cell_type": "markdown",
   "metadata": {},
   "source": [
    "- **display each player by team per game. Drop duplicates.**"
   ]
  },
  {
   "cell_type": "code",
   "execution_count": 141,
   "metadata": {
    "collapsed": false
   },
   "outputs": [
    {
     "data": {
      "text/html": [
       "<div>\n",
       "<table border=\"1\" class=\"dataframe\">\n",
       "  <thead>\n",
       "    <tr style=\"text-align: right;\">\n",
       "      <th></th>\n",
       "      <th>Season</th>\n",
       "      <th>GameNumber</th>\n",
       "      <th>TeamCode</th>\n",
       "      <th>PlayerName</th>\n",
       "      <th>Position</th>\n",
       "      <th>Rank</th>\n",
       "      <th>GF</th>\n",
       "      <th>GA</th>\n",
       "      <th>GD</th>\n",
       "      <th>WinTeam</th>\n",
       "      <th>LossTeam</th>\n",
       "    </tr>\n",
       "  </thead>\n",
       "  <tbody>\n",
       "    <tr>\n",
       "      <th>0</th>\n",
       "      <td>2011</td>\n",
       "      <td>20001</td>\n",
       "      <td>PHI</td>\n",
       "      <td>DANNY BRIERE</td>\n",
       "      <td>W</td>\n",
       "      <td>1.0</td>\n",
       "      <td>2</td>\n",
       "      <td>1</td>\n",
       "      <td>-1</td>\n",
       "      <td>PHI</td>\n",
       "      <td>BOS</td>\n",
       "    </tr>\n",
       "    <tr>\n",
       "      <th>1</th>\n",
       "      <td>2011</td>\n",
       "      <td>20001</td>\n",
       "      <td>PHI</td>\n",
       "      <td>DANNY BRIERE</td>\n",
       "      <td>W</td>\n",
       "      <td>1.0</td>\n",
       "      <td>2</td>\n",
       "      <td>1</td>\n",
       "      <td>-1</td>\n",
       "      <td>PHI</td>\n",
       "      <td>BOS</td>\n",
       "    </tr>\n",
       "    <tr>\n",
       "      <th>2</th>\n",
       "      <td>2011</td>\n",
       "      <td>20001</td>\n",
       "      <td>PHI</td>\n",
       "      <td>DANNY BRIERE</td>\n",
       "      <td>W</td>\n",
       "      <td>1.0</td>\n",
       "      <td>2</td>\n",
       "      <td>1</td>\n",
       "      <td>-1</td>\n",
       "      <td>PHI</td>\n",
       "      <td>BOS</td>\n",
       "    </tr>\n",
       "    <tr>\n",
       "      <th>3</th>\n",
       "      <td>2011</td>\n",
       "      <td>20001</td>\n",
       "      <td>PHI</td>\n",
       "      <td>DANNY BRIERE</td>\n",
       "      <td>W</td>\n",
       "      <td>1.0</td>\n",
       "      <td>2</td>\n",
       "      <td>1</td>\n",
       "      <td>-1</td>\n",
       "      <td>PHI</td>\n",
       "      <td>BOS</td>\n",
       "    </tr>\n",
       "    <tr>\n",
       "      <th>4</th>\n",
       "      <td>2011</td>\n",
       "      <td>20001</td>\n",
       "      <td>PHI</td>\n",
       "      <td>DANNY BRIERE</td>\n",
       "      <td>W</td>\n",
       "      <td>1.0</td>\n",
       "      <td>2</td>\n",
       "      <td>1</td>\n",
       "      <td>-1</td>\n",
       "      <td>PHI</td>\n",
       "      <td>BOS</td>\n",
       "    </tr>\n",
       "  </tbody>\n",
       "</table>\n",
       "</div>"
      ],
      "text/plain": [
       "   Season  GameNumber TeamCode    PlayerName Position  Rank  GF  GA  GD  \\\n",
       "0    2011       20001      PHI  DANNY BRIERE        W   1.0   2   1  -1   \n",
       "1    2011       20001      PHI  DANNY BRIERE        W   1.0   2   1  -1   \n",
       "2    2011       20001      PHI  DANNY BRIERE        W   1.0   2   1  -1   \n",
       "3    2011       20001      PHI  DANNY BRIERE        W   1.0   2   1  -1   \n",
       "4    2011       20001      PHI  DANNY BRIERE        W   1.0   2   1  -1   \n",
       "\n",
       "  WinTeam LossTeam  \n",
       "0     PHI      BOS  \n",
       "1     PHI      BOS  \n",
       "2     PHI      BOS  \n",
       "3     PHI      BOS  \n",
       "4     PHI      BOS  "
      ]
     },
     "execution_count": 141,
     "metadata": {},
     "output_type": "execute_result"
    }
   ],
   "source": [
    "dw = pd.merge(df, ds, on=['Season', 'TeamCode', 'PlayerName'], how='left')\n",
    "dw = dw[['Season', 'GameNumber', 'TeamCode', 'PlayerName', 'Position', 'Rank', 'GF', 'GA', 'GD', 'WinTeam', 'LossTeam']]\n",
    "dw.head()"
   ]
  },
  {
   "cell_type": "code",
   "execution_count": 148,
   "metadata": {
    "collapsed": false
   },
   "outputs": [
    {
     "data": {
      "text/plain": [
       "Season          0\n",
       "GameNumber      0\n",
       "TeamCode        0\n",
       "PlayerName      0\n",
       "Position      835\n",
       "Rank          835\n",
       "GF              0\n",
       "GA              0\n",
       "GD              0\n",
       "WinTeam         0\n",
       "LossTeam        0\n",
       "dtype: int64"
      ]
     },
     "execution_count": 148,
     "metadata": {},
     "output_type": "execute_result"
    }
   ],
   "source": [
    "dw.isnull().sum()"
   ]
  },
  {
   "cell_type": "code",
   "execution_count": 150,
   "metadata": {
    "collapsed": false
   },
   "outputs": [
    {
     "data": {
      "text/plain": [
       "DANIEL O'REGAN    835\n",
       "Name: PlayerName, dtype: int64"
      ]
     },
     "execution_count": 150,
     "metadata": {},
     "output_type": "execute_result"
    }
   ],
   "source": [
    "w = dw.copy()\n",
    "w = w[w['Rank'].isnull()]\n",
    "w['PlayerName'].value_counts()"
   ]
  },
  {
   "cell_type": "code",
   "execution_count": 151,
   "metadata": {
    "collapsed": true
   },
   "outputs": [],
   "source": [
    "dw['Position'] = dw['Position'].fillna('C')\n",
    "dw['Rank'] = dw['Rank'].fillna(4)"
   ]
  },
  {
   "cell_type": "code",
   "execution_count": 152,
   "metadata": {
    "collapsed": false
   },
   "outputs": [
    {
     "data": {
      "text/plain": [
       "Season        0\n",
       "GameNumber    0\n",
       "TeamCode      0\n",
       "PlayerName    0\n",
       "Position      0\n",
       "Rank          0\n",
       "GF            0\n",
       "GA            0\n",
       "GD            0\n",
       "WinTeam       0\n",
       "LossTeam      0\n",
       "dtype: int64"
      ]
     },
     "execution_count": 152,
     "metadata": {},
     "output_type": "execute_result"
    }
   ],
   "source": [
    "dw.isnull().sum()"
   ]
  },
  {
   "cell_type": "markdown",
   "metadata": {},
   "source": [
    "- create column that displays the position and roster count by team per game. To simplify matters, we categorize skaters into forwards and defensemen."
   ]
  },
  {
   "cell_type": "code",
   "execution_count": 153,
   "metadata": {
    "collapsed": false
   },
   "outputs": [
    {
     "name": "stderr",
     "output_type": "stream",
     "text": [
      "/anaconda/lib/python3.6/site-packages/ipykernel/__main__.py:2: SettingWithCopyWarning: \n",
      "A value is trying to be set on a copy of a slice from a DataFrame.\n",
      "Try using .loc[row_indexer,col_indexer] = value instead\n",
      "\n",
      "See the caveats in the documentation: http://pandas.pydata.org/pandas-docs/stable/indexing.html#indexing-view-versus-copy\n",
      "  from ipykernel import kernelapp as app\n",
      "/anaconda/lib/python3.6/site-packages/ipykernel/__main__.py:3: SettingWithCopyWarning: \n",
      "A value is trying to be set on a copy of a slice from a DataFrame.\n",
      "Try using .loc[row_indexer,col_indexer] = value instead\n",
      "\n",
      "See the caveats in the documentation: http://pandas.pydata.org/pandas-docs/stable/indexing.html#indexing-view-versus-copy\n",
      "  app.launch_new_instance()\n"
     ]
    },
    {
     "data": {
      "text/html": [
       "<div>\n",
       "<table border=\"1\" class=\"dataframe\">\n",
       "  <thead>\n",
       "    <tr style=\"text-align: right;\">\n",
       "      <th></th>\n",
       "      <th>Season</th>\n",
       "      <th>GameNumber</th>\n",
       "      <th>TeamCode</th>\n",
       "      <th>PlayerName</th>\n",
       "      <th>Position</th>\n",
       "      <th>Rank</th>\n",
       "      <th>GF</th>\n",
       "      <th>GA</th>\n",
       "      <th>GD</th>\n",
       "      <th>WinTeam</th>\n",
       "      <th>LossTeam</th>\n",
       "      <th>RosterCount</th>\n",
       "      <th>PositionCount</th>\n",
       "    </tr>\n",
       "  </thead>\n",
       "  <tbody>\n",
       "    <tr>\n",
       "      <th>0</th>\n",
       "      <td>2011</td>\n",
       "      <td>20001</td>\n",
       "      <td>PHI</td>\n",
       "      <td>DANNY BRIERE</td>\n",
       "      <td>W</td>\n",
       "      <td>1.0</td>\n",
       "      <td>2</td>\n",
       "      <td>1</td>\n",
       "      <td>-1</td>\n",
       "      <td>PHI</td>\n",
       "      <td>BOS</td>\n",
       "      <td>19</td>\n",
       "      <td>9</td>\n",
       "    </tr>\n",
       "    <tr>\n",
       "      <th>5</th>\n",
       "      <td>2011</td>\n",
       "      <td>20001</td>\n",
       "      <td>PHI</td>\n",
       "      <td>CLAUDE GIROUX</td>\n",
       "      <td>W</td>\n",
       "      <td>1.0</td>\n",
       "      <td>2</td>\n",
       "      <td>1</td>\n",
       "      <td>-1</td>\n",
       "      <td>PHI</td>\n",
       "      <td>BOS</td>\n",
       "      <td>19</td>\n",
       "      <td>9</td>\n",
       "    </tr>\n",
       "    <tr>\n",
       "      <th>8</th>\n",
       "      <td>2011</td>\n",
       "      <td>20001</td>\n",
       "      <td>PHI</td>\n",
       "      <td>SEAN COUTURIER</td>\n",
       "      <td>C</td>\n",
       "      <td>2.0</td>\n",
       "      <td>2</td>\n",
       "      <td>1</td>\n",
       "      <td>-1</td>\n",
       "      <td>PHI</td>\n",
       "      <td>BOS</td>\n",
       "      <td>19</td>\n",
       "      <td>3</td>\n",
       "    </tr>\n",
       "    <tr>\n",
       "      <th>9</th>\n",
       "      <td>2011</td>\n",
       "      <td>20001</td>\n",
       "      <td>PHI</td>\n",
       "      <td>MAX TALBOT</td>\n",
       "      <td>C</td>\n",
       "      <td>2.0</td>\n",
       "      <td>2</td>\n",
       "      <td>1</td>\n",
       "      <td>-1</td>\n",
       "      <td>PHI</td>\n",
       "      <td>BOS</td>\n",
       "      <td>19</td>\n",
       "      <td>3</td>\n",
       "    </tr>\n",
       "    <tr>\n",
       "      <th>23</th>\n",
       "      <td>2011</td>\n",
       "      <td>20001</td>\n",
       "      <td>PHI</td>\n",
       "      <td>ZAC RINALDO</td>\n",
       "      <td>C</td>\n",
       "      <td>4.0</td>\n",
       "      <td>2</td>\n",
       "      <td>1</td>\n",
       "      <td>-1</td>\n",
       "      <td>PHI</td>\n",
       "      <td>BOS</td>\n",
       "      <td>19</td>\n",
       "      <td>3</td>\n",
       "    </tr>\n",
       "  </tbody>\n",
       "</table>\n",
       "</div>"
      ],
      "text/plain": [
       "    Season  GameNumber TeamCode      PlayerName Position  Rank  GF  GA  GD  \\\n",
       "0     2011       20001      PHI    DANNY BRIERE        W   1.0   2   1  -1   \n",
       "5     2011       20001      PHI   CLAUDE GIROUX        W   1.0   2   1  -1   \n",
       "8     2011       20001      PHI  SEAN COUTURIER        C   2.0   2   1  -1   \n",
       "9     2011       20001      PHI      MAX TALBOT        C   2.0   2   1  -1   \n",
       "23    2011       20001      PHI     ZAC RINALDO        C   4.0   2   1  -1   \n",
       "\n",
       "   WinTeam LossTeam  RosterCount  PositionCount  \n",
       "0      PHI      BOS           19              9  \n",
       "5      PHI      BOS           19              9  \n",
       "8      PHI      BOS           19              3  \n",
       "9      PHI      BOS           19              3  \n",
       "23     PHI      BOS           19              3  "
      ]
     },
     "execution_count": 153,
     "metadata": {},
     "output_type": "execute_result"
    }
   ],
   "source": [
    "dw = dw.drop_duplicates(['Season', 'GameNumber', 'TeamCode', 'PlayerName'])\n",
    "dw['RosterCount'] = dw.groupby(['Season', 'GameNumber', 'TeamCode'])['PlayerName'].transform('count')\n",
    "dw['PositionCount'] = dw.groupby(['Season', 'GameNumber', 'TeamCode', 'Position'])['PlayerName'].transform('count')\n",
    "dw.head()"
   ]
  },
  {
   "cell_type": "markdown",
   "metadata": {},
   "source": [
    "- count the amount of forwards and defensemen by team per game."
   ]
  },
  {
   "cell_type": "code",
   "execution_count": 154,
   "metadata": {
    "collapsed": false
   },
   "outputs": [
    {
     "name": "stderr",
     "output_type": "stream",
     "text": [
      "/anaconda/lib/python3.6/site-packages/ipykernel/__main__.py:1: SettingWithCopyWarning: \n",
      "A value is trying to be set on a copy of a slice from a DataFrame.\n",
      "Try using .loc[row_indexer,col_indexer] = value instead\n",
      "\n",
      "See the caveats in the documentation: http://pandas.pydata.org/pandas-docs/stable/indexing.html#indexing-view-versus-copy\n",
      "  if __name__ == '__main__':\n",
      "/anaconda/lib/python3.6/site-packages/ipykernel/__main__.py:2: SettingWithCopyWarning: \n",
      "A value is trying to be set on a copy of a slice from a DataFrame.\n",
      "Try using .loc[row_indexer,col_indexer] = value instead\n",
      "\n",
      "See the caveats in the documentation: http://pandas.pydata.org/pandas-docs/stable/indexing.html#indexing-view-versus-copy\n",
      "  from ipykernel import kernelapp as app\n",
      "/anaconda/lib/python3.6/site-packages/ipykernel/__main__.py:3: SettingWithCopyWarning: \n",
      "A value is trying to be set on a copy of a slice from a DataFrame.\n",
      "Try using .loc[row_indexer,col_indexer] = value instead\n",
      "\n",
      "See the caveats in the documentation: http://pandas.pydata.org/pandas-docs/stable/indexing.html#indexing-view-versus-copy\n",
      "  app.launch_new_instance()\n",
      "/anaconda/lib/python3.6/site-packages/ipykernel/__main__.py:4: SettingWithCopyWarning: \n",
      "A value is trying to be set on a copy of a slice from a DataFrame.\n",
      "Try using .loc[row_indexer,col_indexer] = value instead\n",
      "\n",
      "See the caveats in the documentation: http://pandas.pydata.org/pandas-docs/stable/indexing.html#indexing-view-versus-copy\n",
      "/anaconda/lib/python3.6/site-packages/ipykernel/__main__.py:6: SettingWithCopyWarning: \n",
      "A value is trying to be set on a copy of a slice from a DataFrame.\n",
      "Try using .loc[row_indexer,col_indexer] = value instead\n",
      "\n",
      "See the caveats in the documentation: http://pandas.pydata.org/pandas-docs/stable/indexing.html#indexing-view-versus-copy\n",
      "/anaconda/lib/python3.6/site-packages/ipykernel/__main__.py:7: SettingWithCopyWarning: \n",
      "A value is trying to be set on a copy of a slice from a DataFrame.\n",
      "Try using .loc[row_indexer,col_indexer] = value instead\n",
      "\n",
      "See the caveats in the documentation: http://pandas.pydata.org/pandas-docs/stable/indexing.html#indexing-view-versus-copy\n",
      "/anaconda/lib/python3.6/site-packages/ipykernel/__main__.py:8: SettingWithCopyWarning: \n",
      "A value is trying to be set on a copy of a slice from a DataFrame.\n",
      "Try using .loc[row_indexer,col_indexer] = value instead\n",
      "\n",
      "See the caveats in the documentation: http://pandas.pydata.org/pandas-docs/stable/indexing.html#indexing-view-versus-copy\n",
      "/anaconda/lib/python3.6/site-packages/ipykernel/__main__.py:9: SettingWithCopyWarning: \n",
      "A value is trying to be set on a copy of a slice from a DataFrame.\n",
      "Try using .loc[row_indexer,col_indexer] = value instead\n",
      "\n",
      "See the caveats in the documentation: http://pandas.pydata.org/pandas-docs/stable/indexing.html#indexing-view-versus-copy\n"
     ]
    },
    {
     "data": {
      "text/html": [
       "<div>\n",
       "<table border=\"1\" class=\"dataframe\">\n",
       "  <thead>\n",
       "    <tr style=\"text-align: right;\">\n",
       "      <th></th>\n",
       "      <th>Season</th>\n",
       "      <th>GameNumber</th>\n",
       "      <th>TeamCode</th>\n",
       "      <th>PlayerName</th>\n",
       "      <th>Position</th>\n",
       "      <th>Rank</th>\n",
       "      <th>GF</th>\n",
       "      <th>GA</th>\n",
       "      <th>GD</th>\n",
       "      <th>WinTeam</th>\n",
       "      <th>LossTeam</th>\n",
       "      <th>RosterCount</th>\n",
       "      <th>PositionCount</th>\n",
       "      <th>CCount</th>\n",
       "      <th>WCount</th>\n",
       "      <th>DCount</th>\n",
       "      <th>GCount</th>\n",
       "    </tr>\n",
       "  </thead>\n",
       "  <tbody>\n",
       "    <tr>\n",
       "      <th>0</th>\n",
       "      <td>2011</td>\n",
       "      <td>20001</td>\n",
       "      <td>PHI</td>\n",
       "      <td>DANNY BRIERE</td>\n",
       "      <td>W</td>\n",
       "      <td>1.0</td>\n",
       "      <td>2</td>\n",
       "      <td>1</td>\n",
       "      <td>-1</td>\n",
       "      <td>PHI</td>\n",
       "      <td>BOS</td>\n",
       "      <td>19</td>\n",
       "      <td>9</td>\n",
       "      <td>3.0</td>\n",
       "      <td>9.0</td>\n",
       "      <td>6.0</td>\n",
       "      <td>1.0</td>\n",
       "    </tr>\n",
       "    <tr>\n",
       "      <th>5</th>\n",
       "      <td>2011</td>\n",
       "      <td>20001</td>\n",
       "      <td>PHI</td>\n",
       "      <td>CLAUDE GIROUX</td>\n",
       "      <td>W</td>\n",
       "      <td>1.0</td>\n",
       "      <td>2</td>\n",
       "      <td>1</td>\n",
       "      <td>-1</td>\n",
       "      <td>PHI</td>\n",
       "      <td>BOS</td>\n",
       "      <td>19</td>\n",
       "      <td>9</td>\n",
       "      <td>3.0</td>\n",
       "      <td>9.0</td>\n",
       "      <td>6.0</td>\n",
       "      <td>1.0</td>\n",
       "    </tr>\n",
       "    <tr>\n",
       "      <th>8</th>\n",
       "      <td>2011</td>\n",
       "      <td>20001</td>\n",
       "      <td>PHI</td>\n",
       "      <td>SEAN COUTURIER</td>\n",
       "      <td>C</td>\n",
       "      <td>2.0</td>\n",
       "      <td>2</td>\n",
       "      <td>1</td>\n",
       "      <td>-1</td>\n",
       "      <td>PHI</td>\n",
       "      <td>BOS</td>\n",
       "      <td>19</td>\n",
       "      <td>3</td>\n",
       "      <td>3.0</td>\n",
       "      <td>9.0</td>\n",
       "      <td>6.0</td>\n",
       "      <td>1.0</td>\n",
       "    </tr>\n",
       "    <tr>\n",
       "      <th>9</th>\n",
       "      <td>2011</td>\n",
       "      <td>20001</td>\n",
       "      <td>PHI</td>\n",
       "      <td>MAX TALBOT</td>\n",
       "      <td>C</td>\n",
       "      <td>2.0</td>\n",
       "      <td>2</td>\n",
       "      <td>1</td>\n",
       "      <td>-1</td>\n",
       "      <td>PHI</td>\n",
       "      <td>BOS</td>\n",
       "      <td>19</td>\n",
       "      <td>3</td>\n",
       "      <td>3.0</td>\n",
       "      <td>9.0</td>\n",
       "      <td>6.0</td>\n",
       "      <td>1.0</td>\n",
       "    </tr>\n",
       "    <tr>\n",
       "      <th>23</th>\n",
       "      <td>2011</td>\n",
       "      <td>20001</td>\n",
       "      <td>PHI</td>\n",
       "      <td>ZAC RINALDO</td>\n",
       "      <td>C</td>\n",
       "      <td>4.0</td>\n",
       "      <td>2</td>\n",
       "      <td>1</td>\n",
       "      <td>-1</td>\n",
       "      <td>PHI</td>\n",
       "      <td>BOS</td>\n",
       "      <td>19</td>\n",
       "      <td>3</td>\n",
       "      <td>3.0</td>\n",
       "      <td>9.0</td>\n",
       "      <td>6.0</td>\n",
       "      <td>1.0</td>\n",
       "    </tr>\n",
       "  </tbody>\n",
       "</table>\n",
       "</div>"
      ],
      "text/plain": [
       "    Season  GameNumber TeamCode      PlayerName Position  Rank  GF  GA  GD  \\\n",
       "0     2011       20001      PHI    DANNY BRIERE        W   1.0   2   1  -1   \n",
       "5     2011       20001      PHI   CLAUDE GIROUX        W   1.0   2   1  -1   \n",
       "8     2011       20001      PHI  SEAN COUTURIER        C   2.0   2   1  -1   \n",
       "9     2011       20001      PHI      MAX TALBOT        C   2.0   2   1  -1   \n",
       "23    2011       20001      PHI     ZAC RINALDO        C   4.0   2   1  -1   \n",
       "\n",
       "   WinTeam LossTeam  RosterCount  PositionCount  CCount  WCount  DCount  \\\n",
       "0      PHI      BOS           19              9     3.0     9.0     6.0   \n",
       "5      PHI      BOS           19              9     3.0     9.0     6.0   \n",
       "8      PHI      BOS           19              3     3.0     9.0     6.0   \n",
       "9      PHI      BOS           19              3     3.0     9.0     6.0   \n",
       "23     PHI      BOS           19              3     3.0     9.0     6.0   \n",
       "\n",
       "    GCount  \n",
       "0      1.0  \n",
       "5      1.0  \n",
       "8      1.0  \n",
       "9      1.0  \n",
       "23     1.0  "
      ]
     },
     "execution_count": 154,
     "metadata": {},
     "output_type": "execute_result"
    }
   ],
   "source": [
    "dw['CCount'] = dw.apply(lambda x: x['PositionCount'] if x['Position']=='C' else np.NaN, 1)\n",
    "dw['WCount'] = dw.apply(lambda x: x['PositionCount'] if x['Position']=='W' else np.NaN, 1)\n",
    "dw['DCount'] = dw.apply(lambda x: x['PositionCount'] if x['Position']=='D' else np.NaN, 1)\n",
    "dw['GCount'] = dw.apply(lambda x: x['PositionCount'] if x['Position']=='G' else np.NaN, 1)\n",
    "\n",
    "dw['CCount'] = dw.groupby(['Season','GameNumber', 'TeamCode'])['CCount'].apply(lambda x: x.ffill().bfill())\n",
    "dw['WCount'] = dw.groupby(['Season','GameNumber', 'TeamCode'])['WCount'].apply(lambda x: x.ffill().bfill())\n",
    "dw['DCount'] = dw.groupby(['Season','GameNumber', 'TeamCode'])['DCount'].apply(lambda x: x.ffill().bfill())\n",
    "dw['GCount'] = dw.groupby(['Season','GameNumber', 'TeamCode'])['GCount'].apply(lambda x: x.ffill().bfill())\n",
    "dw.head()"
   ]
  },
  {
   "cell_type": "code",
   "execution_count": 155,
   "metadata": {
    "collapsed": true
   },
   "outputs": [],
   "source": [
    "dw.to_csv('/Users/stefanostselios/Brock University/Kevin Mongeon - StephanosShare/out/data/2011_2017_season_team_game_player.csv', index='False', sep=',')\n",
    "#dw.to_csv('/Users/kevinmongeon/Brock University/Steve Tselios - StephanosShare/out/data/2011_2017_season_team_game_player.csv', index='False', sep=',')"
   ]
  },
  {
   "cell_type": "code",
   "execution_count": 156,
   "metadata": {
    "collapsed": true
   },
   "outputs": [],
   "source": [
    "dw1 = dw.drop_duplicates(['Season', 'GameNumber', 'TeamCode'])\n",
    "dw1 = dw1.sort_values(['Season', 'GameNumber'], ascending=[True, True])"
   ]
  },
  {
   "cell_type": "code",
   "execution_count": 157,
   "metadata": {
    "collapsed": false
   },
   "outputs": [
    {
     "data": {
      "text/plain": [
       "(16282, 17)"
      ]
     },
     "execution_count": 157,
     "metadata": {},
     "output_type": "execute_result"
    }
   ],
   "source": [
    "dw1.shape"
   ]
  },
  {
   "cell_type": "code",
   "execution_count": 158,
   "metadata": {
    "collapsed": false
   },
   "outputs": [
    {
     "data": {
      "text/html": [
       "<div>\n",
       "<table border=\"1\" class=\"dataframe\">\n",
       "  <thead>\n",
       "    <tr style=\"text-align: right;\">\n",
       "      <th></th>\n",
       "      <th>Season</th>\n",
       "      <th>GameNumber</th>\n",
       "      <th>TeamCode</th>\n",
       "      <th>PlayerName</th>\n",
       "      <th>Position</th>\n",
       "      <th>Rank</th>\n",
       "      <th>GF</th>\n",
       "      <th>GA</th>\n",
       "      <th>GD</th>\n",
       "      <th>WinTeam</th>\n",
       "      <th>LossTeam</th>\n",
       "      <th>RosterCount</th>\n",
       "      <th>PositionCount</th>\n",
       "      <th>CCount</th>\n",
       "      <th>WCount</th>\n",
       "      <th>DCount</th>\n",
       "      <th>GCount</th>\n",
       "    </tr>\n",
       "  </thead>\n",
       "  <tbody>\n",
       "    <tr>\n",
       "      <th>0</th>\n",
       "      <td>2011</td>\n",
       "      <td>20001</td>\n",
       "      <td>PHI</td>\n",
       "      <td>DANNY BRIERE</td>\n",
       "      <td>W</td>\n",
       "      <td>1.0</td>\n",
       "      <td>2</td>\n",
       "      <td>1</td>\n",
       "      <td>-1</td>\n",
       "      <td>PHI</td>\n",
       "      <td>BOS</td>\n",
       "      <td>19</td>\n",
       "      <td>9</td>\n",
       "      <td>3.0</td>\n",
       "      <td>9.0</td>\n",
       "      <td>6.0</td>\n",
       "      <td>1.0</td>\n",
       "    </tr>\n",
       "    <tr>\n",
       "      <th>12012909</th>\n",
       "      <td>2011</td>\n",
       "      <td>20001</td>\n",
       "      <td>BOS</td>\n",
       "      <td>DAVID KREJCI</td>\n",
       "      <td>C</td>\n",
       "      <td>1.0</td>\n",
       "      <td>1</td>\n",
       "      <td>2</td>\n",
       "      <td>-1</td>\n",
       "      <td>PHI</td>\n",
       "      <td>BOS</td>\n",
       "      <td>19</td>\n",
       "      <td>6</td>\n",
       "      <td>6.0</td>\n",
       "      <td>6.0</td>\n",
       "      <td>6.0</td>\n",
       "      <td>1.0</td>\n",
       "    </tr>\n",
       "    <tr>\n",
       "      <th>1274</th>\n",
       "      <td>2011</td>\n",
       "      <td>20002</td>\n",
       "      <td>MTL</td>\n",
       "      <td>SCOTT GOMEZ</td>\n",
       "      <td>C</td>\n",
       "      <td>3.0</td>\n",
       "      <td>0</td>\n",
       "      <td>2</td>\n",
       "      <td>2</td>\n",
       "      <td>TOR</td>\n",
       "      <td>MTL</td>\n",
       "      <td>19</td>\n",
       "      <td>5</td>\n",
       "      <td>5.0</td>\n",
       "      <td>6.0</td>\n",
       "      <td>7.0</td>\n",
       "      <td>1.0</td>\n",
       "    </tr>\n",
       "    <tr>\n",
       "      <th>12014183</th>\n",
       "      <td>2011</td>\n",
       "      <td>20002</td>\n",
       "      <td>TOR</td>\n",
       "      <td>MIKHAIL GRABOVSKI</td>\n",
       "      <td>C</td>\n",
       "      <td>1.0</td>\n",
       "      <td>2</td>\n",
       "      <td>0</td>\n",
       "      <td>2</td>\n",
       "      <td>TOR</td>\n",
       "      <td>MTL</td>\n",
       "      <td>19</td>\n",
       "      <td>5</td>\n",
       "      <td>5.0</td>\n",
       "      <td>7.0</td>\n",
       "      <td>6.0</td>\n",
       "      <td>1.0</td>\n",
       "    </tr>\n",
       "    <tr>\n",
       "      <th>2640</th>\n",
       "      <td>2011</td>\n",
       "      <td>20003</td>\n",
       "      <td>PIT</td>\n",
       "      <td>JORDAN STAAL</td>\n",
       "      <td>C</td>\n",
       "      <td>1.0</td>\n",
       "      <td>5</td>\n",
       "      <td>3</td>\n",
       "      <td>-2</td>\n",
       "      <td>PIT</td>\n",
       "      <td>VAN</td>\n",
       "      <td>19</td>\n",
       "      <td>5</td>\n",
       "      <td>5.0</td>\n",
       "      <td>7.0</td>\n",
       "      <td>6.0</td>\n",
       "      <td>1.0</td>\n",
       "    </tr>\n",
       "  </tbody>\n",
       "</table>\n",
       "</div>"
      ],
      "text/plain": [
       "          Season  GameNumber TeamCode         PlayerName Position  Rank  GF  \\\n",
       "0           2011       20001      PHI       DANNY BRIERE        W   1.0   2   \n",
       "12012909    2011       20001      BOS       DAVID KREJCI        C   1.0   1   \n",
       "1274        2011       20002      MTL        SCOTT GOMEZ        C   3.0   0   \n",
       "12014183    2011       20002      TOR  MIKHAIL GRABOVSKI        C   1.0   2   \n",
       "2640        2011       20003      PIT       JORDAN STAAL        C   1.0   5   \n",
       "\n",
       "          GA  GD WinTeam LossTeam  RosterCount  PositionCount  CCount  WCount  \\\n",
       "0          1  -1     PHI      BOS           19              9     3.0     9.0   \n",
       "12012909   2  -1     PHI      BOS           19              6     6.0     6.0   \n",
       "1274       2   2     TOR      MTL           19              5     5.0     6.0   \n",
       "12014183   0   2     TOR      MTL           19              5     5.0     7.0   \n",
       "2640       3  -2     PIT      VAN           19              5     5.0     7.0   \n",
       "\n",
       "          DCount  GCount  \n",
       "0            6.0     1.0  \n",
       "12012909     6.0     1.0  \n",
       "1274         7.0     1.0  \n",
       "12014183     6.0     1.0  \n",
       "2640         6.0     1.0  "
      ]
     },
     "execution_count": 158,
     "metadata": {},
     "output_type": "execute_result"
    }
   ],
   "source": [
    "dw1.head()"
   ]
  },
  {
   "cell_type": "code",
   "execution_count": 159,
   "metadata": {
    "collapsed": true
   },
   "outputs": [],
   "source": [
    "dw1.to_csv('/Users/stefanostselios/Brock University/Kevin Mongeon - StephanosShare/out/data/2011_2017_game_team_roster_player.csv', index='False', sep=',')\n",
    "#dw1.to_csv('/Users/kevinmongeon/Brock University/Steve Tselios - StephanosShare/out/data/2011_2017_game_team_roster_player.csv', index='False', sep=',')"
   ]
  },
  {
   "cell_type": "markdown",
   "metadata": {},
   "source": [
    "### full regular season stats"
   ]
  },
  {
   "cell_type": "code",
   "execution_count": 160,
   "metadata": {
    "collapsed": false
   },
   "outputs": [
    {
     "data": {
      "text/plain": [
       "(65088, 14)"
      ]
     },
     "execution_count": 160,
     "metadata": {},
     "output_type": "execute_result"
    }
   ],
   "source": [
    "dw2 = dw.copy()\n",
    "dw2 = dw2.groupby(['Season', 'GameNumber', 'TeamCode', 'Position', 'GF', 'GA', 'RosterCount', 'PositionCount', 'CCount', 'WCount', 'DCount', 'WinTeam', 'LossTeam'], as_index=False)['Rank'].mean()\n",
    "dw2.shape"
   ]
  },
  {
   "cell_type": "markdown",
   "metadata": {},
   "source": [
    "- create columns for team win and team loss. "
   ]
  },
  {
   "cell_type": "code",
   "execution_count": 161,
   "metadata": {
    "collapsed": true
   },
   "outputs": [],
   "source": [
    "dw2['TeamWin'] =  dw2.apply(lambda x: 1 if x['TeamCode']==x['WinTeam'] else 0, 1)\n",
    "dw2['TeamLos'] =  dw2.apply(lambda x: 1 if x['TeamCode']==x['LossTeam'] else 0, 1)"
   ]
  },
  {
   "cell_type": "markdown",
   "metadata": {},
   "source": [
    "- display games played, games won, games loss, goals for and goals against by team for the season."
   ]
  },
  {
   "cell_type": "code",
   "execution_count": 162,
   "metadata": {
    "collapsed": false
   },
   "outputs": [
    {
     "data": {
      "text/html": [
       "<div>\n",
       "<table border=\"1\" class=\"dataframe\">\n",
       "  <thead>\n",
       "    <tr style=\"text-align: right;\">\n",
       "      <th></th>\n",
       "      <th>Season</th>\n",
       "      <th>GameNumber</th>\n",
       "      <th>TeamCode</th>\n",
       "      <th>Position</th>\n",
       "      <th>GF</th>\n",
       "      <th>GA</th>\n",
       "      <th>RosterCount</th>\n",
       "      <th>PositionCount</th>\n",
       "      <th>CCount</th>\n",
       "      <th>WCount</th>\n",
       "      <th>DCount</th>\n",
       "      <th>WinTeam</th>\n",
       "      <th>LossTeam</th>\n",
       "      <th>Rank</th>\n",
       "      <th>TeamWin</th>\n",
       "      <th>TeamLos</th>\n",
       "      <th>GP</th>\n",
       "      <th>GW</th>\n",
       "      <th>GL</th>\n",
       "    </tr>\n",
       "  </thead>\n",
       "  <tbody>\n",
       "    <tr>\n",
       "      <th>0</th>\n",
       "      <td>2011</td>\n",
       "      <td>20001</td>\n",
       "      <td>BOS</td>\n",
       "      <td>C</td>\n",
       "      <td>279</td>\n",
       "      <td>211</td>\n",
       "      <td>19</td>\n",
       "      <td>6</td>\n",
       "      <td>6.0</td>\n",
       "      <td>6.0</td>\n",
       "      <td>6.0</td>\n",
       "      <td>PHI</td>\n",
       "      <td>BOS</td>\n",
       "      <td>1.500000</td>\n",
       "      <td>0</td>\n",
       "      <td>1</td>\n",
       "      <td>82</td>\n",
       "      <td>49</td>\n",
       "      <td>33</td>\n",
       "    </tr>\n",
       "    <tr>\n",
       "      <th>1</th>\n",
       "      <td>2011</td>\n",
       "      <td>20001</td>\n",
       "      <td>BOS</td>\n",
       "      <td>D</td>\n",
       "      <td>279</td>\n",
       "      <td>211</td>\n",
       "      <td>19</td>\n",
       "      <td>6</td>\n",
       "      <td>6.0</td>\n",
       "      <td>6.0</td>\n",
       "      <td>6.0</td>\n",
       "      <td>PHI</td>\n",
       "      <td>BOS</td>\n",
       "      <td>1.666667</td>\n",
       "      <td>0</td>\n",
       "      <td>1</td>\n",
       "      <td>82</td>\n",
       "      <td>49</td>\n",
       "      <td>33</td>\n",
       "    </tr>\n",
       "    <tr>\n",
       "      <th>2</th>\n",
       "      <td>2011</td>\n",
       "      <td>20001</td>\n",
       "      <td>BOS</td>\n",
       "      <td>G</td>\n",
       "      <td>279</td>\n",
       "      <td>211</td>\n",
       "      <td>19</td>\n",
       "      <td>1</td>\n",
       "      <td>6.0</td>\n",
       "      <td>6.0</td>\n",
       "      <td>6.0</td>\n",
       "      <td>PHI</td>\n",
       "      <td>BOS</td>\n",
       "      <td>2.000000</td>\n",
       "      <td>0</td>\n",
       "      <td>1</td>\n",
       "      <td>82</td>\n",
       "      <td>49</td>\n",
       "      <td>33</td>\n",
       "    </tr>\n",
       "    <tr>\n",
       "      <th>3</th>\n",
       "      <td>2011</td>\n",
       "      <td>20001</td>\n",
       "      <td>BOS</td>\n",
       "      <td>W</td>\n",
       "      <td>279</td>\n",
       "      <td>211</td>\n",
       "      <td>19</td>\n",
       "      <td>6</td>\n",
       "      <td>6.0</td>\n",
       "      <td>6.0</td>\n",
       "      <td>6.0</td>\n",
       "      <td>PHI</td>\n",
       "      <td>BOS</td>\n",
       "      <td>2.000000</td>\n",
       "      <td>0</td>\n",
       "      <td>1</td>\n",
       "      <td>82</td>\n",
       "      <td>49</td>\n",
       "      <td>33</td>\n",
       "    </tr>\n",
       "    <tr>\n",
       "      <th>4</th>\n",
       "      <td>2011</td>\n",
       "      <td>20001</td>\n",
       "      <td>PHI</td>\n",
       "      <td>C</td>\n",
       "      <td>273</td>\n",
       "      <td>242</td>\n",
       "      <td>19</td>\n",
       "      <td>3</td>\n",
       "      <td>3.0</td>\n",
       "      <td>9.0</td>\n",
       "      <td>6.0</td>\n",
       "      <td>PHI</td>\n",
       "      <td>BOS</td>\n",
       "      <td>2.666667</td>\n",
       "      <td>1</td>\n",
       "      <td>0</td>\n",
       "      <td>82</td>\n",
       "      <td>47</td>\n",
       "      <td>35</td>\n",
       "    </tr>\n",
       "  </tbody>\n",
       "</table>\n",
       "</div>"
      ],
      "text/plain": [
       "   Season  GameNumber TeamCode Position   GF   GA  RosterCount  PositionCount  \\\n",
       "0    2011       20001      BOS        C  279  211           19              6   \n",
       "1    2011       20001      BOS        D  279  211           19              6   \n",
       "2    2011       20001      BOS        G  279  211           19              1   \n",
       "3    2011       20001      BOS        W  279  211           19              6   \n",
       "4    2011       20001      PHI        C  273  242           19              3   \n",
       "\n",
       "   CCount  WCount  DCount WinTeam LossTeam      Rank  TeamWin  TeamLos  GP  \\\n",
       "0     6.0     6.0     6.0     PHI      BOS  1.500000        0        1  82   \n",
       "1     6.0     6.0     6.0     PHI      BOS  1.666667        0        1  82   \n",
       "2     6.0     6.0     6.0     PHI      BOS  2.000000        0        1  82   \n",
       "3     6.0     6.0     6.0     PHI      BOS  2.000000        0        1  82   \n",
       "4     3.0     9.0     6.0     PHI      BOS  2.666667        1        0  82   \n",
       "\n",
       "   GW  GL  \n",
       "0  49  33  \n",
       "1  49  33  \n",
       "2  49  33  \n",
       "3  49  33  \n",
       "4  47  35  "
      ]
     },
     "execution_count": 162,
     "metadata": {},
     "output_type": "execute_result"
    }
   ],
   "source": [
    "dw2['GP'] = dw2.groupby(['Season', 'Position', 'TeamCode'])['GameNumber'].transform('count')\n",
    "dw2['GW'] = dw2.groupby(['Season', 'Position', 'TeamCode'])['TeamWin'].transform('sum')\n",
    "dw2['GL'] = dw2.groupby(['Season', 'Position', 'TeamCode'])['TeamLos'].transform('sum')\n",
    "dw2['GF'] = dw2.groupby(['Season', 'Position', 'TeamCode'])['GF'].transform('sum')\n",
    "dw2['GA'] = dw2.groupby(['Season', 'Position', 'TeamCode'])['GA'].transform('sum')\n",
    "dw2.head()"
   ]
  },
  {
   "cell_type": "markdown",
   "metadata": {},
   "source": [
    "- create columns with the mean ranking for forward and defenseman by team per game."
   ]
  },
  {
   "cell_type": "code",
   "execution_count": 163,
   "metadata": {
    "collapsed": false
   },
   "outputs": [
    {
     "data": {
      "text/html": [
       "<div>\n",
       "<table border=\"1\" class=\"dataframe\">\n",
       "  <thead>\n",
       "    <tr style=\"text-align: right;\">\n",
       "      <th></th>\n",
       "      <th>Season</th>\n",
       "      <th>GameNumber</th>\n",
       "      <th>TeamCode</th>\n",
       "      <th>Position</th>\n",
       "      <th>GF</th>\n",
       "      <th>GA</th>\n",
       "      <th>RosterCount</th>\n",
       "      <th>PositionCount</th>\n",
       "      <th>CCount</th>\n",
       "      <th>WCount</th>\n",
       "      <th>DCount</th>\n",
       "      <th>WinTeam</th>\n",
       "      <th>LossTeam</th>\n",
       "      <th>Rank</th>\n",
       "      <th>TeamWin</th>\n",
       "      <th>TeamLos</th>\n",
       "      <th>GP</th>\n",
       "      <th>GW</th>\n",
       "      <th>GL</th>\n",
       "      <th>RankC</th>\n",
       "      <th>RankW</th>\n",
       "      <th>RankD</th>\n",
       "      <th>RankG</th>\n",
       "    </tr>\n",
       "  </thead>\n",
       "  <tbody>\n",
       "    <tr>\n",
       "      <th>0</th>\n",
       "      <td>2011</td>\n",
       "      <td>20001</td>\n",
       "      <td>BOS</td>\n",
       "      <td>C</td>\n",
       "      <td>279</td>\n",
       "      <td>211</td>\n",
       "      <td>19</td>\n",
       "      <td>6</td>\n",
       "      <td>6.0</td>\n",
       "      <td>6.0</td>\n",
       "      <td>6.0</td>\n",
       "      <td>PHI</td>\n",
       "      <td>BOS</td>\n",
       "      <td>1.500000</td>\n",
       "      <td>0</td>\n",
       "      <td>1</td>\n",
       "      <td>82</td>\n",
       "      <td>49</td>\n",
       "      <td>33</td>\n",
       "      <td>1.500000</td>\n",
       "      <td>2.000000</td>\n",
       "      <td>1.666667</td>\n",
       "      <td>2.0</td>\n",
       "    </tr>\n",
       "    <tr>\n",
       "      <th>1</th>\n",
       "      <td>2011</td>\n",
       "      <td>20001</td>\n",
       "      <td>BOS</td>\n",
       "      <td>D</td>\n",
       "      <td>279</td>\n",
       "      <td>211</td>\n",
       "      <td>19</td>\n",
       "      <td>6</td>\n",
       "      <td>6.0</td>\n",
       "      <td>6.0</td>\n",
       "      <td>6.0</td>\n",
       "      <td>PHI</td>\n",
       "      <td>BOS</td>\n",
       "      <td>1.666667</td>\n",
       "      <td>0</td>\n",
       "      <td>1</td>\n",
       "      <td>82</td>\n",
       "      <td>49</td>\n",
       "      <td>33</td>\n",
       "      <td>1.500000</td>\n",
       "      <td>2.000000</td>\n",
       "      <td>1.666667</td>\n",
       "      <td>2.0</td>\n",
       "    </tr>\n",
       "    <tr>\n",
       "      <th>2</th>\n",
       "      <td>2011</td>\n",
       "      <td>20001</td>\n",
       "      <td>BOS</td>\n",
       "      <td>G</td>\n",
       "      <td>279</td>\n",
       "      <td>211</td>\n",
       "      <td>19</td>\n",
       "      <td>1</td>\n",
       "      <td>6.0</td>\n",
       "      <td>6.0</td>\n",
       "      <td>6.0</td>\n",
       "      <td>PHI</td>\n",
       "      <td>BOS</td>\n",
       "      <td>2.000000</td>\n",
       "      <td>0</td>\n",
       "      <td>1</td>\n",
       "      <td>82</td>\n",
       "      <td>49</td>\n",
       "      <td>33</td>\n",
       "      <td>1.500000</td>\n",
       "      <td>2.000000</td>\n",
       "      <td>1.666667</td>\n",
       "      <td>2.0</td>\n",
       "    </tr>\n",
       "    <tr>\n",
       "      <th>3</th>\n",
       "      <td>2011</td>\n",
       "      <td>20001</td>\n",
       "      <td>BOS</td>\n",
       "      <td>W</td>\n",
       "      <td>279</td>\n",
       "      <td>211</td>\n",
       "      <td>19</td>\n",
       "      <td>6</td>\n",
       "      <td>6.0</td>\n",
       "      <td>6.0</td>\n",
       "      <td>6.0</td>\n",
       "      <td>PHI</td>\n",
       "      <td>BOS</td>\n",
       "      <td>2.000000</td>\n",
       "      <td>0</td>\n",
       "      <td>1</td>\n",
       "      <td>82</td>\n",
       "      <td>49</td>\n",
       "      <td>33</td>\n",
       "      <td>1.500000</td>\n",
       "      <td>2.000000</td>\n",
       "      <td>1.666667</td>\n",
       "      <td>2.0</td>\n",
       "    </tr>\n",
       "    <tr>\n",
       "      <th>4</th>\n",
       "      <td>2011</td>\n",
       "      <td>20001</td>\n",
       "      <td>PHI</td>\n",
       "      <td>C</td>\n",
       "      <td>273</td>\n",
       "      <td>242</td>\n",
       "      <td>19</td>\n",
       "      <td>3</td>\n",
       "      <td>3.0</td>\n",
       "      <td>9.0</td>\n",
       "      <td>6.0</td>\n",
       "      <td>PHI</td>\n",
       "      <td>BOS</td>\n",
       "      <td>2.666667</td>\n",
       "      <td>1</td>\n",
       "      <td>0</td>\n",
       "      <td>82</td>\n",
       "      <td>47</td>\n",
       "      <td>35</td>\n",
       "      <td>2.666667</td>\n",
       "      <td>1.222222</td>\n",
       "      <td>1.500000</td>\n",
       "      <td>2.0</td>\n",
       "    </tr>\n",
       "  </tbody>\n",
       "</table>\n",
       "</div>"
      ],
      "text/plain": [
       "   Season  GameNumber TeamCode Position   GF   GA  RosterCount  PositionCount  \\\n",
       "0    2011       20001      BOS        C  279  211           19              6   \n",
       "1    2011       20001      BOS        D  279  211           19              6   \n",
       "2    2011       20001      BOS        G  279  211           19              1   \n",
       "3    2011       20001      BOS        W  279  211           19              6   \n",
       "4    2011       20001      PHI        C  273  242           19              3   \n",
       "\n",
       "   CCount  WCount  DCount WinTeam LossTeam      Rank  TeamWin  TeamLos  GP  \\\n",
       "0     6.0     6.0     6.0     PHI      BOS  1.500000        0        1  82   \n",
       "1     6.0     6.0     6.0     PHI      BOS  1.666667        0        1  82   \n",
       "2     6.0     6.0     6.0     PHI      BOS  2.000000        0        1  82   \n",
       "3     6.0     6.0     6.0     PHI      BOS  2.000000        0        1  82   \n",
       "4     3.0     9.0     6.0     PHI      BOS  2.666667        1        0  82   \n",
       "\n",
       "   GW  GL     RankC     RankW     RankD  RankG  \n",
       "0  49  33  1.500000  2.000000  1.666667    2.0  \n",
       "1  49  33  1.500000  2.000000  1.666667    2.0  \n",
       "2  49  33  1.500000  2.000000  1.666667    2.0  \n",
       "3  49  33  1.500000  2.000000  1.666667    2.0  \n",
       "4  47  35  2.666667  1.222222  1.500000    2.0  "
      ]
     },
     "execution_count": 163,
     "metadata": {},
     "output_type": "execute_result"
    }
   ],
   "source": [
    "dw2['RankC'] = dw2.apply(lambda x: x['Rank'] if x['Position']=='C' else np.NaN, 1)\n",
    "dw2['RankW'] = dw2.apply(lambda x: x['Rank'] if x['Position']=='W' else np.NaN, 1)\n",
    "dw2['RankD'] = dw2.apply(lambda x: x['Rank'] if x['Position']=='D' else np.NaN, 1)\n",
    "dw2['RankG'] = dw2.apply(lambda x: x['Rank'] if x['Position']=='G' else np.NaN, 1)\n",
    "\n",
    "dw2['RankC'] = dw2.groupby(['Season','GameNumber', 'TeamCode'])['RankC'].apply(lambda x: x.ffill().bfill())\n",
    "dw2['RankW'] = dw2.groupby(['Season','GameNumber', 'TeamCode'])['RankW'].apply(lambda x: x.ffill().bfill())\n",
    "dw2['RankD'] = dw2.groupby(['Season','GameNumber', 'TeamCode'])['RankD'].apply(lambda x: x.ffill().bfill())\n",
    "dw2['RankG'] = dw2.groupby(['Season','GameNumber', 'TeamCode'])['RankG'].apply(lambda x: x.ffill().bfill())\n",
    "dw2.head()"
   ]
  },
  {
   "cell_type": "markdown",
   "metadata": {},
   "source": [
    "- compute the mean per position by team for the season."
   ]
  },
  {
   "cell_type": "code",
   "execution_count": 164,
   "metadata": {
    "collapsed": false
   },
   "outputs": [
    {
     "data": {
      "text/html": [
       "<div>\n",
       "<table border=\"1\" class=\"dataframe\">\n",
       "  <thead>\n",
       "    <tr style=\"text-align: right;\">\n",
       "      <th></th>\n",
       "      <th>Season</th>\n",
       "      <th>GameNumber</th>\n",
       "      <th>TeamCode</th>\n",
       "      <th>Position</th>\n",
       "      <th>GF</th>\n",
       "      <th>GA</th>\n",
       "      <th>RosterCount</th>\n",
       "      <th>PositionCount</th>\n",
       "      <th>CCount</th>\n",
       "      <th>WCount</th>\n",
       "      <th>DCount</th>\n",
       "      <th>WinTeam</th>\n",
       "      <th>LossTeam</th>\n",
       "      <th>Rank</th>\n",
       "      <th>TeamWin</th>\n",
       "      <th>TeamLos</th>\n",
       "      <th>GP</th>\n",
       "      <th>GW</th>\n",
       "      <th>GL</th>\n",
       "      <th>RankC</th>\n",
       "      <th>RankW</th>\n",
       "      <th>RankD</th>\n",
       "      <th>RankG</th>\n",
       "      <th>MeanC</th>\n",
       "      <th>MeanW</th>\n",
       "      <th>MeanD</th>\n",
       "      <th>MeanG</th>\n",
       "    </tr>\n",
       "  </thead>\n",
       "  <tbody>\n",
       "    <tr>\n",
       "      <th>0</th>\n",
       "      <td>2011</td>\n",
       "      <td>20001</td>\n",
       "      <td>BOS</td>\n",
       "      <td>C</td>\n",
       "      <td>279</td>\n",
       "      <td>211</td>\n",
       "      <td>19</td>\n",
       "      <td>6</td>\n",
       "      <td>6.0</td>\n",
       "      <td>6.0</td>\n",
       "      <td>6.0</td>\n",
       "      <td>PHI</td>\n",
       "      <td>BOS</td>\n",
       "      <td>1.500000</td>\n",
       "      <td>0</td>\n",
       "      <td>1</td>\n",
       "      <td>82</td>\n",
       "      <td>49</td>\n",
       "      <td>33</td>\n",
       "      <td>1.500000</td>\n",
       "      <td>2.000000</td>\n",
       "      <td>1.666667</td>\n",
       "      <td>2.0</td>\n",
       "      <td>1.635889</td>\n",
       "      <td>1.92619</td>\n",
       "      <td>1.743612</td>\n",
       "      <td>1.804878</td>\n",
       "    </tr>\n",
       "    <tr>\n",
       "      <th>1</th>\n",
       "      <td>2011</td>\n",
       "      <td>20001</td>\n",
       "      <td>BOS</td>\n",
       "      <td>D</td>\n",
       "      <td>279</td>\n",
       "      <td>211</td>\n",
       "      <td>19</td>\n",
       "      <td>6</td>\n",
       "      <td>6.0</td>\n",
       "      <td>6.0</td>\n",
       "      <td>6.0</td>\n",
       "      <td>PHI</td>\n",
       "      <td>BOS</td>\n",
       "      <td>1.666667</td>\n",
       "      <td>0</td>\n",
       "      <td>1</td>\n",
       "      <td>82</td>\n",
       "      <td>49</td>\n",
       "      <td>33</td>\n",
       "      <td>1.500000</td>\n",
       "      <td>2.000000</td>\n",
       "      <td>1.666667</td>\n",
       "      <td>2.0</td>\n",
       "      <td>1.635889</td>\n",
       "      <td>1.92619</td>\n",
       "      <td>1.743612</td>\n",
       "      <td>1.804878</td>\n",
       "    </tr>\n",
       "    <tr>\n",
       "      <th>2</th>\n",
       "      <td>2011</td>\n",
       "      <td>20001</td>\n",
       "      <td>BOS</td>\n",
       "      <td>G</td>\n",
       "      <td>279</td>\n",
       "      <td>211</td>\n",
       "      <td>19</td>\n",
       "      <td>1</td>\n",
       "      <td>6.0</td>\n",
       "      <td>6.0</td>\n",
       "      <td>6.0</td>\n",
       "      <td>PHI</td>\n",
       "      <td>BOS</td>\n",
       "      <td>2.000000</td>\n",
       "      <td>0</td>\n",
       "      <td>1</td>\n",
       "      <td>82</td>\n",
       "      <td>49</td>\n",
       "      <td>33</td>\n",
       "      <td>1.500000</td>\n",
       "      <td>2.000000</td>\n",
       "      <td>1.666667</td>\n",
       "      <td>2.0</td>\n",
       "      <td>1.635889</td>\n",
       "      <td>1.92619</td>\n",
       "      <td>1.743612</td>\n",
       "      <td>1.804878</td>\n",
       "    </tr>\n",
       "    <tr>\n",
       "      <th>3</th>\n",
       "      <td>2011</td>\n",
       "      <td>20001</td>\n",
       "      <td>BOS</td>\n",
       "      <td>W</td>\n",
       "      <td>279</td>\n",
       "      <td>211</td>\n",
       "      <td>19</td>\n",
       "      <td>6</td>\n",
       "      <td>6.0</td>\n",
       "      <td>6.0</td>\n",
       "      <td>6.0</td>\n",
       "      <td>PHI</td>\n",
       "      <td>BOS</td>\n",
       "      <td>2.000000</td>\n",
       "      <td>0</td>\n",
       "      <td>1</td>\n",
       "      <td>82</td>\n",
       "      <td>49</td>\n",
       "      <td>33</td>\n",
       "      <td>1.500000</td>\n",
       "      <td>2.000000</td>\n",
       "      <td>1.666667</td>\n",
       "      <td>2.0</td>\n",
       "      <td>1.635889</td>\n",
       "      <td>1.92619</td>\n",
       "      <td>1.743612</td>\n",
       "      <td>1.804878</td>\n",
       "    </tr>\n",
       "    <tr>\n",
       "      <th>4</th>\n",
       "      <td>2011</td>\n",
       "      <td>20001</td>\n",
       "      <td>PHI</td>\n",
       "      <td>C</td>\n",
       "      <td>273</td>\n",
       "      <td>242</td>\n",
       "      <td>19</td>\n",
       "      <td>3</td>\n",
       "      <td>3.0</td>\n",
       "      <td>9.0</td>\n",
       "      <td>6.0</td>\n",
       "      <td>PHI</td>\n",
       "      <td>BOS</td>\n",
       "      <td>2.666667</td>\n",
       "      <td>1</td>\n",
       "      <td>0</td>\n",
       "      <td>82</td>\n",
       "      <td>47</td>\n",
       "      <td>35</td>\n",
       "      <td>2.666667</td>\n",
       "      <td>1.222222</td>\n",
       "      <td>1.500000</td>\n",
       "      <td>2.0</td>\n",
       "      <td>2.502033</td>\n",
       "      <td>1.32439</td>\n",
       "      <td>1.827236</td>\n",
       "      <td>2.310976</td>\n",
       "    </tr>\n",
       "  </tbody>\n",
       "</table>\n",
       "</div>"
      ],
      "text/plain": [
       "   Season  GameNumber TeamCode Position   GF   GA  RosterCount  PositionCount  \\\n",
       "0    2011       20001      BOS        C  279  211           19              6   \n",
       "1    2011       20001      BOS        D  279  211           19              6   \n",
       "2    2011       20001      BOS        G  279  211           19              1   \n",
       "3    2011       20001      BOS        W  279  211           19              6   \n",
       "4    2011       20001      PHI        C  273  242           19              3   \n",
       "\n",
       "   CCount  WCount  DCount WinTeam LossTeam      Rank  TeamWin  TeamLos  GP  \\\n",
       "0     6.0     6.0     6.0     PHI      BOS  1.500000        0        1  82   \n",
       "1     6.0     6.0     6.0     PHI      BOS  1.666667        0        1  82   \n",
       "2     6.0     6.0     6.0     PHI      BOS  2.000000        0        1  82   \n",
       "3     6.0     6.0     6.0     PHI      BOS  2.000000        0        1  82   \n",
       "4     3.0     9.0     6.0     PHI      BOS  2.666667        1        0  82   \n",
       "\n",
       "   GW  GL     RankC     RankW     RankD  RankG     MeanC    MeanW     MeanD  \\\n",
       "0  49  33  1.500000  2.000000  1.666667    2.0  1.635889  1.92619  1.743612   \n",
       "1  49  33  1.500000  2.000000  1.666667    2.0  1.635889  1.92619  1.743612   \n",
       "2  49  33  1.500000  2.000000  1.666667    2.0  1.635889  1.92619  1.743612   \n",
       "3  49  33  1.500000  2.000000  1.666667    2.0  1.635889  1.92619  1.743612   \n",
       "4  47  35  2.666667  1.222222  1.500000    2.0  2.502033  1.32439  1.827236   \n",
       "\n",
       "      MeanG  \n",
       "0  1.804878  \n",
       "1  1.804878  \n",
       "2  1.804878  \n",
       "3  1.804878  \n",
       "4  2.310976  "
      ]
     },
     "execution_count": 164,
     "metadata": {},
     "output_type": "execute_result"
    }
   ],
   "source": [
    "dw2['MeanC']= dw2.groupby(['Season', 'TeamCode'])['RankC'].transform('mean')\n",
    "dw2['MeanW']= dw2.groupby(['Season', 'TeamCode'])['RankW'].transform('mean')\n",
    "dw2['MeanD']= dw2.groupby(['Season', 'TeamCode'])['RankD'].transform('mean')\n",
    "dw2['MeanG']= dw2.groupby(['Season', 'TeamCode'])['RankG'].transform('mean')\n",
    "dw2.head()"
   ]
  },
  {
   "cell_type": "markdown",
   "metadata": {},
   "source": [
    "- display the quantity of wins and losses per team for the whole season"
   ]
  },
  {
   "cell_type": "code",
   "execution_count": 165,
   "metadata": {
    "collapsed": false
   },
   "outputs": [
    {
     "data": {
      "text/html": [
       "<div>\n",
       "<table border=\"1\" class=\"dataframe\">\n",
       "  <thead>\n",
       "    <tr style=\"text-align: right;\">\n",
       "      <th></th>\n",
       "      <th>Season</th>\n",
       "      <th>GameNumber</th>\n",
       "      <th>TeamCode</th>\n",
       "      <th>Position</th>\n",
       "      <th>GF</th>\n",
       "      <th>GA</th>\n",
       "      <th>RosterCount</th>\n",
       "      <th>PositionCount</th>\n",
       "      <th>CCount</th>\n",
       "      <th>WCount</th>\n",
       "      <th>DCount</th>\n",
       "      <th>WinTeam</th>\n",
       "      <th>LossTeam</th>\n",
       "      <th>Rank</th>\n",
       "      <th>TeamWin</th>\n",
       "      <th>TeamLos</th>\n",
       "      <th>GP</th>\n",
       "      <th>GW</th>\n",
       "      <th>GL</th>\n",
       "      <th>RankC</th>\n",
       "      <th>RankW</th>\n",
       "      <th>RankD</th>\n",
       "      <th>RankG</th>\n",
       "      <th>MeanC</th>\n",
       "      <th>MeanW</th>\n",
       "      <th>MeanD</th>\n",
       "      <th>MeanG</th>\n",
       "      <th>L</th>\n",
       "      <th>W</th>\n",
       "    </tr>\n",
       "  </thead>\n",
       "  <tbody>\n",
       "    <tr>\n",
       "      <th>0</th>\n",
       "      <td>2011</td>\n",
       "      <td>20001</td>\n",
       "      <td>BOS</td>\n",
       "      <td>C</td>\n",
       "      <td>279</td>\n",
       "      <td>211</td>\n",
       "      <td>19</td>\n",
       "      <td>6</td>\n",
       "      <td>6.0</td>\n",
       "      <td>6.0</td>\n",
       "      <td>6.0</td>\n",
       "      <td>PHI</td>\n",
       "      <td>BOS</td>\n",
       "      <td>1.500000</td>\n",
       "      <td>0</td>\n",
       "      <td>1</td>\n",
       "      <td>82</td>\n",
       "      <td>49</td>\n",
       "      <td>33</td>\n",
       "      <td>1.500000</td>\n",
       "      <td>2.000000</td>\n",
       "      <td>1.666667</td>\n",
       "      <td>2.0</td>\n",
       "      <td>1.635889</td>\n",
       "      <td>1.92619</td>\n",
       "      <td>1.743612</td>\n",
       "      <td>1.804878</td>\n",
       "      <td>33</td>\n",
       "      <td>49</td>\n",
       "    </tr>\n",
       "    <tr>\n",
       "      <th>1</th>\n",
       "      <td>2011</td>\n",
       "      <td>20001</td>\n",
       "      <td>BOS</td>\n",
       "      <td>D</td>\n",
       "      <td>279</td>\n",
       "      <td>211</td>\n",
       "      <td>19</td>\n",
       "      <td>6</td>\n",
       "      <td>6.0</td>\n",
       "      <td>6.0</td>\n",
       "      <td>6.0</td>\n",
       "      <td>PHI</td>\n",
       "      <td>BOS</td>\n",
       "      <td>1.666667</td>\n",
       "      <td>0</td>\n",
       "      <td>1</td>\n",
       "      <td>82</td>\n",
       "      <td>49</td>\n",
       "      <td>33</td>\n",
       "      <td>1.500000</td>\n",
       "      <td>2.000000</td>\n",
       "      <td>1.666667</td>\n",
       "      <td>2.0</td>\n",
       "      <td>1.635889</td>\n",
       "      <td>1.92619</td>\n",
       "      <td>1.743612</td>\n",
       "      <td>1.804878</td>\n",
       "      <td>33</td>\n",
       "      <td>49</td>\n",
       "    </tr>\n",
       "    <tr>\n",
       "      <th>2</th>\n",
       "      <td>2011</td>\n",
       "      <td>20001</td>\n",
       "      <td>BOS</td>\n",
       "      <td>G</td>\n",
       "      <td>279</td>\n",
       "      <td>211</td>\n",
       "      <td>19</td>\n",
       "      <td>1</td>\n",
       "      <td>6.0</td>\n",
       "      <td>6.0</td>\n",
       "      <td>6.0</td>\n",
       "      <td>PHI</td>\n",
       "      <td>BOS</td>\n",
       "      <td>2.000000</td>\n",
       "      <td>0</td>\n",
       "      <td>1</td>\n",
       "      <td>82</td>\n",
       "      <td>49</td>\n",
       "      <td>33</td>\n",
       "      <td>1.500000</td>\n",
       "      <td>2.000000</td>\n",
       "      <td>1.666667</td>\n",
       "      <td>2.0</td>\n",
       "      <td>1.635889</td>\n",
       "      <td>1.92619</td>\n",
       "      <td>1.743612</td>\n",
       "      <td>1.804878</td>\n",
       "      <td>33</td>\n",
       "      <td>49</td>\n",
       "    </tr>\n",
       "    <tr>\n",
       "      <th>3</th>\n",
       "      <td>2011</td>\n",
       "      <td>20001</td>\n",
       "      <td>BOS</td>\n",
       "      <td>W</td>\n",
       "      <td>279</td>\n",
       "      <td>211</td>\n",
       "      <td>19</td>\n",
       "      <td>6</td>\n",
       "      <td>6.0</td>\n",
       "      <td>6.0</td>\n",
       "      <td>6.0</td>\n",
       "      <td>PHI</td>\n",
       "      <td>BOS</td>\n",
       "      <td>2.000000</td>\n",
       "      <td>0</td>\n",
       "      <td>1</td>\n",
       "      <td>82</td>\n",
       "      <td>49</td>\n",
       "      <td>33</td>\n",
       "      <td>1.500000</td>\n",
       "      <td>2.000000</td>\n",
       "      <td>1.666667</td>\n",
       "      <td>2.0</td>\n",
       "      <td>1.635889</td>\n",
       "      <td>1.92619</td>\n",
       "      <td>1.743612</td>\n",
       "      <td>1.804878</td>\n",
       "      <td>33</td>\n",
       "      <td>49</td>\n",
       "    </tr>\n",
       "    <tr>\n",
       "      <th>4</th>\n",
       "      <td>2011</td>\n",
       "      <td>20001</td>\n",
       "      <td>PHI</td>\n",
       "      <td>C</td>\n",
       "      <td>273</td>\n",
       "      <td>242</td>\n",
       "      <td>19</td>\n",
       "      <td>3</td>\n",
       "      <td>3.0</td>\n",
       "      <td>9.0</td>\n",
       "      <td>6.0</td>\n",
       "      <td>PHI</td>\n",
       "      <td>BOS</td>\n",
       "      <td>2.666667</td>\n",
       "      <td>1</td>\n",
       "      <td>0</td>\n",
       "      <td>82</td>\n",
       "      <td>47</td>\n",
       "      <td>35</td>\n",
       "      <td>2.666667</td>\n",
       "      <td>1.222222</td>\n",
       "      <td>1.500000</td>\n",
       "      <td>2.0</td>\n",
       "      <td>2.502033</td>\n",
       "      <td>1.32439</td>\n",
       "      <td>1.827236</td>\n",
       "      <td>2.310976</td>\n",
       "      <td>35</td>\n",
       "      <td>47</td>\n",
       "    </tr>\n",
       "  </tbody>\n",
       "</table>\n",
       "</div>"
      ],
      "text/plain": [
       "   Season  GameNumber TeamCode Position   GF   GA  RosterCount  PositionCount  \\\n",
       "0    2011       20001      BOS        C  279  211           19              6   \n",
       "1    2011       20001      BOS        D  279  211           19              6   \n",
       "2    2011       20001      BOS        G  279  211           19              1   \n",
       "3    2011       20001      BOS        W  279  211           19              6   \n",
       "4    2011       20001      PHI        C  273  242           19              3   \n",
       "\n",
       "   CCount  WCount  DCount WinTeam LossTeam      Rank  TeamWin  TeamLos  GP  \\\n",
       "0     6.0     6.0     6.0     PHI      BOS  1.500000        0        1  82   \n",
       "1     6.0     6.0     6.0     PHI      BOS  1.666667        0        1  82   \n",
       "2     6.0     6.0     6.0     PHI      BOS  2.000000        0        1  82   \n",
       "3     6.0     6.0     6.0     PHI      BOS  2.000000        0        1  82   \n",
       "4     3.0     9.0     6.0     PHI      BOS  2.666667        1        0  82   \n",
       "\n",
       "   GW  GL     RankC     RankW     RankD  RankG     MeanC    MeanW     MeanD  \\\n",
       "0  49  33  1.500000  2.000000  1.666667    2.0  1.635889  1.92619  1.743612   \n",
       "1  49  33  1.500000  2.000000  1.666667    2.0  1.635889  1.92619  1.743612   \n",
       "2  49  33  1.500000  2.000000  1.666667    2.0  1.635889  1.92619  1.743612   \n",
       "3  49  33  1.500000  2.000000  1.666667    2.0  1.635889  1.92619  1.743612   \n",
       "4  47  35  2.666667  1.222222  1.500000    2.0  2.502033  1.32439  1.827236   \n",
       "\n",
       "      MeanG   L   W  \n",
       "0  1.804878  33  49  \n",
       "1  1.804878  33  49  \n",
       "2  1.804878  33  49  \n",
       "3  1.804878  33  49  \n",
       "4  2.310976  35  47  "
      ]
     },
     "execution_count": 165,
     "metadata": {},
     "output_type": "execute_result"
    }
   ],
   "source": [
    "dw2['L'] = dw2.apply(lambda x: x['GL'] if x['TeamCode']== x['LossTeam'] else (x['GP'] - x['GW']), 1)\n",
    "dw2['W'] = dw2.apply(lambda x: x['GW'] if x['TeamCode']== x['WinTeam'] else (x['GP'] - x['GL']), 1)\n",
    "dw2.head()"
   ]
  },
  {
   "cell_type": "markdown",
   "metadata": {},
   "source": [
    "- compute win and loss percent by team. Drop duplicate observations."
   ]
  },
  {
   "cell_type": "code",
   "execution_count": 166,
   "metadata": {
    "collapsed": false
   },
   "outputs": [
    {
     "data": {
      "text/html": [
       "<div>\n",
       "<table border=\"1\" class=\"dataframe\">\n",
       "  <thead>\n",
       "    <tr style=\"text-align: right;\">\n",
       "      <th></th>\n",
       "      <th>Season</th>\n",
       "      <th>TeamCode</th>\n",
       "      <th>GP</th>\n",
       "      <th>W</th>\n",
       "      <th>L</th>\n",
       "      <th>GF</th>\n",
       "      <th>GA</th>\n",
       "      <th>WinPc</th>\n",
       "      <th>LossPc</th>\n",
       "      <th>MeanC</th>\n",
       "      <th>MeanW</th>\n",
       "      <th>MeanD</th>\n",
       "      <th>MeanG</th>\n",
       "    </tr>\n",
       "  </thead>\n",
       "  <tbody>\n",
       "    <tr>\n",
       "      <th>0</th>\n",
       "      <td>2011</td>\n",
       "      <td>BOS</td>\n",
       "      <td>82</td>\n",
       "      <td>49</td>\n",
       "      <td>33</td>\n",
       "      <td>279</td>\n",
       "      <td>211</td>\n",
       "      <td>0.597561</td>\n",
       "      <td>0.402439</td>\n",
       "      <td>1.635889</td>\n",
       "      <td>1.926190</td>\n",
       "      <td>1.743612</td>\n",
       "      <td>1.804878</td>\n",
       "    </tr>\n",
       "    <tr>\n",
       "      <th>4</th>\n",
       "      <td>2011</td>\n",
       "      <td>PHI</td>\n",
       "      <td>82</td>\n",
       "      <td>47</td>\n",
       "      <td>35</td>\n",
       "      <td>273</td>\n",
       "      <td>242</td>\n",
       "      <td>0.573171</td>\n",
       "      <td>0.426829</td>\n",
       "      <td>2.502033</td>\n",
       "      <td>1.324390</td>\n",
       "      <td>1.827236</td>\n",
       "      <td>2.310976</td>\n",
       "    </tr>\n",
       "    <tr>\n",
       "      <th>8</th>\n",
       "      <td>2011</td>\n",
       "      <td>MTL</td>\n",
       "      <td>82</td>\n",
       "      <td>31</td>\n",
       "      <td>51</td>\n",
       "      <td>220</td>\n",
       "      <td>235</td>\n",
       "      <td>0.378049</td>\n",
       "      <td>0.621951</td>\n",
       "      <td>2.094803</td>\n",
       "      <td>2.127584</td>\n",
       "      <td>2.011324</td>\n",
       "      <td>2.000000</td>\n",
       "    </tr>\n",
       "    <tr>\n",
       "      <th>12</th>\n",
       "      <td>2011</td>\n",
       "      <td>TOR</td>\n",
       "      <td>82</td>\n",
       "      <td>35</td>\n",
       "      <td>47</td>\n",
       "      <td>235</td>\n",
       "      <td>268</td>\n",
       "      <td>0.426829</td>\n",
       "      <td>0.573171</td>\n",
       "      <td>2.744715</td>\n",
       "      <td>2.013357</td>\n",
       "      <td>1.720383</td>\n",
       "      <td>3.000000</td>\n",
       "    </tr>\n",
       "    <tr>\n",
       "      <th>16</th>\n",
       "      <td>2011</td>\n",
       "      <td>PIT</td>\n",
       "      <td>82</td>\n",
       "      <td>51</td>\n",
       "      <td>31</td>\n",
       "      <td>292</td>\n",
       "      <td>229</td>\n",
       "      <td>0.621951</td>\n",
       "      <td>0.378049</td>\n",
       "      <td>1.815447</td>\n",
       "      <td>1.721453</td>\n",
       "      <td>2.071138</td>\n",
       "      <td>2.219512</td>\n",
       "    </tr>\n",
       "  </tbody>\n",
       "</table>\n",
       "</div>"
      ],
      "text/plain": [
       "    Season TeamCode  GP   W   L   GF   GA     WinPc    LossPc     MeanC  \\\n",
       "0     2011      BOS  82  49  33  279  211  0.597561  0.402439  1.635889   \n",
       "4     2011      PHI  82  47  35  273  242  0.573171  0.426829  2.502033   \n",
       "8     2011      MTL  82  31  51  220  235  0.378049  0.621951  2.094803   \n",
       "12    2011      TOR  82  35  47  235  268  0.426829  0.573171  2.744715   \n",
       "16    2011      PIT  82  51  31  292  229  0.621951  0.378049  1.815447   \n",
       "\n",
       "       MeanW     MeanD     MeanG  \n",
       "0   1.926190  1.743612  1.804878  \n",
       "4   1.324390  1.827236  2.310976  \n",
       "8   2.127584  2.011324  2.000000  \n",
       "12  2.013357  1.720383  3.000000  \n",
       "16  1.721453  2.071138  2.219512  "
      ]
     },
     "execution_count": 166,
     "metadata": {},
     "output_type": "execute_result"
    }
   ],
   "source": [
    "dw2 = dw2[['Season', 'TeamCode', 'GP', 'L', 'W', 'GF', 'GA', 'MeanC', 'MeanW', 'MeanD', 'MeanG']]\n",
    "dw2 = dw2.drop_duplicates(['Season', 'TeamCode'])\n",
    "dw2['WinPc'] = dw2['W']/ dw2['GP']\n",
    "dw2['LossPc'] = dw2['L']/ dw2['GP']\n",
    "\n",
    "dw2 = dw2[['Season', 'TeamCode', 'GP','W', 'L', 'GF', 'GA', 'WinPc', 'LossPc', 'MeanC', 'MeanW', 'MeanD', 'MeanG']]\n",
    "dw2.head()"
   ]
  },
  {
   "cell_type": "markdown",
   "metadata": {},
   "source": [
    "- rank teams based on win percent, mean centres, wingers and defensemen. "
   ]
  },
  {
   "cell_type": "code",
   "execution_count": 172,
   "metadata": {
    "collapsed": false
   },
   "outputs": [
    {
     "data": {
      "text/html": [
       "<div>\n",
       "<table border=\"1\" class=\"dataframe\">\n",
       "  <thead>\n",
       "    <tr style=\"text-align: right;\">\n",
       "      <th></th>\n",
       "      <th>Season</th>\n",
       "      <th>TeamCode</th>\n",
       "      <th>GP</th>\n",
       "      <th>W</th>\n",
       "      <th>L</th>\n",
       "      <th>GF</th>\n",
       "      <th>GA</th>\n",
       "      <th>WinPc</th>\n",
       "      <th>LossPc</th>\n",
       "      <th>MeanC</th>\n",
       "      <th>MeanW</th>\n",
       "      <th>MeanD</th>\n",
       "      <th>MeanG</th>\n",
       "      <th>RankWin</th>\n",
       "      <th>RankC</th>\n",
       "      <th>RankW</th>\n",
       "      <th>RankD</th>\n",
       "      <th>RankG</th>\n",
       "    </tr>\n",
       "  </thead>\n",
       "  <tbody>\n",
       "    <tr>\n",
       "      <th>16</th>\n",
       "      <td>2011</td>\n",
       "      <td>PIT</td>\n",
       "      <td>82</td>\n",
       "      <td>51</td>\n",
       "      <td>31</td>\n",
       "      <td>292</td>\n",
       "      <td>229</td>\n",
       "      <td>0.621951</td>\n",
       "      <td>0.378049</td>\n",
       "      <td>1.815447</td>\n",
       "      <td>1.721453</td>\n",
       "      <td>2.071138</td>\n",
       "      <td>2.219512</td>\n",
       "      <td>2.0</td>\n",
       "      <td>5.0</td>\n",
       "      <td>2.0</td>\n",
       "      <td>24.0</td>\n",
       "      <td>24.0</td>\n",
       "    </tr>\n",
       "    <tr>\n",
       "      <th>20</th>\n",
       "      <td>2011</td>\n",
       "      <td>VAN</td>\n",
       "      <td>82</td>\n",
       "      <td>51</td>\n",
       "      <td>31</td>\n",
       "      <td>259</td>\n",
       "      <td>211</td>\n",
       "      <td>0.621951</td>\n",
       "      <td>0.378049</td>\n",
       "      <td>2.354878</td>\n",
       "      <td>1.869774</td>\n",
       "      <td>1.588560</td>\n",
       "      <td>1.634146</td>\n",
       "      <td>2.0</td>\n",
       "      <td>19.0</td>\n",
       "      <td>6.0</td>\n",
       "      <td>3.0</td>\n",
       "      <td>5.0</td>\n",
       "    </tr>\n",
       "    <tr>\n",
       "      <th>68</th>\n",
       "      <td>2011</td>\n",
       "      <td>NYR</td>\n",
       "      <td>82</td>\n",
       "      <td>51</td>\n",
       "      <td>31</td>\n",
       "      <td>231</td>\n",
       "      <td>192</td>\n",
       "      <td>0.621951</td>\n",
       "      <td>0.378049</td>\n",
       "      <td>2.447880</td>\n",
       "      <td>2.159553</td>\n",
       "      <td>1.908537</td>\n",
       "      <td>1.500000</td>\n",
       "      <td>2.0</td>\n",
       "      <td>25.0</td>\n",
       "      <td>20.0</td>\n",
       "      <td>19.0</td>\n",
       "      <td>4.0</td>\n",
       "    </tr>\n",
       "    <tr>\n",
       "      <th>0</th>\n",
       "      <td>2011</td>\n",
       "      <td>BOS</td>\n",
       "      <td>82</td>\n",
       "      <td>49</td>\n",
       "      <td>33</td>\n",
       "      <td>279</td>\n",
       "      <td>211</td>\n",
       "      <td>0.597561</td>\n",
       "      <td>0.402439</td>\n",
       "      <td>1.635889</td>\n",
       "      <td>1.926190</td>\n",
       "      <td>1.743612</td>\n",
       "      <td>1.804878</td>\n",
       "      <td>4.5</td>\n",
       "      <td>4.0</td>\n",
       "      <td>8.0</td>\n",
       "      <td>10.0</td>\n",
       "      <td>6.0</td>\n",
       "    </tr>\n",
       "    <tr>\n",
       "      <th>116</th>\n",
       "      <td>2011</td>\n",
       "      <td>STL</td>\n",
       "      <td>82</td>\n",
       "      <td>49</td>\n",
       "      <td>33</td>\n",
       "      <td>215</td>\n",
       "      <td>169</td>\n",
       "      <td>0.597561</td>\n",
       "      <td>0.402439</td>\n",
       "      <td>2.331707</td>\n",
       "      <td>2.101239</td>\n",
       "      <td>1.776423</td>\n",
       "      <td>1.000000</td>\n",
       "      <td>4.5</td>\n",
       "      <td>18.0</td>\n",
       "      <td>16.0</td>\n",
       "      <td>11.0</td>\n",
       "      <td>1.0</td>\n",
       "    </tr>\n",
       "  </tbody>\n",
       "</table>\n",
       "</div>"
      ],
      "text/plain": [
       "     Season TeamCode  GP   W   L   GF   GA     WinPc    LossPc     MeanC  \\\n",
       "16     2011      PIT  82  51  31  292  229  0.621951  0.378049  1.815447   \n",
       "20     2011      VAN  82  51  31  259  211  0.621951  0.378049  2.354878   \n",
       "68     2011      NYR  82  51  31  231  192  0.621951  0.378049  2.447880   \n",
       "0      2011      BOS  82  49  33  279  211  0.597561  0.402439  1.635889   \n",
       "116    2011      STL  82  49  33  215  169  0.597561  0.402439  2.331707   \n",
       "\n",
       "        MeanW     MeanD     MeanG  RankWin  RankC  RankW  RankD  RankG  \n",
       "16   1.721453  2.071138  2.219512      2.0    5.0    2.0   24.0   24.0  \n",
       "20   1.869774  1.588560  1.634146      2.0   19.0    6.0    3.0    5.0  \n",
       "68   2.159553  1.908537  1.500000      2.0   25.0   20.0   19.0    4.0  \n",
       "0    1.926190  1.743612  1.804878      4.5    4.0    8.0   10.0    6.0  \n",
       "116  2.101239  1.776423  1.000000      4.5   18.0   16.0   11.0    1.0  "
      ]
     },
     "execution_count": 172,
     "metadata": {},
     "output_type": "execute_result"
    }
   ],
   "source": [
    "dw2['RankWin'] = dw2.groupby(['Season'])['WinPc'].rank(ascending=False)\n",
    "dw2['RankC'] = dw2.groupby(['Season'])['MeanC'].rank(ascending=True)\n",
    "dw2['RankW'] = dw2.groupby(['Season'])['MeanW'].rank(ascending=True)\n",
    "dw2['RankD'] = dw2.groupby(['Season'])['MeanD'].rank(ascending=True)\n",
    "dw2['RankG'] = dw2.groupby(['Season'])['MeanG'].rank(ascending=True)\n",
    "dw2 = dw2.sort_values(['Season', 'RankWin', 'RankC', 'RankW', 'RankD', 'RankD'], ascending=[True, True, True, True, True, True])\n",
    "dw2.head()"
   ]
  },
  {
   "cell_type": "code",
   "execution_count": 173,
   "metadata": {
    "collapsed": true
   },
   "outputs": [],
   "source": [
    "dw2.to_csv('/Users/stefanostselios/Brock University/Kevin Mongeon - StephanosShare/out/data/2011_2017_season_team_roster_rank.csv', index='False', sep=',')\n",
    "#dw2.to_csv('/Users/kevinmongeon/Brock University/Steve Tselios - StephanosShare/out/data/2011_2017_season_team_roster_rank.csv', index='False', sep=',')"
   ]
  },
  {
   "cell_type": "markdown",
   "metadata": {},
   "source": [
    "### keep games that have 12 forwards and 6 defensemen per team!!"
   ]
  },
  {
   "cell_type": "code",
   "execution_count": 174,
   "metadata": {
    "collapsed": false
   },
   "outputs": [
    {
     "data": {
      "text/plain": [
       "(310611, 17)"
      ]
     },
     "execution_count": 174,
     "metadata": {},
     "output_type": "execute_result"
    }
   ],
   "source": [
    "du = dw.copy()\n",
    "du.shape"
   ]
  },
  {
   "cell_type": "code",
   "execution_count": 175,
   "metadata": {
    "collapsed": false
   },
   "outputs": [
    {
     "data": {
      "text/html": [
       "<div>\n",
       "<table border=\"1\" class=\"dataframe\">\n",
       "  <thead>\n",
       "    <tr style=\"text-align: right;\">\n",
       "      <th></th>\n",
       "      <th>Season</th>\n",
       "      <th>GameNumber</th>\n",
       "      <th>TeamCode</th>\n",
       "      <th>PlayerName</th>\n",
       "      <th>Position</th>\n",
       "      <th>Rank</th>\n",
       "      <th>GF</th>\n",
       "      <th>GA</th>\n",
       "      <th>GD</th>\n",
       "      <th>WinTeam</th>\n",
       "      <th>LossTeam</th>\n",
       "      <th>RosterCount</th>\n",
       "      <th>PositionCount</th>\n",
       "      <th>CCount</th>\n",
       "      <th>WCount</th>\n",
       "      <th>DCount</th>\n",
       "      <th>GCount</th>\n",
       "      <th>FCount</th>\n",
       "    </tr>\n",
       "  </thead>\n",
       "  <tbody>\n",
       "    <tr>\n",
       "      <th>0</th>\n",
       "      <td>2011</td>\n",
       "      <td>20001</td>\n",
       "      <td>PHI</td>\n",
       "      <td>DANNY BRIERE</td>\n",
       "      <td>W</td>\n",
       "      <td>1.0</td>\n",
       "      <td>2</td>\n",
       "      <td>1</td>\n",
       "      <td>-1</td>\n",
       "      <td>PHI</td>\n",
       "      <td>BOS</td>\n",
       "      <td>19</td>\n",
       "      <td>9</td>\n",
       "      <td>3.0</td>\n",
       "      <td>9.0</td>\n",
       "      <td>6.0</td>\n",
       "      <td>1.0</td>\n",
       "      <td>12.0</td>\n",
       "    </tr>\n",
       "    <tr>\n",
       "      <th>5</th>\n",
       "      <td>2011</td>\n",
       "      <td>20001</td>\n",
       "      <td>PHI</td>\n",
       "      <td>CLAUDE GIROUX</td>\n",
       "      <td>W</td>\n",
       "      <td>1.0</td>\n",
       "      <td>2</td>\n",
       "      <td>1</td>\n",
       "      <td>-1</td>\n",
       "      <td>PHI</td>\n",
       "      <td>BOS</td>\n",
       "      <td>19</td>\n",
       "      <td>9</td>\n",
       "      <td>3.0</td>\n",
       "      <td>9.0</td>\n",
       "      <td>6.0</td>\n",
       "      <td>1.0</td>\n",
       "      <td>12.0</td>\n",
       "    </tr>\n",
       "    <tr>\n",
       "      <th>8</th>\n",
       "      <td>2011</td>\n",
       "      <td>20001</td>\n",
       "      <td>PHI</td>\n",
       "      <td>SEAN COUTURIER</td>\n",
       "      <td>C</td>\n",
       "      <td>2.0</td>\n",
       "      <td>2</td>\n",
       "      <td>1</td>\n",
       "      <td>-1</td>\n",
       "      <td>PHI</td>\n",
       "      <td>BOS</td>\n",
       "      <td>19</td>\n",
       "      <td>3</td>\n",
       "      <td>3.0</td>\n",
       "      <td>9.0</td>\n",
       "      <td>6.0</td>\n",
       "      <td>1.0</td>\n",
       "      <td>12.0</td>\n",
       "    </tr>\n",
       "    <tr>\n",
       "      <th>9</th>\n",
       "      <td>2011</td>\n",
       "      <td>20001</td>\n",
       "      <td>PHI</td>\n",
       "      <td>MAX TALBOT</td>\n",
       "      <td>C</td>\n",
       "      <td>2.0</td>\n",
       "      <td>2</td>\n",
       "      <td>1</td>\n",
       "      <td>-1</td>\n",
       "      <td>PHI</td>\n",
       "      <td>BOS</td>\n",
       "      <td>19</td>\n",
       "      <td>3</td>\n",
       "      <td>3.0</td>\n",
       "      <td>9.0</td>\n",
       "      <td>6.0</td>\n",
       "      <td>1.0</td>\n",
       "      <td>12.0</td>\n",
       "    </tr>\n",
       "    <tr>\n",
       "      <th>23</th>\n",
       "      <td>2011</td>\n",
       "      <td>20001</td>\n",
       "      <td>PHI</td>\n",
       "      <td>ZAC RINALDO</td>\n",
       "      <td>C</td>\n",
       "      <td>4.0</td>\n",
       "      <td>2</td>\n",
       "      <td>1</td>\n",
       "      <td>-1</td>\n",
       "      <td>PHI</td>\n",
       "      <td>BOS</td>\n",
       "      <td>19</td>\n",
       "      <td>3</td>\n",
       "      <td>3.0</td>\n",
       "      <td>9.0</td>\n",
       "      <td>6.0</td>\n",
       "      <td>1.0</td>\n",
       "      <td>12.0</td>\n",
       "    </tr>\n",
       "  </tbody>\n",
       "</table>\n",
       "</div>"
      ],
      "text/plain": [
       "    Season  GameNumber TeamCode      PlayerName Position  Rank  GF  GA  GD  \\\n",
       "0     2011       20001      PHI    DANNY BRIERE        W   1.0   2   1  -1   \n",
       "5     2011       20001      PHI   CLAUDE GIROUX        W   1.0   2   1  -1   \n",
       "8     2011       20001      PHI  SEAN COUTURIER        C   2.0   2   1  -1   \n",
       "9     2011       20001      PHI      MAX TALBOT        C   2.0   2   1  -1   \n",
       "23    2011       20001      PHI     ZAC RINALDO        C   4.0   2   1  -1   \n",
       "\n",
       "   WinTeam LossTeam  RosterCount  PositionCount  CCount  WCount  DCount  \\\n",
       "0      PHI      BOS           19              9     3.0     9.0     6.0   \n",
       "5      PHI      BOS           19              9     3.0     9.0     6.0   \n",
       "8      PHI      BOS           19              3     3.0     9.0     6.0   \n",
       "9      PHI      BOS           19              3     3.0     9.0     6.0   \n",
       "23     PHI      BOS           19              3     3.0     9.0     6.0   \n",
       "\n",
       "    GCount  FCount  \n",
       "0      1.0    12.0  \n",
       "5      1.0    12.0  \n",
       "8      1.0    12.0  \n",
       "9      1.0    12.0  \n",
       "23     1.0    12.0  "
      ]
     },
     "execution_count": 175,
     "metadata": {},
     "output_type": "execute_result"
    }
   ],
   "source": [
    "du['FCount'] = du['CCount']+ du['WCount']\n",
    "du.head()"
   ]
  },
  {
   "cell_type": "code",
   "execution_count": 176,
   "metadata": {
    "collapsed": false
   },
   "outputs": [
    {
     "data": {
      "text/plain": [
       "(277752, 18)"
      ]
     },
     "execution_count": 176,
     "metadata": {},
     "output_type": "execute_result"
    }
   ],
   "source": [
    "du = du.groupby(['Season', 'GameNumber']).filter(lambda x: ((x['FCount'] == 12) & (x['DCount'] == 6)).all())\n",
    "du.shape"
   ]
  },
  {
   "cell_type": "code",
   "execution_count": 177,
   "metadata": {
    "collapsed": true
   },
   "outputs": [],
   "source": [
    "du.to_csv('/Users/stefanostselios/Brock University/Kevin Mongeon - StephanosShare/out/data/2011_2017_12f_6d_g_game_team.csv', index='False', sep=',')\n",
    "#du.to_csv('/Users/kevinmongeon/Brock University/Steve Tselios - StephanosShare/out/data/2011_2017_12f_6d_g_game_team.csv', index='False', sep=',')"
   ]
  },
  {
   "cell_type": "markdown",
   "metadata": {},
   "source": [
    "### keep games that have 4 C, 8 W, 6 D and 1G per team!!!!"
   ]
  },
  {
   "cell_type": "code",
   "execution_count": 178,
   "metadata": {
    "collapsed": false
   },
   "outputs": [
    {
     "data": {
      "text/plain": [
       "(310611, 17)"
      ]
     },
     "execution_count": 178,
     "metadata": {},
     "output_type": "execute_result"
    }
   ],
   "source": [
    "dy = dw.copy()\n",
    "dy.shape"
   ]
  },
  {
   "cell_type": "code",
   "execution_count": 179,
   "metadata": {
    "collapsed": false
   },
   "outputs": [
    {
     "data": {
      "text/plain": [
       "(10982, 17)"
      ]
     },
     "execution_count": 179,
     "metadata": {},
     "output_type": "execute_result"
    }
   ],
   "source": [
    "dy = dy.groupby(['Season', 'GameNumber']).filter(lambda x: ((x['CCount'] == 4) & (x['WCount'] == 8) & (x['DCount'] == 6) & (x['GCount'] == 1)).all())\n",
    "dy.shape"
   ]
  },
  {
   "cell_type": "code",
   "execution_count": 180,
   "metadata": {
    "collapsed": true
   },
   "outputs": [],
   "source": [
    "dy.to_csv('/Users/stefanostselios/Brock University/Kevin Mongeon - StephanosShare/out/data/2011_2017_4c_8w_6d_1g_game_team.csv', index='False', sep=',')\n",
    "#dy.to_csv('/Users/kevinmongeon/Brock University/Steve Tselios - StephanosShare/out/data/2011_2017_4c_8w_6d_1g_game_team.csv', index='False', sep=',')"
   ]
  },
  {
   "cell_type": "code",
   "execution_count": null,
   "metadata": {
    "collapsed": true
   },
   "outputs": [],
   "source": []
  }
 ],
 "metadata": {
  "kernelspec": {
   "display_name": "Python 3",
   "language": "python",
   "name": "python3"
  },
  "language_info": {
   "codemirror_mode": {
    "name": "ipython",
    "version": 3
   },
   "file_extension": ".py",
   "mimetype": "text/x-python",
   "name": "python",
   "nbconvert_exporter": "python",
   "pygments_lexer": "ipython3",
   "version": "3.6.0"
  }
 },
 "nbformat": 4,
 "nbformat_minor": 2
}
