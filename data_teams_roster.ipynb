{
 "cells": [
  {
   "cell_type": "code",
   "execution_count": 200,
   "metadata": {
    "collapsed": true
   },
   "outputs": [],
   "source": [
    "import sys\n",
    "import os\n",
    "import pandas as pd\n",
    "import numpy as np\n",
    "import datetime, time\n",
    "import matplotlib.pyplot as plt\n",
    "import statsmodels.api as sm\n",
    "from statsmodels.formula.api import ols\n",
    "from pylab import hist, show\n",
    "import scipy\n",
    "import zipfile\n",
    "\n",
    "\n",
    "pd.set_option('display.max_rows', 50)\n",
    "pd.set_option('display.max_columns', 200)"
   ]
  },
  {
   "cell_type": "code",
   "execution_count": 201,
   "metadata": {
    "collapsed": false
   },
   "outputs": [
    {
     "data": {
      "text/plain": [
       "'/Users/stefanostselios/Desktop/nhl_roster_design-master'"
      ]
     },
     "execution_count": 201,
     "metadata": {},
     "output_type": "execute_result"
    }
   ],
   "source": [
    "pwd"
   ]
  },
  {
   "cell_type": "markdown",
   "metadata": {},
   "source": [
    "## import data set"
   ]
  },
  {
   "cell_type": "code",
   "execution_count": 202,
   "metadata": {
    "collapsed": false
   },
   "outputs": [],
   "source": [
    "dm = pd.read_csv('pbp_merged.csv')\n",
    "dm = dm.drop('Unnamed: 0', axis=1)"
   ]
  },
  {
   "cell_type": "markdown",
   "metadata": {},
   "source": [
    "- keep only regular season games and drop irrelevant observations. Exclude overtime and shootouts."
   ]
  },
  {
   "cell_type": "code",
   "execution_count": 203,
   "metadata": {
    "collapsed": true
   },
   "outputs": [],
   "source": [
    "dm = dm[dm['GameNumber'] <= 21230]"
   ]
  },
  {
   "cell_type": "code",
   "execution_count": 204,
   "metadata": {
    "collapsed": true
   },
   "outputs": [],
   "source": [
    "dm = dm[dm['EventType']!='STOP']\n",
    "dm = dm[dm['EventType']!='EISTR']\n",
    "dm = dm[dm['EventType']!='EIEND']"
   ]
  },
  {
   "cell_type": "code",
   "execution_count": 205,
   "metadata": {
    "collapsed": true
   },
   "outputs": [],
   "source": [
    "dm = dm[dm['Period'] <= 3]\n",
    "dm = dm[dm['Period'] >= 1]"
   ]
  },
  {
   "cell_type": "code",
   "execution_count": 206,
   "metadata": {
    "collapsed": false
   },
   "outputs": [
    {
     "data": {
      "text/plain": [
       "(310113, 44)"
      ]
     },
     "execution_count": 206,
     "metadata": {},
     "output_type": "execute_result"
    }
   ],
   "source": [
    "dm.shape"
   ]
  },
  {
   "cell_type": "markdown",
   "metadata": {},
   "source": [
    "### reshape the data set from wide to long."
   ]
  },
  {
   "cell_type": "code",
   "execution_count": 207,
   "metadata": {
    "collapsed": true
   },
   "outputs": [],
   "source": [
    "dm = dm.sort_values(['Season', 'GameNumber', 'Period', 'EventNumber'], ascending=[True, True, True, True])"
   ]
  },
  {
   "cell_type": "code",
   "execution_count": 208,
   "metadata": {
    "collapsed": true
   },
   "outputs": [],
   "source": [
    "a = [col for col in dm.columns if 'VPlayer' in col]\n",
    "b = [col for col in dm.columns if 'HPlayer' in col]\n",
    "c = [col for col in dm.columns if 'VPosition' in col]\n",
    "d = [col for col in dm.columns if 'HPosition' in col]\n",
    "dm = pd.lreshape(dm, {'VPlayer' : a, 'HPlayer' : b, 'VPosition' : c, 'HPosition': d})"
   ]
  },
  {
   "cell_type": "code",
   "execution_count": 209,
   "metadata": {
    "collapsed": false
   },
   "outputs": [
    {
     "data": {
      "text/plain": [
       "(1796745, 24)"
      ]
     },
     "execution_count": 209,
     "metadata": {},
     "output_type": "execute_result"
    }
   ],
   "source": [
    "dm.shape"
   ]
  },
  {
   "cell_type": "code",
   "execution_count": 210,
   "metadata": {
    "collapsed": false
   },
   "outputs": [
    {
     "data": {
      "text/plain": [
       "Index(['AdvantageType', 'EventDetail', 'EventNumber', 'EventTimeFromTwenty',\n",
       "       'EventTimeFromZero', 'EventType', 'GameDate', 'GameNumber', 'HTeamCode',\n",
       "       'Length', 'PenaltyType', 'Period', 'PlayerName', 'PlayerNumber',\n",
       "       'Season', 'ShotResult', 'ShotType', 'TeamCode', 'VTeamCode', 'Zone',\n",
       "       'VPlayer', 'HPlayer', 'VPosition', 'HPosition'],\n",
       "      dtype='object')"
      ]
     },
     "execution_count": 210,
     "metadata": {},
     "output_type": "execute_result"
    }
   ],
   "source": [
    "dm.columns"
   ]
  },
  {
   "cell_type": "code",
   "execution_count": 211,
   "metadata": {
    "collapsed": true
   },
   "outputs": [],
   "source": [
    "dm = dm.rename(columns={'PlayerNumber': 'EventPlayerNumber', 'TeamCode': 'EventTeamCode', 'PlayerName': 'EventPlayerName' })\n",
    "dm = dm[['Season', 'GameNumber', 'GameDate', 'Period', 'AdvantageType', 'Zone', 'EventNumber', 'EventType', 'EventDetail', 'EventTeamCode', 'EventPlayerNumber', 'EventPlayerName', 'EventTimeFromZero', 'EventTimeFromTwenty', 'VTeamCode', 'VPlayer', 'VPosition', 'HTeamCode', 'HPlayer', 'HPosition', 'ShotType', 'ShotResult', 'Length', 'PenaltyType']]"
   ]
  },
  {
   "cell_type": "code",
   "execution_count": 212,
   "metadata": {
    "collapsed": true
   },
   "outputs": [],
   "source": [
    "dm = dm.sort_values(['Season', 'GameNumber', 'Period', 'EventNumber'], ascending=[True, True, True, True])"
   ]
  },
  {
   "cell_type": "code",
   "execution_count": 213,
   "metadata": {
    "collapsed": true
   },
   "outputs": [],
   "source": [
    "dm['AdvantageType'] = dm['AdvantageType'].fillna('EV')\n",
    "dm['EventPlayerNumber'] = dm['EventPlayerNumber'].fillna('TEAM')"
   ]
  },
  {
   "cell_type": "code",
   "execution_count": 214,
   "metadata": {
    "collapsed": true
   },
   "outputs": [],
   "source": [
    "dm.to_csv('play_by_play.csv', index='False', sep=',')"
   ]
  },
  {
   "cell_type": "markdown",
   "metadata": {},
   "source": [
    "### create new data set and keep variables: \n",
    "#### - (a) game number.\n",
    "#### - (b) visitor team information.\n",
    "#### - (c) home team information."
   ]
  },
  {
   "cell_type": "code",
   "execution_count": 215,
   "metadata": {
    "collapsed": true
   },
   "outputs": [],
   "source": [
    "df = dm[['Season', 'GameNumber', 'VTeamCode', 'VPlayer', 'VPosition', 'HTeamCode', 'HPlayer', 'HPosition']]\n",
    "df = df.sort_values(['Season', 'GameNumber'], ascending=[True, True])"
   ]
  },
  {
   "cell_type": "code",
   "execution_count": 216,
   "metadata": {
    "collapsed": false
   },
   "outputs": [
    {
     "data": {
      "text/html": [
       "<div>\n",
       "<table border=\"1\" class=\"dataframe\">\n",
       "  <thead>\n",
       "    <tr style=\"text-align: right;\">\n",
       "      <th></th>\n",
       "      <th>Season</th>\n",
       "      <th>GameNumber</th>\n",
       "      <th>VTeamCode</th>\n",
       "      <th>VPlayer</th>\n",
       "      <th>VPosition</th>\n",
       "      <th>HTeamCode</th>\n",
       "      <th>HPlayer</th>\n",
       "      <th>HPosition</th>\n",
       "    </tr>\n",
       "  </thead>\n",
       "  <tbody>\n",
       "    <tr>\n",
       "      <th>0</th>\n",
       "      <td>2010</td>\n",
       "      <td>20001</td>\n",
       "      <td>MTL</td>\n",
       "      <td>11.0</td>\n",
       "      <td>C</td>\n",
       "      <td>TOR</td>\n",
       "      <td>37.0</td>\n",
       "      <td>C</td>\n",
       "    </tr>\n",
       "    <tr>\n",
       "      <th>310113</th>\n",
       "      <td>2010</td>\n",
       "      <td>20001</td>\n",
       "      <td>MTL</td>\n",
       "      <td>21.0</td>\n",
       "      <td>R</td>\n",
       "      <td>TOR</td>\n",
       "      <td>9.0</td>\n",
       "      <td>R</td>\n",
       "    </tr>\n",
       "    <tr>\n",
       "      <th>620126</th>\n",
       "      <td>2010</td>\n",
       "      <td>20001</td>\n",
       "      <td>MTL</td>\n",
       "      <td>57.0</td>\n",
       "      <td>L</td>\n",
       "      <td>TOR</td>\n",
       "      <td>11.0</td>\n",
       "      <td>L</td>\n",
       "    </tr>\n",
       "    <tr>\n",
       "      <th>930061</th>\n",
       "      <td>2010</td>\n",
       "      <td>20001</td>\n",
       "      <td>MTL</td>\n",
       "      <td>26.0</td>\n",
       "      <td>D</td>\n",
       "      <td>TOR</td>\n",
       "      <td>3.0</td>\n",
       "      <td>D</td>\n",
       "    </tr>\n",
       "    <tr>\n",
       "      <th>1239931</th>\n",
       "      <td>2010</td>\n",
       "      <td>20001</td>\n",
       "      <td>MTL</td>\n",
       "      <td>75.0</td>\n",
       "      <td>D</td>\n",
       "      <td>TOR</td>\n",
       "      <td>22.0</td>\n",
       "      <td>D</td>\n",
       "    </tr>\n",
       "  </tbody>\n",
       "</table>\n",
       "</div>"
      ],
      "text/plain": [
       "         Season  GameNumber VTeamCode  VPlayer VPosition HTeamCode  HPlayer  \\\n",
       "0          2010       20001       MTL     11.0         C       TOR     37.0   \n",
       "310113     2010       20001       MTL     21.0         R       TOR      9.0   \n",
       "620126     2010       20001       MTL     57.0         L       TOR     11.0   \n",
       "930061     2010       20001       MTL     26.0         D       TOR      3.0   \n",
       "1239931    2010       20001       MTL     75.0         D       TOR     22.0   \n",
       "\n",
       "        HPosition  \n",
       "0               C  \n",
       "310113          R  \n",
       "620126          L  \n",
       "930061          D  \n",
       "1239931         D  "
      ]
     },
     "execution_count": 216,
     "metadata": {},
     "output_type": "execute_result"
    }
   ],
   "source": [
    "df.head()"
   ]
  },
  {
   "cell_type": "markdown",
   "metadata": {},
   "source": [
    "- reshape the data to have home and visitor team observatons under the same coloumns. "
   ]
  },
  {
   "cell_type": "code",
   "execution_count": 217,
   "metadata": {
    "collapsed": true
   },
   "outputs": [],
   "source": [
    "a = [col for col in df.columns if 'Player' in col]\n",
    "b = [col for col in df.columns if 'Position' in col]\n",
    "c = [col for col in df.columns if 'TeamCode' in col]\n",
    "df = pd.lreshape(df, {'Player' : a, 'Position' : b, 'TeamCode' : c})"
   ]
  },
  {
   "cell_type": "code",
   "execution_count": 218,
   "metadata": {
    "collapsed": false
   },
   "outputs": [
    {
     "data": {
      "text/html": [
       "<div>\n",
       "<table border=\"1\" class=\"dataframe\">\n",
       "  <thead>\n",
       "    <tr style=\"text-align: right;\">\n",
       "      <th></th>\n",
       "      <th>GameNumber</th>\n",
       "      <th>Season</th>\n",
       "      <th>Player</th>\n",
       "      <th>Position</th>\n",
       "      <th>TeamCode</th>\n",
       "    </tr>\n",
       "  </thead>\n",
       "  <tbody>\n",
       "    <tr>\n",
       "      <th>0</th>\n",
       "      <td>20001</td>\n",
       "      <td>2010</td>\n",
       "      <td>11.0</td>\n",
       "      <td>C</td>\n",
       "      <td>MTL</td>\n",
       "    </tr>\n",
       "    <tr>\n",
       "      <th>1</th>\n",
       "      <td>20001</td>\n",
       "      <td>2010</td>\n",
       "      <td>21.0</td>\n",
       "      <td>R</td>\n",
       "      <td>MTL</td>\n",
       "    </tr>\n",
       "    <tr>\n",
       "      <th>2</th>\n",
       "      <td>20001</td>\n",
       "      <td>2010</td>\n",
       "      <td>57.0</td>\n",
       "      <td>L</td>\n",
       "      <td>MTL</td>\n",
       "    </tr>\n",
       "    <tr>\n",
       "      <th>3</th>\n",
       "      <td>20001</td>\n",
       "      <td>2010</td>\n",
       "      <td>26.0</td>\n",
       "      <td>D</td>\n",
       "      <td>MTL</td>\n",
       "    </tr>\n",
       "    <tr>\n",
       "      <th>4</th>\n",
       "      <td>20001</td>\n",
       "      <td>2010</td>\n",
       "      <td>75.0</td>\n",
       "      <td>D</td>\n",
       "      <td>MTL</td>\n",
       "    </tr>\n",
       "  </tbody>\n",
       "</table>\n",
       "</div>"
      ],
      "text/plain": [
       "   GameNumber  Season  Player Position TeamCode\n",
       "0       20001    2010    11.0        C      MTL\n",
       "1       20001    2010    21.0        R      MTL\n",
       "2       20001    2010    57.0        L      MTL\n",
       "3       20001    2010    26.0        D      MTL\n",
       "4       20001    2010    75.0        D      MTL"
      ]
     },
     "execution_count": 218,
     "metadata": {},
     "output_type": "execute_result"
    }
   ],
   "source": [
    "df.head()"
   ]
  },
  {
   "cell_type": "markdown",
   "metadata": {},
   "source": [
    "#### display each player by team per game. Drop duplicates."
   ]
  },
  {
   "cell_type": "code",
   "execution_count": 219,
   "metadata": {
    "collapsed": true
   },
   "outputs": [],
   "source": [
    "df = df.drop_duplicates(['GameNumber', 'TeamCode', 'Player'])\n",
    "df = df[['Season', 'GameNumber', 'TeamCode', 'Player', 'Position']]\n",
    "df = df.rename(columns={'Player': 'PlayerNumber', 'Position': 'PlayerPosition' })\n",
    "df = df.sort_values(['Season', 'GameNumber', 'TeamCode', 'PlayerPosition', 'PlayerNumber'], ascending=[True, True, True, True, True])"
   ]
  },
  {
   "cell_type": "code",
   "execution_count": 220,
   "metadata": {
    "collapsed": false
   },
   "outputs": [
    {
     "data": {
      "text/plain": [
       "(46920, 5)"
      ]
     },
     "execution_count": 220,
     "metadata": {},
     "output_type": "execute_result"
    }
   ],
   "source": [
    "df.shape"
   ]
  },
  {
   "cell_type": "markdown",
   "metadata": {},
   "source": [
    "- drop goalies."
   ]
  },
  {
   "cell_type": "code",
   "execution_count": 221,
   "metadata": {
    "collapsed": false
   },
   "outputs": [],
   "source": [
    "df = df[df['PlayerPosition'] !='G']"
   ]
  },
  {
   "cell_type": "markdown",
   "metadata": {},
   "source": [
    "- import player rankings."
   ]
  },
  {
   "cell_type": "code",
   "execution_count": 222,
   "metadata": {
    "collapsed": false
   },
   "outputs": [],
   "source": [
    "dp = pd.read_csv('player_rank_manual.csv')\n",
    "dp = dp.drop('Unnamed: 0', axis=1)"
   ]
  },
  {
   "cell_type": "code",
   "execution_count": 223,
   "metadata": {
    "collapsed": true
   },
   "outputs": [],
   "source": [
    "df = pd.merge(df, dp, on=['Season', 'TeamCode', 'PlayerNumber', 'PlayerPosition'], how='left')"
   ]
  },
  {
   "cell_type": "markdown",
   "metadata": {},
   "source": [
    "- count the number of players by team per game and display roster."
   ]
  },
  {
   "cell_type": "code",
   "execution_count": 224,
   "metadata": {
    "collapsed": false
   },
   "outputs": [],
   "source": [
    "df['playercount'] = df.groupby(['Season', 'GameNumber', 'TeamCode', 'PlayerNumber',])['PlayerNumber'].transform('count')"
   ]
  },
  {
   "cell_type": "code",
   "execution_count": 225,
   "metadata": {
    "collapsed": false
   },
   "outputs": [],
   "source": [
    "df['roster'] = df.groupby(['Season', 'GameNumber', 'TeamCode'])['playercount'].transform('sum')"
   ]
  },
  {
   "cell_type": "markdown",
   "metadata": {},
   "source": [
    "- create a data frame will player ranking per game by team."
   ]
  },
  {
   "cell_type": "code",
   "execution_count": 226,
   "metadata": {
    "collapsed": false
   },
   "outputs": [],
   "source": [
    "dr = df[['Season', 'GameNumber', 'TeamCode', 'roster','PlayerNumber', 'PlayerPosition', 'Rank']]"
   ]
  },
  {
   "cell_type": "markdown",
   "metadata": {},
   "source": [
    "- reshape data from long to wide."
   ]
  },
  {
   "cell_type": "code",
   "execution_count": 227,
   "metadata": {
    "collapsed": false
   },
   "outputs": [
    {
     "data": {
      "text/html": [
       "<div>\n",
       "<table border=\"1\" class=\"dataframe\">\n",
       "  <thead>\n",
       "    <tr style=\"text-align: right;\">\n",
       "      <th></th>\n",
       "      <th>Season</th>\n",
       "      <th>GameNumber</th>\n",
       "      <th>TeamCode</th>\n",
       "      <th>roster</th>\n",
       "      <th>PlayerNumber</th>\n",
       "      <th>PlayerPosition</th>\n",
       "      <th>Rank</th>\n",
       "    </tr>\n",
       "  </thead>\n",
       "  <tbody>\n",
       "    <tr>\n",
       "      <th>0</th>\n",
       "      <td>2010</td>\n",
       "      <td>20001</td>\n",
       "      <td>MTL</td>\n",
       "      <td>18.0</td>\n",
       "      <td>11.0</td>\n",
       "      <td>C</td>\n",
       "      <td>2</td>\n",
       "    </tr>\n",
       "    <tr>\n",
       "      <th>1</th>\n",
       "      <td>2010</td>\n",
       "      <td>20001</td>\n",
       "      <td>MTL</td>\n",
       "      <td>18.0</td>\n",
       "      <td>14.0</td>\n",
       "      <td>C</td>\n",
       "      <td>1</td>\n",
       "    </tr>\n",
       "    <tr>\n",
       "      <th>2</th>\n",
       "      <td>2010</td>\n",
       "      <td>20001</td>\n",
       "      <td>MTL</td>\n",
       "      <td>18.0</td>\n",
       "      <td>15.0</td>\n",
       "      <td>C</td>\n",
       "      <td>2</td>\n",
       "    </tr>\n",
       "    <tr>\n",
       "      <th>3</th>\n",
       "      <td>2010</td>\n",
       "      <td>20001</td>\n",
       "      <td>MTL</td>\n",
       "      <td>18.0</td>\n",
       "      <td>17.0</td>\n",
       "      <td>C</td>\n",
       "      <td>2</td>\n",
       "    </tr>\n",
       "    <tr>\n",
       "      <th>4</th>\n",
       "      <td>2010</td>\n",
       "      <td>20001</td>\n",
       "      <td>MTL</td>\n",
       "      <td>18.0</td>\n",
       "      <td>40.0</td>\n",
       "      <td>C</td>\n",
       "      <td>2</td>\n",
       "    </tr>\n",
       "  </tbody>\n",
       "</table>\n",
       "</div>"
      ],
      "text/plain": [
       "   Season  GameNumber TeamCode  roster  PlayerNumber PlayerPosition  Rank\n",
       "0    2010       20001      MTL    18.0          11.0              C     2\n",
       "1    2010       20001      MTL    18.0          14.0              C     1\n",
       "2    2010       20001      MTL    18.0          15.0              C     2\n",
       "3    2010       20001      MTL    18.0          17.0              C     2\n",
       "4    2010       20001      MTL    18.0          40.0              C     2"
      ]
     },
     "execution_count": 227,
     "metadata": {},
     "output_type": "execute_result"
    }
   ],
   "source": [
    "dr.head()"
   ]
  },
  {
   "cell_type": "code",
   "execution_count": 228,
   "metadata": {
    "collapsed": true
   },
   "outputs": [],
   "source": [
    "dr.to_csv('data_teams_roster.csv', index='False', sep=',')"
   ]
  },
  {
   "cell_type": "markdown",
   "metadata": {
    "collapsed": true
   },
   "source": [
    "### Pivot Table"
   ]
  },
  {
   "cell_type": "markdown",
   "metadata": {},
   "source": [
    "- the next step is to group players by gamenumber, teamcode, position and rank, to display the quality of players each team has per position. **Pivot table** by player position using rank values. Game number and team are the indexes. We want to join the levels to generate columns by roster position and rank (10 columns). \n"
   ]
  },
  {
   "cell_type": "code",
   "execution_count": 229,
   "metadata": {
    "collapsed": false
   },
   "outputs": [],
   "source": [
    "df = pd.pivot_table(df, index=['Season', 'GameNumber', 'TeamCode', 'roster'], columns=['PlayerPosition'], values=['Rank'])\n",
    "df = df.reset_index()\n",
    "df.columns = ['_'.join(str(s).strip() for s in col if s) for col in df.columns]\n",
    "df.reset_index()\n",
    "df = df.fillna(0)"
   ]
  },
  {
   "cell_type": "code",
   "execution_count": 230,
   "metadata": {
    "collapsed": false
   },
   "outputs": [
    {
     "data": {
      "text/html": [
       "<div>\n",
       "<table border=\"1\" class=\"dataframe\">\n",
       "  <thead>\n",
       "    <tr style=\"text-align: right;\">\n",
       "      <th></th>\n",
       "      <th>Season</th>\n",
       "      <th>GameNumber</th>\n",
       "      <th>TeamCode</th>\n",
       "      <th>roster</th>\n",
       "      <th>Rank_C</th>\n",
       "      <th>Rank_D</th>\n",
       "      <th>Rank_L</th>\n",
       "      <th>Rank_R</th>\n",
       "    </tr>\n",
       "  </thead>\n",
       "  <tbody>\n",
       "    <tr>\n",
       "      <th>0</th>\n",
       "      <td>2010</td>\n",
       "      <td>20001</td>\n",
       "      <td>MTL</td>\n",
       "      <td>18.0</td>\n",
       "      <td>1.857143</td>\n",
       "      <td>1.833333</td>\n",
       "      <td>2.000000</td>\n",
       "      <td>2.00</td>\n",
       "    </tr>\n",
       "    <tr>\n",
       "      <th>1</th>\n",
       "      <td>2010</td>\n",
       "      <td>20001</td>\n",
       "      <td>TOR</td>\n",
       "      <td>18.0</td>\n",
       "      <td>1.600000</td>\n",
       "      <td>1.833333</td>\n",
       "      <td>1.333333</td>\n",
       "      <td>2.00</td>\n",
       "    </tr>\n",
       "    <tr>\n",
       "      <th>2</th>\n",
       "      <td>2010</td>\n",
       "      <td>20002</td>\n",
       "      <td>PHI</td>\n",
       "      <td>18.0</td>\n",
       "      <td>1.400000</td>\n",
       "      <td>1.666667</td>\n",
       "      <td>1.800000</td>\n",
       "      <td>1.50</td>\n",
       "    </tr>\n",
       "    <tr>\n",
       "      <th>3</th>\n",
       "      <td>2010</td>\n",
       "      <td>20002</td>\n",
       "      <td>PIT</td>\n",
       "      <td>18.0</td>\n",
       "      <td>1.750000</td>\n",
       "      <td>1.666667</td>\n",
       "      <td>1.666667</td>\n",
       "      <td>2.00</td>\n",
       "    </tr>\n",
       "    <tr>\n",
       "      <th>4</th>\n",
       "      <td>2010</td>\n",
       "      <td>20003</td>\n",
       "      <td>CAR</td>\n",
       "      <td>18.0</td>\n",
       "      <td>1.600000</td>\n",
       "      <td>1.666667</td>\n",
       "      <td>2.000000</td>\n",
       "      <td>1.75</td>\n",
       "    </tr>\n",
       "  </tbody>\n",
       "</table>\n",
       "</div>"
      ],
      "text/plain": [
       "   Season  GameNumber TeamCode  roster    Rank_C    Rank_D    Rank_L  Rank_R\n",
       "0    2010       20001      MTL    18.0  1.857143  1.833333  2.000000    2.00\n",
       "1    2010       20001      TOR    18.0  1.600000  1.833333  1.333333    2.00\n",
       "2    2010       20002      PHI    18.0  1.400000  1.666667  1.800000    1.50\n",
       "3    2010       20002      PIT    18.0  1.750000  1.666667  1.666667    2.00\n",
       "4    2010       20003      CAR    18.0  1.600000  1.666667  2.000000    1.75"
      ]
     },
     "execution_count": 230,
     "metadata": {},
     "output_type": "execute_result"
    }
   ],
   "source": [
    "df.head()"
   ]
  },
  {
   "cell_type": "markdown",
   "metadata": {},
   "source": [
    "- the data set shows the quality amount of players per position by team for every single regular season game. We will create the mean of forwards and defencemen per team by game. "
   ]
  },
  {
   "cell_type": "code",
   "execution_count": 231,
   "metadata": {
    "collapsed": true
   },
   "outputs": [],
   "source": [
    "df['Rank_F'] = df[['Rank_C', 'Rank_L', 'Rank_R']].mean(axis=1)"
   ]
  },
  {
   "cell_type": "code",
   "execution_count": 232,
   "metadata": {
    "collapsed": false
   },
   "outputs": [],
   "source": [
    "#df['Rank_F'] = df.groupby(['Season', 'GameNumber', 'TeamCode'])['rank_f'].transform('mean')"
   ]
  },
  {
   "cell_type": "code",
   "execution_count": 245,
   "metadata": {
    "collapsed": false
   },
   "outputs": [
    {
     "data": {
      "text/html": [
       "<div>\n",
       "<table border=\"1\" class=\"dataframe\">\n",
       "  <thead>\n",
       "    <tr style=\"text-align: right;\">\n",
       "      <th></th>\n",
       "      <th>Season</th>\n",
       "      <th>GameNumber</th>\n",
       "      <th>TeamCode</th>\n",
       "      <th>roster</th>\n",
       "      <th>Rank_C</th>\n",
       "      <th>Rank_D</th>\n",
       "      <th>Rank_L</th>\n",
       "      <th>Rank_R</th>\n",
       "      <th>Rank_F</th>\n",
       "    </tr>\n",
       "  </thead>\n",
       "  <tbody>\n",
       "    <tr>\n",
       "      <th>0</th>\n",
       "      <td>2010</td>\n",
       "      <td>20001</td>\n",
       "      <td>MTL</td>\n",
       "      <td>18.0</td>\n",
       "      <td>1.857143</td>\n",
       "      <td>1.833333</td>\n",
       "      <td>2.000000</td>\n",
       "      <td>2.00</td>\n",
       "      <td>1.952381</td>\n",
       "    </tr>\n",
       "    <tr>\n",
       "      <th>1</th>\n",
       "      <td>2010</td>\n",
       "      <td>20001</td>\n",
       "      <td>TOR</td>\n",
       "      <td>18.0</td>\n",
       "      <td>1.600000</td>\n",
       "      <td>1.833333</td>\n",
       "      <td>1.333333</td>\n",
       "      <td>2.00</td>\n",
       "      <td>1.644444</td>\n",
       "    </tr>\n",
       "    <tr>\n",
       "      <th>2</th>\n",
       "      <td>2010</td>\n",
       "      <td>20002</td>\n",
       "      <td>PHI</td>\n",
       "      <td>18.0</td>\n",
       "      <td>1.400000</td>\n",
       "      <td>1.666667</td>\n",
       "      <td>1.800000</td>\n",
       "      <td>1.50</td>\n",
       "      <td>1.566667</td>\n",
       "    </tr>\n",
       "    <tr>\n",
       "      <th>3</th>\n",
       "      <td>2010</td>\n",
       "      <td>20002</td>\n",
       "      <td>PIT</td>\n",
       "      <td>18.0</td>\n",
       "      <td>1.750000</td>\n",
       "      <td>1.666667</td>\n",
       "      <td>1.666667</td>\n",
       "      <td>2.00</td>\n",
       "      <td>1.805556</td>\n",
       "    </tr>\n",
       "    <tr>\n",
       "      <th>4</th>\n",
       "      <td>2010</td>\n",
       "      <td>20003</td>\n",
       "      <td>CAR</td>\n",
       "      <td>18.0</td>\n",
       "      <td>1.600000</td>\n",
       "      <td>1.666667</td>\n",
       "      <td>2.000000</td>\n",
       "      <td>1.75</td>\n",
       "      <td>1.783333</td>\n",
       "    </tr>\n",
       "  </tbody>\n",
       "</table>\n",
       "</div>"
      ],
      "text/plain": [
       "   Season  GameNumber TeamCode  roster    Rank_C    Rank_D    Rank_L  Rank_R  \\\n",
       "0    2010       20001      MTL    18.0  1.857143  1.833333  2.000000    2.00   \n",
       "1    2010       20001      TOR    18.0  1.600000  1.833333  1.333333    2.00   \n",
       "2    2010       20002      PHI    18.0  1.400000  1.666667  1.800000    1.50   \n",
       "3    2010       20002      PIT    18.0  1.750000  1.666667  1.666667    2.00   \n",
       "4    2010       20003      CAR    18.0  1.600000  1.666667  2.000000    1.75   \n",
       "\n",
       "     Rank_F  \n",
       "0  1.952381  \n",
       "1  1.644444  \n",
       "2  1.566667  \n",
       "3  1.805556  \n",
       "4  1.783333  "
      ]
     },
     "execution_count": 245,
     "metadata": {},
     "output_type": "execute_result"
    }
   ],
   "source": [
    "df.head()"
   ]
  },
  {
   "cell_type": "code",
   "execution_count": 234,
   "metadata": {
    "collapsed": false
   },
   "outputs": [
    {
     "data": {
      "text/plain": [
       "Index(['Season', 'GameNumber', 'TeamCode', 'roster', 'Rank_C', 'Rank_D',\n",
       "       'Rank_L', 'Rank_R', 'Rank_F'],\n",
       "      dtype='object')"
      ]
     },
     "execution_count": 234,
     "metadata": {},
     "output_type": "execute_result"
    }
   ],
   "source": [
    "df.columns"
   ]
  },
  {
   "cell_type": "markdown",
   "metadata": {},
   "source": [
    "- create a data set with the mean values of forwards and defenceman by team per game. "
   ]
  },
  {
   "cell_type": "code",
   "execution_count": 235,
   "metadata": {
    "collapsed": true
   },
   "outputs": [],
   "source": [
    "dm = df[['Season', 'GameNumber', 'TeamCode', 'roster', 'Rank_F', 'Rank_D']]"
   ]
  },
  {
   "cell_type": "code",
   "execution_count": 236,
   "metadata": {
    "collapsed": false
   },
   "outputs": [
    {
     "data": {
      "text/html": [
       "<div>\n",
       "<table border=\"1\" class=\"dataframe\">\n",
       "  <thead>\n",
       "    <tr style=\"text-align: right;\">\n",
       "      <th></th>\n",
       "      <th>Season</th>\n",
       "      <th>GameNumber</th>\n",
       "      <th>TeamCode</th>\n",
       "      <th>roster</th>\n",
       "      <th>Rank_F</th>\n",
       "      <th>Rank_D</th>\n",
       "    </tr>\n",
       "  </thead>\n",
       "  <tbody>\n",
       "    <tr>\n",
       "      <th>0</th>\n",
       "      <td>2010</td>\n",
       "      <td>20001</td>\n",
       "      <td>MTL</td>\n",
       "      <td>18.0</td>\n",
       "      <td>1.952381</td>\n",
       "      <td>1.833333</td>\n",
       "    </tr>\n",
       "    <tr>\n",
       "      <th>1</th>\n",
       "      <td>2010</td>\n",
       "      <td>20001</td>\n",
       "      <td>TOR</td>\n",
       "      <td>18.0</td>\n",
       "      <td>1.644444</td>\n",
       "      <td>1.833333</td>\n",
       "    </tr>\n",
       "    <tr>\n",
       "      <th>2</th>\n",
       "      <td>2010</td>\n",
       "      <td>20002</td>\n",
       "      <td>PHI</td>\n",
       "      <td>18.0</td>\n",
       "      <td>1.566667</td>\n",
       "      <td>1.666667</td>\n",
       "    </tr>\n",
       "    <tr>\n",
       "      <th>3</th>\n",
       "      <td>2010</td>\n",
       "      <td>20002</td>\n",
       "      <td>PIT</td>\n",
       "      <td>18.0</td>\n",
       "      <td>1.805556</td>\n",
       "      <td>1.666667</td>\n",
       "    </tr>\n",
       "    <tr>\n",
       "      <th>4</th>\n",
       "      <td>2010</td>\n",
       "      <td>20003</td>\n",
       "      <td>CAR</td>\n",
       "      <td>18.0</td>\n",
       "      <td>1.783333</td>\n",
       "      <td>1.666667</td>\n",
       "    </tr>\n",
       "  </tbody>\n",
       "</table>\n",
       "</div>"
      ],
      "text/plain": [
       "   Season  GameNumber TeamCode  roster    Rank_F    Rank_D\n",
       "0    2010       20001      MTL    18.0  1.952381  1.833333\n",
       "1    2010       20001      TOR    18.0  1.644444  1.833333\n",
       "2    2010       20002      PHI    18.0  1.566667  1.666667\n",
       "3    2010       20002      PIT    18.0  1.805556  1.666667\n",
       "4    2010       20003      CAR    18.0  1.783333  1.666667"
      ]
     },
     "execution_count": 236,
     "metadata": {},
     "output_type": "execute_result"
    }
   ],
   "source": [
    "dm.head()"
   ]
  },
  {
   "cell_type": "markdown",
   "metadata": {},
   "source": [
    "- mean forwards and defensemen per team for the whole season."
   ]
  },
  {
   "cell_type": "code",
   "execution_count": 237,
   "metadata": {
    "collapsed": false
   },
   "outputs": [
    {
     "name": "stderr",
     "output_type": "stream",
     "text": [
      "/anaconda/lib/python3.6/site-packages/ipykernel/__main__.py:1: SettingWithCopyWarning: \n",
      "A value is trying to be set on a copy of a slice from a DataFrame.\n",
      "Try using .loc[row_indexer,col_indexer] = value instead\n",
      "\n",
      "See the caveats in the documentation: http://pandas.pydata.org/pandas-docs/stable/indexing.html#indexing-view-versus-copy\n",
      "  if __name__ == '__main__':\n",
      "/anaconda/lib/python3.6/site-packages/ipykernel/__main__.py:2: SettingWithCopyWarning: \n",
      "A value is trying to be set on a copy of a slice from a DataFrame.\n",
      "Try using .loc[row_indexer,col_indexer] = value instead\n",
      "\n",
      "See the caveats in the documentation: http://pandas.pydata.org/pandas-docs/stable/indexing.html#indexing-view-versus-copy\n",
      "  from ipykernel import kernelapp as app\n"
     ]
    }
   ],
   "source": [
    "dm['F_Mean'] = dm.groupby(['Season','TeamCode'])['Rank_F'].transform('mean')\n",
    "dm['D_Mean'] = dm.groupby(['Season','TeamCode'])['Rank_D'].transform('mean')\n",
    "dm = dm.drop_duplicates(['Season', 'TeamCode'])\n",
    "dm = dm.sort_values(['Season', 'F_Mean', 'D_Mean'], ascending=[True, True, True])"
   ]
  },
  {
   "cell_type": "code",
   "execution_count": 246,
   "metadata": {
    "collapsed": false
   },
   "outputs": [
    {
     "data": {
      "text/html": [
       "<div>\n",
       "<table border=\"1\" class=\"dataframe\">\n",
       "  <thead>\n",
       "    <tr style=\"text-align: right;\">\n",
       "      <th></th>\n",
       "      <th>Season</th>\n",
       "      <th>TeamCode</th>\n",
       "      <th>roster</th>\n",
       "      <th>F_Mean</th>\n",
       "      <th>D_Mean</th>\n",
       "    </tr>\n",
       "  </thead>\n",
       "  <tbody>\n",
       "    <tr>\n",
       "      <th>35</th>\n",
       "      <td>2010</td>\n",
       "      <td>TB</td>\n",
       "      <td>18.0</td>\n",
       "      <td>1.517780</td>\n",
       "      <td>2.000000</td>\n",
       "    </tr>\n",
       "    <tr>\n",
       "      <th>18</th>\n",
       "      <td>2010</td>\n",
       "      <td>BUF</td>\n",
       "      <td>18.0</td>\n",
       "      <td>1.529326</td>\n",
       "      <td>1.840012</td>\n",
       "    </tr>\n",
       "    <tr>\n",
       "      <th>25</th>\n",
       "      <td>2010</td>\n",
       "      <td>NYR</td>\n",
       "      <td>18.0</td>\n",
       "      <td>1.571138</td>\n",
       "      <td>2.000000</td>\n",
       "    </tr>\n",
       "    <tr>\n",
       "      <th>45</th>\n",
       "      <td>2010</td>\n",
       "      <td>VAN</td>\n",
       "      <td>18.0</td>\n",
       "      <td>1.576055</td>\n",
       "      <td>1.839721</td>\n",
       "    </tr>\n",
       "    <tr>\n",
       "      <th>2</th>\n",
       "      <td>2010</td>\n",
       "      <td>PHI</td>\n",
       "      <td>18.0</td>\n",
       "      <td>1.599390</td>\n",
       "      <td>1.666667</td>\n",
       "    </tr>\n",
       "  </tbody>\n",
       "</table>\n",
       "</div>"
      ],
      "text/plain": [
       "    Season TeamCode  roster    F_Mean    D_Mean\n",
       "35    2010       TB    18.0  1.517780  2.000000\n",
       "18    2010      BUF    18.0  1.529326  1.840012\n",
       "25    2010      NYR    18.0  1.571138  2.000000\n",
       "45    2010      VAN    18.0  1.576055  1.839721\n",
       "2     2010      PHI    18.0  1.599390  1.666667"
      ]
     },
     "execution_count": 246,
     "metadata": {},
     "output_type": "execute_result"
    }
   ],
   "source": [
    "dm.head()"
   ]
  },
  {
   "cell_type": "code",
   "execution_count": 242,
   "metadata": {
    "collapsed": true
   },
   "outputs": [],
   "source": [
    "dm = dm[['Season', 'TeamCode', 'roster', 'F_Mean', 'D_Mean']]"
   ]
  },
  {
   "cell_type": "code",
   "execution_count": 243,
   "metadata": {
    "collapsed": false
   },
   "outputs": [
    {
     "data": {
      "text/html": [
       "<div>\n",
       "<table border=\"1\" class=\"dataframe\">\n",
       "  <thead>\n",
       "    <tr style=\"text-align: right;\">\n",
       "      <th></th>\n",
       "      <th>Season</th>\n",
       "      <th>TeamCode</th>\n",
       "      <th>roster</th>\n",
       "      <th>F_Mean</th>\n",
       "      <th>D_Mean</th>\n",
       "    </tr>\n",
       "  </thead>\n",
       "  <tbody>\n",
       "    <tr>\n",
       "      <th>35</th>\n",
       "      <td>2010</td>\n",
       "      <td>TB</td>\n",
       "      <td>18.0</td>\n",
       "      <td>1.517780</td>\n",
       "      <td>2.000000</td>\n",
       "    </tr>\n",
       "    <tr>\n",
       "      <th>18</th>\n",
       "      <td>2010</td>\n",
       "      <td>BUF</td>\n",
       "      <td>18.0</td>\n",
       "      <td>1.529326</td>\n",
       "      <td>1.840012</td>\n",
       "    </tr>\n",
       "    <tr>\n",
       "      <th>25</th>\n",
       "      <td>2010</td>\n",
       "      <td>NYR</td>\n",
       "      <td>18.0</td>\n",
       "      <td>1.571138</td>\n",
       "      <td>2.000000</td>\n",
       "    </tr>\n",
       "    <tr>\n",
       "      <th>45</th>\n",
       "      <td>2010</td>\n",
       "      <td>VAN</td>\n",
       "      <td>18.0</td>\n",
       "      <td>1.576055</td>\n",
       "      <td>1.839721</td>\n",
       "    </tr>\n",
       "    <tr>\n",
       "      <th>2</th>\n",
       "      <td>2010</td>\n",
       "      <td>PHI</td>\n",
       "      <td>18.0</td>\n",
       "      <td>1.599390</td>\n",
       "      <td>1.666667</td>\n",
       "    </tr>\n",
       "  </tbody>\n",
       "</table>\n",
       "</div>"
      ],
      "text/plain": [
       "    Season TeamCode  roster    F_Mean    D_Mean\n",
       "35    2010       TB    18.0  1.517780  2.000000\n",
       "18    2010      BUF    18.0  1.529326  1.840012\n",
       "25    2010      NYR    18.0  1.571138  2.000000\n",
       "45    2010      VAN    18.0  1.576055  1.839721\n",
       "2     2010      PHI    18.0  1.599390  1.666667"
      ]
     },
     "execution_count": 243,
     "metadata": {},
     "output_type": "execute_result"
    }
   ],
   "source": [
    "dm.head()"
   ]
  },
  {
   "cell_type": "code",
   "execution_count": 244,
   "metadata": {
    "collapsed": true
   },
   "outputs": [],
   "source": [
    "dm.to_csv('season_teams_roster_mean.csv', index='False')"
   ]
  },
  {
   "cell_type": "markdown",
   "metadata": {},
   "source": [
    "### import team winning percent data frame"
   ]
  },
  {
   "cell_type": "code",
   "execution_count": 247,
   "metadata": {
    "collapsed": true
   },
   "outputs": [],
   "source": [
    "dt = pd.read_csv('season_teams.csv')\n",
    "dt = dt.drop('Unnamed: 0', axis=1)"
   ]
  },
  {
   "cell_type": "code",
   "execution_count": 248,
   "metadata": {
    "collapsed": true
   },
   "outputs": [],
   "source": [
    "dt = pd.merge(dt, dm, on=['Season', 'TeamCode'], how='left')"
   ]
  },
  {
   "cell_type": "code",
   "execution_count": 249,
   "metadata": {
    "collapsed": false
   },
   "outputs": [
    {
     "data": {
      "text/html": [
       "<div>\n",
       "<table border=\"1\" class=\"dataframe\">\n",
       "  <thead>\n",
       "    <tr style=\"text-align: right;\">\n",
       "      <th></th>\n",
       "      <th>Season</th>\n",
       "      <th>TeamCode</th>\n",
       "      <th>GP</th>\n",
       "      <th>GW</th>\n",
       "      <th>GL</th>\n",
       "      <th>WinPc</th>\n",
       "      <th>LossPc</th>\n",
       "      <th>Rank</th>\n",
       "      <th>roster</th>\n",
       "      <th>F_Mean</th>\n",
       "      <th>D_Mean</th>\n",
       "    </tr>\n",
       "  </thead>\n",
       "  <tbody>\n",
       "    <tr>\n",
       "      <th>0</th>\n",
       "      <td>2010</td>\n",
       "      <td>VAN</td>\n",
       "      <td>82</td>\n",
       "      <td>54</td>\n",
       "      <td>28</td>\n",
       "      <td>0.658537</td>\n",
       "      <td>0.341463</td>\n",
       "      <td>1.0</td>\n",
       "      <td>18.0</td>\n",
       "      <td>1.576055</td>\n",
       "      <td>1.839721</td>\n",
       "    </tr>\n",
       "    <tr>\n",
       "      <th>1</th>\n",
       "      <td>2010</td>\n",
       "      <td>PIT</td>\n",
       "      <td>82</td>\n",
       "      <td>49</td>\n",
       "      <td>33</td>\n",
       "      <td>0.597561</td>\n",
       "      <td>0.402439</td>\n",
       "      <td>2.0</td>\n",
       "      <td>18.0</td>\n",
       "      <td>1.829123</td>\n",
       "      <td>1.711556</td>\n",
       "    </tr>\n",
       "    <tr>\n",
       "      <th>2</th>\n",
       "      <td>2010</td>\n",
       "      <td>SJ</td>\n",
       "      <td>82</td>\n",
       "      <td>48</td>\n",
       "      <td>34</td>\n",
       "      <td>0.585366</td>\n",
       "      <td>0.414634</td>\n",
       "      <td>3.5</td>\n",
       "      <td>18.0</td>\n",
       "      <td>1.608895</td>\n",
       "      <td>1.848432</td>\n",
       "    </tr>\n",
       "    <tr>\n",
       "      <th>3</th>\n",
       "      <td>2010</td>\n",
       "      <td>WSH</td>\n",
       "      <td>82</td>\n",
       "      <td>48</td>\n",
       "      <td>34</td>\n",
       "      <td>0.585366</td>\n",
       "      <td>0.414634</td>\n",
       "      <td>3.5</td>\n",
       "      <td>18.0</td>\n",
       "      <td>1.675590</td>\n",
       "      <td>1.733740</td>\n",
       "    </tr>\n",
       "    <tr>\n",
       "      <th>4</th>\n",
       "      <td>2010</td>\n",
       "      <td>ANA</td>\n",
       "      <td>82</td>\n",
       "      <td>47</td>\n",
       "      <td>35</td>\n",
       "      <td>0.573171</td>\n",
       "      <td>0.426829</td>\n",
       "      <td>6.0</td>\n",
       "      <td>18.0</td>\n",
       "      <td>1.741996</td>\n",
       "      <td>1.839431</td>\n",
       "    </tr>\n",
       "  </tbody>\n",
       "</table>\n",
       "</div>"
      ],
      "text/plain": [
       "   Season TeamCode  GP  GW  GL     WinPc    LossPc  Rank  roster    F_Mean  \\\n",
       "0    2010      VAN  82  54  28  0.658537  0.341463   1.0    18.0  1.576055   \n",
       "1    2010      PIT  82  49  33  0.597561  0.402439   2.0    18.0  1.829123   \n",
       "2    2010       SJ  82  48  34  0.585366  0.414634   3.5    18.0  1.608895   \n",
       "3    2010      WSH  82  48  34  0.585366  0.414634   3.5    18.0  1.675590   \n",
       "4    2010      ANA  82  47  35  0.573171  0.426829   6.0    18.0  1.741996   \n",
       "\n",
       "     D_Mean  \n",
       "0  1.839721  \n",
       "1  1.711556  \n",
       "2  1.848432  \n",
       "3  1.733740  \n",
       "4  1.839431  "
      ]
     },
     "execution_count": 249,
     "metadata": {},
     "output_type": "execute_result"
    }
   ],
   "source": [
    "dt.head()"
   ]
  },
  {
   "cell_type": "code",
   "execution_count": 250,
   "metadata": {
    "collapsed": true
   },
   "outputs": [],
   "source": [
    "dt.to_csv('data_season_teams_wins_roster.csv', index='False')"
   ]
  },
  {
   "cell_type": "code",
   "execution_count": null,
   "metadata": {
    "collapsed": true
   },
   "outputs": [],
   "source": []
  }
 ],
 "metadata": {
  "kernelspec": {
   "display_name": "Python 3",
   "language": "python",
   "name": "python3"
  },
  "language_info": {
   "codemirror_mode": {
    "name": "ipython",
    "version": 3
   },
   "file_extension": ".py",
   "mimetype": "text/x-python",
   "name": "python",
   "nbconvert_exporter": "python",
   "pygments_lexer": "ipython3",
   "version": "3.6.0"
  }
 },
 "nbformat": 4,
 "nbformat_minor": 2
}
